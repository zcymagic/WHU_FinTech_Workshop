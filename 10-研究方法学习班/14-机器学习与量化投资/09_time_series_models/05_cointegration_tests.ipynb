{
 "cells": [
  {
   "cell_type": "markdown",
   "metadata": {},
   "source": [
    "# Cointegration Tests & Pairs Trading"
   ]
  },
  {
   "cell_type": "markdown",
   "metadata": {},
   "source": [
    "## What is cointegration?\n",
    "We have seen how a time series can have a unit root that creates a stochastic trend and makes the time series highly persistent. When we use such an integrated time series in their original, rather than in differenced, form as a feature in a linear regression model, its relationship with the outcome will often appear statistically significant, even though it is not. This phenomenon is called spurious regression (for details, see Chapter 18 in [Wooldridge, 2008](https://economics.ut.ac.ir/documents/3030266/14100645/Jeffrey_M._Wooldridge_Introductory_Econometrics_A_Modern_Approach__2012.pdf)). Therefore, the recommended solution is to difference the time series so they become stationary before using them in a model.\n",
    "\n",
    "$$\n",
    "x_t=(x_{1t},x_{2t})^T\n",
    "$$\n",
    "\n",
    "$$\n",
    "\\exists \\beta=(\\beta_1,\\beta_2),\\ s.t.z_t=\\beta_1 x_{1t}+\\beta_2 x_{2t}\\ stationary\n",
    "$$\n",
    "\n",
    "A non-technical example is that of a drunken man on a random walk accompanied by his dog (on a leash). Both trajectories are non-stationary but cointegrated because the dog will occasionally revert to his owner. In the trading context, arbitrage constraints imply cointegration between spot and futures prices.\n",
    "\n",
    "Cointegration differs from correlation: two series can be highly correlated but need not be cointegrated."
   ]
  },
  {
   "cell_type": "markdown",
   "metadata": {},
   "source": [
    "## Cointegration for Pairs Trading\n",
    "\n",
    "Cointegration is very useful: if two or more asset price series tend to revert to a common mean, we can leverage deviations from the trend because they should imply future price moves in the opposite direction.\n",
    "\n",
    "In this notebook, we will address how we can identify pairs with such a long-term stationary relationship, estimate the expected time for any disequilibrium to correct, and how to utilize these tools to implement and backtest a long-short pairs trading strategy. There are two approaches to testing for cointegration:\n",
    "- The Engle-Granger two-step method\n",
    "- The Johansen test"
   ]
  },
  {
   "cell_type": "markdown",
   "metadata": {},
   "source": [
    "### The Engle-Granger two-step method"
   ]
  },
  {
   "cell_type": "markdown",
   "metadata": {},
   "source": [
    "The Engle-Granger method is used to identify cointegration\n",
    "relationships between two series. It involves both of the following:\n",
    "1. Regressing one series on another to estimate the stationary long-term relationship\n",
    "2. Applying an ADF unit-root test to the regression residual\n",
    "\n",
    "The null hypothesis is that the residuals have a unit root and are integrated; if we can reject it, then we assume that the residuals are stationary and, thus, the series are cointegrated (Engle and Granger 1987).\n",
    "\n",
    "A key benefit of this approach is that the regression coefficient represents the multiplier that renders the combination stationary, that is, mean-reverting. Unfortunately, the test results will differ, depending on which variable we consider independent, so that we try both ways and then pick the relation with the more negative test statistic that has the lower p-value.\n",
    "\n",
    "Another downside is that this test is limited to pairwise relationships. The more complex Johansen procedure can identify significant cointegration among up to a dozen time series."
   ]
  },
  {
   "cell_type": "markdown",
   "metadata": {},
   "source": [
    "### The Johansen likelihood-ratio test"
   ]
  },
  {
   "cell_type": "markdown",
   "metadata": {},
   "source": [
    "The Johansen procedure, in contrast, tests the restrictions imposed by cointegration on a VAR model, as discussed in the previous section. More specifically, after subtracting the target vector from both sides of a generic VAR(p) model, we obtain the error correction model (ECM) formulation:\n",
    "$$\n",
    "\\Delta y_t = c+\\Pi y_{t-1}+\\Gamma_1 \\Delta y_{t-1}+\\cdots+\\Gamma_p \\Delta y_{t-p}+\\epsilon_t\n",
    "$$\n",
    "The resulting modified VAR(p) equation has only one vector term in levels($y_{t-1}$) that is not expressed as a difference using the $\\Delta$ operator. The nature of cointegration depends on the rank of the coefficient matrix of this term (Johansen 1991).\n",
    "\n",
    "While this equation appears structurally similar to the ADF test setup, there are now several potential constellations of common trends because there are multiple series involved. To identify the number of cointegration relationships, the Johansen test successively tests for an increasing rank of , starting at 0 (no cointegration). We will explore the application to the case of two series in the following section."
   ]
  },
  {
   "cell_type": "markdown",
   "metadata": {},
   "source": [
    "## Imports & Settings"
   ]
  },
  {
   "cell_type": "code",
   "execution_count": 1,
   "metadata": {
    "ExecuteTime": {
     "end_time": "2021-02-23T14:37:17.768213Z",
     "start_time": "2021-02-23T14:37:17.765416Z"
    }
   },
   "outputs": [],
   "source": [
    "import warnings\n",
    "warnings.filterwarnings('ignore')"
   ]
  },
  {
   "cell_type": "code",
   "execution_count": 2,
   "metadata": {
    "ExecuteTime": {
     "end_time": "2021-02-23T15:13:45.781616Z",
     "start_time": "2021-02-23T15:13:45.765250Z"
    }
   },
   "outputs": [],
   "source": [
    "from time import time\n",
    "from pathlib import Path\n",
    "from tqdm import tqdm \n",
    "\n",
    "import numpy as np\n",
    "from numpy.linalg import LinAlgError\n",
    "import pandas as pd\n",
    "\n",
    "from sklearn.model_selection import StratifiedKFold, GridSearchCV\n",
    "from sklearn.metrics import confusion_matrix\n",
    "from sklearn.tree import  DecisionTreeClassifier\n",
    "from sklearn.linear_model import LogisticRegressionCV\n",
    "\n",
    "from statsmodels.tsa.stattools import adfuller, coint\n",
    "from statsmodels.tsa.vector_ar.vecm import coint_johansen\n",
    "from statsmodels.tsa.api import VAR\n",
    "\n",
    "import matplotlib.pyplot as plt\n",
    "import seaborn as sns"
   ]
  },
  {
   "cell_type": "code",
   "execution_count": 3,
   "metadata": {
    "ExecuteTime": {
     "end_time": "2021-02-23T14:37:18.698099Z",
     "start_time": "2021-02-23T14:37:18.695965Z"
    }
   },
   "outputs": [],
   "source": [
    "pd.set_option('display.float_format', lambda x: f'{x:,.2f}')"
   ]
  },
  {
   "cell_type": "code",
   "execution_count": 4,
   "metadata": {
    "ExecuteTime": {
     "end_time": "2021-02-23T14:37:18.705831Z",
     "start_time": "2021-02-23T14:37:18.699717Z"
    }
   },
   "outputs": [],
   "source": [
    "DATA_PATH = Path('..', 'data')\n",
    "STORE = DATA_PATH / 'assets.h5'"
   ]
  },
  {
   "cell_type": "markdown",
   "metadata": {},
   "source": [
    "### Johansen Test Critical Values"
   ]
  },
  {
   "cell_type": "code",
   "execution_count": 5,
   "metadata": {
    "ExecuteTime": {
     "end_time": "2021-02-23T14:37:18.713695Z",
     "start_time": "2021-02-23T14:37:18.707298Z"
    }
   },
   "outputs": [],
   "source": [
    "critical_values = {0: {.9: 13.4294, .95: 15.4943, .99: 19.9349},\n",
    "                   1: {.9: 2.7055, .95: 3.8415, .99: 6.6349}}"
   ]
  },
  {
   "cell_type": "code",
   "execution_count": 6,
   "metadata": {
    "ExecuteTime": {
     "end_time": "2021-02-23T14:37:18.721417Z",
     "start_time": "2021-02-23T14:37:18.714576Z"
    }
   },
   "outputs": [],
   "source": [
    "trace0_cv = critical_values[0][.95] # critical value for 0 cointegration relationships\n",
    "trace1_cv = critical_values[1][.95] # critical value for 1 cointegration relationship"
   ]
  },
  {
   "cell_type": "markdown",
   "metadata": {},
   "source": [
    "## Load & Clean Stock & ETF Data"
   ]
  },
  {
   "cell_type": "markdown",
   "metadata": {},
   "source": [
    "### Remove highly correlated assets"
   ]
  },
  {
   "cell_type": "code",
   "execution_count": 7,
   "metadata": {
    "ExecuteTime": {
     "end_time": "2021-02-23T14:37:18.733836Z",
     "start_time": "2021-02-23T14:37:18.722277Z"
    }
   },
   "outputs": [],
   "source": [
    "def remove_correlated_assets(df, cutoff=.99):\n",
    "    corr = df.corr().stack()\n",
    "    corr = corr[corr < 1]\n",
    "    to_check = corr[corr.abs() > cutoff].index\n",
    "    keep, drop = set(), set()\n",
    "    for s1, s2 in to_check:\n",
    "        if s1 not in keep:\n",
    "            if s2 not in keep:\n",
    "                keep.add(s1)\n",
    "                drop.add(s2)\n",
    "            else:\n",
    "                drop.add(s1)\n",
    "        else:\n",
    "            keep.discard(s2)\n",
    "            drop.add(s2)\n",
    "    return df.drop(drop, axis=1)"
   ]
  },
  {
   "cell_type": "markdown",
   "metadata": {},
   "source": [
    "### Remove stationary series"
   ]
  },
  {
   "cell_type": "code",
   "execution_count": 8,
   "metadata": {
    "ExecuteTime": {
     "end_time": "2021-02-23T14:37:18.745120Z",
     "start_time": "2021-02-23T14:37:18.734706Z"
    }
   },
   "outputs": [],
   "source": [
    "def check_stationarity(df):\n",
    "    results = []\n",
    "    for ticker, prices in df.items():\n",
    "        results.append([ticker, adfuller(prices, regression='ct')[1]])\n",
    "    return pd.DataFrame(results, columns=['ticker', 'adf']).sort_values('adf')"
   ]
  },
  {
   "cell_type": "code",
   "execution_count": 9,
   "metadata": {
    "ExecuteTime": {
     "end_time": "2021-02-23T14:37:18.753562Z",
     "start_time": "2021-02-23T14:37:18.747783Z"
    }
   },
   "outputs": [],
   "source": [
    "def remove_stationary_assets(df, pval=.05):\n",
    "    test_result = check_stationarity(df)\n",
    "    stationary = test_result.loc[test_result.adf <= pval, 'ticker'].tolist()\n",
    "    return df.drop(stationary, axis=1).sort_index()"
   ]
  },
  {
   "cell_type": "markdown",
   "metadata": {},
   "source": [
    "### Select Assets"
   ]
  },
  {
   "cell_type": "code",
   "execution_count": 10,
   "metadata": {
    "ExecuteTime": {
     "end_time": "2021-02-23T14:58:37.683658Z",
     "start_time": "2021-02-23T14:58:37.677577Z"
    }
   },
   "outputs": [],
   "source": [
    "def select_assets(asset_class='stocks', n=500, start=2010, end=2019):\n",
    "    idx = pd.IndexSlice\n",
    "    with pd.HDFStore(STORE) as store:\n",
    "        df = (pd.concat([store[f'stooq/us/nasdaq/{asset_class}/prices'],\n",
    "                         store[f'stooq/us/nyse/{asset_class}/prices']])\n",
    "              # stooq download can have duplicate assets\n",
    "              .loc[lambda df: ~df.index.duplicated()]\n",
    "              .sort_index()\n",
    "              .loc[idx[:, f'{start}':f'{end}'], :]\n",
    "              .assign(dv=lambda df: df.close.mul(df.volume)))\n",
    "\n",
    "    # select n assets with the highest average trading volume\n",
    "    # we are taking a shortcut to simplify; should select\n",
    "    # based on historical only, e.g. yearly rolling avg\n",
    "    most_traded = (df.groupby(level='ticker')\n",
    "                   .dv.mean()\n",
    "                   .nlargest(n=n).index)\n",
    "\n",
    "    df = (df.loc[idx[most_traded, :], 'close']\n",
    "          .unstack('ticker')\n",
    "          .ffill(limit=5)  # fill up to five values\n",
    "          .dropna(axis=1))  # remove assets with any missing values\n",
    "\n",
    "    df = remove_correlated_assets(df)\n",
    "    return remove_stationary_assets(df).sort_index()"
   ]
  },
  {
   "cell_type": "markdown",
   "metadata": {},
   "source": [
    "We store the intermediate result:"
   ]
  },
  {
   "cell_type": "code",
   "execution_count": 11,
   "metadata": {
    "ExecuteTime": {
     "end_time": "2021-02-23T14:59:45.554530Z",
     "start_time": "2021-02-23T14:58:39.150056Z"
    }
   },
   "outputs": [],
   "source": [
    "for asset_class, n in [('etfs', 500), ('stocks', 250)]:\n",
    "    df = select_assets(asset_class=asset_class, n=n)\n",
    "    df.to_hdf('data.h5', f'{asset_class}/close')"
   ]
  },
  {
   "cell_type": "markdown",
   "metadata": {},
   "source": [
    "### Get ticker dictionary"
   ]
  },
  {
   "cell_type": "code",
   "execution_count": 7,
   "metadata": {
    "ExecuteTime": {
     "end_time": "2021-02-23T14:59:57.148863Z",
     "start_time": "2021-02-23T14:59:57.145495Z"
    }
   },
   "outputs": [],
   "source": [
    "def get_ticker_dict():\n",
    "    with pd.HDFStore(STORE) as store:\n",
    "        return (pd.concat([\n",
    "            store['stooq/us/nyse/stocks/tickers'],\n",
    "            store['stooq/us/nyse/etfs/tickers'],\n",
    "            store['stooq/us/nasdaq/etfs/tickers'],\n",
    "            store['stooq/us/nasdaq/stocks/tickers']\n",
    "        ]).drop_duplicates().set_index('ticker').squeeze().to_dict())"
   ]
  },
  {
   "cell_type": "code",
   "execution_count": 8,
   "metadata": {
    "ExecuteTime": {
     "end_time": "2021-02-23T14:59:57.691206Z",
     "start_time": "2021-02-23T14:59:57.628201Z"
    }
   },
   "outputs": [],
   "source": [
    "names = get_ticker_dict()"
   ]
  },
  {
   "cell_type": "markdown",
   "metadata": {},
   "source": [
    "## Visualize Correlation Clusters "
   ]
  },
  {
   "cell_type": "markdown",
   "metadata": {},
   "source": [
    "Reload intermediate results:"
   ]
  },
  {
   "cell_type": "code",
   "execution_count": 9,
   "metadata": {
    "ExecuteTime": {
     "end_time": "2021-02-23T15:00:54.264967Z",
     "start_time": "2021-02-23T15:00:54.248699Z"
    }
   },
   "outputs": [
    {
     "name": "stdout",
     "output_type": "stream",
     "text": [
      "<class 'pandas.core.frame.DataFrame'>\n",
      "DatetimeIndex: 2516 entries, 2010-01-04 to 2019-12-31\n",
      "Columns: 172 entries, AAPL.US to ADSK.US\n",
      "dtypes: float64(172)\n",
      "memory usage: 3.3 MB\n"
     ]
    }
   ],
   "source": [
    "stocks = pd.read_hdf('data.h5', 'stocks/close')\n",
    "stocks.info()"
   ]
  },
  {
   "cell_type": "code",
   "execution_count": 10,
   "metadata": {
    "ExecuteTime": {
     "end_time": "2021-02-23T15:00:56.705358Z",
     "start_time": "2021-02-23T15:00:56.690013Z"
    }
   },
   "outputs": [
    {
     "name": "stdout",
     "output_type": "stream",
     "text": [
      "<class 'pandas.core.frame.DataFrame'>\n",
      "DatetimeIndex: 2516 entries, 2010-01-04 to 2019-12-31\n",
      "Columns: 132 entries, SPY.US to IDX.US\n",
      "dtypes: float64(132)\n",
      "memory usage: 2.6 MB\n"
     ]
    }
   ],
   "source": [
    "etfs = pd.read_hdf('data.h5', 'etfs/close')\n",
    "etfs.info()"
   ]
  },
  {
   "cell_type": "code",
   "execution_count": 11,
   "metadata": {
    "ExecuteTime": {
     "end_time": "2021-02-23T15:01:15.101618Z",
     "start_time": "2021-02-23T15:01:13.647425Z"
    }
   },
   "outputs": [],
   "source": [
    "tickers = {k: v for k, v in names.items() if k in etfs.columns.union(stocks.columns)}\n",
    "pd.Series(tickers).to_hdf('data.h5', 'tickers')"
   ]
  },
  {
   "cell_type": "code",
   "execution_count": 12,
   "metadata": {
    "ExecuteTime": {
     "end_time": "2021-02-23T15:01:19.874810Z",
     "start_time": "2021-02-23T15:01:15.102722Z"
    }
   },
   "outputs": [],
   "source": [
    "corr = pd.DataFrame(index=stocks.columns)\n",
    "for etf, data in etfs.items():\n",
    "    corr[etf] = stocks.corrwith(data)"
   ]
  },
  {
   "cell_type": "code",
   "execution_count": 13,
   "metadata": {
    "ExecuteTime": {
     "end_time": "2021-02-23T15:01:19.888310Z",
     "start_time": "2021-02-23T15:01:19.875906Z"
    }
   },
   "outputs": [
    {
     "name": "stdout",
     "output_type": "stream",
     "text": [
      "<class 'pandas.core.frame.DataFrame'>\n",
      "Index: 172 entries, AAPL.US to ADSK.US\n",
      "Columns: 132 entries, SPY.US to IDX.US\n",
      "dtypes: float64(132)\n",
      "memory usage: 182.8+ KB\n"
     ]
    }
   ],
   "source": [
    "corr.info()"
   ]
  },
  {
   "cell_type": "code",
   "execution_count": 14,
   "metadata": {
    "scrolled": false
   },
   "outputs": [
    {
     "data": {
      "text/html": [
       "<div>\n",
       "<style scoped>\n",
       "    .dataframe tbody tr th:only-of-type {\n",
       "        vertical-align: middle;\n",
       "    }\n",
       "\n",
       "    .dataframe tbody tr th {\n",
       "        vertical-align: top;\n",
       "    }\n",
       "\n",
       "    .dataframe thead th {\n",
       "        text-align: right;\n",
       "    }\n",
       "</style>\n",
       "<table border=\"1\" class=\"dataframe\">\n",
       "  <thead>\n",
       "    <tr style=\"text-align: right;\">\n",
       "      <th></th>\n",
       "      <th>SPY.US</th>\n",
       "      <th>EEM.US</th>\n",
       "      <th>GLD.US</th>\n",
       "      <th>EFA.US</th>\n",
       "      <th>XLF.US</th>\n",
       "      <th>XLE.US</th>\n",
       "      <th>TLT.US</th>\n",
       "      <th>GDX.US</th>\n",
       "      <th>EWZ.US</th>\n",
       "      <th>HYG.US</th>\n",
       "      <th>...</th>\n",
       "      <th>TAN.US</th>\n",
       "      <th>IGOV.US</th>\n",
       "      <th>EPU.US</th>\n",
       "      <th>WIP.US</th>\n",
       "      <th>PJP.US</th>\n",
       "      <th>INDY.US</th>\n",
       "      <th>XPH.US</th>\n",
       "      <th>STPZ.US</th>\n",
       "      <th>BRF.US</th>\n",
       "      <th>IDX.US</th>\n",
       "    </tr>\n",
       "    <tr>\n",
       "      <th>ticker</th>\n",
       "      <th></th>\n",
       "      <th></th>\n",
       "      <th></th>\n",
       "      <th></th>\n",
       "      <th></th>\n",
       "      <th></th>\n",
       "      <th></th>\n",
       "      <th></th>\n",
       "      <th></th>\n",
       "      <th></th>\n",
       "      <th></th>\n",
       "      <th></th>\n",
       "      <th></th>\n",
       "      <th></th>\n",
       "      <th></th>\n",
       "      <th></th>\n",
       "      <th></th>\n",
       "      <th></th>\n",
       "      <th></th>\n",
       "      <th></th>\n",
       "      <th></th>\n",
       "    </tr>\n",
       "  </thead>\n",
       "  <tbody>\n",
       "    <tr>\n",
       "      <th>AAPL.US</th>\n",
       "      <td>0.96</td>\n",
       "      <td>0.58</td>\n",
       "      <td>-0.27</td>\n",
       "      <td>0.87</td>\n",
       "      <td>0.95</td>\n",
       "      <td>0.30</td>\n",
       "      <td>0.83</td>\n",
       "      <td>-0.60</td>\n",
       "      <td>-0.41</td>\n",
       "      <td>0.92</td>\n",
       "      <td>...</td>\n",
       "      <td>-0.44</td>\n",
       "      <td>0.35</td>\n",
       "      <td>0.23</td>\n",
       "      <td>0.53</td>\n",
       "      <td>0.76</td>\n",
       "      <td>0.84</td>\n",
       "      <td>0.62</td>\n",
       "      <td>0.73</td>\n",
       "      <td>-0.49</td>\n",
       "      <td>-0.18</td>\n",
       "    </tr>\n",
       "    <tr>\n",
       "      <th>AMZN.US</th>\n",
       "      <td>0.93</td>\n",
       "      <td>0.59</td>\n",
       "      <td>-0.27</td>\n",
       "      <td>0.82</td>\n",
       "      <td>0.92</td>\n",
       "      <td>0.21</td>\n",
       "      <td>0.74</td>\n",
       "      <td>-0.52</td>\n",
       "      <td>-0.31</td>\n",
       "      <td>0.86</td>\n",
       "      <td>...</td>\n",
       "      <td>-0.38</td>\n",
       "      <td>0.38</td>\n",
       "      <td>0.29</td>\n",
       "      <td>0.46</td>\n",
       "      <td>0.66</td>\n",
       "      <td>0.83</td>\n",
       "      <td>0.48</td>\n",
       "      <td>0.66</td>\n",
       "      <td>-0.41</td>\n",
       "      <td>-0.17</td>\n",
       "    </tr>\n",
       "    <tr>\n",
       "      <th>MSFT.US</th>\n",
       "      <td>0.94</td>\n",
       "      <td>0.58</td>\n",
       "      <td>-0.26</td>\n",
       "      <td>0.82</td>\n",
       "      <td>0.92</td>\n",
       "      <td>0.19</td>\n",
       "      <td>0.77</td>\n",
       "      <td>-0.52</td>\n",
       "      <td>-0.29</td>\n",
       "      <td>0.88</td>\n",
       "      <td>...</td>\n",
       "      <td>-0.33</td>\n",
       "      <td>0.39</td>\n",
       "      <td>0.25</td>\n",
       "      <td>0.48</td>\n",
       "      <td>0.65</td>\n",
       "      <td>0.84</td>\n",
       "      <td>0.48</td>\n",
       "      <td>0.69</td>\n",
       "      <td>-0.39</td>\n",
       "      <td>-0.17</td>\n",
       "    </tr>\n",
       "    <tr>\n",
       "      <th>BAC.US</th>\n",
       "      <td>0.91</td>\n",
       "      <td>0.67</td>\n",
       "      <td>-0.47</td>\n",
       "      <td>0.88</td>\n",
       "      <td>0.95</td>\n",
       "      <td>0.26</td>\n",
       "      <td>0.62</td>\n",
       "      <td>-0.58</td>\n",
       "      <td>-0.26</td>\n",
       "      <td>0.85</td>\n",
       "      <td>...</td>\n",
       "      <td>-0.18</td>\n",
       "      <td>0.31</td>\n",
       "      <td>0.24</td>\n",
       "      <td>0.42</td>\n",
       "      <td>0.66</td>\n",
       "      <td>0.88</td>\n",
       "      <td>0.51</td>\n",
       "      <td>0.50</td>\n",
       "      <td>-0.39</td>\n",
       "      <td>-0.22</td>\n",
       "    </tr>\n",
       "    <tr>\n",
       "      <th>GOOGL.US</th>\n",
       "      <td>0.98</td>\n",
       "      <td>0.53</td>\n",
       "      <td>-0.40</td>\n",
       "      <td>0.90</td>\n",
       "      <td>0.98</td>\n",
       "      <td>0.32</td>\n",
       "      <td>0.82</td>\n",
       "      <td>-0.69</td>\n",
       "      <td>-0.49</td>\n",
       "      <td>0.94</td>\n",
       "      <td>...</td>\n",
       "      <td>-0.44</td>\n",
       "      <td>0.37</td>\n",
       "      <td>0.16</td>\n",
       "      <td>0.49</td>\n",
       "      <td>0.81</td>\n",
       "      <td>0.84</td>\n",
       "      <td>0.65</td>\n",
       "      <td>0.67</td>\n",
       "      <td>-0.58</td>\n",
       "      <td>-0.25</td>\n",
       "    </tr>\n",
       "    <tr>\n",
       "      <th>...</th>\n",
       "      <td>...</td>\n",
       "      <td>...</td>\n",
       "      <td>...</td>\n",
       "      <td>...</td>\n",
       "      <td>...</td>\n",
       "      <td>...</td>\n",
       "      <td>...</td>\n",
       "      <td>...</td>\n",
       "      <td>...</td>\n",
       "      <td>...</td>\n",
       "      <td>...</td>\n",
       "      <td>...</td>\n",
       "      <td>...</td>\n",
       "      <td>...</td>\n",
       "      <td>...</td>\n",
       "      <td>...</td>\n",
       "      <td>...</td>\n",
       "      <td>...</td>\n",
       "      <td>...</td>\n",
       "      <td>...</td>\n",
       "      <td>...</td>\n",
       "    </tr>\n",
       "    <tr>\n",
       "      <th>CLF.US</th>\n",
       "      <td>-0.75</td>\n",
       "      <td>-0.08</td>\n",
       "      <td>0.58</td>\n",
       "      <td>-0.72</td>\n",
       "      <td>-0.73</td>\n",
       "      <td>-0.43</td>\n",
       "      <td>-0.79</td>\n",
       "      <td>0.93</td>\n",
       "      <td>0.84</td>\n",
       "      <td>-0.80</td>\n",
       "      <td>...</td>\n",
       "      <td>0.56</td>\n",
       "      <td>-0.16</td>\n",
       "      <td>0.28</td>\n",
       "      <td>-0.40</td>\n",
       "      <td>-0.90</td>\n",
       "      <td>-0.47</td>\n",
       "      <td>-0.86</td>\n",
       "      <td>-0.49</td>\n",
       "      <td>0.85</td>\n",
       "      <td>0.44</td>\n",
       "    </tr>\n",
       "    <tr>\n",
       "      <th>FITB.US</th>\n",
       "      <td>0.96</td>\n",
       "      <td>0.63</td>\n",
       "      <td>-0.42</td>\n",
       "      <td>0.94</td>\n",
       "      <td>0.98</td>\n",
       "      <td>0.45</td>\n",
       "      <td>0.74</td>\n",
       "      <td>-0.70</td>\n",
       "      <td>-0.43</td>\n",
       "      <td>0.94</td>\n",
       "      <td>...</td>\n",
       "      <td>-0.41</td>\n",
       "      <td>0.38</td>\n",
       "      <td>0.24</td>\n",
       "      <td>0.56</td>\n",
       "      <td>0.79</td>\n",
       "      <td>0.82</td>\n",
       "      <td>0.66</td>\n",
       "      <td>0.65</td>\n",
       "      <td>-0.52</td>\n",
       "      <td>-0.19</td>\n",
       "    </tr>\n",
       "    <tr>\n",
       "      <th>GEN.US</th>\n",
       "      <td>0.82</td>\n",
       "      <td>0.54</td>\n",
       "      <td>-0.37</td>\n",
       "      <td>0.82</td>\n",
       "      <td>0.85</td>\n",
       "      <td>0.38</td>\n",
       "      <td>0.69</td>\n",
       "      <td>-0.63</td>\n",
       "      <td>-0.42</td>\n",
       "      <td>0.83</td>\n",
       "      <td>...</td>\n",
       "      <td>-0.44</td>\n",
       "      <td>0.31</td>\n",
       "      <td>0.19</td>\n",
       "      <td>0.52</td>\n",
       "      <td>0.71</td>\n",
       "      <td>0.73</td>\n",
       "      <td>0.60</td>\n",
       "      <td>0.57</td>\n",
       "      <td>-0.48</td>\n",
       "      <td>-0.07</td>\n",
       "    </tr>\n",
       "    <tr>\n",
       "      <th>GPS.US</th>\n",
       "      <td>0.23</td>\n",
       "      <td>0.14</td>\n",
       "      <td>-0.29</td>\n",
       "      <td>0.41</td>\n",
       "      <td>0.24</td>\n",
       "      <td>0.76</td>\n",
       "      <td>0.18</td>\n",
       "      <td>-0.61</td>\n",
       "      <td>-0.44</td>\n",
       "      <td>0.36</td>\n",
       "      <td>...</td>\n",
       "      <td>-0.28</td>\n",
       "      <td>0.19</td>\n",
       "      <td>-0.08</td>\n",
       "      <td>0.47</td>\n",
       "      <td>0.50</td>\n",
       "      <td>0.02</td>\n",
       "      <td>0.61</td>\n",
       "      <td>0.23</td>\n",
       "      <td>-0.36</td>\n",
       "      <td>-0.03</td>\n",
       "    </tr>\n",
       "    <tr>\n",
       "      <th>ADSK.US</th>\n",
       "      <td>0.94</td>\n",
       "      <td>0.67</td>\n",
       "      <td>-0.27</td>\n",
       "      <td>0.86</td>\n",
       "      <td>0.94</td>\n",
       "      <td>0.24</td>\n",
       "      <td>0.73</td>\n",
       "      <td>-0.51</td>\n",
       "      <td>-0.25</td>\n",
       "      <td>0.88</td>\n",
       "      <td>...</td>\n",
       "      <td>-0.32</td>\n",
       "      <td>0.40</td>\n",
       "      <td>0.33</td>\n",
       "      <td>0.50</td>\n",
       "      <td>0.66</td>\n",
       "      <td>0.88</td>\n",
       "      <td>0.49</td>\n",
       "      <td>0.67</td>\n",
       "      <td>-0.36</td>\n",
       "      <td>-0.11</td>\n",
       "    </tr>\n",
       "  </tbody>\n",
       "</table>\n",
       "<p>172 rows × 132 columns</p>\n",
       "</div>"
      ],
      "text/plain": [
       "          SPY.US  EEM.US  GLD.US  EFA.US  XLF.US  XLE.US  TLT.US  GDX.US  \\\n",
       "ticker                                                                     \n",
       "AAPL.US     0.96    0.58   -0.27    0.87    0.95    0.30    0.83   -0.60   \n",
       "AMZN.US     0.93    0.59   -0.27    0.82    0.92    0.21    0.74   -0.52   \n",
       "MSFT.US     0.94    0.58   -0.26    0.82    0.92    0.19    0.77   -0.52   \n",
       "BAC.US      0.91    0.67   -0.47    0.88    0.95    0.26    0.62   -0.58   \n",
       "GOOGL.US    0.98    0.53   -0.40    0.90    0.98    0.32    0.82   -0.69   \n",
       "...          ...     ...     ...     ...     ...     ...     ...     ...   \n",
       "CLF.US     -0.75   -0.08    0.58   -0.72   -0.73   -0.43   -0.79    0.93   \n",
       "FITB.US     0.96    0.63   -0.42    0.94    0.98    0.45    0.74   -0.70   \n",
       "GEN.US      0.82    0.54   -0.37    0.82    0.85    0.38    0.69   -0.63   \n",
       "GPS.US      0.23    0.14   -0.29    0.41    0.24    0.76    0.18   -0.61   \n",
       "ADSK.US     0.94    0.67   -0.27    0.86    0.94    0.24    0.73   -0.51   \n",
       "\n",
       "          EWZ.US  HYG.US  ...  TAN.US  IGOV.US  EPU.US  WIP.US  PJP.US  \\\n",
       "ticker                    ...                                            \n",
       "AAPL.US    -0.41    0.92  ...   -0.44     0.35    0.23    0.53    0.76   \n",
       "AMZN.US    -0.31    0.86  ...   -0.38     0.38    0.29    0.46    0.66   \n",
       "MSFT.US    -0.29    0.88  ...   -0.33     0.39    0.25    0.48    0.65   \n",
       "BAC.US     -0.26    0.85  ...   -0.18     0.31    0.24    0.42    0.66   \n",
       "GOOGL.US   -0.49    0.94  ...   -0.44     0.37    0.16    0.49    0.81   \n",
       "...          ...     ...  ...     ...      ...     ...     ...     ...   \n",
       "CLF.US      0.84   -0.80  ...    0.56    -0.16    0.28   -0.40   -0.90   \n",
       "FITB.US    -0.43    0.94  ...   -0.41     0.38    0.24    0.56    0.79   \n",
       "GEN.US     -0.42    0.83  ...   -0.44     0.31    0.19    0.52    0.71   \n",
       "GPS.US     -0.44    0.36  ...   -0.28     0.19   -0.08    0.47    0.50   \n",
       "ADSK.US    -0.25    0.88  ...   -0.32     0.40    0.33    0.50    0.66   \n",
       "\n",
       "          INDY.US  XPH.US  STPZ.US  BRF.US  IDX.US  \n",
       "ticker                                              \n",
       "AAPL.US      0.84    0.62     0.73   -0.49   -0.18  \n",
       "AMZN.US      0.83    0.48     0.66   -0.41   -0.17  \n",
       "MSFT.US      0.84    0.48     0.69   -0.39   -0.17  \n",
       "BAC.US       0.88    0.51     0.50   -0.39   -0.22  \n",
       "GOOGL.US     0.84    0.65     0.67   -0.58   -0.25  \n",
       "...           ...     ...      ...     ...     ...  \n",
       "CLF.US      -0.47   -0.86    -0.49    0.85    0.44  \n",
       "FITB.US      0.82    0.66     0.65   -0.52   -0.19  \n",
       "GEN.US       0.73    0.60     0.57   -0.48   -0.07  \n",
       "GPS.US       0.02    0.61     0.23   -0.36   -0.03  \n",
       "ADSK.US      0.88    0.49     0.67   -0.36   -0.11  \n",
       "\n",
       "[172 rows x 132 columns]"
      ]
     },
     "execution_count": 14,
     "metadata": {},
     "output_type": "execute_result"
    }
   ],
   "source": [
    "corr"
   ]
  },
  {
   "cell_type": "code",
   "execution_count": 15,
   "metadata": {
    "ExecuteTime": {
     "end_time": "2021-02-23T15:01:20.585582Z",
     "start_time": "2021-02-23T15:01:19.889466Z"
    },
    "scrolled": false
   },
   "outputs": [
    {
     "data": {
      "image/png": "[encoded data removed]",
      "text/plain": [
       "<Figure size 1000x1000 with 4 Axes>"
      ]
     },
     "metadata": {},
     "output_type": "display_data"
    }
   ],
   "source": [
    "cmap = sns.diverging_palette(220, 10, as_cmap=True)\n",
    "sns.clustermap(corr, cmap=cmap, center=0);"
   ]
  },
  {
   "cell_type": "markdown",
   "metadata": {},
   "source": [
    "## Candidate Selection using Heuristics"
   ]
  },
  {
   "cell_type": "markdown",
   "metadata": {},
   "source": [
    "### Computational Complexity: Comparing running times"
   ]
  },
  {
   "cell_type": "markdown",
   "metadata": {},
   "source": [
    "In this section, we compare the running times of various cointegration tests. More specifically, we are running tests for a single asset vs. the remaining set of securities."
   ]
  },
  {
   "cell_type": "markdown",
   "metadata": {},
   "source": [
    "#### Prepare Data"
   ]
  },
  {
   "cell_type": "code",
   "execution_count": 16,
   "metadata": {
    "ExecuteTime": {
     "end_time": "2021-02-23T15:01:38.693161Z",
     "start_time": "2021-02-23T15:01:38.689811Z"
    }
   },
   "outputs": [
    {
     "data": {
      "text/plain": [
       "((2516, 172), (2516, 132))"
      ]
     },
     "execution_count": 16,
     "metadata": {},
     "output_type": "execute_result"
    }
   ],
   "source": [
    "stocks.shape, etfs.shape"
   ]
  },
  {
   "cell_type": "code",
   "execution_count": 17,
   "metadata": {
    "ExecuteTime": {
     "end_time": "2021-02-23T15:01:38.714843Z",
     "start_time": "2021-02-23T15:01:38.696321Z"
    }
   },
   "outputs": [
    {
     "name": "stdout",
     "output_type": "stream",
     "text": [
      "<class 'pandas.core.frame.DataFrame'>\n",
      "DatetimeIndex: 2516 entries, 2010-01-04 to 2019-12-31\n",
      "Columns: 172 entries, AAPL.US to ADSK.US\n",
      "dtypes: float64(172)\n",
      "memory usage: 3.3 MB\n"
     ]
    }
   ],
   "source": [
    "stocks.info()"
   ]
  },
  {
   "cell_type": "code",
   "execution_count": 18,
   "metadata": {
    "ExecuteTime": {
     "end_time": "2021-02-23T15:01:38.732329Z",
     "start_time": "2021-02-23T15:01:38.716060Z"
    }
   },
   "outputs": [
    {
     "name": "stdout",
     "output_type": "stream",
     "text": [
      "<class 'pandas.core.frame.DataFrame'>\n",
      "DatetimeIndex: 2516 entries, 2010-01-04 to 2019-12-31\n",
      "Columns: 132 entries, SPY.US to IDX.US\n",
      "dtypes: float64(132)\n",
      "memory usage: 2.6 MB\n"
     ]
    }
   ],
   "source": [
    "etfs.info()"
   ]
  },
  {
   "cell_type": "code",
   "execution_count": 19,
   "metadata": {
    "ExecuteTime": {
     "end_time": "2021-02-23T15:01:38.743544Z",
     "start_time": "2021-02-23T15:01:38.733468Z"
    }
   },
   "outputs": [],
   "source": [
    "security = etfs['AAXJ.US'].loc['2010': '2013']\n",
    "candidates = stocks.loc['2010': '2013']"
   ]
  },
  {
   "cell_type": "code",
   "execution_count": 24,
   "metadata": {
    "ExecuteTime": {
     "end_time": "2021-02-23T15:01:38.749550Z",
     "start_time": "2021-02-23T15:01:38.744629Z"
    }
   },
   "outputs": [],
   "source": [
    "security = security.div(security.iloc[0])\n",
    "candidates = candidates.div(candidates.iloc[0])\n",
    "spreads = candidates.sub(security, axis=0)"
   ]
  },
  {
   "cell_type": "code",
   "execution_count": 33,
   "metadata": {
    "ExecuteTime": {
     "end_time": "2021-02-23T15:01:38.756941Z",
     "start_time": "2021-02-23T15:01:38.750525Z"
    }
   },
   "outputs": [],
   "source": [
    "n, m = spreads.shape\n",
    "X = np.ones(shape=(n, 2))\n",
    "X[:, 1] = np.arange(1, n+1)"
   ]
  },
  {
   "cell_type": "markdown",
   "metadata": {},
   "source": [
    "#### Heuristics"
   ]
  },
  {
   "cell_type": "code",
   "execution_count": 34,
   "metadata": {
    "ExecuteTime": {
     "end_time": "2021-02-23T15:01:44.686593Z",
     "start_time": "2021-02-23T15:01:38.757885Z"
    }
   },
   "outputs": [
    {
     "name": "stdout",
     "output_type": "stream",
     "text": [
      "875 µs ± 20.1 µs per loop (mean ± std. dev. of 7 runs, 1,000 loops each)\n"
     ]
    }
   ],
   "source": [
    "%%timeit\n",
    "np.linalg.inv(X.T @ X) @ X.T @ spreads"
   ]
  },
  {
   "cell_type": "code",
   "execution_count": 41,
   "metadata": {
    "ExecuteTime": {
     "end_time": "2021-02-23T15:01:53.021935Z",
     "start_time": "2021-02-23T15:01:44.688097Z"
    }
   },
   "outputs": [
    {
     "name": "stdout",
     "output_type": "stream",
     "text": [
      "561 µs ± 6.95 µs per loop (mean ± std. dev. of 7 runs, 1,000 loops each)\n"
     ]
    }
   ],
   "source": [
    "%%timeit\n",
    "spreads.std()"
   ]
  },
  {
   "cell_type": "code",
   "execution_count": 44,
   "metadata": {
    "ExecuteTime": {
     "end_time": "2021-02-23T15:01:55.542166Z",
     "start_time": "2021-02-23T15:01:53.023518Z"
    }
   },
   "outputs": [
    {
     "name": "stdout",
     "output_type": "stream",
     "text": [
      "37.8 ms ± 835 µs per loop (mean ± std. dev. of 7 runs, 10 loops each)\n"
     ]
    }
   ],
   "source": [
    "%%timeit\n",
    "candidates.corrwith(security)"
   ]
  },
  {
   "cell_type": "markdown",
   "metadata": {},
   "source": [
    "#### Cointegration Tests"
   ]
  },
  {
   "cell_type": "code",
   "execution_count": 29,
   "metadata": {
    "ExecuteTime": {
     "end_time": "2021-02-23T15:06:17.974043Z",
     "start_time": "2021-02-23T15:01:55.544702Z"
    }
   },
   "outputs": [
    {
     "name": "stdout",
     "output_type": "stream",
     "text": [
      "33.1 s ± 192 ms per loop (mean ± std. dev. of 7 runs, 1 loop each)\n"
     ]
    }
   ],
   "source": [
    "%%timeit\n",
    "for candidate, prices in candidates.items():\n",
    "    df = pd.DataFrame({'s1': security,\n",
    "                       's2': prices})\n",
    "    var = VAR(df.values)\n",
    "    lags = var.select_order()\n",
    "    k_ar_diff = lags.selected_orders['aic']\n",
    "    coint_johansen(df, det_order=0, k_ar_diff=k_ar_diff)\n",
    "    coint(security, prices, trend='c')[:2]\n",
    "    coint(prices, security, trend='c')[:2]"
   ]
  },
  {
   "cell_type": "markdown",
   "metadata": {},
   "source": [
    "Clearly, cointegration tests are significantly more costly. It would be great if the heuristics worked just as well, or at least 'good enough'."
   ]
  },
  {
   "cell_type": "markdown",
   "metadata": {},
   "source": [
    "### Compute Heuristics"
   ]
  },
  {
   "cell_type": "markdown",
   "metadata": {},
   "source": [
    "The function `compute_pair_metrics()` computes the following distance metrics for over 23,000 pairs of\n",
    "stocks and Exchange Traded Funds (ETFs) for 2019-1 and 2019-12:\n",
    "\n",
    "- The **drift of the spread**, defined as a linear regression of a time trend on the spread\n",
    "- The spread's  **volatility**\n",
    "- The **correlations** between the normalized price series and between their returns\n",
    "\n",
    "Low drift and volatility, as well as high correlation, are simple proxies for cointegration. \n",
    "\n",
    "To evaluate the predictive power of these heuristics, we also run Engle-Granger and Johansen **cointegration tests** using `statsmodels` for the preceding pairs. This takes place in the loop in the second half of `compute_pair_metrics()`.\n",
    "\n",
    "We first estimate the optimal number of lags that we need to specify for the Johansen test. For both tests, we assume that the cointegrated series (the spread) may have an intercept different from zero but no trend:"
   ]
  },
  {
   "cell_type": "code",
   "execution_count": 52,
   "metadata": {
    "ExecuteTime": {
     "end_time": "2021-02-23T15:13:51.082000Z",
     "start_time": "2021-02-23T15:13:51.071380Z"
    }
   },
   "outputs": [],
   "source": [
    "def compute_pair_metrics(security, candidates):\n",
    "    security = security.div(security.iloc[0])\n",
    "    ticker = security.name\n",
    "    candidates = candidates.div(candidates.iloc[0])\n",
    "    spreads = candidates.sub(security, axis=0)\n",
    "    n, m = spreads.shape\n",
    "    X = np.ones(shape=(n, 2))\n",
    "    X[:, 1] = np.arange(1, n + 1)\n",
    "    \n",
    "    # compute drift\n",
    "    drift = ((np.linalg.inv(X.T @ X) @ X.T @ spreads).iloc[1]\n",
    "             .to_frame('drift'))\n",
    "    \n",
    "    # compute volatility\n",
    "    vol = spreads.std().to_frame('vol')\n",
    "    \n",
    "    # return correlation\n",
    "    corr_ret = (candidates.pct_change()\n",
    "                .corrwith(security.pct_change())\n",
    "                .to_frame('corr_ret'))\n",
    "    \n",
    "    # normalized price series correlation\n",
    "    corr = candidates.corrwith(security).to_frame('corr')\n",
    "    metrics = drift.join(vol).join(corr).join(corr_ret).assign(n=n)\n",
    "    \n",
    "    tests = []\n",
    "    # run cointegration tests\n",
    "    for candidate, prices in tqdm(candidates.items()):\n",
    "        df = pd.DataFrame({'s1': security, 's2': prices})\n",
    "        var = VAR(df.values)\n",
    "        lags = var.select_order() # select VAR order\n",
    "        k_ar_diff = lags.selected_orders['aic']\n",
    "        # Johansen Test with constant Term and estd. lag order\n",
    "        cj0 = coint_johansen(df, det_order=0, k_ar_diff=k_ar_diff)\n",
    "        # Engle-Granger Tests\n",
    "        t1, p1 = coint(security, prices, trend='c')[:2]\n",
    "        t2, p2 = coint(prices, security, trend='c')[:2]\n",
    "        tests.append([ticker, candidate, t1, p1, t2, p2, \n",
    "                      k_ar_diff, *cj0.lr1])\n",
    "    columns = ['s1', 's2', 't1', 'p1', 't2', 'p2', 'k_ar_diff', 'trace0', 'trace1']\n",
    "    tests = pd.DataFrame(tests, columns=columns).set_index('s2')\n",
    "    return metrics.join(tests)"
   ]
  },
  {
   "cell_type": "code",
   "execution_count": 53,
   "metadata": {
    "scrolled": true
   },
   "outputs": [
    {
     "name": "stderr",
     "output_type": "stream",
     "text": [
      "172it [00:05, 30.75it/s]\n",
      "172it [00:05, 30.98it/s]\n",
      "172it [00:05, 31.12it/s]\n",
      "172it [00:05, 31.11it/s]\n",
      "172it [00:05, 30.38it/s]\n",
      "172it [00:05, 31.05it/s]\n",
      "172it [00:05, 30.45it/s]\n",
      "172it [00:05, 30.75it/s]\n",
      "172it [00:05, 30.50it/s]\n",
      "172it [00:05, 31.23it/s]\n"
     ]
    },
    {
     "name": "stdout",
     "output_type": "stream",
     "text": [
      "\n",
      " 10 57.2\n",
      "\n"
     ]
    },
    {
     "name": "stderr",
     "output_type": "stream",
     "text": [
      "172it [00:05, 31.39it/s]\n",
      "172it [00:05, 30.63it/s]\n",
      "172it [00:05, 31.17it/s]\n",
      "172it [00:05, 31.30it/s]\n",
      "172it [00:05, 29.13it/s]\n",
      "172it [00:05, 30.27it/s]\n",
      "172it [00:05, 29.55it/s]\n",
      "172it [00:05, 31.12it/s]\n",
      "172it [00:05, 31.33it/s]\n",
      "172it [00:05, 31.30it/s]\n"
     ]
    },
    {
     "name": "stdout",
     "output_type": "stream",
     "text": [
      "\n",
      " 20 56.9\n",
      "\n"
     ]
    },
    {
     "name": "stderr",
     "output_type": "stream",
     "text": [
      "172it [00:05, 31.26it/s]\n",
      "172it [00:05, 31.23it/s]\n",
      "172it [00:05, 31.16it/s]\n",
      "172it [00:05, 30.66it/s]\n",
      "172it [00:05, 30.78it/s]\n",
      "172it [00:05, 31.63it/s]\n",
      "172it [00:05, 31.57it/s]\n",
      "172it [00:05, 31.58it/s]\n",
      "172it [00:05, 31.45it/s]\n",
      "172it [00:05, 31.77it/s]\n"
     ]
    },
    {
     "name": "stdout",
     "output_type": "stream",
     "text": [
      "\n",
      " 30 55.8\n",
      "\n"
     ]
    },
    {
     "name": "stderr",
     "output_type": "stream",
     "text": [
      "172it [00:05, 30.38it/s]\n",
      "172it [00:06, 27.74it/s]\n",
      "172it [00:05, 31.16it/s]\n",
      "172it [00:05, 30.62it/s]\n",
      "172it [00:05, 30.89it/s]\n",
      "172it [00:05, 31.47it/s]\n",
      "172it [00:05, 30.57it/s]\n",
      "172it [00:05, 29.99it/s]\n",
      "172it [00:05, 30.35it/s]\n",
      "172it [00:05, 30.15it/s]\n"
     ]
    },
    {
     "name": "stdout",
     "output_type": "stream",
     "text": [
      "\n",
      " 40 57.6\n",
      "\n"
     ]
    },
    {
     "name": "stderr",
     "output_type": "stream",
     "text": [
      "172it [00:05, 30.48it/s]\n",
      "172it [00:05, 30.17it/s]\n",
      "172it [00:05, 30.64it/s]\n",
      "172it [00:05, 30.41it/s]\n",
      "172it [00:05, 30.15it/s]\n",
      "172it [00:05, 29.88it/s]\n",
      "172it [00:05, 30.35it/s]\n",
      "172it [00:05, 30.35it/s]\n",
      "172it [00:05, 30.06it/s]\n",
      "172it [00:05, 30.14it/s]\n"
     ]
    },
    {
     "name": "stdout",
     "output_type": "stream",
     "text": [
      "\n",
      " 50 57.7\n",
      "\n"
     ]
    },
    {
     "name": "stderr",
     "output_type": "stream",
     "text": [
      "172it [00:06, 28.33it/s]\n",
      "172it [00:06, 28.35it/s]\n",
      "172it [00:06, 26.92it/s]\n",
      "172it [00:05, 30.28it/s]\n",
      "172it [00:06, 28.20it/s]\n",
      "172it [00:05, 30.70it/s]\n",
      "172it [00:05, 29.58it/s]\n",
      "172it [00:05, 30.43it/s]\n",
      "172it [00:05, 30.19it/s]\n",
      "172it [00:05, 30.14it/s]\n"
     ]
    },
    {
     "name": "stdout",
     "output_type": "stream",
     "text": [
      "\n",
      " 60 59.7\n",
      "\n"
     ]
    },
    {
     "name": "stderr",
     "output_type": "stream",
     "text": [
      "172it [00:05, 30.92it/s]\n",
      "172it [00:05, 31.00it/s]\n",
      "172it [00:05, 30.52it/s]\n",
      "172it [00:05, 31.04it/s]\n",
      "172it [00:05, 31.02it/s]\n",
      "172it [00:05, 31.52it/s]\n",
      "172it [00:05, 30.82it/s]\n",
      "172it [00:05, 30.42it/s]\n",
      "172it [00:05, 31.07it/s]\n",
      "172it [00:05, 30.97it/s]\n"
     ]
    },
    {
     "name": "stdout",
     "output_type": "stream",
     "text": [
      "\n",
      " 70 56.5\n",
      "\n"
     ]
    },
    {
     "name": "stderr",
     "output_type": "stream",
     "text": [
      "172it [00:05, 30.91it/s]\n",
      "172it [00:05, 30.94it/s]\n",
      "172it [00:05, 31.35it/s]\n",
      "172it [00:05, 31.38it/s]\n",
      "172it [00:05, 31.00it/s]\n",
      "172it [00:05, 30.45it/s]\n",
      "172it [00:05, 31.22it/s]\n",
      "172it [00:05, 31.37it/s]\n",
      "172it [00:05, 31.05it/s]\n",
      "172it [00:05, 30.89it/s]\n"
     ]
    },
    {
     "name": "stdout",
     "output_type": "stream",
     "text": [
      "\n",
      " 80 56.2\n",
      "\n"
     ]
    },
    {
     "name": "stderr",
     "output_type": "stream",
     "text": [
      "172it [00:05, 30.49it/s]\n",
      "172it [00:05, 29.54it/s]\n",
      "172it [00:05, 30.51it/s]\n",
      "172it [00:05, 30.52it/s]\n",
      "172it [00:05, 30.63it/s]\n",
      "172it [00:05, 29.72it/s]\n",
      "172it [00:06, 26.42it/s]\n",
      "172it [00:05, 29.53it/s]\n",
      "172it [00:05, 30.27it/s]\n",
      "172it [00:05, 30.33it/s]\n"
     ]
    },
    {
     "name": "stdout",
     "output_type": "stream",
     "text": [
      "\n",
      " 90 58.7\n",
      "\n"
     ]
    },
    {
     "name": "stderr",
     "output_type": "stream",
     "text": [
      "172it [00:05, 30.30it/s]\n",
      "172it [00:05, 30.04it/s]\n",
      "172it [00:05, 30.14it/s]\n",
      "172it [00:05, 29.73it/s]\n",
      "172it [00:05, 29.83it/s]\n",
      "172it [00:05, 29.65it/s]\n",
      "172it [00:05, 29.80it/s]\n",
      "172it [00:05, 29.71it/s]\n",
      "172it [00:05, 29.89it/s]\n",
      "172it [00:05, 31.00it/s]\n"
     ]
    },
    {
     "name": "stdout",
     "output_type": "stream",
     "text": [
      "\n",
      "100 58.2\n",
      "\n"
     ]
    },
    {
     "name": "stderr",
     "output_type": "stream",
     "text": [
      "172it [00:05, 30.20it/s]\n",
      "172it [00:05, 29.55it/s]\n",
      "172it [00:05, 29.51it/s]\n",
      "172it [00:05, 30.30it/s]\n",
      "172it [00:05, 30.33it/s]\n",
      "172it [00:05, 30.07it/s]\n",
      "172it [00:05, 30.61it/s]\n",
      "172it [00:05, 31.16it/s]\n",
      "172it [00:05, 30.75it/s]\n",
      "172it [00:05, 30.77it/s]\n"
     ]
    },
    {
     "name": "stdout",
     "output_type": "stream",
     "text": [
      "\n",
      "110 57.6\n",
      "\n"
     ]
    },
    {
     "name": "stderr",
     "output_type": "stream",
     "text": [
      "172it [00:05, 30.40it/s]\n",
      "172it [00:05, 30.52it/s]\n",
      "172it [00:05, 31.25it/s]\n",
      "172it [00:05, 31.31it/s]\n",
      "172it [00:05, 31.09it/s]\n",
      "172it [00:05, 31.12it/s]\n",
      "172it [00:05, 30.81it/s]\n",
      "172it [00:05, 30.02it/s]\n",
      "172it [00:05, 30.60it/s]\n",
      "172it [00:05, 31.10it/s]\n"
     ]
    },
    {
     "name": "stdout",
     "output_type": "stream",
     "text": [
      "\n",
      "120 56.7\n",
      "\n"
     ]
    },
    {
     "name": "stderr",
     "output_type": "stream",
     "text": [
      "172it [00:05, 30.95it/s]\n",
      "172it [00:05, 30.58it/s]\n",
      "172it [00:05, 29.65it/s]\n",
      "172it [00:05, 30.76it/s]\n",
      "172it [00:05, 31.14it/s]\n",
      "172it [00:05, 31.39it/s]\n",
      "172it [00:05, 31.48it/s]\n",
      "172it [00:05, 31.18it/s]\n",
      "172it [00:05, 31.54it/s]\n",
      "172it [00:05, 31.09it/s]\n"
     ]
    },
    {
     "name": "stdout",
     "output_type": "stream",
     "text": [
      "\n",
      "130 56.4\n",
      "\n"
     ]
    },
    {
     "name": "stderr",
     "output_type": "stream",
     "text": [
      "172it [00:05, 31.29it/s]\n",
      "172it [00:05, 30.97it/s]\n"
     ]
    }
   ],
   "source": [
    "spreads = []\n",
    "start = \"2019\"\n",
    "stop = \"2019\"\n",
    "etf_candidates = etfs.loc[start: stop, :]\n",
    "stock_candidates = stocks.loc[start: stop,:]\n",
    "s = time()\n",
    "for i, (etf_ticker, etf_prices) in enumerate(etf_candidates.items(), 1):\n",
    "    df = compute_pair_metrics(etf_prices, stock_candidates)\n",
    "    spreads.append(df.set_index('s1', append=True))\n",
    "    if i % 10 == 0:\n",
    "        print(f'\\n{i:>3} {time() - s:.1f}\\n')\n",
    "        s = time()"
   ]
  },
  {
   "cell_type": "code",
   "execution_count": 54,
   "metadata": {
    "ExecuteTime": {
     "end_time": "2021-02-23T15:13:20.577216Z",
     "start_time": "2021-02-23T15:01:38.727Z"
    }
   },
   "outputs": [],
   "source": [
    "names = get_ticker_dict()\n",
    "spreads = pd.concat(spreads)\n",
    "spreads.index.names = ['s2', 's1']\n",
    "spreads = spreads.swaplevel()\n",
    "spreads['name1'] = spreads.index.get_level_values('s1').map(names)\n",
    "spreads['name2'] = spreads.index.get_level_values('s2').map(names)"
   ]
  },
  {
   "cell_type": "code",
   "execution_count": 55,
   "metadata": {
    "ExecuteTime": {
     "end_time": "2021-02-23T15:13:20.578888Z",
     "start_time": "2021-02-23T15:01:38.730Z"
    }
   },
   "outputs": [],
   "source": [
    "spreads['t'] = spreads[['t1', 't2']].min(axis=1)\n",
    "spreads['p'] = spreads[['p1', 'p2']].min(axis=1)"
   ]
  },
  {
   "cell_type": "markdown",
   "metadata": {},
   "source": [
    "### Engle-Granger vs Johansen: how do their findings compare?"
   ]
  },
  {
   "cell_type": "markdown",
   "metadata": {},
   "source": [
    "To check for the significance of the cointegration tests, we compare the Johansen trace statistic for rank 0 and 1 to their respective critical values and obtain the Engle-Granger p-value.\n",
    "\n",
    "We follow the recommendation by Gonzalo and Lee (1998) to apply both tests and accept pairs where they agree. The authors suggest additional due diligence in case of disagreement, which we are going to skip."
   ]
  },
  {
   "cell_type": "code",
   "execution_count": 81,
   "metadata": {
    "ExecuteTime": {
     "end_time": "2021-02-23T15:13:20.580513Z",
     "start_time": "2021-02-23T15:01:38.733Z"
    }
   },
   "outputs": [],
   "source": [
    "spreads['trace_sig'] = ((spreads.trace0 > trace0_cv) &\n",
    "                        (spreads.trace1 > trace1_cv)).astype(int)\n",
    "spreads['eg_sig'] = (spreads.p < .05).astype(int)"
   ]
  },
  {
   "cell_type": "markdown",
   "metadata": {},
   "source": [
    "For the over 22,704 pairs across both sample periods, the Johansen test considers 8.35 percent of the relationships as significant, while the Engle-Granger considers 15.17 percent. They agree on 630 pairs (results may change with new data downloaded from stooq)."
   ]
  },
  {
   "cell_type": "code",
   "execution_count": 82,
   "metadata": {
    "ExecuteTime": {
     "end_time": "2021-02-23T15:13:20.582004Z",
     "start_time": "2021-02-23T15:01:38.736Z"
    }
   },
   "outputs": [
    {
     "data": {
      "text/html": [
       "<div>\n",
       "<style scoped>\n",
       "    .dataframe tbody tr th:only-of-type {\n",
       "        vertical-align: middle;\n",
       "    }\n",
       "\n",
       "    .dataframe tbody tr th {\n",
       "        vertical-align: top;\n",
       "    }\n",
       "\n",
       "    .dataframe thead th {\n",
       "        text-align: right;\n",
       "    }\n",
       "</style>\n",
       "<table border=\"1\" class=\"dataframe\">\n",
       "  <thead>\n",
       "    <tr style=\"text-align: right;\">\n",
       "      <th>trace_sig</th>\n",
       "      <th>0</th>\n",
       "      <th>1</th>\n",
       "    </tr>\n",
       "    <tr>\n",
       "      <th>eg_sig</th>\n",
       "      <th></th>\n",
       "      <th></th>\n",
       "    </tr>\n",
       "  </thead>\n",
       "  <tbody>\n",
       "    <tr>\n",
       "      <th>0</th>\n",
       "      <td>17994</td>\n",
       "      <td>1266</td>\n",
       "    </tr>\n",
       "    <tr>\n",
       "      <th>1</th>\n",
       "      <td>2814</td>\n",
       "      <td>630</td>\n",
       "    </tr>\n",
       "  </tbody>\n",
       "</table>\n",
       "</div>"
      ],
      "text/plain": [
       "trace_sig      0     1\n",
       "eg_sig                \n",
       "0          17994  1266\n",
       "1           2814   630"
      ]
     },
     "execution_count": 82,
     "metadata": {},
     "output_type": "execute_result"
    }
   ],
   "source": [
    "pd.crosstab(spreads.eg_sig, spreads.trace_sig)"
   ]
  },
  {
   "cell_type": "code",
   "execution_count": 83,
   "metadata": {
    "ExecuteTime": {
     "end_time": "2021-02-23T15:13:20.583606Z",
     "start_time": "2021-02-23T15:01:38.739Z"
    }
   },
   "outputs": [],
   "source": [
    "spreads['coint'] = (spreads.trace_sig & spreads.eg_sig).astype(int)"
   ]
  },
  {
   "cell_type": "code",
   "execution_count": 84,
   "metadata": {
    "ExecuteTime": {
     "end_time": "2021-02-23T15:13:20.585193Z",
     "start_time": "2021-02-23T15:01:38.741Z"
    }
   },
   "outputs": [
    {
     "name": "stdout",
     "output_type": "stream",
     "text": [
      "<class 'pandas.core.frame.DataFrame'>\n",
      "MultiIndex: 22704 entries, ('SPY.US', 'AAPL.US') to ('IDX.US', 'ADSK.US')\n",
      "Data columns (total 19 columns):\n",
      " #   Column     Non-Null Count  Dtype  \n",
      "---  ------     --------------  -----  \n",
      " 0   drift      22704 non-null  float64\n",
      " 1   vol        22704 non-null  float64\n",
      " 2   corr       22704 non-null  float64\n",
      " 3   corr_ret   22704 non-null  float64\n",
      " 4   n          22704 non-null  int64  \n",
      " 5   t1         22704 non-null  float64\n",
      " 6   p1         22704 non-null  float64\n",
      " 7   t2         22704 non-null  float64\n",
      " 8   p2         22704 non-null  float64\n",
      " 9   k_ar_diff  22704 non-null  int64  \n",
      " 10  trace0     22704 non-null  float64\n",
      " 11  trace1     22704 non-null  float64\n",
      " 12  name1      22704 non-null  object \n",
      " 13  name2      22704 non-null  object \n",
      " 14  t          22704 non-null  float64\n",
      " 15  p          22704 non-null  float64\n",
      " 16  trace_sig  22704 non-null  int32  \n",
      " 17  eg_sig     22704 non-null  int32  \n",
      " 18  coint      22704 non-null  int32  \n",
      "dtypes: float64(12), int32(3), int64(2), object(2)\n",
      "memory usage: 3.1+ MB\n"
     ]
    }
   ],
   "source": [
    "spreads.info()"
   ]
  },
  {
   "cell_type": "code",
   "execution_count": 85,
   "metadata": {
    "ExecuteTime": {
     "end_time": "2021-02-23T15:13:20.587625Z",
     "start_time": "2021-02-23T15:01:38.744Z"
    }
   },
   "outputs": [],
   "source": [
    "spreads = spreads.reset_index()"
   ]
  },
  {
   "cell_type": "code",
   "execution_count": 86,
   "metadata": {
    "ExecuteTime": {
     "end_time": "2021-02-23T15:13:20.588996Z",
     "start_time": "2021-02-23T15:01:38.746Z"
    }
   },
   "outputs": [
    {
     "data": {
      "image/png": "[encoded data removed]",
      "text/plain": [
       "<Figure size 640x480 with 1 Axes>"
      ]
     },
     "metadata": {},
     "output_type": "display_data"
    }
   ],
   "source": [
    "sns.scatterplot(x=np.log1p(spreads.t.abs()), \n",
    "                y=np.log1p(spreads.trace1), \n",
    "                hue='coint', data=spreads[spreads.trace0>trace0_cv]);"
   ]
  },
  {
   "cell_type": "code",
   "execution_count": 87,
   "metadata": {
    "ExecuteTime": {
     "end_time": "2021-02-23T15:13:20.589724Z",
     "start_time": "2021-02-23T15:01:38.749Z"
    }
   },
   "outputs": [],
   "source": [
    "spreads.to_hdf('heuristics.h5', 'spreads')"
   ]
  },
  {
   "cell_type": "code",
   "execution_count": 59,
   "metadata": {
    "ExecuteTime": {
     "end_time": "2021-02-23T15:13:20.590297Z",
     "start_time": "2021-02-23T15:01:38.751Z"
    }
   },
   "outputs": [],
   "source": [
    "spreads = pd.read_hdf('heuristics.h5', 'spreads')"
   ]
  },
  {
   "cell_type": "code",
   "execution_count": 70,
   "metadata": {},
   "outputs": [
    {
     "data": {
      "text/html": [
       "<div>\n",
       "<style scoped>\n",
       "    .dataframe tbody tr th:only-of-type {\n",
       "        vertical-align: middle;\n",
       "    }\n",
       "\n",
       "    .dataframe tbody tr th {\n",
       "        vertical-align: top;\n",
       "    }\n",
       "\n",
       "    .dataframe thead th {\n",
       "        text-align: right;\n",
       "    }\n",
       "</style>\n",
       "<table border=\"1\" class=\"dataframe\">\n",
       "  <thead>\n",
       "    <tr style=\"text-align: right;\">\n",
       "      <th></th>\n",
       "      <th>s1</th>\n",
       "      <th>s2</th>\n",
       "      <th>drift</th>\n",
       "      <th>vol</th>\n",
       "      <th>corr</th>\n",
       "      <th>corr_ret</th>\n",
       "      <th>n</th>\n",
       "      <th>t1</th>\n",
       "      <th>p1</th>\n",
       "      <th>t2</th>\n",
       "      <th>...</th>\n",
       "      <th>k_ar_diff</th>\n",
       "      <th>trace0</th>\n",
       "      <th>trace1</th>\n",
       "      <th>name1</th>\n",
       "      <th>name2</th>\n",
       "      <th>t</th>\n",
       "      <th>p</th>\n",
       "      <th>trace_sig</th>\n",
       "      <th>eg_sig</th>\n",
       "      <th>coint</th>\n",
       "    </tr>\n",
       "  </thead>\n",
       "  <tbody>\n",
       "    <tr>\n",
       "      <th>0</th>\n",
       "      <td>SPY.US</td>\n",
       "      <td>AAPL.US</td>\n",
       "      <td>0.00</td>\n",
       "      <td>0.16</td>\n",
       "      <td>0.95</td>\n",
       "      <td>0.74</td>\n",
       "      <td>252</td>\n",
       "      <td>-4.10</td>\n",
       "      <td>0.01</td>\n",
       "      <td>-3.32</td>\n",
       "      <td>...</td>\n",
       "      <td>1</td>\n",
       "      <td>20.42</td>\n",
       "      <td>0.96</td>\n",
       "      <td>SPDR S&amp;P 500 ETF TRUST</td>\n",
       "      <td>APPLE</td>\n",
       "      <td>-4.10</td>\n",
       "      <td>0.01</td>\n",
       "      <td>0</td>\n",
       "      <td>1</td>\n",
       "      <td>0</td>\n",
       "    </tr>\n",
       "    <tr>\n",
       "      <th>1</th>\n",
       "      <td>SPY.US</td>\n",
       "      <td>AMZN.US</td>\n",
       "      <td>-0.00</td>\n",
       "      <td>0.07</td>\n",
       "      <td>0.49</td>\n",
       "      <td>0.73</td>\n",
       "      <td>252</td>\n",
       "      <td>-0.39</td>\n",
       "      <td>0.97</td>\n",
       "      <td>-1.82</td>\n",
       "      <td>...</td>\n",
       "      <td>1</td>\n",
       "      <td>13.59</td>\n",
       "      <td>0.26</td>\n",
       "      <td>SPDR S&amp;P 500 ETF TRUST</td>\n",
       "      <td>AMAZON.COM</td>\n",
       "      <td>-1.82</td>\n",
       "      <td>0.62</td>\n",
       "      <td>0</td>\n",
       "      <td>0</td>\n",
       "      <td>0</td>\n",
       "    </tr>\n",
       "    <tr>\n",
       "      <th>2</th>\n",
       "      <td>SPY.US</td>\n",
       "      <td>MSFT.US</td>\n",
       "      <td>0.00</td>\n",
       "      <td>0.09</td>\n",
       "      <td>0.96</td>\n",
       "      <td>0.81</td>\n",
       "      <td>252</td>\n",
       "      <td>-2.80</td>\n",
       "      <td>0.17</td>\n",
       "      <td>-2.46</td>\n",
       "      <td>...</td>\n",
       "      <td>1</td>\n",
       "      <td>13.01</td>\n",
       "      <td>1.44</td>\n",
       "      <td>SPDR S&amp;P 500 ETF TRUST</td>\n",
       "      <td>MICROSOFT</td>\n",
       "      <td>-2.80</td>\n",
       "      <td>0.17</td>\n",
       "      <td>0</td>\n",
       "      <td>0</td>\n",
       "      <td>0</td>\n",
       "    </tr>\n",
       "    <tr>\n",
       "      <th>3</th>\n",
       "      <td>SPY.US</td>\n",
       "      <td>BAC.US</td>\n",
       "      <td>0.00</td>\n",
       "      <td>0.06</td>\n",
       "      <td>0.82</td>\n",
       "      <td>0.67</td>\n",
       "      <td>252</td>\n",
       "      <td>-2.01</td>\n",
       "      <td>0.52</td>\n",
       "      <td>-1.75</td>\n",
       "      <td>...</td>\n",
       "      <td>1</td>\n",
       "      <td>8.87</td>\n",
       "      <td>1.76</td>\n",
       "      <td>SPDR S&amp;P 500 ETF TRUST</td>\n",
       "      <td>BANK OF AMERICA</td>\n",
       "      <td>-2.01</td>\n",
       "      <td>0.52</td>\n",
       "      <td>0</td>\n",
       "      <td>0</td>\n",
       "      <td>0</td>\n",
       "    </tr>\n",
       "    <tr>\n",
       "      <th>4</th>\n",
       "      <td>SPY.US</td>\n",
       "      <td>GOOGL.US</td>\n",
       "      <td>-0.00</td>\n",
       "      <td>0.04</td>\n",
       "      <td>0.82</td>\n",
       "      <td>0.67</td>\n",
       "      <td>252</td>\n",
       "      <td>-2.36</td>\n",
       "      <td>0.35</td>\n",
       "      <td>-2.39</td>\n",
       "      <td>...</td>\n",
       "      <td>1</td>\n",
       "      <td>11.32</td>\n",
       "      <td>5.05</td>\n",
       "      <td>SPDR S&amp;P 500 ETF TRUST</td>\n",
       "      <td>ALPHABET</td>\n",
       "      <td>-2.39</td>\n",
       "      <td>0.33</td>\n",
       "      <td>0</td>\n",
       "      <td>0</td>\n",
       "      <td>0</td>\n",
       "    </tr>\n",
       "    <tr>\n",
       "      <th>...</th>\n",
       "      <td>...</td>\n",
       "      <td>...</td>\n",
       "      <td>...</td>\n",
       "      <td>...</td>\n",
       "      <td>...</td>\n",
       "      <td>...</td>\n",
       "      <td>...</td>\n",
       "      <td>...</td>\n",
       "      <td>...</td>\n",
       "      <td>...</td>\n",
       "      <td>...</td>\n",
       "      <td>...</td>\n",
       "      <td>...</td>\n",
       "      <td>...</td>\n",
       "      <td>...</td>\n",
       "      <td>...</td>\n",
       "      <td>...</td>\n",
       "      <td>...</td>\n",
       "      <td>...</td>\n",
       "      <td>...</td>\n",
       "      <td>...</td>\n",
       "    </tr>\n",
       "    <tr>\n",
       "      <th>22699</th>\n",
       "      <td>IDX.US</td>\n",
       "      <td>CLF.US</td>\n",
       "      <td>-0.00</td>\n",
       "      <td>0.16</td>\n",
       "      <td>0.37</td>\n",
       "      <td>0.31</td>\n",
       "      <td>252</td>\n",
       "      <td>-2.67</td>\n",
       "      <td>0.21</td>\n",
       "      <td>-1.95</td>\n",
       "      <td>...</td>\n",
       "      <td>1</td>\n",
       "      <td>17.36</td>\n",
       "      <td>5.68</td>\n",
       "      <td>VANECK INDONESIA ETF</td>\n",
       "      <td>CLEVELAND-CLIFFS</td>\n",
       "      <td>-2.67</td>\n",
       "      <td>0.21</td>\n",
       "      <td>1</td>\n",
       "      <td>0</td>\n",
       "      <td>0</td>\n",
       "    </tr>\n",
       "    <tr>\n",
       "      <th>22700</th>\n",
       "      <td>IDX.US</td>\n",
       "      <td>FITB.US</td>\n",
       "      <td>0.00</td>\n",
       "      <td>0.08</td>\n",
       "      <td>0.13</td>\n",
       "      <td>0.29</td>\n",
       "      <td>252</td>\n",
       "      <td>-2.63</td>\n",
       "      <td>0.23</td>\n",
       "      <td>-1.89</td>\n",
       "      <td>...</td>\n",
       "      <td>1</td>\n",
       "      <td>13.86</td>\n",
       "      <td>4.69</td>\n",
       "      <td>VANECK INDONESIA ETF</td>\n",
       "      <td>FIFTH THIRD BANCORP</td>\n",
       "      <td>-2.63</td>\n",
       "      <td>0.23</td>\n",
       "      <td>0</td>\n",
       "      <td>0</td>\n",
       "      <td>0</td>\n",
       "    </tr>\n",
       "    <tr>\n",
       "      <th>22701</th>\n",
       "      <td>IDX.US</td>\n",
       "      <td>GEN.US</td>\n",
       "      <td>0.00</td>\n",
       "      <td>0.10</td>\n",
       "      <td>0.21</td>\n",
       "      <td>0.19</td>\n",
       "      <td>252</td>\n",
       "      <td>-2.68</td>\n",
       "      <td>0.21</td>\n",
       "      <td>-2.06</td>\n",
       "      <td>...</td>\n",
       "      <td>1</td>\n",
       "      <td>14.68</td>\n",
       "      <td>5.73</td>\n",
       "      <td>VANECK INDONESIA ETF</td>\n",
       "      <td>GEN DIGITAL</td>\n",
       "      <td>-2.68</td>\n",
       "      <td>0.21</td>\n",
       "      <td>0</td>\n",
       "      <td>0</td>\n",
       "      <td>0</td>\n",
       "    </tr>\n",
       "    <tr>\n",
       "      <th>22702</th>\n",
       "      <td>IDX.US</td>\n",
       "      <td>GPS.US</td>\n",
       "      <td>-0.00</td>\n",
       "      <td>0.14</td>\n",
       "      <td>0.27</td>\n",
       "      <td>0.13</td>\n",
       "      <td>252</td>\n",
       "      <td>-2.76</td>\n",
       "      <td>0.18</td>\n",
       "      <td>-1.55</td>\n",
       "      <td>...</td>\n",
       "      <td>1</td>\n",
       "      <td>15.96</td>\n",
       "      <td>2.01</td>\n",
       "      <td>VANECK INDONESIA ETF</td>\n",
       "      <td>GAP</td>\n",
       "      <td>-2.76</td>\n",
       "      <td>0.18</td>\n",
       "      <td>0</td>\n",
       "      <td>0</td>\n",
       "      <td>0</td>\n",
       "    </tr>\n",
       "    <tr>\n",
       "      <th>22703</th>\n",
       "      <td>IDX.US</td>\n",
       "      <td>ADSK.US</td>\n",
       "      <td>0.00</td>\n",
       "      <td>0.11</td>\n",
       "      <td>0.05</td>\n",
       "      <td>0.32</td>\n",
       "      <td>252</td>\n",
       "      <td>-2.64</td>\n",
       "      <td>0.22</td>\n",
       "      <td>-1.95</td>\n",
       "      <td>...</td>\n",
       "      <td>1</td>\n",
       "      <td>16.05</td>\n",
       "      <td>6.76</td>\n",
       "      <td>VANECK INDONESIA ETF</td>\n",
       "      <td>AUTODESK</td>\n",
       "      <td>-2.64</td>\n",
       "      <td>0.22</td>\n",
       "      <td>1</td>\n",
       "      <td>0</td>\n",
       "      <td>0</td>\n",
       "    </tr>\n",
       "  </tbody>\n",
       "</table>\n",
       "<p>22704 rows × 21 columns</p>\n",
       "</div>"
      ],
      "text/plain": [
       "           s1        s2  drift  vol  corr  corr_ret    n    t1   p1    t2  \\\n",
       "0      SPY.US   AAPL.US   0.00 0.16  0.95      0.74  252 -4.10 0.01 -3.32   \n",
       "1      SPY.US   AMZN.US  -0.00 0.07  0.49      0.73  252 -0.39 0.97 -1.82   \n",
       "2      SPY.US   MSFT.US   0.00 0.09  0.96      0.81  252 -2.80 0.17 -2.46   \n",
       "3      SPY.US    BAC.US   0.00 0.06  0.82      0.67  252 -2.01 0.52 -1.75   \n",
       "4      SPY.US  GOOGL.US  -0.00 0.04  0.82      0.67  252 -2.36 0.35 -2.39   \n",
       "...       ...       ...    ...  ...   ...       ...  ...   ...  ...   ...   \n",
       "22699  IDX.US    CLF.US  -0.00 0.16  0.37      0.31  252 -2.67 0.21 -1.95   \n",
       "22700  IDX.US   FITB.US   0.00 0.08  0.13      0.29  252 -2.63 0.23 -1.89   \n",
       "22701  IDX.US    GEN.US   0.00 0.10  0.21      0.19  252 -2.68 0.21 -2.06   \n",
       "22702  IDX.US    GPS.US  -0.00 0.14  0.27      0.13  252 -2.76 0.18 -1.55   \n",
       "22703  IDX.US   ADSK.US   0.00 0.11  0.05      0.32  252 -2.64 0.22 -1.95   \n",
       "\n",
       "       ...  k_ar_diff  trace0  trace1                   name1  \\\n",
       "0      ...          1   20.42    0.96  SPDR S&P 500 ETF TRUST   \n",
       "1      ...          1   13.59    0.26  SPDR S&P 500 ETF TRUST   \n",
       "2      ...          1   13.01    1.44  SPDR S&P 500 ETF TRUST   \n",
       "3      ...          1    8.87    1.76  SPDR S&P 500 ETF TRUST   \n",
       "4      ...          1   11.32    5.05  SPDR S&P 500 ETF TRUST   \n",
       "...    ...        ...     ...     ...                     ...   \n",
       "22699  ...          1   17.36    5.68    VANECK INDONESIA ETF   \n",
       "22700  ...          1   13.86    4.69    VANECK INDONESIA ETF   \n",
       "22701  ...          1   14.68    5.73    VANECK INDONESIA ETF   \n",
       "22702  ...          1   15.96    2.01    VANECK INDONESIA ETF   \n",
       "22703  ...          1   16.05    6.76    VANECK INDONESIA ETF   \n",
       "\n",
       "                     name2     t    p  trace_sig  eg_sig  coint  \n",
       "0                    APPLE -4.10 0.01          0       1      0  \n",
       "1               AMAZON.COM -1.82 0.62          0       0      0  \n",
       "2                MICROSOFT -2.80 0.17          0       0      0  \n",
       "3          BANK OF AMERICA -2.01 0.52          0       0      0  \n",
       "4                 ALPHABET -2.39 0.33          0       0      0  \n",
       "...                    ...   ...  ...        ...     ...    ...  \n",
       "22699     CLEVELAND-CLIFFS -2.67 0.21          1       0      0  \n",
       "22700  FIFTH THIRD BANCORP -2.63 0.23          0       0      0  \n",
       "22701          GEN DIGITAL -2.68 0.21          0       0      0  \n",
       "22702                  GAP -2.76 0.18          0       0      0  \n",
       "22703             AUTODESK -2.64 0.22          1       0      0  \n",
       "\n",
       "[22704 rows x 21 columns]"
      ]
     },
     "execution_count": 70,
     "metadata": {},
     "output_type": "execute_result"
    }
   ],
   "source": [
    "spreads"
   ]
  },
  {
   "cell_type": "markdown",
   "metadata": {},
   "source": [
    "### Evaluate Heuristics"
   ]
  },
  {
   "cell_type": "code",
   "execution_count": 71,
   "metadata": {
    "ExecuteTime": {
     "end_time": "2021-02-23T15:13:20.590796Z",
     "start_time": "2021-02-23T15:01:38.755Z"
    }
   },
   "outputs": [],
   "source": [
    "spreads.drift = spreads.drift.abs()"
   ]
  },
  {
   "cell_type": "code",
   "execution_count": 72,
   "metadata": {
    "ExecuteTime": {
     "end_time": "2021-02-23T15:13:20.591326Z",
     "start_time": "2021-02-23T15:01:38.757Z"
    }
   },
   "outputs": [
    {
     "data": {
      "text/html": [
       "<div>\n",
       "<style scoped>\n",
       "    .dataframe tbody tr th:only-of-type {\n",
       "        vertical-align: middle;\n",
       "    }\n",
       "\n",
       "    .dataframe tbody tr th {\n",
       "        vertical-align: top;\n",
       "    }\n",
       "\n",
       "    .dataframe thead th {\n",
       "        text-align: right;\n",
       "    }\n",
       "</style>\n",
       "<table border=\"1\" class=\"dataframe\">\n",
       "  <thead>\n",
       "    <tr style=\"text-align: right;\">\n",
       "      <th>trace_sig</th>\n",
       "      <th>0</th>\n",
       "      <th>1</th>\n",
       "    </tr>\n",
       "    <tr>\n",
       "      <th>eg_sig</th>\n",
       "      <th></th>\n",
       "      <th></th>\n",
       "    </tr>\n",
       "  </thead>\n",
       "  <tbody>\n",
       "    <tr>\n",
       "      <th>0</th>\n",
       "      <td>17994</td>\n",
       "      <td>1266</td>\n",
       "    </tr>\n",
       "    <tr>\n",
       "      <th>1</th>\n",
       "      <td>2814</td>\n",
       "      <td>630</td>\n",
       "    </tr>\n",
       "  </tbody>\n",
       "</table>\n",
       "</div>"
      ],
      "text/plain": [
       "trace_sig      0     1\n",
       "eg_sig                \n",
       "0          17994  1266\n",
       "1           2814   630"
      ]
     },
     "execution_count": 72,
     "metadata": {},
     "output_type": "execute_result"
    }
   ],
   "source": [
    "pd.crosstab(spreads.eg_sig, spreads.trace_sig)"
   ]
  },
  {
   "cell_type": "code",
   "execution_count": 73,
   "metadata": {
    "ExecuteTime": {
     "end_time": "2021-02-23T15:13:20.591967Z",
     "start_time": "2021-02-23T15:01:38.760Z"
    },
    "scrolled": false
   },
   "outputs": [
    {
     "data": {
      "text/html": [
       "<div>\n",
       "<style scoped>\n",
       "    .dataframe tbody tr th:only-of-type {\n",
       "        vertical-align: middle;\n",
       "    }\n",
       "\n",
       "    .dataframe tbody tr th {\n",
       "        vertical-align: top;\n",
       "    }\n",
       "\n",
       "    .dataframe thead th {\n",
       "        text-align: right;\n",
       "    }\n",
       "</style>\n",
       "<table border=\"1\" class=\"dataframe\">\n",
       "  <thead>\n",
       "    <tr style=\"text-align: right;\">\n",
       "      <th>trace_sig</th>\n",
       "      <th>0</th>\n",
       "      <th>1</th>\n",
       "    </tr>\n",
       "    <tr>\n",
       "      <th>eg_sig</th>\n",
       "      <th></th>\n",
       "      <th></th>\n",
       "    </tr>\n",
       "  </thead>\n",
       "  <tbody>\n",
       "    <tr>\n",
       "      <th>0</th>\n",
       "      <td>79.25%</td>\n",
       "      <td>5.58%</td>\n",
       "    </tr>\n",
       "    <tr>\n",
       "      <th>1</th>\n",
       "      <td>12.39%</td>\n",
       "      <td>2.77%</td>\n",
       "    </tr>\n",
       "  </tbody>\n",
       "</table>\n",
       "</div>"
      ],
      "text/plain": [
       "trace_sig      0     1\n",
       "eg_sig                \n",
       "0         79.25% 5.58%\n",
       "1         12.39% 2.77%"
      ]
     },
     "execution_count": 73,
     "metadata": {},
     "output_type": "execute_result"
    }
   ],
   "source": [
    "pd.set_option('display.float_format', lambda x: f'{x:.2%}')\n",
    "pd.crosstab(spreads.eg_sig, spreads.trace_sig, normalize=True)"
   ]
  },
  {
   "cell_type": "code",
   "execution_count": 74,
   "metadata": {
    "ExecuteTime": {
     "end_time": "2021-02-23T15:13:20.592458Z",
     "start_time": "2021-02-23T15:01:38.762Z"
    }
   },
   "outputs": [
    {
     "data": {
      "image/png": "[encoded data removed]",
      "text/plain": [
       "<Figure size 2000x500 with 4 Axes>"
      ]
     },
     "metadata": {},
     "output_type": "display_data"
    }
   ],
   "source": [
    "fig, axes = plt.subplots(ncols=4, figsize=(20, 5))\n",
    "for i, heuristic in enumerate(['drift', 'vol', 'corr', 'corr_ret']):\n",
    "    sns.boxplot(x='coint', y=heuristic, data=spreads, ax=axes[i])\n",
    "fig.tight_layout();"
   ]
  },
  {
   "cell_type": "markdown",
   "metadata": {},
   "source": [
    "### How well do the heuristics predict significant cointegration?"
   ]
  },
  {
   "cell_type": "markdown",
   "metadata": {},
   "source": [
    "When we compare the distributions of the heuristics for series that are cointegrated according to both tests with the remainder that is not, volatility and drift are indeed lower (in absolute terms). Figure 9.14 shows that the picture is less clear for the two correlation measures:"
   ]
  },
  {
   "cell_type": "code",
   "execution_count": 75,
   "metadata": {
    "ExecuteTime": {
     "end_time": "2021-02-23T15:13:20.592973Z",
     "start_time": "2021-02-23T15:01:38.765Z"
    },
    "scrolled": true
   },
   "outputs": [
    {
     "data": {
      "text/html": [
       "<div>\n",
       "<style scoped>\n",
       "    .dataframe tbody tr th:only-of-type {\n",
       "        vertical-align: middle;\n",
       "    }\n",
       "\n",
       "    .dataframe tbody tr th {\n",
       "        vertical-align: top;\n",
       "    }\n",
       "\n",
       "    .dataframe thead th {\n",
       "        text-align: right;\n",
       "    }\n",
       "</style>\n",
       "<table border=\"1\" class=\"dataframe\">\n",
       "  <thead>\n",
       "    <tr style=\"text-align: right;\">\n",
       "      <th></th>\n",
       "      <th></th>\n",
       "      <th>25%</th>\n",
       "      <th>50%</th>\n",
       "      <th>75%</th>\n",
       "      <th>count</th>\n",
       "      <th>max</th>\n",
       "      <th>mean</th>\n",
       "      <th>min</th>\n",
       "      <th>std</th>\n",
       "    </tr>\n",
       "    <tr>\n",
       "      <th></th>\n",
       "      <th>coint</th>\n",
       "      <th></th>\n",
       "      <th></th>\n",
       "      <th></th>\n",
       "      <th></th>\n",
       "      <th></th>\n",
       "      <th></th>\n",
       "      <th></th>\n",
       "      <th></th>\n",
       "    </tr>\n",
       "  </thead>\n",
       "  <tbody>\n",
       "    <tr>\n",
       "      <th rowspan=\"2\" valign=\"top\">corr</th>\n",
       "      <th>0</th>\n",
       "      <td>-18.73%</td>\n",
       "      <td>30.58%</td>\n",
       "      <td>63.91%</td>\n",
       "      <td>2207400.00%</td>\n",
       "      <td>98.91%</td>\n",
       "      <td>20.60%</td>\n",
       "      <td>-97.06%</td>\n",
       "      <td>51.30%</td>\n",
       "    </tr>\n",
       "    <tr>\n",
       "      <th>1</th>\n",
       "      <td>-8.51%</td>\n",
       "      <td>46.42%</td>\n",
       "      <td>76.27%</td>\n",
       "      <td>63000.00%</td>\n",
       "      <td>98.76%</td>\n",
       "      <td>30.09%</td>\n",
       "      <td>-91.32%</td>\n",
       "      <td>55.92%</td>\n",
       "    </tr>\n",
       "    <tr>\n",
       "      <th rowspan=\"2\" valign=\"top\">drift</th>\n",
       "      <th>0</th>\n",
       "      <td>0.05%</td>\n",
       "      <td>0.10%</td>\n",
       "      <td>0.17%</td>\n",
       "      <td>2207400.00%</td>\n",
       "      <td>0.82%</td>\n",
       "      <td>0.12%</td>\n",
       "      <td>0.00%</td>\n",
       "      <td>0.10%</td>\n",
       "    </tr>\n",
       "    <tr>\n",
       "      <th>1</th>\n",
       "      <td>0.02%</td>\n",
       "      <td>0.06%</td>\n",
       "      <td>0.12%</td>\n",
       "      <td>63000.00%</td>\n",
       "      <td>0.38%</td>\n",
       "      <td>0.08%</td>\n",
       "      <td>0.00%</td>\n",
       "      <td>0.08%</td>\n",
       "    </tr>\n",
       "    <tr>\n",
       "      <th rowspan=\"2\" valign=\"top\">vol</th>\n",
       "      <th>0</th>\n",
       "      <td>7.92%</td>\n",
       "      <td>10.85%</td>\n",
       "      <td>15.70%</td>\n",
       "      <td>2207400.00%</td>\n",
       "      <td>62.66%</td>\n",
       "      <td>12.65%</td>\n",
       "      <td>1.58%</td>\n",
       "      <td>6.66%</td>\n",
       "    </tr>\n",
       "    <tr>\n",
       "      <th>1</th>\n",
       "      <td>5.58%</td>\n",
       "      <td>7.97%</td>\n",
       "      <td>11.85%</td>\n",
       "      <td>63000.00%</td>\n",
       "      <td>30.61%</td>\n",
       "      <td>9.47%</td>\n",
       "      <td>2.55%</td>\n",
       "      <td>5.27%</td>\n",
       "    </tr>\n",
       "  </tbody>\n",
       "</table>\n",
       "</div>"
      ],
      "text/plain": [
       "                25%    50%    75%       count    max   mean     min    std\n",
       "      coint                                                               \n",
       "corr  0     -18.73% 30.58% 63.91% 2207400.00% 98.91% 20.60% -97.06% 51.30%\n",
       "      1      -8.51% 46.42% 76.27%   63000.00% 98.76% 30.09% -91.32% 55.92%\n",
       "drift 0       0.05%  0.10%  0.17% 2207400.00%  0.82%  0.12%   0.00%  0.10%\n",
       "      1       0.02%  0.06%  0.12%   63000.00%  0.38%  0.08%   0.00%  0.08%\n",
       "vol   0       7.92% 10.85% 15.70% 2207400.00% 62.66% 12.65%   1.58%  6.66%\n",
       "      1       5.58%  7.97% 11.85%   63000.00% 30.61%  9.47%   2.55%  5.27%"
      ]
     },
     "execution_count": 75,
     "metadata": {},
     "output_type": "execute_result"
    }
   ],
   "source": [
    "spreads.groupby(spreads.coint)['drift', 'vol', 'corr'].describe().stack(level=0).swaplevel().sort_index()"
   ]
  },
  {
   "cell_type": "code",
   "execution_count": 76,
   "metadata": {
    "ExecuteTime": {
     "end_time": "2021-02-23T15:13:20.593502Z",
     "start_time": "2021-02-23T15:01:38.770Z"
    }
   },
   "outputs": [
    {
     "data": {
      "text/plain": [
       "0    22074\n",
       "1      630\n",
       "Name: coint, dtype: int64"
      ]
     },
     "execution_count": 76,
     "metadata": {},
     "output_type": "execute_result"
    }
   ],
   "source": [
    "spreads.coint.value_counts()"
   ]
  },
  {
   "cell_type": "markdown",
   "metadata": {},
   "source": [
    "#### Logistic Regression"
   ]
  },
  {
   "cell_type": "code",
   "execution_count": 77,
   "metadata": {
    "ExecuteTime": {
     "end_time": "2021-02-23T15:13:20.594154Z",
     "start_time": "2021-02-23T15:01:38.777Z"
    }
   },
   "outputs": [],
   "source": [
    "y = spreads.coint\n",
    "X = spreads[['drift', 'vol', 'corr', 'corr_ret']]\n",
    "# X = spreads[['drift', 'vol']]"
   ]
  },
  {
   "cell_type": "code",
   "execution_count": 78,
   "metadata": {
    "ExecuteTime": {
     "end_time": "2021-02-23T15:13:20.594658Z",
     "start_time": "2021-02-23T15:01:38.782Z"
    }
   },
   "outputs": [],
   "source": [
    "kf = StratifiedKFold(n_splits=5, shuffle=True)"
   ]
  },
  {
   "cell_type": "code",
   "execution_count": 79,
   "metadata": {
    "ExecuteTime": {
     "end_time": "2021-02-23T15:13:20.595242Z",
     "start_time": "2021-02-23T15:01:38.787Z"
    }
   },
   "outputs": [],
   "source": [
    "log_reg = LogisticRegressionCV(Cs=np.logspace(-10, 10, 21), \n",
    "                               class_weight='balanced',\n",
    "                               scoring='roc_auc')"
   ]
  },
  {
   "cell_type": "code",
   "execution_count": 80,
   "metadata": {
    "ExecuteTime": {
     "end_time": "2021-02-23T15:13:20.595833Z",
     "start_time": "2021-02-23T15:01:38.792Z"
    }
   },
   "outputs": [
    {
     "data": {
      "text/plain": [
       "'C:3.00, AUC: 66.16%'"
      ]
     },
     "execution_count": 80,
     "metadata": {},
     "output_type": "execute_result"
    },
    {
     "data": {
      "image/png": "[encoded data removed]",
      "text/plain": [
       "<Figure size 640x480 with 1 Axes>"
      ]
     },
     "metadata": {},
     "output_type": "display_data"
    }
   ],
   "source": [
    "log_reg.fit(X=X, y=y)\n",
    "Cs = log_reg.Cs_\n",
    "scores = pd.DataFrame(log_reg.scores_[True], columns=Cs).mean()\n",
    "scores.plot(logx=True);\n",
    "f'C:{np.log10(scores.idxmax()):.2f}, AUC: {scores.max():.2%}'"
   ]
  },
  {
   "cell_type": "code",
   "execution_count": 81,
   "metadata": {
    "ExecuteTime": {
     "end_time": "2021-02-23T15:13:20.596334Z",
     "start_time": "2021-02-23T15:01:38.797Z"
    }
   },
   "outputs": [
    {
     "data": {
      "text/plain": [
       "array([[ 1.13884957e+02, -1.23835244e+01, -8.74269283e-02,\n",
       "        -8.01512055e-01]])"
      ]
     },
     "execution_count": 81,
     "metadata": {},
     "output_type": "execute_result"
    }
   ],
   "source": [
    "log_reg.coef_"
   ]
  },
  {
   "cell_type": "code",
   "execution_count": 82,
   "metadata": {
    "ExecuteTime": {
     "end_time": "2021-02-23T15:13:20.596850Z",
     "start_time": "2021-02-23T15:01:38.801Z"
    }
   },
   "outputs": [
    {
     "data": {
      "text/plain": [
       "array([[11398, 10676],\n",
       "       [  189,   441]], dtype=int64)"
      ]
     },
     "execution_count": 82,
     "metadata": {},
     "output_type": "execute_result"
    }
   ],
   "source": [
    "y_pred = log_reg.predict_proba(X)[:, 1]\n",
    "confusion_matrix(y_true=spreads.coint, y_pred=(y_pred>.5))"
   ]
  },
  {
   "cell_type": "code",
   "execution_count": 83,
   "metadata": {
    "ExecuteTime": {
     "end_time": "2021-02-23T15:13:20.597418Z",
     "start_time": "2021-02-23T15:01:38.807Z"
    }
   },
   "outputs": [
    {
     "data": {
      "text/html": [
       "<div>\n",
       "<style scoped>\n",
       "    .dataframe tbody tr th:only-of-type {\n",
       "        vertical-align: middle;\n",
       "    }\n",
       "\n",
       "    .dataframe tbody tr th {\n",
       "        vertical-align: top;\n",
       "    }\n",
       "\n",
       "    .dataframe thead th {\n",
       "        text-align: right;\n",
       "    }\n",
       "</style>\n",
       "<table border=\"1\" class=\"dataframe\">\n",
       "  <thead>\n",
       "    <tr style=\"text-align: right;\">\n",
       "      <th></th>\n",
       "      <th>count</th>\n",
       "      <th>mean</th>\n",
       "      <th>std</th>\n",
       "      <th>min</th>\n",
       "      <th>25%</th>\n",
       "      <th>50%</th>\n",
       "      <th>75%</th>\n",
       "      <th>max</th>\n",
       "    </tr>\n",
       "    <tr>\n",
       "      <th>coint</th>\n",
       "      <th></th>\n",
       "      <th></th>\n",
       "      <th></th>\n",
       "      <th></th>\n",
       "      <th></th>\n",
       "      <th></th>\n",
       "      <th></th>\n",
       "      <th></th>\n",
       "    </tr>\n",
       "  </thead>\n",
       "  <tbody>\n",
       "    <tr>\n",
       "      <th>0</th>\n",
       "      <td>2207400.00%</td>\n",
       "      <td>46.08%</td>\n",
       "      <td>14.50%</td>\n",
       "      <td>0.39%</td>\n",
       "      <td>37.26%</td>\n",
       "      <td>49.44%</td>\n",
       "      <td>56.56%</td>\n",
       "      <td>79.63%</td>\n",
       "    </tr>\n",
       "    <tr>\n",
       "      <th>1</th>\n",
       "      <td>63000.00%</td>\n",
       "      <td>53.92%</td>\n",
       "      <td>12.05%</td>\n",
       "      <td>11.85%</td>\n",
       "      <td>48.37%</td>\n",
       "      <td>56.81%</td>\n",
       "      <td>62.04%</td>\n",
       "      <td>77.19%</td>\n",
       "    </tr>\n",
       "  </tbody>\n",
       "</table>\n",
       "</div>"
      ],
      "text/plain": [
       "            count   mean    std    min    25%    50%    75%    max\n",
       "coint                                                             \n",
       "0     2207400.00% 46.08% 14.50%  0.39% 37.26% 49.44% 56.56% 79.63%\n",
       "1       63000.00% 53.92% 12.05% 11.85% 48.37% 56.81% 62.04% 77.19%"
      ]
     },
     "execution_count": 83,
     "metadata": {},
     "output_type": "execute_result"
    }
   ],
   "source": [
    "spreads.assign(y_pred=log_reg.predict_proba(X)[:, 1]).groupby(spreads.coint).y_pred.describe()"
   ]
  },
  {
   "cell_type": "markdown",
   "metadata": {},
   "source": [
    "#### Decision Tree Classifier"
   ]
  },
  {
   "cell_type": "code",
   "execution_count": 89,
   "metadata": {
    "ExecuteTime": {
     "end_time": "2021-02-23T15:13:20.597962Z",
     "start_time": "2021-02-23T15:01:38.813Z"
    }
   },
   "outputs": [],
   "source": [
    "model = DecisionTreeClassifier(class_weight='balanced')\n",
    "decision_tree = GridSearchCV(model,\n",
    "                             param_grid={'max_depth': list(range(1, 10))},\n",
    "                             cv=5,\n",
    "                             scoring='roc_auc')"
   ]
  },
  {
   "cell_type": "code",
   "execution_count": 90,
   "metadata": {
    "ExecuteTime": {
     "end_time": "2021-02-23T15:13:20.598628Z",
     "start_time": "2021-02-23T15:01:38.817Z"
    }
   },
   "outputs": [
    {
     "data": {
      "text/html": [
       "<style>#sk-container-id-1 {color: black;background-color: white;}#sk-container-id-1 pre{padding: 0;}#sk-container-id-1 div.sk-toggleable {background-color: white;}#sk-container-id-1 label.sk-toggleable__label {cursor: pointer;display: block;width: 100%;margin-bottom: 0;padding: 0.3em;box-sizing: border-box;text-align: center;}#sk-container-id-1 label.sk-toggleable__label-arrow:before {content: \"▸\";float: left;margin-right: 0.25em;color: #696969;}#sk-container-id-1 label.sk-toggleable__label-arrow:hover:before {color: black;}#sk-container-id-1 div.sk-estimator:hover label.sk-toggleable__label-arrow:before {color: black;}#sk-container-id-1 div.sk-toggleable__content {max-height: 0;max-width: 0;overflow: hidden;text-align: left;background-color: #f0f8ff;}#sk-container-id-1 div.sk-toggleable__content pre {margin: 0.2em;color: black;border-radius: 0.25em;background-color: #f0f8ff;}#sk-container-id-1 input.sk-toggleable__control:checked~div.sk-toggleable__content {max-height: 200px;max-width: 100%;overflow: auto;}#sk-container-id-1 input.sk-toggleable__control:checked~label.sk-toggleable__label-arrow:before {content: \"▾\";}#sk-container-id-1 div.sk-estimator input.sk-toggleable__control:checked~label.sk-toggleable__label {background-color: #d4ebff;}#sk-container-id-1 div.sk-label input.sk-toggleable__control:checked~label.sk-toggleable__label {background-color: #d4ebff;}#sk-container-id-1 input.sk-hidden--visually {border: 0;clip: rect(1px 1px 1px 1px);clip: rect(1px, 1px, 1px, 1px);height: 1px;margin: -1px;overflow: hidden;padding: 0;position: absolute;width: 1px;}#sk-container-id-1 div.sk-estimator {font-family: monospace;background-color: #f0f8ff;border: 1px dotted black;border-radius: 0.25em;box-sizing: border-box;margin-bottom: 0.5em;}#sk-container-id-1 div.sk-estimator:hover {background-color: #d4ebff;}#sk-container-id-1 div.sk-parallel-item::after {content: \"\";width: 100%;border-bottom: 1px solid gray;flex-grow: 1;}#sk-container-id-1 div.sk-label:hover label.sk-toggleable__label {background-color: #d4ebff;}#sk-container-id-1 div.sk-serial::before {content: \"\";position: absolute;border-left: 1px solid gray;box-sizing: border-box;top: 0;bottom: 0;left: 50%;z-index: 0;}#sk-container-id-1 div.sk-serial {display: flex;flex-direction: column;align-items: center;background-color: white;padding-right: 0.2em;padding-left: 0.2em;position: relative;}#sk-container-id-1 div.sk-item {position: relative;z-index: 1;}#sk-container-id-1 div.sk-parallel {display: flex;align-items: stretch;justify-content: center;background-color: white;position: relative;}#sk-container-id-1 div.sk-item::before, #sk-container-id-1 div.sk-parallel-item::before {content: \"\";position: absolute;border-left: 1px solid gray;box-sizing: border-box;top: 0;bottom: 0;left: 50%;z-index: -1;}#sk-container-id-1 div.sk-parallel-item {display: flex;flex-direction: column;z-index: 1;position: relative;background-color: white;}#sk-container-id-1 div.sk-parallel-item:first-child::after {align-self: flex-end;width: 50%;}#sk-container-id-1 div.sk-parallel-item:last-child::after {align-self: flex-start;width: 50%;}#sk-container-id-1 div.sk-parallel-item:only-child::after {width: 0;}#sk-container-id-1 div.sk-dashed-wrapped {border: 1px dashed gray;margin: 0 0.4em 0.5em 0.4em;box-sizing: border-box;padding-bottom: 0.4em;background-color: white;}#sk-container-id-1 div.sk-label label {font-family: monospace;font-weight: bold;display: inline-block;line-height: 1.2em;}#sk-container-id-1 div.sk-label-container {text-align: center;}#sk-container-id-1 div.sk-container {/* jupyter's `normalize.less` sets `[hidden] { display: none; }` but bootstrap.min.css set `[hidden] { display: none !important; }` so we also need the `!important` here to be able to override the default hidden behavior on the sphinx rendered scikit-learn.org. See: https://github.com/scikit-learn/scikit-learn/issues/21755 */display: inline-block !important;position: relative;}#sk-container-id-1 div.sk-text-repr-fallback {display: none;}</style><div id=\"sk-container-id-1\" class=\"sk-top-container\"><div class=\"sk-text-repr-fallback\"><pre>GridSearchCV(cv=5, estimator=DecisionTreeClassifier(class_weight=&#x27;balanced&#x27;),\n",
       "             param_grid={&#x27;max_depth&#x27;: [1, 2, 3, 4, 5, 6, 7, 8, 9]},\n",
       "             scoring=&#x27;roc_auc&#x27;)</pre><b>In a Jupyter environment, please rerun this cell to show the HTML representation or trust the notebook. <br />On GitHub, the HTML representation is unable to render, please try loading this page with nbviewer.org.</b></div><div class=\"sk-container\" hidden><div class=\"sk-item sk-dashed-wrapped\"><div class=\"sk-label-container\"><div class=\"sk-label sk-toggleable\"><input class=\"sk-toggleable__control sk-hidden--visually\" id=\"sk-estimator-id-1\" type=\"checkbox\" ><label for=\"sk-estimator-id-1\" class=\"sk-toggleable__label sk-toggleable__label-arrow\">GridSearchCV</label><div class=\"sk-toggleable__content\"><pre>GridSearchCV(cv=5, estimator=DecisionTreeClassifier(class_weight=&#x27;balanced&#x27;),\n",
       "             param_grid={&#x27;max_depth&#x27;: [1, 2, 3, 4, 5, 6, 7, 8, 9]},\n",
       "             scoring=&#x27;roc_auc&#x27;)</pre></div></div></div><div class=\"sk-parallel\"><div class=\"sk-parallel-item\"><div class=\"sk-item\"><div class=\"sk-label-container\"><div class=\"sk-label sk-toggleable\"><input class=\"sk-toggleable__control sk-hidden--visually\" id=\"sk-estimator-id-2\" type=\"checkbox\" ><label for=\"sk-estimator-id-2\" class=\"sk-toggleable__label sk-toggleable__label-arrow\">estimator: DecisionTreeClassifier</label><div class=\"sk-toggleable__content\"><pre>DecisionTreeClassifier(class_weight=&#x27;balanced&#x27;)</pre></div></div></div><div class=\"sk-serial\"><div class=\"sk-item\"><div class=\"sk-estimator sk-toggleable\"><input class=\"sk-toggleable__control sk-hidden--visually\" id=\"sk-estimator-id-3\" type=\"checkbox\" ><label for=\"sk-estimator-id-3\" class=\"sk-toggleable__label sk-toggleable__label-arrow\">DecisionTreeClassifier</label><div class=\"sk-toggleable__content\"><pre>DecisionTreeClassifier(class_weight=&#x27;balanced&#x27;)</pre></div></div></div></div></div></div></div></div></div></div>"
      ],
      "text/plain": [
       "GridSearchCV(cv=5, estimator=DecisionTreeClassifier(class_weight='balanced'),\n",
       "             param_grid={'max_depth': [1, 2, 3, 4, 5, 6, 7, 8, 9]},\n",
       "             scoring='roc_auc')"
      ]
     },
     "execution_count": 90,
     "metadata": {},
     "output_type": "execute_result"
    }
   ],
   "source": [
    "decision_tree.fit(X=X, y=y)"
   ]
  },
  {
   "cell_type": "code",
   "execution_count": 91,
   "metadata": {
    "ExecuteTime": {
     "end_time": "2021-02-23T15:13:20.599171Z",
     "start_time": "2021-02-23T15:01:38.822Z"
    }
   },
   "outputs": [
    {
     "data": {
      "text/plain": [
       "'69.73%, Depth: 4'"
      ]
     },
     "execution_count": 91,
     "metadata": {},
     "output_type": "execute_result"
    }
   ],
   "source": [
    "f'{decision_tree.best_score_:.2%}, Depth: {decision_tree.best_params_[\"max_depth\"]}'"
   ]
  },
  {
   "cell_type": "code",
   "execution_count": 92,
   "metadata": {
    "ExecuteTime": {
     "end_time": "2021-02-23T15:13:20.599733Z",
     "start_time": "2021-02-23T15:01:38.828Z"
    }
   },
   "outputs": [
    {
     "data": {
      "image/png": "[encoded data removed]",
      "text/plain": [
       "<Figure size 640x480 with 1 Axes>"
      ]
     },
     "metadata": {},
     "output_type": "display_data"
    }
   ],
   "source": [
    "pd.Series(data=decision_tree.best_estimator_.feature_importances_, \n",
    "          index=X.columns).sort_values().plot.barh(title='Feature Importance')\n",
    "sns.despine();"
   ]
  },
  {
   "cell_type": "code",
   "execution_count": 94,
   "metadata": {
    "ExecuteTime": {
     "end_time": "2021-02-23T15:13:20.600289Z",
     "start_time": "2021-02-23T15:01:38.832Z"
    }
   },
   "outputs": [
    {
     "data": {
      "text/html": [
       "<div>\n",
       "<style scoped>\n",
       "    .dataframe tbody tr th:only-of-type {\n",
       "        vertical-align: middle;\n",
       "    }\n",
       "\n",
       "    .dataframe tbody tr th {\n",
       "        vertical-align: top;\n",
       "    }\n",
       "\n",
       "    .dataframe thead th {\n",
       "        text-align: right;\n",
       "    }\n",
       "</style>\n",
       "<table border=\"1\" class=\"dataframe\">\n",
       "  <thead>\n",
       "    <tr style=\"text-align: right;\">\n",
       "      <th></th>\n",
       "      <th>count</th>\n",
       "      <th>mean</th>\n",
       "      <th>std</th>\n",
       "      <th>min</th>\n",
       "      <th>25%</th>\n",
       "      <th>50%</th>\n",
       "      <th>75%</th>\n",
       "      <th>max</th>\n",
       "    </tr>\n",
       "    <tr>\n",
       "      <th>coint</th>\n",
       "      <th></th>\n",
       "      <th></th>\n",
       "      <th></th>\n",
       "      <th></th>\n",
       "      <th></th>\n",
       "      <th></th>\n",
       "      <th></th>\n",
       "      <th></th>\n",
       "    </tr>\n",
       "  </thead>\n",
       "  <tbody>\n",
       "    <tr>\n",
       "      <th>0</th>\n",
       "      <td>2207400.00%</td>\n",
       "      <td>39.75%</td>\n",
       "      <td>18.78%</td>\n",
       "      <td>0.00%</td>\n",
       "      <td>23.91%</td>\n",
       "      <td>39.52%</td>\n",
       "      <td>45.23%</td>\n",
       "      <td>91.13%</td>\n",
       "    </tr>\n",
       "    <tr>\n",
       "      <th>1</th>\n",
       "      <td>63000.00%</td>\n",
       "      <td>60.25%</td>\n",
       "      <td>21.51%</td>\n",
       "      <td>23.91%</td>\n",
       "      <td>45.23%</td>\n",
       "      <td>65.87%</td>\n",
       "      <td>77.91%</td>\n",
       "      <td>91.13%</td>\n",
       "    </tr>\n",
       "  </tbody>\n",
       "</table>\n",
       "</div>"
      ],
      "text/plain": [
       "            count   mean    std    min    25%    50%    75%    max\n",
       "coint                                                             \n",
       "0     2207400.00% 39.75% 18.78%  0.00% 23.91% 39.52% 45.23% 91.13%\n",
       "1       63000.00% 60.25% 21.51% 23.91% 45.23% 65.87% 77.91% 91.13%"
      ]
     },
     "execution_count": 94,
     "metadata": {},
     "output_type": "execute_result"
    }
   ],
   "source": [
    "spreads.assign(y_pred=decision_tree.predict_proba(X)[:, 1]).groupby(spreads.coint).y_pred.describe()"
   ]
  },
  {
   "cell_type": "code",
   "execution_count": 95,
   "metadata": {
    "ExecuteTime": {
     "end_time": "2021-02-23T15:13:20.600835Z",
     "start_time": "2021-02-23T15:01:38.838Z"
    }
   },
   "outputs": [
    {
     "data": {
      "image/png": "[encoded data removed]",
      "text/plain": [
       "<Figure size 500x500 with 1 Axes>"
      ]
     },
     "metadata": {},
     "output_type": "display_data"
    }
   ],
   "source": [
    "sns.catplot(x='coint', \n",
    "            y='y_pred', \n",
    "            data=spreads.assign(y_pred=decision_tree.predict_proba(X)[:, 1]), \n",
    "            kind='box');"
   ]
  },
  {
   "cell_type": "code",
   "execution_count": null,
   "metadata": {},
   "outputs": [],
   "source": []
  }
 ],
 "metadata": {
  "kernelspec": {
   "display_name": "Python 3 (ipykernel)",
   "language": "python",
   "name": "python3"
  },
  "language_info": {
   "codemirror_mode": {
    "name": "ipython",
    "version": 3
   },
   "file_extension": ".py",
   "mimetype": "text/x-python",
   "name": "python",
   "nbconvert_exporter": "python",
   "pygments_lexer": "ipython3",
   "version": "3.8.13"
  },
  "toc": {
   "base_numbering": 1,
   "nav_menu": {},
   "number_sections": true,
   "sideBar": true,
   "skip_h1_title": true,
   "title_cell": "Table of Contents",
   "title_sidebar": "Contents",
   "toc_cell": false,
   "toc_position": {
    "height": "calc(100% - 180px)",
    "left": "10px",
    "top": "150px",
    "width": "309px"
   },
   "toc_section_display": true,
   "toc_window_display": true
  }
 },
 "nbformat": 4,
 "nbformat_minor": 2
}
