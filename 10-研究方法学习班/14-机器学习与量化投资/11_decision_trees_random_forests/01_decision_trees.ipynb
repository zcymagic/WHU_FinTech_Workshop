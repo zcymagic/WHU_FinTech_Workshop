{
 "cells": [
  {
   "cell_type": "markdown",
   "metadata": {},
   "source": [
    "# How to use decision trees to predict equity returns and price moves"
   ]
  },
  {
   "cell_type": "markdown",
   "metadata": {},
   "source": [
    "In this notebook, we illustrate how to use tree-based models to gain insight and make predictions. \n",
    "\n",
    "To demonstrate regression trees we predict returns, and for the classification case, we return to the example of positive and negative asset price moves."
   ]
  },
  {
   "cell_type": "markdown",
   "metadata": {},
   "source": [
    "## Imports & Settings"
   ]
  },
  {
   "cell_type": "code",
   "execution_count": 1,
   "metadata": {
    "ExecuteTime": {
     "end_time": "2021-04-16T00:32:25.352734Z",
     "start_time": "2021-04-16T00:32:25.350697Z"
    }
   },
   "outputs": [],
   "source": [
    "import warnings\n",
    "warnings.filterwarnings('ignore')"
   ]
  },
  {
   "cell_type": "code",
   "execution_count": 2,
   "metadata": {
    "ExecuteTime": {
     "end_time": "2021-04-16T00:32:26.702500Z",
     "start_time": "2021-04-16T00:32:25.552972Z"
    }
   },
   "outputs": [],
   "source": [
    "%matplotlib inline\n",
    "\n",
    "import os, sys\n",
    "from pathlib import Path\n",
    "\n",
    "import numpy as np\n",
    "from scipy.stats import spearmanr\n",
    "import pandas as pd\n",
    "\n",
    "import matplotlib.pyplot as plt\n",
    "from matplotlib.ticker import FuncFormatter\n",
    "from matplotlib import cm\n",
    "import seaborn as sns\n",
    "\n",
    "from sklearn.tree import DecisionTreeClassifier, DecisionTreeRegressor, export_graphviz, _tree\n",
    "from sklearn.linear_model import LinearRegression, LogisticRegression\n",
    "from sklearn.model_selection import train_test_split, GridSearchCV, learning_curve\n",
    "from sklearn.metrics import roc_auc_score, roc_curve, mean_squared_error, make_scorer\n",
    "\n",
    "import statsmodels.api as sm"
   ]
  },
  {
   "cell_type": "code",
   "execution_count": 3,
   "metadata": {},
   "outputs": [],
   "source": [
    "import graphviz\n",
    "os.environ[\"PATH\"] += os.pathsep + 'C:/Program Files/Graphviz/bin/'"
   ]
  },
  {
   "cell_type": "code",
   "execution_count": 4,
   "metadata": {},
   "outputs": [],
   "source": [
    "sys.path.insert(1, os.path.join(sys.path[0], '..'))\n",
    "from utils import MultipleTimeSeriesCV"
   ]
  },
  {
   "cell_type": "code",
   "execution_count": 5,
   "metadata": {},
   "outputs": [],
   "source": [
    "sns.set_style('white')"
   ]
  },
  {
   "cell_type": "code",
   "execution_count": 6,
   "metadata": {
    "ExecuteTime": {
     "end_time": "2021-04-16T00:32:26.730830Z",
     "start_time": "2021-04-16T00:32:26.722176Z"
    }
   },
   "outputs": [],
   "source": [
    "results_path = Path('results', 'decision_trees')\n",
    "if not results_path.exists():\n",
    "    results_path.mkdir(parents=True)"
   ]
  },
  {
   "cell_type": "markdown",
   "metadata": {},
   "source": [
    "## Load Model Data"
   ]
  },
  {
   "cell_type": "markdown",
   "metadata": {},
   "source": [
    "We use a simplified version of the data set constructed in Chapter 4, Alpha factor research. It consists of daily stock prices provided by Quandl for the 2010-2017 period and various engineered features. The details can be found in the notebook [data_prep](00_data_prep.ipynb) in the GitHub repo for this chapter."
   ]
  },
  {
   "cell_type": "markdown",
   "metadata": {},
   "source": [
    "The decision tree models in this chapter are not equipped to handle missing or categorical variables, so we will apply dummy encoding to the latter after dropping any of the former."
   ]
  },
  {
   "cell_type": "code",
   "execution_count": 7,
   "metadata": {
    "ExecuteTime": {
     "end_time": "2021-04-16T00:32:30.995569Z",
     "start_time": "2021-04-16T00:32:30.805133Z"
    },
    "scrolled": true
   },
   "outputs": [
    {
     "name": "stdout",
     "output_type": "stream",
     "text": [
      "<class 'pandas.core.frame.DataFrame'>\n",
      "MultiIndex: 77788 entries, ('A', Timestamp('2006-12-31 00:00:00')) to ('ZION', Timestamp('2017-11-30 00:00:00'))\n",
      "Data columns (total 27 columns):\n",
      " #   Column         Non-Null Count  Dtype  \n",
      "---  ------         --------------  -----  \n",
      " 0   atr            77788 non-null  float64\n",
      " 1   bb_down        77788 non-null  float64\n",
      " 2   bb_high        77788 non-null  float64\n",
      " 3   bb_low         77788 non-null  float64\n",
      " 4   bb_mid         77788 non-null  float64\n",
      " 5   bb_up          77788 non-null  float64\n",
      " 6   macd           77788 non-null  float64\n",
      " 7   natr           77788 non-null  float64\n",
      " 8   rsi            77788 non-null  float64\n",
      " 9   sector         77788 non-null  object \n",
      " 10  return_1m      77788 non-null  float64\n",
      " 11  return_3m      77788 non-null  float64\n",
      " 12  return_6m      77788 non-null  float64\n",
      " 13  return_12m     77788 non-null  float64\n",
      " 14  beta           77788 non-null  float64\n",
      " 15  SMB            77788 non-null  float64\n",
      " 16  HML            77788 non-null  float64\n",
      " 17  RMW            77788 non-null  float64\n",
      " 18  CMA            77788 non-null  float64\n",
      " 19  momentum_3     77788 non-null  float64\n",
      " 20  momentum_6     77788 non-null  float64\n",
      " 21  momentum_3_6   77788 non-null  float64\n",
      " 22  momentum_12    77788 non-null  float64\n",
      " 23  momentum_3_12  77788 non-null  float64\n",
      " 24  year           77788 non-null  int64  \n",
      " 25  month          77788 non-null  int64  \n",
      " 26  target         77788 non-null  float64\n",
      "dtypes: float64(24), int64(2), object(1)\n",
      "memory usage: 16.4+ MB\n"
     ]
    }
   ],
   "source": [
    "with pd.HDFStore(r'D:\\科研课题\\data.h5') as store:\n",
    "    data = store['us/equities/monthly']\n",
    "data.info()"
   ]
  },
  {
   "cell_type": "code",
   "execution_count": 8,
   "metadata": {},
   "outputs": [
    {
     "data": {
      "text/html": [
       "<div>\n",
       "<style scoped>\n",
       "    .dataframe tbody tr th:only-of-type {\n",
       "        vertical-align: middle;\n",
       "    }\n",
       "\n",
       "    .dataframe tbody tr th {\n",
       "        vertical-align: top;\n",
       "    }\n",
       "\n",
       "    .dataframe thead th {\n",
       "        text-align: right;\n",
       "    }\n",
       "</style>\n",
       "<table border=\"1\" class=\"dataframe\">\n",
       "  <thead>\n",
       "    <tr style=\"text-align: right;\">\n",
       "      <th></th>\n",
       "      <th></th>\n",
       "      <th>atr</th>\n",
       "      <th>bb_down</th>\n",
       "      <th>bb_high</th>\n",
       "      <th>bb_low</th>\n",
       "      <th>bb_mid</th>\n",
       "      <th>bb_up</th>\n",
       "      <th>macd</th>\n",
       "      <th>natr</th>\n",
       "      <th>rsi</th>\n",
       "      <th>sector</th>\n",
       "      <th>...</th>\n",
       "      <th>RMW</th>\n",
       "      <th>CMA</th>\n",
       "      <th>momentum_3</th>\n",
       "      <th>momentum_6</th>\n",
       "      <th>momentum_3_6</th>\n",
       "      <th>momentum_12</th>\n",
       "      <th>momentum_3_12</th>\n",
       "      <th>year</th>\n",
       "      <th>month</th>\n",
       "      <th>target</th>\n",
       "    </tr>\n",
       "    <tr>\n",
       "      <th>ticker</th>\n",
       "      <th>date</th>\n",
       "      <th></th>\n",
       "      <th></th>\n",
       "      <th></th>\n",
       "      <th></th>\n",
       "      <th></th>\n",
       "      <th></th>\n",
       "      <th></th>\n",
       "      <th></th>\n",
       "      <th></th>\n",
       "      <th></th>\n",
       "      <th></th>\n",
       "      <th></th>\n",
       "      <th></th>\n",
       "      <th></th>\n",
       "      <th></th>\n",
       "      <th></th>\n",
       "      <th></th>\n",
       "      <th></th>\n",
       "      <th></th>\n",
       "      <th></th>\n",
       "      <th></th>\n",
       "    </tr>\n",
       "  </thead>\n",
       "  <tbody>\n",
       "    <tr>\n",
       "      <th rowspan=\"5\" valign=\"top\">A</th>\n",
       "      <th>2006-12-31</th>\n",
       "      <td>-0.442397</td>\n",
       "      <td>0.072112</td>\n",
       "      <td>3.223450</td>\n",
       "      <td>3.137767</td>\n",
       "      <td>3.180609</td>\n",
       "      <td>0.013571</td>\n",
       "      <td>0.188915</td>\n",
       "      <td>2.037431</td>\n",
       "      <td>60.772801</td>\n",
       "      <td>Capital Goods</td>\n",
       "      <td>...</td>\n",
       "      <td>-1.355653</td>\n",
       "      <td>1.632410</td>\n",
       "      <td>-0.072978</td>\n",
       "      <td>-0.077871</td>\n",
       "      <td>-0.004893</td>\n",
       "      <td>-0.090712</td>\n",
       "      <td>-0.017733</td>\n",
       "      <td>2006</td>\n",
       "      <td>12</td>\n",
       "      <td>-0.081779</td>\n",
       "    </tr>\n",
       "    <tr>\n",
       "      <th>2007-01-31</th>\n",
       "      <td>-0.520562</td>\n",
       "      <td>0.016425</td>\n",
       "      <td>3.207382</td>\n",
       "      <td>3.111725</td>\n",
       "      <td>3.159553</td>\n",
       "      <td>0.079232</td>\n",
       "      <td>-0.366521</td>\n",
       "      <td>1.886539</td>\n",
       "      <td>35.388712</td>\n",
       "      <td>Capital Goods</td>\n",
       "      <td>...</td>\n",
       "      <td>-1.400157</td>\n",
       "      <td>1.665934</td>\n",
       "      <td>0.046866</td>\n",
       "      <td>0.101630</td>\n",
       "      <td>0.054764</td>\n",
       "      <td>0.076960</td>\n",
       "      <td>0.030093</td>\n",
       "      <td>2007</td>\n",
       "      <td>1</td>\n",
       "      <td>-0.007812</td>\n",
       "    </tr>\n",
       "    <tr>\n",
       "      <th>2007-02-28</th>\n",
       "      <td>-0.464587</td>\n",
       "      <td>0.008895</td>\n",
       "      <td>3.177726</td>\n",
       "      <td>3.111756</td>\n",
       "      <td>3.144741</td>\n",
       "      <td>0.057075</td>\n",
       "      <td>-0.116034</td>\n",
       "      <td>2.141267</td>\n",
       "      <td>39.517738</td>\n",
       "      <td>Capital Goods</td>\n",
       "      <td>...</td>\n",
       "      <td>-1.598608</td>\n",
       "      <td>1.482798</td>\n",
       "      <td>0.006869</td>\n",
       "      <td>0.005676</td>\n",
       "      <td>-0.001193</td>\n",
       "      <td>-0.002602</td>\n",
       "      <td>-0.009471</td>\n",
       "      <td>2007</td>\n",
       "      <td>2</td>\n",
       "      <td>0.061102</td>\n",
       "    </tr>\n",
       "    <tr>\n",
       "      <th>2007-03-31</th>\n",
       "      <td>-0.497099</td>\n",
       "      <td>0.099084</td>\n",
       "      <td>3.191225</td>\n",
       "      <td>3.078332</td>\n",
       "      <td>3.134779</td>\n",
       "      <td>0.013810</td>\n",
       "      <td>0.196264</td>\n",
       "      <td>1.886661</td>\n",
       "      <td>65.552439</td>\n",
       "      <td>Capital Goods</td>\n",
       "      <td>...</td>\n",
       "      <td>-2.301810</td>\n",
       "      <td>0.709843</td>\n",
       "      <td>-0.072323</td>\n",
       "      <td>-0.056068</td>\n",
       "      <td>0.016255</td>\n",
       "      <td>-0.070101</td>\n",
       "      <td>0.002222</td>\n",
       "      <td>2007</td>\n",
       "      <td>3</td>\n",
       "      <td>0.020184</td>\n",
       "    </tr>\n",
       "    <tr>\n",
       "      <th>2007-04-30</th>\n",
       "      <td>-0.552364</td>\n",
       "      <td>0.007060</td>\n",
       "      <td>3.234956</td>\n",
       "      <td>3.189514</td>\n",
       "      <td>3.212235</td>\n",
       "      <td>0.038382</td>\n",
       "      <td>0.234341</td>\n",
       "      <td>1.630554</td>\n",
       "      <td>48.928443</td>\n",
       "      <td>Capital Goods</td>\n",
       "      <td>...</td>\n",
       "      <td>-2.267598</td>\n",
       "      <td>0.695811</td>\n",
       "      <td>0.003918</td>\n",
       "      <td>-0.026027</td>\n",
       "      <td>-0.029945</td>\n",
       "      <td>-0.029424</td>\n",
       "      <td>-0.033342</td>\n",
       "      <td>2007</td>\n",
       "      <td>4</td>\n",
       "      <td>0.110562</td>\n",
       "    </tr>\n",
       "    <tr>\n",
       "      <th>...</th>\n",
       "      <th>...</th>\n",
       "      <td>...</td>\n",
       "      <td>...</td>\n",
       "      <td>...</td>\n",
       "      <td>...</td>\n",
       "      <td>...</td>\n",
       "      <td>...</td>\n",
       "      <td>...</td>\n",
       "      <td>...</td>\n",
       "      <td>...</td>\n",
       "      <td>...</td>\n",
       "      <td>...</td>\n",
       "      <td>...</td>\n",
       "      <td>...</td>\n",
       "      <td>...</td>\n",
       "      <td>...</td>\n",
       "      <td>...</td>\n",
       "      <td>...</td>\n",
       "      <td>...</td>\n",
       "      <td>...</td>\n",
       "      <td>...</td>\n",
       "      <td>...</td>\n",
       "    </tr>\n",
       "    <tr>\n",
       "      <th rowspan=\"5\" valign=\"top\">ZION</th>\n",
       "      <th>2017-07-31</th>\n",
       "      <td>-0.181012</td>\n",
       "      <td>0.038654</td>\n",
       "      <td>3.841345</td>\n",
       "      <td>3.794321</td>\n",
       "      <td>3.817833</td>\n",
       "      <td>0.008370</td>\n",
       "      <td>0.657033</td>\n",
       "      <td>1.885520</td>\n",
       "      <td>62.089693</td>\n",
       "      <td>Finance</td>\n",
       "      <td>...</td>\n",
       "      <td>-0.952888</td>\n",
       "      <td>-1.804549</td>\n",
       "      <td>0.010813</td>\n",
       "      <td>-0.019481</td>\n",
       "      <td>-0.030294</td>\n",
       "      <td>0.009953</td>\n",
       "      <td>-0.000859</td>\n",
       "      <td>2017</td>\n",
       "      <td>7</td>\n",
       "      <td>-0.034067</td>\n",
       "    </tr>\n",
       "    <tr>\n",
       "      <th>2017-08-31</th>\n",
       "      <td>-0.274439</td>\n",
       "      <td>0.013926</td>\n",
       "      <td>3.849378</td>\n",
       "      <td>3.785152</td>\n",
       "      <td>3.817265</td>\n",
       "      <td>0.050299</td>\n",
       "      <td>-0.259812</td>\n",
       "      <td>1.804202</td>\n",
       "      <td>43.528169</td>\n",
       "      <td>Finance</td>\n",
       "      <td>...</td>\n",
       "      <td>-0.955771</td>\n",
       "      <td>-1.796640</td>\n",
       "      <td>0.063992</td>\n",
       "      <td>0.030177</td>\n",
       "      <td>-0.033815</td>\n",
       "      <td>0.064885</td>\n",
       "      <td>0.000892</td>\n",
       "      <td>2017</td>\n",
       "      <td>8</td>\n",
       "      <td>0.080623</td>\n",
       "    </tr>\n",
       "    <tr>\n",
       "      <th>2017-09-30</th>\n",
       "      <td>-0.155049</td>\n",
       "      <td>0.139050</td>\n",
       "      <td>3.884183</td>\n",
       "      <td>3.735894</td>\n",
       "      <td>3.810038</td>\n",
       "      <td>0.009239</td>\n",
       "      <td>0.876060</td>\n",
       "      <td>1.844395</td>\n",
       "      <td>70.270187</td>\n",
       "      <td>Finance</td>\n",
       "      <td>...</td>\n",
       "      <td>-0.981341</td>\n",
       "      <td>-1.780011</td>\n",
       "      <td>-0.055484</td>\n",
       "      <td>-0.060265</td>\n",
       "      <td>-0.004781</td>\n",
       "      <td>-0.044329</td>\n",
       "      <td>0.011155</td>\n",
       "      <td>2017</td>\n",
       "      <td>9</td>\n",
       "      <td>-0.015261</td>\n",
       "    </tr>\n",
       "    <tr>\n",
       "      <th>2017-10-31</th>\n",
       "      <td>-0.134904</td>\n",
       "      <td>0.016495</td>\n",
       "      <td>3.889834</td>\n",
       "      <td>3.843392</td>\n",
       "      <td>3.866613</td>\n",
       "      <td>0.029946</td>\n",
       "      <td>0.270798</td>\n",
       "      <td>1.902929</td>\n",
       "      <td>51.467907</td>\n",
       "      <td>Finance</td>\n",
       "      <td>...</td>\n",
       "      <td>-0.948005</td>\n",
       "      <td>-1.839265</td>\n",
       "      <td>0.024469</td>\n",
       "      <td>0.041188</td>\n",
       "      <td>0.016719</td>\n",
       "      <td>0.046986</td>\n",
       "      <td>0.022517</td>\n",
       "      <td>2017</td>\n",
       "      <td>10</td>\n",
       "      <td>0.066509</td>\n",
       "    </tr>\n",
       "    <tr>\n",
       "      <th>2017-11-30</th>\n",
       "      <td>0.125608</td>\n",
       "      <td>0.120711</td>\n",
       "      <td>3.918737</td>\n",
       "      <td>3.802252</td>\n",
       "      <td>3.860494</td>\n",
       "      <td>-0.004226</td>\n",
       "      <td>0.698692</td>\n",
       "      <td>2.147435</td>\n",
       "      <td>69.398587</td>\n",
       "      <td>Finance</td>\n",
       "      <td>...</td>\n",
       "      <td>-1.022642</td>\n",
       "      <td>-1.445799</td>\n",
       "      <td>-0.023423</td>\n",
       "      <td>-0.030024</td>\n",
       "      <td>-0.006601</td>\n",
       "      <td>-0.047517</td>\n",
       "      <td>-0.024094</td>\n",
       "      <td>2017</td>\n",
       "      <td>11</td>\n",
       "      <td>0.025832</td>\n",
       "    </tr>\n",
       "  </tbody>\n",
       "</table>\n",
       "<p>77788 rows × 27 columns</p>\n",
       "</div>"
      ],
      "text/plain": [
       "                        atr   bb_down   bb_high    bb_low    bb_mid     bb_up  \\\n",
       "ticker date                                                                     \n",
       "A      2006-12-31 -0.442397  0.072112  3.223450  3.137767  3.180609  0.013571   \n",
       "       2007-01-31 -0.520562  0.016425  3.207382  3.111725  3.159553  0.079232   \n",
       "       2007-02-28 -0.464587  0.008895  3.177726  3.111756  3.144741  0.057075   \n",
       "       2007-03-31 -0.497099  0.099084  3.191225  3.078332  3.134779  0.013810   \n",
       "       2007-04-30 -0.552364  0.007060  3.234956  3.189514  3.212235  0.038382   \n",
       "...                     ...       ...       ...       ...       ...       ...   \n",
       "ZION   2017-07-31 -0.181012  0.038654  3.841345  3.794321  3.817833  0.008370   \n",
       "       2017-08-31 -0.274439  0.013926  3.849378  3.785152  3.817265  0.050299   \n",
       "       2017-09-30 -0.155049  0.139050  3.884183  3.735894  3.810038  0.009239   \n",
       "       2017-10-31 -0.134904  0.016495  3.889834  3.843392  3.866613  0.029946   \n",
       "       2017-11-30  0.125608  0.120711  3.918737  3.802252  3.860494 -0.004226   \n",
       "\n",
       "                       macd      natr        rsi         sector  ...  \\\n",
       "ticker date                                                      ...   \n",
       "A      2006-12-31  0.188915  2.037431  60.772801  Capital Goods  ...   \n",
       "       2007-01-31 -0.366521  1.886539  35.388712  Capital Goods  ...   \n",
       "       2007-02-28 -0.116034  2.141267  39.517738  Capital Goods  ...   \n",
       "       2007-03-31  0.196264  1.886661  65.552439  Capital Goods  ...   \n",
       "       2007-04-30  0.234341  1.630554  48.928443  Capital Goods  ...   \n",
       "...                     ...       ...        ...            ...  ...   \n",
       "ZION   2017-07-31  0.657033  1.885520  62.089693        Finance  ...   \n",
       "       2017-08-31 -0.259812  1.804202  43.528169        Finance  ...   \n",
       "       2017-09-30  0.876060  1.844395  70.270187        Finance  ...   \n",
       "       2017-10-31  0.270798  1.902929  51.467907        Finance  ...   \n",
       "       2017-11-30  0.698692  2.147435  69.398587        Finance  ...   \n",
       "\n",
       "                        RMW       CMA  momentum_3  momentum_6  momentum_3_6  \\\n",
       "ticker date                                                                   \n",
       "A      2006-12-31 -1.355653  1.632410   -0.072978   -0.077871     -0.004893   \n",
       "       2007-01-31 -1.400157  1.665934    0.046866    0.101630      0.054764   \n",
       "       2007-02-28 -1.598608  1.482798    0.006869    0.005676     -0.001193   \n",
       "       2007-03-31 -2.301810  0.709843   -0.072323   -0.056068      0.016255   \n",
       "       2007-04-30 -2.267598  0.695811    0.003918   -0.026027     -0.029945   \n",
       "...                     ...       ...         ...         ...           ...   \n",
       "ZION   2017-07-31 -0.952888 -1.804549    0.010813   -0.019481     -0.030294   \n",
       "       2017-08-31 -0.955771 -1.796640    0.063992    0.030177     -0.033815   \n",
       "       2017-09-30 -0.981341 -1.780011   -0.055484   -0.060265     -0.004781   \n",
       "       2017-10-31 -0.948005 -1.839265    0.024469    0.041188      0.016719   \n",
       "       2017-11-30 -1.022642 -1.445799   -0.023423   -0.030024     -0.006601   \n",
       "\n",
       "                   momentum_12  momentum_3_12  year  month    target  \n",
       "ticker date                                                           \n",
       "A      2006-12-31    -0.090712      -0.017733  2006     12 -0.081779  \n",
       "       2007-01-31     0.076960       0.030093  2007      1 -0.007812  \n",
       "       2007-02-28    -0.002602      -0.009471  2007      2  0.061102  \n",
       "       2007-03-31    -0.070101       0.002222  2007      3  0.020184  \n",
       "       2007-04-30    -0.029424      -0.033342  2007      4  0.110562  \n",
       "...                        ...            ...   ...    ...       ...  \n",
       "ZION   2017-07-31     0.009953      -0.000859  2017      7 -0.034067  \n",
       "       2017-08-31     0.064885       0.000892  2017      8  0.080623  \n",
       "       2017-09-30    -0.044329       0.011155  2017      9 -0.015261  \n",
       "       2017-10-31     0.046986       0.022517  2017     10  0.066509  \n",
       "       2017-11-30    -0.047517      -0.024094  2017     11  0.025832  \n",
       "\n",
       "[77788 rows x 27 columns]"
      ]
     },
     "execution_count": 8,
     "metadata": {},
     "output_type": "execute_result"
    }
   ],
   "source": [
    "data"
   ]
  },
  {
   "cell_type": "markdown",
   "metadata": {},
   "source": [
    "## Simple Regression Tree with Time Series Data"
   ]
  },
  {
   "cell_type": "markdown",
   "metadata": {},
   "source": [
    "Regression trees make predictions based on the mean outcome value for the training samples assigned to a given node and typically rely on the mean-squared error to select optimal rules during recursive binary splitting.\n",
    "\n",
    "Given a training set, the algorithm iterates over the predictors, $X_1, X_2, ..., X_p$, and possible cutpoints, $s_1, s_2, ..., s_N$, to find an optimal combination. The optimal rule splits the feature space into two regions, $\\{X\\mid X_i < s_j\\}$ and $\\{X\\mid X_i > s_j\\}$, with values for the $X_i$ feature either below or above the $s_j$ threshold so that predictions based on the training subsets maximize the reduction of the squared residuals relative to the current node."
   ]
  },
  {
   "cell_type": "markdown",
   "metadata": {},
   "source": [
    "### Generate two lags of monthly returns"
   ]
  },
  {
   "cell_type": "code",
   "execution_count": 9,
   "metadata": {
    "ExecuteTime": {
     "end_time": "2021-04-16T00:32:38.965107Z",
     "start_time": "2021-04-16T00:32:38.942472Z"
    },
    "scrolled": false
   },
   "outputs": [
    {
     "name": "stdout",
     "output_type": "stream",
     "text": [
      "<class 'pandas.core.frame.DataFrame'>\n",
      "MultiIndex: 77176 entries, ('A', Timestamp('2007-01-31 00:00:00')) to ('ZION', Timestamp('2017-11-30 00:00:00'))\n",
      "Data columns (total 3 columns):\n",
      " #   Column  Non-Null Count  Dtype  \n",
      "---  ------  --------------  -----  \n",
      " 0   y       77176 non-null  float64\n",
      " 1   t-1     77176 non-null  float64\n",
      " 2   t-2     77176 non-null  float64\n",
      "dtypes: float64(3)\n",
      "memory usage: 2.1+ MB\n"
     ]
    }
   ],
   "source": [
    "X2 = data.loc[:, ['target', 'return_1m']]\n",
    "X2.columns = ['y', 't-1']\n",
    "X2['t-2'] = data.groupby(level='ticker').return_1m.shift()\n",
    "X2 = X2.dropna()\n",
    "X2.info()"
   ]
  },
  {
   "cell_type": "code",
   "execution_count": 10,
   "metadata": {
    "ExecuteTime": {
     "end_time": "2021-04-16T00:32:38.969598Z",
     "start_time": "2021-04-16T00:32:38.966574Z"
    }
   },
   "outputs": [],
   "source": [
    "y2 = X2.y\n",
    "X2 = X2.drop('y', axis=1)"
   ]
  },
  {
   "cell_type": "markdown",
   "metadata": {},
   "source": [
    "### Explore Data"
   ]
  },
  {
   "cell_type": "markdown",
   "metadata": {},
   "source": [
    "Note the small spike where we clipped the data."
   ]
  },
  {
   "cell_type": "code",
   "execution_count": 11,
   "metadata": {
    "ExecuteTime": {
     "end_time": "2021-04-16T00:32:39.517083Z",
     "start_time": "2021-04-16T00:32:38.970753Z"
    }
   },
   "outputs": [
    {
     "data": {
      "image/png": "[encoded data removed]",
      "text/plain": [
       "<Figure size 640x480 with 1 Axes>"
      ]
     },
     "metadata": {},
     "output_type": "display_data"
    }
   ],
   "source": [
    "sns.distplot(y2)\n",
    "sns.lineplot;"
   ]
  },
  {
   "cell_type": "markdown",
   "metadata": {},
   "source": [
    "### Configure Tree"
   ]
  },
  {
   "cell_type": "markdown",
   "metadata": {},
   "source": [
    "Let's start with a simplified example to facilitate visualization and only use two months of lagged returns to predict the following month, in the vein of an AR(2) model from the last chapter:"
   ]
  },
  {
   "cell_type": "code",
   "execution_count": 12,
   "metadata": {
    "ExecuteTime": {
     "end_time": "2021-04-16T00:32:39.521903Z",
     "start_time": "2021-04-16T00:32:39.518821Z"
    }
   },
   "outputs": [],
   "source": [
    "reg_tree_t2 = DecisionTreeRegressor(criterion='mse',\n",
    "                                    splitter='best',#特征划分点选择，可以使用\"best\"或者\"random\"。前者在特征的所有划分点中找出最优的划分点。后者是随机的在部分划分点中找局部最优的划分点。\n",
    "                                    max_depth=6,#最大深度\n",
    "                                    min_samples_split=2,#内部节点再划分所需最小样本数min_samples_split\n",
    "                                    min_samples_leaf=50,#叶子节点最少样本数min_samples_leaf\n",
    "                                    min_weight_fraction_leaf=0.0,#叶子节点最小的样本权重和min_weight_fraction_leaf，默认0就是不考虑权重问题\n",
    "                                    max_features=None,#寻找最佳分割时要考虑的特征数量\n",
    "                                    random_state=42,\n",
    "                                    max_leaf_nodes=None,#最大叶子节点数量\n",
    "                                    min_impurity_decrease=0.0,#如果该分裂导致杂质减少大于或等于该值，则该节点将被分裂，默认0\n",
    "                                   )"
   ]
  },
  {
   "cell_type": "markdown",
   "metadata": {},
   "source": [
    "### Train Decision Tree"
   ]
  },
  {
   "cell_type": "code",
   "execution_count": 13,
   "metadata": {
    "ExecuteTime": {
     "end_time": "2021-04-16T00:32:46.840780Z",
     "start_time": "2021-04-16T00:32:39.523207Z"
    }
   },
   "outputs": [
    {
     "name": "stdout",
     "output_type": "stream",
     "text": [
      "118 ms ± 3.49 ms per loop (mean ± std. dev. of 7 runs, 10 loops each)\n"
     ]
    }
   ],
   "source": [
    "%%timeit\n",
    "reg_tree_t2.fit(X=X2, y=y2)"
   ]
  },
  {
   "cell_type": "code",
   "execution_count": 14,
   "metadata": {
    "ExecuteTime": {
     "end_time": "2021-04-16T00:32:46.944042Z",
     "start_time": "2021-04-16T00:32:46.846638Z"
    }
   },
   "outputs": [
    {
     "data": {
      "text/html": [
       "<style>#sk-container-id-1 {color: black;background-color: white;}#sk-container-id-1 pre{padding: 0;}#sk-container-id-1 div.sk-toggleable {background-color: white;}#sk-container-id-1 label.sk-toggleable__label {cursor: pointer;display: block;width: 100%;margin-bottom: 0;padding: 0.3em;box-sizing: border-box;text-align: center;}#sk-container-id-1 label.sk-toggleable__label-arrow:before {content: \"▸\";float: left;margin-right: 0.25em;color: #696969;}#sk-container-id-1 label.sk-toggleable__label-arrow:hover:before {color: black;}#sk-container-id-1 div.sk-estimator:hover label.sk-toggleable__label-arrow:before {color: black;}#sk-container-id-1 div.sk-toggleable__content {max-height: 0;max-width: 0;overflow: hidden;text-align: left;background-color: #f0f8ff;}#sk-container-id-1 div.sk-toggleable__content pre {margin: 0.2em;color: black;border-radius: 0.25em;background-color: #f0f8ff;}#sk-container-id-1 input.sk-toggleable__control:checked~div.sk-toggleable__content {max-height: 200px;max-width: 100%;overflow: auto;}#sk-container-id-1 input.sk-toggleable__control:checked~label.sk-toggleable__label-arrow:before {content: \"▾\";}#sk-container-id-1 div.sk-estimator input.sk-toggleable__control:checked~label.sk-toggleable__label {background-color: #d4ebff;}#sk-container-id-1 div.sk-label input.sk-toggleable__control:checked~label.sk-toggleable__label {background-color: #d4ebff;}#sk-container-id-1 input.sk-hidden--visually {border: 0;clip: rect(1px 1px 1px 1px);clip: rect(1px, 1px, 1px, 1px);height: 1px;margin: -1px;overflow: hidden;padding: 0;position: absolute;width: 1px;}#sk-container-id-1 div.sk-estimator {font-family: monospace;background-color: #f0f8ff;border: 1px dotted black;border-radius: 0.25em;box-sizing: border-box;margin-bottom: 0.5em;}#sk-container-id-1 div.sk-estimator:hover {background-color: #d4ebff;}#sk-container-id-1 div.sk-parallel-item::after {content: \"\";width: 100%;border-bottom: 1px solid gray;flex-grow: 1;}#sk-container-id-1 div.sk-label:hover label.sk-toggleable__label {background-color: #d4ebff;}#sk-container-id-1 div.sk-serial::before {content: \"\";position: absolute;border-left: 1px solid gray;box-sizing: border-box;top: 0;bottom: 0;left: 50%;z-index: 0;}#sk-container-id-1 div.sk-serial {display: flex;flex-direction: column;align-items: center;background-color: white;padding-right: 0.2em;padding-left: 0.2em;position: relative;}#sk-container-id-1 div.sk-item {position: relative;z-index: 1;}#sk-container-id-1 div.sk-parallel {display: flex;align-items: stretch;justify-content: center;background-color: white;position: relative;}#sk-container-id-1 div.sk-item::before, #sk-container-id-1 div.sk-parallel-item::before {content: \"\";position: absolute;border-left: 1px solid gray;box-sizing: border-box;top: 0;bottom: 0;left: 50%;z-index: -1;}#sk-container-id-1 div.sk-parallel-item {display: flex;flex-direction: column;z-index: 1;position: relative;background-color: white;}#sk-container-id-1 div.sk-parallel-item:first-child::after {align-self: flex-end;width: 50%;}#sk-container-id-1 div.sk-parallel-item:last-child::after {align-self: flex-start;width: 50%;}#sk-container-id-1 div.sk-parallel-item:only-child::after {width: 0;}#sk-container-id-1 div.sk-dashed-wrapped {border: 1px dashed gray;margin: 0 0.4em 0.5em 0.4em;box-sizing: border-box;padding-bottom: 0.4em;background-color: white;}#sk-container-id-1 div.sk-label label {font-family: monospace;font-weight: bold;display: inline-block;line-height: 1.2em;}#sk-container-id-1 div.sk-label-container {text-align: center;}#sk-container-id-1 div.sk-container {/* jupyter's `normalize.less` sets `[hidden] { display: none; }` but bootstrap.min.css set `[hidden] { display: none !important; }` so we also need the `!important` here to be able to override the default hidden behavior on the sphinx rendered scikit-learn.org. See: https://github.com/scikit-learn/scikit-learn/issues/21755 */display: inline-block !important;position: relative;}#sk-container-id-1 div.sk-text-repr-fallback {display: none;}</style><div id=\"sk-container-id-1\" class=\"sk-top-container\"><div class=\"sk-text-repr-fallback\"><pre>DecisionTreeRegressor(criterion=&#x27;mse&#x27;, max_depth=6, min_samples_leaf=50,\n",
       "                      random_state=42)</pre><b>In a Jupyter environment, please rerun this cell to show the HTML representation or trust the notebook. <br />On GitHub, the HTML representation is unable to render, please try loading this page with nbviewer.org.</b></div><div class=\"sk-container\" hidden><div class=\"sk-item\"><div class=\"sk-estimator sk-toggleable\"><input class=\"sk-toggleable__control sk-hidden--visually\" id=\"sk-estimator-id-1\" type=\"checkbox\" checked><label for=\"sk-estimator-id-1\" class=\"sk-toggleable__label sk-toggleable__label-arrow\">DecisionTreeRegressor</label><div class=\"sk-toggleable__content\"><pre>DecisionTreeRegressor(criterion=&#x27;mse&#x27;, max_depth=6, min_samples_leaf=50,\n",
       "                      random_state=42)</pre></div></div></div></div></div>"
      ],
      "text/plain": [
       "DecisionTreeRegressor(criterion='mse', max_depth=6, min_samples_leaf=50,\n",
       "                      random_state=42)"
      ]
     },
     "execution_count": 14,
     "metadata": {},
     "output_type": "execute_result"
    }
   ],
   "source": [
    "reg_tree_t2.fit(X=X2, y=y2)"
   ]
  },
  {
   "cell_type": "markdown",
   "metadata": {},
   "source": [
    "### Visualize Tree"
   ]
  },
  {
   "cell_type": "markdown",
   "metadata": {},
   "source": [
    "You can visualize the tree using the graphviz library (see GitHub for installation instructions) because sklearn can output a description of the tree using the .dot language used by that library. \n",
    "\n",
    "You can configure the output to include feature and class labels and limit the number of levels to keep the chart readable, as follows:"
   ]
  },
  {
   "cell_type": "code",
   "execution_count": 15,
   "metadata": {
    "ExecuteTime": {
     "end_time": "2021-04-16T00:32:46.993321Z",
     "start_time": "2021-04-16T00:32:46.945531Z"
    },
    "code_folding": []
   },
   "outputs": [
    {
     "data": {
      "image/svg+xml": [
       "<?xml version=\"1.0\" encoding=\"UTF-8\" standalone=\"no\"?>\n",
       "<!DOCTYPE svg PUBLIC \"-//W3C//DTD SVG 1.1//EN\"\n",
       " \"http://www.w3.org/Graphics/SVG/1.1/DTD/svg11.dtd\">\n",
       "<!-- Generated by graphviz version 7.0.4 (20221203.1631)\n",
       " -->\n",
       "<!-- Title: Tree Pages: 1 -->\n",
       "<svg width=\"604pt\" height=\"356pt\"\n",
       " viewBox=\"0.00 0.00 604.00 356.00\" xmlns=\"http://www.w3.org/2000/svg\" xmlns:xlink=\"http://www.w3.org/1999/xlink\">\n",
       "<g id=\"graph0\" class=\"graph\" transform=\"scale(1 1) rotate(0) translate(4 352)\">\n",
       "<title>Tree</title>\n",
       "<polygon fill=\"white\" stroke=\"none\" points=\"-4,4 -4,-352 600,-352 600,4 -4,4\"/>\n",
       "<!-- 0 -->\n",
       "<g id=\"node1\" class=\"node\">\n",
       "<title>0</title>\n",
       "<path fill=\"#f1b991\" stroke=\"black\" d=\"M343,-348C343,-348 239,-348 239,-348 233,-348 227,-342 227,-336 227,-336 227,-292 227,-292 227,-286 233,-280 239,-280 239,-280 343,-280 343,-280 349,-280 355,-286 355,-292 355,-292 355,-336 355,-336 355,-342 349,-348 343,-348\"/>\n",
       "<text text-anchor=\"start\" x=\"254.5\" y=\"-332.8\" font-family=\"Helvetica,sans-Serif\" font-size=\"14.00\">t&#45;2 ≤ &#45;0.267</text>\n",
       "<text text-anchor=\"start\" x=\"250.5\" y=\"-317.8\" font-family=\"Helvetica,sans-Serif\" font-size=\"14.00\">mse = 0.008</text>\n",
       "<text text-anchor=\"start\" x=\"235\" y=\"-302.8\" font-family=\"Helvetica,sans-Serif\" font-size=\"14.00\">samples = 77176</text>\n",
       "<text text-anchor=\"start\" x=\"252\" y=\"-287.8\" font-family=\"Helvetica,sans-Serif\" font-size=\"14.00\">value = 0.01</text>\n",
       "</g>\n",
       "<!-- 1 -->\n",
       "<g id=\"node2\" class=\"node\">\n",
       "<title>1</title>\n",
       "<path fill=\"#eca470\" stroke=\"black\" d=\"M265.5,-244C265.5,-244 178.5,-244 178.5,-244 172.5,-244 166.5,-238 166.5,-232 166.5,-232 166.5,-188 166.5,-188 166.5,-182 172.5,-176 178.5,-176 178.5,-176 265.5,-176 265.5,-176 271.5,-176 277.5,-182 277.5,-188 277.5,-188 277.5,-232 277.5,-232 277.5,-238 271.5,-244 265.5,-244\"/>\n",
       "<text text-anchor=\"start\" x=\"185.5\" y=\"-228.8\" font-family=\"Helvetica,sans-Serif\" font-size=\"14.00\">t&#45;1 ≤ &#45;0.137</text>\n",
       "<text text-anchor=\"start\" x=\"181.5\" y=\"-213.8\" font-family=\"Helvetica,sans-Serif\" font-size=\"14.00\">mse = 0.035</text>\n",
       "<text text-anchor=\"start\" x=\"174.5\" y=\"-198.8\" font-family=\"Helvetica,sans-Serif\" font-size=\"14.00\">samples = 722</text>\n",
       "<text text-anchor=\"start\" x=\"179\" y=\"-183.8\" font-family=\"Helvetica,sans-Serif\" font-size=\"14.00\">value = 0.037</text>\n",
       "</g>\n",
       "<!-- 0&#45;&gt;1 -->\n",
       "<g id=\"edge1\" class=\"edge\">\n",
       "<title>0&#45;&gt;1</title>\n",
       "<path fill=\"none\" stroke=\"black\" d=\"M268.41,-279.6C262.87,-271.41 256.86,-262.53 251.06,-253.96\"/>\n",
       "<polygon fill=\"black\" stroke=\"black\" points=\"253.99,-252.05 245.49,-245.73 248.2,-255.97 253.99,-252.05\"/>\n",
       "<text text-anchor=\"middle\" x=\"239.91\" y=\"-265.32\" font-family=\"Helvetica,sans-Serif\" font-size=\"14.00\">True</text>\n",
       "</g>\n",
       "<!-- 18 -->\n",
       "<g id=\"node9\" class=\"node\">\n",
       "<title>18</title>\n",
       "<path fill=\"#f1b992\" stroke=\"black\" d=\"M412,-244C412,-244 308,-244 308,-244 302,-244 296,-238 296,-232 296,-232 296,-188 296,-188 296,-182 302,-176 308,-176 308,-176 412,-176 412,-176 418,-176 424,-182 424,-188 424,-188 424,-232 424,-232 424,-238 418,-244 412,-244\"/>\n",
       "<text text-anchor=\"start\" x=\"323.5\" y=\"-228.8\" font-family=\"Helvetica,sans-Serif\" font-size=\"14.00\">t&#45;1 ≤ &#45;0.147</text>\n",
       "<text text-anchor=\"start\" x=\"319.5\" y=\"-213.8\" font-family=\"Helvetica,sans-Serif\" font-size=\"14.00\">mse = 0.008</text>\n",
       "<text text-anchor=\"start\" x=\"304\" y=\"-198.8\" font-family=\"Helvetica,sans-Serif\" font-size=\"14.00\">samples = 76454</text>\n",
       "<text text-anchor=\"start\" x=\"321\" y=\"-183.8\" font-family=\"Helvetica,sans-Serif\" font-size=\"14.00\">value = 0.01</text>\n",
       "</g>\n",
       "<!-- 0&#45;&gt;18 -->\n",
       "<g id=\"edge8\" class=\"edge\">\n",
       "<title>0&#45;&gt;18</title>\n",
       "<path fill=\"none\" stroke=\"black\" d=\"M313.59,-279.6C319.13,-271.41 325.14,-262.53 330.94,-253.96\"/>\n",
       "<polygon fill=\"black\" stroke=\"black\" points=\"333.8,-255.97 336.51,-245.73 328.01,-252.05 333.8,-255.97\"/>\n",
       "<text text-anchor=\"middle\" x=\"342.09\" y=\"-265.32\" font-family=\"Helvetica,sans-Serif\" font-size=\"14.00\">False</text>\n",
       "</g>\n",
       "<!-- 2 -->\n",
       "<g id=\"node3\" class=\"node\">\n",
       "<title>2</title>\n",
       "<path fill=\"#e99659\" stroke=\"black\" d=\"M138.5,-140C138.5,-140 51.5,-140 51.5,-140 45.5,-140 39.5,-134 39.5,-128 39.5,-128 39.5,-84 39.5,-84 39.5,-78 45.5,-72 51.5,-72 51.5,-72 138.5,-72 138.5,-72 144.5,-72 150.5,-78 150.5,-84 150.5,-84 150.5,-128 150.5,-128 150.5,-134 144.5,-140 138.5,-140\"/>\n",
       "<text text-anchor=\"start\" x=\"58.5\" y=\"-124.8\" font-family=\"Helvetica,sans-Serif\" font-size=\"14.00\">t&#45;1 ≤ &#45;0.228</text>\n",
       "<text text-anchor=\"start\" x=\"54.5\" y=\"-109.8\" font-family=\"Helvetica,sans-Serif\" font-size=\"14.00\">mse = 0.041</text>\n",
       "<text text-anchor=\"start\" x=\"47.5\" y=\"-94.8\" font-family=\"Helvetica,sans-Serif\" font-size=\"14.00\">samples = 217</text>\n",
       "<text text-anchor=\"start\" x=\"52\" y=\"-79.8\" font-family=\"Helvetica,sans-Serif\" font-size=\"14.00\">value = 0.057</text>\n",
       "</g>\n",
       "<!-- 1&#45;&gt;2 -->\n",
       "<g id=\"edge2\" class=\"edge\">\n",
       "<title>1&#45;&gt;2</title>\n",
       "<path fill=\"none\" stroke=\"black\" d=\"M180.42,-175.6C169.23,-166.62 157.01,-156.81 145.41,-147.49\"/>\n",
       "<polygon fill=\"black\" stroke=\"black\" points=\"147.85,-144.95 137.86,-141.42 143.46,-150.41 147.85,-144.95\"/>\n",
       "</g>\n",
       "<!-- 5 -->\n",
       "<g id=\"node6\" class=\"node\">\n",
       "<title>5</title>\n",
       "<path fill=\"#eeab7a\" stroke=\"black\" d=\"M267.5,-140C267.5,-140 180.5,-140 180.5,-140 174.5,-140 168.5,-134 168.5,-128 168.5,-128 168.5,-84 168.5,-84 168.5,-78 174.5,-72 180.5,-72 180.5,-72 267.5,-72 267.5,-72 273.5,-72 279.5,-78 279.5,-84 279.5,-84 279.5,-128 279.5,-128 279.5,-134 273.5,-140 267.5,-140\"/>\n",
       "<text text-anchor=\"start\" x=\"189.5\" y=\"-124.8\" font-family=\"Helvetica,sans-Serif\" font-size=\"14.00\">t&#45;1 ≤ 0.321</text>\n",
       "<text text-anchor=\"start\" x=\"183.5\" y=\"-109.8\" font-family=\"Helvetica,sans-Serif\" font-size=\"14.00\">mse = 0.032</text>\n",
       "<text text-anchor=\"start\" x=\"176.5\" y=\"-94.8\" font-family=\"Helvetica,sans-Serif\" font-size=\"14.00\">samples = 505</text>\n",
       "<text text-anchor=\"start\" x=\"181\" y=\"-79.8\" font-family=\"Helvetica,sans-Serif\" font-size=\"14.00\">value = 0.029</text>\n",
       "</g>\n",
       "<!-- 1&#45;&gt;5 -->\n",
       "<g id=\"edge5\" class=\"edge\">\n",
       "<title>1&#45;&gt;5</title>\n",
       "<path fill=\"none\" stroke=\"black\" d=\"M222.65,-175.6C222.8,-168.03 222.96,-159.87 223.12,-151.9\"/>\n",
       "<polygon fill=\"black\" stroke=\"black\" points=\"226.62,-152.05 223.31,-141.99 219.62,-151.92 226.62,-152.05\"/>\n",
       "</g>\n",
       "<!-- 3 -->\n",
       "<g id=\"node4\" class=\"node\">\n",
       "<title>3</title>\n",
       "<path fill=\"#c0c0c0\" stroke=\"black\" d=\"M42,-36C42,-36 12,-36 12,-36 6,-36 0,-30 0,-24 0,-24 0,-12 0,-12 0,-6 6,0 12,0 12,0 42,0 42,0 48,0 54,-6 54,-12 54,-12 54,-24 54,-24 54,-30 48,-36 42,-36\"/>\n",
       "<text text-anchor=\"middle\" x=\"27\" y=\"-14.3\" font-family=\"Helvetica,sans-Serif\" font-size=\"14.00\">(...)</text>\n",
       "</g>\n",
       "<!-- 2&#45;&gt;3 -->\n",
       "<g id=\"edge3\" class=\"edge\">\n",
       "<title>2&#45;&gt;3</title>\n",
       "<path fill=\"none\" stroke=\"black\" d=\"M68.51,-71.5C61.58,-62.73 54.2,-53.4 47.62,-45.08\"/>\n",
       "<polygon fill=\"black\" stroke=\"black\" points=\"50.48,-43.06 41.54,-37.38 44.99,-47.4 50.48,-43.06\"/>\n",
       "</g>\n",
       "<!-- 4 -->\n",
       "<g id=\"node5\" class=\"node\">\n",
       "<title>4</title>\n",
       "<path fill=\"#c0c0c0\" stroke=\"black\" d=\"M114,-36C114,-36 84,-36 84,-36 78,-36 72,-30 72,-24 72,-24 72,-12 72,-12 72,-6 78,0 84,0 84,0 114,0 114,0 120,0 126,-6 126,-12 126,-12 126,-24 126,-24 126,-30 120,-36 114,-36\"/>\n",
       "<text text-anchor=\"middle\" x=\"99\" y=\"-14.3\" font-family=\"Helvetica,sans-Serif\" font-size=\"14.00\">(...)</text>\n",
       "</g>\n",
       "<!-- 2&#45;&gt;4 -->\n",
       "<g id=\"edge4\" class=\"edge\">\n",
       "<title>2&#45;&gt;4</title>\n",
       "<path fill=\"none\" stroke=\"black\" d=\"M96.56,-71.5C96.93,-63.58 97.32,-55.2 97.67,-47.52\"/>\n",
       "<polygon fill=\"black\" stroke=\"black\" points=\"101.16,-47.86 98.13,-37.71 94.17,-47.54 101.16,-47.86\"/>\n",
       "</g>\n",
       "<!-- 6 -->\n",
       "<g id=\"node7\" class=\"node\">\n",
       "<title>6</title>\n",
       "<path fill=\"#c0c0c0\" stroke=\"black\" d=\"M208,-36C208,-36 178,-36 178,-36 172,-36 166,-30 166,-24 166,-24 166,-12 166,-12 166,-6 172,0 178,0 178,0 208,0 208,0 214,0 220,-6 220,-12 220,-12 220,-24 220,-24 220,-30 214,-36 208,-36\"/>\n",
       "<text text-anchor=\"middle\" x=\"193\" y=\"-14.3\" font-family=\"Helvetica,sans-Serif\" font-size=\"14.00\">(...)</text>\n",
       "</g>\n",
       "<!-- 5&#45;&gt;6 -->\n",
       "<g id=\"edge6\" class=\"edge\">\n",
       "<title>5&#45;&gt;6</title>\n",
       "<path fill=\"none\" stroke=\"black\" d=\"M211.93,-71.5C209,-63.39 205.91,-54.8 203.08,-46.98\"/>\n",
       "<polygon fill=\"black\" stroke=\"black\" points=\"206.4,-45.84 199.71,-37.62 199.81,-48.21 206.4,-45.84\"/>\n",
       "</g>\n",
       "<!-- 17 -->\n",
       "<g id=\"node8\" class=\"node\">\n",
       "<title>17</title>\n",
       "<path fill=\"#c0c0c0\" stroke=\"black\" d=\"M280,-36C280,-36 250,-36 250,-36 244,-36 238,-30 238,-24 238,-24 238,-12 238,-12 238,-6 244,0 250,0 250,0 280,0 280,0 286,0 292,-6 292,-12 292,-12 292,-24 292,-24 292,-30 286,-36 280,-36\"/>\n",
       "<text text-anchor=\"middle\" x=\"265\" y=\"-14.3\" font-family=\"Helvetica,sans-Serif\" font-size=\"14.00\">(...)</text>\n",
       "</g>\n",
       "<!-- 5&#45;&gt;17 -->\n",
       "<g id=\"edge7\" class=\"edge\">\n",
       "<title>5&#45;&gt;17</title>\n",
       "<path fill=\"none\" stroke=\"black\" d=\"M239.97,-71.5C243.93,-63.2 248.12,-54.41 251.92,-46.43\"/>\n",
       "<polygon fill=\"black\" stroke=\"black\" points=\"255.01,-48.1 256.15,-37.56 248.69,-45.08 255.01,-48.1\"/>\n",
       "</g>\n",
       "<!-- 19 -->\n",
       "<g id=\"node10\" class=\"node\">\n",
       "<title>19</title>\n",
       "<path fill=\"#f3c5a4\" stroke=\"black\" d=\"M406.5,-140C406.5,-140 311.5,-140 311.5,-140 305.5,-140 299.5,-134 299.5,-128 299.5,-128 299.5,-84 299.5,-84 299.5,-78 305.5,-72 311.5,-72 311.5,-72 406.5,-72 406.5,-72 412.5,-72 418.5,-78 418.5,-84 418.5,-84 418.5,-128 418.5,-128 418.5,-134 412.5,-140 406.5,-140\"/>\n",
       "<text text-anchor=\"start\" x=\"326.5\" y=\"-124.8\" font-family=\"Helvetica,sans-Serif\" font-size=\"14.00\">t&#45;2 ≤ &#45;0.17</text>\n",
       "<text text-anchor=\"start\" x=\"318.5\" y=\"-109.8\" font-family=\"Helvetica,sans-Serif\" font-size=\"14.00\">mse = 0.023</text>\n",
       "<text text-anchor=\"start\" x=\"307.5\" y=\"-94.8\" font-family=\"Helvetica,sans-Serif\" font-size=\"14.00\">samples = 3243</text>\n",
       "<text text-anchor=\"start\" x=\"313.5\" y=\"-79.8\" font-family=\"Helvetica,sans-Serif\" font-size=\"14.00\">value = &#45;0.005</text>\n",
       "</g>\n",
       "<!-- 18&#45;&gt;19 -->\n",
       "<g id=\"edge9\" class=\"edge\">\n",
       "<title>18&#45;&gt;19</title>\n",
       "<path fill=\"none\" stroke=\"black\" d=\"M359.67,-175.6C359.6,-168.03 359.52,-159.87 359.44,-151.9\"/>\n",
       "<polygon fill=\"black\" stroke=\"black\" points=\"362.94,-151.95 359.34,-141.99 355.94,-152.02 362.94,-151.95\"/>\n",
       "</g>\n",
       "<!-- 42 -->\n",
       "<g id=\"node13\" class=\"node\">\n",
       "<title>42</title>\n",
       "<path fill=\"#f1b991\" stroke=\"black\" d=\"M553,-140C553,-140 449,-140 449,-140 443,-140 437,-134 437,-128 437,-128 437,-84 437,-84 437,-78 443,-72 449,-72 449,-72 553,-72 553,-72 559,-72 565,-78 565,-84 565,-84 565,-128 565,-128 565,-134 559,-140 553,-140\"/>\n",
       "<text text-anchor=\"start\" x=\"466.5\" y=\"-124.8\" font-family=\"Helvetica,sans-Serif\" font-size=\"14.00\">t&#45;1 ≤ 0.118</text>\n",
       "<text text-anchor=\"start\" x=\"460.5\" y=\"-109.8\" font-family=\"Helvetica,sans-Serif\" font-size=\"14.00\">mse = 0.007</text>\n",
       "<text text-anchor=\"start\" x=\"445\" y=\"-94.8\" font-family=\"Helvetica,sans-Serif\" font-size=\"14.00\">samples = 73211</text>\n",
       "<text text-anchor=\"start\" x=\"462\" y=\"-79.8\" font-family=\"Helvetica,sans-Serif\" font-size=\"14.00\">value = 0.01</text>\n",
       "</g>\n",
       "<!-- 18&#45;&gt;42 -->\n",
       "<g id=\"edge12\" class=\"edge\">\n",
       "<title>18&#45;&gt;42</title>\n",
       "<path fill=\"none\" stroke=\"black\" d=\"M406.17,-175.6C418.71,-166.53 432.41,-156.61 445.41,-147.21\"/>\n",
       "<polygon fill=\"black\" stroke=\"black\" points=\"447.45,-150.06 453.5,-141.36 443.35,-144.39 447.45,-150.06\"/>\n",
       "</g>\n",
       "<!-- 20 -->\n",
       "<g id=\"node11\" class=\"node\">\n",
       "<title>20</title>\n",
       "<path fill=\"#c0c0c0\" stroke=\"black\" d=\"M363,-36C363,-36 333,-36 333,-36 327,-36 321,-30 321,-24 321,-24 321,-12 321,-12 321,-6 327,0 333,0 333,0 363,0 363,0 369,0 375,-6 375,-12 375,-12 375,-24 375,-24 375,-30 369,-36 363,-36\"/>\n",
       "<text text-anchor=\"middle\" x=\"348\" y=\"-14.3\" font-family=\"Helvetica,sans-Serif\" font-size=\"14.00\">(...)</text>\n",
       "</g>\n",
       "<!-- 19&#45;&gt;20 -->\n",
       "<g id=\"edge10\" class=\"edge\">\n",
       "<title>19&#45;&gt;20</title>\n",
       "<path fill=\"none\" stroke=\"black\" d=\"M354.72,-71.5C353.7,-63.58 352.63,-55.2 351.65,-47.52\"/>\n",
       "<polygon fill=\"black\" stroke=\"black\" points=\"355.13,-47.17 350.39,-37.7 348.19,-48.06 355.13,-47.17\"/>\n",
       "</g>\n",
       "<!-- 27 -->\n",
       "<g id=\"node12\" class=\"node\">\n",
       "<title>27</title>\n",
       "<path fill=\"#c0c0c0\" stroke=\"black\" d=\"M435,-36C435,-36 405,-36 405,-36 399,-36 393,-30 393,-24 393,-24 393,-12 393,-12 393,-6 399,0 405,0 405,0 435,0 435,0 441,0 447,-6 447,-12 447,-12 447,-24 447,-24 447,-30 441,-36 435,-36\"/>\n",
       "<text text-anchor=\"middle\" x=\"420\" y=\"-14.3\" font-family=\"Helvetica,sans-Serif\" font-size=\"14.00\">(...)</text>\n",
       "</g>\n",
       "<!-- 19&#45;&gt;27 -->\n",
       "<g id=\"edge11\" class=\"edge\">\n",
       "<title>19&#45;&gt;27</title>\n",
       "<path fill=\"none\" stroke=\"black\" d=\"M382.76,-71.5C388.91,-62.83 395.46,-53.6 401.31,-45.35\"/>\n",
       "<polygon fill=\"black\" stroke=\"black\" points=\"404,-47.61 406.93,-37.43 398.29,-43.56 404,-47.61\"/>\n",
       "</g>\n",
       "<!-- 43 -->\n",
       "<g id=\"node14\" class=\"node\">\n",
       "<title>43</title>\n",
       "<path fill=\"#c0c0c0\" stroke=\"black\" d=\"M512,-36C512,-36 482,-36 482,-36 476,-36 470,-30 470,-24 470,-24 470,-12 470,-12 470,-6 476,0 482,0 482,0 512,0 512,0 518,0 524,-6 524,-12 524,-12 524,-24 524,-24 524,-30 518,-36 512,-36\"/>\n",
       "<text text-anchor=\"middle\" x=\"497\" y=\"-14.3\" font-family=\"Helvetica,sans-Serif\" font-size=\"14.00\">(...)</text>\n",
       "</g>\n",
       "<!-- 42&#45;&gt;43 -->\n",
       "<g id=\"edge13\" class=\"edge\">\n",
       "<title>42&#45;&gt;43</title>\n",
       "<path fill=\"none\" stroke=\"black\" d=\"M499.44,-71.5C499.07,-63.58 498.68,-55.2 498.33,-47.52\"/>\n",
       "<polygon fill=\"black\" stroke=\"black\" points=\"501.83,-47.54 497.87,-37.71 494.84,-47.86 501.83,-47.54\"/>\n",
       "</g>\n",
       "<!-- 54 -->\n",
       "<g id=\"node15\" class=\"node\">\n",
       "<title>54</title>\n",
       "<path fill=\"#c0c0c0\" stroke=\"black\" d=\"M584,-36C584,-36 554,-36 554,-36 548,-36 542,-30 542,-24 542,-24 542,-12 542,-12 542,-6 548,0 554,0 554,0 584,0 584,0 590,0 596,-6 596,-12 596,-12 596,-24 596,-24 596,-30 590,-36 584,-36\"/>\n",
       "<text text-anchor=\"middle\" x=\"569\" y=\"-14.3\" font-family=\"Helvetica,sans-Serif\" font-size=\"14.00\">(...)</text>\n",
       "</g>\n",
       "<!-- 42&#45;&gt;54 -->\n",
       "<g id=\"edge14\" class=\"edge\">\n",
       "<title>42&#45;&gt;54</title>\n",
       "<path fill=\"none\" stroke=\"black\" d=\"M527.49,-71.5C534.42,-62.73 541.8,-53.4 548.38,-45.08\"/>\n",
       "<polygon fill=\"black\" stroke=\"black\" points=\"551.01,-47.4 554.46,-37.38 545.52,-43.06 551.01,-47.4\"/>\n",
       "</g>\n",
       "</g>\n",
       "</svg>\n"
      ],
      "text/plain": [
       "<graphviz.sources.Source at 0x252afc30be0>"
      ]
     },
     "execution_count": 15,
     "metadata": {},
     "output_type": "execute_result"
    }
   ],
   "source": [
    "out_file = results_path / 'reg_tree_t2.dot'\n",
    "dot_data = export_graphviz(reg_tree_t2,\n",
    "                          out_file=out_file.as_posix(),\n",
    "                          feature_names=X2.columns,\n",
    "                          max_depth=2,\n",
    "                          filled=True,\n",
    "                          rounded=True,\n",
    "                          special_characters=True)\n",
    "if out_file is not None:\n",
    "    do_data = Path(out_file).read_text()\n",
    "\n",
    "graphviz.Source(do_data)"
   ]
  },
  {
   "cell_type": "markdown",
   "metadata": {},
   "source": [
    "### Compare with Linear Regression"
   ]
  },
  {
   "cell_type": "markdown",
   "metadata": {},
   "source": [
    "The OLS summary below and a visualization of the first two levels of the decision tree above reveal the striking differences between the models. The OLS model provides three parameters for the intercepts and the two features in line with the linear assumption.\n",
    "\n",
    "In contrast, the regression tree chart above displays for each node of the first two levels the feature and threshold used to split the data (note that features can be used repeatedly), as well as the current value of the mean-squared error (MSE), the number of samples, and predicted value based on these training samples."
   ]
  },
  {
   "cell_type": "markdown",
   "metadata": {},
   "source": [
    "The tree chart also highlights the uneven distribution of samples across the nodes as the numbers vary between 31,000 and 65,000 samples after only two splits."
   ]
  },
  {
   "cell_type": "markdown",
   "metadata": {},
   "source": [
    "#### statsmodels OLS"
   ]
  },
  {
   "cell_type": "code",
   "execution_count": 16,
   "metadata": {
    "ExecuteTime": {
     "end_time": "2021-04-16T00:32:47.020618Z",
     "start_time": "2021-04-16T00:32:46.994715Z"
    },
    "scrolled": true
   },
   "outputs": [],
   "source": [
    "ols_model = sm.OLS(endog=y2, exog=sm.add_constant(X2))"
   ]
  },
  {
   "cell_type": "code",
   "execution_count": 17,
   "metadata": {
    "ExecuteTime": {
     "end_time": "2021-04-16T00:32:50.247927Z",
     "start_time": "2021-04-16T00:32:47.021772Z"
    }
   },
   "outputs": [
    {
     "name": "stdout",
     "output_type": "stream",
     "text": [
      "39.6 µs ± 1.05 µs per loop (mean ± std. dev. of 7 runs, 10000 loops each)\n"
     ]
    }
   ],
   "source": [
    "%%timeit\n",
    "ols_model.fit()"
   ]
  },
  {
   "cell_type": "code",
   "execution_count": 18,
   "metadata": {
    "ExecuteTime": {
     "end_time": "2021-04-16T00:32:50.306911Z",
     "start_time": "2021-04-16T00:32:50.249060Z"
    }
   },
   "outputs": [
    {
     "name": "stdout",
     "output_type": "stream",
     "text": [
      "                            OLS Regression Results                            \n",
      "==============================================================================\n",
      "Dep. Variable:                      y   R-squared:                       0.001\n",
      "Model:                            OLS   Adj. R-squared:                  0.001\n",
      "Method:                 Least Squares   F-statistic:                     31.83\n",
      "Date:                Wed, 07 Dec 2022   Prob (F-statistic):           1.53e-14\n",
      "Time:                        20:53:11   Log-Likelihood:                 75823.\n",
      "No. Observations:               77176   AIC:                        -1.516e+05\n",
      "Df Residuals:                   77173   BIC:                        -1.516e+05\n",
      "Df Model:                           2                                         \n",
      "Covariance Type:            nonrobust                                         \n",
      "==============================================================================\n",
      "                 coef    std err          t      P>|t|      [0.025      0.975]\n",
      "------------------------------------------------------------------------------\n",
      "const          0.0100      0.000     30.232      0.000       0.009       0.011\n",
      "t-1            0.0227      0.004      6.322      0.000       0.016       0.030\n",
      "t-2           -0.0179      0.004     -5.003      0.000      -0.025      -0.011\n",
      "==============================================================================\n",
      "Omnibus:                     3351.598   Durbin-Watson:                   1.995\n",
      "Prob(Omnibus):                  0.000   Jarque-Bera (JB):            10867.041\n",
      "Skew:                           0.102   Prob(JB):                         0.00\n",
      "Kurtosis:                       4.827   Cond. No.                         11.1\n",
      "==============================================================================\n",
      "\n",
      "Notes:\n",
      "[1] Standard Errors assume that the covariance matrix of the errors is correctly specified.\n"
     ]
    }
   ],
   "source": [
    "result = ols_model.fit()\n",
    "print(result.summary())"
   ]
  },
  {
   "cell_type": "markdown",
   "metadata": {},
   "source": [
    "#### sklearn Linear Regression"
   ]
  },
  {
   "cell_type": "code",
   "execution_count": 19,
   "metadata": {
    "ExecuteTime": {
     "end_time": "2021-04-16T00:32:50.311548Z",
     "start_time": "2021-04-16T00:32:50.309603Z"
    }
   },
   "outputs": [],
   "source": [
    "lin_reg = LinearRegression()"
   ]
  },
  {
   "cell_type": "code",
   "execution_count": 20,
   "metadata": {
    "ExecuteTime": {
     "end_time": "2021-04-16T00:32:52.560013Z",
     "start_time": "2021-04-16T00:32:50.312750Z"
    }
   },
   "outputs": [
    {
     "name": "stdout",
     "output_type": "stream",
     "text": [
      "10.2 ms ± 596 µs per loop (mean ± std. dev. of 7 runs, 100 loops each)\n"
     ]
    }
   ],
   "source": [
    "%%timeit\n",
    "lin_reg.fit(X=X2,y=y2)"
   ]
  },
  {
   "cell_type": "code",
   "execution_count": 21,
   "metadata": {
    "ExecuteTime": {
     "end_time": "2021-04-16T00:32:52.647179Z",
     "start_time": "2021-04-16T00:32:52.560943Z"
    }
   },
   "outputs": [
    {
     "data": {
      "text/html": [
       "<style>#sk-container-id-2 {color: black;background-color: white;}#sk-container-id-2 pre{padding: 0;}#sk-container-id-2 div.sk-toggleable {background-color: white;}#sk-container-id-2 label.sk-toggleable__label {cursor: pointer;display: block;width: 100%;margin-bottom: 0;padding: 0.3em;box-sizing: border-box;text-align: center;}#sk-container-id-2 label.sk-toggleable__label-arrow:before {content: \"▸\";float: left;margin-right: 0.25em;color: #696969;}#sk-container-id-2 label.sk-toggleable__label-arrow:hover:before {color: black;}#sk-container-id-2 div.sk-estimator:hover label.sk-toggleable__label-arrow:before {color: black;}#sk-container-id-2 div.sk-toggleable__content {max-height: 0;max-width: 0;overflow: hidden;text-align: left;background-color: #f0f8ff;}#sk-container-id-2 div.sk-toggleable__content pre {margin: 0.2em;color: black;border-radius: 0.25em;background-color: #f0f8ff;}#sk-container-id-2 input.sk-toggleable__control:checked~div.sk-toggleable__content {max-height: 200px;max-width: 100%;overflow: auto;}#sk-container-id-2 input.sk-toggleable__control:checked~label.sk-toggleable__label-arrow:before {content: \"▾\";}#sk-container-id-2 div.sk-estimator input.sk-toggleable__control:checked~label.sk-toggleable__label {background-color: #d4ebff;}#sk-container-id-2 div.sk-label input.sk-toggleable__control:checked~label.sk-toggleable__label {background-color: #d4ebff;}#sk-container-id-2 input.sk-hidden--visually {border: 0;clip: rect(1px 1px 1px 1px);clip: rect(1px, 1px, 1px, 1px);height: 1px;margin: -1px;overflow: hidden;padding: 0;position: absolute;width: 1px;}#sk-container-id-2 div.sk-estimator {font-family: monospace;background-color: #f0f8ff;border: 1px dotted black;border-radius: 0.25em;box-sizing: border-box;margin-bottom: 0.5em;}#sk-container-id-2 div.sk-estimator:hover {background-color: #d4ebff;}#sk-container-id-2 div.sk-parallel-item::after {content: \"\";width: 100%;border-bottom: 1px solid gray;flex-grow: 1;}#sk-container-id-2 div.sk-label:hover label.sk-toggleable__label {background-color: #d4ebff;}#sk-container-id-2 div.sk-serial::before {content: \"\";position: absolute;border-left: 1px solid gray;box-sizing: border-box;top: 0;bottom: 0;left: 50%;z-index: 0;}#sk-container-id-2 div.sk-serial {display: flex;flex-direction: column;align-items: center;background-color: white;padding-right: 0.2em;padding-left: 0.2em;position: relative;}#sk-container-id-2 div.sk-item {position: relative;z-index: 1;}#sk-container-id-2 div.sk-parallel {display: flex;align-items: stretch;justify-content: center;background-color: white;position: relative;}#sk-container-id-2 div.sk-item::before, #sk-container-id-2 div.sk-parallel-item::before {content: \"\";position: absolute;border-left: 1px solid gray;box-sizing: border-box;top: 0;bottom: 0;left: 50%;z-index: -1;}#sk-container-id-2 div.sk-parallel-item {display: flex;flex-direction: column;z-index: 1;position: relative;background-color: white;}#sk-container-id-2 div.sk-parallel-item:first-child::after {align-self: flex-end;width: 50%;}#sk-container-id-2 div.sk-parallel-item:last-child::after {align-self: flex-start;width: 50%;}#sk-container-id-2 div.sk-parallel-item:only-child::after {width: 0;}#sk-container-id-2 div.sk-dashed-wrapped {border: 1px dashed gray;margin: 0 0.4em 0.5em 0.4em;box-sizing: border-box;padding-bottom: 0.4em;background-color: white;}#sk-container-id-2 div.sk-label label {font-family: monospace;font-weight: bold;display: inline-block;line-height: 1.2em;}#sk-container-id-2 div.sk-label-container {text-align: center;}#sk-container-id-2 div.sk-container {/* jupyter's `normalize.less` sets `[hidden] { display: none; }` but bootstrap.min.css set `[hidden] { display: none !important; }` so we also need the `!important` here to be able to override the default hidden behavior on the sphinx rendered scikit-learn.org. See: https://github.com/scikit-learn/scikit-learn/issues/21755 */display: inline-block !important;position: relative;}#sk-container-id-2 div.sk-text-repr-fallback {display: none;}</style><div id=\"sk-container-id-2\" class=\"sk-top-container\"><div class=\"sk-text-repr-fallback\"><pre>LinearRegression()</pre><b>In a Jupyter environment, please rerun this cell to show the HTML representation or trust the notebook. <br />On GitHub, the HTML representation is unable to render, please try loading this page with nbviewer.org.</b></div><div class=\"sk-container\" hidden><div class=\"sk-item\"><div class=\"sk-estimator sk-toggleable\"><input class=\"sk-toggleable__control sk-hidden--visually\" id=\"sk-estimator-id-2\" type=\"checkbox\" checked><label for=\"sk-estimator-id-2\" class=\"sk-toggleable__label sk-toggleable__label-arrow\">LinearRegression</label><div class=\"sk-toggleable__content\"><pre>LinearRegression()</pre></div></div></div></div></div>"
      ],
      "text/plain": [
       "LinearRegression()"
      ]
     },
     "execution_count": 21,
     "metadata": {},
     "output_type": "execute_result"
    }
   ],
   "source": [
    "lin_reg.fit(X=X2,y=y2)"
   ]
  },
  {
   "cell_type": "code",
   "execution_count": 22,
   "metadata": {
    "ExecuteTime": {
     "end_time": "2021-04-16T00:32:52.651998Z",
     "start_time": "2021-04-16T00:32:52.648519Z"
    }
   },
   "outputs": [
    {
     "data": {
      "text/plain": [
       "0.009971254720772654"
      ]
     },
     "execution_count": 22,
     "metadata": {},
     "output_type": "execute_result"
    }
   ],
   "source": [
    "lin_reg.intercept_"
   ]
  },
  {
   "cell_type": "code",
   "execution_count": 23,
   "metadata": {
    "ExecuteTime": {
     "end_time": "2021-04-16T00:32:52.681349Z",
     "start_time": "2021-04-16T00:32:52.653554Z"
    }
   },
   "outputs": [
    {
     "data": {
      "text/plain": [
       "array([ 0.02269243, -0.01794206])"
      ]
     },
     "execution_count": 23,
     "metadata": {},
     "output_type": "execute_result"
    }
   ],
   "source": [
    "lin_reg.coef_"
   ]
  },
  {
   "cell_type": "markdown",
   "metadata": {},
   "source": [
    "### Linear Regression vs Regression Tree Decision Surfaces"
   ]
  },
  {
   "cell_type": "markdown",
   "metadata": {},
   "source": [
    "To further illustrate the different assumptions about the functional form of the relationships between the input variables and the output, we can visualize current return predictions as a function of the feature space, that is, as a function of the range of values for the lagged returns. The following figure shows the current period return as a function of returns one and two periods ago for linear regression and the regression tree:\n",
    "\n",
    "The linear-regression model result on the right side underlines the linearity of the relationship between lagged and current returns, whereas the regression tree chart on the left illustrates the non-linear relationship encoded in the recursive partitioning of the feature space."
   ]
  },
  {
   "cell_type": "code",
   "execution_count": 24,
   "metadata": {
    "ExecuteTime": {
     "end_time": "2021-04-16T00:32:52.741131Z",
     "start_time": "2021-04-16T00:32:52.716930Z"
    }
   },
   "outputs": [],
   "source": [
    "t1, t2 = np.meshgrid(np.linspace(X2['t-1'].quantile(.01), X2['t-1'].quantile(.99), 100),\n",
    "                     np.linspace(X2['t-2'].quantile(.01), X2['t-2'].quantile(.99), 100))\n",
    "X_data = np.c_[t1.ravel(), t2.ravel()]"
   ]
  },
  {
   "cell_type": "code",
   "execution_count": 25,
   "metadata": {},
   "outputs": [
    {
     "data": {
      "text/plain": [
       "array([[-0.26113826, -0.26286302],\n",
       "       [-0.25553671, -0.26286302],\n",
       "       [-0.24993517, -0.26286302],\n",
       "       ...,\n",
       "       [ 0.2822118 ,  0.2934149 ],\n",
       "       [ 0.28781335,  0.2934149 ],\n",
       "       [ 0.2934149 ,  0.2934149 ]])"
      ]
     },
     "execution_count": 25,
     "metadata": {},
     "output_type": "execute_result"
    }
   ],
   "source": [
    "X_data"
   ]
  },
  {
   "cell_type": "code",
   "execution_count": 26,
   "metadata": {
    "ExecuteTime": {
     "end_time": "2021-04-16T00:32:53.406640Z",
     "start_time": "2021-04-16T00:32:52.742829Z"
    },
    "scrolled": false
   },
   "outputs": [
    {
     "data": {
      "image/png": "[encoded data removed]",
      "text/plain": [
       "<Figure size 1200x500 with 4 Axes>"
      ]
     },
     "metadata": {},
     "output_type": "display_data"
    }
   ],
   "source": [
    "fig, axes = plt.subplots(ncols=2, figsize=(12,5))\n",
    "\n",
    "# Linear Regression\n",
    "ret1 = lin_reg.predict(X_data).reshape(t1.shape)\n",
    "surface1 = axes[0].contourf(t1, t2, ret1, cmap='Blues')\n",
    "plt.colorbar(mappable=surface1, ax=axes[0])\n",
    "\n",
    "# Regression Tree\n",
    "ret2 = reg_tree_t2.predict(X_data).reshape(t1.shape)\n",
    "surface2 = axes[1].contourf(t1, t2, ret2, cmap='Blues')\n",
    "plt.colorbar(mappable=surface2, ax=axes[1])\n",
    "\n",
    "# Format plots\n",
    "titles = ['Linear Regression', 'Regression Tree']\n",
    "for i, ax in enumerate(axes):\n",
    "    ax.set_xlabel('t-1')\n",
    "    ax.set_ylabel('t-2')\n",
    "    ax.set_title(titles[i])\n",
    "\n",
    "fig.suptitle('Decision Surfaces', fontsize=14)\n",
    "sns.despine()\n",
    "fig.tight_layout()\n",
    "fig.subplots_adjust(top=.9);"
   ]
  },
  {
   "cell_type": "markdown",
   "metadata": {},
   "source": [
    "## Simple Classification Tree with Time Series Data"
   ]
  },
  {
   "cell_type": "markdown",
   "metadata": {},
   "source": [
    "A classification tree works just like the regression version, except that categorical nature of the outcome requires a different approach to making predictions and measuring the loss. While a regression tree predicts the response for an observation assigned to a leaf node using the mean outcome of the associated training samples, a classification tree instead uses the mode, that is, the most common class among the training samples in the relevant region. A classification tree can also generate probabilistic predictions based on relative class frequencies."
   ]
  },
  {
   "cell_type": "markdown",
   "metadata": {},
   "source": [
    "### Loss Functions"
   ]
  },
  {
   "cell_type": "markdown",
   "metadata": {},
   "source": [
    "When growing a classification tree, we also use recursive binary splitting but, instead of evaluating the quality of a decision rule using the reduction of the mean-squared error, we can use the classification error rate, which is simply the fraction of the training samples in a given (leave) node that do not belong to the most common class."
   ]
  },
  {
   "cell_type": "markdown",
   "metadata": {},
   "source": [
    "However, the alternative measures, Gini Index or Cross-Entropy, are preferred because they are more sensitive to node purity than the classification error rate. Node purity refers to the extent of the preponderance of a single class in a node. A node that only contains samples with outcomes belonging to a single class is pure and imply successful classification for this particular region of the feature space. "
   ]
  },
  {
   "cell_type": "code",
   "execution_count": 27,
   "metadata": {
    "ExecuteTime": {
     "end_time": "2021-04-16T00:32:53.411641Z",
     "start_time": "2021-04-16T00:32:53.409446Z"
    }
   },
   "outputs": [],
   "source": [
    "def entropy(f):\n",
    "    return (-f*np.log2(f) - (1-f)*np.log2(1-f))/2"
   ]
  },
  {
   "cell_type": "code",
   "execution_count": 28,
   "metadata": {
    "ExecuteTime": {
     "end_time": "2021-04-16T00:32:53.426940Z",
     "start_time": "2021-04-16T00:32:53.414041Z"
    }
   },
   "outputs": [],
   "source": [
    "def gini(f):\n",
    "    return 2*f*(1-f)"
   ]
  },
  {
   "cell_type": "code",
   "execution_count": 29,
   "metadata": {
    "ExecuteTime": {
     "end_time": "2021-04-16T00:32:53.447019Z",
     "start_time": "2021-04-16T00:32:53.443818Z"
    }
   },
   "outputs": [],
   "source": [
    "def misclassification_rate(f):\n",
    "    return np.where(f<=.5, f, 1-f)"
   ]
  },
  {
   "cell_type": "markdown",
   "metadata": {},
   "source": [
    "Both the Gini Impurity and the Cross-Entropy measure take on smaller values when the class proportions approach zero or one, that is, when the child nodes become pure as a result of the split and are highest when the class proportions are even or 0.5 in the binary case. \n",
    "\n",
    "The chart below visualizes the values assumed by these two measures and the misclassification error rates across the [0, 1] interval of proportions."
   ]
  },
  {
   "cell_type": "code",
   "execution_count": 30,
   "metadata": {
    "ExecuteTime": {
     "end_time": "2021-04-16T00:32:53.721436Z",
     "start_time": "2021-04-16T00:32:53.452115Z"
    }
   },
   "outputs": [
    {
     "data": {
      "image/png": "[encoded data removed]",
      "text/plain": [
       "<Figure size 640x480 with 1 Axes>"
      ]
     },
     "metadata": {},
     "output_type": "display_data"
    }
   ],
   "source": [
    "x = np.linspace(0, 1, 10000)\n",
    "(pd.DataFrame({'Gini': gini(x), \n",
    "              'Entropy': entropy(x),\n",
    "             'Misclassification Rate': misclassification_rate(x)}, index=x)\n",
    " .plot(title='Classification Loss Functions', lw=2, style=['-', '--', ':']))\n",
    "sns.despine()\n",
    "plt.tight_layout();"
   ]
  },
  {
   "cell_type": "markdown",
   "metadata": {},
   "source": [
    "#### Compare computation time"
   ]
  },
  {
   "cell_type": "markdown",
   "metadata": {},
   "source": [
    "Gini is often preferred over entropy because it computes faster:"
   ]
  },
  {
   "cell_type": "code",
   "execution_count": 31,
   "metadata": {
    "ExecuteTime": {
     "end_time": "2021-04-16T00:33:08.588281Z",
     "start_time": "2021-04-16T00:32:53.723873Z"
    }
   },
   "outputs": [
    {
     "name": "stdout",
     "output_type": "stream",
     "text": [
      "20.7 µs ± 499 ns per loop (mean ± std. dev. of 7 runs, 10000 loops each)\n"
     ]
    }
   ],
   "source": [
    "%%timeit\n",
    "misclassification_rate(x)"
   ]
  },
  {
   "cell_type": "code",
   "execution_count": 32,
   "metadata": {
    "ExecuteTime": {
     "end_time": "2021-04-16T00:33:18.035051Z",
     "start_time": "2021-04-16T00:33:08.589304Z"
    }
   },
   "outputs": [
    {
     "name": "stdout",
     "output_type": "stream",
     "text": [
      "15.5 µs ± 290 ns per loop (mean ± std. dev. of 7 runs, 100000 loops each)\n"
     ]
    }
   ],
   "source": [
    "%%timeit\n",
    "gini(x)"
   ]
  },
  {
   "cell_type": "code",
   "execution_count": 33,
   "metadata": {
    "ExecuteTime": {
     "end_time": "2021-04-16T00:33:19.423307Z",
     "start_time": "2021-04-16T00:33:18.036362Z"
    }
   },
   "outputs": [
    {
     "name": "stdout",
     "output_type": "stream",
     "text": [
      "266 µs ± 6.82 µs per loop (mean ± std. dev. of 7 runs, 1000 loops each)\n"
     ]
    }
   ],
   "source": [
    "%%timeit\n",
    "entropy(x)"
   ]
  },
  {
   "cell_type": "markdown",
   "metadata": {},
   "source": [
    "### Configure Tree"
   ]
  },
  {
   "cell_type": "code",
   "execution_count": 34,
   "metadata": {
    "ExecuteTime": {
     "end_time": "2021-04-16T00:33:19.427483Z",
     "start_time": "2021-04-16T00:33:19.424763Z"
    }
   },
   "outputs": [],
   "source": [
    "clf_tree_t2 = DecisionTreeClassifier(criterion='gini',\n",
    "                                     splitter='best',\n",
    "                                     max_depth=5,\n",
    "                                     min_samples_split=1000,\n",
    "                                     min_samples_leaf=1,\n",
    "                                     min_weight_fraction_leaf=0.0,\n",
    "                                     max_features=None,\n",
    "                                     random_state=42,\n",
    "                                     max_leaf_nodes=None,\n",
    "                                     min_impurity_decrease=0.0,\n",
    "                                     class_weight=None)"
   ]
  },
  {
   "cell_type": "markdown",
   "metadata": {},
   "source": [
    "### Train Tree"
   ]
  },
  {
   "cell_type": "code",
   "execution_count": 35,
   "metadata": {
    "ExecuteTime": {
     "end_time": "2021-04-16T00:33:19.460489Z",
     "start_time": "2021-04-16T00:33:19.428704Z"
    }
   },
   "outputs": [
    {
     "data": {
      "text/plain": [
       "1    43399\n",
       "0    33777\n",
       "Name: y, dtype: int64"
      ]
     },
     "execution_count": 35,
     "metadata": {},
     "output_type": "execute_result"
    }
   ],
   "source": [
    "y_binary = (y2>0).astype(int)\n",
    "y_binary.value_counts()"
   ]
  },
  {
   "cell_type": "code",
   "execution_count": 36,
   "metadata": {},
   "outputs": [
    {
     "data": {
      "text/plain": [
       "ticker  date      \n",
       "A       2007-01-31    0\n",
       "        2007-02-28    1\n",
       "        2007-03-31    1\n",
       "        2007-04-30    1\n",
       "        2007-05-31    1\n",
       "                     ..\n",
       "ZION    2017-07-31    0\n",
       "        2017-08-31    1\n",
       "        2017-09-30    0\n",
       "        2017-10-31    1\n",
       "        2017-11-30    1\n",
       "Name: y, Length: 77176, dtype: int32"
      ]
     },
     "execution_count": 36,
     "metadata": {},
     "output_type": "execute_result"
    }
   ],
   "source": [
    "y_binary"
   ]
  },
  {
   "cell_type": "code",
   "execution_count": 37,
   "metadata": {
    "ExecuteTime": {
     "end_time": "2021-04-16T00:33:26.269743Z",
     "start_time": "2021-04-16T00:33:19.461996Z"
    },
    "scrolled": true
   },
   "outputs": [
    {
     "name": "stdout",
     "output_type": "stream",
     "text": [
      "118 ms ± 1.62 ms per loop (mean ± std. dev. of 7 runs, 10 loops each)\n"
     ]
    }
   ],
   "source": [
    "%%timeit\n",
    "clf_tree_t2.fit(X=X2, y=y_binary)"
   ]
  },
  {
   "cell_type": "code",
   "execution_count": 38,
   "metadata": {
    "ExecuteTime": {
     "end_time": "2021-04-16T00:33:26.363009Z",
     "start_time": "2021-04-16T00:33:26.270887Z"
    }
   },
   "outputs": [
    {
     "data": {
      "text/html": [
       "<style>#sk-container-id-3 {color: black;background-color: white;}#sk-container-id-3 pre{padding: 0;}#sk-container-id-3 div.sk-toggleable {background-color: white;}#sk-container-id-3 label.sk-toggleable__label {cursor: pointer;display: block;width: 100%;margin-bottom: 0;padding: 0.3em;box-sizing: border-box;text-align: center;}#sk-container-id-3 label.sk-toggleable__label-arrow:before {content: \"▸\";float: left;margin-right: 0.25em;color: #696969;}#sk-container-id-3 label.sk-toggleable__label-arrow:hover:before {color: black;}#sk-container-id-3 div.sk-estimator:hover label.sk-toggleable__label-arrow:before {color: black;}#sk-container-id-3 div.sk-toggleable__content {max-height: 0;max-width: 0;overflow: hidden;text-align: left;background-color: #f0f8ff;}#sk-container-id-3 div.sk-toggleable__content pre {margin: 0.2em;color: black;border-radius: 0.25em;background-color: #f0f8ff;}#sk-container-id-3 input.sk-toggleable__control:checked~div.sk-toggleable__content {max-height: 200px;max-width: 100%;overflow: auto;}#sk-container-id-3 input.sk-toggleable__control:checked~label.sk-toggleable__label-arrow:before {content: \"▾\";}#sk-container-id-3 div.sk-estimator input.sk-toggleable__control:checked~label.sk-toggleable__label {background-color: #d4ebff;}#sk-container-id-3 div.sk-label input.sk-toggleable__control:checked~label.sk-toggleable__label {background-color: #d4ebff;}#sk-container-id-3 input.sk-hidden--visually {border: 0;clip: rect(1px 1px 1px 1px);clip: rect(1px, 1px, 1px, 1px);height: 1px;margin: -1px;overflow: hidden;padding: 0;position: absolute;width: 1px;}#sk-container-id-3 div.sk-estimator {font-family: monospace;background-color: #f0f8ff;border: 1px dotted black;border-radius: 0.25em;box-sizing: border-box;margin-bottom: 0.5em;}#sk-container-id-3 div.sk-estimator:hover {background-color: #d4ebff;}#sk-container-id-3 div.sk-parallel-item::after {content: \"\";width: 100%;border-bottom: 1px solid gray;flex-grow: 1;}#sk-container-id-3 div.sk-label:hover label.sk-toggleable__label {background-color: #d4ebff;}#sk-container-id-3 div.sk-serial::before {content: \"\";position: absolute;border-left: 1px solid gray;box-sizing: border-box;top: 0;bottom: 0;left: 50%;z-index: 0;}#sk-container-id-3 div.sk-serial {display: flex;flex-direction: column;align-items: center;background-color: white;padding-right: 0.2em;padding-left: 0.2em;position: relative;}#sk-container-id-3 div.sk-item {position: relative;z-index: 1;}#sk-container-id-3 div.sk-parallel {display: flex;align-items: stretch;justify-content: center;background-color: white;position: relative;}#sk-container-id-3 div.sk-item::before, #sk-container-id-3 div.sk-parallel-item::before {content: \"\";position: absolute;border-left: 1px solid gray;box-sizing: border-box;top: 0;bottom: 0;left: 50%;z-index: -1;}#sk-container-id-3 div.sk-parallel-item {display: flex;flex-direction: column;z-index: 1;position: relative;background-color: white;}#sk-container-id-3 div.sk-parallel-item:first-child::after {align-self: flex-end;width: 50%;}#sk-container-id-3 div.sk-parallel-item:last-child::after {align-self: flex-start;width: 50%;}#sk-container-id-3 div.sk-parallel-item:only-child::after {width: 0;}#sk-container-id-3 div.sk-dashed-wrapped {border: 1px dashed gray;margin: 0 0.4em 0.5em 0.4em;box-sizing: border-box;padding-bottom: 0.4em;background-color: white;}#sk-container-id-3 div.sk-label label {font-family: monospace;font-weight: bold;display: inline-block;line-height: 1.2em;}#sk-container-id-3 div.sk-label-container {text-align: center;}#sk-container-id-3 div.sk-container {/* jupyter's `normalize.less` sets `[hidden] { display: none; }` but bootstrap.min.css set `[hidden] { display: none !important; }` so we also need the `!important` here to be able to override the default hidden behavior on the sphinx rendered scikit-learn.org. See: https://github.com/scikit-learn/scikit-learn/issues/21755 */display: inline-block !important;position: relative;}#sk-container-id-3 div.sk-text-repr-fallback {display: none;}</style><div id=\"sk-container-id-3\" class=\"sk-top-container\"><div class=\"sk-text-repr-fallback\"><pre>DecisionTreeClassifier(max_depth=5, min_samples_split=1000, random_state=42)</pre><b>In a Jupyter environment, please rerun this cell to show the HTML representation or trust the notebook. <br />On GitHub, the HTML representation is unable to render, please try loading this page with nbviewer.org.</b></div><div class=\"sk-container\" hidden><div class=\"sk-item\"><div class=\"sk-estimator sk-toggleable\"><input class=\"sk-toggleable__control sk-hidden--visually\" id=\"sk-estimator-id-3\" type=\"checkbox\" checked><label for=\"sk-estimator-id-3\" class=\"sk-toggleable__label sk-toggleable__label-arrow\">DecisionTreeClassifier</label><div class=\"sk-toggleable__content\"><pre>DecisionTreeClassifier(max_depth=5, min_samples_split=1000, random_state=42)</pre></div></div></div></div></div>"
      ],
      "text/plain": [
       "DecisionTreeClassifier(max_depth=5, min_samples_split=1000, random_state=42)"
      ]
     },
     "execution_count": 38,
     "metadata": {},
     "output_type": "execute_result"
    }
   ],
   "source": [
    "clf_tree_t2.fit(X=X2, y=y_binary)"
   ]
  },
  {
   "cell_type": "markdown",
   "metadata": {},
   "source": [
    "### Visualize Tree"
   ]
  },
  {
   "cell_type": "code",
   "execution_count": 39,
   "metadata": {
    "ExecuteTime": {
     "end_time": "2021-04-16T00:33:26.404932Z",
     "start_time": "2021-04-16T00:33:26.363983Z"
    }
   },
   "outputs": [
    {
     "data": {
      "image/svg+xml": [
       "<?xml version=\"1.0\" encoding=\"UTF-8\" standalone=\"no\"?>\n",
       "<!DOCTYPE svg PUBLIC \"-//W3C//DTD SVG 1.1//EN\"\n",
       " \"http://www.w3.org/Graphics/SVG/1.1/DTD/svg11.dtd\">\n",
       "<!-- Generated by graphviz version 7.0.4 (20221203.1631)\n",
       " -->\n",
       "<!-- Title: Tree Pages: 1 -->\n",
       "<svg width=\"648pt\" height=\"401pt\"\n",
       " viewBox=\"0.00 0.00 648.00 401.00\" xmlns=\"http://www.w3.org/2000/svg\" xmlns:xlink=\"http://www.w3.org/1999/xlink\">\n",
       "<g id=\"graph0\" class=\"graph\" transform=\"scale(1 1) rotate(0) translate(4 397)\">\n",
       "<title>Tree</title>\n",
       "<polygon fill=\"white\" stroke=\"none\" points=\"-4,4 -4,-397 644,-397 644,4 -4,4\"/>\n",
       "<!-- 0 -->\n",
       "<g id=\"node1\" class=\"node\">\n",
       "<title>0</title>\n",
       "<path fill=\"#d3e9f9\" stroke=\"black\" d=\"M376.5,-393C376.5,-393 237.5,-393 237.5,-393 231.5,-393 225.5,-387 225.5,-381 225.5,-381 225.5,-322 225.5,-322 225.5,-316 231.5,-310 237.5,-310 237.5,-310 376.5,-310 376.5,-310 382.5,-310 388.5,-316 388.5,-322 388.5,-322 388.5,-381 388.5,-381 388.5,-387 382.5,-393 376.5,-393\"/>\n",
       "<text text-anchor=\"start\" x=\"270.5\" y=\"-377.8\" font-family=\"Helvetica,sans-Serif\" font-size=\"14.00\">t&#45;1 ≤ &#45;0.146</text>\n",
       "<text text-anchor=\"start\" x=\"269.5\" y=\"-362.8\" font-family=\"Helvetica,sans-Serif\" font-size=\"14.00\">gini = 0.492</text>\n",
       "<text text-anchor=\"start\" x=\"251\" y=\"-347.8\" font-family=\"Helvetica,sans-Serif\" font-size=\"14.00\">samples = 77176</text>\n",
       "<text text-anchor=\"start\" x=\"233.5\" y=\"-332.8\" font-family=\"Helvetica,sans-Serif\" font-size=\"14.00\">value = [33777, 43399]</text>\n",
       "<text text-anchor=\"start\" x=\"273.5\" y=\"-317.8\" font-family=\"Helvetica,sans-Serif\" font-size=\"14.00\">class = Up</text>\n",
       "</g>\n",
       "<!-- 1 -->\n",
       "<g id=\"node2\" class=\"node\">\n",
       "<title>1</title>\n",
       "<path fill=\"#fef9f5\" stroke=\"black\" d=\"M282,-274C282,-274 160,-274 160,-274 154,-274 148,-268 148,-262 148,-262 148,-203 148,-203 148,-197 154,-191 160,-191 160,-191 282,-191 282,-191 288,-191 294,-197 294,-203 294,-203 294,-262 294,-262 294,-268 288,-274 282,-274\"/>\n",
       "<text text-anchor=\"start\" x=\"184.5\" y=\"-258.8\" font-family=\"Helvetica,sans-Serif\" font-size=\"14.00\">t&#45;2 ≤ &#45;0.179</text>\n",
       "<text text-anchor=\"start\" x=\"192\" y=\"-243.8\" font-family=\"Helvetica,sans-Serif\" font-size=\"14.00\">gini = 0.5</text>\n",
       "<text text-anchor=\"start\" x=\"169.5\" y=\"-228.8\" font-family=\"Helvetica,sans-Serif\" font-size=\"14.00\">samples = 3459</text>\n",
       "<text text-anchor=\"start\" x=\"156\" y=\"-213.8\" font-family=\"Helvetica,sans-Serif\" font-size=\"14.00\">value = [1775, 1684]</text>\n",
       "<text text-anchor=\"start\" x=\"178.5\" y=\"-198.8\" font-family=\"Helvetica,sans-Serif\" font-size=\"14.00\">class = Down</text>\n",
       "</g>\n",
       "<!-- 0&#45;&gt;1 -->\n",
       "<g id=\"edge1\" class=\"edge\">\n",
       "<title>0&#45;&gt;1</title>\n",
       "<path fill=\"none\" stroke=\"black\" d=\"M276.92,-309.58C270.67,-301.07 264.01,-292.01 257.55,-283.23\"/>\n",
       "<polygon fill=\"black\" stroke=\"black\" points=\"260.56,-281.4 251.81,-275.42 254.92,-285.55 260.56,-281.4\"/>\n",
       "<text text-anchor=\"middle\" x=\"247.14\" y=\"-295.21\" font-family=\"Helvetica,sans-Serif\" font-size=\"14.00\">True</text>\n",
       "</g>\n",
       "<!-- 10 -->\n",
       "<g id=\"node7\" class=\"node\">\n",
       "<title>10</title>\n",
       "<path fill=\"#d1e8f9\" stroke=\"black\" d=\"M463.5,-274C463.5,-274 324.5,-274 324.5,-274 318.5,-274 312.5,-268 312.5,-262 312.5,-262 312.5,-203 312.5,-203 312.5,-197 318.5,-191 324.5,-191 324.5,-191 463.5,-191 463.5,-191 469.5,-191 475.5,-197 475.5,-203 475.5,-203 475.5,-262 475.5,-262 475.5,-268 469.5,-274 463.5,-274\"/>\n",
       "<text text-anchor=\"start\" x=\"359.5\" y=\"-258.8\" font-family=\"Helvetica,sans-Serif\" font-size=\"14.00\">t&#45;2 ≤ 0.181</text>\n",
       "<text text-anchor=\"start\" x=\"356.5\" y=\"-243.8\" font-family=\"Helvetica,sans-Serif\" font-size=\"14.00\">gini = 0.491</text>\n",
       "<text text-anchor=\"start\" x=\"338\" y=\"-228.8\" font-family=\"Helvetica,sans-Serif\" font-size=\"14.00\">samples = 73717</text>\n",
       "<text text-anchor=\"start\" x=\"320.5\" y=\"-213.8\" font-family=\"Helvetica,sans-Serif\" font-size=\"14.00\">value = [32002, 41715]</text>\n",
       "<text text-anchor=\"start\" x=\"360.5\" y=\"-198.8\" font-family=\"Helvetica,sans-Serif\" font-size=\"14.00\">class = Up</text>\n",
       "</g>\n",
       "<!-- 0&#45;&gt;10 -->\n",
       "<g id=\"edge6\" class=\"edge\">\n",
       "<title>0&#45;&gt;10</title>\n",
       "<path fill=\"none\" stroke=\"black\" d=\"M337.43,-309.58C343.76,-301.07 350.49,-292.01 357.02,-283.23\"/>\n",
       "<polygon fill=\"black\" stroke=\"black\" points=\"359.67,-285.53 362.83,-275.41 354.06,-281.35 359.67,-285.53\"/>\n",
       "<text text-anchor=\"middle\" x=\"367.37\" y=\"-295.23\" font-family=\"Helvetica,sans-Serif\" font-size=\"14.00\">False</text>\n",
       "</g>\n",
       "<!-- 2 -->\n",
       "<g id=\"node3\" class=\"node\">\n",
       "<title>2</title>\n",
       "<path fill=\"#d6ebfa\" stroke=\"black\" d=\"M118,-147.5C118,-147.5 12,-147.5 12,-147.5 6,-147.5 0,-141.5 0,-135.5 0,-135.5 0,-91.5 0,-91.5 0,-85.5 6,-79.5 12,-79.5 12,-79.5 118,-79.5 118,-79.5 124,-79.5 130,-85.5 130,-91.5 130,-91.5 130,-135.5 130,-135.5 130,-141.5 124,-147.5 118,-147.5\"/>\n",
       "<text text-anchor=\"start\" x=\"27.5\" y=\"-132.3\" font-family=\"Helvetica,sans-Serif\" font-size=\"14.00\">gini = 0.493</text>\n",
       "<text text-anchor=\"start\" x=\"17.5\" y=\"-117.3\" font-family=\"Helvetica,sans-Serif\" font-size=\"14.00\">samples = 471</text>\n",
       "<text text-anchor=\"start\" x=\"8\" y=\"-102.3\" font-family=\"Helvetica,sans-Serif\" font-size=\"14.00\">value = [208, 263]</text>\n",
       "<text text-anchor=\"start\" x=\"31.5\" y=\"-87.3\" font-family=\"Helvetica,sans-Serif\" font-size=\"14.00\">class = Up</text>\n",
       "</g>\n",
       "<!-- 1&#45;&gt;2 -->\n",
       "<g id=\"edge2\" class=\"edge\">\n",
       "<title>1&#45;&gt;2</title>\n",
       "<path fill=\"none\" stroke=\"black\" d=\"M166.44,-190.58C150.87,-178.9 133.92,-166.19 118.42,-154.57\"/>\n",
       "<polygon fill=\"black\" stroke=\"black\" points=\"120.79,-151.97 110.69,-148.77 116.59,-157.57 120.79,-151.97\"/>\n",
       "</g>\n",
       "<!-- 3 -->\n",
       "<g id=\"node4\" class=\"node\">\n",
       "<title>3</title>\n",
       "<path fill=\"#fdf3ed\" stroke=\"black\" d=\"M282,-155C282,-155 160,-155 160,-155 154,-155 148,-149 148,-143 148,-143 148,-84 148,-84 148,-78 154,-72 160,-72 160,-72 282,-72 282,-72 288,-72 294,-78 294,-84 294,-84 294,-143 294,-143 294,-149 288,-155 282,-155\"/>\n",
       "<text text-anchor=\"start\" x=\"184.5\" y=\"-139.8\" font-family=\"Helvetica,sans-Serif\" font-size=\"14.00\">t&#45;1 ≤ &#45;0.262</text>\n",
       "<text text-anchor=\"start\" x=\"183.5\" y=\"-124.8\" font-family=\"Helvetica,sans-Serif\" font-size=\"14.00\">gini = 0.499</text>\n",
       "<text text-anchor=\"start\" x=\"169.5\" y=\"-109.8\" font-family=\"Helvetica,sans-Serif\" font-size=\"14.00\">samples = 2988</text>\n",
       "<text text-anchor=\"start\" x=\"156\" y=\"-94.8\" font-family=\"Helvetica,sans-Serif\" font-size=\"14.00\">value = [1567, 1421]</text>\n",
       "<text text-anchor=\"start\" x=\"178.5\" y=\"-79.8\" font-family=\"Helvetica,sans-Serif\" font-size=\"14.00\">class = Down</text>\n",
       "</g>\n",
       "<!-- 1&#45;&gt;3 -->\n",
       "<g id=\"edge3\" class=\"edge\">\n",
       "<title>1&#45;&gt;3</title>\n",
       "<path fill=\"none\" stroke=\"black\" d=\"M221,-190.58C221,-182.79 221,-174.53 221,-166.45\"/>\n",
       "<polygon fill=\"black\" stroke=\"black\" points=\"224.5,-166.71 221,-156.71 217.5,-166.71 224.5,-166.71\"/>\n",
       "</g>\n",
       "<!-- 4 -->\n",
       "<g id=\"node5\" class=\"node\">\n",
       "<title>4</title>\n",
       "<path fill=\"#c0c0c0\" stroke=\"black\" d=\"M207,-36C207,-36 177,-36 177,-36 171,-36 165,-30 165,-24 165,-24 165,-12 165,-12 165,-6 171,0 177,0 177,0 207,0 207,0 213,0 219,-6 219,-12 219,-12 219,-24 219,-24 219,-30 213,-36 207,-36\"/>\n",
       "<text text-anchor=\"middle\" x=\"192\" y=\"-14.3\" font-family=\"Helvetica,sans-Serif\" font-size=\"14.00\">(...)</text>\n",
       "</g>\n",
       "<!-- 3&#45;&gt;4 -->\n",
       "<g id=\"edge4\" class=\"edge\">\n",
       "<title>3&#45;&gt;4</title>\n",
       "<path fill=\"none\" stroke=\"black\" d=\"M208.36,-71.76C205.81,-63.53 203.18,-55.04 200.79,-47.34\"/>\n",
       "<polygon fill=\"black\" stroke=\"black\" points=\"204.15,-46.36 197.85,-37.85 197.47,-48.44 204.15,-46.36\"/>\n",
       "</g>\n",
       "<!-- 5 -->\n",
       "<g id=\"node6\" class=\"node\">\n",
       "<title>5</title>\n",
       "<path fill=\"#c0c0c0\" stroke=\"black\" d=\"M279,-36C279,-36 249,-36 249,-36 243,-36 237,-30 237,-24 237,-24 237,-12 237,-12 237,-6 243,0 249,0 249,0 279,0 279,0 285,0 291,-6 291,-12 291,-12 291,-24 291,-24 291,-30 285,-36 279,-36\"/>\n",
       "<text text-anchor=\"middle\" x=\"264\" y=\"-14.3\" font-family=\"Helvetica,sans-Serif\" font-size=\"14.00\">(...)</text>\n",
       "</g>\n",
       "<!-- 3&#45;&gt;5 -->\n",
       "<g id=\"edge5\" class=\"edge\">\n",
       "<title>3&#45;&gt;5</title>\n",
       "<path fill=\"none\" stroke=\"black\" d=\"M239.74,-71.76C243.61,-63.33 247.61,-54.64 251.22,-46.8\"/>\n",
       "<polygon fill=\"black\" stroke=\"black\" points=\"254.36,-48.33 255.36,-37.78 248,-45.4 254.36,-48.33\"/>\n",
       "</g>\n",
       "<!-- 11 -->\n",
       "<g id=\"node8\" class=\"node\">\n",
       "<title>11</title>\n",
       "<path fill=\"#d0e8f9\" stroke=\"black\" d=\"M463.5,-155C463.5,-155 324.5,-155 324.5,-155 318.5,-155 312.5,-149 312.5,-143 312.5,-143 312.5,-84 312.5,-84 312.5,-78 318.5,-72 324.5,-72 324.5,-72 463.5,-72 463.5,-72 469.5,-72 475.5,-78 475.5,-84 475.5,-84 475.5,-143 475.5,-143 475.5,-149 469.5,-155 463.5,-155\"/>\n",
       "<text text-anchor=\"start\" x=\"357.5\" y=\"-139.8\" font-family=\"Helvetica,sans-Serif\" font-size=\"14.00\">t&#45;2 ≤ &#45;0.148</text>\n",
       "<text text-anchor=\"start\" x=\"356.5\" y=\"-124.8\" font-family=\"Helvetica,sans-Serif\" font-size=\"14.00\">gini = 0.491</text>\n",
       "<text text-anchor=\"start\" x=\"338\" y=\"-109.8\" font-family=\"Helvetica,sans-Serif\" font-size=\"14.00\">samples = 71340</text>\n",
       "<text text-anchor=\"start\" x=\"320.5\" y=\"-94.8\" font-family=\"Helvetica,sans-Serif\" font-size=\"14.00\">value = [30833, 40507]</text>\n",
       "<text text-anchor=\"start\" x=\"360.5\" y=\"-79.8\" font-family=\"Helvetica,sans-Serif\" font-size=\"14.00\">class = Up</text>\n",
       "</g>\n",
       "<!-- 10&#45;&gt;11 -->\n",
       "<g id=\"edge7\" class=\"edge\">\n",
       "<title>10&#45;&gt;11</title>\n",
       "<path fill=\"none\" stroke=\"black\" d=\"M394,-190.58C394,-182.79 394,-174.53 394,-166.45\"/>\n",
       "<polygon fill=\"black\" stroke=\"black\" points=\"397.5,-166.71 394,-156.71 390.5,-166.71 397.5,-166.71\"/>\n",
       "</g>\n",
       "<!-- 24 -->\n",
       "<g id=\"node11\" class=\"node\">\n",
       "<title>24</title>\n",
       "<path fill=\"#f9fcfe\" stroke=\"black\" d=\"M628,-155C628,-155 506,-155 506,-155 500,-155 494,-149 494,-143 494,-143 494,-84 494,-84 494,-78 500,-72 506,-72 506,-72 628,-72 628,-72 634,-72 640,-78 640,-84 640,-84 640,-143 640,-143 640,-149 634,-155 628,-155\"/>\n",
       "<text text-anchor=\"start\" x=\"532.5\" y=\"-139.8\" font-family=\"Helvetica,sans-Serif\" font-size=\"14.00\">t&#45;1 ≤ 0.144</text>\n",
       "<text text-anchor=\"start\" x=\"538\" y=\"-124.8\" font-family=\"Helvetica,sans-Serif\" font-size=\"14.00\">gini = 0.5</text>\n",
       "<text text-anchor=\"start\" x=\"515.5\" y=\"-109.8\" font-family=\"Helvetica,sans-Serif\" font-size=\"14.00\">samples = 2377</text>\n",
       "<text text-anchor=\"start\" x=\"502\" y=\"-94.8\" font-family=\"Helvetica,sans-Serif\" font-size=\"14.00\">value = [1169, 1208]</text>\n",
       "<text text-anchor=\"start\" x=\"533.5\" y=\"-79.8\" font-family=\"Helvetica,sans-Serif\" font-size=\"14.00\">class = Up</text>\n",
       "</g>\n",
       "<!-- 10&#45;&gt;24 -->\n",
       "<g id=\"edge10\" class=\"edge\">\n",
       "<title>10&#45;&gt;24</title>\n",
       "<path fill=\"none\" stroke=\"black\" d=\"M454.51,-190.58C468.33,-181.23 483.14,-171.21 497.32,-161.63\"/>\n",
       "<polygon fill=\"black\" stroke=\"black\" points=\"498.95,-164.75 505.27,-156.25 495.03,-158.95 498.95,-164.75\"/>\n",
       "</g>\n",
       "<!-- 12 -->\n",
       "<g id=\"node9\" class=\"node\">\n",
       "<title>12</title>\n",
       "<path fill=\"#c0c0c0\" stroke=\"black\" d=\"M380,-36C380,-36 350,-36 350,-36 344,-36 338,-30 338,-24 338,-24 338,-12 338,-12 338,-6 344,0 350,0 350,0 380,0 380,0 386,0 392,-6 392,-12 392,-12 392,-24 392,-24 392,-30 386,-36 380,-36\"/>\n",
       "<text text-anchor=\"middle\" x=\"365\" y=\"-14.3\" font-family=\"Helvetica,sans-Serif\" font-size=\"14.00\">(...)</text>\n",
       "</g>\n",
       "<!-- 11&#45;&gt;12 -->\n",
       "<g id=\"edge8\" class=\"edge\">\n",
       "<title>11&#45;&gt;12</title>\n",
       "<path fill=\"none\" stroke=\"black\" d=\"M381.36,-71.76C378.81,-63.53 376.18,-55.04 373.79,-47.34\"/>\n",
       "<polygon fill=\"black\" stroke=\"black\" points=\"377.15,-46.36 370.85,-37.85 370.47,-48.44 377.15,-46.36\"/>\n",
       "</g>\n",
       "<!-- 17 -->\n",
       "<g id=\"node10\" class=\"node\">\n",
       "<title>17</title>\n",
       "<path fill=\"#c0c0c0\" stroke=\"black\" d=\"M452,-36C452,-36 422,-36 422,-36 416,-36 410,-30 410,-24 410,-24 410,-12 410,-12 410,-6 416,0 422,0 422,0 452,0 452,0 458,0 464,-6 464,-12 464,-12 464,-24 464,-24 464,-30 458,-36 452,-36\"/>\n",
       "<text text-anchor=\"middle\" x=\"437\" y=\"-14.3\" font-family=\"Helvetica,sans-Serif\" font-size=\"14.00\">(...)</text>\n",
       "</g>\n",
       "<!-- 11&#45;&gt;17 -->\n",
       "<g id=\"edge9\" class=\"edge\">\n",
       "<title>11&#45;&gt;17</title>\n",
       "<path fill=\"none\" stroke=\"black\" d=\"M412.74,-71.76C416.61,-63.33 420.61,-54.64 424.22,-46.8\"/>\n",
       "<polygon fill=\"black\" stroke=\"black\" points=\"427.36,-48.33 428.36,-37.78 421,-45.4 427.36,-48.33\"/>\n",
       "</g>\n",
       "<!-- 25 -->\n",
       "<g id=\"node12\" class=\"node\">\n",
       "<title>25</title>\n",
       "<path fill=\"#c0c0c0\" stroke=\"black\" d=\"M538,-36C538,-36 508,-36 508,-36 502,-36 496,-30 496,-24 496,-24 496,-12 496,-12 496,-6 502,0 508,0 508,0 538,0 538,0 544,0 550,-6 550,-12 550,-12 550,-24 550,-24 550,-30 544,-36 538,-36\"/>\n",
       "<text text-anchor=\"middle\" x=\"523\" y=\"-14.3\" font-family=\"Helvetica,sans-Serif\" font-size=\"14.00\">(...)</text>\n",
       "</g>\n",
       "<!-- 24&#45;&gt;25 -->\n",
       "<g id=\"edge11\" class=\"edge\">\n",
       "<title>24&#45;&gt;25</title>\n",
       "<path fill=\"none\" stroke=\"black\" d=\"M547.83,-71.76C543.86,-63.33 539.77,-54.64 536.08,-46.8\"/>\n",
       "<polygon fill=\"black\" stroke=\"black\" points=\"539.26,-45.33 531.84,-37.77 532.93,-48.31 539.26,-45.33\"/>\n",
       "</g>\n",
       "<!-- 30 -->\n",
       "<g id=\"node13\" class=\"node\">\n",
       "<title>30</title>\n",
       "<path fill=\"#c0c0c0\" stroke=\"black\" d=\"M610,-36C610,-36 580,-36 580,-36 574,-36 568,-30 568,-24 568,-24 568,-12 568,-12 568,-6 574,0 580,0 580,0 610,0 610,0 616,0 622,-6 622,-12 622,-12 622,-24 622,-24 622,-30 616,-36 610,-36\"/>\n",
       "<text text-anchor=\"middle\" x=\"595\" y=\"-14.3\" font-family=\"Helvetica,sans-Serif\" font-size=\"14.00\">(...)</text>\n",
       "</g>\n",
       "<!-- 24&#45;&gt;30 -->\n",
       "<g id=\"edge12\" class=\"edge\">\n",
       "<title>24&#45;&gt;30</title>\n",
       "<path fill=\"none\" stroke=\"black\" d=\"M579.2,-71.76C581.67,-63.53 584.21,-55.04 586.51,-47.34\"/>\n",
       "<polygon fill=\"black\" stroke=\"black\" points=\"589.84,-48.44 589.35,-37.86 583.13,-46.43 589.84,-48.44\"/>\n",
       "</g>\n",
       "</g>\n",
       "</svg>\n"
      ],
      "text/plain": [
       "<graphviz.sources.Source at 0x252b0df1e80>"
      ]
     },
     "execution_count": 39,
     "metadata": {},
     "output_type": "execute_result"
    }
   ],
   "source": [
    "out_file = results_path / 'clf_tree_t2.dot'\n",
    "dot_data = export_graphviz(clf_tree_t2,\n",
    "                           out_file=out_file.as_posix(),\n",
    "                           feature_names=X2.columns,\n",
    "                           class_names=['Down', 'Up'],\n",
    "                           max_depth=2,\n",
    "                           filled=True,\n",
    "                           rounded=True,\n",
    "                           special_characters=True)\n",
    "if out_file is not None:\n",
    "    dot_data = Path(out_file).read_text()\n",
    "\n",
    "graphviz.Source(dot_data)"
   ]
  },
  {
   "cell_type": "markdown",
   "metadata": {},
   "source": [
    "### Compare with Logistic Regression"
   ]
  },
  {
   "cell_type": "markdown",
   "metadata": {},
   "source": [
    "#### Statsmodels"
   ]
  },
  {
   "cell_type": "code",
   "execution_count": 40,
   "metadata": {
    "ExecuteTime": {
     "end_time": "2021-04-16T00:33:26.431166Z",
     "start_time": "2021-04-16T00:33:26.406282Z"
    }
   },
   "outputs": [],
   "source": [
    "log_reg_sm = sm.Logit(endog=y_binary, exog=sm.add_constant(X2))"
   ]
  },
  {
   "cell_type": "code",
   "execution_count": 41,
   "metadata": {
    "ExecuteTime": {
     "end_time": "2021-04-16T00:33:28.117793Z",
     "start_time": "2021-04-16T00:33:26.432422Z"
    },
    "scrolled": false
   },
   "outputs": [
    {
     "name": "stdout",
     "output_type": "stream",
     "text": [
      "21.9 ms ± 744 µs per loop (mean ± std. dev. of 7 runs, 10 loops each)\n"
     ]
    }
   ],
   "source": [
    "%%timeit\n",
    "log_reg_sm.fit(disp=False)"
   ]
  },
  {
   "cell_type": "code",
   "execution_count": 42,
   "metadata": {
    "ExecuteTime": {
     "end_time": "2021-04-16T00:33:28.199185Z",
     "start_time": "2021-04-16T00:33:28.119038Z"
    }
   },
   "outputs": [
    {
     "name": "stdout",
     "output_type": "stream",
     "text": [
      "Optimization terminated successfully.\n",
      "         Current function value: 0.685278\n",
      "         Iterations 4\n"
     ]
    }
   ],
   "source": [
    "log_result = log_reg_sm.fit()"
   ]
  },
  {
   "cell_type": "code",
   "execution_count": 43,
   "metadata": {
    "ExecuteTime": {
     "end_time": "2021-04-16T00:33:28.452764Z",
     "start_time": "2021-04-16T00:33:28.200353Z"
    }
   },
   "outputs": [
    {
     "name": "stdout",
     "output_type": "stream",
     "text": [
      "                           Logit Regression Results                           \n",
      "==============================================================================\n",
      "Dep. Variable:                      y   No. Observations:                77176\n",
      "Model:                          Logit   Df Residuals:                    77173\n",
      "Method:                           MLE   Df Model:                            2\n",
      "Date:                Wed, 07 Dec 2022   Pseudo R-squ.:               0.0001127\n",
      "Time:                        20:53:54   Log-Likelihood:                -52887.\n",
      "converged:                       True   LL-Null:                       -52893.\n",
      "Covariance Type:            nonrobust   LLR p-value:                  0.002584\n",
      "==============================================================================\n",
      "                 coef    std err          z      P>|z|      [0.025      0.975]\n",
      "------------------------------------------------------------------------------\n",
      "const          0.2485      0.007     33.873      0.000       0.234       0.263\n",
      "t-1            0.2712      0.080      3.394      0.001       0.115       0.428\n",
      "t-2           -0.0560      0.080     -0.701      0.483      -0.212       0.100\n",
      "==============================================================================\n"
     ]
    }
   ],
   "source": [
    "print(log_result.summary())"
   ]
  },
  {
   "cell_type": "markdown",
   "metadata": {},
   "source": [
    "#### sklearn"
   ]
  },
  {
   "cell_type": "code",
   "execution_count": 44,
   "metadata": {
    "ExecuteTime": {
     "end_time": "2021-04-16T00:33:28.458948Z",
     "start_time": "2021-04-16T00:33:28.455385Z"
    }
   },
   "outputs": [],
   "source": [
    "log_reg_sk = LogisticRegression()"
   ]
  },
  {
   "cell_type": "code",
   "execution_count": 45,
   "metadata": {
    "ExecuteTime": {
     "end_time": "2021-04-16T00:33:33.909359Z",
     "start_time": "2021-04-16T00:33:28.461195Z"
    }
   },
   "outputs": [
    {
     "name": "stdout",
     "output_type": "stream",
     "text": [
      "58.4 ms ± 3.05 ms per loop (mean ± std. dev. of 7 runs, 10 loops each)\n"
     ]
    }
   ],
   "source": [
    "%%timeit\n",
    "log_reg_sk.fit(X=X2, y=y_binary)"
   ]
  },
  {
   "cell_type": "code",
   "execution_count": 46,
   "metadata": {
    "ExecuteTime": {
     "end_time": "2021-04-16T00:33:34.057197Z",
     "start_time": "2021-04-16T00:33:33.910465Z"
    }
   },
   "outputs": [
    {
     "data": {
      "text/html": [
       "<style>#sk-container-id-4 {color: black;background-color: white;}#sk-container-id-4 pre{padding: 0;}#sk-container-id-4 div.sk-toggleable {background-color: white;}#sk-container-id-4 label.sk-toggleable__label {cursor: pointer;display: block;width: 100%;margin-bottom: 0;padding: 0.3em;box-sizing: border-box;text-align: center;}#sk-container-id-4 label.sk-toggleable__label-arrow:before {content: \"▸\";float: left;margin-right: 0.25em;color: #696969;}#sk-container-id-4 label.sk-toggleable__label-arrow:hover:before {color: black;}#sk-container-id-4 div.sk-estimator:hover label.sk-toggleable__label-arrow:before {color: black;}#sk-container-id-4 div.sk-toggleable__content {max-height: 0;max-width: 0;overflow: hidden;text-align: left;background-color: #f0f8ff;}#sk-container-id-4 div.sk-toggleable__content pre {margin: 0.2em;color: black;border-radius: 0.25em;background-color: #f0f8ff;}#sk-container-id-4 input.sk-toggleable__control:checked~div.sk-toggleable__content {max-height: 200px;max-width: 100%;overflow: auto;}#sk-container-id-4 input.sk-toggleable__control:checked~label.sk-toggleable__label-arrow:before {content: \"▾\";}#sk-container-id-4 div.sk-estimator input.sk-toggleable__control:checked~label.sk-toggleable__label {background-color: #d4ebff;}#sk-container-id-4 div.sk-label input.sk-toggleable__control:checked~label.sk-toggleable__label {background-color: #d4ebff;}#sk-container-id-4 input.sk-hidden--visually {border: 0;clip: rect(1px 1px 1px 1px);clip: rect(1px, 1px, 1px, 1px);height: 1px;margin: -1px;overflow: hidden;padding: 0;position: absolute;width: 1px;}#sk-container-id-4 div.sk-estimator {font-family: monospace;background-color: #f0f8ff;border: 1px dotted black;border-radius: 0.25em;box-sizing: border-box;margin-bottom: 0.5em;}#sk-container-id-4 div.sk-estimator:hover {background-color: #d4ebff;}#sk-container-id-4 div.sk-parallel-item::after {content: \"\";width: 100%;border-bottom: 1px solid gray;flex-grow: 1;}#sk-container-id-4 div.sk-label:hover label.sk-toggleable__label {background-color: #d4ebff;}#sk-container-id-4 div.sk-serial::before {content: \"\";position: absolute;border-left: 1px solid gray;box-sizing: border-box;top: 0;bottom: 0;left: 50%;z-index: 0;}#sk-container-id-4 div.sk-serial {display: flex;flex-direction: column;align-items: center;background-color: white;padding-right: 0.2em;padding-left: 0.2em;position: relative;}#sk-container-id-4 div.sk-item {position: relative;z-index: 1;}#sk-container-id-4 div.sk-parallel {display: flex;align-items: stretch;justify-content: center;background-color: white;position: relative;}#sk-container-id-4 div.sk-item::before, #sk-container-id-4 div.sk-parallel-item::before {content: \"\";position: absolute;border-left: 1px solid gray;box-sizing: border-box;top: 0;bottom: 0;left: 50%;z-index: -1;}#sk-container-id-4 div.sk-parallel-item {display: flex;flex-direction: column;z-index: 1;position: relative;background-color: white;}#sk-container-id-4 div.sk-parallel-item:first-child::after {align-self: flex-end;width: 50%;}#sk-container-id-4 div.sk-parallel-item:last-child::after {align-self: flex-start;width: 50%;}#sk-container-id-4 div.sk-parallel-item:only-child::after {width: 0;}#sk-container-id-4 div.sk-dashed-wrapped {border: 1px dashed gray;margin: 0 0.4em 0.5em 0.4em;box-sizing: border-box;padding-bottom: 0.4em;background-color: white;}#sk-container-id-4 div.sk-label label {font-family: monospace;font-weight: bold;display: inline-block;line-height: 1.2em;}#sk-container-id-4 div.sk-label-container {text-align: center;}#sk-container-id-4 div.sk-container {/* jupyter's `normalize.less` sets `[hidden] { display: none; }` but bootstrap.min.css set `[hidden] { display: none !important; }` so we also need the `!important` here to be able to override the default hidden behavior on the sphinx rendered scikit-learn.org. See: https://github.com/scikit-learn/scikit-learn/issues/21755 */display: inline-block !important;position: relative;}#sk-container-id-4 div.sk-text-repr-fallback {display: none;}</style><div id=\"sk-container-id-4\" class=\"sk-top-container\"><div class=\"sk-text-repr-fallback\"><pre>LogisticRegression()</pre><b>In a Jupyter environment, please rerun this cell to show the HTML representation or trust the notebook. <br />On GitHub, the HTML representation is unable to render, please try loading this page with nbviewer.org.</b></div><div class=\"sk-container\" hidden><div class=\"sk-item\"><div class=\"sk-estimator sk-toggleable\"><input class=\"sk-toggleable__control sk-hidden--visually\" id=\"sk-estimator-id-4\" type=\"checkbox\" checked><label for=\"sk-estimator-id-4\" class=\"sk-toggleable__label sk-toggleable__label-arrow\">LogisticRegression</label><div class=\"sk-toggleable__content\"><pre>LogisticRegression()</pre></div></div></div></div></div>"
      ],
      "text/plain": [
       "LogisticRegression()"
      ]
     },
     "execution_count": 46,
     "metadata": {},
     "output_type": "execute_result"
    }
   ],
   "source": [
    "log_reg_sk.fit(X=X2, y=y_binary)"
   ]
  },
  {
   "cell_type": "code",
   "execution_count": 47,
   "metadata": {
    "ExecuteTime": {
     "end_time": "2021-04-16T00:33:34.066180Z",
     "start_time": "2021-04-16T00:33:34.058359Z"
    }
   },
   "outputs": [
    {
     "data": {
      "text/plain": [
       "array([[ 0.26951533, -0.05558622]])"
      ]
     },
     "execution_count": 47,
     "metadata": {},
     "output_type": "execute_result"
    }
   ],
   "source": [
    "log_reg_sk.coef_"
   ]
  },
  {
   "cell_type": "markdown",
   "metadata": {},
   "source": [
    "### Decision Surfaces: Classifier Tree vs. Logistic Regression "
   ]
  },
  {
   "cell_type": "code",
   "execution_count": 48,
   "metadata": {
    "ExecuteTime": {
     "end_time": "2021-04-16T00:33:34.454616Z",
     "start_time": "2021-04-16T00:33:34.072296Z"
    }
   },
   "outputs": [
    {
     "data": {
      "image/png": "[encoded data removed]",
      "text/plain": [
       "<Figure size 1200x500 with 4 Axes>"
      ]
     },
     "metadata": {},
     "output_type": "display_data"
    }
   ],
   "source": [
    "fig, axes = plt.subplots(ncols=2, figsize=(12,5))\n",
    "\n",
    "# Linear Regression\n",
    "ret1 = log_reg_sk.predict_proba(X_data)[:, 1].reshape(t1.shape)\n",
    "surface1 = axes[0].contourf(t1, t2, ret1, cmap='Blues')\n",
    "plt.colorbar(mappable=surface1, ax=axes[0])\n",
    "\n",
    "# Regression Tree\n",
    "ret2 = clf_tree_t2.predict_proba(X_data)[:, 1].reshape(t1.shape)\n",
    "surface2 = axes[1].contourf(t1, t2, ret2, cmap='Blues')\n",
    "plt.colorbar(mappable=surface2, ax=axes[1])\n",
    "\n",
    "# Format plots\n",
    "titles = ['Logistic Regression', 'Classification Tree']\n",
    "for i, ax in enumerate(axes):\n",
    "    ax.set_xlabel('t-1')\n",
    "    ax.set_ylabel('t-2')\n",
    "    ax.set_title(titles[i])\n",
    "\n",
    "fig.suptitle('Decision Surfaces', fontsize=20)\n",
    "sns.despine()\n",
    "fig.tight_layout()\n",
    "fig.subplots_adjust(top=.9);"
   ]
  },
  {
   "cell_type": "markdown",
   "metadata": {},
   "source": [
    "## Regression Tree with all Features"
   ]
  },
  {
   "cell_type": "markdown",
   "metadata": {},
   "source": [
    "We now train, visualize, and evaluate a regression tree with up to 5 consecutive splits using 80% of the samples for training to predict the remaining 20%.\n",
    "\n",
    "We are taking a shortcut here to simplify the illustration and use the built-in train_test_split, which does not protect against lookahead bias, as our custom iterator. The tree configuration implies up to $2^5=32$ leaf nodes that, on average in the balanced case, would contain over 4,300 of the training samples."
   ]
  },
  {
   "cell_type": "markdown",
   "metadata": {},
   "source": [
    "### Train-Test Split"
   ]
  },
  {
   "cell_type": "code",
   "execution_count": 49,
   "metadata": {
    "ExecuteTime": {
     "end_time": "2021-04-16T00:33:34.491936Z",
     "start_time": "2021-04-16T00:33:34.455838Z"
    }
   },
   "outputs": [],
   "source": [
    "X = pd.get_dummies(data.drop('target', axis=1))\n",
    "y = data.target"
   ]
  },
  {
   "cell_type": "code",
   "execution_count": 50,
   "metadata": {},
   "outputs": [
    {
     "data": {
      "text/html": [
       "<div>\n",
       "<style scoped>\n",
       "    .dataframe tbody tr th:only-of-type {\n",
       "        vertical-align: middle;\n",
       "    }\n",
       "\n",
       "    .dataframe tbody tr th {\n",
       "        vertical-align: top;\n",
       "    }\n",
       "\n",
       "    .dataframe thead th {\n",
       "        text-align: right;\n",
       "    }\n",
       "</style>\n",
       "<table border=\"1\" class=\"dataframe\">\n",
       "  <thead>\n",
       "    <tr style=\"text-align: right;\">\n",
       "      <th></th>\n",
       "      <th></th>\n",
       "      <th>atr</th>\n",
       "      <th>bb_down</th>\n",
       "      <th>bb_high</th>\n",
       "      <th>bb_low</th>\n",
       "      <th>bb_mid</th>\n",
       "      <th>bb_up</th>\n",
       "      <th>macd</th>\n",
       "      <th>natr</th>\n",
       "      <th>rsi</th>\n",
       "      <th>return_1m</th>\n",
       "      <th>...</th>\n",
       "      <th>sector_Consumer Durables</th>\n",
       "      <th>sector_Consumer Non-Durables</th>\n",
       "      <th>sector_Consumer Services</th>\n",
       "      <th>sector_Energy</th>\n",
       "      <th>sector_Finance</th>\n",
       "      <th>sector_Health Care</th>\n",
       "      <th>sector_Miscellaneous</th>\n",
       "      <th>sector_Public Utilities</th>\n",
       "      <th>sector_Technology</th>\n",
       "      <th>sector_Transportation</th>\n",
       "    </tr>\n",
       "    <tr>\n",
       "      <th>ticker</th>\n",
       "      <th>date</th>\n",
       "      <th></th>\n",
       "      <th></th>\n",
       "      <th></th>\n",
       "      <th></th>\n",
       "      <th></th>\n",
       "      <th></th>\n",
       "      <th></th>\n",
       "      <th></th>\n",
       "      <th></th>\n",
       "      <th></th>\n",
       "      <th></th>\n",
       "      <th></th>\n",
       "      <th></th>\n",
       "      <th></th>\n",
       "      <th></th>\n",
       "      <th></th>\n",
       "      <th></th>\n",
       "      <th></th>\n",
       "      <th></th>\n",
       "      <th></th>\n",
       "      <th></th>\n",
       "    </tr>\n",
       "  </thead>\n",
       "  <tbody>\n",
       "    <tr>\n",
       "      <th rowspan=\"5\" valign=\"top\">A</th>\n",
       "      <th>2006-12-31</th>\n",
       "      <td>-0.442397</td>\n",
       "      <td>0.072112</td>\n",
       "      <td>3.223450</td>\n",
       "      <td>3.137767</td>\n",
       "      <td>3.180609</td>\n",
       "      <td>0.013571</td>\n",
       "      <td>0.188915</td>\n",
       "      <td>2.037431</td>\n",
       "      <td>60.772801</td>\n",
       "      <td>0.094535</td>\n",
       "      <td>...</td>\n",
       "      <td>0</td>\n",
       "      <td>0</td>\n",
       "      <td>0</td>\n",
       "      <td>0</td>\n",
       "      <td>0</td>\n",
       "      <td>0</td>\n",
       "      <td>0</td>\n",
       "      <td>0</td>\n",
       "      <td>0</td>\n",
       "      <td>0</td>\n",
       "    </tr>\n",
       "    <tr>\n",
       "      <th>2007-01-31</th>\n",
       "      <td>-0.520562</td>\n",
       "      <td>0.016425</td>\n",
       "      <td>3.207382</td>\n",
       "      <td>3.111725</td>\n",
       "      <td>3.159553</td>\n",
       "      <td>0.079232</td>\n",
       "      <td>-0.366521</td>\n",
       "      <td>1.886539</td>\n",
       "      <td>35.388712</td>\n",
       "      <td>-0.081779</td>\n",
       "      <td>...</td>\n",
       "      <td>0</td>\n",
       "      <td>0</td>\n",
       "      <td>0</td>\n",
       "      <td>0</td>\n",
       "      <td>0</td>\n",
       "      <td>0</td>\n",
       "      <td>0</td>\n",
       "      <td>0</td>\n",
       "      <td>0</td>\n",
       "      <td>0</td>\n",
       "    </tr>\n",
       "    <tr>\n",
       "      <th>2007-02-28</th>\n",
       "      <td>-0.464587</td>\n",
       "      <td>0.008895</td>\n",
       "      <td>3.177726</td>\n",
       "      <td>3.111756</td>\n",
       "      <td>3.144741</td>\n",
       "      <td>0.057075</td>\n",
       "      <td>-0.116034</td>\n",
       "      <td>2.141267</td>\n",
       "      <td>39.517738</td>\n",
       "      <td>-0.007812</td>\n",
       "      <td>...</td>\n",
       "      <td>0</td>\n",
       "      <td>0</td>\n",
       "      <td>0</td>\n",
       "      <td>0</td>\n",
       "      <td>0</td>\n",
       "      <td>0</td>\n",
       "      <td>0</td>\n",
       "      <td>0</td>\n",
       "      <td>0</td>\n",
       "      <td>0</td>\n",
       "    </tr>\n",
       "    <tr>\n",
       "      <th>2007-03-31</th>\n",
       "      <td>-0.497099</td>\n",
       "      <td>0.099084</td>\n",
       "      <td>3.191225</td>\n",
       "      <td>3.078332</td>\n",
       "      <td>3.134779</td>\n",
       "      <td>0.013810</td>\n",
       "      <td>0.196264</td>\n",
       "      <td>1.886661</td>\n",
       "      <td>65.552439</td>\n",
       "      <td>0.061102</td>\n",
       "      <td>...</td>\n",
       "      <td>0</td>\n",
       "      <td>0</td>\n",
       "      <td>0</td>\n",
       "      <td>0</td>\n",
       "      <td>0</td>\n",
       "      <td>0</td>\n",
       "      <td>0</td>\n",
       "      <td>0</td>\n",
       "      <td>0</td>\n",
       "      <td>0</td>\n",
       "    </tr>\n",
       "    <tr>\n",
       "      <th>2007-04-30</th>\n",
       "      <td>-0.552364</td>\n",
       "      <td>0.007060</td>\n",
       "      <td>3.234956</td>\n",
       "      <td>3.189514</td>\n",
       "      <td>3.212235</td>\n",
       "      <td>0.038382</td>\n",
       "      <td>0.234341</td>\n",
       "      <td>1.630554</td>\n",
       "      <td>48.928443</td>\n",
       "      <td>0.020184</td>\n",
       "      <td>...</td>\n",
       "      <td>0</td>\n",
       "      <td>0</td>\n",
       "      <td>0</td>\n",
       "      <td>0</td>\n",
       "      <td>0</td>\n",
       "      <td>0</td>\n",
       "      <td>0</td>\n",
       "      <td>0</td>\n",
       "      <td>0</td>\n",
       "      <td>0</td>\n",
       "    </tr>\n",
       "    <tr>\n",
       "      <th>...</th>\n",
       "      <th>...</th>\n",
       "      <td>...</td>\n",
       "      <td>...</td>\n",
       "      <td>...</td>\n",
       "      <td>...</td>\n",
       "      <td>...</td>\n",
       "      <td>...</td>\n",
       "      <td>...</td>\n",
       "      <td>...</td>\n",
       "      <td>...</td>\n",
       "      <td>...</td>\n",
       "      <td>...</td>\n",
       "      <td>...</td>\n",
       "      <td>...</td>\n",
       "      <td>...</td>\n",
       "      <td>...</td>\n",
       "      <td>...</td>\n",
       "      <td>...</td>\n",
       "      <td>...</td>\n",
       "      <td>...</td>\n",
       "      <td>...</td>\n",
       "      <td>...</td>\n",
       "    </tr>\n",
       "    <tr>\n",
       "      <th rowspan=\"5\" valign=\"top\">ZION</th>\n",
       "      <th>2017-07-31</th>\n",
       "      <td>-0.181012</td>\n",
       "      <td>0.038654</td>\n",
       "      <td>3.841345</td>\n",
       "      <td>3.794321</td>\n",
       "      <td>3.817833</td>\n",
       "      <td>0.008370</td>\n",
       "      <td>0.657033</td>\n",
       "      <td>1.885520</td>\n",
       "      <td>62.089693</td>\n",
       "      <td>0.032111</td>\n",
       "      <td>...</td>\n",
       "      <td>0</td>\n",
       "      <td>0</td>\n",
       "      <td>0</td>\n",
       "      <td>0</td>\n",
       "      <td>1</td>\n",
       "      <td>0</td>\n",
       "      <td>0</td>\n",
       "      <td>0</td>\n",
       "      <td>0</td>\n",
       "      <td>0</td>\n",
       "    </tr>\n",
       "    <tr>\n",
       "      <th>2017-08-31</th>\n",
       "      <td>-0.274439</td>\n",
       "      <td>0.013926</td>\n",
       "      <td>3.849378</td>\n",
       "      <td>3.785152</td>\n",
       "      <td>3.817265</td>\n",
       "      <td>0.050299</td>\n",
       "      <td>-0.259812</td>\n",
       "      <td>1.804202</td>\n",
       "      <td>43.528169</td>\n",
       "      <td>-0.034067</td>\n",
       "      <td>...</td>\n",
       "      <td>0</td>\n",
       "      <td>0</td>\n",
       "      <td>0</td>\n",
       "      <td>0</td>\n",
       "      <td>1</td>\n",
       "      <td>0</td>\n",
       "      <td>0</td>\n",
       "      <td>0</td>\n",
       "      <td>0</td>\n",
       "      <td>0</td>\n",
       "    </tr>\n",
       "    <tr>\n",
       "      <th>2017-09-30</th>\n",
       "      <td>-0.155049</td>\n",
       "      <td>0.139050</td>\n",
       "      <td>3.884183</td>\n",
       "      <td>3.735894</td>\n",
       "      <td>3.810038</td>\n",
       "      <td>0.009239</td>\n",
       "      <td>0.876060</td>\n",
       "      <td>1.844395</td>\n",
       "      <td>70.270187</td>\n",
       "      <td>0.080623</td>\n",
       "      <td>...</td>\n",
       "      <td>0</td>\n",
       "      <td>0</td>\n",
       "      <td>0</td>\n",
       "      <td>0</td>\n",
       "      <td>1</td>\n",
       "      <td>0</td>\n",
       "      <td>0</td>\n",
       "      <td>0</td>\n",
       "      <td>0</td>\n",
       "      <td>0</td>\n",
       "    </tr>\n",
       "    <tr>\n",
       "      <th>2017-10-31</th>\n",
       "      <td>-0.134904</td>\n",
       "      <td>0.016495</td>\n",
       "      <td>3.889834</td>\n",
       "      <td>3.843392</td>\n",
       "      <td>3.866613</td>\n",
       "      <td>0.029946</td>\n",
       "      <td>0.270798</td>\n",
       "      <td>1.902929</td>\n",
       "      <td>51.467907</td>\n",
       "      <td>-0.015261</td>\n",
       "      <td>...</td>\n",
       "      <td>0</td>\n",
       "      <td>0</td>\n",
       "      <td>0</td>\n",
       "      <td>0</td>\n",
       "      <td>1</td>\n",
       "      <td>0</td>\n",
       "      <td>0</td>\n",
       "      <td>0</td>\n",
       "      <td>0</td>\n",
       "      <td>0</td>\n",
       "    </tr>\n",
       "    <tr>\n",
       "      <th>2017-11-30</th>\n",
       "      <td>0.125608</td>\n",
       "      <td>0.120711</td>\n",
       "      <td>3.918737</td>\n",
       "      <td>3.802252</td>\n",
       "      <td>3.860494</td>\n",
       "      <td>-0.004226</td>\n",
       "      <td>0.698692</td>\n",
       "      <td>2.147435</td>\n",
       "      <td>69.398587</td>\n",
       "      <td>0.066509</td>\n",
       "      <td>...</td>\n",
       "      <td>0</td>\n",
       "      <td>0</td>\n",
       "      <td>0</td>\n",
       "      <td>0</td>\n",
       "      <td>1</td>\n",
       "      <td>0</td>\n",
       "      <td>0</td>\n",
       "      <td>0</td>\n",
       "      <td>0</td>\n",
       "      <td>0</td>\n",
       "    </tr>\n",
       "  </tbody>\n",
       "</table>\n",
       "<p>77788 rows × 37 columns</p>\n",
       "</div>"
      ],
      "text/plain": [
       "                        atr   bb_down   bb_high    bb_low    bb_mid     bb_up  \\\n",
       "ticker date                                                                     \n",
       "A      2006-12-31 -0.442397  0.072112  3.223450  3.137767  3.180609  0.013571   \n",
       "       2007-01-31 -0.520562  0.016425  3.207382  3.111725  3.159553  0.079232   \n",
       "       2007-02-28 -0.464587  0.008895  3.177726  3.111756  3.144741  0.057075   \n",
       "       2007-03-31 -0.497099  0.099084  3.191225  3.078332  3.134779  0.013810   \n",
       "       2007-04-30 -0.552364  0.007060  3.234956  3.189514  3.212235  0.038382   \n",
       "...                     ...       ...       ...       ...       ...       ...   \n",
       "ZION   2017-07-31 -0.181012  0.038654  3.841345  3.794321  3.817833  0.008370   \n",
       "       2017-08-31 -0.274439  0.013926  3.849378  3.785152  3.817265  0.050299   \n",
       "       2017-09-30 -0.155049  0.139050  3.884183  3.735894  3.810038  0.009239   \n",
       "       2017-10-31 -0.134904  0.016495  3.889834  3.843392  3.866613  0.029946   \n",
       "       2017-11-30  0.125608  0.120711  3.918737  3.802252  3.860494 -0.004226   \n",
       "\n",
       "                       macd      natr        rsi  return_1m  ...  \\\n",
       "ticker date                                                  ...   \n",
       "A      2006-12-31  0.188915  2.037431  60.772801   0.094535  ...   \n",
       "       2007-01-31 -0.366521  1.886539  35.388712  -0.081779  ...   \n",
       "       2007-02-28 -0.116034  2.141267  39.517738  -0.007812  ...   \n",
       "       2007-03-31  0.196264  1.886661  65.552439   0.061102  ...   \n",
       "       2007-04-30  0.234341  1.630554  48.928443   0.020184  ...   \n",
       "...                     ...       ...        ...        ...  ...   \n",
       "ZION   2017-07-31  0.657033  1.885520  62.089693   0.032111  ...   \n",
       "       2017-08-31 -0.259812  1.804202  43.528169  -0.034067  ...   \n",
       "       2017-09-30  0.876060  1.844395  70.270187   0.080623  ...   \n",
       "       2017-10-31  0.270798  1.902929  51.467907  -0.015261  ...   \n",
       "       2017-11-30  0.698692  2.147435  69.398587   0.066509  ...   \n",
       "\n",
       "                   sector_Consumer Durables  sector_Consumer Non-Durables  \\\n",
       "ticker date                                                                 \n",
       "A      2006-12-31                         0                             0   \n",
       "       2007-01-31                         0                             0   \n",
       "       2007-02-28                         0                             0   \n",
       "       2007-03-31                         0                             0   \n",
       "       2007-04-30                         0                             0   \n",
       "...                                     ...                           ...   \n",
       "ZION   2017-07-31                         0                             0   \n",
       "       2017-08-31                         0                             0   \n",
       "       2017-09-30                         0                             0   \n",
       "       2017-10-31                         0                             0   \n",
       "       2017-11-30                         0                             0   \n",
       "\n",
       "                   sector_Consumer Services  sector_Energy  sector_Finance  \\\n",
       "ticker date                                                                  \n",
       "A      2006-12-31                         0              0               0   \n",
       "       2007-01-31                         0              0               0   \n",
       "       2007-02-28                         0              0               0   \n",
       "       2007-03-31                         0              0               0   \n",
       "       2007-04-30                         0              0               0   \n",
       "...                                     ...            ...             ...   \n",
       "ZION   2017-07-31                         0              0               1   \n",
       "       2017-08-31                         0              0               1   \n",
       "       2017-09-30                         0              0               1   \n",
       "       2017-10-31                         0              0               1   \n",
       "       2017-11-30                         0              0               1   \n",
       "\n",
       "                   sector_Health Care  sector_Miscellaneous  \\\n",
       "ticker date                                                   \n",
       "A      2006-12-31                   0                     0   \n",
       "       2007-01-31                   0                     0   \n",
       "       2007-02-28                   0                     0   \n",
       "       2007-03-31                   0                     0   \n",
       "       2007-04-30                   0                     0   \n",
       "...                               ...                   ...   \n",
       "ZION   2017-07-31                   0                     0   \n",
       "       2017-08-31                   0                     0   \n",
       "       2017-09-30                   0                     0   \n",
       "       2017-10-31                   0                     0   \n",
       "       2017-11-30                   0                     0   \n",
       "\n",
       "                   sector_Public Utilities  sector_Technology  \\\n",
       "ticker date                                                     \n",
       "A      2006-12-31                        0                  0   \n",
       "       2007-01-31                        0                  0   \n",
       "       2007-02-28                        0                  0   \n",
       "       2007-03-31                        0                  0   \n",
       "       2007-04-30                        0                  0   \n",
       "...                                    ...                ...   \n",
       "ZION   2017-07-31                        0                  0   \n",
       "       2017-08-31                        0                  0   \n",
       "       2017-09-30                        0                  0   \n",
       "       2017-10-31                        0                  0   \n",
       "       2017-11-30                        0                  0   \n",
       "\n",
       "                   sector_Transportation  \n",
       "ticker date                               \n",
       "A      2006-12-31                      0  \n",
       "       2007-01-31                      0  \n",
       "       2007-02-28                      0  \n",
       "       2007-03-31                      0  \n",
       "       2007-04-30                      0  \n",
       "...                                  ...  \n",
       "ZION   2017-07-31                      0  \n",
       "       2017-08-31                      0  \n",
       "       2017-09-30                      0  \n",
       "       2017-10-31                      0  \n",
       "       2017-11-30                      0  \n",
       "\n",
       "[77788 rows x 37 columns]"
      ]
     },
     "execution_count": 50,
     "metadata": {},
     "output_type": "execute_result"
    }
   ],
   "source": [
    "X"
   ]
  },
  {
   "cell_type": "code",
   "execution_count": 51,
   "metadata": {
    "ExecuteTime": {
     "end_time": "2021-04-16T00:33:34.529344Z",
     "start_time": "2021-04-16T00:33:34.493349Z"
    }
   },
   "outputs": [],
   "source": [
    "X_train, X_test, y_train, y_test = train_test_split(X, y, test_size=0.2, random_state=42)"
   ]
  },
  {
   "cell_type": "markdown",
   "metadata": {},
   "source": [
    "### Configure Tree"
   ]
  },
  {
   "cell_type": "markdown",
   "metadata": {},
   "source": [
    "The output after training the model displays all the DecisionTreeClassifier parameters that we will address in more detail in the next section when we discuss parameter-tuning. "
   ]
  },
  {
   "cell_type": "code",
   "execution_count": 52,
   "metadata": {
    "ExecuteTime": {
     "end_time": "2021-04-16T00:33:34.532666Z",
     "start_time": "2021-04-16T00:33:34.530505Z"
    }
   },
   "outputs": [],
   "source": [
    "regression_tree = DecisionTreeRegressor(criterion='mse',\n",
    "                                        splitter='best',\n",
    "                                        max_depth=5,\n",
    "                                        min_samples_split=2,\n",
    "                                        min_samples_leaf=1,\n",
    "                                        min_weight_fraction_leaf=0.0,\n",
    "                                        max_features=None,\n",
    "                                        random_state=42,\n",
    "                                        max_leaf_nodes=None,\n",
    "                                        min_impurity_decrease=0.0)"
   ]
  },
  {
   "cell_type": "markdown",
   "metadata": {},
   "source": [
    "### Train Model"
   ]
  },
  {
   "cell_type": "code",
   "execution_count": 53,
   "metadata": {
    "ExecuteTime": {
     "end_time": "2021-04-16T00:33:35.266789Z",
     "start_time": "2021-04-16T00:33:34.534056Z"
    },
    "scrolled": false
   },
   "outputs": [
    {
     "data": {
      "text/html": [
       "<style>#sk-container-id-5 {color: black;background-color: white;}#sk-container-id-5 pre{padding: 0;}#sk-container-id-5 div.sk-toggleable {background-color: white;}#sk-container-id-5 label.sk-toggleable__label {cursor: pointer;display: block;width: 100%;margin-bottom: 0;padding: 0.3em;box-sizing: border-box;text-align: center;}#sk-container-id-5 label.sk-toggleable__label-arrow:before {content: \"▸\";float: left;margin-right: 0.25em;color: #696969;}#sk-container-id-5 label.sk-toggleable__label-arrow:hover:before {color: black;}#sk-container-id-5 div.sk-estimator:hover label.sk-toggleable__label-arrow:before {color: black;}#sk-container-id-5 div.sk-toggleable__content {max-height: 0;max-width: 0;overflow: hidden;text-align: left;background-color: #f0f8ff;}#sk-container-id-5 div.sk-toggleable__content pre {margin: 0.2em;color: black;border-radius: 0.25em;background-color: #f0f8ff;}#sk-container-id-5 input.sk-toggleable__control:checked~div.sk-toggleable__content {max-height: 200px;max-width: 100%;overflow: auto;}#sk-container-id-5 input.sk-toggleable__control:checked~label.sk-toggleable__label-arrow:before {content: \"▾\";}#sk-container-id-5 div.sk-estimator input.sk-toggleable__control:checked~label.sk-toggleable__label {background-color: #d4ebff;}#sk-container-id-5 div.sk-label input.sk-toggleable__control:checked~label.sk-toggleable__label {background-color: #d4ebff;}#sk-container-id-5 input.sk-hidden--visually {border: 0;clip: rect(1px 1px 1px 1px);clip: rect(1px, 1px, 1px, 1px);height: 1px;margin: -1px;overflow: hidden;padding: 0;position: absolute;width: 1px;}#sk-container-id-5 div.sk-estimator {font-family: monospace;background-color: #f0f8ff;border: 1px dotted black;border-radius: 0.25em;box-sizing: border-box;margin-bottom: 0.5em;}#sk-container-id-5 div.sk-estimator:hover {background-color: #d4ebff;}#sk-container-id-5 div.sk-parallel-item::after {content: \"\";width: 100%;border-bottom: 1px solid gray;flex-grow: 1;}#sk-container-id-5 div.sk-label:hover label.sk-toggleable__label {background-color: #d4ebff;}#sk-container-id-5 div.sk-serial::before {content: \"\";position: absolute;border-left: 1px solid gray;box-sizing: border-box;top: 0;bottom: 0;left: 50%;z-index: 0;}#sk-container-id-5 div.sk-serial {display: flex;flex-direction: column;align-items: center;background-color: white;padding-right: 0.2em;padding-left: 0.2em;position: relative;}#sk-container-id-5 div.sk-item {position: relative;z-index: 1;}#sk-container-id-5 div.sk-parallel {display: flex;align-items: stretch;justify-content: center;background-color: white;position: relative;}#sk-container-id-5 div.sk-item::before, #sk-container-id-5 div.sk-parallel-item::before {content: \"\";position: absolute;border-left: 1px solid gray;box-sizing: border-box;top: 0;bottom: 0;left: 50%;z-index: -1;}#sk-container-id-5 div.sk-parallel-item {display: flex;flex-direction: column;z-index: 1;position: relative;background-color: white;}#sk-container-id-5 div.sk-parallel-item:first-child::after {align-self: flex-end;width: 50%;}#sk-container-id-5 div.sk-parallel-item:last-child::after {align-self: flex-start;width: 50%;}#sk-container-id-5 div.sk-parallel-item:only-child::after {width: 0;}#sk-container-id-5 div.sk-dashed-wrapped {border: 1px dashed gray;margin: 0 0.4em 0.5em 0.4em;box-sizing: border-box;padding-bottom: 0.4em;background-color: white;}#sk-container-id-5 div.sk-label label {font-family: monospace;font-weight: bold;display: inline-block;line-height: 1.2em;}#sk-container-id-5 div.sk-label-container {text-align: center;}#sk-container-id-5 div.sk-container {/* jupyter's `normalize.less` sets `[hidden] { display: none; }` but bootstrap.min.css set `[hidden] { display: none !important; }` so we also need the `!important` here to be able to override the default hidden behavior on the sphinx rendered scikit-learn.org. See: https://github.com/scikit-learn/scikit-learn/issues/21755 */display: inline-block !important;position: relative;}#sk-container-id-5 div.sk-text-repr-fallback {display: none;}</style><div id=\"sk-container-id-5\" class=\"sk-top-container\"><div class=\"sk-text-repr-fallback\"><pre>DecisionTreeRegressor(criterion=&#x27;mse&#x27;, max_depth=5, random_state=42)</pre><b>In a Jupyter environment, please rerun this cell to show the HTML representation or trust the notebook. <br />On GitHub, the HTML representation is unable to render, please try loading this page with nbviewer.org.</b></div><div class=\"sk-container\" hidden><div class=\"sk-item\"><div class=\"sk-estimator sk-toggleable\"><input class=\"sk-toggleable__control sk-hidden--visually\" id=\"sk-estimator-id-5\" type=\"checkbox\" checked><label for=\"sk-estimator-id-5\" class=\"sk-toggleable__label sk-toggleable__label-arrow\">DecisionTreeRegressor</label><div class=\"sk-toggleable__content\"><pre>DecisionTreeRegressor(criterion=&#x27;mse&#x27;, max_depth=5, random_state=42)</pre></div></div></div></div></div>"
      ],
      "text/plain": [
       "DecisionTreeRegressor(criterion='mse', max_depth=5, random_state=42)"
      ]
     },
     "execution_count": 53,
     "metadata": {},
     "output_type": "execute_result"
    }
   ],
   "source": [
    "regression_tree.fit(X=X_train, y=y_train)"
   ]
  },
  {
   "cell_type": "markdown",
   "metadata": {},
   "source": [
    "### Visualize Tree"
   ]
  },
  {
   "cell_type": "markdown",
   "metadata": {},
   "source": [
    "The result shows that the model uses a variety of different features and indicates the split rules for both continuous and categorical (dummy) variables. "
   ]
  },
  {
   "cell_type": "code",
   "execution_count": 54,
   "metadata": {
    "ExecuteTime": {
     "end_time": "2021-04-16T00:33:35.332234Z",
     "start_time": "2021-04-16T00:33:35.267941Z"
    }
   },
   "outputs": [
    {
     "data": {
      "image/svg+xml": [
       "<?xml version=\"1.0\" encoding=\"UTF-8\" standalone=\"no\"?>\n",
       "<!DOCTYPE svg PUBLIC \"-//W3C//DTD SVG 1.1//EN\"\n",
       " \"http://www.w3.org/Graphics/SVG/1.1/DTD/svg11.dtd\">\n",
       "<!-- Generated by graphviz version 7.0.4 (20221203.1631)\n",
       " -->\n",
       "<!-- Title: Tree Pages: 1 -->\n",
       "<svg width=\"1169pt\" height=\"460pt\"\n",
       " viewBox=\"0.00 0.00 1169.00 460.00\" xmlns=\"http://www.w3.org/2000/svg\" xmlns:xlink=\"http://www.w3.org/1999/xlink\">\n",
       "<g id=\"graph0\" class=\"graph\" transform=\"scale(1 1) rotate(0) translate(4 456)\">\n",
       "<title>Tree</title>\n",
       "<polygon fill=\"white\" stroke=\"none\" points=\"-4,4 -4,-456 1165,-456 1165,4 -4,4\"/>\n",
       "<!-- 0 -->\n",
       "<g id=\"node1\" class=\"node\">\n",
       "<title>0</title>\n",
       "<path fill=\"#f6d3b9\" stroke=\"black\" d=\"M606,-452C606,-452 502,-452 502,-452 496,-452 490,-446 490,-440 490,-440 490,-396 490,-396 490,-390 496,-384 502,-384 502,-384 606,-384 606,-384 612,-384 618,-390 618,-396 618,-396 618,-440 618,-440 618,-446 612,-452 606,-452\"/>\n",
       "<text text-anchor=\"start\" x=\"516.5\" y=\"-436.8\" font-family=\"Helvetica,sans-Serif\" font-size=\"14.00\">month ≤ 3.5</text>\n",
       "<text text-anchor=\"start\" x=\"513.5\" y=\"-421.8\" font-family=\"Helvetica,sans-Serif\" font-size=\"14.00\">mse = 0.008</text>\n",
       "<text text-anchor=\"start\" x=\"498\" y=\"-406.8\" font-family=\"Helvetica,sans-Serif\" font-size=\"14.00\">samples = 62230</text>\n",
       "<text text-anchor=\"start\" x=\"515\" y=\"-391.8\" font-family=\"Helvetica,sans-Serif\" font-size=\"14.00\">value = 0.01</text>\n",
       "</g>\n",
       "<!-- 1 -->\n",
       "<g id=\"node2\" class=\"node\">\n",
       "<title>1</title>\n",
       "<path fill=\"#f5d0b4\" stroke=\"black\" d=\"M491.5,-348C491.5,-348 354.5,-348 354.5,-348 348.5,-348 342.5,-342 342.5,-336 342.5,-336 342.5,-292 342.5,-292 342.5,-286 348.5,-280 354.5,-280 354.5,-280 491.5,-280 491.5,-280 497.5,-280 503.5,-286 503.5,-292 503.5,-292 503.5,-336 503.5,-336 503.5,-342 497.5,-348 491.5,-348\"/>\n",
       "<text text-anchor=\"start\" x=\"350.5\" y=\"-332.8\" font-family=\"Helvetica,sans-Serif\" font-size=\"14.00\">momentum_6 ≤ &#45;0.225</text>\n",
       "<text text-anchor=\"start\" x=\"382.5\" y=\"-317.8\" font-family=\"Helvetica,sans-Serif\" font-size=\"14.00\">mse = 0.008</text>\n",
       "<text text-anchor=\"start\" x=\"367\" y=\"-302.8\" font-family=\"Helvetica,sans-Serif\" font-size=\"14.00\">samples = 15600</text>\n",
       "<text text-anchor=\"start\" x=\"380\" y=\"-287.8\" font-family=\"Helvetica,sans-Serif\" font-size=\"14.00\">value = 0.021</text>\n",
       "</g>\n",
       "<!-- 0&#45;&gt;1 -->\n",
       "<g id=\"edge1\" class=\"edge\">\n",
       "<title>0&#45;&gt;1</title>\n",
       "<path fill=\"none\" stroke=\"black\" d=\"M511.11,-383.6C499.57,-374.62 486.97,-364.81 475,-355.49\"/>\n",
       "<polygon fill=\"black\" stroke=\"black\" points=\"477.23,-352.79 467.18,-349.4 472.92,-358.31 477.23,-352.79\"/>\n",
       "<text text-anchor=\"middle\" x=\"469.08\" y=\"-369.58\" font-family=\"Helvetica,sans-Serif\" font-size=\"14.00\">True</text>\n",
       "</g>\n",
       "<!-- 32 -->\n",
       "<g id=\"node17\" class=\"node\">\n",
       "<title>32</title>\n",
       "<path fill=\"#f6d4bb\" stroke=\"black\" d=\"M757,-348C757,-348 653,-348 653,-348 647,-348 641,-342 641,-336 641,-336 641,-292 641,-292 641,-286 647,-280 653,-280 653,-280 757,-280 757,-280 763,-280 769,-286 769,-292 769,-292 769,-336 769,-336 769,-342 763,-348 757,-348\"/>\n",
       "<text text-anchor=\"start\" x=\"671\" y=\"-332.8\" font-family=\"Helvetica,sans-Serif\" font-size=\"14.00\">atr ≤ 0.029</text>\n",
       "<text text-anchor=\"start\" x=\"664.5\" y=\"-317.8\" font-family=\"Helvetica,sans-Serif\" font-size=\"14.00\">mse = 0.008</text>\n",
       "<text text-anchor=\"start\" x=\"649\" y=\"-302.8\" font-family=\"Helvetica,sans-Serif\" font-size=\"14.00\">samples = 46630</text>\n",
       "<text text-anchor=\"start\" x=\"662\" y=\"-287.8\" font-family=\"Helvetica,sans-Serif\" font-size=\"14.00\">value = 0.006</text>\n",
       "</g>\n",
       "<!-- 0&#45;&gt;32 -->\n",
       "<g id=\"edge16\" class=\"edge\">\n",
       "<title>0&#45;&gt;32</title>\n",
       "<path fill=\"none\" stroke=\"black\" d=\"M603.44,-383.6C617.13,-374.36 632.12,-364.23 646.28,-354.66\"/>\n",
       "<polygon fill=\"black\" stroke=\"black\" points=\"647.86,-357.82 654.19,-349.32 643.95,-352.02 647.86,-357.82\"/>\n",
       "<text text-anchor=\"middle\" x=\"650.69\" y=\"-369.32\" font-family=\"Helvetica,sans-Serif\" font-size=\"14.00\">False</text>\n",
       "</g>\n",
       "<!-- 2 -->\n",
       "<g id=\"node3\" class=\"node\">\n",
       "<title>2</title>\n",
       "<path fill=\"#f0b68c\" stroke=\"black\" d=\"M270.5,-244C270.5,-244 183.5,-244 183.5,-244 177.5,-244 171.5,-238 171.5,-232 171.5,-232 171.5,-188 171.5,-188 171.5,-182 177.5,-176 183.5,-176 183.5,-176 270.5,-176 270.5,-176 276.5,-176 282.5,-182 282.5,-188 282.5,-188 282.5,-232 282.5,-232 282.5,-238 276.5,-244 270.5,-244\"/>\n",
       "<text text-anchor=\"start\" x=\"189.5\" y=\"-228.8\" font-family=\"Helvetica,sans-Serif\" font-size=\"14.00\">month ≤ 2.5</text>\n",
       "<text text-anchor=\"start\" x=\"186.5\" y=\"-213.8\" font-family=\"Helvetica,sans-Serif\" font-size=\"14.00\">mse = 0.028</text>\n",
       "<text text-anchor=\"start\" x=\"179.5\" y=\"-198.8\" font-family=\"Helvetica,sans-Serif\" font-size=\"14.00\">samples = 259</text>\n",
       "<text text-anchor=\"start\" x=\"184\" y=\"-183.8\" font-family=\"Helvetica,sans-Serif\" font-size=\"14.00\">value = 0.112</text>\n",
       "</g>\n",
       "<!-- 1&#45;&gt;2 -->\n",
       "<g id=\"edge2\" class=\"edge\">\n",
       "<title>1&#45;&gt;2</title>\n",
       "<path fill=\"none\" stroke=\"black\" d=\"M358.82,-279.6C337.62,-268.57 314.01,-256.28 292.69,-245.19\"/>\n",
       "<polygon fill=\"black\" stroke=\"black\" points=\"294.59,-242.23 284.1,-240.71 291.35,-248.44 294.59,-242.23\"/>\n",
       "</g>\n",
       "<!-- 17 -->\n",
       "<g id=\"node10\" class=\"node\">\n",
       "<title>17</title>\n",
       "<path fill=\"#f5d0b5\" stroke=\"black\" d=\"M484,-244C484,-244 362,-244 362,-244 356,-244 350,-238 350,-232 350,-232 350,-188 350,-188 350,-182 356,-176 362,-176 362,-176 484,-176 484,-176 490,-176 496,-182 496,-188 496,-188 496,-232 496,-232 496,-238 490,-244 484,-244\"/>\n",
       "<text text-anchor=\"start\" x=\"358\" y=\"-228.8\" font-family=\"Helvetica,sans-Serif\" font-size=\"14.00\">return_12m ≤ &#45;0.045</text>\n",
       "<text text-anchor=\"start\" x=\"382.5\" y=\"-213.8\" font-family=\"Helvetica,sans-Serif\" font-size=\"14.00\">mse = 0.007</text>\n",
       "<text text-anchor=\"start\" x=\"367\" y=\"-198.8\" font-family=\"Helvetica,sans-Serif\" font-size=\"14.00\">samples = 15341</text>\n",
       "<text text-anchor=\"start\" x=\"384\" y=\"-183.8\" font-family=\"Helvetica,sans-Serif\" font-size=\"14.00\">value = 0.02</text>\n",
       "</g>\n",
       "<!-- 1&#45;&gt;17 -->\n",
       "<g id=\"edge9\" class=\"edge\">\n",
       "<title>1&#45;&gt;17</title>\n",
       "<path fill=\"none\" stroke=\"black\" d=\"M423,-279.6C423,-272.03 423,-263.87 423,-255.9\"/>\n",
       "<polygon fill=\"black\" stroke=\"black\" points=\"426.5,-255.99 423,-245.99 419.5,-255.99 426.5,-255.99\"/>\n",
       "</g>\n",
       "<!-- 3 -->\n",
       "<g id=\"node4\" class=\"node\">\n",
       "<title>3</title>\n",
       "<path fill=\"#f5ccb0\" stroke=\"black\" d=\"M141.5,-140C141.5,-140 54.5,-140 54.5,-140 48.5,-140 42.5,-134 42.5,-128 42.5,-128 42.5,-84 42.5,-84 42.5,-78 48.5,-72 54.5,-72 54.5,-72 141.5,-72 141.5,-72 147.5,-72 153.5,-78 153.5,-84 153.5,-84 153.5,-128 153.5,-128 153.5,-134 147.5,-140 141.5,-140\"/>\n",
       "<text text-anchor=\"start\" x=\"64\" y=\"-124.8\" font-family=\"Helvetica,sans-Serif\" font-size=\"14.00\">atr ≤ 0.666</text>\n",
       "<text text-anchor=\"start\" x=\"57.5\" y=\"-109.8\" font-family=\"Helvetica,sans-Serif\" font-size=\"14.00\">mse = 0.022</text>\n",
       "<text text-anchor=\"start\" x=\"50.5\" y=\"-94.8\" font-family=\"Helvetica,sans-Serif\" font-size=\"14.00\">samples = 130</text>\n",
       "<text text-anchor=\"start\" x=\"55\" y=\"-79.8\" font-family=\"Helvetica,sans-Serif\" font-size=\"14.00\">value = 0.032</text>\n",
       "</g>\n",
       "<!-- 2&#45;&gt;3 -->\n",
       "<g id=\"edge3\" class=\"edge\">\n",
       "<title>2&#45;&gt;3</title>\n",
       "<path fill=\"none\" stroke=\"black\" d=\"M184.76,-175.6C173.4,-166.62 160.99,-156.81 149.2,-147.49\"/>\n",
       "<polygon fill=\"black\" stroke=\"black\" points=\"151.54,-144.87 141.52,-141.41 147.19,-150.36 151.54,-144.87\"/>\n",
       "</g>\n",
       "<!-- 10 -->\n",
       "<g id=\"node7\" class=\"node\">\n",
       "<title>10</title>\n",
       "<path fill=\"#eb9f68\" stroke=\"black\" d=\"M270.5,-140C270.5,-140 183.5,-140 183.5,-140 177.5,-140 171.5,-134 171.5,-128 171.5,-128 171.5,-84 171.5,-84 171.5,-78 177.5,-72 183.5,-72 183.5,-72 270.5,-72 270.5,-72 276.5,-72 282.5,-78 282.5,-84 282.5,-84 282.5,-128 282.5,-128 282.5,-134 276.5,-140 270.5,-140\"/>\n",
       "<text text-anchor=\"start\" x=\"183\" y=\"-124.8\" font-family=\"Helvetica,sans-Serif\" font-size=\"14.00\">year ≤ 2002.5</text>\n",
       "<text text-anchor=\"start\" x=\"190.5\" y=\"-109.8\" font-family=\"Helvetica,sans-Serif\" font-size=\"14.00\">mse = 0.02</text>\n",
       "<text text-anchor=\"start\" x=\"179.5\" y=\"-94.8\" font-family=\"Helvetica,sans-Serif\" font-size=\"14.00\">samples = 129</text>\n",
       "<text text-anchor=\"start\" x=\"184\" y=\"-79.8\" font-family=\"Helvetica,sans-Serif\" font-size=\"14.00\">value = 0.193</text>\n",
       "</g>\n",
       "<!-- 2&#45;&gt;10 -->\n",
       "<g id=\"edge6\" class=\"edge\">\n",
       "<title>2&#45;&gt;10</title>\n",
       "<path fill=\"none\" stroke=\"black\" d=\"M227,-175.6C227,-168.03 227,-159.87 227,-151.9\"/>\n",
       "<polygon fill=\"black\" stroke=\"black\" points=\"230.5,-151.99 227,-141.99 223.5,-151.99 230.5,-151.99\"/>\n",
       "</g>\n",
       "<!-- 4 -->\n",
       "<g id=\"node5\" class=\"node\">\n",
       "<title>4</title>\n",
       "<path fill=\"#c0c0c0\" stroke=\"black\" d=\"M42,-36C42,-36 12,-36 12,-36 6,-36 0,-30 0,-24 0,-24 0,-12 0,-12 0,-6 6,0 12,0 12,0 42,0 42,0 48,0 54,-6 54,-12 54,-12 54,-24 54,-24 54,-30 48,-36 42,-36\"/>\n",
       "<text text-anchor=\"middle\" x=\"27\" y=\"-14.3\" font-family=\"Helvetica,sans-Serif\" font-size=\"14.00\">(...)</text>\n",
       "</g>\n",
       "<!-- 3&#45;&gt;4 -->\n",
       "<g id=\"edge4\" class=\"edge\">\n",
       "<title>3&#45;&gt;4</title>\n",
       "<path fill=\"none\" stroke=\"black\" d=\"M70.35,-71.5C63.03,-62.64 55.24,-53.2 48.31,-44.81\"/>\n",
       "<polygon fill=\"black\" stroke=\"black\" points=\"51.23,-42.85 42.16,-37.36 45.83,-47.3 51.23,-42.85\"/>\n",
       "</g>\n",
       "<!-- 7 -->\n",
       "<g id=\"node6\" class=\"node\">\n",
       "<title>7</title>\n",
       "<path fill=\"#c0c0c0\" stroke=\"black\" d=\"M114,-36C114,-36 84,-36 84,-36 78,-36 72,-30 72,-24 72,-24 72,-12 72,-12 72,-6 78,0 84,0 84,0 114,0 114,0 120,0 126,-6 126,-12 126,-12 126,-24 126,-24 126,-30 120,-36 114,-36\"/>\n",
       "<text text-anchor=\"middle\" x=\"99\" y=\"-14.3\" font-family=\"Helvetica,sans-Serif\" font-size=\"14.00\">(...)</text>\n",
       "</g>\n",
       "<!-- 3&#45;&gt;7 -->\n",
       "<g id=\"edge5\" class=\"edge\">\n",
       "<title>3&#45;&gt;7</title>\n",
       "<path fill=\"none\" stroke=\"black\" d=\"M98.39,-71.5C98.48,-63.58 98.58,-55.2 98.67,-47.52\"/>\n",
       "<polygon fill=\"black\" stroke=\"black\" points=\"102.17,-47.75 98.78,-37.71 95.17,-47.67 102.17,-47.75\"/>\n",
       "</g>\n",
       "<!-- 11 -->\n",
       "<g id=\"node8\" class=\"node\">\n",
       "<title>11</title>\n",
       "<path fill=\"#c0c0c0\" stroke=\"black\" d=\"M200,-36C200,-36 170,-36 170,-36 164,-36 158,-30 158,-24 158,-24 158,-12 158,-12 158,-6 164,0 170,0 170,0 200,0 200,0 206,0 212,-6 212,-12 212,-12 212,-24 212,-24 212,-30 206,-36 200,-36\"/>\n",
       "<text text-anchor=\"middle\" x=\"185\" y=\"-14.3\" font-family=\"Helvetica,sans-Serif\" font-size=\"14.00\">(...)</text>\n",
       "</g>\n",
       "<!-- 10&#45;&gt;11 -->\n",
       "<g id=\"edge7\" class=\"edge\">\n",
       "<title>10&#45;&gt;11</title>\n",
       "<path fill=\"none\" stroke=\"black\" d=\"M210.64,-71.5C206.59,-63.2 202.29,-54.41 198.4,-46.43\"/>\n",
       "<polygon fill=\"black\" stroke=\"black\" points=\"201.6,-45.01 194.06,-37.56 195.31,-48.08 201.6,-45.01\"/>\n",
       "</g>\n",
       "<!-- 14 -->\n",
       "<g id=\"node9\" class=\"node\">\n",
       "<title>14</title>\n",
       "<path fill=\"#c0c0c0\" stroke=\"black\" d=\"M272,-36C272,-36 242,-36 242,-36 236,-36 230,-30 230,-24 230,-24 230,-12 230,-12 230,-6 236,0 242,0 242,0 272,0 272,0 278,0 284,-6 284,-12 284,-12 284,-24 284,-24 284,-30 278,-36 272,-36\"/>\n",
       "<text text-anchor=\"middle\" x=\"257\" y=\"-14.3\" font-family=\"Helvetica,sans-Serif\" font-size=\"14.00\">(...)</text>\n",
       "</g>\n",
       "<!-- 10&#45;&gt;14 -->\n",
       "<g id=\"edge8\" class=\"edge\">\n",
       "<title>10&#45;&gt;14</title>\n",
       "<path fill=\"none\" stroke=\"black\" d=\"M238.68,-71.5C241.51,-63.39 244.51,-54.8 247.24,-46.98\"/>\n",
       "<polygon fill=\"black\" stroke=\"black\" points=\"250.51,-48.22 250.5,-37.63 243.9,-45.91 250.51,-48.22\"/>\n",
       "</g>\n",
       "<!-- 18 -->\n",
       "<g id=\"node11\" class=\"node\">\n",
       "<title>18</title>\n",
       "<path fill=\"#f3c7a7\" stroke=\"black\" d=\"M399.5,-140C399.5,-140 312.5,-140 312.5,-140 306.5,-140 300.5,-134 300.5,-128 300.5,-128 300.5,-84 300.5,-84 300.5,-78 306.5,-72 312.5,-72 312.5,-72 399.5,-72 399.5,-72 405.5,-72 411.5,-78 411.5,-84 411.5,-84 411.5,-128 411.5,-128 411.5,-134 405.5,-140 399.5,-140\"/>\n",
       "<text text-anchor=\"start\" x=\"318.5\" y=\"-124.8\" font-family=\"Helvetica,sans-Serif\" font-size=\"14.00\">month ≤ 1.5</text>\n",
       "<text text-anchor=\"start\" x=\"319.5\" y=\"-109.8\" font-family=\"Helvetica,sans-Serif\" font-size=\"14.00\">mse = 0.03</text>\n",
       "<text text-anchor=\"start\" x=\"308.5\" y=\"-94.8\" font-family=\"Helvetica,sans-Serif\" font-size=\"14.00\">samples = 863</text>\n",
       "<text text-anchor=\"start\" x=\"313\" y=\"-79.8\" font-family=\"Helvetica,sans-Serif\" font-size=\"14.00\">value = 0.052</text>\n",
       "</g>\n",
       "<!-- 17&#45;&gt;18 -->\n",
       "<g id=\"edge10\" class=\"edge\">\n",
       "<title>17&#45;&gt;18</title>\n",
       "<path fill=\"none\" stroke=\"black\" d=\"M401.06,-175.6C395.68,-167.41 389.85,-158.53 384.22,-149.96\"/>\n",
       "<polygon fill=\"black\" stroke=\"black\" points=\"387.23,-148.18 378.82,-141.74 381.38,-152.02 387.23,-148.18\"/>\n",
       "</g>\n",
       "<!-- 25 -->\n",
       "<g id=\"node14\" class=\"node\">\n",
       "<title>25</title>\n",
       "<path fill=\"#f5d0b6\" stroke=\"black\" d=\"M546,-140C546,-140 442,-140 442,-140 436,-140 430,-134 430,-128 430,-128 430,-84 430,-84 430,-78 436,-72 442,-72 442,-72 546,-72 546,-72 552,-72 558,-78 558,-84 558,-84 558,-128 558,-128 558,-134 552,-140 546,-140\"/>\n",
       "<text text-anchor=\"start\" x=\"450\" y=\"-124.8\" font-family=\"Helvetica,sans-Serif\" font-size=\"14.00\">year ≤ 2009.5</text>\n",
       "<text text-anchor=\"start\" x=\"453.5\" y=\"-109.8\" font-family=\"Helvetica,sans-Serif\" font-size=\"14.00\">mse = 0.006</text>\n",
       "<text text-anchor=\"start\" x=\"438\" y=\"-94.8\" font-family=\"Helvetica,sans-Serif\" font-size=\"14.00\">samples = 14478</text>\n",
       "<text text-anchor=\"start\" x=\"451\" y=\"-79.8\" font-family=\"Helvetica,sans-Serif\" font-size=\"14.00\">value = 0.018</text>\n",
       "</g>\n",
       "<!-- 17&#45;&gt;25 -->\n",
       "<g id=\"edge13\" class=\"edge\">\n",
       "<title>17&#45;&gt;25</title>\n",
       "<path fill=\"none\" stroke=\"black\" d=\"M446.25,-175.6C452.01,-167.32 458.26,-158.34 464.29,-149.69\"/>\n",
       "<polygon fill=\"black\" stroke=\"black\" points=\"466.99,-151.92 469.84,-141.72 461.25,-147.92 466.99,-151.92\"/>\n",
       "</g>\n",
       "<!-- 19 -->\n",
       "<g id=\"node12\" class=\"node\">\n",
       "<title>19</title>\n",
       "<path fill=\"#c0c0c0\" stroke=\"black\" d=\"M351,-36C351,-36 321,-36 321,-36 315,-36 309,-30 309,-24 309,-24 309,-12 309,-12 309,-6 315,0 321,0 321,0 351,0 351,0 357,0 363,-6 363,-12 363,-12 363,-24 363,-24 363,-30 357,-36 351,-36\"/>\n",
       "<text text-anchor=\"middle\" x=\"336\" y=\"-14.3\" font-family=\"Helvetica,sans-Serif\" font-size=\"14.00\">(...)</text>\n",
       "</g>\n",
       "<!-- 18&#45;&gt;19 -->\n",
       "<g id=\"edge11\" class=\"edge\">\n",
       "<title>18&#45;&gt;19</title>\n",
       "<path fill=\"none\" stroke=\"black\" d=\"M348.21,-71.5C346.35,-63.49 344.37,-55 342.57,-47.25\"/>\n",
       "<polygon fill=\"black\" stroke=\"black\" points=\"346.02,-46.62 340.34,-37.67 339.2,-48.2 346.02,-46.62\"/>\n",
       "</g>\n",
       "<!-- 22 -->\n",
       "<g id=\"node13\" class=\"node\">\n",
       "<title>22</title>\n",
       "<path fill=\"#c0c0c0\" stroke=\"black\" d=\"M423,-36C423,-36 393,-36 393,-36 387,-36 381,-30 381,-24 381,-24 381,-12 381,-12 381,-6 387,0 393,0 393,0 423,0 423,0 429,0 435,-6 435,-12 435,-12 435,-24 435,-24 435,-30 429,-36 423,-36\"/>\n",
       "<text text-anchor=\"middle\" x=\"408\" y=\"-14.3\" font-family=\"Helvetica,sans-Serif\" font-size=\"14.00\">(...)</text>\n",
       "</g>\n",
       "<!-- 18&#45;&gt;22 -->\n",
       "<g id=\"edge12\" class=\"edge\">\n",
       "<title>18&#45;&gt;22</title>\n",
       "<path fill=\"none\" stroke=\"black\" d=\"M376.25,-71.5C381.39,-63.01 386.83,-54.01 391.74,-45.89\"/>\n",
       "<polygon fill=\"black\" stroke=\"black\" points=\"394.64,-47.86 396.82,-37.49 388.65,-44.24 394.64,-47.86\"/>\n",
       "</g>\n",
       "<!-- 26 -->\n",
       "<g id=\"node15\" class=\"node\">\n",
       "<title>26</title>\n",
       "<path fill=\"#c0c0c0\" stroke=\"black\" d=\"M498,-36C498,-36 468,-36 468,-36 462,-36 456,-30 456,-24 456,-24 456,-12 456,-12 456,-6 462,0 468,0 468,0 498,0 498,0 504,0 510,-6 510,-12 510,-12 510,-24 510,-24 510,-30 504,-36 498,-36\"/>\n",
       "<text text-anchor=\"middle\" x=\"483\" y=\"-14.3\" font-family=\"Helvetica,sans-Serif\" font-size=\"14.00\">(...)</text>\n",
       "</g>\n",
       "<!-- 25&#45;&gt;26 -->\n",
       "<g id=\"edge14\" class=\"edge\">\n",
       "<title>25&#45;&gt;26</title>\n",
       "<path fill=\"none\" stroke=\"black\" d=\"M489.72,-71.5C488.7,-63.58 487.63,-55.2 486.65,-47.52\"/>\n",
       "<polygon fill=\"black\" stroke=\"black\" points=\"490.13,-47.17 485.39,-37.7 483.19,-48.06 490.13,-47.17\"/>\n",
       "</g>\n",
       "<!-- 29 -->\n",
       "<g id=\"node16\" class=\"node\">\n",
       "<title>29</title>\n",
       "<path fill=\"#c0c0c0\" stroke=\"black\" d=\"M570,-36C570,-36 540,-36 540,-36 534,-36 528,-30 528,-24 528,-24 528,-12 528,-12 528,-6 534,0 540,0 540,0 570,0 570,0 576,0 582,-6 582,-12 582,-12 582,-24 582,-24 582,-30 576,-36 570,-36\"/>\n",
       "<text text-anchor=\"middle\" x=\"555\" y=\"-14.3\" font-family=\"Helvetica,sans-Serif\" font-size=\"14.00\">(...)</text>\n",
       "</g>\n",
       "<!-- 25&#45;&gt;29 -->\n",
       "<g id=\"edge15\" class=\"edge\">\n",
       "<title>25&#45;&gt;29</title>\n",
       "<path fill=\"none\" stroke=\"black\" d=\"M517.76,-71.5C523.91,-62.83 530.46,-53.6 536.31,-45.35\"/>\n",
       "<polygon fill=\"black\" stroke=\"black\" points=\"539,-47.61 541.93,-37.43 533.29,-43.56 539,-47.61\"/>\n",
       "</g>\n",
       "<!-- 33 -->\n",
       "<g id=\"node18\" class=\"node\">\n",
       "<title>33</title>\n",
       "<path fill=\"#f6d2b8\" stroke=\"black\" d=\"M757,-244C757,-244 653,-244 653,-244 647,-244 641,-238 641,-232 641,-232 641,-188 641,-188 641,-182 647,-176 653,-176 653,-176 757,-176 757,-176 763,-176 769,-182 769,-188 769,-188 769,-232 769,-232 769,-238 763,-244 757,-244\"/>\n",
       "<text text-anchor=\"start\" x=\"661\" y=\"-228.8\" font-family=\"Helvetica,sans-Serif\" font-size=\"14.00\">year ≤ 2002.5</text>\n",
       "<text text-anchor=\"start\" x=\"664.5\" y=\"-213.8\" font-family=\"Helvetica,sans-Serif\" font-size=\"14.00\">mse = 0.009</text>\n",
       "<text text-anchor=\"start\" x=\"649\" y=\"-198.8\" font-family=\"Helvetica,sans-Serif\" font-size=\"14.00\">samples = 24132</text>\n",
       "<text text-anchor=\"start\" x=\"662\" y=\"-183.8\" font-family=\"Helvetica,sans-Serif\" font-size=\"14.00\">value = 0.013</text>\n",
       "</g>\n",
       "<!-- 32&#45;&gt;33 -->\n",
       "<g id=\"edge17\" class=\"edge\">\n",
       "<title>32&#45;&gt;33</title>\n",
       "<path fill=\"none\" stroke=\"black\" d=\"M705,-279.6C705,-272.03 705,-263.87 705,-255.9\"/>\n",
       "<polygon fill=\"black\" stroke=\"black\" points=\"708.5,-255.99 705,-245.99 701.5,-255.99 708.5,-255.99\"/>\n",
       "</g>\n",
       "<!-- 48 -->\n",
       "<g id=\"node25\" class=\"node\">\n",
       "<title>48</title>\n",
       "<path fill=\"#f7d6be\" stroke=\"black\" d=\"M972,-244C972,-244 868,-244 868,-244 862,-244 856,-238 856,-232 856,-232 856,-188 856,-188 856,-182 862,-176 868,-176 868,-176 972,-176 972,-176 978,-176 984,-182 984,-188 984,-188 984,-232 984,-232 984,-238 978,-244 972,-244\"/>\n",
       "<text text-anchor=\"start\" x=\"876\" y=\"-228.8\" font-family=\"Helvetica,sans-Serif\" font-size=\"14.00\">year ≤ 2008.5</text>\n",
       "<text text-anchor=\"start\" x=\"879.5\" y=\"-213.8\" font-family=\"Helvetica,sans-Serif\" font-size=\"14.00\">mse = 0.008</text>\n",
       "<text text-anchor=\"start\" x=\"864\" y=\"-198.8\" font-family=\"Helvetica,sans-Serif\" font-size=\"14.00\">samples = 22498</text>\n",
       "<text text-anchor=\"start\" x=\"874.5\" y=\"-183.8\" font-family=\"Helvetica,sans-Serif\" font-size=\"14.00\">value = &#45;0.002</text>\n",
       "</g>\n",
       "<!-- 32&#45;&gt;48 -->\n",
       "<g id=\"edge24\" class=\"edge\">\n",
       "<title>32&#45;&gt;48</title>\n",
       "<path fill=\"none\" stroke=\"black\" d=\"M769.22,-282.53C793.25,-271.13 820.75,-258.09 845.63,-246.28\"/>\n",
       "<polygon fill=\"black\" stroke=\"black\" points=\"846.84,-249.58 854.38,-242.13 843.84,-243.26 846.84,-249.58\"/>\n",
       "</g>\n",
       "<!-- 34 -->\n",
       "<g id=\"node19\" class=\"node\">\n",
       "<title>34</title>\n",
       "<path fill=\"#f7dbc6\" stroke=\"black\" d=\"M683.5,-140C683.5,-140 588.5,-140 588.5,-140 582.5,-140 576.5,-134 576.5,-128 576.5,-128 576.5,-84 576.5,-84 576.5,-78 582.5,-72 588.5,-72 588.5,-72 683.5,-72 683.5,-72 689.5,-72 695.5,-78 695.5,-84 695.5,-84 695.5,-128 695.5,-128 695.5,-134 689.5,-140 683.5,-140\"/>\n",
       "<text text-anchor=\"start\" x=\"598.5\" y=\"-124.8\" font-family=\"Helvetica,sans-Serif\" font-size=\"14.00\">month ≤ 8.5</text>\n",
       "<text text-anchor=\"start\" x=\"595.5\" y=\"-109.8\" font-family=\"Helvetica,sans-Serif\" font-size=\"14.00\">mse = 0.014</text>\n",
       "<text text-anchor=\"start\" x=\"584.5\" y=\"-94.8\" font-family=\"Helvetica,sans-Serif\" font-size=\"14.00\">samples = 1587</text>\n",
       "<text text-anchor=\"start\" x=\"590.5\" y=\"-79.8\" font-family=\"Helvetica,sans-Serif\" font-size=\"14.00\">value = &#45;0.018</text>\n",
       "</g>\n",
       "<!-- 33&#45;&gt;34 -->\n",
       "<g id=\"edge18\" class=\"edge\">\n",
       "<title>33&#45;&gt;34</title>\n",
       "<path fill=\"none\" stroke=\"black\" d=\"M682.41,-175.6C676.87,-167.41 670.86,-158.53 665.06,-149.96\"/>\n",
       "<polygon fill=\"black\" stroke=\"black\" points=\"667.99,-148.05 659.49,-141.73 662.2,-151.97 667.99,-148.05\"/>\n",
       "</g>\n",
       "<!-- 41 -->\n",
       "<g id=\"node22\" class=\"node\">\n",
       "<title>41</title>\n",
       "<path fill=\"#f6d1b7\" stroke=\"black\" d=\"M830,-140C830,-140 726,-140 726,-140 720,-140 714,-134 714,-128 714,-128 714,-84 714,-84 714,-78 720,-72 726,-72 726,-72 830,-72 830,-72 836,-72 842,-78 842,-84 842,-84 842,-128 842,-128 842,-134 836,-140 830,-140\"/>\n",
       "<text text-anchor=\"start\" x=\"734\" y=\"-124.8\" font-family=\"Helvetica,sans-Serif\" font-size=\"14.00\">year ≤ 2003.5</text>\n",
       "<text text-anchor=\"start\" x=\"737.5\" y=\"-109.8\" font-family=\"Helvetica,sans-Serif\" font-size=\"14.00\">mse = 0.008</text>\n",
       "<text text-anchor=\"start\" x=\"722\" y=\"-94.8\" font-family=\"Helvetica,sans-Serif\" font-size=\"14.00\">samples = 22545</text>\n",
       "<text text-anchor=\"start\" x=\"735\" y=\"-79.8\" font-family=\"Helvetica,sans-Serif\" font-size=\"14.00\">value = 0.015</text>\n",
       "</g>\n",
       "<!-- 33&#45;&gt;41 -->\n",
       "<g id=\"edge21\" class=\"edge\">\n",
       "<title>33&#45;&gt;41</title>\n",
       "<path fill=\"none\" stroke=\"black\" d=\"M728.9,-175.6C734.83,-167.32 741.26,-158.34 747.45,-149.69\"/>\n",
       "<polygon fill=\"black\" stroke=\"black\" points=\"750.19,-151.87 753.16,-141.7 744.5,-147.8 750.19,-151.87\"/>\n",
       "</g>\n",
       "<!-- 35 -->\n",
       "<g id=\"node20\" class=\"node\">\n",
       "<title>35</title>\n",
       "<path fill=\"#c0c0c0\" stroke=\"black\" d=\"M644,-36C644,-36 614,-36 614,-36 608,-36 602,-30 602,-24 602,-24 602,-12 602,-12 602,-6 608,0 614,0 614,0 644,0 644,0 650,0 656,-6 656,-12 656,-12 656,-24 656,-24 656,-30 650,-36 644,-36\"/>\n",
       "<text text-anchor=\"middle\" x=\"629\" y=\"-14.3\" font-family=\"Helvetica,sans-Serif\" font-size=\"14.00\">(...)</text>\n",
       "</g>\n",
       "<!-- 34&#45;&gt;35 -->\n",
       "<g id=\"edge19\" class=\"edge\">\n",
       "<title>34&#45;&gt;35</title>\n",
       "<path fill=\"none\" stroke=\"black\" d=\"M633.27,-71.5C632.63,-63.58 631.95,-55.2 631.32,-47.52\"/>\n",
       "<polygon fill=\"black\" stroke=\"black\" points=\"634.82,-47.39 630.52,-37.71 627.85,-47.96 634.82,-47.39\"/>\n",
       "</g>\n",
       "<!-- 38 -->\n",
       "<g id=\"node21\" class=\"node\">\n",
       "<title>38</title>\n",
       "<path fill=\"#c0c0c0\" stroke=\"black\" d=\"M716,-36C716,-36 686,-36 686,-36 680,-36 674,-30 674,-24 674,-24 674,-12 674,-12 674,-6 680,0 686,0 686,0 716,0 716,0 722,0 728,-6 728,-12 728,-12 728,-24 728,-24 728,-30 722,-36 716,-36\"/>\n",
       "<text text-anchor=\"middle\" x=\"701\" y=\"-14.3\" font-family=\"Helvetica,sans-Serif\" font-size=\"14.00\">(...)</text>\n",
       "</g>\n",
       "<!-- 34&#45;&gt;38 -->\n",
       "<g id=\"edge20\" class=\"edge\">\n",
       "<title>34&#45;&gt;38</title>\n",
       "<path fill=\"none\" stroke=\"black\" d=\"M661.32,-71.5C667.88,-62.83 674.85,-53.6 681.08,-45.35\"/>\n",
       "<polygon fill=\"black\" stroke=\"black\" points=\"683.85,-47.49 687.09,-37.4 678.27,-43.27 683.85,-47.49\"/>\n",
       "</g>\n",
       "<!-- 42 -->\n",
       "<g id=\"node23\" class=\"node\">\n",
       "<title>42</title>\n",
       "<path fill=\"#c0c0c0\" stroke=\"black\" d=\"M789,-36C789,-36 759,-36 759,-36 753,-36 747,-30 747,-24 747,-24 747,-12 747,-12 747,-6 753,0 759,0 759,0 789,0 789,0 795,0 801,-6 801,-12 801,-12 801,-24 801,-24 801,-30 795,-36 789,-36\"/>\n",
       "<text text-anchor=\"middle\" x=\"774\" y=\"-14.3\" font-family=\"Helvetica,sans-Serif\" font-size=\"14.00\">(...)</text>\n",
       "</g>\n",
       "<!-- 41&#45;&gt;42 -->\n",
       "<g id=\"edge22\" class=\"edge\">\n",
       "<title>41&#45;&gt;42</title>\n",
       "<path fill=\"none\" stroke=\"black\" d=\"M776.44,-71.5C776.07,-63.58 775.68,-55.2 775.33,-47.52\"/>\n",
       "<polygon fill=\"black\" stroke=\"black\" points=\"778.83,-47.54 774.87,-37.71 771.84,-47.86 778.83,-47.54\"/>\n",
       "</g>\n",
       "<!-- 45 -->\n",
       "<g id=\"node24\" class=\"node\">\n",
       "<title>45</title>\n",
       "<path fill=\"#c0c0c0\" stroke=\"black\" d=\"M861,-36C861,-36 831,-36 831,-36 825,-36 819,-30 819,-24 819,-24 819,-12 819,-12 819,-6 825,0 831,0 831,0 861,0 861,0 867,0 873,-6 873,-12 873,-12 873,-24 873,-24 873,-30 867,-36 861,-36\"/>\n",
       "<text text-anchor=\"middle\" x=\"846\" y=\"-14.3\" font-family=\"Helvetica,sans-Serif\" font-size=\"14.00\">(...)</text>\n",
       "</g>\n",
       "<!-- 41&#45;&gt;45 -->\n",
       "<g id=\"edge23\" class=\"edge\">\n",
       "<title>41&#45;&gt;45</title>\n",
       "<path fill=\"none\" stroke=\"black\" d=\"M804.49,-71.5C811.42,-62.73 818.8,-53.4 825.38,-45.08\"/>\n",
       "<polygon fill=\"black\" stroke=\"black\" points=\"828.01,-47.4 831.46,-37.38 822.52,-43.06 828.01,-47.4\"/>\n",
       "</g>\n",
       "<!-- 49 -->\n",
       "<g id=\"node26\" class=\"node\">\n",
       "<title>49</title>\n",
       "<path fill=\"#f8dcc8\" stroke=\"black\" d=\"M967.5,-140C967.5,-140 872.5,-140 872.5,-140 866.5,-140 860.5,-134 860.5,-128 860.5,-128 860.5,-84 860.5,-84 860.5,-78 866.5,-72 872.5,-72 872.5,-72 967.5,-72 967.5,-72 973.5,-72 979.5,-78 979.5,-84 979.5,-84 979.5,-128 979.5,-128 979.5,-134 973.5,-140 967.5,-140\"/>\n",
       "<text text-anchor=\"start\" x=\"876\" y=\"-124.8\" font-family=\"Helvetica,sans-Serif\" font-size=\"14.00\">year ≤ 2007.5</text>\n",
       "<text text-anchor=\"start\" x=\"879.5\" y=\"-109.8\" font-family=\"Helvetica,sans-Serif\" font-size=\"14.00\">mse = 0.013</text>\n",
       "<text text-anchor=\"start\" x=\"868.5\" y=\"-94.8\" font-family=\"Helvetica,sans-Serif\" font-size=\"14.00\">samples = 6081</text>\n",
       "<text text-anchor=\"start\" x=\"874.5\" y=\"-79.8\" font-family=\"Helvetica,sans-Serif\" font-size=\"14.00\">value = &#45;0.023</text>\n",
       "</g>\n",
       "<!-- 48&#45;&gt;49 -->\n",
       "<g id=\"edge25\" class=\"edge\">\n",
       "<title>48&#45;&gt;49</title>\n",
       "<path fill=\"none\" stroke=\"black\" d=\"M920,-175.6C920,-168.03 920,-159.87 920,-151.9\"/>\n",
       "<polygon fill=\"black\" stroke=\"black\" points=\"923.5,-151.99 920,-141.99 916.5,-151.99 923.5,-151.99\"/>\n",
       "</g>\n",
       "<!-- 56 -->\n",
       "<g id=\"node29\" class=\"node\">\n",
       "<title>56</title>\n",
       "<path fill=\"#f6d4bb\" stroke=\"black\" d=\"M1114,-140C1114,-140 1010,-140 1010,-140 1004,-140 998,-134 998,-128 998,-128 998,-84 998,-84 998,-78 1004,-72 1010,-72 1010,-72 1114,-72 1114,-72 1120,-72 1126,-78 1126,-84 1126,-84 1126,-128 1126,-128 1126,-134 1120,-140 1114,-140\"/>\n",
       "<text text-anchor=\"start\" x=\"1006.5\" y=\"-124.8\" font-family=\"Helvetica,sans-Serif\" font-size=\"14.00\">bb_down ≤ 0.038</text>\n",
       "<text text-anchor=\"start\" x=\"1021.5\" y=\"-109.8\" font-family=\"Helvetica,sans-Serif\" font-size=\"14.00\">mse = 0.006</text>\n",
       "<text text-anchor=\"start\" x=\"1006\" y=\"-94.8\" font-family=\"Helvetica,sans-Serif\" font-size=\"14.00\">samples = 16417</text>\n",
       "<text text-anchor=\"start\" x=\"1019\" y=\"-79.8\" font-family=\"Helvetica,sans-Serif\" font-size=\"14.00\">value = 0.006</text>\n",
       "</g>\n",
       "<!-- 48&#45;&gt;56 -->\n",
       "<g id=\"edge28\" class=\"edge\">\n",
       "<title>48&#45;&gt;56</title>\n",
       "<path fill=\"none\" stroke=\"black\" d=\"M966.5,-175.6C979.25,-166.44 993.2,-156.42 1006.4,-146.94\"/>\n",
       "<polygon fill=\"black\" stroke=\"black\" points=\"1008.09,-150.03 1014.17,-141.36 1004.01,-144.35 1008.09,-150.03\"/>\n",
       "</g>\n",
       "<!-- 50 -->\n",
       "<g id=\"node27\" class=\"node\">\n",
       "<title>50</title>\n",
       "<path fill=\"#c0c0c0\" stroke=\"black\" d=\"M933,-36C933,-36 903,-36 903,-36 897,-36 891,-30 891,-24 891,-24 891,-12 891,-12 891,-6 897,0 903,0 903,0 933,0 933,0 939,0 945,-6 945,-12 945,-12 945,-24 945,-24 945,-30 939,-36 933,-36\"/>\n",
       "<text text-anchor=\"middle\" x=\"918\" y=\"-14.3\" font-family=\"Helvetica,sans-Serif\" font-size=\"14.00\">(...)</text>\n",
       "</g>\n",
       "<!-- 49&#45;&gt;50 -->\n",
       "<g id=\"edge26\" class=\"edge\">\n",
       "<title>49&#45;&gt;50</title>\n",
       "<path fill=\"none\" stroke=\"black\" d=\"M919.22,-71.5C919.04,-63.58 918.84,-55.2 918.66,-47.52\"/>\n",
       "<polygon fill=\"black\" stroke=\"black\" points=\"922.17,-47.63 918.44,-37.71 915.17,-47.79 922.17,-47.63\"/>\n",
       "</g>\n",
       "<!-- 53 -->\n",
       "<g id=\"node28\" class=\"node\">\n",
       "<title>53</title>\n",
       "<path fill=\"#c0c0c0\" stroke=\"black\" d=\"M1005,-36C1005,-36 975,-36 975,-36 969,-36 963,-30 963,-24 963,-24 963,-12 963,-12 963,-6 969,0 975,0 975,0 1005,0 1005,0 1011,0 1017,-6 1017,-12 1017,-12 1017,-24 1017,-24 1017,-30 1011,-36 1005,-36\"/>\n",
       "<text text-anchor=\"middle\" x=\"990\" y=\"-14.3\" font-family=\"Helvetica,sans-Serif\" font-size=\"14.00\">(...)</text>\n",
       "</g>\n",
       "<!-- 49&#45;&gt;53 -->\n",
       "<g id=\"edge27\" class=\"edge\">\n",
       "<title>49&#45;&gt;53</title>\n",
       "<path fill=\"none\" stroke=\"black\" d=\"M947.26,-71.5C954.4,-62.73 962,-53.4 968.77,-45.08\"/>\n",
       "<polygon fill=\"black\" stroke=\"black\" points=\"971.45,-47.34 975.05,-37.37 966.02,-42.92 971.45,-47.34\"/>\n",
       "</g>\n",
       "<!-- 57 -->\n",
       "<g id=\"node30\" class=\"node\">\n",
       "<title>57</title>\n",
       "<path fill=\"#c0c0c0\" stroke=\"black\" d=\"M1077,-36C1077,-36 1047,-36 1047,-36 1041,-36 1035,-30 1035,-24 1035,-24 1035,-12 1035,-12 1035,-6 1041,0 1047,0 1047,0 1077,0 1077,0 1083,0 1089,-6 1089,-12 1089,-12 1089,-24 1089,-24 1089,-30 1083,-36 1077,-36\"/>\n",
       "<text text-anchor=\"middle\" x=\"1062\" y=\"-14.3\" font-family=\"Helvetica,sans-Serif\" font-size=\"14.00\">(...)</text>\n",
       "</g>\n",
       "<!-- 56&#45;&gt;57 -->\n",
       "<g id=\"edge29\" class=\"edge\">\n",
       "<title>56&#45;&gt;57</title>\n",
       "<path fill=\"none\" stroke=\"black\" d=\"M1062,-71.5C1062,-63.58 1062,-55.2 1062,-47.52\"/>\n",
       "<polygon fill=\"black\" stroke=\"black\" points=\"1065.5,-47.71 1062,-37.71 1058.5,-47.71 1065.5,-47.71\"/>\n",
       "</g>\n",
       "<!-- 60 -->\n",
       "<g id=\"node31\" class=\"node\">\n",
       "<title>60</title>\n",
       "<path fill=\"#c0c0c0\" stroke=\"black\" d=\"M1149,-36C1149,-36 1119,-36 1119,-36 1113,-36 1107,-30 1107,-24 1107,-24 1107,-12 1107,-12 1107,-6 1113,0 1119,0 1119,0 1149,0 1149,0 1155,0 1161,-6 1161,-12 1161,-12 1161,-24 1161,-24 1161,-30 1155,-36 1149,-36\"/>\n",
       "<text text-anchor=\"middle\" x=\"1134\" y=\"-14.3\" font-family=\"Helvetica,sans-Serif\" font-size=\"14.00\">(...)</text>\n",
       "</g>\n",
       "<!-- 56&#45;&gt;60 -->\n",
       "<g id=\"edge30\" class=\"edge\">\n",
       "<title>56&#45;&gt;60</title>\n",
       "<path fill=\"none\" stroke=\"black\" d=\"M1090.04,-71.5C1097.47,-62.64 1105.36,-53.2 1112.39,-44.81\"/>\n",
       "<polygon fill=\"black\" stroke=\"black\" points=\"1114.9,-47.27 1118.63,-37.36 1109.53,-42.78 1114.9,-47.27\"/>\n",
       "</g>\n",
       "</g>\n",
       "</svg>\n"
      ],
      "text/plain": [
       "<graphviz.sources.Source at 0x252b18edd00>"
      ]
     },
     "execution_count": 54,
     "metadata": {},
     "output_type": "execute_result"
    }
   ],
   "source": [
    "out_file = results_path / 'reg_tree.dot'\n",
    "dot_data = export_graphviz(regression_tree,\n",
    "                           out_file=out_file.as_posix(),\n",
    "                           feature_names=X_train.columns,\n",
    "                           max_depth=3,\n",
    "                           filled=True,\n",
    "                           rounded=True,\n",
    "                           special_characters=True)\n",
    "if out_file is not None:\n",
    "    dot_data = Path(out_file).read_text()\n",
    "\n",
    "graphviz.Source(dot_data)"
   ]
  },
  {
   "cell_type": "markdown",
   "metadata": {},
   "source": [
    "### Evaluate Test Set"
   ]
  },
  {
   "cell_type": "code",
   "execution_count": 55,
   "metadata": {
    "ExecuteTime": {
     "end_time": "2021-04-16T00:33:35.355228Z",
     "start_time": "2021-04-16T00:33:35.333642Z"
    }
   },
   "outputs": [],
   "source": [
    "y_pred = regression_tree.predict(X_test)"
   ]
  },
  {
   "cell_type": "code",
   "execution_count": 56,
   "metadata": {
    "ExecuteTime": {
     "end_time": "2021-04-16T00:33:35.363324Z",
     "start_time": "2021-04-16T00:33:35.358601Z"
    }
   },
   "outputs": [
    {
     "data": {
      "text/plain": [
       "0.08659823080682826"
      ]
     },
     "execution_count": 56,
     "metadata": {},
     "output_type": "execute_result"
    }
   ],
   "source": [
    "np.sqrt(mean_squared_error(y_pred=y_pred, y_true=y_test))"
   ]
  },
  {
   "cell_type": "code",
   "execution_count": 57,
   "metadata": {
    "ExecuteTime": {
     "end_time": "2021-04-16T00:33:35.379470Z",
     "start_time": "2021-04-16T00:33:35.365615Z"
    }
   },
   "outputs": [
    {
     "name": "stdout",
     "output_type": "stream",
     "text": [
      "18.95 (p-value=0.00%)\n"
     ]
    }
   ],
   "source": [
    "r, p = spearmanr(y_pred, y_test)\n",
    "print(f'{r*100:.2f} (p-value={p:.2%})')"
   ]
  },
  {
   "cell_type": "markdown",
   "metadata": {},
   "source": [
    "## Classification Tree with all Features"
   ]
  },
  {
   "cell_type": "markdown",
   "metadata": {},
   "source": [
    "We will now train, visualize, and evaluate a classification tree with up to 5 consecutive splits using 80% of the samples for training to predict the remaining 20%. We are taking a shortcut here to simplify the illustration and use the built-in train_test_split, which does not protect against lookahead bias, as our custom iterator. The tree configuration implies up to $2^5=32$ leaf nodes that, on average in the balanced case, would contain over 4,300 of the training samples."
   ]
  },
  {
   "cell_type": "markdown",
   "metadata": {},
   "source": [
    "### Train-Test Split"
   ]
  },
  {
   "cell_type": "code",
   "execution_count": 58,
   "metadata": {
    "ExecuteTime": {
     "end_time": "2021-04-16T00:33:35.391198Z",
     "start_time": "2021-04-16T00:33:35.380409Z"
    },
    "scrolled": true
   },
   "outputs": [
    {
     "data": {
      "text/plain": [
       "1    43733\n",
       "0    34055\n",
       "Name: target, dtype: int64"
      ]
     },
     "execution_count": 58,
     "metadata": {},
     "output_type": "execute_result"
    }
   ],
   "source": [
    "y_binary = (y>0).astype(int)\n",
    "y_binary.value_counts()"
   ]
  },
  {
   "cell_type": "code",
   "execution_count": 59,
   "metadata": {
    "ExecuteTime": {
     "end_time": "2021-04-16T00:33:35.421858Z",
     "start_time": "2021-04-16T00:33:35.392557Z"
    }
   },
   "outputs": [],
   "source": [
    "X_train, X_test, y_train, y_test = train_test_split(X, y_binary, test_size=0.2, random_state=42)"
   ]
  },
  {
   "cell_type": "code",
   "execution_count": 60,
   "metadata": {
    "ExecuteTime": {
     "end_time": "2021-04-16T00:33:35.425897Z",
     "start_time": "2021-04-16T00:33:35.423388Z"
    }
   },
   "outputs": [],
   "source": [
    "clf = DecisionTreeClassifier(criterion='gini',\n",
    "                             max_depth=5,\n",
    "                             random_state=42)"
   ]
  },
  {
   "cell_type": "code",
   "execution_count": 61,
   "metadata": {
    "ExecuteTime": {
     "end_time": "2021-04-16T00:33:36.216311Z",
     "start_time": "2021-04-16T00:33:35.427617Z"
    }
   },
   "outputs": [
    {
     "data": {
      "text/html": [
       "<style>#sk-container-id-6 {color: black;background-color: white;}#sk-container-id-6 pre{padding: 0;}#sk-container-id-6 div.sk-toggleable {background-color: white;}#sk-container-id-6 label.sk-toggleable__label {cursor: pointer;display: block;width: 100%;margin-bottom: 0;padding: 0.3em;box-sizing: border-box;text-align: center;}#sk-container-id-6 label.sk-toggleable__label-arrow:before {content: \"▸\";float: left;margin-right: 0.25em;color: #696969;}#sk-container-id-6 label.sk-toggleable__label-arrow:hover:before {color: black;}#sk-container-id-6 div.sk-estimator:hover label.sk-toggleable__label-arrow:before {color: black;}#sk-container-id-6 div.sk-toggleable__content {max-height: 0;max-width: 0;overflow: hidden;text-align: left;background-color: #f0f8ff;}#sk-container-id-6 div.sk-toggleable__content pre {margin: 0.2em;color: black;border-radius: 0.25em;background-color: #f0f8ff;}#sk-container-id-6 input.sk-toggleable__control:checked~div.sk-toggleable__content {max-height: 200px;max-width: 100%;overflow: auto;}#sk-container-id-6 input.sk-toggleable__control:checked~label.sk-toggleable__label-arrow:before {content: \"▾\";}#sk-container-id-6 div.sk-estimator input.sk-toggleable__control:checked~label.sk-toggleable__label {background-color: #d4ebff;}#sk-container-id-6 div.sk-label input.sk-toggleable__control:checked~label.sk-toggleable__label {background-color: #d4ebff;}#sk-container-id-6 input.sk-hidden--visually {border: 0;clip: rect(1px 1px 1px 1px);clip: rect(1px, 1px, 1px, 1px);height: 1px;margin: -1px;overflow: hidden;padding: 0;position: absolute;width: 1px;}#sk-container-id-6 div.sk-estimator {font-family: monospace;background-color: #f0f8ff;border: 1px dotted black;border-radius: 0.25em;box-sizing: border-box;margin-bottom: 0.5em;}#sk-container-id-6 div.sk-estimator:hover {background-color: #d4ebff;}#sk-container-id-6 div.sk-parallel-item::after {content: \"\";width: 100%;border-bottom: 1px solid gray;flex-grow: 1;}#sk-container-id-6 div.sk-label:hover label.sk-toggleable__label {background-color: #d4ebff;}#sk-container-id-6 div.sk-serial::before {content: \"\";position: absolute;border-left: 1px solid gray;box-sizing: border-box;top: 0;bottom: 0;left: 50%;z-index: 0;}#sk-container-id-6 div.sk-serial {display: flex;flex-direction: column;align-items: center;background-color: white;padding-right: 0.2em;padding-left: 0.2em;position: relative;}#sk-container-id-6 div.sk-item {position: relative;z-index: 1;}#sk-container-id-6 div.sk-parallel {display: flex;align-items: stretch;justify-content: center;background-color: white;position: relative;}#sk-container-id-6 div.sk-item::before, #sk-container-id-6 div.sk-parallel-item::before {content: \"\";position: absolute;border-left: 1px solid gray;box-sizing: border-box;top: 0;bottom: 0;left: 50%;z-index: -1;}#sk-container-id-6 div.sk-parallel-item {display: flex;flex-direction: column;z-index: 1;position: relative;background-color: white;}#sk-container-id-6 div.sk-parallel-item:first-child::after {align-self: flex-end;width: 50%;}#sk-container-id-6 div.sk-parallel-item:last-child::after {align-self: flex-start;width: 50%;}#sk-container-id-6 div.sk-parallel-item:only-child::after {width: 0;}#sk-container-id-6 div.sk-dashed-wrapped {border: 1px dashed gray;margin: 0 0.4em 0.5em 0.4em;box-sizing: border-box;padding-bottom: 0.4em;background-color: white;}#sk-container-id-6 div.sk-label label {font-family: monospace;font-weight: bold;display: inline-block;line-height: 1.2em;}#sk-container-id-6 div.sk-label-container {text-align: center;}#sk-container-id-6 div.sk-container {/* jupyter's `normalize.less` sets `[hidden] { display: none; }` but bootstrap.min.css set `[hidden] { display: none !important; }` so we also need the `!important` here to be able to override the default hidden behavior on the sphinx rendered scikit-learn.org. See: https://github.com/scikit-learn/scikit-learn/issues/21755 */display: inline-block !important;position: relative;}#sk-container-id-6 div.sk-text-repr-fallback {display: none;}</style><div id=\"sk-container-id-6\" class=\"sk-top-container\"><div class=\"sk-text-repr-fallback\"><pre>DecisionTreeClassifier(max_depth=5, random_state=42)</pre><b>In a Jupyter environment, please rerun this cell to show the HTML representation or trust the notebook. <br />On GitHub, the HTML representation is unable to render, please try loading this page with nbviewer.org.</b></div><div class=\"sk-container\" hidden><div class=\"sk-item\"><div class=\"sk-estimator sk-toggleable\"><input class=\"sk-toggleable__control sk-hidden--visually\" id=\"sk-estimator-id-6\" type=\"checkbox\" checked><label for=\"sk-estimator-id-6\" class=\"sk-toggleable__label sk-toggleable__label-arrow\">DecisionTreeClassifier</label><div class=\"sk-toggleable__content\"><pre>DecisionTreeClassifier(max_depth=5, random_state=42)</pre></div></div></div></div></div>"
      ],
      "text/plain": [
       "DecisionTreeClassifier(max_depth=5, random_state=42)"
      ]
     },
     "execution_count": 61,
     "metadata": {},
     "output_type": "execute_result"
    }
   ],
   "source": [
    "clf.fit(X=X_train, y=y_train)"
   ]
  },
  {
   "cell_type": "markdown",
   "metadata": {},
   "source": [
    "### Plot Tree"
   ]
  },
  {
   "cell_type": "code",
   "execution_count": 62,
   "metadata": {
    "ExecuteTime": {
     "end_time": "2021-04-16T00:33:36.260644Z",
     "start_time": "2021-04-16T00:33:36.219967Z"
    },
    "scrolled": false
   },
   "outputs": [
    {
     "data": {
      "image/svg+xml": [
       "<?xml version=\"1.0\" encoding=\"UTF-8\" standalone=\"no\"?>\n",
       "<!DOCTYPE svg PUBLIC \"-//W3C//DTD SVG 1.1//EN\"\n",
       " \"http://www.w3.org/Graphics/SVG/1.1/DTD/svg11.dtd\">\n",
       "<!-- Generated by graphviz version 7.0.4 (20221203.1631)\n",
       " -->\n",
       "<!-- Title: Tree Pages: 1 -->\n",
       "<svg width=\"1272pt\" height=\"520pt\"\n",
       " viewBox=\"0.00 0.00 1271.50 520.00\" xmlns=\"http://www.w3.org/2000/svg\" xmlns:xlink=\"http://www.w3.org/1999/xlink\">\n",
       "<g id=\"graph0\" class=\"graph\" transform=\"scale(1 1) rotate(0) translate(4 516)\">\n",
       "<title>Tree</title>\n",
       "<polygon fill=\"white\" stroke=\"none\" points=\"-4,4 -4,-516 1267.5,-516 1267.5,4 -4,4\"/>\n",
       "<!-- 0 -->\n",
       "<g id=\"node1\" class=\"node\">\n",
       "<title>0</title>\n",
       "<path fill=\"#d4eaf9\" stroke=\"black\" d=\"M687.5,-512C687.5,-512 548.5,-512 548.5,-512 542.5,-512 536.5,-506 536.5,-500 536.5,-500 536.5,-441 536.5,-441 536.5,-435 542.5,-429 548.5,-429 548.5,-429 687.5,-429 687.5,-429 693.5,-429 699.5,-435 699.5,-441 699.5,-441 699.5,-500 699.5,-500 699.5,-506 693.5,-512 687.5,-512\"/>\n",
       "<text text-anchor=\"start\" x=\"580.5\" y=\"-496.8\" font-family=\"Helvetica,sans-Serif\" font-size=\"14.00\">month ≤ 3.5</text>\n",
       "<text text-anchor=\"start\" x=\"580.5\" y=\"-481.8\" font-family=\"Helvetica,sans-Serif\" font-size=\"14.00\">gini = 0.492</text>\n",
       "<text text-anchor=\"start\" x=\"562\" y=\"-466.8\" font-family=\"Helvetica,sans-Serif\" font-size=\"14.00\">samples = 62230</text>\n",
       "<text text-anchor=\"start\" x=\"544.5\" y=\"-451.8\" font-family=\"Helvetica,sans-Serif\" font-size=\"14.00\">value = [27286, 34944]</text>\n",
       "<text text-anchor=\"start\" x=\"584.5\" y=\"-436.8\" font-family=\"Helvetica,sans-Serif\" font-size=\"14.00\">class = Up</text>\n",
       "</g>\n",
       "<!-- 1 -->\n",
       "<g id=\"node2\" class=\"node\">\n",
       "<title>1</title>\n",
       "<path fill=\"#b7dbf5\" stroke=\"black\" d=\"M523,-393C523,-393 401,-393 401,-393 395,-393 389,-387 389,-381 389,-381 389,-322 389,-322 389,-316 395,-310 401,-310 401,-310 523,-310 523,-310 529,-310 535,-316 535,-322 535,-322 535,-381 535,-381 535,-387 529,-393 523,-393\"/>\n",
       "<text text-anchor=\"start\" x=\"418\" y=\"-377.8\" font-family=\"Helvetica,sans-Serif\" font-size=\"14.00\">year ≤ 2008.5</text>\n",
       "<text text-anchor=\"start\" x=\"424.5\" y=\"-362.8\" font-family=\"Helvetica,sans-Serif\" font-size=\"14.00\">gini = 0.475</text>\n",
       "<text text-anchor=\"start\" x=\"406\" y=\"-347.8\" font-family=\"Helvetica,sans-Serif\" font-size=\"14.00\">samples = 15600</text>\n",
       "<text text-anchor=\"start\" x=\"397\" y=\"-332.8\" font-family=\"Helvetica,sans-Serif\" font-size=\"14.00\">value = [6053, 9547]</text>\n",
       "<text text-anchor=\"start\" x=\"428.5\" y=\"-317.8\" font-family=\"Helvetica,sans-Serif\" font-size=\"14.00\">class = Up</text>\n",
       "</g>\n",
       "<!-- 0&#45;&gt;1 -->\n",
       "<g id=\"edge1\" class=\"edge\">\n",
       "<title>0&#45;&gt;1</title>\n",
       "<path fill=\"none\" stroke=\"black\" d=\"M563.44,-428.58C551.21,-419.41 538.13,-409.6 525.57,-400.17\"/>\n",
       "<polygon fill=\"black\" stroke=\"black\" points=\"527.84,-397.51 517.74,-394.31 523.64,-403.11 527.84,-397.51\"/>\n",
       "<text text-anchor=\"middle\" x=\"520.07\" y=\"-414.45\" font-family=\"Helvetica,sans-Serif\" font-size=\"14.00\">True</text>\n",
       "</g>\n",
       "<!-- 32 -->\n",
       "<g id=\"node17\" class=\"node\">\n",
       "<title>32</title>\n",
       "<path fill=\"#dfeffb\" stroke=\"black\" d=\"M839.5,-393C839.5,-393 700.5,-393 700.5,-393 694.5,-393 688.5,-387 688.5,-381 688.5,-381 688.5,-322 688.5,-322 688.5,-316 694.5,-310 700.5,-310 700.5,-310 839.5,-310 839.5,-310 845.5,-310 851.5,-316 851.5,-322 851.5,-322 851.5,-381 851.5,-381 851.5,-387 845.5,-393 839.5,-393\"/>\n",
       "<text text-anchor=\"start\" x=\"726\" y=\"-377.8\" font-family=\"Helvetica,sans-Serif\" font-size=\"14.00\">year ≤ 2002.5</text>\n",
       "<text text-anchor=\"start\" x=\"732.5\" y=\"-362.8\" font-family=\"Helvetica,sans-Serif\" font-size=\"14.00\">gini = 0.496</text>\n",
       "<text text-anchor=\"start\" x=\"714\" y=\"-347.8\" font-family=\"Helvetica,sans-Serif\" font-size=\"14.00\">samples = 46630</text>\n",
       "<text text-anchor=\"start\" x=\"696.5\" y=\"-332.8\" font-family=\"Helvetica,sans-Serif\" font-size=\"14.00\">value = [21233, 25397]</text>\n",
       "<text text-anchor=\"start\" x=\"736.5\" y=\"-317.8\" font-family=\"Helvetica,sans-Serif\" font-size=\"14.00\">class = Up</text>\n",
       "</g>\n",
       "<!-- 0&#45;&gt;32 -->\n",
       "<g id=\"edge16\" class=\"edge\">\n",
       "<title>0&#45;&gt;32</title>\n",
       "<path fill=\"none\" stroke=\"black\" d=\"M671.16,-428.58C683.08,-419.41 695.82,-409.6 708.06,-400.17\"/>\n",
       "<polygon fill=\"black\" stroke=\"black\" points=\"709.88,-403.19 715.67,-394.32 705.61,-397.65 709.88,-403.19\"/>\n",
       "<text text-anchor=\"middle\" x=\"713.64\" y=\"-414.49\" font-family=\"Helvetica,sans-Serif\" font-size=\"14.00\">False</text>\n",
       "</g>\n",
       "<!-- 2 -->\n",
       "<g id=\"node3\" class=\"node\">\n",
       "<title>2</title>\n",
       "<path fill=\"#d8ecfa\" stroke=\"black\" d=\"M290,-274C290,-274 168,-274 168,-274 162,-274 156,-268 156,-262 156,-262 156,-203 156,-203 156,-197 162,-191 168,-191 168,-191 290,-191 290,-191 296,-191 302,-197 302,-203 302,-203 302,-262 302,-262 302,-268 296,-274 290,-274\"/>\n",
       "<text text-anchor=\"start\" x=\"166.5\" y=\"-258.8\" font-family=\"Helvetica,sans-Serif\" font-size=\"14.00\">return_12m ≤ 0.032</text>\n",
       "<text text-anchor=\"start\" x=\"191.5\" y=\"-243.8\" font-family=\"Helvetica,sans-Serif\" font-size=\"14.00\">gini = 0.494</text>\n",
       "<text text-anchor=\"start\" x=\"177.5\" y=\"-228.8\" font-family=\"Helvetica,sans-Serif\" font-size=\"14.00\">samples = 6335</text>\n",
       "<text text-anchor=\"start\" x=\"164\" y=\"-213.8\" font-family=\"Helvetica,sans-Serif\" font-size=\"14.00\">value = [2826, 3509]</text>\n",
       "<text text-anchor=\"start\" x=\"195.5\" y=\"-198.8\" font-family=\"Helvetica,sans-Serif\" font-size=\"14.00\">class = Up</text>\n",
       "</g>\n",
       "<!-- 1&#45;&gt;2 -->\n",
       "<g id=\"edge2\" class=\"edge\">\n",
       "<title>1&#45;&gt;2</title>\n",
       "<path fill=\"none\" stroke=\"black\" d=\"M388.6,-313.64C364.45,-301.51 337.42,-287.94 312.57,-275.46\"/>\n",
       "<polygon fill=\"black\" stroke=\"black\" points=\"314.29,-272.41 303.79,-271.05 311.15,-278.67 314.29,-272.41\"/>\n",
       "</g>\n",
       "<!-- 17 -->\n",
       "<g id=\"node10\" class=\"node\">\n",
       "<title>17</title>\n",
       "<path fill=\"#a3d1f3\" stroke=\"black\" d=\"M523,-274C523,-274 401,-274 401,-274 395,-274 389,-268 389,-262 389,-262 389,-203 389,-203 389,-197 395,-191 401,-191 401,-191 523,-191 523,-191 529,-191 535,-197 535,-203 535,-203 535,-262 535,-262 535,-268 529,-274 523,-274\"/>\n",
       "<text text-anchor=\"start\" x=\"424.5\" y=\"-258.8\" font-family=\"Helvetica,sans-Serif\" font-size=\"14.00\">month ≤ 2.5</text>\n",
       "<text text-anchor=\"start\" x=\"424.5\" y=\"-243.8\" font-family=\"Helvetica,sans-Serif\" font-size=\"14.00\">gini = 0.454</text>\n",
       "<text text-anchor=\"start\" x=\"410.5\" y=\"-228.8\" font-family=\"Helvetica,sans-Serif\" font-size=\"14.00\">samples = 9265</text>\n",
       "<text text-anchor=\"start\" x=\"397\" y=\"-213.8\" font-family=\"Helvetica,sans-Serif\" font-size=\"14.00\">value = [3227, 6038]</text>\n",
       "<text text-anchor=\"start\" x=\"428.5\" y=\"-198.8\" font-family=\"Helvetica,sans-Serif\" font-size=\"14.00\">class = Up</text>\n",
       "</g>\n",
       "<!-- 1&#45;&gt;17 -->\n",
       "<g id=\"edge9\" class=\"edge\">\n",
       "<title>1&#45;&gt;17</title>\n",
       "<path fill=\"none\" stroke=\"black\" d=\"M462,-309.58C462,-301.79 462,-293.53 462,-285.45\"/>\n",
       "<polygon fill=\"black\" stroke=\"black\" points=\"465.5,-285.71 462,-275.71 458.5,-285.71 465.5,-285.71\"/>\n",
       "</g>\n",
       "<!-- 3 -->\n",
       "<g id=\"node4\" class=\"node\">\n",
       "<title>3</title>\n",
       "<path fill=\"#cee7f9\" stroke=\"black\" d=\"M134,-155C134,-155 12,-155 12,-155 6,-155 0,-149 0,-143 0,-143 0,-84 0,-84 0,-78 6,-72 12,-72 12,-72 134,-72 134,-72 140,-72 146,-78 146,-84 146,-84 146,-143 146,-143 146,-149 140,-155 134,-155\"/>\n",
       "<text text-anchor=\"start\" x=\"35.5\" y=\"-139.8\" font-family=\"Helvetica,sans-Serif\" font-size=\"14.00\">month ≤ 1.5</text>\n",
       "<text text-anchor=\"start\" x=\"39.5\" y=\"-124.8\" font-family=\"Helvetica,sans-Serif\" font-size=\"14.00\">gini = 0.49</text>\n",
       "<text text-anchor=\"start\" x=\"21.5\" y=\"-109.8\" font-family=\"Helvetica,sans-Serif\" font-size=\"14.00\">samples = 5396</text>\n",
       "<text text-anchor=\"start\" x=\"8\" y=\"-94.8\" font-family=\"Helvetica,sans-Serif\" font-size=\"14.00\">value = [2320, 3076]</text>\n",
       "<text text-anchor=\"start\" x=\"39.5\" y=\"-79.8\" font-family=\"Helvetica,sans-Serif\" font-size=\"14.00\">class = Up</text>\n",
       "</g>\n",
       "<!-- 2&#45;&gt;3 -->\n",
       "<g id=\"edge3\" class=\"edge\">\n",
       "<title>2&#45;&gt;3</title>\n",
       "<path fill=\"none\" stroke=\"black\" d=\"M174.44,-190.58C162.21,-181.41 149.13,-171.6 136.57,-162.17\"/>\n",
       "<polygon fill=\"black\" stroke=\"black\" points=\"138.84,-159.51 128.74,-156.31 134.64,-165.11 138.84,-159.51\"/>\n",
       "</g>\n",
       "<!-- 10 -->\n",
       "<g id=\"node7\" class=\"node\">\n",
       "<title>10</title>\n",
       "<path fill=\"#fbede2\" stroke=\"black\" d=\"M282,-155C282,-155 176,-155 176,-155 170,-155 164,-149 164,-143 164,-143 164,-84 164,-84 164,-78 170,-72 176,-72 176,-72 282,-72 282,-72 288,-72 294,-78 294,-84 294,-84 294,-143 294,-143 294,-149 288,-155 282,-155\"/>\n",
       "<text text-anchor=\"start\" x=\"191.5\" y=\"-139.8\" font-family=\"Helvetica,sans-Serif\" font-size=\"14.00\">month ≤ 2.5</text>\n",
       "<text text-anchor=\"start\" x=\"191.5\" y=\"-124.8\" font-family=\"Helvetica,sans-Serif\" font-size=\"14.00\">gini = 0.497</text>\n",
       "<text text-anchor=\"start\" x=\"181.5\" y=\"-109.8\" font-family=\"Helvetica,sans-Serif\" font-size=\"14.00\">samples = 939</text>\n",
       "<text text-anchor=\"start\" x=\"172\" y=\"-94.8\" font-family=\"Helvetica,sans-Serif\" font-size=\"14.00\">value = [506, 433]</text>\n",
       "<text text-anchor=\"start\" x=\"186.5\" y=\"-79.8\" font-family=\"Helvetica,sans-Serif\" font-size=\"14.00\">class = Down</text>\n",
       "</g>\n",
       "<!-- 2&#45;&gt;10 -->\n",
       "<g id=\"edge6\" class=\"edge\">\n",
       "<title>2&#45;&gt;10</title>\n",
       "<path fill=\"none\" stroke=\"black\" d=\"M229,-190.58C229,-182.79 229,-174.53 229,-166.45\"/>\n",
       "<polygon fill=\"black\" stroke=\"black\" points=\"232.5,-166.71 229,-156.71 225.5,-166.71 232.5,-166.71\"/>\n",
       "</g>\n",
       "<!-- 4 -->\n",
       "<g id=\"node5\" class=\"node\">\n",
       "<title>4</title>\n",
       "<path fill=\"#c0c0c0\" stroke=\"black\" d=\"M52,-36C52,-36 22,-36 22,-36 16,-36 10,-30 10,-24 10,-24 10,-12 10,-12 10,-6 16,0 22,0 22,0 52,0 52,0 58,0 64,-6 64,-12 64,-12 64,-24 64,-24 64,-30 58,-36 52,-36\"/>\n",
       "<text text-anchor=\"middle\" x=\"37\" y=\"-14.3\" font-family=\"Helvetica,sans-Serif\" font-size=\"14.00\">(...)</text>\n",
       "</g>\n",
       "<!-- 3&#45;&gt;4 -->\n",
       "<g id=\"edge4\" class=\"edge\">\n",
       "<title>3&#45;&gt;4</title>\n",
       "<path fill=\"none\" stroke=\"black\" d=\"M57.31,-71.76C54.11,-63.43 50.8,-54.84 47.81,-47.07\"/>\n",
       "<polygon fill=\"black\" stroke=\"black\" points=\"51.1,-45.89 44.25,-37.82 44.57,-48.41 51.1,-45.89\"/>\n",
       "</g>\n",
       "<!-- 7 -->\n",
       "<g id=\"node6\" class=\"node\">\n",
       "<title>7</title>\n",
       "<path fill=\"#c0c0c0\" stroke=\"black\" d=\"M124,-36C124,-36 94,-36 94,-36 88,-36 82,-30 82,-24 82,-24 82,-12 82,-12 82,-6 88,0 94,0 94,0 124,0 124,0 130,0 136,-6 136,-12 136,-12 136,-24 136,-24 136,-30 130,-36 124,-36\"/>\n",
       "<text text-anchor=\"middle\" x=\"109\" y=\"-14.3\" font-family=\"Helvetica,sans-Serif\" font-size=\"14.00\">(...)</text>\n",
       "</g>\n",
       "<!-- 3&#45;&gt;7 -->\n",
       "<g id=\"edge5\" class=\"edge\">\n",
       "<title>3&#45;&gt;7</title>\n",
       "<path fill=\"none\" stroke=\"black\" d=\"M88.69,-71.76C91.89,-63.43 95.2,-54.84 98.19,-47.07\"/>\n",
       "<polygon fill=\"black\" stroke=\"black\" points=\"101.43,-48.41 101.75,-37.82 94.9,-45.89 101.43,-48.41\"/>\n",
       "</g>\n",
       "<!-- 11 -->\n",
       "<g id=\"node8\" class=\"node\">\n",
       "<title>11</title>\n",
       "<path fill=\"#c0c0c0\" stroke=\"black\" d=\"M218,-36C218,-36 188,-36 188,-36 182,-36 176,-30 176,-24 176,-24 176,-12 176,-12 176,-6 182,0 188,0 188,0 218,0 218,0 224,0 230,-6 230,-12 230,-12 230,-24 230,-24 230,-30 224,-36 218,-36\"/>\n",
       "<text text-anchor=\"middle\" x=\"203\" y=\"-14.3\" font-family=\"Helvetica,sans-Serif\" font-size=\"14.00\">(...)</text>\n",
       "</g>\n",
       "<!-- 10&#45;&gt;11 -->\n",
       "<g id=\"edge7\" class=\"edge\">\n",
       "<title>10&#45;&gt;11</title>\n",
       "<path fill=\"none\" stroke=\"black\" d=\"M217.67,-71.76C215.38,-63.53 213.02,-55.04 210.88,-47.34\"/>\n",
       "<polygon fill=\"black\" stroke=\"black\" points=\"214.3,-46.56 208.25,-37.86 207.55,-48.44 214.3,-46.56\"/>\n",
       "</g>\n",
       "<!-- 14 -->\n",
       "<g id=\"node9\" class=\"node\">\n",
       "<title>14</title>\n",
       "<path fill=\"#c0c0c0\" stroke=\"black\" d=\"M290,-36C290,-36 260,-36 260,-36 254,-36 248,-30 248,-24 248,-24 248,-12 248,-12 248,-6 254,0 260,0 260,0 290,0 290,0 296,0 302,-6 302,-12 302,-12 302,-24 302,-24 302,-30 296,-36 290,-36\"/>\n",
       "<text text-anchor=\"middle\" x=\"275\" y=\"-14.3\" font-family=\"Helvetica,sans-Serif\" font-size=\"14.00\">(...)</text>\n",
       "</g>\n",
       "<!-- 10&#45;&gt;14 -->\n",
       "<g id=\"edge8\" class=\"edge\">\n",
       "<title>10&#45;&gt;14</title>\n",
       "<path fill=\"none\" stroke=\"black\" d=\"M249.04,-71.76C253.24,-63.24 257.57,-54.44 261.46,-46.53\"/>\n",
       "<polygon fill=\"black\" stroke=\"black\" points=\"264.49,-48.28 265.77,-37.76 258.21,-45.19 264.49,-48.28\"/>\n",
       "</g>\n",
       "<!-- 18 -->\n",
       "<g id=\"node11\" class=\"node\">\n",
       "<title>18</title>\n",
       "<path fill=\"#96cbf1\" stroke=\"black\" d=\"M446,-155C446,-155 324,-155 324,-155 318,-155 312,-149 312,-143 312,-143 312,-84 312,-84 312,-78 318,-72 324,-72 324,-72 446,-72 446,-72 452,-72 458,-78 458,-84 458,-84 458,-143 458,-143 458,-149 452,-155 446,-155\"/>\n",
       "<text text-anchor=\"start\" x=\"341\" y=\"-139.8\" font-family=\"Helvetica,sans-Serif\" font-size=\"14.00\">year ≤ 2009.5</text>\n",
       "<text text-anchor=\"start\" x=\"347.5\" y=\"-124.8\" font-family=\"Helvetica,sans-Serif\" font-size=\"14.00\">gini = 0.435</text>\n",
       "<text text-anchor=\"start\" x=\"333.5\" y=\"-109.8\" font-family=\"Helvetica,sans-Serif\" font-size=\"14.00\">samples = 6210</text>\n",
       "<text text-anchor=\"start\" x=\"320\" y=\"-94.8\" font-family=\"Helvetica,sans-Serif\" font-size=\"14.00\">value = [1983, 4227]</text>\n",
       "<text text-anchor=\"start\" x=\"351.5\" y=\"-79.8\" font-family=\"Helvetica,sans-Serif\" font-size=\"14.00\">class = Up</text>\n",
       "</g>\n",
       "<!-- 17&#45;&gt;18 -->\n",
       "<g id=\"edge10\" class=\"edge\">\n",
       "<title>17&#45;&gt;18</title>\n",
       "<path fill=\"none\" stroke=\"black\" d=\"M435.07,-190.58C429.59,-182.25 423.76,-173.39 418.09,-164.78\"/>\n",
       "<polygon fill=\"black\" stroke=\"black\" points=\"421.04,-162.89 412.62,-156.46 415.19,-166.74 421.04,-162.89\"/>\n",
       "</g>\n",
       "<!-- 25 -->\n",
       "<g id=\"node14\" class=\"node\">\n",
       "<title>25</title>\n",
       "<path fill=\"#c1e0f7\" stroke=\"black\" d=\"M610,-155C610,-155 488,-155 488,-155 482,-155 476,-149 476,-143 476,-143 476,-84 476,-84 476,-78 482,-72 488,-72 488,-72 610,-72 610,-72 616,-72 622,-78 622,-84 622,-84 622,-143 622,-143 622,-149 616,-155 610,-155\"/>\n",
       "<text text-anchor=\"start\" x=\"505\" y=\"-139.8\" font-family=\"Helvetica,sans-Serif\" font-size=\"14.00\">year ≤ 2011.5</text>\n",
       "<text text-anchor=\"start\" x=\"511.5\" y=\"-124.8\" font-family=\"Helvetica,sans-Serif\" font-size=\"14.00\">gini = 0.483</text>\n",
       "<text text-anchor=\"start\" x=\"497.5\" y=\"-109.8\" font-family=\"Helvetica,sans-Serif\" font-size=\"14.00\">samples = 3055</text>\n",
       "<text text-anchor=\"start\" x=\"484\" y=\"-94.8\" font-family=\"Helvetica,sans-Serif\" font-size=\"14.00\">value = [1244, 1811]</text>\n",
       "<text text-anchor=\"start\" x=\"515.5\" y=\"-79.8\" font-family=\"Helvetica,sans-Serif\" font-size=\"14.00\">class = Up</text>\n",
       "</g>\n",
       "<!-- 17&#45;&gt;25 -->\n",
       "<g id=\"edge13\" class=\"edge\">\n",
       "<title>17&#45;&gt;25</title>\n",
       "<path fill=\"none\" stroke=\"black\" d=\"M492.43,-190.58C498.76,-182.07 505.49,-173.01 512.02,-164.23\"/>\n",
       "<polygon fill=\"black\" stroke=\"black\" points=\"514.67,-166.53 517.83,-156.41 509.06,-162.35 514.67,-166.53\"/>\n",
       "</g>\n",
       "<!-- 19 -->\n",
       "<g id=\"node12\" class=\"node\">\n",
       "<title>19</title>\n",
       "<path fill=\"#c0c0c0\" stroke=\"black\" d=\"M380,-36C380,-36 350,-36 350,-36 344,-36 338,-30 338,-24 338,-24 338,-12 338,-12 338,-6 344,0 350,0 350,0 380,0 380,0 386,0 392,-6 392,-12 392,-12 392,-24 392,-24 392,-30 386,-36 380,-36\"/>\n",
       "<text text-anchor=\"middle\" x=\"365\" y=\"-14.3\" font-family=\"Helvetica,sans-Serif\" font-size=\"14.00\">(...)</text>\n",
       "</g>\n",
       "<!-- 18&#45;&gt;19 -->\n",
       "<g id=\"edge11\" class=\"edge\">\n",
       "<title>18&#45;&gt;19</title>\n",
       "<path fill=\"none\" stroke=\"black\" d=\"M376.29,-71.76C374.55,-63.62 372.75,-55.24 371.12,-47.61\"/>\n",
       "<polygon fill=\"black\" stroke=\"black\" points=\"374.55,-46.93 369.04,-37.89 367.71,-48.4 374.55,-46.93\"/>\n",
       "</g>\n",
       "<!-- 22 -->\n",
       "<g id=\"node13\" class=\"node\">\n",
       "<title>22</title>\n",
       "<path fill=\"#c0c0c0\" stroke=\"black\" d=\"M452,-36C452,-36 422,-36 422,-36 416,-36 410,-30 410,-24 410,-24 410,-12 410,-12 410,-6 416,0 422,0 422,0 452,0 452,0 458,0 464,-6 464,-12 464,-12 464,-24 464,-24 464,-30 458,-36 452,-36\"/>\n",
       "<text text-anchor=\"middle\" x=\"437\" y=\"-14.3\" font-family=\"Helvetica,sans-Serif\" font-size=\"14.00\">(...)</text>\n",
       "</g>\n",
       "<!-- 18&#45;&gt;22 -->\n",
       "<g id=\"edge12\" class=\"edge\">\n",
       "<title>18&#45;&gt;22</title>\n",
       "<path fill=\"none\" stroke=\"black\" d=\"M407.66,-71.76C412.45,-63.14 417.4,-54.24 421.84,-46.26\"/>\n",
       "<polygon fill=\"black\" stroke=\"black\" points=\"424.78,-48.17 426.58,-37.73 418.67,-44.77 424.78,-48.17\"/>\n",
       "</g>\n",
       "<!-- 26 -->\n",
       "<g id=\"node15\" class=\"node\">\n",
       "<title>26</title>\n",
       "<path fill=\"#c0c0c0\" stroke=\"black\" d=\"M533,-36C533,-36 503,-36 503,-36 497,-36 491,-30 491,-24 491,-24 491,-12 491,-12 491,-6 497,0 503,0 503,0 533,0 533,0 539,0 545,-6 545,-12 545,-12 545,-24 545,-24 545,-30 539,-36 533,-36\"/>\n",
       "<text text-anchor=\"middle\" x=\"518\" y=\"-14.3\" font-family=\"Helvetica,sans-Serif\" font-size=\"14.00\">(...)</text>\n",
       "</g>\n",
       "<!-- 25&#45;&gt;26 -->\n",
       "<g id=\"edge14\" class=\"edge\">\n",
       "<title>25&#45;&gt;26</title>\n",
       "<path fill=\"none\" stroke=\"black\" d=\"M535.49,-71.76C532.73,-63.43 529.88,-54.84 527.31,-47.07\"/>\n",
       "<polygon fill=\"black\" stroke=\"black\" points=\"530.72,-46.23 524.25,-37.84 524.07,-48.44 530.72,-46.23\"/>\n",
       "</g>\n",
       "<!-- 29 -->\n",
       "<g id=\"node16\" class=\"node\">\n",
       "<title>29</title>\n",
       "<path fill=\"#c0c0c0\" stroke=\"black\" d=\"M605,-36C605,-36 575,-36 575,-36 569,-36 563,-30 563,-24 563,-24 563,-12 563,-12 563,-6 569,0 575,0 575,0 605,0 605,0 611,0 617,-6 617,-12 617,-12 617,-24 617,-24 617,-30 611,-36 605,-36\"/>\n",
       "<text text-anchor=\"middle\" x=\"590\" y=\"-14.3\" font-family=\"Helvetica,sans-Serif\" font-size=\"14.00\">(...)</text>\n",
       "</g>\n",
       "<!-- 25&#45;&gt;29 -->\n",
       "<g id=\"edge15\" class=\"edge\">\n",
       "<title>25&#45;&gt;29</title>\n",
       "<path fill=\"none\" stroke=\"black\" d=\"M566.86,-71.76C570.56,-63.33 574.37,-54.64 577.81,-46.8\"/>\n",
       "<polygon fill=\"black\" stroke=\"black\" points=\"580.95,-48.36 581.76,-37.79 574.54,-45.54 580.95,-48.36\"/>\n",
       "</g>\n",
       "<!-- 33 -->\n",
       "<g id=\"node18\" class=\"node\">\n",
       "<title>33</title>\n",
       "<path fill=\"#f6d5bd\" stroke=\"black\" d=\"M831,-274C831,-274 709,-274 709,-274 703,-274 697,-268 697,-262 697,-262 697,-203 697,-203 697,-197 703,-191 709,-191 709,-191 831,-191 831,-191 837,-191 843,-197 843,-203 843,-203 843,-262 843,-262 843,-268 837,-274 831,-274\"/>\n",
       "<text text-anchor=\"start\" x=\"732.5\" y=\"-258.8\" font-family=\"Helvetica,sans-Serif\" font-size=\"14.00\">month ≤ 8.5</text>\n",
       "<text text-anchor=\"start\" x=\"736.5\" y=\"-243.8\" font-family=\"Helvetica,sans-Serif\" font-size=\"14.00\">gini = 0.48</text>\n",
       "<text text-anchor=\"start\" x=\"718.5\" y=\"-228.8\" font-family=\"Helvetica,sans-Serif\" font-size=\"14.00\">samples = 2516</text>\n",
       "<text text-anchor=\"start\" x=\"705\" y=\"-213.8\" font-family=\"Helvetica,sans-Serif\" font-size=\"14.00\">value = [1508, 1008]</text>\n",
       "<text text-anchor=\"start\" x=\"727.5\" y=\"-198.8\" font-family=\"Helvetica,sans-Serif\" font-size=\"14.00\">class = Down</text>\n",
       "</g>\n",
       "<!-- 32&#45;&gt;33 -->\n",
       "<g id=\"edge17\" class=\"edge\">\n",
       "<title>32&#45;&gt;33</title>\n",
       "<path fill=\"none\" stroke=\"black\" d=\"M770,-309.58C770,-301.79 770,-293.53 770,-285.45\"/>\n",
       "<polygon fill=\"black\" stroke=\"black\" points=\"773.5,-285.71 770,-275.71 766.5,-285.71 773.5,-285.71\"/>\n",
       "</g>\n",
       "<!-- 48 -->\n",
       "<g id=\"node25\" class=\"node\">\n",
       "<title>48</title>\n",
       "<path fill=\"#d9ecfa\" stroke=\"black\" d=\"M1078.5,-274C1078.5,-274 939.5,-274 939.5,-274 933.5,-274 927.5,-268 927.5,-262 927.5,-262 927.5,-203 927.5,-203 927.5,-197 933.5,-191 939.5,-191 939.5,-191 1078.5,-191 1078.5,-191 1084.5,-191 1090.5,-197 1090.5,-203 1090.5,-203 1090.5,-262 1090.5,-262 1090.5,-268 1084.5,-274 1078.5,-274\"/>\n",
       "<text text-anchor=\"start\" x=\"965\" y=\"-258.8\" font-family=\"Helvetica,sans-Serif\" font-size=\"14.00\">year ≤ 2006.5</text>\n",
       "<text text-anchor=\"start\" x=\"971.5\" y=\"-243.8\" font-family=\"Helvetica,sans-Serif\" font-size=\"14.00\">gini = 0.494</text>\n",
       "<text text-anchor=\"start\" x=\"953\" y=\"-228.8\" font-family=\"Helvetica,sans-Serif\" font-size=\"14.00\">samples = 44114</text>\n",
       "<text text-anchor=\"start\" x=\"935.5\" y=\"-213.8\" font-family=\"Helvetica,sans-Serif\" font-size=\"14.00\">value = [19725, 24389]</text>\n",
       "<text text-anchor=\"start\" x=\"975.5\" y=\"-198.8\" font-family=\"Helvetica,sans-Serif\" font-size=\"14.00\">class = Up</text>\n",
       "</g>\n",
       "<!-- 32&#45;&gt;48 -->\n",
       "<g id=\"edge24\" class=\"edge\">\n",
       "<title>32&#45;&gt;48</title>\n",
       "<path fill=\"none\" stroke=\"black\" d=\"M851.92,-310.4C872.91,-300.12 895.63,-289 917.1,-278.49\"/>\n",
       "<polygon fill=\"black\" stroke=\"black\" points=\"918.39,-281.75 925.83,-274.21 915.31,-275.47 918.39,-281.75\"/>\n",
       "</g>\n",
       "<!-- 34 -->\n",
       "<g id=\"node19\" class=\"node\">\n",
       "<title>34</title>\n",
       "<path fill=\"#f1b991\" stroke=\"black\" d=\"M758,-155C758,-155 652,-155 652,-155 646,-155 640,-149 640,-143 640,-143 640,-84 640,-84 640,-78 646,-72 652,-72 652,-72 758,-72 758,-72 764,-72 770,-78 770,-84 770,-84 770,-143 770,-143 770,-149 764,-155 758,-155\"/>\n",
       "<text text-anchor=\"start\" x=\"667.5\" y=\"-139.8\" font-family=\"Helvetica,sans-Serif\" font-size=\"14.00\">month ≤ 4.5</text>\n",
       "<text text-anchor=\"start\" x=\"667.5\" y=\"-124.8\" font-family=\"Helvetica,sans-Serif\" font-size=\"14.00\">gini = 0.426</text>\n",
       "<text text-anchor=\"start\" x=\"653.5\" y=\"-109.8\" font-family=\"Helvetica,sans-Serif\" font-size=\"14.00\">samples = 1398</text>\n",
       "<text text-anchor=\"start\" x=\"648\" y=\"-94.8\" font-family=\"Helvetica,sans-Serif\" font-size=\"14.00\">value = [968, 430]</text>\n",
       "<text text-anchor=\"start\" x=\"662.5\" y=\"-79.8\" font-family=\"Helvetica,sans-Serif\" font-size=\"14.00\">class = Down</text>\n",
       "</g>\n",
       "<!-- 33&#45;&gt;34 -->\n",
       "<g id=\"edge18\" class=\"edge\">\n",
       "<title>33&#45;&gt;34</title>\n",
       "<path fill=\"none\" stroke=\"black\" d=\"M747.27,-190.58C742.69,-182.34 737.82,-173.58 733.09,-165.06\"/>\n",
       "<polygon fill=\"black\" stroke=\"black\" points=\"736.26,-163.57 728.35,-156.52 730.14,-166.96 736.26,-163.57\"/>\n",
       "</g>\n",
       "<!-- 41 -->\n",
       "<g id=\"node22\" class=\"node\">\n",
       "<title>41</title>\n",
       "<path fill=\"#f2f9fd\" stroke=\"black\" d=\"M906,-155C906,-155 800,-155 800,-155 794,-155 788,-149 788,-143 788,-143 788,-84 788,-84 788,-78 794,-72 800,-72 800,-72 906,-72 906,-72 912,-72 918,-78 918,-84 918,-84 918,-143 918,-143 918,-149 912,-155 906,-155\"/>\n",
       "<text text-anchor=\"start\" x=\"811.5\" y=\"-139.8\" font-family=\"Helvetica,sans-Serif\" font-size=\"14.00\">month ≤ 10.5</text>\n",
       "<text text-anchor=\"start\" x=\"815.5\" y=\"-124.8\" font-family=\"Helvetica,sans-Serif\" font-size=\"14.00\">gini = 0.499</text>\n",
       "<text text-anchor=\"start\" x=\"801.5\" y=\"-109.8\" font-family=\"Helvetica,sans-Serif\" font-size=\"14.00\">samples = 1118</text>\n",
       "<text text-anchor=\"start\" x=\"796\" y=\"-94.8\" font-family=\"Helvetica,sans-Serif\" font-size=\"14.00\">value = [540, 578]</text>\n",
       "<text text-anchor=\"start\" x=\"819.5\" y=\"-79.8\" font-family=\"Helvetica,sans-Serif\" font-size=\"14.00\">class = Up</text>\n",
       "</g>\n",
       "<!-- 33&#45;&gt;41 -->\n",
       "<g id=\"edge21\" class=\"edge\">\n",
       "<title>33&#45;&gt;41</title>\n",
       "<path fill=\"none\" stroke=\"black\" d=\"M799.03,-190.58C805,-182.16 811.36,-173.2 817.53,-164.5\"/>\n",
       "<polygon fill=\"black\" stroke=\"black\" points=\"820.32,-166.62 823.25,-156.43 814.61,-162.57 820.32,-166.62\"/>\n",
       "</g>\n",
       "<!-- 35 -->\n",
       "<g id=\"node20\" class=\"node\">\n",
       "<title>35</title>\n",
       "<path fill=\"#c0c0c0\" stroke=\"black\" d=\"M681,-36C681,-36 651,-36 651,-36 645,-36 639,-30 639,-24 639,-24 639,-12 639,-12 639,-6 645,0 651,0 651,0 681,0 681,0 687,0 693,-6 693,-12 693,-12 693,-24 693,-24 693,-30 687,-36 681,-36\"/>\n",
       "<text text-anchor=\"middle\" x=\"666\" y=\"-14.3\" font-family=\"Helvetica,sans-Serif\" font-size=\"14.00\">(...)</text>\n",
       "</g>\n",
       "<!-- 34&#45;&gt;35 -->\n",
       "<g id=\"edge19\" class=\"edge\">\n",
       "<title>34&#45;&gt;35</title>\n",
       "<path fill=\"none\" stroke=\"black\" d=\"M688.01,-71.76C684.49,-63.33 680.87,-54.64 677.6,-46.8\"/>\n",
       "<polygon fill=\"black\" stroke=\"black\" points=\"680.92,-45.68 673.84,-37.8 674.46,-48.38 680.92,-45.68\"/>\n",
       "</g>\n",
       "<!-- 38 -->\n",
       "<g id=\"node21\" class=\"node\">\n",
       "<title>38</title>\n",
       "<path fill=\"#c0c0c0\" stroke=\"black\" d=\"M753,-36C753,-36 723,-36 723,-36 717,-36 711,-30 711,-24 711,-24 711,-12 711,-12 711,-6 717,0 723,0 723,0 753,0 753,0 759,0 765,-6 765,-12 765,-12 765,-24 765,-24 765,-30 759,-36 753,-36\"/>\n",
       "<text text-anchor=\"middle\" x=\"738\" y=\"-14.3\" font-family=\"Helvetica,sans-Serif\" font-size=\"14.00\">(...)</text>\n",
       "</g>\n",
       "<!-- 34&#45;&gt;38 -->\n",
       "<g id=\"edge20\" class=\"edge\">\n",
       "<title>34&#45;&gt;38</title>\n",
       "<path fill=\"none\" stroke=\"black\" d=\"M719.38,-71.76C722.32,-63.43 725.35,-54.84 728.09,-47.07\"/>\n",
       "<polygon fill=\"black\" stroke=\"black\" points=\"731.33,-48.43 731.35,-37.83 724.72,-46.1 731.33,-48.43\"/>\n",
       "</g>\n",
       "<!-- 42 -->\n",
       "<g id=\"node23\" class=\"node\">\n",
       "<title>42</title>\n",
       "<path fill=\"#c0c0c0\" stroke=\"black\" d=\"M827,-36C827,-36 797,-36 797,-36 791,-36 785,-30 785,-24 785,-24 785,-12 785,-12 785,-6 791,0 797,0 797,0 827,0 827,0 833,0 839,-6 839,-12 839,-12 839,-24 839,-24 839,-30 833,-36 827,-36\"/>\n",
       "<text text-anchor=\"middle\" x=\"812\" y=\"-14.3\" font-family=\"Helvetica,sans-Serif\" font-size=\"14.00\">(...)</text>\n",
       "</g>\n",
       "<!-- 41&#45;&gt;42 -->\n",
       "<g id=\"edge22\" class=\"edge\">\n",
       "<title>41&#45;&gt;42</title>\n",
       "<path fill=\"none\" stroke=\"black\" d=\"M835.14,-71.76C831.44,-63.33 827.63,-54.64 824.19,-46.8\"/>\n",
       "<polygon fill=\"black\" stroke=\"black\" points=\"827.46,-45.54 820.24,-37.79 821.05,-48.36 827.46,-45.54\"/>\n",
       "</g>\n",
       "<!-- 45 -->\n",
       "<g id=\"node24\" class=\"node\">\n",
       "<title>45</title>\n",
       "<path fill=\"#c0c0c0\" stroke=\"black\" d=\"M899,-36C899,-36 869,-36 869,-36 863,-36 857,-30 857,-24 857,-24 857,-12 857,-12 857,-6 863,0 869,0 869,0 899,0 899,0 905,0 911,-6 911,-12 911,-12 911,-24 911,-24 911,-30 905,-36 899,-36\"/>\n",
       "<text text-anchor=\"middle\" x=\"884\" y=\"-14.3\" font-family=\"Helvetica,sans-Serif\" font-size=\"14.00\">(...)</text>\n",
       "</g>\n",
       "<!-- 41&#45;&gt;45 -->\n",
       "<g id=\"edge23\" class=\"edge\">\n",
       "<title>41&#45;&gt;45</title>\n",
       "<path fill=\"none\" stroke=\"black\" d=\"M866.51,-71.76C869.27,-63.43 872.12,-54.84 874.69,-47.07\"/>\n",
       "<polygon fill=\"black\" stroke=\"black\" points=\"877.93,-48.44 877.75,-37.84 871.28,-46.23 877.93,-48.44\"/>\n",
       "</g>\n",
       "<!-- 49 -->\n",
       "<g id=\"node26\" class=\"node\">\n",
       "<title>49</title>\n",
       "<path fill=\"#b3d9f5\" stroke=\"black\" d=\"M1070,-155C1070,-155 948,-155 948,-155 942,-155 936,-149 936,-143 936,-143 936,-84 936,-84 936,-78 942,-72 948,-72 948,-72 1070,-72 1070,-72 1076,-72 1082,-78 1082,-84 1082,-84 1082,-143 1082,-143 1082,-149 1076,-155 1070,-155\"/>\n",
       "<text text-anchor=\"start\" x=\"971.5\" y=\"-139.8\" font-family=\"Helvetica,sans-Serif\" font-size=\"14.00\">month ≤ 8.5</text>\n",
       "<text text-anchor=\"start\" x=\"971.5\" y=\"-124.8\" font-family=\"Helvetica,sans-Serif\" font-size=\"14.00\">gini = 0.472</text>\n",
       "<text text-anchor=\"start\" x=\"953\" y=\"-109.8\" font-family=\"Helvetica,sans-Serif\" font-size=\"14.00\">samples = 10831</text>\n",
       "<text text-anchor=\"start\" x=\"944\" y=\"-94.8\" font-family=\"Helvetica,sans-Serif\" font-size=\"14.00\">value = [4129, 6702]</text>\n",
       "<text text-anchor=\"start\" x=\"975.5\" y=\"-79.8\" font-family=\"Helvetica,sans-Serif\" font-size=\"14.00\">class = Up</text>\n",
       "</g>\n",
       "<!-- 48&#45;&gt;49 -->\n",
       "<g id=\"edge25\" class=\"edge\">\n",
       "<title>48&#45;&gt;49</title>\n",
       "<path fill=\"none\" stroke=\"black\" d=\"M1009,-190.58C1009,-182.79 1009,-174.53 1009,-166.45\"/>\n",
       "<polygon fill=\"black\" stroke=\"black\" points=\"1012.5,-166.71 1009,-156.71 1005.5,-166.71 1012.5,-166.71\"/>\n",
       "</g>\n",
       "<!-- 56 -->\n",
       "<g id=\"node29\" class=\"node\">\n",
       "<title>56</title>\n",
       "<path fill=\"#e8f3fc\" stroke=\"black\" d=\"M1251.5,-155C1251.5,-155 1112.5,-155 1112.5,-155 1106.5,-155 1100.5,-149 1100.5,-143 1100.5,-143 1100.5,-84 1100.5,-84 1100.5,-78 1106.5,-72 1112.5,-72 1112.5,-72 1251.5,-72 1251.5,-72 1257.5,-72 1263.5,-78 1263.5,-84 1263.5,-84 1263.5,-143 1263.5,-143 1263.5,-149 1257.5,-155 1251.5,-155\"/>\n",
       "<text text-anchor=\"start\" x=\"1138\" y=\"-139.8\" font-family=\"Helvetica,sans-Serif\" font-size=\"14.00\">year ≤ 2008.5</text>\n",
       "<text text-anchor=\"start\" x=\"1144.5\" y=\"-124.8\" font-family=\"Helvetica,sans-Serif\" font-size=\"14.00\">gini = 0.498</text>\n",
       "<text text-anchor=\"start\" x=\"1126\" y=\"-109.8\" font-family=\"Helvetica,sans-Serif\" font-size=\"14.00\">samples = 33283</text>\n",
       "<text text-anchor=\"start\" x=\"1108.5\" y=\"-94.8\" font-family=\"Helvetica,sans-Serif\" font-size=\"14.00\">value = [15596, 17687]</text>\n",
       "<text text-anchor=\"start\" x=\"1148.5\" y=\"-79.8\" font-family=\"Helvetica,sans-Serif\" font-size=\"14.00\">class = Up</text>\n",
       "</g>\n",
       "<!-- 48&#45;&gt;56 -->\n",
       "<g id=\"edge28\" class=\"edge\">\n",
       "<title>48&#45;&gt;56</title>\n",
       "<path fill=\"none\" stroke=\"black\" d=\"M1069.51,-190.58C1083.33,-181.23 1098.14,-171.21 1112.32,-161.63\"/>\n",
       "<polygon fill=\"black\" stroke=\"black\" points=\"1113.95,-164.75 1120.27,-156.25 1110.03,-158.95 1113.95,-164.75\"/>\n",
       "</g>\n",
       "<!-- 50 -->\n",
       "<g id=\"node27\" class=\"node\">\n",
       "<title>50</title>\n",
       "<path fill=\"#c0c0c0\" stroke=\"black\" d=\"M972,-36C972,-36 942,-36 942,-36 936,-36 930,-30 930,-24 930,-24 930,-12 930,-12 930,-6 936,0 942,0 942,0 972,0 972,0 978,0 984,-6 984,-12 984,-12 984,-24 984,-24 984,-30 978,-36 972,-36\"/>\n",
       "<text text-anchor=\"middle\" x=\"957\" y=\"-14.3\" font-family=\"Helvetica,sans-Serif\" font-size=\"14.00\">(...)</text>\n",
       "</g>\n",
       "<!-- 49&#45;&gt;50 -->\n",
       "<g id=\"edge26\" class=\"edge\">\n",
       "<title>49&#45;&gt;50</title>\n",
       "<path fill=\"none\" stroke=\"black\" d=\"M986.34,-71.76C981.55,-63.14 976.6,-54.24 972.16,-46.26\"/>\n",
       "<polygon fill=\"black\" stroke=\"black\" points=\"975.33,-44.77 967.42,-37.73 969.22,-48.17 975.33,-44.77\"/>\n",
       "</g>\n",
       "<!-- 53 -->\n",
       "<g id=\"node28\" class=\"node\">\n",
       "<title>53</title>\n",
       "<path fill=\"#c0c0c0\" stroke=\"black\" d=\"M1044,-36C1044,-36 1014,-36 1014,-36 1008,-36 1002,-30 1002,-24 1002,-24 1002,-12 1002,-12 1002,-6 1008,0 1014,0 1014,0 1044,0 1044,0 1050,0 1056,-6 1056,-12 1056,-12 1056,-24 1056,-24 1056,-30 1050,-36 1044,-36\"/>\n",
       "<text text-anchor=\"middle\" x=\"1029\" y=\"-14.3\" font-family=\"Helvetica,sans-Serif\" font-size=\"14.00\">(...)</text>\n",
       "</g>\n",
       "<!-- 49&#45;&gt;53 -->\n",
       "<g id=\"edge27\" class=\"edge\">\n",
       "<title>49&#45;&gt;53</title>\n",
       "<path fill=\"none\" stroke=\"black\" d=\"M1017.71,-71.76C1019.45,-63.62 1021.25,-55.24 1022.88,-47.61\"/>\n",
       "<polygon fill=\"black\" stroke=\"black\" points=\"1026.29,-48.4 1024.96,-37.89 1019.45,-46.93 1026.29,-48.4\"/>\n",
       "</g>\n",
       "<!-- 57 -->\n",
       "<g id=\"node30\" class=\"node\">\n",
       "<title>57</title>\n",
       "<path fill=\"#c0c0c0\" stroke=\"black\" d=\"M1161,-36C1161,-36 1131,-36 1131,-36 1125,-36 1119,-30 1119,-24 1119,-24 1119,-12 1119,-12 1119,-6 1125,0 1131,0 1131,0 1161,0 1161,0 1167,0 1173,-6 1173,-12 1173,-12 1173,-24 1173,-24 1173,-30 1167,-36 1161,-36\"/>\n",
       "<text text-anchor=\"middle\" x=\"1146\" y=\"-14.3\" font-family=\"Helvetica,sans-Serif\" font-size=\"14.00\">(...)</text>\n",
       "</g>\n",
       "<!-- 56&#45;&gt;57 -->\n",
       "<g id=\"edge29\" class=\"edge\">\n",
       "<title>56&#45;&gt;57</title>\n",
       "<path fill=\"none\" stroke=\"black\" d=\"M1166.31,-71.76C1163.11,-63.43 1159.8,-54.84 1156.81,-47.07\"/>\n",
       "<polygon fill=\"black\" stroke=\"black\" points=\"1160.1,-45.89 1153.25,-37.82 1153.57,-48.41 1160.1,-45.89\"/>\n",
       "</g>\n",
       "<!-- 60 -->\n",
       "<g id=\"node31\" class=\"node\">\n",
       "<title>60</title>\n",
       "<path fill=\"#c0c0c0\" stroke=\"black\" d=\"M1233,-36C1233,-36 1203,-36 1203,-36 1197,-36 1191,-30 1191,-24 1191,-24 1191,-12 1191,-12 1191,-6 1197,0 1203,0 1203,0 1233,0 1233,0 1239,0 1245,-6 1245,-12 1245,-12 1245,-24 1245,-24 1245,-30 1239,-36 1233,-36\"/>\n",
       "<text text-anchor=\"middle\" x=\"1218\" y=\"-14.3\" font-family=\"Helvetica,sans-Serif\" font-size=\"14.00\">(...)</text>\n",
       "</g>\n",
       "<!-- 56&#45;&gt;60 -->\n",
       "<g id=\"edge30\" class=\"edge\">\n",
       "<title>56&#45;&gt;60</title>\n",
       "<path fill=\"none\" stroke=\"black\" d=\"M1197.69,-71.76C1200.89,-63.43 1204.2,-54.84 1207.19,-47.07\"/>\n",
       "<polygon fill=\"black\" stroke=\"black\" points=\"1210.43,-48.41 1210.75,-37.82 1203.9,-45.89 1210.43,-48.41\"/>\n",
       "</g>\n",
       "</g>\n",
       "</svg>\n"
      ],
      "text/plain": [
       "<graphviz.sources.Source at 0x252b18e1e80>"
      ]
     },
     "execution_count": 62,
     "metadata": {},
     "output_type": "execute_result"
    }
   ],
   "source": [
    "out_file = results_path / 'clf_tree.dot'\n",
    "dot_data = export_graphviz(clf,\n",
    "                           out_file=out_file.as_posix(),\n",
    "                           feature_names=X.columns,\n",
    "                           class_names=['Down', 'Up'],\n",
    "                           max_depth=3,\n",
    "                           filled=True,\n",
    "                           rounded=True,\n",
    "                           special_characters=True)\n",
    "if out_file is not None:\n",
    "    dot_data = Path(out_file).read_text()\n",
    "\n",
    "graphviz.Source(dot_data)"
   ]
  },
  {
   "cell_type": "markdown",
   "metadata": {},
   "source": [
    "### Evaluate Test Set"
   ]
  },
  {
   "cell_type": "markdown",
   "metadata": {},
   "source": [
    "To evaluate the predictive accuracy of our first classification tree, we will use our test set to generate predicted class probabilities. \n",
    "\n",
    "The `.predict_proba()` method produces one probability for each class. In the binary class, these probabilities are complementary and sum to 1, so we only need the value for the positive class. "
   ]
  },
  {
   "cell_type": "code",
   "execution_count": 63,
   "metadata": {
    "ExecuteTime": {
     "end_time": "2021-04-16T00:33:36.270863Z",
     "start_time": "2021-04-16T00:33:36.262990Z"
    }
   },
   "outputs": [],
   "source": [
    "y_score = clf.predict_proba(X=X_test)[:, 1] #predict_proba方法给出了预测的分类概率"
   ]
  },
  {
   "cell_type": "markdown",
   "metadata": {},
   "source": [
    "To evaluate the generalization error, we will use the area under the curve based on the receiver-operating characteristic that we introduced in Chapter 6, The Machine Learning Process. The result indicates a significant improvement above and beyond the baseline value of 0.5 for a random prediction:"
   ]
  },
  {
   "cell_type": "code",
   "execution_count": 64,
   "metadata": {
    "ExecuteTime": {
     "end_time": "2021-04-16T00:33:36.283613Z",
     "start_time": "2021-04-16T00:33:36.272140Z"
    }
   },
   "outputs": [
    {
     "data": {
      "text/plain": [
       "0.6162765470832821"
      ]
     },
     "execution_count": 64,
     "metadata": {},
     "output_type": "execute_result"
    }
   ],
   "source": [
    "roc_auc_score(y_score=y_score, y_true=y_test)"
   ]
  },
  {
   "cell_type": "markdown",
   "metadata": {},
   "source": [
    "### Print Decision Path"
   ]
  },
  {
   "cell_type": "markdown",
   "metadata": {},
   "source": [
    "Inspired by https://stackoverflow.com/questions/20224526/how-to-extract-the-decision-rules-from-scikit-learn-decision-tree"
   ]
  },
  {
   "cell_type": "code",
   "execution_count": 65,
   "metadata": {
    "ExecuteTime": {
     "end_time": "2021-04-16T00:33:36.294116Z",
     "start_time": "2021-04-16T00:33:36.284877Z"
    }
   },
   "outputs": [
    {
     "name": "stdout",
     "output_type": "stream",
     "text": [
      "Help on class Tree in module sklearn.tree._tree:\n",
      "\n",
      "class Tree(builtins.object)\n",
      " |  Array-based representation of a binary decision tree.\n",
      " |  \n",
      " |  The binary tree is represented as a number of parallel arrays. The i-th\n",
      " |  element of each array holds information about the node `i`. Node 0 is the\n",
      " |  tree's root. You can find a detailed description of all arrays in\n",
      " |  `_tree.pxd`. NOTE: Some of the arrays only apply to either leaves or split\n",
      " |  nodes, resp. In this case the values of nodes of the other type are\n",
      " |  arbitrary!\n",
      " |  \n",
      " |  Attributes\n",
      " |  ----------\n",
      " |  node_count : int\n",
      " |      The number of nodes (internal nodes + leaves) in the tree.\n",
      " |  \n",
      " |  capacity : int\n",
      " |      The current capacity (i.e., size) of the arrays, which is at least as\n",
      " |      great as `node_count`.\n",
      " |  \n",
      " |  max_depth : int\n",
      " |      The depth of the tree, i.e. the maximum depth of its leaves.\n",
      " |  \n",
      " |  children_left : array of int, shape [node_count]\n",
      " |      children_left[i] holds the node id of the left child of node i.\n",
      " |      For leaves, children_left[i] == TREE_LEAF. Otherwise,\n",
      " |      children_left[i] > i. This child handles the case where\n",
      " |      X[:, feature[i]] <= threshold[i].\n",
      " |  \n",
      " |  children_right : array of int, shape [node_count]\n",
      " |      children_right[i] holds the node id of the right child of node i.\n",
      " |      For leaves, children_right[i] == TREE_LEAF. Otherwise,\n",
      " |      children_right[i] > i. This child handles the case where\n",
      " |      X[:, feature[i]] > threshold[i].\n",
      " |  \n",
      " |  feature : array of int, shape [node_count]\n",
      " |      feature[i] holds the feature to split on, for the internal node i.\n",
      " |  \n",
      " |  threshold : array of double, shape [node_count]\n",
      " |      threshold[i] holds the threshold for the internal node i.\n",
      " |  \n",
      " |  value : array of double, shape [node_count, n_outputs, max_n_classes]\n",
      " |      Contains the constant prediction value of each node.\n",
      " |  \n",
      " |  impurity : array of double, shape [node_count]\n",
      " |      impurity[i] holds the impurity (i.e., the value of the splitting\n",
      " |      criterion) at node i.\n",
      " |  \n",
      " |  n_node_samples : array of int, shape [node_count]\n",
      " |      n_node_samples[i] holds the number of training samples reaching node i.\n",
      " |  \n",
      " |  weighted_n_node_samples : array of double, shape [node_count]\n",
      " |      weighted_n_node_samples[i] holds the weighted number of training samples\n",
      " |      reaching node i.\n",
      " |  \n",
      " |  Methods defined here:\n",
      " |  \n",
      " |  __getstate__(...)\n",
      " |      Getstate re-implementation, for pickling.\n",
      " |  \n",
      " |  __reduce__(...)\n",
      " |      Reduce re-implementation, for pickling.\n",
      " |  \n",
      " |  __setstate__(...)\n",
      " |      Setstate re-implementation, for unpickling.\n",
      " |  \n",
      " |  apply(...)\n",
      " |      Finds the terminal region (=leaf node) for each sample in X.\n",
      " |  \n",
      " |  compute_feature_importances(...)\n",
      " |      Computes the importance of each feature (aka variable).\n",
      " |  \n",
      " |  compute_partial_dependence(...)\n",
      " |      Partial dependence of the response on the ``target_feature`` set.\n",
      " |      \n",
      " |      For each sample in ``X`` a tree traversal is performed.\n",
      " |      Each traversal starts from the root with weight 1.0.\n",
      " |      \n",
      " |      At each non-leaf node that splits on a target feature, either\n",
      " |      the left child or the right child is visited based on the feature\n",
      " |      value of the current sample, and the weight is not modified.\n",
      " |      At each non-leaf node that splits on a complementary feature,\n",
      " |      both children are visited and the weight is multiplied by the fraction\n",
      " |      of training samples which went to each child.\n",
      " |      \n",
      " |      At each leaf, the value of the node is multiplied by the current\n",
      " |      weight (weights sum to 1 for all visited terminal nodes).\n",
      " |      \n",
      " |      Parameters\n",
      " |      ----------\n",
      " |      X : view on 2d ndarray, shape (n_samples, n_target_features)\n",
      " |          The grid points on which the partial dependence should be\n",
      " |          evaluated.\n",
      " |      target_features : view on 1d ndarray, shape (n_target_features)\n",
      " |          The set of target features for which the partial dependence\n",
      " |          should be evaluated.\n",
      " |      out : view on 1d ndarray, shape (n_samples)\n",
      " |          The value of the partial dependence function on each grid\n",
      " |          point.\n",
      " |  \n",
      " |  decision_path(...)\n",
      " |      Finds the decision path (=node) for each sample in X.\n",
      " |  \n",
      " |  predict(...)\n",
      " |      Predict target for X.\n",
      " |  \n",
      " |  ----------------------------------------------------------------------\n",
      " |  Static methods defined here:\n",
      " |  \n",
      " |  __new__(*args, **kwargs) from builtins.type\n",
      " |      Create and return a new object.  See help(type) for accurate signature.\n",
      " |  \n",
      " |  ----------------------------------------------------------------------\n",
      " |  Data descriptors defined here:\n",
      " |  \n",
      " |  capacity\n",
      " |  \n",
      " |  children_left\n",
      " |  \n",
      " |  children_right\n",
      " |  \n",
      " |  feature\n",
      " |  \n",
      " |  impurity\n",
      " |  \n",
      " |  max_depth\n",
      " |  \n",
      " |  max_n_classes\n",
      " |  \n",
      " |  n_classes\n",
      " |  \n",
      " |  n_features\n",
      " |  \n",
      " |  n_leaves\n",
      " |  \n",
      " |  n_node_samples\n",
      " |  \n",
      " |  n_outputs\n",
      " |  \n",
      " |  node_count\n",
      " |  \n",
      " |  threshold\n",
      " |  \n",
      " |  value\n",
      " |  \n",
      " |  weighted_n_node_samples\n",
      " |  \n",
      " |  ----------------------------------------------------------------------\n",
      " |  Data and other attributes defined here:\n",
      " |  \n",
      " |  __pyx_vtable__ = <capsule object NULL>\n",
      "\n"
     ]
    }
   ],
   "source": [
    "from sklearn.tree._tree import Tree\n",
    "help(Tree)"
   ]
  },
  {
   "cell_type": "code",
   "execution_count": 66,
   "metadata": {
    "ExecuteTime": {
     "end_time": "2021-04-16T00:33:36.302800Z",
     "start_time": "2021-04-16T00:33:36.295041Z"
    }
   },
   "outputs": [],
   "source": [
    "def tree_to_code(tree, feature_names):\n",
    "    if isinstance(tree, DecisionTreeClassifier):\n",
    "        model = 'clf'\n",
    "    elif isinstance(tree, DecisionTreeRegressor):\n",
    "        model = 'reg'\n",
    "    else:\n",
    "        raise ValueError('Need Regression or Classification Tree')\n",
    "        \n",
    "    tree_ = tree.tree_\n",
    "    feature_name = [\n",
    "        feature_names[i] if i != _tree.TREE_UNDEFINED else \"undefined!\"\n",
    "        for i in tree_.feature\n",
    "    ]\n",
    "    print(\"def tree({}):\".format(\", \".join(feature_names)))\n",
    "\n",
    "    def recurse(node, depth):\n",
    "        indent = \"  \" * depth\n",
    "        if tree_.feature[node] != _tree.TREE_UNDEFINED:\n",
    "            name = feature_name[node]\n",
    "            threshold = tree_.threshold[node]\n",
    "            print(indent, f'if {name} <= {threshold:.2%}')\n",
    "            recurse(tree_.children_left[node], depth + 1)\n",
    "            print(indent, f'else:  # if {name} > {threshold:.2%}')\n",
    "            recurse(tree_.children_right[node], depth + 1)\n",
    "        else:\n",
    "            pred = tree_.value[node][0]\n",
    "            val = pred[1]/sum(pred) if model == 'clf' else pred[0]\n",
    "            print(indent, f'return {val:.2%}')\n",
    "    recurse(0, 1)"
   ]
  },
  {
   "cell_type": "code",
   "execution_count": 67,
   "metadata": {
    "ExecuteTime": {
     "end_time": "2021-04-16T00:33:36.322605Z",
     "start_time": "2021-04-16T00:33:36.304005Z"
    }
   },
   "outputs": [
    {
     "name": "stdout",
     "output_type": "stream",
     "text": [
      "def tree(t-1, t-2):\n",
      "   if t-1 <= -14.64%\n",
      "     if t-2 <= -17.93%\n",
      "       return 55.84%\n",
      "     else:  # if t-2 > -17.93%\n",
      "       if t-1 <= -26.16%\n",
      "         return 41.08%\n",
      "       else:  # if t-1 > -26.16%\n",
      "         if t-1 <= -26.14%\n",
      "           return 100.00%\n",
      "         else:  # if t-1 > -26.14%\n",
      "           if t-1 <= -14.66%\n",
      "             return 49.09%\n",
      "           else:  # if t-1 > -14.66%\n",
      "             return 0.00%\n",
      "   else:  # if t-1 > -14.64%\n",
      "     if t-2 <= 18.14%\n",
      "       if t-2 <= -14.83%\n",
      "         if t-2 <= -14.85%\n",
      "           if t-1 <= -14.31%\n",
      "             return 77.78%\n",
      "           else:  # if t-1 > -14.31%\n",
      "             return 52.24%\n",
      "         else:  # if t-2 > -14.85%\n",
      "           return 0.00%\n",
      "       else:  # if t-2 > -14.83%\n",
      "         if t-1 <= -6.59%\n",
      "           if t-2 <= -6.04%\n",
      "             return 58.58%\n",
      "           else:  # if t-2 > -6.04%\n",
      "             return 53.78%\n",
      "         else:  # if t-1 > -6.59%\n",
      "           if t-1 <= 2.68%\n",
      "             return 58.02%\n",
      "           else:  # if t-1 > 2.68%\n",
      "             return 56.44%\n",
      "     else:  # if t-2 > 18.14%\n",
      "       if t-1 <= 14.36%\n",
      "         if t-1 <= -4.91%\n",
      "           return 57.74%\n",
      "         else:  # if t-1 > -4.91%\n",
      "           if t-1 <= -1.17%\n",
      "             return 45.69%\n",
      "           else:  # if t-1 > -1.17%\n",
      "             return 52.47%\n",
      "       else:  # if t-1 > 14.36%\n",
      "         return 41.73%\n"
     ]
    }
   ],
   "source": [
    "tree_to_code(clf_tree_t2, X2.columns)"
   ]
  },
  {
   "cell_type": "markdown",
   "metadata": {},
   "source": [
    "## Overfitting, Regularization & Parameter Tuning"
   ]
  },
  {
   "cell_type": "markdown",
   "metadata": {},
   "source": [
    "Decision trees have a strong tendency to overfit, especially when a dataset has a large number of features relative to the number of samples. As discussed in previous chapters, overfitting increases the prediction error because the model does not only learn the signal contained in the training data, but also the noise.\n",
    "There are several ways to address the risk of overfitting."
   ]
  },
  {
   "cell_type": "markdown",
   "metadata": {},
   "source": [
    "Decision trees provide several regularization hyperparameters to limit the growth of a tree and the associated complexity. While every split increases the number of nodes, it also reduces the number of samples available per node to support a prediction. For each additional level, twice the number of samples is needed to populate the new nodes with the same sample density. "
   ]
  },
  {
   "cell_type": "markdown",
   "metadata": {},
   "source": [
    "### Decision Tree Parameters"
   ]
  },
  {
   "cell_type": "markdown",
   "metadata": {},
   "source": [
    "The following table lists key parameters available for this purpose in the sklearn decision tree implementation. After introducing the most important parameters, we will illustrate how to use cross-validation to optimize the hyperparameter settings with respect to the bias-variance tradeoff and lower prediction errors:"
   ]
  },
  {
   "cell_type": "markdown",
   "metadata": {},
   "source": [
    "| Parameter                | Default | Options                                                                                                                                                               | Description                                                                                                                                                                                                             |\n",
    "|--------------------------|---------|-----------------------------------------------------------------------------------------------------------------------------------------------------------------------|-------------------------------------------------------------------------------------------------------------------------------------------------------------------------------------------------------------------------|\n",
    "| criterion                | gini    | Regression: MSE, MAE Classification: Gini impurity, Cross Entropy                                                                                                     | Metric to evaluate split quality.                                                                                                                                                                                       |\n",
    "| splitter                 | best    | best, random                                                                                                                                                          | How to choose the split at each node. Supported strategies are “best” to choose the best split and “random” to choose the best random split.                                                                            |\n",
    "| max_depth                | None    | int                                                                                                                                                                   | Max # of levels in tree. Split nodes until max_depth is reached or all leaves are pure or all leaves contain less than min_samples_split samples.                                                                       |\n",
    "| max_features             | None    | None: max_features=n_features; int; float (fraction): int(max_features * n_features)  auto, sqrt: max_features=sqrt(n_features). log2: max_features=log2(n_features). | # of features to consider when evaluating split                                                                                                                                                                         |\n",
    "| max_leaf_nodes           | None    | None: unlimited # of leaf nodes int                                                                                                                                   | Continue to split nodes that reduce relative impurity the most until reaching max_leaf_nodes.                                                                                                                           |\n",
    "| min_impurity_decrease    | 0       | float                                                                                                                                                                 | Split node if impurity decreases by at least this value.                                                                                                                                                                |\n",
    "| min_samples_leaf         | 1       | int; float (as percentage of N)                                                                                                                                       | Minimum # of samples to be at a leaf node. A split will only be considered if there are at least min_samples_leaf training samples in each of the left and right branches. May smoothen the model, esp. for regression. |\n",
    "| min_samples_split        | 2       | int; float (as percentage of N)                                                                                                                                       | The minimum number of samples required to split an internal node:                                                                                                                                                       |\n",
    "| min_weight_fraction_leaf | 0       | NA                                                                                                                                                                    | The minimum weighted fraction of the sum total of weights (of all the input samples) required to be at a leaf node. Samples have equal weight when sample_weight is not provided (in fit method).                       |\n",
    "| class_weight             | None    | balanced: inversely proportional to class frequencies dict: {class_label: weight} list of dicts (for multi-output)                                                    | Weights associated with classes                                                                                                                                                                                         |"
   ]
  },
  {
   "cell_type": "markdown",
   "metadata": {},
   "source": [
    "The `max_depth` parameter imposes a hard limit on the number of consecutive splits and represents the most straightforward way to cap the growth of a tree.\n",
    "\n",
    "The m`in_samples_split` and `min_samples_leaf` parameters are alternative, data-driven ways to limit the growth of a tree. Rather than imposing a hard limit on the number of consecutive splits, these parameters control the minimum number of samples required to further split the data. The latter guarantees a certain number of samples per leaf, while the former can create very small leaves if a split results in a very uneven distribution. Small parameter values facilitate overfitting, while a high number may prevent the tree from learning the signal in the data. \n",
    "\n",
    "The default values are often quite low, and you should use cross-validation to explore a range of potential values. You can also use a float to indicate a percentage as opposed to an absolute number. "
   ]
  },
  {
   "cell_type": "markdown",
   "metadata": {},
   "source": [
    "### Cross-validation parameters"
   ]
  },
  {
   "cell_type": "code",
   "execution_count": 68,
   "metadata": {
    "ExecuteTime": {
     "end_time": "2021-04-16T00:33:36.328359Z",
     "start_time": "2021-04-16T00:33:36.323742Z"
    }
   },
   "outputs": [],
   "source": [
    "n_splits = 10\n",
    "train_period_length = 60\n",
    "test_period_length = 6\n",
    "lookahead = 1\n",
    "\n",
    "cv = MultipleTimeSeriesCV(n_splits=n_splits,\n",
    "                          train_period_length=train_period_length,\n",
    "                          test_period_length=test_period_length,\n",
    "                          lookahead=lookahead)"
   ]
  },
  {
   "cell_type": "code",
   "execution_count": 69,
   "metadata": {
    "ExecuteTime": {
     "end_time": "2021-04-16T00:33:36.334074Z",
     "start_time": "2021-04-16T00:33:36.329663Z"
    }
   },
   "outputs": [],
   "source": [
    "max_depths = range(1, 16)"
   ]
  },
  {
   "cell_type": "markdown",
   "metadata": {},
   "source": [
    "### Finding the best trees using GridSearchCV"
   ]
  },
  {
   "cell_type": "markdown",
   "metadata": {},
   "source": [
    "scikit-learn provides a method to define ranges of values for multiple hyperparameters. It automates the process of cross-validating the various combinations of these parameter values to identify the optimal configuration. Let's walk through the process of automatically tuning your model."
   ]
  },
  {
   "cell_type": "markdown",
   "metadata": {},
   "source": [
    "#### Define parameter grid"
   ]
  },
  {
   "cell_type": "markdown",
   "metadata": {},
   "source": [
    "The first step is to define a dictionary where the keywords name the hyperparameters, and the values list the parameter settings to be tested:"
   ]
  },
  {
   "cell_type": "code",
   "execution_count": 70,
   "metadata": {
    "ExecuteTime": {
     "end_time": "2021-04-16T00:33:36.346973Z",
     "start_time": "2021-04-16T00:33:36.335032Z"
    }
   },
   "outputs": [],
   "source": [
    "param_grid = {'max_depth': [2, 3, 4, 5, 6, 7, 8, 10, 12, 15],\n",
    "              'min_samples_leaf': [5, 25, 50, 100],\n",
    "              'max_features': ['sqrt', 'auto']}"
   ]
  },
  {
   "cell_type": "markdown",
   "metadata": {},
   "source": [
    "#### Classification Tree"
   ]
  },
  {
   "cell_type": "markdown",
   "metadata": {},
   "source": [
    "Then, we instantiate a model object:"
   ]
  },
  {
   "cell_type": "code",
   "execution_count": 71,
   "metadata": {
    "ExecuteTime": {
     "end_time": "2021-04-16T00:33:36.354743Z",
     "start_time": "2021-04-16T00:33:36.348117Z"
    }
   },
   "outputs": [],
   "source": [
    "clf = DecisionTreeClassifier(random_state=42)"
   ]
  },
  {
   "cell_type": "markdown",
   "metadata": {},
   "source": [
    "Now we instantiate the GridSearchCV object, providing the estimator object and parameter grid, as well as a scoring method and cross-validation choice to the initialization method. We'll use an object of our custom OneStepTimeSeriesSplit class, initialized to use ten folds for the cv parameter, and set the scoring to the roc_auc metric. We can parallelize the search using the n_jobs parameter and automatically obtain a trained model that uses the optimal hyperparameters by setting `refit=True`."
   ]
  },
  {
   "cell_type": "code",
   "execution_count": 72,
   "metadata": {
    "ExecuteTime": {
     "end_time": "2021-04-16T00:33:36.363000Z",
     "start_time": "2021-04-16T00:33:36.355848Z"
    }
   },
   "outputs": [],
   "source": [
    "gridsearch_clf = GridSearchCV(estimator=clf,\n",
    "                          param_grid=param_grid,\n",
    "                          scoring='roc_auc',\n",
    "                          n_jobs=-1,\n",
    "                          cv=cv,\n",
    "                          refit=True,\n",
    "                          return_train_score=True)"
   ]
  },
  {
   "cell_type": "markdown",
   "metadata": {},
   "source": [
    "With all settings in place, we can fit GridSearchCV just like any other model:"
   ]
  },
  {
   "cell_type": "code",
   "execution_count": 73,
   "metadata": {
    "ExecuteTime": {
     "end_time": "2021-04-16T00:33:53.853282Z",
     "start_time": "2021-04-16T00:33:36.364001Z"
    }
   },
   "outputs": [
    {
     "data": {
      "text/html": [
       "<style>#sk-container-id-7 {color: black;background-color: white;}#sk-container-id-7 pre{padding: 0;}#sk-container-id-7 div.sk-toggleable {background-color: white;}#sk-container-id-7 label.sk-toggleable__label {cursor: pointer;display: block;width: 100%;margin-bottom: 0;padding: 0.3em;box-sizing: border-box;text-align: center;}#sk-container-id-7 label.sk-toggleable__label-arrow:before {content: \"▸\";float: left;margin-right: 0.25em;color: #696969;}#sk-container-id-7 label.sk-toggleable__label-arrow:hover:before {color: black;}#sk-container-id-7 div.sk-estimator:hover label.sk-toggleable__label-arrow:before {color: black;}#sk-container-id-7 div.sk-toggleable__content {max-height: 0;max-width: 0;overflow: hidden;text-align: left;background-color: #f0f8ff;}#sk-container-id-7 div.sk-toggleable__content pre {margin: 0.2em;color: black;border-radius: 0.25em;background-color: #f0f8ff;}#sk-container-id-7 input.sk-toggleable__control:checked~div.sk-toggleable__content {max-height: 200px;max-width: 100%;overflow: auto;}#sk-container-id-7 input.sk-toggleable__control:checked~label.sk-toggleable__label-arrow:before {content: \"▾\";}#sk-container-id-7 div.sk-estimator input.sk-toggleable__control:checked~label.sk-toggleable__label {background-color: #d4ebff;}#sk-container-id-7 div.sk-label input.sk-toggleable__control:checked~label.sk-toggleable__label {background-color: #d4ebff;}#sk-container-id-7 input.sk-hidden--visually {border: 0;clip: rect(1px 1px 1px 1px);clip: rect(1px, 1px, 1px, 1px);height: 1px;margin: -1px;overflow: hidden;padding: 0;position: absolute;width: 1px;}#sk-container-id-7 div.sk-estimator {font-family: monospace;background-color: #f0f8ff;border: 1px dotted black;border-radius: 0.25em;box-sizing: border-box;margin-bottom: 0.5em;}#sk-container-id-7 div.sk-estimator:hover {background-color: #d4ebff;}#sk-container-id-7 div.sk-parallel-item::after {content: \"\";width: 100%;border-bottom: 1px solid gray;flex-grow: 1;}#sk-container-id-7 div.sk-label:hover label.sk-toggleable__label {background-color: #d4ebff;}#sk-container-id-7 div.sk-serial::before {content: \"\";position: absolute;border-left: 1px solid gray;box-sizing: border-box;top: 0;bottom: 0;left: 50%;z-index: 0;}#sk-container-id-7 div.sk-serial {display: flex;flex-direction: column;align-items: center;background-color: white;padding-right: 0.2em;padding-left: 0.2em;position: relative;}#sk-container-id-7 div.sk-item {position: relative;z-index: 1;}#sk-container-id-7 div.sk-parallel {display: flex;align-items: stretch;justify-content: center;background-color: white;position: relative;}#sk-container-id-7 div.sk-item::before, #sk-container-id-7 div.sk-parallel-item::before {content: \"\";position: absolute;border-left: 1px solid gray;box-sizing: border-box;top: 0;bottom: 0;left: 50%;z-index: -1;}#sk-container-id-7 div.sk-parallel-item {display: flex;flex-direction: column;z-index: 1;position: relative;background-color: white;}#sk-container-id-7 div.sk-parallel-item:first-child::after {align-self: flex-end;width: 50%;}#sk-container-id-7 div.sk-parallel-item:last-child::after {align-self: flex-start;width: 50%;}#sk-container-id-7 div.sk-parallel-item:only-child::after {width: 0;}#sk-container-id-7 div.sk-dashed-wrapped {border: 1px dashed gray;margin: 0 0.4em 0.5em 0.4em;box-sizing: border-box;padding-bottom: 0.4em;background-color: white;}#sk-container-id-7 div.sk-label label {font-family: monospace;font-weight: bold;display: inline-block;line-height: 1.2em;}#sk-container-id-7 div.sk-label-container {text-align: center;}#sk-container-id-7 div.sk-container {/* jupyter's `normalize.less` sets `[hidden] { display: none; }` but bootstrap.min.css set `[hidden] { display: none !important; }` so we also need the `!important` here to be able to override the default hidden behavior on the sphinx rendered scikit-learn.org. See: https://github.com/scikit-learn/scikit-learn/issues/21755 */display: inline-block !important;position: relative;}#sk-container-id-7 div.sk-text-repr-fallback {display: none;}</style><div id=\"sk-container-id-7\" class=\"sk-top-container\"><div class=\"sk-text-repr-fallback\"><pre>GridSearchCV(cv=&lt;utils.MultipleTimeSeriesCV object at 0x00000252B1948760&gt;,\n",
       "             estimator=DecisionTreeClassifier(random_state=42), n_jobs=-1,\n",
       "             param_grid={&#x27;max_depth&#x27;: [2, 3, 4, 5, 6, 7, 8, 10, 12, 15],\n",
       "                         &#x27;max_features&#x27;: [&#x27;sqrt&#x27;, &#x27;auto&#x27;],\n",
       "                         &#x27;min_samples_leaf&#x27;: [5, 25, 50, 100]},\n",
       "             return_train_score=True, scoring=&#x27;roc_auc&#x27;)</pre><b>In a Jupyter environment, please rerun this cell to show the HTML representation or trust the notebook. <br />On GitHub, the HTML representation is unable to render, please try loading this page with nbviewer.org.</b></div><div class=\"sk-container\" hidden><div class=\"sk-item sk-dashed-wrapped\"><div class=\"sk-label-container\"><div class=\"sk-label sk-toggleable\"><input class=\"sk-toggleable__control sk-hidden--visually\" id=\"sk-estimator-id-7\" type=\"checkbox\" ><label for=\"sk-estimator-id-7\" class=\"sk-toggleable__label sk-toggleable__label-arrow\">GridSearchCV</label><div class=\"sk-toggleable__content\"><pre>GridSearchCV(cv=&lt;utils.MultipleTimeSeriesCV object at 0x00000252B1948760&gt;,\n",
       "             estimator=DecisionTreeClassifier(random_state=42), n_jobs=-1,\n",
       "             param_grid={&#x27;max_depth&#x27;: [2, 3, 4, 5, 6, 7, 8, 10, 12, 15],\n",
       "                         &#x27;max_features&#x27;: [&#x27;sqrt&#x27;, &#x27;auto&#x27;],\n",
       "                         &#x27;min_samples_leaf&#x27;: [5, 25, 50, 100]},\n",
       "             return_train_score=True, scoring=&#x27;roc_auc&#x27;)</pre></div></div></div><div class=\"sk-parallel\"><div class=\"sk-parallel-item\"><div class=\"sk-item\"><div class=\"sk-label-container\"><div class=\"sk-label sk-toggleable\"><input class=\"sk-toggleable__control sk-hidden--visually\" id=\"sk-estimator-id-8\" type=\"checkbox\" ><label for=\"sk-estimator-id-8\" class=\"sk-toggleable__label sk-toggleable__label-arrow\">estimator: DecisionTreeClassifier</label><div class=\"sk-toggleable__content\"><pre>DecisionTreeClassifier(random_state=42)</pre></div></div></div><div class=\"sk-serial\"><div class=\"sk-item\"><div class=\"sk-estimator sk-toggleable\"><input class=\"sk-toggleable__control sk-hidden--visually\" id=\"sk-estimator-id-9\" type=\"checkbox\" ><label for=\"sk-estimator-id-9\" class=\"sk-toggleable__label sk-toggleable__label-arrow\">DecisionTreeClassifier</label><div class=\"sk-toggleable__content\"><pre>DecisionTreeClassifier(random_state=42)</pre></div></div></div></div></div></div></div></div></div></div>"
      ],
      "text/plain": [
       "GridSearchCV(cv=<utils.MultipleTimeSeriesCV object at 0x00000252B1948760>,\n",
       "             estimator=DecisionTreeClassifier(random_state=42), n_jobs=-1,\n",
       "             param_grid={'max_depth': [2, 3, 4, 5, 6, 7, 8, 10, 12, 15],\n",
       "                         'max_features': ['sqrt', 'auto'],\n",
       "                         'min_samples_leaf': [5, 25, 50, 100]},\n",
       "             return_train_score=True, scoring='roc_auc')"
      ]
     },
     "execution_count": 73,
     "metadata": {},
     "output_type": "execute_result"
    }
   ],
   "source": [
    "gridsearch_clf.fit(X=X, y=y_binary)"
   ]
  },
  {
   "cell_type": "markdown",
   "metadata": {},
   "source": [
    "The training process produces some new attributes for our GridSearchCV object, most importantly the information about the optimal settings and the best cross-validation score (now using the proper setup that avoids lookahead bias).\n",
    "\n",
    "Setting `max_depth` to 10, `min_samples_leaf` to 750, and randomly selecting only a number corresponding to the square root of the total number of features when deciding on a split, produces the best results, with an AUC of 0.532:"
   ]
  },
  {
   "cell_type": "code",
   "execution_count": 74,
   "metadata": {
    "ExecuteTime": {
     "end_time": "2021-04-16T00:33:53.857480Z",
     "start_time": "2021-04-16T00:33:53.854544Z"
    }
   },
   "outputs": [
    {
     "data": {
      "text/plain": [
       "{'max_depth': 15, 'max_features': 'sqrt', 'min_samples_leaf': 100}"
      ]
     },
     "execution_count": 74,
     "metadata": {},
     "output_type": "execute_result"
    }
   ],
   "source": [
    "gridsearch_clf.best_params_"
   ]
  },
  {
   "cell_type": "code",
   "execution_count": 75,
   "metadata": {
    "ExecuteTime": {
     "end_time": "2021-04-16T00:33:53.871480Z",
     "start_time": "2021-04-16T00:33:53.858438Z"
    }
   },
   "outputs": [
    {
     "data": {
      "text/plain": [
       "0.5276523209690385"
      ]
     },
     "execution_count": 75,
     "metadata": {},
     "output_type": "execute_result"
    }
   ],
   "source": [
    "gridsearch_clf.best_score_"
   ]
  },
  {
   "cell_type": "markdown",
   "metadata": {},
   "source": [
    "#### Define Custom IC score"
   ]
  },
  {
   "cell_type": "code",
   "execution_count": 76,
   "metadata": {
    "ExecuteTime": {
     "end_time": "2021-04-16T00:33:53.880255Z",
     "start_time": "2021-04-16T00:33:53.872541Z"
    }
   },
   "outputs": [],
   "source": [
    "def rank_correl(y, y_pred):\n",
    "    return spearmanr(y, y_pred)[0]\n",
    "ic = make_scorer(rank_correl)"
   ]
  },
  {
   "cell_type": "markdown",
   "metadata": {},
   "source": [
    "#### Regression Tree"
   ]
  },
  {
   "cell_type": "code",
   "execution_count": 77,
   "metadata": {
    "ExecuteTime": {
     "end_time": "2021-04-16T00:33:53.888614Z",
     "start_time": "2021-04-16T00:33:53.881766Z"
    }
   },
   "outputs": [],
   "source": [
    "reg_tree = DecisionTreeRegressor(random_state=42)"
   ]
  },
  {
   "cell_type": "code",
   "execution_count": 78,
   "metadata": {
    "ExecuteTime": {
     "end_time": "2021-04-16T00:33:53.896846Z",
     "start_time": "2021-04-16T00:33:53.889580Z"
    }
   },
   "outputs": [],
   "source": [
    "gridsearch_reg = GridSearchCV(estimator=reg_tree,\n",
    "                              param_grid=param_grid,\n",
    "                              scoring=ic,\n",
    "                              n_jobs=-1,\n",
    "                              cv=cv,\n",
    "                              refit=True,\n",
    "                              return_train_score=True)"
   ]
  },
  {
   "cell_type": "code",
   "execution_count": 79,
   "metadata": {
    "ExecuteTime": {
     "end_time": "2021-04-16T00:34:33.328283Z",
     "start_time": "2021-04-16T00:33:53.897801Z"
    }
   },
   "outputs": [
    {
     "data": {
      "text/html": [
       "<style>#sk-container-id-8 {color: black;background-color: white;}#sk-container-id-8 pre{padding: 0;}#sk-container-id-8 div.sk-toggleable {background-color: white;}#sk-container-id-8 label.sk-toggleable__label {cursor: pointer;display: block;width: 100%;margin-bottom: 0;padding: 0.3em;box-sizing: border-box;text-align: center;}#sk-container-id-8 label.sk-toggleable__label-arrow:before {content: \"▸\";float: left;margin-right: 0.25em;color: #696969;}#sk-container-id-8 label.sk-toggleable__label-arrow:hover:before {color: black;}#sk-container-id-8 div.sk-estimator:hover label.sk-toggleable__label-arrow:before {color: black;}#sk-container-id-8 div.sk-toggleable__content {max-height: 0;max-width: 0;overflow: hidden;text-align: left;background-color: #f0f8ff;}#sk-container-id-8 div.sk-toggleable__content pre {margin: 0.2em;color: black;border-radius: 0.25em;background-color: #f0f8ff;}#sk-container-id-8 input.sk-toggleable__control:checked~div.sk-toggleable__content {max-height: 200px;max-width: 100%;overflow: auto;}#sk-container-id-8 input.sk-toggleable__control:checked~label.sk-toggleable__label-arrow:before {content: \"▾\";}#sk-container-id-8 div.sk-estimator input.sk-toggleable__control:checked~label.sk-toggleable__label {background-color: #d4ebff;}#sk-container-id-8 div.sk-label input.sk-toggleable__control:checked~label.sk-toggleable__label {background-color: #d4ebff;}#sk-container-id-8 input.sk-hidden--visually {border: 0;clip: rect(1px 1px 1px 1px);clip: rect(1px, 1px, 1px, 1px);height: 1px;margin: -1px;overflow: hidden;padding: 0;position: absolute;width: 1px;}#sk-container-id-8 div.sk-estimator {font-family: monospace;background-color: #f0f8ff;border: 1px dotted black;border-radius: 0.25em;box-sizing: border-box;margin-bottom: 0.5em;}#sk-container-id-8 div.sk-estimator:hover {background-color: #d4ebff;}#sk-container-id-8 div.sk-parallel-item::after {content: \"\";width: 100%;border-bottom: 1px solid gray;flex-grow: 1;}#sk-container-id-8 div.sk-label:hover label.sk-toggleable__label {background-color: #d4ebff;}#sk-container-id-8 div.sk-serial::before {content: \"\";position: absolute;border-left: 1px solid gray;box-sizing: border-box;top: 0;bottom: 0;left: 50%;z-index: 0;}#sk-container-id-8 div.sk-serial {display: flex;flex-direction: column;align-items: center;background-color: white;padding-right: 0.2em;padding-left: 0.2em;position: relative;}#sk-container-id-8 div.sk-item {position: relative;z-index: 1;}#sk-container-id-8 div.sk-parallel {display: flex;align-items: stretch;justify-content: center;background-color: white;position: relative;}#sk-container-id-8 div.sk-item::before, #sk-container-id-8 div.sk-parallel-item::before {content: \"\";position: absolute;border-left: 1px solid gray;box-sizing: border-box;top: 0;bottom: 0;left: 50%;z-index: -1;}#sk-container-id-8 div.sk-parallel-item {display: flex;flex-direction: column;z-index: 1;position: relative;background-color: white;}#sk-container-id-8 div.sk-parallel-item:first-child::after {align-self: flex-end;width: 50%;}#sk-container-id-8 div.sk-parallel-item:last-child::after {align-self: flex-start;width: 50%;}#sk-container-id-8 div.sk-parallel-item:only-child::after {width: 0;}#sk-container-id-8 div.sk-dashed-wrapped {border: 1px dashed gray;margin: 0 0.4em 0.5em 0.4em;box-sizing: border-box;padding-bottom: 0.4em;background-color: white;}#sk-container-id-8 div.sk-label label {font-family: monospace;font-weight: bold;display: inline-block;line-height: 1.2em;}#sk-container-id-8 div.sk-label-container {text-align: center;}#sk-container-id-8 div.sk-container {/* jupyter's `normalize.less` sets `[hidden] { display: none; }` but bootstrap.min.css set `[hidden] { display: none !important; }` so we also need the `!important` here to be able to override the default hidden behavior on the sphinx rendered scikit-learn.org. See: https://github.com/scikit-learn/scikit-learn/issues/21755 */display: inline-block !important;position: relative;}#sk-container-id-8 div.sk-text-repr-fallback {display: none;}</style><div id=\"sk-container-id-8\" class=\"sk-top-container\"><div class=\"sk-text-repr-fallback\"><pre>GridSearchCV(cv=&lt;utils.MultipleTimeSeriesCV object at 0x00000252B1948760&gt;,\n",
       "             estimator=DecisionTreeRegressor(random_state=42), n_jobs=-1,\n",
       "             param_grid={&#x27;max_depth&#x27;: [2, 3, 4, 5, 6, 7, 8, 10, 12, 15],\n",
       "                         &#x27;max_features&#x27;: [&#x27;sqrt&#x27;, &#x27;auto&#x27;],\n",
       "                         &#x27;min_samples_leaf&#x27;: [5, 25, 50, 100]},\n",
       "             return_train_score=True, scoring=make_scorer(rank_correl))</pre><b>In a Jupyter environment, please rerun this cell to show the HTML representation or trust the notebook. <br />On GitHub, the HTML representation is unable to render, please try loading this page with nbviewer.org.</b></div><div class=\"sk-container\" hidden><div class=\"sk-item sk-dashed-wrapped\"><div class=\"sk-label-container\"><div class=\"sk-label sk-toggleable\"><input class=\"sk-toggleable__control sk-hidden--visually\" id=\"sk-estimator-id-10\" type=\"checkbox\" ><label for=\"sk-estimator-id-10\" class=\"sk-toggleable__label sk-toggleable__label-arrow\">GridSearchCV</label><div class=\"sk-toggleable__content\"><pre>GridSearchCV(cv=&lt;utils.MultipleTimeSeriesCV object at 0x00000252B1948760&gt;,\n",
       "             estimator=DecisionTreeRegressor(random_state=42), n_jobs=-1,\n",
       "             param_grid={&#x27;max_depth&#x27;: [2, 3, 4, 5, 6, 7, 8, 10, 12, 15],\n",
       "                         &#x27;max_features&#x27;: [&#x27;sqrt&#x27;, &#x27;auto&#x27;],\n",
       "                         &#x27;min_samples_leaf&#x27;: [5, 25, 50, 100]},\n",
       "             return_train_score=True, scoring=make_scorer(rank_correl))</pre></div></div></div><div class=\"sk-parallel\"><div class=\"sk-parallel-item\"><div class=\"sk-item\"><div class=\"sk-label-container\"><div class=\"sk-label sk-toggleable\"><input class=\"sk-toggleable__control sk-hidden--visually\" id=\"sk-estimator-id-11\" type=\"checkbox\" ><label for=\"sk-estimator-id-11\" class=\"sk-toggleable__label sk-toggleable__label-arrow\">estimator: DecisionTreeRegressor</label><div class=\"sk-toggleable__content\"><pre>DecisionTreeRegressor(random_state=42)</pre></div></div></div><div class=\"sk-serial\"><div class=\"sk-item\"><div class=\"sk-estimator sk-toggleable\"><input class=\"sk-toggleable__control sk-hidden--visually\" id=\"sk-estimator-id-12\" type=\"checkbox\" ><label for=\"sk-estimator-id-12\" class=\"sk-toggleable__label sk-toggleable__label-arrow\">DecisionTreeRegressor</label><div class=\"sk-toggleable__content\"><pre>DecisionTreeRegressor(random_state=42)</pre></div></div></div></div></div></div></div></div></div></div>"
      ],
      "text/plain": [
       "GridSearchCV(cv=<utils.MultipleTimeSeriesCV object at 0x00000252B1948760>,\n",
       "             estimator=DecisionTreeRegressor(random_state=42), n_jobs=-1,\n",
       "             param_grid={'max_depth': [2, 3, 4, 5, 6, 7, 8, 10, 12, 15],\n",
       "                         'max_features': ['sqrt', 'auto'],\n",
       "                         'min_samples_leaf': [5, 25, 50, 100]},\n",
       "             return_train_score=True, scoring=make_scorer(rank_correl))"
      ]
     },
     "execution_count": 79,
     "metadata": {},
     "output_type": "execute_result"
    }
   ],
   "source": [
    "gridsearch_reg.fit(X=X, y=y)"
   ]
  },
  {
   "cell_type": "code",
   "execution_count": 80,
   "metadata": {
    "ExecuteTime": {
     "end_time": "2021-04-16T00:34:33.340010Z",
     "start_time": "2021-04-16T00:34:33.333245Z"
    }
   },
   "outputs": [
    {
     "data": {
      "text/plain": [
       "{'max_depth': 8, 'max_features': 'sqrt', 'min_samples_leaf': 5}"
      ]
     },
     "execution_count": 80,
     "metadata": {},
     "output_type": "execute_result"
    }
   ],
   "source": [
    "gridsearch_reg.best_params_"
   ]
  },
  {
   "cell_type": "code",
   "execution_count": 81,
   "metadata": {
    "ExecuteTime": {
     "end_time": "2021-04-16T00:34:33.351382Z",
     "start_time": "2021-04-16T00:34:33.341496Z"
    }
   },
   "outputs": [
    {
     "data": {
      "text/plain": [
       "0.05215264615324865"
      ]
     },
     "execution_count": 81,
     "metadata": {},
     "output_type": "execute_result"
    }
   ],
   "source": [
    "gridsearch_reg.best_score_"
   ]
  },
  {
   "cell_type": "markdown",
   "metadata": {},
   "source": [
    "### Classifier Cross-Validation"
   ]
  },
  {
   "cell_type": "code",
   "execution_count": 82,
   "metadata": {
    "ExecuteTime": {
     "end_time": "2021-04-16T00:34:33.363598Z",
     "start_time": "2021-04-16T00:34:33.352847Z"
    }
   },
   "outputs": [
    {
     "data": {
      "text/html": [
       "<div>\n",
       "<style scoped>\n",
       "    .dataframe tbody tr th:only-of-type {\n",
       "        vertical-align: middle;\n",
       "    }\n",
       "\n",
       "    .dataframe tbody tr th {\n",
       "        vertical-align: top;\n",
       "    }\n",
       "\n",
       "    .dataframe thead th {\n",
       "        text-align: right;\n",
       "    }\n",
       "</style>\n",
       "<table border=\"1\" class=\"dataframe\">\n",
       "  <thead>\n",
       "    <tr style=\"text-align: right;\">\n",
       "      <th></th>\n",
       "      <th>Regression</th>\n",
       "      <th>Classification</th>\n",
       "    </tr>\n",
       "  </thead>\n",
       "  <tbody>\n",
       "    <tr>\n",
       "      <th>max_depth</th>\n",
       "      <td>8</td>\n",
       "      <td>15</td>\n",
       "    </tr>\n",
       "    <tr>\n",
       "      <th>max_features</th>\n",
       "      <td>sqrt</td>\n",
       "      <td>sqrt</td>\n",
       "    </tr>\n",
       "    <tr>\n",
       "      <th>min_samples_leaf</th>\n",
       "      <td>5</td>\n",
       "      <td>100</td>\n",
       "    </tr>\n",
       "  </tbody>\n",
       "</table>\n",
       "</div>"
      ],
      "text/plain": [
       "                 Regression Classification\n",
       "max_depth                 8             15\n",
       "max_features           sqrt           sqrt\n",
       "min_samples_leaf          5            100"
      ]
     },
     "execution_count": 82,
     "metadata": {},
     "output_type": "execute_result"
    }
   ],
   "source": [
    "pd.DataFrame({'Regression': pd.Series(gridsearch_reg.best_params_),\n",
    "              'Classification': pd.Series(gridsearch_clf.best_params_)})"
   ]
  },
  {
   "cell_type": "markdown",
   "metadata": {},
   "source": [
    "Cross-validation is the most important tool to obtain an unbiased estimate of the generalization error, which in turn permits an informed choice among the various configuration options. sklearn offers several tools to facilitate the process of cross-validating numerous parameter settings, namely the GridSearchCV convenience class that we will illustrate in the next section. "
   ]
  },
  {
   "cell_type": "markdown",
   "metadata": {},
   "source": [
    "The following code illustrates how to run cross-validation more manually to obtain custom tree attributes, such as the total number of nodes or leaf nodes associated with certain hyperparameter settings. \n",
    "\n",
    "The following function accesses the internal `.tree_` attribute to retrieve information about the total node count, and how many of these nodes are leaf nodes:"
   ]
  },
  {
   "cell_type": "code",
   "execution_count": 83,
   "metadata": {
    "ExecuteTime": {
     "end_time": "2021-04-16T00:34:33.369594Z",
     "start_time": "2021-04-16T00:34:33.364452Z"
    }
   },
   "outputs": [],
   "source": [
    "def get_leaves_count(tree):\n",
    "    t = tree.tree_\n",
    "    n = t.node_count\n",
    "    leaves = len([i for i in range(t.node_count) if t.children_left[i]== -1])\n",
    "    return leaves"
   ]
  },
  {
   "cell_type": "markdown",
   "metadata": {},
   "source": [
    "We can combine this information with the train and test scores to gain detailed knowledge about the model behavior throughout the cross-validation process, as follows:"
   ]
  },
  {
   "cell_type": "code",
   "execution_count": 84,
   "metadata": {},
   "outputs": [
    {
     "name": "stdout",
     "output_type": "stream",
     "text": [
      "[   66    67    68 ... 77779 77780 77781]\n",
      "[   60    61    62 ... 77773 77774 77775]\n",
      "[   54    55    56 ... 77767 77768 77769]\n",
      "[   48    49    50 ... 77761 77762 77763]\n",
      "[   42    43    44 ... 77755 77756 77757]\n",
      "[   36    37    38 ... 77749 77750 77751]\n",
      "[   30    31    32 ... 77743 77744 77745]\n",
      "[   24    25    26 ... 77737 77738 77739]\n",
      "[   18    19    20 ... 77731 77732 77733]\n",
      "[   12    13    14 ... 77725 77726 77727]\n"
     ]
    }
   ],
   "source": [
    "for train_idx, test_idx in cv.split(X):\n",
    "    print(train_idx)"
   ]
  },
  {
   "cell_type": "code",
   "execution_count": 85,
   "metadata": {},
   "outputs": [
    {
     "name": "stdout",
     "output_type": "stream",
     "text": [
      "[  126   127   128 ... 77785 77786 77787]\n",
      "[  120   121   122 ... 77779 77780 77781]\n",
      "[  114   115   116 ... 77773 77774 77775]\n",
      "[  108   109   110 ... 77767 77768 77769]\n",
      "[  102   103   104 ... 77761 77762 77763]\n",
      "[   96    97    98 ... 77755 77756 77757]\n",
      "[   90    91    92 ... 77749 77750 77751]\n",
      "[   84    85    86 ... 77743 77744 77745]\n",
      "[   78    79    80 ... 77737 77738 77739]\n",
      "[   72    73    74 ... 77731 77732 77733]\n"
     ]
    }
   ],
   "source": [
    "for train_idx, test_idx in cv.split(X):\n",
    "    print(test_idx)"
   ]
  },
  {
   "cell_type": "code",
   "execution_count": 86,
   "metadata": {
    "ExecuteTime": {
     "end_time": "2021-04-16T00:34:46.896130Z",
     "start_time": "2021-04-16T00:34:33.377385Z"
    },
    "scrolled": true
   },
   "outputs": [
    {
     "name": "stdout",
     "output_type": "stream",
     "text": [
      "1 2 3 4 5 6 7 8 9 10 11 12 13 14 15 "
     ]
    }
   ],
   "source": [
    "train_scores, val_scores, leaves = {}, {}, {}\n",
    "for max_depth in max_depths: #传入不同的决策树深度\n",
    "    print(max_depth, end=' ', flush=True)\n",
    "    clf = DecisionTreeClassifier(criterion='gini', \n",
    "                                 max_depth=max_depth,\n",
    "                                 min_samples_leaf=5,\n",
    "                                 max_features='sqrt',\n",
    "                                 random_state=42)\n",
    "    train_scores[max_depth], val_scores[max_depth], leaves[max_depth] = [], [], []\n",
    "    for train_idx, test_idx in cv.split(X): #传入对应的不同的测试集和训练集\n",
    "        X_train, y_train = X.iloc[train_idx], y_binary.iloc[train_idx]\n",
    "        X_test, y_test = X.iloc[test_idx], y_binary.iloc[test_idx]\n",
    "        clf.fit(X=X_train, y=y_train)\n",
    "\n",
    "        train_pred = clf.predict_proba(X=X_train)[:, 1]\n",
    "        train_score = roc_auc_score(y_score=train_pred, y_true=y_train)\n",
    "        train_scores[max_depth].append(train_score)\n",
    "\n",
    "        test_pred = clf.predict_proba(X=X_test)[:, 1]\n",
    "        val_score = roc_auc_score(y_score=test_pred, y_true=y_test)\n",
    "        val_scores[max_depth].append(val_score)    \n",
    "        leaves[max_depth].append(get_leaves_count(clf))\n",
    "        \n",
    "clf_train_scores = pd.DataFrame(train_scores)\n",
    "clf_valid_scores = pd.DataFrame(val_scores)\n",
    "clf_leaves = pd.DataFrame(leaves)"
   ]
  },
  {
   "cell_type": "code",
   "execution_count": 87,
   "metadata": {},
   "outputs": [
    {
     "data": {
      "text/html": [
       "<div>\n",
       "<style scoped>\n",
       "    .dataframe tbody tr th:only-of-type {\n",
       "        vertical-align: middle;\n",
       "    }\n",
       "\n",
       "    .dataframe tbody tr th {\n",
       "        vertical-align: top;\n",
       "    }\n",
       "\n",
       "    .dataframe thead th {\n",
       "        text-align: right;\n",
       "    }\n",
       "</style>\n",
       "<table border=\"1\" class=\"dataframe\">\n",
       "  <thead>\n",
       "    <tr style=\"text-align: right;\">\n",
       "      <th></th>\n",
       "      <th>1</th>\n",
       "      <th>2</th>\n",
       "      <th>3</th>\n",
       "      <th>4</th>\n",
       "      <th>5</th>\n",
       "      <th>6</th>\n",
       "      <th>7</th>\n",
       "      <th>8</th>\n",
       "      <th>9</th>\n",
       "      <th>10</th>\n",
       "      <th>11</th>\n",
       "      <th>12</th>\n",
       "      <th>13</th>\n",
       "      <th>14</th>\n",
       "      <th>15</th>\n",
       "    </tr>\n",
       "  </thead>\n",
       "  <tbody>\n",
       "    <tr>\n",
       "      <th>0</th>\n",
       "      <td>0.543558</td>\n",
       "      <td>0.556889</td>\n",
       "      <td>0.571862</td>\n",
       "      <td>0.592637</td>\n",
       "      <td>0.608047</td>\n",
       "      <td>0.617343</td>\n",
       "      <td>0.644144</td>\n",
       "      <td>0.692363</td>\n",
       "      <td>0.692666</td>\n",
       "      <td>0.707045</td>\n",
       "      <td>0.748878</td>\n",
       "      <td>0.789786</td>\n",
       "      <td>0.801104</td>\n",
       "      <td>0.841401</td>\n",
       "      <td>0.844755</td>\n",
       "    </tr>\n",
       "    <tr>\n",
       "      <th>1</th>\n",
       "      <td>0.546418</td>\n",
       "      <td>0.558908</td>\n",
       "      <td>0.565805</td>\n",
       "      <td>0.592917</td>\n",
       "      <td>0.615705</td>\n",
       "      <td>0.608199</td>\n",
       "      <td>0.643225</td>\n",
       "      <td>0.657604</td>\n",
       "      <td>0.700146</td>\n",
       "      <td>0.713514</td>\n",
       "      <td>0.738962</td>\n",
       "      <td>0.759841</td>\n",
       "      <td>0.801132</td>\n",
       "      <td>0.846869</td>\n",
       "      <td>0.832867</td>\n",
       "    </tr>\n",
       "    <tr>\n",
       "      <th>2</th>\n",
       "      <td>0.535052</td>\n",
       "      <td>0.548211</td>\n",
       "      <td>0.566921</td>\n",
       "      <td>0.598292</td>\n",
       "      <td>0.624379</td>\n",
       "      <td>0.643092</td>\n",
       "      <td>0.652790</td>\n",
       "      <td>0.672880</td>\n",
       "      <td>0.709432</td>\n",
       "      <td>0.720019</td>\n",
       "      <td>0.749690</td>\n",
       "      <td>0.780648</td>\n",
       "      <td>0.805635</td>\n",
       "      <td>0.843310</td>\n",
       "      <td>0.869422</td>\n",
       "    </tr>\n",
       "    <tr>\n",
       "      <th>3</th>\n",
       "      <td>0.533757</td>\n",
       "      <td>0.551939</td>\n",
       "      <td>0.566398</td>\n",
       "      <td>0.587120</td>\n",
       "      <td>0.604821</td>\n",
       "      <td>0.622375</td>\n",
       "      <td>0.634297</td>\n",
       "      <td>0.682681</td>\n",
       "      <td>0.691010</td>\n",
       "      <td>0.728836</td>\n",
       "      <td>0.773486</td>\n",
       "      <td>0.759834</td>\n",
       "      <td>0.817651</td>\n",
       "      <td>0.821322</td>\n",
       "      <td>0.845624</td>\n",
       "    </tr>\n",
       "    <tr>\n",
       "      <th>4</th>\n",
       "      <td>0.519159</td>\n",
       "      <td>0.537965</td>\n",
       "      <td>0.570725</td>\n",
       "      <td>0.595302</td>\n",
       "      <td>0.613524</td>\n",
       "      <td>0.631038</td>\n",
       "      <td>0.646708</td>\n",
       "      <td>0.650264</td>\n",
       "      <td>0.698710</td>\n",
       "      <td>0.695451</td>\n",
       "      <td>0.759357</td>\n",
       "      <td>0.758322</td>\n",
       "      <td>0.806852</td>\n",
       "      <td>0.824152</td>\n",
       "      <td>0.833509</td>\n",
       "    </tr>\n",
       "    <tr>\n",
       "      <th>5</th>\n",
       "      <td>0.510391</td>\n",
       "      <td>0.521581</td>\n",
       "      <td>0.568781</td>\n",
       "      <td>0.595444</td>\n",
       "      <td>0.597728</td>\n",
       "      <td>0.604476</td>\n",
       "      <td>0.625835</td>\n",
       "      <td>0.682995</td>\n",
       "      <td>0.664649</td>\n",
       "      <td>0.718450</td>\n",
       "      <td>0.730496</td>\n",
       "      <td>0.738686</td>\n",
       "      <td>0.786049</td>\n",
       "      <td>0.821115</td>\n",
       "      <td>0.855539</td>\n",
       "    </tr>\n",
       "    <tr>\n",
       "      <th>6</th>\n",
       "      <td>0.532095</td>\n",
       "      <td>0.555627</td>\n",
       "      <td>0.570043</td>\n",
       "      <td>0.596577</td>\n",
       "      <td>0.604685</td>\n",
       "      <td>0.651185</td>\n",
       "      <td>0.659831</td>\n",
       "      <td>0.679507</td>\n",
       "      <td>0.730824</td>\n",
       "      <td>0.736772</td>\n",
       "      <td>0.765918</td>\n",
       "      <td>0.803050</td>\n",
       "      <td>0.806947</td>\n",
       "      <td>0.858302</td>\n",
       "      <td>0.885697</td>\n",
       "    </tr>\n",
       "    <tr>\n",
       "      <th>7</th>\n",
       "      <td>0.511146</td>\n",
       "      <td>0.522074</td>\n",
       "      <td>0.560304</td>\n",
       "      <td>0.606194</td>\n",
       "      <td>0.581777</td>\n",
       "      <td>0.624082</td>\n",
       "      <td>0.621684</td>\n",
       "      <td>0.676885</td>\n",
       "      <td>0.713337</td>\n",
       "      <td>0.737185</td>\n",
       "      <td>0.748318</td>\n",
       "      <td>0.770264</td>\n",
       "      <td>0.814297</td>\n",
       "      <td>0.845711</td>\n",
       "      <td>0.848403</td>\n",
       "    </tr>\n",
       "    <tr>\n",
       "      <th>8</th>\n",
       "      <td>0.550814</td>\n",
       "      <td>0.558096</td>\n",
       "      <td>0.591674</td>\n",
       "      <td>0.627686</td>\n",
       "      <td>0.627392</td>\n",
       "      <td>0.673444</td>\n",
       "      <td>0.672186</td>\n",
       "      <td>0.719948</td>\n",
       "      <td>0.743497</td>\n",
       "      <td>0.733527</td>\n",
       "      <td>0.760682</td>\n",
       "      <td>0.800005</td>\n",
       "      <td>0.814390</td>\n",
       "      <td>0.822111</td>\n",
       "      <td>0.892669</td>\n",
       "    </tr>\n",
       "    <tr>\n",
       "      <th>9</th>\n",
       "      <td>0.564548</td>\n",
       "      <td>0.574854</td>\n",
       "      <td>0.600017</td>\n",
       "      <td>0.633734</td>\n",
       "      <td>0.641740</td>\n",
       "      <td>0.628674</td>\n",
       "      <td>0.692090</td>\n",
       "      <td>0.744612</td>\n",
       "      <td>0.731991</td>\n",
       "      <td>0.762333</td>\n",
       "      <td>0.789737</td>\n",
       "      <td>0.815005</td>\n",
       "      <td>0.831249</td>\n",
       "      <td>0.840091</td>\n",
       "      <td>0.874754</td>\n",
       "    </tr>\n",
       "  </tbody>\n",
       "</table>\n",
       "</div>"
      ],
      "text/plain": [
       "         1         2         3         4         5         6         7   \\\n",
       "0  0.543558  0.556889  0.571862  0.592637  0.608047  0.617343  0.644144   \n",
       "1  0.546418  0.558908  0.565805  0.592917  0.615705  0.608199  0.643225   \n",
       "2  0.535052  0.548211  0.566921  0.598292  0.624379  0.643092  0.652790   \n",
       "3  0.533757  0.551939  0.566398  0.587120  0.604821  0.622375  0.634297   \n",
       "4  0.519159  0.537965  0.570725  0.595302  0.613524  0.631038  0.646708   \n",
       "5  0.510391  0.521581  0.568781  0.595444  0.597728  0.604476  0.625835   \n",
       "6  0.532095  0.555627  0.570043  0.596577  0.604685  0.651185  0.659831   \n",
       "7  0.511146  0.522074  0.560304  0.606194  0.581777  0.624082  0.621684   \n",
       "8  0.550814  0.558096  0.591674  0.627686  0.627392  0.673444  0.672186   \n",
       "9  0.564548  0.574854  0.600017  0.633734  0.641740  0.628674  0.692090   \n",
       "\n",
       "         8         9         10        11        12        13        14  \\\n",
       "0  0.692363  0.692666  0.707045  0.748878  0.789786  0.801104  0.841401   \n",
       "1  0.657604  0.700146  0.713514  0.738962  0.759841  0.801132  0.846869   \n",
       "2  0.672880  0.709432  0.720019  0.749690  0.780648  0.805635  0.843310   \n",
       "3  0.682681  0.691010  0.728836  0.773486  0.759834  0.817651  0.821322   \n",
       "4  0.650264  0.698710  0.695451  0.759357  0.758322  0.806852  0.824152   \n",
       "5  0.682995  0.664649  0.718450  0.730496  0.738686  0.786049  0.821115   \n",
       "6  0.679507  0.730824  0.736772  0.765918  0.803050  0.806947  0.858302   \n",
       "7  0.676885  0.713337  0.737185  0.748318  0.770264  0.814297  0.845711   \n",
       "8  0.719948  0.743497  0.733527  0.760682  0.800005  0.814390  0.822111   \n",
       "9  0.744612  0.731991  0.762333  0.789737  0.815005  0.831249  0.840091   \n",
       "\n",
       "         15  \n",
       "0  0.844755  \n",
       "1  0.832867  \n",
       "2  0.869422  \n",
       "3  0.845624  \n",
       "4  0.833509  \n",
       "5  0.855539  \n",
       "6  0.885697  \n",
       "7  0.848403  \n",
       "8  0.892669  \n",
       "9  0.874754  "
      ]
     },
     "execution_count": 87,
     "metadata": {},
     "output_type": "execute_result"
    }
   ],
   "source": [
    "clf_train_scores"
   ]
  },
  {
   "cell_type": "code",
   "execution_count": 88,
   "metadata": {
    "ExecuteTime": {
     "end_time": "2021-04-16T00:34:46.906671Z",
     "start_time": "2021-04-16T00:34:46.898503Z"
    }
   },
   "outputs": [],
   "source": [
    "clf_cv_data = pd.concat([pd.melt(clf_train_scores,\n",
    "                                 var_name='Max. Depth',\n",
    "                                 value_name='ROC AUC').assign(Data='Train'),\n",
    "                         pd.melt(clf_valid_scores,\n",
    "                                 var_name='Max. Depth',\n",
    "                                 value_name='ROC AUC').assign(Data='Valid')])"
   ]
  },
  {
   "cell_type": "code",
   "execution_count": 89,
   "metadata": {},
   "outputs": [
    {
     "data": {
      "text/html": [
       "<div>\n",
       "<style scoped>\n",
       "    .dataframe tbody tr th:only-of-type {\n",
       "        vertical-align: middle;\n",
       "    }\n",
       "\n",
       "    .dataframe tbody tr th {\n",
       "        vertical-align: top;\n",
       "    }\n",
       "\n",
       "    .dataframe thead th {\n",
       "        text-align: right;\n",
       "    }\n",
       "</style>\n",
       "<table border=\"1\" class=\"dataframe\">\n",
       "  <thead>\n",
       "    <tr style=\"text-align: right;\">\n",
       "      <th></th>\n",
       "      <th>Max. Depth</th>\n",
       "      <th>ROC AUC</th>\n",
       "      <th>Data</th>\n",
       "    </tr>\n",
       "  </thead>\n",
       "  <tbody>\n",
       "    <tr>\n",
       "      <th>0</th>\n",
       "      <td>1</td>\n",
       "      <td>0.543558</td>\n",
       "      <td>Train</td>\n",
       "    </tr>\n",
       "    <tr>\n",
       "      <th>1</th>\n",
       "      <td>1</td>\n",
       "      <td>0.546418</td>\n",
       "      <td>Train</td>\n",
       "    </tr>\n",
       "    <tr>\n",
       "      <th>2</th>\n",
       "      <td>1</td>\n",
       "      <td>0.535052</td>\n",
       "      <td>Train</td>\n",
       "    </tr>\n",
       "    <tr>\n",
       "      <th>3</th>\n",
       "      <td>1</td>\n",
       "      <td>0.533757</td>\n",
       "      <td>Train</td>\n",
       "    </tr>\n",
       "    <tr>\n",
       "      <th>4</th>\n",
       "      <td>1</td>\n",
       "      <td>0.519159</td>\n",
       "      <td>Train</td>\n",
       "    </tr>\n",
       "    <tr>\n",
       "      <th>...</th>\n",
       "      <td>...</td>\n",
       "      <td>...</td>\n",
       "      <td>...</td>\n",
       "    </tr>\n",
       "    <tr>\n",
       "      <th>145</th>\n",
       "      <td>15</td>\n",
       "      <td>0.549773</td>\n",
       "      <td>Valid</td>\n",
       "    </tr>\n",
       "    <tr>\n",
       "      <th>146</th>\n",
       "      <td>15</td>\n",
       "      <td>0.480058</td>\n",
       "      <td>Valid</td>\n",
       "    </tr>\n",
       "    <tr>\n",
       "      <th>147</th>\n",
       "      <td>15</td>\n",
       "      <td>0.459461</td>\n",
       "      <td>Valid</td>\n",
       "    </tr>\n",
       "    <tr>\n",
       "      <th>148</th>\n",
       "      <td>15</td>\n",
       "      <td>0.527562</td>\n",
       "      <td>Valid</td>\n",
       "    </tr>\n",
       "    <tr>\n",
       "      <th>149</th>\n",
       "      <td>15</td>\n",
       "      <td>0.535512</td>\n",
       "      <td>Valid</td>\n",
       "    </tr>\n",
       "  </tbody>\n",
       "</table>\n",
       "<p>300 rows × 3 columns</p>\n",
       "</div>"
      ],
      "text/plain": [
       "     Max. Depth   ROC AUC   Data\n",
       "0             1  0.543558  Train\n",
       "1             1  0.546418  Train\n",
       "2             1  0.535052  Train\n",
       "3             1  0.533757  Train\n",
       "4             1  0.519159  Train\n",
       "..          ...       ...    ...\n",
       "145          15  0.549773  Valid\n",
       "146          15  0.480058  Valid\n",
       "147          15  0.459461  Valid\n",
       "148          15  0.527562  Valid\n",
       "149          15  0.535512  Valid\n",
       "\n",
       "[300 rows x 3 columns]"
      ]
     },
     "execution_count": 89,
     "metadata": {},
     "output_type": "execute_result"
    }
   ],
   "source": [
    "clf_cv_data"
   ]
  },
  {
   "cell_type": "markdown",
   "metadata": {},
   "source": [
    "### Regression tree cross-validation"
   ]
  },
  {
   "cell_type": "markdown",
   "metadata": {},
   "source": [
    "#### Run cross-validation"
   ]
  },
  {
   "cell_type": "code",
   "execution_count": 90,
   "metadata": {
    "ExecuteTime": {
     "end_time": "2021-04-16T00:34:58.712044Z",
     "start_time": "2021-04-16T00:34:46.907862Z"
    }
   },
   "outputs": [
    {
     "name": "stdout",
     "output_type": "stream",
     "text": [
      "1 2 3 4 5 6 7 8 9 10 11 12 13 14 15 "
     ]
    }
   ],
   "source": [
    "train_scores, val_scores, leaves = {}, {}, {}\n",
    "for max_depth in max_depths:\n",
    "    print(max_depth, end=' ', flush=True)\n",
    "    reg_tree = DecisionTreeRegressor(max_depth=max_depth,\n",
    "                                     min_samples_leaf=50,\n",
    "                                     max_features= 'sqrt',\n",
    "                                     random_state=42)\n",
    "    train_scores[max_depth], val_scores[max_depth], leaves[max_depth] = [], [], []\n",
    "    for train_idx, test_idx in cv.split(X):\n",
    "        X_train, y_train,  = X.iloc[train_idx], y.iloc[train_idx]\n",
    "        X_test, y_test = X.iloc[test_idx], y.iloc[test_idx]\n",
    "        reg_tree.fit(X=X_train, y=y_train)\n",
    "\n",
    "        train_pred = reg_tree.predict(X=X_train)\n",
    "        train_score = spearmanr(train_pred, y_train)[0]\n",
    "        train_scores[max_depth].append(train_score)\n",
    "\n",
    "        test_pred = reg_tree.predict(X=X_test)\n",
    "        val_score = spearmanr(test_pred, y_test)[0]\n",
    "        val_scores[max_depth].append(val_score)\n",
    "        leaves[max_depth].append(get_leaves_count(reg_tree))\n",
    "\n",
    "reg_train_scores = pd.DataFrame(train_scores)\n",
    "reg_valid_scores = pd.DataFrame(val_scores)\n",
    "reg_leaves = pd.DataFrame(leaves)"
   ]
  },
  {
   "cell_type": "code",
   "execution_count": 91,
   "metadata": {
    "ExecuteTime": {
     "end_time": "2021-04-16T00:34:58.719502Z",
     "start_time": "2021-04-16T00:34:58.712895Z"
    }
   },
   "outputs": [],
   "source": [
    "reg_cv_data = (pd.melt(reg_train_scores, var_name='Max. Depth',\n",
    "                         value_name='IC').assign(Data='Train').append(\n",
    "    pd.melt(reg_valid_scores,\n",
    "            var_name='Max. Depth',\n",
    "            value_name='IC').assign(Data='Valid')))"
   ]
  },
  {
   "cell_type": "code",
   "execution_count": 92,
   "metadata": {},
   "outputs": [
    {
     "data": {
      "text/html": [
       "<div>\n",
       "<style scoped>\n",
       "    .dataframe tbody tr th:only-of-type {\n",
       "        vertical-align: middle;\n",
       "    }\n",
       "\n",
       "    .dataframe tbody tr th {\n",
       "        vertical-align: top;\n",
       "    }\n",
       "\n",
       "    .dataframe thead th {\n",
       "        text-align: right;\n",
       "    }\n",
       "</style>\n",
       "<table border=\"1\" class=\"dataframe\">\n",
       "  <thead>\n",
       "    <tr style=\"text-align: right;\">\n",
       "      <th></th>\n",
       "      <th>Max. Depth</th>\n",
       "      <th>IC</th>\n",
       "      <th>Data</th>\n",
       "    </tr>\n",
       "  </thead>\n",
       "  <tbody>\n",
       "    <tr>\n",
       "      <th>0</th>\n",
       "      <td>1</td>\n",
       "      <td>0.087718</td>\n",
       "      <td>Train</td>\n",
       "    </tr>\n",
       "    <tr>\n",
       "      <th>1</th>\n",
       "      <td>1</td>\n",
       "      <td>0.079533</td>\n",
       "      <td>Train</td>\n",
       "    </tr>\n",
       "    <tr>\n",
       "      <th>2</th>\n",
       "      <td>1</td>\n",
       "      <td>0.064190</td>\n",
       "      <td>Train</td>\n",
       "    </tr>\n",
       "    <tr>\n",
       "      <th>3</th>\n",
       "      <td>1</td>\n",
       "      <td>0.077128</td>\n",
       "      <td>Train</td>\n",
       "    </tr>\n",
       "    <tr>\n",
       "      <th>4</th>\n",
       "      <td>1</td>\n",
       "      <td>0.107183</td>\n",
       "      <td>Train</td>\n",
       "    </tr>\n",
       "    <tr>\n",
       "      <th>...</th>\n",
       "      <td>...</td>\n",
       "      <td>...</td>\n",
       "      <td>...</td>\n",
       "    </tr>\n",
       "    <tr>\n",
       "      <th>145</th>\n",
       "      <td>15</td>\n",
       "      <td>0.042145</td>\n",
       "      <td>Valid</td>\n",
       "    </tr>\n",
       "    <tr>\n",
       "      <th>146</th>\n",
       "      <td>15</td>\n",
       "      <td>-0.068175</td>\n",
       "      <td>Valid</td>\n",
       "    </tr>\n",
       "    <tr>\n",
       "      <th>147</th>\n",
       "      <td>15</td>\n",
       "      <td>-0.032448</td>\n",
       "      <td>Valid</td>\n",
       "    </tr>\n",
       "    <tr>\n",
       "      <th>148</th>\n",
       "      <td>15</td>\n",
       "      <td>0.057003</td>\n",
       "      <td>Valid</td>\n",
       "    </tr>\n",
       "    <tr>\n",
       "      <th>149</th>\n",
       "      <td>15</td>\n",
       "      <td>0.039241</td>\n",
       "      <td>Valid</td>\n",
       "    </tr>\n",
       "  </tbody>\n",
       "</table>\n",
       "<p>300 rows × 3 columns</p>\n",
       "</div>"
      ],
      "text/plain": [
       "     Max. Depth        IC   Data\n",
       "0             1  0.087718  Train\n",
       "1             1  0.079533  Train\n",
       "2             1  0.064190  Train\n",
       "3             1  0.077128  Train\n",
       "4             1  0.107183  Train\n",
       "..          ...       ...    ...\n",
       "145          15  0.042145  Valid\n",
       "146          15 -0.068175  Valid\n",
       "147          15 -0.032448  Valid\n",
       "148          15  0.057003  Valid\n",
       "149          15  0.039241  Valid\n",
       "\n",
       "[300 rows x 3 columns]"
      ]
     },
     "execution_count": 92,
     "metadata": {},
     "output_type": "execute_result"
    }
   ],
   "source": [
    "reg_cv_data"
   ]
  },
  {
   "cell_type": "code",
   "execution_count": 93,
   "metadata": {},
   "outputs": [],
   "source": [
    "reg_cv_data=reg_cv_data.reset_index().drop('index',axis=1)"
   ]
  },
  {
   "cell_type": "markdown",
   "metadata": {},
   "source": [
    "### Compare CV Results"
   ]
  },
  {
   "cell_type": "code",
   "execution_count": 94,
   "metadata": {
    "ExecuteTime": {
     "end_time": "2021-04-16T00:35:00.042515Z",
     "start_time": "2021-04-16T00:34:58.720596Z"
    },
    "scrolled": true
   },
   "outputs": [
    {
     "data": {
      "image/png": "[encoded data removed]",
      "text/plain": [
       "<Figure size 1400x500 with 2 Axes>"
      ]
     },
     "metadata": {},
     "output_type": "display_data"
    }
   ],
   "source": [
    "fig, axes = plt.subplots(ncols=2, figsize=(14, 5))\n",
    "\n",
    "sns.lineplot(data=reg_cv_data,\n",
    "             x='Max. Depth', y='IC',\n",
    "             hue='Data', ci=95,\n",
    "             ax=axes[0], lw=2)\n",
    "\n",
    "axes[0].set_title('Regression Tree')\n",
    "axes[0].axvline(x=reg_valid_scores.mean().idxmax(), ls='--', c='k', lw=1)\n",
    "axes[0].axhline(y=0, ls='--', c='k', lw=1)\n",
    "\n",
    "sns.lineplot(data=clf_cv_data,\n",
    "             x='Max. Depth', y='ROC AUC',\n",
    "             hue='Data', ci=95,\n",
    "             ax=axes[1], lw=2)\n",
    "\n",
    "axes[1].set_title('Classification Tree')\n",
    "axes[1].axvline(x=clf_valid_scores.mean().idxmax(), ls='--', c='k', lw=1)\n",
    "axes[1].axhline(y=.5, ls='--', c='k', lw=1)\n",
    "for ax in axes:\n",
    "    ax.set_xlim(min(param_grid['max_depth']),\n",
    "                max(param_grid['max_depth']))\n",
    "\n",
    "fig.suptitle(f'Train-Validation Scores', fontsize=14)\n",
    "sns.despine()\n",
    "fig.tight_layout()\n",
    "fig.subplots_adjust(top=.91)"
   ]
  },
  {
   "cell_type": "markdown",
   "metadata": {},
   "source": [
    "### Learning Curves for best models"
   ]
  },
  {
   "cell_type": "markdown",
   "metadata": {},
   "source": [
    "A learning curve is a useful tool that displays how the validation and training score evolve as the number of training samples evolves.\n",
    "\n",
    "The purpose of the learning curve is to find out whether and how much the model would benefit from using more data during training. It is also useful to diagnose whether the model's generalization error is more likely driven by bias or variance.\n",
    "\n",
    "If, for example, both the validation score and the training score converge to a similarly low value despite an increasing training set size, the error is more likely due to bias, and additional training data is unlikely to help."
   ]
  },
  {
   "cell_type": "markdown",
   "metadata": {},
   "source": [
    "#### Classifier"
   ]
  },
  {
   "cell_type": "code",
   "execution_count": 95,
   "metadata": {
    "ExecuteTime": {
     "end_time": "2021-04-16T00:35:00.045677Z",
     "start_time": "2021-04-16T00:35:00.043552Z"
    }
   },
   "outputs": [],
   "source": [
    "sizes = np.arange(.1, 1.01, .1)"
   ]
  },
  {
   "cell_type": "code",
   "execution_count": 96,
   "metadata": {
    "ExecuteTime": {
     "end_time": "2021-04-16T00:35:01.724318Z",
     "start_time": "2021-04-16T00:35:00.052073Z"
    }
   },
   "outputs": [],
   "source": [
    "train_sizes, train_scores, valid_scores = learning_curve(gridsearch_clf.best_estimator_,\n",
    "                                                         X,\n",
    "                                                         y_binary,\n",
    "                                                         train_sizes=sizes,\n",
    "                                                         cv=cv,\n",
    "                                                         scoring='roc_auc',\n",
    "                                                         n_jobs=-1,\n",
    "                                                         shuffle=True,\n",
    "                                                         random_state=42)"
   ]
  },
  {
   "cell_type": "code",
   "execution_count": 97,
   "metadata": {
    "ExecuteTime": {
     "end_time": "2021-04-16T00:35:01.738102Z",
     "start_time": "2021-04-16T00:35:01.725318Z"
    }
   },
   "outputs": [
    {
     "name": "stdout",
     "output_type": "stream",
     "text": [
      "<class 'pandas.core.frame.DataFrame'>\n",
      "Int64Index: 200 entries, 0 to 99\n",
      "Data columns (total 3 columns):\n",
      " #   Column      Non-Null Count  Dtype  \n",
      "---  ------      --------------  -----  \n",
      " 0   Train Size  200 non-null    int64  \n",
      " 1   ROC AUC     200 non-null    float64\n",
      " 2   Data        200 non-null    object \n",
      "dtypes: float64(1), int64(1), object(1)\n",
      "memory usage: 6.2+ KB\n"
     ]
    }
   ],
   "source": [
    "clf_lc_data = pd.concat([\n",
    "    pd.melt(pd.DataFrame(train_scores.T, columns=train_sizes),\n",
    "            var_name='Train Size',\n",
    "            value_name='ROC AUC').assign(Data='Train'),\n",
    "    pd.melt(pd.DataFrame(valid_scores.T, columns=train_sizes),\n",
    "            var_name='Train Size',\n",
    "            value_name='ROC AUC').assign(Data='Valid')])\n",
    "clf_lc_data.info()"
   ]
  },
  {
   "cell_type": "markdown",
   "metadata": {},
   "source": [
    "#### Regression Tree"
   ]
  },
  {
   "cell_type": "code",
   "execution_count": 98,
   "metadata": {
    "ExecuteTime": {
     "end_time": "2021-04-16T00:35:03.354249Z",
     "start_time": "2021-04-16T00:35:01.739800Z"
    }
   },
   "outputs": [],
   "source": [
    "train_sizes, train_scores, valid_scores = learning_curve(gridsearch_reg.best_estimator_,\n",
    "                                                         X, y,\n",
    "                                                         train_sizes=sizes,\n",
    "                                                         cv=cv,\n",
    "                                                         scoring=ic,\n",
    "                                                         n_jobs=-1,\n",
    "                                                         shuffle=True,\n",
    "                                                         random_state=42)"
   ]
  },
  {
   "cell_type": "code",
   "execution_count": 99,
   "metadata": {
    "ExecuteTime": {
     "end_time": "2021-04-16T00:35:03.370414Z",
     "start_time": "2021-04-16T00:35:03.355248Z"
    }
   },
   "outputs": [
    {
     "name": "stdout",
     "output_type": "stream",
     "text": [
      "<class 'pandas.core.frame.DataFrame'>\n",
      "Int64Index: 200 entries, 0 to 99\n",
      "Data columns (total 3 columns):\n",
      " #   Column      Non-Null Count  Dtype  \n",
      "---  ------      --------------  -----  \n",
      " 0   Train Size  200 non-null    int64  \n",
      " 1   IC          200 non-null    float64\n",
      " 2   Data        200 non-null    object \n",
      "dtypes: float64(1), int64(1), object(1)\n",
      "memory usage: 6.2+ KB\n"
     ]
    }
   ],
   "source": [
    "reg_lc_data = pd.concat([\n",
    "    pd.melt(pd.DataFrame(train_scores.T,\n",
    "                         columns=train_sizes),\n",
    "            var_name='Train Size',\n",
    "            value_name='IC').assign(Data='Train'),\n",
    "    pd.melt(pd.DataFrame(valid_scores.T,\n",
    "                         columns=train_sizes),\n",
    "            var_name='Train Size',\n",
    "            value_name='IC').assign(Data='Valid')])\n",
    "reg_lc_data.info()"
   ]
  },
  {
   "cell_type": "markdown",
   "metadata": {},
   "source": [
    "#### Compare Learning Curves"
   ]
  },
  {
   "cell_type": "code",
   "execution_count": 100,
   "metadata": {
    "ExecuteTime": {
     "end_time": "2021-04-16T00:35:04.388657Z",
     "start_time": "2021-04-16T00:35:03.371672Z"
    }
   },
   "outputs": [
    {
     "data": {
      "image/png": "[encoded data removed]",
      "text/plain": [
       "<Figure size 1400x500 with 2 Axes>"
      ]
     },
     "metadata": {},
     "output_type": "display_data"
    }
   ],
   "source": [
    "fig, axes = plt.subplots(ncols=2, figsize=(14, 5))\n",
    "xmin, xmax = reg_lc_data['Train Size'].min(), reg_lc_data['Train Size'].max()\n",
    "\n",
    "sns.lineplot(data=reg_lc_data,\n",
    "             x='Train Size', y='IC',\n",
    "             hue='Data', ci=95,  ax=axes[0], lw=2)\n",
    "axes[0].set_title('Best Regression Tree')\n",
    "axes[0].set_ylabel('IC')\n",
    "\n",
    "axes[0].xaxis.set_major_formatter(\n",
    "    FuncFormatter(lambda x, _: '{:,.0f}'.format(x)))\n",
    "\n",
    "sns.lineplot(data=clf_lc_data,\n",
    "             x='Train Size',\n",
    "             y='ROC AUC',\n",
    "             hue='Data',\n",
    "             ci=95,\n",
    "             ax=axes[1],\n",
    "             lw=2)\n",
    "axes[1].set_title('Best Classification Tree')\n",
    "axes[1].set_ylabel('ROC AUC')\n",
    "axes[1].xaxis.set_major_formatter(\n",
    "    FuncFormatter(lambda x, _: '{:,.0f}'.format(x)))\n",
    "\n",
    "for i in [0, 1]:\n",
    "    axes[i].tick_params(axis='both', which='major', labelsize=10)\n",
    "    axes[i].tick_params(axis='both', which='minor', labelsize=8)\n",
    "    axes[i].set_xlim(xmin, xmax)\n",
    "\n",
    "fig.suptitle('Learning Curves', fontsize=14)\n",
    "sns.despine()\n",
    "fig.tight_layout()\n",
    "fig.subplots_adjust(top=.9)"
   ]
  },
  {
   "cell_type": "markdown",
   "metadata": {},
   "source": [
    "### Feature Importance"
   ]
  },
  {
   "cell_type": "markdown",
   "metadata": {},
   "source": [
    "Decision trees can not only be visualized to inspect the decision path for a given feature, but also provide a summary measure of the contribution of each feature to the model fit to the training data. \n",
    "\n",
    "The feature importance captures how much the splits produced by the feature helped to optimize the model's metric used to evaluate the split quality, which in our case is the Gini Impurity index. \n",
    "\n",
    "A feature's importance is computed as the (normalized) total reduction of this metric and takes into account the number of samples affected by a split. Hence, features used earlier in the tree where the nodes tend to contain more samples typically are considered of higher importance."
   ]
  },
  {
   "cell_type": "code",
   "execution_count": 101,
   "metadata": {
    "ExecuteTime": {
     "end_time": "2021-04-16T00:35:04.395752Z",
     "start_time": "2021-04-16T00:35:04.389724Z"
    }
   },
   "outputs": [],
   "source": [
    "top_n = 15\n",
    "labels = X.columns.str.replace('_', ' ').str.upper()\n",
    "fi_clf = (pd.Series(gridsearch_clf.best_estimator_.feature_importances_, \n",
    "                    index=labels).sort_values(ascending=False).iloc[:top_n])\n",
    "fi_reg = (pd.Series(gridsearch_reg.best_estimator_.feature_importances_, \n",
    "                    index=labels).sort_values(ascending=False).iloc[:top_n])"
   ]
  },
  {
   "cell_type": "code",
   "execution_count": 102,
   "metadata": {
    "ExecuteTime": {
     "end_time": "2021-04-16T00:35:04.714765Z",
     "start_time": "2021-04-16T00:35:04.396825Z"
    }
   },
   "outputs": [
    {
     "data": {
      "image/png": "[encoded data removed]",
      "text/plain": [
       "<Figure size 1200x400 with 2 Axes>"
      ]
     },
     "metadata": {},
     "output_type": "display_data"
    }
   ],
   "source": [
    "fig, axes= plt.subplots(ncols=2, figsize=(12,4), sharex=True)\n",
    "color = cm.Blues(np.linspace(.4,.9, top_n))\n",
    "fi_clf.sort_values().plot.barh(ax=axes[1], title='Classification Tree', color=color)\n",
    "fi_reg.sort_values().plot.barh(ax=axes[0], title='Regression Tree', color=color)\n",
    "axes[0].set_xlabel('Feature Importance')\n",
    "axes[1].set_xlabel('Feature Importance')\n",
    "fig.suptitle(f'Top {top_n} Features', fontsize=14)\n",
    "sns.despine()\n",
    "fig.tight_layout()\n",
    "fig.subplots_adjust(top=.9);"
   ]
  }
 ],
 "metadata": {
  "kernelspec": {
   "display_name": "Python 3 (ipykernel)",
   "language": "python",
   "name": "python3"
  },
  "language_info": {
   "codemirror_mode": {
    "name": "ipython",
    "version": 3
   },
   "file_extension": ".py",
   "mimetype": "text/x-python",
   "name": "python",
   "nbconvert_exporter": "python",
   "pygments_lexer": "ipython3",
   "version": "3.8.13"
  },
  "nbTranslate": {
   "displayLangs": [
    "*"
   ],
   "hotkey": "alt-t",
   "langInMainMenu": true,
   "sourceLang": "en",
   "targetLang": "fr",
   "useGoogleTranslate": true
  },
  "toc": {
   "base_numbering": 1,
   "nav_menu": {},
   "number_sections": true,
   "sideBar": true,
   "skip_h1_title": true,
   "title_cell": "Table of Contents",
   "title_sidebar": "Contents",
   "toc_cell": false,
   "toc_position": {
    "height": "calc(100% - 180px)",
    "left": "10px",
    "top": "150px",
    "width": "343.833px"
   },
   "toc_section_display": true,
   "toc_window_display": false
  },
  "varInspector": {
   "cols": {
    "lenName": 16,
    "lenType": 16,
    "lenVar": 40
   },
   "kernels_config": {
    "python": {
     "delete_cmd_postfix": "",
     "delete_cmd_prefix": "del ",
     "library": "var_list.py",
     "varRefreshCmd": "print(var_dic_list())"
    },
    "r": {
     "delete_cmd_postfix": ") ",
     "delete_cmd_prefix": "rm(",
     "library": "var_list.r",
     "varRefreshCmd": "cat(var_dic_list()) "
    }
   },
   "types_to_exclude": [
    "module",
    "function",
    "builtin_function_or_method",
    "instance",
    "_Feature"
   ],
   "window_display": false
  }
 },
 "nbformat": 4,
 "nbformat_minor": 2
}
