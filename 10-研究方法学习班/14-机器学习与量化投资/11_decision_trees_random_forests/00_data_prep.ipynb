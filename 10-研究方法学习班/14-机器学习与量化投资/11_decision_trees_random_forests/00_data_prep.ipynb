{
 "cells": [
  {
   "cell_type": "markdown",
   "metadata": {},
   "source": [
    "# How to transform data into factors"
   ]
  },
  {
   "cell_type": "markdown",
   "metadata": {},
   "source": [
    "Based on a conceptual understanding of key factor categories, their rationale and popular metrics, a key task is to identify new factors that may better capture the risks embodied by the return drivers laid out previously, or to find new ones. \n",
    "\n",
    "In either case, it will be important to compare the performance of innovative factors to that of known factors to identify incremental signal gains."
   ]
  },
  {
   "cell_type": "markdown",
   "metadata": {},
   "source": [
    "We create the dataset here and store it in our [data](../../data) folder to facilitate reuse in later chapters."
   ]
  },
  {
   "cell_type": "markdown",
   "metadata": {},
   "source": [
    "## Imports & Settings"
   ]
  },
  {
   "cell_type": "code",
   "execution_count": 1,
   "metadata": {
    "ExecuteTime": {
     "end_time": "2021-04-16T00:32:11.108720Z",
     "start_time": "2021-04-16T00:32:11.106680Z"
    }
   },
   "outputs": [],
   "source": [
    "import warnings\n",
    "warnings.filterwarnings('ignore')"
   ]
  },
  {
   "cell_type": "code",
   "execution_count": 2,
   "metadata": {
    "ExecuteTime": {
     "end_time": "2021-04-16T00:32:12.061911Z",
     "start_time": "2021-04-16T00:32:11.317486Z"
    }
   },
   "outputs": [],
   "source": [
    "%matplotlib inline\n",
    "\n",
    "import numpy as np\n",
    "import pandas as pd\n",
    "import pandas_datareader.data as web\n",
    "\n",
    "# from pyfinance.ols import PandasRollingOLS\n",
    "# replaces pyfinance.ols.PandasRollingOLS (no longer maintained)\n",
    "from statsmodels.regression.rolling import RollingOLS\n",
    "import statsmodels.api as sm\n",
    "from talib import RSI, BBANDS, MACD, NATR, ATR\n",
    "\n",
    "from sklearn.feature_selection import mutual_info_classif, mutual_info_regression\n",
    "\n",
    "import matplotlib.pyplot as plt\n",
    "import seaborn as sns"
   ]
  },
  {
   "cell_type": "code",
   "execution_count": 3,
   "metadata": {
    "ExecuteTime": {
     "end_time": "2021-04-16T00:32:12.066329Z",
     "start_time": "2021-04-16T00:32:12.063370Z"
    }
   },
   "outputs": [],
   "source": [
    "sns.set_style('whitegrid')\n",
    "idx = pd.IndexSlice"
   ]
  },
  {
   "cell_type": "markdown",
   "metadata": {},
   "source": [
    "## Load US equity OHLCV data"
   ]
  },
  {
   "cell_type": "markdown",
   "metadata": {},
   "source": [
    "The `assets.h5` store can be generated using the the notebook [create_datasets](../../data/create_datasets.ipynb) in the [data](../../data) directory in the root directory of this repo for instruction to download the following dataset."
   ]
  },
  {
   "cell_type": "markdown",
   "metadata": {},
   "source": [
    "We load the Quandl stock price datasets covering the US equity markets 2000-18 using `pd.IndexSlice` to perform a slice operation on the `pd.MultiIndex`, select the adjusted close price and unpivot the column to convert the DataFrame to wide format with tickers in the columns and timestamps in the rows:"
   ]
  },
  {
   "cell_type": "markdown",
   "metadata": {},
   "source": [
    "Set data store location:"
   ]
  },
  {
   "cell_type": "code",
   "execution_count": 4,
   "metadata": {
    "ExecuteTime": {
     "end_time": "2021-02-23T20:29:18.142415Z",
     "start_time": "2021-02-23T20:29:18.135503Z"
    }
   },
   "outputs": [],
   "source": [
    "DATA_STORE = '../data/assets.h5'"
   ]
  },
  {
   "cell_type": "code",
   "execution_count": 5,
   "metadata": {
    "ExecuteTime": {
     "end_time": "2021-02-23T20:29:18.154819Z",
     "start_time": "2021-02-23T20:29:18.143752Z"
    }
   },
   "outputs": [],
   "source": [
    "YEAR = 12"
   ]
  },
  {
   "cell_type": "code",
   "execution_count": 6,
   "metadata": {
    "ExecuteTime": {
     "end_time": "2021-02-23T20:29:18.164476Z",
     "start_time": "2021-02-23T20:29:18.155706Z"
    }
   },
   "outputs": [],
   "source": [
    "START = 1995\n",
    "END = 2017"
   ]
  },
  {
   "cell_type": "code",
   "execution_count": 7,
   "metadata": {
    "ExecuteTime": {
     "end_time": "2021-02-23T20:29:24.397333Z",
     "start_time": "2021-02-23T20:29:18.165527Z"
    }
   },
   "outputs": [],
   "source": [
    "with pd.HDFStore(r'D:\\科研课题\\assets.h5') as store:\n",
    "    prices = (store['quandl/wiki/prices']\n",
    "              .loc[idx[str(START):str(END), :], :]\n",
    "              .filter(like='adj_')\n",
    "              .dropna()\n",
    "              .swaplevel()\n",
    "              .rename(columns=lambda x: x.replace('adj_', ''))\n",
    "              .join(store['us_equities/stocks']\n",
    "                    .loc[:, ['sector']])\n",
    "              .dropna())"
   ]
  },
  {
   "cell_type": "code",
   "execution_count": 8,
   "metadata": {},
   "outputs": [
    {
     "name": "stdout",
     "output_type": "stream",
     "text": [
      "<class 'pandas.core.frame.DataFrame'>\n",
      "MultiIndex: 10241831 entries, ('AAN', Timestamp('1995-01-03 00:00:00')) to ('ZUMZ', Timestamp('2017-12-29 00:00:00'))\n",
      "Data columns (total 6 columns):\n",
      " #   Column  Non-Null Count     Dtype  \n",
      "---  ------  --------------     -----  \n",
      " 0   open    10241831 non-null  float64\n",
      " 1   high    10241831 non-null  float64\n",
      " 2   low     10241831 non-null  float64\n",
      " 3   close   10241831 non-null  float64\n",
      " 4   volume  10241831 non-null  float64\n",
      " 5   sector  10241831 non-null  object \n",
      "dtypes: float64(5), object(1)\n",
      "memory usage: 508.7+ MB\n"
     ]
    }
   ],
   "source": [
    "prices.info(null_counts=True)"
   ]
  },
  {
   "cell_type": "code",
   "execution_count": 9,
   "metadata": {},
   "outputs": [
    {
     "data": {
      "text/html": [
       "<div>\n",
       "<style scoped>\n",
       "    .dataframe tbody tr th:only-of-type {\n",
       "        vertical-align: middle;\n",
       "    }\n",
       "\n",
       "    .dataframe tbody tr th {\n",
       "        vertical-align: top;\n",
       "    }\n",
       "\n",
       "    .dataframe thead th {\n",
       "        text-align: right;\n",
       "    }\n",
       "</style>\n",
       "<table border=\"1\" class=\"dataframe\">\n",
       "  <thead>\n",
       "    <tr style=\"text-align: right;\">\n",
       "      <th></th>\n",
       "      <th></th>\n",
       "      <th>open</th>\n",
       "      <th>high</th>\n",
       "      <th>low</th>\n",
       "      <th>close</th>\n",
       "      <th>volume</th>\n",
       "      <th>sector</th>\n",
       "    </tr>\n",
       "    <tr>\n",
       "      <th>ticker</th>\n",
       "      <th>date</th>\n",
       "      <th></th>\n",
       "      <th></th>\n",
       "      <th></th>\n",
       "      <th></th>\n",
       "      <th></th>\n",
       "      <th></th>\n",
       "    </tr>\n",
       "  </thead>\n",
       "  <tbody>\n",
       "    <tr>\n",
       "      <th>AAN</th>\n",
       "      <th>1995-01-03</th>\n",
       "      <td>1.778191</td>\n",
       "      <td>1.778191</td>\n",
       "      <td>1.778191</td>\n",
       "      <td>1.778191</td>\n",
       "      <td>0.000000e+00</td>\n",
       "      <td>Technology</td>\n",
       "    </tr>\n",
       "    <tr>\n",
       "      <th>AAON</th>\n",
       "      <th>1995-01-03</th>\n",
       "      <td>0.959805</td>\n",
       "      <td>1.006921</td>\n",
       "      <td>0.959805</td>\n",
       "      <td>0.997802</td>\n",
       "      <td>2.462995e+05</td>\n",
       "      <td>Capital Goods</td>\n",
       "    </tr>\n",
       "    <tr>\n",
       "      <th>AAPL</th>\n",
       "      <th>1995-01-03</th>\n",
       "      <td>1.235069</td>\n",
       "      <td>1.235069</td>\n",
       "      <td>1.203303</td>\n",
       "      <td>1.219186</td>\n",
       "      <td>2.596720e+07</td>\n",
       "      <td>Technology</td>\n",
       "    </tr>\n",
       "    <tr>\n",
       "      <th>ABAX</th>\n",
       "      <th>1995-01-03</th>\n",
       "      <td>3.296526</td>\n",
       "      <td>3.531992</td>\n",
       "      <td>3.178793</td>\n",
       "      <td>3.414259</td>\n",
       "      <td>2.560000e+04</td>\n",
       "      <td>Capital Goods</td>\n",
       "    </tr>\n",
       "    <tr>\n",
       "      <th>ABCB</th>\n",
       "      <th>1995-01-03</th>\n",
       "      <td>3.236605</td>\n",
       "      <td>3.236605</td>\n",
       "      <td>3.079217</td>\n",
       "      <td>3.079217</td>\n",
       "      <td>5.188000e+03</td>\n",
       "      <td>Finance</td>\n",
       "    </tr>\n",
       "    <tr>\n",
       "      <th>...</th>\n",
       "      <th>...</th>\n",
       "      <td>...</td>\n",
       "      <td>...</td>\n",
       "      <td>...</td>\n",
       "      <td>...</td>\n",
       "      <td>...</td>\n",
       "      <td>...</td>\n",
       "    </tr>\n",
       "    <tr>\n",
       "      <th>ZIXI</th>\n",
       "      <th>2017-12-29</th>\n",
       "      <td>4.420000</td>\n",
       "      <td>4.496200</td>\n",
       "      <td>4.380000</td>\n",
       "      <td>4.380000</td>\n",
       "      <td>1.856210e+05</td>\n",
       "      <td>Technology</td>\n",
       "    </tr>\n",
       "    <tr>\n",
       "      <th>ZNGA</th>\n",
       "      <th>2017-12-29</th>\n",
       "      <td>3.990000</td>\n",
       "      <td>4.000000</td>\n",
       "      <td>3.930000</td>\n",
       "      <td>4.000000</td>\n",
       "      <td>5.179307e+06</td>\n",
       "      <td>Technology</td>\n",
       "    </tr>\n",
       "    <tr>\n",
       "      <th>ZOES</th>\n",
       "      <th>2017-12-29</th>\n",
       "      <td>17.270000</td>\n",
       "      <td>17.270000</td>\n",
       "      <td>16.630000</td>\n",
       "      <td>16.720000</td>\n",
       "      <td>3.892460e+05</td>\n",
       "      <td>Consumer Services</td>\n",
       "    </tr>\n",
       "    <tr>\n",
       "      <th>ZTS</th>\n",
       "      <th>2017-12-29</th>\n",
       "      <td>72.550000</td>\n",
       "      <td>72.760000</td>\n",
       "      <td>72.040000</td>\n",
       "      <td>72.040000</td>\n",
       "      <td>1.687995e+06</td>\n",
       "      <td>Health Care</td>\n",
       "    </tr>\n",
       "    <tr>\n",
       "      <th>ZUMZ</th>\n",
       "      <th>2017-12-29</th>\n",
       "      <td>21.250000</td>\n",
       "      <td>21.450000</td>\n",
       "      <td>20.800000</td>\n",
       "      <td>20.825000</td>\n",
       "      <td>2.220400e+05</td>\n",
       "      <td>Consumer Services</td>\n",
       "    </tr>\n",
       "  </tbody>\n",
       "</table>\n",
       "<p>10241831 rows × 6 columns</p>\n",
       "</div>"
      ],
      "text/plain": [
       "                        open       high        low      close        volume  \\\n",
       "ticker date                                                                   \n",
       "AAN    1995-01-03   1.778191   1.778191   1.778191   1.778191  0.000000e+00   \n",
       "AAON   1995-01-03   0.959805   1.006921   0.959805   0.997802  2.462995e+05   \n",
       "AAPL   1995-01-03   1.235069   1.235069   1.203303   1.219186  2.596720e+07   \n",
       "ABAX   1995-01-03   3.296526   3.531992   3.178793   3.414259  2.560000e+04   \n",
       "ABCB   1995-01-03   3.236605   3.236605   3.079217   3.079217  5.188000e+03   \n",
       "...                      ...        ...        ...        ...           ...   \n",
       "ZIXI   2017-12-29   4.420000   4.496200   4.380000   4.380000  1.856210e+05   \n",
       "ZNGA   2017-12-29   3.990000   4.000000   3.930000   4.000000  5.179307e+06   \n",
       "ZOES   2017-12-29  17.270000  17.270000  16.630000  16.720000  3.892460e+05   \n",
       "ZTS    2017-12-29  72.550000  72.760000  72.040000  72.040000  1.687995e+06   \n",
       "ZUMZ   2017-12-29  21.250000  21.450000  20.800000  20.825000  2.220400e+05   \n",
       "\n",
       "                              sector  \n",
       "ticker date                           \n",
       "AAN    1995-01-03         Technology  \n",
       "AAON   1995-01-03      Capital Goods  \n",
       "AAPL   1995-01-03         Technology  \n",
       "ABAX   1995-01-03      Capital Goods  \n",
       "ABCB   1995-01-03            Finance  \n",
       "...                              ...  \n",
       "ZIXI   2017-12-29         Technology  \n",
       "ZNGA   2017-12-29         Technology  \n",
       "ZOES   2017-12-29  Consumer Services  \n",
       "ZTS    2017-12-29        Health Care  \n",
       "ZUMZ   2017-12-29  Consumer Services  \n",
       "\n",
       "[10241831 rows x 6 columns]"
      ]
     },
     "execution_count": 9,
     "metadata": {},
     "output_type": "execute_result"
    }
   ],
   "source": [
    "prices"
   ]
  },
  {
   "cell_type": "code",
   "execution_count": 10,
   "metadata": {
    "ExecuteTime": {
     "end_time": "2021-02-23T20:29:24.974142Z",
     "start_time": "2021-02-23T20:29:24.890337Z"
    }
   },
   "outputs": [
    {
     "data": {
      "text/plain": [
       "2369"
      ]
     },
     "execution_count": 10,
     "metadata": {},
     "output_type": "execute_result"
    }
   ],
   "source": [
    "len(prices.index.unique('ticker'))"
   ]
  },
  {
   "cell_type": "markdown",
   "metadata": {},
   "source": [
    "## Remove stocks with less than ten years of data"
   ]
  },
  {
   "cell_type": "code",
   "execution_count": 11,
   "metadata": {
    "ExecuteTime": {
     "end_time": "2021-02-23T20:30:10.981706Z",
     "start_time": "2021-02-23T20:29:24.975850Z"
    }
   },
   "outputs": [],
   "source": [
    "min_obs = 10 * 252\n",
    "nobs = prices.groupby(level='ticker').size()\n",
    "to_drop = nobs[nobs < min_obs].index\n",
    "prices = prices.drop(to_drop, level='ticker')"
   ]
  },
  {
   "cell_type": "code",
   "execution_count": 12,
   "metadata": {
    "ExecuteTime": {
     "end_time": "2021-02-23T20:30:11.434460Z",
     "start_time": "2021-02-23T20:30:10.982824Z"
    }
   },
   "outputs": [
    {
     "name": "stdout",
     "output_type": "stream",
     "text": [
      "<class 'pandas.core.frame.DataFrame'>\n",
      "MultiIndex: 9532628 entries, ('AAN', Timestamp('1995-01-03 00:00:00')) to ('ZUMZ', Timestamp('2017-12-29 00:00:00'))\n",
      "Data columns (total 6 columns):\n",
      " #   Column  Non-Null Count    Dtype  \n",
      "---  ------  --------------    -----  \n",
      " 0   open    9532628 non-null  float64\n",
      " 1   high    9532628 non-null  float64\n",
      " 2   low     9532628 non-null  float64\n",
      " 3   close   9532628 non-null  float64\n",
      " 4   volume  9532628 non-null  float64\n",
      " 5   sector  9532628 non-null  object \n",
      "dtypes: float64(5), object(1)\n",
      "memory usage: 473.5+ MB\n"
     ]
    }
   ],
   "source": [
    "prices.info(null_counts=True)"
   ]
  },
  {
   "cell_type": "code",
   "execution_count": 13,
   "metadata": {
    "ExecuteTime": {
     "end_time": "2021-02-23T20:30:11.509683Z",
     "start_time": "2021-02-23T20:30:11.435475Z"
    }
   },
   "outputs": [
    {
     "data": {
      "text/plain": [
       "1883"
      ]
     },
     "execution_count": 13,
     "metadata": {},
     "output_type": "execute_result"
    }
   ],
   "source": [
    "len(prices.index.unique('ticker'))"
   ]
  },
  {
   "cell_type": "markdown",
   "metadata": {},
   "source": [
    "## Add some Basic Factors"
   ]
  },
  {
   "cell_type": "markdown",
   "metadata": {},
   "source": [
    "### Compute the Relative Strength Index"
   ]
  },
  {
   "cell_type": "code",
   "execution_count": 14,
   "metadata": {
    "ExecuteTime": {
     "end_time": "2021-02-23T20:30:58.402376Z",
     "start_time": "2021-02-23T20:30:11.510780Z"
    }
   },
   "outputs": [],
   "source": [
    "prices['rsi'] = prices.groupby(level='ticker').close.apply(RSI)\n",
    "# 相对强弱指标,RSI=100-[100/(1+RS)] ,RS=14天内收市价上涨数之和的平均值/14天内收市价下跌数之和的平均值"
   ]
  },
  {
   "cell_type": "code",
   "execution_count": 15,
   "metadata": {},
   "outputs": [
    {
     "data": {
      "text/plain": [
       "ticker  date      \n",
       "AAN     1995-01-03          NaN\n",
       "AAON    1995-01-03          NaN\n",
       "AAPL    1995-01-03          NaN\n",
       "ABAX    1995-01-03          NaN\n",
       "ABCB    1995-01-03          NaN\n",
       "                        ...    \n",
       "ZEUS    2017-12-29    54.357447\n",
       "ZION    2017-12-29    57.076071\n",
       "ZIOP    2017-12-29    44.348071\n",
       "ZIXI    2017-12-29    45.400332\n",
       "ZUMZ    2017-12-29    52.959469\n",
       "Name: rsi, Length: 9532628, dtype: float64"
      ]
     },
     "execution_count": 15,
     "metadata": {},
     "output_type": "execute_result"
    }
   ],
   "source": [
    "prices['rsi'] "
   ]
  },
  {
   "cell_type": "code",
   "execution_count": 16,
   "metadata": {
    "ExecuteTime": {
     "end_time": "2021-02-23T20:31:21.858293Z",
     "start_time": "2021-02-23T20:30:58.403322Z"
    }
   },
   "outputs": [
    {
     "data": {
      "image/png": "[encoded data removed]",
      "text/plain": [
       "<Figure size 640x480 with 1 Axes>"
      ]
     },
     "metadata": {},
     "output_type": "display_data"
    }
   ],
   "source": [
    "sns.distplot(prices.rsi);"
   ]
  },
  {
   "cell_type": "markdown",
   "metadata": {},
   "source": [
    "### Compute Bollinger Bands"
   ]
  },
  {
   "cell_type": "code",
   "execution_count": 23,
   "metadata": {
    "ExecuteTime": {
     "end_time": "2021-02-23T20:31:21.862142Z",
     "start_time": "2021-02-23T20:31:21.859408Z"
    }
   },
   "outputs": [],
   "source": [
    "def compute_bb(close):\n",
    "    high, mid, low = BBANDS(np.log1p(close), timeperiod=20) #log1p(x)=log(1+x)\n",
    "    return pd.DataFrame({'bb_high': high,\n",
    "                         'bb_mid': mid,\n",
    "                         'bb_low': low}, index=close.index)"
   ]
  },
  {
   "cell_type": "markdown",
   "metadata": {},
   "source": [
    "布林线，BOLL指标（Bollinger Bands）。利用统计原理，求出股价的标准差及其信赖区间，以确定波动范围及未来走势。\n",
    "中轨线=N日的移动平均线。\n",
    "上轨线=中轨线+两倍的标准差。\n",
    "下轨线=中轨线－两倍的标准差。"
   ]
  },
  {
   "cell_type": "code",
   "execution_count": 24,
   "metadata": {
    "ExecuteTime": {
     "end_time": "2021-02-23T20:32:27.635722Z",
     "start_time": "2021-02-23T20:31:21.863546Z"
    }
   },
   "outputs": [],
   "source": [
    "prices = (prices.join(prices\n",
    "                      .groupby(level='ticker')\n",
    "                      .close\n",
    "                      .apply(compute_bb)))"
   ]
  },
  {
   "cell_type": "code",
   "execution_count": 25,
   "metadata": {
    "ExecuteTime": {
     "end_time": "2021-02-23T20:32:28.025953Z",
     "start_time": "2021-02-23T20:32:27.636648Z"
    }
   },
   "outputs": [
    {
     "name": "stdout",
     "output_type": "stream",
     "text": [
      "<class 'pandas.core.frame.DataFrame'>\n",
      "MultiIndex: 9532628 entries, ('AAN', Timestamp('1995-01-03 00:00:00')) to ('ZUMZ', Timestamp('2017-12-29 00:00:00'))\n",
      "Data columns (total 10 columns):\n",
      " #   Column   Non-Null Count    Dtype  \n",
      "---  ------   --------------    -----  \n",
      " 0   open     9532628 non-null  float64\n",
      " 1   high     9532628 non-null  float64\n",
      " 2   low      9532628 non-null  float64\n",
      " 3   close    9532628 non-null  float64\n",
      " 4   volume   9532628 non-null  float64\n",
      " 5   sector   9532628 non-null  object \n",
      " 6   rsi      9506266 non-null  float64\n",
      " 7   bb_high  9496851 non-null  float64\n",
      " 8   bb_mid   9496851 non-null  float64\n",
      " 9   bb_low   9496851 non-null  float64\n",
      "dtypes: float64(9), object(1)\n",
      "memory usage: 1022.4+ MB\n"
     ]
    }
   ],
   "source": [
    "prices.info(null_counts=True)"
   ]
  },
  {
   "cell_type": "code",
   "execution_count": 26,
   "metadata": {
    "ExecuteTime": {
     "end_time": "2021-02-23T20:32:29.422206Z",
     "start_time": "2021-02-23T20:32:28.026886Z"
    }
   },
   "outputs": [
    {
     "data": {
      "text/html": [
       "<div>\n",
       "<style scoped>\n",
       "    .dataframe tbody tr th:only-of-type {\n",
       "        vertical-align: middle;\n",
       "    }\n",
       "\n",
       "    .dataframe tbody tr th {\n",
       "        vertical-align: top;\n",
       "    }\n",
       "\n",
       "    .dataframe thead th {\n",
       "        text-align: right;\n",
       "    }\n",
       "</style>\n",
       "<table border=\"1\" class=\"dataframe\">\n",
       "  <thead>\n",
       "    <tr style=\"text-align: right;\">\n",
       "      <th></th>\n",
       "      <th>bb_high</th>\n",
       "      <th>bb_mid</th>\n",
       "      <th>bb_low</th>\n",
       "    </tr>\n",
       "  </thead>\n",
       "  <tbody>\n",
       "    <tr>\n",
       "      <th>count</th>\n",
       "      <td>9.496851e+06</td>\n",
       "      <td>9.496851e+06</td>\n",
       "      <td>9.496851e+06</td>\n",
       "    </tr>\n",
       "    <tr>\n",
       "      <th>mean</th>\n",
       "      <td>2.954140e+00</td>\n",
       "      <td>2.881157e+00</td>\n",
       "      <td>2.808174e+00</td>\n",
       "    </tr>\n",
       "    <tr>\n",
       "      <th>std</th>\n",
       "      <td>1.024536e+00</td>\n",
       "      <td>1.026901e+00</td>\n",
       "      <td>1.032999e+00</td>\n",
       "    </tr>\n",
       "    <tr>\n",
       "      <th>min</th>\n",
       "      <td>8.933146e-03</td>\n",
       "      <td>8.933146e-03</td>\n",
       "      <td>-1.568426e+00</td>\n",
       "    </tr>\n",
       "    <tr>\n",
       "      <th>25%</th>\n",
       "      <td>2.303724e+00</td>\n",
       "      <td>2.226078e+00</td>\n",
       "      <td>2.146471e+00</td>\n",
       "    </tr>\n",
       "    <tr>\n",
       "      <th>50%</th>\n",
       "      <td>2.940911e+00</td>\n",
       "      <td>2.868116e+00</td>\n",
       "      <td>2.796484e+00</td>\n",
       "    </tr>\n",
       "    <tr>\n",
       "      <th>75%</th>\n",
       "      <td>3.555602e+00</td>\n",
       "      <td>3.487039e+00</td>\n",
       "      <td>3.420498e+00</td>\n",
       "    </tr>\n",
       "    <tr>\n",
       "      <th>max</th>\n",
       "      <td>1.376991e+01</td>\n",
       "      <td>1.358056e+01</td>\n",
       "      <td>1.346225e+01</td>\n",
       "    </tr>\n",
       "  </tbody>\n",
       "</table>\n",
       "</div>"
      ],
      "text/plain": [
       "            bb_high        bb_mid        bb_low\n",
       "count  9.496851e+06  9.496851e+06  9.496851e+06\n",
       "mean   2.954140e+00  2.881157e+00  2.808174e+00\n",
       "std    1.024536e+00  1.026901e+00  1.032999e+00\n",
       "min    8.933146e-03  8.933146e-03 -1.568426e+00\n",
       "25%    2.303724e+00  2.226078e+00  2.146471e+00\n",
       "50%    2.940911e+00  2.868116e+00  2.796484e+00\n",
       "75%    3.555602e+00  3.487039e+00  3.420498e+00\n",
       "max    1.376991e+01  1.358056e+01  1.346225e+01"
      ]
     },
     "execution_count": 26,
     "metadata": {},
     "output_type": "execute_result"
    }
   ],
   "source": [
    "prices.filter(like='bb_').describe()"
   ]
  },
  {
   "cell_type": "code",
   "execution_count": 27,
   "metadata": {
    "ExecuteTime": {
     "end_time": "2021-02-23T20:33:37.302678Z",
     "start_time": "2021-02-23T20:32:29.423220Z"
    }
   },
   "outputs": [
    {
     "data": {
      "image/png": "[encoded data removed]",
      "text/plain": [
       "<Figure size 1500x400 with 3 Axes>"
      ]
     },
     "metadata": {},
     "output_type": "display_data"
    }
   ],
   "source": [
    "fig, axes = plt.subplots(ncols=3, figsize=(15,4))\n",
    "for i, col in enumerate(['bb_low', 'bb_mid', 'bb_low']):\n",
    "    sns.distplot(prices[col], ax=axes[i])\n",
    "    axes[i].set_title(col);\n",
    "fig.tight_layout();"
   ]
  },
  {
   "cell_type": "code",
   "execution_count": 28,
   "metadata": {
    "ExecuteTime": {
     "end_time": "2021-02-23T20:33:37.614610Z",
     "start_time": "2021-02-23T20:33:37.303801Z"
    }
   },
   "outputs": [],
   "source": [
    "prices['bb_up'] = prices.bb_high.sub(np.log1p(prices.close)) #计算布林线上涨百分比指标\n",
    "prices['bb_down'] = np.log1p(prices.close).sub(prices.bb_low)"
   ]
  },
  {
   "cell_type": "code",
   "execution_count": 29,
   "metadata": {
    "ExecuteTime": {
     "end_time": "2021-02-23T20:33:42.626284Z",
     "start_time": "2021-02-23T20:33:37.615839Z"
    },
    "scrolled": true
   },
   "outputs": [
    {
     "data": {
      "image/png": "[encoded data removed]",
      "text/plain": [
       "<Figure size 1000x400 with 2 Axes>"
      ]
     },
     "metadata": {},
     "output_type": "display_data"
    }
   ],
   "source": [
    "fig, axes = plt.subplots(ncols=2, figsize=(10,4))\n",
    "for i, col in enumerate(['bb_down', 'bb_up']):\n",
    "    sns.boxenplot(prices[col], ax=axes[i])\n",
    "    axes[i].set_title(col);\n",
    "fig.tight_layout();"
   ]
  },
  {
   "cell_type": "markdown",
   "metadata": {},
   "source": [
    "### Compute Average True Range"
   ]
  },
  {
   "cell_type": "markdown",
   "metadata": {},
   "source": [
    "Helper for indicators with multiple inputs:"
   ]
  },
  {
   "cell_type": "code",
   "execution_count": 31,
   "metadata": {
    "ExecuteTime": {
     "end_time": "2021-02-23T20:33:42.827296Z",
     "start_time": "2021-02-23T20:33:42.627221Z"
    }
   },
   "outputs": [],
   "source": [
    "by_ticker = prices.groupby('ticker', group_keys=False)  #不生成新引索"
   ]
  },
  {
   "cell_type": "code",
   "execution_count": 33,
   "metadata": {
    "ExecuteTime": {
     "end_time": "2021-02-23T20:33:42.831678Z",
     "start_time": "2021-02-23T20:33:42.828250Z"
    }
   },
   "outputs": [],
   "source": [
    "def compute_atr(stock_data):\n",
    "    atr = ATR(stock_data.high, \n",
    "              stock_data.low, \n",
    "              stock_data.close, \n",
    "              timeperiod=14)\n",
    "    return atr.sub(atr.mean()).div(atr.std())"
   ]
  },
  {
   "cell_type": "markdown",
   "metadata": {},
   "source": [
    "ATR，平均真实波动幅度指标，波动率水平越高，ATR值越高，反之，波动率水平越低，ATR值也越低。"
   ]
  },
  {
   "cell_type": "markdown",
   "metadata": {},
   "source": [
    "TRt = max(Ht,Ct-1)-min(Lt,Ct-1)，ATR=TRt在14日内的均值"
   ]
  },
  {
   "cell_type": "code",
   "execution_count": 34,
   "metadata": {
    "ExecuteTime": {
     "end_time": "2021-02-23T20:34:04.342244Z",
     "start_time": "2021-02-23T20:33:42.833588Z"
    }
   },
   "outputs": [],
   "source": [
    "prices['atr'] = by_ticker.apply(compute_atr)"
   ]
  },
  {
   "cell_type": "code",
   "execution_count": 35,
   "metadata": {
    "ExecuteTime": {
     "end_time": "2021-02-23T20:34:27.080212Z",
     "start_time": "2021-02-23T20:34:04.343606Z"
    }
   },
   "outputs": [
    {
     "data": {
      "image/png": "[encoded data removed]",
      "text/plain": [
       "<Figure size 640x480 with 1 Axes>"
      ]
     },
     "metadata": {},
     "output_type": "display_data"
    }
   ],
   "source": [
    "sns.distplot(prices.atr);"
   ]
  },
  {
   "cell_type": "code",
   "execution_count": 36,
   "metadata": {
    "ExecuteTime": {
     "end_time": "2021-02-23T20:34:48.557533Z",
     "start_time": "2021-02-23T20:34:27.081545Z"
    }
   },
   "outputs": [],
   "source": [
    "prices['natr'] = by_ticker.apply(lambda x: NATR(high=x.high, low=x.low, close=x.close)) #NATR= ATR/close * 100"
   ]
  },
  {
   "cell_type": "code",
   "execution_count": 37,
   "metadata": {
    "ExecuteTime": {
     "end_time": "2021-02-23T20:35:12.618207Z",
     "start_time": "2021-02-23T20:34:48.558475Z"
    }
   },
   "outputs": [
    {
     "data": {
      "image/png": "[encoded data removed]",
      "text/plain": [
       "<Figure size 640x480 with 1 Axes>"
      ]
     },
     "metadata": {},
     "output_type": "display_data"
    }
   ],
   "source": [
    "sns.distplot(prices.natr[prices.natr<10]);"
   ]
  },
  {
   "cell_type": "markdown",
   "metadata": {},
   "source": [
    "### Compute Moving Average Convergence/Divergence"
   ]
  },
  {
   "cell_type": "code",
   "execution_count": 38,
   "metadata": {
    "ExecuteTime": {
     "end_time": "2021-02-23T20:36:07.366887Z",
     "start_time": "2021-02-23T20:35:12.619395Z"
    },
    "scrolled": false
   },
   "outputs": [],
   "source": [
    "def compute_macd(close):\n",
    "    macd = MACD(close)[0]\n",
    "    return macd.sub(macd.mean()).div(macd.std()) #标准化\n",
    "\n",
    "prices['macd'] = prices.groupby(level='ticker').close.apply(compute_macd)"
   ]
  },
  {
   "cell_type": "raw",
   "metadata": {},
   "source": [
    "EMA（12）=前一日EMA（12）×11/13+今日收盘价×2/13\n",
    "EMA（26）=前一日EMA（26）×25/27+今日收盘价×2/27\n",
    "DIF=今日EMA（12）－今日EMA（26）\n",
    "今日DEA（MACD）=前一日DEA×8/10+今日DIF×2/10\n",
    "(DIF-DEA)×2即为MACD柱状图\n",
    "快速线（白色线）为DIF，慢速线（黄色线）为DEA"
   ]
  },
  {
   "cell_type": "code",
   "execution_count": 39,
   "metadata": {
    "ExecuteTime": {
     "end_time": "2021-02-23T20:36:31.231218Z",
     "start_time": "2021-02-23T20:36:07.368084Z"
    }
   },
   "outputs": [
    {
     "data": {
      "image/png": "[encoded data removed]",
      "text/plain": [
       "<Figure size 640x480 with 1 Axes>"
      ]
     },
     "metadata": {},
     "output_type": "display_data"
    }
   ],
   "source": [
    "sns.distplot(prices.macd);"
   ]
  },
  {
   "cell_type": "markdown",
   "metadata": {},
   "source": [
    "## Compute dollar volume to determine universe"
   ]
  },
  {
   "cell_type": "code",
   "execution_count": 40,
   "metadata": {
    "ExecuteTime": {
     "end_time": "2021-02-23T20:36:31.308363Z",
     "start_time": "2021-02-23T20:36:31.232479Z"
    }
   },
   "outputs": [],
   "source": [
    "prices['dollar_volume'] = (prices.loc[:, 'close']\n",
    "                           .mul(prices.loc[:, 'volume'], axis=0))\n",
    "\n",
    "prices.dollar_volume /= 1e6"
   ]
  },
  {
   "cell_type": "code",
   "execution_count": 42,
   "metadata": {
    "ExecuteTime": {
     "end_time": "2021-02-23T20:36:32.915677Z",
     "start_time": "2021-02-23T20:36:31.309455Z"
    }
   },
   "outputs": [],
   "source": [
    "prices.to_hdf('data.h5', 'us/equities/prices')"
   ]
  },
  {
   "cell_type": "code",
   "execution_count": 43,
   "metadata": {
    "ExecuteTime": {
     "end_time": "2021-02-23T20:36:36.371266Z",
     "start_time": "2021-02-23T20:36:32.917114Z"
    }
   },
   "outputs": [
    {
     "name": "stdout",
     "output_type": "stream",
     "text": [
      "<class 'pandas.core.frame.DataFrame'>\n",
      "MultiIndex: 9532628 entries, ('AAN', Timestamp('1995-01-03 00:00:00')) to ('ZUMZ', Timestamp('2017-12-29 00:00:00'))\n",
      "Data columns (total 16 columns):\n",
      " #   Column         Non-Null Count    Dtype  \n",
      "---  ------         --------------    -----  \n",
      " 0   open           9532628 non-null  float64\n",
      " 1   high           9532628 non-null  float64\n",
      " 2   low            9532628 non-null  float64\n",
      " 3   close          9532628 non-null  float64\n",
      " 4   volume         9532628 non-null  float64\n",
      " 5   sector         9532628 non-null  object \n",
      " 6   rsi            9506266 non-null  float64\n",
      " 7   bb_high        9496851 non-null  float64\n",
      " 8   bb_mid         9496851 non-null  float64\n",
      " 9   bb_low         9496851 non-null  float64\n",
      " 10  bb_up          9496851 non-null  float64\n",
      " 11  bb_down        9496851 non-null  float64\n",
      " 12  atr            9506266 non-null  float64\n",
      " 13  natr           9506266 non-null  float64\n",
      " 14  macd           9470489 non-null  float64\n",
      " 15  dollar_volume  9532628 non-null  float64\n",
      "dtypes: float64(15), object(1)\n",
      "memory usage: 1.2+ GB\n"
     ]
    }
   ],
   "source": [
    "prices = pd.read_hdf('data.h5', 'us/equities/prices')\n",
    "prices.info(null_counts=True)"
   ]
  },
  {
   "cell_type": "markdown",
   "metadata": {},
   "source": [
    "## Resample OHLCV prices to monthly frequency"
   ]
  },
  {
   "cell_type": "markdown",
   "metadata": {},
   "source": [
    "To reduce training time and experiment with strategies for longer time horizons, we convert the business-daily data to month-end frequency using the available adjusted close price:"
   ]
  },
  {
   "cell_type": "code",
   "execution_count": 44,
   "metadata": {
    "ExecuteTime": {
     "end_time": "2021-02-23T20:36:36.374719Z",
     "start_time": "2021-02-23T20:36:36.372390Z"
    }
   },
   "outputs": [],
   "source": [
    "last_cols = [c for c in prices.columns.unique(0) if c not in ['dollar_volume', 'volume',\n",
    "                                                              'open', 'high', 'low']]"
   ]
  },
  {
   "cell_type": "code",
   "execution_count": 45,
   "metadata": {
    "ExecuteTime": {
     "end_time": "2021-02-23T20:36:39.763558Z",
     "start_time": "2021-02-23T20:36:36.375717Z"
    }
   },
   "outputs": [],
   "source": [
    "prices = prices.unstack('ticker')"
   ]
  },
  {
   "cell_type": "code",
   "execution_count": 46,
   "metadata": {},
   "outputs": [
    {
     "data": {
      "text/html": [
       "<div>\n",
       "<style scoped>\n",
       "    .dataframe tbody tr th:only-of-type {\n",
       "        vertical-align: middle;\n",
       "    }\n",
       "\n",
       "    .dataframe tbody tr th {\n",
       "        vertical-align: top;\n",
       "    }\n",
       "\n",
       "    .dataframe thead tr th {\n",
       "        text-align: left;\n",
       "    }\n",
       "\n",
       "    .dataframe thead tr:last-of-type th {\n",
       "        text-align: right;\n",
       "    }\n",
       "</style>\n",
       "<table border=\"1\" class=\"dataframe\">\n",
       "  <thead>\n",
       "    <tr>\n",
       "      <th></th>\n",
       "      <th colspan=\"10\" halign=\"left\">open</th>\n",
       "      <th>...</th>\n",
       "      <th colspan=\"10\" halign=\"left\">dollar_volume</th>\n",
       "    </tr>\n",
       "    <tr>\n",
       "      <th>ticker</th>\n",
       "      <th>AAN</th>\n",
       "      <th>AAON</th>\n",
       "      <th>AAPL</th>\n",
       "      <th>ABAX</th>\n",
       "      <th>ABCB</th>\n",
       "      <th>ABM</th>\n",
       "      <th>ABMD</th>\n",
       "      <th>ABT</th>\n",
       "      <th>ACET</th>\n",
       "      <th>ACHC</th>\n",
       "      <th>...</th>\n",
       "      <th>CIM</th>\n",
       "      <th>ARR</th>\n",
       "      <th>KW</th>\n",
       "      <th>GTS</th>\n",
       "      <th>CATM</th>\n",
       "      <th>FOR</th>\n",
       "      <th>LRN</th>\n",
       "      <th>TITN</th>\n",
       "      <th>TNK</th>\n",
       "      <th>ORN</th>\n",
       "    </tr>\n",
       "    <tr>\n",
       "      <th>date</th>\n",
       "      <th></th>\n",
       "      <th></th>\n",
       "      <th></th>\n",
       "      <th></th>\n",
       "      <th></th>\n",
       "      <th></th>\n",
       "      <th></th>\n",
       "      <th></th>\n",
       "      <th></th>\n",
       "      <th></th>\n",
       "      <th></th>\n",
       "      <th></th>\n",
       "      <th></th>\n",
       "      <th></th>\n",
       "      <th></th>\n",
       "      <th></th>\n",
       "      <th></th>\n",
       "      <th></th>\n",
       "      <th></th>\n",
       "      <th></th>\n",
       "      <th></th>\n",
       "    </tr>\n",
       "  </thead>\n",
       "  <tbody>\n",
       "    <tr>\n",
       "      <th>1995-01-03</th>\n",
       "      <td>1.778191</td>\n",
       "      <td>0.959805</td>\n",
       "      <td>1.235069</td>\n",
       "      <td>3.296526</td>\n",
       "      <td>3.236605</td>\n",
       "      <td>3.436434</td>\n",
       "      <td>2.6250</td>\n",
       "      <td>4.268868</td>\n",
       "      <td>1.706428</td>\n",
       "      <td>24.00</td>\n",
       "      <td>...</td>\n",
       "      <td>NaN</td>\n",
       "      <td>NaN</td>\n",
       "      <td>NaN</td>\n",
       "      <td>NaN</td>\n",
       "      <td>NaN</td>\n",
       "      <td>NaN</td>\n",
       "      <td>NaN</td>\n",
       "      <td>NaN</td>\n",
       "      <td>NaN</td>\n",
       "      <td>NaN</td>\n",
       "    </tr>\n",
       "    <tr>\n",
       "      <th>1995-01-04</th>\n",
       "      <td>1.725194</td>\n",
       "      <td>1.006921</td>\n",
       "      <td>1.227128</td>\n",
       "      <td>3.414259</td>\n",
       "      <td>3.173142</td>\n",
       "      <td>3.344280</td>\n",
       "      <td>2.5625</td>\n",
       "      <td>4.318781</td>\n",
       "      <td>1.605839</td>\n",
       "      <td>24.00</td>\n",
       "      <td>...</td>\n",
       "      <td>NaN</td>\n",
       "      <td>NaN</td>\n",
       "      <td>NaN</td>\n",
       "      <td>NaN</td>\n",
       "      <td>NaN</td>\n",
       "      <td>NaN</td>\n",
       "      <td>NaN</td>\n",
       "      <td>NaN</td>\n",
       "      <td>NaN</td>\n",
       "      <td>NaN</td>\n",
       "    </tr>\n",
       "    <tr>\n",
       "      <th>1995-01-05</th>\n",
       "      <td>1.778191</td>\n",
       "      <td>1.101914</td>\n",
       "      <td>1.246823</td>\n",
       "      <td>3.649725</td>\n",
       "      <td>3.173142</td>\n",
       "      <td>3.344280</td>\n",
       "      <td>2.8750</td>\n",
       "      <td>4.285944</td>\n",
       "      <td>1.632183</td>\n",
       "      <td>24.00</td>\n",
       "      <td>...</td>\n",
       "      <td>NaN</td>\n",
       "      <td>NaN</td>\n",
       "      <td>NaN</td>\n",
       "      <td>NaN</td>\n",
       "      <td>NaN</td>\n",
       "      <td>NaN</td>\n",
       "      <td>NaN</td>\n",
       "      <td>NaN</td>\n",
       "      <td>NaN</td>\n",
       "      <td>NaN</td>\n",
       "    </tr>\n",
       "    <tr>\n",
       "      <th>1995-01-06</th>\n",
       "      <td>1.725194</td>\n",
       "      <td>1.054798</td>\n",
       "      <td>1.322426</td>\n",
       "      <td>4.238390</td>\n",
       "      <td>3.046217</td>\n",
       "      <td>3.362116</td>\n",
       "      <td>2.7500</td>\n",
       "      <td>4.268868</td>\n",
       "      <td>1.646553</td>\n",
       "      <td>24.00</td>\n",
       "      <td>...</td>\n",
       "      <td>NaN</td>\n",
       "      <td>NaN</td>\n",
       "      <td>NaN</td>\n",
       "      <td>NaN</td>\n",
       "      <td>NaN</td>\n",
       "      <td>NaN</td>\n",
       "      <td>NaN</td>\n",
       "      <td>NaN</td>\n",
       "      <td>NaN</td>\n",
       "      <td>NaN</td>\n",
       "    </tr>\n",
       "    <tr>\n",
       "      <th>1995-01-09</th>\n",
       "      <td>1.778191</td>\n",
       "      <td>1.082915</td>\n",
       "      <td>1.322426</td>\n",
       "      <td>4.002924</td>\n",
       "      <td>3.046217</td>\n",
       "      <td>3.422940</td>\n",
       "      <td>2.6875</td>\n",
       "      <td>4.212490</td>\n",
       "      <td>1.646553</td>\n",
       "      <td>24.00</td>\n",
       "      <td>...</td>\n",
       "      <td>NaN</td>\n",
       "      <td>NaN</td>\n",
       "      <td>NaN</td>\n",
       "      <td>NaN</td>\n",
       "      <td>NaN</td>\n",
       "      <td>NaN</td>\n",
       "      <td>NaN</td>\n",
       "      <td>NaN</td>\n",
       "      <td>NaN</td>\n",
       "      <td>NaN</td>\n",
       "    </tr>\n",
       "    <tr>\n",
       "      <th>...</th>\n",
       "      <td>...</td>\n",
       "      <td>...</td>\n",
       "      <td>...</td>\n",
       "      <td>...</td>\n",
       "      <td>...</td>\n",
       "      <td>...</td>\n",
       "      <td>...</td>\n",
       "      <td>...</td>\n",
       "      <td>...</td>\n",
       "      <td>...</td>\n",
       "      <td>...</td>\n",
       "      <td>...</td>\n",
       "      <td>...</td>\n",
       "      <td>...</td>\n",
       "      <td>...</td>\n",
       "      <td>...</td>\n",
       "      <td>...</td>\n",
       "      <td>...</td>\n",
       "      <td>...</td>\n",
       "      <td>...</td>\n",
       "      <td>...</td>\n",
       "    </tr>\n",
       "    <tr>\n",
       "      <th>2017-12-22</th>\n",
       "      <td>40.080000</td>\n",
       "      <td>36.500000</td>\n",
       "      <td>174.680000</td>\n",
       "      <td>48.790000</td>\n",
       "      <td>49.450000</td>\n",
       "      <td>38.390000</td>\n",
       "      <td>190.9200</td>\n",
       "      <td>57.100000</td>\n",
       "      <td>10.320000</td>\n",
       "      <td>31.93</td>\n",
       "      <td>...</td>\n",
       "      <td>19.803890</td>\n",
       "      <td>8.523758</td>\n",
       "      <td>21.486877</td>\n",
       "      <td>2.316577</td>\n",
       "      <td>5.429883</td>\n",
       "      <td>3.427137</td>\n",
       "      <td>1.811882</td>\n",
       "      <td>3.851540</td>\n",
       "      <td>1.606720</td>\n",
       "      <td>0.273170</td>\n",
       "    </tr>\n",
       "    <tr>\n",
       "      <th>2017-12-26</th>\n",
       "      <td>40.150000</td>\n",
       "      <td>36.700000</td>\n",
       "      <td>170.800000</td>\n",
       "      <td>49.380000</td>\n",
       "      <td>49.150000</td>\n",
       "      <td>38.110000</td>\n",
       "      <td>191.3100</td>\n",
       "      <td>57.010000</td>\n",
       "      <td>10.310000</td>\n",
       "      <td>32.35</td>\n",
       "      <td>...</td>\n",
       "      <td>25.760220</td>\n",
       "      <td>6.173625</td>\n",
       "      <td>25.633185</td>\n",
       "      <td>1.632204</td>\n",
       "      <td>5.174393</td>\n",
       "      <td>1.903951</td>\n",
       "      <td>2.894652</td>\n",
       "      <td>3.485999</td>\n",
       "      <td>1.427873</td>\n",
       "      <td>0.233545</td>\n",
       "    </tr>\n",
       "    <tr>\n",
       "      <th>2017-12-27</th>\n",
       "      <td>40.610000</td>\n",
       "      <td>36.650000</td>\n",
       "      <td>170.100000</td>\n",
       "      <td>49.640000</td>\n",
       "      <td>48.600000</td>\n",
       "      <td>38.190000</td>\n",
       "      <td>189.9600</td>\n",
       "      <td>57.090000</td>\n",
       "      <td>10.460000</td>\n",
       "      <td>32.20</td>\n",
       "      <td>...</td>\n",
       "      <td>24.337094</td>\n",
       "      <td>8.119724</td>\n",
       "      <td>26.535988</td>\n",
       "      <td>2.954414</td>\n",
       "      <td>3.857575</td>\n",
       "      <td>2.065709</td>\n",
       "      <td>1.405801</td>\n",
       "      <td>2.093023</td>\n",
       "      <td>1.407286</td>\n",
       "      <td>0.256812</td>\n",
       "    </tr>\n",
       "    <tr>\n",
       "      <th>2017-12-28</th>\n",
       "      <td>40.520000</td>\n",
       "      <td>36.700000</td>\n",
       "      <td>171.000000</td>\n",
       "      <td>49.100000</td>\n",
       "      <td>48.500000</td>\n",
       "      <td>38.240000</td>\n",
       "      <td>190.5000</td>\n",
       "      <td>57.440000</td>\n",
       "      <td>10.290000</td>\n",
       "      <td>32.49</td>\n",
       "      <td>...</td>\n",
       "      <td>23.577971</td>\n",
       "      <td>6.133750</td>\n",
       "      <td>16.972291</td>\n",
       "      <td>1.387455</td>\n",
       "      <td>4.228009</td>\n",
       "      <td>2.174696</td>\n",
       "      <td>1.470248</td>\n",
       "      <td>3.247877</td>\n",
       "      <td>1.759440</td>\n",
       "      <td>0.256760</td>\n",
       "    </tr>\n",
       "    <tr>\n",
       "      <th>2017-12-29</th>\n",
       "      <td>40.220000</td>\n",
       "      <td>36.900000</td>\n",
       "      <td>170.520000</td>\n",
       "      <td>49.970000</td>\n",
       "      <td>48.800000</td>\n",
       "      <td>38.010000</td>\n",
       "      <td>190.5600</td>\n",
       "      <td>57.600000</td>\n",
       "      <td>10.200000</td>\n",
       "      <td>32.68</td>\n",
       "      <td>...</td>\n",
       "      <td>23.556548</td>\n",
       "      <td>9.415783</td>\n",
       "      <td>19.849476</td>\n",
       "      <td>5.487452</td>\n",
       "      <td>4.742287</td>\n",
       "      <td>1.814428</td>\n",
       "      <td>1.443513</td>\n",
       "      <td>2.188131</td>\n",
       "      <td>1.963333</td>\n",
       "      <td>0.601501</td>\n",
       "    </tr>\n",
       "  </tbody>\n",
       "</table>\n",
       "<p>5822 rows × 30128 columns</p>\n",
       "</div>"
      ],
      "text/plain": [
       "                 open                                                          \\\n",
       "ticker            AAN       AAON        AAPL       ABAX       ABCB        ABM   \n",
       "date                                                                            \n",
       "1995-01-03   1.778191   0.959805    1.235069   3.296526   3.236605   3.436434   \n",
       "1995-01-04   1.725194   1.006921    1.227128   3.414259   3.173142   3.344280   \n",
       "1995-01-05   1.778191   1.101914    1.246823   3.649725   3.173142   3.344280   \n",
       "1995-01-06   1.725194   1.054798    1.322426   4.238390   3.046217   3.362116   \n",
       "1995-01-09   1.778191   1.082915    1.322426   4.002924   3.046217   3.422940   \n",
       "...               ...        ...         ...        ...        ...        ...   \n",
       "2017-12-22  40.080000  36.500000  174.680000  48.790000  49.450000  38.390000   \n",
       "2017-12-26  40.150000  36.700000  170.800000  49.380000  49.150000  38.110000   \n",
       "2017-12-27  40.610000  36.650000  170.100000  49.640000  48.600000  38.190000   \n",
       "2017-12-28  40.520000  36.700000  171.000000  49.100000  48.500000  38.240000   \n",
       "2017-12-29  40.220000  36.900000  170.520000  49.970000  48.800000  38.010000   \n",
       "\n",
       "                                                   ... dollar_volume  \\\n",
       "ticker          ABMD        ABT       ACET   ACHC  ...           CIM   \n",
       "date                                               ...                 \n",
       "1995-01-03    2.6250   4.268868   1.706428  24.00  ...           NaN   \n",
       "1995-01-04    2.5625   4.318781   1.605839  24.00  ...           NaN   \n",
       "1995-01-05    2.8750   4.285944   1.632183  24.00  ...           NaN   \n",
       "1995-01-06    2.7500   4.268868   1.646553  24.00  ...           NaN   \n",
       "1995-01-09    2.6875   4.212490   1.646553  24.00  ...           NaN   \n",
       "...              ...        ...        ...    ...  ...           ...   \n",
       "2017-12-22  190.9200  57.100000  10.320000  31.93  ...     19.803890   \n",
       "2017-12-26  191.3100  57.010000  10.310000  32.35  ...     25.760220   \n",
       "2017-12-27  189.9600  57.090000  10.460000  32.20  ...     24.337094   \n",
       "2017-12-28  190.5000  57.440000  10.290000  32.49  ...     23.577971   \n",
       "2017-12-29  190.5600  57.600000  10.200000  32.68  ...     23.556548   \n",
       "\n",
       "                                                                         \\\n",
       "ticker           ARR         KW       GTS      CATM       FOR       LRN   \n",
       "date                                                                      \n",
       "1995-01-03       NaN        NaN       NaN       NaN       NaN       NaN   \n",
       "1995-01-04       NaN        NaN       NaN       NaN       NaN       NaN   \n",
       "1995-01-05       NaN        NaN       NaN       NaN       NaN       NaN   \n",
       "1995-01-06       NaN        NaN       NaN       NaN       NaN       NaN   \n",
       "1995-01-09       NaN        NaN       NaN       NaN       NaN       NaN   \n",
       "...              ...        ...       ...       ...       ...       ...   \n",
       "2017-12-22  8.523758  21.486877  2.316577  5.429883  3.427137  1.811882   \n",
       "2017-12-26  6.173625  25.633185  1.632204  5.174393  1.903951  2.894652   \n",
       "2017-12-27  8.119724  26.535988  2.954414  3.857575  2.065709  1.405801   \n",
       "2017-12-28  6.133750  16.972291  1.387455  4.228009  2.174696  1.470248   \n",
       "2017-12-29  9.415783  19.849476  5.487452  4.742287  1.814428  1.443513   \n",
       "\n",
       "                                          \n",
       "ticker          TITN       TNK       ORN  \n",
       "date                                      \n",
       "1995-01-03       NaN       NaN       NaN  \n",
       "1995-01-04       NaN       NaN       NaN  \n",
       "1995-01-05       NaN       NaN       NaN  \n",
       "1995-01-06       NaN       NaN       NaN  \n",
       "1995-01-09       NaN       NaN       NaN  \n",
       "...              ...       ...       ...  \n",
       "2017-12-22  3.851540  1.606720  0.273170  \n",
       "2017-12-26  3.485999  1.427873  0.233545  \n",
       "2017-12-27  2.093023  1.407286  0.256812  \n",
       "2017-12-28  3.247877  1.759440  0.256760  \n",
       "2017-12-29  2.188131  1.963333  0.601501  \n",
       "\n",
       "[5822 rows x 30128 columns]"
      ]
     },
     "execution_count": 46,
     "metadata": {},
     "output_type": "execute_result"
    }
   ],
   "source": [
    "prices "
   ]
  },
  {
   "cell_type": "code",
   "execution_count": 47,
   "metadata": {
    "ExecuteTime": {
     "end_time": "2021-02-23T20:36:46.968273Z",
     "start_time": "2021-02-23T20:36:39.764800Z"
    }
   },
   "outputs": [],
   "source": [
    "data = (pd.concat([prices.dollar_volume.resample('M').mean().stack('ticker').to_frame('dollar_volume'),\n",
    "                   prices[last_cols].resample('M').last().stack('ticker')],\n",
    "                  axis=1) #resample('M')按月重采样\n",
    "        .swaplevel()\n",
    "        .dropna())"
   ]
  },
  {
   "cell_type": "code",
   "execution_count": 48,
   "metadata": {
    "ExecuteTime": {
     "end_time": "2021-02-23T20:36:47.009662Z",
     "start_time": "2021-02-23T20:36:46.969428Z"
    }
   },
   "outputs": [
    {
     "name": "stdout",
     "output_type": "stream",
     "text": [
      "<class 'pandas.core.frame.DataFrame'>\n",
      "MultiIndex: 452529 entries, ('AAN', Timestamp('1995-02-28 00:00:00')) to ('ORN', Timestamp('2017-12-31 00:00:00'))\n",
      "Data columns (total 12 columns):\n",
      " #   Column         Non-Null Count   Dtype  \n",
      "---  ------         --------------   -----  \n",
      " 0   dollar_volume  452529 non-null  float64\n",
      " 1   atr            452529 non-null  float64\n",
      " 2   bb_down        452529 non-null  float64\n",
      " 3   bb_high        452529 non-null  float64\n",
      " 4   bb_low         452529 non-null  float64\n",
      " 5   bb_mid         452529 non-null  float64\n",
      " 6   bb_up          452529 non-null  float64\n",
      " 7   close          452529 non-null  float64\n",
      " 8   macd           452529 non-null  float64\n",
      " 9   natr           452529 non-null  float64\n",
      " 10  rsi            452529 non-null  float64\n",
      " 11  sector         452529 non-null  object \n",
      "dtypes: float64(11), object(1)\n",
      "memory usage: 43.2+ MB\n"
     ]
    }
   ],
   "source": [
    "data.info()"
   ]
  },
  {
   "cell_type": "code",
   "execution_count": 49,
   "metadata": {},
   "outputs": [
    {
     "data": {
      "text/html": [
       "<div>\n",
       "<style scoped>\n",
       "    .dataframe tbody tr th:only-of-type {\n",
       "        vertical-align: middle;\n",
       "    }\n",
       "\n",
       "    .dataframe tbody tr th {\n",
       "        vertical-align: top;\n",
       "    }\n",
       "\n",
       "    .dataframe thead th {\n",
       "        text-align: right;\n",
       "    }\n",
       "</style>\n",
       "<table border=\"1\" class=\"dataframe\">\n",
       "  <thead>\n",
       "    <tr style=\"text-align: right;\">\n",
       "      <th></th>\n",
       "      <th></th>\n",
       "      <th>dollar_volume</th>\n",
       "      <th>atr</th>\n",
       "      <th>bb_down</th>\n",
       "      <th>bb_high</th>\n",
       "      <th>bb_low</th>\n",
       "      <th>bb_mid</th>\n",
       "      <th>bb_up</th>\n",
       "      <th>close</th>\n",
       "      <th>macd</th>\n",
       "      <th>natr</th>\n",
       "      <th>rsi</th>\n",
       "      <th>sector</th>\n",
       "    </tr>\n",
       "    <tr>\n",
       "      <th>ticker</th>\n",
       "      <th>date</th>\n",
       "      <th></th>\n",
       "      <th></th>\n",
       "      <th></th>\n",
       "      <th></th>\n",
       "      <th></th>\n",
       "      <th></th>\n",
       "      <th></th>\n",
       "      <th></th>\n",
       "      <th></th>\n",
       "      <th></th>\n",
       "      <th></th>\n",
       "      <th></th>\n",
       "    </tr>\n",
       "  </thead>\n",
       "  <tbody>\n",
       "    <tr>\n",
       "      <th>AAN</th>\n",
       "      <th>1995-02-28</th>\n",
       "      <td>0.076234</td>\n",
       "      <td>-0.901701</td>\n",
       "      <td>0.094985</td>\n",
       "      <td>1.102449</td>\n",
       "      <td>1.022490</td>\n",
       "      <td>1.062469</td>\n",
       "      <td>-0.015025</td>\n",
       "      <td>2.057123</td>\n",
       "      <td>-0.018766</td>\n",
       "      <td>2.986767</td>\n",
       "      <td>65.510236</td>\n",
       "      <td>Technology</td>\n",
       "    </tr>\n",
       "    <tr>\n",
       "      <th>AAON</th>\n",
       "      <th>1995-02-28</th>\n",
       "      <td>0.648475</td>\n",
       "      <td>-0.776136</td>\n",
       "      <td>0.011130</td>\n",
       "      <td>0.724783</td>\n",
       "      <td>0.656662</td>\n",
       "      <td>0.690722</td>\n",
       "      <td>0.056992</td>\n",
       "      <td>0.949926</td>\n",
       "      <td>-0.300224</td>\n",
       "      <td>5.914937</td>\n",
       "      <td>43.638603</td>\n",
       "      <td>Capital Goods</td>\n",
       "    </tr>\n",
       "    <tr>\n",
       "      <th>AAPL</th>\n",
       "      <th>1995-02-28</th>\n",
       "      <td>91.764760</td>\n",
       "      <td>-0.807437</td>\n",
       "      <td>0.018716</td>\n",
       "      <td>0.883378</td>\n",
       "      <td>0.795854</td>\n",
       "      <td>0.839616</td>\n",
       "      <td>0.068807</td>\n",
       "      <td>1.258206</td>\n",
       "      <td>-0.245760</td>\n",
       "      <td>3.714928</td>\n",
       "      <td>44.914285</td>\n",
       "      <td>Technology</td>\n",
       "    </tr>\n",
       "    <tr>\n",
       "      <th>ABAX</th>\n",
       "      <th>1995-02-28</th>\n",
       "      <td>0.130321</td>\n",
       "      <td>-0.795972</td>\n",
       "      <td>0.211246</td>\n",
       "      <td>1.720151</td>\n",
       "      <td>1.374962</td>\n",
       "      <td>1.547557</td>\n",
       "      <td>0.133943</td>\n",
       "      <td>3.885191</td>\n",
       "      <td>0.142463</td>\n",
       "      <td>9.825437</td>\n",
       "      <td>53.251518</td>\n",
       "      <td>Capital Goods</td>\n",
       "    </tr>\n",
       "    <tr>\n",
       "      <th>ABCB</th>\n",
       "      <th>1995-02-28</th>\n",
       "      <td>0.014540</td>\n",
       "      <td>-1.058002</td>\n",
       "      <td>0.054657</td>\n",
       "      <td>1.471694</td>\n",
       "      <td>1.389106</td>\n",
       "      <td>1.430400</td>\n",
       "      <td>0.027932</td>\n",
       "      <td>3.236605</td>\n",
       "      <td>-0.049239</td>\n",
       "      <td>3.337611</td>\n",
       "      <td>52.835867</td>\n",
       "      <td>Finance</td>\n",
       "    </tr>\n",
       "    <tr>\n",
       "      <th>...</th>\n",
       "      <th>...</th>\n",
       "      <td>...</td>\n",
       "      <td>...</td>\n",
       "      <td>...</td>\n",
       "      <td>...</td>\n",
       "      <td>...</td>\n",
       "      <td>...</td>\n",
       "      <td>...</td>\n",
       "      <td>...</td>\n",
       "      <td>...</td>\n",
       "      <td>...</td>\n",
       "      <td>...</td>\n",
       "      <td>...</td>\n",
       "    </tr>\n",
       "    <tr>\n",
       "      <th>FOR</th>\n",
       "      <th>2017-12-31</th>\n",
       "      <td>4.654602</td>\n",
       "      <td>-0.265317</td>\n",
       "      <td>0.026743</td>\n",
       "      <td>3.160547</td>\n",
       "      <td>3.108751</td>\n",
       "      <td>3.134649</td>\n",
       "      <td>0.025053</td>\n",
       "      <td>22.000000</td>\n",
       "      <td>1.101996</td>\n",
       "      <td>2.435993</td>\n",
       "      <td>60.345879</td>\n",
       "      <td>Finance</td>\n",
       "    </tr>\n",
       "    <tr>\n",
       "      <th>LRN</th>\n",
       "      <th>2017-12-31</th>\n",
       "      <td>2.544344</td>\n",
       "      <td>-1.248838</td>\n",
       "      <td>0.000227</td>\n",
       "      <td>2.878951</td>\n",
       "      <td>2.827086</td>\n",
       "      <td>2.853018</td>\n",
       "      <td>0.051637</td>\n",
       "      <td>15.900000</td>\n",
       "      <td>-0.007763</td>\n",
       "      <td>2.442245</td>\n",
       "      <td>40.021101</td>\n",
       "      <td>Consumer Services</td>\n",
       "    </tr>\n",
       "    <tr>\n",
       "      <th>TITN</th>\n",
       "      <th>2017-12-31</th>\n",
       "      <td>6.683653</td>\n",
       "      <td>-0.387205</td>\n",
       "      <td>0.028961</td>\n",
       "      <td>3.152241</td>\n",
       "      <td>3.069779</td>\n",
       "      <td>3.111010</td>\n",
       "      <td>0.053501</td>\n",
       "      <td>21.170000</td>\n",
       "      <td>1.463056</td>\n",
       "      <td>3.232475</td>\n",
       "      <td>64.981961</td>\n",
       "      <td>Consumer Services</td>\n",
       "    </tr>\n",
       "    <tr>\n",
       "      <th>TNK</th>\n",
       "      <th>2017-12-31</th>\n",
       "      <td>3.653538</td>\n",
       "      <td>-1.087252</td>\n",
       "      <td>0.035207</td>\n",
       "      <td>0.967167</td>\n",
       "      <td>0.840261</td>\n",
       "      <td>0.903714</td>\n",
       "      <td>0.091698</td>\n",
       "      <td>1.400000</td>\n",
       "      <td>-0.102977</td>\n",
       "      <td>4.823897</td>\n",
       "      <td>42.265018</td>\n",
       "      <td>Consumer Services</td>\n",
       "    </tr>\n",
       "    <tr>\n",
       "      <th>ORN</th>\n",
       "      <th>2017-12-31</th>\n",
       "      <td>0.669847</td>\n",
       "      <td>-0.797766</td>\n",
       "      <td>0.054765</td>\n",
       "      <td>2.197618</td>\n",
       "      <td>2.123390</td>\n",
       "      <td>2.160504</td>\n",
       "      <td>0.019463</td>\n",
       "      <td>7.830000</td>\n",
       "      <td>0.264221</td>\n",
       "      <td>3.053357</td>\n",
       "      <td>55.349923</td>\n",
       "      <td>Basic Industries</td>\n",
       "    </tr>\n",
       "  </tbody>\n",
       "</table>\n",
       "<p>452529 rows × 12 columns</p>\n",
       "</div>"
      ],
      "text/plain": [
       "                   dollar_volume       atr   bb_down   bb_high    bb_low  \\\n",
       "ticker date                                                                \n",
       "AAN    1995-02-28       0.076234 -0.901701  0.094985  1.102449  1.022490   \n",
       "AAON   1995-02-28       0.648475 -0.776136  0.011130  0.724783  0.656662   \n",
       "AAPL   1995-02-28      91.764760 -0.807437  0.018716  0.883378  0.795854   \n",
       "ABAX   1995-02-28       0.130321 -0.795972  0.211246  1.720151  1.374962   \n",
       "ABCB   1995-02-28       0.014540 -1.058002  0.054657  1.471694  1.389106   \n",
       "...                          ...       ...       ...       ...       ...   \n",
       "FOR    2017-12-31       4.654602 -0.265317  0.026743  3.160547  3.108751   \n",
       "LRN    2017-12-31       2.544344 -1.248838  0.000227  2.878951  2.827086   \n",
       "TITN   2017-12-31       6.683653 -0.387205  0.028961  3.152241  3.069779   \n",
       "TNK    2017-12-31       3.653538 -1.087252  0.035207  0.967167  0.840261   \n",
       "ORN    2017-12-31       0.669847 -0.797766  0.054765  2.197618  2.123390   \n",
       "\n",
       "                     bb_mid     bb_up      close      macd      natr  \\\n",
       "ticker date                                                            \n",
       "AAN    1995-02-28  1.062469 -0.015025   2.057123 -0.018766  2.986767   \n",
       "AAON   1995-02-28  0.690722  0.056992   0.949926 -0.300224  5.914937   \n",
       "AAPL   1995-02-28  0.839616  0.068807   1.258206 -0.245760  3.714928   \n",
       "ABAX   1995-02-28  1.547557  0.133943   3.885191  0.142463  9.825437   \n",
       "ABCB   1995-02-28  1.430400  0.027932   3.236605 -0.049239  3.337611   \n",
       "...                     ...       ...        ...       ...       ...   \n",
       "FOR    2017-12-31  3.134649  0.025053  22.000000  1.101996  2.435993   \n",
       "LRN    2017-12-31  2.853018  0.051637  15.900000 -0.007763  2.442245   \n",
       "TITN   2017-12-31  3.111010  0.053501  21.170000  1.463056  3.232475   \n",
       "TNK    2017-12-31  0.903714  0.091698   1.400000 -0.102977  4.823897   \n",
       "ORN    2017-12-31  2.160504  0.019463   7.830000  0.264221  3.053357   \n",
       "\n",
       "                         rsi             sector  \n",
       "ticker date                                      \n",
       "AAN    1995-02-28  65.510236         Technology  \n",
       "AAON   1995-02-28  43.638603      Capital Goods  \n",
       "AAPL   1995-02-28  44.914285         Technology  \n",
       "ABAX   1995-02-28  53.251518      Capital Goods  \n",
       "ABCB   1995-02-28  52.835867            Finance  \n",
       "...                      ...                ...  \n",
       "FOR    2017-12-31  60.345879            Finance  \n",
       "LRN    2017-12-31  40.021101  Consumer Services  \n",
       "TITN   2017-12-31  64.981961  Consumer Services  \n",
       "TNK    2017-12-31  42.265018  Consumer Services  \n",
       "ORN    2017-12-31  55.349923   Basic Industries  \n",
       "\n",
       "[452529 rows x 12 columns]"
      ]
     },
     "execution_count": 49,
     "metadata": {},
     "output_type": "execute_result"
    }
   ],
   "source": [
    "data"
   ]
  },
  {
   "cell_type": "markdown",
   "metadata": {},
   "source": [
    "## Select 500 most-traded equities"
   ]
  },
  {
   "cell_type": "markdown",
   "metadata": {},
   "source": [
    "Select the 500 most-traded stocks based on a 5-year rolling average of dollar volume."
   ]
  },
  {
   "cell_type": "code",
   "execution_count": 50,
   "metadata": {
    "ExecuteTime": {
     "end_time": "2021-02-23T20:41:01.705623Z",
     "start_time": "2021-02-23T20:40:58.507121Z"
    }
   },
   "outputs": [],
   "source": [
    "data['dollar_volume'] = (data.loc[:, 'dollar_volume']\n",
    "                         .unstack('ticker')\n",
    "                         .rolling(window=5*12, min_periods=12)\n",
    "                         .mean()\n",
    "                         .stack()\n",
    "                         .swaplevel()) #五年滚动窗口，至少一年有效值"
   ]
  },
  {
   "cell_type": "code",
   "execution_count": 51,
   "metadata": {},
   "outputs": [
    {
     "data": {
      "text/plain": [
       "ticker  date      \n",
       "AAN     1995-02-28         NaN\n",
       "AAON    1995-02-28         NaN\n",
       "AAPL    1995-02-28         NaN\n",
       "ABAX    1995-02-28         NaN\n",
       "ABCB    1995-02-28         NaN\n",
       "                        ...   \n",
       "FOR     2017-12-31    5.465228\n",
       "LRN     2017-12-31    4.858840\n",
       "TITN    2017-12-31    3.619377\n",
       "TNK     2017-12-31    4.461620\n",
       "ORN     2017-12-31    1.109383\n",
       "Name: dollar_volume, Length: 452529, dtype: float64"
      ]
     },
     "execution_count": 51,
     "metadata": {},
     "output_type": "execute_result"
    }
   ],
   "source": [
    "data['dollar_volume'] "
   ]
  },
  {
   "cell_type": "code",
   "execution_count": 56,
   "metadata": {
    "ExecuteTime": {
     "end_time": "2021-02-23T20:41:01.887279Z",
     "start_time": "2021-02-23T20:41:01.740521Z"
    }
   },
   "outputs": [
    {
     "data": {
      "text/plain": [
       "ticker  date      \n",
       "AAN     1995-02-28       NaN\n",
       "AAON    1995-02-28       NaN\n",
       "AAPL    1995-02-28       NaN\n",
       "ABAX    1995-02-28       NaN\n",
       "ABCB    1995-02-28       NaN\n",
       "                       ...  \n",
       "FOR     2017-12-31    1246.0\n",
       "LRN     2017-12-31    1281.0\n",
       "TITN    2017-12-31    1373.0\n",
       "TNK     2017-12-31    1315.0\n",
       "ORN     2017-12-31    1631.0\n",
       "Name: dollar_vol_rank, Length: 452529, dtype: float64"
      ]
     },
     "execution_count": 56,
     "metadata": {},
     "output_type": "execute_result"
    }
   ],
   "source": [
    "data['dollar_vol_rank'] = (data\n",
    "                           .groupby('date')\n",
    "                           .dollar_volume\n",
    "                           .rank(ascending=False))\n",
    "data['dollar_vol_rank'] "
   ]
  },
  {
   "cell_type": "code",
   "execution_count": 57,
   "metadata": {},
   "outputs": [],
   "source": [
    "data = data[data.dollar_vol_rank < 500].drop(['dollar_volume', 'dollar_vol_rank'], axis=1)"
   ]
  },
  {
   "cell_type": "code",
   "execution_count": 58,
   "metadata": {
    "ExecuteTime": {
     "end_time": "2021-02-23T20:41:01.892527Z",
     "start_time": "2021-02-23T20:41:01.888455Z"
    }
   },
   "outputs": [
    {
     "data": {
      "text/plain": [
       "905"
      ]
     },
     "execution_count": 58,
     "metadata": {},
     "output_type": "execute_result"
    }
   ],
   "source": [
    "len(data.index.unique('ticker'))"
   ]
  },
  {
   "cell_type": "markdown",
   "metadata": {},
   "source": [
    "## Create monthly return series"
   ]
  },
  {
   "cell_type": "markdown",
   "metadata": {},
   "source": [
    "To capture time series dynamics that reflect, for example, momentum patterns, we compute historical returns using the method `.pct_change(n_periods)`, that is, returns over various monthly periods as identified by lags.\n",
    "\n",
    "We then convert the wide result back to long format with the `.stack()` method, use `.pipe()` to apply the `.clip()` method to the resulting `DataFrame`, and winsorize returns at the [1%, 99%] levels; that is, we cap outliers at these percentiles.\n",
    "\n",
    "Finally, we normalize returns using the geometric average. After using `.swaplevel()` to change the order of the `MultiIndex` levels, we obtain compounded monthly returns for six periods ranging from 1 to 12 months:"
   ]
  },
  {
   "cell_type": "code",
   "execution_count": 59,
   "metadata": {
    "ExecuteTime": {
     "end_time": "2021-02-23T20:41:01.905281Z",
     "start_time": "2021-02-23T20:41:01.894367Z"
    }
   },
   "outputs": [],
   "source": [
    "outlier_cutoff = 0.01\n",
    "lags = [1, 3, 6, 12]\n",
    "returns = []"
   ]
  },
  {
   "cell_type": "code",
   "execution_count": 60,
   "metadata": {
    "ExecuteTime": {
     "end_time": "2021-02-23T20:41:07.775321Z",
     "start_time": "2021-02-23T20:41:01.906659Z"
    }
   },
   "outputs": [
    {
     "name": "stdout",
     "output_type": "stream",
     "text": [
      "<class 'pandas.core.frame.DataFrame'>\n",
      "MultiIndex: 202879 entries, ('AAPL', Timestamp('1996-02-29 00:00:00')) to ('DXCM', Timestamp('2017-12-31 00:00:00'))\n",
      "Data columns (total 4 columns):\n",
      " #   Column      Non-Null Count   Dtype  \n",
      "---  ------      --------------   -----  \n",
      " 0   return_1m   202879 non-null  float64\n",
      " 1   return_3m   201069 non-null  float64\n",
      " 2   return_6m   198362 non-null  float64\n",
      " 3   return_12m  192972 non-null  float64\n",
      "dtypes: float64(4)\n",
      "memory usage: 7.0+ MB\n"
     ]
    }
   ],
   "source": [
    "for lag in lags:\n",
    "    returns.append(data\n",
    "                   .close\n",
    "                   .unstack('ticker')\n",
    "                   .sort_index()\n",
    "                   .pct_change(lag) #返回当前元素与lag前元素的变化百分比\n",
    "                   .stack('ticker')\n",
    "                   .pipe(lambda x: x.clip(lower=x.quantile(outlier_cutoff),\n",
    "                                          upper=x.quantile(1-outlier_cutoff))) #修剪极端值\n",
    "                   .add(1) #每个元素+1\n",
    "                   .pow(1/lag) #pow()方法返回x 的 y 次方\n",
    "                   .sub(1) #每个元素-1\n",
    "                   .to_frame(f'return_{lag}m')\n",
    "                   )\n",
    "    \n",
    "returns = pd.concat(returns, axis=1).swaplevel()\n",
    "returns.info(null_counts=True)"
   ]
  },
  {
   "cell_type": "code",
   "execution_count": 61,
   "metadata": {},
   "outputs": [
    {
     "data": {
      "text/html": [
       "<div>\n",
       "<style scoped>\n",
       "    .dataframe tbody tr th:only-of-type {\n",
       "        vertical-align: middle;\n",
       "    }\n",
       "\n",
       "    .dataframe tbody tr th {\n",
       "        vertical-align: top;\n",
       "    }\n",
       "\n",
       "    .dataframe thead th {\n",
       "        text-align: right;\n",
       "    }\n",
       "</style>\n",
       "<table border=\"1\" class=\"dataframe\">\n",
       "  <thead>\n",
       "    <tr style=\"text-align: right;\">\n",
       "      <th></th>\n",
       "      <th></th>\n",
       "      <th>return_1m</th>\n",
       "      <th>return_3m</th>\n",
       "      <th>return_6m</th>\n",
       "      <th>return_12m</th>\n",
       "    </tr>\n",
       "    <tr>\n",
       "      <th>ticker</th>\n",
       "      <th>date</th>\n",
       "      <th></th>\n",
       "      <th></th>\n",
       "      <th></th>\n",
       "      <th></th>\n",
       "    </tr>\n",
       "  </thead>\n",
       "  <tbody>\n",
       "    <tr>\n",
       "      <th>AAPL</th>\n",
       "      <th>1996-02-29</th>\n",
       "      <td>-0.004345</td>\n",
       "      <td>NaN</td>\n",
       "      <td>NaN</td>\n",
       "      <td>NaN</td>\n",
       "    </tr>\n",
       "    <tr>\n",
       "      <th>ABT</th>\n",
       "      <th>1996-02-29</th>\n",
       "      <td>0.040498</td>\n",
       "      <td>NaN</td>\n",
       "      <td>NaN</td>\n",
       "      <td>NaN</td>\n",
       "    </tr>\n",
       "    <tr>\n",
       "      <th>ACXM</th>\n",
       "      <th>1996-02-29</th>\n",
       "      <td>-0.072727</td>\n",
       "      <td>NaN</td>\n",
       "      <td>NaN</td>\n",
       "      <td>NaN</td>\n",
       "    </tr>\n",
       "    <tr>\n",
       "      <th>ADBE</th>\n",
       "      <th>1996-02-29</th>\n",
       "      <td>-0.129870</td>\n",
       "      <td>NaN</td>\n",
       "      <td>NaN</td>\n",
       "      <td>NaN</td>\n",
       "    </tr>\n",
       "    <tr>\n",
       "      <th>ADI</th>\n",
       "      <th>1996-02-29</th>\n",
       "      <td>0.242775</td>\n",
       "      <td>NaN</td>\n",
       "      <td>NaN</td>\n",
       "      <td>NaN</td>\n",
       "    </tr>\n",
       "    <tr>\n",
       "      <th>...</th>\n",
       "      <th>...</th>\n",
       "      <td>...</td>\n",
       "      <td>...</td>\n",
       "      <td>...</td>\n",
       "      <td>...</td>\n",
       "    </tr>\n",
       "    <tr>\n",
       "      <th>ALNY</th>\n",
       "      <th>2017-12-31</th>\n",
       "      <td>-0.055671</td>\n",
       "      <td>0.026419</td>\n",
       "      <td>0.080683</td>\n",
       "      <td>NaN</td>\n",
       "    </tr>\n",
       "    <tr>\n",
       "      <th>EXR</th>\n",
       "      <th>2017-12-31</th>\n",
       "      <td>0.024485</td>\n",
       "      <td>0.030469</td>\n",
       "      <td>0.020926</td>\n",
       "      <td>NaN</td>\n",
       "    </tr>\n",
       "    <tr>\n",
       "      <th>TSS</th>\n",
       "      <th>2017-12-31</th>\n",
       "      <td>0.063609</td>\n",
       "      <td>0.064862</td>\n",
       "      <td>NaN</td>\n",
       "      <td>NaN</td>\n",
       "    </tr>\n",
       "    <tr>\n",
       "      <th>ACAD</th>\n",
       "      <th>2017-12-31</th>\n",
       "      <td>-0.004628</td>\n",
       "      <td>NaN</td>\n",
       "      <td>NaN</td>\n",
       "      <td>NaN</td>\n",
       "    </tr>\n",
       "    <tr>\n",
       "      <th>DXCM</th>\n",
       "      <th>2017-12-31</th>\n",
       "      <td>-0.017799</td>\n",
       "      <td>NaN</td>\n",
       "      <td>NaN</td>\n",
       "      <td>NaN</td>\n",
       "    </tr>\n",
       "  </tbody>\n",
       "</table>\n",
       "<p>202879 rows × 4 columns</p>\n",
       "</div>"
      ],
      "text/plain": [
       "                   return_1m  return_3m  return_6m  return_12m\n",
       "ticker date                                                   \n",
       "AAPL   1996-02-29  -0.004345        NaN        NaN         NaN\n",
       "ABT    1996-02-29   0.040498        NaN        NaN         NaN\n",
       "ACXM   1996-02-29  -0.072727        NaN        NaN         NaN\n",
       "ADBE   1996-02-29  -0.129870        NaN        NaN         NaN\n",
       "ADI    1996-02-29   0.242775        NaN        NaN         NaN\n",
       "...                      ...        ...        ...         ...\n",
       "ALNY   2017-12-31  -0.055671   0.026419   0.080683         NaN\n",
       "EXR    2017-12-31   0.024485   0.030469   0.020926         NaN\n",
       "TSS    2017-12-31   0.063609   0.064862        NaN         NaN\n",
       "ACAD   2017-12-31  -0.004628        NaN        NaN         NaN\n",
       "DXCM   2017-12-31  -0.017799        NaN        NaN         NaN\n",
       "\n",
       "[202879 rows x 4 columns]"
      ]
     },
     "execution_count": 61,
     "metadata": {},
     "output_type": "execute_result"
    }
   ],
   "source": [
    "returns"
   ]
  },
  {
   "cell_type": "code",
   "execution_count": 62,
   "metadata": {
    "ExecuteTime": {
     "end_time": "2021-02-23T20:41:11.269318Z",
     "start_time": "2021-02-23T20:41:11.221582Z"
    }
   },
   "outputs": [
    {
     "data": {
      "text/html": [
       "<div>\n",
       "<style scoped>\n",
       "    .dataframe tbody tr th:only-of-type {\n",
       "        vertical-align: middle;\n",
       "    }\n",
       "\n",
       "    .dataframe tbody tr th {\n",
       "        vertical-align: top;\n",
       "    }\n",
       "\n",
       "    .dataframe thead th {\n",
       "        text-align: right;\n",
       "    }\n",
       "</style>\n",
       "<table border=\"1\" class=\"dataframe\">\n",
       "  <thead>\n",
       "    <tr style=\"text-align: right;\">\n",
       "      <th></th>\n",
       "      <th>return_1m</th>\n",
       "      <th>return_3m</th>\n",
       "      <th>return_6m</th>\n",
       "      <th>return_12m</th>\n",
       "    </tr>\n",
       "  </thead>\n",
       "  <tbody>\n",
       "    <tr>\n",
       "      <th>count</th>\n",
       "      <td>202879.000000</td>\n",
       "      <td>201069.000000</td>\n",
       "      <td>198362.000000</td>\n",
       "      <td>192972.000000</td>\n",
       "    </tr>\n",
       "    <tr>\n",
       "      <th>mean</th>\n",
       "      <td>0.007333</td>\n",
       "      <td>0.004950</td>\n",
       "      <td>0.004345</td>\n",
       "      <td>0.004167</td>\n",
       "    </tr>\n",
       "    <tr>\n",
       "      <th>std</th>\n",
       "      <td>0.085992</td>\n",
       "      <td>0.050986</td>\n",
       "      <td>0.037222</td>\n",
       "      <td>0.027246</td>\n",
       "    </tr>\n",
       "    <tr>\n",
       "      <th>min</th>\n",
       "      <td>-0.273767</td>\n",
       "      <td>-0.179499</td>\n",
       "      <td>-0.134177</td>\n",
       "      <td>-0.093876</td>\n",
       "    </tr>\n",
       "    <tr>\n",
       "      <th>25%</th>\n",
       "      <td>-0.011852</td>\n",
       "      <td>-0.003188</td>\n",
       "      <td>-0.000486</td>\n",
       "      <td>0.000000</td>\n",
       "    </tr>\n",
       "    <tr>\n",
       "      <th>50%</th>\n",
       "      <td>0.000000</td>\n",
       "      <td>0.000000</td>\n",
       "      <td>0.000000</td>\n",
       "      <td>0.000000</td>\n",
       "    </tr>\n",
       "    <tr>\n",
       "      <th>75%</th>\n",
       "      <td>0.032949</td>\n",
       "      <td>0.023727</td>\n",
       "      <td>0.018920</td>\n",
       "      <td>0.015461</td>\n",
       "    </tr>\n",
       "    <tr>\n",
       "      <th>max</th>\n",
       "      <td>0.331175</td>\n",
       "      <td>0.180733</td>\n",
       "      <td>0.131169</td>\n",
       "      <td>0.099726</td>\n",
       "    </tr>\n",
       "  </tbody>\n",
       "</table>\n",
       "</div>"
      ],
      "text/plain": [
       "           return_1m      return_3m      return_6m     return_12m\n",
       "count  202879.000000  201069.000000  198362.000000  192972.000000\n",
       "mean        0.007333       0.004950       0.004345       0.004167\n",
       "std         0.085992       0.050986       0.037222       0.027246\n",
       "min        -0.273767      -0.179499      -0.134177      -0.093876\n",
       "25%        -0.011852      -0.003188      -0.000486       0.000000\n",
       "50%         0.000000       0.000000       0.000000       0.000000\n",
       "75%         0.032949       0.023727       0.018920       0.015461\n",
       "max         0.331175       0.180733       0.131169       0.099726"
      ]
     },
     "execution_count": 62,
     "metadata": {},
     "output_type": "execute_result"
    }
   ],
   "source": [
    "returns.describe()"
   ]
  },
  {
   "cell_type": "code",
   "execution_count": 63,
   "metadata": {
    "ExecuteTime": {
     "end_time": "2021-02-23T20:41:14.718336Z",
     "start_time": "2021-02-23T20:41:14.046696Z"
    },
    "scrolled": false
   },
   "outputs": [
    {
     "data": {
      "image/png": "[encoded data removed]",
      "text/plain": [
       "<Figure size 1000x1000 with 4 Axes>"
      ]
     },
     "metadata": {},
     "output_type": "display_data"
    }
   ],
   "source": [
    "cmap = sns.diverging_palette(10, 220, as_cmap=True)\n",
    "sns.clustermap(returns.corr('spearman'), annot=True, center=0, cmap=cmap);"
   ]
  },
  {
   "cell_type": "code",
   "execution_count": 64,
   "metadata": {
    "ExecuteTime": {
     "end_time": "2021-02-23T20:41:18.324087Z",
     "start_time": "2021-02-23T20:41:17.783552Z"
    }
   },
   "outputs": [
    {
     "name": "stdout",
     "output_type": "stream",
     "text": [
      "<class 'pandas.core.frame.DataFrame'>\n",
      "MultiIndex: 121589 entries, ('AAPL', Timestamp('1997-01-31 00:00:00')) to ('ULTA', Timestamp('2017-12-31 00:00:00'))\n",
      "Data columns (total 14 columns):\n",
      " #   Column      Non-Null Count   Dtype  \n",
      "---  ------      --------------   -----  \n",
      " 0   atr         121589 non-null  float64\n",
      " 1   bb_down     121589 non-null  float64\n",
      " 2   bb_high     121589 non-null  float64\n",
      " 3   bb_low      121589 non-null  float64\n",
      " 4   bb_mid      121589 non-null  float64\n",
      " 5   bb_up       121589 non-null  float64\n",
      " 6   macd        121589 non-null  float64\n",
      " 7   natr        121589 non-null  float64\n",
      " 8   rsi         121589 non-null  float64\n",
      " 9   sector      121589 non-null  object \n",
      " 10  return_1m   121589 non-null  float64\n",
      " 11  return_3m   121589 non-null  float64\n",
      " 12  return_6m   121589 non-null  float64\n",
      " 13  return_12m  121589 non-null  float64\n",
      "dtypes: float64(13), object(1)\n",
      "memory usage: 13.5+ MB\n"
     ]
    }
   ],
   "source": [
    "data = data.join(returns).drop('close', axis=1).dropna()\n",
    "data.info(null_counts=True)"
   ]
  },
  {
   "cell_type": "code",
   "execution_count": 65,
   "metadata": {},
   "outputs": [
    {
     "data": {
      "text/html": [
       "<div>\n",
       "<style scoped>\n",
       "    .dataframe tbody tr th:only-of-type {\n",
       "        vertical-align: middle;\n",
       "    }\n",
       "\n",
       "    .dataframe tbody tr th {\n",
       "        vertical-align: top;\n",
       "    }\n",
       "\n",
       "    .dataframe thead th {\n",
       "        text-align: right;\n",
       "    }\n",
       "</style>\n",
       "<table border=\"1\" class=\"dataframe\">\n",
       "  <thead>\n",
       "    <tr style=\"text-align: right;\">\n",
       "      <th></th>\n",
       "      <th></th>\n",
       "      <th>atr</th>\n",
       "      <th>bb_down</th>\n",
       "      <th>bb_high</th>\n",
       "      <th>bb_low</th>\n",
       "      <th>bb_mid</th>\n",
       "      <th>bb_up</th>\n",
       "      <th>macd</th>\n",
       "      <th>natr</th>\n",
       "      <th>rsi</th>\n",
       "      <th>sector</th>\n",
       "      <th>return_1m</th>\n",
       "      <th>return_3m</th>\n",
       "      <th>return_6m</th>\n",
       "      <th>return_12m</th>\n",
       "    </tr>\n",
       "    <tr>\n",
       "      <th>ticker</th>\n",
       "      <th>date</th>\n",
       "      <th></th>\n",
       "      <th></th>\n",
       "      <th></th>\n",
       "      <th></th>\n",
       "      <th></th>\n",
       "      <th></th>\n",
       "      <th></th>\n",
       "      <th></th>\n",
       "      <th></th>\n",
       "      <th></th>\n",
       "      <th></th>\n",
       "      <th></th>\n",
       "      <th></th>\n",
       "      <th></th>\n",
       "    </tr>\n",
       "  </thead>\n",
       "  <tbody>\n",
       "    <tr>\n",
       "      <th>AAPL</th>\n",
       "      <th>1997-01-31</th>\n",
       "      <td>-0.841030</td>\n",
       "      <td>0.009233</td>\n",
       "      <td>0.462078</td>\n",
       "      <td>0.418630</td>\n",
       "      <td>0.440354</td>\n",
       "      <td>0.034216</td>\n",
       "      <td>-0.261751</td>\n",
       "      <td>3.690899</td>\n",
       "      <td>28.212160</td>\n",
       "      <td>Technology</td>\n",
       "      <td>-0.203642</td>\n",
       "      <td>-0.102638</td>\n",
       "      <td>-0.045664</td>\n",
       "      <td>-0.041444</td>\n",
       "    </tr>\n",
       "    <tr>\n",
       "      <th>ABT</th>\n",
       "      <th>1997-01-31</th>\n",
       "      <td>-1.061637</td>\n",
       "      <td>0.065611</td>\n",
       "      <td>2.176325</td>\n",
       "      <td>2.075932</td>\n",
       "      <td>2.126129</td>\n",
       "      <td>0.034783</td>\n",
       "      <td>0.024406</td>\n",
       "      <td>2.508402</td>\n",
       "      <td>55.935918</td>\n",
       "      <td>Health Care</td>\n",
       "      <td>0.078812</td>\n",
       "      <td>0.026453</td>\n",
       "      <td>0.037920</td>\n",
       "      <td>0.027629</td>\n",
       "    </tr>\n",
       "    <tr>\n",
       "      <th>ACXM</th>\n",
       "      <th>1997-01-31</th>\n",
       "      <td>0.874306</td>\n",
       "      <td>0.150220</td>\n",
       "      <td>3.109708</td>\n",
       "      <td>2.730646</td>\n",
       "      <td>2.920177</td>\n",
       "      <td>0.228842</td>\n",
       "      <td>-1.649021</td>\n",
       "      <td>5.839971</td>\n",
       "      <td>42.590344</td>\n",
       "      <td>Technology</td>\n",
       "      <td>-0.265833</td>\n",
       "      <td>-0.035286</td>\n",
       "      <td>-0.008625</td>\n",
       "      <td>0.020881</td>\n",
       "    </tr>\n",
       "    <tr>\n",
       "      <th>ADBE</th>\n",
       "      <th>1997-01-31</th>\n",
       "      <td>-1.210346</td>\n",
       "      <td>0.075035</td>\n",
       "      <td>1.817532</td>\n",
       "      <td>1.653720</td>\n",
       "      <td>1.735626</td>\n",
       "      <td>0.088778</td>\n",
       "      <td>-0.320211</td>\n",
       "      <td>4.213347</td>\n",
       "      <td>49.561529</td>\n",
       "      <td>Technology</td>\n",
       "      <td>0.014675</td>\n",
       "      <td>0.050151</td>\n",
       "      <td>0.037229</td>\n",
       "      <td>-0.000892</td>\n",
       "    </tr>\n",
       "    <tr>\n",
       "      <th>ADI</th>\n",
       "      <th>1997-01-31</th>\n",
       "      <td>-0.735707</td>\n",
       "      <td>0.113079</td>\n",
       "      <td>2.434521</td>\n",
       "      <td>2.320387</td>\n",
       "      <td>2.377454</td>\n",
       "      <td>0.001055</td>\n",
       "      <td>0.119127</td>\n",
       "      <td>3.835421</td>\n",
       "      <td>62.793388</td>\n",
       "      <td>Technology</td>\n",
       "      <td>0.141283</td>\n",
       "      <td>0.156464</td>\n",
       "      <td>0.120857</td>\n",
       "      <td>0.049619</td>\n",
       "    </tr>\n",
       "    <tr>\n",
       "      <th>...</th>\n",
       "      <th>...</th>\n",
       "      <td>...</td>\n",
       "      <td>...</td>\n",
       "      <td>...</td>\n",
       "      <td>...</td>\n",
       "      <td>...</td>\n",
       "      <td>...</td>\n",
       "      <td>...</td>\n",
       "      <td>...</td>\n",
       "      <td>...</td>\n",
       "      <td>...</td>\n",
       "      <td>...</td>\n",
       "      <td>...</td>\n",
       "      <td>...</td>\n",
       "      <td>...</td>\n",
       "    </tr>\n",
       "    <tr>\n",
       "      <th>TEL</th>\n",
       "      <th>2017-12-31</th>\n",
       "      <td>1.315644</td>\n",
       "      <td>0.026071</td>\n",
       "      <td>4.586928</td>\n",
       "      <td>4.538694</td>\n",
       "      <td>4.562811</td>\n",
       "      <td>0.022163</td>\n",
       "      <td>0.608948</td>\n",
       "      <td>1.227253</td>\n",
       "      <td>53.994770</td>\n",
       "      <td>Consumer Non-Durables</td>\n",
       "      <td>0.006353</td>\n",
       "      <td>0.045935</td>\n",
       "      <td>0.032860</td>\n",
       "      <td>0.027994</td>\n",
       "    </tr>\n",
       "    <tr>\n",
       "      <th>CXO</th>\n",
       "      <th>2017-12-31</th>\n",
       "      <td>0.253423</td>\n",
       "      <td>0.131868</td>\n",
       "      <td>5.050531</td>\n",
       "      <td>4.886867</td>\n",
       "      <td>4.968699</td>\n",
       "      <td>0.031795</td>\n",
       "      <td>1.584802</td>\n",
       "      <td>2.143191</td>\n",
       "      <td>64.443311</td>\n",
       "      <td>Energy</td>\n",
       "      <td>0.074074</td>\n",
       "      <td>0.044781</td>\n",
       "      <td>0.035955</td>\n",
       "      <td>0.010451</td>\n",
       "    </tr>\n",
       "    <tr>\n",
       "      <th>VMW</th>\n",
       "      <th>2017-12-31</th>\n",
       "      <td>0.118500</td>\n",
       "      <td>0.093222</td>\n",
       "      <td>4.895616</td>\n",
       "      <td>4.745597</td>\n",
       "      <td>4.820606</td>\n",
       "      <td>0.056798</td>\n",
       "      <td>0.800535</td>\n",
       "      <td>2.056316</td>\n",
       "      <td>54.205720</td>\n",
       "      <td>Technology</td>\n",
       "      <td>0.043377</td>\n",
       "      <td>0.046998</td>\n",
       "      <td>0.061842</td>\n",
       "      <td>0.039497</td>\n",
       "    </tr>\n",
       "    <tr>\n",
       "      <th>ATHN</th>\n",
       "      <th>2017-12-31</th>\n",
       "      <td>-0.007303</td>\n",
       "      <td>0.014405</td>\n",
       "      <td>4.924947</td>\n",
       "      <td>4.883733</td>\n",
       "      <td>4.904340</td>\n",
       "      <td>0.026808</td>\n",
       "      <td>0.397365</td>\n",
       "      <td>2.218728</td>\n",
       "      <td>51.532779</td>\n",
       "      <td>Miscellaneous</td>\n",
       "      <td>0.001129</td>\n",
       "      <td>0.022745</td>\n",
       "      <td>-0.009110</td>\n",
       "      <td>0.019782</td>\n",
       "    </tr>\n",
       "    <tr>\n",
       "      <th>ULTA</th>\n",
       "      <th>2017-12-31</th>\n",
       "      <td>1.881408</td>\n",
       "      <td>0.049137</td>\n",
       "      <td>5.449000</td>\n",
       "      <td>5.365452</td>\n",
       "      <td>5.407226</td>\n",
       "      <td>0.034412</td>\n",
       "      <td>1.145506</td>\n",
       "      <td>2.618755</td>\n",
       "      <td>55.337348</td>\n",
       "      <td>Consumer Services</td>\n",
       "      <td>0.008795</td>\n",
       "      <td>-0.003551</td>\n",
       "      <td>-0.040897</td>\n",
       "      <td>-0.010849</td>\n",
       "    </tr>\n",
       "  </tbody>\n",
       "</table>\n",
       "<p>121589 rows × 14 columns</p>\n",
       "</div>"
      ],
      "text/plain": [
       "                        atr   bb_down   bb_high    bb_low    bb_mid     bb_up  \\\n",
       "ticker date                                                                     \n",
       "AAPL   1997-01-31 -0.841030  0.009233  0.462078  0.418630  0.440354  0.034216   \n",
       "ABT    1997-01-31 -1.061637  0.065611  2.176325  2.075932  2.126129  0.034783   \n",
       "ACXM   1997-01-31  0.874306  0.150220  3.109708  2.730646  2.920177  0.228842   \n",
       "ADBE   1997-01-31 -1.210346  0.075035  1.817532  1.653720  1.735626  0.088778   \n",
       "ADI    1997-01-31 -0.735707  0.113079  2.434521  2.320387  2.377454  0.001055   \n",
       "...                     ...       ...       ...       ...       ...       ...   \n",
       "TEL    2017-12-31  1.315644  0.026071  4.586928  4.538694  4.562811  0.022163   \n",
       "CXO    2017-12-31  0.253423  0.131868  5.050531  4.886867  4.968699  0.031795   \n",
       "VMW    2017-12-31  0.118500  0.093222  4.895616  4.745597  4.820606  0.056798   \n",
       "ATHN   2017-12-31 -0.007303  0.014405  4.924947  4.883733  4.904340  0.026808   \n",
       "ULTA   2017-12-31  1.881408  0.049137  5.449000  5.365452  5.407226  0.034412   \n",
       "\n",
       "                       macd      natr        rsi                 sector  \\\n",
       "ticker date                                                               \n",
       "AAPL   1997-01-31 -0.261751  3.690899  28.212160             Technology   \n",
       "ABT    1997-01-31  0.024406  2.508402  55.935918            Health Care   \n",
       "ACXM   1997-01-31 -1.649021  5.839971  42.590344             Technology   \n",
       "ADBE   1997-01-31 -0.320211  4.213347  49.561529             Technology   \n",
       "ADI    1997-01-31  0.119127  3.835421  62.793388             Technology   \n",
       "...                     ...       ...        ...                    ...   \n",
       "TEL    2017-12-31  0.608948  1.227253  53.994770  Consumer Non-Durables   \n",
       "CXO    2017-12-31  1.584802  2.143191  64.443311                 Energy   \n",
       "VMW    2017-12-31  0.800535  2.056316  54.205720             Technology   \n",
       "ATHN   2017-12-31  0.397365  2.218728  51.532779          Miscellaneous   \n",
       "ULTA   2017-12-31  1.145506  2.618755  55.337348      Consumer Services   \n",
       "\n",
       "                   return_1m  return_3m  return_6m  return_12m  \n",
       "ticker date                                                     \n",
       "AAPL   1997-01-31  -0.203642  -0.102638  -0.045664   -0.041444  \n",
       "ABT    1997-01-31   0.078812   0.026453   0.037920    0.027629  \n",
       "ACXM   1997-01-31  -0.265833  -0.035286  -0.008625    0.020881  \n",
       "ADBE   1997-01-31   0.014675   0.050151   0.037229   -0.000892  \n",
       "ADI    1997-01-31   0.141283   0.156464   0.120857    0.049619  \n",
       "...                      ...        ...        ...         ...  \n",
       "TEL    2017-12-31   0.006353   0.045935   0.032860    0.027994  \n",
       "CXO    2017-12-31   0.074074   0.044781   0.035955    0.010451  \n",
       "VMW    2017-12-31   0.043377   0.046998   0.061842    0.039497  \n",
       "ATHN   2017-12-31   0.001129   0.022745  -0.009110    0.019782  \n",
       "ULTA   2017-12-31   0.008795  -0.003551  -0.040897   -0.010849  \n",
       "\n",
       "[121589 rows x 14 columns]"
      ]
     },
     "execution_count": 65,
     "metadata": {},
     "output_type": "execute_result"
    }
   ],
   "source": [
    "data"
   ]
  },
  {
   "cell_type": "code",
   "execution_count": 66,
   "metadata": {
    "ExecuteTime": {
     "end_time": "2021-02-23T20:41:20.013017Z",
     "start_time": "2021-02-23T20:41:18.325557Z"
    }
   },
   "outputs": [],
   "source": [
    "min_obs = 5*12\n",
    "nobs = data.groupby(level='ticker').size()\n",
    "to_drop = nobs[nobs < min_obs].index\n",
    "data = data.drop(to_drop, level='ticker')"
   ]
  },
  {
   "cell_type": "code",
   "execution_count": 67,
   "metadata": {
    "ExecuteTime": {
     "end_time": "2021-02-23T20:41:20.018610Z",
     "start_time": "2021-02-23T20:41:20.014356Z"
    }
   },
   "outputs": [
    {
     "data": {
      "text/plain": [
       "613"
      ]
     },
     "execution_count": 67,
     "metadata": {},
     "output_type": "execute_result"
    }
   ],
   "source": [
    "len(data.index.unique('ticker'))"
   ]
  },
  {
   "cell_type": "markdown",
   "metadata": {},
   "source": [
    "We are left with 613 tickers."
   ]
  },
  {
   "cell_type": "markdown",
   "metadata": {},
   "source": [
    "## Rolling Factor Betas"
   ]
  },
  {
   "cell_type": "markdown",
   "metadata": {},
   "source": [
    "We will introduce the Fama—French data to estimate the exposure of assets to common risk factors using linear regression in [Chapter 8, Time Series Models]([](../../08_time_series_models))."
   ]
  },
  {
   "cell_type": "markdown",
   "metadata": {},
   "source": [
    "The five Fama—French factors, namely market risk, size, value, operating profitability, and investment have been shown empirically to explain asset returns and are commonly used to assess the risk/return profile of portfolios. Hence, it is natural to include past factor exposures as financial features in models that aim to predict future returns."
   ]
  },
  {
   "cell_type": "markdown",
   "metadata": {},
   "source": [
    "We can access the historical factor returns using the `pandas-datareader` and estimate historical exposures using the `PandasRollingOLS` rolling linear regression functionality in the `pyfinance` library as follows:"
   ]
  },
  {
   "cell_type": "markdown",
   "metadata": {},
   "source": [
    "Use Fama-French research factors to estimate the factor exposures of the stock in the dataset to the 5 factors market risk, size, value, operating profitability and investment."
   ]
  },
  {
   "cell_type": "code",
   "execution_count": 89,
   "metadata": {
    "ExecuteTime": {
     "end_time": "2021-02-23T20:42:11.097763Z",
     "start_time": "2021-02-23T20:42:10.880529Z"
    },
    "scrolled": false
   },
   "outputs": [
    {
     "name": "stdout",
     "output_type": "stream",
     "text": [
      "<class 'pandas.core.frame.DataFrame'>\n",
      "DatetimeIndex: 334 entries, 1995-01-31 to 2022-10-31\n",
      "Freq: M\n",
      "Data columns (total 5 columns):\n",
      " #   Column  Non-Null Count  Dtype  \n",
      "---  ------  --------------  -----  \n",
      " 0   Mkt-RF  334 non-null    float64\n",
      " 1   SMB     334 non-null    float64\n",
      " 2   HML     334 non-null    float64\n",
      " 3   RMW     334 non-null    float64\n",
      " 4   CMA     334 non-null    float64\n",
      "dtypes: float64(5)\n",
      "memory usage: 15.7 KB\n"
     ]
    }
   ],
   "source": [
    "factors = ['Mkt-RF', 'SMB', 'HML', 'RMW', 'CMA']\n",
    "factor_data = web.DataReader('F-F_Research_Data_5_Factors_2x3', \n",
    "                             'famafrench', \n",
    "                             start=START)[0].drop('RF', axis=1)\n",
    "factor_data.index = factor_data.index.to_timestamp()\n",
    "factor_data = factor_data.resample('M').last().div(100)\n",
    "factor_data.index.name = 'date'\n",
    "factor_data.info()"
   ]
  },
  {
   "cell_type": "code",
   "execution_count": 90,
   "metadata": {},
   "outputs": [
    {
     "data": {
      "text/html": [
       "<div>\n",
       "<style scoped>\n",
       "    .dataframe tbody tr th:only-of-type {\n",
       "        vertical-align: middle;\n",
       "    }\n",
       "\n",
       "    .dataframe tbody tr th {\n",
       "        vertical-align: top;\n",
       "    }\n",
       "\n",
       "    .dataframe thead th {\n",
       "        text-align: right;\n",
       "    }\n",
       "</style>\n",
       "<table border=\"1\" class=\"dataframe\">\n",
       "  <thead>\n",
       "    <tr style=\"text-align: right;\">\n",
       "      <th></th>\n",
       "      <th>Mkt-RF</th>\n",
       "      <th>SMB</th>\n",
       "      <th>HML</th>\n",
       "      <th>RMW</th>\n",
       "      <th>CMA</th>\n",
       "    </tr>\n",
       "    <tr>\n",
       "      <th>date</th>\n",
       "      <th></th>\n",
       "      <th></th>\n",
       "      <th></th>\n",
       "      <th></th>\n",
       "      <th></th>\n",
       "    </tr>\n",
       "  </thead>\n",
       "  <tbody>\n",
       "    <tr>\n",
       "      <th>1995-01-31</th>\n",
       "      <td>0.0180</td>\n",
       "      <td>-0.0306</td>\n",
       "      <td>0.0257</td>\n",
       "      <td>0.0017</td>\n",
       "      <td>-0.0075</td>\n",
       "    </tr>\n",
       "    <tr>\n",
       "      <th>1995-02-28</th>\n",
       "      <td>0.0363</td>\n",
       "      <td>-0.0054</td>\n",
       "      <td>0.0108</td>\n",
       "      <td>0.0059</td>\n",
       "      <td>-0.0033</td>\n",
       "    </tr>\n",
       "    <tr>\n",
       "      <th>1995-03-31</th>\n",
       "      <td>0.0219</td>\n",
       "      <td>-0.0051</td>\n",
       "      <td>-0.0215</td>\n",
       "      <td>-0.0017</td>\n",
       "      <td>0.0022</td>\n",
       "    </tr>\n",
       "    <tr>\n",
       "      <th>1995-04-30</th>\n",
       "      <td>0.0211</td>\n",
       "      <td>-0.0022</td>\n",
       "      <td>0.0171</td>\n",
       "      <td>0.0041</td>\n",
       "      <td>0.0090</td>\n",
       "    </tr>\n",
       "    <tr>\n",
       "      <th>1995-05-31</th>\n",
       "      <td>0.0290</td>\n",
       "      <td>-0.0219</td>\n",
       "      <td>0.0229</td>\n",
       "      <td>0.0039</td>\n",
       "      <td>0.0004</td>\n",
       "    </tr>\n",
       "    <tr>\n",
       "      <th>...</th>\n",
       "      <td>...</td>\n",
       "      <td>...</td>\n",
       "      <td>...</td>\n",
       "      <td>...</td>\n",
       "      <td>...</td>\n",
       "    </tr>\n",
       "    <tr>\n",
       "      <th>2022-06-30</th>\n",
       "      <td>-0.0843</td>\n",
       "      <td>0.0130</td>\n",
       "      <td>-0.0597</td>\n",
       "      <td>0.0185</td>\n",
       "      <td>-0.0470</td>\n",
       "    </tr>\n",
       "    <tr>\n",
       "      <th>2022-07-31</th>\n",
       "      <td>0.0957</td>\n",
       "      <td>0.0188</td>\n",
       "      <td>-0.0410</td>\n",
       "      <td>0.0068</td>\n",
       "      <td>-0.0694</td>\n",
       "    </tr>\n",
       "    <tr>\n",
       "      <th>2022-08-31</th>\n",
       "      <td>-0.0377</td>\n",
       "      <td>0.0151</td>\n",
       "      <td>0.0031</td>\n",
       "      <td>-0.0479</td>\n",
       "      <td>0.0130</td>\n",
       "    </tr>\n",
       "    <tr>\n",
       "      <th>2022-09-30</th>\n",
       "      <td>-0.0935</td>\n",
       "      <td>-0.0100</td>\n",
       "      <td>0.0003</td>\n",
       "      <td>-0.0149</td>\n",
       "      <td>-0.0085</td>\n",
       "    </tr>\n",
       "    <tr>\n",
       "      <th>2022-10-31</th>\n",
       "      <td>0.0783</td>\n",
       "      <td>0.0187</td>\n",
       "      <td>0.0806</td>\n",
       "      <td>0.0306</td>\n",
       "      <td>0.0656</td>\n",
       "    </tr>\n",
       "  </tbody>\n",
       "</table>\n",
       "<p>334 rows × 5 columns</p>\n",
       "</div>"
      ],
      "text/plain": [
       "            Mkt-RF     SMB     HML     RMW     CMA\n",
       "date                                              \n",
       "1995-01-31  0.0180 -0.0306  0.0257  0.0017 -0.0075\n",
       "1995-02-28  0.0363 -0.0054  0.0108  0.0059 -0.0033\n",
       "1995-03-31  0.0219 -0.0051 -0.0215 -0.0017  0.0022\n",
       "1995-04-30  0.0211 -0.0022  0.0171  0.0041  0.0090\n",
       "1995-05-31  0.0290 -0.0219  0.0229  0.0039  0.0004\n",
       "...            ...     ...     ...     ...     ...\n",
       "2022-06-30 -0.0843  0.0130 -0.0597  0.0185 -0.0470\n",
       "2022-07-31  0.0957  0.0188 -0.0410  0.0068 -0.0694\n",
       "2022-08-31 -0.0377  0.0151  0.0031 -0.0479  0.0130\n",
       "2022-09-30 -0.0935 -0.0100  0.0003 -0.0149 -0.0085\n",
       "2022-10-31  0.0783  0.0187  0.0806  0.0306  0.0656\n",
       "\n",
       "[334 rows x 5 columns]"
      ]
     },
     "execution_count": 90,
     "metadata": {},
     "output_type": "execute_result"
    }
   ],
   "source": [
    "factor_data"
   ]
  },
  {
   "cell_type": "code",
   "execution_count": 91,
   "metadata": {
    "ExecuteTime": {
     "end_time": "2021-02-23T20:42:12.481069Z",
     "start_time": "2021-02-23T20:42:12.417368Z"
    },
    "scrolled": true
   },
   "outputs": [
    {
     "name": "stdout",
     "output_type": "stream",
     "text": [
      "<class 'pandas.core.frame.DataFrame'>\n",
      "MultiIndex: 115181 entries, ('A', Timestamp('2001-12-31 00:00:00', freq='M')) to ('ZION', Timestamp('2017-12-31 00:00:00', freq='M'))\n",
      "Data columns (total 6 columns):\n",
      " #   Column     Non-Null Count   Dtype  \n",
      "---  ------     --------------   -----  \n",
      " 0   Mkt-RF     115181 non-null  float64\n",
      " 1   SMB        115181 non-null  float64\n",
      " 2   HML        115181 non-null  float64\n",
      " 3   RMW        115181 non-null  float64\n",
      " 4   CMA        115181 non-null  float64\n",
      " 5   return_1m  115181 non-null  float64\n",
      "dtypes: float64(6)\n",
      "memory usage: 5.8+ MB\n"
     ]
    }
   ],
   "source": [
    "factor_data = factor_data.join(data['return_1m']).dropna().sort_index()\n",
    "factor_data['return_1m'] -= factor_data['Mkt-RF'] #？\n",
    "factor_data.info()"
   ]
  },
  {
   "cell_type": "code",
   "execution_count": 92,
   "metadata": {},
   "outputs": [
    {
     "data": {
      "text/html": [
       "<div>\n",
       "<style scoped>\n",
       "    .dataframe tbody tr th:only-of-type {\n",
       "        vertical-align: middle;\n",
       "    }\n",
       "\n",
       "    .dataframe tbody tr th {\n",
       "        vertical-align: top;\n",
       "    }\n",
       "\n",
       "    .dataframe thead th {\n",
       "        text-align: right;\n",
       "    }\n",
       "</style>\n",
       "<table border=\"1\" class=\"dataframe\">\n",
       "  <thead>\n",
       "    <tr style=\"text-align: right;\">\n",
       "      <th></th>\n",
       "      <th></th>\n",
       "      <th>Mkt-RF</th>\n",
       "      <th>SMB</th>\n",
       "      <th>HML</th>\n",
       "      <th>RMW</th>\n",
       "      <th>CMA</th>\n",
       "      <th>return_1m</th>\n",
       "    </tr>\n",
       "    <tr>\n",
       "      <th>ticker</th>\n",
       "      <th>date</th>\n",
       "      <th></th>\n",
       "      <th></th>\n",
       "      <th></th>\n",
       "      <th></th>\n",
       "      <th></th>\n",
       "      <th></th>\n",
       "    </tr>\n",
       "  </thead>\n",
       "  <tbody>\n",
       "    <tr>\n",
       "      <th rowspan=\"5\" valign=\"top\">A</th>\n",
       "      <th>2001-12-31</th>\n",
       "      <td>0.0160</td>\n",
       "      <td>0.0516</td>\n",
       "      <td>0.0085</td>\n",
       "      <td>0.0035</td>\n",
       "      <td>-0.0027</td>\n",
       "      <td>0.029471</td>\n",
       "    </tr>\n",
       "    <tr>\n",
       "      <th>2002-01-31</th>\n",
       "      <td>-0.0144</td>\n",
       "      <td>0.0126</td>\n",
       "      <td>0.0344</td>\n",
       "      <td>0.0469</td>\n",
       "      <td>0.0283</td>\n",
       "      <td>0.078939</td>\n",
       "    </tr>\n",
       "    <tr>\n",
       "      <th>2002-02-28</th>\n",
       "      <td>-0.0229</td>\n",
       "      <td>-0.0036</td>\n",
       "      <td>0.0216</td>\n",
       "      <td>0.0806</td>\n",
       "      <td>0.0511</td>\n",
       "      <td>0.049259</td>\n",
       "    </tr>\n",
       "    <tr>\n",
       "      <th>2002-03-31</th>\n",
       "      <td>0.0424</td>\n",
       "      <td>0.0425</td>\n",
       "      <td>0.0106</td>\n",
       "      <td>-0.0178</td>\n",
       "      <td>0.0057</td>\n",
       "      <td>0.079911</td>\n",
       "    </tr>\n",
       "    <tr>\n",
       "      <th>2002-04-30</th>\n",
       "      <td>-0.0520</td>\n",
       "      <td>0.0672</td>\n",
       "      <td>0.0388</td>\n",
       "      <td>0.0456</td>\n",
       "      <td>0.0538</td>\n",
       "      <td>-0.088446</td>\n",
       "    </tr>\n",
       "    <tr>\n",
       "      <th>...</th>\n",
       "      <th>...</th>\n",
       "      <td>...</td>\n",
       "      <td>...</td>\n",
       "      <td>...</td>\n",
       "      <td>...</td>\n",
       "      <td>...</td>\n",
       "      <td>...</td>\n",
       "    </tr>\n",
       "    <tr>\n",
       "      <th rowspan=\"5\" valign=\"top\">ZION</th>\n",
       "      <th>2017-08-31</th>\n",
       "      <td>0.0016</td>\n",
       "      <td>-0.0182</td>\n",
       "      <td>-0.0209</td>\n",
       "      <td>0.0015</td>\n",
       "      <td>-0.0237</td>\n",
       "      <td>-0.035667</td>\n",
       "    </tr>\n",
       "    <tr>\n",
       "      <th>2017-09-30</th>\n",
       "      <td>0.0251</td>\n",
       "      <td>0.0477</td>\n",
       "      <td>0.0312</td>\n",
       "      <td>-0.0146</td>\n",
       "      <td>0.0168</td>\n",
       "      <td>0.055523</td>\n",
       "    </tr>\n",
       "    <tr>\n",
       "      <th>2017-10-31</th>\n",
       "      <td>0.0225</td>\n",
       "      <td>-0.0193</td>\n",
       "      <td>0.0021</td>\n",
       "      <td>0.0092</td>\n",
       "      <td>-0.0324</td>\n",
       "      <td>-0.037761</td>\n",
       "    </tr>\n",
       "    <tr>\n",
       "      <th>2017-11-30</th>\n",
       "      <td>0.0312</td>\n",
       "      <td>-0.0036</td>\n",
       "      <td>-0.0008</td>\n",
       "      <td>0.0319</td>\n",
       "      <td>-0.0007</td>\n",
       "      <td>0.035309</td>\n",
       "    </tr>\n",
       "    <tr>\n",
       "      <th>2017-12-31</th>\n",
       "      <td>0.0106</td>\n",
       "      <td>-0.0107</td>\n",
       "      <td>0.0005</td>\n",
       "      <td>0.0074</td>\n",
       "      <td>0.0166</td>\n",
       "      <td>0.015232</td>\n",
       "    </tr>\n",
       "  </tbody>\n",
       "</table>\n",
       "<p>115181 rows × 6 columns</p>\n",
       "</div>"
      ],
      "text/plain": [
       "                   Mkt-RF     SMB     HML     RMW     CMA  return_1m\n",
       "ticker date                                                         \n",
       "A      2001-12-31  0.0160  0.0516  0.0085  0.0035 -0.0027   0.029471\n",
       "       2002-01-31 -0.0144  0.0126  0.0344  0.0469  0.0283   0.078939\n",
       "       2002-02-28 -0.0229 -0.0036  0.0216  0.0806  0.0511   0.049259\n",
       "       2002-03-31  0.0424  0.0425  0.0106 -0.0178  0.0057   0.079911\n",
       "       2002-04-30 -0.0520  0.0672  0.0388  0.0456  0.0538  -0.088446\n",
       "...                   ...     ...     ...     ...     ...        ...\n",
       "ZION   2017-08-31  0.0016 -0.0182 -0.0209  0.0015 -0.0237  -0.035667\n",
       "       2017-09-30  0.0251  0.0477  0.0312 -0.0146  0.0168   0.055523\n",
       "       2017-10-31  0.0225 -0.0193  0.0021  0.0092 -0.0324  -0.037761\n",
       "       2017-11-30  0.0312 -0.0036 -0.0008  0.0319 -0.0007   0.035309\n",
       "       2017-12-31  0.0106 -0.0107  0.0005  0.0074  0.0166   0.015232\n",
       "\n",
       "[115181 rows x 6 columns]"
      ]
     },
     "execution_count": 92,
     "metadata": {},
     "output_type": "execute_result"
    }
   ],
   "source": [
    "factor_data"
   ]
  },
  {
   "cell_type": "code",
   "execution_count": 93,
   "metadata": {
    "ExecuteTime": {
     "end_time": "2021-02-23T20:42:12.761795Z",
     "start_time": "2021-02-23T20:42:12.722981Z"
    }
   },
   "outputs": [
    {
     "data": {
      "text/html": [
       "<div>\n",
       "<style scoped>\n",
       "    .dataframe tbody tr th:only-of-type {\n",
       "        vertical-align: middle;\n",
       "    }\n",
       "\n",
       "    .dataframe tbody tr th {\n",
       "        vertical-align: top;\n",
       "    }\n",
       "\n",
       "    .dataframe thead th {\n",
       "        text-align: right;\n",
       "    }\n",
       "</style>\n",
       "<table border=\"1\" class=\"dataframe\">\n",
       "  <thead>\n",
       "    <tr style=\"text-align: right;\">\n",
       "      <th></th>\n",
       "      <th>Mkt-RF</th>\n",
       "      <th>SMB</th>\n",
       "      <th>HML</th>\n",
       "      <th>RMW</th>\n",
       "      <th>CMA</th>\n",
       "      <th>return_1m</th>\n",
       "    </tr>\n",
       "  </thead>\n",
       "  <tbody>\n",
       "    <tr>\n",
       "      <th>count</th>\n",
       "      <td>115181.000000</td>\n",
       "      <td>115181.000000</td>\n",
       "      <td>115181.000000</td>\n",
       "      <td>115181.000000</td>\n",
       "      <td>115181.000000</td>\n",
       "      <td>115181.000000</td>\n",
       "    </tr>\n",
       "    <tr>\n",
       "      <th>mean</th>\n",
       "      <td>0.006182</td>\n",
       "      <td>0.002323</td>\n",
       "      <td>0.001869</td>\n",
       "      <td>0.003278</td>\n",
       "      <td>0.002459</td>\n",
       "      <td>0.005458</td>\n",
       "    </tr>\n",
       "    <tr>\n",
       "      <th>std</th>\n",
       "      <td>0.044295</td>\n",
       "      <td>0.031620</td>\n",
       "      <td>0.031330</td>\n",
       "      <td>0.029362</td>\n",
       "      <td>0.020980</td>\n",
       "      <td>0.092551</td>\n",
       "    </tr>\n",
       "    <tr>\n",
       "      <th>min</th>\n",
       "      <td>-0.172300</td>\n",
       "      <td>-0.153500</td>\n",
       "      <td>-0.112900</td>\n",
       "      <td>-0.187300</td>\n",
       "      <td>-0.067700</td>\n",
       "      <td>-0.387267</td>\n",
       "    </tr>\n",
       "    <tr>\n",
       "      <th>25%</th>\n",
       "      <td>-0.019700</td>\n",
       "      <td>-0.017000</td>\n",
       "      <td>-0.014900</td>\n",
       "      <td>-0.010700</td>\n",
       "      <td>-0.010300</td>\n",
       "      <td>-0.043905</td>\n",
       "    </tr>\n",
       "    <tr>\n",
       "      <th>50%</th>\n",
       "      <td>0.011700</td>\n",
       "      <td>0.001400</td>\n",
       "      <td>0.000300</td>\n",
       "      <td>0.003600</td>\n",
       "      <td>0.000100</td>\n",
       "      <td>0.002599</td>\n",
       "    </tr>\n",
       "    <tr>\n",
       "      <th>75%</th>\n",
       "      <td>0.034900</td>\n",
       "      <td>0.023300</td>\n",
       "      <td>0.017800</td>\n",
       "      <td>0.013900</td>\n",
       "      <td>0.014300</td>\n",
       "      <td>0.050718</td>\n",
       "    </tr>\n",
       "    <tr>\n",
       "      <th>max</th>\n",
       "      <td>0.113500</td>\n",
       "      <td>0.183400</td>\n",
       "      <td>0.124800</td>\n",
       "      <td>0.130900</td>\n",
       "      <td>0.090500</td>\n",
       "      <td>0.503475</td>\n",
       "    </tr>\n",
       "  </tbody>\n",
       "</table>\n",
       "</div>"
      ],
      "text/plain": [
       "              Mkt-RF            SMB            HML            RMW  \\\n",
       "count  115181.000000  115181.000000  115181.000000  115181.000000   \n",
       "mean        0.006182       0.002323       0.001869       0.003278   \n",
       "std         0.044295       0.031620       0.031330       0.029362   \n",
       "min        -0.172300      -0.153500      -0.112900      -0.187300   \n",
       "25%        -0.019700      -0.017000      -0.014900      -0.010700   \n",
       "50%         0.011700       0.001400       0.000300       0.003600   \n",
       "75%         0.034900       0.023300       0.017800       0.013900   \n",
       "max         0.113500       0.183400       0.124800       0.130900   \n",
       "\n",
       "                 CMA      return_1m  \n",
       "count  115181.000000  115181.000000  \n",
       "mean        0.002459       0.005458  \n",
       "std         0.020980       0.092551  \n",
       "min        -0.067700      -0.387267  \n",
       "25%        -0.010300      -0.043905  \n",
       "50%         0.000100       0.002599  \n",
       "75%         0.014300       0.050718  \n",
       "max         0.090500       0.503475  "
      ]
     },
     "execution_count": 93,
     "metadata": {},
     "output_type": "execute_result"
    }
   ],
   "source": [
    "factor_data.describe()"
   ]
  },
  {
   "cell_type": "code",
   "execution_count": 94,
   "metadata": {
    "ExecuteTime": {
     "end_time": "2021-02-23T20:42:17.214895Z",
     "start_time": "2021-02-23T20:42:15.331075Z"
    }
   },
   "outputs": [],
   "source": [
    "T = 60\n",
    "# betas = (factor_data\n",
    "#          .groupby(level='ticker', group_keys=False)\n",
    "#          .apply(lambda x: PandasRollingOLS(window=min(T, x.shape[0]-1), \n",
    "#                                            y=x.return_1m, \n",
    "#                                            x=x.drop('return_1m', axis=1)).beta)\n",
    "#         .rename(columns={'Mkt-RF': 'beta'}))\n",
    "betas = (factor_data.groupby(level='ticker',\n",
    "                             group_keys=False)\n",
    "         .apply(lambda x: RollingOLS(endog=x.return_1m,\n",
    "                                     exog=sm.add_constant(x.drop('return_1m', axis=1)),\n",
    "                                     window=min(T, x.shape[0]-1))\n",
    "                .fit(params_only=True)\n",
    "                .params\n",
    "                .rename(columns={'Mkt-RF': 'beta'})\n",
    "                .drop('const', axis=1)))"
   ]
  },
  {
   "cell_type": "code",
   "execution_count": 95,
   "metadata": {},
   "outputs": [
    {
     "data": {
      "text/html": [
       "<div>\n",
       "<style scoped>\n",
       "    .dataframe tbody tr th:only-of-type {\n",
       "        vertical-align: middle;\n",
       "    }\n",
       "\n",
       "    .dataframe tbody tr th {\n",
       "        vertical-align: top;\n",
       "    }\n",
       "\n",
       "    .dataframe thead th {\n",
       "        text-align: right;\n",
       "    }\n",
       "</style>\n",
       "<table border=\"1\" class=\"dataframe\">\n",
       "  <thead>\n",
       "    <tr style=\"text-align: right;\">\n",
       "      <th></th>\n",
       "      <th></th>\n",
       "      <th>beta</th>\n",
       "      <th>SMB</th>\n",
       "      <th>HML</th>\n",
       "      <th>RMW</th>\n",
       "      <th>CMA</th>\n",
       "    </tr>\n",
       "    <tr>\n",
       "      <th>ticker</th>\n",
       "      <th>date</th>\n",
       "      <th></th>\n",
       "      <th></th>\n",
       "      <th></th>\n",
       "      <th></th>\n",
       "      <th></th>\n",
       "    </tr>\n",
       "  </thead>\n",
       "  <tbody>\n",
       "    <tr>\n",
       "      <th rowspan=\"5\" valign=\"top\">A</th>\n",
       "      <th>2001-12-31</th>\n",
       "      <td>NaN</td>\n",
       "      <td>NaN</td>\n",
       "      <td>NaN</td>\n",
       "      <td>NaN</td>\n",
       "      <td>NaN</td>\n",
       "    </tr>\n",
       "    <tr>\n",
       "      <th>2002-01-31</th>\n",
       "      <td>NaN</td>\n",
       "      <td>NaN</td>\n",
       "      <td>NaN</td>\n",
       "      <td>NaN</td>\n",
       "      <td>NaN</td>\n",
       "    </tr>\n",
       "    <tr>\n",
       "      <th>2002-02-28</th>\n",
       "      <td>NaN</td>\n",
       "      <td>NaN</td>\n",
       "      <td>NaN</td>\n",
       "      <td>NaN</td>\n",
       "      <td>NaN</td>\n",
       "    </tr>\n",
       "    <tr>\n",
       "      <th>2002-03-31</th>\n",
       "      <td>NaN</td>\n",
       "      <td>NaN</td>\n",
       "      <td>NaN</td>\n",
       "      <td>NaN</td>\n",
       "      <td>NaN</td>\n",
       "    </tr>\n",
       "    <tr>\n",
       "      <th>2002-04-30</th>\n",
       "      <td>NaN</td>\n",
       "      <td>NaN</td>\n",
       "      <td>NaN</td>\n",
       "      <td>NaN</td>\n",
       "      <td>NaN</td>\n",
       "    </tr>\n",
       "    <tr>\n",
       "      <th>...</th>\n",
       "      <th>...</th>\n",
       "      <td>...</td>\n",
       "      <td>...</td>\n",
       "      <td>...</td>\n",
       "      <td>...</td>\n",
       "      <td>...</td>\n",
       "    </tr>\n",
       "    <tr>\n",
       "      <th rowspan=\"5\" valign=\"top\">ZION</th>\n",
       "      <th>2017-08-31</th>\n",
       "      <td>0.296410</td>\n",
       "      <td>0.320123</td>\n",
       "      <td>2.070655</td>\n",
       "      <td>-0.981341</td>\n",
       "      <td>-1.780011</td>\n",
       "    </tr>\n",
       "    <tr>\n",
       "      <th>2017-09-30</th>\n",
       "      <td>0.290438</td>\n",
       "      <td>0.312242</td>\n",
       "      <td>2.077740</td>\n",
       "      <td>-0.948005</td>\n",
       "      <td>-1.839265</td>\n",
       "    </tr>\n",
       "    <tr>\n",
       "      <th>2017-10-31</th>\n",
       "      <td>0.279815</td>\n",
       "      <td>0.367169</td>\n",
       "      <td>1.872376</td>\n",
       "      <td>-1.022642</td>\n",
       "      <td>-1.445799</td>\n",
       "    </tr>\n",
       "    <tr>\n",
       "      <th>2017-11-30</th>\n",
       "      <td>0.305790</td>\n",
       "      <td>0.426000</td>\n",
       "      <td>1.836790</td>\n",
       "      <td>-0.831808</td>\n",
       "      <td>-1.414201</td>\n",
       "    </tr>\n",
       "    <tr>\n",
       "      <th>2017-12-31</th>\n",
       "      <td>0.306660</td>\n",
       "      <td>0.402459</td>\n",
       "      <td>1.821208</td>\n",
       "      <td>-0.880225</td>\n",
       "      <td>-1.289391</td>\n",
       "    </tr>\n",
       "  </tbody>\n",
       "</table>\n",
       "<p>115181 rows × 5 columns</p>\n",
       "</div>"
      ],
      "text/plain": [
       "                       beta       SMB       HML       RMW       CMA\n",
       "ticker date                                                        \n",
       "A      2001-12-31       NaN       NaN       NaN       NaN       NaN\n",
       "       2002-01-31       NaN       NaN       NaN       NaN       NaN\n",
       "       2002-02-28       NaN       NaN       NaN       NaN       NaN\n",
       "       2002-03-31       NaN       NaN       NaN       NaN       NaN\n",
       "       2002-04-30       NaN       NaN       NaN       NaN       NaN\n",
       "...                     ...       ...       ...       ...       ...\n",
       "ZION   2017-08-31  0.296410  0.320123  2.070655 -0.981341 -1.780011\n",
       "       2017-09-30  0.290438  0.312242  2.077740 -0.948005 -1.839265\n",
       "       2017-10-31  0.279815  0.367169  1.872376 -1.022642 -1.445799\n",
       "       2017-11-30  0.305790  0.426000  1.836790 -0.831808 -1.414201\n",
       "       2017-12-31  0.306660  0.402459  1.821208 -0.880225 -1.289391\n",
       "\n",
       "[115181 rows x 5 columns]"
      ]
     },
     "execution_count": 95,
     "metadata": {},
     "output_type": "execute_result"
    }
   ],
   "source": [
    "betas"
   ]
  },
  {
   "cell_type": "code",
   "execution_count": 96,
   "metadata": {},
   "outputs": [
    {
     "data": {
      "text/html": [
       "<div>\n",
       "<style scoped>\n",
       "    .dataframe tbody tr th:only-of-type {\n",
       "        vertical-align: middle;\n",
       "    }\n",
       "\n",
       "    .dataframe tbody tr th {\n",
       "        vertical-align: top;\n",
       "    }\n",
       "\n",
       "    .dataframe thead th {\n",
       "        text-align: right;\n",
       "    }\n",
       "</style>\n",
       "<table border=\"1\" class=\"dataframe\">\n",
       "  <thead>\n",
       "    <tr style=\"text-align: right;\">\n",
       "      <th></th>\n",
       "      <th>beta</th>\n",
       "      <th>SMB</th>\n",
       "      <th>HML</th>\n",
       "      <th>RMW</th>\n",
       "      <th>CMA</th>\n",
       "      <th>total</th>\n",
       "    </tr>\n",
       "  </thead>\n",
       "  <tbody>\n",
       "    <tr>\n",
       "      <th>count</th>\n",
       "      <td>79014.000000</td>\n",
       "      <td>79014.000000</td>\n",
       "      <td>79014.000000</td>\n",
       "      <td>79014.000000</td>\n",
       "      <td>79014.000000</td>\n",
       "      <td>115181.000000</td>\n",
       "    </tr>\n",
       "    <tr>\n",
       "      <th>mean</th>\n",
       "      <td>0.066598</td>\n",
       "      <td>0.188690</td>\n",
       "      <td>0.117499</td>\n",
       "      <td>-0.018827</td>\n",
       "      <td>0.009469</td>\n",
       "      <td>0.249311</td>\n",
       "    </tr>\n",
       "    <tr>\n",
       "      <th>std</th>\n",
       "      <td>0.480192</td>\n",
       "      <td>0.586571</td>\n",
       "      <td>0.819292</td>\n",
       "      <td>0.878633</td>\n",
       "      <td>0.968533</td>\n",
       "      <td>1.384270</td>\n",
       "    </tr>\n",
       "    <tr>\n",
       "      <th>min</th>\n",
       "      <td>-1.841482</td>\n",
       "      <td>-1.995921</td>\n",
       "      <td>-4.042187</td>\n",
       "      <td>-5.201273</td>\n",
       "      <td>-5.129024</td>\n",
       "      <td>-10.004624</td>\n",
       "    </tr>\n",
       "    <tr>\n",
       "      <th>25%</th>\n",
       "      <td>-0.257038</td>\n",
       "      <td>-0.206762</td>\n",
       "      <td>-0.414350</td>\n",
       "      <td>-0.495432</td>\n",
       "      <td>-0.543025</td>\n",
       "      <td>-0.143136</td>\n",
       "    </tr>\n",
       "    <tr>\n",
       "      <th>50%</th>\n",
       "      <td>0.044411</td>\n",
       "      <td>0.147280</td>\n",
       "      <td>0.062184</td>\n",
       "      <td>0.044655</td>\n",
       "      <td>0.058279</td>\n",
       "      <td>0.000000</td>\n",
       "    </tr>\n",
       "    <tr>\n",
       "      <th>75%</th>\n",
       "      <td>0.370229</td>\n",
       "      <td>0.544048</td>\n",
       "      <td>0.603386</td>\n",
       "      <td>0.537252</td>\n",
       "      <td>0.603451</td>\n",
       "      <td>0.838997</td>\n",
       "    </tr>\n",
       "    <tr>\n",
       "      <th>max</th>\n",
       "      <td>2.739554</td>\n",
       "      <td>3.314653</td>\n",
       "      <td>4.759474</td>\n",
       "      <td>4.036887</td>\n",
       "      <td>5.085621</td>\n",
       "      <td>10.772196</td>\n",
       "    </tr>\n",
       "  </tbody>\n",
       "</table>\n",
       "</div>"
      ],
      "text/plain": [
       "               beta           SMB           HML           RMW           CMA  \\\n",
       "count  79014.000000  79014.000000  79014.000000  79014.000000  79014.000000   \n",
       "mean       0.066598      0.188690      0.117499     -0.018827      0.009469   \n",
       "std        0.480192      0.586571      0.819292      0.878633      0.968533   \n",
       "min       -1.841482     -1.995921     -4.042187     -5.201273     -5.129024   \n",
       "25%       -0.257038     -0.206762     -0.414350     -0.495432     -0.543025   \n",
       "50%        0.044411      0.147280      0.062184      0.044655      0.058279   \n",
       "75%        0.370229      0.544048      0.603386      0.537252      0.603451   \n",
       "max        2.739554      3.314653      4.759474      4.036887      5.085621   \n",
       "\n",
       "               total  \n",
       "count  115181.000000  \n",
       "mean        0.249311  \n",
       "std         1.384270  \n",
       "min       -10.004624  \n",
       "25%        -0.143136  \n",
       "50%         0.000000  \n",
       "75%         0.838997  \n",
       "max        10.772196  "
      ]
     },
     "execution_count": 96,
     "metadata": {},
     "output_type": "execute_result"
    }
   ],
   "source": [
    "betas.describe().join(betas.sum(1).describe().to_frame('total'))"
   ]
  },
  {
   "cell_type": "code",
   "execution_count": 97,
   "metadata": {
    "ExecuteTime": {
     "end_time": "2021-02-23T20:42:17.624730Z",
     "start_time": "2021-02-23T20:42:17.252923Z"
    }
   },
   "outputs": [
    {
     "data": {
      "image/png": "[encoded data removed]",
      "text/plain": [
       "<Figure size 1000x1000 with 4 Axes>"
      ]
     },
     "metadata": {},
     "output_type": "display_data"
    }
   ],
   "source": [
    "cmap = sns.diverging_palette(10, 220, as_cmap=True)\n",
    "sns.clustermap(betas.corr(), annot=True, cmap=cmap, center=0);"
   ]
  },
  {
   "cell_type": "code",
   "execution_count": 98,
   "metadata": {
    "ExecuteTime": {
     "end_time": "2021-02-23T20:42:20.852056Z",
     "start_time": "2021-02-23T20:42:20.613962Z"
    },
    "scrolled": true
   },
   "outputs": [],
   "source": [
    "data = (data\n",
    "        .join(betas\n",
    "              .groupby(level='ticker')\n",
    "              .shift())\n",
    "       .dropna()\n",
    "       .sort_index())"
   ]
  },
  {
   "cell_type": "code",
   "execution_count": 99,
   "metadata": {
    "ExecuteTime": {
     "end_time": "2021-02-23T20:42:21.019345Z",
     "start_time": "2021-02-23T20:42:21.005378Z"
    }
   },
   "outputs": [
    {
     "name": "stdout",
     "output_type": "stream",
     "text": [
      "<class 'pandas.core.frame.DataFrame'>\n",
      "MultiIndex: 78401 entries, ('A', Timestamp('2006-12-31 00:00:00')) to ('ZION', Timestamp('2017-12-31 00:00:00'))\n",
      "Data columns (total 19 columns):\n",
      " #   Column      Non-Null Count  Dtype  \n",
      "---  ------      --------------  -----  \n",
      " 0   atr         78401 non-null  float64\n",
      " 1   bb_down     78401 non-null  float64\n",
      " 2   bb_high     78401 non-null  float64\n",
      " 3   bb_low      78401 non-null  float64\n",
      " 4   bb_mid      78401 non-null  float64\n",
      " 5   bb_up       78401 non-null  float64\n",
      " 6   macd        78401 non-null  float64\n",
      " 7   natr        78401 non-null  float64\n",
      " 8   rsi         78401 non-null  float64\n",
      " 9   sector      78401 non-null  object \n",
      " 10  return_1m   78401 non-null  float64\n",
      " 11  return_3m   78401 non-null  float64\n",
      " 12  return_6m   78401 non-null  float64\n",
      " 13  return_12m  78401 non-null  float64\n",
      " 14  beta        78401 non-null  float64\n",
      " 15  SMB         78401 non-null  float64\n",
      " 16  HML         78401 non-null  float64\n",
      " 17  RMW         78401 non-null  float64\n",
      " 18  CMA         78401 non-null  float64\n",
      "dtypes: float64(18), object(1)\n",
      "memory usage: 11.8+ MB\n"
     ]
    }
   ],
   "source": [
    "data.info()"
   ]
  },
  {
   "cell_type": "markdown",
   "metadata": {},
   "source": [
    "## Momentum factors"
   ]
  },
  {
   "cell_type": "markdown",
   "metadata": {},
   "source": [
    "We can use these results to compute momentum factors based on the difference between returns over longer periods and the most recent monthly return, as well as for the difference between 3 and 12 month returns as follows:"
   ]
  },
  {
   "cell_type": "code",
   "execution_count": 100,
   "metadata": {
    "ExecuteTime": {
     "end_time": "2021-02-23T20:42:23.799079Z",
     "start_time": "2021-02-23T20:42:23.793520Z"
    }
   },
   "outputs": [],
   "source": [
    "for lag in [3, 6, 12]:\n",
    "    data[f'momentum_{lag}'] = data[f'return_{lag}m'].sub(data.return_1m)\n",
    "    if lag > 3:\n",
    "        data[f'momentum_3_{lag}'] = data[f'return_{lag}m'].sub(data.return_3m)    "
   ]
  },
  {
   "cell_type": "markdown",
   "metadata": {},
   "source": [
    "## Date Indicators"
   ]
  },
  {
   "cell_type": "code",
   "execution_count": 104,
   "metadata": {
    "ExecuteTime": {
     "end_time": "2021-02-23T20:42:24.107325Z",
     "start_time": "2021-02-23T20:42:24.092809Z"
    }
   },
   "outputs": [],
   "source": [
    "dates = data.index.get_level_values('date')\n",
    "data['year'] = dates.year\n",
    "data['month'] = dates.month"
   ]
  },
  {
   "cell_type": "markdown",
   "metadata": {},
   "source": [
    "## Target: Holding Period Returns"
   ]
  },
  {
   "cell_type": "markdown",
   "metadata": {},
   "source": [
    "To compute returns for our one-month target holding period, we use the returns computed previously and shift them back to align them with the current financial features."
   ]
  },
  {
   "cell_type": "code",
   "execution_count": 105,
   "metadata": {
    "ExecuteTime": {
     "end_time": "2021-02-23T20:42:26.197129Z",
     "start_time": "2021-02-23T20:42:26.187948Z"
    }
   },
   "outputs": [],
   "source": [
    "data['target'] = data.groupby(level='ticker')[f'return_1m'].shift(-1) #数据向上移动1个单位"
   ]
  },
  {
   "cell_type": "code",
   "execution_count": 106,
   "metadata": {
    "ExecuteTime": {
     "end_time": "2021-02-23T20:42:26.392027Z",
     "start_time": "2021-02-23T20:42:26.374282Z"
    }
   },
   "outputs": [],
   "source": [
    "data = data.dropna()"
   ]
  },
  {
   "cell_type": "code",
   "execution_count": 107,
   "metadata": {
    "ExecuteTime": {
     "end_time": "2021-02-23T20:42:26.573080Z",
     "start_time": "2021-02-23T20:42:26.548680Z"
    },
    "scrolled": false
   },
   "outputs": [
    {
     "name": "stdout",
     "output_type": "stream",
     "text": [
      "<class 'pandas.core.frame.DataFrame'>\n",
      "MultiIndex: 77788 entries, ('A', Timestamp('2006-12-31 00:00:00')) to ('ZION', Timestamp('2017-11-30 00:00:00'))\n",
      "Data columns (total 27 columns):\n",
      " #   Column         Non-Null Count  Dtype  \n",
      "---  ------         --------------  -----  \n",
      " 0   atr            77788 non-null  float64\n",
      " 1   bb_down        77788 non-null  float64\n",
      " 2   bb_high        77788 non-null  float64\n",
      " 3   bb_low         77788 non-null  float64\n",
      " 4   bb_mid         77788 non-null  float64\n",
      " 5   bb_up          77788 non-null  float64\n",
      " 6   macd           77788 non-null  float64\n",
      " 7   natr           77788 non-null  float64\n",
      " 8   rsi            77788 non-null  float64\n",
      " 9   sector         77788 non-null  object \n",
      " 10  return_1m      77788 non-null  float64\n",
      " 11  return_3m      77788 non-null  float64\n",
      " 12  return_6m      77788 non-null  float64\n",
      " 13  return_12m     77788 non-null  float64\n",
      " 14  beta           77788 non-null  float64\n",
      " 15  SMB            77788 non-null  float64\n",
      " 16  HML            77788 non-null  float64\n",
      " 17  RMW            77788 non-null  float64\n",
      " 18  CMA            77788 non-null  float64\n",
      " 19  momentum_3     77788 non-null  float64\n",
      " 20  momentum_6     77788 non-null  float64\n",
      " 21  momentum_3_6   77788 non-null  float64\n",
      " 22  momentum_12    77788 non-null  float64\n",
      " 23  momentum_3_12  77788 non-null  float64\n",
      " 24  year           77788 non-null  int64  \n",
      " 25  month          77788 non-null  int64  \n",
      " 26  target         77788 non-null  float64\n",
      "dtypes: float64(24), int64(2), object(1)\n",
      "memory usage: 16.4+ MB\n"
     ]
    }
   ],
   "source": [
    "data.sort_index().info(null_counts=True)"
   ]
  },
  {
   "cell_type": "markdown",
   "metadata": {},
   "source": [
    "## Sector Breakdown"
   ]
  },
  {
   "cell_type": "code",
   "execution_count": 108,
   "metadata": {
    "ExecuteTime": {
     "end_time": "2021-02-23T20:42:27.081741Z",
     "start_time": "2021-02-23T20:42:26.879546Z"
    }
   },
   "outputs": [
    {
     "data": {
      "image/png": "[encoded data removed]",
      "text/plain": [
       "<Figure size 640x480 with 1 Axes>"
      ]
     },
     "metadata": {},
     "output_type": "display_data"
    }
   ],
   "source": [
    "ax = data.reset_index().groupby('sector').ticker.nunique().sort_values().plot.barh(title='Sector Breakdown')\n",
    "ax.set_ylabel('')\n",
    "ax.set_xlabel('# Tickers')\n",
    "sns.despine()\n",
    "plt.tight_layout();"
   ]
  },
  {
   "cell_type": "markdown",
   "metadata": {},
   "source": [
    "## Store data"
   ]
  },
  {
   "cell_type": "code",
   "execution_count": 109,
   "metadata": {
    "ExecuteTime": {
     "end_time": "2021-02-23T20:42:30.009591Z",
     "start_time": "2021-02-23T20:42:29.969076Z"
    },
    "scrolled": true
   },
   "outputs": [],
   "source": [
    "with pd.HDFStore('data.h5') as store:\n",
    "    store.put('us/equities/monthly', data)"
   ]
  },
  {
   "cell_type": "markdown",
   "metadata": {},
   "source": [
    "## Evaluate mutual information"
   ]
  },
  {
   "cell_type": "code",
   "execution_count": 121,
   "metadata": {
    "ExecuteTime": {
     "end_time": "2021-02-23T20:42:30.620609Z",
     "start_time": "2021-02-23T20:42:30.607499Z"
    },
    "scrolled": true
   },
   "outputs": [],
   "source": [
    "X = data.drop('target', axis=1)\n",
    "X.sector = pd.factorize(X.sector)[0]"
   ]
  },
  {
   "cell_type": "code",
   "execution_count": 122,
   "metadata": {
    "ExecuteTime": {
     "end_time": "2021-02-23T20:42:45.996017Z",
     "start_time": "2021-02-23T20:42:30.768783Z"
    }
   },
   "outputs": [],
   "source": [
    "mi = mutual_info_regression(X=X, y=data.target)"
   ]
  },
  {
   "cell_type": "code",
   "execution_count": 123,
   "metadata": {
    "ExecuteTime": {
     "end_time": "2021-02-23T20:42:46.001333Z",
     "start_time": "2021-02-23T20:42:45.997201Z"
    }
   },
   "outputs": [
    {
     "data": {
      "text/plain": [
       "natr             0.111732\n",
       "return_12m       0.060460\n",
       "return_6m        0.054410\n",
       "year             0.049377\n",
       "return_3m        0.046912\n",
       "momentum_3_12    0.040373\n",
       "momentum_3_6     0.037777\n",
       "bb_up            0.035957\n",
       "momentum_12      0.035620\n",
       "return_1m        0.034692\n",
       "dtype: float64"
      ]
     },
     "execution_count": 123,
     "metadata": {},
     "output_type": "execute_result"
    }
   ],
   "source": [
    "mi_reg = pd.Series(mi, index=X.columns)\n",
    "mi_reg.nlargest(10)"
   ]
  },
  {
   "cell_type": "code",
   "execution_count": 124,
   "metadata": {
    "ExecuteTime": {
     "end_time": "2021-02-23T20:42:56.372539Z",
     "start_time": "2021-02-23T20:42:46.002764Z"
    }
   },
   "outputs": [],
   "source": [
    "mi = mutual_info_classif(X=X, y=(data.target>0).astype(int))"
   ]
  },
  {
   "cell_type": "code",
   "execution_count": 125,
   "metadata": {
    "ExecuteTime": {
     "end_time": "2021-02-23T20:42:56.378061Z",
     "start_time": "2021-02-23T20:42:56.373817Z"
    }
   },
   "outputs": [
    {
     "data": {
      "text/plain": [
       "month         0.010354\n",
       "year          0.008163\n",
       "return_6m     0.005127\n",
       "atr           0.005069\n",
       "rsi           0.004227\n",
       "return_12m    0.003649\n",
       "return_1m     0.002525\n",
       "beta          0.002144\n",
       "natr          0.001931\n",
       "macd          0.001085\n",
       "dtype: float64"
      ]
     },
     "execution_count": 125,
     "metadata": {},
     "output_type": "execute_result"
    }
   ],
   "source": [
    "mi_class = pd.Series(mi, index=X.columns)\n",
    "mi_class.nlargest(10)"
   ]
  },
  {
   "cell_type": "code",
   "execution_count": 126,
   "metadata": {
    "ExecuteTime": {
     "end_time": "2021-02-23T20:42:56.402392Z",
     "start_time": "2021-02-23T20:42:56.379294Z"
    }
   },
   "outputs": [],
   "source": [
    "mi = mi_reg.to_frame('Regression').join(mi_class.to_frame('Classification'))"
   ]
  },
  {
   "cell_type": "code",
   "execution_count": 127,
   "metadata": {
    "ExecuteTime": {
     "end_time": "2021-02-23T20:42:56.410287Z",
     "start_time": "2021-02-23T20:42:56.403851Z"
    }
   },
   "outputs": [],
   "source": [
    "mi.index = [' '.join(c.upper().split('_')) for c in mi.index]"
   ]
  },
  {
   "cell_type": "code",
   "execution_count": 128,
   "metadata": {
    "ExecuteTime": {
     "end_time": "2021-02-23T20:42:56.986502Z",
     "start_time": "2021-02-23T20:42:56.411402Z"
    }
   },
   "outputs": [
    {
     "data": {
      "image/png": "[encoded data removed]",
      "text/plain": [
       "<Figure size 1200x400 with 2 Axes>"
      ]
     },
     "metadata": {},
     "output_type": "display_data"
    }
   ],
   "source": [
    "fig, axes = plt.subplots(ncols=2, figsize=(12, 4))\n",
    "for i, t in enumerate(['Regression', 'Classification']):\n",
    "    mi[t].nlargest(20).sort_values().plot.barh(title=t, ax=axes[i])\n",
    "    axes[i].set_xlabel('Mutual Information')\n",
    "fig.suptitle('Mutual Information', fontsize=14)\n",
    "sns.despine()\n",
    "fig.tight_layout()\n",
    "fig.subplots_adjust(top=.9)"
   ]
  }
 ],
 "metadata": {
  "kernelspec": {
   "display_name": "Python 3 (ipykernel)",
   "language": "python",
   "name": "python3"
  },
  "language_info": {
   "codemirror_mode": {
    "name": "ipython",
    "version": 3
   },
   "file_extension": ".py",
   "mimetype": "text/x-python",
   "name": "python",
   "nbconvert_exporter": "python",
   "pygments_lexer": "ipython3",
   "version": "3.8.13"
  },
  "nbTranslate": {
   "displayLangs": [
    "*"
   ],
   "hotkey": "alt-t",
   "langInMainMenu": true,
   "sourceLang": "en",
   "targetLang": "fr",
   "useGoogleTranslate": true
  },
  "toc": {
   "base_numbering": 1,
   "nav_menu": {},
   "number_sections": true,
   "sideBar": true,
   "skip_h1_title": true,
   "title_cell": "Table of Contents",
   "title_sidebar": "Contents",
   "toc_cell": false,
   "toc_position": {
    "height": "calc(100% - 180px)",
    "left": "10px",
    "top": "150px",
    "width": "230.35px"
   },
   "toc_section_display": true,
   "toc_window_display": true
  },
  "varInspector": {
   "cols": {
    "lenName": 16,
    "lenType": 16,
    "lenVar": 40
   },
   "kernels_config": {
    "python": {
     "delete_cmd_postfix": "",
     "delete_cmd_prefix": "del ",
     "library": "var_list.py",
     "varRefreshCmd": "print(var_dic_list())"
    },
    "r": {
     "delete_cmd_postfix": ") ",
     "delete_cmd_prefix": "rm(",
     "library": "var_list.r",
     "varRefreshCmd": "cat(var_dic_list()) "
    }
   },
   "types_to_exclude": [
    "module",
    "function",
    "builtin_function_or_method",
    "instance",
    "_Feature"
   ],
   "window_display": false
  }
 },
 "nbformat": 4,
 "nbformat_minor": 2
}
