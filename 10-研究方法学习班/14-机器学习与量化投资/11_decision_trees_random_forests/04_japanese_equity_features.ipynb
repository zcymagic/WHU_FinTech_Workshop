{
 "cells": [
  {
   "cell_type": "markdown",
   "metadata": {},
   "source": [
    "# Japanese Equity Data - Feature Engineering"
   ]
  },
  {
   "cell_type": "markdown",
   "metadata": {},
   "source": [
    "## Imports & Settings"
   ]
  },
  {
   "cell_type": "code",
   "execution_count": 1,
   "metadata": {
    "ExecuteTime": {
     "end_time": "2021-04-16T00:36:28.219958Z",
     "start_time": "2021-04-16T00:36:28.216623Z"
    }
   },
   "outputs": [],
   "source": [
    "import warnings\n",
    "warnings.filterwarnings('ignore')"
   ]
  },
  {
   "cell_type": "code",
   "execution_count": 2,
   "metadata": {
    "ExecuteTime": {
     "end_time": "2021-04-16T00:36:28.906426Z",
     "start_time": "2021-04-16T00:36:28.380747Z"
    }
   },
   "outputs": [],
   "source": [
    "%matplotlib inline\n",
    "\n",
    "from pathlib import Path\n",
    "\n",
    "import numpy as np\n",
    "import pandas as pd\n",
    "import talib\n",
    "\n",
    "import matplotlib.pyplot as plt\n",
    "import seaborn as sns"
   ]
  },
  {
   "cell_type": "code",
   "execution_count": 3,
   "metadata": {
    "ExecuteTime": {
     "end_time": "2021-04-16T00:36:28.909816Z",
     "start_time": "2021-04-16T00:36:28.907451Z"
    }
   },
   "outputs": [],
   "source": [
    "sns.set_style('white')"
   ]
  },
  {
   "cell_type": "code",
   "execution_count": 4,
   "metadata": {
    "ExecuteTime": {
     "end_time": "2021-04-16T00:36:28.923605Z",
     "start_time": "2021-04-16T00:36:28.911339Z"
    }
   },
   "outputs": [],
   "source": [
    "idx = pd.IndexSlice"
   ]
  },
  {
   "cell_type": "markdown",
   "metadata": {},
   "source": [
    "## Get Data"
   ]
  },
  {
   "cell_type": "markdown",
   "metadata": {},
   "source": [
    "### Stooq Japanese Equity data 2014-2019"
   ]
  },
  {
   "cell_type": "code",
   "execution_count": 5,
   "metadata": {
    "ExecuteTime": {
     "end_time": "2021-04-16T00:36:29.953176Z",
     "start_time": "2021-04-16T00:36:29.951307Z"
    }
   },
   "outputs": [],
   "source": [
    "DATA_DIR = Path('..', 'data')"
   ]
  },
  {
   "cell_type": "code",
   "execution_count": 6,
   "metadata": {
    "ExecuteTime": {
     "end_time": "2021-04-16T00:36:40.985381Z",
     "start_time": "2021-04-16T00:36:30.597536Z"
    }
   },
   "outputs": [],
   "source": [
    "prices = (pd.read_hdf(DATA_DIR / 'assets.h5', 'stooq/jp/tse/stocks/prices')\n",
    "          .loc[idx[:, '2010': '2019'], :]\n",
    "          .loc[lambda df: ~df.index.duplicated(), :])"
   ]
  },
  {
   "cell_type": "code",
   "execution_count": 7,
   "metadata": {
    "ExecuteTime": {
     "end_time": "2021-04-16T00:36:41.143801Z",
     "start_time": "2021-04-16T00:36:40.986398Z"
    }
   },
   "outputs": [
    {
     "name": "stdout",
     "output_type": "stream",
     "text": [
      "<class 'pandas.core.frame.DataFrame'>\n",
      "MultiIndex: 7157801 entries, ('1301.JP', Timestamp('2010-01-04 00:00:00')) to ('9997.JP', Timestamp('2019-12-30 00:00:00'))\n",
      "Data columns (total 5 columns):\n",
      " #   Column  Non-Null Count    Dtype  \n",
      "---  ------  --------------    -----  \n",
      " 0   open    7157801 non-null  float64\n",
      " 1   high    7157801 non-null  float64\n",
      " 2   low     7157801 non-null  float64\n",
      " 3   close   7157801 non-null  float64\n",
      " 4   volume  7157801 non-null  float64\n",
      "dtypes: float64(5)\n",
      "memory usage: 300.7+ MB\n"
     ]
    }
   ],
   "source": [
    "prices.info(show_counts=True)"
   ]
  },
  {
   "cell_type": "code",
   "execution_count": 8,
   "metadata": {
    "ExecuteTime": {
     "end_time": "2021-04-16T00:36:41.189821Z",
     "start_time": "2021-04-16T00:36:41.145040Z"
    }
   },
   "outputs": [],
   "source": [
    "before = len(prices.index.unique('ticker').unique())"
   ]
  },
  {
   "cell_type": "markdown",
   "metadata": {},
   "source": [
    "### Remove symbols with missing values"
   ]
  },
  {
   "cell_type": "code",
   "execution_count": 9,
   "metadata": {
    "ExecuteTime": {
     "end_time": "2021-04-16T00:37:07.315496Z",
     "start_time": "2021-04-16T00:37:03.137924Z"
    }
   },
   "outputs": [
    {
     "name": "stdout",
     "output_type": "stream",
     "text": [
      "<class 'pandas.core.frame.DataFrame'>\n",
      "MultiIndex: 7385476 entries, ('1301.JP', Timestamp('2010-01-04 00:00:00')) to ('9997.JP', Timestamp('2019-12-30 00:00:00'))\n",
      "Data columns (total 5 columns):\n",
      " #   Column  Non-Null Count    Dtype  \n",
      "---  ------  --------------    -----  \n",
      " 0   open    7385476 non-null  float64\n",
      " 1   high    7385476 non-null  float64\n",
      " 2   low     7385476 non-null  float64\n",
      " 3   close   7385476 non-null  float64\n",
      " 4   volume  7385476 non-null  float64\n",
      "dtypes: float64(5)\n",
      "memory usage: 310.1+ MB\n"
     ]
    }
   ],
   "source": [
    "prices = (prices.unstack('ticker')\n",
    "        .sort_index()\n",
    "        .ffill(limit=5)\n",
    "        .dropna(axis=1, how='all')\n",
    "        .stack('ticker')\n",
    "        .swaplevel())\n",
    "prices.info(show_counts=True)"
   ]
  },
  {
   "cell_type": "code",
   "execution_count": 10,
   "metadata": {},
   "outputs": [
    {
     "name": "stdout",
     "output_type": "stream",
     "text": [
      "Before: 3,491 after: 3,491\n"
     ]
    }
   ],
   "source": [
    "after = len(prices.index.unique('ticker').unique())\n",
    "print(f'Before: {before:,.0f} after: {after:,.0f}')"
   ]
  },
  {
   "cell_type": "markdown",
   "metadata": {},
   "source": [
    "### Keep most traded symbols"
   ]
  },
  {
   "cell_type": "code",
   "execution_count": 11,
   "metadata": {},
   "outputs": [],
   "source": [
    "dv = prices.close.mul(prices.volume)"
   ]
  },
  {
   "cell_type": "code",
   "execution_count": 12,
   "metadata": {
    "ExecuteTime": {
     "end_time": "2021-04-16T00:37:11.450895Z",
     "start_time": "2021-04-16T00:37:11.125591Z"
    }
   },
   "outputs": [],
   "source": [
    "dv = prices.close.mul(prices.volume)\n",
    "keep = dv.groupby('ticker').median().nlargest(1000).index.tolist()    # 选取price*volume 最大的1000只股票"
   ]
  },
  {
   "cell_type": "code",
   "execution_count": 13,
   "metadata": {
    "ExecuteTime": {
     "end_time": "2021-04-16T00:38:35.220960Z",
     "start_time": "2021-04-16T00:38:35.194655Z"
    }
   },
   "outputs": [
    {
     "name": "stdout",
     "output_type": "stream",
     "text": [
      "<class 'pandas.core.frame.DataFrame'>\n",
      "MultiIndex: 2061587 entries, ('9984.JP', Timestamp('2010-01-04 00:00:00')) to ('6958.JP', Timestamp('2019-12-30 00:00:00'))\n",
      "Data columns (total 5 columns):\n",
      " #   Column  Non-Null Count    Dtype  \n",
      "---  ------  --------------    -----  \n",
      " 0   open    2061587 non-null  float64\n",
      " 1   high    2061587 non-null  float64\n",
      " 2   low     2061587 non-null  float64\n",
      " 3   close   2061587 non-null  float64\n",
      " 4   volume  2061587 non-null  float64\n",
      "dtypes: float64(5)\n",
      "memory usage: 86.7+ MB\n"
     ]
    }
   ],
   "source": [
    "prices = prices.loc[idx[keep, :], :]\n",
    "prices.info(show_counts=True)"
   ]
  },
  {
   "cell_type": "markdown",
   "metadata": {},
   "source": [
    "## Feature Engineering"
   ]
  },
  {
   "cell_type": "markdown",
   "metadata": {},
   "source": [
    "### Compute period returns"
   ]
  },
  {
   "cell_type": "code",
   "execution_count": 14,
   "metadata": {
    "ExecuteTime": {
     "end_time": "2021-04-16T00:38:42.398427Z",
     "start_time": "2021-04-16T00:38:42.396326Z"
    }
   },
   "outputs": [],
   "source": [
    "intervals = [1, 5, 10, 21, 63]"
   ]
  },
  {
   "cell_type": "code",
   "execution_count": 15,
   "metadata": {
    "ExecuteTime": {
     "end_time": "2021-04-16T00:38:44.156966Z",
     "start_time": "2021-04-16T00:38:42.559913Z"
    }
   },
   "outputs": [],
   "source": [
    "returns = []\n",
    "by_ticker = prices.groupby(level='ticker').close\n",
    "for t in intervals:\n",
    "    returns.append(by_ticker.pct_change(t).to_frame(f'ret_{t}'))\n",
    "returns = pd.concat(returns, axis=1)"
   ]
  },
  {
   "cell_type": "code",
   "execution_count": 16,
   "metadata": {
    "ExecuteTime": {
     "end_time": "2021-04-16T00:38:46.129268Z",
     "start_time": "2021-04-16T00:38:46.100045Z"
    }
   },
   "outputs": [
    {
     "name": "stdout",
     "output_type": "stream",
     "text": [
      "<class 'pandas.core.frame.DataFrame'>\n",
      "MultiIndex: 2061587 entries, ('9984.JP', Timestamp('2010-01-04 00:00:00')) to ('6958.JP', Timestamp('2019-12-30 00:00:00'))\n",
      "Data columns (total 5 columns):\n",
      " #   Column  Non-Null Count    Dtype  \n",
      "---  ------  --------------    -----  \n",
      " 0   ret_1   2060587 non-null  float64\n",
      " 1   ret_5   2056594 non-null  float64\n",
      " 2   ret_10  2051628 non-null  float64\n",
      " 3   ret_21  2040838 non-null  float64\n",
      " 4   ret_63  1999863 non-null  float64\n",
      "dtypes: float64(5)\n",
      "memory usage: 86.7+ MB\n"
     ]
    }
   ],
   "source": [
    "returns.info(show_counts=True)"
   ]
  },
  {
   "cell_type": "markdown",
   "metadata": {},
   "source": [
    "### Remove outliers"
   ]
  },
  {
   "cell_type": "code",
   "execution_count": 17,
   "metadata": {
    "ExecuteTime": {
     "end_time": "2021-02-23T20:55:08.850013Z",
     "start_time": "2021-02-23T20:55:08.655061Z"
    }
   },
   "outputs": [],
   "source": [
    "max_ret_by_sym = returns.groupby(level='ticker').max()"
   ]
  },
  {
   "cell_type": "code",
   "execution_count": 18,
   "metadata": {
    "ExecuteTime": {
     "end_time": "2021-02-23T20:55:08.871539Z",
     "start_time": "2021-02-23T20:55:08.851093Z"
    },
    "scrolled": false
   },
   "outputs": [
    {
     "data": {
      "text/html": [
       "<div>\n",
       "<style scoped>\n",
       "    .dataframe tbody tr th:only-of-type {\n",
       "        vertical-align: middle;\n",
       "    }\n",
       "\n",
       "    .dataframe tbody tr th {\n",
       "        vertical-align: top;\n",
       "    }\n",
       "\n",
       "    .dataframe thead th {\n",
       "        text-align: right;\n",
       "    }\n",
       "</style>\n",
       "<table border=\"1\" class=\"dataframe\">\n",
       "  <thead>\n",
       "    <tr style=\"text-align: right;\">\n",
       "      <th></th>\n",
       "      <th>ret_1</th>\n",
       "      <th>ret_5</th>\n",
       "      <th>ret_10</th>\n",
       "      <th>ret_21</th>\n",
       "      <th>ret_63</th>\n",
       "    </tr>\n",
       "  </thead>\n",
       "  <tbody>\n",
       "    <tr>\n",
       "      <th>count</th>\n",
       "      <td>1000.000000</td>\n",
       "      <td>997.000000</td>\n",
       "      <td>987.000000</td>\n",
       "      <td>979.000000</td>\n",
       "      <td>971.000000</td>\n",
       "    </tr>\n",
       "    <tr>\n",
       "      <th>mean</th>\n",
       "      <td>0.171639</td>\n",
       "      <td>0.341959</td>\n",
       "      <td>0.452535</td>\n",
       "      <td>0.590765</td>\n",
       "      <td>0.963257</td>\n",
       "    </tr>\n",
       "    <tr>\n",
       "      <th>std</th>\n",
       "      <td>0.202059</td>\n",
       "      <td>0.341845</td>\n",
       "      <td>0.510376</td>\n",
       "      <td>0.679661</td>\n",
       "      <td>1.297571</td>\n",
       "    </tr>\n",
       "    <tr>\n",
       "      <th>min</th>\n",
       "      <td>-0.044163</td>\n",
       "      <td>-0.120358</td>\n",
       "      <td>-0.182045</td>\n",
       "      <td>0.130010</td>\n",
       "      <td>-0.220721</td>\n",
       "    </tr>\n",
       "    <tr>\n",
       "      <th>50%</th>\n",
       "      <td>0.150472</td>\n",
       "      <td>0.251798</td>\n",
       "      <td>0.307718</td>\n",
       "      <td>0.394127</td>\n",
       "      <td>0.642953</td>\n",
       "    </tr>\n",
       "    <tr>\n",
       "      <th>90%</th>\n",
       "      <td>0.253469</td>\n",
       "      <td>0.610849</td>\n",
       "      <td>0.777206</td>\n",
       "      <td>1.000450</td>\n",
       "      <td>1.728363</td>\n",
       "    </tr>\n",
       "    <tr>\n",
       "      <th>95%</th>\n",
       "      <td>0.292695</td>\n",
       "      <td>0.816944</td>\n",
       "      <td>1.178578</td>\n",
       "      <td>1.435614</td>\n",
       "      <td>2.435503</td>\n",
       "    </tr>\n",
       "    <tr>\n",
       "      <th>97.5%</th>\n",
       "      <td>0.349383</td>\n",
       "      <td>1.098277</td>\n",
       "      <td>1.740925</td>\n",
       "      <td>2.295333</td>\n",
       "      <td>3.688869</td>\n",
       "    </tr>\n",
       "    <tr>\n",
       "      <th>99%</th>\n",
       "      <td>0.387721</td>\n",
       "      <td>1.433700</td>\n",
       "      <td>2.758244</td>\n",
       "      <td>3.563731</td>\n",
       "      <td>5.356266</td>\n",
       "    </tr>\n",
       "    <tr>\n",
       "      <th>99.5%</th>\n",
       "      <td>0.486164</td>\n",
       "      <td>1.719129</td>\n",
       "      <td>3.443252</td>\n",
       "      <td>5.439052</td>\n",
       "      <td>7.035241</td>\n",
       "    </tr>\n",
       "    <tr>\n",
       "      <th>99.9%</th>\n",
       "      <td>0.885144</td>\n",
       "      <td>2.422103</td>\n",
       "      <td>5.364612</td>\n",
       "      <td>7.350419</td>\n",
       "      <td>17.880114</td>\n",
       "    </tr>\n",
       "    <tr>\n",
       "      <th>max</th>\n",
       "      <td>6.065637</td>\n",
       "      <td>7.339768</td>\n",
       "      <td>7.339768</td>\n",
       "      <td>8.048589</td>\n",
       "      <td>22.067797</td>\n",
       "    </tr>\n",
       "  </tbody>\n",
       "</table>\n",
       "</div>"
      ],
      "text/plain": [
       "             ret_1       ret_5      ret_10      ret_21      ret_63\n",
       "count  1000.000000  997.000000  987.000000  979.000000  971.000000\n",
       "mean      0.171639    0.341959    0.452535    0.590765    0.963257\n",
       "std       0.202059    0.341845    0.510376    0.679661    1.297571\n",
       "min      -0.044163   -0.120358   -0.182045    0.130010   -0.220721\n",
       "50%       0.150472    0.251798    0.307718    0.394127    0.642953\n",
       "90%       0.253469    0.610849    0.777206    1.000450    1.728363\n",
       "95%       0.292695    0.816944    1.178578    1.435614    2.435503\n",
       "97.5%     0.349383    1.098277    1.740925    2.295333    3.688869\n",
       "99%       0.387721    1.433700    2.758244    3.563731    5.356266\n",
       "99.5%     0.486164    1.719129    3.443252    5.439052    7.035241\n",
       "99.9%     0.885144    2.422103    5.364612    7.350419   17.880114\n",
       "max       6.065637    7.339768    7.339768    8.048589   22.067797"
      ]
     },
     "execution_count": 18,
     "metadata": {},
     "output_type": "execute_result"
    }
   ],
   "source": [
    "percentiles = [0.001, .005, .01, .025, .05, .1]\n",
    "percentiles += [1-p for p in percentiles]\n",
    "max_ret_by_sym.describe(percentiles=sorted(percentiles)[6:])    # 最大值的百分位数"
   ]
  },
  {
   "cell_type": "code",
   "execution_count": 19,
   "metadata": {
    "ExecuteTime": {
     "end_time": "2021-02-23T20:55:08.884025Z",
     "start_time": "2021-02-23T20:55:08.873299Z"
    },
    "scrolled": false
   },
   "outputs": [],
   "source": [
    "quantiles = max_ret_by_sym.quantile(.95)\n",
    "to_drop = []\n",
    "for ret, q in quantiles.items():\n",
    "    to_drop.extend(max_ret_by_sym[max_ret_by_sym[ret]>q].index.tolist())    # to_drop: 最大收益在95%分位数之后的数据"
   ]
  },
  {
   "cell_type": "code",
   "execution_count": 20,
   "metadata": {
    "ExecuteTime": {
     "end_time": "2021-02-23T20:55:08.899082Z",
     "start_time": "2021-02-23T20:55:08.885562Z"
    }
   },
   "outputs": [
    {
     "data": {
      "text/plain": [
       "59"
      ]
     },
     "execution_count": 20,
     "metadata": {},
     "output_type": "execute_result"
    }
   ],
   "source": [
    "to_drop = pd.Series(to_drop).value_counts()\n",
    "to_drop = to_drop[to_drop > 1].index.tolist()\n",
    "len(to_drop)"
   ]
  },
  {
   "cell_type": "code",
   "execution_count": 21,
   "metadata": {
    "ExecuteTime": {
     "end_time": "2021-02-23T20:55:20.739495Z",
     "start_time": "2021-02-23T20:55:08.900191Z"
    }
   },
   "outputs": [
    {
     "name": "stdout",
     "output_type": "stream",
     "text": [
      "<class 'pandas.core.frame.DataFrame'>\n",
      "MultiIndex: 1944198 entries, ('9984.JP', Timestamp('2010-01-04 00:00:00')) to ('6958.JP', Timestamp('2019-12-30 00:00:00'))\n",
      "Data columns (total 5 columns):\n",
      " #   Column  Non-Null Count    Dtype  \n",
      "---  ------  --------------    -----  \n",
      " 0   open    1944198 non-null  float64\n",
      " 1   high    1944198 non-null  float64\n",
      " 2   low     1944198 non-null  float64\n",
      " 3   close   1944198 non-null  float64\n",
      " 4   volume  1944198 non-null  float64\n",
      "dtypes: float64(5)\n",
      "memory usage: 81.8+ MB\n"
     ]
    }
   ],
   "source": [
    "prices = prices.drop(to_drop, level='ticker')\n",
    "prices.info(show_counts=True)"
   ]
  },
  {
   "cell_type": "markdown",
   "metadata": {},
   "source": [
    "### Calculate relative return percentiles"
   ]
  },
  {
   "cell_type": "code",
   "execution_count": 22,
   "metadata": {},
   "outputs": [],
   "source": [
    "returns = []\n",
    "by_sym = prices.groupby(level='ticker').close"
   ]
  },
  {
   "cell_type": "code",
   "execution_count": 23,
   "metadata": {},
   "outputs": [],
   "source": [
    "t = intervals[0]"
   ]
  },
  {
   "cell_type": "code",
   "execution_count": 24,
   "metadata": {},
   "outputs": [],
   "source": [
    "ret = by_sym.pct_change(t)"
   ]
  },
  {
   "cell_type": "code",
   "execution_count": 25,
   "metadata": {},
   "outputs": [],
   "source": [
    "a = ret.groupby(level='date').apply(lambda x: pd.qcut(x, q=20, labels=False, duplicates='drop'))"
   ]
  },
  {
   "cell_type": "code",
   "execution_count": 26,
   "metadata": {},
   "outputs": [
    {
     "data": {
      "text/plain": [
       "ticker   date      \n",
       "9984.JP  2010-01-04     NaN\n",
       "         2010-01-05    10.0\n",
       "         2010-01-06     7.0\n",
       "         2010-01-07    13.0\n",
       "         2010-01-08     2.0\n",
       "                       ... \n",
       "6958.JP  2019-12-24     5.0\n",
       "         2019-12-25     4.0\n",
       "         2019-12-26    18.0\n",
       "         2019-12-27    17.0\n",
       "         2019-12-30    17.0\n",
       "Name: close, Length: 1944198, dtype: float64"
      ]
     },
     "execution_count": 26,
     "metadata": {},
     "output_type": "execute_result"
    }
   ],
   "source": [
    "a"
   ]
  },
  {
   "cell_type": "code",
   "execution_count": 27,
   "metadata": {
    "ExecuteTime": {
     "end_time": "2021-02-23T20:56:35.060799Z",
     "start_time": "2021-02-23T20:55:20.740911Z"
    }
   },
   "outputs": [],
   "source": [
    "returns = []\n",
    "by_sym = prices.groupby(level='ticker').close\n",
    "for t in intervals:\n",
    "    ret = by_sym.pct_change(t)\n",
    "    rel_perc = (ret.groupby(level='date')\n",
    "             .apply(lambda x: pd.qcut(x, q=20, labels=False, duplicates='drop')))    # 计算收益，然后对收益进行分箱\n",
    "    returns.extend([ret.to_frame(f'ret_{t}'), rel_perc.to_frame(f'ret_rel_perc_{t}')])\n",
    "returns = pd.concat(returns, axis=1)"
   ]
  },
  {
   "cell_type": "code",
   "execution_count": 28,
   "metadata": {},
   "outputs": [
    {
     "data": {
      "text/html": [
       "<div>\n",
       "<style scoped>\n",
       "    .dataframe tbody tr th:only-of-type {\n",
       "        vertical-align: middle;\n",
       "    }\n",
       "\n",
       "    .dataframe tbody tr th {\n",
       "        vertical-align: top;\n",
       "    }\n",
       "\n",
       "    .dataframe thead th {\n",
       "        text-align: right;\n",
       "    }\n",
       "</style>\n",
       "<table border=\"1\" class=\"dataframe\">\n",
       "  <thead>\n",
       "    <tr style=\"text-align: right;\">\n",
       "      <th></th>\n",
       "      <th></th>\n",
       "      <th>ret_1</th>\n",
       "      <th>ret_rel_perc_1</th>\n",
       "      <th>ret_5</th>\n",
       "      <th>ret_rel_perc_5</th>\n",
       "      <th>ret_10</th>\n",
       "      <th>ret_rel_perc_10</th>\n",
       "      <th>ret_21</th>\n",
       "      <th>ret_rel_perc_21</th>\n",
       "      <th>ret_63</th>\n",
       "      <th>ret_rel_perc_63</th>\n",
       "    </tr>\n",
       "    <tr>\n",
       "      <th>ticker</th>\n",
       "      <th>date</th>\n",
       "      <th></th>\n",
       "      <th></th>\n",
       "      <th></th>\n",
       "      <th></th>\n",
       "      <th></th>\n",
       "      <th></th>\n",
       "      <th></th>\n",
       "      <th></th>\n",
       "      <th></th>\n",
       "      <th></th>\n",
       "    </tr>\n",
       "  </thead>\n",
       "  <tbody>\n",
       "    <tr>\n",
       "      <th rowspan=\"5\" valign=\"top\">9984.JP</th>\n",
       "      <th>2010-01-04</th>\n",
       "      <td>NaN</td>\n",
       "      <td>NaN</td>\n",
       "      <td>NaN</td>\n",
       "      <td>NaN</td>\n",
       "      <td>NaN</td>\n",
       "      <td>NaN</td>\n",
       "      <td>NaN</td>\n",
       "      <td>NaN</td>\n",
       "      <td>NaN</td>\n",
       "      <td>NaN</td>\n",
       "    </tr>\n",
       "    <tr>\n",
       "      <th>2010-01-05</th>\n",
       "      <td>0.001850</td>\n",
       "      <td>10.0</td>\n",
       "      <td>NaN</td>\n",
       "      <td>NaN</td>\n",
       "      <td>NaN</td>\n",
       "      <td>NaN</td>\n",
       "      <td>NaN</td>\n",
       "      <td>NaN</td>\n",
       "      <td>NaN</td>\n",
       "      <td>NaN</td>\n",
       "    </tr>\n",
       "    <tr>\n",
       "      <th>2010-01-06</th>\n",
       "      <td>0.001371</td>\n",
       "      <td>7.0</td>\n",
       "      <td>NaN</td>\n",
       "      <td>NaN</td>\n",
       "      <td>NaN</td>\n",
       "      <td>NaN</td>\n",
       "      <td>NaN</td>\n",
       "      <td>NaN</td>\n",
       "      <td>NaN</td>\n",
       "      <td>NaN</td>\n",
       "    </tr>\n",
       "    <tr>\n",
       "      <th>2010-01-07</th>\n",
       "      <td>0.005950</td>\n",
       "      <td>13.0</td>\n",
       "      <td>NaN</td>\n",
       "      <td>NaN</td>\n",
       "      <td>NaN</td>\n",
       "      <td>NaN</td>\n",
       "      <td>NaN</td>\n",
       "      <td>NaN</td>\n",
       "      <td>NaN</td>\n",
       "      <td>NaN</td>\n",
       "    </tr>\n",
       "    <tr>\n",
       "      <th>2010-01-08</th>\n",
       "      <td>-0.007276</td>\n",
       "      <td>2.0</td>\n",
       "      <td>NaN</td>\n",
       "      <td>NaN</td>\n",
       "      <td>NaN</td>\n",
       "      <td>NaN</td>\n",
       "      <td>NaN</td>\n",
       "      <td>NaN</td>\n",
       "      <td>NaN</td>\n",
       "      <td>NaN</td>\n",
       "    </tr>\n",
       "    <tr>\n",
       "      <th>...</th>\n",
       "      <th>...</th>\n",
       "      <td>...</td>\n",
       "      <td>...</td>\n",
       "      <td>...</td>\n",
       "      <td>...</td>\n",
       "      <td>...</td>\n",
       "      <td>...</td>\n",
       "      <td>...</td>\n",
       "      <td>...</td>\n",
       "      <td>...</td>\n",
       "      <td>...</td>\n",
       "    </tr>\n",
       "    <tr>\n",
       "      <th rowspan=\"5\" valign=\"top\">6958.JP</th>\n",
       "      <th>2019-12-24</th>\n",
       "      <td>-0.004543</td>\n",
       "      <td>5.0</td>\n",
       "      <td>0.004601</td>\n",
       "      <td>15.0</td>\n",
       "      <td>-0.007565</td>\n",
       "      <td>9.0</td>\n",
       "      <td>-0.019424</td>\n",
       "      <td>5.0</td>\n",
       "      <td>0.104375</td>\n",
       "      <td>11.0</td>\n",
       "    </tr>\n",
       "    <tr>\n",
       "      <th>2019-12-25</th>\n",
       "      <td>-0.013723</td>\n",
       "      <td>4.0</td>\n",
       "      <td>-0.019704</td>\n",
       "      <td>6.0</td>\n",
       "      <td>-0.003076</td>\n",
       "      <td>10.0</td>\n",
       "      <td>-0.037204</td>\n",
       "      <td>4.0</td>\n",
       "      <td>0.091053</td>\n",
       "      <td>11.0</td>\n",
       "    </tr>\n",
       "    <tr>\n",
       "      <th>2019-12-26</th>\n",
       "      <td>0.023185</td>\n",
       "      <td>18.0</td>\n",
       "      <td>-0.004518</td>\n",
       "      <td>9.0</td>\n",
       "      <td>0.037623</td>\n",
       "      <td>16.0</td>\n",
       "      <td>-0.016343</td>\n",
       "      <td>6.0</td>\n",
       "      <td>0.131624</td>\n",
       "      <td>13.0</td>\n",
       "    </tr>\n",
       "    <tr>\n",
       "      <th>2019-12-27</th>\n",
       "      <td>0.016614</td>\n",
       "      <td>17.0</td>\n",
       "      <td>0.005982</td>\n",
       "      <td>12.0</td>\n",
       "      <td>0.033790</td>\n",
       "      <td>16.0</td>\n",
       "      <td>0.018149</td>\n",
       "      <td>10.0</td>\n",
       "      <td>0.140675</td>\n",
       "      <td>13.0</td>\n",
       "    </tr>\n",
       "    <tr>\n",
       "      <th>2019-12-30</th>\n",
       "      <td>0.001483</td>\n",
       "      <td>17.0</td>\n",
       "      <td>0.022763</td>\n",
       "      <td>17.0</td>\n",
       "      <td>0.025870</td>\n",
       "      <td>16.0</td>\n",
       "      <td>0.043336</td>\n",
       "      <td>15.0</td>\n",
       "      <td>0.138515</td>\n",
       "      <td>14.0</td>\n",
       "    </tr>\n",
       "  </tbody>\n",
       "</table>\n",
       "<p>1944198 rows × 10 columns</p>\n",
       "</div>"
      ],
      "text/plain": [
       "                       ret_1  ret_rel_perc_1     ret_5  ret_rel_perc_5  \\\n",
       "ticker  date                                                             \n",
       "9984.JP 2010-01-04       NaN             NaN       NaN             NaN   \n",
       "        2010-01-05  0.001850            10.0       NaN             NaN   \n",
       "        2010-01-06  0.001371             7.0       NaN             NaN   \n",
       "        2010-01-07  0.005950            13.0       NaN             NaN   \n",
       "        2010-01-08 -0.007276             2.0       NaN             NaN   \n",
       "...                      ...             ...       ...             ...   \n",
       "6958.JP 2019-12-24 -0.004543             5.0  0.004601            15.0   \n",
       "        2019-12-25 -0.013723             4.0 -0.019704             6.0   \n",
       "        2019-12-26  0.023185            18.0 -0.004518             9.0   \n",
       "        2019-12-27  0.016614            17.0  0.005982            12.0   \n",
       "        2019-12-30  0.001483            17.0  0.022763            17.0   \n",
       "\n",
       "                      ret_10  ret_rel_perc_10    ret_21  ret_rel_perc_21  \\\n",
       "ticker  date                                                               \n",
       "9984.JP 2010-01-04       NaN              NaN       NaN              NaN   \n",
       "        2010-01-05       NaN              NaN       NaN              NaN   \n",
       "        2010-01-06       NaN              NaN       NaN              NaN   \n",
       "        2010-01-07       NaN              NaN       NaN              NaN   \n",
       "        2010-01-08       NaN              NaN       NaN              NaN   \n",
       "...                      ...              ...       ...              ...   \n",
       "6958.JP 2019-12-24 -0.007565              9.0 -0.019424              5.0   \n",
       "        2019-12-25 -0.003076             10.0 -0.037204              4.0   \n",
       "        2019-12-26  0.037623             16.0 -0.016343              6.0   \n",
       "        2019-12-27  0.033790             16.0  0.018149             10.0   \n",
       "        2019-12-30  0.025870             16.0  0.043336             15.0   \n",
       "\n",
       "                      ret_63  ret_rel_perc_63  \n",
       "ticker  date                                   \n",
       "9984.JP 2010-01-04       NaN              NaN  \n",
       "        2010-01-05       NaN              NaN  \n",
       "        2010-01-06       NaN              NaN  \n",
       "        2010-01-07       NaN              NaN  \n",
       "        2010-01-08       NaN              NaN  \n",
       "...                      ...              ...  \n",
       "6958.JP 2019-12-24  0.104375             11.0  \n",
       "        2019-12-25  0.091053             11.0  \n",
       "        2019-12-26  0.131624             13.0  \n",
       "        2019-12-27  0.140675             13.0  \n",
       "        2019-12-30  0.138515             14.0  \n",
       "\n",
       "[1944198 rows x 10 columns]"
      ]
     },
     "execution_count": 28,
     "metadata": {},
     "output_type": "execute_result"
    }
   ],
   "source": [
    "returns"
   ]
  },
  {
   "cell_type": "markdown",
   "metadata": {},
   "source": [
    "### Technical Indicators"
   ]
  },
  {
   "cell_type": "markdown",
   "metadata": {},
   "source": [
    "#### Percentage Price Oscillator\n",
    "价格震荡百分比指标"
   ]
  },
  {
   "cell_type": "code",
   "execution_count": 29,
   "metadata": {
    "ExecuteTime": {
     "end_time": "2021-02-23T20:56:46.007693Z",
     "start_time": "2021-02-23T20:56:35.061783Z"
    }
   },
   "outputs": [],
   "source": [
    "ppo = prices.groupby(level='ticker').close.apply(talib.PPO).to_frame('PPO')"
   ]
  },
  {
   "cell_type": "code",
   "execution_count": 30,
   "metadata": {},
   "outputs": [
    {
     "data": {
      "text/html": [
       "<div>\n",
       "<style scoped>\n",
       "    .dataframe tbody tr th:only-of-type {\n",
       "        vertical-align: middle;\n",
       "    }\n",
       "\n",
       "    .dataframe tbody tr th {\n",
       "        vertical-align: top;\n",
       "    }\n",
       "\n",
       "    .dataframe thead th {\n",
       "        text-align: right;\n",
       "    }\n",
       "</style>\n",
       "<table border=\"1\" class=\"dataframe\">\n",
       "  <thead>\n",
       "    <tr style=\"text-align: right;\">\n",
       "      <th></th>\n",
       "      <th></th>\n",
       "      <th>PPO</th>\n",
       "    </tr>\n",
       "    <tr>\n",
       "      <th>ticker</th>\n",
       "      <th>date</th>\n",
       "      <th></th>\n",
       "    </tr>\n",
       "  </thead>\n",
       "  <tbody>\n",
       "    <tr>\n",
       "      <th rowspan=\"5\" valign=\"top\">9984.JP</th>\n",
       "      <th>2010-01-04</th>\n",
       "      <td>NaN</td>\n",
       "    </tr>\n",
       "    <tr>\n",
       "      <th>2010-01-05</th>\n",
       "      <td>NaN</td>\n",
       "    </tr>\n",
       "    <tr>\n",
       "      <th>2010-01-06</th>\n",
       "      <td>NaN</td>\n",
       "    </tr>\n",
       "    <tr>\n",
       "      <th>2010-01-07</th>\n",
       "      <td>NaN</td>\n",
       "    </tr>\n",
       "    <tr>\n",
       "      <th>2010-01-08</th>\n",
       "      <td>NaN</td>\n",
       "    </tr>\n",
       "    <tr>\n",
       "      <th>...</th>\n",
       "      <th>...</th>\n",
       "      <td>...</td>\n",
       "    </tr>\n",
       "    <tr>\n",
       "      <th rowspan=\"5\" valign=\"top\">6958.JP</th>\n",
       "      <th>2019-12-24</th>\n",
       "      <td>-0.919434</td>\n",
       "    </tr>\n",
       "    <tr>\n",
       "      <th>2019-12-25</th>\n",
       "      <td>-0.971453</td>\n",
       "    </tr>\n",
       "    <tr>\n",
       "      <th>2019-12-26</th>\n",
       "      <td>-0.843637</td>\n",
       "    </tr>\n",
       "    <tr>\n",
       "      <th>2019-12-27</th>\n",
       "      <td>-0.541059</td>\n",
       "    </tr>\n",
       "    <tr>\n",
       "      <th>2019-12-30</th>\n",
       "      <td>-0.133704</td>\n",
       "    </tr>\n",
       "  </tbody>\n",
       "</table>\n",
       "<p>1944198 rows × 1 columns</p>\n",
       "</div>"
      ],
      "text/plain": [
       "                         PPO\n",
       "ticker  date                \n",
       "9984.JP 2010-01-04       NaN\n",
       "        2010-01-05       NaN\n",
       "        2010-01-06       NaN\n",
       "        2010-01-07       NaN\n",
       "        2010-01-08       NaN\n",
       "...                      ...\n",
       "6958.JP 2019-12-24 -0.919434\n",
       "        2019-12-25 -0.971453\n",
       "        2019-12-26 -0.843637\n",
       "        2019-12-27 -0.541059\n",
       "        2019-12-30 -0.133704\n",
       "\n",
       "[1944198 rows x 1 columns]"
      ]
     },
     "execution_count": 30,
     "metadata": {},
     "output_type": "execute_result"
    }
   ],
   "source": [
    "ppo"
   ]
  },
  {
   "cell_type": "markdown",
   "metadata": {},
   "source": [
    "#### Normalized Average True Range\n",
    "归一化波动幅度均值"
   ]
  },
  {
   "cell_type": "code",
   "execution_count": 31,
   "metadata": {
    "ExecuteTime": {
     "end_time": "2021-02-23T20:56:46.703740Z",
     "start_time": "2021-02-23T20:56:46.008746Z"
    }
   },
   "outputs": [],
   "source": [
    "natr = prices.groupby(level='ticker', group_keys=False).apply(lambda x: talib.NATR(x.high, x.low, x.close)).to_frame('NATR')"
   ]
  },
  {
   "cell_type": "markdown",
   "metadata": {},
   "source": [
    "#### Relative Strength Indicator\n",
    "相对强弱指数"
   ]
  },
  {
   "cell_type": "code",
   "execution_count": 32,
   "metadata": {
    "ExecuteTime": {
     "end_time": "2021-02-23T20:56:56.951382Z",
     "start_time": "2021-02-23T20:56:46.704740Z"
    }
   },
   "outputs": [],
   "source": [
    "rsi = prices.groupby(level='ticker').close.apply(talib.RSI).to_frame('RSI')"
   ]
  },
  {
   "cell_type": "markdown",
   "metadata": {},
   "source": [
    "#### Bollinger Bands\n",
    "布林线指标"
   ]
  },
  {
   "cell_type": "code",
   "execution_count": 33,
   "metadata": {
    "ExecuteTime": {
     "end_time": "2021-02-23T20:56:56.954648Z",
     "start_time": "2021-02-23T20:56:56.952318Z"
    }
   },
   "outputs": [],
   "source": [
    "def get_bollinger(x):\n",
    "    u, m, l = talib.BBANDS(x)\n",
    "    return pd.DataFrame({'u': u, 'm': m, 'l': l})"
   ]
  },
  {
   "cell_type": "code",
   "execution_count": 34,
   "metadata": {
    "ExecuteTime": {
     "end_time": "2021-02-23T20:57:11.582203Z",
     "start_time": "2021-02-23T20:56:56.955779Z"
    }
   },
   "outputs": [],
   "source": [
    "bbands = prices.groupby(level='ticker').close.apply(get_bollinger)"
   ]
  },
  {
   "cell_type": "markdown",
   "metadata": {},
   "source": [
    "### Combine Features"
   ]
  },
  {
   "cell_type": "code",
   "execution_count": 35,
   "metadata": {
    "ExecuteTime": {
     "end_time": "2021-02-23T20:58:21.465132Z",
     "start_time": "2021-02-23T20:57:11.583380Z"
    }
   },
   "outputs": [],
   "source": [
    "data = pd.concat([prices, returns, ppo, natr, rsi, bbands], axis=1)"
   ]
  },
  {
   "cell_type": "code",
   "execution_count": 36,
   "metadata": {
    "ExecuteTime": {
     "end_time": "2021-02-23T20:58:21.670030Z",
     "start_time": "2021-02-23T20:58:21.466056Z"
    }
   },
   "outputs": [],
   "source": [
    "data['bbl'] = data.close.div(data.l)\n",
    "data['bbu'] = data.u.div(data.close)\n",
    "data = data.drop(['u', 'm', 'l'], axis=1)"
   ]
  },
  {
   "cell_type": "code",
   "execution_count": 37,
   "metadata": {
    "ExecuteTime": {
     "end_time": "2021-02-23T20:58:22.489378Z",
     "start_time": "2021-02-23T20:58:21.671030Z"
    }
   },
   "outputs": [
    {
     "data": {
      "text/plain": [
       "-0.15769181487634276"
      ]
     },
     "execution_count": 37,
     "metadata": {},
     "output_type": "execute_result"
    }
   ],
   "source": [
    "data.bbu.corr(data.bbl, method='spearman')"
   ]
  },
  {
   "cell_type": "markdown",
   "metadata": {},
   "source": [
    "### Plot Indicators for randomly sample ticker"
   ]
  },
  {
   "cell_type": "code",
   "execution_count": 38,
   "metadata": {
    "ExecuteTime": {
     "end_time": "2021-02-23T20:58:23.603017Z",
     "start_time": "2021-02-23T20:58:22.490614Z"
    }
   },
   "outputs": [
    {
     "data": {
      "image/png": "[encoded data removed]",
      "text/plain": [
       "<Figure size 1152x720 with 6 Axes>"
      ]
     },
     "metadata": {},
     "output_type": "display_data"
    }
   ],
   "source": [
    "indicators = ['close', 'bbl', 'bbu', 'PPO', 'NATR', 'RSI']\n",
    "ticker = np.random.choice(data.index.get_level_values('ticker'))\n",
    "(data.loc[idx[ticker, :], indicators].reset_index('ticker', drop=True)\n",
    " .plot(lw=1, subplots=True, figsize=(16, 10), title=indicators, layout=(3, 2), legend=False))\n",
    "plt.suptitle(ticker, fontsize=14)\n",
    "sns.despine()\n",
    "plt.tight_layout()\n",
    "plt.subplots_adjust(top=.95)"
   ]
  },
  {
   "cell_type": "code",
   "execution_count": 39,
   "metadata": {
    "ExecuteTime": {
     "end_time": "2021-02-23T20:58:23.651877Z",
     "start_time": "2021-02-23T20:58:23.603991Z"
    }
   },
   "outputs": [],
   "source": [
    "data = data.drop(prices.columns, axis=1)"
   ]
  },
  {
   "cell_type": "markdown",
   "metadata": {},
   "source": [
    "### Create time period indicators"
   ]
  },
  {
   "cell_type": "code",
   "execution_count": 40,
   "metadata": {
    "ExecuteTime": {
     "end_time": "2021-02-23T20:58:24.065814Z",
     "start_time": "2021-02-23T20:58:23.653021Z"
    }
   },
   "outputs": [],
   "source": [
    "dates = data.index.get_level_values('date')\n",
    "data['weekday'] = dates.weekday\n",
    "data['month'] = dates.month\n",
    "data['year'] = dates.year"
   ]
  },
  {
   "cell_type": "markdown",
   "metadata": {},
   "source": [
    "## Compute forward returns"
   ]
  },
  {
   "cell_type": "code",
   "execution_count": 41,
   "metadata": {
    "ExecuteTime": {
     "end_time": "2021-02-23T20:58:24.234580Z",
     "start_time": "2021-02-23T20:58:24.067745Z"
    }
   },
   "outputs": [],
   "source": [
    "outcomes = []\n",
    "by_ticker = data.groupby('ticker')\n",
    "for t in intervals:\n",
    "    k = f'fwd_ret_{t:02}'\n",
    "    outcomes.append(k)\n",
    "    data[k] = by_ticker[f'ret_{t}'].shift(-t)"
   ]
  },
  {
   "cell_type": "code",
   "execution_count": 42,
   "metadata": {
    "ExecuteTime": {
     "end_time": "2021-02-23T20:58:24.334797Z",
     "start_time": "2021-02-23T20:58:24.235663Z"
    }
   },
   "outputs": [
    {
     "name": "stdout",
     "output_type": "stream",
     "text": [
      "<class 'pandas.core.frame.DataFrame'>\n",
      "MultiIndex: 1944198 entries, ('1332.JP', Timestamp('2010-01-04 00:00:00')) to ('9989.JP', Timestamp('2019-12-30 00:00:00'))\n",
      "Data columns (total 23 columns):\n",
      " #   Column           Non-Null Count    Dtype  \n",
      "---  ------           --------------    -----  \n",
      " 0   ret_1            1943257 non-null  float64\n",
      " 1   ret_rel_perc_1   1943257 non-null  float64\n",
      " 2   ret_5            1939500 non-null  float64\n",
      " 3   ret_rel_perc_5   1939500 non-null  float64\n",
      " 4   ret_10           1934829 non-null  float64\n",
      " 5   ret_rel_perc_10  1934829 non-null  float64\n",
      " 6   ret_21           1924679 non-null  float64\n",
      " 7   ret_rel_perc_21  1924679 non-null  float64\n",
      " 8   ret_63           1886140 non-null  float64\n",
      " 9   ret_rel_perc_63  1886140 non-null  float64\n",
      " 10  PPO              1920995 non-null  float64\n",
      " 11  NATR             1931127 non-null  float64\n",
      " 12  RSI              1931127 non-null  float64\n",
      " 13  bbl              1940438 non-null  float64\n",
      " 14  bbu              1940438 non-null  float64\n",
      " 15  weekday          1944198 non-null  int64  \n",
      " 16  month            1944198 non-null  int64  \n",
      " 17  year             1944198 non-null  int64  \n",
      " 18  fwd_ret_01       1943257 non-null  float64\n",
      " 19  fwd_ret_05       1939500 non-null  float64\n",
      " 20  fwd_ret_10       1934829 non-null  float64\n",
      " 21  fwd_ret_21       1924679 non-null  float64\n",
      " 22  fwd_ret_63       1886140 non-null  float64\n",
      "dtypes: float64(20), int64(3)\n",
      "memory usage: 348.7+ MB\n"
     ]
    }
   ],
   "source": [
    "data.info(null_counts=True)"
   ]
  },
  {
   "cell_type": "code",
   "execution_count": 43,
   "metadata": {
    "ExecuteTime": {
     "end_time": "2021-02-23T20:58:24.790841Z",
     "start_time": "2021-02-23T20:58:24.335874Z"
    }
   },
   "outputs": [],
   "source": [
    "data.to_hdf('data.h5', 'stooq/japan/equities')"
   ]
  },
  {
   "cell_type": "code",
   "execution_count": null,
   "metadata": {},
   "outputs": [],
   "source": []
  }
 ],
 "metadata": {
  "kernelspec": {
   "display_name": "Python 3.7.6 ('base')",
   "language": "python",
   "name": "python3"
  },
  "language_info": {
   "codemirror_mode": {
    "name": "ipython",
    "version": 3
   },
   "file_extension": ".py",
   "mimetype": "text/x-python",
   "name": "python",
   "nbconvert_exporter": "python",
   "pygments_lexer": "ipython3",
   "version": "3.7.6"
  },
  "toc": {
   "base_numbering": 1,
   "nav_menu": {},
   "number_sections": true,
   "sideBar": true,
   "skip_h1_title": true,
   "title_cell": "Table of Contents",
   "title_sidebar": "Contents",
   "toc_cell": false,
   "toc_position": {
    "height": "calc(100% - 180px)",
    "left": "10px",
    "top": "150px",
    "width": "271.167px"
   },
   "toc_section_display": true,
   "toc_window_display": true
  },
  "vscode": {
   "interpreter": {
    "hash": "b09ec625f77bf4fd762565a912b97636504ad6ec901eb2d0f4cf5a7de23e1ee5"
   }
  }
 },
 "nbformat": 4,
 "nbformat_minor": 2
}
