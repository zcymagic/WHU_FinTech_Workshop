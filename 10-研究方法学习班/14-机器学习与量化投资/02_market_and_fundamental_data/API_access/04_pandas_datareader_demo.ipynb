{
 "cells": [
  {
   "cell_type": "markdown",
   "metadata": {},
   "source": [
    "# Remote data access using pandas"
   ]
  },
  {
   "cell_type": "markdown",
   "metadata": {},
   "source": [
    "The pandas library enables access to data displayed on websites using the `read_html()` function and access to the API endpoints of various data providers through the related `pandas-datareader` library."
   ]
  },
  {
   "cell_type": "markdown",
   "metadata": {},
   "source": [
    "## Imports & Settings"
   ]
  },
  {
   "cell_type": "code",
   "execution_count": 13,
   "metadata": {
    "ExecuteTime": {
     "end_time": "2021-02-23T04:36:41.124896Z",
     "start_time": "2021-02-23T04:36:41.123096Z"
    }
   },
   "outputs": [],
   "source": [
    "import warnings\n",
    "warnings.filterwarnings('ignore')"
   ]
  },
  {
   "cell_type": "code",
   "execution_count": 14,
   "metadata": {
    "ExecuteTime": {
     "end_time": "2021-02-23T04:36:41.822087Z",
     "start_time": "2021-02-23T04:36:41.267751Z"
    }
   },
   "outputs": [],
   "source": [
    "%matplotlib inline\n",
    "import os\n",
    "from datetime import datetime\n",
    "import pandas as pd\n",
    "import pandas_datareader.data as web\n",
    "import matplotlib.pyplot as plt\n",
    "import mplfinance as mpf\n",
    "import seaborn as sns"
   ]
  },
  {
   "cell_type": "markdown",
   "metadata": {},
   "source": [
    "## Download html table with SP500 constituents"
   ]
  },
  {
   "cell_type": "markdown",
   "metadata": {},
   "source": [
    "The download of the content of one or more html tables works as follows, for instance for the constituents of the S&P500 index from Wikipedia"
   ]
  },
  {
   "cell_type": "code",
   "execution_count": 15,
   "metadata": {
    "ExecuteTime": {
     "end_time": "2021-02-23T04:36:45.937804Z",
     "start_time": "2021-02-23T04:36:45.527493Z"
    }
   },
   "outputs": [],
   "source": [
    "sp_url = 'https://en.wikipedia.org/wiki/List_of_S%26P_500_companies'\n",
    "sp500_constituents = pd.read_html(sp_url, header=0)[0]#主要用于爬取网页的表格，注意图片是不能爬取的"
   ]
  },
  {
   "cell_type": "code",
   "execution_count": 19,
   "metadata": {
    "ExecuteTime": {
     "end_time": "2021-02-23T04:36:45.949932Z",
     "start_time": "2021-02-23T04:36:45.941702Z"
    },
    "scrolled": true
   },
   "outputs": [
    {
     "name": "stdout",
     "output_type": "stream",
     "text": [
      "<class 'pandas.core.frame.DataFrame'>\n",
      "RangeIndex: 502 entries, 0 to 501\n",
      "Data columns (total 9 columns):\n",
      " #   Column                 Non-Null Count  Dtype \n",
      "---  ------                 --------------  ----- \n",
      " 0   Symbol                 502 non-null    object\n",
      " 1   Security               502 non-null    object\n",
      " 2   SEC filings            502 non-null    object\n",
      " 3   GICS Sector            502 non-null    object\n",
      " 4   GICS Sub-Industry      502 non-null    object\n",
      " 5   Headquarters Location  502 non-null    object\n",
      " 6   Date first added       457 non-null    object\n",
      " 7   CIK                    502 non-null    int64 \n",
      " 8   Founded                502 non-null    object\n",
      "dtypes: int64(1), object(8)\n",
      "memory usage: 35.4+ KB\n"
     ]
    }
   ],
   "source": [
    "sp500_constituents.info()"
   ]
  },
  {
   "cell_type": "code",
   "execution_count": 20,
   "metadata": {
    "ExecuteTime": {
     "end_time": "2021-02-23T04:36:45.966881Z",
     "start_time": "2021-02-23T04:36:45.951514Z"
    }
   },
   "outputs": [
    {
     "data": {
      "text/html": [
       "<div>\n",
       "<style scoped>\n",
       "    .dataframe tbody tr th:only-of-type {\n",
       "        vertical-align: middle;\n",
       "    }\n",
       "\n",
       "    .dataframe tbody tr th {\n",
       "        vertical-align: top;\n",
       "    }\n",
       "\n",
       "    .dataframe thead th {\n",
       "        text-align: right;\n",
       "    }\n",
       "</style>\n",
       "<table border=\"1\" class=\"dataframe\">\n",
       "  <thead>\n",
       "    <tr style=\"text-align: right;\">\n",
       "      <th></th>\n",
       "      <th>Symbol</th>\n",
       "      <th>Security</th>\n",
       "      <th>SEC filings</th>\n",
       "      <th>GICS Sector</th>\n",
       "      <th>GICS Sub-Industry</th>\n",
       "      <th>Headquarters Location</th>\n",
       "      <th>Date first added</th>\n",
       "      <th>CIK</th>\n",
       "      <th>Founded</th>\n",
       "    </tr>\n",
       "  </thead>\n",
       "  <tbody>\n",
       "    <tr>\n",
       "      <th>0</th>\n",
       "      <td>MMM</td>\n",
       "      <td>3M</td>\n",
       "      <td>reports</td>\n",
       "      <td>Industrials</td>\n",
       "      <td>Industrial Conglomerates</td>\n",
       "      <td>Saint Paul, Minnesota</td>\n",
       "      <td>1976-08-09</td>\n",
       "      <td>66740</td>\n",
       "      <td>1902</td>\n",
       "    </tr>\n",
       "    <tr>\n",
       "      <th>1</th>\n",
       "      <td>AOS</td>\n",
       "      <td>A. O. Smith</td>\n",
       "      <td>reports</td>\n",
       "      <td>Industrials</td>\n",
       "      <td>Building Products</td>\n",
       "      <td>Milwaukee, Wisconsin</td>\n",
       "      <td>2017-07-26</td>\n",
       "      <td>91142</td>\n",
       "      <td>1916</td>\n",
       "    </tr>\n",
       "    <tr>\n",
       "      <th>2</th>\n",
       "      <td>ABT</td>\n",
       "      <td>Abbott</td>\n",
       "      <td>reports</td>\n",
       "      <td>Health Care</td>\n",
       "      <td>Health Care Equipment</td>\n",
       "      <td>North Chicago, Illinois</td>\n",
       "      <td>1964-03-31</td>\n",
       "      <td>1800</td>\n",
       "      <td>1888</td>\n",
       "    </tr>\n",
       "    <tr>\n",
       "      <th>3</th>\n",
       "      <td>ABBV</td>\n",
       "      <td>AbbVie</td>\n",
       "      <td>reports</td>\n",
       "      <td>Health Care</td>\n",
       "      <td>Pharmaceuticals</td>\n",
       "      <td>North Chicago, Illinois</td>\n",
       "      <td>2012-12-31</td>\n",
       "      <td>1551152</td>\n",
       "      <td>2013 (1888)</td>\n",
       "    </tr>\n",
       "    <tr>\n",
       "      <th>4</th>\n",
       "      <td>ABMD</td>\n",
       "      <td>Abiomed</td>\n",
       "      <td>reports</td>\n",
       "      <td>Health Care</td>\n",
       "      <td>Health Care Equipment</td>\n",
       "      <td>Danvers, Massachusetts</td>\n",
       "      <td>2018-05-31</td>\n",
       "      <td>815094</td>\n",
       "      <td>1981</td>\n",
       "    </tr>\n",
       "  </tbody>\n",
       "</table>\n",
       "</div>"
      ],
      "text/plain": [
       "  Symbol     Security SEC filings  GICS Sector         GICS Sub-Industry  \\\n",
       "0    MMM           3M     reports  Industrials  Industrial Conglomerates   \n",
       "1    AOS  A. O. Smith     reports  Industrials         Building Products   \n",
       "2    ABT       Abbott     reports  Health Care     Health Care Equipment   \n",
       "3   ABBV       AbbVie     reports  Health Care           Pharmaceuticals   \n",
       "4   ABMD      Abiomed     reports  Health Care     Health Care Equipment   \n",
       "\n",
       "     Headquarters Location Date first added      CIK      Founded  \n",
       "0    Saint Paul, Minnesota       1976-08-09    66740         1902  \n",
       "1     Milwaukee, Wisconsin       2017-07-26    91142         1916  \n",
       "2  North Chicago, Illinois       1964-03-31     1800         1888  \n",
       "3  North Chicago, Illinois       2012-12-31  1551152  2013 (1888)  \n",
       "4   Danvers, Massachusetts       2018-05-31   815094         1981  "
      ]
     },
     "execution_count": 20,
     "metadata": {},
     "output_type": "execute_result"
    }
   ],
   "source": [
    "sp500_constituents.head()"
   ]
  },
  {
   "cell_type": "markdown",
   "metadata": {},
   "source": [
    "## pandas-datareader for Market Data"
   ]
  },
  {
   "cell_type": "markdown",
   "metadata": {},
   "source": [
    "`pandas` used to facilitate access to data providers' APIs directly, but this functionality has moved to the related pandas-datareader library. The stability of the APIs varies with provider policies, and as of June 2o18 at version 0.7, the following sources are available"
   ]
  },
  {
   "cell_type": "markdown",
   "metadata": {},
   "source": [
    "See [documentation](https://pandas-datareader.readthedocs.io/en/latest/); functionality frequently changes as underlying provider APIs evolve."
   ]
  },
  {
   "cell_type": "markdown",
   "metadata": {},
   "source": [
    "### Yahoo Finance"
   ]
  },
  {
   "cell_type": "code",
   "execution_count": 21,
   "metadata": {
    "ExecuteTime": {
     "end_time": "2021-02-23T04:36:46.535356Z",
     "start_time": "2021-02-23T04:36:45.968045Z"
    }
   },
   "outputs": [
    {
     "name": "stdout",
     "output_type": "stream",
     "text": [
      "<class 'pandas.core.frame.DataFrame'>\n",
      "DatetimeIndex: 252 entries, 2021-10-01 to 2022-09-30\n",
      "Data columns (total 6 columns):\n",
      " #   Column     Non-Null Count  Dtype  \n",
      "---  ------     --------------  -----  \n",
      " 0   High       252 non-null    float64\n",
      " 1   Low        252 non-null    float64\n",
      " 2   Open       252 non-null    float64\n",
      " 3   Close      252 non-null    float64\n",
      " 4   Volume     252 non-null    int64  \n",
      " 5   Adj Close  252 non-null    float64\n",
      "dtypes: float64(5), int64(1)\n",
      "memory usage: 13.8 KB\n"
     ]
    }
   ],
   "source": [
    "start = '2014'\n",
    "end = datetime(2017, 5, 24)\n",
    "\n",
    "yahoo= web.DataReader('FB', 'yahoo', start=start, end=end)\n",
    "#DataReader可从多个金融网站获取到股票数据，如“Yahoo! Finance” 、“Google Finance”等。第三、四个参数为股票数据的起始时间断\n",
    "yahoo.info()"
   ]
  },
  {
   "cell_type": "markdown",
   "metadata": {},
   "source": [
    "### data必须是pandas.DataFrame数据类型，对所包含的列也有要求，必须包含’Open’, ‘High’, ‘Low’ 和 ‘Close’ 数据（注意:首字母是大写的），而且行索引必须是pandas.DatetimeIndex，行索引的名称必须是’Date‘(同理注意首字母大写)，此外还有一列是’Volume’，这一列不是必须的，可选项（前提是你不想绘制成交量的话）。"
   ]
  },
  {
   "cell_type": "code",
   "execution_count": 24,
   "metadata": {
    "ExecuteTime": {
     "end_time": "2021-02-23T04:36:46.695297Z",
     "start_time": "2021-02-23T04:36:46.536332Z"
    }
   },
   "outputs": [
    {
     "data": {
      "image/png": "[encoded data removed]",
      "text/plain": [
       "<Figure size 800x575 with 2 Axes>"
      ]
     },
     "metadata": {},
     "output_type": "display_data"
    },
    {
     "data": {
      "text/plain": [
       "<Figure size 640x480 with 0 Axes>"
      ]
     },
     "metadata": {},
     "output_type": "display_data"
    }
   ],
   "source": [
    "mpf.plot(yahoo.drop('Adj Close', axis=1), type='candle')\n",
    "plt.tight_layout()"
   ]
  },
  {
   "cell_type": "markdown",
   "metadata": {},
   "source": [
    "### IEX"
   ]
  },
  {
   "cell_type": "markdown",
   "metadata": {},
   "source": [
    "IEX is an alternative exchange started in response to the HFT controversy and portrayed in Michael Lewis' controversial Flash Boys. It aims to slow down the speed of trading to create a more level playing field and has been growing rapidly since launch in 2016 while still small with a market share of around 2.5% in June 2018."
   ]
  },
  {
   "cell_type": "markdown",
   "metadata": {},
   "source": [
    "> **Note:** IEX now requires an [API](https://iexcloud.io/) key after registration for (free) account that you can store as environment variable and retrieve as illustrated below, or pass directly via keyword argument to `pandas_datareader`."
   ]
  },
  {
   "cell_type": "code",
   "execution_count": 47,
   "metadata": {},
   "outputs": [
    {
     "name": "stdout",
     "output_type": "stream",
     "text": [
      "Value of 'IEX_API_KEY' environment variable : pk_79658812f6fa48e38f51057a6badad4f\n"
     ]
    }
   ],
   "source": [
    "import os   \n",
    "\n",
    "os.environ[\"IEX_API_KEY\"] = \"pk_79658812f6fa48e38f51057a6badad4f\"\n",
    "\n",
    "IEX_API_KEY=os.getenv('IEX_API_KEY')\n",
    "\n",
    "key = 'IEX_API_KEY'\n",
    "\n",
    "value = os.getenv(key)\n",
    "\n",
    "print(\"Value of 'IEX_API_KEY' environment variable :\", value)"
   ]
  },
  {
   "cell_type": "code",
   "execution_count": 48,
   "metadata": {
    "ExecuteTime": {
     "end_time": "2021-02-23T04:36:48.119608Z",
     "start_time": "2021-02-23T04:36:46.699375Z"
    }
   },
   "outputs": [
    {
     "name": "stdout",
     "output_type": "stream",
     "text": [
      "<class 'pandas.core.frame.DataFrame'>\n",
      "Index: 1847 entries, 2015-02-09 to 2022-06-08\n",
      "Data columns (total 5 columns):\n",
      " #   Column  Non-Null Count  Dtype  \n",
      "---  ------  --------------  -----  \n",
      " 0   open    1847 non-null   float64\n",
      " 1   high    1847 non-null   float64\n",
      " 2   low     1847 non-null   float64\n",
      " 3   close   1847 non-null   float64\n",
      " 4   volume  1847 non-null   int64  \n",
      "dtypes: float64(4), int64(1)\n",
      "memory usage: 86.6+ KB\n"
     ]
    }
   ],
   "source": [
    "start = datetime(2015, 2, 9)\n",
    "# end = datetime(2017, 5, 24)\n",
    "\n",
    "iex = web.DataReader('FB', 'iex', start, api_key=IEX_API_KEY)\n",
    "iex.info()"
   ]
  },
  {
   "cell_type": "code",
   "execution_count": 49,
   "metadata": {
    "ExecuteTime": {
     "end_time": "2021-02-23T04:36:48.133390Z",
     "start_time": "2021-02-23T04:36:48.122277Z"
    }
   },
   "outputs": [
    {
     "data": {
      "text/html": [
       "<div>\n",
       "<style scoped>\n",
       "    .dataframe tbody tr th:only-of-type {\n",
       "        vertical-align: middle;\n",
       "    }\n",
       "\n",
       "    .dataframe tbody tr th {\n",
       "        vertical-align: top;\n",
       "    }\n",
       "\n",
       "    .dataframe thead th {\n",
       "        text-align: right;\n",
       "    }\n",
       "</style>\n",
       "<table border=\"1\" class=\"dataframe\">\n",
       "  <thead>\n",
       "    <tr style=\"text-align: right;\">\n",
       "      <th></th>\n",
       "      <th>open</th>\n",
       "      <th>high</th>\n",
       "      <th>low</th>\n",
       "      <th>close</th>\n",
       "      <th>volume</th>\n",
       "    </tr>\n",
       "    <tr>\n",
       "      <th>date</th>\n",
       "      <th></th>\n",
       "      <th></th>\n",
       "      <th></th>\n",
       "      <th></th>\n",
       "      <th></th>\n",
       "    </tr>\n",
       "  </thead>\n",
       "  <tbody>\n",
       "    <tr>\n",
       "      <th>2022-06-02</th>\n",
       "      <td>188.45</td>\n",
       "      <td>200.935</td>\n",
       "      <td>187.73</td>\n",
       "      <td>198.86</td>\n",
       "      <td>31951582</td>\n",
       "    </tr>\n",
       "    <tr>\n",
       "      <th>2022-06-03</th>\n",
       "      <td>195.98</td>\n",
       "      <td>196.610</td>\n",
       "      <td>189.78</td>\n",
       "      <td>190.78</td>\n",
       "      <td>19464993</td>\n",
       "    </tr>\n",
       "    <tr>\n",
       "      <th>2022-06-06</th>\n",
       "      <td>193.99</td>\n",
       "      <td>196.920</td>\n",
       "      <td>188.40</td>\n",
       "      <td>194.25</td>\n",
       "      <td>30574242</td>\n",
       "    </tr>\n",
       "    <tr>\n",
       "      <th>2022-06-07</th>\n",
       "      <td>191.93</td>\n",
       "      <td>196.530</td>\n",
       "      <td>191.49</td>\n",
       "      <td>195.65</td>\n",
       "      <td>18828687</td>\n",
       "    </tr>\n",
       "    <tr>\n",
       "      <th>2022-06-08</th>\n",
       "      <td>194.67</td>\n",
       "      <td>202.030</td>\n",
       "      <td>194.41</td>\n",
       "      <td>196.64</td>\n",
       "      <td>22267154</td>\n",
       "    </tr>\n",
       "  </tbody>\n",
       "</table>\n",
       "</div>"
      ],
      "text/plain": [
       "              open     high     low   close    volume\n",
       "date                                                 \n",
       "2022-06-02  188.45  200.935  187.73  198.86  31951582\n",
       "2022-06-03  195.98  196.610  189.78  190.78  19464993\n",
       "2022-06-06  193.99  196.920  188.40  194.25  30574242\n",
       "2022-06-07  191.93  196.530  191.49  195.65  18828687\n",
       "2022-06-08  194.67  202.030  194.41  196.64  22267154"
      ]
     },
     "execution_count": 49,
     "metadata": {},
     "output_type": "execute_result"
    }
   ],
   "source": [
    "iex.tail()"
   ]
  },
  {
   "cell_type": "code",
   "execution_count": 50,
   "metadata": {
    "ExecuteTime": {
     "end_time": "2021-02-23T04:36:48.275043Z",
     "start_time": "2021-02-23T04:36:48.136118Z"
    }
   },
   "outputs": [
    {
     "data": {
      "image/png": "[encoded data removed]",
      "text/plain": [
       "<Figure size 1400x500 with 1 Axes>"
      ]
     },
     "metadata": {},
     "output_type": "display_data"
    }
   ],
   "source": [
    "sns.set_style('whitegrid')\n",
    "iex.close.plot(figsize=(14, 5))\n",
    "sns.despine()"
   ]
  },
  {
   "cell_type": "markdown",
   "metadata": {},
   "source": [
    "#### Book Data\n",
    "\n",
    "In addition to historical EOD price and volume data, IEX provides real-time depth of book quotations that offer an aggregated size of orders by price and side. This service also includes last trade price and size information.\n",
    "\n",
    "DEEP is used to receive real-time depth of book quotations direct from IEX. The depth of book quotations received via DEEP provide an aggregated size of resting displayed orders at a price and side, and do not indicate the size or number of individual orders at any price level. Non-displayed orders and non-displayed portions of reserve orders are not represented in DEEP.\n",
    "\n",
    "DEEP also provides last trade price and size information. Trades resulting from either displayed or non-displayed orders matching on IEX will be reported. Routed executions will not be reported."
   ]
  },
  {
   "cell_type": "markdown",
   "metadata": {},
   "source": [
    "Only works on trading days."
   ]
  },
  {
   "cell_type": "code",
   "execution_count": 1,
   "metadata": {
    "ExecuteTime": {
     "end_time": "2021-02-23T04:36:48.482101Z",
     "start_time": "2021-02-23T04:36:48.275981Z"
    },
    "scrolled": true
   },
   "outputs": [],
   "source": [
    "book = web.get_iex_book('AAPL')"
   ]
  },
  {
   "cell_type": "code",
   "execution_count": 13,
   "metadata": {
    "ExecuteTime": {
     "end_time": "2021-02-23T04:36:48.486712Z",
     "start_time": "2021-02-23T04:36:48.483507Z"
    }
   },
   "outputs": [
    {
     "data": {
      "text/plain": [
       "['symbol',\n",
       " 'marketPercent',\n",
       " 'volume',\n",
       " 'lastSalePrice',\n",
       " 'lastSaleSize',\n",
       " 'lastSaleTime',\n",
       " 'lastUpdated',\n",
       " 'bids',\n",
       " 'asks',\n",
       " 'systemEvent',\n",
       " 'tradingStatus',\n",
       " 'opHaltStatus',\n",
       " 'ssrStatus',\n",
       " 'securityEvent',\n",
       " 'trades',\n",
       " 'tradeBreaks']"
      ]
     },
     "execution_count": 13,
     "metadata": {},
     "output_type": "execute_result"
    }
   ],
   "source": [
    "list(book.keys())"
   ]
  },
  {
   "cell_type": "code",
   "execution_count": 14,
   "metadata": {
    "ExecuteTime": {
     "end_time": "2021-02-23T04:36:48.499105Z",
     "start_time": "2021-02-23T04:36:48.488047Z"
    }
   },
   "outputs": [
    {
     "data": {
      "text/html": [
       "<div>\n",
       "<style scoped>\n",
       "    .dataframe tbody tr th:only-of-type {\n",
       "        vertical-align: middle;\n",
       "    }\n",
       "\n",
       "    .dataframe tbody tr th {\n",
       "        vertical-align: top;\n",
       "    }\n",
       "\n",
       "    .dataframe thead th {\n",
       "        text-align: right;\n",
       "    }\n",
       "</style>\n",
       "<table border=\"1\" class=\"dataframe\">\n",
       "  <thead>\n",
       "    <tr style=\"text-align: right;\">\n",
       "      <th></th>\n",
       "      <th>side</th>\n",
       "    </tr>\n",
       "  </thead>\n",
       "  <tbody>\n",
       "  </tbody>\n",
       "</table>\n",
       "</div>"
      ],
      "text/plain": [
       "Empty DataFrame\n",
       "Columns: [side]\n",
       "Index: []"
      ]
     },
     "execution_count": 14,
     "metadata": {},
     "output_type": "execute_result"
    }
   ],
   "source": [
    "orders = pd.concat([pd.DataFrame(book[side]).assign(side=side) for side in ['bids', 'asks']])\n",
    "orders.head()"
   ]
  },
  {
   "cell_type": "code",
   "execution_count": 15,
   "metadata": {
    "ExecuteTime": {
     "end_time": "2021-02-23T04:36:48.524610Z",
     "start_time": "2021-02-23T04:36:48.500486Z"
    }
   },
   "outputs": [
    {
     "name": "stdout",
     "output_type": "stream",
     "text": [
      "\n",
      "symbol\n",
      "AAPL\n",
      "\n",
      "marketPercent\n",
      "0.01824\n",
      "\n",
      "volume\n",
      "1874997\n",
      "\n",
      "lastSalePrice\n",
      "125.98\n",
      "\n",
      "lastSaleSize\n",
      "3\n",
      "\n",
      "lastSaleTime\n",
      "1614027994379\n",
      "\n",
      "lastUpdated\n",
      "1614031191208\n",
      "\n",
      "bids\n",
      "Empty DataFrame\n",
      "Columns: []\n",
      "Index: []\n",
      "\n",
      "asks\n",
      "Empty DataFrame\n",
      "Columns: []\n",
      "Index: []\n",
      "\n",
      "systemEvent\n",
      "{'systemEvent': 'C', 'timestamp': 1614031800007}\n",
      "\n",
      "tradingStatus\n",
      "{'status': 'T', 'reason': '    ', 'timestamp': 1613996038606}\n",
      "\n",
      "opHaltStatus\n",
      "{'isHalted': False, 'timestamp': 1613996038606}\n",
      "\n",
      "ssrStatus\n",
      "{'isSSR': False, 'detail': ' ', 'timestamp': 1613996038606}\n",
      "\n",
      "securityEvent\n",
      "{'securityEvent': 'MarketClose', 'timestamp': 1614027600000}\n",
      "\n",
      "trades\n",
      "      price  size     tradeId  isISO  isOddLot  isOutsideRegularHours  \\\n",
      "0   125.980     3  2565301038   True      True                   True   \n",
      "1   126.010    20  2561192133  False      True                  False   \n",
      "2   126.010    35  2561162510  False      True                  False   \n",
      "3   126.005   100  2560819178  False     False                  False   \n",
      "4   126.005   100  2560535358  False     False                  False   \n",
      "5   126.010   100  2559785204  False     False                  False   \n",
      "6   126.020   132  2559650792  False     False                  False   \n",
      "7   126.045   100  2559329974  False     False                  False   \n",
      "8   126.060   300  2559317473   True     False                  False   \n",
      "9   126.050     1  2559295066   True      True                  False   \n",
      "10  126.035   100  2559185683  False     False                  False   \n",
      "11  126.010   300  2558525991  False     False                  False   \n",
      "12  126.010     6  2558455856   True      True                  False   \n",
      "13  126.010    30  2558411929   True      True                  False   \n",
      "14  126.020   300  2558025659  False     False                  False   \n",
      "15  126.010   300  2558014028  False     False                  False   \n",
      "16  126.015   100  2557970786  False     False                  False   \n",
      "17  126.020    90  2557488823   True      True                  False   \n",
      "18  126.020     3  2557462987   True      True                  False   \n",
      "19  126.000   100  2557328682   True     False                  False   \n",
      "\n",
      "    isSinglePriceCross  isTradeThroughExempt      timestamp  \n",
      "0                False                 False  1614027994379  \n",
      "1                False                 False  1614027597753  \n",
      "2                False                 False  1614027597658  \n",
      "3                False                 False  1614027596970  \n",
      "4                False                 False  1614027596307  \n",
      "5                False                 False  1614027594703  \n",
      "6                False                 False  1614027594402  \n",
      "7                False                 False  1614027593980  \n",
      "8                False                  True  1614027593950  \n",
      "9                False                 False  1614027593916  \n",
      "10               False                 False  1614027593636  \n",
      "11               False                 False  1614027592039  \n",
      "12               False                 False  1614027591885  \n",
      "13               False                 False  1614027591777  \n",
      "14               False                 False  1614027591036  \n",
      "15               False                 False  1614027591023  \n",
      "16               False                 False  1614027590959  \n",
      "17               False                 False  1614027590145  \n",
      "18               False                 False  1614027590119  \n",
      "19               False                 False  1614027590005  \n",
      "\n",
      "tradeBreaks\n",
      "Empty DataFrame\n",
      "Columns: []\n",
      "Index: []\n"
     ]
    }
   ],
   "source": [
    "for key in book.keys():\n",
    "    try:\n",
    "        print(f'\\n{key}')\n",
    "        print(pd.DataFrame(book[key]))\n",
    "    except:\n",
    "        print(book[key])"
   ]
  },
  {
   "cell_type": "code",
   "execution_count": 16,
   "metadata": {
    "ExecuteTime": {
     "end_time": "2021-02-23T04:36:48.534789Z",
     "start_time": "2021-02-23T04:36:48.525826Z"
    }
   },
   "outputs": [
    {
     "data": {
      "text/html": [
       "<div>\n",
       "<style scoped>\n",
       "    .dataframe tbody tr th:only-of-type {\n",
       "        vertical-align: middle;\n",
       "    }\n",
       "\n",
       "    .dataframe tbody tr th {\n",
       "        vertical-align: top;\n",
       "    }\n",
       "\n",
       "    .dataframe thead th {\n",
       "        text-align: right;\n",
       "    }\n",
       "</style>\n",
       "<table border=\"1\" class=\"dataframe\">\n",
       "  <thead>\n",
       "    <tr style=\"text-align: right;\">\n",
       "      <th></th>\n",
       "      <th>price</th>\n",
       "      <th>size</th>\n",
       "      <th>tradeId</th>\n",
       "      <th>isISO</th>\n",
       "      <th>isOddLot</th>\n",
       "      <th>isOutsideRegularHours</th>\n",
       "      <th>isSinglePriceCross</th>\n",
       "      <th>isTradeThroughExempt</th>\n",
       "      <th>timestamp</th>\n",
       "    </tr>\n",
       "  </thead>\n",
       "  <tbody>\n",
       "    <tr>\n",
       "      <th>0</th>\n",
       "      <td>125.980</td>\n",
       "      <td>3</td>\n",
       "      <td>2565301038</td>\n",
       "      <td>True</td>\n",
       "      <td>True</td>\n",
       "      <td>True</td>\n",
       "      <td>False</td>\n",
       "      <td>False</td>\n",
       "      <td>1614027994379</td>\n",
       "    </tr>\n",
       "    <tr>\n",
       "      <th>1</th>\n",
       "      <td>126.010</td>\n",
       "      <td>20</td>\n",
       "      <td>2561192133</td>\n",
       "      <td>False</td>\n",
       "      <td>True</td>\n",
       "      <td>False</td>\n",
       "      <td>False</td>\n",
       "      <td>False</td>\n",
       "      <td>1614027597753</td>\n",
       "    </tr>\n",
       "    <tr>\n",
       "      <th>2</th>\n",
       "      <td>126.010</td>\n",
       "      <td>35</td>\n",
       "      <td>2561162510</td>\n",
       "      <td>False</td>\n",
       "      <td>True</td>\n",
       "      <td>False</td>\n",
       "      <td>False</td>\n",
       "      <td>False</td>\n",
       "      <td>1614027597658</td>\n",
       "    </tr>\n",
       "    <tr>\n",
       "      <th>3</th>\n",
       "      <td>126.005</td>\n",
       "      <td>100</td>\n",
       "      <td>2560819178</td>\n",
       "      <td>False</td>\n",
       "      <td>False</td>\n",
       "      <td>False</td>\n",
       "      <td>False</td>\n",
       "      <td>False</td>\n",
       "      <td>1614027596970</td>\n",
       "    </tr>\n",
       "    <tr>\n",
       "      <th>4</th>\n",
       "      <td>126.005</td>\n",
       "      <td>100</td>\n",
       "      <td>2560535358</td>\n",
       "      <td>False</td>\n",
       "      <td>False</td>\n",
       "      <td>False</td>\n",
       "      <td>False</td>\n",
       "      <td>False</td>\n",
       "      <td>1614027596307</td>\n",
       "    </tr>\n",
       "  </tbody>\n",
       "</table>\n",
       "</div>"
      ],
      "text/plain": [
       "     price  size     tradeId  isISO  isOddLot  isOutsideRegularHours  \\\n",
       "0  125.980     3  2565301038   True      True                   True   \n",
       "1  126.010    20  2561192133  False      True                  False   \n",
       "2  126.010    35  2561162510  False      True                  False   \n",
       "3  126.005   100  2560819178  False     False                  False   \n",
       "4  126.005   100  2560535358  False     False                  False   \n",
       "\n",
       "   isSinglePriceCross  isTradeThroughExempt      timestamp  \n",
       "0               False                 False  1614027994379  \n",
       "1               False                 False  1614027597753  \n",
       "2               False                 False  1614027597658  \n",
       "3               False                 False  1614027596970  \n",
       "4               False                 False  1614027596307  "
      ]
     },
     "execution_count": 16,
     "metadata": {},
     "output_type": "execute_result"
    }
   ],
   "source": [
    "pd.DataFrame(book['trades']).head()"
   ]
  },
  {
   "cell_type": "markdown",
   "metadata": {},
   "source": [
    "### Quandl"
   ]
  },
  {
   "cell_type": "markdown",
   "metadata": {},
   "source": [
    "Obtain Quandl [API Key](https://www.quandl.com/tools/api) and store in environment variable as `QUANDL_API_KEY`."
   ]
  },
  {
   "cell_type": "code",
   "execution_count": 56,
   "metadata": {},
   "outputs": [
    {
     "name": "stdout",
     "output_type": "stream",
     "text": [
      "Value of 'QUANDL_API_KEY' environment variable : yGe56CBmpf1sucMhBHg8\n"
     ]
    }
   ],
   "source": [
    "import os   \n",
    "\n",
    "os.environ[\"QUANDL_API_KEY\"] = \"yGe56CBmpf1sucMhBHg8\"\n",
    "\n",
    "QUANDL_API_KEY=os.getenv('QUANDL_API_KEY')\n",
    "\n",
    "key = 'QUANDL_API_KEY'\n",
    "\n",
    "value = os.getenv(key)\n",
    "\n",
    "print(\"Value of 'QUANDL_API_KEY' environment variable :\", value)"
   ]
  },
  {
   "cell_type": "code",
   "execution_count": 57,
   "metadata": {
    "ExecuteTime": {
     "end_time": "2021-02-23T04:36:49.223603Z",
     "start_time": "2021-02-23T04:36:48.535939Z"
    }
   },
   "outputs": [
    {
     "name": "stdout",
     "output_type": "stream",
     "text": [
      "<class 'pandas.core.frame.DataFrame'>\n",
      "DatetimeIndex: 813 entries, 2018-03-27 to 2015-01-02\n",
      "Data columns (total 12 columns):\n",
      " #   Column      Non-Null Count  Dtype  \n",
      "---  ------      --------------  -----  \n",
      " 0   Open        813 non-null    float64\n",
      " 1   High        813 non-null    float64\n",
      " 2   Low         813 non-null    float64\n",
      " 3   Close       813 non-null    float64\n",
      " 4   Volume      813 non-null    float64\n",
      " 5   ExDividend  813 non-null    float64\n",
      " 6   SplitRatio  813 non-null    float64\n",
      " 7   AdjOpen     813 non-null    float64\n",
      " 8   AdjHigh     813 non-null    float64\n",
      " 9   AdjLow      813 non-null    float64\n",
      " 10  AdjClose    813 non-null    float64\n",
      " 11  AdjVolume   813 non-null    float64\n",
      "dtypes: float64(12)\n",
      "memory usage: 82.6 KB\n"
     ]
    }
   ],
   "source": [
    "symbol = 'FB.US'\n",
    "\n",
    "quandl = web.DataReader(symbol, 'quandl', '2015-01-01')\n",
    "quandl.info()"
   ]
  },
  {
   "cell_type": "markdown",
   "metadata": {},
   "source": [
    "### FRED"
   ]
  },
  {
   "cell_type": "code",
   "execution_count": 58,
   "metadata": {
    "ExecuteTime": {
     "end_time": "2021-02-23T04:36:49.389817Z",
     "start_time": "2021-02-23T04:36:49.224612Z"
    }
   },
   "outputs": [
    {
     "name": "stdout",
     "output_type": "stream",
     "text": [
      "<class 'pandas.core.frame.DataFrame'>\n",
      "DatetimeIndex: 13 entries, 2010-01-01 to 2013-01-01\n",
      "Data columns (total 1 columns):\n",
      " #   Column  Non-Null Count  Dtype  \n",
      "---  ------  --------------  -----  \n",
      " 0   GDP     13 non-null     float64\n",
      "dtypes: float64(1)\n",
      "memory usage: 208.0 bytes\n"
     ]
    }
   ],
   "source": [
    "start = datetime(2010, 1, 1)\n",
    "\n",
    "end = datetime(2013, 1, 27)\n",
    "\n",
    "gdp = web.DataReader('GDP', 'fred', start, end)\n",
    "\n",
    "gdp.info()"
   ]
  },
  {
   "cell_type": "code",
   "execution_count": 59,
   "metadata": {
    "ExecuteTime": {
     "end_time": "2021-02-23T04:36:50.004503Z",
     "start_time": "2021-02-23T04:36:49.390862Z"
    }
   },
   "outputs": [
    {
     "name": "stdout",
     "output_type": "stream",
     "text": [
      "<class 'pandas.core.frame.DataFrame'>\n",
      "DatetimeIndex: 37 entries, 2010-01-01 to 2013-01-01\n",
      "Data columns (total 2 columns):\n",
      " #   Column    Non-Null Count  Dtype  \n",
      "---  ------    --------------  -----  \n",
      " 0   CPIAUCSL  37 non-null     float64\n",
      " 1   CPILFESL  37 non-null     float64\n",
      "dtypes: float64(2)\n",
      "memory usage: 888.0 bytes\n"
     ]
    }
   ],
   "source": [
    "inflation = web.DataReader(['CPIAUCSL', 'CPILFESL'], 'fred', start, end)\n",
    "inflation.info()"
   ]
  },
  {
   "cell_type": "markdown",
   "metadata": {},
   "source": [
    "### Fama/French"
   ]
  },
  {
   "cell_type": "code",
   "execution_count": 61,
   "metadata": {
    "ExecuteTime": {
     "end_time": "2021-02-23T04:36:50.515533Z",
     "start_time": "2021-02-23T04:36:50.005740Z"
    }
   },
   "outputs": [
    {
     "data": {
      "text/plain": [
       "['F-F_Research_Data_Factors',\n",
       " 'F-F_Research_Data_Factors_weekly',\n",
       " 'F-F_Research_Data_Factors_daily',\n",
       " 'F-F_Research_Data_5_Factors_2x3',\n",
       " 'F-F_Research_Data_5_Factors_2x3_daily',\n",
       " 'Portfolios_Formed_on_ME',\n",
       " 'Portfolios_Formed_on_ME_Wout_Div',\n",
       " 'Portfolios_Formed_on_ME_Daily',\n",
       " 'Portfolios_Formed_on_BE-ME',\n",
       " 'Portfolios_Formed_on_BE-ME_Wout_Div',\n",
       " 'Portfolios_Formed_on_BE-ME_Daily',\n",
       " 'Portfolios_Formed_on_OP',\n",
       " 'Portfolios_Formed_on_OP_Wout_Div',\n",
       " 'Portfolios_Formed_on_OP_Daily',\n",
       " 'Portfolios_Formed_on_INV',\n",
       " 'Portfolios_Formed_on_INV_Wout_Div',\n",
       " 'Portfolios_Formed_on_INV_Daily',\n",
       " '6_Portfolios_2x3',\n",
       " '6_Portfolios_2x3_Wout_Div',\n",
       " '6_Portfolios_2x3_weekly',\n",
       " '6_Portfolios_2x3_daily',\n",
       " '25_Portfolios_5x5',\n",
       " '25_Portfolios_5x5_Wout_Div',\n",
       " '25_Portfolios_5x5_Daily',\n",
       " '100_Portfolios_10x10',\n",
       " '100_Portfolios_10x10_Wout_Div',\n",
       " '100_Portfolios_10x10_Daily',\n",
       " '6_Portfolios_ME_OP_2x3',\n",
       " '6_Portfolios_ME_OP_2x3_Wout_Div',\n",
       " '6_Portfolios_ME_OP_2x3_daily',\n",
       " '25_Portfolios_ME_OP_5x5',\n",
       " '25_Portfolios_ME_OP_5x5_Wout_Div',\n",
       " '25_Portfolios_ME_OP_5x5_daily',\n",
       " '100_Portfolios_ME_OP_10x10',\n",
       " '100_Portfolios_10x10_ME_OP_Wout_Div',\n",
       " '100_Portfolios_ME_OP_10x10_daily',\n",
       " '6_Portfolios_ME_INV_2x3',\n",
       " '6_Portfolios_ME_INV_2x3_Wout_Div',\n",
       " '6_Portfolios_ME_INV_2x3_daily',\n",
       " '25_Portfolios_ME_INV_5x5',\n",
       " '25_Portfolios_ME_INV_5x5_Wout_Div',\n",
       " '25_Portfolios_ME_INV_5x5_daily',\n",
       " '100_Portfolios_ME_INV_10x10',\n",
       " '100_Portfolios_10x10_ME_INV_Wout_Div',\n",
       " '100_Portfolios_ME_INV_10x10_daily',\n",
       " '25_Portfolios_BEME_OP_5x5',\n",
       " '25_Portfolios_BEME_OP_5x5_Wout_Div',\n",
       " '25_Portfolios_BEME_OP_5x5_daily',\n",
       " '25_Portfolios_BEME_INV_5x5',\n",
       " '25_Portfolios_BEME_INV_5x5_Wout_Div',\n",
       " '25_Portfolios_BEME_INV_5x5_daily',\n",
       " '25_Portfolios_OP_INV_5x5',\n",
       " '25_Portfolios_OP_INV_5x5_Wout_Div',\n",
       " '25_Portfolios_OP_INV_5x5_daily',\n",
       " '32_Portfolios_ME_BEME_OP_2x4x4',\n",
       " '32_Portfolios_ME_BEME_OP_2x4x4_Wout_Div',\n",
       " '32_Portfolios_ME_BEME_INV_2x4x4',\n",
       " '32_Portfolios_ME_BEME_INV_2x4x4_Wout_Div',\n",
       " '32_Portfolios_ME_OP_INV_2x4x4',\n",
       " '32_Portfolios_ME_OP_INV_2x4x4_Wout_Div',\n",
       " 'Portfolios_Formed_on_E-P',\n",
       " 'Portfolios_Formed_on_E-P_Wout_Div',\n",
       " 'Portfolios_Formed_on_CF-P',\n",
       " 'Portfolios_Formed_on_CF-P_Wout_Div',\n",
       " 'Portfolios_Formed_on_D-P',\n",
       " 'Portfolios_Formed_on_D-P_Wout_Div',\n",
       " '6_Portfolios_ME_EP_2x3',\n",
       " '6_Portfolios_ME_EP_2x3_Wout_Div',\n",
       " '6_Portfolios_ME_CFP_2x3',\n",
       " '6_Portfolios_ME_CFP_2x3_Wout_Div',\n",
       " '6_Portfolios_ME_DP_2x3',\n",
       " '6_Portfolios_ME_DP_2x3_Wout_Div',\n",
       " 'F-F_Momentum_Factor',\n",
       " 'F-F_Momentum_Factor_daily',\n",
       " '6_Portfolios_ME_Prior_12_2',\n",
       " '6_Portfolios_ME_Prior_12_2_Daily',\n",
       " '25_Portfolios_ME_Prior_12_2',\n",
       " '25_Portfolios_ME_Prior_12_2_Daily',\n",
       " '10_Portfolios_Prior_12_2',\n",
       " '10_Portfolios_Prior_12_2_Daily',\n",
       " 'F-F_ST_Reversal_Factor',\n",
       " 'F-F_ST_Reversal_Factor_daily',\n",
       " '6_Portfolios_ME_Prior_1_0',\n",
       " '6_Portfolios_ME_Prior_1_0_Daily',\n",
       " '25_Portfolios_ME_Prior_1_0',\n",
       " '25_Portfolios_ME_Prior_1_0_Daily',\n",
       " '10_Portfolios_Prior_1_0',\n",
       " '10_Portfolios_Prior_1_0_Daily',\n",
       " 'F-F_LT_Reversal_Factor',\n",
       " 'F-F_LT_Reversal_Factor_daily',\n",
       " '6_Portfolios_ME_Prior_60_13',\n",
       " '6_Portfolios_ME_Prior_60_13_Daily',\n",
       " '25_Portfolios_ME_Prior_60_13',\n",
       " '25_Portfolios_ME_Prior_60_13_Daily',\n",
       " '10_Portfolios_Prior_60_13',\n",
       " '10_Portfolios_Prior_60_13_Daily',\n",
       " 'Portfolios_Formed_on_AC',\n",
       " '25_Portfolios_ME_AC_5x5',\n",
       " 'Portfolios_Formed_on_BETA',\n",
       " '25_Portfolios_ME_BETA_5x5',\n",
       " 'Portfolios_Formed_on_NI',\n",
       " '25_Portfolios_ME_NI_5x5',\n",
       " 'Portfolios_Formed_on_VAR',\n",
       " '25_Portfolios_ME_VAR_5x5',\n",
       " 'Portfolios_Formed_on_RESVAR',\n",
       " '25_Portfolios_ME_RESVAR_5x5',\n",
       " '5_Industry_Portfolios',\n",
       " '5_Industry_Portfolios_Wout_Div',\n",
       " '5_Industry_Portfolios_daily',\n",
       " '10_Industry_Portfolios',\n",
       " '10_Industry_Portfolios_Wout_Div',\n",
       " '10_Industry_Portfolios_daily',\n",
       " '12_Industry_Portfolios',\n",
       " '12_Industry_Portfolios_Wout_Div',\n",
       " '12_Industry_Portfolios_daily',\n",
       " '17_Industry_Portfolios',\n",
       " '17_Industry_Portfolios_Wout_Div',\n",
       " '17_Industry_Portfolios_daily',\n",
       " '30_Industry_Portfolios',\n",
       " '30_Industry_Portfolios_Wout_Div',\n",
       " '30_Industry_Portfolios_daily',\n",
       " '38_Industry_Portfolios',\n",
       " '38_Industry_Portfolios_Wout_Div',\n",
       " '38_Industry_Portfolios_daily',\n",
       " '48_Industry_Portfolios',\n",
       " '48_Industry_Portfolios_Wout_Div',\n",
       " '48_Industry_Portfolios_daily',\n",
       " '49_Industry_Portfolios',\n",
       " '49_Industry_Portfolios_Wout_Div',\n",
       " '49_Industry_Portfolios_daily',\n",
       " 'ME_Breakpoints',\n",
       " 'BE-ME_Breakpoints',\n",
       " 'OP_Breakpoints',\n",
       " 'INV_Breakpoints',\n",
       " 'E-P_Breakpoints',\n",
       " 'CF-P_Breakpoints',\n",
       " 'D-P_Breakpoints',\n",
       " 'Prior_2-12_Breakpoints',\n",
       " 'Developed_3_Factors',\n",
       " 'Developed_3_Factors_Daily',\n",
       " 'Developed_ex_US_3_Factors',\n",
       " 'Developed_ex_US_3_Factors_Daily',\n",
       " 'Europe_3_Factors',\n",
       " 'Europe_3_Factors_Daily',\n",
       " 'Japan_3_Factors',\n",
       " 'Japan_3_Factors_Daily',\n",
       " 'Asia_Pacific_ex_Japan_3_Factors',\n",
       " 'Asia_Pacific_ex_Japan_3_Factors_Daily',\n",
       " 'North_America_3_Factors',\n",
       " 'North_America_3_Factors_Daily',\n",
       " 'Developed_5_Factors',\n",
       " 'Developed_5_Factors_Daily',\n",
       " 'Developed_ex_US_5_Factors',\n",
       " 'Developed_ex_US_5_Factors_Daily',\n",
       " 'Europe_5_Factors',\n",
       " 'Europe_5_Factors_Daily',\n",
       " 'Japan_5_Factors',\n",
       " 'Japan_5_Factors_Daily',\n",
       " 'Asia_Pacific_ex_Japan_5_Factors',\n",
       " 'Asia_Pacific_ex_Japan_5_Factors_Daily',\n",
       " 'North_America_5_Factors',\n",
       " 'North_America_5_Factors_Daily',\n",
       " 'Developed_Mom_Factor',\n",
       " 'Developed_Mom_Factor_Daily',\n",
       " 'Developed_ex_US_Mom_Factor',\n",
       " 'Developed_ex_US_Mom_Factor_Daily',\n",
       " 'Europe_Mom_Factor',\n",
       " 'Europe_Mom_Factor_Daily',\n",
       " 'Japan_Mom_Factor',\n",
       " 'Japan_Mom_Factor_Daily',\n",
       " 'Asia_Pacific_ex_Japan_MOM_Factor',\n",
       " 'Asia_Pacific_ex_Japan_MOM_Factor_Daily',\n",
       " 'North_America_Mom_Factor',\n",
       " 'North_America_Mom_Factor_Daily',\n",
       " 'Developed_6_Portfolios_ME_BE-ME',\n",
       " 'Developed_6_Portfolios_ME_BE-ME_daily',\n",
       " 'Developed_ex_US_6_Portfolios_ME_BE-ME',\n",
       " 'Developed_ex_US_6_Portfolios_ME_BE-ME_daily',\n",
       " 'Europe_6_Portfolios_ME_BE-ME',\n",
       " 'Europe_6_Portfolios_ME_BE-ME_daily',\n",
       " 'Japan_6_Portfolios_ME_BE-ME',\n",
       " 'Japan_6_Portfolios_ME_BE-ME_daily',\n",
       " 'Asia_Pacific_ex_Japan_6_Portfolios_ME_BE-ME',\n",
       " 'Asia_Pacific_ex_Japan_6_Portfolios_ME_BE-ME_daily',\n",
       " 'North_America_6_Portfolios_ME_BE-ME',\n",
       " 'North_America_6_Portfolios_ME_BE-ME_daily',\n",
       " 'Developed_25_Portfolios_ME_BE-ME',\n",
       " 'Developed_25_Portfolios_ME_BE-ME_daily',\n",
       " 'Developed_ex_US_25_Portfolios_ME_BE-ME',\n",
       " 'Developed_ex_US_25_Portfolios_ME_BE-ME_daily',\n",
       " 'Europe_25_Portfolios_ME_BE-ME',\n",
       " 'Europe_25_Portfolios_ME_BE-ME_daily',\n",
       " 'Japan_25_Portfolios_ME_BE-ME',\n",
       " 'Japan_25_Portfolios_ME_BE-ME_daily',\n",
       " 'Asia_Pacific_ex_Japan_25_Portfolios_ME_BE-ME',\n",
       " 'Asia_Pacific_ex_Japan_25_Portfolios_ME_BE-ME_daily',\n",
       " 'North_America_25_Portfolios_ME_BE-ME',\n",
       " 'North_America_25_Portfolios_ME_BE-ME_daily',\n",
       " 'Developed_6_Portfolios_ME_OP',\n",
       " 'Developed_6_Portfolios_ME_OP_Daily',\n",
       " 'Developed_ex_US_6_Portfolios_ME_OP',\n",
       " 'Developed_ex_US_6_Portfolios_ME_OP_Daily',\n",
       " 'Europe_6_Portfolios_ME_OP',\n",
       " 'Europe_6_Portfolios_ME_OP_Daily',\n",
       " 'Japan_6_Portfolios_ME_OP',\n",
       " 'Japan_6_Portfolios_ME_OP_Daily',\n",
       " 'Asia_Pacific_ex_Japan_6_Portfolios_ME_OP',\n",
       " 'Asia_Pacific_ex_Japan_6_Portfolios_ME_OP_Daily',\n",
       " 'North_America_6_Portfolios_ME_OP',\n",
       " 'North_America_6_Portfolios_ME_OP_Daily',\n",
       " 'Developed_25_Portfolios_ME_OP',\n",
       " 'Developed_25_Portfolios_ME_OP_Daily',\n",
       " 'Developed_ex_US_25_Portfolios_ME_OP',\n",
       " 'Developed_ex_US_25_Portfolios_ME_OP_Daily',\n",
       " 'Europe_25_Portfolios_ME_OP',\n",
       " 'Europe_25_Portfolios_ME_OP_Daily',\n",
       " 'Japan_25_Portfolios_ME_OP',\n",
       " 'Japan_25_Portfolios_ME_OP_Daily',\n",
       " 'Asia_Pacific_ex_Japan_25_Portfolios_ME_OP',\n",
       " 'Asia_Pacific_ex_Japan_25_Portfolios_ME_OP_Daily',\n",
       " 'North_America_25_Portfolios_ME_OP',\n",
       " 'North_America_25_Portfolios_ME_OP_Daily',\n",
       " 'Developed_6_Portfolios_ME_INV',\n",
       " 'Developed_6_Portfolios_ME_INV_Daily',\n",
       " 'Developed_ex_US_6_Portfolios_ME_INV',\n",
       " 'Developed_ex_US_6_Portfolios_ME_INV_Daily',\n",
       " 'Europe_6_Portfolios_ME_INV',\n",
       " 'Europe_6_Portfolios_ME_INV_Daily',\n",
       " 'Japan_6_Portfolios_ME_INV',\n",
       " 'Japan_6_Portfolios_ME_INV_Daily',\n",
       " 'Asia_Pacific_ex_Japan_6_Portfolios_ME_INV',\n",
       " 'Asia_Pacific_ex_Japan_6_Portfolios_ME_INV_Daily',\n",
       " 'North_America_6_Portfolios_ME_INV',\n",
       " 'North_America_6_Portfolios_ME_INV_Daily',\n",
       " 'Developed_25_Portfolios_ME_INV',\n",
       " 'Developed_25_Portfolios_ME_INV_Daily',\n",
       " 'Developed_ex_US_25_Portfolios_ME_INV',\n",
       " 'Developed_ex_US_25_Portfolios_ME_INV_Daily',\n",
       " 'Europe_25_Portfolios_ME_INV',\n",
       " 'Europe_25_Portfolios_ME_INV_Daily',\n",
       " 'Japan_25_Portfolios_ME_INV',\n",
       " 'Japan_25_Portfolios_ME_INV_Daily',\n",
       " 'Asia_Pacific_ex_Japan_25_Portfolios_ME_INV',\n",
       " 'Asia_Pacific_ex_Japan_25_Portfolios_ME_INV_Daily',\n",
       " 'North_America_25_Portfolios_ME_INV',\n",
       " 'North_America_25_Portfolios_ME_INV_Daily',\n",
       " 'Developed_6_Portfolios_ME_Prior_12_2',\n",
       " 'Developed_6_Portfolios_ME_Prior_250_20_daily',\n",
       " 'Developed_ex_US_6_Portfolios_ME_Prior_12_2',\n",
       " 'Developed_ex_US_6_Portfolios_ME_Prior_250_20_daily',\n",
       " 'Europe_6_Portfolios_ME_Prior_12_2',\n",
       " 'Europe_6_Portfolios_ME_Prior_250_20_daily',\n",
       " 'Japan_6_Portfolios_ME_Prior_12_2',\n",
       " 'Japan_6_Portfolios_ME_Prior_250_20_daily',\n",
       " 'Asia_Pacific_ex_Japan_6_Portfolios_ME_Prior_12_2',\n",
       " 'Asia_Pacific_ex_Japan_6_Portfolios_ME_Prior_250_20_daily',\n",
       " 'North_America_6_Portfolios_ME_Prior_12_2',\n",
       " 'North_America_6_Portfolios_ME_Prior_250_20_daily',\n",
       " 'Developed_25_Portfolios_ME_Prior_12_2',\n",
       " 'Developed_25_Portfolios_ME_Prior_250_20_daily',\n",
       " 'Developed_ex_US_25_Portfolios_ME_Prior_12_2',\n",
       " 'Developed_ex_US_25_Portfolios_ME_Prior_250_20_daily',\n",
       " 'Europe_25_Portfolios_ME_Prior_12_2',\n",
       " 'Europe_25_Portfolios_ME_Prior_250_20_daily',\n",
       " 'Japan_25_Portfolios_ME_Prior_12_2',\n",
       " 'Japan_25_Portfolios_ME_Prior_250_20_daily',\n",
       " 'Asia_Pacific_ex_Japan_25_Portfolios_ME_Prior_12_2',\n",
       " 'Asia_Pacific_ex_Japan_25_Portfolios_ME_Prior_250_20_daily',\n",
       " 'North_America_25_Portfolios_ME_Prior_12_2',\n",
       " 'North_America_25_Portfolios_ME_Prior_250_20_daily',\n",
       " 'Developed_32_Portfolios_ME_BE-ME_OP_2x4x4',\n",
       " 'Developed_ex_US_32_Portfolios_ME_BE-ME_OP_2x4x4',\n",
       " 'Europe_32_Portfolios_ME_BE-ME_OP_2x4x4',\n",
       " 'Japan_32_Portfolios_ME_BE-ME_OP_2x4x4',\n",
       " 'Asia_Pacific_ex_Japan_32_Portfolios_ME_BE-ME_OP_2x4x4',\n",
       " 'North_America_32_Portfolios_ME_BE-ME_OP_2x4x4',\n",
       " 'Developed_32_Portfolios_ME_BE-ME_INV(TA)_2x4x4',\n",
       " 'Developed_ex_US_32_Portfolios_ME_BE-ME_INV(TA)_2x4x4',\n",
       " 'Europe_32_Portfolios_ME_BE-ME_INV(TA)_2x4x4',\n",
       " 'Japan_32_Portfolios_ME_BE-ME_INV(TA)_2x4x4',\n",
       " 'Asia_Pacific_ex_Japan_32_Portfolios_ME_BE-ME_INV(TA)_2x4x4',\n",
       " 'North_America_32_Portfolios_ME_BE-ME_INV(TA)_2x4x4',\n",
       " 'Developed_32_Portfolios_ME_INV(TA)_OP_2x4x4',\n",
       " 'Developed_ex_US_32_Portfolios_ME_INV(TA)_OP_2x4x4',\n",
       " 'Europe_32_Portfolios_ME_INV(TA)_OP_2x4x4',\n",
       " 'Japan_32_Portfolios_ME_INV(TA)_OP_2x4x4',\n",
       " 'Asia_Pacific_ex_Japan_32_Portfolios_ME_INV(TA)_OP_2x4x4',\n",
       " 'North_America_32_Portfolios_ME_INV(TA)_OP_2x4x4',\n",
       " 'Emerging_5_Factors',\n",
       " 'Emerging_MOM_Factor',\n",
       " 'Emerging_Markets_6_Portfolios_ME_BE-ME',\n",
       " 'Emerging_Markets_6_Portfolios_ME_OP',\n",
       " 'Emerging_Markets_6_Portfolios_ME_INV',\n",
       " 'Emerging_Markets_6_Portfolios_ME_Prior_12_2',\n",
       " 'Emerging_Markets_4_Portfolios_BE-ME_OP',\n",
       " 'Emerging_Markets_4_Portfolios_OP_INV',\n",
       " 'Emerging_Markets_4_Portfolios_BE-ME_INV']"
      ]
     },
     "execution_count": 61,
     "metadata": {},
     "output_type": "execute_result"
    }
   ],
   "source": [
    "from pandas_datareader.famafrench import get_available_datasets\n",
    "get_available_datasets()"
   ]
  },
  {
   "cell_type": "code",
   "execution_count": 62,
   "metadata": {
    "ExecuteTime": {
     "end_time": "2021-02-23T04:36:50.904251Z",
     "start_time": "2021-02-23T04:36:50.516593Z"
    }
   },
   "outputs": [
    {
     "name": "stdout",
     "output_type": "stream",
     "text": [
      "5 Industry Portfolios\n",
      "---------------------\n",
      "\n",
      "This file was created by CMPT_IND_RETS using the 202208 CRSP database. It contains value- and equal-weighted returns for 5 industry portfolios. The portfolios are constructed at the end of June. The annual returns are from January to December. Missing data are indicated by -99.99 or -999. Copyright 2022 Kenneth R. French\n",
      "\n",
      "  0 : Average Value Weighted Returns -- Monthly (59 rows x 5 cols)\n",
      "  1 : Average Equal Weighted Returns -- Monthly (59 rows x 5 cols)\n",
      "  2 : Average Value Weighted Returns -- Annual (5 rows x 5 cols)\n",
      "  3 : Average Equal Weighted Returns -- Annual (5 rows x 5 cols)\n",
      "  4 : Number of Firms in Portfolios (59 rows x 5 cols)\n",
      "  5 : Average Firm Size (59 rows x 5 cols)\n",
      "  6 : Sum of BE / Sum of ME (6 rows x 5 cols)\n",
      "  7 : Value-Weighted Average of BE/ME (6 rows x 5 cols)\n"
     ]
    }
   ],
   "source": [
    "ds = web.DataReader('5_Industry_Portfolios', 'famafrench')\n",
    "print(ds['DESCR'])"
   ]
  },
  {
   "cell_type": "markdown",
   "metadata": {},
   "source": [
    "### World Bank"
   ]
  },
  {
   "cell_type": "code",
   "execution_count": 63,
   "metadata": {
    "ExecuteTime": {
     "end_time": "2021-02-23T04:36:56.629830Z",
     "start_time": "2021-02-23T04:36:50.905260Z"
    }
   },
   "outputs": [
    {
     "data": {
      "text/html": [
       "<div>\n",
       "<style scoped>\n",
       "    .dataframe tbody tr th:only-of-type {\n",
       "        vertical-align: middle;\n",
       "    }\n",
       "\n",
       "    .dataframe tbody tr th {\n",
       "        vertical-align: top;\n",
       "    }\n",
       "\n",
       "    .dataframe thead th {\n",
       "        text-align: right;\n",
       "    }\n",
       "</style>\n",
       "<table border=\"1\" class=\"dataframe\">\n",
       "  <thead>\n",
       "    <tr style=\"text-align: right;\">\n",
       "      <th></th>\n",
       "      <th>id</th>\n",
       "      <th>name</th>\n",
       "      <th>unit</th>\n",
       "      <th>source</th>\n",
       "      <th>sourceNote</th>\n",
       "      <th>sourceOrganization</th>\n",
       "      <th>topics</th>\n",
       "    </tr>\n",
       "  </thead>\n",
       "  <tbody>\n",
       "    <tr>\n",
       "      <th>716</th>\n",
       "      <td>6.0.GDPpc_constant</td>\n",
       "      <td>GDP per capita, PPP (constant 2011 internation...</td>\n",
       "      <td></td>\n",
       "      <td>LAC Equity Lab</td>\n",
       "      <td>GDP per capita based on purchasing power parit...</td>\n",
       "      <td>b'World Development Indicators (World Bank)'</td>\n",
       "      <td>Economy &amp; Growth</td>\n",
       "    </tr>\n",
       "    <tr>\n",
       "      <th>10625</th>\n",
       "      <td>NY.GDP.PCAP.KD</td>\n",
       "      <td>GDP per capita (constant 2015 US$)</td>\n",
       "      <td></td>\n",
       "      <td>World Development Indicators</td>\n",
       "      <td>GDP per capita is gross domestic product divid...</td>\n",
       "      <td>b'World Bank national accounts data, and OECD ...</td>\n",
       "      <td>Economy &amp; Growth</td>\n",
       "    </tr>\n",
       "    <tr>\n",
       "      <th>10627</th>\n",
       "      <td>NY.GDP.PCAP.KN</td>\n",
       "      <td>GDP per capita (constant LCU)</td>\n",
       "      <td></td>\n",
       "      <td>World Development Indicators</td>\n",
       "      <td>GDP per capita is gross domestic product divid...</td>\n",
       "      <td>b'World Bank national accounts data, and OECD ...</td>\n",
       "      <td>Economy &amp; Growth</td>\n",
       "    </tr>\n",
       "    <tr>\n",
       "      <th>10629</th>\n",
       "      <td>NY.GDP.PCAP.PP.KD</td>\n",
       "      <td>GDP per capita, PPP (constant 2017 internation...</td>\n",
       "      <td></td>\n",
       "      <td>World Development Indicators</td>\n",
       "      <td>GDP per capita based on purchasing power parit...</td>\n",
       "      <td>b'International Comparison Program, World Bank...</td>\n",
       "      <td>Economy &amp; Growth</td>\n",
       "    </tr>\n",
       "    <tr>\n",
       "      <th>10630</th>\n",
       "      <td>NY.GDP.PCAP.PP.KD.87</td>\n",
       "      <td>GDP per capita, PPP (constant 1987 internation...</td>\n",
       "      <td></td>\n",
       "      <td>WDI Database Archives</td>\n",
       "      <td></td>\n",
       "      <td>b''</td>\n",
       "      <td></td>\n",
       "    </tr>\n",
       "  </tbody>\n",
       "</table>\n",
       "</div>"
      ],
      "text/plain": [
       "                         id  \\\n",
       "716      6.0.GDPpc_constant   \n",
       "10625        NY.GDP.PCAP.KD   \n",
       "10627        NY.GDP.PCAP.KN   \n",
       "10629     NY.GDP.PCAP.PP.KD   \n",
       "10630  NY.GDP.PCAP.PP.KD.87   \n",
       "\n",
       "                                                    name unit  \\\n",
       "716    GDP per capita, PPP (constant 2011 internation...        \n",
       "10625                 GDP per capita (constant 2015 US$)        \n",
       "10627                      GDP per capita (constant LCU)        \n",
       "10629  GDP per capita, PPP (constant 2017 internation...        \n",
       "10630  GDP per capita, PPP (constant 1987 internation...        \n",
       "\n",
       "                             source  \\\n",
       "716                  LAC Equity Lab   \n",
       "10625  World Development Indicators   \n",
       "10627  World Development Indicators   \n",
       "10629  World Development Indicators   \n",
       "10630         WDI Database Archives   \n",
       "\n",
       "                                              sourceNote  \\\n",
       "716    GDP per capita based on purchasing power parit...   \n",
       "10625  GDP per capita is gross domestic product divid...   \n",
       "10627  GDP per capita is gross domestic product divid...   \n",
       "10629  GDP per capita based on purchasing power parit...   \n",
       "10630                                                      \n",
       "\n",
       "                                      sourceOrganization            topics  \n",
       "716         b'World Development Indicators (World Bank)'  Economy & Growth  \n",
       "10625  b'World Bank national accounts data, and OECD ...  Economy & Growth  \n",
       "10627  b'World Bank national accounts data, and OECD ...  Economy & Growth  \n",
       "10629  b'International Comparison Program, World Bank...  Economy & Growth  \n",
       "10630                                                b''                    "
      ]
     },
     "execution_count": 63,
     "metadata": {},
     "output_type": "execute_result"
    }
   ],
   "source": [
    "from pandas_datareader import wb\n",
    "gdp_variables = wb.search('gdp.*capita.*const')\n",
    "gdp_variables.head()"
   ]
  },
  {
   "cell_type": "code",
   "execution_count": 64,
   "metadata": {
    "ExecuteTime": {
     "end_time": "2021-02-23T04:36:57.146688Z",
     "start_time": "2021-02-23T04:36:56.631607Z"
    }
   },
   "outputs": [
    {
     "data": {
      "text/html": [
       "<div>\n",
       "<style scoped>\n",
       "    .dataframe tbody tr th:only-of-type {\n",
       "        vertical-align: middle;\n",
       "    }\n",
       "\n",
       "    .dataframe tbody tr th {\n",
       "        vertical-align: top;\n",
       "    }\n",
       "\n",
       "    .dataframe thead th {\n",
       "        text-align: right;\n",
       "    }\n",
       "</style>\n",
       "<table border=\"1\" class=\"dataframe\">\n",
       "  <thead>\n",
       "    <tr style=\"text-align: right;\">\n",
       "      <th></th>\n",
       "      <th></th>\n",
       "      <th>NY.GDP.PCAP.KD</th>\n",
       "    </tr>\n",
       "    <tr>\n",
       "      <th>country</th>\n",
       "      <th>year</th>\n",
       "      <th></th>\n",
       "    </tr>\n",
       "  </thead>\n",
       "  <tbody>\n",
       "    <tr>\n",
       "      <th rowspan=\"5\" valign=\"top\">Canada</th>\n",
       "      <th>2019</th>\n",
       "      <td>45109.244486</td>\n",
       "    </tr>\n",
       "    <tr>\n",
       "      <th>2018</th>\n",
       "      <td>44917.483728</td>\n",
       "    </tr>\n",
       "    <tr>\n",
       "      <th>2017</th>\n",
       "      <td>44325.488337</td>\n",
       "    </tr>\n",
       "    <tr>\n",
       "      <th>2016</th>\n",
       "      <td>43536.913403</td>\n",
       "    </tr>\n",
       "    <tr>\n",
       "      <th>2015</th>\n",
       "      <td>43596.135537</td>\n",
       "    </tr>\n",
       "  </tbody>\n",
       "</table>\n",
       "</div>"
      ],
      "text/plain": [
       "              NY.GDP.PCAP.KD\n",
       "country year                \n",
       "Canada  2019    45109.244486\n",
       "        2018    44917.483728\n",
       "        2017    44325.488337\n",
       "        2016    43536.913403\n",
       "        2015    43596.135537"
      ]
     },
     "execution_count": 64,
     "metadata": {},
     "output_type": "execute_result"
    }
   ],
   "source": [
    "wb_data = wb.download(indicator='NY.GDP.PCAP.KD', \n",
    "                      country=['US', 'CA', 'MX'], \n",
    "                      start=1990, \n",
    "                      end=2019)\n",
    "wb_data.head()"
   ]
  },
  {
   "cell_type": "markdown",
   "metadata": {},
   "source": [
    "### OECD"
   ]
  },
  {
   "cell_type": "code",
   "execution_count": 65,
   "metadata": {
    "ExecuteTime": {
     "end_time": "2021-02-23T04:37:02.128793Z",
     "start_time": "2021-02-23T04:36:57.147865Z"
    }
   },
   "outputs": [
    {
     "data": {
      "text/html": [
       "<div>\n",
       "<style scoped>\n",
       "    .dataframe tbody tr th:only-of-type {\n",
       "        vertical-align: middle;\n",
       "    }\n",
       "\n",
       "    .dataframe tbody tr th {\n",
       "        vertical-align: top;\n",
       "    }\n",
       "\n",
       "    .dataframe thead tr th {\n",
       "        text-align: left;\n",
       "    }\n",
       "\n",
       "    .dataframe thead tr:last-of-type th {\n",
       "        text-align: right;\n",
       "    }\n",
       "</style>\n",
       "<table border=\"1\" class=\"dataframe\">\n",
       "  <thead>\n",
       "    <tr>\n",
       "      <th>Country</th>\n",
       "      <th>Japan</th>\n",
       "      <th>United States</th>\n",
       "    </tr>\n",
       "    <tr>\n",
       "      <th>Frequency</th>\n",
       "      <th>Annual</th>\n",
       "      <th>Annual</th>\n",
       "    </tr>\n",
       "    <tr>\n",
       "      <th>Measure</th>\n",
       "      <th>Percentage of employees</th>\n",
       "      <th>Percentage of employees</th>\n",
       "    </tr>\n",
       "    <tr>\n",
       "      <th>Time</th>\n",
       "      <th></th>\n",
       "      <th></th>\n",
       "    </tr>\n",
       "  </thead>\n",
       "  <tbody>\n",
       "    <tr>\n",
       "      <th>2010-01-01</th>\n",
       "      <td>18.400000</td>\n",
       "      <td>11.4</td>\n",
       "    </tr>\n",
       "    <tr>\n",
       "      <th>2011-01-01</th>\n",
       "      <td>19.000000</td>\n",
       "      <td>11.3</td>\n",
       "    </tr>\n",
       "    <tr>\n",
       "      <th>2012-01-01</th>\n",
       "      <td>18.000000</td>\n",
       "      <td>10.8</td>\n",
       "    </tr>\n",
       "    <tr>\n",
       "      <th>2013-01-01</th>\n",
       "      <td>17.799999</td>\n",
       "      <td>10.8</td>\n",
       "    </tr>\n",
       "    <tr>\n",
       "      <th>2014-01-01</th>\n",
       "      <td>17.600000</td>\n",
       "      <td>10.7</td>\n",
       "    </tr>\n",
       "    <tr>\n",
       "      <th>2015-01-01</th>\n",
       "      <td>17.400000</td>\n",
       "      <td>10.3</td>\n",
       "    </tr>\n",
       "    <tr>\n",
       "      <th>2016-01-01</th>\n",
       "      <td>17.000000</td>\n",
       "      <td>10.1</td>\n",
       "    </tr>\n",
       "    <tr>\n",
       "      <th>2017-01-01</th>\n",
       "      <td>17.500000</td>\n",
       "      <td>10.6</td>\n",
       "    </tr>\n",
       "    <tr>\n",
       "      <th>2018-01-01</th>\n",
       "      <td>17.200001</td>\n",
       "      <td>10.3</td>\n",
       "    </tr>\n",
       "    <tr>\n",
       "      <th>2019-01-01</th>\n",
       "      <td>16.799999</td>\n",
       "      <td>9.9</td>\n",
       "    </tr>\n",
       "  </tbody>\n",
       "</table>\n",
       "</div>"
      ],
      "text/plain": [
       "Country                      Japan           United States\n",
       "Frequency                   Annual                  Annual\n",
       "Measure    Percentage of employees Percentage of employees\n",
       "Time                                                      \n",
       "2010-01-01               18.400000                    11.4\n",
       "2011-01-01               19.000000                    11.3\n",
       "2012-01-01               18.000000                    10.8\n",
       "2013-01-01               17.799999                    10.8\n",
       "2014-01-01               17.600000                    10.7\n",
       "2015-01-01               17.400000                    10.3\n",
       "2016-01-01               17.000000                    10.1\n",
       "2017-01-01               17.500000                    10.6\n",
       "2018-01-01               17.200001                    10.3\n",
       "2019-01-01               16.799999                     9.9"
      ]
     },
     "execution_count": 65,
     "metadata": {},
     "output_type": "execute_result"
    }
   ],
   "source": [
    "df = web.DataReader('TUD', 'oecd', start='2010', end='2019')\n",
    "df[['Japan', 'United States']]"
   ]
  },
  {
   "cell_type": "markdown",
   "metadata": {},
   "source": [
    "\n",
    "\n",
    "### Stooq"
   ]
  },
  {
   "cell_type": "markdown",
   "metadata": {},
   "source": [
    "Google finance stopped providing common index data download. The Stooq site had this data for download for a while but is currently broken, awaiting release of [fix](https://github.com/pydata/pandas-datareader/issues/594)"
   ]
  },
  {
   "cell_type": "code",
   "execution_count": 66,
   "metadata": {
    "ExecuteTime": {
     "end_time": "2021-02-23T04:37:03.460307Z",
     "start_time": "2021-02-23T04:37:02.130619Z"
    }
   },
   "outputs": [
    {
     "data": {
      "text/plain": [
       "49"
      ]
     },
     "execution_count": 66,
     "metadata": {},
     "output_type": "execute_result"
    }
   ],
   "source": [
    "index_url = 'https://stooq.com/t/'\n",
    "ix = pd.read_html(index_url)\n",
    "len(ix)"
   ]
  },
  {
   "cell_type": "code",
   "execution_count": 67,
   "metadata": {
    "ExecuteTime": {
     "end_time": "2021-02-23T04:37:04.441008Z",
     "start_time": "2021-02-23T04:37:03.461330Z"
    }
   },
   "outputs": [
    {
     "name": "stdout",
     "output_type": "stream",
     "text": [
      "<class 'pandas.core.frame.DataFrame'>\n",
      "DatetimeIndex: 1257 entries, 2022-09-30 to 2017-10-04\n",
      "Data columns (total 5 columns):\n",
      " #   Column  Non-Null Count  Dtype  \n",
      "---  ------  --------------  -----  \n",
      " 0   Open    1257 non-null   float64\n",
      " 1   High    1257 non-null   float64\n",
      " 2   Low     1257 non-null   float64\n",
      " 3   Close   1257 non-null   float64\n",
      " 4   Volume  1257 non-null   float64\n",
      "dtypes: float64(5)\n",
      "memory usage: 58.9 KB\n"
     ]
    }
   ],
   "source": [
    "sp500_stooq = web.DataReader('^SPX', 'stooq')\n",
    "sp500_stooq.info()"
   ]
  },
  {
   "cell_type": "code",
   "execution_count": 68,
   "metadata": {
    "ExecuteTime": {
     "end_time": "2021-02-23T04:37:04.448907Z",
     "start_time": "2021-02-23T04:37:04.441995Z"
    }
   },
   "outputs": [
    {
     "data": {
      "text/html": [
       "<div>\n",
       "<style scoped>\n",
       "    .dataframe tbody tr th:only-of-type {\n",
       "        vertical-align: middle;\n",
       "    }\n",
       "\n",
       "    .dataframe tbody tr th {\n",
       "        vertical-align: top;\n",
       "    }\n",
       "\n",
       "    .dataframe thead th {\n",
       "        text-align: right;\n",
       "    }\n",
       "</style>\n",
       "<table border=\"1\" class=\"dataframe\">\n",
       "  <thead>\n",
       "    <tr style=\"text-align: right;\">\n",
       "      <th></th>\n",
       "      <th>Open</th>\n",
       "      <th>High</th>\n",
       "      <th>Low</th>\n",
       "      <th>Close</th>\n",
       "      <th>Volume</th>\n",
       "    </tr>\n",
       "    <tr>\n",
       "      <th>Date</th>\n",
       "      <th></th>\n",
       "      <th></th>\n",
       "      <th></th>\n",
       "      <th></th>\n",
       "      <th></th>\n",
       "    </tr>\n",
       "  </thead>\n",
       "  <tbody>\n",
       "    <tr>\n",
       "      <th>2022-09-30</th>\n",
       "      <td>3633.48</td>\n",
       "      <td>3671.44</td>\n",
       "      <td>3584.13</td>\n",
       "      <td>3585.62</td>\n",
       "      <td>3.139151e+09</td>\n",
       "    </tr>\n",
       "    <tr>\n",
       "      <th>2022-09-29</th>\n",
       "      <td>3687.01</td>\n",
       "      <td>3687.01</td>\n",
       "      <td>3610.40</td>\n",
       "      <td>3640.47</td>\n",
       "      <td>2.604840e+09</td>\n",
       "    </tr>\n",
       "    <tr>\n",
       "      <th>2022-09-28</th>\n",
       "      <td>3651.94</td>\n",
       "      <td>3736.74</td>\n",
       "      <td>3640.61</td>\n",
       "      <td>3719.04</td>\n",
       "      <td>2.634240e+09</td>\n",
       "    </tr>\n",
       "    <tr>\n",
       "      <th>2022-09-27</th>\n",
       "      <td>3686.44</td>\n",
       "      <td>3717.53</td>\n",
       "      <td>3623.29</td>\n",
       "      <td>3647.29</td>\n",
       "      <td>2.543929e+09</td>\n",
       "    </tr>\n",
       "    <tr>\n",
       "      <th>2022-09-26</th>\n",
       "      <td>3682.72</td>\n",
       "      <td>3715.67</td>\n",
       "      <td>3644.76</td>\n",
       "      <td>3655.04</td>\n",
       "      <td>2.631141e+09</td>\n",
       "    </tr>\n",
       "  </tbody>\n",
       "</table>\n",
       "</div>"
      ],
      "text/plain": [
       "               Open     High      Low    Close        Volume\n",
       "Date                                                        \n",
       "2022-09-30  3633.48  3671.44  3584.13  3585.62  3.139151e+09\n",
       "2022-09-29  3687.01  3687.01  3610.40  3640.47  2.604840e+09\n",
       "2022-09-28  3651.94  3736.74  3640.61  3719.04  2.634240e+09\n",
       "2022-09-27  3686.44  3717.53  3623.29  3647.29  2.543929e+09\n",
       "2022-09-26  3682.72  3715.67  3644.76  3655.04  2.631141e+09"
      ]
     },
     "execution_count": 68,
     "metadata": {},
     "output_type": "execute_result"
    }
   ],
   "source": [
    "sp500_stooq.head()"
   ]
  },
  {
   "cell_type": "code",
   "execution_count": 69,
   "metadata": {},
   "outputs": [
    {
     "data": {
      "image/png": "[encoded data removed]",
      "text/plain": [
       "<Figure size 1400x400 with 1 Axes>"
      ]
     },
     "metadata": {},
     "output_type": "display_data"
    }
   ],
   "source": [
    "sp500_stooq.Close.plot(figsize=(14,4))\n",
    "sns.despine()\n",
    "plt.tight_layout()"
   ]
  },
  {
   "cell_type": "markdown",
   "metadata": {},
   "source": [
    "### NASDAQ Symbols"
   ]
  },
  {
   "cell_type": "code",
   "execution_count": 70,
   "metadata": {
    "ExecuteTime": {
     "end_time": "2021-02-23T04:37:05.927531Z",
     "start_time": "2021-02-23T04:37:04.631969Z"
    }
   },
   "outputs": [
    {
     "name": "stdout",
     "output_type": "stream",
     "text": [
      "<class 'pandas.core.frame.DataFrame'>\n",
      "Index: 12215 entries, A to ZYXI\n",
      "Data columns (total 11 columns):\n",
      " #   Column            Non-Null Count  Dtype   \n",
      "---  ------            --------------  -----   \n",
      " 0   Nasdaq Traded     12215 non-null  bool    \n",
      " 1   Security Name     12215 non-null  object  \n",
      " 2   Listing Exchange  12215 non-null  category\n",
      " 3   Market Category   12215 non-null  object  \n",
      " 4   ETF               12215 non-null  bool    \n",
      " 5   Round Lot Size    12215 non-null  float64 \n",
      " 6   Test Issue        12215 non-null  bool    \n",
      " 7   Financial Status  5729 non-null   category\n",
      " 8   CQS Symbol        6486 non-null   object  \n",
      " 9   NASDAQ Symbol     12214 non-null  object  \n",
      " 10  NextShares        12215 non-null  bool    \n",
      "dtypes: bool(4), category(2), float64(1), object(4)\n",
      "memory usage: 644.5+ KB\n"
     ]
    }
   ],
   "source": [
    "from pandas_datareader.nasdaq_trader import get_nasdaq_symbols\n",
    "symbols = get_nasdaq_symbols()\n",
    "symbols.info()"
   ]
  },
  {
   "cell_type": "markdown",
   "metadata": {},
   "source": [
    "### Tiingo"
   ]
  },
  {
   "cell_type": "markdown",
   "metadata": {},
   "source": [
    "Requires [signing up](https://api.tiingo.com/) and storing API key in environment"
   ]
  },
  {
   "cell_type": "code",
   "execution_count": 71,
   "metadata": {},
   "outputs": [
    {
     "name": "stdout",
     "output_type": "stream",
     "text": [
      "Value of 'TIINGO_API_KEY' environment variable : 85afc0505c953dd16d1f664295ba1edb7949f70b\n"
     ]
    }
   ],
   "source": [
    "import os   \n",
    "\n",
    "os.environ[\"TIINGO_API_KEY\"] = \"85afc0505c953dd16d1f664295ba1edb7949f70b\"\n",
    "\n",
    "QUANDL_API_KEY=os.getenv('TIINGO_API_KEY')\n",
    "\n",
    "key = 'TIINGO_API_KEY'\n",
    "\n",
    "value = os.getenv(key)\n",
    "\n",
    "print(\"Value of 'TIINGO_API_KEY' environment variable :\", value)"
   ]
  },
  {
   "cell_type": "code",
   "execution_count": 72,
   "metadata": {
    "ExecuteTime": {
     "end_time": "2021-02-23T04:37:06.345107Z",
     "start_time": "2021-02-23T04:37:05.928725Z"
    }
   },
   "outputs": [],
   "source": [
    "df = web.get_data_tiingo('GOOG', api_key=os.getenv('TIINGO_API_KEY'))"
   ]
  },
  {
   "cell_type": "code",
   "execution_count": 73,
   "metadata": {
    "ExecuteTime": {
     "end_time": "2021-02-23T04:37:06.354168Z",
     "start_time": "2021-02-23T04:37:06.346088Z"
    }
   },
   "outputs": [
    {
     "name": "stdout",
     "output_type": "stream",
     "text": [
      "<class 'pandas.core.frame.DataFrame'>\n",
      "MultiIndex: 1257 entries, ('GOOG', Timestamp('2017-10-04 00:00:00+0000', tz='UTC')) to ('GOOG', Timestamp('2022-09-30 00:00:00+0000', tz='UTC'))\n",
      "Data columns (total 12 columns):\n",
      " #   Column       Non-Null Count  Dtype  \n",
      "---  ------       --------------  -----  \n",
      " 0   close        1257 non-null   float64\n",
      " 1   high         1257 non-null   float64\n",
      " 2   low          1257 non-null   float64\n",
      " 3   open         1257 non-null   float64\n",
      " 4   volume       1257 non-null   int64  \n",
      " 5   adjClose     1257 non-null   float64\n",
      " 6   adjHigh      1257 non-null   float64\n",
      " 7   adjLow       1257 non-null   float64\n",
      " 8   adjOpen      1257 non-null   float64\n",
      " 9   adjVolume    1257 non-null   int64  \n",
      " 10  divCash      1257 non-null   float64\n",
      " 11  splitFactor  1257 non-null   float64\n",
      "dtypes: float64(10), int64(2)\n",
      "memory usage: 171.5+ KB\n"
     ]
    }
   ],
   "source": [
    "df.info()"
   ]
  },
  {
   "cell_type": "code",
   "execution_count": null,
   "metadata": {},
   "outputs": [],
   "source": []
  }
 ],
 "metadata": {
  "kernelspec": {
   "display_name": "Python 3",
   "language": "python",
   "name": "python3"
  },
  "language_info": {
   "codemirror_mode": {
    "name": "ipython",
    "version": 3
   },
   "file_extension": ".py",
   "mimetype": "text/x-python",
   "name": "python",
   "nbconvert_exporter": "python",
   "pygments_lexer": "ipython3",
   "version": "3.6.8"
  },
  "toc": {
   "base_numbering": 1,
   "nav_menu": {},
   "number_sections": true,
   "sideBar": true,
   "skip_h1_title": true,
   "title_cell": "Table of Contents",
   "title_sidebar": "Contents",
   "toc_cell": false,
   "toc_position": {},
   "toc_section_display": true,
   "toc_window_display": true
  }
 },
 "nbformat": 4,
 "nbformat_minor": 4
}
