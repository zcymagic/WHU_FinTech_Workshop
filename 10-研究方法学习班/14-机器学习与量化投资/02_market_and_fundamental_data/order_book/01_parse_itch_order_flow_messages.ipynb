{
 "cells": [
  {
   "cell_type": "markdown",
   "metadata": {
    "pycharm": {
     "name": "#%% md\n"
    }
   },
   "source": [
    "# Working with Order Book Data: NASDAQ ITCH"
   ]
  },
  {
   "cell_type": "markdown",
   "metadata": {
    "pycharm": {
     "name": "#%% md\n"
    }
   },
   "source": [
    "The primary source of market data is the order book, which is continuously updated in real-time throughout the day to reflect all trading activity. Exchanges typically offer this data as a real-time service and may provide some historical data for free.\n",
    "\n",
    "The trading activity is reflected in numerous messages about trade orders sent by market participants. These messages typically conform to the electronic Financial Information eXchange (FIX) communications protocol for real-time exchange of securities transactions and market data or a native exchange protocol. "
   ]
  },
  {
   "cell_type": "markdown",
   "metadata": {
    "pycharm": {
     "name": "#%% md\n"
    }
   },
   "source": [
    "## Background"
   ]
  },
  {
   "cell_type": "markdown",
   "metadata": {
    "pycharm": {
     "name": "#%% md\n"
    }
   },
   "source": [
    "### The FIX Protocol"
   ]
  },
  {
   "cell_type": "markdown",
   "metadata": {
    "pycharm": {
     "name": "#%% md\n"
    }
   },
   "source": [
    "Just like SWIFT is the message protocol for back-office (example, for trade-settlement) messaging, the [FIX protocol](https://www.fixtrading.org/standards/) is the de facto messaging standard for communication before and during, trade execution between exchanges, banks, brokers, clearing firms, and other market participants. Fidelity Investments and Salomon Brothers introduced FIX in 1992 to facilitate electronic communication between broker-dealers and institutional clients who by then exchanged information over the phone.\n",
    "\n",
    "It became popular in global equity markets before expanding into foreign exchange, fixed income and derivatives markets, and further into post-trade to support straight-through processing. Exchanges provide access to FIX messages as a real-time data feed that is parsed by algorithmic traders to track market activity and, for example, identify the footprint of market participants and anticipate their next move. "
   ]
  },
  {
   "cell_type": "markdown",
   "metadata": {
    "pycharm": {
     "name": "#%% md\n"
    }
   },
   "source": [
    "### Nasdaq TotalView-ITCH Order Book data"
   ]
  },
  {
   "cell_type": "markdown",
   "metadata": {
    "pycharm": {
     "name": "#%% md\n"
    }
   },
   "source": [
    "While FIX has a dominant large market share, exchanges also offer native protocols. The Nasdaq offers a [TotalView ITCH direct data-feed protocol](http://www.nasdaqtrader.com/content/technicalsupport/specifications/dataproducts/NQTVITCHspecification.pdf) that allows subscribers to track \n",
    "individual orders for equity instruments from placement to execution or cancellation.\n",
    "\n",
    "As a result, it allows for the reconstruction of the order book that keeps track of the list of active-limit buy and sell orders for a specific security or financial instrument. The order book reveals the market depth throughout the day by listing the number of shares being bid or offered at each price point. It may also identify the market participant responsible for specific buy and sell orders unless it is placed anonymously. Market depth is a key indicator of liquidity and the potential price impact of sizable market orders. "
   ]
  },
  {
   "cell_type": "markdown",
   "metadata": {
    "pycharm": {
     "name": "#%% md\n"
    }
   },
   "source": [
    "The ITCH v5.0 specification declares over 20 message types related to system events, stock characteristics, the placement and modification of limit orders, and trade execution. It also contains information about the net order imbalance before the open and closing cross."
   ]
  },
  {
   "cell_type": "markdown",
   "metadata": {
    "pycharm": {
     "name": "#%% md\n"
    }
   },
   "source": [
    "## Imports"
   ]
  },
  {
   "cell_type": "code",
   "execution_count": 1,
   "metadata": {
    "ExecuteTime": {
     "end_time": "2021-09-10T17:28:27.979195Z",
     "start_time": "2021-09-10T17:28:27.977188Z"
    },
    "pycharm": {
     "name": "#%%\n"
    }
   },
   "outputs": [],
   "source": [
    "# 取消warning的提示\n",
    "import warnings\n",
    "warnings.filterwarnings('ignore')"
   ]
  },
  {
   "cell_type": "code",
   "execution_count": 2,
   "metadata": {
    "ExecuteTime": {
     "end_time": "2021-09-10T17:28:28.756859Z",
     "start_time": "2021-09-10T17:28:28.144634Z"
    },
    "pycharm": {
     "name": "#%%\n"
    }
   },
   "outputs": [],
   "source": [
    "%matplotlib inline\n",
    "import gzip\n",
    "import shutil\n",
    "from struct import unpack # 将字符串解包为变量，可以解析定长数据\n",
    "from collections import namedtuple, Counter, defaultdict\n",
    "from pathlib import Path\n",
    "from urllib.request import urlretrieve\n",
    "from urllib.parse import urljoin\n",
    "from datetime import timedelta\n",
    "from time import time\n",
    "\n",
    "import pandas as pd\n",
    "\n",
    "import matplotlib.pyplot as plt\n",
    "from matplotlib.ticker import FuncFormatter\n",
    "import seaborn as sns"
   ]
  },
  {
   "cell_type": "code",
   "execution_count": 10,
   "metadata": {
    "ExecuteTime": {
     "end_time": "2021-09-10T17:28:28.760874Z",
     "start_time": "2021-09-10T17:28:28.758382Z"
    },
    "pycharm": {
     "name": "#%%\n"
    }
   },
   "outputs": [],
   "source": [
    "sns.set_style('whitegrid')"
   ]
  },
  {
   "cell_type": "code",
   "execution_count": 11,
   "metadata": {
    "ExecuteTime": {
     "end_time": "2021-09-10T17:28:28.774975Z",
     "start_time": "2021-09-10T17:28:28.762281Z"
    },
    "jupyter": {
     "outputs_hidden": false
    },
    "pycharm": {
     "name": "#%%\n"
    }
   },
   "outputs": [],
   "source": [
    "def format_time(t):\n",
    "    \"\"\"Return a formatted time string 'HH:MM:SS\n",
    "    based on a numeric time() value\"\"\"\n",
    "    m, s = divmod(t, 60) # 返回tuple(a, b)，a是商，b是余数，由此实现格式转换\n",
    "    h, m = divmod(m, 60)\n",
    "    return f'{h:0>2.0f}:{m:0>2.0f}:{s:0>5.2f}' # 0>表示0填充左边，宽度为2"
   ]
  },
  {
   "cell_type": "markdown",
   "metadata": {
    "pycharm": {
     "name": "#%% md\n"
    }
   },
   "source": [
    "## Get NASDAQ ITCH Data from FTP Server"
   ]
  },
  {
   "cell_type": "markdown",
   "metadata": {
    "pycharm": {
     "name": "#%% md\n"
    }
   },
   "source": [
    "The Nasdaq offers [samples](https://emi.nasdaq.com/ITCH/Nasdaq%20ITCH/) of daily binary files for several months. \n",
    "\n",
    "We are now going to illustrates how to parse a sample file of ITCH messages and reconstruct both the executed trades and the order book for any given tick."
   ]
  },
  {
   "cell_type": "markdown",
   "metadata": {
    "pycharm": {
     "name": "#%% md\n"
    }
   },
   "source": [
    "The data is fairly large and running the entire example can take a lot of time and require substantial memory (16GB+). Also, the sample file used in this example may no longer be available because NASDAQ occasionaly updates the sample files."
   ]
  },
  {
   "cell_type": "markdown",
   "metadata": {
    "pycharm": {
     "name": "#%% md\n"
    }
   },
   "source": [
    "The following table shows the frequency of the most common message types for the sample file date March 29, 2018:"
   ]
  },
  {
   "cell_type": "markdown",
   "metadata": {
    "pycharm": {
     "name": "#%% md\n"
    }
   },
   "source": [
    "| Name                    | Offset  | Length  | Value      | Notes                                                                                |\n",
    "|-------------------------|---------|---------|------------|--------------------------------------------------------------------------------------|\n",
    "| Message Type            | 0       | 1       | S          | System Event Message                                                                 |\n",
    "| Stock Locate            | 1       | 2       | Integer    | Always 0                                                                             |\n",
    "| Tracking Number         | 3       | 2       | Integer    | Nasdaq internal tracking number                                                      |\n",
    "| Timestamp               | 5       | 6       | Integer    | Nanoseconds since midnight                                                           |\n",
    "| Order Reference Number  | 11      | 8       | Integer    | The unique reference number assigned to the new order at the time of receipt.        |\n",
    "| Buy/Sell Indicator      | 19      | 1       | Alpha      | The type of order being added. B = Buy Order. S = Sell Order.                        |\n",
    "| Shares                  | 20      | 4       | Integer    | The total number of shares associated with the order being added to the book.        |\n",
    "| Stock                   | 24      | 8       | Alpha      | Stock symbol, right padded with spaces                                               |\n",
    "| Price                   | 32      | 4       | Price (4)  | The display price of the new order. Refer to Data Types for field processing notes.  |\n",
    "| Attribution             | 36      | 4       | Alpha      | Nasdaq Market participant identifier associated with the entered order               |"
   ]
  },
  {
   "cell_type": "markdown",
   "metadata": {
    "pycharm": {
     "name": "#%% md\n"
    }
   },
   "source": [
    "### Set Data paths"
   ]
  },
  {
   "cell_type": "markdown",
   "metadata": {
    "pycharm": {
     "name": "#%% md\n"
    }
   },
   "source": [
    "We will store the download in a `data` subdirectory and convert the result to `hdf` format (discussed in the last section of chapter 2)."
   ]
  },
  {
   "cell_type": "code",
   "execution_count": 3,
   "metadata": {
    "ExecuteTime": {
     "end_time": "2021-09-10T17:28:31.314556Z",
     "start_time": "2021-09-10T17:28:31.312366Z"
    },
    "pycharm": {
     "name": "#%%\n"
    }
   },
   "outputs": [],
   "source": [
    "data_path = Path('data') # set to e.g. external harddrive\n",
    "itch_store = str(data_path / 'itch.h5')\n",
    "order_book_store = data_path / 'order_book.h5'"
   ]
  },
  {
   "cell_type": "markdown",
   "metadata": {
    "pycharm": {
     "name": "#%% md\n"
    }
   },
   "source": [
    "You can find several sample files on the [NASDAQ server](https://emi.nasdaq.com/ITCH/Nasdaq%20ITCH/).\n",
    "\n",
    "The HTTPS address, filename and corresponding date used in this example:"
   ]
  },
  {
   "cell_type": "code",
   "execution_count": 13,
   "metadata": {
    "ExecuteTime": {
     "end_time": "2022-04-29T13:17:01.828753Z",
     "start_time": "2022-04-29T13:17:01.822306Z"
    },
    "pycharm": {
     "name": "#%%\n"
    }
   },
   "outputs": [],
   "source": [
    "HTTPS_URL = 'https://emi.nasdaq.com/ITCH/Nasdaq%20ITCH/'\n",
    "SOURCE_FILE = '07302019.NASDAQ_ITCH50.gz'"
   ]
  },
  {
   "cell_type": "markdown",
   "metadata": {
    "pycharm": {
     "name": "#%% md\n"
    }
   },
   "source": [
    "#### URL updates\n",
    "\n",
    "NASDAQ updates the files occasionally so that the SOURCE_FILE changes. If the above gives an error, navigate to the HTTPS_URL using your browser, and check for new files. As of September 2021, the listed files include:\n",
    "\n",
    "- 01302020.NASDAQ_ITCH50.gz\n",
    "- 12302019.NASDAQ_ITCH50.gz\n",
    "- 10302019.NASDAQ_ITCH50.gz\n",
    "- 08302019.NASDAQ_ITCH50.gz\n",
    "- 07302019.NASDAQ_ITCH50.gz\n",
    "- 03272019.NASDAQ_ITCH50.gz\n",
    "- 01302019.NASDAQ_ITCH50.gz\n",
    "- 12282018.NASDAQ_ITCH50.gz\n"
   ]
  },
  {
   "cell_type": "markdown",
   "metadata": {
    "pycharm": {
     "name": "#%% md\n"
    }
   },
   "source": [
    "### Download & unzip"
   ]
  },
  {
   "cell_type": "code",
   "execution_count": 14,
   "metadata": {
    "ExecuteTime": {
     "end_time": "2021-09-10T17:28:36.375441Z",
     "start_time": "2021-09-10T17:28:36.368838Z"
    },
    "pycharm": {
     "name": "#%%\n"
    }
   },
   "outputs": [],
   "source": [
    "def may_be_download(url):\n",
    "    \"\"\"Download & unzip ITCH data if not yet available\"\"\"\n",
    "    if not data_path.exists():\n",
    "        print('Creating directory')\n",
    "        data_path.mkdir()\n",
    "    else: \n",
    "        print('Directory exists')\n",
    "\n",
    "    filename = data_path / url.split('/')[-1]        \n",
    "    if not filename.exists():\n",
    "        print('Downloading...', url)\n",
    "        urlretrieve(url, filename)\n",
    "    else: \n",
    "        print('File exists')        \n",
    "\n",
    "    unzipped = data_path / (filename.stem + '.bin') # filename.stem返回不带扩展名的文件\n",
    "    if not unzipped.exists():\n",
    "        print('Unzipping to', unzipped)\n",
    "        with gzip.open(str(filename), 'rb') as f_in:\n",
    "            with open(unzipped, 'wb') as f_out:\n",
    "                shutil.copyfileobj(f_in, f_out)\n",
    "    else: \n",
    "        print('File already unpacked')\n",
    "    return unzipped"
   ]
  },
  {
   "cell_type": "markdown",
   "metadata": {
    "pycharm": {
     "name": "#%% md\n"
    }
   },
   "source": [
    "This will download 5.1GB data that unzips to 12.9GB (this may vary depending on the file, see 'url updates' below)."
   ]
  },
  {
   "cell_type": "code",
   "execution_count": 61,
   "metadata": {
    "ExecuteTime": {
     "end_time": "2021-09-10T18:09:29.821076Z",
     "start_time": "2021-09-10T17:28:37.154538Z"
    },
    "pycharm": {
     "name": "#%%\n"
    }
   },
   "outputs": [
    {
     "name": "stdout",
     "output_type": "stream",
     "text": [
      "Directory exists\n",
      "File exists\n",
      "File already unpacked\n"
     ]
    }
   ],
   "source": [
    "file_name = may_be_download(urljoin(HTTPS_URL, SOURCE_FILE))\n",
    "date = file_name.name.split('.')[0]"
   ]
  },
  {
   "cell_type": "markdown",
   "metadata": {
    "pycharm": {
     "name": "#%% md\n"
    }
   },
   "source": [
    "## ITCH Format Settings"
   ]
  },
  {
   "cell_type": "markdown",
   "metadata": {
    "pycharm": {
     "name": "#%% md\n"
    }
   },
   "source": [
    "### The `struct` module for binary data"
   ]
  },
  {
   "cell_type": "markdown",
   "metadata": {
    "pycharm": {
     "name": "#%% md\n"
    }
   },
   "source": [
    "The ITCH tick data comes in binary format. Python provides the `struct` module (see [docs](https://docs.python.org/3/library/struct.html)) to parse binary data using format strings that identify the message elements by indicating length and type of the various components of the byte string as laid out in the specification."
   ]
  },
  {
   "cell_type": "markdown",
   "metadata": {
    "pycharm": {
     "name": "#%% md\n"
    }
   },
   "source": [
    "From the docs:\n",
    "\n",
    "> This module performs conversions between Python values and C structs represented as Python bytes objects. This can be used in handling binary data stored in files or from network connections, among other sources. It uses Format Strings as compact descriptions of the layout of the C structs and the intended conversion to/from Python values."
   ]
  },
  {
   "cell_type": "markdown",
   "metadata": {
    "pycharm": {
     "name": "#%% md\n"
    }
   },
   "source": [
    "Let's walk through the critical steps to parse the trading messages and reconstruct the order book:"
   ]
  },
  {
   "cell_type": "markdown",
   "metadata": {
    "pycharm": {
     "name": "#%% md\n"
    }
   },
   "source": [
    "### Defining format strings"
   ]
  },
  {
   "cell_type": "markdown",
   "metadata": {
    "pycharm": {
     "name": "#%% md\n"
    }
   },
   "source": [
    "The parser uses format strings according to the following formats dictionaries:"
   ]
  },
  {
   "cell_type": "code",
   "execution_count": 4,
   "metadata": {
    "ExecuteTime": {
     "end_time": "2021-09-10T18:09:29.825440Z",
     "start_time": "2021-09-10T18:09:29.822355Z"
    },
    "pycharm": {
     "name": "#%%\n"
    }
   },
   "outputs": [],
   "source": [
    "event_codes = {'O': 'Start of Messages',\n",
    "               'S': 'Start of System Hours',\n",
    "               'Q': 'Start of Market Hours',\n",
    "               'M': 'End of Market Hours',\n",
    "               'E': 'End of System Hours',\n",
    "               'C': 'End of Messages'}"
   ]
  },
  {
   "cell_type": "code",
   "execution_count": 5,
   "metadata": {
    "ExecuteTime": {
     "end_time": "2021-09-10T18:09:29.848272Z",
     "start_time": "2021-09-10T18:09:29.826928Z"
    },
    "pycharm": {
     "name": "#%%\n"
    }
   },
   "outputs": [],
   "source": [
    "encoding = {'primary_market_maker': {'Y': 1, 'N': 0},\n",
    "            'printable'           : {'Y': 1, 'N': 0},\n",
    "            'buy_sell_indicator'  : {'B': 1, 'S': -1},\n",
    "            'cross_type'          : {'O': 0, 'C': 1, 'H': 2},\n",
    "            'imbalance_direction' : {'B': 0, 'S': 1, 'N': 0, 'O': -1}}"
   ]
  },
  {
   "cell_type": "code",
   "execution_count": 6,
   "metadata": {
    "ExecuteTime": {
     "end_time": "2021-09-10T18:09:29.857356Z",
     "start_time": "2021-09-10T18:09:29.850080Z"
    },
    "pycharm": {
     "name": "#%%\n"
    }
   },
   "outputs": [],
   "source": [
    "formats = {\n",
    "    ('integer', 2): 'H',  # int of length 2 => format string 'H'\n",
    "    ('integer', 4): 'I',\n",
    "    ('integer', 6): '6s',  # int of length 6 => parse as string, convert later\n",
    "    ('integer', 8): 'Q',\n",
    "    ('alpha',   1): 's',\n",
    "    ('alpha',   2): '2s',\n",
    "    ('alpha',   4): '4s',\n",
    "    ('alpha',   8): '8s',\n",
    "    ('price_4', 4): 'I',\n",
    "    ('price_8', 8): 'Q',\n",
    "}"
   ]
  },
  {
   "cell_type": "markdown",
   "metadata": {
    "pycharm": {
     "name": "#%% md\n"
    }
   },
   "source": [
    "### Create message specs for binary data parser"
   ]
  },
  {
   "cell_type": "markdown",
   "metadata": {
    "pycharm": {
     "name": "#%% md\n"
    }
   },
   "source": [
    "The ITCH parser relies on message specifications that we create in the following steps."
   ]
  },
  {
   "cell_type": "markdown",
   "metadata": {
    "pycharm": {
     "name": "#%% md\n"
    }
   },
   "source": [
    "#### Load Message Types"
   ]
  },
  {
   "cell_type": "markdown",
   "metadata": {
    "pycharm": {
     "name": "#%% md\n"
    }
   },
   "source": [
    "The file `message_types.xlsx` contains the message type specs as laid out in the [documentation](https://www.nasdaqtrader.com/content/technicalsupport/specifications/dataproducts/NQTVITCHSpecification.pdf)"
   ]
  },
  {
   "cell_type": "code",
   "execution_count": 7,
   "metadata": {
    "ExecuteTime": {
     "end_time": "2021-09-10T19:16:44.888647Z",
     "start_time": "2021-09-10T19:16:44.756696Z"
    },
    "pycharm": {
     "name": "#%%\n"
    }
   },
   "outputs": [],
   "source": [
    "message_data = (pd.read_excel('message_types.xlsx',\n",
    "                              sheet_name='messages')\n",
    "                .sort_values('id')\n",
    "                .drop('id', axis=1))"
   ]
  },
  {
   "cell_type": "code",
   "execution_count": 66,
   "metadata": {
    "ExecuteTime": {
     "end_time": "2021-09-10T19:16:45.694545Z",
     "start_time": "2021-09-10T19:16:45.685332Z"
    },
    "pycharm": {
     "name": "#%%\n"
    }
   },
   "outputs": [
    {
     "data": {
      "text/html": [
       "<div>\n",
       "<style scoped>\n",
       "    .dataframe tbody tr th:only-of-type {\n",
       "        vertical-align: middle;\n",
       "    }\n",
       "\n",
       "    .dataframe tbody tr th {\n",
       "        vertical-align: top;\n",
       "    }\n",
       "\n",
       "    .dataframe thead th {\n",
       "        text-align: right;\n",
       "    }\n",
       "</style>\n",
       "<table border=\"1\" class=\"dataframe\">\n",
       "  <thead>\n",
       "    <tr style=\"text-align: right;\">\n",
       "      <th></th>\n",
       "      <th>Name</th>\n",
       "      <th>Offset</th>\n",
       "      <th>Length</th>\n",
       "      <th>Value</th>\n",
       "      <th>Notes</th>\n",
       "    </tr>\n",
       "  </thead>\n",
       "  <tbody>\n",
       "    <tr>\n",
       "      <th>0</th>\n",
       "      <td>Message Type</td>\n",
       "      <td>0</td>\n",
       "      <td>1</td>\n",
       "      <td>S</td>\n",
       "      <td>System Event Message</td>\n",
       "    </tr>\n",
       "    <tr>\n",
       "      <th>1</th>\n",
       "      <td>Stock Locate</td>\n",
       "      <td>1</td>\n",
       "      <td>2</td>\n",
       "      <td>Integer</td>\n",
       "      <td>Always 0</td>\n",
       "    </tr>\n",
       "    <tr>\n",
       "      <th>2</th>\n",
       "      <td>Tracking Number</td>\n",
       "      <td>3</td>\n",
       "      <td>2</td>\n",
       "      <td>Integer</td>\n",
       "      <td>Nasdaq internal tracking number</td>\n",
       "    </tr>\n",
       "    <tr>\n",
       "      <th>3</th>\n",
       "      <td>Timestamp</td>\n",
       "      <td>5</td>\n",
       "      <td>6</td>\n",
       "      <td>Integer</td>\n",
       "      <td>Nanoseconds since midnight</td>\n",
       "    </tr>\n",
       "    <tr>\n",
       "      <th>4</th>\n",
       "      <td>Event Code</td>\n",
       "      <td>11</td>\n",
       "      <td>1</td>\n",
       "      <td>Alpha</td>\n",
       "      <td>See System Event Codes below</td>\n",
       "    </tr>\n",
       "  </tbody>\n",
       "</table>\n",
       "</div>"
      ],
      "text/plain": [
       "              Name   Offset   Length     Value   \\\n",
       "0     Message Type         0        1         S   \n",
       "1     Stock Locate         1        2  Integer    \n",
       "2  Tracking Number         3        2  Integer    \n",
       "3        Timestamp         5        6  Integer    \n",
       "4       Event Code        11        1    Alpha    \n",
       "\n",
       "                             Notes   \n",
       "0             System Event Message   \n",
       "1                         Always 0   \n",
       "2  Nasdaq internal tracking number   \n",
       "3       Nanoseconds since midnight   \n",
       "4     See System Event Codes below   "
      ]
     },
     "execution_count": 66,
     "metadata": {},
     "output_type": "execute_result"
    }
   ],
   "source": [
    "message_data.head()"
   ]
  },
  {
   "cell_type": "markdown",
   "metadata": {
    "pycharm": {
     "name": "#%% md\n"
    }
   },
   "source": [
    "#### Basic Cleaning"
   ]
  },
  {
   "cell_type": "markdown",
   "metadata": {
    "pycharm": {
     "name": "#%% md\n"
    }
   },
   "source": [
    "The function `clean_message_types()` just runs a few basic string cleaning steps."
   ]
  },
  {
   "cell_type": "code",
   "execution_count": 8,
   "metadata": {
    "ExecuteTime": {
     "end_time": "2021-09-10T19:16:46.788325Z",
     "start_time": "2021-09-10T19:16:46.785150Z"
    },
    "pycharm": {
     "name": "#%%\n"
    }
   },
   "outputs": [],
   "source": [
    "def clean_message_types(df):\n",
    "    df.columns = [c.lower().strip() for c in df.columns]\n",
    "    df.value = df.value.str.strip()\n",
    "    df.name = (df.name\n",
    "               .str.strip() # remove whitespace\n",
    "               .str.lower()\n",
    "               .str.replace(' ', '_')\n",
    "               .str.replace('-', '_')\n",
    "               .str.replace('/', '_'))\n",
    "    df.notes = df.notes.str.strip()\n",
    "    df['message_type'] = df.loc[df.name == 'message_type', 'value']\n",
    "    return df"
   ]
  },
  {
   "cell_type": "code",
   "execution_count": 9,
   "metadata": {
    "ExecuteTime": {
     "end_time": "2021-09-10T19:16:46.973596Z",
     "start_time": "2021-09-10T19:16:46.961616Z"
    },
    "pycharm": {
     "name": "#%%\n"
    }
   },
   "outputs": [
    {
     "name": "stdout",
     "output_type": "stream",
     "text": [
      "                          name  offset  length      value  \\\n",
      "0                 message_type       0       1          S   \n",
      "1                 stock_locate       1       2    Integer   \n",
      "2              tracking_number       3       2    Integer   \n",
      "3                    timestamp       5       6    Integer   \n",
      "4                   event_code      11       1      Alpha   \n",
      "..                         ...     ...     ...        ...   \n",
      "168                  far_price      36       4  Price (4)   \n",
      "169                 near_price      40       4  Price (4)   \n",
      "170    current_reference_price      44       4  Price (4)   \n",
      "171                 cross_type      48       1      Alpha   \n",
      "172  price_variation_indicator      49       1      Alpha   \n",
      "\n",
      "                                                 notes message_type  \n",
      "0                                 System Event Message            S  \n",
      "1                                             Always 0          NaN  \n",
      "2                      Nasdaq internal tracking number          NaN  \n",
      "3                           Nanoseconds since midnight          NaN  \n",
      "4                         See System Event Codes below          NaN  \n",
      "..                                                 ...          ...  \n",
      "168  A hypothetical auction-clearing price for cros...          NaN  \n",
      "169  A hypothetical auction-clearing price for cros...          NaN  \n",
      "170  The price at which the NOII shares are being c...          NaN  \n",
      "171  The type of Nasdaq cross for which the NOII me...          NaN  \n",
      "172  This field indicates the absolute value of the...          NaN  \n",
      "\n",
      "[173 rows x 6 columns]\n"
     ]
    }
   ],
   "source": [
    "message_types = clean_message_types(message_data)\n",
    "print(message_types)"
   ]
  },
  {
   "cell_type": "markdown",
   "metadata": {
    "pycharm": {
     "name": "#%% md\n"
    }
   },
   "source": [
    "#### Get Message Labels"
   ]
  },
  {
   "cell_type": "markdown",
   "metadata": {
    "pycharm": {
     "name": "#%% md\n"
    }
   },
   "source": [
    "We extract message type codes and names so we can later make the results more readable."
   ]
  },
  {
   "cell_type": "code",
   "execution_count": 10,
   "metadata": {
    "ExecuteTime": {
     "end_time": "2021-09-10T19:16:49.259988Z",
     "start_time": "2021-09-10T19:16:49.245903Z"
    },
    "pycharm": {
     "name": "#%%\n"
    }
   },
   "outputs": [
    {
     "data": {
      "text/html": [
       "<div>\n",
       "<style scoped>\n",
       "    .dataframe tbody tr th:only-of-type {\n",
       "        vertical-align: middle;\n",
       "    }\n",
       "\n",
       "    .dataframe tbody tr th {\n",
       "        vertical-align: top;\n",
       "    }\n",
       "\n",
       "    .dataframe thead th {\n",
       "        text-align: right;\n",
       "    }\n",
       "</style>\n",
       "<table border=\"1\" class=\"dataframe\">\n",
       "  <thead>\n",
       "    <tr style=\"text-align: right;\">\n",
       "      <th></th>\n",
       "      <th>message_type</th>\n",
       "      <th>name</th>\n",
       "    </tr>\n",
       "  </thead>\n",
       "  <tbody>\n",
       "    <tr>\n",
       "      <th>0</th>\n",
       "      <td>S</td>\n",
       "      <td>system_event</td>\n",
       "    </tr>\n",
       "    <tr>\n",
       "      <th>5</th>\n",
       "      <td>R</td>\n",
       "      <td>stock_directory</td>\n",
       "    </tr>\n",
       "    <tr>\n",
       "      <th>23</th>\n",
       "      <td>H</td>\n",
       "      <td>stock_trading_action</td>\n",
       "    </tr>\n",
       "    <tr>\n",
       "      <th>31</th>\n",
       "      <td>Y</td>\n",
       "      <td>reg_sho_short_sale_price_test_restricted_indic...</td>\n",
       "    </tr>\n",
       "    <tr>\n",
       "      <th>37</th>\n",
       "      <td>L</td>\n",
       "      <td>market_participant_position</td>\n",
       "    </tr>\n",
       "  </tbody>\n",
       "</table>\n",
       "</div>"
      ],
      "text/plain": [
       "   message_type                                               name\n",
       "0             S                                       system_event\n",
       "5             R                                    stock_directory\n",
       "23            H                               stock_trading_action\n",
       "31            Y  reg_sho_short_sale_price_test_restricted_indic...\n",
       "37            L                        market_participant_position"
      ]
     },
     "execution_count": 10,
     "metadata": {},
     "output_type": "execute_result"
    }
   ],
   "source": [
    "message_labels = (message_types.loc[:, ['message_type', 'notes']]\n",
    "                  .dropna()\n",
    "                  .rename(columns={'notes': 'name'}))\n",
    "message_labels.name = (message_labels.name\n",
    "                       .str.lower()\n",
    "                       .str.replace('message', '')\n",
    "                       .str.replace('.', '')\n",
    "                       .str.strip().str.replace(' ', '_'))\n",
    "# message_labels.to_csv('message_labels.csv', index=False)\n",
    "message_labels.head()"
   ]
  },
  {
   "cell_type": "markdown",
   "metadata": {
    "pycharm": {
     "name": "#%% md\n"
    }
   },
   "source": [
    "### Finalize specification details"
   ]
  },
  {
   "cell_type": "markdown",
   "metadata": {
    "pycharm": {
     "name": "#%% md\n"
    }
   },
   "source": [
    "Each message consists of several fields that are defined by offset, length and type of value. The `struct` module will use this format information to parse the binary source data."
   ]
  },
  {
   "cell_type": "code",
   "execution_count": 11,
   "metadata": {
    "ExecuteTime": {
     "end_time": "2021-09-10T19:16:49.695135Z",
     "start_time": "2021-09-10T19:16:49.672670Z"
    },
    "pycharm": {
     "name": "#%%\n"
    }
   },
   "outputs": [
    {
     "name": "stdout",
     "output_type": "stream",
     "text": [
      "<class 'pandas.core.frame.DataFrame'>\n",
      "Int64Index: 152 entries, 1 to 172\n",
      "Data columns (total 6 columns):\n",
      " #   Column        Non-Null Count  Dtype \n",
      "---  ------        --------------  ----- \n",
      " 0   name          152 non-null    object\n",
      " 1   offset        152 non-null    int64 \n",
      " 2   length        152 non-null    int64 \n",
      " 3   value         152 non-null    object\n",
      " 4   notes         152 non-null    object\n",
      " 5   message_type  152 non-null    object\n",
      "dtypes: int64(2), object(4)\n",
      "memory usage: 8.3+ KB\n",
      "                          name  offset  length    value  \\\n",
      "1                 stock_locate       1       2  integer   \n",
      "2              tracking_number       3       2  integer   \n",
      "3                    timestamp       5       6  integer   \n",
      "4                   event_code      11       1    alpha   \n",
      "6                 stock_locate       1       2  integer   \n",
      "..                         ...     ...     ...      ...   \n",
      "168                  far_price      36       4  price_4   \n",
      "169                 near_price      40       4  price_4   \n",
      "170    current_reference_price      44       4  price_4   \n",
      "171                 cross_type      48       1    alpha   \n",
      "172  price_variation_indicator      49       1    alpha   \n",
      "\n",
      "                                                 notes message_type  \n",
      "1                                             Always 0            S  \n",
      "2                      Nasdaq internal tracking number            S  \n",
      "3                           Nanoseconds since midnight            S  \n",
      "4                         See System Event Codes below            S  \n",
      "6    Locate Code uniquely assigned to the security ...            R  \n",
      "..                                                 ...          ...  \n",
      "168  A hypothetical auction-clearing price for cros...            I  \n",
      "169  A hypothetical auction-clearing price for cros...            I  \n",
      "170  The price at which the NOII shares are being c...            I  \n",
      "171  The type of Nasdaq cross for which the NOII me...            I  \n",
      "172  This field indicates the absolute value of the...            I  \n",
      "\n",
      "[152 rows x 6 columns]\n"
     ]
    }
   ],
   "source": [
    "message_types.message_type = message_types.message_type.ffill()\n",
    "message_types = message_types[message_types.name != 'message_type']\n",
    "message_types.value = (message_types.value\n",
    "                       .str.lower()\n",
    "                       .str.replace(' ', '_')\n",
    "                       .str.replace('(', '')\n",
    "                       .str.replace(')', ''))\n",
    "message_types.info()\n",
    "print(message_types)"
   ]
  },
  {
   "cell_type": "code",
   "execution_count": 71,
   "metadata": {
    "ExecuteTime": {
     "end_time": "2021-09-10T19:16:52.046586Z",
     "start_time": "2021-09-10T19:16:52.040316Z"
    },
    "pycharm": {
     "name": "#%%\n"
    }
   },
   "outputs": [
    {
     "data": {
      "text/html": [
       "<div>\n",
       "<style scoped>\n",
       "    .dataframe tbody tr th:only-of-type {\n",
       "        vertical-align: middle;\n",
       "    }\n",
       "\n",
       "    .dataframe tbody tr th {\n",
       "        vertical-align: top;\n",
       "    }\n",
       "\n",
       "    .dataframe thead th {\n",
       "        text-align: right;\n",
       "    }\n",
       "</style>\n",
       "<table border=\"1\" class=\"dataframe\">\n",
       "  <thead>\n",
       "    <tr style=\"text-align: right;\">\n",
       "      <th></th>\n",
       "      <th>name</th>\n",
       "      <th>offset</th>\n",
       "      <th>length</th>\n",
       "      <th>value</th>\n",
       "      <th>notes</th>\n",
       "      <th>message_type</th>\n",
       "    </tr>\n",
       "  </thead>\n",
       "  <tbody>\n",
       "    <tr>\n",
       "      <th>1</th>\n",
       "      <td>stock_locate</td>\n",
       "      <td>1</td>\n",
       "      <td>2</td>\n",
       "      <td>integer</td>\n",
       "      <td>Always 0</td>\n",
       "      <td>S</td>\n",
       "    </tr>\n",
       "    <tr>\n",
       "      <th>2</th>\n",
       "      <td>tracking_number</td>\n",
       "      <td>3</td>\n",
       "      <td>2</td>\n",
       "      <td>integer</td>\n",
       "      <td>Nasdaq internal tracking number</td>\n",
       "      <td>S</td>\n",
       "    </tr>\n",
       "    <tr>\n",
       "      <th>3</th>\n",
       "      <td>timestamp</td>\n",
       "      <td>5</td>\n",
       "      <td>6</td>\n",
       "      <td>integer</td>\n",
       "      <td>Nanoseconds since midnight</td>\n",
       "      <td>S</td>\n",
       "    </tr>\n",
       "    <tr>\n",
       "      <th>4</th>\n",
       "      <td>event_code</td>\n",
       "      <td>11</td>\n",
       "      <td>1</td>\n",
       "      <td>alpha</td>\n",
       "      <td>See System Event Codes below</td>\n",
       "      <td>S</td>\n",
       "    </tr>\n",
       "    <tr>\n",
       "      <th>6</th>\n",
       "      <td>stock_locate</td>\n",
       "      <td>1</td>\n",
       "      <td>2</td>\n",
       "      <td>integer</td>\n",
       "      <td>Locate Code uniquely assigned to the security ...</td>\n",
       "      <td>R</td>\n",
       "    </tr>\n",
       "  </tbody>\n",
       "</table>\n",
       "</div>"
      ],
      "text/plain": [
       "              name  offset  length    value  \\\n",
       "1     stock_locate       1       2  integer   \n",
       "2  tracking_number       3       2  integer   \n",
       "3        timestamp       5       6  integer   \n",
       "4       event_code      11       1    alpha   \n",
       "6     stock_locate       1       2  integer   \n",
       "\n",
       "                                               notes message_type  \n",
       "1                                           Always 0            S  \n",
       "2                    Nasdaq internal tracking number            S  \n",
       "3                         Nanoseconds since midnight            S  \n",
       "4                       See System Event Codes below            S  \n",
       "6  Locate Code uniquely assigned to the security ...            R  "
      ]
     },
     "execution_count": 71,
     "metadata": {},
     "output_type": "execute_result"
    }
   ],
   "source": [
    "message_types.head()"
   ]
  },
  {
   "cell_type": "markdown",
   "metadata": {
    "pycharm": {
     "name": "#%% md\n"
    }
   },
   "source": [
    "Optionally, persist/reload from file:"
   ]
  },
  {
   "cell_type": "code",
   "execution_count": 72,
   "metadata": {
    "ExecuteTime": {
     "end_time": "2021-09-10T19:16:52.319607Z",
     "start_time": "2021-09-10T19:16:52.314423Z"
    },
    "pycharm": {
     "name": "#%%\n"
    }
   },
   "outputs": [],
   "source": [
    "message_types.to_csv('message_types.csv', index=False)"
   ]
  },
  {
   "cell_type": "code",
   "execution_count": 12,
   "metadata": {
    "ExecuteTime": {
     "end_time": "2021-09-10T19:16:52.446405Z",
     "start_time": "2021-09-10T19:16:52.438586Z"
    },
    "pycharm": {
     "name": "#%%\n"
    }
   },
   "outputs": [],
   "source": [
    "message_types = pd.read_csv('message_types.csv')"
   ]
  },
  {
   "cell_type": "markdown",
   "metadata": {
    "pycharm": {
     "name": "#%% md\n"
    }
   },
   "source": [
    "The parser translates the message specs into format strings and `namedtuples` that capture the message content. First, we create `(type, length)` formatting tuples from ITCH specs:"
   ]
  },
  {
   "cell_type": "code",
   "execution_count": 13,
   "metadata": {
    "ExecuteTime": {
     "end_time": "2021-09-10T19:16:52.910438Z",
     "start_time": "2021-09-10T19:16:52.890773Z"
    },
    "pycharm": {
     "name": "#%%\n"
    }
   },
   "outputs": [],
   "source": [
    "message_types.loc[:, 'formats'] = (message_types[['value', 'length']]\n",
    "                            .apply(tuple, axis=1).map(formats))"
   ]
  },
  {
   "cell_type": "markdown",
   "metadata": {
    "pycharm": {
     "name": "#%% md\n"
    }
   },
   "source": [
    "Then, we extract formatting details for alphanumerical fields"
   ]
  },
  {
   "cell_type": "code",
   "execution_count": 14,
   "metadata": {
    "ExecuteTime": {
     "end_time": "2021-09-10T19:16:53.170945Z",
     "start_time": "2021-09-10T19:16:53.153242Z"
    },
    "pycharm": {
     "name": "#%%\n"
    }
   },
   "outputs": [
    {
     "name": "stdout",
     "output_type": "stream",
     "text": [
      "{'A': {'buy_sell_indicator': 's', 'stock': '8s'}, 'C': {'printable': 's'}, 'F': {'buy_sell_indicator': 's', 'stock': '8s', 'attribution': '4s'}, 'H': {'stock': '8s', 'trading_state': 's', 'reserved': 's', 'reason': '4s'}, 'I': {'imbalance_direction': 's', 'stock': '8s', 'cross_type': 's', 'price_variation_indicator': 's'}, 'J': {'stock': '8s'}, 'K': {'stock': '8s', 'ipo_quotation_release_qualifier': 's'}, 'L': {'mpid': '4s', 'stock': '8s', 'primary_market_maker': 's', 'market_maker_mode': 's', 'market_participant_state': 's'}, 'P': {'buy_sell_indicator': 's', 'stock': '8s'}, 'Q': {'stock': '8s', 'cross_type': 's'}, 'R': {'stock': '8s', 'market_category': 's', 'financial_status_indicator': 's', 'round_lots_only': 's', 'issue_classification': 's', 'issue_sub_type': '2s', 'authenticity': 's', 'short_sale_threshold_indicator': 's', 'ipo_flag': 's', 'luld_reference_price_tier': 's', 'etp_flag': 's', 'inverse_indicator': 's'}, 'S': {'event_code': 's'}, 'W': {'breached_level': 's'}, 'Y': {'stock': '8s', 'reg_sho_action': 's'}, 'h': {'stock': '8s', 'market_code': 's', 'operational_halt_action': 's'}}\n"
     ]
    }
   ],
   "source": [
    "# 将不同message_types的数据汇总\n",
    "alpha_fields = message_types[message_types.value == 'alpha'].set_index('name')\n",
    "alpha_msgs = alpha_fields.groupby('message_type')\n",
    "alpha_formats = {k: v.to_dict() for k, v in alpha_msgs.formats}\n",
    "alpha_length = {k: v.add(5).to_dict() for k, v in alpha_msgs.length}\n",
    "# alpha_msgs.head()\n",
    "print(alpha_formats)\n"
   ]
  },
  {
   "cell_type": "markdown",
   "metadata": {
    "pycharm": {
     "name": "#%% md\n"
    }
   },
   "source": [
    "We generate message classes as named tuples and format strings"
   ]
  },
  {
   "cell_type": "code",
   "execution_count": 35,
   "metadata": {
    "ExecuteTime": {
     "end_time": "2021-09-10T19:16:53.440646Z",
     "start_time": "2021-09-10T19:16:53.423662Z"
    },
    "pycharm": {
     "name": "#%%\n"
    }
   },
   "outputs": [
    {
     "name": "stdout",
     "output_type": "stream",
     "text": [
      "{'A': <class '__main__.A'>, 'B': <class '__main__.B'>, 'C': <class '__main__.C'>, 'D': <class '__main__.D'>, 'E': <class '__main__.E'>, 'F': <class '__main__.F'>, 'H': <class '__main__.H'>, 'I': <class '__main__.I'>, 'J': <class '__main__.J'>, 'K': <class '__main__.K'>, 'L': <class '__main__.L'>, 'P': <class '__main__.P'>, 'Q': <class '__main__.Q'>, 'R': <class '__main__.R'>, 'S': <class '__main__.S'>, 'U': <class '__main__.U'>, 'V': <class '__main__.V'>, 'W': <class '__main__.W'>, 'X': <class '__main__.X'>, 'Y': <class '__main__.Y'>, 'h': <class '__main__.h'>}\n"
     ]
    }
   ],
   "source": [
    "# 将message转换成另一种数据格式namedtuple，可以根据值进行索引\n",
    "message_fields, fstring = {}, {}\n",
    "for t, message in message_types.groupby('message_type'):\n",
    "    message_fields[t] = namedtuple(typename=t, field_names=message.name.tolist())\n",
    "    fstring[t] = '>' + ''.join(message.formats.tolist())\n",
    "print(message_fields)"
   ]
  },
  {
   "cell_type": "code",
   "execution_count": 32,
   "metadata": {},
   "outputs": [
    {
     "data": {
      "text/plain": [
       "[('A',\n",
       "                        name  offset  length    value  \\\n",
       "  83            stock_locate       1       2  integer   \n",
       "  84         tracking_number       3       2  integer   \n",
       "  85               timestamp       5       6  integer   \n",
       "  86  order_reference_number      11       8  integer   \n",
       "  87      buy_sell_indicator      19       1    alpha   \n",
       "  88                  shares      20       4  integer   \n",
       "  89                   stock      24       8    alpha   \n",
       "  90                   price      32       4  price_4   \n",
       "  \n",
       "                                                  notes message_type formats  \n",
       "  83               Locate code identifying the security            A       H  \n",
       "  84                    Nasdaq internal tracking number            A       H  \n",
       "  85                        Nanoseconds since midnight.            A      6s  \n",
       "  86  The unique reference number assigned to the ne...            A       Q  \n",
       "  87  The type of order being added. B = Buy Order. ...            A       s  \n",
       "  88  The total number of shares associated with the...            A       I  \n",
       "  89             Stock symbol, right padded with spaces            A      8s  \n",
       "  90  The display price of the new order. Refer to D...            A       I  ),\n",
       " ('B',\n",
       "                  name  offset  length    value  \\\n",
       "  156     stock_locate       1       2  integer   \n",
       "  157  tracking_number       3       2  integer   \n",
       "  158        timestamp       5       6  integer   \n",
       "  159     match_number      11       8  integer   \n",
       "  \n",
       "                                                   notes message_type formats  \n",
       "  156               Locate code identifying the security            B       H  \n",
       "  157                    Nasdaq internal tracking number            B       H  \n",
       "  158                        Nanoseconds since midnight.            B      6s  \n",
       "  159  The Nasdaq Match Number of the execution that ...            B       Q  ),\n",
       " ('C',\n",
       "                         name  offset  length    value  \\\n",
       "  109            stock_locate       1       2  integer   \n",
       "  110         tracking_number       3       2  integer   \n",
       "  111               timestamp       5       6  integer   \n",
       "  112  order_reference_number      11       8  integer   \n",
       "  113         executed_shares      19       4  integer   \n",
       "  114            match_number      23       8  integer   \n",
       "  115               printable      31       1    alpha   \n",
       "  116         execution_price      32       4  price_4   \n",
       "  \n",
       "                                                   notes message_type formats  \n",
       "  109               Locate code identifying the security            C       H  \n",
       "  110                    Nasdaq internal tracking number            C       H  \n",
       "  111                         Nanoseconds since midnight            C      6s  \n",
       "  112  The unique reference number assigned to the ne...            C       Q  \n",
       "  113                      The number of shares executed            C       I  \n",
       "  114  The Nasdaq generated day unique Match Number o...            C       Q  \n",
       "  115  Indicates if the execution should be reflected...            C       s  \n",
       "  116  The Price at which the order execution occurre...            C       I  ),\n",
       " ('D',\n",
       "                         name  offset  length    value  \\\n",
       "  124            stock_locate       1       2  integer   \n",
       "  125         tracking_number       3       2  integer   \n",
       "  126               timestamp       5       6  integer   \n",
       "  127  order_reference_number      11       8  integer   \n",
       "  \n",
       "                                                  notes message_type formats  \n",
       "  124              Locate code identifying the security            D       H  \n",
       "  125                   Nasdaq internal tracking number            D       H  \n",
       "  126                        Nanoseconds since midnight            D      6s  \n",
       "  127  The reference number of the order being canceled            D       Q  ),\n",
       " ('E',\n",
       "                         name  offset  length    value  \\\n",
       "  102            stock_locate       1       2  integer   \n",
       "  103         tracking_number       3       2  integer   \n",
       "  104               timestamp       5       6  integer   \n",
       "  105  order_reference_number      11       8  integer   \n",
       "  106         executed_shares      19       4  integer   \n",
       "  107            match_number      23       8  integer   \n",
       "  \n",
       "                                                   notes message_type formats  \n",
       "  102               Locate code identifying the security            E       H  \n",
       "  103                    Nasdaq internal tracking number            E       H  \n",
       "  104                         Nanoseconds since midnight            E      6s  \n",
       "  105  The unique reference number assigned to the ne...            E       Q  \n",
       "  106                      The number of shares executed            E       I  \n",
       "  107  The Nasdaq generated day unique Match Number o...            E       Q  ),\n",
       " ('F',\n",
       "                         name  offset  length    value  \\\n",
       "  92             stock_locate       1       2  integer   \n",
       "  93          tracking_number       3       2  integer   \n",
       "  94                timestamp       5       6  integer   \n",
       "  95   order_reference_number      11       8  integer   \n",
       "  96       buy_sell_indicator      19       1    alpha   \n",
       "  97                   shares      20       4  integer   \n",
       "  98                    stock      24       8    alpha   \n",
       "  99                    price      32       4  price_4   \n",
       "  100             attribution      36       4    alpha   \n",
       "  \n",
       "                                                   notes message_type formats  \n",
       "  92                Locate code identifying the security            F       H  \n",
       "  93                     Nasdaq internal tracking number            F       H  \n",
       "  94                         Nanoseconds since midnight.            F      6s  \n",
       "  95   The unique reference number assigned to the ne...            F       Q  \n",
       "  96   The type of order being added. B = Buy Order. ...            F       s  \n",
       "  97   The total number of shares associated with the...            F       I  \n",
       "  98              Stock symbol, right padded with spaces            F      8s  \n",
       "  99   The display price of the new order. Refer to D...            F       I  \n",
       "  100  Nasdaq Market participant identifier associate...            F      4s  ),\n",
       " ('H',\n",
       "                 name  offset  length    value  \\\n",
       "  24     stock_locate       1       2  integer   \n",
       "  25  tracking_number       3       2  integer   \n",
       "  26        timestamp       5       6  integer   \n",
       "  27            stock      11       8    alpha   \n",
       "  28    trading_state      19       1    alpha   \n",
       "  29         reserved      20       1    alpha   \n",
       "  30           reason      21       4    alpha   \n",
       "  \n",
       "                                                  notes message_type formats  \n",
       "  24               Locate code identifying the security            H       H  \n",
       "  25                    Nasdaq internal tracking number            H       H  \n",
       "  26                         Nanoseconds since midnight            H      6s  \n",
       "  27             Stock symbol, right padded with spaces            H      8s  \n",
       "  28  Indicates the current trading state for the st...            H       s  \n",
       "  29                                          Reserved.            H       s  \n",
       "  30                             Trading Action reason.            H      4s  ),\n",
       " ('I',\n",
       "                            name  offset  length    value  \\\n",
       "  161               stock_locate       1       2  integer   \n",
       "  162            tracking_number       3       2  integer   \n",
       "  163                  timestamp       5       6  integer   \n",
       "  164              paired_shares      11       8  integer   \n",
       "  165           imbalance_shares      19       8  integer   \n",
       "  166        imbalance_direction      27       1    alpha   \n",
       "  167                      stock      28       8    alpha   \n",
       "  168                  far_price      36       4  price_4   \n",
       "  169                 near_price      40       4  price_4   \n",
       "  170    current_reference_price      44       4  price_4   \n",
       "  171                 cross_type      48       1    alpha   \n",
       "  172  price_variation_indicator      49       1    alpha   \n",
       "  \n",
       "                                                   notes message_type formats  \n",
       "  161               Locate code identifying the security            I       H  \n",
       "  162                    Nasdaq internal tracking number            I       H  \n",
       "  163                        Nanoseconds since midnight.            I      6s  \n",
       "  164  The total number of shares that are eligible t...            I       Q  \n",
       "  165  The number of shares not paired at the Current...            I       Q  \n",
       "  166  The market side of the order imbalance. \\nB = ...            I       s  \n",
       "  167             Stock symbol, right padded with spaces            I      8s  \n",
       "  168  A hypothetical auction-clearing price for cros...            I       I  \n",
       "  169  A hypothetical auction-clearing price for cros...            I       I  \n",
       "  170  The price at which the NOII shares are being c...            I       I  \n",
       "  171  The type of Nasdaq cross for which the NOII me...            I       s  \n",
       "  172  This field indicates the absolute value of the...            I       s  ),\n",
       " ('J',\n",
       "                                name  offset  length    value  \\\n",
       "  67                    stock_locate       1       2  integer   \n",
       "  68                 tracking_number       3       2  integer   \n",
       "  69                       timestamp       5       6  integer   \n",
       "  70                           stock      11       8    alpha   \n",
       "  71  auction_collar_reference_price      19       4  price_4   \n",
       "  72      upper_auction_collar_price      23       4  price_4   \n",
       "  73      lower_auction_collar_price      27       4  price_4   \n",
       "  74        auction_collar_extension      31       4  integer   \n",
       "  \n",
       "                                                  notes message_type formats  \n",
       "  67               Locate code identifying the security            J       H  \n",
       "  68                    Nasdaq internal tracking number            J       H  \n",
       "  69                          Nanoseconds past midnight            J      6s  \n",
       "  70             Stock symbol, right padded with spaces            J      8s  \n",
       "  71    Reference price used to set the Auction Collars            J       I  \n",
       "  72  Indicates the price of the Upper Auction Colla...            J       I  \n",
       "  73  Indicates the price of the Lower Auction Colla...            J       I  \n",
       "  74  Indicates the number of the extensions to the ...            J       I  ),\n",
       " ('K',\n",
       "                                 name  offset  length    value  \\\n",
       "  59                     stock_locate       1       2  integer   \n",
       "  60                  tracking_number       3       2  integer   \n",
       "  61                        timestamp       5       6  integer   \n",
       "  62                            stock      11       8    alpha   \n",
       "  63       ipo_quotation_release_time      19       4  integer   \n",
       "  64  ipo_quotation_release_qualifier      23       1    alpha   \n",
       "  65                        ipo_price      24       4  price_4   \n",
       "  \n",
       "                                                  notes message_type formats  \n",
       "  59                                    Always set to 0            K       H  \n",
       "  60                    Nasdaq internal tracking number            K       H  \n",
       "  61  Time at which the IPO Quoting Period Update me...            K      6s  \n",
       "  62             Stock symbol, right padded with spaces            K      8s  \n",
       "  63  Denotes the IPO release time, in seconds since...            K       I  \n",
       "  64  A = Anticipated Quotation Release Time: \\nThis...            K       s  \n",
       "  65  Denotes the IPO Price to be used for intraday ...            K       I  ),\n",
       " ('L',\n",
       "                          name  offset  length    value  \\\n",
       "  38              stock_locate       1       2  integer   \n",
       "  39           tracking_number       3       2  integer   \n",
       "  40                 timestamp       5       6  integer   \n",
       "  41                      mpid      11       4    alpha   \n",
       "  42                     stock      15       8    alpha   \n",
       "  43      primary_market_maker      23       1    alpha   \n",
       "  44         market_maker_mode      24       1    alpha   \n",
       "  45  market_participant_state      25       1    alpha   \n",
       "  \n",
       "                                                  notes message_type formats  \n",
       "  38               Locate code identifying the security            L       H  \n",
       "  39                    Nasdaq internal tracking number            L       H  \n",
       "  40                         Nanoseconds since midnight            L      6s  \n",
       "  41  Denotes the market participant identifier for ...            L      4s  \n",
       "  42             Stock symbol, right padded with spaces            L      8s  \n",
       "  43  Indicates if the market participant firm quali...            L       s  \n",
       "  44  Indicates the quoting participant's registrati...            L       s  \n",
       "  45  Indicates the market participant's current reg...            L       s  ),\n",
       " ('P',\n",
       "                         name  offset  length    value  \\\n",
       "  137            stock_locate       1       2  integer   \n",
       "  138         tracking_number       3       2  integer   \n",
       "  139               timestamp       5       6  integer   \n",
       "  140  order_reference_number      11       8  integer   \n",
       "  141      buy_sell_indicator      19       1    alpha   \n",
       "  142                  shares      20       4  integer   \n",
       "  143                   stock      24       8    alpha   \n",
       "  144                   price      32       4  price_4   \n",
       "  145            match_number      36       8  integer   \n",
       "  \n",
       "                                                   notes message_type formats  \n",
       "  137               Locate code identifying the security            P       H  \n",
       "  138                    Nasdaq internal tracking number            P       H  \n",
       "  139                        Nanoseconds since midnight.            P      6s  \n",
       "  140  The unique reference number assigned to the or...            P       Q  \n",
       "  141  The type of non-display order on the book bein...            P       s  \n",
       "  142  The number of shares being matched in this exe...            P       I  \n",
       "  143             Stock Symbol, right padded with spaces            P      8s  \n",
       "  144  The match price of the order. Please refer to ...            P       I  \n",
       "  145  The Nasdaq generated session unique Match Numb...            P       Q  ),\n",
       " ('Q',\n",
       "                  name  offset  length    value  \\\n",
       "  147     stock_locate       1       2  integer   \n",
       "  148  tracking_number       3       2  integer   \n",
       "  149        timestamp       5       6  integer   \n",
       "  150           shares      11       8  integer   \n",
       "  151            stock      19       8    alpha   \n",
       "  152      cross_price      27       4  price_4   \n",
       "  153     match_number      31       8  integer   \n",
       "  154       cross_type      39       1    alpha   \n",
       "  \n",
       "                                                   notes message_type formats  \n",
       "  147               Locate code identifying the security            Q       H  \n",
       "  148                    Nasdaq internal tracking number            Q       H  \n",
       "  149                        Nanoseconds since midnight.            Q      6s  \n",
       "  150  The number of shares matched in the Nasdaq Cross.            Q       Q  \n",
       "  151             Stock symbol, right padded with spaces            Q      8s  \n",
       "  152  The price at which the cross occurred. Refer t...            Q       I  \n",
       "  153  The Nasdaq generated day-unique Match Number o...            Q       Q  \n",
       "  154  The Nasdaq cross session for which the message...            Q       s  ),\n",
       " ('R',\n",
       "                                name  offset  length    value  \\\n",
       "  6                     stock_locate       1       2  integer   \n",
       "  7                  tracking_number       3       2  integer   \n",
       "  8                        timestamp       5       6  integer   \n",
       "  9                            stock      11       8    alpha   \n",
       "  10                 market_category      19       1    alpha   \n",
       "  11      financial_status_indicator      20       1    alpha   \n",
       "  12                  round_lot_size      21       4  integer   \n",
       "  13                 round_lots_only      25       1    alpha   \n",
       "  14            issue_classification      26       1    alpha   \n",
       "  15                  issue_sub_type      27       2    alpha   \n",
       "  16                    authenticity      29       1    alpha   \n",
       "  17  short_sale_threshold_indicator      30       1    alpha   \n",
       "  18                        ipo_flag      31       1    alpha   \n",
       "  19       luld_reference_price_tier      32       1    alpha   \n",
       "  20                        etp_flag      33       1    alpha   \n",
       "  21             etp_leverage_factor      34       4  integer   \n",
       "  22               inverse_indicator      38       1    alpha   \n",
       "  \n",
       "                                                  notes message_type formats  \n",
       "  6   Locate Code uniquely assigned to the security ...            R       H  \n",
       "  7                     Nasdaq internal tracking number            R       H  \n",
       "  8   Time at which the directory message was genera...            R      6s  \n",
       "  9   Denotes the security symbol for the issue in t...            R      8s  \n",
       "  10  Indicates Listing market or listing market tie...            R       s  \n",
       "  11  For Nasdaq listed issues, this field indicates...            R       s  \n",
       "  12  Denotes the number of shares that represent a ...            R       I  \n",
       "  13  Indicates if Nasdaq system limits order entry ...            R       s  \n",
       "  14  Identifies the security class for the issue as...            R       s  \n",
       "  15  Identifies the security sub-type for the issue...            R      2s  \n",
       "  16  Denotes if an issue or quoting participant rec...            R       s  \n",
       "  17  Indicates if a security is subject to mandator...            R       s  \n",
       "  18  Indicates if the Nasdaq security is set up for...            R       s  \n",
       "  19  Indicates which Limit Up / Limit Down price ba...            R       s  \n",
       "  20  Indicates whether the security is an exchange ...            R       s  \n",
       "  21  Tracks the integral relationship of the ETP to...            R       I  \n",
       "  22  Indicates the directional relationship between...            R       s  ),\n",
       " ('S',\n",
       "                name  offset  length    value                            notes  \\\n",
       "  1     stock_locate       1       2  integer                         Always 0   \n",
       "  2  tracking_number       3       2  integer  Nasdaq internal tracking number   \n",
       "  3        timestamp       5       6  integer       Nanoseconds since midnight   \n",
       "  4       event_code      11       1    alpha     See System Event Codes below   \n",
       "  \n",
       "    message_type formats  \n",
       "  1            S       H  \n",
       "  2            S       H  \n",
       "  3            S      6s  \n",
       "  4            S       s  ),\n",
       " ('U',\n",
       "                                  name  offset  length    value  \\\n",
       "  129                     stock_locate       1       2  integer   \n",
       "  130                  tracking_number       3       2  integer   \n",
       "  131                        timestamp       5       6  integer   \n",
       "  132  original_order_reference_number      11       8  integer   \n",
       "  133       new_order_reference_number      19       8  integer   \n",
       "  134                           shares      27       4  integer   \n",
       "  135                            price      31       4  price_4   \n",
       "  \n",
       "                                                   notes message_type formats  \n",
       "  129               Locate code identifying the security            U       H  \n",
       "  130                    Nasdaq internal tracking number            U       H  \n",
       "  131                         Nanoseconds since midnight            U      6s  \n",
       "  132  The original order reference number of the ord...            U       Q  \n",
       "  133  The new reference number for this order at tim...            U       Q  \n",
       "  134                   The new total displayed quantity            U       I  \n",
       "  135                The new display price for the order            U       I  ),\n",
       " ('V',\n",
       "                 name  offset  length    value  \\\n",
       "  47     stock_locate       1       2  integer   \n",
       "  48  tracking_number       3       2  integer   \n",
       "  49        timestamp       5       6  integer   \n",
       "  50          level_1      11       8  price_8   \n",
       "  51          level_2      19       8  price_8   \n",
       "  52          level_3      27       8  price_8   \n",
       "  \n",
       "                                                  notes message_type formats  \n",
       "  47                                    Always set to 0            V       H  \n",
       "  48                    Nasdaq internal tracking number            V       H  \n",
       "  49  Time at which the MWCB Decline Level message w...            V      6s  \n",
       "  50                    Denotes the MWCB Level 1 Value.            V       Q  \n",
       "  51                    Denotes the MWCB Level 2 Value.            V       Q  \n",
       "  52                    Denotes the MWCB Level 3 Value.            V       Q  ),\n",
       " ('W',\n",
       "                 name  offset  length    value  \\\n",
       "  54     stock_locate       1       2  integer   \n",
       "  55  tracking_number       3       2  integer   \n",
       "  56        timestamp       5       6  integer   \n",
       "  57   breached_level      11       1    alpha   \n",
       "  \n",
       "                                                  notes message_type formats  \n",
       "  54                                    Always set to 0            W       H  \n",
       "  55                    Nasdaq internal tracking number            W       H  \n",
       "  56  Time at which the MWCB Breaker Status message ...            W      6s  \n",
       "  57  Denotes the MWCB Level that was breached. 1 = ...            W       s  ),\n",
       " ('X',\n",
       "                         name  offset  length    value  \\\n",
       "  118            stock_locate       1       2  integer   \n",
       "  119         tracking_number       3       2  integer   \n",
       "  120               timestamp       5       6  integer   \n",
       "  121  order_reference_number      11       8  integer   \n",
       "  122        cancelled_shares      19       4  integer   \n",
       "  \n",
       "                                                   notes message_type formats  \n",
       "  118               Locate code identifying the security            X       H  \n",
       "  119                    Nasdaq internal tracking number            X       H  \n",
       "  120                         Nanoseconds since midnight            X      6s  \n",
       "  121   The reference number of the order being canceled            X       Q  \n",
       "  122  The number of shares being removed from the di...            X       I  ),\n",
       " ('Y',\n",
       "                 name  offset  length    value  \\\n",
       "  32     stock_locate       1       2  integer   \n",
       "  33  tracking_number       3       2  integer   \n",
       "  34        timestamp       5       6  integer   \n",
       "  35            stock      11       8    alpha   \n",
       "  36   reg_sho_action      19       1    alpha   \n",
       "  \n",
       "                                                  notes message_type formats  \n",
       "  32               Locate code identifying the security            Y       H  \n",
       "  33                    Nasdaq internal tracking number            Y       H  \n",
       "  34                         Nanoseconds since midnight            Y      6s  \n",
       "  35             Stock symbol, right padded with spaces            Y      8s  \n",
       "  36  Denotes the Reg SHO Short Sale Price Test Rest...            Y       s  ),\n",
       " ('h',\n",
       "                         name  offset  length    value  \\\n",
       "  76             stock_locate       1       2  integer   \n",
       "  77          tracking_number       3       2  integer   \n",
       "  78                timestamp       5       6  integer   \n",
       "  79                    stock      11       8    alpha   \n",
       "  80              market_code      19       1    alpha   \n",
       "  81  operational_halt_action      20       1    alpha   \n",
       "  \n",
       "                                                  notes message_type formats  \n",
       "  76  Locate code uniquely assigned to the security ...            h       H  \n",
       "  77                    Nasdaq internal tracking number            h       H  \n",
       "  78  Time at which the Operational Halt message was...            h      6s  \n",
       "  79  Denotes the security symbol for the issue in N...            h      8s  \n",
       "  80                            Q: Nasdaq\\nB: BX\\nX: PS            h       s  \n",
       "  81  H: Operationally Halted on the identified Mark...            h       s  )]"
      ]
     },
     "execution_count": 32,
     "metadata": {},
     "output_type": "execute_result"
    }
   ],
   "source": [
    "list(message_types.groupby('message_type'))"
   ]
  },
  {
   "cell_type": "code",
   "execution_count": 77,
   "metadata": {
    "ExecuteTime": {
     "end_time": "2021-09-10T19:16:53.613768Z",
     "start_time": "2021-09-10T19:16:53.598601Z"
    },
    "pycharm": {
     "name": "#%%\n"
    }
   },
   "outputs": [
    {
     "name": "stdout",
     "output_type": "stream",
     "text": [
      "<class 'pandas.core.frame.DataFrame'>\n",
      "Index: 45 entries, event_code to price_variation_indicator\n",
      "Data columns (total 6 columns):\n",
      " #   Column        Non-Null Count  Dtype \n",
      "---  ------        --------------  ----- \n",
      " 0   offset        45 non-null     int64 \n",
      " 1   length        45 non-null     int64 \n",
      " 2   value         45 non-null     object\n",
      " 3   notes         45 non-null     object\n",
      " 4   message_type  45 non-null     object\n",
      " 5   formats       45 non-null     object\n",
      "dtypes: int64(2), object(4)\n",
      "memory usage: 2.5+ KB\n"
     ]
    }
   ],
   "source": [
    "alpha_fields.info()"
   ]
  },
  {
   "cell_type": "code",
   "execution_count": 78,
   "metadata": {
    "ExecuteTime": {
     "end_time": "2021-09-10T19:16:53.781876Z",
     "start_time": "2021-09-10T19:16:53.764010Z"
    },
    "pycharm": {
     "name": "#%%\n"
    }
   },
   "outputs": [
    {
     "data": {
      "text/html": [
       "<div>\n",
       "<style scoped>\n",
       "    .dataframe tbody tr th:only-of-type {\n",
       "        vertical-align: middle;\n",
       "    }\n",
       "\n",
       "    .dataframe tbody tr th {\n",
       "        vertical-align: top;\n",
       "    }\n",
       "\n",
       "    .dataframe thead th {\n",
       "        text-align: right;\n",
       "    }\n",
       "</style>\n",
       "<table border=\"1\" class=\"dataframe\">\n",
       "  <thead>\n",
       "    <tr style=\"text-align: right;\">\n",
       "      <th></th>\n",
       "      <th>offset</th>\n",
       "      <th>length</th>\n",
       "      <th>value</th>\n",
       "      <th>notes</th>\n",
       "      <th>message_type</th>\n",
       "      <th>formats</th>\n",
       "    </tr>\n",
       "    <tr>\n",
       "      <th>name</th>\n",
       "      <th></th>\n",
       "      <th></th>\n",
       "      <th></th>\n",
       "      <th></th>\n",
       "      <th></th>\n",
       "      <th></th>\n",
       "    </tr>\n",
       "  </thead>\n",
       "  <tbody>\n",
       "    <tr>\n",
       "      <th>event_code</th>\n",
       "      <td>11</td>\n",
       "      <td>1</td>\n",
       "      <td>alpha</td>\n",
       "      <td>See System Event Codes below</td>\n",
       "      <td>S</td>\n",
       "      <td>s</td>\n",
       "    </tr>\n",
       "    <tr>\n",
       "      <th>stock</th>\n",
       "      <td>11</td>\n",
       "      <td>8</td>\n",
       "      <td>alpha</td>\n",
       "      <td>Denotes the security symbol for the issue in t...</td>\n",
       "      <td>R</td>\n",
       "      <td>8s</td>\n",
       "    </tr>\n",
       "    <tr>\n",
       "      <th>market_category</th>\n",
       "      <td>19</td>\n",
       "      <td>1</td>\n",
       "      <td>alpha</td>\n",
       "      <td>Indicates Listing market or listing market tie...</td>\n",
       "      <td>R</td>\n",
       "      <td>s</td>\n",
       "    </tr>\n",
       "    <tr>\n",
       "      <th>financial_status_indicator</th>\n",
       "      <td>20</td>\n",
       "      <td>1</td>\n",
       "      <td>alpha</td>\n",
       "      <td>For Nasdaq listed issues, this field indicates...</td>\n",
       "      <td>R</td>\n",
       "      <td>s</td>\n",
       "    </tr>\n",
       "    <tr>\n",
       "      <th>round_lots_only</th>\n",
       "      <td>25</td>\n",
       "      <td>1</td>\n",
       "      <td>alpha</td>\n",
       "      <td>Indicates if Nasdaq system limits order entry ...</td>\n",
       "      <td>R</td>\n",
       "      <td>s</td>\n",
       "    </tr>\n",
       "  </tbody>\n",
       "</table>\n",
       "</div>"
      ],
      "text/plain": [
       "                            offset  length  value  \\\n",
       "name                                                \n",
       "event_code                      11       1  alpha   \n",
       "stock                           11       8  alpha   \n",
       "market_category                 19       1  alpha   \n",
       "financial_status_indicator      20       1  alpha   \n",
       "round_lots_only                 25       1  alpha   \n",
       "\n",
       "                                                                        notes  \\\n",
       "name                                                                            \n",
       "event_code                                       See System Event Codes below   \n",
       "stock                       Denotes the security symbol for the issue in t...   \n",
       "market_category             Indicates Listing market or listing market tie...   \n",
       "financial_status_indicator  For Nasdaq listed issues, this field indicates...   \n",
       "round_lots_only             Indicates if Nasdaq system limits order entry ...   \n",
       "\n",
       "                           message_type formats  \n",
       "name                                             \n",
       "event_code                            S       s  \n",
       "stock                                 R      8s  \n",
       "market_category                       R       s  \n",
       "financial_status_indicator            R       s  \n",
       "round_lots_only                       R       s  "
      ]
     },
     "execution_count": 78,
     "metadata": {},
     "output_type": "execute_result"
    }
   ],
   "source": [
    "alpha_fields.head()"
   ]
  },
  {
   "cell_type": "markdown",
   "metadata": {
    "pycharm": {
     "name": "#%% md\n"
    }
   },
   "source": [
    "Fields of `alpha` type (alphanumeric) require post-processing as defined in the `format_alpha` function:"
   ]
  },
  {
   "cell_type": "code",
   "execution_count": 79,
   "metadata": {
    "ExecuteTime": {
     "end_time": "2021-09-10T19:16:55.983873Z",
     "start_time": "2021-09-10T19:16:55.977708Z"
    },
    "pycharm": {
     "name": "#%%\n"
    }
   },
   "outputs": [],
   "source": [
    "# 清洗数据，转换数据格式\n",
    "def format_alpha(mtype, data):\n",
    "    \"\"\"Process byte strings of type alpha\"\"\"\n",
    "\n",
    "    for col in alpha_formats.get(mtype).keys():\n",
    "        if mtype != 'R' and col == 'stock':\n",
    "            data = data.drop(col, axis=1)\n",
    "            continue\n",
    "        data.loc[:, col] = data.loc[:, col].str.decode(\"utf-8\").str.strip()\n",
    "        if encoding.get(col):\n",
    "            data.loc[:, col] = data.loc[:, col].map(encoding.get(col))\n",
    "    return data"
   ]
  },
  {
   "cell_type": "markdown",
   "metadata": {
    "pycharm": {
     "name": "#%% md\n"
    }
   },
   "source": [
    "## Process Binary Message Data"
   ]
  },
  {
   "cell_type": "markdown",
   "metadata": {
    "pycharm": {
     "name": "#%% md\n"
    }
   },
   "source": [
    "The binary file for a single day contains over 350,000,000 messages worth over 12 GB."
   ]
  },
  {
   "cell_type": "code",
   "execution_count": 80,
   "metadata": {
    "ExecuteTime": {
     "end_time": "2021-09-10T19:16:56.775689Z",
     "start_time": "2021-09-10T19:16:56.758297Z"
    },
    "pycharm": {
     "name": "#%%\n"
    }
   },
   "outputs": [],
   "source": [
    "def store_messages(m):\n",
    "    \"\"\"Handle occasional storing of all messages\"\"\"\n",
    "    with pd.HDFStore(itch_store) as store:\n",
    "        for mtype, data in m.items():\n",
    "            # convert to DataFrame\n",
    "            data = pd.DataFrame(data)\n",
    "\n",
    "            # parse timestamp info\n",
    "            data.timestamp = data.timestamp.apply(int.from_bytes, byteorder='big')\n",
    "            data.timestamp = pd.to_timedelta(data.timestamp)\n",
    "\n",
    "            # apply alpha formatting\n",
    "            if mtype in alpha_formats.keys():\n",
    "                data = format_alpha(mtype, data)\n",
    "\n",
    "            s = alpha_length.get(mtype)\n",
    "            if s:\n",
    "                s = {c: s.get(c) for c in data.columns}\n",
    "            dc = ['stock_locate']\n",
    "            if m == 'R':\n",
    "                dc.append('stock')\n",
    "            try:\n",
    "                store.append(mtype,\n",
    "                         data,\n",
    "                         format='t',\n",
    "                         min_itemsize=s,\n",
    "                         data_columns=dc)\n",
    "            except Exception as e:\n",
    "                print(e)\n",
    "                print(mtype)\n",
    "                print(data.info())\n",
    "                print(pd.Series(list(m.keys())).value_counts())\n",
    "                data.to_csv('data.csv', index=False)\n",
    "                return 1\n",
    "    return 0"
   ]
  },
  {
   "cell_type": "code",
   "execution_count": 81,
   "metadata": {
    "ExecuteTime": {
     "end_time": "2021-09-10T19:16:58.544775Z",
     "start_time": "2021-09-10T19:16:58.542706Z"
    },
    "pycharm": {
     "name": "#%%\n"
    }
   },
   "outputs": [],
   "source": [
    "messages = defaultdict(list)\n",
    "message_count = 0\n",
    "message_type_counter = Counter()"
   ]
  },
  {
   "cell_type": "markdown",
   "metadata": {
    "pycharm": {
     "name": "#%% md\n"
    }
   },
   "source": [
    "The script appends the parsed result iteratively to a file in the fast HDF5 format using the `store_messages()` function we just defined to avoid memory constraints (see last section in chapter 2 for more on this format)."
   ]
  },
  {
   "cell_type": "markdown",
   "metadata": {
    "pycharm": {
     "name": "#%% md\n"
    }
   },
   "source": [
    "The following code processes the binary file and produces the parsed orders stored by message type:"
   ]
  },
  {
   "cell_type": "code",
   "execution_count": 85,
   "metadata": {
    "ExecuteTime": {
     "end_time": "2021-09-10T19:47:08.996707Z",
     "start_time": "2021-09-10T19:16:59.167416Z"
    },
    "pycharm": {
     "name": "#%%\n"
    }
   },
   "outputs": [
    {
     "name": "stdout",
     "output_type": "stream",
     "text": [
      "\n",
      " Start of Messages\n",
      "\t03:02:50.64\t  11,254,173\n",
      "\n",
      " Start of System Hours\n",
      "\t04:00:00.00\t  11,491,342\n",
      "\n",
      " Start of Market Hours\n",
      "\t09:30:00.00\t  21,665,385\n",
      "\t09:31:33.35\t  25,000,000\t00:01:05.68\n",
      "\t09:53:25.17\t  50,000,000\t00:11:25.79\n",
      "\t10:23:11.90\t  75,000,000\t00:22:59.54\n",
      "\t10:56:16.63\t 100,000,000\t00:36:36.06\n",
      "\t11:32:40.11\t 125,000,000\t00:50:24.72\n",
      "\t12:13:32.26\t 150,000,000\t01:03:23.69\n",
      "\t13:01:35.55\t 175,000,000\t01:12:31.38\n",
      "\t13:52:17.00\t 200,000,000\t01:25:50.23\n",
      "\t14:35:35.38\t 225,000,000\t01:36:41.50\n",
      "\t15:22:00.12\t 250,000,000\t01:47:11.86\n",
      "\t15:53:50.33\t 275,000,000\t01:58:26.20\n",
      "\n",
      " End of Market Hours\n",
      "\t16:00:00.00\t 290,055,181\n",
      "\n",
      " End of System Hours\n",
      "\t20:00:00.00\t 293,443,787\n",
      "\n",
      " End of Messages\n",
      "\t20:05:00.00\t 293,483,856\n",
      "Duration: 02:27:14.68\n"
     ]
    }
   ],
   "source": [
    "start = time()\n",
    "with file_name.open('rb') as data:\n",
    "    while True:\n",
    "\n",
    "        # determine message size in bytes\n",
    "        message_size = int.from_bytes(data.read(2), byteorder='big', signed=False)\n",
    "        \n",
    "        # get message type by reading first byte\n",
    "        message_type = data.read(1).decode('ascii')        \n",
    "        message_type_counter.update([message_type])\n",
    "\n",
    "        # read & store message\n",
    "        try:\n",
    "            record = data.read(message_size - 1)\n",
    "            message = message_fields[message_type]._make(unpack(fstring[message_type], record))\n",
    "            messages[message_type].append(message)\n",
    "        except Exception as e:\n",
    "            print(e)\n",
    "            print(message_type)\n",
    "            print(record)\n",
    "            print(fstring[message_type])\n",
    "        \n",
    "        # deal with system events\n",
    "        if message_type == 'S':\n",
    "            seconds = int.from_bytes(message.timestamp, byteorder='big') * 1e-9\n",
    "            print('\\n', event_codes.get(message.event_code.decode('ascii'), 'Error'))\n",
    "            print(f'\\t{format_time(seconds)}\\t{message_count:12,.0f}')\n",
    "            if message.event_code.decode('ascii') == 'C':\n",
    "                store_messages(messages)\n",
    "                break\n",
    "        message_count += 1\n",
    "\n",
    "        if message_count % 2.5e7 == 0:\n",
    "            seconds = int.from_bytes(message.timestamp, byteorder='big') * 1e-9\n",
    "            d = format_time(time() - start)\n",
    "            print(f'\\t{format_time(seconds)}\\t{message_count:12,.0f}\\t{d}')\n",
    "            res = store_messages(messages)\n",
    "            if res == 1:\n",
    "                print(pd.Series(dict(message_type_counter)).sort_values())\n",
    "                break\n",
    "            messages.clear()\n",
    "\n",
    "print('Duration:', format_time(time() - start))"
   ]
  },
  {
   "cell_type": "markdown",
   "metadata": {
    "pycharm": {
     "name": "#%% md\n"
    }
   },
   "source": [
    "## Summarize Trading Day"
   ]
  },
  {
   "cell_type": "markdown",
   "metadata": {
    "pycharm": {
     "name": "#%% md\n"
    }
   },
   "source": [
    "### Trading Message Frequency"
   ]
  },
  {
   "cell_type": "code",
   "execution_count": 83,
   "metadata": {
    "ExecuteTime": {
     "end_time": "2021-09-11T00:30:52.079504Z",
     "start_time": "2021-09-11T00:30:52.061240Z"
    },
    "pycharm": {
     "name": "#%%\n"
    }
   },
   "outputs": [
    {
     "data": {
      "text/html": [
       "<div>\n",
       "<style scoped>\n",
       "    .dataframe tbody tr th:only-of-type {\n",
       "        vertical-align: middle;\n",
       "    }\n",
       "\n",
       "    .dataframe tbody tr th {\n",
       "        vertical-align: top;\n",
       "    }\n",
       "\n",
       "    .dataframe thead th {\n",
       "        text-align: right;\n",
       "    }\n",
       "</style>\n",
       "<table border=\"1\" class=\"dataframe\">\n",
       "  <thead>\n",
       "    <tr style=\"text-align: right;\">\n",
       "      <th></th>\n",
       "      <th>Message Type</th>\n",
       "      <th># Trades</th>\n",
       "    </tr>\n",
       "  </thead>\n",
       "  <tbody>\n",
       "    <tr>\n",
       "      <th>A</th>\n",
       "      <td>add_order_no_mpid_attribution</td>\n",
       "      <td>4153856</td>\n",
       "    </tr>\n",
       "    <tr>\n",
       "      <th>D</th>\n",
       "      <td>order_delete</td>\n",
       "      <td>3867721</td>\n",
       "    </tr>\n",
       "    <tr>\n",
       "      <th>I</th>\n",
       "      <td>noii</td>\n",
       "      <td>1067081</td>\n",
       "    </tr>\n",
       "    <tr>\n",
       "      <th>F</th>\n",
       "      <td>add_order_mpid_attribution</td>\n",
       "      <td>659936</td>\n",
       "    </tr>\n",
       "    <tr>\n",
       "      <th>X</th>\n",
       "      <td>order_cancel</td>\n",
       "      <td>638126</td>\n",
       "    </tr>\n",
       "    <tr>\n",
       "      <th>U</th>\n",
       "      <td>order_replace</td>\n",
       "      <td>560054</td>\n",
       "    </tr>\n",
       "    <tr>\n",
       "      <th>L</th>\n",
       "      <td>market_participant_position</td>\n",
       "      <td>210669</td>\n",
       "    </tr>\n",
       "    <tr>\n",
       "      <th>E</th>\n",
       "      <td>order_executed</td>\n",
       "      <td>46006</td>\n",
       "    </tr>\n",
       "    <tr>\n",
       "      <th>P</th>\n",
       "      <td>trade</td>\n",
       "      <td>14251</td>\n",
       "    </tr>\n",
       "    <tr>\n",
       "      <th>Y</th>\n",
       "      <td>reg_sho_short_sale_price_test_restricted_indic...</td>\n",
       "      <td>8870</td>\n",
       "    </tr>\n",
       "    <tr>\n",
       "      <th>H</th>\n",
       "      <td>stock_trading_action</td>\n",
       "      <td>8851</td>\n",
       "    </tr>\n",
       "    <tr>\n",
       "      <th>R</th>\n",
       "      <td>stock_directory</td>\n",
       "      <td>8849</td>\n",
       "    </tr>\n",
       "    <tr>\n",
       "      <th>Q</th>\n",
       "      <td>cross_trade</td>\n",
       "      <td>8849</td>\n",
       "    </tr>\n",
       "    <tr>\n",
       "      <th>C</th>\n",
       "      <td>order_executed_with_price</td>\n",
       "      <td>1051</td>\n",
       "    </tr>\n",
       "    <tr>\n",
       "      <th>S</th>\n",
       "      <td>system_event</td>\n",
       "      <td>3</td>\n",
       "    </tr>\n",
       "    <tr>\n",
       "      <th>V</th>\n",
       "      <td>market_wide_circuit_breaker_decline_level</td>\n",
       "      <td>1</td>\n",
       "    </tr>\n",
       "  </tbody>\n",
       "</table>\n",
       "</div>"
      ],
      "text/plain": [
       "                                        Message Type  # Trades\n",
       "A                      add_order_no_mpid_attribution   4153856\n",
       "D                                       order_delete   3867721\n",
       "I                                               noii   1067081\n",
       "F                         add_order_mpid_attribution    659936\n",
       "X                                       order_cancel    638126\n",
       "U                                      order_replace    560054\n",
       "L                        market_participant_position    210669\n",
       "E                                     order_executed     46006\n",
       "P                                              trade     14251\n",
       "Y  reg_sho_short_sale_price_test_restricted_indic...      8870\n",
       "H                               stock_trading_action      8851\n",
       "R                                    stock_directory      8849\n",
       "Q                                        cross_trade      8849\n",
       "C                          order_executed_with_price      1051\n",
       "S                                       system_event         3\n",
       "V          market_wide_circuit_breaker_decline_level         1"
      ]
     },
     "execution_count": 83,
     "metadata": {},
     "output_type": "execute_result"
    }
   ],
   "source": [
    "# 获取Message Type和Trade数据并降序排列\n",
    "counter = pd.Series(message_type_counter).to_frame('# Trades')\n",
    "counter['Message Type'] = counter.index.map(message_labels.set_index('message_type').name.to_dict())\n",
    "counter = counter[['Message Type', '# Trades']].sort_values('# Trades', ascending=False)\n",
    "counter"
   ]
  },
  {
   "cell_type": "code",
   "execution_count": null,
   "metadata": {
    "ExecuteTime": {
     "end_time": "2021-09-11T00:30:52.183148Z",
     "start_time": "2021-09-11T00:30:52.170958Z"
    },
    "pycharm": {
     "name": "#%%\n"
    }
   },
   "outputs": [],
   "source": [
    "with pd.HDFStore(itch_store) as store:\n",
    "    store.put('summary', counter)"
   ]
  },
  {
   "cell_type": "markdown",
   "metadata": {
    "pycharm": {
     "name": "#%% md\n"
    }
   },
   "source": [
    "### Top Equities by Traded Value"
   ]
  },
  {
   "cell_type": "code",
   "execution_count": 84,
   "metadata": {
    "ExecuteTime": {
     "end_time": "2021-09-11T00:30:56.721668Z",
     "start_time": "2021-09-11T00:30:55.211662Z"
    },
    "pycharm": {
     "name": "#%%\n"
    }
   },
   "outputs": [
    {
     "data": {
      "image/png": "[encoded data removed]",
      "text/plain": [
       "<Figure size 1008x432 with 1 Axes>"
      ]
     },
     "metadata": {},
     "output_type": "display_data"
    }
   ],
   "source": [
    "with pd.HDFStore(itch_store) as store:\n",
    "    stocks = store['R'].loc[:, ['stock_locate', 'stock']]\n",
    "    trades = store['P'].append(store['Q'].rename(columns={'cross_price': 'price'}), sort=False).merge(stocks)\n",
    "\n",
    "trades['value'] = trades.shares.mul(trades.price)\n",
    "trades['value_share'] = trades.value.div(trades.value.sum())\n",
    "\n",
    "trade_summary = trades.groupby('stock').value_share.sum().sort_values(ascending=False)\n",
    "trade_summary.iloc[:50].plot.bar(figsize=(14, 6), color='darkblue', title='Share of Traded Value')\n",
    "\n",
    "plt.gca().yaxis.set_major_formatter(FuncFormatter(lambda y, _: '{:.0%}'.format(y)))\n",
    "sns.despine()\n",
    "plt.tight_layout()"
   ]
  }
 ],
 "metadata": {
  "kernelspec": {
   "display_name": "Python 3.10.0 64-bit",
   "language": "python",
   "name": "python3"
  },
  "language_info": {
   "codemirror_mode": {
    "name": "ipython",
    "version": 3
   },
   "file_extension": ".py",
   "mimetype": "text/x-python",
   "name": "python",
   "nbconvert_exporter": "python",
   "pygments_lexer": "ipython3",
   "version": "3.10.0"
  },
  "toc": {
   "base_numbering": 1,
   "nav_menu": {},
   "number_sections": true,
   "sideBar": true,
   "skip_h1_title": true,
   "title_cell": "Table of Contents",
   "title_sidebar": "Contents",
   "toc_cell": false,
   "toc_position": {
    "height": "calc(100% - 180px)",
    "left": "10px",
    "top": "150px",
    "width": "282px"
   },
   "toc_section_display": true,
   "toc_window_display": true
  },
  "vscode": {
   "interpreter": {
    "hash": "5cd37c42876b4f863e1a7f3bcf054b486b3128a32fce90984b894e5a1d308cf5"
   }
  }
 },
 "nbformat": 4,
 "nbformat_minor": 4
}
