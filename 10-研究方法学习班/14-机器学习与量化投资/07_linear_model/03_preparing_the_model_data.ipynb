{
 "cells": [
  {
   "cell_type": "markdown",
   "metadata": {},
   "source": [
    "# Preparing Alpha Factors and Features to predict Stock Returns"
   ]
  },
  {
   "cell_type": "markdown",
   "metadata": {},
   "source": [
    "## Imports & Settings"
   ]
  },
  {
   "cell_type": "code",
   "execution_count": 1,
   "metadata": {
    "ExecuteTime": {
     "end_time": "2021-04-15T19:55:39.004078Z",
     "start_time": "2021-04-15T19:55:39.002167Z"
    }
   },
   "outputs": [],
   "source": [
    "import warnings\n",
    "warnings.filterwarnings('ignore')"
   ]
  },
  {
   "cell_type": "code",
   "execution_count": 2,
   "metadata": {
    "ExecuteTime": {
     "end_time": "2021-04-15T19:55:39.621179Z",
     "start_time": "2021-04-15T19:55:39.124560Z"
    }
   },
   "outputs": [],
   "source": [
    "%matplotlib inline\n",
    "\n",
    "import numpy as np\n",
    "import pandas as pd\n",
    "\n",
    "import matplotlib.pyplot as plt\n",
    "import seaborn as sns\n",
    "\n",
    "from scipy.stats import pearsonr, spearmanr\n",
    "from talib import RSI, BBANDS, MACD, ATR"
   ]
  },
  {
   "cell_type": "code",
   "execution_count": 3,
   "metadata": {
    "ExecuteTime": {
     "end_time": "2021-04-15T19:55:39.623839Z",
     "start_time": "2021-04-15T19:55:39.622135Z"
    }
   },
   "outputs": [],
   "source": [
    "MONTH = 21\n",
    "YEAR = 12 * MONTH"
   ]
  },
  {
   "cell_type": "code",
   "execution_count": 4,
   "metadata": {
    "ExecuteTime": {
     "end_time": "2021-04-15T19:55:39.749906Z",
     "start_time": "2021-04-15T19:55:39.748238Z"
    }
   },
   "outputs": [],
   "source": [
    "START = '2013-01-01'\n",
    "END = '2017-12-31'"
   ]
  },
  {
   "cell_type": "code",
   "execution_count": 5,
   "metadata": {
    "ExecuteTime": {
     "end_time": "2021-04-15T19:55:40.383834Z",
     "start_time": "2021-04-15T19:55:40.382005Z"
    }
   },
   "outputs": [],
   "source": [
    "sns.set_style('whitegrid')\n",
    "idx = pd.IndexSlice"
   ]
  },
  {
   "cell_type": "markdown",
   "metadata": {},
   "source": [
    "## Loading Quandl Wiki Stock Prices & Meta Data"
   ]
  },
  {
   "cell_type": "code",
   "execution_count": 6,
   "metadata": {
    "ExecuteTime": {
     "end_time": "2021-04-15T19:55:44.647048Z",
     "start_time": "2021-04-15T19:55:44.645120Z"
    }
   },
   "outputs": [],
   "source": [
    "ohlcv = ['adj_open', 'adj_close', 'adj_low', 'adj_high', 'adj_volume']"
   ]
  },
  {
   "cell_type": "code",
   "execution_count": 7,
   "metadata": {
    "ExecuteTime": {
     "end_time": "2021-04-15T19:55:44.665242Z",
     "start_time": "2021-04-15T19:55:44.650123Z"
    }
   },
   "outputs": [],
   "source": [
    "DATA_STORE = '../data/assets.h5'"
   ]
  },
  {
   "cell_type": "code",
   "execution_count": 8,
   "metadata": {
    "ExecuteTime": {
     "end_time": "2021-04-15T19:55:49.239706Z",
     "start_time": "2021-04-15T19:55:44.666616Z"
    }
   },
   "outputs": [],
   "source": [
    "with pd.HDFStore(DATA_STORE) as store:\n",
    "    prices = (store['quandl/wiki/prices']\n",
    "              .loc[idx[START:END, :], ohlcv]\n",
    "              .rename(columns=lambda x: x.replace('adj_', ''))\n",
    "              .assign(volume=lambda x: x.volume.div(1000))\n",
    "              .swaplevel()\n",
    "              .sort_index())\n",
    "\n",
    "    stocks = (store['us_equities/stocks']\n",
    "              .loc[:, ['marketcap', 'ipoyear', 'sector']])\n",
    "#此处的prices对应的是日频数据"
   ]
  },
  {
   "cell_type": "code",
   "execution_count": 9,
   "metadata": {
    "collapsed": true
   },
   "outputs": [
    {
     "data": {
      "text/html": [
       "<div>\n",
       "<style scoped>\n",
       "    .dataframe tbody tr th:only-of-type {\n",
       "        vertical-align: middle;\n",
       "    }\n",
       "\n",
       "    .dataframe tbody tr th {\n",
       "        vertical-align: top;\n",
       "    }\n",
       "\n",
       "    .dataframe thead th {\n",
       "        text-align: right;\n",
       "    }\n",
       "</style>\n",
       "<table border=\"1\" class=\"dataframe\">\n",
       "  <thead>\n",
       "    <tr style=\"text-align: right;\">\n",
       "      <th></th>\n",
       "      <th></th>\n",
       "      <th>open</th>\n",
       "      <th>close</th>\n",
       "      <th>low</th>\n",
       "      <th>high</th>\n",
       "      <th>volume</th>\n",
       "    </tr>\n",
       "    <tr>\n",
       "      <th>ticker</th>\n",
       "      <th>date</th>\n",
       "      <th></th>\n",
       "      <th></th>\n",
       "      <th></th>\n",
       "      <th></th>\n",
       "      <th></th>\n",
       "    </tr>\n",
       "  </thead>\n",
       "  <tbody>\n",
       "    <tr>\n",
       "      <th rowspan=\"5\" valign=\"top\">A</th>\n",
       "      <th>2013-01-02</th>\n",
       "      <td>29.054711</td>\n",
       "      <td>28.854904</td>\n",
       "      <td>28.351942</td>\n",
       "      <td>29.054711</td>\n",
       "      <td>6287.700</td>\n",
       "    </tr>\n",
       "    <tr>\n",
       "      <th>2013-01-03</th>\n",
       "      <td>28.896244</td>\n",
       "      <td>28.958253</td>\n",
       "      <td>28.648276</td>\n",
       "      <td>29.034042</td>\n",
       "      <td>4114.300</td>\n",
       "    </tr>\n",
       "    <tr>\n",
       "      <th>2013-01-04</th>\n",
       "      <td>29.034042</td>\n",
       "      <td>29.530115</td>\n",
       "      <td>28.841124</td>\n",
       "      <td>29.592124</td>\n",
       "      <td>4601.500</td>\n",
       "    </tr>\n",
       "    <tr>\n",
       "      <th>2013-01-07</th>\n",
       "      <td>29.350977</td>\n",
       "      <td>29.316528</td>\n",
       "      <td>29.199399</td>\n",
       "      <td>29.488775</td>\n",
       "      <td>2567.600</td>\n",
       "    </tr>\n",
       "    <tr>\n",
       "      <th>2013-01-08</th>\n",
       "      <td>29.261408</td>\n",
       "      <td>29.082271</td>\n",
       "      <td>29.006482</td>\n",
       "      <td>29.474995</td>\n",
       "      <td>2787.500</td>\n",
       "    </tr>\n",
       "    <tr>\n",
       "      <th>...</th>\n",
       "      <th>...</th>\n",
       "      <td>...</td>\n",
       "      <td>...</td>\n",
       "      <td>...</td>\n",
       "      <td>...</td>\n",
       "      <td>...</td>\n",
       "    </tr>\n",
       "    <tr>\n",
       "      <th rowspan=\"5\" valign=\"top\">ZUMZ</th>\n",
       "      <th>2017-12-22</th>\n",
       "      <td>21.550000</td>\n",
       "      <td>21.450000</td>\n",
       "      <td>21.300000</td>\n",
       "      <td>21.700000</td>\n",
       "      <td>209.585</td>\n",
       "    </tr>\n",
       "    <tr>\n",
       "      <th>2017-12-26</th>\n",
       "      <td>21.450000</td>\n",
       "      <td>21.850000</td>\n",
       "      <td>21.450000</td>\n",
       "      <td>22.200000</td>\n",
       "      <td>213.951</td>\n",
       "    </tr>\n",
       "    <tr>\n",
       "      <th>2017-12-27</th>\n",
       "      <td>21.800000</td>\n",
       "      <td>21.150000</td>\n",
       "      <td>20.950000</td>\n",
       "      <td>22.250000</td>\n",
       "      <td>227.325</td>\n",
       "    </tr>\n",
       "    <tr>\n",
       "      <th>2017-12-28</th>\n",
       "      <td>21.200000</td>\n",
       "      <td>21.200000</td>\n",
       "      <td>21.050000</td>\n",
       "      <td>21.450000</td>\n",
       "      <td>162.070</td>\n",
       "    </tr>\n",
       "    <tr>\n",
       "      <th>2017-12-29</th>\n",
       "      <td>21.250000</td>\n",
       "      <td>20.825000</td>\n",
       "      <td>20.800000</td>\n",
       "      <td>21.450000</td>\n",
       "      <td>222.040</td>\n",
       "    </tr>\n",
       "  </tbody>\n",
       "</table>\n",
       "<p>3619403 rows × 5 columns</p>\n",
       "</div>"
      ],
      "text/plain": [
       "                        open      close        low       high    volume\n",
       "ticker date                                                            \n",
       "A      2013-01-02  29.054711  28.854904  28.351942  29.054711  6287.700\n",
       "       2013-01-03  28.896244  28.958253  28.648276  29.034042  4114.300\n",
       "       2013-01-04  29.034042  29.530115  28.841124  29.592124  4601.500\n",
       "       2013-01-07  29.350977  29.316528  29.199399  29.488775  2567.600\n",
       "       2013-01-08  29.261408  29.082271  29.006482  29.474995  2787.500\n",
       "...                      ...        ...        ...        ...       ...\n",
       "ZUMZ   2017-12-22  21.550000  21.450000  21.300000  21.700000   209.585\n",
       "       2017-12-26  21.450000  21.850000  21.450000  22.200000   213.951\n",
       "       2017-12-27  21.800000  21.150000  20.950000  22.250000   227.325\n",
       "       2017-12-28  21.200000  21.200000  21.050000  21.450000   162.070\n",
       "       2017-12-29  21.250000  20.825000  20.800000  21.450000   222.040\n",
       "\n",
       "[3619403 rows x 5 columns]"
      ]
     },
     "execution_count": 9,
     "metadata": {},
     "output_type": "execute_result"
    }
   ],
   "source": [
    "prices"
   ]
  },
  {
   "cell_type": "code",
   "execution_count": 10,
   "metadata": {
    "collapsed": true
   },
   "outputs": [
    {
     "data": {
      "text/html": [
       "<div>\n",
       "<style scoped>\n",
       "    .dataframe tbody tr th:only-of-type {\n",
       "        vertical-align: middle;\n",
       "    }\n",
       "\n",
       "    .dataframe tbody tr th {\n",
       "        vertical-align: top;\n",
       "    }\n",
       "\n",
       "    .dataframe thead th {\n",
       "        text-align: right;\n",
       "    }\n",
       "</style>\n",
       "<table border=\"1\" class=\"dataframe\">\n",
       "  <thead>\n",
       "    <tr style=\"text-align: right;\">\n",
       "      <th></th>\n",
       "      <th>marketcap</th>\n",
       "      <th>ipoyear</th>\n",
       "      <th>sector</th>\n",
       "    </tr>\n",
       "    <tr>\n",
       "      <th>ticker</th>\n",
       "      <th></th>\n",
       "      <th></th>\n",
       "      <th></th>\n",
       "    </tr>\n",
       "  </thead>\n",
       "  <tbody>\n",
       "    <tr>\n",
       "      <th>PIH</th>\n",
       "      <td>4.309000e+07</td>\n",
       "      <td>2014.0</td>\n",
       "      <td>Finance</td>\n",
       "    </tr>\n",
       "    <tr>\n",
       "      <th>PIHPP</th>\n",
       "      <td>NaN</td>\n",
       "      <td>NaN</td>\n",
       "      <td>Finance</td>\n",
       "    </tr>\n",
       "    <tr>\n",
       "      <th>TURN</th>\n",
       "      <td>7.033000e+07</td>\n",
       "      <td>NaN</td>\n",
       "      <td>Finance</td>\n",
       "    </tr>\n",
       "    <tr>\n",
       "      <th>FLWS</th>\n",
       "      <td>8.333900e+08</td>\n",
       "      <td>1999.0</td>\n",
       "      <td>Consumer Services</td>\n",
       "    </tr>\n",
       "    <tr>\n",
       "      <th>FCCY</th>\n",
       "      <td>1.781400e+08</td>\n",
       "      <td>NaN</td>\n",
       "      <td>Finance</td>\n",
       "    </tr>\n",
       "    <tr>\n",
       "      <th>...</th>\n",
       "      <td>...</td>\n",
       "      <td>...</td>\n",
       "      <td>...</td>\n",
       "    </tr>\n",
       "    <tr>\n",
       "      <th>ZOES</th>\n",
       "      <td>1.974000e+08</td>\n",
       "      <td>2014.0</td>\n",
       "      <td>Consumer Services</td>\n",
       "    </tr>\n",
       "    <tr>\n",
       "      <th>ZTS</th>\n",
       "      <td>4.165000e+10</td>\n",
       "      <td>2013.0</td>\n",
       "      <td>Health Care</td>\n",
       "    </tr>\n",
       "    <tr>\n",
       "      <th>ZTO</th>\n",
       "      <td>1.434000e+10</td>\n",
       "      <td>2016.0</td>\n",
       "      <td>Transportation</td>\n",
       "    </tr>\n",
       "    <tr>\n",
       "      <th>ZUO</th>\n",
       "      <td>3.040000e+09</td>\n",
       "      <td>2018.0</td>\n",
       "      <td>Technology</td>\n",
       "    </tr>\n",
       "    <tr>\n",
       "      <th>ZYME</th>\n",
       "      <td>4.868100e+08</td>\n",
       "      <td>2017.0</td>\n",
       "      <td>Health Care</td>\n",
       "    </tr>\n",
       "  </tbody>\n",
       "</table>\n",
       "<p>6834 rows × 3 columns</p>\n",
       "</div>"
      ],
      "text/plain": [
       "           marketcap  ipoyear             sector\n",
       "ticker                                          \n",
       "PIH     4.309000e+07   2014.0            Finance\n",
       "PIHPP            NaN      NaN            Finance\n",
       "TURN    7.033000e+07      NaN            Finance\n",
       "FLWS    8.333900e+08   1999.0  Consumer Services\n",
       "FCCY    1.781400e+08      NaN            Finance\n",
       "...              ...      ...                ...\n",
       "ZOES    1.974000e+08   2014.0  Consumer Services\n",
       "ZTS     4.165000e+10   2013.0        Health Care\n",
       "ZTO     1.434000e+10   2016.0     Transportation\n",
       "ZUO     3.040000e+09   2018.0         Technology\n",
       "ZYME    4.868100e+08   2017.0        Health Care\n",
       "\n",
       "[6834 rows x 3 columns]"
      ]
     },
     "execution_count": 10,
     "metadata": {},
     "output_type": "execute_result"
    }
   ],
   "source": [
    "stocks"
   ]
  },
  {
   "cell_type": "markdown",
   "metadata": {},
   "source": [
    "## Remove stocks with few observations"
   ]
  },
  {
   "cell_type": "code",
   "execution_count": 11,
   "metadata": {
    "ExecuteTime": {
     "end_time": "2021-04-15T19:58:51.241695Z",
     "start_time": "2021-04-15T19:55:49.240874Z"
    }
   },
   "outputs": [],
   "source": [
    "# want at least 2 years of data\n",
    "min_obs = 2 * YEAR\n",
    "\n",
    "# have this much per ticker \n",
    "nobs = prices.groupby(level='ticker').size() #size计数时包含NaN值，而count不包含NaN值 #nobs为ticker所对应的个数\n",
    "\n",
    "# keep those that exceed the limit\n",
    "keep = nobs[nobs > min_obs].index #筛选出至少有两年数据的股票的ticker\n",
    "\n",
    "prices = prices.loc[idx[keep, :], :]"
   ]
  },
  {
   "cell_type": "code",
   "execution_count": 19,
   "metadata": {
    "collapsed": true
   },
   "outputs": [
    {
     "data": {
      "text/html": [
       "<div>\n",
       "<style scoped>\n",
       "    .dataframe tbody tr th:only-of-type {\n",
       "        vertical-align: middle;\n",
       "    }\n",
       "\n",
       "    .dataframe tbody tr th {\n",
       "        vertical-align: top;\n",
       "    }\n",
       "\n",
       "    .dataframe thead th {\n",
       "        text-align: right;\n",
       "    }\n",
       "</style>\n",
       "<table border=\"1\" class=\"dataframe\">\n",
       "  <thead>\n",
       "    <tr style=\"text-align: right;\">\n",
       "      <th></th>\n",
       "      <th></th>\n",
       "      <th>open</th>\n",
       "      <th>close</th>\n",
       "      <th>low</th>\n",
       "      <th>high</th>\n",
       "      <th>volume</th>\n",
       "    </tr>\n",
       "    <tr>\n",
       "      <th>ticker</th>\n",
       "      <th>date</th>\n",
       "      <th></th>\n",
       "      <th></th>\n",
       "      <th></th>\n",
       "      <th></th>\n",
       "      <th></th>\n",
       "    </tr>\n",
       "  </thead>\n",
       "  <tbody>\n",
       "    <tr>\n",
       "      <th rowspan=\"5\" valign=\"top\">A</th>\n",
       "      <th>2013-01-02</th>\n",
       "      <td>29.054711</td>\n",
       "      <td>28.854904</td>\n",
       "      <td>28.351942</td>\n",
       "      <td>29.054711</td>\n",
       "      <td>6287.700</td>\n",
       "    </tr>\n",
       "    <tr>\n",
       "      <th>2013-01-03</th>\n",
       "      <td>28.896244</td>\n",
       "      <td>28.958253</td>\n",
       "      <td>28.648276</td>\n",
       "      <td>29.034042</td>\n",
       "      <td>4114.300</td>\n",
       "    </tr>\n",
       "    <tr>\n",
       "      <th>2013-01-04</th>\n",
       "      <td>29.034042</td>\n",
       "      <td>29.530115</td>\n",
       "      <td>28.841124</td>\n",
       "      <td>29.592124</td>\n",
       "      <td>4601.500</td>\n",
       "    </tr>\n",
       "    <tr>\n",
       "      <th>2013-01-07</th>\n",
       "      <td>29.350977</td>\n",
       "      <td>29.316528</td>\n",
       "      <td>29.199399</td>\n",
       "      <td>29.488775</td>\n",
       "      <td>2567.600</td>\n",
       "    </tr>\n",
       "    <tr>\n",
       "      <th>2013-01-08</th>\n",
       "      <td>29.261408</td>\n",
       "      <td>29.082271</td>\n",
       "      <td>29.006482</td>\n",
       "      <td>29.474995</td>\n",
       "      <td>2787.500</td>\n",
       "    </tr>\n",
       "    <tr>\n",
       "      <th>...</th>\n",
       "      <th>...</th>\n",
       "      <td>...</td>\n",
       "      <td>...</td>\n",
       "      <td>...</td>\n",
       "      <td>...</td>\n",
       "      <td>...</td>\n",
       "    </tr>\n",
       "    <tr>\n",
       "      <th rowspan=\"5\" valign=\"top\">ZUMZ</th>\n",
       "      <th>2017-12-22</th>\n",
       "      <td>21.550000</td>\n",
       "      <td>21.450000</td>\n",
       "      <td>21.300000</td>\n",
       "      <td>21.700000</td>\n",
       "      <td>209.585</td>\n",
       "    </tr>\n",
       "    <tr>\n",
       "      <th>2017-12-26</th>\n",
       "      <td>21.450000</td>\n",
       "      <td>21.850000</td>\n",
       "      <td>21.450000</td>\n",
       "      <td>22.200000</td>\n",
       "      <td>213.951</td>\n",
       "    </tr>\n",
       "    <tr>\n",
       "      <th>2017-12-27</th>\n",
       "      <td>21.800000</td>\n",
       "      <td>21.150000</td>\n",
       "      <td>20.950000</td>\n",
       "      <td>22.250000</td>\n",
       "      <td>227.325</td>\n",
       "    </tr>\n",
       "    <tr>\n",
       "      <th>2017-12-28</th>\n",
       "      <td>21.200000</td>\n",
       "      <td>21.200000</td>\n",
       "      <td>21.050000</td>\n",
       "      <td>21.450000</td>\n",
       "      <td>162.070</td>\n",
       "    </tr>\n",
       "    <tr>\n",
       "      <th>2017-12-29</th>\n",
       "      <td>21.250000</td>\n",
       "      <td>20.825000</td>\n",
       "      <td>20.800000</td>\n",
       "      <td>21.450000</td>\n",
       "      <td>222.040</td>\n",
       "    </tr>\n",
       "  </tbody>\n",
       "</table>\n",
       "<p>3566454 rows × 5 columns</p>\n",
       "</div>"
      ],
      "text/plain": [
       "                        open      close        low       high    volume\n",
       "ticker date                                                            \n",
       "A      2013-01-02  29.054711  28.854904  28.351942  29.054711  6287.700\n",
       "       2013-01-03  28.896244  28.958253  28.648276  29.034042  4114.300\n",
       "       2013-01-04  29.034042  29.530115  28.841124  29.592124  4601.500\n",
       "       2013-01-07  29.350977  29.316528  29.199399  29.488775  2567.600\n",
       "       2013-01-08  29.261408  29.082271  29.006482  29.474995  2787.500\n",
       "...                      ...        ...        ...        ...       ...\n",
       "ZUMZ   2017-12-22  21.550000  21.450000  21.300000  21.700000   209.585\n",
       "       2017-12-26  21.450000  21.850000  21.450000  22.200000   213.951\n",
       "       2017-12-27  21.800000  21.150000  20.950000  22.250000   227.325\n",
       "       2017-12-28  21.200000  21.200000  21.050000  21.450000   162.070\n",
       "       2017-12-29  21.250000  20.825000  20.800000  21.450000   222.040\n",
       "\n",
       "[3566454 rows x 5 columns]"
      ]
     },
     "execution_count": 19,
     "metadata": {},
     "output_type": "execute_result"
    }
   ],
   "source": [
    "prices"
   ]
  },
  {
   "cell_type": "markdown",
   "metadata": {},
   "source": [
    "### Align price and meta data"
   ]
  },
  {
   "cell_type": "code",
   "execution_count": 21,
   "metadata": {
    "ExecuteTime": {
     "end_time": "2021-04-15T19:58:51.249517Z",
     "start_time": "2021-04-15T19:58:51.242718Z"
    }
   },
   "outputs": [],
   "source": [
    "stocks = stocks[~stocks.index.duplicated() & stocks.sector.notnull()] #取非重复值与非空值\n",
    "stocks.sector = stocks.sector.str.lower().str.replace(' ', '_') #把sector中大写字母转换为小写，并将 替换为_\n",
    "stocks.index.name = 'ticker' #更改index的name"
   ]
  },
  {
   "cell_type": "code",
   "execution_count": 22,
   "metadata": {
    "ExecuteTime": {
     "end_time": "2021-04-15T20:00:14.800393Z",
     "start_time": "2021-04-15T19:58:51.250432Z"
    }
   },
   "outputs": [],
   "source": [
    "shared = (prices.index.get_level_values('ticker').unique() #get_level_values()取子目录\n",
    "          .intersection(stocks.index)) #求prices与stocks中index的交集\n",
    "stocks = stocks.loc[shared, :]\n",
    "prices = prices.loc[idx[shared, :], :]"
   ]
  },
  {
   "cell_type": "code",
   "execution_count": 25,
   "metadata": {
    "ExecuteTime": {
     "end_time": "2021-04-15T20:00:14.865929Z",
     "start_time": "2021-04-15T20:00:14.801253Z"
    },
    "collapsed": true
   },
   "outputs": [
    {
     "name": "stdout",
     "output_type": "stream",
     "text": [
      "<class 'pandas.core.frame.DataFrame'>\n",
      "MultiIndex: 2904233 entries, ('A', Timestamp('2013-01-02 00:00:00')) to ('ZUMZ', Timestamp('2017-12-29 00:00:00'))\n",
      "Data columns (total 5 columns):\n",
      " #   Column  Non-Null Count    Dtype  \n",
      "---  ------  --------------    -----  \n",
      " 0   open    2904233 non-null  float64\n",
      " 1   close   2904233 non-null  float64\n",
      " 2   low     2904233 non-null  float64\n",
      " 3   high    2904233 non-null  float64\n",
      " 4   volume  2904233 non-null  float64\n",
      "dtypes: float64(5)\n",
      "memory usage: 122.6+ MB\n"
     ]
    }
   ],
   "source": [
    "prices.info(show_counts=True)"
   ]
  },
  {
   "cell_type": "code",
   "execution_count": 26,
   "metadata": {
    "ExecuteTime": {
     "end_time": "2021-04-15T20:00:14.876541Z",
     "start_time": "2021-04-15T20:00:14.867043Z"
    },
    "collapsed": true
   },
   "outputs": [
    {
     "name": "stdout",
     "output_type": "stream",
     "text": [
      "<class 'pandas.core.frame.DataFrame'>\n",
      "Index: 2348 entries, A to ZUMZ\n",
      "Data columns (total 3 columns):\n",
      " #   Column     Non-Null Count  Dtype  \n",
      "---  ------     --------------  -----  \n",
      " 0   marketcap  2345 non-null   float64\n",
      " 1   ipoyear    1026 non-null   float64\n",
      " 2   sector     2348 non-null   object \n",
      "dtypes: float64(2), object(1)\n",
      "memory usage: 73.4+ KB\n"
     ]
    }
   ],
   "source": [
    "stocks.info(show_counts=True)"
   ]
  },
  {
   "cell_type": "code",
   "execution_count": 27,
   "metadata": {
    "ExecuteTime": {
     "end_time": "2021-04-15T20:00:14.890723Z",
     "start_time": "2021-04-15T20:00:14.878603Z"
    },
    "collapsed": true
   },
   "outputs": [
    {
     "data": {
      "text/plain": [
       "consumer_services        440\n",
       "finance                  393\n",
       "technology               297\n",
       "health_care              297\n",
       "capital_goods            227\n",
       "basic_industries         138\n",
       "consumer_non-durables    126\n",
       "energy                   123\n",
       "public_utilities         105\n",
       "consumer_durables         78\n",
       "miscellaneous             69\n",
       "transportation            55\n",
       "Name: sector, dtype: int64"
      ]
     },
     "execution_count": 27,
     "metadata": {},
     "output_type": "execute_result"
    }
   ],
   "source": [
    "stocks.sector.value_counts()"
   ]
  },
  {
   "cell_type": "markdown",
   "metadata": {},
   "source": [
    "Optional: persist intermediate results:"
   ]
  },
  {
   "cell_type": "code",
   "execution_count": 39,
   "metadata": {
    "ExecuteTime": {
     "end_time": "2021-04-15T20:00:14.898404Z",
     "start_time": "2021-04-15T20:00:14.892363Z"
    }
   },
   "outputs": [],
   "source": [
    "#保存\n",
    "with pd.HDFStore('tmp.h5') as store:\n",
    "    store.put('prices', prices)\n",
    "    store.put('stocks', stocks)"
   ]
  },
  {
   "cell_type": "code",
   "execution_count": 115,
   "metadata": {
    "ExecuteTime": {
     "end_time": "2021-04-15T20:00:14.910952Z",
     "start_time": "2021-04-15T20:00:14.899216Z"
    }
   },
   "outputs": [],
   "source": [
    "#读取\n",
    "with pd.HDFStore('tmp.h5') as store:\n",
    "    prices = store['prices']\n",
    "    stocks = store['stocks']"
   ]
  },
  {
   "cell_type": "markdown",
   "metadata": {},
   "source": [
    "## Compute Rolling Average Dollar Volume"
   ]
  },
  {
   "cell_type": "code",
   "execution_count": 116,
   "metadata": {
    "ExecuteTime": {
     "end_time": "2021-04-15T20:00:14.999567Z",
     "start_time": "2021-04-15T20:00:14.911892Z"
    }
   },
   "outputs": [],
   "source": [
    "# compute dollar volume to determine universe #dollar volume 现金交易量\n",
    "prices['dollar_vol'] = prices[['close', 'volume']].prod(axis=1) #prod()连乘"
   ]
  },
  {
   "cell_type": "code",
   "execution_count": 117,
   "metadata": {
    "ExecuteTime": {
     "end_time": "2021-04-15T20:00:15.241975Z",
     "start_time": "2021-04-15T20:00:15.000621Z"
    }
   },
   "outputs": [],
   "source": [
    "prices['dollar_vol_1m'] = (prices.dollar_vol.groupby('ticker')\n",
    "                           .rolling(window=21, level='date')\n",
    "                           .mean()).values #以月为窗口求均值"
   ]
  },
  {
   "cell_type": "code",
   "execution_count": 118,
   "metadata": {
    "ExecuteTime": {
     "end_time": "2021-04-15T20:00:15.274692Z",
     "start_time": "2021-04-15T20:00:15.242815Z"
    },
    "collapsed": true
   },
   "outputs": [
    {
     "name": "stdout",
     "output_type": "stream",
     "text": [
      "<class 'pandas.core.frame.DataFrame'>\n",
      "MultiIndex: 2904233 entries, ('A', Timestamp('2013-01-02 00:00:00')) to ('ZUMZ', Timestamp('2017-12-29 00:00:00'))\n",
      "Data columns (total 7 columns):\n",
      " #   Column         Non-Null Count    Dtype  \n",
      "---  ------         --------------    -----  \n",
      " 0   open           2904233 non-null  float64\n",
      " 1   close          2904233 non-null  float64\n",
      " 2   low            2904233 non-null  float64\n",
      " 3   high           2904233 non-null  float64\n",
      " 4   volume         2904233 non-null  float64\n",
      " 5   dollar_vol     2904233 non-null  float64\n",
      " 6   dollar_vol_1m  2857273 non-null  float64\n",
      "dtypes: float64(7)\n",
      "memory usage: 166.9+ MB\n"
     ]
    }
   ],
   "source": [
    "prices.info(show_counts=True)"
   ]
  },
  {
   "cell_type": "code",
   "execution_count": 119,
   "metadata": {
    "collapsed": true
   },
   "outputs": [
    {
     "data": {
      "text/plain": [
       "Index(['A', 'AAL', 'AAMC', 'AAN', 'AAOI', 'AAON', 'AAP', 'AAPL', 'AAT', 'AAWW',\n",
       "       ...\n",
       "       'ZEN', 'ZEUS', 'ZGNX', 'ZION', 'ZIOP', 'ZIXI', 'ZNGA', 'ZOES', 'ZTS',\n",
       "       'ZUMZ'],\n",
       "      dtype='object', name='ticker', length=2348)"
      ]
     },
     "execution_count": 119,
     "metadata": {},
     "output_type": "execute_result"
    }
   ],
   "source": [
    "prices.index.get_level_values('ticker').unique()"
   ]
  },
  {
   "cell_type": "code",
   "execution_count": 120,
   "metadata": {},
   "outputs": [
    {
     "data": {
      "text/plain": [
       "True"
      ]
     },
     "execution_count": 120,
     "metadata": {},
     "output_type": "execute_result"
    }
   ],
   "source": [
    "2348*(21-1) == 2904233-2857273"
   ]
  },
  {
   "cell_type": "code",
   "execution_count": 121,
   "metadata": {
    "ExecuteTime": {
     "end_time": "2021-04-15T20:00:15.830659Z",
     "start_time": "2021-04-15T20:00:15.275461Z"
    }
   },
   "outputs": [],
   "source": [
    "prices['dollar_vol_rank'] = (prices.groupby('date') \n",
    "                             .dollar_vol_1m #在每个交易日，对dollar_vol_lm赋予排序\n",
    "                             .rank(ascending=False)) #按降序返回数据排列"
   ]
  },
  {
   "cell_type": "code",
   "execution_count": 122,
   "metadata": {
    "ExecuteTime": {
     "end_time": "2021-04-15T20:00:15.867409Z",
     "start_time": "2021-04-15T20:00:15.831445Z"
    },
    "collapsed": true
   },
   "outputs": [
    {
     "name": "stdout",
     "output_type": "stream",
     "text": [
      "<class 'pandas.core.frame.DataFrame'>\n",
      "MultiIndex: 2904233 entries, ('A', Timestamp('2013-01-02 00:00:00')) to ('ZUMZ', Timestamp('2017-12-29 00:00:00'))\n",
      "Data columns (total 8 columns):\n",
      " #   Column           Non-Null Count    Dtype  \n",
      "---  ------           --------------    -----  \n",
      " 0   open             2904233 non-null  float64\n",
      " 1   close            2904233 non-null  float64\n",
      " 2   low              2904233 non-null  float64\n",
      " 3   high             2904233 non-null  float64\n",
      " 4   volume           2904233 non-null  float64\n",
      " 5   dollar_vol       2904233 non-null  float64\n",
      " 6   dollar_vol_1m    2857273 non-null  float64\n",
      " 7   dollar_vol_rank  2857273 non-null  float64\n",
      "dtypes: float64(8)\n",
      "memory usage: 189.1+ MB\n"
     ]
    }
   ],
   "source": [
    "prices.info(show_counts=True)"
   ]
  },
  {
   "cell_type": "code",
   "execution_count": 123,
   "metadata": {
    "collapsed": true
   },
   "outputs": [
    {
     "data": {
      "text/html": [
       "<div>\n",
       "<style scoped>\n",
       "    .dataframe tbody tr th:only-of-type {\n",
       "        vertical-align: middle;\n",
       "    }\n",
       "\n",
       "    .dataframe tbody tr th {\n",
       "        vertical-align: top;\n",
       "    }\n",
       "\n",
       "    .dataframe thead th {\n",
       "        text-align: right;\n",
       "    }\n",
       "</style>\n",
       "<table border=\"1\" class=\"dataframe\">\n",
       "  <thead>\n",
       "    <tr style=\"text-align: right;\">\n",
       "      <th></th>\n",
       "      <th></th>\n",
       "      <th>open</th>\n",
       "      <th>close</th>\n",
       "      <th>low</th>\n",
       "      <th>high</th>\n",
       "      <th>volume</th>\n",
       "      <th>dollar_vol</th>\n",
       "      <th>dollar_vol_1m</th>\n",
       "      <th>dollar_vol_rank</th>\n",
       "    </tr>\n",
       "    <tr>\n",
       "      <th>ticker</th>\n",
       "      <th>date</th>\n",
       "      <th></th>\n",
       "      <th></th>\n",
       "      <th></th>\n",
       "      <th></th>\n",
       "      <th></th>\n",
       "      <th></th>\n",
       "      <th></th>\n",
       "      <th></th>\n",
       "    </tr>\n",
       "  </thead>\n",
       "  <tbody>\n",
       "    <tr>\n",
       "      <th rowspan=\"5\" valign=\"top\">A</th>\n",
       "      <th>2013-01-02</th>\n",
       "      <td>29.054711</td>\n",
       "      <td>28.854904</td>\n",
       "      <td>28.351942</td>\n",
       "      <td>29.054711</td>\n",
       "      <td>6287.700</td>\n",
       "      <td>181430.981611</td>\n",
       "      <td>NaN</td>\n",
       "      <td>NaN</td>\n",
       "    </tr>\n",
       "    <tr>\n",
       "      <th>2013-01-03</th>\n",
       "      <td>28.896244</td>\n",
       "      <td>28.958253</td>\n",
       "      <td>28.648276</td>\n",
       "      <td>29.034042</td>\n",
       "      <td>4114.300</td>\n",
       "      <td>119142.939438</td>\n",
       "      <td>NaN</td>\n",
       "      <td>NaN</td>\n",
       "    </tr>\n",
       "    <tr>\n",
       "      <th>2013-01-04</th>\n",
       "      <td>29.034042</td>\n",
       "      <td>29.530115</td>\n",
       "      <td>28.841124</td>\n",
       "      <td>29.592124</td>\n",
       "      <td>4601.500</td>\n",
       "      <td>135882.822089</td>\n",
       "      <td>NaN</td>\n",
       "      <td>NaN</td>\n",
       "    </tr>\n",
       "    <tr>\n",
       "      <th>2013-01-07</th>\n",
       "      <td>29.350977</td>\n",
       "      <td>29.316528</td>\n",
       "      <td>29.199399</td>\n",
       "      <td>29.488775</td>\n",
       "      <td>2567.600</td>\n",
       "      <td>75273.116328</td>\n",
       "      <td>NaN</td>\n",
       "      <td>NaN</td>\n",
       "    </tr>\n",
       "    <tr>\n",
       "      <th>2013-01-08</th>\n",
       "      <td>29.261408</td>\n",
       "      <td>29.082271</td>\n",
       "      <td>29.006482</td>\n",
       "      <td>29.474995</td>\n",
       "      <td>2787.500</td>\n",
       "      <td>81066.830411</td>\n",
       "      <td>NaN</td>\n",
       "      <td>NaN</td>\n",
       "    </tr>\n",
       "    <tr>\n",
       "      <th>...</th>\n",
       "      <th>...</th>\n",
       "      <td>...</td>\n",
       "      <td>...</td>\n",
       "      <td>...</td>\n",
       "      <td>...</td>\n",
       "      <td>...</td>\n",
       "      <td>...</td>\n",
       "      <td>...</td>\n",
       "      <td>...</td>\n",
       "    </tr>\n",
       "    <tr>\n",
       "      <th rowspan=\"5\" valign=\"top\">ZUMZ</th>\n",
       "      <th>2017-12-22</th>\n",
       "      <td>21.550000</td>\n",
       "      <td>21.450000</td>\n",
       "      <td>21.300000</td>\n",
       "      <td>21.700000</td>\n",
       "      <td>209.585</td>\n",
       "      <td>4495.598250</td>\n",
       "      <td>11930.001226</td>\n",
       "      <td>1288.0</td>\n",
       "    </tr>\n",
       "    <tr>\n",
       "      <th>2017-12-26</th>\n",
       "      <td>21.450000</td>\n",
       "      <td>21.850000</td>\n",
       "      <td>21.450000</td>\n",
       "      <td>22.200000</td>\n",
       "      <td>213.951</td>\n",
       "      <td>4674.829350</td>\n",
       "      <td>11963.373076</td>\n",
       "      <td>1291.0</td>\n",
       "    </tr>\n",
       "    <tr>\n",
       "      <th>2017-12-27</th>\n",
       "      <td>21.800000</td>\n",
       "      <td>21.150000</td>\n",
       "      <td>20.950000</td>\n",
       "      <td>22.250000</td>\n",
       "      <td>227.325</td>\n",
       "      <td>4807.923750</td>\n",
       "      <td>11786.938512</td>\n",
       "      <td>1293.0</td>\n",
       "    </tr>\n",
       "    <tr>\n",
       "      <th>2017-12-28</th>\n",
       "      <td>21.200000</td>\n",
       "      <td>21.200000</td>\n",
       "      <td>21.050000</td>\n",
       "      <td>21.450000</td>\n",
       "      <td>162.070</td>\n",
       "      <td>3435.884000</td>\n",
       "      <td>11290.208650</td>\n",
       "      <td>1300.0</td>\n",
       "    </tr>\n",
       "    <tr>\n",
       "      <th>2017-12-29</th>\n",
       "      <td>21.250000</td>\n",
       "      <td>20.825000</td>\n",
       "      <td>20.800000</td>\n",
       "      <td>21.450000</td>\n",
       "      <td>222.040</td>\n",
       "      <td>4623.983000</td>\n",
       "      <td>10790.612631</td>\n",
       "      <td>1312.0</td>\n",
       "    </tr>\n",
       "  </tbody>\n",
       "</table>\n",
       "<p>2904233 rows × 8 columns</p>\n",
       "</div>"
      ],
      "text/plain": [
       "                        open      close        low       high    volume  \\\n",
       "ticker date                                                               \n",
       "A      2013-01-02  29.054711  28.854904  28.351942  29.054711  6287.700   \n",
       "       2013-01-03  28.896244  28.958253  28.648276  29.034042  4114.300   \n",
       "       2013-01-04  29.034042  29.530115  28.841124  29.592124  4601.500   \n",
       "       2013-01-07  29.350977  29.316528  29.199399  29.488775  2567.600   \n",
       "       2013-01-08  29.261408  29.082271  29.006482  29.474995  2787.500   \n",
       "...                      ...        ...        ...        ...       ...   \n",
       "ZUMZ   2017-12-22  21.550000  21.450000  21.300000  21.700000   209.585   \n",
       "       2017-12-26  21.450000  21.850000  21.450000  22.200000   213.951   \n",
       "       2017-12-27  21.800000  21.150000  20.950000  22.250000   227.325   \n",
       "       2017-12-28  21.200000  21.200000  21.050000  21.450000   162.070   \n",
       "       2017-12-29  21.250000  20.825000  20.800000  21.450000   222.040   \n",
       "\n",
       "                      dollar_vol  dollar_vol_1m  dollar_vol_rank  \n",
       "ticker date                                                       \n",
       "A      2013-01-02  181430.981611            NaN              NaN  \n",
       "       2013-01-03  119142.939438            NaN              NaN  \n",
       "       2013-01-04  135882.822089            NaN              NaN  \n",
       "       2013-01-07   75273.116328            NaN              NaN  \n",
       "       2013-01-08   81066.830411            NaN              NaN  \n",
       "...                          ...            ...              ...  \n",
       "ZUMZ   2017-12-22    4495.598250   11930.001226           1288.0  \n",
       "       2017-12-26    4674.829350   11963.373076           1291.0  \n",
       "       2017-12-27    4807.923750   11786.938512           1293.0  \n",
       "       2017-12-28    3435.884000   11290.208650           1300.0  \n",
       "       2017-12-29    4623.983000   10790.612631           1312.0  \n",
       "\n",
       "[2904233 rows x 8 columns]"
      ]
     },
     "execution_count": 123,
     "metadata": {},
     "output_type": "execute_result"
    }
   ],
   "source": [
    "prices"
   ]
  },
  {
   "cell_type": "markdown",
   "metadata": {},
   "source": [
    "## Add some Basic Factors"
   ]
  },
  {
   "cell_type": "markdown",
   "metadata": {},
   "source": [
    "### Compute the Relative Strength Index"
   ]
  },
  {
   "cell_type": "code",
   "execution_count": 124,
   "metadata": {
    "ExecuteTime": {
     "end_time": "2021-04-15T20:00:17.415535Z",
     "start_time": "2021-04-15T20:00:15.868286Z"
    }
   },
   "outputs": [],
   "source": [
    "# 相对强弱指标，值在0-100之间 #反映市场或股票的走势，高于50时定义为强，反之为弱\n",
    "prices['rsi'] = prices.groupby(level='ticker').close.apply(RSI)"
   ]
  },
  {
   "cell_type": "code",
   "execution_count": 125,
   "metadata": {
    "collapsed": true
   },
   "outputs": [
    {
     "data": {
      "text/html": [
       "<div>\n",
       "<style scoped>\n",
       "    .dataframe tbody tr th:only-of-type {\n",
       "        vertical-align: middle;\n",
       "    }\n",
       "\n",
       "    .dataframe tbody tr th {\n",
       "        vertical-align: top;\n",
       "    }\n",
       "\n",
       "    .dataframe thead th {\n",
       "        text-align: right;\n",
       "    }\n",
       "</style>\n",
       "<table border=\"1\" class=\"dataframe\">\n",
       "  <thead>\n",
       "    <tr style=\"text-align: right;\">\n",
       "      <th></th>\n",
       "      <th></th>\n",
       "      <th>open</th>\n",
       "      <th>close</th>\n",
       "      <th>low</th>\n",
       "      <th>high</th>\n",
       "      <th>volume</th>\n",
       "      <th>dollar_vol</th>\n",
       "      <th>dollar_vol_1m</th>\n",
       "      <th>dollar_vol_rank</th>\n",
       "      <th>rsi</th>\n",
       "    </tr>\n",
       "    <tr>\n",
       "      <th>ticker</th>\n",
       "      <th>date</th>\n",
       "      <th></th>\n",
       "      <th></th>\n",
       "      <th></th>\n",
       "      <th></th>\n",
       "      <th></th>\n",
       "      <th></th>\n",
       "      <th></th>\n",
       "      <th></th>\n",
       "      <th></th>\n",
       "    </tr>\n",
       "  </thead>\n",
       "  <tbody>\n",
       "    <tr>\n",
       "      <th rowspan=\"5\" valign=\"top\">A</th>\n",
       "      <th>2013-01-02</th>\n",
       "      <td>29.054711</td>\n",
       "      <td>28.854904</td>\n",
       "      <td>28.351942</td>\n",
       "      <td>29.054711</td>\n",
       "      <td>6287.700</td>\n",
       "      <td>181430.981611</td>\n",
       "      <td>NaN</td>\n",
       "      <td>NaN</td>\n",
       "      <td>NaN</td>\n",
       "    </tr>\n",
       "    <tr>\n",
       "      <th>2013-01-03</th>\n",
       "      <td>28.896244</td>\n",
       "      <td>28.958253</td>\n",
       "      <td>28.648276</td>\n",
       "      <td>29.034042</td>\n",
       "      <td>4114.300</td>\n",
       "      <td>119142.939438</td>\n",
       "      <td>NaN</td>\n",
       "      <td>NaN</td>\n",
       "      <td>NaN</td>\n",
       "    </tr>\n",
       "    <tr>\n",
       "      <th>2013-01-04</th>\n",
       "      <td>29.034042</td>\n",
       "      <td>29.530115</td>\n",
       "      <td>28.841124</td>\n",
       "      <td>29.592124</td>\n",
       "      <td>4601.500</td>\n",
       "      <td>135882.822089</td>\n",
       "      <td>NaN</td>\n",
       "      <td>NaN</td>\n",
       "      <td>NaN</td>\n",
       "    </tr>\n",
       "    <tr>\n",
       "      <th>2013-01-07</th>\n",
       "      <td>29.350977</td>\n",
       "      <td>29.316528</td>\n",
       "      <td>29.199399</td>\n",
       "      <td>29.488775</td>\n",
       "      <td>2567.600</td>\n",
       "      <td>75273.116328</td>\n",
       "      <td>NaN</td>\n",
       "      <td>NaN</td>\n",
       "      <td>NaN</td>\n",
       "    </tr>\n",
       "    <tr>\n",
       "      <th>2013-01-08</th>\n",
       "      <td>29.261408</td>\n",
       "      <td>29.082271</td>\n",
       "      <td>29.006482</td>\n",
       "      <td>29.474995</td>\n",
       "      <td>2787.500</td>\n",
       "      <td>81066.830411</td>\n",
       "      <td>NaN</td>\n",
       "      <td>NaN</td>\n",
       "      <td>NaN</td>\n",
       "    </tr>\n",
       "    <tr>\n",
       "      <th>...</th>\n",
       "      <th>...</th>\n",
       "      <td>...</td>\n",
       "      <td>...</td>\n",
       "      <td>...</td>\n",
       "      <td>...</td>\n",
       "      <td>...</td>\n",
       "      <td>...</td>\n",
       "      <td>...</td>\n",
       "      <td>...</td>\n",
       "      <td>...</td>\n",
       "    </tr>\n",
       "    <tr>\n",
       "      <th rowspan=\"5\" valign=\"top\">ZUMZ</th>\n",
       "      <th>2017-12-22</th>\n",
       "      <td>21.550000</td>\n",
       "      <td>21.450000</td>\n",
       "      <td>21.300000</td>\n",
       "      <td>21.700000</td>\n",
       "      <td>209.585</td>\n",
       "      <td>4495.598250</td>\n",
       "      <td>11930.001226</td>\n",
       "      <td>1288.0</td>\n",
       "      <td>61.077094</td>\n",
       "    </tr>\n",
       "    <tr>\n",
       "      <th>2017-12-26</th>\n",
       "      <td>21.450000</td>\n",
       "      <td>21.850000</td>\n",
       "      <td>21.450000</td>\n",
       "      <td>22.200000</td>\n",
       "      <td>213.951</td>\n",
       "      <td>4674.829350</td>\n",
       "      <td>11963.373076</td>\n",
       "      <td>1291.0</td>\n",
       "      <td>63.799097</td>\n",
       "    </tr>\n",
       "    <tr>\n",
       "      <th>2017-12-27</th>\n",
       "      <td>21.800000</td>\n",
       "      <td>21.150000</td>\n",
       "      <td>20.950000</td>\n",
       "      <td>22.250000</td>\n",
       "      <td>227.325</td>\n",
       "      <td>4807.923750</td>\n",
       "      <td>11786.938512</td>\n",
       "      <td>1293.0</td>\n",
       "      <td>56.369727</td>\n",
       "    </tr>\n",
       "    <tr>\n",
       "      <th>2017-12-28</th>\n",
       "      <td>21.200000</td>\n",
       "      <td>21.200000</td>\n",
       "      <td>21.050000</td>\n",
       "      <td>21.450000</td>\n",
       "      <td>162.070</td>\n",
       "      <td>3435.884000</td>\n",
       "      <td>11290.208650</td>\n",
       "      <td>1300.0</td>\n",
       "      <td>56.757082</td>\n",
       "    </tr>\n",
       "    <tr>\n",
       "      <th>2017-12-29</th>\n",
       "      <td>21.250000</td>\n",
       "      <td>20.825000</td>\n",
       "      <td>20.800000</td>\n",
       "      <td>21.450000</td>\n",
       "      <td>222.040</td>\n",
       "      <td>4623.983000</td>\n",
       "      <td>10790.612631</td>\n",
       "      <td>1312.0</td>\n",
       "      <td>52.959469</td>\n",
       "    </tr>\n",
       "  </tbody>\n",
       "</table>\n",
       "<p>2904233 rows × 9 columns</p>\n",
       "</div>"
      ],
      "text/plain": [
       "                        open      close        low       high    volume  \\\n",
       "ticker date                                                               \n",
       "A      2013-01-02  29.054711  28.854904  28.351942  29.054711  6287.700   \n",
       "       2013-01-03  28.896244  28.958253  28.648276  29.034042  4114.300   \n",
       "       2013-01-04  29.034042  29.530115  28.841124  29.592124  4601.500   \n",
       "       2013-01-07  29.350977  29.316528  29.199399  29.488775  2567.600   \n",
       "       2013-01-08  29.261408  29.082271  29.006482  29.474995  2787.500   \n",
       "...                      ...        ...        ...        ...       ...   \n",
       "ZUMZ   2017-12-22  21.550000  21.450000  21.300000  21.700000   209.585   \n",
       "       2017-12-26  21.450000  21.850000  21.450000  22.200000   213.951   \n",
       "       2017-12-27  21.800000  21.150000  20.950000  22.250000   227.325   \n",
       "       2017-12-28  21.200000  21.200000  21.050000  21.450000   162.070   \n",
       "       2017-12-29  21.250000  20.825000  20.800000  21.450000   222.040   \n",
       "\n",
       "                      dollar_vol  dollar_vol_1m  dollar_vol_rank        rsi  \n",
       "ticker date                                                                  \n",
       "A      2013-01-02  181430.981611            NaN              NaN        NaN  \n",
       "       2013-01-03  119142.939438            NaN              NaN        NaN  \n",
       "       2013-01-04  135882.822089            NaN              NaN        NaN  \n",
       "       2013-01-07   75273.116328            NaN              NaN        NaN  \n",
       "       2013-01-08   81066.830411            NaN              NaN        NaN  \n",
       "...                          ...            ...              ...        ...  \n",
       "ZUMZ   2017-12-22    4495.598250   11930.001226           1288.0  61.077094  \n",
       "       2017-12-26    4674.829350   11963.373076           1291.0  63.799097  \n",
       "       2017-12-27    4807.923750   11786.938512           1293.0  56.369727  \n",
       "       2017-12-28    3435.884000   11290.208650           1300.0  56.757082  \n",
       "       2017-12-29    4623.983000   10790.612631           1312.0  52.959469  \n",
       "\n",
       "[2904233 rows x 9 columns]"
      ]
     },
     "execution_count": 125,
     "metadata": {},
     "output_type": "execute_result"
    }
   ],
   "source": [
    "prices"
   ]
  },
  {
   "cell_type": "code",
   "execution_count": 126,
   "metadata": {
    "ExecuteTime": {
     "end_time": "2021-04-15T20:00:23.837323Z",
     "start_time": "2021-04-15T20:00:17.416358Z"
    },
    "collapsed": true
   },
   "outputs": [
    {
     "data": {
      "image/png": "[encoded data removed]",
      "text/plain": [
       "<Figure size 432x288 with 1 Axes>"
      ]
     },
     "metadata": {},
     "output_type": "display_data"
    }
   ],
   "source": [
    "ax = sns.distplot(prices.rsi.dropna()) #绘制直方图与密度图\n",
    "ax.axvline(30, ls='--', lw=1, c='k') #绘制垂直线\n",
    "ax.axvline(70, ls='--', lw=1, c='k')\n",
    "ax.set_title('RSI Distribution with Signal Threshold')\n",
    "plt.tight_layout();"
   ]
  },
  {
   "cell_type": "markdown",
   "metadata": {},
   "source": [
    "### Compute Bollinger Bands"
   ]
  },
  {
   "cell_type": "code",
   "execution_count": 127,
   "metadata": {
    "ExecuteTime": {
     "end_time": "2021-04-15T20:00:23.840107Z",
     "start_time": "2021-04-15T20:00:23.838143Z"
    }
   },
   "outputs": [],
   "source": [
    "def compute_bb(close):\n",
    "    high, mid, low = BBANDS(close, timeperiod=20)\n",
    "    return pd.DataFrame({'bb_high': high, 'bb_low': low}, index=close.index)"
   ]
  },
  {
   "cell_type": "code",
   "execution_count": 128,
   "metadata": {
    "ExecuteTime": {
     "end_time": "2021-04-15T20:00:26.383360Z",
     "start_time": "2021-04-15T20:00:23.841271Z"
    }
   },
   "outputs": [],
   "source": [
    "prices = (prices.join(prices\n",
    "                      .groupby(level='ticker')\n",
    "                      .close\n",
    "                      .apply(compute_bb)))"
   ]
  },
  {
   "cell_type": "code",
   "execution_count": 129,
   "metadata": {
    "collapsed": true
   },
   "outputs": [
    {
     "data": {
      "text/html": [
       "<div>\n",
       "<style scoped>\n",
       "    .dataframe tbody tr th:only-of-type {\n",
       "        vertical-align: middle;\n",
       "    }\n",
       "\n",
       "    .dataframe tbody tr th {\n",
       "        vertical-align: top;\n",
       "    }\n",
       "\n",
       "    .dataframe thead th {\n",
       "        text-align: right;\n",
       "    }\n",
       "</style>\n",
       "<table border=\"1\" class=\"dataframe\">\n",
       "  <thead>\n",
       "    <tr style=\"text-align: right;\">\n",
       "      <th></th>\n",
       "      <th></th>\n",
       "      <th>open</th>\n",
       "      <th>close</th>\n",
       "      <th>low</th>\n",
       "      <th>high</th>\n",
       "      <th>volume</th>\n",
       "      <th>dollar_vol</th>\n",
       "      <th>dollar_vol_1m</th>\n",
       "      <th>dollar_vol_rank</th>\n",
       "      <th>rsi</th>\n",
       "      <th>bb_high</th>\n",
       "      <th>bb_low</th>\n",
       "    </tr>\n",
       "    <tr>\n",
       "      <th>ticker</th>\n",
       "      <th>date</th>\n",
       "      <th></th>\n",
       "      <th></th>\n",
       "      <th></th>\n",
       "      <th></th>\n",
       "      <th></th>\n",
       "      <th></th>\n",
       "      <th></th>\n",
       "      <th></th>\n",
       "      <th></th>\n",
       "      <th></th>\n",
       "      <th></th>\n",
       "    </tr>\n",
       "  </thead>\n",
       "  <tbody>\n",
       "    <tr>\n",
       "      <th rowspan=\"5\" valign=\"top\">A</th>\n",
       "      <th>2013-01-02</th>\n",
       "      <td>29.054711</td>\n",
       "      <td>28.854904</td>\n",
       "      <td>28.351942</td>\n",
       "      <td>29.054711</td>\n",
       "      <td>6287.700</td>\n",
       "      <td>181430.981611</td>\n",
       "      <td>NaN</td>\n",
       "      <td>NaN</td>\n",
       "      <td>NaN</td>\n",
       "      <td>NaN</td>\n",
       "      <td>NaN</td>\n",
       "    </tr>\n",
       "    <tr>\n",
       "      <th>2013-01-03</th>\n",
       "      <td>28.896244</td>\n",
       "      <td>28.958253</td>\n",
       "      <td>28.648276</td>\n",
       "      <td>29.034042</td>\n",
       "      <td>4114.300</td>\n",
       "      <td>119142.939438</td>\n",
       "      <td>NaN</td>\n",
       "      <td>NaN</td>\n",
       "      <td>NaN</td>\n",
       "      <td>NaN</td>\n",
       "      <td>NaN</td>\n",
       "    </tr>\n",
       "    <tr>\n",
       "      <th>2013-01-04</th>\n",
       "      <td>29.034042</td>\n",
       "      <td>29.530115</td>\n",
       "      <td>28.841124</td>\n",
       "      <td>29.592124</td>\n",
       "      <td>4601.500</td>\n",
       "      <td>135882.822089</td>\n",
       "      <td>NaN</td>\n",
       "      <td>NaN</td>\n",
       "      <td>NaN</td>\n",
       "      <td>NaN</td>\n",
       "      <td>NaN</td>\n",
       "    </tr>\n",
       "    <tr>\n",
       "      <th>2013-01-07</th>\n",
       "      <td>29.350977</td>\n",
       "      <td>29.316528</td>\n",
       "      <td>29.199399</td>\n",
       "      <td>29.488775</td>\n",
       "      <td>2567.600</td>\n",
       "      <td>75273.116328</td>\n",
       "      <td>NaN</td>\n",
       "      <td>NaN</td>\n",
       "      <td>NaN</td>\n",
       "      <td>NaN</td>\n",
       "      <td>NaN</td>\n",
       "    </tr>\n",
       "    <tr>\n",
       "      <th>2013-01-08</th>\n",
       "      <td>29.261408</td>\n",
       "      <td>29.082271</td>\n",
       "      <td>29.006482</td>\n",
       "      <td>29.474995</td>\n",
       "      <td>2787.500</td>\n",
       "      <td>81066.830411</td>\n",
       "      <td>NaN</td>\n",
       "      <td>NaN</td>\n",
       "      <td>NaN</td>\n",
       "      <td>NaN</td>\n",
       "      <td>NaN</td>\n",
       "    </tr>\n",
       "    <tr>\n",
       "      <th>...</th>\n",
       "      <th>...</th>\n",
       "      <td>...</td>\n",
       "      <td>...</td>\n",
       "      <td>...</td>\n",
       "      <td>...</td>\n",
       "      <td>...</td>\n",
       "      <td>...</td>\n",
       "      <td>...</td>\n",
       "      <td>...</td>\n",
       "      <td>...</td>\n",
       "      <td>...</td>\n",
       "      <td>...</td>\n",
       "    </tr>\n",
       "    <tr>\n",
       "      <th rowspan=\"5\" valign=\"top\">ZUMZ</th>\n",
       "      <th>2017-12-22</th>\n",
       "      <td>21.550000</td>\n",
       "      <td>21.450000</td>\n",
       "      <td>21.300000</td>\n",
       "      <td>21.700000</td>\n",
       "      <td>209.585</td>\n",
       "      <td>4495.598250</td>\n",
       "      <td>11930.001226</td>\n",
       "      <td>1288.0</td>\n",
       "      <td>61.077094</td>\n",
       "      <td>22.086859</td>\n",
       "      <td>19.503141</td>\n",
       "    </tr>\n",
       "    <tr>\n",
       "      <th>2017-12-26</th>\n",
       "      <td>21.450000</td>\n",
       "      <td>21.850000</td>\n",
       "      <td>21.450000</td>\n",
       "      <td>22.200000</td>\n",
       "      <td>213.951</td>\n",
       "      <td>4674.829350</td>\n",
       "      <td>11963.373076</td>\n",
       "      <td>1291.0</td>\n",
       "      <td>63.799097</td>\n",
       "      <td>22.073133</td>\n",
       "      <td>19.781867</td>\n",
       "    </tr>\n",
       "    <tr>\n",
       "      <th>2017-12-27</th>\n",
       "      <td>21.800000</td>\n",
       "      <td>21.150000</td>\n",
       "      <td>20.950000</td>\n",
       "      <td>22.250000</td>\n",
       "      <td>227.325</td>\n",
       "      <td>4807.923750</td>\n",
       "      <td>11786.938512</td>\n",
       "      <td>1293.0</td>\n",
       "      <td>56.369727</td>\n",
       "      <td>22.063697</td>\n",
       "      <td>19.896303</td>\n",
       "    </tr>\n",
       "    <tr>\n",
       "      <th>2017-12-28</th>\n",
       "      <td>21.200000</td>\n",
       "      <td>21.200000</td>\n",
       "      <td>21.050000</td>\n",
       "      <td>21.450000</td>\n",
       "      <td>162.070</td>\n",
       "      <td>3435.884000</td>\n",
       "      <td>11290.208650</td>\n",
       "      <td>1300.0</td>\n",
       "      <td>56.757082</td>\n",
       "      <td>22.083536</td>\n",
       "      <td>19.911464</td>\n",
       "    </tr>\n",
       "    <tr>\n",
       "      <th>2017-12-29</th>\n",
       "      <td>21.250000</td>\n",
       "      <td>20.825000</td>\n",
       "      <td>20.800000</td>\n",
       "      <td>21.450000</td>\n",
       "      <td>222.040</td>\n",
       "      <td>4623.983000</td>\n",
       "      <td>10790.612631</td>\n",
       "      <td>1312.0</td>\n",
       "      <td>52.959469</td>\n",
       "      <td>21.972038</td>\n",
       "      <td>19.925462</td>\n",
       "    </tr>\n",
       "  </tbody>\n",
       "</table>\n",
       "<p>2904233 rows × 11 columns</p>\n",
       "</div>"
      ],
      "text/plain": [
       "                        open      close        low       high    volume  \\\n",
       "ticker date                                                               \n",
       "A      2013-01-02  29.054711  28.854904  28.351942  29.054711  6287.700   \n",
       "       2013-01-03  28.896244  28.958253  28.648276  29.034042  4114.300   \n",
       "       2013-01-04  29.034042  29.530115  28.841124  29.592124  4601.500   \n",
       "       2013-01-07  29.350977  29.316528  29.199399  29.488775  2567.600   \n",
       "       2013-01-08  29.261408  29.082271  29.006482  29.474995  2787.500   \n",
       "...                      ...        ...        ...        ...       ...   \n",
       "ZUMZ   2017-12-22  21.550000  21.450000  21.300000  21.700000   209.585   \n",
       "       2017-12-26  21.450000  21.850000  21.450000  22.200000   213.951   \n",
       "       2017-12-27  21.800000  21.150000  20.950000  22.250000   227.325   \n",
       "       2017-12-28  21.200000  21.200000  21.050000  21.450000   162.070   \n",
       "       2017-12-29  21.250000  20.825000  20.800000  21.450000   222.040   \n",
       "\n",
       "                      dollar_vol  dollar_vol_1m  dollar_vol_rank        rsi  \\\n",
       "ticker date                                                                   \n",
       "A      2013-01-02  181430.981611            NaN              NaN        NaN   \n",
       "       2013-01-03  119142.939438            NaN              NaN        NaN   \n",
       "       2013-01-04  135882.822089            NaN              NaN        NaN   \n",
       "       2013-01-07   75273.116328            NaN              NaN        NaN   \n",
       "       2013-01-08   81066.830411            NaN              NaN        NaN   \n",
       "...                          ...            ...              ...        ...   \n",
       "ZUMZ   2017-12-22    4495.598250   11930.001226           1288.0  61.077094   \n",
       "       2017-12-26    4674.829350   11963.373076           1291.0  63.799097   \n",
       "       2017-12-27    4807.923750   11786.938512           1293.0  56.369727   \n",
       "       2017-12-28    3435.884000   11290.208650           1300.0  56.757082   \n",
       "       2017-12-29    4623.983000   10790.612631           1312.0  52.959469   \n",
       "\n",
       "                     bb_high     bb_low  \n",
       "ticker date                              \n",
       "A      2013-01-02        NaN        NaN  \n",
       "       2013-01-03        NaN        NaN  \n",
       "       2013-01-04        NaN        NaN  \n",
       "       2013-01-07        NaN        NaN  \n",
       "       2013-01-08        NaN        NaN  \n",
       "...                      ...        ...  \n",
       "ZUMZ   2017-12-22  22.086859  19.503141  \n",
       "       2017-12-26  22.073133  19.781867  \n",
       "       2017-12-27  22.063697  19.896303  \n",
       "       2017-12-28  22.083536  19.911464  \n",
       "       2017-12-29  21.972038  19.925462  \n",
       "\n",
       "[2904233 rows x 11 columns]"
      ]
     },
     "execution_count": 129,
     "metadata": {},
     "output_type": "execute_result"
    }
   ],
   "source": [
    "prices"
   ]
  },
  {
   "cell_type": "code",
   "execution_count": 130,
   "metadata": {
    "ExecuteTime": {
     "end_time": "2021-04-15T20:00:26.439638Z",
     "start_time": "2021-04-15T20:00:26.384205Z"
    }
   },
   "outputs": [],
   "source": [
    "prices['bb_high'] = prices.bb_high.sub(prices.close).div(prices.bb_high).apply(np.log1p) #np.log1p将数据压缩到一个区间\n",
    "prices['bb_low'] = prices.close.sub(prices.bb_low).div(prices.close).apply(np.log1p)\n",
    "#对带的偏离比例进行标准化处理"
   ]
  },
  {
   "cell_type": "code",
   "execution_count": 131,
   "metadata": {
    "ExecuteTime": {
     "end_time": "2021-04-15T20:00:27.376121Z",
     "start_time": "2021-04-15T20:00:26.440442Z"
    },
    "collapsed": true
   },
   "outputs": [
    {
     "data": {
      "image/png": "[encoded data removed]",
      "text/plain": [
       "<Figure size 1080x360 with 2 Axes>"
      ]
     },
     "metadata": {},
     "output_type": "display_data"
    }
   ],
   "source": [
    "fig, axes = plt.subplots(ncols=2, figsize=(15, 5))\n",
    "sns.distplot(prices.loc[prices.dollar_vol_rank<100, 'bb_low'].dropna(), ax=axes[0])\n",
    "sns.distplot(prices.loc[prices.dollar_vol_rank<100, 'bb_high'].dropna(), ax=axes[1])\n",
    "plt.tight_layout();"
   ]
  },
  {
   "cell_type": "markdown",
   "metadata": {},
   "source": [
    "### Compute Average True Range"
   ]
  },
  {
   "cell_type": "code",
   "execution_count": 132,
   "metadata": {
    "ExecuteTime": {
     "end_time": "2021-04-15T20:00:27.379077Z",
     "start_time": "2021-04-15T20:00:27.377064Z"
    }
   },
   "outputs": [],
   "source": [
    "#计算平均真实波幅\n",
    "def compute_atr(stock_data):\n",
    "    df = ATR(stock_data.high, stock_data.low, \n",
    "             stock_data.close, timeperiod=14)\n",
    "    return df.sub(df.mean()).div(df.std())"
   ]
  },
  {
   "cell_type": "code",
   "execution_count": 133,
   "metadata": {
    "ExecuteTime": {
     "end_time": "2021-04-15T20:00:29.206072Z",
     "start_time": "2021-04-15T20:00:27.381072Z"
    }
   },
   "outputs": [],
   "source": [
    "prices['atr'] = (prices.groupby('ticker', group_keys=False)\n",
    "                 .apply(compute_atr))"
   ]
  },
  {
   "cell_type": "code",
   "execution_count": 134,
   "metadata": {
    "ExecuteTime": {
     "end_time": "2021-04-15T20:00:29.564498Z",
     "start_time": "2021-04-15T20:00:29.207138Z"
    },
    "collapsed": true
   },
   "outputs": [
    {
     "data": {
      "image/png": "[encoded data removed]",
      "text/plain": [
       "<Figure size 432x288 with 1 Axes>"
      ]
     },
     "metadata": {},
     "output_type": "display_data"
    }
   ],
   "source": [
    "sns.distplot(prices[prices.dollar_vol_rank<50].atr.dropna());"
   ]
  },
  {
   "cell_type": "markdown",
   "metadata": {},
   "source": [
    "### Compute Moving Average Convergence/Divergence"
   ]
  },
  {
   "cell_type": "code",
   "execution_count": 135,
   "metadata": {
    "ExecuteTime": {
     "end_time": "2021-04-15T20:00:29.567238Z",
     "start_time": "2021-04-15T20:00:29.565333Z"
    }
   },
   "outputs": [],
   "source": [
    "def compute_macd(close):\n",
    "    macd = MACD(close)[0] #取DIF值\n",
    "    return (macd - np.mean(macd))/np.std(macd) #标准化"
   ]
  },
  {
   "cell_type": "code",
   "execution_count": 136,
   "metadata": {
    "ExecuteTime": {
     "end_time": "2021-04-15T20:00:31.732532Z",
     "start_time": "2021-04-15T20:00:29.568085Z"
    }
   },
   "outputs": [],
   "source": [
    "prices['macd'] = (prices\n",
    "                  .groupby('ticker', group_keys=False)\n",
    "                  .close\n",
    "                  .apply(compute_macd))"
   ]
  },
  {
   "cell_type": "code",
   "execution_count": 137,
   "metadata": {
    "ExecuteTime": {
     "end_time": "2021-04-15T20:00:31.786384Z",
     "start_time": "2021-04-15T20:00:31.733339Z"
    },
    "collapsed": true
   },
   "outputs": [
    {
     "data": {
      "text/plain": [
       "count    2,826,749.0\n",
       "mean            -0.0\n",
       "std              1.0\n",
       "min            -10.5\n",
       "0.1%            -4.1\n",
       "1%              -2.6\n",
       "2%              -2.2\n",
       "3%              -2.0\n",
       "4%              -1.8\n",
       "5%              -1.6\n",
       "50%              0.0\n",
       "95%              1.6\n",
       "96%              1.7\n",
       "97%              1.9\n",
       "98%              2.1\n",
       "99%              2.6\n",
       "99.9%            4.0\n",
       "max              8.7\n",
       "Name: macd, dtype: object"
      ]
     },
     "execution_count": 137,
     "metadata": {},
     "output_type": "execute_result"
    }
   ],
   "source": [
    "prices.macd.describe(percentiles=[.001, .01, .02, .03, .04, .05, .95, .96, .97, .98, .99, .999]).apply(lambda x: f'{x:,.1f}')"
   ]
  },
  {
   "cell_type": "code",
   "execution_count": 138,
   "metadata": {
    "ExecuteTime": {
     "end_time": "2021-04-15T20:00:32.296633Z",
     "start_time": "2021-04-15T20:00:31.787126Z"
    },
    "collapsed": true
   },
   "outputs": [
    {
     "data": {
      "image/png": "[encoded data removed]",
      "text/plain": [
       "<Figure size 432x288 with 1 Axes>"
      ]
     },
     "metadata": {},
     "output_type": "display_data"
    }
   ],
   "source": [
    "sns.distplot(prices[prices.dollar_vol_rank<100].macd.dropna());"
   ]
  },
  {
   "cell_type": "markdown",
   "metadata": {},
   "source": [
    "## Compute Lagged Returns"
   ]
  },
  {
   "cell_type": "code",
   "execution_count": 139,
   "metadata": {
    "ExecuteTime": {
     "end_time": "2021-04-15T20:00:32.299717Z",
     "start_time": "2021-04-15T20:00:32.297649Z"
    }
   },
   "outputs": [],
   "source": [
    "lags = [1, 5, 10, 21, 42, 63]"
   ]
  },
  {
   "cell_type": "code",
   "execution_count": 140,
   "metadata": {
    "ExecuteTime": {
     "end_time": "2021-04-15T20:00:32.612953Z",
     "start_time": "2021-04-15T20:00:32.300806Z"
    },
    "collapsed": true
   },
   "outputs": [
    {
     "data": {
      "text/html": [
       "<style  type=\"text/css\" >\n",
       "</style><table id=\"T_37f85_\" ><thead>    <tr>        <th class=\"blank level0\" ></th>        <th class=\"col_heading level0 col0\" >percentiles</th>    </tr></thead><tbody>\n",
       "                <tr>\n",
       "                        <th id=\"T_37f85_level0_row0\" class=\"row_heading level0 row0\" >std</th>\n",
       "                        <td id=\"T_37f85_row0_col0\" class=\"data row0 col0\" >9.37%</td>\n",
       "            </tr>\n",
       "            <tr>\n",
       "                        <th id=\"T_37f85_level0_row1\" class=\"row_heading level0 row1\" >min</th>\n",
       "                        <td id=\"T_37f85_row1_col0\" class=\"data row1 col0\" >-87.62%</td>\n",
       "            </tr>\n",
       "            <tr>\n",
       "                        <th id=\"T_37f85_level0_row2\" class=\"row_heading level0 row2\" >0.01%</th>\n",
       "                        <td id=\"T_37f85_row2_col0\" class=\"data row2 col0\" >-33.40%</td>\n",
       "            </tr>\n",
       "            <tr>\n",
       "                        <th id=\"T_37f85_level0_row3\" class=\"row_heading level0 row3\" >0.1%</th>\n",
       "                        <td id=\"T_37f85_row3_col0\" class=\"data row3 col0\" >-14.78%</td>\n",
       "            </tr>\n",
       "            <tr>\n",
       "                        <th id=\"T_37f85_level0_row4\" class=\"row_heading level0 row4\" >1%</th>\n",
       "                        <td id=\"T_37f85_row4_col0\" class=\"data row4 col0\" >-6.52%</td>\n",
       "            </tr>\n",
       "            <tr>\n",
       "                        <th id=\"T_37f85_level0_row5\" class=\"row_heading level0 row5\" >50%</th>\n",
       "                        <td id=\"T_37f85_row5_col0\" class=\"data row5 col0\" >0.04%</td>\n",
       "            </tr>\n",
       "            <tr>\n",
       "                        <th id=\"T_37f85_level0_row6\" class=\"row_heading level0 row6\" >99%</th>\n",
       "                        <td id=\"T_37f85_row6_col0\" class=\"data row6 col0\" >6.98%</td>\n",
       "            </tr>\n",
       "            <tr>\n",
       "                        <th id=\"T_37f85_level0_row7\" class=\"row_heading level0 row7\" >99.9%</th>\n",
       "                        <td id=\"T_37f85_row7_col0\" class=\"data row7 col0\" >17.03%</td>\n",
       "            </tr>\n",
       "            <tr>\n",
       "                        <th id=\"T_37f85_level0_row8\" class=\"row_heading level0 row8\" >99.99%</th>\n",
       "                        <td id=\"T_37f85_row8_col0\" class=\"data row8 col0\" >39.25%</td>\n",
       "            </tr>\n",
       "            <tr>\n",
       "                        <th id=\"T_37f85_level0_row9\" class=\"row_heading level0 row9\" >max</th>\n",
       "                        <td id=\"T_37f85_row9_col0\" class=\"data row9 col0\" >10,280.40%</td>\n",
       "            </tr>\n",
       "    </tbody></table>"
      ],
      "text/plain": [
       "<pandas.io.formats.style.Styler at 0x2bde6616310>"
      ]
     },
     "execution_count": 140,
     "metadata": {},
     "output_type": "execute_result"
    }
   ],
   "source": [
    "returns = prices.groupby(level='ticker').close.pct_change() #计算收盘价的增长率 #!!!当期收盘价的经过pct得到的增长率其实对应的是当期的收益率\n",
    "percentiles=[.0001, .001, .01]\n",
    "percentiles+= [1-p for p in percentiles]\n",
    "returns.describe(percentiles=percentiles).iloc[2:].to_frame('percentiles').style.format(lambda x: f'{x:,.2%}')"
   ]
  },
  {
   "cell_type": "code",
   "execution_count": 141,
   "metadata": {
    "ExecuteTime": {
     "end_time": "2021-04-15T20:00:32.615958Z",
     "start_time": "2021-04-15T20:00:32.614056Z"
    }
   },
   "outputs": [],
   "source": [
    "q = 0.0001"
   ]
  },
  {
   "cell_type": "markdown",
   "metadata": {},
   "source": [
    "### Winsorize outliers"
   ]
  },
  {
   "cell_type": "code",
   "execution_count": 142,
   "metadata": {
    "ExecuteTime": {
     "end_time": "2021-04-15T20:00:34.450931Z",
     "start_time": "2021-04-15T20:00:32.617195Z"
    }
   },
   "outputs": [],
   "source": [
    "#用winsorize的方法处理离群值\n",
    "for lag in lags:\n",
    "    prices[f'return_{lag}d'] = (prices.groupby(level='ticker').close\n",
    "                                .pct_change(lag) #求当前元素与lag数前的元素的变化百分比\n",
    "                                .pipe(lambda x: x.clip(lower=x.quantile(q),\n",
    "                                                       upper=x.quantile(1 - q))) #winsorize缩尾,返回[1%,99%]排位的数据\n",
    "                                .add(1)\n",
    "                                .pow(1 / lag) #开根\n",
    "                                .sub(1)\n",
    "                                ) #得到的是收益率的日化值"
   ]
  },
  {
   "cell_type": "code",
   "execution_count": 143,
   "metadata": {
    "collapsed": true
   },
   "outputs": [
    {
     "data": {
      "text/html": [
       "<div>\n",
       "<style scoped>\n",
       "    .dataframe tbody tr th:only-of-type {\n",
       "        vertical-align: middle;\n",
       "    }\n",
       "\n",
       "    .dataframe tbody tr th {\n",
       "        vertical-align: top;\n",
       "    }\n",
       "\n",
       "    .dataframe thead th {\n",
       "        text-align: right;\n",
       "    }\n",
       "</style>\n",
       "<table border=\"1\" class=\"dataframe\">\n",
       "  <thead>\n",
       "    <tr style=\"text-align: right;\">\n",
       "      <th></th>\n",
       "      <th></th>\n",
       "      <th>open</th>\n",
       "      <th>close</th>\n",
       "      <th>low</th>\n",
       "      <th>high</th>\n",
       "      <th>volume</th>\n",
       "      <th>dollar_vol</th>\n",
       "      <th>dollar_vol_1m</th>\n",
       "      <th>dollar_vol_rank</th>\n",
       "      <th>rsi</th>\n",
       "      <th>bb_high</th>\n",
       "      <th>bb_low</th>\n",
       "      <th>atr</th>\n",
       "      <th>macd</th>\n",
       "      <th>return_1d</th>\n",
       "      <th>return_5d</th>\n",
       "      <th>return_10d</th>\n",
       "      <th>return_21d</th>\n",
       "      <th>return_42d</th>\n",
       "      <th>return_63d</th>\n",
       "    </tr>\n",
       "    <tr>\n",
       "      <th>ticker</th>\n",
       "      <th>date</th>\n",
       "      <th></th>\n",
       "      <th></th>\n",
       "      <th></th>\n",
       "      <th></th>\n",
       "      <th></th>\n",
       "      <th></th>\n",
       "      <th></th>\n",
       "      <th></th>\n",
       "      <th></th>\n",
       "      <th></th>\n",
       "      <th></th>\n",
       "      <th></th>\n",
       "      <th></th>\n",
       "      <th></th>\n",
       "      <th></th>\n",
       "      <th></th>\n",
       "      <th></th>\n",
       "      <th></th>\n",
       "      <th></th>\n",
       "    </tr>\n",
       "  </thead>\n",
       "  <tbody>\n",
       "    <tr>\n",
       "      <th rowspan=\"5\" valign=\"top\">A</th>\n",
       "      <th>2013-01-02</th>\n",
       "      <td>29.054711</td>\n",
       "      <td>28.854904</td>\n",
       "      <td>28.351942</td>\n",
       "      <td>29.054711</td>\n",
       "      <td>6287.700</td>\n",
       "      <td>181430.981611</td>\n",
       "      <td>NaN</td>\n",
       "      <td>NaN</td>\n",
       "      <td>NaN</td>\n",
       "      <td>NaN</td>\n",
       "      <td>NaN</td>\n",
       "      <td>NaN</td>\n",
       "      <td>NaN</td>\n",
       "      <td>NaN</td>\n",
       "      <td>NaN</td>\n",
       "      <td>NaN</td>\n",
       "      <td>NaN</td>\n",
       "      <td>NaN</td>\n",
       "      <td>NaN</td>\n",
       "    </tr>\n",
       "    <tr>\n",
       "      <th>2013-01-03</th>\n",
       "      <td>28.896244</td>\n",
       "      <td>28.958253</td>\n",
       "      <td>28.648276</td>\n",
       "      <td>29.034042</td>\n",
       "      <td>4114.300</td>\n",
       "      <td>119142.939438</td>\n",
       "      <td>NaN</td>\n",
       "      <td>NaN</td>\n",
       "      <td>NaN</td>\n",
       "      <td>NaN</td>\n",
       "      <td>NaN</td>\n",
       "      <td>NaN</td>\n",
       "      <td>NaN</td>\n",
       "      <td>0.003582</td>\n",
       "      <td>NaN</td>\n",
       "      <td>NaN</td>\n",
       "      <td>NaN</td>\n",
       "      <td>NaN</td>\n",
       "      <td>NaN</td>\n",
       "    </tr>\n",
       "    <tr>\n",
       "      <th>2013-01-04</th>\n",
       "      <td>29.034042</td>\n",
       "      <td>29.530115</td>\n",
       "      <td>28.841124</td>\n",
       "      <td>29.592124</td>\n",
       "      <td>4601.500</td>\n",
       "      <td>135882.822089</td>\n",
       "      <td>NaN</td>\n",
       "      <td>NaN</td>\n",
       "      <td>NaN</td>\n",
       "      <td>NaN</td>\n",
       "      <td>NaN</td>\n",
       "      <td>NaN</td>\n",
       "      <td>NaN</td>\n",
       "      <td>0.019748</td>\n",
       "      <td>NaN</td>\n",
       "      <td>NaN</td>\n",
       "      <td>NaN</td>\n",
       "      <td>NaN</td>\n",
       "      <td>NaN</td>\n",
       "    </tr>\n",
       "    <tr>\n",
       "      <th>2013-01-07</th>\n",
       "      <td>29.350977</td>\n",
       "      <td>29.316528</td>\n",
       "      <td>29.199399</td>\n",
       "      <td>29.488775</td>\n",
       "      <td>2567.600</td>\n",
       "      <td>75273.116328</td>\n",
       "      <td>NaN</td>\n",
       "      <td>NaN</td>\n",
       "      <td>NaN</td>\n",
       "      <td>NaN</td>\n",
       "      <td>NaN</td>\n",
       "      <td>NaN</td>\n",
       "      <td>NaN</td>\n",
       "      <td>-0.007233</td>\n",
       "      <td>NaN</td>\n",
       "      <td>NaN</td>\n",
       "      <td>NaN</td>\n",
       "      <td>NaN</td>\n",
       "      <td>NaN</td>\n",
       "    </tr>\n",
       "    <tr>\n",
       "      <th>2013-01-08</th>\n",
       "      <td>29.261408</td>\n",
       "      <td>29.082271</td>\n",
       "      <td>29.006482</td>\n",
       "      <td>29.474995</td>\n",
       "      <td>2787.500</td>\n",
       "      <td>81066.830411</td>\n",
       "      <td>NaN</td>\n",
       "      <td>NaN</td>\n",
       "      <td>NaN</td>\n",
       "      <td>NaN</td>\n",
       "      <td>NaN</td>\n",
       "      <td>NaN</td>\n",
       "      <td>NaN</td>\n",
       "      <td>-0.007991</td>\n",
       "      <td>NaN</td>\n",
       "      <td>NaN</td>\n",
       "      <td>NaN</td>\n",
       "      <td>NaN</td>\n",
       "      <td>NaN</td>\n",
       "    </tr>\n",
       "    <tr>\n",
       "      <th>...</th>\n",
       "      <th>...</th>\n",
       "      <td>...</td>\n",
       "      <td>...</td>\n",
       "      <td>...</td>\n",
       "      <td>...</td>\n",
       "      <td>...</td>\n",
       "      <td>...</td>\n",
       "      <td>...</td>\n",
       "      <td>...</td>\n",
       "      <td>...</td>\n",
       "      <td>...</td>\n",
       "      <td>...</td>\n",
       "      <td>...</td>\n",
       "      <td>...</td>\n",
       "      <td>...</td>\n",
       "      <td>...</td>\n",
       "      <td>...</td>\n",
       "      <td>...</td>\n",
       "      <td>...</td>\n",
       "      <td>...</td>\n",
       "    </tr>\n",
       "    <tr>\n",
       "      <th rowspan=\"5\" valign=\"top\">ZUMZ</th>\n",
       "      <th>2017-12-22</th>\n",
       "      <td>21.550000</td>\n",
       "      <td>21.450000</td>\n",
       "      <td>21.300000</td>\n",
       "      <td>21.700000</td>\n",
       "      <td>209.585</td>\n",
       "      <td>4495.598250</td>\n",
       "      <td>11930.001226</td>\n",
       "      <td>1288.0</td>\n",
       "      <td>61.077094</td>\n",
       "      <td>0.028426</td>\n",
       "      <td>0.086877</td>\n",
       "      <td>-0.419131</td>\n",
       "      <td>0.851425</td>\n",
       "      <td>-0.002326</td>\n",
       "      <td>0.013086</td>\n",
       "      <td>0.001173</td>\n",
       "      <td>0.006812</td>\n",
       "      <td>0.004653</td>\n",
       "      <td>0.004222</td>\n",
       "    </tr>\n",
       "    <tr>\n",
       "      <th>2017-12-26</th>\n",
       "      <td>21.450000</td>\n",
       "      <td>21.850000</td>\n",
       "      <td>21.450000</td>\n",
       "      <td>22.200000</td>\n",
       "      <td>213.951</td>\n",
       "      <td>4674.829350</td>\n",
       "      <td>11963.373076</td>\n",
       "      <td>1291.0</td>\n",
       "      <td>63.799097</td>\n",
       "      <td>0.010058</td>\n",
       "      <td>0.090436</td>\n",
       "      <td>-0.450751</td>\n",
       "      <td>0.889373</td>\n",
       "      <td>0.018648</td>\n",
       "      <td>0.005112</td>\n",
       "      <td>0.004215</td>\n",
       "      <td>0.006552</td>\n",
       "      <td>0.004759</td>\n",
       "      <td>0.004086</td>\n",
       "    </tr>\n",
       "    <tr>\n",
       "      <th>2017-12-27</th>\n",
       "      <td>21.800000</td>\n",
       "      <td>21.150000</td>\n",
       "      <td>20.950000</td>\n",
       "      <td>22.250000</td>\n",
       "      <td>227.325</td>\n",
       "      <td>4807.923750</td>\n",
       "      <td>11786.938512</td>\n",
       "      <td>1293.0</td>\n",
       "      <td>56.369727</td>\n",
       "      <td>0.040577</td>\n",
       "      <td>0.057586</td>\n",
       "      <td>-0.282948</td>\n",
       "      <td>0.832724</td>\n",
       "      <td>-0.032037</td>\n",
       "      <td>-0.000472</td>\n",
       "      <td>0.002882</td>\n",
       "      <td>0.004617</td>\n",
       "      <td>0.003781</td>\n",
       "      <td>0.003757</td>\n",
       "    </tr>\n",
       "    <tr>\n",
       "      <th>2017-12-28</th>\n",
       "      <td>21.200000</td>\n",
       "      <td>21.200000</td>\n",
       "      <td>21.050000</td>\n",
       "      <td>21.450000</td>\n",
       "      <td>162.070</td>\n",
       "      <td>3435.884000</td>\n",
       "      <td>11290.208650</td>\n",
       "      <td>1300.0</td>\n",
       "      <td>56.757082</td>\n",
       "      <td>0.039229</td>\n",
       "      <td>0.059005</td>\n",
       "      <td>-0.449763</td>\n",
       "      <td>0.784419</td>\n",
       "      <td>0.002364</td>\n",
       "      <td>0.000000</td>\n",
       "      <td>0.004100</td>\n",
       "      <td>0.002540</td>\n",
       "      <td>0.003249</td>\n",
       "      <td>0.002958</td>\n",
       "    </tr>\n",
       "    <tr>\n",
       "      <th>2017-12-29</th>\n",
       "      <td>21.250000</td>\n",
       "      <td>20.825000</td>\n",
       "      <td>20.800000</td>\n",
       "      <td>21.450000</td>\n",
       "      <td>222.040</td>\n",
       "      <td>4623.983000</td>\n",
       "      <td>10790.612631</td>\n",
       "      <td>1312.0</td>\n",
       "      <td>52.959469</td>\n",
       "      <td>0.050887</td>\n",
       "      <td>0.042288</td>\n",
       "      <td>-0.515043</td>\n",
       "      <td>0.696842</td>\n",
       "      <td>-0.017689</td>\n",
       "      <td>-0.006359</td>\n",
       "      <td>0.004050</td>\n",
       "      <td>-0.000057</td>\n",
       "      <td>0.003544</td>\n",
       "      <td>0.002674</td>\n",
       "    </tr>\n",
       "  </tbody>\n",
       "</table>\n",
       "<p>2904233 rows × 19 columns</p>\n",
       "</div>"
      ],
      "text/plain": [
       "                        open      close        low       high    volume  \\\n",
       "ticker date                                                               \n",
       "A      2013-01-02  29.054711  28.854904  28.351942  29.054711  6287.700   \n",
       "       2013-01-03  28.896244  28.958253  28.648276  29.034042  4114.300   \n",
       "       2013-01-04  29.034042  29.530115  28.841124  29.592124  4601.500   \n",
       "       2013-01-07  29.350977  29.316528  29.199399  29.488775  2567.600   \n",
       "       2013-01-08  29.261408  29.082271  29.006482  29.474995  2787.500   \n",
       "...                      ...        ...        ...        ...       ...   \n",
       "ZUMZ   2017-12-22  21.550000  21.450000  21.300000  21.700000   209.585   \n",
       "       2017-12-26  21.450000  21.850000  21.450000  22.200000   213.951   \n",
       "       2017-12-27  21.800000  21.150000  20.950000  22.250000   227.325   \n",
       "       2017-12-28  21.200000  21.200000  21.050000  21.450000   162.070   \n",
       "       2017-12-29  21.250000  20.825000  20.800000  21.450000   222.040   \n",
       "\n",
       "                      dollar_vol  dollar_vol_1m  dollar_vol_rank        rsi  \\\n",
       "ticker date                                                                   \n",
       "A      2013-01-02  181430.981611            NaN              NaN        NaN   \n",
       "       2013-01-03  119142.939438            NaN              NaN        NaN   \n",
       "       2013-01-04  135882.822089            NaN              NaN        NaN   \n",
       "       2013-01-07   75273.116328            NaN              NaN        NaN   \n",
       "       2013-01-08   81066.830411            NaN              NaN        NaN   \n",
       "...                          ...            ...              ...        ...   \n",
       "ZUMZ   2017-12-22    4495.598250   11930.001226           1288.0  61.077094   \n",
       "       2017-12-26    4674.829350   11963.373076           1291.0  63.799097   \n",
       "       2017-12-27    4807.923750   11786.938512           1293.0  56.369727   \n",
       "       2017-12-28    3435.884000   11290.208650           1300.0  56.757082   \n",
       "       2017-12-29    4623.983000   10790.612631           1312.0  52.959469   \n",
       "\n",
       "                    bb_high    bb_low       atr      macd  return_1d  \\\n",
       "ticker date                                                            \n",
       "A      2013-01-02       NaN       NaN       NaN       NaN        NaN   \n",
       "       2013-01-03       NaN       NaN       NaN       NaN   0.003582   \n",
       "       2013-01-04       NaN       NaN       NaN       NaN   0.019748   \n",
       "       2013-01-07       NaN       NaN       NaN       NaN  -0.007233   \n",
       "       2013-01-08       NaN       NaN       NaN       NaN  -0.007991   \n",
       "...                     ...       ...       ...       ...        ...   \n",
       "ZUMZ   2017-12-22  0.028426  0.086877 -0.419131  0.851425  -0.002326   \n",
       "       2017-12-26  0.010058  0.090436 -0.450751  0.889373   0.018648   \n",
       "       2017-12-27  0.040577  0.057586 -0.282948  0.832724  -0.032037   \n",
       "       2017-12-28  0.039229  0.059005 -0.449763  0.784419   0.002364   \n",
       "       2017-12-29  0.050887  0.042288 -0.515043  0.696842  -0.017689   \n",
       "\n",
       "                   return_5d  return_10d  return_21d  return_42d  return_63d  \n",
       "ticker date                                                                   \n",
       "A      2013-01-02        NaN         NaN         NaN         NaN         NaN  \n",
       "       2013-01-03        NaN         NaN         NaN         NaN         NaN  \n",
       "       2013-01-04        NaN         NaN         NaN         NaN         NaN  \n",
       "       2013-01-07        NaN         NaN         NaN         NaN         NaN  \n",
       "       2013-01-08        NaN         NaN         NaN         NaN         NaN  \n",
       "...                      ...         ...         ...         ...         ...  \n",
       "ZUMZ   2017-12-22   0.013086    0.001173    0.006812    0.004653    0.004222  \n",
       "       2017-12-26   0.005112    0.004215    0.006552    0.004759    0.004086  \n",
       "       2017-12-27  -0.000472    0.002882    0.004617    0.003781    0.003757  \n",
       "       2017-12-28   0.000000    0.004100    0.002540    0.003249    0.002958  \n",
       "       2017-12-29  -0.006359    0.004050   -0.000057    0.003544    0.002674  \n",
       "\n",
       "[2904233 rows x 19 columns]"
      ]
     },
     "execution_count": 143,
     "metadata": {},
     "output_type": "execute_result"
    }
   ],
   "source": [
    "prices"
   ]
  },
  {
   "cell_type": "markdown",
   "metadata": {},
   "source": [
    "### Shift lagged returns"
   ]
  },
  {
   "cell_type": "code",
   "execution_count": 144,
   "metadata": {
    "ExecuteTime": {
     "end_time": "2021-04-15T20:00:38.383122Z",
     "start_time": "2021-04-15T20:00:34.451760Z"
    }
   },
   "outputs": [],
   "source": [
    "for t in [1, 2, 3, 4, 5]:\n",
    "    for lag in [1, 5, 10, 21]:\n",
    "        prices[f'return_{lag}d_lag{t}'] = (prices.groupby(level='ticker')\n",
    "                                           [f'return_{lag}d'].shift(t * lag)) #所有数据向下偏移t*lag行"
   ]
  },
  {
   "cell_type": "code",
   "execution_count": 145,
   "metadata": {
    "collapsed": true
   },
   "outputs": [
    {
     "data": {
      "text/html": [
       "<div>\n",
       "<style scoped>\n",
       "    .dataframe tbody tr th:only-of-type {\n",
       "        vertical-align: middle;\n",
       "    }\n",
       "\n",
       "    .dataframe tbody tr th {\n",
       "        vertical-align: top;\n",
       "    }\n",
       "\n",
       "    .dataframe thead th {\n",
       "        text-align: right;\n",
       "    }\n",
       "</style>\n",
       "<table border=\"1\" class=\"dataframe\">\n",
       "  <thead>\n",
       "    <tr style=\"text-align: right;\">\n",
       "      <th></th>\n",
       "      <th></th>\n",
       "      <th>open</th>\n",
       "      <th>close</th>\n",
       "      <th>low</th>\n",
       "      <th>high</th>\n",
       "      <th>volume</th>\n",
       "      <th>dollar_vol</th>\n",
       "      <th>dollar_vol_1m</th>\n",
       "      <th>dollar_vol_rank</th>\n",
       "      <th>rsi</th>\n",
       "      <th>bb_high</th>\n",
       "      <th>...</th>\n",
       "      <th>return_10d_lag3</th>\n",
       "      <th>return_21d_lag3</th>\n",
       "      <th>return_1d_lag4</th>\n",
       "      <th>return_5d_lag4</th>\n",
       "      <th>return_10d_lag4</th>\n",
       "      <th>return_21d_lag4</th>\n",
       "      <th>return_1d_lag5</th>\n",
       "      <th>return_5d_lag5</th>\n",
       "      <th>return_10d_lag5</th>\n",
       "      <th>return_21d_lag5</th>\n",
       "    </tr>\n",
       "    <tr>\n",
       "      <th>ticker</th>\n",
       "      <th>date</th>\n",
       "      <th></th>\n",
       "      <th></th>\n",
       "      <th></th>\n",
       "      <th></th>\n",
       "      <th></th>\n",
       "      <th></th>\n",
       "      <th></th>\n",
       "      <th></th>\n",
       "      <th></th>\n",
       "      <th></th>\n",
       "      <th></th>\n",
       "      <th></th>\n",
       "      <th></th>\n",
       "      <th></th>\n",
       "      <th></th>\n",
       "      <th></th>\n",
       "      <th></th>\n",
       "      <th></th>\n",
       "      <th></th>\n",
       "      <th></th>\n",
       "      <th></th>\n",
       "    </tr>\n",
       "  </thead>\n",
       "  <tbody>\n",
       "    <tr>\n",
       "      <th rowspan=\"5\" valign=\"top\">A</th>\n",
       "      <th>2013-01-02</th>\n",
       "      <td>29.054711</td>\n",
       "      <td>28.854904</td>\n",
       "      <td>28.351942</td>\n",
       "      <td>29.054711</td>\n",
       "      <td>6287.700</td>\n",
       "      <td>181430.981611</td>\n",
       "      <td>NaN</td>\n",
       "      <td>NaN</td>\n",
       "      <td>NaN</td>\n",
       "      <td>NaN</td>\n",
       "      <td>...</td>\n",
       "      <td>NaN</td>\n",
       "      <td>NaN</td>\n",
       "      <td>NaN</td>\n",
       "      <td>NaN</td>\n",
       "      <td>NaN</td>\n",
       "      <td>NaN</td>\n",
       "      <td>NaN</td>\n",
       "      <td>NaN</td>\n",
       "      <td>NaN</td>\n",
       "      <td>NaN</td>\n",
       "    </tr>\n",
       "    <tr>\n",
       "      <th>2013-01-03</th>\n",
       "      <td>28.896244</td>\n",
       "      <td>28.958253</td>\n",
       "      <td>28.648276</td>\n",
       "      <td>29.034042</td>\n",
       "      <td>4114.300</td>\n",
       "      <td>119142.939438</td>\n",
       "      <td>NaN</td>\n",
       "      <td>NaN</td>\n",
       "      <td>NaN</td>\n",
       "      <td>NaN</td>\n",
       "      <td>...</td>\n",
       "      <td>NaN</td>\n",
       "      <td>NaN</td>\n",
       "      <td>NaN</td>\n",
       "      <td>NaN</td>\n",
       "      <td>NaN</td>\n",
       "      <td>NaN</td>\n",
       "      <td>NaN</td>\n",
       "      <td>NaN</td>\n",
       "      <td>NaN</td>\n",
       "      <td>NaN</td>\n",
       "    </tr>\n",
       "    <tr>\n",
       "      <th>2013-01-04</th>\n",
       "      <td>29.034042</td>\n",
       "      <td>29.530115</td>\n",
       "      <td>28.841124</td>\n",
       "      <td>29.592124</td>\n",
       "      <td>4601.500</td>\n",
       "      <td>135882.822089</td>\n",
       "      <td>NaN</td>\n",
       "      <td>NaN</td>\n",
       "      <td>NaN</td>\n",
       "      <td>NaN</td>\n",
       "      <td>...</td>\n",
       "      <td>NaN</td>\n",
       "      <td>NaN</td>\n",
       "      <td>NaN</td>\n",
       "      <td>NaN</td>\n",
       "      <td>NaN</td>\n",
       "      <td>NaN</td>\n",
       "      <td>NaN</td>\n",
       "      <td>NaN</td>\n",
       "      <td>NaN</td>\n",
       "      <td>NaN</td>\n",
       "    </tr>\n",
       "    <tr>\n",
       "      <th>2013-01-07</th>\n",
       "      <td>29.350977</td>\n",
       "      <td>29.316528</td>\n",
       "      <td>29.199399</td>\n",
       "      <td>29.488775</td>\n",
       "      <td>2567.600</td>\n",
       "      <td>75273.116328</td>\n",
       "      <td>NaN</td>\n",
       "      <td>NaN</td>\n",
       "      <td>NaN</td>\n",
       "      <td>NaN</td>\n",
       "      <td>...</td>\n",
       "      <td>NaN</td>\n",
       "      <td>NaN</td>\n",
       "      <td>NaN</td>\n",
       "      <td>NaN</td>\n",
       "      <td>NaN</td>\n",
       "      <td>NaN</td>\n",
       "      <td>NaN</td>\n",
       "      <td>NaN</td>\n",
       "      <td>NaN</td>\n",
       "      <td>NaN</td>\n",
       "    </tr>\n",
       "    <tr>\n",
       "      <th>2013-01-08</th>\n",
       "      <td>29.261408</td>\n",
       "      <td>29.082271</td>\n",
       "      <td>29.006482</td>\n",
       "      <td>29.474995</td>\n",
       "      <td>2787.500</td>\n",
       "      <td>81066.830411</td>\n",
       "      <td>NaN</td>\n",
       "      <td>NaN</td>\n",
       "      <td>NaN</td>\n",
       "      <td>NaN</td>\n",
       "      <td>...</td>\n",
       "      <td>NaN</td>\n",
       "      <td>NaN</td>\n",
       "      <td>NaN</td>\n",
       "      <td>NaN</td>\n",
       "      <td>NaN</td>\n",
       "      <td>NaN</td>\n",
       "      <td>NaN</td>\n",
       "      <td>NaN</td>\n",
       "      <td>NaN</td>\n",
       "      <td>NaN</td>\n",
       "    </tr>\n",
       "    <tr>\n",
       "      <th>...</th>\n",
       "      <th>...</th>\n",
       "      <td>...</td>\n",
       "      <td>...</td>\n",
       "      <td>...</td>\n",
       "      <td>...</td>\n",
       "      <td>...</td>\n",
       "      <td>...</td>\n",
       "      <td>...</td>\n",
       "      <td>...</td>\n",
       "      <td>...</td>\n",
       "      <td>...</td>\n",
       "      <td>...</td>\n",
       "      <td>...</td>\n",
       "      <td>...</td>\n",
       "      <td>...</td>\n",
       "      <td>...</td>\n",
       "      <td>...</td>\n",
       "      <td>...</td>\n",
       "      <td>...</td>\n",
       "      <td>...</td>\n",
       "      <td>...</td>\n",
       "      <td>...</td>\n",
       "    </tr>\n",
       "    <tr>\n",
       "      <th rowspan=\"5\" valign=\"top\">ZUMZ</th>\n",
       "      <th>2017-12-22</th>\n",
       "      <td>21.550000</td>\n",
       "      <td>21.450000</td>\n",
       "      <td>21.300000</td>\n",
       "      <td>21.700000</td>\n",
       "      <td>209.585</td>\n",
       "      <td>4495.598250</td>\n",
       "      <td>11930.001226</td>\n",
       "      <td>1288.0</td>\n",
       "      <td>61.077094</td>\n",
       "      <td>0.028426</td>\n",
       "      <td>...</td>\n",
       "      <td>0.000553</td>\n",
       "      <td>0.014335</td>\n",
       "      <td>0.059701</td>\n",
       "      <td>0.008066</td>\n",
       "      <td>-0.001101</td>\n",
       "      <td>-0.000389</td>\n",
       "      <td>0.005000</td>\n",
       "      <td>0.001647</td>\n",
       "      <td>0.003633</td>\n",
       "      <td>0.001177</td>\n",
       "    </tr>\n",
       "    <tr>\n",
       "      <th>2017-12-26</th>\n",
       "      <td>21.450000</td>\n",
       "      <td>21.850000</td>\n",
       "      <td>21.450000</td>\n",
       "      <td>22.200000</td>\n",
       "      <td>213.951</td>\n",
       "      <td>4674.829350</td>\n",
       "      <td>11963.373076</td>\n",
       "      <td>1291.0</td>\n",
       "      <td>63.799097</td>\n",
       "      <td>0.010058</td>\n",
       "      <td>...</td>\n",
       "      <td>0.002141</td>\n",
       "      <td>0.012572</td>\n",
       "      <td>-0.004695</td>\n",
       "      <td>0.003155</td>\n",
       "      <td>0.005860</td>\n",
       "      <td>0.002061</td>\n",
       "      <td>0.059701</td>\n",
       "      <td>0.000000</td>\n",
       "      <td>-0.000856</td>\n",
       "      <td>0.001556</td>\n",
       "    </tr>\n",
       "    <tr>\n",
       "      <th>2017-12-27</th>\n",
       "      <td>21.800000</td>\n",
       "      <td>21.150000</td>\n",
       "      <td>20.950000</td>\n",
       "      <td>22.250000</td>\n",
       "      <td>227.325</td>\n",
       "      <td>4807.923750</td>\n",
       "      <td>11786.938512</td>\n",
       "      <td>1293.0</td>\n",
       "      <td>56.369727</td>\n",
       "      <td>0.040577</td>\n",
       "      <td>...</td>\n",
       "      <td>0.002479</td>\n",
       "      <td>0.010359</td>\n",
       "      <td>0.000000</td>\n",
       "      <td>0.007634</td>\n",
       "      <td>0.004570</td>\n",
       "      <td>0.002362</td>\n",
       "      <td>-0.004695</td>\n",
       "      <td>0.010119</td>\n",
       "      <td>-0.005377</td>\n",
       "      <td>0.003478</td>\n",
       "    </tr>\n",
       "    <tr>\n",
       "      <th>2017-12-28</th>\n",
       "      <td>21.200000</td>\n",
       "      <td>21.200000</td>\n",
       "      <td>21.050000</td>\n",
       "      <td>21.450000</td>\n",
       "      <td>162.070</td>\n",
       "      <td>3435.884000</td>\n",
       "      <td>11290.208650</td>\n",
       "      <td>1300.0</td>\n",
       "      <td>56.757082</td>\n",
       "      <td>0.039229</td>\n",
       "      <td>...</td>\n",
       "      <td>0.001711</td>\n",
       "      <td>0.014717</td>\n",
       "      <td>0.014151</td>\n",
       "      <td>0.015044</td>\n",
       "      <td>0.002624</td>\n",
       "      <td>0.002069</td>\n",
       "      <td>0.000000</td>\n",
       "      <td>0.017985</td>\n",
       "      <td>-0.008980</td>\n",
       "      <td>0.001167</td>\n",
       "    </tr>\n",
       "    <tr>\n",
       "      <th>2017-12-29</th>\n",
       "      <td>21.250000</td>\n",
       "      <td>20.825000</td>\n",
       "      <td>20.800000</td>\n",
       "      <td>21.450000</td>\n",
       "      <td>222.040</td>\n",
       "      <td>4623.983000</td>\n",
       "      <td>10790.612631</td>\n",
       "      <td>1312.0</td>\n",
       "      <td>52.959469</td>\n",
       "      <td>0.050887</td>\n",
       "      <td>...</td>\n",
       "      <td>0.001407</td>\n",
       "      <td>0.014531</td>\n",
       "      <td>-0.002326</td>\n",
       "      <td>0.032259</td>\n",
       "      <td>0.003759</td>\n",
       "      <td>0.001112</td>\n",
       "      <td>0.014151</td>\n",
       "      <td>0.007702</td>\n",
       "      <td>-0.012096</td>\n",
       "      <td>0.002110</td>\n",
       "    </tr>\n",
       "  </tbody>\n",
       "</table>\n",
       "<p>2904233 rows × 39 columns</p>\n",
       "</div>"
      ],
      "text/plain": [
       "                        open      close        low       high    volume  \\\n",
       "ticker date                                                               \n",
       "A      2013-01-02  29.054711  28.854904  28.351942  29.054711  6287.700   \n",
       "       2013-01-03  28.896244  28.958253  28.648276  29.034042  4114.300   \n",
       "       2013-01-04  29.034042  29.530115  28.841124  29.592124  4601.500   \n",
       "       2013-01-07  29.350977  29.316528  29.199399  29.488775  2567.600   \n",
       "       2013-01-08  29.261408  29.082271  29.006482  29.474995  2787.500   \n",
       "...                      ...        ...        ...        ...       ...   \n",
       "ZUMZ   2017-12-22  21.550000  21.450000  21.300000  21.700000   209.585   \n",
       "       2017-12-26  21.450000  21.850000  21.450000  22.200000   213.951   \n",
       "       2017-12-27  21.800000  21.150000  20.950000  22.250000   227.325   \n",
       "       2017-12-28  21.200000  21.200000  21.050000  21.450000   162.070   \n",
       "       2017-12-29  21.250000  20.825000  20.800000  21.450000   222.040   \n",
       "\n",
       "                      dollar_vol  dollar_vol_1m  dollar_vol_rank        rsi  \\\n",
       "ticker date                                                                   \n",
       "A      2013-01-02  181430.981611            NaN              NaN        NaN   \n",
       "       2013-01-03  119142.939438            NaN              NaN        NaN   \n",
       "       2013-01-04  135882.822089            NaN              NaN        NaN   \n",
       "       2013-01-07   75273.116328            NaN              NaN        NaN   \n",
       "       2013-01-08   81066.830411            NaN              NaN        NaN   \n",
       "...                          ...            ...              ...        ...   \n",
       "ZUMZ   2017-12-22    4495.598250   11930.001226           1288.0  61.077094   \n",
       "       2017-12-26    4674.829350   11963.373076           1291.0  63.799097   \n",
       "       2017-12-27    4807.923750   11786.938512           1293.0  56.369727   \n",
       "       2017-12-28    3435.884000   11290.208650           1300.0  56.757082   \n",
       "       2017-12-29    4623.983000   10790.612631           1312.0  52.959469   \n",
       "\n",
       "                    bb_high  ...  return_10d_lag3  return_21d_lag3  \\\n",
       "ticker date                  ...                                     \n",
       "A      2013-01-02       NaN  ...              NaN              NaN   \n",
       "       2013-01-03       NaN  ...              NaN              NaN   \n",
       "       2013-01-04       NaN  ...              NaN              NaN   \n",
       "       2013-01-07       NaN  ...              NaN              NaN   \n",
       "       2013-01-08       NaN  ...              NaN              NaN   \n",
       "...                     ...  ...              ...              ...   \n",
       "ZUMZ   2017-12-22  0.028426  ...         0.000553         0.014335   \n",
       "       2017-12-26  0.010058  ...         0.002141         0.012572   \n",
       "       2017-12-27  0.040577  ...         0.002479         0.010359   \n",
       "       2017-12-28  0.039229  ...         0.001711         0.014717   \n",
       "       2017-12-29  0.050887  ...         0.001407         0.014531   \n",
       "\n",
       "                   return_1d_lag4  return_5d_lag4  return_10d_lag4  \\\n",
       "ticker date                                                          \n",
       "A      2013-01-02             NaN             NaN              NaN   \n",
       "       2013-01-03             NaN             NaN              NaN   \n",
       "       2013-01-04             NaN             NaN              NaN   \n",
       "       2013-01-07             NaN             NaN              NaN   \n",
       "       2013-01-08             NaN             NaN              NaN   \n",
       "...                           ...             ...              ...   \n",
       "ZUMZ   2017-12-22        0.059701        0.008066        -0.001101   \n",
       "       2017-12-26       -0.004695        0.003155         0.005860   \n",
       "       2017-12-27        0.000000        0.007634         0.004570   \n",
       "       2017-12-28        0.014151        0.015044         0.002624   \n",
       "       2017-12-29       -0.002326        0.032259         0.003759   \n",
       "\n",
       "                   return_21d_lag4  return_1d_lag5  return_5d_lag5  \\\n",
       "ticker date                                                          \n",
       "A      2013-01-02              NaN             NaN             NaN   \n",
       "       2013-01-03              NaN             NaN             NaN   \n",
       "       2013-01-04              NaN             NaN             NaN   \n",
       "       2013-01-07              NaN             NaN             NaN   \n",
       "       2013-01-08              NaN             NaN             NaN   \n",
       "...                            ...             ...             ...   \n",
       "ZUMZ   2017-12-22        -0.000389        0.005000        0.001647   \n",
       "       2017-12-26         0.002061        0.059701        0.000000   \n",
       "       2017-12-27         0.002362       -0.004695        0.010119   \n",
       "       2017-12-28         0.002069        0.000000        0.017985   \n",
       "       2017-12-29         0.001112        0.014151        0.007702   \n",
       "\n",
       "                   return_10d_lag5  return_21d_lag5  \n",
       "ticker date                                          \n",
       "A      2013-01-02              NaN              NaN  \n",
       "       2013-01-03              NaN              NaN  \n",
       "       2013-01-04              NaN              NaN  \n",
       "       2013-01-07              NaN              NaN  \n",
       "       2013-01-08              NaN              NaN  \n",
       "...                            ...              ...  \n",
       "ZUMZ   2017-12-22         0.003633         0.001177  \n",
       "       2017-12-26        -0.000856         0.001556  \n",
       "       2017-12-27        -0.005377         0.003478  \n",
       "       2017-12-28        -0.008980         0.001167  \n",
       "       2017-12-29        -0.012096         0.002110  \n",
       "\n",
       "[2904233 rows x 39 columns]"
      ]
     },
     "execution_count": 145,
     "metadata": {},
     "output_type": "execute_result"
    }
   ],
   "source": [
    "prices"
   ]
  },
  {
   "cell_type": "markdown",
   "metadata": {},
   "source": [
    "## Compute Forward Returns"
   ]
  },
  {
   "cell_type": "code",
   "execution_count": 146,
   "metadata": {
    "ExecuteTime": {
     "end_time": "2021-04-15T20:00:39.173970Z",
     "start_time": "2021-04-15T20:00:38.383932Z"
    }
   },
   "outputs": [],
   "source": [
    "for t in [1, 5, 10, 21]:\n",
    "    prices[f'target_{t}d'] = prices.groupby(level='ticker')[f'return_{t}d'].shift(-t) #!!!将当期收益率上移，可构建未来收益率序列"
   ]
  },
  {
   "cell_type": "code",
   "execution_count": 147,
   "metadata": {
    "collapsed": true
   },
   "outputs": [
    {
     "data": {
      "text/html": [
       "<div>\n",
       "<style scoped>\n",
       "    .dataframe tbody tr th:only-of-type {\n",
       "        vertical-align: middle;\n",
       "    }\n",
       "\n",
       "    .dataframe tbody tr th {\n",
       "        vertical-align: top;\n",
       "    }\n",
       "\n",
       "    .dataframe thead th {\n",
       "        text-align: right;\n",
       "    }\n",
       "</style>\n",
       "<table border=\"1\" class=\"dataframe\">\n",
       "  <thead>\n",
       "    <tr style=\"text-align: right;\">\n",
       "      <th></th>\n",
       "      <th></th>\n",
       "      <th>open</th>\n",
       "      <th>close</th>\n",
       "      <th>low</th>\n",
       "      <th>high</th>\n",
       "      <th>volume</th>\n",
       "      <th>dollar_vol</th>\n",
       "      <th>dollar_vol_1m</th>\n",
       "      <th>dollar_vol_rank</th>\n",
       "      <th>rsi</th>\n",
       "      <th>bb_high</th>\n",
       "      <th>...</th>\n",
       "      <th>return_10d_lag4</th>\n",
       "      <th>return_21d_lag4</th>\n",
       "      <th>return_1d_lag5</th>\n",
       "      <th>return_5d_lag5</th>\n",
       "      <th>return_10d_lag5</th>\n",
       "      <th>return_21d_lag5</th>\n",
       "      <th>target_1d</th>\n",
       "      <th>target_5d</th>\n",
       "      <th>target_10d</th>\n",
       "      <th>target_21d</th>\n",
       "    </tr>\n",
       "    <tr>\n",
       "      <th>ticker</th>\n",
       "      <th>date</th>\n",
       "      <th></th>\n",
       "      <th></th>\n",
       "      <th></th>\n",
       "      <th></th>\n",
       "      <th></th>\n",
       "      <th></th>\n",
       "      <th></th>\n",
       "      <th></th>\n",
       "      <th></th>\n",
       "      <th></th>\n",
       "      <th></th>\n",
       "      <th></th>\n",
       "      <th></th>\n",
       "      <th></th>\n",
       "      <th></th>\n",
       "      <th></th>\n",
       "      <th></th>\n",
       "      <th></th>\n",
       "      <th></th>\n",
       "      <th></th>\n",
       "      <th></th>\n",
       "    </tr>\n",
       "  </thead>\n",
       "  <tbody>\n",
       "    <tr>\n",
       "      <th rowspan=\"5\" valign=\"top\">A</th>\n",
       "      <th>2013-01-02</th>\n",
       "      <td>29.054711</td>\n",
       "      <td>28.854904</td>\n",
       "      <td>28.351942</td>\n",
       "      <td>29.054711</td>\n",
       "      <td>6287.700</td>\n",
       "      <td>181430.981611</td>\n",
       "      <td>NaN</td>\n",
       "      <td>NaN</td>\n",
       "      <td>NaN</td>\n",
       "      <td>NaN</td>\n",
       "      <td>...</td>\n",
       "      <td>NaN</td>\n",
       "      <td>NaN</td>\n",
       "      <td>NaN</td>\n",
       "      <td>NaN</td>\n",
       "      <td>NaN</td>\n",
       "      <td>NaN</td>\n",
       "      <td>0.003582</td>\n",
       "      <td>0.006924</td>\n",
       "      <td>0.002759</td>\n",
       "      <td>0.003734</td>\n",
       "    </tr>\n",
       "    <tr>\n",
       "      <th>2013-01-03</th>\n",
       "      <td>28.896244</td>\n",
       "      <td>28.958253</td>\n",
       "      <td>28.648276</td>\n",
       "      <td>29.034042</td>\n",
       "      <td>4114.300</td>\n",
       "      <td>119142.939438</td>\n",
       "      <td>NaN</td>\n",
       "      <td>NaN</td>\n",
       "      <td>NaN</td>\n",
       "      <td>NaN</td>\n",
       "      <td>...</td>\n",
       "      <td>NaN</td>\n",
       "      <td>NaN</td>\n",
       "      <td>NaN</td>\n",
       "      <td>NaN</td>\n",
       "      <td>NaN</td>\n",
       "      <td>NaN</td>\n",
       "      <td>0.019748</td>\n",
       "      <td>0.007685</td>\n",
       "      <td>0.004294</td>\n",
       "      <td>0.002465</td>\n",
       "    </tr>\n",
       "    <tr>\n",
       "      <th>2013-01-04</th>\n",
       "      <td>29.034042</td>\n",
       "      <td>29.530115</td>\n",
       "      <td>28.841124</td>\n",
       "      <td>29.592124</td>\n",
       "      <td>4601.500</td>\n",
       "      <td>135882.822089</td>\n",
       "      <td>NaN</td>\n",
       "      <td>NaN</td>\n",
       "      <td>NaN</td>\n",
       "      <td>NaN</td>\n",
       "      <td>...</td>\n",
       "      <td>NaN</td>\n",
       "      <td>NaN</td>\n",
       "      <td>NaN</td>\n",
       "      <td>NaN</td>\n",
       "      <td>NaN</td>\n",
       "      <td>NaN</td>\n",
       "      <td>-0.007233</td>\n",
       "      <td>0.002646</td>\n",
       "      <td>0.002970</td>\n",
       "      <td>0.002323</td>\n",
       "    </tr>\n",
       "    <tr>\n",
       "      <th>2013-01-07</th>\n",
       "      <td>29.350977</td>\n",
       "      <td>29.316528</td>\n",
       "      <td>29.199399</td>\n",
       "      <td>29.488775</td>\n",
       "      <td>2567.600</td>\n",
       "      <td>75273.116328</td>\n",
       "      <td>NaN</td>\n",
       "      <td>NaN</td>\n",
       "      <td>NaN</td>\n",
       "      <td>NaN</td>\n",
       "      <td>...</td>\n",
       "      <td>NaN</td>\n",
       "      <td>NaN</td>\n",
       "      <td>NaN</td>\n",
       "      <td>NaN</td>\n",
       "      <td>NaN</td>\n",
       "      <td>NaN</td>\n",
       "      <td>-0.007991</td>\n",
       "      <td>0.004611</td>\n",
       "      <td>0.004807</td>\n",
       "      <td>0.002765</td>\n",
       "    </tr>\n",
       "    <tr>\n",
       "      <th>2013-01-08</th>\n",
       "      <td>29.261408</td>\n",
       "      <td>29.082271</td>\n",
       "      <td>29.006482</td>\n",
       "      <td>29.474995</td>\n",
       "      <td>2787.500</td>\n",
       "      <td>81066.830411</td>\n",
       "      <td>NaN</td>\n",
       "      <td>NaN</td>\n",
       "      <td>NaN</td>\n",
       "      <td>NaN</td>\n",
       "      <td>...</td>\n",
       "      <td>NaN</td>\n",
       "      <td>NaN</td>\n",
       "      <td>NaN</td>\n",
       "      <td>NaN</td>\n",
       "      <td>NaN</td>\n",
       "      <td>NaN</td>\n",
       "      <td>0.027008</td>\n",
       "      <td>0.004833</td>\n",
       "      <td>0.004844</td>\n",
       "      <td>0.003063</td>\n",
       "    </tr>\n",
       "    <tr>\n",
       "      <th>...</th>\n",
       "      <th>...</th>\n",
       "      <td>...</td>\n",
       "      <td>...</td>\n",
       "      <td>...</td>\n",
       "      <td>...</td>\n",
       "      <td>...</td>\n",
       "      <td>...</td>\n",
       "      <td>...</td>\n",
       "      <td>...</td>\n",
       "      <td>...</td>\n",
       "      <td>...</td>\n",
       "      <td>...</td>\n",
       "      <td>...</td>\n",
       "      <td>...</td>\n",
       "      <td>...</td>\n",
       "      <td>...</td>\n",
       "      <td>...</td>\n",
       "      <td>...</td>\n",
       "      <td>...</td>\n",
       "      <td>...</td>\n",
       "      <td>...</td>\n",
       "      <td>...</td>\n",
       "    </tr>\n",
       "    <tr>\n",
       "      <th rowspan=\"5\" valign=\"top\">ZUMZ</th>\n",
       "      <th>2017-12-22</th>\n",
       "      <td>21.550000</td>\n",
       "      <td>21.450000</td>\n",
       "      <td>21.300000</td>\n",
       "      <td>21.700000</td>\n",
       "      <td>209.585</td>\n",
       "      <td>4495.598250</td>\n",
       "      <td>11930.001226</td>\n",
       "      <td>1288.0</td>\n",
       "      <td>61.077094</td>\n",
       "      <td>0.028426</td>\n",
       "      <td>...</td>\n",
       "      <td>-0.001101</td>\n",
       "      <td>-0.000389</td>\n",
       "      <td>0.005000</td>\n",
       "      <td>0.001647</td>\n",
       "      <td>0.003633</td>\n",
       "      <td>0.001177</td>\n",
       "      <td>0.018648</td>\n",
       "      <td>NaN</td>\n",
       "      <td>NaN</td>\n",
       "      <td>NaN</td>\n",
       "    </tr>\n",
       "    <tr>\n",
       "      <th>2017-12-26</th>\n",
       "      <td>21.450000</td>\n",
       "      <td>21.850000</td>\n",
       "      <td>21.450000</td>\n",
       "      <td>22.200000</td>\n",
       "      <td>213.951</td>\n",
       "      <td>4674.829350</td>\n",
       "      <td>11963.373076</td>\n",
       "      <td>1291.0</td>\n",
       "      <td>63.799097</td>\n",
       "      <td>0.010058</td>\n",
       "      <td>...</td>\n",
       "      <td>0.005860</td>\n",
       "      <td>0.002061</td>\n",
       "      <td>0.059701</td>\n",
       "      <td>0.000000</td>\n",
       "      <td>-0.000856</td>\n",
       "      <td>0.001556</td>\n",
       "      <td>-0.032037</td>\n",
       "      <td>NaN</td>\n",
       "      <td>NaN</td>\n",
       "      <td>NaN</td>\n",
       "    </tr>\n",
       "    <tr>\n",
       "      <th>2017-12-27</th>\n",
       "      <td>21.800000</td>\n",
       "      <td>21.150000</td>\n",
       "      <td>20.950000</td>\n",
       "      <td>22.250000</td>\n",
       "      <td>227.325</td>\n",
       "      <td>4807.923750</td>\n",
       "      <td>11786.938512</td>\n",
       "      <td>1293.0</td>\n",
       "      <td>56.369727</td>\n",
       "      <td>0.040577</td>\n",
       "      <td>...</td>\n",
       "      <td>0.004570</td>\n",
       "      <td>0.002362</td>\n",
       "      <td>-0.004695</td>\n",
       "      <td>0.010119</td>\n",
       "      <td>-0.005377</td>\n",
       "      <td>0.003478</td>\n",
       "      <td>0.002364</td>\n",
       "      <td>NaN</td>\n",
       "      <td>NaN</td>\n",
       "      <td>NaN</td>\n",
       "    </tr>\n",
       "    <tr>\n",
       "      <th>2017-12-28</th>\n",
       "      <td>21.200000</td>\n",
       "      <td>21.200000</td>\n",
       "      <td>21.050000</td>\n",
       "      <td>21.450000</td>\n",
       "      <td>162.070</td>\n",
       "      <td>3435.884000</td>\n",
       "      <td>11290.208650</td>\n",
       "      <td>1300.0</td>\n",
       "      <td>56.757082</td>\n",
       "      <td>0.039229</td>\n",
       "      <td>...</td>\n",
       "      <td>0.002624</td>\n",
       "      <td>0.002069</td>\n",
       "      <td>0.000000</td>\n",
       "      <td>0.017985</td>\n",
       "      <td>-0.008980</td>\n",
       "      <td>0.001167</td>\n",
       "      <td>-0.017689</td>\n",
       "      <td>NaN</td>\n",
       "      <td>NaN</td>\n",
       "      <td>NaN</td>\n",
       "    </tr>\n",
       "    <tr>\n",
       "      <th>2017-12-29</th>\n",
       "      <td>21.250000</td>\n",
       "      <td>20.825000</td>\n",
       "      <td>20.800000</td>\n",
       "      <td>21.450000</td>\n",
       "      <td>222.040</td>\n",
       "      <td>4623.983000</td>\n",
       "      <td>10790.612631</td>\n",
       "      <td>1312.0</td>\n",
       "      <td>52.959469</td>\n",
       "      <td>0.050887</td>\n",
       "      <td>...</td>\n",
       "      <td>0.003759</td>\n",
       "      <td>0.001112</td>\n",
       "      <td>0.014151</td>\n",
       "      <td>0.007702</td>\n",
       "      <td>-0.012096</td>\n",
       "      <td>0.002110</td>\n",
       "      <td>NaN</td>\n",
       "      <td>NaN</td>\n",
       "      <td>NaN</td>\n",
       "      <td>NaN</td>\n",
       "    </tr>\n",
       "  </tbody>\n",
       "</table>\n",
       "<p>2904233 rows × 43 columns</p>\n",
       "</div>"
      ],
      "text/plain": [
       "                        open      close        low       high    volume  \\\n",
       "ticker date                                                               \n",
       "A      2013-01-02  29.054711  28.854904  28.351942  29.054711  6287.700   \n",
       "       2013-01-03  28.896244  28.958253  28.648276  29.034042  4114.300   \n",
       "       2013-01-04  29.034042  29.530115  28.841124  29.592124  4601.500   \n",
       "       2013-01-07  29.350977  29.316528  29.199399  29.488775  2567.600   \n",
       "       2013-01-08  29.261408  29.082271  29.006482  29.474995  2787.500   \n",
       "...                      ...        ...        ...        ...       ...   \n",
       "ZUMZ   2017-12-22  21.550000  21.450000  21.300000  21.700000   209.585   \n",
       "       2017-12-26  21.450000  21.850000  21.450000  22.200000   213.951   \n",
       "       2017-12-27  21.800000  21.150000  20.950000  22.250000   227.325   \n",
       "       2017-12-28  21.200000  21.200000  21.050000  21.450000   162.070   \n",
       "       2017-12-29  21.250000  20.825000  20.800000  21.450000   222.040   \n",
       "\n",
       "                      dollar_vol  dollar_vol_1m  dollar_vol_rank        rsi  \\\n",
       "ticker date                                                                   \n",
       "A      2013-01-02  181430.981611            NaN              NaN        NaN   \n",
       "       2013-01-03  119142.939438            NaN              NaN        NaN   \n",
       "       2013-01-04  135882.822089            NaN              NaN        NaN   \n",
       "       2013-01-07   75273.116328            NaN              NaN        NaN   \n",
       "       2013-01-08   81066.830411            NaN              NaN        NaN   \n",
       "...                          ...            ...              ...        ...   \n",
       "ZUMZ   2017-12-22    4495.598250   11930.001226           1288.0  61.077094   \n",
       "       2017-12-26    4674.829350   11963.373076           1291.0  63.799097   \n",
       "       2017-12-27    4807.923750   11786.938512           1293.0  56.369727   \n",
       "       2017-12-28    3435.884000   11290.208650           1300.0  56.757082   \n",
       "       2017-12-29    4623.983000   10790.612631           1312.0  52.959469   \n",
       "\n",
       "                    bb_high  ...  return_10d_lag4  return_21d_lag4  \\\n",
       "ticker date                  ...                                     \n",
       "A      2013-01-02       NaN  ...              NaN              NaN   \n",
       "       2013-01-03       NaN  ...              NaN              NaN   \n",
       "       2013-01-04       NaN  ...              NaN              NaN   \n",
       "       2013-01-07       NaN  ...              NaN              NaN   \n",
       "       2013-01-08       NaN  ...              NaN              NaN   \n",
       "...                     ...  ...              ...              ...   \n",
       "ZUMZ   2017-12-22  0.028426  ...        -0.001101        -0.000389   \n",
       "       2017-12-26  0.010058  ...         0.005860         0.002061   \n",
       "       2017-12-27  0.040577  ...         0.004570         0.002362   \n",
       "       2017-12-28  0.039229  ...         0.002624         0.002069   \n",
       "       2017-12-29  0.050887  ...         0.003759         0.001112   \n",
       "\n",
       "                   return_1d_lag5  return_5d_lag5  return_10d_lag5  \\\n",
       "ticker date                                                          \n",
       "A      2013-01-02             NaN             NaN              NaN   \n",
       "       2013-01-03             NaN             NaN              NaN   \n",
       "       2013-01-04             NaN             NaN              NaN   \n",
       "       2013-01-07             NaN             NaN              NaN   \n",
       "       2013-01-08             NaN             NaN              NaN   \n",
       "...                           ...             ...              ...   \n",
       "ZUMZ   2017-12-22        0.005000        0.001647         0.003633   \n",
       "       2017-12-26        0.059701        0.000000        -0.000856   \n",
       "       2017-12-27       -0.004695        0.010119        -0.005377   \n",
       "       2017-12-28        0.000000        0.017985        -0.008980   \n",
       "       2017-12-29        0.014151        0.007702        -0.012096   \n",
       "\n",
       "                   return_21d_lag5  target_1d  target_5d  target_10d  \\\n",
       "ticker date                                                            \n",
       "A      2013-01-02              NaN   0.003582   0.006924    0.002759   \n",
       "       2013-01-03              NaN   0.019748   0.007685    0.004294   \n",
       "       2013-01-04              NaN  -0.007233   0.002646    0.002970   \n",
       "       2013-01-07              NaN  -0.007991   0.004611    0.004807   \n",
       "       2013-01-08              NaN   0.027008   0.004833    0.004844   \n",
       "...                            ...        ...        ...         ...   \n",
       "ZUMZ   2017-12-22         0.001177   0.018648        NaN         NaN   \n",
       "       2017-12-26         0.001556  -0.032037        NaN         NaN   \n",
       "       2017-12-27         0.003478   0.002364        NaN         NaN   \n",
       "       2017-12-28         0.001167  -0.017689        NaN         NaN   \n",
       "       2017-12-29         0.002110        NaN        NaN         NaN   \n",
       "\n",
       "                   target_21d  \n",
       "ticker date                    \n",
       "A      2013-01-02    0.003734  \n",
       "       2013-01-03    0.002465  \n",
       "       2013-01-04    0.002323  \n",
       "       2013-01-07    0.002765  \n",
       "       2013-01-08    0.003063  \n",
       "...                       ...  \n",
       "ZUMZ   2017-12-22         NaN  \n",
       "       2017-12-26         NaN  \n",
       "       2017-12-27         NaN  \n",
       "       2017-12-28         NaN  \n",
       "       2017-12-29         NaN  \n",
       "\n",
       "[2904233 rows x 43 columns]"
      ]
     },
     "execution_count": 147,
     "metadata": {},
     "output_type": "execute_result"
    }
   ],
   "source": [
    "prices #!!target_td表示的是日化的t天收益率数据，收益率与日期是相匹配的，即20xx/12/xx对应的收益率就是当日的收益率"
   ]
  },
  {
   "cell_type": "markdown",
   "metadata": {},
   "source": [
    "## Combine Price and Meta Data"
   ]
  },
  {
   "cell_type": "code",
   "execution_count": 91,
   "metadata": {
    "ExecuteTime": {
     "end_time": "2021-04-15T20:00:39.379626Z",
     "start_time": "2021-04-15T20:00:39.174769Z"
    }
   },
   "outputs": [],
   "source": [
    "prices = prices.join(stocks[['sector']])"
   ]
  },
  {
   "cell_type": "code",
   "execution_count": 1,
   "metadata": {
    "ExecuteTime": {
     "end_time": "2022-11-10T13:38:43.236812Z",
     "start_time": "2022-11-10T13:38:42.608480Z"
    }
   },
   "outputs": [
    {
     "ename": "NameError",
     "evalue": "name 'prices' is not defined",
     "output_type": "error",
     "traceback": [
      "\u001b[1;31m---------------------------------------------------------------------------\u001b[0m",
      "\u001b[1;31mNameError\u001b[0m                                 Traceback (most recent call last)",
      "\u001b[1;32m<ipython-input-1-690d0bab5559>\u001b[0m in \u001b[0;36m<module>\u001b[1;34m\u001b[0m\n\u001b[1;32m----> 1\u001b[1;33m \u001b[0mprices\u001b[0m\u001b[1;33m\u001b[0m\u001b[1;33m\u001b[0m\u001b[0m\n\u001b[0m",
      "\u001b[1;31mNameError\u001b[0m: name 'prices' is not defined"
     ]
    }
   ],
   "source": [
    "prices"
   ]
  },
  {
   "cell_type": "markdown",
   "metadata": {},
   "source": [
    "## Create time and sector dummy variables"
   ]
  },
  {
   "cell_type": "code",
   "execution_count": 92,
   "metadata": {
    "ExecuteTime": {
     "end_time": "2021-04-15T20:00:39.701829Z",
     "start_time": "2021-04-15T20:00:39.380450Z"
    }
   },
   "outputs": [],
   "source": [
    "prices['year'] = prices.index.get_level_values('date').year\n",
    "prices['month'] = prices.index.get_level_values('date').month"
   ]
  },
  {
   "cell_type": "code",
   "execution_count": 93,
   "metadata": {
    "ExecuteTime": {
     "end_time": "2021-04-15T20:00:39.941349Z",
     "start_time": "2021-04-15T20:00:39.702642Z"
    },
    "collapsed": true
   },
   "outputs": [
    {
     "name": "stdout",
     "output_type": "stream",
     "text": [
      "<class 'pandas.core.frame.DataFrame'>\n",
      "MultiIndex: 2904233 entries, ('A', Timestamp('2013-01-02 00:00:00')) to ('ZUMZ', Timestamp('2017-12-29 00:00:00'))\n",
      "Data columns (total 46 columns):\n",
      " #   Column           Non-Null Count    Dtype  \n",
      "---  ------           --------------    -----  \n",
      " 0   open             2904233 non-null  float64\n",
      " 1   close            2904233 non-null  float64\n",
      " 2   low              2904233 non-null  float64\n",
      " 3   high             2904233 non-null  float64\n",
      " 4   volume           2904233 non-null  float64\n",
      " 5   dollar_vol       2904233 non-null  float64\n",
      " 6   dollar_vol_1m    2857273 non-null  float64\n",
      " 7   dollar_vol_rank  2857273 non-null  float64\n",
      " 8   rsi              2871361 non-null  float64\n",
      " 9   bb_high          2859618 non-null  float64\n",
      " 10  bb_low           2859585 non-null  float64\n",
      " 11  atr              2871361 non-null  float64\n",
      " 12  macd             2826749 non-null  float64\n",
      " 13  return_1d        2901885 non-null  float64\n",
      " 14  return_5d        2892493 non-null  float64\n",
      " 15  return_10d       2880753 non-null  float64\n",
      " 16  return_21d       2854925 non-null  float64\n",
      " 17  return_42d       2805617 non-null  float64\n",
      " 18  return_63d       2756309 non-null  float64\n",
      " 19  return_1d_lag1   2899537 non-null  float64\n",
      " 20  return_5d_lag1   2880753 non-null  float64\n",
      " 21  return_10d_lag1  2857273 non-null  float64\n",
      " 22  return_21d_lag1  2805617 non-null  float64\n",
      " 23  return_1d_lag2   2897189 non-null  float64\n",
      " 24  return_5d_lag2   2869013 non-null  float64\n",
      " 25  return_10d_lag2  2833793 non-null  float64\n",
      " 26  return_21d_lag2  2756309 non-null  float64\n",
      " 27  return_1d_lag3   2894841 non-null  float64\n",
      " 28  return_5d_lag3   2857273 non-null  float64\n",
      " 29  return_10d_lag3  2810313 non-null  float64\n",
      " 30  return_21d_lag3  2707001 non-null  float64\n",
      " 31  return_1d_lag4   2892493 non-null  float64\n",
      " 32  return_5d_lag4   2845533 non-null  float64\n",
      " 33  return_10d_lag4  2786833 non-null  float64\n",
      " 34  return_21d_lag4  2657693 non-null  float64\n",
      " 35  return_1d_lag5   2890145 non-null  float64\n",
      " 36  return_5d_lag5   2833793 non-null  float64\n",
      " 37  return_10d_lag5  2763353 non-null  float64\n",
      " 38  return_21d_lag5  2608385 non-null  float64\n",
      " 39  target_1d        2901885 non-null  float64\n",
      " 40  target_5d        2892493 non-null  float64\n",
      " 41  target_10d       2880753 non-null  float64\n",
      " 42  target_21d       2854925 non-null  float64\n",
      " 43  sector           2904233 non-null  object \n",
      " 44  year             2904233 non-null  int64  \n",
      " 45  month            2904233 non-null  int64  \n",
      "dtypes: float64(43), int64(2), object(1)\n",
      "memory usage: 1.1+ GB\n"
     ]
    }
   ],
   "source": [
    "prices.info(null_counts=True)"
   ]
  },
  {
   "cell_type": "code",
   "execution_count": 94,
   "metadata": {
    "ExecuteTime": {
     "end_time": "2021-04-15T20:00:42.318410Z",
     "start_time": "2021-04-15T20:00:39.942311Z"
    }
   },
   "outputs": [],
   "source": [
    "prices.assign(sector=pd.factorize(prices.sector, sort=True)[0]).to_hdf('data.h5', 'model_data/no_dummies') #将没有虚拟变量的数据储存起来"
   ]
  },
  {
   "cell_type": "code",
   "execution_count": 95,
   "metadata": {
    "ExecuteTime": {
     "end_time": "2021-04-15T20:00:43.678954Z",
     "start_time": "2021-04-15T20:00:42.319386Z"
    }
   },
   "outputs": [],
   "source": [
    "prices = pd.get_dummies(prices, #创建虚拟变量\n",
    "                        columns=['year', 'month', 'sector'],\n",
    "                        prefix=['year', 'month', ''], #给列名加前缀\n",
    "                        prefix_sep=['_', '_', ''],\n",
    "                        drop_first=True) #去除第一个，避免完全共线性"
   ]
  },
  {
   "cell_type": "code",
   "execution_count": 98,
   "metadata": {
    "collapsed": true
   },
   "outputs": [
    {
     "name": "stdout",
     "output_type": "stream",
     "text": [
      "<class 'pandas.core.frame.DataFrame'>\n",
      "MultiIndex: 2904233 entries, ('A', Timestamp('2013-01-02 00:00:00')) to ('ZUMZ', Timestamp('2017-12-29 00:00:00'))\n",
      "Data columns (total 69 columns):\n",
      " #   Column                 Non-Null Count    Dtype  \n",
      "---  ------                 --------------    -----  \n",
      " 0   open                   2904233 non-null  float64\n",
      " 1   close                  2904233 non-null  float64\n",
      " 2   low                    2904233 non-null  float64\n",
      " 3   high                   2904233 non-null  float64\n",
      " 4   volume                 2904233 non-null  float64\n",
      " 5   dollar_vol             2904233 non-null  float64\n",
      " 6   dollar_vol_1m          2857273 non-null  float64\n",
      " 7   dollar_vol_rank        2857273 non-null  float64\n",
      " 8   rsi                    2871361 non-null  float64\n",
      " 9   bb_high                2859618 non-null  float64\n",
      " 10  bb_low                 2859585 non-null  float64\n",
      " 11  atr                    2871361 non-null  float64\n",
      " 12  macd                   2826749 non-null  float64\n",
      " 13  return_1d              2901885 non-null  float64\n",
      " 14  return_5d              2892493 non-null  float64\n",
      " 15  return_10d             2880753 non-null  float64\n",
      " 16  return_21d             2854925 non-null  float64\n",
      " 17  return_42d             2805617 non-null  float64\n",
      " 18  return_63d             2756309 non-null  float64\n",
      " 19  return_1d_lag1         2899537 non-null  float64\n",
      " 20  return_5d_lag1         2880753 non-null  float64\n",
      " 21  return_10d_lag1        2857273 non-null  float64\n",
      " 22  return_21d_lag1        2805617 non-null  float64\n",
      " 23  return_1d_lag2         2897189 non-null  float64\n",
      " 24  return_5d_lag2         2869013 non-null  float64\n",
      " 25  return_10d_lag2        2833793 non-null  float64\n",
      " 26  return_21d_lag2        2756309 non-null  float64\n",
      " 27  return_1d_lag3         2894841 non-null  float64\n",
      " 28  return_5d_lag3         2857273 non-null  float64\n",
      " 29  return_10d_lag3        2810313 non-null  float64\n",
      " 30  return_21d_lag3        2707001 non-null  float64\n",
      " 31  return_1d_lag4         2892493 non-null  float64\n",
      " 32  return_5d_lag4         2845533 non-null  float64\n",
      " 33  return_10d_lag4        2786833 non-null  float64\n",
      " 34  return_21d_lag4        2657693 non-null  float64\n",
      " 35  return_1d_lag5         2890145 non-null  float64\n",
      " 36  return_5d_lag5         2833793 non-null  float64\n",
      " 37  return_10d_lag5        2763353 non-null  float64\n",
      " 38  return_21d_lag5        2608385 non-null  float64\n",
      " 39  target_1d              2901885 non-null  float64\n",
      " 40  target_5d              2892493 non-null  float64\n",
      " 41  target_10d             2880753 non-null  float64\n",
      " 42  target_21d             2854925 non-null  float64\n",
      " 43  year_2014              2904233 non-null  uint8  \n",
      " 44  year_2015              2904233 non-null  uint8  \n",
      " 45  year_2016              2904233 non-null  uint8  \n",
      " 46  year_2017              2904233 non-null  uint8  \n",
      " 47  month_2                2904233 non-null  uint8  \n",
      " 48  month_3                2904233 non-null  uint8  \n",
      " 49  month_4                2904233 non-null  uint8  \n",
      " 50  month_5                2904233 non-null  uint8  \n",
      " 51  month_6                2904233 non-null  uint8  \n",
      " 52  month_7                2904233 non-null  uint8  \n",
      " 53  month_8                2904233 non-null  uint8  \n",
      " 54  month_9                2904233 non-null  uint8  \n",
      " 55  month_10               2904233 non-null  uint8  \n",
      " 56  month_11               2904233 non-null  uint8  \n",
      " 57  month_12               2904233 non-null  uint8  \n",
      " 58  capital_goods          2904233 non-null  uint8  \n",
      " 59  consumer_durables      2904233 non-null  uint8  \n",
      " 60  consumer_non-durables  2904233 non-null  uint8  \n",
      " 61  consumer_services      2904233 non-null  uint8  \n",
      " 62  energy                 2904233 non-null  uint8  \n",
      " 63  finance                2904233 non-null  uint8  \n",
      " 64  health_care            2904233 non-null  uint8  \n",
      " 65  miscellaneous          2904233 non-null  uint8  \n",
      " 66  public_utilities       2904233 non-null  uint8  \n",
      " 67  technology             2904233 non-null  uint8  \n",
      " 68  transportation         2904233 non-null  uint8  \n",
      "dtypes: float64(43), uint8(26)\n",
      "memory usage: 1.1+ GB\n"
     ]
    }
   ],
   "source": [
    "prices.info(null_counts=True)"
   ]
  },
  {
   "cell_type": "markdown",
   "metadata": {},
   "source": [
    "## Store Model Data"
   ]
  },
  {
   "cell_type": "code",
   "execution_count": 99,
   "metadata": {
    "ExecuteTime": {
     "end_time": "2021-04-15T20:00:44.756756Z",
     "start_time": "2021-04-15T20:00:43.907155Z"
    }
   },
   "outputs": [],
   "source": [
    "prices.to_hdf('data.h5', 'model_data')"
   ]
  },
  {
   "cell_type": "markdown",
   "metadata": {},
   "source": [
    "## Explore Data"
   ]
  },
  {
   "cell_type": "markdown",
   "metadata": {},
   "source": [
    "### Plot Factors"
   ]
  },
  {
   "cell_type": "code",
   "execution_count": 100,
   "metadata": {
    "ExecuteTime": {
     "end_time": "2021-04-15T20:00:44.795250Z",
     "start_time": "2021-04-15T20:00:44.757588Z"
    }
   },
   "outputs": [],
   "source": [
    "target = 'target_5d'\n",
    "top100 = prices[prices.dollar_vol_rank<100].copy()"
   ]
  },
  {
   "cell_type": "markdown",
   "metadata": {},
   "source": [
    "### RSI"
   ]
  },
  {
   "cell_type": "code",
   "execution_count": 101,
   "metadata": {
    "ExecuteTime": {
     "end_time": "2021-04-15T20:00:45.400364Z",
     "start_time": "2021-04-15T20:00:44.796089Z"
    }
   },
   "outputs": [],
   "source": [
    "top100.loc[:, 'rsi_signal'] = pd.cut(top100.rsi, bins=[0, 30, 70, 100])"
   ]
  },
  {
   "cell_type": "code",
   "execution_count": 104,
   "metadata": {
    "ExecuteTime": {
     "end_time": "2021-04-15T20:00:45.422670Z",
     "start_time": "2021-04-15T20:00:45.401187Z"
    },
    "collapsed": true
   },
   "outputs": [
    {
     "data": {
      "text/html": [
       "<div>\n",
       "<style scoped>\n",
       "    .dataframe tbody tr th:only-of-type {\n",
       "        vertical-align: middle;\n",
       "    }\n",
       "\n",
       "    .dataframe tbody tr th {\n",
       "        vertical-align: top;\n",
       "    }\n",
       "\n",
       "    .dataframe thead th {\n",
       "        text-align: right;\n",
       "    }\n",
       "</style>\n",
       "<table border=\"1\" class=\"dataframe\">\n",
       "  <thead>\n",
       "    <tr style=\"text-align: right;\">\n",
       "      <th></th>\n",
       "      <th>count</th>\n",
       "      <th>mean</th>\n",
       "      <th>std</th>\n",
       "      <th>min</th>\n",
       "      <th>25%</th>\n",
       "      <th>50%</th>\n",
       "      <th>75%</th>\n",
       "      <th>max</th>\n",
       "    </tr>\n",
       "    <tr>\n",
       "      <th>rsi_signal</th>\n",
       "      <th></th>\n",
       "      <th></th>\n",
       "      <th></th>\n",
       "      <th></th>\n",
       "      <th></th>\n",
       "      <th></th>\n",
       "      <th></th>\n",
       "      <th></th>\n",
       "    </tr>\n",
       "  </thead>\n",
       "  <tbody>\n",
       "    <tr>\n",
       "      <th>(0, 30]</th>\n",
       "      <td>4209.0</td>\n",
       "      <td>0.001126</td>\n",
       "      <td>0.010457</td>\n",
       "      <td>-0.067138</td>\n",
       "      <td>-0.003606</td>\n",
       "      <td>0.001051</td>\n",
       "      <td>0.006156</td>\n",
       "      <td>0.061889</td>\n",
       "    </tr>\n",
       "    <tr>\n",
       "      <th>(30, 70]</th>\n",
       "      <td>107244.0</td>\n",
       "      <td>0.000446</td>\n",
       "      <td>0.007711</td>\n",
       "      <td>-0.170571</td>\n",
       "      <td>-0.003054</td>\n",
       "      <td>0.000650</td>\n",
       "      <td>0.004246</td>\n",
       "      <td>0.075653</td>\n",
       "    </tr>\n",
       "    <tr>\n",
       "      <th>(70, 100]</th>\n",
       "      <td>10634.0</td>\n",
       "      <td>0.000018</td>\n",
       "      <td>0.006354</td>\n",
       "      <td>-0.087857</td>\n",
       "      <td>-0.002818</td>\n",
       "      <td>0.000145</td>\n",
       "      <td>0.003121</td>\n",
       "      <td>0.058570</td>\n",
       "    </tr>\n",
       "  </tbody>\n",
       "</table>\n",
       "</div>"
      ],
      "text/plain": [
       "               count      mean       std       min       25%       50%  \\\n",
       "rsi_signal                                                               \n",
       "(0, 30]       4209.0  0.001126  0.010457 -0.067138 -0.003606  0.001051   \n",
       "(30, 70]    107244.0  0.000446  0.007711 -0.170571 -0.003054  0.000650   \n",
       "(70, 100]    10634.0  0.000018  0.006354 -0.087857 -0.002818  0.000145   \n",
       "\n",
       "                 75%       max  \n",
       "rsi_signal                      \n",
       "(0, 30]     0.006156  0.061889  \n",
       "(30, 70]    0.004246  0.075653  \n",
       "(70, 100]   0.003121  0.058570  "
      ]
     },
     "execution_count": 104,
     "metadata": {},
     "output_type": "execute_result"
    }
   ],
   "source": [
    "top100.groupby('rsi_signal')['target_5d'].describe()"
   ]
  },
  {
   "cell_type": "markdown",
   "metadata": {},
   "source": [
    "### Bollinger Bands"
   ]
  },
  {
   "cell_type": "code",
   "execution_count": 114,
   "metadata": {
    "ExecuteTime": {
     "end_time": "2021-04-15T20:00:47.664961Z",
     "start_time": "2021-04-15T20:00:45.423542Z"
    },
    "collapsed": true
   },
   "outputs": [
    {
     "name": "stdout",
     "output_type": "stream",
     "text": [
      "-2.68% (0.00%)\n"
     ]
    },
    {
     "data": {
      "image/png": "[encoded data removed]",
      "text/plain": [
       "<Figure size 432x432 with 3 Axes>"
      ]
     },
     "metadata": {},
     "output_type": "display_data"
    }
   ],
   "source": [
    "metric = 'bb_low'\n",
    "j=sns.jointplot(x=metric, y=target, data=top100) #绘制双变量分布\n",
    "\n",
    "df = top100[[metric, target]].dropna()\n",
    "r, p = spearmanr(df[metric], df[target])\n",
    "#斯皮尔曼相关系数（spearman's rank correlation coefficient, SCC）是衡量两变量之间的关系，无正态分布这一前提假设\n",
    "#p：即p-value,其原假设是两组数据不相关\n",
    "print(f'{r:,.2%} ({p:.2%})')"
   ]
  },
  {
   "cell_type": "code",
   "execution_count": 110,
   "metadata": {
    "ExecuteTime": {
     "end_time": "2021-04-15T20:00:49.209737Z",
     "start_time": "2021-04-15T20:00:47.666019Z"
    },
    "collapsed": true
   },
   "outputs": [
    {
     "name": "stdout",
     "output_type": "stream",
     "text": [
      "4.21% (0.00%)\n"
     ]
    },
    {
     "data": {
      "image/png": "[encoded data removed]",
      "text/plain": [
       "<Figure size 432x432 with 3 Axes>"
      ]
     },
     "metadata": {},
     "output_type": "display_data"
    }
   ],
   "source": [
    "metric = 'bb_high'\n",
    "j=sns.jointplot(x=metric, y=target, data=top100)\n",
    "\n",
    "df = top100[[metric, target]].dropna()\n",
    "r, p = spearmanr(df[metric], df[target])\n",
    "print(f'{r:,.2%} ({p:.2%})')"
   ]
  },
  {
   "cell_type": "markdown",
   "metadata": {},
   "source": [
    "### ATR"
   ]
  },
  {
   "cell_type": "code",
   "execution_count": 111,
   "metadata": {
    "ExecuteTime": {
     "end_time": "2021-04-15T20:00:50.643810Z",
     "start_time": "2021-04-15T20:00:49.210415Z"
    },
    "collapsed": true
   },
   "outputs": [
    {
     "name": "stdout",
     "output_type": "stream",
     "text": [
      "0.07% (80.08%)\n"
     ]
    },
    {
     "data": {
      "image/png": "[encoded data removed]",
      "text/plain": [
       "<Figure size 432x432 with 3 Axes>"
      ]
     },
     "metadata": {},
     "output_type": "display_data"
    }
   ],
   "source": [
    "metric = 'atr'\n",
    "j=sns.jointplot(x=metric, y=target, data=top100)\n",
    "\n",
    "df = top100[[metric, target]].dropna()\n",
    "r, p = spearmanr(df[metric], df[target])\n",
    "print(f'{r:,.2%} ({p:.2%})')"
   ]
  },
  {
   "cell_type": "markdown",
   "metadata": {},
   "source": [
    "### MACD"
   ]
  },
  {
   "cell_type": "code",
   "execution_count": 112,
   "metadata": {
    "ExecuteTime": {
     "end_time": "2021-04-15T20:00:52.023923Z",
     "start_time": "2021-04-15T20:00:50.644582Z"
    },
    "collapsed": true
   },
   "outputs": [
    {
     "name": "stdout",
     "output_type": "stream",
     "text": [
      "-4.72% (0.00%)\n"
     ]
    },
    {
     "data": {
      "image/png": "[encoded data removed]",
      "text/plain": [
       "<Figure size 432x432 with 3 Axes>"
      ]
     },
     "metadata": {},
     "output_type": "display_data"
    }
   ],
   "source": [
    "metric = 'macd'\n",
    "j=sns.jointplot(x=metric, y=target, data=top100)\n",
    "\n",
    "df = top100[[metric, target]].dropna()\n",
    "r, p = spearmanr(df[metric], df[target])\n",
    "print(f'{r:,.2%} ({p:.2%})')"
   ]
  }
 ],
 "metadata": {
  "kernelspec": {
   "display_name": "Python 3",
   "language": "python",
   "name": "python3"
  },
  "language_info": {
   "codemirror_mode": {
    "name": "ipython",
    "version": 3
   },
   "file_extension": ".py",
   "mimetype": "text/x-python",
   "name": "python",
   "nbconvert_exporter": "python",
   "pygments_lexer": "ipython3",
   "version": "3.8.8"
  },
  "toc": {
   "base_numbering": 1,
   "nav_menu": {},
   "number_sections": true,
   "sideBar": true,
   "skip_h1_title": true,
   "title_cell": "Table of Contents",
   "title_sidebar": "Contents",
   "toc_cell": false,
   "toc_position": {},
   "toc_section_display": true,
   "toc_window_display": true
  },
  "varInspector": {
   "cols": {
    "lenName": 16,
    "lenType": 16,
    "lenVar": 40
   },
   "kernels_config": {
    "python": {
     "delete_cmd_postfix": "",
     "delete_cmd_prefix": "del ",
     "library": "var_list.py",
     "varRefreshCmd": "print(var_dic_list())"
    },
    "r": {
     "delete_cmd_postfix": ") ",
     "delete_cmd_prefix": "rm(",
     "library": "var_list.r",
     "varRefreshCmd": "cat(var_dic_list()) "
    }
   },
   "types_to_exclude": [
    "module",
    "function",
    "builtin_function_or_method",
    "instance",
    "_Feature"
   ],
   "window_display": false
  }
 },
 "nbformat": 4,
 "nbformat_minor": 2
}
