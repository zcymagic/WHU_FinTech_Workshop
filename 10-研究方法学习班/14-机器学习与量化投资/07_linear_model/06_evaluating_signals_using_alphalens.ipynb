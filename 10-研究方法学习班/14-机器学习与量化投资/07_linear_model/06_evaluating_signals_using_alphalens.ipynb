{
 "cells": [
  {
   "cell_type": "markdown",
   "metadata": {},
   "source": [
    "# Alphalens Analysis"
   ]
  },
  {
   "cell_type": "code",
   "execution_count": 1,
   "metadata": {
    "ExecuteTime": {
     "end_time": "2022-11-08T12:16:01.076370Z",
     "start_time": "2022-11-08T12:16:01.070262Z"
    }
   },
   "outputs": [],
   "source": [
    "import warnings\n",
    "warnings.filterwarnings('ignore')"
   ]
  },
  {
   "cell_type": "code",
   "execution_count": 2,
   "metadata": {
    "ExecuteTime": {
     "end_time": "2022-11-08T12:16:04.680271Z",
     "start_time": "2022-11-08T12:16:01.242700Z"
    }
   },
   "outputs": [
    {
     "name": "stdout",
     "output_type": "stream",
     "text": [
      "Note: you may need to restart the kernel to use updated packages.\n"
     ]
    },
    {
     "name": "stderr",
     "output_type": "stream",
     "text": [
      "ERROR: Invalid requirement: '#进行单因子分析的开源项目'\n",
      "\n",
      "[notice] A new release of pip available: 22.3 -> 22.3.1\n",
      "[notice] To update, run: python.exe -m pip install --upgrade pip\n"
     ]
    }
   ],
   "source": [
    "pip install alphalens #进行单因子分析的开源项目"
   ]
  },
  {
   "cell_type": "code",
   "execution_count": 3,
   "metadata": {
    "ExecuteTime": {
     "end_time": "2022-11-08T12:16:12.360391Z",
     "start_time": "2022-11-08T12:16:04.715142Z"
    }
   },
   "outputs": [],
   "source": [
    "from pathlib import Path\n",
    "import pandas as pd\n",
    "from alphalens.tears import create_summary_tear_sheet\n",
    "from alphalens.utils import get_clean_factor_and_forward_returns"
   ]
  },
  {
   "cell_type": "code",
   "execution_count": 4,
   "metadata": {
    "ExecuteTime": {
     "end_time": "2022-11-08T12:16:12.406957Z",
     "start_time": "2022-11-08T12:16:12.395471Z"
    }
   },
   "outputs": [],
   "source": [
    "idx = pd.IndexSlice"
   ]
  },
  {
   "cell_type": "markdown",
   "metadata": {},
   "source": [
    "## Load Data"
   ]
  },
  {
   "cell_type": "code",
   "execution_count": 5,
   "metadata": {
    "ExecuteTime": {
     "end_time": "2022-11-08T12:16:18.623168Z",
     "start_time": "2022-11-08T12:16:12.457349Z"
    }
   },
   "outputs": [],
   "source": [
    "with pd.HDFStore('data.h5') as store:\n",
    "    lr_predictions = store['lr/predictions']\n",
    "    lasso_predictions = store['lasso/predictions']\n",
    "    lasso_scores = store['lasso/scores']\n",
    "    ridge_predictions = store['ridge/predictions']\n",
    "    ridge_scores = store['ridge/scores']"
   ]
  },
  {
   "cell_type": "code",
   "execution_count": 6,
   "metadata": {
    "ExecuteTime": {
     "end_time": "2022-11-08T12:16:18.917997Z",
     "start_time": "2022-11-08T12:16:18.906085Z"
    }
   },
   "outputs": [],
   "source": [
    "DATA_STORE = Path('..', 'data', 'assets.h5')"
   ]
  },
  {
   "cell_type": "code",
   "execution_count": 7,
   "metadata": {
    "ExecuteTime": {
     "end_time": "2022-11-08T12:16:19.134385Z",
     "start_time": "2022-11-08T12:16:19.122142Z"
    }
   },
   "outputs": [],
   "source": [
    "def get_trade_prices(tickers, start, stop):\n",
    "    prices = (pd.read_hdf(DATA_STORE, 'quandl/wiki/prices').swaplevel().sort_index())\n",
    "    prices.index.names = ['symbol', 'date']\n",
    "    prices = prices.loc[idx[tickers, str(start):str(stop)], 'adj_open']\n",
    "    return (prices\n",
    "            .unstack('symbol')\n",
    "            .sort_index()\n",
    "            .shift(-1)\n",
    "            .tz_localize('UTC'))"
   ]
  },
  {
   "cell_type": "code",
   "execution_count": 8,
   "metadata": {
    "ExecuteTime": {
     "end_time": "2022-11-08T12:16:19.273064Z",
     "start_time": "2022-11-08T12:16:19.260692Z"
    }
   },
   "outputs": [],
   "source": [
    "def get_best_alpha(scores):\n",
    "    return scores.groupby('alpha').ic.mean().idxmax()"
   ]
  },
  {
   "cell_type": "code",
   "execution_count": 9,
   "metadata": {
    "ExecuteTime": {
     "end_time": "2022-11-08T12:16:19.411705Z",
     "start_time": "2022-11-08T12:16:19.398741Z"
    }
   },
   "outputs": [],
   "source": [
    "def get_factor(predictions):\n",
    "    return (predictions.unstack('symbol') #unstack是将此时堆叠的第二个level:symbol展开，并置于列中\n",
    "            .dropna(how='all') #默认axis = 0,把有缺失值的行去除\n",
    "            .stack() #此时是将数据再次堆叠起来，但形式为同一个date对应若干个symbol\n",
    "            .tz_localize('UTC', level='date') #转UTC时区\n",
    "            .sort_index()) #依据index的值进行排序 "
   ]
  },
  {
   "cell_type": "markdown",
   "metadata": {},
   "source": [
    "## Linear Regression"
   ]
  },
  {
   "cell_type": "code",
   "execution_count": 10,
   "metadata": {
    "ExecuteTime": {
     "end_time": "2022-11-08T12:16:19.581038Z",
     "start_time": "2022-11-08T12:16:19.537306Z"
    }
   },
   "outputs": [
    {
     "data": {
      "text/html": [
       "<div>\n",
       "<style scoped>\n",
       "    .dataframe tbody tr th:only-of-type {\n",
       "        vertical-align: middle;\n",
       "    }\n",
       "\n",
       "    .dataframe tbody tr th {\n",
       "        vertical-align: top;\n",
       "    }\n",
       "\n",
       "    .dataframe thead th {\n",
       "        text-align: right;\n",
       "    }\n",
       "</style>\n",
       "<table border=\"1\" class=\"dataframe\">\n",
       "  <thead>\n",
       "    <tr style=\"text-align: right;\">\n",
       "      <th></th>\n",
       "      <th></th>\n",
       "      <th>actuals</th>\n",
       "      <th>predicted</th>\n",
       "    </tr>\n",
       "    <tr>\n",
       "      <th>symbol</th>\n",
       "      <th>date</th>\n",
       "      <th></th>\n",
       "      <th></th>\n",
       "    </tr>\n",
       "  </thead>\n",
       "  <tbody>\n",
       "    <tr>\n",
       "      <th rowspan=\"5\" valign=\"top\">AAPL</th>\n",
       "      <th>2017-11-15</th>\n",
       "      <td>0.011947</td>\n",
       "      <td>-0.001070</td>\n",
       "    </tr>\n",
       "    <tr>\n",
       "      <th>2017-11-16</th>\n",
       "      <td>-0.005552</td>\n",
       "      <td>-0.000177</td>\n",
       "    </tr>\n",
       "    <tr>\n",
       "      <th>2017-11-17</th>\n",
       "      <td>-0.000999</td>\n",
       "      <td>-0.000833</td>\n",
       "    </tr>\n",
       "    <tr>\n",
       "      <th>2017-11-20</th>\n",
       "      <td>0.018590</td>\n",
       "      <td>-0.000467</td>\n",
       "    </tr>\n",
       "    <tr>\n",
       "      <th>2017-11-21</th>\n",
       "      <td>0.010512</td>\n",
       "      <td>0.000103</td>\n",
       "    </tr>\n",
       "    <tr>\n",
       "      <th>...</th>\n",
       "      <th>...</th>\n",
       "      <td>...</td>\n",
       "      <td>...</td>\n",
       "    </tr>\n",
       "    <tr>\n",
       "      <th rowspan=\"5\" valign=\"top\">XOM</th>\n",
       "      <th>2014-12-16</th>\n",
       "      <td>0.030205</td>\n",
       "      <td>-0.001093</td>\n",
       "    </tr>\n",
       "    <tr>\n",
       "      <th>2014-12-17</th>\n",
       "      <td>0.024040</td>\n",
       "      <td>-0.001359</td>\n",
       "    </tr>\n",
       "    <tr>\n",
       "      <th>2014-12-18</th>\n",
       "      <td>0.027205</td>\n",
       "      <td>-0.000944</td>\n",
       "    </tr>\n",
       "    <tr>\n",
       "      <th>2014-12-19</th>\n",
       "      <td>-0.003311</td>\n",
       "      <td>-0.001867</td>\n",
       "    </tr>\n",
       "    <tr>\n",
       "      <th>2014-12-22</th>\n",
       "      <td>0.013500</td>\n",
       "      <td>-0.002199</td>\n",
       "    </tr>\n",
       "  </tbody>\n",
       "</table>\n",
       "<p>74054 rows × 2 columns</p>\n",
       "</div>"
      ],
      "text/plain": [
       "                    actuals  predicted\n",
       "symbol date                           \n",
       "AAPL   2017-11-15  0.011947  -0.001070\n",
       "       2017-11-16 -0.005552  -0.000177\n",
       "       2017-11-17 -0.000999  -0.000833\n",
       "       2017-11-20  0.018590  -0.000467\n",
       "       2017-11-21  0.010512   0.000103\n",
       "...                     ...        ...\n",
       "XOM    2014-12-16  0.030205  -0.001093\n",
       "       2014-12-17  0.024040  -0.001359\n",
       "       2014-12-18  0.027205  -0.000944\n",
       "       2014-12-19 -0.003311  -0.001867\n",
       "       2014-12-22  0.013500  -0.002199\n",
       "\n",
       "[74054 rows x 2 columns]"
      ]
     },
     "execution_count": 10,
     "metadata": {},
     "output_type": "execute_result"
    }
   ],
   "source": [
    "lr_predictions"
   ]
  },
  {
   "cell_type": "code",
   "execution_count": 11,
   "metadata": {
    "ExecuteTime": {
     "end_time": "2022-11-08T12:16:19.844624Z",
     "start_time": "2022-11-08T12:16:19.727731Z"
    }
   },
   "outputs": [
    {
     "data": {
      "text/plain": [
       "date                       symbol\n",
       "2014-12-09 00:00:00+00:00  AAL       0.001836\n",
       "                           AAPL     -0.001626\n",
       "                           ABBV      0.001321\n",
       "                           AGN       0.002162\n",
       "                           AIG      -0.000331\n",
       "dtype: float64"
      ]
     },
     "execution_count": 11,
     "metadata": {},
     "output_type": "execute_result"
    }
   ],
   "source": [
    "lr_factor = get_factor(lr_predictions.predicted.swaplevel()) #swaplevel的作用是转变index内部两个level之间的顺序\n",
    "lr_factor.head() #这里factor的value为notebook5中获取的预测值"
   ]
  },
  {
   "cell_type": "code",
   "execution_count": 12,
   "metadata": {
    "ExecuteTime": {
     "end_time": "2022-11-08T12:16:20.015252Z",
     "start_time": "2022-11-08T12:16:19.987369Z"
    }
   },
   "outputs": [],
   "source": [
    "tickers = lr_factor.index.get_level_values('symbol').unique() #获取lr_factor中所有被包含的symbol"
   ]
  },
  {
   "cell_type": "code",
   "execution_count": 13,
   "metadata": {
    "ExecuteTime": {
     "end_time": "2022-11-08T12:18:54.666822Z",
     "start_time": "2022-11-08T12:16:20.174235Z"
    }
   },
   "outputs": [
    {
     "name": "stdout",
     "output_type": "stream",
     "text": [
      "<class 'pandas.core.frame.DataFrame'>\n",
      "DatetimeIndex: 1007 entries, 2014-01-02 00:00:00+00:00 to 2017-12-29 00:00:00+00:00\n",
      "Columns: 257 entries, AAL to GWW\n",
      "dtypes: float64(257)\n",
      "memory usage: 2.0 MB\n"
     ]
    }
   ],
   "source": [
    "trade_prices = get_trade_prices(tickers, 2014, 2017) #读取价格信息\n",
    "trade_prices.info()"
   ]
  },
  {
   "cell_type": "code",
   "execution_count": 14,
   "metadata": {
    "ExecuteTime": {
     "end_time": "2022-11-08T12:18:55.349275Z",
     "start_time": "2022-11-08T12:18:55.228490Z"
    }
   },
   "outputs": [
    {
     "data": {
      "text/html": [
       "<div>\n",
       "<style scoped>\n",
       "    .dataframe tbody tr th:only-of-type {\n",
       "        vertical-align: middle;\n",
       "    }\n",
       "\n",
       "    .dataframe tbody tr th {\n",
       "        vertical-align: top;\n",
       "    }\n",
       "\n",
       "    .dataframe thead th {\n",
       "        text-align: right;\n",
       "    }\n",
       "</style>\n",
       "<table border=\"1\" class=\"dataframe\">\n",
       "  <thead>\n",
       "    <tr style=\"text-align: right;\">\n",
       "      <th>symbol</th>\n",
       "      <th>AAL</th>\n",
       "      <th>AAPL</th>\n",
       "      <th>ABBV</th>\n",
       "      <th>AGN</th>\n",
       "      <th>AIG</th>\n",
       "      <th>AMGN</th>\n",
       "      <th>AMZN</th>\n",
       "      <th>APA</th>\n",
       "      <th>APC</th>\n",
       "      <th>AXP</th>\n",
       "      <th>...</th>\n",
       "      <th>ADP</th>\n",
       "      <th>VRTX</th>\n",
       "      <th>CCI</th>\n",
       "      <th>AAOI</th>\n",
       "      <th>COL</th>\n",
       "      <th>EL</th>\n",
       "      <th>SBAC</th>\n",
       "      <th>EFX</th>\n",
       "      <th>PCG</th>\n",
       "      <th>GWW</th>\n",
       "    </tr>\n",
       "    <tr>\n",
       "      <th>date</th>\n",
       "      <th></th>\n",
       "      <th></th>\n",
       "      <th></th>\n",
       "      <th></th>\n",
       "      <th></th>\n",
       "      <th></th>\n",
       "      <th></th>\n",
       "      <th></th>\n",
       "      <th></th>\n",
       "      <th></th>\n",
       "      <th></th>\n",
       "      <th></th>\n",
       "      <th></th>\n",
       "      <th></th>\n",
       "      <th></th>\n",
       "      <th></th>\n",
       "      <th></th>\n",
       "      <th></th>\n",
       "      <th></th>\n",
       "      <th></th>\n",
       "      <th></th>\n",
       "    </tr>\n",
       "  </thead>\n",
       "  <tbody>\n",
       "    <tr>\n",
       "      <th>2014-01-02 00:00:00+00:00</th>\n",
       "      <td>24.956426</td>\n",
       "      <td>73.487534</td>\n",
       "      <td>45.431010</td>\n",
       "      <td>165.808688</td>\n",
       "      <td>47.690328</td>\n",
       "      <td>106.171823</td>\n",
       "      <td>398.29</td>\n",
       "      <td>80.905598</td>\n",
       "      <td>76.158380</td>\n",
       "      <td>83.994279</td>\n",
       "      <td>...</td>\n",
       "      <td>64.565657</td>\n",
       "      <td>74.01</td>\n",
       "      <td>62.731692</td>\n",
       "      <td>14.6300</td>\n",
       "      <td>69.179894</td>\n",
       "      <td>70.224109</td>\n",
       "      <td>88.40</td>\n",
       "      <td>65.576197</td>\n",
       "      <td>34.952191</td>\n",
       "      <td>233.988427</td>\n",
       "    </tr>\n",
       "    <tr>\n",
       "      <th>2014-01-03 00:00:00+00:00</th>\n",
       "      <td>25.799614</td>\n",
       "      <td>71.439198</td>\n",
       "      <td>45.822282</td>\n",
       "      <td>167.788256</td>\n",
       "      <td>48.518580</td>\n",
       "      <td>105.043117</td>\n",
       "      <td>395.85</td>\n",
       "      <td>80.867880</td>\n",
       "      <td>75.829402</td>\n",
       "      <td>84.512472</td>\n",
       "      <td>...</td>\n",
       "      <td>64.887640</td>\n",
       "      <td>74.92</td>\n",
       "      <td>62.600473</td>\n",
       "      <td>14.3500</td>\n",
       "      <td>70.798635</td>\n",
       "      <td>71.195739</td>\n",
       "      <td>88.24</td>\n",
       "      <td>65.901400</td>\n",
       "      <td>34.943391</td>\n",
       "      <td>234.561679</td>\n",
       "    </tr>\n",
       "    <tr>\n",
       "      <th>2014-01-06 00:00:00+00:00</th>\n",
       "      <td>26.361740</td>\n",
       "      <td>72.352376</td>\n",
       "      <td>44.205025</td>\n",
       "      <td>167.827848</td>\n",
       "      <td>47.690328</td>\n",
       "      <td>104.152998</td>\n",
       "      <td>395.04</td>\n",
       "      <td>81.490230</td>\n",
       "      <td>76.293841</td>\n",
       "      <td>84.955291</td>\n",
       "      <td>...</td>\n",
       "      <td>64.380516</td>\n",
       "      <td>75.75</td>\n",
       "      <td>62.512993</td>\n",
       "      <td>14.8899</td>\n",
       "      <td>71.707402</td>\n",
       "      <td>70.786131</td>\n",
       "      <td>88.00</td>\n",
       "      <td>65.882270</td>\n",
       "      <td>34.934592</td>\n",
       "      <td>233.257993</td>\n",
       "    </tr>\n",
       "    <tr>\n",
       "      <th>2014-01-07 00:00:00+00:00</th>\n",
       "      <td>25.557319</td>\n",
       "      <td>71.619973</td>\n",
       "      <td>44.022431</td>\n",
       "      <td>168.342536</td>\n",
       "      <td>48.217397</td>\n",
       "      <td>107.034412</td>\n",
       "      <td>398.47</td>\n",
       "      <td>82.565200</td>\n",
       "      <td>77.271099</td>\n",
       "      <td>83.747498</td>\n",
       "      <td>...</td>\n",
       "      <td>64.638103</td>\n",
       "      <td>74.55</td>\n",
       "      <td>63.492766</td>\n",
       "      <td>14.7500</td>\n",
       "      <td>71.735801</td>\n",
       "      <td>70.386047</td>\n",
       "      <td>88.54</td>\n",
       "      <td>65.557067</td>\n",
       "      <td>35.101785</td>\n",
       "      <td>233.849737</td>\n",
       "    </tr>\n",
       "    <tr>\n",
       "      <th>2014-01-08 00:00:00+00:00</th>\n",
       "      <td>27.369689</td>\n",
       "      <td>72.682024</td>\n",
       "      <td>43.987652</td>\n",
       "      <td>177.804875</td>\n",
       "      <td>48.829174</td>\n",
       "      <td>106.942647</td>\n",
       "      <td>403.71</td>\n",
       "      <td>81.556237</td>\n",
       "      <td>76.584116</td>\n",
       "      <td>84.909346</td>\n",
       "      <td>...</td>\n",
       "      <td>66.811489</td>\n",
       "      <td>75.44</td>\n",
       "      <td>63.300310</td>\n",
       "      <td>14.6500</td>\n",
       "      <td>72.180719</td>\n",
       "      <td>70.033593</td>\n",
       "      <td>89.35</td>\n",
       "      <td>65.853576</td>\n",
       "      <td>35.260179</td>\n",
       "      <td>235.255129</td>\n",
       "    </tr>\n",
       "    <tr>\n",
       "      <th>...</th>\n",
       "      <td>...</td>\n",
       "      <td>...</td>\n",
       "      <td>...</td>\n",
       "      <td>...</td>\n",
       "      <td>...</td>\n",
       "      <td>...</td>\n",
       "      <td>...</td>\n",
       "      <td>...</td>\n",
       "      <td>...</td>\n",
       "      <td>...</td>\n",
       "      <td>...</td>\n",
       "      <td>...</td>\n",
       "      <td>...</td>\n",
       "      <td>...</td>\n",
       "      <td>...</td>\n",
       "      <td>...</td>\n",
       "      <td>...</td>\n",
       "      <td>...</td>\n",
       "      <td>...</td>\n",
       "      <td>...</td>\n",
       "      <td>...</td>\n",
       "    </tr>\n",
       "    <tr>\n",
       "      <th>2017-12-22 00:00:00+00:00</th>\n",
       "      <td>52.350000</td>\n",
       "      <td>170.800000</td>\n",
       "      <td>98.150000</td>\n",
       "      <td>164.530000</td>\n",
       "      <td>59.220000</td>\n",
       "      <td>176.180000</td>\n",
       "      <td>1168.36</td>\n",
       "      <td>43.130000</td>\n",
       "      <td>53.200000</td>\n",
       "      <td>98.800000</td>\n",
       "      <td>...</td>\n",
       "      <td>117.150000</td>\n",
       "      <td>149.50</td>\n",
       "      <td>108.550000</td>\n",
       "      <td>39.5100</td>\n",
       "      <td>135.200000</td>\n",
       "      <td>127.780000</td>\n",
       "      <td>159.52</td>\n",
       "      <td>119.750000</td>\n",
       "      <td>44.770000</td>\n",
       "      <td>234.000000</td>\n",
       "    </tr>\n",
       "    <tr>\n",
       "      <th>2017-12-26 00:00:00+00:00</th>\n",
       "      <td>52.800000</td>\n",
       "      <td>170.100000</td>\n",
       "      <td>97.730000</td>\n",
       "      <td>164.420000</td>\n",
       "      <td>59.290000</td>\n",
       "      <td>176.440000</td>\n",
       "      <td>1179.91</td>\n",
       "      <td>43.300000</td>\n",
       "      <td>54.100000</td>\n",
       "      <td>98.900000</td>\n",
       "      <td>...</td>\n",
       "      <td>117.780000</td>\n",
       "      <td>151.13</td>\n",
       "      <td>109.120000</td>\n",
       "      <td>38.6500</td>\n",
       "      <td>135.100000</td>\n",
       "      <td>128.640000</td>\n",
       "      <td>160.71</td>\n",
       "      <td>119.020000</td>\n",
       "      <td>44.470000</td>\n",
       "      <td>236.010000</td>\n",
       "    </tr>\n",
       "    <tr>\n",
       "      <th>2017-12-27 00:00:00+00:00</th>\n",
       "      <td>52.450000</td>\n",
       "      <td>171.000000</td>\n",
       "      <td>98.190000</td>\n",
       "      <td>164.940000</td>\n",
       "      <td>59.700000</td>\n",
       "      <td>176.770000</td>\n",
       "      <td>1189.00</td>\n",
       "      <td>42.830000</td>\n",
       "      <td>53.780000</td>\n",
       "      <td>99.640000</td>\n",
       "      <td>...</td>\n",
       "      <td>117.590000</td>\n",
       "      <td>152.19</td>\n",
       "      <td>109.640000</td>\n",
       "      <td>38.7600</td>\n",
       "      <td>135.190000</td>\n",
       "      <td>127.620000</td>\n",
       "      <td>161.08</td>\n",
       "      <td>119.820000</td>\n",
       "      <td>44.860000</td>\n",
       "      <td>237.430000</td>\n",
       "    </tr>\n",
       "    <tr>\n",
       "      <th>2017-12-28 00:00:00+00:00</th>\n",
       "      <td>52.420000</td>\n",
       "      <td>170.520000</td>\n",
       "      <td>98.140000</td>\n",
       "      <td>164.610000</td>\n",
       "      <td>59.970000</td>\n",
       "      <td>175.250000</td>\n",
       "      <td>1182.35</td>\n",
       "      <td>43.020000</td>\n",
       "      <td>53.980000</td>\n",
       "      <td>100.000000</td>\n",
       "      <td>...</td>\n",
       "      <td>116.640000</td>\n",
       "      <td>150.45</td>\n",
       "      <td>110.000000</td>\n",
       "      <td>38.6000</td>\n",
       "      <td>135.500000</td>\n",
       "      <td>127.800000</td>\n",
       "      <td>163.56</td>\n",
       "      <td>120.050000</td>\n",
       "      <td>44.850000</td>\n",
       "      <td>237.960000</td>\n",
       "    </tr>\n",
       "    <tr>\n",
       "      <th>2017-12-29 00:00:00+00:00</th>\n",
       "      <td>NaN</td>\n",
       "      <td>NaN</td>\n",
       "      <td>NaN</td>\n",
       "      <td>NaN</td>\n",
       "      <td>NaN</td>\n",
       "      <td>NaN</td>\n",
       "      <td>NaN</td>\n",
       "      <td>NaN</td>\n",
       "      <td>NaN</td>\n",
       "      <td>NaN</td>\n",
       "      <td>...</td>\n",
       "      <td>NaN</td>\n",
       "      <td>NaN</td>\n",
       "      <td>NaN</td>\n",
       "      <td>NaN</td>\n",
       "      <td>NaN</td>\n",
       "      <td>NaN</td>\n",
       "      <td>NaN</td>\n",
       "      <td>NaN</td>\n",
       "      <td>NaN</td>\n",
       "      <td>NaN</td>\n",
       "    </tr>\n",
       "  </tbody>\n",
       "</table>\n",
       "<p>1007 rows × 257 columns</p>\n",
       "</div>"
      ],
      "text/plain": [
       "symbol                           AAL        AAPL       ABBV         AGN  \\\n",
       "date                                                                      \n",
       "2014-01-02 00:00:00+00:00  24.956426   73.487534  45.431010  165.808688   \n",
       "2014-01-03 00:00:00+00:00  25.799614   71.439198  45.822282  167.788256   \n",
       "2014-01-06 00:00:00+00:00  26.361740   72.352376  44.205025  167.827848   \n",
       "2014-01-07 00:00:00+00:00  25.557319   71.619973  44.022431  168.342536   \n",
       "2014-01-08 00:00:00+00:00  27.369689   72.682024  43.987652  177.804875   \n",
       "...                              ...         ...        ...         ...   \n",
       "2017-12-22 00:00:00+00:00  52.350000  170.800000  98.150000  164.530000   \n",
       "2017-12-26 00:00:00+00:00  52.800000  170.100000  97.730000  164.420000   \n",
       "2017-12-27 00:00:00+00:00  52.450000  171.000000  98.190000  164.940000   \n",
       "2017-12-28 00:00:00+00:00  52.420000  170.520000  98.140000  164.610000   \n",
       "2017-12-29 00:00:00+00:00        NaN         NaN        NaN         NaN   \n",
       "\n",
       "symbol                           AIG        AMGN     AMZN        APA  \\\n",
       "date                                                                   \n",
       "2014-01-02 00:00:00+00:00  47.690328  106.171823   398.29  80.905598   \n",
       "2014-01-03 00:00:00+00:00  48.518580  105.043117   395.85  80.867880   \n",
       "2014-01-06 00:00:00+00:00  47.690328  104.152998   395.04  81.490230   \n",
       "2014-01-07 00:00:00+00:00  48.217397  107.034412   398.47  82.565200   \n",
       "2014-01-08 00:00:00+00:00  48.829174  106.942647   403.71  81.556237   \n",
       "...                              ...         ...      ...        ...   \n",
       "2017-12-22 00:00:00+00:00  59.220000  176.180000  1168.36  43.130000   \n",
       "2017-12-26 00:00:00+00:00  59.290000  176.440000  1179.91  43.300000   \n",
       "2017-12-27 00:00:00+00:00  59.700000  176.770000  1189.00  42.830000   \n",
       "2017-12-28 00:00:00+00:00  59.970000  175.250000  1182.35  43.020000   \n",
       "2017-12-29 00:00:00+00:00        NaN         NaN      NaN        NaN   \n",
       "\n",
       "symbol                           APC         AXP  ...         ADP    VRTX  \\\n",
       "date                                              ...                       \n",
       "2014-01-02 00:00:00+00:00  76.158380   83.994279  ...   64.565657   74.01   \n",
       "2014-01-03 00:00:00+00:00  75.829402   84.512472  ...   64.887640   74.92   \n",
       "2014-01-06 00:00:00+00:00  76.293841   84.955291  ...   64.380516   75.75   \n",
       "2014-01-07 00:00:00+00:00  77.271099   83.747498  ...   64.638103   74.55   \n",
       "2014-01-08 00:00:00+00:00  76.584116   84.909346  ...   66.811489   75.44   \n",
       "...                              ...         ...  ...         ...     ...   \n",
       "2017-12-22 00:00:00+00:00  53.200000   98.800000  ...  117.150000  149.50   \n",
       "2017-12-26 00:00:00+00:00  54.100000   98.900000  ...  117.780000  151.13   \n",
       "2017-12-27 00:00:00+00:00  53.780000   99.640000  ...  117.590000  152.19   \n",
       "2017-12-28 00:00:00+00:00  53.980000  100.000000  ...  116.640000  150.45   \n",
       "2017-12-29 00:00:00+00:00        NaN         NaN  ...         NaN     NaN   \n",
       "\n",
       "symbol                            CCI     AAOI         COL          EL  \\\n",
       "date                                                                     \n",
       "2014-01-02 00:00:00+00:00   62.731692  14.6300   69.179894   70.224109   \n",
       "2014-01-03 00:00:00+00:00   62.600473  14.3500   70.798635   71.195739   \n",
       "2014-01-06 00:00:00+00:00   62.512993  14.8899   71.707402   70.786131   \n",
       "2014-01-07 00:00:00+00:00   63.492766  14.7500   71.735801   70.386047   \n",
       "2014-01-08 00:00:00+00:00   63.300310  14.6500   72.180719   70.033593   \n",
       "...                               ...      ...         ...         ...   \n",
       "2017-12-22 00:00:00+00:00  108.550000  39.5100  135.200000  127.780000   \n",
       "2017-12-26 00:00:00+00:00  109.120000  38.6500  135.100000  128.640000   \n",
       "2017-12-27 00:00:00+00:00  109.640000  38.7600  135.190000  127.620000   \n",
       "2017-12-28 00:00:00+00:00  110.000000  38.6000  135.500000  127.800000   \n",
       "2017-12-29 00:00:00+00:00         NaN      NaN         NaN         NaN   \n",
       "\n",
       "symbol                       SBAC         EFX        PCG         GWW  \n",
       "date                                                                  \n",
       "2014-01-02 00:00:00+00:00   88.40   65.576197  34.952191  233.988427  \n",
       "2014-01-03 00:00:00+00:00   88.24   65.901400  34.943391  234.561679  \n",
       "2014-01-06 00:00:00+00:00   88.00   65.882270  34.934592  233.257993  \n",
       "2014-01-07 00:00:00+00:00   88.54   65.557067  35.101785  233.849737  \n",
       "2014-01-08 00:00:00+00:00   89.35   65.853576  35.260179  235.255129  \n",
       "...                           ...         ...        ...         ...  \n",
       "2017-12-22 00:00:00+00:00  159.52  119.750000  44.770000  234.000000  \n",
       "2017-12-26 00:00:00+00:00  160.71  119.020000  44.470000  236.010000  \n",
       "2017-12-27 00:00:00+00:00  161.08  119.820000  44.860000  237.430000  \n",
       "2017-12-28 00:00:00+00:00  163.56  120.050000  44.850000  237.960000  \n",
       "2017-12-29 00:00:00+00:00     NaN         NaN        NaN         NaN  \n",
       "\n",
       "[1007 rows x 257 columns]"
      ]
     },
     "execution_count": 14,
     "metadata": {},
     "output_type": "execute_result"
    }
   ],
   "source": [
    "trade_prices"
   ]
  },
  {
   "cell_type": "code",
   "execution_count": 15,
   "metadata": {
    "ExecuteTime": {
     "end_time": "2022-11-08T12:19:02.123635Z",
     "start_time": "2022-11-08T12:18:55.650429Z"
    }
   },
   "outputs": [
    {
     "name": "stdout",
     "output_type": "stream",
     "text": [
      "Dropped 0.0% entries from factor data: 0.0% in forward returns computation and 0.0% in binning phase (set max_loss=0 to see potentially suppressed Exceptions).\n",
      "max_loss is 35.0%, not exceeded: OK!\n",
      "<class 'pandas.core.frame.DataFrame'>\n",
      "MultiIndex: 74054 entries, (Timestamp('2014-12-09 00:00:00+0000', tz='UTC', freq='C'), 'AAL') to (Timestamp('2017-11-29 00:00:00+0000', tz='UTC', freq='C'), 'XOM')\n",
      "Data columns (total 6 columns):\n",
      " #   Column           Non-Null Count  Dtype  \n",
      "---  ------           --------------  -----  \n",
      " 0   1D               74054 non-null  float64\n",
      " 1   5D               74054 non-null  float64\n",
      " 2   10D              74054 non-null  float64\n",
      " 3   21D              74054 non-null  float64\n",
      " 4   factor           74054 non-null  float64\n",
      " 5   factor_quantile  74054 non-null  int64  \n",
      "dtypes: float64(5), int64(1)\n",
      "memory usage: 3.7+ MB\n"
     ]
    }
   ],
   "source": [
    "#该函数的作用是将符合格式的factor数据和price数据整合到一起，\n",
    "lr_factor_data = get_clean_factor_and_forward_returns(factor=lr_factor,\n",
    "                                                      prices=trade_prices,\n",
    "                                                      quantiles=5,\n",
    "                                                      periods=(1, 5, 10, 21)) #依据price计算未来收益率的周期，也可以理解为换仓的周期\n",
    "lr_factor_data.info()"
   ]
  },
  {
   "cell_type": "code",
   "execution_count": 16,
   "metadata": {
    "ExecuteTime": {
     "end_time": "2022-11-08T12:19:02.557889Z",
     "start_time": "2022-11-08T12:19:02.503750Z"
    }
   },
   "outputs": [
    {
     "data": {
      "text/html": [
       "<div>\n",
       "<style scoped>\n",
       "    .dataframe tbody tr th:only-of-type {\n",
       "        vertical-align: middle;\n",
       "    }\n",
       "\n",
       "    .dataframe tbody tr th {\n",
       "        vertical-align: top;\n",
       "    }\n",
       "\n",
       "    .dataframe thead th {\n",
       "        text-align: right;\n",
       "    }\n",
       "</style>\n",
       "<table border=\"1\" class=\"dataframe\">\n",
       "  <thead>\n",
       "    <tr style=\"text-align: right;\">\n",
       "      <th></th>\n",
       "      <th></th>\n",
       "      <th>1D</th>\n",
       "      <th>5D</th>\n",
       "      <th>10D</th>\n",
       "      <th>21D</th>\n",
       "      <th>factor</th>\n",
       "      <th>factor_quantile</th>\n",
       "    </tr>\n",
       "    <tr>\n",
       "      <th>date</th>\n",
       "      <th>asset</th>\n",
       "      <th></th>\n",
       "      <th></th>\n",
       "      <th></th>\n",
       "      <th></th>\n",
       "      <th></th>\n",
       "      <th></th>\n",
       "    </tr>\n",
       "  </thead>\n",
       "  <tbody>\n",
       "    <tr>\n",
       "      <th rowspan=\"5\" valign=\"top\">2014-12-09 00:00:00+00:00</th>\n",
       "      <th>AAL</th>\n",
       "      <td>0.000000</td>\n",
       "      <td>-0.030924</td>\n",
       "      <td>0.017269</td>\n",
       "      <td>0.025301</td>\n",
       "      <td>0.001836</td>\n",
       "      <td>5</td>\n",
       "    </tr>\n",
       "    <tr>\n",
       "      <th>AAPL</th>\n",
       "      <td>-0.018792</td>\n",
       "      <td>-0.063718</td>\n",
       "      <td>-0.015995</td>\n",
       "      <td>-0.015820</td>\n",
       "      <td>-0.001626</td>\n",
       "      <td>2</td>\n",
       "    </tr>\n",
       "    <tr>\n",
       "      <th>ABBV</th>\n",
       "      <td>-0.042627</td>\n",
       "      <td>-0.056740</td>\n",
       "      <td>-0.067540</td>\n",
       "      <td>-0.044643</td>\n",
       "      <td>0.001321</td>\n",
       "      <td>4</td>\n",
       "    </tr>\n",
       "    <tr>\n",
       "      <th>AGN</th>\n",
       "      <td>-0.009914</td>\n",
       "      <td>-0.017159</td>\n",
       "      <td>-0.022802</td>\n",
       "      <td>0.049684</td>\n",
       "      <td>0.002162</td>\n",
       "      <td>5</td>\n",
       "    </tr>\n",
       "    <tr>\n",
       "      <th>AIG</th>\n",
       "      <td>-0.007596</td>\n",
       "      <td>-0.038162</td>\n",
       "      <td>0.024778</td>\n",
       "      <td>-0.038886</td>\n",
       "      <td>-0.000331</td>\n",
       "      <td>3</td>\n",
       "    </tr>\n",
       "    <tr>\n",
       "      <th>...</th>\n",
       "      <th>...</th>\n",
       "      <td>...</td>\n",
       "      <td>...</td>\n",
       "      <td>...</td>\n",
       "      <td>...</td>\n",
       "      <td>...</td>\n",
       "      <td>...</td>\n",
       "    </tr>\n",
       "    <tr>\n",
       "      <th rowspan=\"5\" valign=\"top\">2017-11-29 00:00:00+00:00</th>\n",
       "      <th>WBA</th>\n",
       "      <td>0.000417</td>\n",
       "      <td>-0.014180</td>\n",
       "      <td>-0.006395</td>\n",
       "      <td>0.009732</td>\n",
       "      <td>-0.001084</td>\n",
       "      <td>2</td>\n",
       "    </tr>\n",
       "    <tr>\n",
       "      <th>WDC</th>\n",
       "      <td>-0.032349</td>\n",
       "      <td>-0.047852</td>\n",
       "      <td>0.023804</td>\n",
       "      <td>-0.015991</td>\n",
       "      <td>-0.000951</td>\n",
       "      <td>2</td>\n",
       "    </tr>\n",
       "    <tr>\n",
       "      <th>WFC</th>\n",
       "      <td>-0.008066</td>\n",
       "      <td>0.024899</td>\n",
       "      <td>0.042960</td>\n",
       "      <td>0.077678</td>\n",
       "      <td>0.000831</td>\n",
       "      <td>5</td>\n",
       "    </tr>\n",
       "    <tr>\n",
       "      <th>WMT</th>\n",
       "      <td>-0.004893</td>\n",
       "      <td>-0.010501</td>\n",
       "      <td>0.003313</td>\n",
       "      <td>0.013355</td>\n",
       "      <td>-0.001419</td>\n",
       "      <td>2</td>\n",
       "    </tr>\n",
       "    <tr>\n",
       "      <th>XOM</th>\n",
       "      <td>0.012007</td>\n",
       "      <td>-0.000606</td>\n",
       "      <td>0.007156</td>\n",
       "      <td>0.018799</td>\n",
       "      <td>-0.001262</td>\n",
       "      <td>2</td>\n",
       "    </tr>\n",
       "  </tbody>\n",
       "</table>\n",
       "<p>74054 rows × 6 columns</p>\n",
       "</div>"
      ],
      "text/plain": [
       "                                       1D        5D       10D       21D  \\\n",
       "date                      asset                                           \n",
       "2014-12-09 00:00:00+00:00 AAL    0.000000 -0.030924  0.017269  0.025301   \n",
       "                          AAPL  -0.018792 -0.063718 -0.015995 -0.015820   \n",
       "                          ABBV  -0.042627 -0.056740 -0.067540 -0.044643   \n",
       "                          AGN   -0.009914 -0.017159 -0.022802  0.049684   \n",
       "                          AIG   -0.007596 -0.038162  0.024778 -0.038886   \n",
       "...                                   ...       ...       ...       ...   \n",
       "2017-11-29 00:00:00+00:00 WBA    0.000417 -0.014180 -0.006395  0.009732   \n",
       "                          WDC   -0.032349 -0.047852  0.023804 -0.015991   \n",
       "                          WFC   -0.008066  0.024899  0.042960  0.077678   \n",
       "                          WMT   -0.004893 -0.010501  0.003313  0.013355   \n",
       "                          XOM    0.012007 -0.000606  0.007156  0.018799   \n",
       "\n",
       "                                   factor  factor_quantile  \n",
       "date                      asset                             \n",
       "2014-12-09 00:00:00+00:00 AAL    0.001836                5  \n",
       "                          AAPL  -0.001626                2  \n",
       "                          ABBV   0.001321                4  \n",
       "                          AGN    0.002162                5  \n",
       "                          AIG   -0.000331                3  \n",
       "...                                   ...              ...  \n",
       "2017-11-29 00:00:00+00:00 WBA   -0.001084                2  \n",
       "                          WDC   -0.000951                2  \n",
       "                          WFC    0.000831                5  \n",
       "                          WMT   -0.001419                2  \n",
       "                          XOM   -0.001262                2  \n",
       "\n",
       "[74054 rows x 6 columns]"
      ]
     },
     "execution_count": 16,
     "metadata": {},
     "output_type": "execute_result"
    }
   ],
   "source": [
    "lr_factor_data"
   ]
  },
  {
   "cell_type": "code",
   "execution_count": 17,
   "metadata": {
    "ExecuteTime": {
     "end_time": "2022-11-08T12:25:03.522419Z",
     "start_time": "2022-11-08T12:19:02.885244Z"
    }
   },
   "outputs": [
    {
     "name": "stdout",
     "output_type": "stream",
     "text": [
      "Quantiles Statistics\n"
     ]
    },
    {
     "data": {
      "text/html": [
       "<div>\n",
       "<style scoped>\n",
       "    .dataframe tbody tr th:only-of-type {\n",
       "        vertical-align: middle;\n",
       "    }\n",
       "\n",
       "    .dataframe tbody tr th {\n",
       "        vertical-align: top;\n",
       "    }\n",
       "\n",
       "    .dataframe thead th {\n",
       "        text-align: right;\n",
       "    }\n",
       "</style>\n",
       "<table border=\"1\" class=\"dataframe\">\n",
       "  <thead>\n",
       "    <tr style=\"text-align: right;\">\n",
       "      <th></th>\n",
       "      <th>min</th>\n",
       "      <th>max</th>\n",
       "      <th>mean</th>\n",
       "      <th>std</th>\n",
       "      <th>count</th>\n",
       "      <th>count %</th>\n",
       "    </tr>\n",
       "    <tr>\n",
       "      <th>factor_quantile</th>\n",
       "      <th></th>\n",
       "      <th></th>\n",
       "      <th></th>\n",
       "      <th></th>\n",
       "      <th></th>\n",
       "      <th></th>\n",
       "    </tr>\n",
       "  </thead>\n",
       "  <tbody>\n",
       "    <tr>\n",
       "      <th>1</th>\n",
       "      <td>-0.047411</td>\n",
       "      <td>0.008700</td>\n",
       "      <td>-0.003169</td>\n",
       "      <td>0.004062</td>\n",
       "      <td>14982</td>\n",
       "      <td>20.231183</td>\n",
       "    </tr>\n",
       "    <tr>\n",
       "      <th>2</th>\n",
       "      <td>-0.015560</td>\n",
       "      <td>0.010750</td>\n",
       "      <td>-0.000996</td>\n",
       "      <td>0.003360</td>\n",
       "      <td>14877</td>\n",
       "      <td>20.089394</td>\n",
       "    </tr>\n",
       "    <tr>\n",
       "      <th>3</th>\n",
       "      <td>-0.013523</td>\n",
       "      <td>0.012632</td>\n",
       "      <td>0.000134</td>\n",
       "      <td>0.003351</td>\n",
       "      <td>14336</td>\n",
       "      <td>19.358846</td>\n",
       "    </tr>\n",
       "    <tr>\n",
       "      <th>4</th>\n",
       "      <td>-0.012081</td>\n",
       "      <td>0.014850</td>\n",
       "      <td>0.001213</td>\n",
       "      <td>0.003458</td>\n",
       "      <td>14877</td>\n",
       "      <td>20.089394</td>\n",
       "    </tr>\n",
       "    <tr>\n",
       "      <th>5</th>\n",
       "      <td>-0.010094</td>\n",
       "      <td>0.038492</td>\n",
       "      <td>0.003323</td>\n",
       "      <td>0.004279</td>\n",
       "      <td>14982</td>\n",
       "      <td>20.231183</td>\n",
       "    </tr>\n",
       "  </tbody>\n",
       "</table>\n",
       "</div>"
      ],
      "text/plain": [
       "                      min       max      mean       std  count    count %\n",
       "factor_quantile                                                          \n",
       "1               -0.047411  0.008700 -0.003169  0.004062  14982  20.231183\n",
       "2               -0.015560  0.010750 -0.000996  0.003360  14877  20.089394\n",
       "3               -0.013523  0.012632  0.000134  0.003351  14336  19.358846\n",
       "4               -0.012081  0.014850  0.001213  0.003458  14877  20.089394\n",
       "5               -0.010094  0.038492  0.003323  0.004279  14982  20.231183"
      ]
     },
     "metadata": {},
     "output_type": "display_data"
    },
    {
     "name": "stdout",
     "output_type": "stream",
     "text": [
      "Returns Analysis\n"
     ]
    },
    {
     "data": {
      "text/html": [
       "<div>\n",
       "<style scoped>\n",
       "    .dataframe tbody tr th:only-of-type {\n",
       "        vertical-align: middle;\n",
       "    }\n",
       "\n",
       "    .dataframe tbody tr th {\n",
       "        vertical-align: top;\n",
       "    }\n",
       "\n",
       "    .dataframe thead th {\n",
       "        text-align: right;\n",
       "    }\n",
       "</style>\n",
       "<table border=\"1\" class=\"dataframe\">\n",
       "  <thead>\n",
       "    <tr style=\"text-align: right;\">\n",
       "      <th></th>\n",
       "      <th>1D</th>\n",
       "      <th>5D</th>\n",
       "      <th>10D</th>\n",
       "      <th>21D</th>\n",
       "    </tr>\n",
       "  </thead>\n",
       "  <tbody>\n",
       "    <tr>\n",
       "      <th>Ann. alpha</th>\n",
       "      <td>0.033</td>\n",
       "      <td>0.021</td>\n",
       "      <td>0.010</td>\n",
       "      <td>0.007</td>\n",
       "    </tr>\n",
       "    <tr>\n",
       "      <th>beta</th>\n",
       "      <td>-0.010</td>\n",
       "      <td>-0.079</td>\n",
       "      <td>-0.060</td>\n",
       "      <td>0.012</td>\n",
       "    </tr>\n",
       "    <tr>\n",
       "      <th>Mean Period Wise Return Top Quantile (bps)</th>\n",
       "      <td>1.108</td>\n",
       "      <td>0.724</td>\n",
       "      <td>0.028</td>\n",
       "      <td>0.212</td>\n",
       "    </tr>\n",
       "    <tr>\n",
       "      <th>Mean Period Wise Return Bottom Quantile (bps)</th>\n",
       "      <td>-2.869</td>\n",
       "      <td>-0.714</td>\n",
       "      <td>-0.524</td>\n",
       "      <td>-0.740</td>\n",
       "    </tr>\n",
       "    <tr>\n",
       "      <th>Mean Period Wise Spread (bps)</th>\n",
       "      <td>3.976</td>\n",
       "      <td>1.468</td>\n",
       "      <td>0.575</td>\n",
       "      <td>0.944</td>\n",
       "    </tr>\n",
       "  </tbody>\n",
       "</table>\n",
       "</div>"
      ],
      "text/plain": [
       "                                                  1D     5D    10D    21D\n",
       "Ann. alpha                                     0.033  0.021  0.010  0.007\n",
       "beta                                          -0.010 -0.079 -0.060  0.012\n",
       "Mean Period Wise Return Top Quantile (bps)     1.108  0.724  0.028  0.212\n",
       "Mean Period Wise Return Bottom Quantile (bps) -2.869 -0.714 -0.524 -0.740\n",
       "Mean Period Wise Spread (bps)                  3.976  1.468  0.575  0.944"
      ]
     },
     "metadata": {},
     "output_type": "display_data"
    },
    {
     "name": "stdout",
     "output_type": "stream",
     "text": [
      "Information Analysis\n"
     ]
    },
    {
     "data": {
      "text/html": [
       "<div>\n",
       "<style scoped>\n",
       "    .dataframe tbody tr th:only-of-type {\n",
       "        vertical-align: middle;\n",
       "    }\n",
       "\n",
       "    .dataframe tbody tr th {\n",
       "        vertical-align: top;\n",
       "    }\n",
       "\n",
       "    .dataframe thead th {\n",
       "        text-align: right;\n",
       "    }\n",
       "</style>\n",
       "<table border=\"1\" class=\"dataframe\">\n",
       "  <thead>\n",
       "    <tr style=\"text-align: right;\">\n",
       "      <th></th>\n",
       "      <th>1D</th>\n",
       "      <th>5D</th>\n",
       "      <th>10D</th>\n",
       "      <th>21D</th>\n",
       "    </tr>\n",
       "  </thead>\n",
       "  <tbody>\n",
       "    <tr>\n",
       "      <th>IC Mean</th>\n",
       "      <td>0.020</td>\n",
       "      <td>0.013</td>\n",
       "      <td>0.013</td>\n",
       "      <td>0.014</td>\n",
       "    </tr>\n",
       "    <tr>\n",
       "      <th>IC Std.</th>\n",
       "      <td>0.181</td>\n",
       "      <td>0.167</td>\n",
       "      <td>0.167</td>\n",
       "      <td>0.155</td>\n",
       "    </tr>\n",
       "    <tr>\n",
       "      <th>Risk-Adjusted IC</th>\n",
       "      <td>0.108</td>\n",
       "      <td>0.079</td>\n",
       "      <td>0.077</td>\n",
       "      <td>0.093</td>\n",
       "    </tr>\n",
       "    <tr>\n",
       "      <th>t-stat(IC)</th>\n",
       "      <td>2.965</td>\n",
       "      <td>2.168</td>\n",
       "      <td>2.105</td>\n",
       "      <td>2.555</td>\n",
       "    </tr>\n",
       "    <tr>\n",
       "      <th>p-value(IC)</th>\n",
       "      <td>0.003</td>\n",
       "      <td>0.030</td>\n",
       "      <td>0.036</td>\n",
       "      <td>0.011</td>\n",
       "    </tr>\n",
       "    <tr>\n",
       "      <th>IC Skew</th>\n",
       "      <td>0.005</td>\n",
       "      <td>-0.018</td>\n",
       "      <td>-0.031</td>\n",
       "      <td>-0.022</td>\n",
       "    </tr>\n",
       "    <tr>\n",
       "      <th>IC Kurtosis</th>\n",
       "      <td>-0.129</td>\n",
       "      <td>-0.178</td>\n",
       "      <td>-0.153</td>\n",
       "      <td>-0.291</td>\n",
       "    </tr>\n",
       "  </tbody>\n",
       "</table>\n",
       "</div>"
      ],
      "text/plain": [
       "                     1D     5D    10D    21D\n",
       "IC Mean           0.020  0.013  0.013  0.014\n",
       "IC Std.           0.181  0.167  0.167  0.155\n",
       "Risk-Adjusted IC  0.108  0.079  0.077  0.093\n",
       "t-stat(IC)        2.965  2.168  2.105  2.555\n",
       "p-value(IC)       0.003  0.030  0.036  0.011\n",
       "IC Skew           0.005 -0.018 -0.031 -0.022\n",
       "IC Kurtosis      -0.129 -0.178 -0.153 -0.291"
      ]
     },
     "metadata": {},
     "output_type": "display_data"
    },
    {
     "name": "stdout",
     "output_type": "stream",
     "text": [
      "Turnover Analysis\n"
     ]
    },
    {
     "data": {
      "text/html": [
       "<div>\n",
       "<style scoped>\n",
       "    .dataframe tbody tr th:only-of-type {\n",
       "        vertical-align: middle;\n",
       "    }\n",
       "\n",
       "    .dataframe tbody tr th {\n",
       "        vertical-align: top;\n",
       "    }\n",
       "\n",
       "    .dataframe thead th {\n",
       "        text-align: right;\n",
       "    }\n",
       "</style>\n",
       "<table border=\"1\" class=\"dataframe\">\n",
       "  <thead>\n",
       "    <tr style=\"text-align: right;\">\n",
       "      <th></th>\n",
       "      <th>1D</th>\n",
       "      <th>5D</th>\n",
       "      <th>10D</th>\n",
       "      <th>21D</th>\n",
       "    </tr>\n",
       "  </thead>\n",
       "  <tbody>\n",
       "    <tr>\n",
       "      <th>Quantile 1 Mean Turnover</th>\n",
       "      <td>0.296</td>\n",
       "      <td>0.520</td>\n",
       "      <td>0.621</td>\n",
       "      <td>0.728</td>\n",
       "    </tr>\n",
       "    <tr>\n",
       "      <th>Quantile 2 Mean Turnover</th>\n",
       "      <td>0.516</td>\n",
       "      <td>0.710</td>\n",
       "      <td>0.757</td>\n",
       "      <td>0.791</td>\n",
       "    </tr>\n",
       "    <tr>\n",
       "      <th>Quantile 3 Mean Turnover</th>\n",
       "      <td>0.568</td>\n",
       "      <td>0.739</td>\n",
       "      <td>0.777</td>\n",
       "      <td>0.804</td>\n",
       "    </tr>\n",
       "    <tr>\n",
       "      <th>Quantile 4 Mean Turnover</th>\n",
       "      <td>0.509</td>\n",
       "      <td>0.701</td>\n",
       "      <td>0.754</td>\n",
       "      <td>0.784</td>\n",
       "    </tr>\n",
       "    <tr>\n",
       "      <th>Quantile 5 Mean Turnover</th>\n",
       "      <td>0.298</td>\n",
       "      <td>0.529</td>\n",
       "      <td>0.637</td>\n",
       "      <td>0.738</td>\n",
       "    </tr>\n",
       "  </tbody>\n",
       "</table>\n",
       "</div>"
      ],
      "text/plain": [
       "                              1D     5D    10D    21D\n",
       "Quantile 1 Mean Turnover   0.296  0.520  0.621  0.728\n",
       "Quantile 2 Mean Turnover   0.516  0.710  0.757  0.791\n",
       "Quantile 3 Mean Turnover   0.568  0.739  0.777  0.804\n",
       "Quantile 4 Mean Turnover   0.509  0.701  0.754  0.784\n",
       "Quantile 5 Mean Turnover   0.298  0.529  0.637  0.738"
      ]
     },
     "metadata": {},
     "output_type": "display_data"
    },
    {
     "data": {
      "text/html": [
       "<div>\n",
       "<style scoped>\n",
       "    .dataframe tbody tr th:only-of-type {\n",
       "        vertical-align: middle;\n",
       "    }\n",
       "\n",
       "    .dataframe tbody tr th {\n",
       "        vertical-align: top;\n",
       "    }\n",
       "\n",
       "    .dataframe thead th {\n",
       "        text-align: right;\n",
       "    }\n",
       "</style>\n",
       "<table border=\"1\" class=\"dataframe\">\n",
       "  <thead>\n",
       "    <tr style=\"text-align: right;\">\n",
       "      <th></th>\n",
       "      <th>1D</th>\n",
       "      <th>5D</th>\n",
       "      <th>10D</th>\n",
       "      <th>21D</th>\n",
       "    </tr>\n",
       "  </thead>\n",
       "  <tbody>\n",
       "    <tr>\n",
       "      <th>Mean Factor Rank Autocorrelation</th>\n",
       "      <td>0.821</td>\n",
       "      <td>0.547</td>\n",
       "      <td>0.392</td>\n",
       "      <td>0.242</td>\n",
       "    </tr>\n",
       "  </tbody>\n",
       "</table>\n",
       "</div>"
      ],
      "text/plain": [
       "                                     1D     5D    10D    21D\n",
       "Mean Factor Rank Autocorrelation  0.821  0.547  0.392  0.242"
      ]
     },
     "metadata": {},
     "output_type": "display_data"
    },
    {
     "data": {
      "text/plain": [
       "<Figure size 432x288 with 0 Axes>"
      ]
     },
     "metadata": {},
     "output_type": "display_data"
    },
    {
     "data": {
      "image/png": "[encoded data removed]",
      "text/plain": [
       "<Figure size 1008x7056 with 1 Axes>"
      ]
     },
     "metadata": {},
     "output_type": "display_data"
    }
   ],
   "source": [
    "#分析结果摘要\n",
    "create_summary_tear_sheet(lr_factor_data); #默认计算是基于多空组合的\n",
    "#Quantiles Statistics\n",
    "    #分位组统计，随着分组的增长，收入的均值也在上升\n",
    "#Return Analysis\n",
    "    #用市场超额收益率和因子多空组合作为自变量和因变量做回归（即用CAPM来检验因子的有效性）\n",
    "    #Compute the alpha (excess returns), alpha t-stat (alpha significance),\n",
    "    #and beta (market exposure) of a factor. A regression is run with\n",
    "    #the period wise factor universe mean return as the independent variable\n",
    "    #and mean period wise return from a portfolio weighted by factor values\n",
    "    #as the dependent variable.\n",
    "#Information Analysis\n",
    "    #分析因子与收益之间的相关性\n",
    "#Turnover Analysis\n",
    "    #分析换手率的变化 #可见时间间隔越长，每个组中需要换手的股票占比越大\n",
    "#Mean Factor Rank Autocorrelation\n",
    "    #反映因子所在分位组的时序稳定性"
   ]
  },
  {
   "cell_type": "markdown",
   "metadata": {},
   "source": [
    "## Ridge Regression"
   ]
  },
  {
   "cell_type": "code",
   "execution_count": 18,
   "metadata": {
    "ExecuteTime": {
     "end_time": "2022-11-08T12:25:03.988070Z",
     "start_time": "2022-11-08T12:25:03.916101Z"
    }
   },
   "outputs": [],
   "source": [
    "best_ridge_alpha = get_best_alpha(ridge_scores)\n",
    "ridge_predictions = ridge_predictions[ridge_predictions.alpha==best_ridge_alpha].drop('alpha', axis=1)"
   ]
  },
  {
   "cell_type": "code",
   "execution_count": 19,
   "metadata": {
    "ExecuteTime": {
     "end_time": "2022-11-08T12:25:04.610041Z",
     "start_time": "2022-11-08T12:25:04.447044Z"
    }
   },
   "outputs": [
    {
     "data": {
      "text/plain": [
       "date                       symbol\n",
       "2014-12-09 00:00:00+00:00  AAL       0.001953\n",
       "                           AAPL     -0.001374\n",
       "                           ABBV      0.001091\n",
       "                           AGN       0.001934\n",
       "                           AIG      -0.000471\n",
       "dtype: float64"
      ]
     },
     "execution_count": 19,
     "metadata": {},
     "output_type": "execute_result"
    }
   ],
   "source": [
    "ridge_factor = get_factor(ridge_predictions.predicted.swaplevel())\n",
    "ridge_factor.head()"
   ]
  },
  {
   "cell_type": "code",
   "execution_count": 20,
   "metadata": {
    "ExecuteTime": {
     "end_time": "2022-11-08T12:25:12.579097Z",
     "start_time": "2022-11-08T12:25:05.023935Z"
    }
   },
   "outputs": [
    {
     "name": "stdout",
     "output_type": "stream",
     "text": [
      "Dropped 0.0% entries from factor data: 0.0% in forward returns computation and 0.0% in binning phase (set max_loss=0 to see potentially suppressed Exceptions).\n",
      "max_loss is 35.0%, not exceeded: OK!\n",
      "<class 'pandas.core.frame.DataFrame'>\n",
      "MultiIndex: 74054 entries, (Timestamp('2014-12-09 00:00:00+0000', tz='UTC', freq='C'), 'AAL') to (Timestamp('2017-11-29 00:00:00+0000', tz='UTC', freq='C'), 'XOM')\n",
      "Data columns (total 6 columns):\n",
      " #   Column           Non-Null Count  Dtype  \n",
      "---  ------           --------------  -----  \n",
      " 0   1D               74054 non-null  float64\n",
      " 1   5D               74054 non-null  float64\n",
      " 2   10D              74054 non-null  float64\n",
      " 3   21D              74054 non-null  float64\n",
      " 4   factor           74054 non-null  float64\n",
      " 5   factor_quantile  74054 non-null  int64  \n",
      "dtypes: float64(5), int64(1)\n",
      "memory usage: 3.7+ MB\n"
     ]
    }
   ],
   "source": [
    "ridge_factor_data = get_clean_factor_and_forward_returns(factor=ridge_factor,\n",
    "                                                         prices=trade_prices,\n",
    "                                                         quantiles=5,\n",
    "                                                         periods=(1, 5, 10, 21))\n",
    "ridge_factor_data.info()"
   ]
  },
  {
   "cell_type": "code",
   "execution_count": null,
   "metadata": {
    "ExecuteTime": {
     "start_time": "2022-11-08T12:16:04.747Z"
    }
   },
   "outputs": [],
   "source": [
    "create_summary_tear_sheet(ridge_factor_data);"
   ]
  },
  {
   "cell_type": "markdown",
   "metadata": {},
   "source": [
    "## Lasso Regression"
   ]
  },
  {
   "cell_type": "code",
   "execution_count": null,
   "metadata": {
    "ExecuteTime": {
     "start_time": "2022-11-08T12:16:05.077Z"
    }
   },
   "outputs": [],
   "source": [
    "best_lasso_alpha = get_best_alpha(lasso_scores)\n",
    "lasso_predictions = lasso_predictions[lasso_predictions.alpha==best_lasso_alpha].drop('alpha', axis=1)"
   ]
  },
  {
   "cell_type": "code",
   "execution_count": null,
   "metadata": {
    "ExecuteTime": {
     "start_time": "2022-11-08T12:16:05.236Z"
    }
   },
   "outputs": [],
   "source": [
    "lasso_factor = get_factor(lasso_predictions.predicted.swaplevel())\n",
    "lasso_factor.head()"
   ]
  },
  {
   "cell_type": "code",
   "execution_count": null,
   "metadata": {
    "ExecuteTime": {
     "start_time": "2022-11-08T12:16:05.459Z"
    }
   },
   "outputs": [],
   "source": [
    "lasso_factor_data = get_clean_factor_and_forward_returns(factor=lasso_factor,\n",
    "                                                      prices=trade_prices,\n",
    "                                                      quantiles=5,\n",
    "                                                      periods=(1, 5, 10, 21))\n",
    "lasso_factor_data.info()"
   ]
  },
  {
   "cell_type": "code",
   "execution_count": 38,
   "metadata": {
    "ExecuteTime": {
     "end_time": "2021-04-15T20:16:22.806032Z",
     "start_time": "2021-04-15T20:15:56.003253Z"
    },
    "collapsed": true
   },
   "outputs": [
    {
     "name": "stdout",
     "output_type": "stream",
     "text": [
      "Quantiles Statistics\n"
     ]
    },
    {
     "data": {
      "text/html": [
       "<div>\n",
       "<style scoped>\n",
       "    .dataframe tbody tr th:only-of-type {\n",
       "        vertical-align: middle;\n",
       "    }\n",
       "\n",
       "    .dataframe tbody tr th {\n",
       "        vertical-align: top;\n",
       "    }\n",
       "\n",
       "    .dataframe thead th {\n",
       "        text-align: right;\n",
       "    }\n",
       "</style>\n",
       "<table border=\"1\" class=\"dataframe\">\n",
       "  <thead>\n",
       "    <tr style=\"text-align: right;\">\n",
       "      <th></th>\n",
       "      <th>min</th>\n",
       "      <th>max</th>\n",
       "      <th>mean</th>\n",
       "      <th>std</th>\n",
       "      <th>count</th>\n",
       "      <th>count %</th>\n",
       "    </tr>\n",
       "    <tr>\n",
       "      <th>factor_quantile</th>\n",
       "      <th></th>\n",
       "      <th></th>\n",
       "      <th></th>\n",
       "      <th></th>\n",
       "      <th></th>\n",
       "      <th></th>\n",
       "    </tr>\n",
       "  </thead>\n",
       "  <tbody>\n",
       "    <tr>\n",
       "      <th>1</th>\n",
       "      <td>-0.044839</td>\n",
       "      <td>0.009398</td>\n",
       "      <td>-0.003459</td>\n",
       "      <td>0.003828</td>\n",
       "      <td>14982</td>\n",
       "      <td>20.231183</td>\n",
       "    </tr>\n",
       "    <tr>\n",
       "      <th>2</th>\n",
       "      <td>-0.014281</td>\n",
       "      <td>0.011321</td>\n",
       "      <td>-0.001359</td>\n",
       "      <td>0.003232</td>\n",
       "      <td>14877</td>\n",
       "      <td>20.089394</td>\n",
       "    </tr>\n",
       "    <tr>\n",
       "      <th>3</th>\n",
       "      <td>-0.012327</td>\n",
       "      <td>0.013100</td>\n",
       "      <td>-0.000258</td>\n",
       "      <td>0.003285</td>\n",
       "      <td>14336</td>\n",
       "      <td>19.358846</td>\n",
       "    </tr>\n",
       "    <tr>\n",
       "      <th>4</th>\n",
       "      <td>-0.010948</td>\n",
       "      <td>0.015352</td>\n",
       "      <td>0.000791</td>\n",
       "      <td>0.003434</td>\n",
       "      <td>14877</td>\n",
       "      <td>20.089394</td>\n",
       "    </tr>\n",
       "    <tr>\n",
       "      <th>5</th>\n",
       "      <td>-0.009000</td>\n",
       "      <td>0.038298</td>\n",
       "      <td>0.002835</td>\n",
       "      <td>0.004327</td>\n",
       "      <td>14982</td>\n",
       "      <td>20.231183</td>\n",
       "    </tr>\n",
       "  </tbody>\n",
       "</table>\n",
       "</div>"
      ],
      "text/plain": [
       "                      min       max      mean       std  count    count %\n",
       "factor_quantile                                                          \n",
       "1               -0.044839  0.009398 -0.003459  0.003828  14982  20.231183\n",
       "2               -0.014281  0.011321 -0.001359  0.003232  14877  20.089394\n",
       "3               -0.012327  0.013100 -0.000258  0.003285  14336  19.358846\n",
       "4               -0.010948  0.015352  0.000791  0.003434  14877  20.089394\n",
       "5               -0.009000  0.038298  0.002835  0.004327  14982  20.231183"
      ]
     },
     "metadata": {},
     "output_type": "display_data"
    },
    {
     "name": "stdout",
     "output_type": "stream",
     "text": [
      "Returns Analysis\n"
     ]
    },
    {
     "data": {
      "text/html": [
       "<div>\n",
       "<style scoped>\n",
       "    .dataframe tbody tr th:only-of-type {\n",
       "        vertical-align: middle;\n",
       "    }\n",
       "\n",
       "    .dataframe tbody tr th {\n",
       "        vertical-align: top;\n",
       "    }\n",
       "\n",
       "    .dataframe thead th {\n",
       "        text-align: right;\n",
       "    }\n",
       "</style>\n",
       "<table border=\"1\" class=\"dataframe\">\n",
       "  <thead>\n",
       "    <tr style=\"text-align: right;\">\n",
       "      <th></th>\n",
       "      <th>1D</th>\n",
       "      <th>5D</th>\n",
       "      <th>10D</th>\n",
       "      <th>21D</th>\n",
       "    </tr>\n",
       "  </thead>\n",
       "  <tbody>\n",
       "    <tr>\n",
       "      <th>Ann. alpha</th>\n",
       "      <td>0.034</td>\n",
       "      <td>0.022</td>\n",
       "      <td>0.012</td>\n",
       "      <td>0.009</td>\n",
       "    </tr>\n",
       "    <tr>\n",
       "      <th>beta</th>\n",
       "      <td>-0.009</td>\n",
       "      <td>-0.078</td>\n",
       "      <td>-0.058</td>\n",
       "      <td>0.014</td>\n",
       "    </tr>\n",
       "    <tr>\n",
       "      <th>Mean Period Wise Return Top Quantile (bps)</th>\n",
       "      <td>1.967</td>\n",
       "      <td>0.778</td>\n",
       "      <td>0.044</td>\n",
       "      <td>0.238</td>\n",
       "    </tr>\n",
       "    <tr>\n",
       "      <th>Mean Period Wise Return Bottom Quantile (bps)</th>\n",
       "      <td>-2.507</td>\n",
       "      <td>-0.772</td>\n",
       "      <td>-0.764</td>\n",
       "      <td>-0.906</td>\n",
       "    </tr>\n",
       "    <tr>\n",
       "      <th>Mean Period Wise Spread (bps)</th>\n",
       "      <td>4.473</td>\n",
       "      <td>1.579</td>\n",
       "      <td>0.827</td>\n",
       "      <td>1.134</td>\n",
       "    </tr>\n",
       "  </tbody>\n",
       "</table>\n",
       "</div>"
      ],
      "text/plain": [
       "                                                  1D     5D    10D    21D\n",
       "Ann. alpha                                     0.034  0.022  0.012  0.009\n",
       "beta                                          -0.009 -0.078 -0.058  0.014\n",
       "Mean Period Wise Return Top Quantile (bps)     1.967  0.778  0.044  0.238\n",
       "Mean Period Wise Return Bottom Quantile (bps) -2.507 -0.772 -0.764 -0.906\n",
       "Mean Period Wise Spread (bps)                  4.473  1.579  0.827  1.134"
      ]
     },
     "metadata": {},
     "output_type": "display_data"
    },
    {
     "name": "stdout",
     "output_type": "stream",
     "text": [
      "Information Analysis\n"
     ]
    },
    {
     "data": {
      "text/html": [
       "<div>\n",
       "<style scoped>\n",
       "    .dataframe tbody tr th:only-of-type {\n",
       "        vertical-align: middle;\n",
       "    }\n",
       "\n",
       "    .dataframe tbody tr th {\n",
       "        vertical-align: top;\n",
       "    }\n",
       "\n",
       "    .dataframe thead th {\n",
       "        text-align: right;\n",
       "    }\n",
       "</style>\n",
       "<table border=\"1\" class=\"dataframe\">\n",
       "  <thead>\n",
       "    <tr style=\"text-align: right;\">\n",
       "      <th></th>\n",
       "      <th>1D</th>\n",
       "      <th>5D</th>\n",
       "      <th>10D</th>\n",
       "      <th>21D</th>\n",
       "    </tr>\n",
       "  </thead>\n",
       "  <tbody>\n",
       "    <tr>\n",
       "      <th>IC Mean</th>\n",
       "      <td>0.020</td>\n",
       "      <td>0.014</td>\n",
       "      <td>0.013</td>\n",
       "      <td>0.014</td>\n",
       "    </tr>\n",
       "    <tr>\n",
       "      <th>IC Std.</th>\n",
       "      <td>0.181</td>\n",
       "      <td>0.168</td>\n",
       "      <td>0.168</td>\n",
       "      <td>0.155</td>\n",
       "    </tr>\n",
       "    <tr>\n",
       "      <th>Risk-Adjusted IC</th>\n",
       "      <td>0.111</td>\n",
       "      <td>0.082</td>\n",
       "      <td>0.075</td>\n",
       "      <td>0.093</td>\n",
       "    </tr>\n",
       "    <tr>\n",
       "      <th>t-stat(IC)</th>\n",
       "      <td>3.037</td>\n",
       "      <td>2.239</td>\n",
       "      <td>2.058</td>\n",
       "      <td>2.551</td>\n",
       "    </tr>\n",
       "    <tr>\n",
       "      <th>p-value(IC)</th>\n",
       "      <td>0.002</td>\n",
       "      <td>0.025</td>\n",
       "      <td>0.040</td>\n",
       "      <td>0.011</td>\n",
       "    </tr>\n",
       "    <tr>\n",
       "      <th>IC Skew</th>\n",
       "      <td>0.002</td>\n",
       "      <td>-0.011</td>\n",
       "      <td>-0.035</td>\n",
       "      <td>-0.022</td>\n",
       "    </tr>\n",
       "    <tr>\n",
       "      <th>IC Kurtosis</th>\n",
       "      <td>-0.152</td>\n",
       "      <td>-0.192</td>\n",
       "      <td>-0.161</td>\n",
       "      <td>-0.307</td>\n",
       "    </tr>\n",
       "  </tbody>\n",
       "</table>\n",
       "</div>"
      ],
      "text/plain": [
       "                     1D     5D    10D    21D\n",
       "IC Mean           0.020  0.014  0.013  0.014\n",
       "IC Std.           0.181  0.168  0.168  0.155\n",
       "Risk-Adjusted IC  0.111  0.082  0.075  0.093\n",
       "t-stat(IC)        3.037  2.239  2.058  2.551\n",
       "p-value(IC)       0.002  0.025  0.040  0.011\n",
       "IC Skew           0.002 -0.011 -0.035 -0.022\n",
       "IC Kurtosis      -0.152 -0.192 -0.161 -0.307"
      ]
     },
     "metadata": {},
     "output_type": "display_data"
    },
    {
     "name": "stdout",
     "output_type": "stream",
     "text": [
      "Turnover Analysis\n"
     ]
    },
    {
     "data": {
      "text/html": [
       "<div>\n",
       "<style scoped>\n",
       "    .dataframe tbody tr th:only-of-type {\n",
       "        vertical-align: middle;\n",
       "    }\n",
       "\n",
       "    .dataframe tbody tr th {\n",
       "        vertical-align: top;\n",
       "    }\n",
       "\n",
       "    .dataframe thead th {\n",
       "        text-align: right;\n",
       "    }\n",
       "</style>\n",
       "<table border=\"1\" class=\"dataframe\">\n",
       "  <thead>\n",
       "    <tr style=\"text-align: right;\">\n",
       "      <th></th>\n",
       "      <th>1D</th>\n",
       "      <th>5D</th>\n",
       "      <th>10D</th>\n",
       "      <th>21D</th>\n",
       "    </tr>\n",
       "  </thead>\n",
       "  <tbody>\n",
       "    <tr>\n",
       "      <th>Quantile 1 Mean Turnover</th>\n",
       "      <td>0.296</td>\n",
       "      <td>0.517</td>\n",
       "      <td>0.619</td>\n",
       "      <td>0.728</td>\n",
       "    </tr>\n",
       "    <tr>\n",
       "      <th>Quantile 2 Mean Turnover</th>\n",
       "      <td>0.513</td>\n",
       "      <td>0.705</td>\n",
       "      <td>0.752</td>\n",
       "      <td>0.789</td>\n",
       "    </tr>\n",
       "    <tr>\n",
       "      <th>Quantile 3 Mean Turnover</th>\n",
       "      <td>0.566</td>\n",
       "      <td>0.737</td>\n",
       "      <td>0.778</td>\n",
       "      <td>0.806</td>\n",
       "    </tr>\n",
       "    <tr>\n",
       "      <th>Quantile 4 Mean Turnover</th>\n",
       "      <td>0.504</td>\n",
       "      <td>0.698</td>\n",
       "      <td>0.752</td>\n",
       "      <td>0.783</td>\n",
       "    </tr>\n",
       "    <tr>\n",
       "      <th>Quantile 5 Mean Turnover</th>\n",
       "      <td>0.297</td>\n",
       "      <td>0.527</td>\n",
       "      <td>0.636</td>\n",
       "      <td>0.739</td>\n",
       "    </tr>\n",
       "  </tbody>\n",
       "</table>\n",
       "</div>"
      ],
      "text/plain": [
       "                              1D     5D    10D    21D\n",
       "Quantile 1 Mean Turnover   0.296  0.517  0.619  0.728\n",
       "Quantile 2 Mean Turnover   0.513  0.705  0.752  0.789\n",
       "Quantile 3 Mean Turnover   0.566  0.737  0.778  0.806\n",
       "Quantile 4 Mean Turnover   0.504  0.698  0.752  0.783\n",
       "Quantile 5 Mean Turnover   0.297  0.527  0.636  0.739"
      ]
     },
     "metadata": {},
     "output_type": "display_data"
    },
    {
     "data": {
      "text/html": [
       "<div>\n",
       "<style scoped>\n",
       "    .dataframe tbody tr th:only-of-type {\n",
       "        vertical-align: middle;\n",
       "    }\n",
       "\n",
       "    .dataframe tbody tr th {\n",
       "        vertical-align: top;\n",
       "    }\n",
       "\n",
       "    .dataframe thead th {\n",
       "        text-align: right;\n",
       "    }\n",
       "</style>\n",
       "<table border=\"1\" class=\"dataframe\">\n",
       "  <thead>\n",
       "    <tr style=\"text-align: right;\">\n",
       "      <th></th>\n",
       "      <th>1D</th>\n",
       "      <th>5D</th>\n",
       "      <th>10D</th>\n",
       "      <th>21D</th>\n",
       "    </tr>\n",
       "  </thead>\n",
       "  <tbody>\n",
       "    <tr>\n",
       "      <th>Mean Factor Rank Autocorrelation</th>\n",
       "      <td>0.822</td>\n",
       "      <td>0.553</td>\n",
       "      <td>0.397</td>\n",
       "      <td>0.243</td>\n",
       "    </tr>\n",
       "  </tbody>\n",
       "</table>\n",
       "</div>"
      ],
      "text/plain": [
       "                                     1D     5D    10D    21D\n",
       "Mean Factor Rank Autocorrelation  0.822  0.553  0.397  0.243"
      ]
     },
     "metadata": {},
     "output_type": "display_data"
    },
    {
     "data": {
      "text/plain": [
       "<Figure size 432x288 with 0 Axes>"
      ]
     },
     "metadata": {},
     "output_type": "display_data"
    },
    {
     "data": {
      "image/png": "[encoded data removed]",
      "text/plain": [
       "<Figure size 1008x7056 with 1 Axes>"
      ]
     },
     "metadata": {},
     "output_type": "display_data"
    }
   ],
   "source": [
    "create_summary_tear_sheet(lasso_factor_data);"
   ]
  }
 ],
 "metadata": {
  "kernelspec": {
   "display_name": "Python 3",
   "language": "python",
   "name": "python3"
  },
  "language_info": {
   "codemirror_mode": {
    "name": "ipython",
    "version": 3
   },
   "file_extension": ".py",
   "mimetype": "text/x-python",
   "name": "python",
   "nbconvert_exporter": "python",
   "pygments_lexer": "ipython3",
   "version": "3.8.8"
  },
  "toc": {
   "base_numbering": 1,
   "nav_menu": {},
   "number_sections": true,
   "sideBar": true,
   "skip_h1_title": false,
   "title_cell": "Table of Contents",
   "title_sidebar": "Contents",
   "toc_cell": false,
   "toc_position": {},
   "toc_section_display": true,
   "toc_window_display": true
  },
  "varInspector": {
   "cols": {
    "lenName": 16,
    "lenType": 16,
    "lenVar": 40
   },
   "kernels_config": {
    "python": {
     "delete_cmd_postfix": "",
     "delete_cmd_prefix": "del ",
     "library": "var_list.py",
     "varRefreshCmd": "print(var_dic_list())"
    },
    "r": {
     "delete_cmd_postfix": ") ",
     "delete_cmd_prefix": "rm(",
     "library": "var_list.r",
     "varRefreshCmd": "cat(var_dic_list()) "
    }
   },
   "types_to_exclude": [
    "module",
    "function",
    "builtin_function_or_method",
    "instance",
    "_Feature"
   ],
   "window_display": false
  }
 },
 "nbformat": 4,
 "nbformat_minor": 4
}
