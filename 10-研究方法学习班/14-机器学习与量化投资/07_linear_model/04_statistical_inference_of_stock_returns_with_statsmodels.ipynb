{
 "cells": [
  {
   "cell_type": "markdown",
   "metadata": {},
   "source": [
    "# Statistical inference of stock returns with linear regression"
   ]
  },
  {
   "cell_type": "markdown",
   "metadata": {},
   "source": [
    "## Imports & Settings"
   ]
  },
  {
   "cell_type": "code",
   "execution_count": 1,
   "metadata": {
    "ExecuteTime": {
     "end_time": "2021-04-15T20:03:01.108755Z",
     "start_time": "2021-04-15T20:03:01.105633Z"
    }
   },
   "outputs": [],
   "source": [
    "import warnings\n",
    "warnings.filterwarnings('ignore')"
   ]
  },
  {
   "cell_type": "code",
   "execution_count": 2,
   "metadata": {
    "ExecuteTime": {
     "end_time": "2021-04-15T20:03:01.690820Z",
     "start_time": "2021-04-15T20:03:01.113262Z"
    }
   },
   "outputs": [],
   "source": [
    "%matplotlib inline\n",
    "\n",
    "import pandas as pd\n",
    "\n",
    "from statsmodels.api import OLS, add_constant, graphics\n",
    "from statsmodels.graphics.tsaplots import plot_acf\n",
    "from scipy.stats import norm\n",
    "\n",
    "import seaborn as sns\n",
    "import matplotlib.pyplot as plt"
   ]
  },
  {
   "cell_type": "code",
   "execution_count": 3,
   "metadata": {
    "ExecuteTime": {
     "end_time": "2021-04-15T20:03:01.693551Z",
     "start_time": "2021-04-15T20:03:01.691724Z"
    }
   },
   "outputs": [],
   "source": [
    "sns.set_style('whitegrid')\n",
    "idx = pd.IndexSlice"
   ]
  },
  {
   "cell_type": "markdown",
   "metadata": {},
   "source": [
    "## Load Data"
   ]
  },
  {
   "cell_type": "code",
   "execution_count": 4,
   "metadata": {
    "ExecuteTime": {
     "end_time": "2021-04-15T20:03:03.975320Z",
     "start_time": "2021-04-15T20:03:01.694643Z"
    }
   },
   "outputs": [],
   "source": [
    "with pd.HDFStore('data.h5') as store:\n",
    "    data = (store['model_data']\n",
    "            .dropna()\n",
    "            .drop(['open', 'close', 'low', 'high'], axis=1))"
   ]
  },
  {
   "cell_type": "markdown",
   "metadata": {},
   "source": [
    "### Select Investment Universe"
   ]
  },
  {
   "cell_type": "code",
   "execution_count": 7,
   "metadata": {
    "ExecuteTime": {
     "end_time": "2021-04-15T20:03:04.000126Z",
     "start_time": "2021-04-15T20:03:03.976535Z"
    }
   },
   "outputs": [],
   "source": [
    "data = data[data.dollar_vol_rank<100] #选取日现金交易量位于前100的股票为研究对象"
   ]
  },
  {
   "cell_type": "code",
   "execution_count": 6,
   "metadata": {
    "ExecuteTime": {
     "end_time": "2021-04-15T20:03:04.019804Z",
     "start_time": "2021-04-15T20:03:04.000999Z"
    },
    "collapsed": true
   },
   "outputs": [
    {
     "name": "stdout",
     "output_type": "stream",
     "text": [
      "<class 'pandas.core.frame.DataFrame'>\n",
      "MultiIndex: 109675 entries, ('AAL', Timestamp('2013-07-25 00:00:00')) to ('ZTS', Timestamp('2014-12-04 00:00:00'))\n",
      "Data columns (total 65 columns):\n",
      " #   Column                 Non-Null Count   Dtype  \n",
      "---  ------                 --------------   -----  \n",
      " 0   volume                 109675 non-null  float64\n",
      " 1   dollar_vol             109675 non-null  float64\n",
      " 2   dollar_vol_1m          109675 non-null  float64\n",
      " 3   dollar_vol_rank        109675 non-null  float64\n",
      " 4   rsi                    109675 non-null  float64\n",
      " 5   bb_high                109675 non-null  float64\n",
      " 6   bb_low                 109675 non-null  float64\n",
      " 7   atr                    109675 non-null  float64\n",
      " 8   macd                   109675 non-null  float64\n",
      " 9   return_1d              109675 non-null  float64\n",
      " 10  return_5d              109675 non-null  float64\n",
      " 11  return_10d             109675 non-null  float64\n",
      " 12  return_21d             109675 non-null  float64\n",
      " 13  return_42d             109675 non-null  float64\n",
      " 14  return_63d             109675 non-null  float64\n",
      " 15  return_1d_lag1         109675 non-null  float64\n",
      " 16  return_5d_lag1         109675 non-null  float64\n",
      " 17  return_10d_lag1        109675 non-null  float64\n",
      " 18  return_21d_lag1        109675 non-null  float64\n",
      " 19  return_1d_lag2         109675 non-null  float64\n",
      " 20  return_5d_lag2         109675 non-null  float64\n",
      " 21  return_10d_lag2        109675 non-null  float64\n",
      " 22  return_21d_lag2        109675 non-null  float64\n",
      " 23  return_1d_lag3         109675 non-null  float64\n",
      " 24  return_5d_lag3         109675 non-null  float64\n",
      " 25  return_10d_lag3        109675 non-null  float64\n",
      " 26  return_21d_lag3        109675 non-null  float64\n",
      " 27  return_1d_lag4         109675 non-null  float64\n",
      " 28  return_5d_lag4         109675 non-null  float64\n",
      " 29  return_10d_lag4        109675 non-null  float64\n",
      " 30  return_21d_lag4        109675 non-null  float64\n",
      " 31  return_1d_lag5         109675 non-null  float64\n",
      " 32  return_5d_lag5         109675 non-null  float64\n",
      " 33  return_10d_lag5        109675 non-null  float64\n",
      " 34  return_21d_lag5        109675 non-null  float64\n",
      " 35  target_1d              109675 non-null  float64\n",
      " 36  target_5d              109675 non-null  float64\n",
      " 37  target_10d             109675 non-null  float64\n",
      " 38  target_21d             109675 non-null  float64\n",
      " 39  year_2014              109675 non-null  uint8  \n",
      " 40  year_2015              109675 non-null  uint8  \n",
      " 41  year_2016              109675 non-null  uint8  \n",
      " 42  year_2017              109675 non-null  uint8  \n",
      " 43  month_2                109675 non-null  uint8  \n",
      " 44  month_3                109675 non-null  uint8  \n",
      " 45  month_4                109675 non-null  uint8  \n",
      " 46  month_5                109675 non-null  uint8  \n",
      " 47  month_6                109675 non-null  uint8  \n",
      " 48  month_7                109675 non-null  uint8  \n",
      " 49  month_8                109675 non-null  uint8  \n",
      " 50  month_9                109675 non-null  uint8  \n",
      " 51  month_10               109675 non-null  uint8  \n",
      " 52  month_11               109675 non-null  uint8  \n",
      " 53  month_12               109675 non-null  uint8  \n",
      " 54  capital_goods          109675 non-null  uint8  \n",
      " 55  consumer_durables      109675 non-null  uint8  \n",
      " 56  consumer_non-durables  109675 non-null  uint8  \n",
      " 57  consumer_services      109675 non-null  uint8  \n",
      " 58  energy                 109675 non-null  uint8  \n",
      " 59  finance                109675 non-null  uint8  \n",
      " 60  health_care            109675 non-null  uint8  \n",
      " 61  miscellaneous          109675 non-null  uint8  \n",
      " 62  public_utilities       109675 non-null  uint8  \n",
      " 63  technology             109675 non-null  uint8  \n",
      " 64  transportation         109675 non-null  uint8  \n",
      "dtypes: float64(39), uint8(26)\n",
      "memory usage: 36.5+ MB\n"
     ]
    }
   ],
   "source": [
    "data.info(null_counts=True)"
   ]
  },
  {
   "cell_type": "markdown",
   "metadata": {},
   "source": [
    "### Create Model Data"
   ]
  },
  {
   "cell_type": "code",
   "execution_count": 8,
   "metadata": {
    "ExecuteTime": {
     "end_time": "2021-04-15T20:03:04.035121Z",
     "start_time": "2021-04-15T20:03:04.020754Z"
    },
    "collapsed": true
   },
   "outputs": [
    {
     "data": {
      "text/html": [
       "<div>\n",
       "<style scoped>\n",
       "    .dataframe tbody tr th:only-of-type {\n",
       "        vertical-align: middle;\n",
       "    }\n",
       "\n",
       "    .dataframe tbody tr th {\n",
       "        vertical-align: top;\n",
       "    }\n",
       "\n",
       "    .dataframe thead th {\n",
       "        text-align: right;\n",
       "    }\n",
       "</style>\n",
       "<table border=\"1\" class=\"dataframe\">\n",
       "  <thead>\n",
       "    <tr style=\"text-align: right;\">\n",
       "      <th></th>\n",
       "      <th></th>\n",
       "      <th>target_1d</th>\n",
       "      <th>target_5d</th>\n",
       "      <th>target_10d</th>\n",
       "      <th>target_21d</th>\n",
       "    </tr>\n",
       "    <tr>\n",
       "      <th>ticker</th>\n",
       "      <th>date</th>\n",
       "      <th></th>\n",
       "      <th></th>\n",
       "      <th></th>\n",
       "      <th></th>\n",
       "    </tr>\n",
       "  </thead>\n",
       "  <tbody>\n",
       "    <tr>\n",
       "      <th rowspan=\"5\" valign=\"top\">AAL</th>\n",
       "      <th>2013-07-25</th>\n",
       "      <td>0.013808</td>\n",
       "      <td>0.005775</td>\n",
       "      <td>0.000794</td>\n",
       "      <td>-0.007255</td>\n",
       "    </tr>\n",
       "    <tr>\n",
       "      <th>2013-07-26</th>\n",
       "      <td>0.007334</td>\n",
       "      <td>-0.001787</td>\n",
       "      <td>-0.002597</td>\n",
       "      <td>-0.007757</td>\n",
       "    </tr>\n",
       "    <tr>\n",
       "      <th>2013-07-29</th>\n",
       "      <td>-0.001560</td>\n",
       "      <td>-0.000625</td>\n",
       "      <td>-0.002153</td>\n",
       "      <td>-0.010307</td>\n",
       "    </tr>\n",
       "    <tr>\n",
       "      <th>2013-07-30</th>\n",
       "      <td>0.007813</td>\n",
       "      <td>-0.002934</td>\n",
       "      <td>-0.015880</td>\n",
       "      <td>-0.010631</td>\n",
       "    </tr>\n",
       "    <tr>\n",
       "      <th>2013-07-31</th>\n",
       "      <td>0.001550</td>\n",
       "      <td>-0.005011</td>\n",
       "      <td>-0.017793</td>\n",
       "      <td>-0.009130</td>\n",
       "    </tr>\n",
       "    <tr>\n",
       "      <th>...</th>\n",
       "      <th>...</th>\n",
       "      <td>...</td>\n",
       "      <td>...</td>\n",
       "      <td>...</td>\n",
       "      <td>...</td>\n",
       "    </tr>\n",
       "    <tr>\n",
       "      <th rowspan=\"5\" valign=\"top\">ZTS</th>\n",
       "      <th>2014-11-28</th>\n",
       "      <td>-0.012464</td>\n",
       "      <td>-0.004265</td>\n",
       "      <td>-0.007266</td>\n",
       "      <td>-0.001703</td>\n",
       "    </tr>\n",
       "    <tr>\n",
       "      <th>2014-12-01</th>\n",
       "      <td>0.008339</td>\n",
       "      <td>-0.001220</td>\n",
       "      <td>-0.006092</td>\n",
       "      <td>-0.001459</td>\n",
       "    </tr>\n",
       "    <tr>\n",
       "      <th>2014-12-02</th>\n",
       "      <td>0.003129</td>\n",
       "      <td>-0.004147</td>\n",
       "      <td>-0.009055</td>\n",
       "      <td>-0.001546</td>\n",
       "    </tr>\n",
       "    <tr>\n",
       "      <th>2014-12-03</th>\n",
       "      <td>-0.019608</td>\n",
       "      <td>-0.009585</td>\n",
       "      <td>-0.008687</td>\n",
       "      <td>-0.001980</td>\n",
       "    </tr>\n",
       "    <tr>\n",
       "      <th>2014-12-04</th>\n",
       "      <td>-0.000455</td>\n",
       "      <td>-0.005144</td>\n",
       "      <td>-0.001949</td>\n",
       "      <td>-0.001505</td>\n",
       "    </tr>\n",
       "  </tbody>\n",
       "</table>\n",
       "<p>109675 rows × 4 columns</p>\n",
       "</div>"
      ],
      "text/plain": [
       "                   target_1d  target_5d  target_10d  target_21d\n",
       "ticker date                                                    \n",
       "AAL    2013-07-25   0.013808   0.005775    0.000794   -0.007255\n",
       "       2013-07-26   0.007334  -0.001787   -0.002597   -0.007757\n",
       "       2013-07-29  -0.001560  -0.000625   -0.002153   -0.010307\n",
       "       2013-07-30   0.007813  -0.002934   -0.015880   -0.010631\n",
       "       2013-07-31   0.001550  -0.005011   -0.017793   -0.009130\n",
       "...                      ...        ...         ...         ...\n",
       "ZTS    2014-11-28  -0.012464  -0.004265   -0.007266   -0.001703\n",
       "       2014-12-01   0.008339  -0.001220   -0.006092   -0.001459\n",
       "       2014-12-02   0.003129  -0.004147   -0.009055   -0.001546\n",
       "       2014-12-03  -0.019608  -0.009585   -0.008687   -0.001980\n",
       "       2014-12-04  -0.000455  -0.005144   -0.001949   -0.001505\n",
       "\n",
       "[109675 rows x 4 columns]"
      ]
     },
     "execution_count": 8,
     "metadata": {},
     "output_type": "execute_result"
    }
   ],
   "source": [
    "y = data.filter(like='target') #筛选出名字里含target的列\n",
    "y"
   ]
  },
  {
   "cell_type": "code",
   "execution_count": 34,
   "metadata": {
    "collapsed": true
   },
   "outputs": [
    {
     "name": "stdout",
     "output_type": "stream",
     "text": [
      "<class 'pandas.core.frame.DataFrame'>\n",
      "MultiIndex: 109675 entries, ('AAL', Timestamp('2013-07-25 00:00:00')) to ('ZTS', Timestamp('2014-12-04 00:00:00'))\n",
      "Data columns (total 57 columns):\n",
      " #   Column                 Non-Null Count   Dtype  \n",
      "---  ------                 --------------   -----  \n",
      " 0   dollar_vol_1m          109675 non-null  float64\n",
      " 1   rsi                    109675 non-null  float64\n",
      " 2   bb_high                109675 non-null  float64\n",
      " 3   bb_low                 109675 non-null  float64\n",
      " 4   atr                    109675 non-null  float64\n",
      " 5   macd                   109675 non-null  float64\n",
      " 6   return_1d              109675 non-null  float64\n",
      " 7   return_5d              109675 non-null  float64\n",
      " 8   return_10d             109675 non-null  float64\n",
      " 9   return_21d             109675 non-null  float64\n",
      " 10  return_42d             109675 non-null  float64\n",
      " 11  return_63d             109675 non-null  float64\n",
      " 12  return_1d_lag1         109675 non-null  float64\n",
      " 13  return_5d_lag1         109675 non-null  float64\n",
      " 14  return_10d_lag1        109675 non-null  float64\n",
      " 15  return_21d_lag1        109675 non-null  float64\n",
      " 16  return_1d_lag2         109675 non-null  float64\n",
      " 17  return_5d_lag2         109675 non-null  float64\n",
      " 18  return_10d_lag2        109675 non-null  float64\n",
      " 19  return_21d_lag2        109675 non-null  float64\n",
      " 20  return_1d_lag3         109675 non-null  float64\n",
      " 21  return_5d_lag3         109675 non-null  float64\n",
      " 22  return_10d_lag3        109675 non-null  float64\n",
      " 23  return_21d_lag3        109675 non-null  float64\n",
      " 24  return_1d_lag4         109675 non-null  float64\n",
      " 25  return_5d_lag4         109675 non-null  float64\n",
      " 26  return_10d_lag4        109675 non-null  float64\n",
      " 27  return_21d_lag4        109675 non-null  float64\n",
      " 28  return_1d_lag5         109675 non-null  float64\n",
      " 29  return_5d_lag5         109675 non-null  float64\n",
      " 30  return_10d_lag5        109675 non-null  float64\n",
      " 31  return_21d_lag5        109675 non-null  float64\n",
      " 32  year_2014              109675 non-null  uint8  \n",
      " 33  year_2015              109675 non-null  uint8  \n",
      " 34  year_2016              109675 non-null  uint8  \n",
      " 35  year_2017              109675 non-null  uint8  \n",
      " 36  month_2                109675 non-null  uint8  \n",
      " 37  month_3                109675 non-null  uint8  \n",
      " 38  month_4                109675 non-null  uint8  \n",
      " 39  month_5                109675 non-null  uint8  \n",
      " 40  month_6                109675 non-null  uint8  \n",
      " 41  month_7                109675 non-null  uint8  \n",
      " 42  month_8                109675 non-null  uint8  \n",
      " 43  month_9                109675 non-null  uint8  \n",
      " 44  month_10               109675 non-null  uint8  \n",
      " 45  month_11               109675 non-null  uint8  \n",
      " 46  month_12               109675 non-null  uint8  \n",
      " 47  capital_goods          109675 non-null  uint8  \n",
      " 48  consumer_non-durables  109675 non-null  uint8  \n",
      " 49  consumer_services      109675 non-null  uint8  \n",
      " 50  energy                 109675 non-null  uint8  \n",
      " 51  finance                109675 non-null  uint8  \n",
      " 52  health_care            109675 non-null  uint8  \n",
      " 53  miscellaneous          109675 non-null  uint8  \n",
      " 54  public_utilities       109675 non-null  uint8  \n",
      " 55  technology             109675 non-null  uint8  \n",
      " 56  transportation         109675 non-null  uint8  \n",
      "dtypes: float64(32), uint8(25)\n",
      "memory usage: 34.6+ MB\n"
     ]
    }
   ],
   "source": [
    "X = data.drop(y.columns, axis=1) #不要名字里含target的列\n",
    "X = X.drop(['dollar_vol', 'dollar_vol_rank', 'volume', 'consumer_durables'], axis=1) #删去这些列\n",
    "X.info()"
   ]
  },
  {
   "cell_type": "markdown",
   "metadata": {},
   "source": [
    "## Explore Data"
   ]
  },
  {
   "cell_type": "code",
   "execution_count": 15,
   "metadata": {
    "ExecuteTime": {
     "end_time": "2021-04-15T20:03:04.392187Z",
     "start_time": "2021-04-15T20:03:04.036165Z"
    },
    "collapsed": true
   },
   "outputs": [
    {
     "data": {
      "image/png": "[encoded data removed]",
      "text/plain": [
       "<Figure size 720x720 with 4 Axes>"
      ]
     },
     "metadata": {},
     "output_type": "display_data"
    }
   ],
   "source": [
    "sns.clustermap(y.corr(), cmap=sns.diverging_palette(h_neg=20, h_pos=220), center=0, annot=True, fmt='.2%');\n",
    "#sns.clustermap绘制聚类图\n",
    "#y.corr()构建y中所含变量的相关系数矩阵\n",
    "#cmap：从数字到色彩空间的映射，取值是matplotlib包里的colormap名称或颜色对象，或者表示颜色的列表；改参数默认值：根据center参数设定\n",
    "#center：数据表取值有差异时，设置热力图的色彩中心对齐值；通过设置center值，可以调整生成的图像颜色的整体深浅；设置center数据时，如果有数据溢出，则手动设置的vmax、vmin会自动改变\n",
    "#annot(annotate的缩写)：默认取值False；如果是True，在热力图每个方格写入数据；如果是矩阵，在热力图每个方格写入该矩阵对应位置数据。\n",
    "#fmt：字符串格式代码，矩阵上标识数字的数据格式，比如保留小数点后几位数字。"
   ]
  },
  {
   "cell_type": "code",
   "execution_count": 14,
   "metadata": {
    "ExecuteTime": {
     "end_time": "2021-04-15T20:03:05.611740Z",
     "start_time": "2021-04-15T20:03:04.393449Z"
    },
    "collapsed": true
   },
   "outputs": [
    {
     "data": {
      "image/png": "[encoded data removed]",
      "text/plain": [
       "<Figure size 1008x1008 with 4 Axes>"
      ]
     },
     "metadata": {},
     "output_type": "display_data"
    }
   ],
   "source": [
    "sns.clustermap(X.corr(), cmap=sns.diverging_palette(h_neg=20, h_pos=220), center=0);\n",
    "plt.gcf().set_size_inches((14, 14))"
   ]
  },
  {
   "cell_type": "code",
   "execution_count": 16,
   "metadata": {
    "ExecuteTime": {
     "end_time": "2021-04-15T20:03:06.221840Z",
     "start_time": "2021-04-15T20:03:05.613055Z"
    }
   },
   "outputs": [],
   "source": [
    "corr_mat = X.corr().stack().reset_index() #.stack使dataframe化为series\n",
    "corr_mat.columns=['var1', 'var2', 'corr'] #var不是方差而是variable的简称\n",
    "corr_mat = corr_mat[corr_mat.var1!=corr_mat.var2].sort_values(by='corr', ascending=False) #去除自己与自己的相关系数，按降序排列"
   ]
  },
  {
   "cell_type": "code",
   "execution_count": 22,
   "metadata": {
    "collapsed": true
   },
   "outputs": [
    {
     "data": {
      "text/html": [
       "<div>\n",
       "<style scoped>\n",
       "    .dataframe tbody tr th:only-of-type {\n",
       "        vertical-align: middle;\n",
       "    }\n",
       "\n",
       "    .dataframe tbody tr th {\n",
       "        vertical-align: top;\n",
       "    }\n",
       "\n",
       "    .dataframe thead th {\n",
       "        text-align: right;\n",
       "    }\n",
       "</style>\n",
       "<table border=\"1\" class=\"dataframe\">\n",
       "  <thead>\n",
       "    <tr style=\"text-align: right;\">\n",
       "      <th></th>\n",
       "      <th>var1</th>\n",
       "      <th>var2</th>\n",
       "      <th>corr</th>\n",
       "    </tr>\n",
       "  </thead>\n",
       "  <tbody>\n",
       "    <tr>\n",
       "      <th>581</th>\n",
       "      <td>return_42d</td>\n",
       "      <td>return_63d</td>\n",
       "      <td>0.835634</td>\n",
       "    </tr>\n",
       "    <tr>\n",
       "      <th>637</th>\n",
       "      <td>return_63d</td>\n",
       "      <td>return_42d</td>\n",
       "      <td>0.835634</td>\n",
       "    </tr>\n",
       "    <tr>\n",
       "      <th>286</th>\n",
       "      <td>macd</td>\n",
       "      <td>rsi</td>\n",
       "      <td>0.817113</td>\n",
       "    </tr>\n",
       "    <tr>\n",
       "      <th>62</th>\n",
       "      <td>rsi</td>\n",
       "      <td>macd</td>\n",
       "      <td>0.817113</td>\n",
       "    </tr>\n",
       "    <tr>\n",
       "      <th>518</th>\n",
       "      <td>return_21d</td>\n",
       "      <td>macd</td>\n",
       "      <td>0.793893</td>\n",
       "    </tr>\n",
       "    <tr>\n",
       "      <th>...</th>\n",
       "      <td>...</td>\n",
       "      <td>...</td>\n",
       "      <td>...</td>\n",
       "    </tr>\n",
       "    <tr>\n",
       "      <th>515</th>\n",
       "      <td>return_21d</td>\n",
       "      <td>bb_high</td>\n",
       "      <td>-0.632777</td>\n",
       "    </tr>\n",
       "    <tr>\n",
       "      <th>122</th>\n",
       "      <td>bb_high</td>\n",
       "      <td>return_10d</td>\n",
       "      <td>-0.693640</td>\n",
       "    </tr>\n",
       "    <tr>\n",
       "      <th>458</th>\n",
       "      <td>return_10d</td>\n",
       "      <td>bb_high</td>\n",
       "      <td>-0.693640</td>\n",
       "    </tr>\n",
       "    <tr>\n",
       "      <th>59</th>\n",
       "      <td>rsi</td>\n",
       "      <td>bb_high</td>\n",
       "      <td>-0.696555</td>\n",
       "    </tr>\n",
       "    <tr>\n",
       "      <th>115</th>\n",
       "      <td>bb_high</td>\n",
       "      <td>rsi</td>\n",
       "      <td>-0.696555</td>\n",
       "    </tr>\n",
       "  </tbody>\n",
       "</table>\n",
       "<p>3192 rows × 3 columns</p>\n",
       "</div>"
      ],
      "text/plain": [
       "           var1        var2      corr\n",
       "581  return_42d  return_63d  0.835634\n",
       "637  return_63d  return_42d  0.835634\n",
       "286        macd         rsi  0.817113\n",
       "62          rsi        macd  0.817113\n",
       "518  return_21d        macd  0.793893\n",
       "..          ...         ...       ...\n",
       "515  return_21d     bb_high -0.632777\n",
       "122     bb_high  return_10d -0.693640\n",
       "458  return_10d     bb_high -0.693640\n",
       "59          rsi     bb_high -0.696555\n",
       "115     bb_high         rsi -0.696555\n",
       "\n",
       "[3192 rows x 3 columns]"
      ]
     },
     "execution_count": 22,
     "metadata": {},
     "output_type": "execute_result"
    }
   ],
   "source": [
    "corr_mat"
   ]
  },
  {
   "cell_type": "code",
   "execution_count": 11,
   "metadata": {
    "ExecuteTime": {
     "end_time": "2021-04-15T20:03:06.230006Z",
     "start_time": "2021-04-15T20:03:06.222689Z"
    },
    "scrolled": true
   },
   "outputs": [
    {
     "data": {
      "text/html": [
       "<div>\n",
       "<style scoped>\n",
       "    .dataframe tbody tr th:only-of-type {\n",
       "        vertical-align: middle;\n",
       "    }\n",
       "\n",
       "    .dataframe tbody tr th {\n",
       "        vertical-align: top;\n",
       "    }\n",
       "\n",
       "    .dataframe thead th {\n",
       "        text-align: right;\n",
       "    }\n",
       "</style>\n",
       "<table border=\"1\" class=\"dataframe\">\n",
       "  <thead>\n",
       "    <tr style=\"text-align: right;\">\n",
       "      <th></th>\n",
       "      <th>var1</th>\n",
       "      <th>var2</th>\n",
       "      <th>corr</th>\n",
       "    </tr>\n",
       "  </thead>\n",
       "  <tbody>\n",
       "    <tr>\n",
       "      <th>581</th>\n",
       "      <td>return_42d</td>\n",
       "      <td>return_63d</td>\n",
       "      <td>0.835634</td>\n",
       "    </tr>\n",
       "    <tr>\n",
       "      <th>637</th>\n",
       "      <td>return_63d</td>\n",
       "      <td>return_42d</td>\n",
       "      <td>0.835634</td>\n",
       "    </tr>\n",
       "    <tr>\n",
       "      <th>286</th>\n",
       "      <td>macd</td>\n",
       "      <td>rsi</td>\n",
       "      <td>0.817113</td>\n",
       "    </tr>\n",
       "    <tr>\n",
       "      <th>62</th>\n",
       "      <td>rsi</td>\n",
       "      <td>macd</td>\n",
       "      <td>0.817113</td>\n",
       "    </tr>\n",
       "    <tr>\n",
       "      <th>518</th>\n",
       "      <td>return_21d</td>\n",
       "      <td>macd</td>\n",
       "      <td>0.793893</td>\n",
       "    </tr>\n",
       "    <tr>\n",
       "      <th>515</th>\n",
       "      <td>return_21d</td>\n",
       "      <td>bb_high</td>\n",
       "      <td>-0.632777</td>\n",
       "    </tr>\n",
       "    <tr>\n",
       "      <th>122</th>\n",
       "      <td>bb_high</td>\n",
       "      <td>return_10d</td>\n",
       "      <td>-0.693640</td>\n",
       "    </tr>\n",
       "    <tr>\n",
       "      <th>458</th>\n",
       "      <td>return_10d</td>\n",
       "      <td>bb_high</td>\n",
       "      <td>-0.693640</td>\n",
       "    </tr>\n",
       "    <tr>\n",
       "      <th>59</th>\n",
       "      <td>rsi</td>\n",
       "      <td>bb_high</td>\n",
       "      <td>-0.696555</td>\n",
       "    </tr>\n",
       "    <tr>\n",
       "      <th>115</th>\n",
       "      <td>bb_high</td>\n",
       "      <td>rsi</td>\n",
       "      <td>-0.696555</td>\n",
       "    </tr>\n",
       "  </tbody>\n",
       "</table>\n",
       "</div>"
      ],
      "text/plain": [
       "           var1        var2      corr\n",
       "581  return_42d  return_63d  0.835634\n",
       "637  return_63d  return_42d  0.835634\n",
       "286        macd         rsi  0.817113\n",
       "62          rsi        macd  0.817113\n",
       "518  return_21d        macd  0.793893\n",
       "515  return_21d     bb_high -0.632777\n",
       "122     bb_high  return_10d -0.693640\n",
       "458  return_10d     bb_high -0.693640\n",
       "59          rsi     bb_high -0.696555\n",
       "115     bb_high         rsi -0.696555"
      ]
     },
     "execution_count": 11,
     "metadata": {},
     "output_type": "execute_result"
    }
   ],
   "source": [
    "corr_mat.head().append(corr_mat.tail()) #显示相关系数最大与最小的数据"
   ]
  },
  {
   "cell_type": "code",
   "execution_count": 25,
   "metadata": {
    "ExecuteTime": {
     "end_time": "2021-04-15T20:03:06.570956Z",
     "start_time": "2021-04-15T20:03:06.230912Z"
    }
   },
   "outputs": [
    {
     "data": {
      "image/png": "[encoded data removed]",
      "text/plain": [
       "<Figure size 1008x432 with 1 Axes>"
      ]
     },
     "metadata": {},
     "output_type": "display_data"
    }
   ],
   "source": [
    "y.boxplot(figsize=(14, 6))\n",
    "plt.tight_layout()"
   ]
  },
  {
   "cell_type": "markdown",
   "metadata": {},
   "source": [
    "## Linear Regression for Statistical Inference: OLS with statsmodels"
   ]
  },
  {
   "cell_type": "markdown",
   "metadata": {},
   "source": [
    "### Ticker-wise standardization"
   ]
  },
  {
   "cell_type": "markdown",
   "metadata": {},
   "source": [
    "`statsmodels` warns of high design matrix condition numbers. This can arise when the variables are not standardized and the Eigenvalues differ due to scaling. The following step avoids this warning."
   ]
  },
  {
   "cell_type": "code",
   "execution_count": 35,
   "metadata": {
    "ExecuteTime": {
     "end_time": "2021-04-15T20:03:15.994024Z",
     "start_time": "2021-04-15T20:03:06.571986Z"
    }
   },
   "outputs": [],
   "source": [
    "sectors = X.iloc[:, -10:] #sectors对应的是行业虚拟变量\n",
    "X = (X.drop(sectors.columns, axis=1)\n",
    "     .groupby(level='ticker')\n",
    "     .transform(lambda x: (x - x.mean()) / x.std()) #按ticker为分组进行标准化\n",
    "    .join(sectors) #再加入行业虚拟变量\n",
    "    .fillna(0))"
   ]
  },
  {
   "cell_type": "markdown",
   "metadata": {},
   "source": [
    "### 1-Day Returns"
   ]
  },
  {
   "cell_type": "code",
   "execution_count": 36,
   "metadata": {
    "ExecuteTime": {
     "end_time": "2021-04-15T20:03:16.222390Z",
     "start_time": "2021-04-15T20:03:15.995122Z"
    },
    "collapsed": true
   },
   "outputs": [
    {
     "name": "stdout",
     "output_type": "stream",
     "text": [
      "                            OLS Regression Results                            \n",
      "==============================================================================\n",
      "Dep. Variable:              target_1d   R-squared:                       0.010\n",
      "Model:                            OLS   Adj. R-squared:                  0.009\n",
      "Method:                 Least Squares   F-statistic:                     19.03\n",
      "Date:                Mon, 31 Oct 2022   Prob (F-statistic):          9.43e-189\n",
      "Time:                        14:58:45   Log-Likelihood:             2.8852e+05\n",
      "No. Observations:              109675   AIC:                        -5.769e+05\n",
      "Df Residuals:                  109617   BIC:                        -5.764e+05\n",
      "Df Model:                          57                                         \n",
      "Covariance Type:            nonrobust                                         \n",
      "=========================================================================================\n",
      "                            coef    std err          t      P>|t|      [0.025      0.975]\n",
      "-----------------------------------------------------------------------------------------\n",
      "const                    -0.0002      0.000     -0.793      0.428      -0.001       0.000\n",
      "dollar_vol_1m            -0.0004   6.88e-05     -5.214      0.000      -0.000      -0.000\n",
      "rsi                       0.0002      0.000      0.978      0.328      -0.000       0.001\n",
      "bb_high                   0.0002      0.000      0.927      0.354      -0.000       0.001\n",
      "bb_low                    0.0006      0.000      2.940      0.003       0.000       0.001\n",
      "atr                   -3.752e-05   7.44e-05     -0.504      0.614      -0.000       0.000\n",
      "macd                     -0.0004      0.000     -1.835      0.066      -0.001    2.96e-05\n",
      "return_1d                 0.0029      0.000      9.684      0.000       0.002       0.003\n",
      "return_5d                -0.0019      0.001     -2.015      0.044      -0.004   -5.08e-05\n",
      "return_10d               -0.0064      0.001     -6.443      0.000      -0.008      -0.004\n",
      "return_21d                0.0028      0.000      6.242      0.000       0.002       0.004\n",
      "return_42d               -0.0036      0.001     -5.995      0.000      -0.005      -0.002\n",
      "return_63d               -0.0019      0.000     -4.241      0.000      -0.003      -0.001\n",
      "return_1d_lag1            0.0027      0.000      8.998      0.000       0.002       0.003\n",
      "return_5d_lag1            0.0048      0.001      7.033      0.000       0.003       0.006\n",
      "return_10d_lag1          -0.0010      0.001     -0.896      0.370      -0.003       0.001\n",
      "return_21d_lag1           0.0029      0.000      7.667      0.000       0.002       0.004\n",
      "return_1d_lag2            0.0027      0.000      9.177      0.000       0.002       0.003\n",
      "return_5d_lag2            0.0009      0.001      1.141      0.254      -0.001       0.002\n",
      "return_10d_lag2        8.065e-05      0.001      0.097      0.923      -0.002       0.002\n",
      "return_21d_lag2           0.0003      0.000      0.857      0.392      -0.000       0.001\n",
      "return_1d_lag3            0.0027      0.000      8.973      0.000       0.002       0.003\n",
      "return_5d_lag3            0.0015      0.001      1.919      0.055   -3.15e-05       0.003\n",
      "return_10d_lag3           0.0005      0.000      3.457      0.001       0.000       0.001\n",
      "return_21d_lag3          -0.0002   5.55e-05     -3.739      0.000      -0.000   -9.88e-05\n",
      "return_1d_lag4            0.0030      0.000      9.976      0.000       0.002       0.004\n",
      "return_5d_lag4            0.0006      0.001      1.057      0.290      -0.001       0.002\n",
      "return_10d_lag4           0.0004      0.000      3.845      0.000       0.000       0.001\n",
      "return_21d_lag4        4.323e-05    5.5e-05      0.786      0.432   -6.46e-05       0.000\n",
      "return_1d_lag5        -8.924e-05   6.19e-05     -1.441      0.149      -0.000    3.21e-05\n",
      "return_5d_lag5            0.0001      0.001      0.241      0.810      -0.001       0.001\n",
      "return_10d_lag5           0.0007   9.95e-05      7.235      0.000       0.001       0.001\n",
      "return_21d_lag5        9.403e-05   5.48e-05      1.716      0.086   -1.34e-05       0.000\n",
      "year_2014                -0.0004   8.38e-05     -4.430      0.000      -0.001      -0.000\n",
      "year_2015                -0.0006   9.15e-05     -6.804      0.000      -0.001      -0.000\n",
      "year_2016                -0.0005   8.95e-05     -5.113      0.000      -0.001      -0.000\n",
      "year_2017                -0.0002   8.83e-05     -2.024      0.043      -0.000   -5.66e-06\n",
      "month_2                   0.0010   7.21e-05     14.079      0.000       0.001       0.001\n",
      "month_3                   0.0003   7.44e-05      4.637      0.000       0.000       0.000\n",
      "month_4                   0.0005   7.36e-05      7.053      0.000       0.000       0.001\n",
      "month_5                   0.0005   7.25e-05      6.741      0.000       0.000       0.001\n",
      "month_6                   0.0004   7.34e-05      5.696      0.000       0.000       0.001\n",
      "month_7                   0.0006   7.63e-05      8.415      0.000       0.000       0.001\n",
      "month_8                6.821e-05    7.7e-05      0.886      0.375   -8.26e-05       0.000\n",
      "month_9                   0.0004   7.59e-05      5.017      0.000       0.000       0.001\n",
      "month_10                  0.0007    7.8e-05      8.524      0.000       0.001       0.001\n",
      "month_11                  0.0006    7.6e-05      7.697      0.000       0.000       0.001\n",
      "month_12                  0.0004   7.42e-05      5.153      0.000       0.000       0.001\n",
      "capital_goods             0.0010      0.000      2.714      0.007       0.000       0.002\n",
      "consumer_non-durables     0.0007      0.000      1.793      0.073   -6.33e-05       0.001\n",
      "consumer_services         0.0008      0.000      2.234      0.025    9.29e-05       0.001\n",
      "energy                    0.0003      0.000      0.913      0.361      -0.000       0.001\n",
      "finance                   0.0009      0.000      2.533      0.011       0.000       0.002\n",
      "health_care               0.0007      0.000      2.065      0.039    3.51e-05       0.001\n",
      "miscellaneous             0.0011      0.000      2.565      0.010       0.000       0.002\n",
      "public_utilities          0.0003      0.000      0.749      0.454      -0.001       0.001\n",
      "technology                0.0011      0.000      3.285      0.001       0.000       0.002\n",
      "transportation            0.0010      0.000      2.426      0.015       0.000       0.002\n",
      "==============================================================================\n",
      "Omnibus:                    29139.970   Durbin-Watson:                   2.010\n",
      "Prob(Omnibus):                  0.000   Jarque-Bera (JB):          2800989.218\n",
      "Skew:                          -0.105   Prob(JB):                         0.00\n",
      "Kurtosis:                      27.757   Cond. No.                         80.7\n",
      "==============================================================================\n",
      "\n",
      "Notes:\n",
      "[1] Standard Errors assume that the covariance matrix of the errors is correctly specified.\n"
     ]
    }
   ],
   "source": [
    "target = 'target_1d'\n",
    "model = OLS(endog=y[target], exog=add_constant(X)) #注意，给X加了常数项\n",
    "trained_model = model.fit()\n",
    "print(trained_model.summary())\n",
    "#拒绝残差项服从正态分布\n",
    "#认为残差之间不存在自相关性"
   ]
  },
  {
   "cell_type": "markdown",
   "metadata": {},
   "source": [
    "### 5-Day Returns"
   ]
  },
  {
   "cell_type": "code",
   "execution_count": 37,
   "metadata": {
    "ExecuteTime": {
     "end_time": "2021-04-15T20:03:16.455330Z",
     "start_time": "2021-04-15T20:03:16.223433Z"
    },
    "collapsed": true
   },
   "outputs": [
    {
     "name": "stdout",
     "output_type": "stream",
     "text": [
      "                            OLS Regression Results                            \n",
      "==============================================================================\n",
      "Dep. Variable:              target_5d   R-squared:                       0.031\n",
      "Model:                            OLS   Adj. R-squared:                  0.031\n",
      "Method:                 Least Squares   F-statistic:                     61.86\n",
      "Date:                Mon, 31 Oct 2022   Prob (F-statistic):               0.00\n",
      "Time:                        15:02:07   Log-Likelihood:             3.7883e+05\n",
      "No. Observations:              109675   AIC:                        -7.575e+05\n",
      "Df Residuals:                  109617   BIC:                        -7.570e+05\n",
      "Df Model:                          57                                         \n",
      "Covariance Type:            nonrobust                                         \n",
      "=========================================================================================\n",
      "                            coef    std err          t      P>|t|      [0.025      0.975]\n",
      "-----------------------------------------------------------------------------------------\n",
      "const                    -0.0005      0.000     -3.412      0.001      -0.001      -0.000\n",
      "dollar_vol_1m            -0.0003   3.02e-05     -8.790      0.000      -0.000      -0.000\n",
      "rsi                       0.0005   8.43e-05      5.477      0.000       0.000       0.001\n",
      "bb_high                   0.0010   9.88e-05     10.353      0.000       0.001       0.001\n",
      "bb_low                   -0.0004   9.46e-05     -4.550      0.000      -0.001      -0.000\n",
      "atr                     -9.8e-05   3.27e-05     -2.999      0.003      -0.000    -3.4e-05\n",
      "macd                     -0.0004      0.000     -3.880      0.000      -0.001      -0.000\n",
      "return_1d                 0.0010      0.000      7.468      0.000       0.001       0.001\n",
      "return_5d                 0.0012      0.000      2.947      0.003       0.000       0.002\n",
      "return_10d               -0.0038      0.000     -8.639      0.000      -0.005      -0.003\n",
      "return_21d                0.0021      0.000     10.714      0.000       0.002       0.003\n",
      "return_42d               -0.0024      0.000     -9.124      0.000      -0.003      -0.002\n",
      "return_63d               -0.0017      0.000     -8.800      0.000      -0.002      -0.001\n",
      "return_1d_lag1            0.0009      0.000      7.281      0.000       0.001       0.001\n",
      "return_5d_lag1            0.0035      0.000     11.632      0.000       0.003       0.004\n",
      "return_10d_lag1           0.0007      0.000      1.546      0.122      -0.000       0.002\n",
      "return_21d_lag1           0.0020      0.000     11.876      0.000       0.002       0.002\n",
      "return_1d_lag2            0.0010      0.000      7.493      0.000       0.001       0.001\n",
      "return_5d_lag2         -6.79e-06      0.000     -0.020      0.984      -0.001       0.001\n",
      "return_10d_lag2          -0.0003      0.000     -0.918      0.359      -0.001       0.000\n",
      "return_21d_lag2           0.0006      0.000      4.309      0.000       0.000       0.001\n",
      "return_1d_lag3            0.0010      0.000      7.844      0.000       0.001       0.001\n",
      "return_5d_lag3            0.0001      0.000      0.397      0.691      -0.001       0.001\n",
      "return_10d_lag3           0.0005    6.4e-05      8.171      0.000       0.000       0.001\n",
      "return_21d_lag3          -0.0002   2.44e-05     -7.933      0.000      -0.000      -0.000\n",
      "return_1d_lag4            0.0010      0.000      7.887      0.000       0.001       0.001\n",
      "return_5d_lag4            0.0007      0.000      2.443      0.015       0.000       0.001\n",
      "return_10d_lag4        4.558e-05   4.51e-05      1.012      0.312   -4.27e-05       0.000\n",
      "return_21d_lag4        8.989e-05   2.41e-05      3.724      0.000    4.26e-05       0.000\n",
      "return_1d_lag5         1.138e-05   2.72e-05      0.419      0.675   -4.19e-05    6.46e-05\n",
      "return_5d_lag5            0.0005      0.000      1.848      0.065   -2.91e-05       0.001\n",
      "return_10d_lag5           0.0004   4.37e-05      8.446      0.000       0.000       0.000\n",
      "return_21d_lag5           0.0002    2.4e-05      7.811      0.000       0.000       0.000\n",
      "year_2014                -0.0003   3.68e-05     -9.407      0.000      -0.000      -0.000\n",
      "year_2015                -0.0005   4.02e-05    -13.632      0.000      -0.001      -0.000\n",
      "year_2016                -0.0003   3.93e-05     -8.157      0.000      -0.000      -0.000\n",
      "year_2017                -0.0002   3.88e-05     -4.454      0.000      -0.000   -9.67e-05\n",
      "month_2                   0.0009   3.16e-05     27.541      0.000       0.001       0.001\n",
      "month_3                   0.0001   3.27e-05      3.949      0.000     6.5e-05       0.000\n",
      "month_4                   0.0003   3.23e-05      9.721      0.000       0.000       0.000\n",
      "month_5                   0.0005   3.18e-05     14.481      0.000       0.000       0.001\n",
      "month_6                   0.0002   3.22e-05      7.201      0.000       0.000       0.000\n",
      "month_7                   0.0004   3.35e-05     13.321      0.000       0.000       0.001\n",
      "month_8                3.574e-05   3.38e-05      1.058      0.290   -3.05e-05       0.000\n",
      "month_9                   0.0003   3.33e-05      7.745      0.000       0.000       0.000\n",
      "month_10                  0.0004   3.42e-05     12.425      0.000       0.000       0.000\n",
      "month_11                  0.0005   3.33e-05     13.788      0.000       0.000       0.001\n",
      "month_12                  0.0001   3.26e-05      4.388      0.000    7.91e-05       0.000\n",
      "capital_goods             0.0011      0.000      6.699      0.000       0.001       0.001\n",
      "consumer_non-durables     0.0009      0.000      5.179      0.000       0.001       0.001\n",
      "consumer_services         0.0009      0.000      6.038      0.000       0.001       0.001\n",
      "energy                    0.0004      0.000      2.488      0.013    8.11e-05       0.001\n",
      "finance                   0.0010      0.000      6.510      0.000       0.001       0.001\n",
      "health_care               0.0008      0.000      5.240      0.000       0.000       0.001\n",
      "miscellaneous             0.0012      0.000      6.354      0.000       0.001       0.002\n",
      "public_utilities          0.0003      0.000      1.864      0.062   -1.77e-05       0.001\n",
      "technology                0.0011      0.000      7.760      0.000       0.001       0.001\n",
      "transportation            0.0010      0.000      5.920      0.000       0.001       0.001\n",
      "==============================================================================\n",
      "Omnibus:                    43640.257   Durbin-Watson:                   0.436\n",
      "Prob(Omnibus):                  0.000   Jarque-Bera (JB):          2362450.641\n",
      "Skew:                          -1.138   Prob(JB):                         0.00\n",
      "Kurtosis:                      25.623   Cond. No.                         80.7\n",
      "==============================================================================\n",
      "\n",
      "Notes:\n",
      "[1] Standard Errors assume that the covariance matrix of the errors is correctly specified.\n"
     ]
    }
   ],
   "source": [
    "target = 'target_5d'\n",
    "model = OLS(endog=y[target], exog=add_constant(X))\n",
    "trained_model = model.fit()\n",
    "print(trained_model.summary())\n",
    "#拒绝残差项服从正态分布\n",
    "#认为残差之间存在正的自相关性"
   ]
  },
  {
   "cell_type": "markdown",
   "metadata": {},
   "source": [
    "#### Obtain the residuals"
   ]
  },
  {
   "cell_type": "code",
   "execution_count": 38,
   "metadata": {
    "ExecuteTime": {
     "end_time": "2021-04-15T20:03:16.512662Z",
     "start_time": "2021-04-15T20:03:16.456259Z"
    }
   },
   "outputs": [],
   "source": [
    "preds = trained_model.predict(add_constant(X)) #此可以理解为y_hat\n",
    "residuals = y[target] - preds"
   ]
  },
  {
   "cell_type": "code",
   "execution_count": 43,
   "metadata": {
    "ExecuteTime": {
     "end_time": "2021-04-15T20:03:17.799687Z",
     "start_time": "2021-04-15T20:03:16.513542Z"
    },
    "collapsed": true
   },
   "outputs": [
    {
     "data": {
      "image/png": "[encoded data removed]",
      "text/plain": [
       "<Figure size 1008x288 with 2 Axes>"
      ]
     },
     "metadata": {},
     "output_type": "display_data"
    }
   ],
   "source": [
    "fig, axes = plt.subplots(ncols=2, figsize=(14,4))\n",
    "sns.distplot(residuals, fit=norm, ax=axes[0], axlabel='Residuals', label='Residuals')\n",
    "axes[0].set_title('Residual Distribution')\n",
    "axes[0].legend() #设置图例\n",
    "plot_acf(residuals, lags=10, zero=False, ax=axes[1], title='Residual Autocorrelation') #绘制自相关函数\n",
    "axes[1].set_xlabel('Lags')\n",
    "sns.despine()\n",
    "fig.tight_layout();"
   ]
  },
  {
   "cell_type": "markdown",
   "metadata": {},
   "source": [
    "### 10-Day Returns"
   ]
  },
  {
   "cell_type": "code",
   "execution_count": 45,
   "metadata": {
    "ExecuteTime": {
     "end_time": "2021-04-15T20:03:18.025738Z",
     "start_time": "2021-04-15T20:03:17.800716Z"
    },
    "collapsed": true
   },
   "outputs": [
    {
     "name": "stdout",
     "output_type": "stream",
     "text": [
      "                            OLS Regression Results                            \n",
      "==============================================================================\n",
      "Dep. Variable:             target_10d   R-squared:                       0.043\n",
      "Model:                            OLS   Adj. R-squared:                  0.042\n",
      "Method:                 Least Squares   F-statistic:                     85.38\n",
      "Date:                Mon, 31 Oct 2022   Prob (F-statistic):               0.00\n",
      "Time:                        15:12:00   Log-Likelihood:             4.1892e+05\n",
      "No. Observations:              109675   AIC:                        -8.377e+05\n",
      "Df Residuals:                  109617   BIC:                        -8.372e+05\n",
      "Df Model:                          57                                         \n",
      "Covariance Type:            nonrobust                                         \n",
      "=========================================================================================\n",
      "                            coef    std err          t      P>|t|      [0.025      0.975]\n",
      "-----------------------------------------------------------------------------------------\n",
      "const                    -0.0004    9.5e-05     -3.922      0.000      -0.001      -0.000\n",
      "dollar_vol_1m            -0.0001    2.1e-05     -6.800      0.000      -0.000      -0.000\n",
      "rsi                       0.0002   5.85e-05      2.759      0.006    4.67e-05       0.000\n",
      "bb_high                   0.0006   6.85e-05      9.273      0.000       0.001       0.001\n",
      "bb_low                   -0.0002   6.56e-05     -2.847      0.004      -0.000   -5.82e-05\n",
      "atr                      -0.0002   2.27e-05     -7.328      0.000      -0.000      -0.000\n",
      "macd                     -0.0001   7.22e-05     -1.908      0.056      -0.000    3.76e-06\n",
      "return_1d                 0.0005   9.01e-05      6.046      0.000       0.000       0.001\n",
      "return_5d               5.98e-05      0.000      0.212      0.832      -0.000       0.001\n",
      "return_10d               -0.0008      0.000     -2.741      0.006      -0.001      -0.000\n",
      "return_21d                0.0017      0.000     11.902      0.000       0.001       0.002\n",
      "return_42d               -0.0025      0.000    -13.475      0.000      -0.003      -0.002\n",
      "return_63d               -0.0014      0.000    -10.322      0.000      -0.002      -0.001\n",
      "return_1d_lag1            0.0005   8.98e-05      5.980      0.000       0.000       0.001\n",
      "return_5d_lag1            0.0013      0.000      6.090      0.000       0.001       0.002\n",
      "return_10d_lag1           0.0009      0.000      2.615      0.009       0.000       0.002\n",
      "return_21d_lag1           0.0017      0.000     14.947      0.000       0.002       0.002\n",
      "return_1d_lag2            0.0005   8.99e-05      5.956      0.000       0.000       0.001\n",
      "return_5d_lag2         6.813e-05      0.000      0.294      0.769      -0.000       0.001\n",
      "return_10d_lag2           0.0002      0.000      0.690      0.490      -0.000       0.001\n",
      "return_21d_lag2           0.0002   9.01e-05      2.768      0.006    7.28e-05       0.000\n",
      "return_1d_lag3            0.0005   9.03e-05      6.066      0.000       0.000       0.001\n",
      "return_5d_lag3         9.299e-06      0.000      0.040      0.968      -0.000       0.000\n",
      "return_10d_lag3           0.0005   4.44e-05     12.279      0.000       0.000       0.001\n",
      "return_21d_lag3          -0.0001   1.69e-05     -6.699      0.000      -0.000   -8.02e-05\n",
      "return_1d_lag4            0.0006   9.08e-05      6.278      0.000       0.000       0.001\n",
      "return_5d_lag4            0.0002      0.000      1.250      0.211      -0.000       0.001\n",
      "return_10d_lag4           0.0002   3.13e-05      7.472      0.000       0.000       0.000\n",
      "return_21d_lag4        9.467e-05   1.67e-05      5.653      0.000    6.18e-05       0.000\n",
      "return_1d_lag5        -1.792e-05   1.89e-05     -0.950      0.342   -5.49e-05     1.9e-05\n",
      "return_5d_lag5            0.0002      0.000      1.064      0.287      -0.000       0.001\n",
      "return_10d_lag5           0.0003   3.03e-05     10.693      0.000       0.000       0.000\n",
      "return_21d_lag5           0.0001   1.67e-05      8.453      0.000       0.000       0.000\n",
      "year_2014                -0.0004   2.55e-05    -13.817      0.000      -0.000      -0.000\n",
      "year_2015                -0.0006   2.79e-05    -20.441      0.000      -0.001      -0.001\n",
      "year_2016                -0.0002   2.73e-05     -9.022      0.000      -0.000      -0.000\n",
      "year_2017                -0.0002   2.69e-05     -7.333      0.000      -0.000      -0.000\n",
      "month_2                   0.0006    2.2e-05     28.394      0.000       0.001       0.001\n",
      "month_3                4.204e-05   2.27e-05      1.855      0.064   -2.37e-06    8.65e-05\n",
      "month_4                   0.0002   2.24e-05      8.025      0.000       0.000       0.000\n",
      "month_5                   0.0003   2.21e-05     14.300      0.000       0.000       0.000\n",
      "month_6                   0.0002   2.24e-05      7.894      0.000       0.000       0.000\n",
      "month_7                   0.0002   2.32e-05      8.109      0.000       0.000       0.000\n",
      "month_8                -6.35e-05   2.34e-05     -2.709      0.007      -0.000   -1.76e-05\n",
      "month_9                4.795e-05   2.31e-05      2.075      0.038    2.66e-06    9.32e-05\n",
      "month_10                  0.0003   2.37e-05     14.479      0.000       0.000       0.000\n",
      "month_11                  0.0002   2.31e-05     10.264      0.000       0.000       0.000\n",
      "month_12              -3.354e-05   2.26e-05     -1.485      0.138   -7.78e-05    1.07e-05\n",
      "capital_goods             0.0010      0.000      8.686      0.000       0.001       0.001\n",
      "consumer_non-durables     0.0007      0.000      6.399      0.000       0.001       0.001\n",
      "consumer_services         0.0007      0.000      7.209      0.000       0.001       0.001\n",
      "energy                    0.0003      0.000      2.736      0.006    8.26e-05       0.001\n",
      "finance                   0.0009      0.000      8.318      0.000       0.001       0.001\n",
      "health_care               0.0006      0.000      6.168      0.000       0.000       0.001\n",
      "miscellaneous             0.0012      0.000      8.854      0.000       0.001       0.001\n",
      "public_utilities          0.0002      0.000      1.618      0.106   -4.39e-05       0.000\n",
      "technology                0.0010      0.000      9.984      0.000       0.001       0.001\n",
      "transportation            0.0010      0.000      7.928      0.000       0.001       0.001\n",
      "==============================================================================\n",
      "Omnibus:                    38454.440   Durbin-Watson:                   0.233\n",
      "Prob(Omnibus):                  0.000   Jarque-Bera (JB):          1111784.823\n",
      "Skew:                          -1.087   Prob(JB):                         0.00\n",
      "Kurtosis:                      18.446   Cond. No.                         80.7\n",
      "==============================================================================\n",
      "\n",
      "Notes:\n",
      "[1] Standard Errors assume that the covariance matrix of the errors is correctly specified.\n"
     ]
    }
   ],
   "source": [
    "target = 'target_10d'\n",
    "model = OLS(endog=y[target], exog=add_constant(X))\n",
    "trained_model = model.fit()\n",
    "print(trained_model.summary())\n",
    "#拒绝残差项服从正态分布\n",
    "#认为残差之间存在正的自相关性"
   ]
  },
  {
   "cell_type": "markdown",
   "metadata": {},
   "source": [
    "### Monthly Returns"
   ]
  },
  {
   "cell_type": "code",
   "execution_count": 46,
   "metadata": {
    "ExecuteTime": {
     "end_time": "2021-04-15T20:03:18.317266Z",
     "start_time": "2021-04-15T20:03:18.026607Z"
    },
    "collapsed": true
   },
   "outputs": [
    {
     "name": "stdout",
     "output_type": "stream",
     "text": [
      "                            OLS Regression Results                            \n",
      "==============================================================================\n",
      "Dep. Variable:             target_21d   R-squared:                       0.059\n",
      "Model:                            OLS   Adj. R-squared:                  0.058\n",
      "Method:                 Least Squares   F-statistic:                     119.7\n",
      "Date:                Mon, 31 Oct 2022   Prob (F-statistic):               0.00\n",
      "Time:                        15:13:20   Log-Likelihood:             4.6155e+05\n",
      "No. Observations:              109675   AIC:                        -9.230e+05\n",
      "Df Residuals:                  109617   BIC:                        -9.224e+05\n",
      "Df Model:                          57                                         \n",
      "Covariance Type:            nonrobust                                         \n",
      "=========================================================================================\n",
      "                            coef    std err          t      P>|t|      [0.025      0.975]\n",
      "-----------------------------------------------------------------------------------------\n",
      "const                    -0.0003   6.44e-05     -4.358      0.000      -0.000      -0.000\n",
      "dollar_vol_1m         -4.008e-05   1.42e-05     -2.820      0.005   -6.79e-05   -1.22e-05\n",
      "rsi                    2.026e-05   3.97e-05      0.511      0.609   -5.75e-05     9.8e-05\n",
      "bb_high                   0.0002   4.65e-05      3.684      0.000    8.01e-05       0.000\n",
      "bb_low                    0.0002   4.45e-05      4.367      0.000       0.000       0.000\n",
      "atr                      -0.0002   1.54e-05    -12.330      0.000      -0.000      -0.000\n",
      "macd                     -0.0003   4.89e-05     -5.137      0.000      -0.000      -0.000\n",
      "return_1d                 0.0003   6.11e-05      4.853      0.000       0.000       0.000\n",
      "return_5d                -0.0005      0.000     -2.575      0.010      -0.001      -0.000\n",
      "return_10d               -0.0003      0.000     -1.332      0.183      -0.001       0.000\n",
      "return_21d                0.0018   9.41e-05     18.701      0.000       0.002       0.002\n",
      "return_42d               -0.0018      0.000    -14.314      0.000      -0.002      -0.002\n",
      "return_63d               -0.0012   9.31e-05    -12.676      0.000      -0.001      -0.001\n",
      "return_1d_lag1            0.0003   6.09e-05      5.014      0.000       0.000       0.000\n",
      "return_5d_lag1            0.0003      0.000      2.387      0.017    6.01e-05       0.001\n",
      "return_10d_lag1        9.985e-05      0.000      0.445      0.656      -0.000       0.001\n",
      "return_21d_lag1           0.0017   7.93e-05     21.339      0.000       0.002       0.002\n",
      "return_1d_lag2            0.0003   6.09e-05      5.494      0.000       0.000       0.000\n",
      "return_5d_lag2         7.005e-05      0.000      0.446      0.655      -0.000       0.000\n",
      "return_10d_lag2           0.0001      0.000      0.716      0.474      -0.000       0.000\n",
      "return_21d_lag2           0.0005   6.11e-05      7.894      0.000       0.000       0.001\n",
      "return_1d_lag3            0.0004   6.12e-05      5.956      0.000       0.000       0.000\n",
      "return_5d_lag3            0.0001      0.000      0.696      0.486      -0.000       0.000\n",
      "return_10d_lag3           0.0001   3.01e-05      4.171      0.000    6.65e-05       0.000\n",
      "return_21d_lag3       -8.503e-05   1.15e-05     -7.415      0.000      -0.000   -6.26e-05\n",
      "return_1d_lag4            0.0004   6.16e-05      6.187      0.000       0.000       0.001\n",
      "return_5d_lag4         5.046e-05      0.000      0.401      0.688      -0.000       0.000\n",
      "return_10d_lag4        3.895e-05   2.12e-05      1.838      0.066   -2.59e-06    8.05e-05\n",
      "return_21d_lag4           0.0001   1.14e-05     13.100      0.000       0.000       0.000\n",
      "return_1d_lag5         3.351e-06   1.28e-05      0.262      0.793   -2.17e-05    2.84e-05\n",
      "return_5d_lag5        -9.804e-06      0.000     -0.080      0.936      -0.000       0.000\n",
      "return_10d_lag5        6.256e-06   2.05e-05      0.305      0.761    -3.4e-05    4.65e-05\n",
      "return_21d_lag5       -3.545e-05   1.13e-05     -3.134      0.002   -5.76e-05   -1.33e-05\n",
      "year_2014                -0.0003   1.73e-05    -17.088      0.000      -0.000      -0.000\n",
      "year_2015                -0.0006   1.89e-05    -29.827      0.000      -0.001      -0.001\n",
      "year_2016                -0.0002   1.85e-05     -9.707      0.000      -0.000      -0.000\n",
      "year_2017                -0.0002   1.82e-05    -10.028      0.000      -0.000      -0.000\n",
      "month_2                8.855e-05   1.49e-05      5.950      0.000    5.94e-05       0.000\n",
      "month_3                  -0.0001   1.54e-05     -9.594      0.000      -0.000      -0.000\n",
      "month_4                  -0.0001   1.52e-05     -7.960      0.000      -0.000   -9.11e-05\n",
      "month_5                2.356e-05    1.5e-05      1.574      0.116   -5.78e-06    5.29e-05\n",
      "month_6                -1.92e-05   1.52e-05     -1.266      0.206   -4.89e-05    1.05e-05\n",
      "month_7                  -0.0003   1.57e-05    -18.369      0.000      -0.000      -0.000\n",
      "month_8                  -0.0002   1.59e-05    -14.877      0.000      -0.000      -0.000\n",
      "month_9                  -0.0002   1.57e-05    -11.661      0.000      -0.000      -0.000\n",
      "month_10               6.676e-05   1.61e-05      4.147      0.000    3.52e-05    9.83e-05\n",
      "month_11                 -0.0001   1.57e-05     -7.393      0.000      -0.000   -8.52e-05\n",
      "month_12                 -0.0004   1.53e-05    -25.897      0.000      -0.000      -0.000\n",
      "capital_goods             0.0008   7.57e-05     11.198      0.000       0.001       0.001\n",
      "consumer_non-durables     0.0007   7.84e-05      8.618      0.000       0.001       0.001\n",
      "consumer_services         0.0006   7.01e-05      8.933      0.000       0.000       0.001\n",
      "energy                    0.0002   7.22e-05      2.652      0.008    4.99e-05       0.000\n",
      "finance                   0.0008   7.37e-05     10.794      0.000       0.001       0.001\n",
      "health_care               0.0005   6.89e-05      7.493      0.000       0.000       0.001\n",
      "miscellaneous             0.0012   9.02e-05     12.969      0.000       0.001       0.001\n",
      "public_utilities          0.0001   8.71e-05      1.241      0.215   -6.26e-05       0.000\n",
      "technology                0.0009   6.95e-05     13.417      0.000       0.001       0.001\n",
      "transportation            0.0009   8.24e-05     11.165      0.000       0.001       0.001\n",
      "==============================================================================\n",
      "Omnibus:                    40182.050   Durbin-Watson:                   0.129\n",
      "Prob(Omnibus):                  0.000   Jarque-Bera (JB):           848232.085\n",
      "Skew:                          -1.254   Prob(JB):                         0.00\n",
      "Kurtosis:                      16.391   Cond. No.                         80.7\n",
      "==============================================================================\n",
      "\n",
      "Notes:\n",
      "[1] Standard Errors assume that the covariance matrix of the errors is correctly specified.\n"
     ]
    }
   ],
   "source": [
    "target = 'target_21d'\n",
    "model = OLS(endog=y[target], exog=add_constant(X))\n",
    "trained_model = model.fit()\n",
    "print(trained_model.summary())\n",
    "#拒绝残差项服从正态分布\n",
    "#认为残差之间存在正的自相关性"
   ]
  }
 ],
 "metadata": {
  "kernelspec": {
   "display_name": "Python 3",
   "language": "python",
   "name": "python3"
  },
  "language_info": {
   "codemirror_mode": {
    "name": "ipython",
    "version": 3
   },
   "file_extension": ".py",
   "mimetype": "text/x-python",
   "name": "python",
   "nbconvert_exporter": "python",
   "pygments_lexer": "ipython3",
   "version": "3.8.8"
  },
  "toc": {
   "base_numbering": 1,
   "nav_menu": {},
   "number_sections": true,
   "sideBar": true,
   "skip_h1_title": true,
   "title_cell": "Table of Contents",
   "title_sidebar": "Contents",
   "toc_cell": false,
   "toc_position": {
    "height": "calc(100% - 180px)",
    "left": "10px",
    "top": "150px",
    "width": "187.018px"
   },
   "toc_section_display": true,
   "toc_window_display": true
  }
 },
 "nbformat": 4,
 "nbformat_minor": 2
}
