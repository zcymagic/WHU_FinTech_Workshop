{
 "cells": [
  {
   "cell_type": "markdown",
   "metadata": {},
   "source": [
    "# How to build a linear factor model"
   ]
  },
  {
   "cell_type": "markdown",
   "metadata": {},
   "source": [
    "Algorithmic trading strategies use linear factor models to quantify the relationship between the return of an asset and the sources of risk that represent the main drivers of these returns. Each factor risk carries a premium, and the total asset return can be expected to correspond to a weighted average of these risk premia."
   ]
  },
  {
   "cell_type": "markdown",
   "metadata": {},
   "source": [
    "There are several practical applications of factor models across the portfolio management process from construction and asset selection to risk management and performance evaluation. The importance of factor models continues to grow as common risk factors are now tradeable:\n",
    "\n",
    "- A summary of the returns of many assets by a much smaller number of factors reduces the amount of data required to estimate the covariance matrix when optimizing a portfolio\n",
    "- An estimate of the exposure of an asset or a portfolio to these factors allows for the management of the resultant risk, for instance by entering suitable hedges when risk factors are themselves traded\n",
    "- A factor model also permits the assessment of the incremental signal content of new alpha factors\n",
    "- A factor model can also help assess whether a manager's performance relative to a benchmark is indeed due to skill in selecting assets and timing the market, or if instead, the performance can be explained by portfolio tilts towards known return drivers that can today be replicated as low-cost, passively managed funds without incurring active management fees"
   ]
  },
  {
   "cell_type": "markdown",
   "metadata": {},
   "source": [
    "## Imports & Settings"
   ]
  },
  {
   "cell_type": "code",
   "execution_count": 8,
   "metadata": {
    "collapsed": true
   },
   "outputs": [
    {
     "ename": "SyntaxError",
     "evalue": "invalid syntax (<ipython-input-8-0dfeebf58156>, line 1)",
     "output_type": "error",
     "traceback": [
      "\u001b[1;36m  File \u001b[1;32m\"<ipython-input-8-0dfeebf58156>\"\u001b[1;36m, line \u001b[1;32m1\u001b[0m\n\u001b[1;33m    pip install pandas_datareader\u001b[0m\n\u001b[1;37m        ^\u001b[0m\n\u001b[1;31mSyntaxError\u001b[0m\u001b[1;31m:\u001b[0m invalid syntax\n"
     ]
    }
   ],
   "source": [
    "pip install pandas_datareader"
   ]
  },
  {
   "cell_type": "code",
   "execution_count": 9,
   "metadata": {
    "collapsed": true
   },
   "outputs": [
    {
     "name": "stdout",
     "output_type": "stream",
     "text": [
      "Collecting linearmodels\n",
      "  Downloading linearmodels-4.27-cp38-cp38-win_amd64.whl (1.6 MB)\n",
      "     ---------------------------------------- 1.6/1.6 MB 92.8 kB/s eta 0:00:00\n",
      "Requirement already satisfied: numpy>=1.16 in c:\\users\\86152\\anaconda3\\lib\\site-packages (from linearmodels) (1.20.1)\n",
      "Requirement already satisfied: Cython>=0.29.21 in c:\\users\\86152\\anaconda3\\lib\\site-packages (from linearmodels) (0.29.23)\n",
      "Requirement already satisfied: statsmodels>=0.11 in c:\\users\\86152\\anaconda3\\lib\\site-packages (from linearmodels) (0.12.2)\n",
      "Requirement already satisfied: scipy>=1.2 in c:\\users\\86152\\anaconda3\\lib\\site-packages (from linearmodels) (1.6.2)\n",
      "Collecting pyhdfe>=0.1\n",
      "  Downloading pyhdfe-0.1.0-py3-none-any.whl (18 kB)\n",
      "Collecting formulaic~=0.3.2\n",
      "  Downloading formulaic-0.3.4-py3-none-any.whl (68 kB)\n",
      "     --------------------------------------- 68.2/68.2 kB 69.9 kB/s eta 0:00:00\n",
      "Requirement already satisfied: mypy-extensions>=0.4 in c:\\users\\86152\\anaconda3\\lib\\site-packages (from linearmodels) (0.4.3)\n",
      "Requirement already satisfied: pandas>=0.24 in c:\\users\\86152\\anaconda3\\lib\\site-packages (from linearmodels) (1.2.4)\n",
      "Collecting property-cached>=1.6.3\n",
      "  Downloading property_cached-1.6.4-py2.py3-none-any.whl (7.8 kB)\n",
      "Collecting setuptools-scm<7.0.0,>=6.4.2\n",
      "  Downloading setuptools_scm-6.4.2-py3-none-any.whl (37 kB)\n",
      "Collecting interface-meta<2.0.0,>=1.2.0\n",
      "  Downloading interface_meta-1.3.0-py3-none-any.whl (14 kB)\n",
      "Collecting astor>=0.8\n",
      "  Downloading astor-0.8.1-py2.py3-none-any.whl (27 kB)\n",
      "Requirement already satisfied: wrapt>=1.0 in c:\\users\\86152\\anaconda3\\lib\\site-packages (from formulaic~=0.3.2->linearmodels) (1.12.1)\n",
      "Requirement already satisfied: python-dateutil>=2.7.3 in c:\\users\\86152\\anaconda3\\lib\\site-packages (from pandas>=0.24->linearmodels) (2.8.1)\n",
      "Requirement already satisfied: pytz>=2017.3 in c:\\users\\86152\\anaconda3\\lib\\site-packages (from pandas>=0.24->linearmodels) (2021.1)\n",
      "Requirement already satisfied: packaging>=20.0 in c:\\users\\86152\\anaconda3\\lib\\site-packages (from setuptools-scm<7.0.0,>=6.4.2->linearmodels) (20.9)\n",
      "Requirement already satisfied: setuptools in c:\\users\\86152\\anaconda3\\lib\\site-packages (from setuptools-scm<7.0.0,>=6.4.2->linearmodels) (52.0.0.post20210125)\n",
      "Collecting tomli>=1.0.0\n",
      "  Downloading tomli-2.0.1-py3-none-any.whl (12 kB)\n",
      "Requirement already satisfied: patsy>=0.5 in c:\\users\\86152\\anaconda3\\lib\\site-packages (from statsmodels>=0.11->linearmodels) (0.5.1)\n",
      "Requirement already satisfied: pyparsing>=2.0.2 in c:\\users\\86152\\anaconda3\\lib\\site-packages (from packaging>=20.0->setuptools-scm<7.0.0,>=6.4.2->linearmodels) (2.4.7)\n",
      "Requirement already satisfied: six in c:\\users\\86152\\anaconda3\\lib\\site-packages (from patsy>=0.5->statsmodels>=0.11->linearmodels) (1.15.0)\n",
      "Installing collected packages: tomli, property-cached, interface-meta, astor, setuptools-scm, pyhdfe, formulaic, linearmodels\n",
      "Successfully installed astor-0.8.1 formulaic-0.3.4 interface-meta-1.3.0 linearmodels-4.27 property-cached-1.6.4 pyhdfe-0.1.0 setuptools-scm-6.4.2 tomli-2.0.1\n",
      "Note: you may need to restart the kernel to use updated packages.\n"
     ]
    }
   ],
   "source": [
    "pip install linearmodels"
   ]
  },
  {
   "cell_type": "code",
   "execution_count": 1,
   "metadata": {
    "ExecuteTime": {
     "end_time": "2021-04-15T19:55:07.984117Z",
     "start_time": "2021-04-15T19:55:07.982285Z"
    }
   },
   "outputs": [],
   "source": [
    "import warnings\n",
    "warnings.filterwarnings('ignore')"
   ]
  },
  {
   "cell_type": "code",
   "execution_count": 2,
   "metadata": {
    "ExecuteTime": {
     "end_time": "2021-04-15T19:55:09.073976Z",
     "start_time": "2021-04-15T19:55:08.102748Z"
    }
   },
   "outputs": [],
   "source": [
    "import pandas as pd\n",
    "import numpy as np\n",
    "\n",
    "from statsmodels.api import OLS, add_constant\n",
    "import pandas_datareader.data as web\n",
    "\n",
    "from linearmodels.asset_pricing import LinearFactorModel\n",
    "\n",
    "import matplotlib.pyplot as plt\n",
    "import seaborn as sns"
   ]
  },
  {
   "cell_type": "code",
   "execution_count": 3,
   "metadata": {
    "ExecuteTime": {
     "end_time": "2021-04-15T19:55:09.077317Z",
     "start_time": "2021-04-15T19:55:09.075045Z"
    }
   },
   "outputs": [],
   "source": [
    "sns.set_style('whitegrid')"
   ]
  },
  {
   "cell_type": "markdown",
   "metadata": {},
   "source": [
    "## Get Data"
   ]
  },
  {
   "cell_type": "markdown",
   "metadata": {},
   "source": [
    "Fama and French make updated risk factor and research portfolio data available through their [website](http://mba.tuck.dartmouth.edu/pages/faculty/ken.french/data_library.html), and you can use the `pandas_datareader` package to obtain the data."
   ]
  },
  {
   "cell_type": "markdown",
   "metadata": {},
   "source": [
    "### Risk Factors"
   ]
  },
  {
   "cell_type": "markdown",
   "metadata": {},
   "source": [
    "In particular, we will be using the five Fama—French factors that result from sorting stocks first into three size groups and then into two for each of the remaining three firm-specific factors. \n",
    "\n",
    "Hence, the factors involve three sets of value-weighted portfolios formed as 3 x 2 sorts on size and book-to-market, size and operating profitability, and size and investment. The risk factor values computed as the average returns of the portfolios (PF) as outlined in the following table:"
   ]
  },
  {
   "cell_type": "markdown",
   "metadata": {},
   "source": [
    "| Label | Name                          | Description                                                                                                                                                                               |\n",
    "|-------|-------------------------------|-------------------------------------------------------------------------------------------------------------------------------------------------------------------------------------------|\n",
    "| SMB   | Small Minus Big               | Average return on the nine small stock portfolios minus the average return on the nine big stock portfolios                                                                               |\n",
    "| HML   | High Minus Low                | Average return on the two value portfolios minus the average return on the two growth portfolios                                                                                          |\n",
    "| RMW   | Robust minus Weak             | Average return on the two robust operating profitability portfolios minus the average return on the two weak operating profitability portfolios                                           |\n",
    "| CMA   | Conservative Minus Aggressive | Average return on the two conservative investment portfolios minus the average return on the two aggressive investment portfolios                                                         |\n",
    "| Rm-Rf | Excess return on the market   | Value-weight return of all firms incorporated in the US and listed on the NYSE, AMEX, or NASDAQ at the beginning of month t with 'good' data for t minus the one-month Treasury bill rate |"
   ]
  },
  {
   "cell_type": "markdown",
   "metadata": {},
   "source": [
    "The Fama-French 5 factors are based on the 6 value-weight portfolios formed on size and book-to-market, the 6 value-weight portfolios formed on size and operating profitability, and the 6 value-weight portfolios formed on size and investment."
   ]
  },
  {
   "cell_type": "markdown",
   "metadata": {},
   "source": [
    "We will use returns at a monthly frequency that we obtain for the period 2010 – 2017 as follows:"
   ]
  },
  {
   "cell_type": "code",
   "execution_count": 4,
   "metadata": {
    "ExecuteTime": {
     "end_time": "2021-04-15T19:55:13.367412Z",
     "start_time": "2021-04-15T19:55:13.065455Z"
    },
    "collapsed": true
   },
   "outputs": [
    {
     "name": "stdout",
     "output_type": "stream",
     "text": [
      "<class 'pandas.core.frame.DataFrame'>\n",
      "PeriodIndex: 96 entries, 2010-01 to 2017-12\n",
      "Freq: M\n",
      "Data columns (total 6 columns):\n",
      " #   Column  Non-Null Count  Dtype  \n",
      "---  ------  --------------  -----  \n",
      " 0   Mkt-RF  96 non-null     float64\n",
      " 1   SMB     96 non-null     float64\n",
      " 2   HML     96 non-null     float64\n",
      " 3   RMW     96 non-null     float64\n",
      " 4   CMA     96 non-null     float64\n",
      " 5   RF      96 non-null     float64\n",
      "dtypes: float64(6)\n",
      "memory usage: 5.2 KB\n"
     ]
    }
   ],
   "source": [
    "ff_factor = 'F-F_Research_Data_5_Factors_2x3'\n",
    "ff_factor_data = web.DataReader(ff_factor, 'famafrench', start='2010', end='2017-12')[0]\n",
    "ff_factor_data.info()"
   ]
  },
  {
   "cell_type": "code",
   "execution_count": 5,
   "metadata": {
    "ExecuteTime": {
     "end_time": "2021-04-15T19:55:13.386698Z",
     "start_time": "2021-04-15T19:55:13.368623Z"
    },
    "collapsed": true
   },
   "outputs": [
    {
     "data": {
      "text/html": [
       "<div>\n",
       "<style scoped>\n",
       "    .dataframe tbody tr th:only-of-type {\n",
       "        vertical-align: middle;\n",
       "    }\n",
       "\n",
       "    .dataframe tbody tr th {\n",
       "        vertical-align: top;\n",
       "    }\n",
       "\n",
       "    .dataframe thead th {\n",
       "        text-align: right;\n",
       "    }\n",
       "</style>\n",
       "<table border=\"1\" class=\"dataframe\">\n",
       "  <thead>\n",
       "    <tr style=\"text-align: right;\">\n",
       "      <th></th>\n",
       "      <th>Mkt-RF</th>\n",
       "      <th>SMB</th>\n",
       "      <th>HML</th>\n",
       "      <th>RMW</th>\n",
       "      <th>CMA</th>\n",
       "      <th>RF</th>\n",
       "    </tr>\n",
       "  </thead>\n",
       "  <tbody>\n",
       "    <tr>\n",
       "      <th>count</th>\n",
       "      <td>96.000000</td>\n",
       "      <td>96.000000</td>\n",
       "      <td>96.000000</td>\n",
       "      <td>96.000000</td>\n",
       "      <td>96.000000</td>\n",
       "      <td>96.000000</td>\n",
       "    </tr>\n",
       "    <tr>\n",
       "      <th>mean</th>\n",
       "      <td>1.158438</td>\n",
       "      <td>0.060000</td>\n",
       "      <td>-0.049271</td>\n",
       "      <td>0.129896</td>\n",
       "      <td>0.047708</td>\n",
       "      <td>0.012604</td>\n",
       "    </tr>\n",
       "    <tr>\n",
       "      <th>std</th>\n",
       "      <td>3.580012</td>\n",
       "      <td>2.300292</td>\n",
       "      <td>2.202912</td>\n",
       "      <td>1.581930</td>\n",
       "      <td>1.413033</td>\n",
       "      <td>0.022583</td>\n",
       "    </tr>\n",
       "    <tr>\n",
       "      <th>min</th>\n",
       "      <td>-7.890000</td>\n",
       "      <td>-4.580000</td>\n",
       "      <td>-4.700000</td>\n",
       "      <td>-3.880000</td>\n",
       "      <td>-3.240000</td>\n",
       "      <td>0.000000</td>\n",
       "    </tr>\n",
       "    <tr>\n",
       "      <th>25%</th>\n",
       "      <td>-0.917500</td>\n",
       "      <td>-1.670000</td>\n",
       "      <td>-1.665000</td>\n",
       "      <td>-1.075000</td>\n",
       "      <td>-0.952500</td>\n",
       "      <td>0.000000</td>\n",
       "    </tr>\n",
       "    <tr>\n",
       "      <th>50%</th>\n",
       "      <td>1.235000</td>\n",
       "      <td>0.200000</td>\n",
       "      <td>-0.275000</td>\n",
       "      <td>0.210000</td>\n",
       "      <td>0.010000</td>\n",
       "      <td>0.000000</td>\n",
       "    </tr>\n",
       "    <tr>\n",
       "      <th>75%</th>\n",
       "      <td>3.197500</td>\n",
       "      <td>1.582500</td>\n",
       "      <td>1.205000</td>\n",
       "      <td>1.235000</td>\n",
       "      <td>0.930000</td>\n",
       "      <td>0.010000</td>\n",
       "    </tr>\n",
       "    <tr>\n",
       "      <th>max</th>\n",
       "      <td>11.350000</td>\n",
       "      <td>7.040000</td>\n",
       "      <td>8.190000</td>\n",
       "      <td>3.480000</td>\n",
       "      <td>3.690000</td>\n",
       "      <td>0.090000</td>\n",
       "    </tr>\n",
       "  </tbody>\n",
       "</table>\n",
       "</div>"
      ],
      "text/plain": [
       "          Mkt-RF        SMB        HML        RMW        CMA         RF\n",
       "count  96.000000  96.000000  96.000000  96.000000  96.000000  96.000000\n",
       "mean    1.158438   0.060000  -0.049271   0.129896   0.047708   0.012604\n",
       "std     3.580012   2.300292   2.202912   1.581930   1.413033   0.022583\n",
       "min    -7.890000  -4.580000  -4.700000  -3.880000  -3.240000   0.000000\n",
       "25%    -0.917500  -1.670000  -1.665000  -1.075000  -0.952500   0.000000\n",
       "50%     1.235000   0.200000  -0.275000   0.210000   0.010000   0.000000\n",
       "75%     3.197500   1.582500   1.205000   1.235000   0.930000   0.010000\n",
       "max    11.350000   7.040000   8.190000   3.480000   3.690000   0.090000"
      ]
     },
     "execution_count": 5,
     "metadata": {},
     "output_type": "execute_result"
    }
   ],
   "source": [
    "ff_factor_data.describe()"
   ]
  },
  {
   "cell_type": "markdown",
   "metadata": {},
   "source": [
    "### Portfolios"
   ]
  },
  {
   "cell_type": "markdown",
   "metadata": {},
   "source": [
    "Fama and French also make available numerous portfolios that we can illustrate the estimation of the factor exposures, as well as the value of the risk premia available in the market for a given time period. We will use a panel of the 17 industry portfolios at a monthly frequency. \n",
    "\n",
    "We will subtract the risk-free rate from the returns because the factor model works with excess returns:"
   ]
  },
  {
   "cell_type": "code",
   "execution_count": 6,
   "metadata": {
    "ExecuteTime": {
     "end_time": "2021-04-15T19:55:14.483710Z",
     "start_time": "2021-04-15T19:55:13.388307Z"
    },
    "collapsed": true
   },
   "outputs": [
    {
     "name": "stdout",
     "output_type": "stream",
     "text": [
      "<class 'pandas.core.frame.DataFrame'>\n",
      "PeriodIndex: 96 entries, 2010-01 to 2017-12\n",
      "Freq: M\n",
      "Data columns (total 17 columns):\n",
      " #   Column  Non-Null Count  Dtype  \n",
      "---  ------  --------------  -----  \n",
      " 0   Food    96 non-null     float64\n",
      " 1   Mines   96 non-null     float64\n",
      " 2   Oil     96 non-null     float64\n",
      " 3   Clths   96 non-null     float64\n",
      " 4   Durbl   96 non-null     float64\n",
      " 5   Chems   96 non-null     float64\n",
      " 6   Cnsum   96 non-null     float64\n",
      " 7   Cnstr   96 non-null     float64\n",
      " 8   Steel   96 non-null     float64\n",
      " 9   FabPr   96 non-null     float64\n",
      " 10  Machn   96 non-null     float64\n",
      " 11  Cars    96 non-null     float64\n",
      " 12  Trans   96 non-null     float64\n",
      " 13  Utils   96 non-null     float64\n",
      " 14  Rtail   96 non-null     float64\n",
      " 15  Finan   96 non-null     float64\n",
      " 16  Other   96 non-null     float64\n",
      "dtypes: float64(17)\n",
      "memory usage: 13.5 KB\n"
     ]
    }
   ],
   "source": [
    "ff_portfolio = '17_Industry_Portfolios'\n",
    "ff_portfolio_data = web.DataReader(ff_portfolio, 'famafrench', start='2010', end='2017-12')[0]\n",
    "ff_portfolio_data = ff_portfolio_data.sub(ff_factor_data.RF, axis=0)\n",
    "ff_portfolio_data.info()"
   ]
  },
  {
   "cell_type": "code",
   "execution_count": 8,
   "metadata": {
    "ExecuteTime": {
     "end_time": "2021-04-15T19:55:14.519355Z",
     "start_time": "2021-04-15T19:55:14.484749Z"
    },
    "collapsed": true
   },
   "outputs": [
    {
     "data": {
      "text/html": [
       "<div>\n",
       "<style scoped>\n",
       "    .dataframe tbody tr th:only-of-type {\n",
       "        vertical-align: middle;\n",
       "    }\n",
       "\n",
       "    .dataframe tbody tr th {\n",
       "        vertical-align: top;\n",
       "    }\n",
       "\n",
       "    .dataframe thead th {\n",
       "        text-align: right;\n",
       "    }\n",
       "</style>\n",
       "<table border=\"1\" class=\"dataframe\">\n",
       "  <thead>\n",
       "    <tr style=\"text-align: right;\">\n",
       "      <th></th>\n",
       "      <th>Food</th>\n",
       "      <th>Mines</th>\n",
       "      <th>Oil</th>\n",
       "      <th>Clths</th>\n",
       "      <th>Durbl</th>\n",
       "      <th>Chems</th>\n",
       "      <th>Cnsum</th>\n",
       "      <th>Cnstr</th>\n",
       "      <th>Steel</th>\n",
       "      <th>FabPr</th>\n",
       "      <th>Machn</th>\n",
       "      <th>Cars</th>\n",
       "      <th>Trans</th>\n",
       "      <th>Utils</th>\n",
       "      <th>Rtail</th>\n",
       "      <th>Finan</th>\n",
       "      <th>Other</th>\n",
       "    </tr>\n",
       "  </thead>\n",
       "  <tbody>\n",
       "    <tr>\n",
       "      <th>count</th>\n",
       "      <td>96.000</td>\n",
       "      <td>96.000</td>\n",
       "      <td>96.000</td>\n",
       "      <td>96.000</td>\n",
       "      <td>96.000</td>\n",
       "      <td>96.000</td>\n",
       "      <td>96.000</td>\n",
       "      <td>96.000</td>\n",
       "      <td>96.000</td>\n",
       "      <td>96.000</td>\n",
       "      <td>96.000</td>\n",
       "      <td>96.000</td>\n",
       "      <td>96.000</td>\n",
       "      <td>96.000</td>\n",
       "      <td>96.000</td>\n",
       "      <td>96.000</td>\n",
       "      <td>96.000</td>\n",
       "    </tr>\n",
       "    <tr>\n",
       "      <th>mean</th>\n",
       "      <td>1.047</td>\n",
       "      <td>0.203</td>\n",
       "      <td>0.597</td>\n",
       "      <td>1.396</td>\n",
       "      <td>1.151</td>\n",
       "      <td>1.305</td>\n",
       "      <td>1.187</td>\n",
       "      <td>1.736</td>\n",
       "      <td>0.559</td>\n",
       "      <td>1.351</td>\n",
       "      <td>1.218</td>\n",
       "      <td>1.279</td>\n",
       "      <td>1.464</td>\n",
       "      <td>0.896</td>\n",
       "      <td>1.234</td>\n",
       "      <td>1.249</td>\n",
       "      <td>1.291</td>\n",
       "    </tr>\n",
       "    <tr>\n",
       "      <th>std</th>\n",
       "      <td>2.801</td>\n",
       "      <td>7.904</td>\n",
       "      <td>5.481</td>\n",
       "      <td>5.024</td>\n",
       "      <td>5.164</td>\n",
       "      <td>5.594</td>\n",
       "      <td>3.143</td>\n",
       "      <td>5.243</td>\n",
       "      <td>7.390</td>\n",
       "      <td>4.694</td>\n",
       "      <td>4.798</td>\n",
       "      <td>5.719</td>\n",
       "      <td>4.143</td>\n",
       "      <td>3.233</td>\n",
       "      <td>3.513</td>\n",
       "      <td>4.839</td>\n",
       "      <td>3.698</td>\n",
       "    </tr>\n",
       "    <tr>\n",
       "      <th>min</th>\n",
       "      <td>-5.170</td>\n",
       "      <td>-24.380</td>\n",
       "      <td>-11.680</td>\n",
       "      <td>-10.000</td>\n",
       "      <td>-13.160</td>\n",
       "      <td>-17.390</td>\n",
       "      <td>-7.150</td>\n",
       "      <td>-14.160</td>\n",
       "      <td>-20.490</td>\n",
       "      <td>-11.960</td>\n",
       "      <td>-9.070</td>\n",
       "      <td>-11.650</td>\n",
       "      <td>-8.560</td>\n",
       "      <td>-6.990</td>\n",
       "      <td>-9.180</td>\n",
       "      <td>-11.140</td>\n",
       "      <td>-7.890</td>\n",
       "    </tr>\n",
       "    <tr>\n",
       "      <th>25%</th>\n",
       "      <td>-0.785</td>\n",
       "      <td>-5.840</td>\n",
       "      <td>-3.117</td>\n",
       "      <td>-1.865</td>\n",
       "      <td>-2.100</td>\n",
       "      <td>-1.445</td>\n",
       "      <td>-0.855</td>\n",
       "      <td>-2.410</td>\n",
       "      <td>-4.395</td>\n",
       "      <td>-1.448</td>\n",
       "      <td>-2.062</td>\n",
       "      <td>-1.245</td>\n",
       "      <td>-0.810</td>\n",
       "      <td>-0.737</td>\n",
       "      <td>-0.952</td>\n",
       "      <td>-1.462</td>\n",
       "      <td>-1.090</td>\n",
       "    </tr>\n",
       "    <tr>\n",
       "      <th>50%</th>\n",
       "      <td>0.920</td>\n",
       "      <td>-0.435</td>\n",
       "      <td>0.985</td>\n",
       "      <td>1.160</td>\n",
       "      <td>1.225</td>\n",
       "      <td>1.435</td>\n",
       "      <td>1.465</td>\n",
       "      <td>2.175</td>\n",
       "      <td>0.660</td>\n",
       "      <td>1.485</td>\n",
       "      <td>1.525</td>\n",
       "      <td>0.635</td>\n",
       "      <td>1.480</td>\n",
       "      <td>1.240</td>\n",
       "      <td>0.865</td>\n",
       "      <td>1.910</td>\n",
       "      <td>1.660</td>\n",
       "    </tr>\n",
       "    <tr>\n",
       "      <th>75%</th>\n",
       "      <td>3.188</td>\n",
       "      <td>5.728</td>\n",
       "      <td>4.152</td>\n",
       "      <td>3.858</td>\n",
       "      <td>4.160</td>\n",
       "      <td>4.442</td>\n",
       "      <td>3.302</td>\n",
       "      <td>5.558</td>\n",
       "      <td>4.212</td>\n",
       "      <td>3.838</td>\n",
       "      <td>4.580</td>\n",
       "      <td>4.802</td>\n",
       "      <td>4.243</td>\n",
       "      <td>2.965</td>\n",
       "      <td>3.370</td>\n",
       "      <td>4.100</td>\n",
       "      <td>3.485</td>\n",
       "    </tr>\n",
       "    <tr>\n",
       "      <th>max</th>\n",
       "      <td>6.670</td>\n",
       "      <td>21.940</td>\n",
       "      <td>15.940</td>\n",
       "      <td>17.190</td>\n",
       "      <td>16.610</td>\n",
       "      <td>18.370</td>\n",
       "      <td>8.260</td>\n",
       "      <td>15.510</td>\n",
       "      <td>21.350</td>\n",
       "      <td>17.660</td>\n",
       "      <td>14.750</td>\n",
       "      <td>20.860</td>\n",
       "      <td>12.980</td>\n",
       "      <td>7.840</td>\n",
       "      <td>12.440</td>\n",
       "      <td>13.410</td>\n",
       "      <td>10.770</td>\n",
       "    </tr>\n",
       "  </tbody>\n",
       "</table>\n",
       "</div>"
      ],
      "text/plain": [
       "        Food    Mines   Oil     Clths   Durbl   Chems   Cnsum   Cnstr   Steel  \\\n",
       "count  96.000  96.000  96.000  96.000  96.000  96.000  96.000  96.000  96.000   \n",
       "mean    1.047   0.203   0.597   1.396   1.151   1.305   1.187   1.736   0.559   \n",
       "std     2.801   7.904   5.481   5.024   5.164   5.594   3.143   5.243   7.390   \n",
       "min    -5.170 -24.380 -11.680 -10.000 -13.160 -17.390  -7.150 -14.160 -20.490   \n",
       "25%    -0.785  -5.840  -3.117  -1.865  -2.100  -1.445  -0.855  -2.410  -4.395   \n",
       "50%     0.920  -0.435   0.985   1.160   1.225   1.435   1.465   2.175   0.660   \n",
       "75%     3.188   5.728   4.152   3.858   4.160   4.442   3.302   5.558   4.212   \n",
       "max     6.670  21.940  15.940  17.190  16.610  18.370   8.260  15.510  21.350   \n",
       "\n",
       "        FabPr   Machn   Cars    Trans   Utils   Rtail   Finan   Other  \n",
       "count  96.000  96.000  96.000  96.000  96.000  96.000  96.000  96.000  \n",
       "mean    1.351   1.218   1.279   1.464   0.896   1.234   1.249   1.291  \n",
       "std     4.694   4.798   5.719   4.143   3.233   3.513   4.839   3.698  \n",
       "min   -11.960  -9.070 -11.650  -8.560  -6.990  -9.180 -11.140  -7.890  \n",
       "25%    -1.448  -2.062  -1.245  -0.810  -0.737  -0.952  -1.462  -1.090  \n",
       "50%     1.485   1.525   0.635   1.480   1.240   0.865   1.910   1.660  \n",
       "75%     3.838   4.580   4.802   4.243   2.965   3.370   4.100   3.485  \n",
       "max    17.660  14.750  20.860  12.980   7.840  12.440  13.410  10.770  "
      ]
     },
     "execution_count": 8,
     "metadata": {},
     "output_type": "execute_result"
    }
   ],
   "source": [
    "round(ff_portfolio_data.describe(),3)"
   ]
  },
  {
   "cell_type": "markdown",
   "metadata": {},
   "source": [
    "### Equity Data"
   ]
  },
  {
   "cell_type": "code",
   "execution_count": 10,
   "metadata": {
    "ExecuteTime": {
     "end_time": "2021-04-15T19:55:20.200618Z",
     "start_time": "2021-04-15T19:55:14.520935Z"
    }
   },
   "outputs": [],
   "source": [
    "with pd.HDFStore('../data/assets.h5') as store:\n",
    "    prices = store['/quandl/wiki/prices'].adj_close.unstack().loc['2010':'2017']\n",
    "    equities = store['/us_equities/stocks'].drop_duplicates()"
   ]
  },
  {
   "cell_type": "code",
   "execution_count": 11,
   "metadata": {
    "ExecuteTime": {
     "end_time": "2021-04-15T19:55:20.245270Z",
     "start_time": "2021-04-15T19:55:20.201602Z"
    }
   },
   "outputs": [],
   "source": [
    "sectors = equities.filter(prices.columns, axis=0).sector.to_dict() \n",
    "#在equities中的index里筛选出与price的columns相对应的行，再选取sector这一列，再将之转变为字典格式\n",
    "prices = prices.filter(sectors.keys()).dropna(how='all', axis=1)"
   ]
  },
  {
   "cell_type": "code",
   "execution_count": 12,
   "metadata": {
    "ExecuteTime": {
     "end_time": "2021-04-15T19:55:20.330305Z",
     "start_time": "2021-04-15T19:55:20.246605Z"
    },
    "collapsed": true
   },
   "outputs": [
    {
     "name": "stdout",
     "output_type": "stream",
     "text": [
      "<class 'pandas.core.frame.DataFrame'>\n",
      "PeriodIndex: 95 entries, 2010-02 to 2017-12\n",
      "Freq: M\n",
      "Columns: 1986 entries, A to ZUMZ\n",
      "dtypes: float64(1986)\n",
      "memory usage: 1.4 MB\n"
     ]
    }
   ],
   "source": [
    "returns = prices.resample('M').last().pct_change().mul(100).to_period('M')\n",
    "returns = returns.dropna(how='all').dropna(axis=1) #删除缺失值所在的列\n",
    "returns.info()"
   ]
  },
  {
   "cell_type": "markdown",
   "metadata": {},
   "source": [
    "### Align data"
   ]
  },
  {
   "cell_type": "code",
   "execution_count": 13,
   "metadata": {
    "ExecuteTime": {
     "end_time": "2021-04-15T19:55:20.336370Z",
     "start_time": "2021-04-15T19:55:20.332866Z"
    }
   },
   "outputs": [],
   "source": [
    "ff_factor_data = ff_factor_data.loc[returns.index]\n",
    "ff_portfolio_data = ff_portfolio_data.loc[returns.index]"
   ]
  },
  {
   "cell_type": "code",
   "execution_count": 17,
   "metadata": {
    "collapsed": true
   },
   "outputs": [
    {
     "data": {
      "text/plain": [
       "PeriodIndex(['2010-02', '2010-03', '2010-04', '2010-05', '2010-06', '2010-07',\n",
       "             '2010-08', '2010-09', '2010-10', '2010-11', '2010-12', '2011-01',\n",
       "             '2011-02', '2011-03', '2011-04', '2011-05', '2011-06', '2011-07',\n",
       "             '2011-08', '2011-09', '2011-10', '2011-11', '2011-12', '2012-01',\n",
       "             '2012-02', '2012-03', '2012-04', '2012-05', '2012-06', '2012-07',\n",
       "             '2012-08', '2012-09', '2012-10', '2012-11', '2012-12', '2013-01',\n",
       "             '2013-02', '2013-03', '2013-04', '2013-05', '2013-06', '2013-07',\n",
       "             '2013-08', '2013-09', '2013-10', '2013-11', '2013-12', '2014-01',\n",
       "             '2014-02', '2014-03', '2014-04', '2014-05', '2014-06', '2014-07',\n",
       "             '2014-08', '2014-09', '2014-10', '2014-11', '2014-12', '2015-01',\n",
       "             '2015-02', '2015-03', '2015-04', '2015-05', '2015-06', '2015-07',\n",
       "             '2015-08', '2015-09', '2015-10', '2015-11', '2015-12', '2016-01',\n",
       "             '2016-02', '2016-03', '2016-04', '2016-05', '2016-06', '2016-07',\n",
       "             '2016-08', '2016-09', '2016-10', '2016-11', '2016-12', '2017-01',\n",
       "             '2017-02', '2017-03', '2017-04', '2017-05', '2017-06', '2017-07',\n",
       "             '2017-08', '2017-09', '2017-10', '2017-11', '2017-12'],\n",
       "            dtype='period[M]', name='date', freq='M')"
      ]
     },
     "execution_count": 17,
     "metadata": {},
     "output_type": "execute_result"
    }
   ],
   "source": [
    "returns.index"
   ]
  },
  {
   "cell_type": "code",
   "execution_count": 30,
   "metadata": {
    "ExecuteTime": {
     "end_time": "2021-04-15T19:55:20.370190Z",
     "start_time": "2021-04-15T19:55:20.338297Z"
    }
   },
   "outputs": [
    {
     "data": {
      "text/html": [
       "<div>\n",
       "<style scoped>\n",
       "    .dataframe tbody tr th:only-of-type {\n",
       "        vertical-align: middle;\n",
       "    }\n",
       "\n",
       "    .dataframe tbody tr th {\n",
       "        vertical-align: top;\n",
       "    }\n",
       "\n",
       "    .dataframe thead th {\n",
       "        text-align: right;\n",
       "    }\n",
       "</style>\n",
       "<table border=\"1\" class=\"dataframe\">\n",
       "  <thead>\n",
       "    <tr style=\"text-align: right;\">\n",
       "      <th></th>\n",
       "      <th>Mkt-RF</th>\n",
       "      <th>SMB</th>\n",
       "      <th>HML</th>\n",
       "      <th>RMW</th>\n",
       "      <th>CMA</th>\n",
       "      <th>RF</th>\n",
       "    </tr>\n",
       "  </thead>\n",
       "  <tbody>\n",
       "    <tr>\n",
       "      <th>count</th>\n",
       "      <td>95.000000</td>\n",
       "      <td>95.000000</td>\n",
       "      <td>95.000000</td>\n",
       "      <td>95.000000</td>\n",
       "      <td>95.000000</td>\n",
       "      <td>95.000000</td>\n",
       "    </tr>\n",
       "    <tr>\n",
       "      <th>mean</th>\n",
       "      <td>1.206000</td>\n",
       "      <td>0.057053</td>\n",
       "      <td>-0.054316</td>\n",
       "      <td>0.144632</td>\n",
       "      <td>0.043368</td>\n",
       "      <td>0.012737</td>\n",
       "    </tr>\n",
       "    <tr>\n",
       "      <th>std</th>\n",
       "      <td>3.568382</td>\n",
       "      <td>2.312313</td>\n",
       "      <td>2.214041</td>\n",
       "      <td>1.583685</td>\n",
       "      <td>1.419886</td>\n",
       "      <td>0.022665</td>\n",
       "    </tr>\n",
       "    <tr>\n",
       "      <th>min</th>\n",
       "      <td>-7.890000</td>\n",
       "      <td>-4.580000</td>\n",
       "      <td>-4.700000</td>\n",
       "      <td>-3.880000</td>\n",
       "      <td>-3.240000</td>\n",
       "      <td>0.000000</td>\n",
       "    </tr>\n",
       "    <tr>\n",
       "      <th>25%</th>\n",
       "      <td>-0.565000</td>\n",
       "      <td>-1.680000</td>\n",
       "      <td>-1.670000</td>\n",
       "      <td>-0.880000</td>\n",
       "      <td>-0.965000</td>\n",
       "      <td>0.000000</td>\n",
       "    </tr>\n",
       "    <tr>\n",
       "      <th>50%</th>\n",
       "      <td>1.290000</td>\n",
       "      <td>0.160000</td>\n",
       "      <td>-0.310000</td>\n",
       "      <td>0.270000</td>\n",
       "      <td>0.010000</td>\n",
       "      <td>0.000000</td>\n",
       "    </tr>\n",
       "    <tr>\n",
       "      <th>75%</th>\n",
       "      <td>3.265000</td>\n",
       "      <td>1.605000</td>\n",
       "      <td>1.220000</td>\n",
       "      <td>1.240000</td>\n",
       "      <td>0.940000</td>\n",
       "      <td>0.010000</td>\n",
       "    </tr>\n",
       "    <tr>\n",
       "      <th>max</th>\n",
       "      <td>11.350000</td>\n",
       "      <td>7.040000</td>\n",
       "      <td>8.190000</td>\n",
       "      <td>3.480000</td>\n",
       "      <td>3.690000</td>\n",
       "      <td>0.090000</td>\n",
       "    </tr>\n",
       "  </tbody>\n",
       "</table>\n",
       "</div>"
      ],
      "text/plain": [
       "          Mkt-RF        SMB        HML        RMW        CMA         RF\n",
       "count  95.000000  95.000000  95.000000  95.000000  95.000000  95.000000\n",
       "mean    1.206000   0.057053  -0.054316   0.144632   0.043368   0.012737\n",
       "std     3.568382   2.312313   2.214041   1.583685   1.419886   0.022665\n",
       "min    -7.890000  -4.580000  -4.700000  -3.880000  -3.240000   0.000000\n",
       "25%    -0.565000  -1.680000  -1.670000  -0.880000  -0.965000   0.000000\n",
       "50%     1.290000   0.160000  -0.310000   0.270000   0.010000   0.000000\n",
       "75%     3.265000   1.605000   1.220000   1.240000   0.940000   0.010000\n",
       "max    11.350000   7.040000   8.190000   3.480000   3.690000   0.090000"
      ]
     },
     "execution_count": 30,
     "metadata": {},
     "output_type": "execute_result"
    }
   ],
   "source": [
    "ff_factor_data.describe()"
   ]
  },
  {
   "cell_type": "markdown",
   "metadata": {},
   "source": [
    "### Compute excess Returns"
   ]
  },
  {
   "cell_type": "code",
   "execution_count": 45,
   "metadata": {
    "ExecuteTime": {
     "end_time": "2021-04-15T19:55:20.493870Z",
     "start_time": "2021-04-15T19:55:20.371460Z"
    }
   },
   "outputs": [
    {
     "name": "stdout",
     "output_type": "stream",
     "text": [
      "<class 'pandas.core.frame.DataFrame'>\n",
      "PeriodIndex: 95 entries, 2010-02 to 2017-12\n",
      "Freq: M\n",
      "Columns: 1986 entries, A to ZUMZ\n",
      "dtypes: float64(1986)\n",
      "memory usage: 1.4 MB\n"
     ]
    }
   ],
   "source": [
    "excess_returns = returns.sub(ff_factor_data.RF, axis=0)\n",
    "excess_returns.info()"
   ]
  },
  {
   "cell_type": "code",
   "execution_count": 48,
   "metadata": {
    "ExecuteTime": {
     "end_time": "2021-04-15T19:55:20.510527Z",
     "start_time": "2021-04-15T19:55:20.495111Z"
    }
   },
   "outputs": [],
   "source": [
    "excess_returns = excess_returns.clip(lower=np.percentile(excess_returns, 1),\n",
    "                                     upper=np.percentile(excess_returns, 99))\n",
    "#将极端值替换为分位数"
   ]
  },
  {
   "cell_type": "markdown",
   "metadata": {},
   "source": [
    "## Fama-Macbeth Regression"
   ]
  },
  {
   "cell_type": "markdown",
   "metadata": {},
   "source": [
    "Given data on risk factors and portfolio returns, it is useful to estimate the portfolio's exposure, that is, how much the risk factors drive portfolio returns, as well as how much the exposure to a given factor is worth, that is, the what market's risk factor premium is. The risk premium then permits to estimate the return for any portfolio provided the factor exposure is known or can be assumed."
   ]
  },
  {
   "cell_type": "code",
   "execution_count": 50,
   "metadata": {
    "ExecuteTime": {
     "end_time": "2021-04-15T19:55:20.520870Z",
     "start_time": "2021-04-15T19:55:20.511704Z"
    },
    "collapsed": true
   },
   "outputs": [
    {
     "name": "stdout",
     "output_type": "stream",
     "text": [
      "<class 'pandas.core.frame.DataFrame'>\n",
      "PeriodIndex: 95 entries, 2010-02 to 2017-12\n",
      "Freq: M\n",
      "Data columns (total 17 columns):\n",
      " #   Column  Non-Null Count  Dtype  \n",
      "---  ------  --------------  -----  \n",
      " 0   Food    95 non-null     float64\n",
      " 1   Mines   95 non-null     float64\n",
      " 2   Oil     95 non-null     float64\n",
      " 3   Clths   95 non-null     float64\n",
      " 4   Durbl   95 non-null     float64\n",
      " 5   Chems   95 non-null     float64\n",
      " 6   Cnsum   95 non-null     float64\n",
      " 7   Cnstr   95 non-null     float64\n",
      " 8   Steel   95 non-null     float64\n",
      " 9   FabPr   95 non-null     float64\n",
      " 10  Machn   95 non-null     float64\n",
      " 11  Cars    95 non-null     float64\n",
      " 12  Trans   95 non-null     float64\n",
      " 13  Utils   95 non-null     float64\n",
      " 14  Rtail   95 non-null     float64\n",
      " 15  Finan   95 non-null     float64\n",
      " 16  Other   95 non-null     float64\n",
      "dtypes: float64(17)\n",
      "memory usage: 13.4 KB\n"
     ]
    }
   ],
   "source": [
    "ff_portfolio_data.info()"
   ]
  },
  {
   "cell_type": "code",
   "execution_count": 51,
   "metadata": {
    "ExecuteTime": {
     "end_time": "2021-04-15T19:55:20.538124Z",
     "start_time": "2021-04-15T19:55:20.521998Z"
    }
   },
   "outputs": [
    {
     "name": "stdout",
     "output_type": "stream",
     "text": [
      "<class 'pandas.core.frame.DataFrame'>\n",
      "PeriodIndex: 95 entries, 2010-02 to 2017-12\n",
      "Freq: M\n",
      "Data columns (total 5 columns):\n",
      " #   Column  Non-Null Count  Dtype  \n",
      "---  ------  --------------  -----  \n",
      " 0   Mkt-RF  95 non-null     float64\n",
      " 1   SMB     95 non-null     float64\n",
      " 2   HML     95 non-null     float64\n",
      " 3   RMW     95 non-null     float64\n",
      " 4   CMA     95 non-null     float64\n",
      "dtypes: float64(5)\n",
      "memory usage: 4.5 KB\n"
     ]
    }
   ],
   "source": [
    "ff_factor_data = ff_factor_data.drop('RF', axis=1)\n",
    "ff_factor_data.info()"
   ]
  },
  {
   "cell_type": "markdown",
   "metadata": {},
   "source": [
    "To address the inference problem caused by the correlation of the residuals, Fama and MacBeth proposed a two-step methodology for a cross-sectional regression of returns on factors. The two-stage Fama—Macbeth regression is designed to estimate the premium rewarded for the exposure to a particular risk factor by the market. The two stages consist of:\n",
    "\n",
    "- First stage: N time-series regression, one for each asset or portfolio, of its excess returns on the factors to estimate the factor loadings.\n",
    "\n",
    "- Second stage: T cross-sectional regression, one for each time period, to estimate the risk premium.\n",
    "\n",
    "See corresponding section in Chapter 7 of [Machine Learning for Trading](https://www.amazon.com/Hands-Machine-Learning-Algorithmic-Trading-ebook/dp/B07JLFH7C5/ref=sr_1_2?ie=UTF8&qid=1548455634&sr=8-2&keywords=machine+learning+algorithmic+trading) for details."
   ]
  },
  {
   "cell_type": "markdown",
   "metadata": {},
   "source": [
    "Now we can compute the factor risk premia as the time average and get t-statistic to assess their individual significance, using the assumption that the risk premia estimates are independent over time.\n",
    "\n",
    "If we had a very large and representative data sample on traded risk factors we could use the sample mean as a risk premium estimate. However, we typically do not have a sufficiently long history to and the margin of error around the sample mean could be quite large. \n",
    "\n",
    "The Fama—Macbeth methodology leverages the covariance of the factors with other assets to determine the factor premia. The second moment of asset returns is easier to estimate than the first moment, and obtaining more granular data improves estimation considerably, which is not true of mean estimation."
   ]
  },
  {
   "cell_type": "markdown",
   "metadata": {},
   "source": [
    "### Step 1: Factor Exposures"
   ]
  },
  {
   "cell_type": "markdown",
   "metadata": {},
   "source": [
    "We can implement the first stage to obtain the 17 factor loading estimates as follows:"
   ]
  },
  {
   "cell_type": "code",
   "execution_count": 67,
   "metadata": {
    "ExecuteTime": {
     "end_time": "2021-04-15T19:55:20.643488Z",
     "start_time": "2021-04-15T19:55:20.539304Z"
    }
   },
   "outputs": [],
   "source": [
    "betas = []\n",
    "for industry in ff_portfolio_data:\n",
    "    step1 = OLS(endog=ff_portfolio_data.loc[ff_factor_data.index, industry], #在ff_portfolio_data中选取本次循环所对应的industry\n",
    "                exog=add_constant(ff_factor_data)).fit() #endog:因变量 exog:自变量\n",
    "    betas.append(step1.params.drop('const')) #现在的betas还是一个list"
   ]
  },
  {
   "cell_type": "code",
   "execution_count": 69,
   "metadata": {
    "ExecuteTime": {
     "end_time": "2021-04-15T19:55:20.658189Z",
     "start_time": "2021-04-15T19:55:20.646568Z"
    },
    "collapsed": true
   },
   "outputs": [
    {
     "data": {
      "text/html": [
       "<div>\n",
       "<style scoped>\n",
       "    .dataframe tbody tr th:only-of-type {\n",
       "        vertical-align: middle;\n",
       "    }\n",
       "\n",
       "    .dataframe tbody tr th {\n",
       "        vertical-align: top;\n",
       "    }\n",
       "\n",
       "    .dataframe thead th {\n",
       "        text-align: right;\n",
       "    }\n",
       "</style>\n",
       "<table border=\"1\" class=\"dataframe\">\n",
       "  <thead>\n",
       "    <tr style=\"text-align: right;\">\n",
       "      <th></th>\n",
       "      <th>Mkt-RF</th>\n",
       "      <th>SMB</th>\n",
       "      <th>HML</th>\n",
       "      <th>RMW</th>\n",
       "      <th>CMA</th>\n",
       "    </tr>\n",
       "  </thead>\n",
       "  <tbody>\n",
       "    <tr>\n",
       "      <th>Food</th>\n",
       "      <td>0.685224</td>\n",
       "      <td>-0.309243</td>\n",
       "      <td>-0.356449</td>\n",
       "      <td>0.307267</td>\n",
       "      <td>0.488021</td>\n",
       "    </tr>\n",
       "    <tr>\n",
       "      <th>Mines</th>\n",
       "      <td>1.308261</td>\n",
       "      <td>0.183406</td>\n",
       "      <td>0.223125</td>\n",
       "      <td>0.221233</td>\n",
       "      <td>0.535162</td>\n",
       "    </tr>\n",
       "    <tr>\n",
       "      <th>Oil</th>\n",
       "      <td>1.034249</td>\n",
       "      <td>0.170154</td>\n",
       "      <td>0.647615</td>\n",
       "      <td>0.002943</td>\n",
       "      <td>0.316127</td>\n",
       "    </tr>\n",
       "    <tr>\n",
       "      <th>Clths</th>\n",
       "      <td>0.966317</td>\n",
       "      <td>0.360844</td>\n",
       "      <td>-0.143478</td>\n",
       "      <td>0.620782</td>\n",
       "      <td>-0.031285</td>\n",
       "    </tr>\n",
       "    <tr>\n",
       "      <th>Durbl</th>\n",
       "      <td>1.178329</td>\n",
       "      <td>0.530518</td>\n",
       "      <td>0.067285</td>\n",
       "      <td>0.545466</td>\n",
       "      <td>-0.115544</td>\n",
       "    </tr>\n",
       "    <tr>\n",
       "      <th>Chems</th>\n",
       "      <td>1.351916</td>\n",
       "      <td>0.179614</td>\n",
       "      <td>0.189708</td>\n",
       "      <td>0.167718</td>\n",
       "      <td>-0.240664</td>\n",
       "    </tr>\n",
       "    <tr>\n",
       "      <th>Cnsum</th>\n",
       "      <td>0.760266</td>\n",
       "      <td>-0.341041</td>\n",
       "      <td>-0.554683</td>\n",
       "      <td>-0.055728</td>\n",
       "      <td>0.582263</td>\n",
       "    </tr>\n",
       "    <tr>\n",
       "      <th>Cnstr</th>\n",
       "      <td>1.114650</td>\n",
       "      <td>0.428757</td>\n",
       "      <td>0.090067</td>\n",
       "      <td>-0.017382</td>\n",
       "      <td>0.167269</td>\n",
       "    </tr>\n",
       "    <tr>\n",
       "      <th>Steel</th>\n",
       "      <td>1.468801</td>\n",
       "      <td>0.421623</td>\n",
       "      <td>0.419775</td>\n",
       "      <td>0.196493</td>\n",
       "      <td>0.437610</td>\n",
       "    </tr>\n",
       "    <tr>\n",
       "      <th>FabPr</th>\n",
       "      <td>1.068019</td>\n",
       "      <td>0.464198</td>\n",
       "      <td>-0.037967</td>\n",
       "      <td>0.163900</td>\n",
       "      <td>0.198155</td>\n",
       "    </tr>\n",
       "    <tr>\n",
       "      <th>Machn</th>\n",
       "      <td>1.188348</td>\n",
       "      <td>0.177565</td>\n",
       "      <td>0.035648</td>\n",
       "      <td>0.058688</td>\n",
       "      <td>-0.371056</td>\n",
       "    </tr>\n",
       "    <tr>\n",
       "      <th>Cars</th>\n",
       "      <td>1.190213</td>\n",
       "      <td>0.598863</td>\n",
       "      <td>0.031100</td>\n",
       "      <td>0.052861</td>\n",
       "      <td>-0.009535</td>\n",
       "    </tr>\n",
       "    <tr>\n",
       "      <th>Trans</th>\n",
       "      <td>1.020210</td>\n",
       "      <td>0.261274</td>\n",
       "      <td>0.003476</td>\n",
       "      <td>0.390663</td>\n",
       "      <td>0.287602</td>\n",
       "    </tr>\n",
       "    <tr>\n",
       "      <th>Utils</th>\n",
       "      <td>0.500922</td>\n",
       "      <td>-0.256958</td>\n",
       "      <td>-0.294115</td>\n",
       "      <td>0.228023</td>\n",
       "      <td>0.548001</td>\n",
       "    </tr>\n",
       "    <tr>\n",
       "      <th>Rtail</th>\n",
       "      <td>0.903281</td>\n",
       "      <td>0.134265</td>\n",
       "      <td>-0.372637</td>\n",
       "      <td>0.689501</td>\n",
       "      <td>0.200335</td>\n",
       "    </tr>\n",
       "    <tr>\n",
       "      <th>Finan</th>\n",
       "      <td>1.056151</td>\n",
       "      <td>0.073965</td>\n",
       "      <td>0.743753</td>\n",
       "      <td>-0.451634</td>\n",
       "      <td>-0.518005</td>\n",
       "    </tr>\n",
       "    <tr>\n",
       "      <th>Other</th>\n",
       "      <td>1.038942</td>\n",
       "      <td>-0.118229</td>\n",
       "      <td>-0.191667</td>\n",
       "      <td>-0.066561</td>\n",
       "      <td>0.003517</td>\n",
       "    </tr>\n",
       "  </tbody>\n",
       "</table>\n",
       "</div>"
      ],
      "text/plain": [
       "         Mkt-RF       SMB       HML       RMW       CMA\n",
       "Food   0.685224 -0.309243 -0.356449  0.307267  0.488021\n",
       "Mines  1.308261  0.183406  0.223125  0.221233  0.535162\n",
       "Oil    1.034249  0.170154  0.647615  0.002943  0.316127\n",
       "Clths  0.966317  0.360844 -0.143478  0.620782 -0.031285\n",
       "Durbl  1.178329  0.530518  0.067285  0.545466 -0.115544\n",
       "Chems  1.351916  0.179614  0.189708  0.167718 -0.240664\n",
       "Cnsum  0.760266 -0.341041 -0.554683 -0.055728  0.582263\n",
       "Cnstr  1.114650  0.428757  0.090067 -0.017382  0.167269\n",
       "Steel  1.468801  0.421623  0.419775  0.196493  0.437610\n",
       "FabPr  1.068019  0.464198 -0.037967  0.163900  0.198155\n",
       "Machn  1.188348  0.177565  0.035648  0.058688 -0.371056\n",
       "Cars   1.190213  0.598863  0.031100  0.052861 -0.009535\n",
       "Trans  1.020210  0.261274  0.003476  0.390663  0.287602\n",
       "Utils  0.500922 -0.256958 -0.294115  0.228023  0.548001\n",
       "Rtail  0.903281  0.134265 -0.372637  0.689501  0.200335\n",
       "Finan  1.056151  0.073965  0.743753 -0.451634 -0.518005\n",
       "Other  1.038942 -0.118229 -0.191667 -0.066561  0.003517"
      ]
     },
     "execution_count": 69,
     "metadata": {},
     "output_type": "execute_result"
    }
   ],
   "source": [
    "betas = pd.DataFrame(betas, \n",
    "                     columns=ff_factor_data.columns, \n",
    "                     index=ff_portfolio_data.columns)\n",
    "betas"
   ]
  },
  {
   "cell_type": "markdown",
   "metadata": {},
   "source": [
    "### Step 2: Risk Premia"
   ]
  },
  {
   "cell_type": "markdown",
   "metadata": {},
   "source": [
    "For the second stage, we run 96 regressions of the period returns for the cross section of portfolios on the factor loadings"
   ]
  },
  {
   "cell_type": "code",
   "execution_count": 70,
   "metadata": {
    "ExecuteTime": {
     "end_time": "2021-04-15T19:55:20.759883Z",
     "start_time": "2021-04-15T19:55:20.659165Z"
    }
   },
   "outputs": [],
   "source": [
    "lambdas = []\n",
    "for period in ff_portfolio_data.index: #对象为每一个month\n",
    "    step2 = OLS(endog=ff_portfolio_data.loc[period, betas.index], \n",
    "                exog=betas).fit()\n",
    "    lambdas.append(step2.params)"
   ]
  },
  {
   "cell_type": "code",
   "execution_count": 71,
   "metadata": {
    "ExecuteTime": {
     "end_time": "2021-04-15T19:55:20.780931Z",
     "start_time": "2021-04-15T19:55:20.760976Z"
    },
    "collapsed": true
   },
   "outputs": [
    {
     "data": {
      "text/html": [
       "<div>\n",
       "<style scoped>\n",
       "    .dataframe tbody tr th:only-of-type {\n",
       "        vertical-align: middle;\n",
       "    }\n",
       "\n",
       "    .dataframe tbody tr th {\n",
       "        vertical-align: top;\n",
       "    }\n",
       "\n",
       "    .dataframe thead th {\n",
       "        text-align: right;\n",
       "    }\n",
       "</style>\n",
       "<table border=\"1\" class=\"dataframe\">\n",
       "  <thead>\n",
       "    <tr style=\"text-align: right;\">\n",
       "      <th></th>\n",
       "      <th>Mkt-RF</th>\n",
       "      <th>SMB</th>\n",
       "      <th>HML</th>\n",
       "      <th>RMW</th>\n",
       "      <th>CMA</th>\n",
       "    </tr>\n",
       "    <tr>\n",
       "      <th>date</th>\n",
       "      <th></th>\n",
       "      <th></th>\n",
       "      <th></th>\n",
       "      <th></th>\n",
       "      <th></th>\n",
       "    </tr>\n",
       "  </thead>\n",
       "  <tbody>\n",
       "    <tr>\n",
       "      <th>2010-02</th>\n",
       "      <td>3.783416</td>\n",
       "      <td>5.167545</td>\n",
       "      <td>-0.970482</td>\n",
       "      <td>2.092419</td>\n",
       "      <td>-0.511274</td>\n",
       "    </tr>\n",
       "    <tr>\n",
       "      <th>2010-03</th>\n",
       "      <td>6.260848</td>\n",
       "      <td>-0.182957</td>\n",
       "      <td>0.000002</td>\n",
       "      <td>2.645294</td>\n",
       "      <td>-1.531293</td>\n",
       "    </tr>\n",
       "    <tr>\n",
       "      <th>2010-04</th>\n",
       "      <td>1.822684</td>\n",
       "      <td>8.141019</td>\n",
       "      <td>-4.105174</td>\n",
       "      <td>-1.973666</td>\n",
       "      <td>-2.216286</td>\n",
       "    </tr>\n",
       "    <tr>\n",
       "      <th>2010-05</th>\n",
       "      <td>-7.725442</td>\n",
       "      <td>3.147980</td>\n",
       "      <td>-0.567882</td>\n",
       "      <td>1.325533</td>\n",
       "      <td>-0.046591</td>\n",
       "    </tr>\n",
       "    <tr>\n",
       "      <th>2010-06</th>\n",
       "      <td>-5.326304</td>\n",
       "      <td>-5.871496</td>\n",
       "      <td>-1.357160</td>\n",
       "      <td>-2.047521</td>\n",
       "      <td>0.081787</td>\n",
       "    </tr>\n",
       "    <tr>\n",
       "      <th>...</th>\n",
       "      <td>...</td>\n",
       "      <td>...</td>\n",
       "      <td>...</td>\n",
       "      <td>...</td>\n",
       "      <td>...</td>\n",
       "    </tr>\n",
       "    <tr>\n",
       "      <th>2017-08</th>\n",
       "      <td>0.388942</td>\n",
       "      <td>0.332283</td>\n",
       "      <td>-3.077744</td>\n",
       "      <td>-4.491882</td>\n",
       "      <td>0.453086</td>\n",
       "    </tr>\n",
       "    <tr>\n",
       "      <th>2017-09</th>\n",
       "      <td>3.049313</td>\n",
       "      <td>6.437578</td>\n",
       "      <td>1.268041</td>\n",
       "      <td>-4.295315</td>\n",
       "      <td>-0.325095</td>\n",
       "    </tr>\n",
       "    <tr>\n",
       "      <th>2017-10</th>\n",
       "      <td>2.401676</td>\n",
       "      <td>-2.356317</td>\n",
       "      <td>0.362978</td>\n",
       "      <td>1.655988</td>\n",
       "      <td>-3.833128</td>\n",
       "    </tr>\n",
       "    <tr>\n",
       "      <th>2017-11</th>\n",
       "      <td>2.912281</td>\n",
       "      <td>-2.363616</td>\n",
       "      <td>-1.676310</td>\n",
       "      <td>5.047389</td>\n",
       "      <td>-2.647055</td>\n",
       "    </tr>\n",
       "    <tr>\n",
       "      <th>2017-12</th>\n",
       "      <td>0.864540</td>\n",
       "      <td>1.273516</td>\n",
       "      <td>7.353251</td>\n",
       "      <td>0.902476</td>\n",
       "      <td>7.526448</td>\n",
       "    </tr>\n",
       "  </tbody>\n",
       "</table>\n",
       "<p>95 rows × 5 columns</p>\n",
       "</div>"
      ],
      "text/plain": [
       "           Mkt-RF       SMB       HML       RMW       CMA\n",
       "date                                                     \n",
       "2010-02  3.783416  5.167545 -0.970482  2.092419 -0.511274\n",
       "2010-03  6.260848 -0.182957  0.000002  2.645294 -1.531293\n",
       "2010-04  1.822684  8.141019 -4.105174 -1.973666 -2.216286\n",
       "2010-05 -7.725442  3.147980 -0.567882  1.325533 -0.046591\n",
       "2010-06 -5.326304 -5.871496 -1.357160 -2.047521  0.081787\n",
       "...           ...       ...       ...       ...       ...\n",
       "2017-08  0.388942  0.332283 -3.077744 -4.491882  0.453086\n",
       "2017-09  3.049313  6.437578  1.268041 -4.295315 -0.325095\n",
       "2017-10  2.401676 -2.356317  0.362978  1.655988 -3.833128\n",
       "2017-11  2.912281 -2.363616 -1.676310  5.047389 -2.647055\n",
       "2017-12  0.864540  1.273516  7.353251  0.902476  7.526448\n",
       "\n",
       "[95 rows x 5 columns]"
      ]
     },
     "execution_count": 71,
     "metadata": {},
     "output_type": "execute_result"
    }
   ],
   "source": [
    "lambdas = pd.DataFrame(lambdas, \n",
    "                       index=ff_portfolio_data.index,\n",
    "                       columns=betas.columns.tolist())\n",
    "lambdas #所求的每个month所对应的risk premium"
   ]
  },
  {
   "cell_type": "code",
   "execution_count": 72,
   "metadata": {
    "ExecuteTime": {
     "end_time": "2021-04-15T19:55:20.902217Z",
     "start_time": "2021-04-15T19:55:20.781976Z"
    },
    "collapsed": true
   },
   "outputs": [
    {
     "data": {
      "image/png": "[encoded data removed]",
      "text/plain": [
       "<Figure size 864x288 with 1 Axes>"
      ]
     },
     "metadata": {},
     "output_type": "display_data"
    }
   ],
   "source": [
    "lambdas.mean().sort_values().plot.barh(figsize=(12, 4)) #对所求lambda求均值，绘图\n",
    "sns.despine()\n",
    "plt.tight_layout();"
   ]
  },
  {
   "cell_type": "code",
   "execution_count": 73,
   "metadata": {
    "ExecuteTime": {
     "end_time": "2021-04-15T19:55:20.908357Z",
     "start_time": "2021-04-15T19:55:20.903193Z"
    }
   },
   "outputs": [
    {
     "data": {
      "text/plain": [
       "Mkt-RF    0.344270\n",
       "SMB       0.005458\n",
       "HML      -0.269333\n",
       "RMW      -0.091369\n",
       "CMA      -0.144953\n",
       "dtype: float64"
      ]
     },
     "execution_count": 73,
     "metadata": {},
     "output_type": "execute_result"
    }
   ],
   "source": [
    "t = lambdas.mean().div(lambdas.std()) #看各个因子所对应的t统计量，看其是否显著异于零\n",
    "t"
   ]
  },
  {
   "cell_type": "markdown",
   "metadata": {},
   "source": [
    "#### Results"
   ]
  },
  {
   "cell_type": "code",
   "execution_count": 82,
   "metadata": {
    "ExecuteTime": {
     "end_time": "2021-04-15T19:55:21.278124Z",
     "start_time": "2021-04-15T19:55:20.909336Z"
    },
    "collapsed": true
   },
   "outputs": [
    {
     "data": {
      "image/png": "[encoded data removed]",
      "text/plain": [
       "<Figure size 1008x360 with 2 Axes>"
      ]
     },
     "metadata": {},
     "output_type": "display_data"
    }
   ],
   "source": [
    "window = 24  # months\n",
    "ax1 = plt.subplot2grid((1, 3), (0, 0))\n",
    "ax2 = plt.subplot2grid((1, 3), (0, 1), colspan=2)\n",
    "lambdas.mean().sort_values().plot.barh(ax=ax1)\n",
    "lambdas.rolling(window).mean().dropna().plot(lw=1, #lw:线宽度\n",
    "                                             figsize=(14, 5),\n",
    "                                             sharey=True,\n",
    "                                             ax=ax2) #对各因子的risk premium求滚动均值，绘图\n",
    "sns.despine()\n",
    "plt.tight_layout()"
   ]
  },
  {
   "cell_type": "code",
   "execution_count": 80,
   "metadata": {
    "ExecuteTime": {
     "end_time": "2021-04-15T19:55:21.839217Z",
     "start_time": "2021-04-15T19:55:21.279210Z"
    },
    "collapsed": true
   },
   "outputs": [
    {
     "data": {
      "image/png": "[encoded data removed]",
      "text/plain": [
       "<Figure size 1008x504 with 5 Axes>"
      ]
     },
     "metadata": {},
     "output_type": "display_data"
    }
   ],
   "source": [
    "window = 24  # months\n",
    "lambdas.rolling(window).mean().dropna().plot(lw=2,\n",
    "                                             figsize=(14, 7),\n",
    "                                             subplots=True, #包含子区域\n",
    "                                             sharey=True)\n",
    "sns.despine()\n",
    "plt.tight_layout()"
   ]
  },
  {
   "cell_type": "markdown",
   "metadata": {},
   "source": [
    "## Fama-Macbeth with the LinearModels library"
   ]
  },
  {
   "cell_type": "markdown",
   "metadata": {},
   "source": [
    "The linear_models library extends statsmodels with various models for panel data and also implements the two-stage Fama—MacBeth procedure:"
   ]
  },
  {
   "cell_type": "code",
   "execution_count": 84,
   "metadata": {
    "ExecuteTime": {
     "end_time": "2021-04-15T19:55:21.859424Z",
     "start_time": "2021-04-15T19:55:21.840019Z"
    },
    "collapsed": true
   },
   "outputs": [
    {
     "name": "stdout",
     "output_type": "stream",
     "text": [
      "                      LinearFactorModel Estimation Summary                      \n",
      "================================================================================\n",
      "No. Test Portfolios:                 17   R-squared:                      0.6879\n",
      "No. Factors:                          5   J-statistic:                    15.619\n",
      "No. Observations:                    95   P-value                         0.2093\n",
      "Date:                  Sun, Oct 30 2022   Distribution:                 chi2(12)\n",
      "Time:                          18:27:29                                         \n",
      "Cov. Estimator:                  robust                                         \n",
      "                                                                                \n",
      "                            Risk Premia Estimates                             \n",
      "==============================================================================\n",
      "            Parameter  Std. Err.     T-stat    P-value    Lower CI    Upper CI\n",
      "------------------------------------------------------------------------------\n",
      "Mkt-RF         1.2355     0.4098     3.0152     0.0026      0.4324      2.0386\n",
      "SMB            0.0214     0.8687     0.0246     0.9804     -1.6813      1.7240\n",
      "HML           -1.1140     0.6213    -1.7931     0.0730     -2.3317      0.1037\n",
      "RMW           -0.2768     0.8133    -0.3403     0.7336     -1.8708      1.3172\n",
      "CMA           -0.5078     0.5666    -0.8962     0.3701     -1.6183      0.6027\n",
      "==============================================================================\n",
      "\n",
      "Covariance estimator:\n",
      "HeteroskedasticCovariance\n",
      "See full_summary for complete results\n"
     ]
    }
   ],
   "source": [
    "mod = LinearFactorModel(portfolios=ff_portfolio_data, \n",
    "                        factors=ff_factor_data)\n",
    "res = mod.fit()\n",
    "print(res) #关于各因子的risk premium的统计，结论和上面的是一致的"
   ]
  },
  {
   "cell_type": "code",
   "execution_count": 85,
   "metadata": {
    "ExecuteTime": {
     "end_time": "2021-04-15T19:55:21.921756Z",
     "start_time": "2021-04-15T19:55:21.861590Z"
    },
    "collapsed": true
   },
   "outputs": [
    {
     "name": "stdout",
     "output_type": "stream",
     "text": [
      "                      LinearFactorModel Estimation Summary                      \n",
      "================================================================================\n",
      "No. Test Portfolios:                 17   R-squared:                      0.6879\n",
      "No. Factors:                          5   J-statistic:                    15.619\n",
      "No. Observations:                    95   P-value                         0.2093\n",
      "Date:                  Sun, Oct 30 2022   Distribution:                 chi2(12)\n",
      "Time:                          18:27:29                                         \n",
      "Cov. Estimator:                  robust                                         \n",
      "                                                                                \n",
      "                            Risk Premia Estimates                             \n",
      "==============================================================================\n",
      "            Parameter  Std. Err.     T-stat    P-value    Lower CI    Upper CI\n",
      "------------------------------------------------------------------------------\n",
      "Mkt-RF         1.2355     0.4098     3.0152     0.0026      0.4324      2.0386\n",
      "SMB            0.0214     0.8687     0.0246     0.9804     -1.6813      1.7240\n",
      "HML           -1.1140     0.6213    -1.7931     0.0730     -2.3317      0.1037\n",
      "RMW           -0.2768     0.8133    -0.3403     0.7336     -1.8708      1.3172\n",
      "CMA           -0.5078     0.5666    -0.8962     0.3701     -1.6183      0.6027\n",
      "\n",
      "\n",
      "                              Food  Coefficients                              \n",
      "==============================================================================\n",
      "            Parameter  Std. Err.     T-stat    P-value    Lower CI    Upper CI\n",
      "------------------------------------------------------------------------------\n",
      "alpha          0.1753     0.2533     0.6917     0.4891     -0.3213      0.6718\n",
      "Mkt-RF         0.6852     0.0470     14.589     0.0000      0.5932      0.7773\n",
      "SMB           -0.3092     0.1155    -2.6778     0.0074     -0.5356     -0.0829\n",
      "HML           -0.3564     0.1384    -2.5756     0.0100     -0.6277     -0.0852\n",
      "RMW            0.3073     0.1273     2.4140     0.0158      0.0578      0.5567\n",
      "CMA            0.4880     0.1597     3.0565     0.0022      0.1751      0.8010\n",
      "\n",
      "\n",
      "                              Mines Coefficients                              \n",
      "==============================================================================\n",
      "alpha         -0.6980     0.5316    -1.3131     0.1891     -1.7398      0.3438\n",
      "Mkt-RF         1.3083     0.1957     6.6847     0.0000      0.9247      1.6918\n",
      "SMB            0.1834     0.3368     0.5445     0.5861     -0.4768      0.8436\n",
      "HML            0.2231     0.3311     0.6739     0.5004     -0.4258      0.8721\n",
      "RMW            0.2212     0.4368     0.5065     0.6125     -0.6349      1.0774\n",
      "CMA            0.5352     0.5502     0.9727     0.3307     -0.5431      1.6135\n",
      "\n",
      "\n",
      "                              Oil   Coefficients                              \n",
      "==============================================================================\n",
      "alpha          0.2556     0.3489     0.7326     0.4638     -0.4283      0.9395\n",
      "Mkt-RF         1.0342     0.1008     10.265     0.0000      0.8368      1.2317\n",
      "SMB            0.1702     0.1894     0.8983     0.3690     -0.2011      0.5414\n",
      "HML            0.6476     0.2039     3.1769     0.0015      0.2481      1.0472\n",
      "RMW            0.0029     0.2308     0.0128     0.9898     -0.4494      0.4553\n",
      "CMA            0.3161     0.2814     1.1234     0.2613     -0.2354      0.8677\n",
      "\n",
      "\n",
      "                              Clths Coefficients                              \n",
      "==============================================================================\n",
      "alpha          0.2415     0.3473     0.6956     0.4867     -0.4391      0.9222\n",
      "Mkt-RF         0.9663     0.1213     7.9683     0.0000      0.7286      1.2040\n",
      "SMB            0.3608     0.1991     1.8121     0.0700     -0.0294      0.7511\n",
      "HML           -0.1435     0.2122    -0.6761     0.4990     -0.5594      0.2725\n",
      "RMW            0.6208     0.2716     2.2854     0.0223      0.0884      1.1532\n",
      "CMA           -0.0313     0.3145    -0.0995     0.9207     -0.6476      0.5850\n",
      "\n",
      "\n",
      "                              Durbl Coefficients                              \n",
      "==============================================================================\n",
      "alpha         -0.0994     0.3216    -0.3091     0.7573     -0.7296      0.5309\n",
      "Mkt-RF         1.1783     0.0844     13.959     0.0000      1.0129      1.3438\n",
      "SMB            0.5305     0.1243     4.2694     0.0000      0.2870      0.7741\n",
      "HML            0.0673     0.1490     0.4516     0.6516     -0.2248      0.3593\n",
      "RMW            0.5455     0.1992     2.7377     0.0062      0.1550      0.9360\n",
      "CMA           -0.1155     0.2680    -0.4312     0.6663     -0.6407      0.4096\n",
      "\n",
      "\n",
      "                              Chems Coefficients                              \n",
      "==============================================================================\n",
      "alpha         -0.1732     0.3348    -0.5174     0.6049     -0.8295      0.4830\n",
      "Mkt-RF         1.3519     0.1065     12.691     0.0000      1.1431      1.5607\n",
      "SMB            0.1796     0.1479     1.2146     0.2245     -0.1102      0.4695\n",
      "HML            0.1897     0.1470     1.2905     0.1969     -0.0984      0.4778\n",
      "RMW            0.1677     0.1927     0.8704     0.3841     -0.2100      0.5454\n",
      "CMA           -0.2407     0.2578    -0.9336     0.3505     -0.7459      0.2646\n",
      "\n",
      "\n",
      "                              Cnsum Coefficients                              \n",
      "==============================================================================\n",
      "alpha         -0.0656     0.3726    -0.1761     0.8603     -0.7959      0.6647\n",
      "Mkt-RF         0.7603     0.0579     13.137     0.0000      0.6468      0.8737\n",
      "SMB           -0.3410     0.1004    -3.3979     0.0007     -0.5378     -0.1443\n",
      "HML           -0.5547     0.1191    -4.6578     0.0000     -0.7881     -0.3213\n",
      "RMW           -0.0557     0.1339    -0.4161     0.6773     -0.3182      0.2068\n",
      "CMA            0.5823     0.2168     2.6862     0.0072      0.1574      1.0071\n",
      "\n",
      "\n",
      "                              Cnstr Coefficients                              \n",
      "==============================================================================\n",
      "alpha          0.5782     0.4340     1.3325     0.1827     -0.2723      1.4288\n",
      "Mkt-RF         1.1147     0.0828     13.467     0.0000      0.9524      1.2769\n",
      "SMB            0.4288     0.1349     3.1792     0.0015      0.1644      0.6931\n",
      "HML            0.0901     0.1902     0.4736     0.6358     -0.2827      0.4628\n",
      "RMW           -0.0174     0.2229    -0.0780     0.9378     -0.4542      0.4194\n",
      "CMA            0.1673     0.2404     0.6958     0.4865     -0.3039      0.6384\n",
      "\n",
      "\n",
      "                              Steel Coefficients                              \n",
      "==============================================================================\n",
      "alpha         -0.3890     0.4222    -0.9214     0.3568     -1.2164      0.4384\n",
      "Mkt-RF         1.4688     0.1380     10.645     0.0000      1.1984      1.7392\n",
      "SMB            0.4216     0.2551     1.6527     0.0984     -0.0784      0.9216\n",
      "HML            0.4198     0.2619     1.6031     0.1089     -0.0934      0.9330\n",
      "RMW            0.1965     0.3372     0.5828     0.5600     -0.4644      0.8573\n",
      "CMA            0.4376     0.4156     1.0530     0.2924     -0.3770      1.2522\n",
      "\n",
      "\n",
      "                              FabPr Coefficients                              \n",
      "==============================================================================\n",
      "alpha          0.1703     0.3046     0.5592     0.5760     -0.4266      0.7673\n",
      "Mkt-RF         1.0680     0.0735     14.522     0.0000      0.9239      1.2122\n",
      "SMB            0.4642     0.0982     4.7278     0.0000      0.2718      0.6566\n",
      "HML           -0.0380     0.1121    -0.3386     0.7349     -0.2577      0.1818\n",
      "RMW            0.1639     0.1445     1.1346     0.2566     -0.1192      0.4470\n",
      "CMA            0.1982     0.1894     1.0464     0.2954     -0.1730      0.5693\n",
      "\n",
      "\n",
      "                              Machn Coefficients                              \n",
      "==============================================================================\n",
      "alpha         -0.2968     0.2809    -1.0564     0.2908     -0.8474      0.2539\n",
      "Mkt-RF         1.1883     0.0580     20.502     0.0000      1.0747      1.3020\n",
      "SMB            0.1776     0.1057     1.6791     0.0931     -0.0297      0.3848\n",
      "HML            0.0356     0.1045     0.3411     0.7330     -0.1692      0.2405\n",
      "RMW            0.0587     0.1595     0.3680     0.7129     -0.2539      0.3713\n",
      "CMA           -0.3711     0.1745    -2.1267     0.0334     -0.7130     -0.0291\n",
      "\n",
      "\n",
      "                              Cars  Coefficients                              \n",
      "==============================================================================\n",
      "alpha         -0.1443     0.4019    -0.3592     0.7195     -0.9320      0.6433\n",
      "Mkt-RF         1.1902     0.0997     11.936     0.0000      0.9948      1.3857\n",
      "SMB            0.5989     0.1320     4.5352     0.0000      0.3401      0.8577\n",
      "HML            0.0311     0.1742     0.1785     0.8583     -0.3103      0.3725\n",
      "RMW            0.0529     0.2195     0.2408     0.8097     -0.3773      0.4831\n",
      "CMA           -0.0095     0.3038    -0.0314     0.9750     -0.6050      0.5859\n",
      "\n",
      "\n",
      "                              Trans Coefficients                              \n",
      "==============================================================================\n",
      "alpha          0.4933     0.3260     1.5133     0.1302     -0.1456      1.1323\n",
      "Mkt-RF         1.0202     0.0500     20.422     0.0000      0.9223      1.1181\n",
      "SMB            0.2613     0.1043     2.5044     0.0123      0.0568      0.4658\n",
      "HML            0.0035     0.1217     0.0286     0.9772     -0.2350      0.2420\n",
      "RMW            0.3907     0.1607     2.4312     0.0151      0.0757      0.7056\n",
      "CMA            0.2876     0.2004     1.4352     0.1512     -0.1052      0.6804\n",
      "\n",
      "\n",
      "                              Utils Coefficients                              \n",
      "==============================================================================\n",
      "alpha          0.3535     0.3064     1.1536     0.2487     -0.2471      0.9541\n",
      "Mkt-RF         0.5009     0.0904     5.5413     0.0000      0.3237      0.6781\n",
      "SMB           -0.2570     0.1557    -1.6508     0.0988     -0.5620      0.0481\n",
      "HML           -0.2941     0.1777    -1.6550     0.0979     -0.6424      0.0542\n",
      "RMW            0.2280     0.1933     1.1794     0.2382     -0.1509      0.6070\n",
      "CMA            0.5480     0.2979     1.8393     0.0659     -0.0359      1.1319\n",
      "\n",
      "\n",
      "                              Rtail Coefficients                              \n",
      "==============================================================================\n",
      "alpha          0.0192     0.2715     0.0707     0.9436     -0.5129      0.5513\n",
      "Mkt-RF         0.9033     0.0697     12.954     0.0000      0.7666      1.0400\n",
      "SMB            0.1343     0.0998     1.3458     0.1784     -0.0613      0.3298\n",
      "HML           -0.3726     0.1317    -2.8291     0.0047     -0.6308     -0.1145\n",
      "RMW            0.6895     0.1623     4.2488     0.0000      0.3714      1.0076\n",
      "CMA            0.2003     0.1756     1.1411     0.2538     -0.1438      0.5444\n",
      "\n",
      "\n",
      "                              Finan Coefficients                              \n",
      "==============================================================================\n",
      "alpha          0.4071     0.3806     1.0696     0.2848     -0.3389      1.1530\n",
      "Mkt-RF         1.0562     0.0429     24.624     0.0000      0.9721      1.1402\n",
      "SMB            0.0740     0.0893     0.8283     0.4075     -0.1011      0.2490\n",
      "HML            0.7438     0.0901     8.2582     0.0000      0.5672      0.9203\n",
      "RMW           -0.4516     0.1092    -4.1342     0.0000     -0.6657     -0.2375\n",
      "CMA           -0.5180     0.1157    -4.4790     0.0000     -0.7447     -0.2913\n",
      "\n",
      "\n",
      "                              Other Coefficients                              \n",
      "==============================================================================\n",
      "alpha         -0.1558     0.2309    -0.6747     0.4999     -0.6083      0.2968\n",
      "Mkt-RF         1.0389     0.0245     42.347     0.0000      0.9909      1.0870\n",
      "SMB           -0.1182     0.0399    -2.9597     0.0031     -0.1965     -0.0399\n",
      "HML           -0.1917     0.0379    -5.0604     0.0000     -0.2659     -0.1174\n",
      "RMW           -0.0666     0.0630    -1.0558     0.2910     -0.1901      0.0570\n",
      "CMA            0.0035     0.0653     0.0539     0.9570     -0.1244      0.1314\n",
      "==============================================================================\n",
      "\n",
      "Covariance estimator:\n",
      "HeteroskedasticCovariance\n",
      "See full_summary for complete results\n"
     ]
    }
   ],
   "source": [
    "print(res.full_summary)\n",
    "#Risk Premia Estimates中的数据对应的是step2的结果，系数为各因子的risk premium\n",
    "#xxx industry Coefficients对应的是step1中的结果，系数为各因子的loadings，可结合beta中的数据来看"
   ]
  },
  {
   "cell_type": "markdown",
   "metadata": {},
   "source": [
    "This provides us with the same result:"
   ]
  },
  {
   "cell_type": "code",
   "execution_count": 86,
   "metadata": {
    "ExecuteTime": {
     "end_time": "2021-04-15T19:55:21.926652Z",
     "start_time": "2021-04-15T19:55:21.922840Z"
    }
   },
   "outputs": [
    {
     "data": {
      "text/plain": [
       "Mkt-RF    1.235512\n",
       "SMB       0.021351\n",
       "HML      -1.113990\n",
       "RMW      -0.276775\n",
       "CMA      -0.507792\n",
       "dtype: float64"
      ]
     },
     "execution_count": 86,
     "metadata": {},
     "output_type": "execute_result"
    }
   ],
   "source": [
    "lambdas.mean()"
   ]
  }
 ],
 "metadata": {
  "kernelspec": {
   "display_name": "Python 3",
   "language": "python",
   "name": "python3"
  },
  "language_info": {
   "codemirror_mode": {
    "name": "ipython",
    "version": 3
   },
   "file_extension": ".py",
   "mimetype": "text/x-python",
   "name": "python",
   "nbconvert_exporter": "python",
   "pygments_lexer": "ipython3",
   "version": "3.8.8"
  },
  "toc": {
   "base_numbering": 1,
   "nav_menu": {},
   "number_sections": true,
   "sideBar": true,
   "skip_h1_title": true,
   "title_cell": "Table of Contents",
   "title_sidebar": "Contents",
   "toc_cell": false,
   "toc_position": {},
   "toc_section_display": true,
   "toc_window_display": false
  },
  "varInspector": {
   "cols": {
    "lenName": 16,
    "lenType": 16,
    "lenVar": 40
   },
   "kernels_config": {
    "python": {
     "delete_cmd_postfix": "",
     "delete_cmd_prefix": "del ",
     "library": "var_list.py",
     "varRefreshCmd": "print(var_dic_list())"
    },
    "r": {
     "delete_cmd_postfix": ") ",
     "delete_cmd_prefix": "rm(",
     "library": "var_list.r",
     "varRefreshCmd": "cat(var_dic_list()) "
    }
   },
   "types_to_exclude": [
    "module",
    "function",
    "builtin_function_or_method",
    "instance",
    "_Feature"
   ],
   "window_display": false
  }
 },
 "nbformat": 4,
 "nbformat_minor": 2
}
