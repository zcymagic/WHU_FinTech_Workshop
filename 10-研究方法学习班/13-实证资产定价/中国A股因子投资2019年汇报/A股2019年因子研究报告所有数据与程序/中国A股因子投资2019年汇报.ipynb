{
 "cells": [
  {
   "cell_type": "markdown",
   "metadata": {},
   "source": [
    "# 中国A股因子投资2019年汇报"
   ]
  },
  {
   "cell_type": "markdown",
   "metadata": {},
   "source": [
    "学习班小组运用18年到19年的因子数据，用投资组合分析来验证2019年A股市场中10个因子高低组合间的收益差别。\n",
    "\n",
    "股票样本来自于中国市场剔除金融、ST、停牌和上市不满一年股票后的全部A股。\n",
    "首先，我们在每个季度开始前依据参考的因子值构造等权投资组合，再将投资组合持有至季度末，计算季度收益，再将季度收益累计成为年度收益。\n",
    "我们计算了如下两组，一共十个因子："
   ]
  },
  {
   "cell_type": "raw",
   "metadata": {},
   "source": [
    "价值投资因子 :\n",
    "1、Enterprise Multiple (EBIT/TEV)\n",
    "2、Book-to-Market (B/M)\n",
    "3、Earning’s Yield (Inverse of P/E)\n",
    "4、Cash-Flow to Price (CF/P)\n",
    "5、Sales to Price (S/P)\n",
    "\n",
    "其他投资因子:\n",
    "1、Momentum(12_2)\n",
    "2、Size\n",
    "3、Beta\n",
    "4、ROA\n",
    "5、FS Score\n",
    "\n",
    "除了size和beta外，其他因子值被默认为越高越好。"
   ]
  },
  {
   "cell_type": "markdown",
   "metadata": {},
   "source": [
    "因子的计算方式参照了美国因子网页的说明、学习班教材书目以及《Replicating Anomalies in China》中对中国市场因子的处理方式。\n",
    "数据取自CSMAR中市场和会计的原始数据，每一季度只涉及市场数据的因子值从上季度末的时点得到。涉及会计数据的因子值时间点选取较为复杂，如下表："
   ]
  },
  {
   "cell_type": "raw",
   "metadata": {},
   "source": [
    "计算收益时段  会计数据来源时间点\n",
    "第一季度    18年3季度报（2018-09-30）\n",
    "第二季度    18年3季度报（2018-09-30）\n",
    "第三季度    18年年报（2018-12-31）\n",
    "第四季度    19年半年报（2019-06-30）"
   ]
  },
  {
   "cell_type": "markdown",
   "metadata": {},
   "source": [
    "当同时涉及会计数据与市场数据的值，我们确保会计数据和市场数据时间同步（取自同一个时间点）。\n",
    "\n",
    "因子值是统一标准分开计算的，所以程序就不在汇报中展示了，具体的因子原始数据和处理程序打包放到了GitHub上专门分类文件夹中。这里我们直接读入处理完成的表格。因子数据处理成了index为股票代码，columns为季度序号，value为因子值的表格数据。"
   ]
  },
  {
   "cell_type": "code",
   "execution_count": 1,
   "metadata": {},
   "outputs": [],
   "source": [
    "import numpy as np\n",
    "import pandas as pd\n",
    "import datetime as dt\n",
    "import statsmodels.formula.api as smf\n",
    "import matplotlib.pyplot as plt\n",
    "import matplotlib as mpl"
   ]
  },
  {
   "cell_type": "markdown",
   "metadata": {},
   "source": [
    "rf用月度收益率累积为季度收益，这里monthly为全市场股票数据，所以用Acode筛选了属于A股的样本"
   ]
  },
  {
   "cell_type": "code",
   "execution_count": 2,
   "metadata": {},
   "outputs": [],
   "source": [
    "monthly_data = pd.read_csv('monthly.csv')\n",
    "Acode = pd.read_csv('Acode.csv')\n",
    "monthly_data = pd.merge(monthly_data,Acode,on='code')\n",
    "monthly_data = monthly_data[(monthly_data['exchcd']!=2)&(monthly_data['exchcd']!=8)]\n",
    "monthly_data['date'] =  pd.to_datetime(monthly_data['date'])\n",
    "monthly_data['year'] = monthly_data['date'].dt.year\n",
    "monthly_data = monthly_data[monthly_data['year']==2019]\n",
    "monthly_data['month'] = monthly_data['date'].dt.month\n",
    "monthly_data['quarter'] = (monthly_data['month']-1) // 3\n",
    "monthly_data['rt'] = monthly_data['rt'] + 1\n",
    "quarter_rt = monthly_data.groupby(['code','quarter'])['rt'].prod().reset_index()\n",
    "quarter_rt = pd.pivot(quarter_rt,index='code',columns='quarter',values = 'rt')\n",
    "quarter_rt = quarter_rt -1"
   ]
  },
  {
   "cell_type": "code",
   "execution_count": 3,
   "metadata": {},
   "outputs": [],
   "source": [
    "EBIT_TEV = pd.read_csv('factor1.csv',index_col = 0)\n",
    "B_M = pd.read_csv('factor2.csv',index_col = 0)\n",
    "E_P = pd.read_csv('factor3.csv',index_col = 0)\n",
    "CF_P = pd.read_csv('factor4.csv',index_col = 0)\n",
    "S_P = pd.read_csv('factor5.csv',index_col = 0)\n",
    "Momentum = pd.read_csv('factor6.csv',index_col = 0)\n",
    "Size = pd.read_csv('factor7.csv',index_col = 0)\n",
    "Beta = pd.read_csv('factor8.csv',index_col = 0)\n",
    "ROA = pd.read_csv('factor9.csv',index_col = 0)\n",
    "FS_Score = pd.read_csv('factor10.csv',index_col = 0)\n",
    "quarter_rt.columns = EBIT_TEV.columns#因为读进来的表格columns是str格式，而程序生成的表格columns是int格式"
   ]
  },
  {
   "cell_type": "code",
   "execution_count": 4,
   "metadata": {},
   "outputs": [],
   "source": [
    "##处理出每个季度选股的标准，codemonth中的代码是每个月符合要求的A股股票代码\n",
    "codemonth = pd.read_csv('stkcdmonth.csv')\n",
    "codemonth['year'] = codemonth['month']//100\n",
    "code_need0 = codemonth[(codemonth['year']==2018)&(codemonth['month']%100==12)]['stkcd'].tolist()\n",
    "code_need1 = codemonth[(codemonth['year']==2019)&(codemonth['month']%100==3)]['stkcd'].tolist()\n",
    "code_need2 = codemonth[(codemonth['year']==2019)&(codemonth['month']%100==6)]['stkcd'].tolist()\n",
    "code_need3 = codemonth[(codemonth['year']==2019)&(codemonth['month']%100==9)]['stkcd'].tolist()\n",
    "code_need=[code_need0,code_need1,code_need2,code_need3]"
   ]
  },
  {
   "cell_type": "markdown",
   "metadata": {},
   "source": [
    "计算后面画图分析会用到的每季度满足要求的年综合收益。"
   ]
  },
  {
   "cell_type": "code",
   "execution_count": 5,
   "metadata": {},
   "outputs": [],
   "source": [
    "def universal_CAGR(rt,code_list):\n",
    "    X = []\n",
    "    for i in rt.columns:\n",
    "        rt_temp = rt[i]\n",
    "        code = [x for x in rt_temp.index if x in code_list[int(i)]]\n",
    "        rt_temp = rt_temp.loc[code]\n",
    "        r = rt_temp.mean()\n",
    "        X.append(r)\n",
    "    CAGR = (pd.Series(X) + 1).prod()-1\n",
    "    CAGR = CAGR*100\n",
    "    return CAGR\n",
    "\n",
    "u_CAGR = universal_CAGR(quarter_rt,code_need)"
   ]
  },
  {
   "cell_type": "markdown",
   "metadata": {},
   "source": [
    "全部的输入数据都准备好了，进行构建投资组合并计算累积收益的程序："
   ]
  },
  {
   "cell_type": "code",
   "execution_count": 7,
   "metadata": {},
   "outputs": [
    {
     "name": "stderr",
     "output_type": "stream",
     "text": [
      "F:\\Anaconda3\\lib\\site-packages\\ipykernel_launcher.py:96: SettingWithCopyWarning: \n",
      "A value is trying to be set on a copy of a slice from a DataFrame.\n",
      "Try using .loc[row_indexer,col_indexer] = value instead\n",
      "\n",
      "See the caveats in the documentation: http://pandas.pydata.org/pandas-docs/stable/indexing.html#indexing-view-versus-copy\n"
     ]
    }
   ],
   "source": [
    "##单边多头组合构建\n",
    "def protofolio_split_single(factor,rt,percent,code_list,top=True):\n",
    "    '''\n",
    "用因子数据构建投资组合（只做多）计算四个季度累积收益\n",
    "\n",
    "参数：\n",
    "factor：index为股票代码，columns为期限，value为因子数值的数据，期限变为0123\n",
    "rt：index为股票代码，columns为期限，value为季度内股票持有的收益率，期限变为0123，实际对应19年每个季度末的股票收益率\n",
    "percent: 确定到底买入排名前或后百分之多少的股票\n",
    "code_list:每期选股时点非金融和ST股票名单\n",
    "top:=True 即为计算最高一部分投资组合的超额收益\n",
    "\n",
    "输出：\n",
    "累积超额收益(乘了一百，以百分号为单位)\n",
    "    '''\n",
    "    if top == 1:\n",
    "        cut = 1 - percent\n",
    "        t = 1\n",
    "    else:\n",
    "        cut = percent\n",
    "        t = 0\n",
    "    X = []\n",
    "    for i in rt.columns:\n",
    "        df = pd.concat([factor[i],rt[i]],axis=1,join = 'inner')\n",
    "        code = [x for x in df.index if x in code_list[int(i)]]\n",
    "        df = df.loc[code]\n",
    "        df.columns = ['factor','rt']\n",
    "        df = df.dropna()\n",
    "        df['group'] = pd.qcut(df['factor'],[0,cut,1],labels=False)\n",
    "        df = df[df['group'] == t]\n",
    "        quater_rt = df['rt'].mean()\n",
    "        X.append(quater_rt)\n",
    "    X = (pd.Series(X) + 1).prod()-1\n",
    "    X = 100*X\n",
    "    return X\n",
    "\n",
    "def protofolio_split(factor_list,name_list,rt,code_list):\n",
    "    '''\n",
    "    输入所以需要的因子列表和跟上面一样的rt格式，输出split画图需要的列表。\n",
    "    name_list顺序要和factor_list一致，用来给表格中因子命名\n",
    "    '''\n",
    "    X = pd.DataFrame()\n",
    "    for i in factor_list:\n",
    "        x1 = protofolio_split_single(i,rt,0.1,code_list)\n",
    "        x2 = protofolio_split_single(i,rt,0.1,code_list,False)\n",
    "        x3 = protofolio_split_single(i,rt,1/3,code_list)\n",
    "        x4 = protofolio_split_single(i,rt,1/3,code_list,False)\n",
    "        x5 = protofolio_split_single(i,rt,0.5,code_list)\n",
    "        x6 = protofolio_split_single(i,rt,0.5,code_list,False)\n",
    "        x = pd.Series([x1,x2,x3,x4,x5,x6],index = ['Top10%','Bottom10%','Top1/3','Bottom1/3','Top50%','Bottom50%'])\n",
    "        X = pd.concat([X,x],axis=1,sort=False)\n",
    "    X.columns = name_list\n",
    "    return X\n",
    "\n",
    "value_factors = [EBIT_TEV,B_M,E_P,CF_P,S_P]\n",
    "value_factors_name = ['EBIT/TEV','B/M','E/P','CF/P','S/P']\n",
    "other_factors = [Momentum,Size,Beta,ROA,FS_Score]\n",
    "other_factors_name = ['Momentum','Size','Beta','ROA','FS-Score']\n",
    "value_factors_split = protofolio_split(value_factors,value_factors_name,quarter_rt,code_need)\n",
    "other_factors_split = protofolio_split(other_factors,other_factors_name,quarter_rt,code_need)\n",
    "\n",
    "##双边多空投资组合构建\n",
    "\n",
    "def protofolio_ls_single(factor,rt,cut,code_list):\n",
    "    '''\n",
    "用因子数据构建投资组合（做多空）计算四个季度累积收益\n",
    "\n",
    "参数：\n",
    "factor：index为股票代码，columns为期限，value为因子数值的数据，期限变为0123\n",
    "rt：index为股票代码，columns为期限，value为季度内股票持有的q收益率，期限变为0123，实际对应19年每个季度末的超额收益率\n",
    "cut: 确定平分几份\n",
    "code_list:每期选股时点非金融和ST股票名单\n",
    "\n",
    "输出：\n",
    "累积超额收益(乘了一百，以百分号为单位)\n",
    "    '''\n",
    "    X_top = []\n",
    "    X_bottom = []\n",
    "    for i in rt.columns:\n",
    "        df = pd.concat([factor[i],rt[i]],axis=1,join = 'inner')\n",
    "        code = [x for x in df.index if x in code_list[int(i)]]\n",
    "        df = df.loc[code]\n",
    "        df.columns = ['factor','rt']\n",
    "        df = df.dropna()\n",
    "        tiles = []\n",
    "        for t in range(cut-1):\n",
    "            tiles.append((t+1)/cut)\n",
    "        breakpoints = df['factor'].describe(percentiles=tiles)[4:-1]\n",
    "        B1 = [-np.inf]\n",
    "        for j in range(cut-1):\n",
    "            B1.append(breakpoints[j])\n",
    "        B1.append(np.inf)\n",
    "        temp = pd.DataFrame()\n",
    "        for k in range(cut):\n",
    "            x = df[(df['factor']>=B1[k])&(df['factor']<=B1[k+1])]\n",
    "            x['group'] = k\n",
    "            temp = pd.concat([temp,x],sort=False)\n",
    "        df_top = temp[temp['group'] == cut-1]\n",
    "        df_bottom = temp[temp['group'] == 0]\n",
    "        quater_top = df_top['rt'].mean()\n",
    "        quater_bottom = df_bottom['rt'].mean()\n",
    "        X_top.append(quater_top)\n",
    "        X_bottom.append(quater_bottom)\n",
    "    X_top = (pd.Series(X_top) + 1).prod()-1\n",
    "    X_bottom = (pd.Series(X_bottom) + 1).prod()-1\n",
    "    X = (X_top - X_bottom)*100\n",
    "    return X\n",
    "\n",
    "def protofolio_ls(factor_list,name_list,rt,code_list):\n",
    "    '''\n",
    "    输入所以需要的因子列表和跟上面一样的rt格式，输出ls画图需要的列表。\n",
    "    name_list顺序要和factor_list一致，用来给表格中因子命名\n",
    "    '''\n",
    "    X = pd.DataFrame()\n",
    "    for i in factor_list:\n",
    "        x1 = protofolio_ls_single(i,rt,2,code_list)\n",
    "        x2 = protofolio_ls_single(i,rt,3,code_list)\n",
    "        x3 = protofolio_ls_single(i,rt,5,code_list)\n",
    "        x4 = protofolio_ls_single(i,rt,10,code_list)\n",
    "        x = pd.Series([x1,x2,x3,x4],index = ['Half L/S','Tercile L/S','Quintile L/S','Decile L/S'])\n",
    "        X = pd.concat([X,x],axis=1,sort=False)\n",
    "    X.columns = name_list\n",
    "    return X\n",
    "\n",
    "value_factors_ls = protofolio_ls(value_factors,value_factors_name,quarter_rt,code_need)\n",
    "other_factors_ls = protofolio_ls(other_factors,other_factors_name,quarter_rt,code_need)"
   ]
  },
  {
   "cell_type": "markdown",
   "metadata": {},
   "source": [
    "画图"
   ]
  },
  {
   "cell_type": "code",
   "execution_count": 8,
   "metadata": {},
   "outputs": [],
   "source": [
    "##单边组合构造图像\n",
    "def bar_graph_split(df,CAGR):\n",
    "    '''\n",
    "    输入的df的columns是因子名字，index是产生不同投资组合的比例\n",
    "    '''\n",
    "    mpl.rcParams[\"font.sans-serif\"] = [\"SimHei\"]\n",
    "    mpl.rcParams[\"axes.unicode_minus\"] = False\n",
    "    x = np.array([1,3,5,7,9,11])\n",
    "    bar_width = 0.3\n",
    "    tick_label = df.index\n",
    "    y1 = df.iloc[:,0]\n",
    "    y2 = df.iloc[:,1]\n",
    "    y3 = df.iloc[:,2]\n",
    "    y4 = df.iloc[:,3]\n",
    "    y5 = df.iloc[:,4]\n",
    "    plt.bar(x-2*bar_width, y1, bar_width, color='darkorange', label=df.columns[0], alpha=0.7)\n",
    "    plt.bar(x-bar_width, y2, bar_width, color = 'yellow', label=df.columns[1], alpha=0.5)\n",
    "    plt.bar(x, y3, bar_width, color='lime', label=df.columns[2], alpha=0.7)\n",
    "    plt.bar(x+bar_width, y4, bar_width, color='deepskyblue', label=df.columns[3], alpha=0.6)\n",
    "    plt.bar(x+2*bar_width, y5, bar_width,color='mediumpurple', label=df.columns[4], alpha=0.7)\n",
    "    plt.axhline(CAGR,0,12,color='deeppink',linewidth='0.8')\n",
    "    plt.xlabel('投资组合构造')\n",
    "    plt.ylabel('投资组合年度累计收益')\n",
    "    plt.xticks(x, tick_label)\n",
    "    plt.title('2019年A股市场因子单边多头组合年度累计收益')\n",
    "    ax = plt.gca()\n",
    "    ax.spines['right'].set_color('none') \n",
    "    ax.spines['top'].set_color('none')\n",
    "    #ax.spines['bottom'].set_color('none')\n",
    "    ax.spines['left'].set_color('none')\n",
    "    plt.legend(loc='best',frameon=False, bbox_to_anchor=(1,-0.12),ncol=5)\n",
    "    plt.show()\n",
    "\n",
    "#双边组合图像\n",
    "def bar_graph_ls(df):\n",
    "    '''\n",
    "    输入的df的columns是因子名字，index是产生不同投资组合的比例\n",
    "    '''\n",
    "    mpl.rcParams[\"font.sans-serif\"] = [\"SimHei\"]\n",
    "    mpl.rcParams[\"axes.unicode_minus\"] = False\n",
    "    x = np.array([1,3,5,7,9])\n",
    "    bar_width = 0.35\n",
    "    tick_label = df.columns\n",
    "    y1 = df.iloc[0,:]\n",
    "    y2 = df.iloc[1,:]\n",
    "    y3 = df.iloc[2,:]\n",
    "    y4 = df.iloc[3,:]\n",
    "    plt.barh(x-1.5*bar_width, y1, bar_width, color='r', label='Half', alpha=0.5)\n",
    "    plt.barh(x-0.5*bar_width, y2, bar_width, color='yellow', label='Tercile', alpha=0.5)\n",
    "    plt.barh(x+0.5*bar_width, y3, bar_width, color='deepskyblue', label='Quintile', alpha=0.5)\n",
    "    plt.barh(x+1.5*bar_width, y4, bar_width, color='lightpink', label='Decile', alpha=1)\n",
    "    #plt.barh(y, left=0, height=0.5, width=x)\n",
    "    plt.xlabel('投资组合累计收益')\n",
    "    plt.yticks(x,tick_label)\n",
    "    plt.tick_params(labelsize=8)\n",
    "    ax = plt.gca()\n",
    "    ax.yaxis.set_ticks_position('left')\n",
    "    ax.spines['left'].set_position(('data', 0))\n",
    "    ax.spines['right'].set_color('none') \n",
    "    ax.spines['top'].set_color('none')\n",
    "    ax.spines['bottom'].set_color('none')\n",
    "    plt.title('2019年A股市场因子多空头组合年度累计收益')\n",
    "    plt.legend(loc='best',frameon=False, bbox_to_anchor=(1,-0.12),ncol=4)\n",
    "    plt.show()"
   ]
  },
  {
   "cell_type": "markdown",
   "metadata": {},
   "source": [
    "首先是五个价值因子的多空头投资组合累计收益的图，图中展示了分别取全部样本1/2,1/3,1/5和1/10构建的高减低投资组合年度累计收益"
   ]
  },
  {
   "cell_type": "code",
   "execution_count": 9,
   "metadata": {},
   "outputs": [
    {
     "data": {
      "image/png": "[encoded data removed]",
      "text/plain": [
       "<Figure size 432x288 with 1 Axes>"
      ]
     },
     "metadata": {
      "needs_background": "light"
     },
     "output_type": "display_data"
    }
   ],
   "source": [
    "bar_graph_ls(value_factors_ls)"
   ]
  },
  {
   "cell_type": "code",
   "execution_count": 10,
   "metadata": {},
   "outputs": [
    {
     "data": {
      "text/html": [
       "<div>\n",
       "<style scoped>\n",
       "    .dataframe tbody tr th:only-of-type {\n",
       "        vertical-align: middle;\n",
       "    }\n",
       "\n",
       "    .dataframe tbody tr th {\n",
       "        vertical-align: top;\n",
       "    }\n",
       "\n",
       "    .dataframe thead th {\n",
       "        text-align: right;\n",
       "    }\n",
       "</style>\n",
       "<table border=\"1\" class=\"dataframe\">\n",
       "  <thead>\n",
       "    <tr style=\"text-align: right;\">\n",
       "      <th></th>\n",
       "      <th>EBIT/TEV</th>\n",
       "      <th>B/M</th>\n",
       "      <th>E/P</th>\n",
       "      <th>CF/P</th>\n",
       "      <th>S/P</th>\n",
       "    </tr>\n",
       "  </thead>\n",
       "  <tbody>\n",
       "    <tr>\n",
       "      <th>Half L/S</th>\n",
       "      <td>-1.29</td>\n",
       "      <td>-8.23</td>\n",
       "      <td>-1.92</td>\n",
       "      <td>4.08</td>\n",
       "      <td>-3.91</td>\n",
       "    </tr>\n",
       "    <tr>\n",
       "      <th>Tercile L/S</th>\n",
       "      <td>-1.06</td>\n",
       "      <td>-9.83</td>\n",
       "      <td>-0.56</td>\n",
       "      <td>6.98</td>\n",
       "      <td>-4.76</td>\n",
       "    </tr>\n",
       "    <tr>\n",
       "      <th>Quintile L/S</th>\n",
       "      <td>1.55</td>\n",
       "      <td>-10.35</td>\n",
       "      <td>0.99</td>\n",
       "      <td>6.79</td>\n",
       "      <td>-7.49</td>\n",
       "    </tr>\n",
       "    <tr>\n",
       "      <th>Decile L/S</th>\n",
       "      <td>6.22</td>\n",
       "      <td>-17.04</td>\n",
       "      <td>0.25</td>\n",
       "      <td>4.25</td>\n",
       "      <td>-10.74</td>\n",
       "    </tr>\n",
       "  </tbody>\n",
       "</table>\n",
       "</div>"
      ],
      "text/plain": [
       "              EBIT/TEV    B/M   E/P  CF/P    S/P\n",
       "Half L/S         -1.29  -8.23 -1.92  4.08  -3.91\n",
       "Tercile L/S      -1.06  -9.83 -0.56  6.98  -4.76\n",
       "Quintile L/S      1.55 -10.35  0.99  6.79  -7.49\n",
       "Decile L/S        6.22 -17.04  0.25  4.25 -10.74"
      ]
     },
     "execution_count": 10,
     "metadata": {},
     "output_type": "execute_result"
    }
   ],
   "source": [
    "value_factors_ls.applymap(lambda x: round(x,2))"
   ]
  },
  {
   "cell_type": "markdown",
   "metadata": {},
   "source": [
    "可以看到除了现金流于价格比值之外的其他因子都没有正向表现，反而是有一个负向的表现。高减低的收益率很明显为负。企业倍数的十分位值诡异地大于0，但是从账面市值比和销售价格比可以看到，当集中地买卖股票时（只投资于两头百分之10的股票），会得到更大的负值。\n",
    "\n",
    "接下来看这五个价值因子的单边多头组合年度收益的情况,横线为全市场平均收益。"
   ]
  },
  {
   "cell_type": "code",
   "execution_count": 11,
   "metadata": {},
   "outputs": [
    {
     "data": {
      "image/png": "[encoded data removed]",
      "text/plain": [
       "<Figure size 432x288 with 1 Axes>"
      ]
     },
     "metadata": {
      "needs_background": "light"
     },
     "output_type": "display_data"
    }
   ],
   "source": [
    "bar_graph_split(value_factors_split,u_CAGR)"
   ]
  },
  {
   "cell_type": "code",
   "execution_count": 12,
   "metadata": {},
   "outputs": [
    {
     "data": {
      "text/html": [
       "<div>\n",
       "<style scoped>\n",
       "    .dataframe tbody tr th:only-of-type {\n",
       "        vertical-align: middle;\n",
       "    }\n",
       "\n",
       "    .dataframe tbody tr th {\n",
       "        vertical-align: top;\n",
       "    }\n",
       "\n",
       "    .dataframe thead th {\n",
       "        text-align: right;\n",
       "    }\n",
       "</style>\n",
       "<table border=\"1\" class=\"dataframe\">\n",
       "  <thead>\n",
       "    <tr style=\"text-align: right;\">\n",
       "      <th></th>\n",
       "      <th>Top10%</th>\n",
       "      <th>Bottom10%</th>\n",
       "      <th>Top1/3</th>\n",
       "      <th>Bottom1/3</th>\n",
       "      <th>Top50%</th>\n",
       "      <th>Bottom50%</th>\n",
       "    </tr>\n",
       "  </thead>\n",
       "  <tbody>\n",
       "    <tr>\n",
       "      <th>EBIT/TEV</th>\n",
       "      <td>20.35</td>\n",
       "      <td>14.13</td>\n",
       "      <td>23.58</td>\n",
       "      <td>27.28</td>\n",
       "      <td>26.22</td>\n",
       "      <td>27.50</td>\n",
       "    </tr>\n",
       "    <tr>\n",
       "      <th>B/M</th>\n",
       "      <td>15.56</td>\n",
       "      <td>32.60</td>\n",
       "      <td>22.54</td>\n",
       "      <td>32.71</td>\n",
       "      <td>22.92</td>\n",
       "      <td>31.12</td>\n",
       "    </tr>\n",
       "    <tr>\n",
       "      <th>E/P</th>\n",
       "      <td>21.62</td>\n",
       "      <td>21.36</td>\n",
       "      <td>23.73</td>\n",
       "      <td>26.64</td>\n",
       "      <td>26.06</td>\n",
       "      <td>27.98</td>\n",
       "    </tr>\n",
       "    <tr>\n",
       "      <th>CF/P</th>\n",
       "      <td>23.56</td>\n",
       "      <td>19.31</td>\n",
       "      <td>28.03</td>\n",
       "      <td>22.06</td>\n",
       "      <td>29.02</td>\n",
       "      <td>24.92</td>\n",
       "    </tr>\n",
       "    <tr>\n",
       "      <th>S/P</th>\n",
       "      <td>19.53</td>\n",
       "      <td>30.27</td>\n",
       "      <td>23.93</td>\n",
       "      <td>29.77</td>\n",
       "      <td>25.07</td>\n",
       "      <td>28.99</td>\n",
       "    </tr>\n",
       "  </tbody>\n",
       "</table>\n",
       "</div>"
      ],
      "text/plain": [
       "          Top10%  Bottom10%  Top1/3  Bottom1/3  Top50%  Bottom50%\n",
       "EBIT/TEV   20.35      14.13   23.58      27.28   26.22      27.50\n",
       "B/M        15.56      32.60   22.54      32.71   22.92      31.12\n",
       "E/P        21.62      21.36   23.73      26.64   26.06      27.98\n",
       "CF/P       23.56      19.31   28.03      22.06   29.02      24.92\n",
       "S/P        19.53      30.27   23.93      29.77   25.07      28.99"
      ]
     },
     "execution_count": 12,
     "metadata": {},
     "output_type": "execute_result"
    }
   ],
   "source": [
    "value_factors_split.T.applymap(lambda x: round(x,2))"
   ]
  },
  {
   "cell_type": "markdown",
   "metadata": {},
   "source": [
    "可以看到的是，不管是做多高因子值的股票还是做多低因子值的股票，收益率绝对值普遍较高，所有的投资组合都有一个较高的回报。能够超过市场平均收益的投资组合主要集中在跟账面市值比因子和销售价格比因子相关的投资组合中，企业倍数高与低的投资组合的收益率都未超过市场平均收益率。\n",
    "\n",
    "接着来看其他因子投资组合的表现情况。"
   ]
  },
  {
   "cell_type": "code",
   "execution_count": 13,
   "metadata": {},
   "outputs": [
    {
     "data": {
      "image/png": "[encoded data removed]",
      "text/plain": [
       "<Figure size 432x288 with 1 Axes>"
      ]
     },
     "metadata": {
      "needs_background": "light"
     },
     "output_type": "display_data"
    }
   ],
   "source": [
    "bar_graph_ls(other_factors_ls)"
   ]
  },
  {
   "cell_type": "code",
   "execution_count": 16,
   "metadata": {},
   "outputs": [
    {
     "data": {
      "text/html": [
       "<div>\n",
       "<style scoped>\n",
       "    .dataframe tbody tr th:only-of-type {\n",
       "        vertical-align: middle;\n",
       "    }\n",
       "\n",
       "    .dataframe tbody tr th {\n",
       "        vertical-align: top;\n",
       "    }\n",
       "\n",
       "    .dataframe thead th {\n",
       "        text-align: right;\n",
       "    }\n",
       "</style>\n",
       "<table border=\"1\" class=\"dataframe\">\n",
       "  <thead>\n",
       "    <tr style=\"text-align: right;\">\n",
       "      <th></th>\n",
       "      <th>Momentum</th>\n",
       "      <th>Size</th>\n",
       "      <th>Beta</th>\n",
       "      <th>ROA</th>\n",
       "      <th>FS-Score</th>\n",
       "    </tr>\n",
       "  </thead>\n",
       "  <tbody>\n",
       "    <tr>\n",
       "      <th>Half L/S</th>\n",
       "      <td>2.42</td>\n",
       "      <td>-1.71</td>\n",
       "      <td>1.62</td>\n",
       "      <td>7.80</td>\n",
       "      <td>8.58</td>\n",
       "    </tr>\n",
       "    <tr>\n",
       "      <th>Tercile L/S</th>\n",
       "      <td>4.64</td>\n",
       "      <td>-3.96</td>\n",
       "      <td>2.62</td>\n",
       "      <td>9.73</td>\n",
       "      <td>10.72</td>\n",
       "    </tr>\n",
       "    <tr>\n",
       "      <th>Quintile L/S</th>\n",
       "      <td>6.62</td>\n",
       "      <td>-3.30</td>\n",
       "      <td>5.63</td>\n",
       "      <td>12.73</td>\n",
       "      <td>14.70</td>\n",
       "    </tr>\n",
       "    <tr>\n",
       "      <th>Decile L/S</th>\n",
       "      <td>14.14</td>\n",
       "      <td>2.78</td>\n",
       "      <td>0.95</td>\n",
       "      <td>21.32</td>\n",
       "      <td>0.00</td>\n",
       "    </tr>\n",
       "  </tbody>\n",
       "</table>\n",
       "</div>"
      ],
      "text/plain": [
       "              Momentum  Size  Beta    ROA  FS-Score\n",
       "Half L/S          2.42 -1.71  1.62   7.80      8.58\n",
       "Tercile L/S       4.64 -3.96  2.62   9.73     10.72\n",
       "Quintile L/S      6.62 -3.30  5.63  12.73     14.70\n",
       "Decile L/S       14.14  2.78  0.95  21.32      0.00"
      ]
     },
     "execution_count": 16,
     "metadata": {},
     "output_type": "execute_result"
    }
   ],
   "source": [
    "other_factors_ls.applymap(lambda x: round(x,2))"
   ]
  },
  {
   "cell_type": "markdown",
   "metadata": {},
   "source": [
    "除ROA和动量因子外，其他因子并没有展现理想的高减低正向收益（由于规模因子和beta因子的特殊性，两个高减低值为负才符合理想情况）。\n",
    "而FS_Score因子的表现更有些许诡异，这个原因是由于分数只在0和10之前取整数，有过多重复值，\n",
    "所以用单边分组的形式就会使边缘组样本较小，受噪音样本影响而导致极端数据。所以第二次修改后我们采取双边取值的投资组合，有了一个很完美的FS_Score因子结果。说明财务指标相关的因子2019年的表现较好。"
   ]
  },
  {
   "cell_type": "markdown",
   "metadata": {},
   "source": [
    "规律和上图一致，能够更清晰的看到，ROA和动量因子多空头投资组合在市场上获得更高的收益率。且这种收益率被集中投资放大了（十等分高减低的收益率最高）。\n",
    "\n",
    "接下来是单边多头的股票收益情况。"
   ]
  },
  {
   "cell_type": "code",
   "execution_count": 17,
   "metadata": {},
   "outputs": [
    {
     "data": {
      "image/png": "[encoded data removed]",
      "text/plain": [
       "<Figure size 432x288 with 1 Axes>"
      ]
     },
     "metadata": {
      "needs_background": "light"
     },
     "output_type": "display_data"
    }
   ],
   "source": [
    "bar_graph_split(other_factors_split,u_CAGR)"
   ]
  },
  {
   "cell_type": "code",
   "execution_count": 18,
   "metadata": {},
   "outputs": [
    {
     "data": {
      "text/html": [
       "<div>\n",
       "<style scoped>\n",
       "    .dataframe tbody tr th:only-of-type {\n",
       "        vertical-align: middle;\n",
       "    }\n",
       "\n",
       "    .dataframe tbody tr th {\n",
       "        vertical-align: top;\n",
       "    }\n",
       "\n",
       "    .dataframe thead th {\n",
       "        text-align: right;\n",
       "    }\n",
       "</style>\n",
       "<table border=\"1\" class=\"dataframe\">\n",
       "  <thead>\n",
       "    <tr style=\"text-align: right;\">\n",
       "      <th></th>\n",
       "      <th>Top10%</th>\n",
       "      <th>Bottom10%</th>\n",
       "      <th>Top1/3</th>\n",
       "      <th>Bottom1/3</th>\n",
       "      <th>Top50%</th>\n",
       "      <th>Bottom50%</th>\n",
       "    </tr>\n",
       "  </thead>\n",
       "  <tbody>\n",
       "    <tr>\n",
       "      <th>EBIT/TEV</th>\n",
       "      <td>20.35</td>\n",
       "      <td>14.13</td>\n",
       "      <td>23.58</td>\n",
       "      <td>27.28</td>\n",
       "      <td>26.22</td>\n",
       "      <td>27.50</td>\n",
       "    </tr>\n",
       "    <tr>\n",
       "      <th>B/M</th>\n",
       "      <td>15.56</td>\n",
       "      <td>32.60</td>\n",
       "      <td>22.54</td>\n",
       "      <td>32.71</td>\n",
       "      <td>22.92</td>\n",
       "      <td>31.12</td>\n",
       "    </tr>\n",
       "    <tr>\n",
       "      <th>E/P</th>\n",
       "      <td>21.62</td>\n",
       "      <td>21.36</td>\n",
       "      <td>23.73</td>\n",
       "      <td>26.64</td>\n",
       "      <td>26.06</td>\n",
       "      <td>27.98</td>\n",
       "    </tr>\n",
       "    <tr>\n",
       "      <th>CF/P</th>\n",
       "      <td>23.56</td>\n",
       "      <td>19.31</td>\n",
       "      <td>28.03</td>\n",
       "      <td>22.06</td>\n",
       "      <td>29.02</td>\n",
       "      <td>24.92</td>\n",
       "    </tr>\n",
       "    <tr>\n",
       "      <th>S/P</th>\n",
       "      <td>19.53</td>\n",
       "      <td>30.27</td>\n",
       "      <td>23.93</td>\n",
       "      <td>29.77</td>\n",
       "      <td>25.07</td>\n",
       "      <td>28.99</td>\n",
       "    </tr>\n",
       "  </tbody>\n",
       "</table>\n",
       "</div>"
      ],
      "text/plain": [
       "          Top10%  Bottom10%  Top1/3  Bottom1/3  Top50%  Bottom50%\n",
       "EBIT/TEV   20.35      14.13   23.58      27.28   26.22      27.50\n",
       "B/M        15.56      32.60   22.54      32.71   22.92      31.12\n",
       "E/P        21.62      21.36   23.73      26.64   26.06      27.98\n",
       "CF/P       23.56      19.31   28.03      22.06   29.02      24.92\n",
       "S/P        19.53      30.27   23.93      29.77   25.07      28.99"
      ]
     },
     "execution_count": 18,
     "metadata": {},
     "output_type": "execute_result"
    }
   ],
   "source": [
    "value_factors_split.T.applymap(lambda x: round(x,2))"
   ]
  },
  {
   "cell_type": "markdown",
   "metadata": {},
   "source": [
    "同样的可以看到基本所有的投资组合都有较高的收益率绝对值。尽管市值的多空头组合收益率不尽人意，\n",
    "但神奇的是而不管是极端大市值的公司，还是极端小市值的公司，都有超过市场平均收益率的收益率。而ROA的单边收益，\n",
    "则完美地展现了ROA值与投资组合收益率的单调关系"
   ]
  },
  {
   "cell_type": "markdown",
   "metadata": {},
   "source": [
    "## 总结"
   ]
  },
  {
   "cell_type": "markdown",
   "metadata": {},
   "source": [
    "在所有验证的因子衡量中，只有价值因子中的现金流价格比因子以及其他因子中的ROA、动量因子和FS_Score因子表现都较好，尤其是ROA因子。有些因子甚至看起来与收益率并没有什么关系。用美股市场作者的原文来说，这是一个对价值投资者并不友好的一年。但是股市普遍的收益率很高，这对于投资者还算一个好消息。\n",
    "\n",
    "报告中的估算较为简单，计算出来的投资组合收益率并不能完全代表19年进行因子投资的实际情况。首先报告并没有考虑交易成本于交易限制，且实际情况的调仓时间以及加权方式也不一定与报告中相同。且我们在市场投资中筛除了同样可以进行交易的ST和金融股，以及上市不满一年的股票，所以理论数值也可能与实际投资结果产生出入。"
   ]
  }
 ],
 "metadata": {
  "kernelspec": {
   "display_name": "Python 3",
   "language": "python",
   "name": "python3"
  },
  "language_info": {
   "codemirror_mode": {
    "name": "ipython",
    "version": 3
   },
   "file_extension": ".py",
   "mimetype": "text/x-python",
   "name": "python",
   "nbconvert_exporter": "python",
   "pygments_lexer": "ipython3",
   "version": "3.7.3"
  }
 },
 "nbformat": 4,
 "nbformat_minor": 2
}
