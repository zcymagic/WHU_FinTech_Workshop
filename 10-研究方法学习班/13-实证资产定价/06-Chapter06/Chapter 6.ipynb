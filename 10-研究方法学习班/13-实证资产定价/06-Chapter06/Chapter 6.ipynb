{
 "nbformat": 4,
 "nbformat_minor": 2,
 "metadata": {
  "language_info": {
   "name": "python",
   "codemirror_mode": {
    "name": "ipython",
    "version": 3
   },
   "version": "3.7.3-final"
  },
  "orig_nbformat": 2,
  "file_extension": ".py",
  "mimetype": "text/x-python",
  "name": "python",
  "npconvert_exporter": "python",
  "pygments_lexer": "ipython3",
  "version": 3,
  "kernelspec": {
   "name": "python3",
   "display_name": "Python 3"
  }
 },
 "cells": [
  {
   "cell_type": "markdown",
   "metadata": {},
   "source": [
    "# Chapter 6.Fama and MacBeth Regression Analysis"
   ]
  },
  {
   "cell_type": "code",
   "execution_count": 1,
   "metadata": {},
   "outputs": [],
   "source": [
    "import numpy as np\n",
    "import pandas as pd\n",
    "import statsmodels.api as sm"
   ]
  },
  {
   "cell_type": "code",
   "execution_count": 2,
   "metadata": {},
   "outputs": [
    {
     "data": {
      "text/html": "<div>\n<style scoped>\n    .dataframe tbody tr th:only-of-type {\n        vertical-align: middle;\n    }\n\n    .dataframe tbody tr th {\n        vertical-align: top;\n    }\n\n    .dataframe thead th {\n        text-align: right;\n    }\n</style>\n<table border=\"1\" class=\"dataframe\">\n  <thead>\n    <tr style=\"text-align: right;\">\n      <th></th>\n      <th>year</th>\n      <th>beta</th>\n      <th>rt+1</th>\n      <th>bm</th>\n      <th>size</th>\n      <th>mktcap</th>\n    </tr>\n    <tr>\n      <th>permno</th>\n      <th></th>\n      <th></th>\n      <th></th>\n      <th></th>\n      <th></th>\n      <th></th>\n    </tr>\n  </thead>\n  <tbody>\n    <tr>\n      <th>10001</th>\n      <td>1988</td>\n      <td>0.267605</td>\n      <td>60.422343</td>\n      <td>1.145192</td>\n      <td>1.850382</td>\n      <td>6.362250</td>\n    </tr>\n    <tr>\n      <th>10002</th>\n      <td>1988</td>\n      <td>0.023970</td>\n      <td>-35.235672</td>\n      <td>NaN</td>\n      <td>2.286519</td>\n      <td>9.840625</td>\n    </tr>\n    <tr>\n      <th>10003</th>\n      <td>1988</td>\n      <td>0.213007</td>\n      <td>-61.669376</td>\n      <td>NaN</td>\n      <td>3.730165</td>\n      <td>41.686000</td>\n    </tr>\n    <tr>\n      <th>10005</th>\n      <td>1988</td>\n      <td>0.619461</td>\n      <td>-41.703333</td>\n      <td>1.632601</td>\n      <td>-0.241753</td>\n      <td>0.785250</td>\n    </tr>\n    <tr>\n      <th>10008</th>\n      <td>1988</td>\n      <td>0.869109</td>\n      <td>NaN</td>\n      <td>NaN</td>\n      <td>NaN</td>\n      <td>NaN</td>\n    </tr>\n  </tbody>\n</table>\n</div>",
      "text/plain": "        year      beta       rt+1        bm      size     mktcap\npermno                                                          \n10001   1988  0.267605  60.422343  1.145192  1.850382   6.362250\n10002   1988  0.023970 -35.235672       NaN  2.286519   9.840625\n10003   1988  0.213007 -61.669376       NaN  3.730165  41.686000\n10005   1988  0.619461 -41.703333  1.632601 -0.241753   0.785250\n10008   1988  0.869109        NaN       NaN       NaN        NaN"
     },
     "execution_count": 2,
     "metadata": {},
     "output_type": "execute_result"
    }
   ],
   "source": [
    "# 导入各个指标数据\n",
    "df = pd.read_csv('alldata_mktcap.csv', index_col=0)\n",
    "df.head()"
   ]
  },
  {
   "cell_type": "markdown",
   "metadata": {},
   "source": [
    "主要涉及：\n",
    "- 缩尾: `pd.Series.clip()`\n",
    "- 回归：`sm.OLS()`"
   ]
  },
  {
   "cell_type": "markdown",
   "metadata": {},
   "source": [
    "## 6.1 Periodic FM Regression Results\n",
    "\n",
    ">All independent variables are winsorized at the 0.5% level on an annual basis prior to running the regressions."
   ]
  },
  {
   "cell_type": "code",
   "execution_count": 3,
   "metadata": {},
   "outputs": [],
   "source": [
    "def FM_regression1(independent, level=0.005):\n",
    "    '''\n",
    "    FM回归的第一步，即周期的截面回归\n",
    "    按课本展示结果\n",
    "\n",
    "    Parameters\n",
    "    ----------\n",
    "    independent: 自变量名  (list)\n",
    "    level: 缩尾水平，是绝对量，不是百分比  (float, default is 0.005)\n",
    "\n",
    "    Returns\n",
    "    -------\n",
    "    回归结果  (pd.DataFrame)\n",
    "    '''\n",
    "    coefs = []\n",
    "    R_square = []\n",
    "    adj_R = []\n",
    "    number = []\n",
    "    # 筛选出所需指标数据\n",
    "    FM_df = df[(['year', 'rt+1'] + independent)].copy()\n",
    "    for i in range(df['year'].min(), df['year'].max()):  # 不能取2012年数据\n",
    "        temp = FM_df[FM_df['year'] == i].copy()\n",
    "        temp = temp.dropna()  # 剔除缺失值\n",
    "        number.append(len(temp))  # 样本量\n",
    "        temp = temp.drop(columns='year')\n",
    "        temp[independent] = temp[independent].apply(\n",
    "            lambda x: x.clip(\n",
    "                np.percentile(x, level * 100),\n",
    "                np.percentile(x, (1 - level) * 100)\n",
    "            )\n",
    "        )  # 自变量缩尾\n",
    "        Y = temp['rt+1']  # 因变量\n",
    "        X = temp[independent]  # 自变量\n",
    "        model = sm.OLS(Y.values, sm.add_constant(X).values).fit()\n",
    "        #number.append(model.nobs)\n",
    "        coefs.append(model.params)\n",
    "        R_square.append(model.rsquared)\n",
    "        adj_R.append(model.rsquared_adj)\n",
    "    # 按课本Tabel 6.1\n",
    "    result = pd.DataFrame(\n",
    "        coefs,\n",
    "        index=range(df['year'].min(), df['year'].max()),\n",
    "        columns=['coef' + str(j) for j in range(len(independent) + 1)]\n",
    "    )\n",
    "    result['R_square'] = R_square\n",
    "    result['adj_R'] = adj_R\n",
    "    result['n'] = number\n",
    "\n",
    "    return result"
   ]
  },
  {
   "cell_type": "markdown",
   "metadata": {},
   "source": [
    "### 6.1.1 Panel A  \n",
    "$$r_{i,t+1}=\\delta _{0,t}+\\delta _{1,t}\\beta _{i,t}+\\epsilon _{i,t}$$"
   ]
  },
  {
   "cell_type": "code",
   "execution_count": 4,
   "metadata": {},
   "outputs": [],
   "source": [
    "panelA_result = FM_regression1(['beta'], level=0.005)"
   ]
  },
  {
   "cell_type": "code",
   "execution_count": 5,
   "metadata": {},
   "outputs": [
    {
     "data": {
      "text/html": "<div>\n<style scoped>\n    .dataframe tbody tr th:only-of-type {\n        vertical-align: middle;\n    }\n\n    .dataframe tbody tr th {\n        vertical-align: top;\n    }\n\n    .dataframe thead th {\n        text-align: right;\n    }\n</style>\n<table border=\"1\" class=\"dataframe\">\n  <thead>\n    <tr style=\"text-align: right;\">\n      <th></th>\n      <th>coef0</th>\n      <th>coef1</th>\n      <th>R_square</th>\n      <th>adj_R</th>\n      <th>n</th>\n    </tr>\n  </thead>\n  <tbody>\n    <tr>\n      <th>1988</th>\n      <td>3.08</td>\n      <td>4.05</td>\n      <td>0.001</td>\n      <td>0.001</td>\n      <td>5192</td>\n    </tr>\n    <tr>\n      <th>1989</th>\n      <td>-29.71</td>\n      <td>0.83</td>\n      <td>0.000</td>\n      <td>-0.000</td>\n      <td>5063</td>\n    </tr>\n    <tr>\n      <th>1990</th>\n      <td>44.85</td>\n      <td>10.17</td>\n      <td>0.002</td>\n      <td>0.001</td>\n      <td>5029</td>\n    </tr>\n    <tr>\n      <th>1991</th>\n      <td>38.82</td>\n      <td>-19.32</td>\n      <td>0.009</td>\n      <td>0.009</td>\n      <td>4835</td>\n    </tr>\n    <tr>\n      <th>1992</th>\n      <td>29.72</td>\n      <td>-10.49</td>\n      <td>0.011</td>\n      <td>0.011</td>\n      <td>5099</td>\n    </tr>\n    <tr>\n      <th>1993</th>\n      <td>-5.63</td>\n      <td>-0.83</td>\n      <td>0.000</td>\n      <td>-0.000</td>\n      <td>5296</td>\n    </tr>\n    <tr>\n      <th>1994</th>\n      <td>27.42</td>\n      <td>2.23</td>\n      <td>0.000</td>\n      <td>0.000</td>\n      <td>5685</td>\n    </tr>\n    <tr>\n      <th>1995</th>\n      <td>19.81</td>\n      <td>-7.12</td>\n      <td>0.006</td>\n      <td>0.006</td>\n      <td>5845</td>\n    </tr>\n    <tr>\n      <th>1996</th>\n      <td>34.24</td>\n      <td>-20.21</td>\n      <td>0.031</td>\n      <td>0.031</td>\n      <td>5991</td>\n    </tr>\n    <tr>\n      <th>1997</th>\n      <td>-10.20</td>\n      <td>5.10</td>\n      <td>0.001</td>\n      <td>0.001</td>\n      <td>6006</td>\n    </tr>\n    <tr>\n      <th>1998</th>\n      <td>-1.25</td>\n      <td>54.05</td>\n      <td>0.022</td>\n      <td>0.021</td>\n      <td>5702</td>\n    </tr>\n    <tr>\n      <th>1999</th>\n      <td>-2.20</td>\n      <td>-15.57</td>\n      <td>0.011</td>\n      <td>0.011</td>\n      <td>5336</td>\n    </tr>\n    <tr>\n      <th>2000</th>\n      <td>37.89</td>\n      <td>-23.79</td>\n      <td>0.026</td>\n      <td>0.026</td>\n      <td>5112</td>\n    </tr>\n    <tr>\n      <th>2001</th>\n      <td>9.80</td>\n      <td>-28.31</td>\n      <td>0.122</td>\n      <td>0.122</td>\n      <td>4982</td>\n    </tr>\n    <tr>\n      <th>2002</th>\n      <td>77.55</td>\n      <td>1.14</td>\n      <td>0.000</td>\n      <td>-0.000</td>\n      <td>4608</td>\n    </tr>\n    <tr>\n      <th>2003</th>\n      <td>30.86</td>\n      <td>-15.08</td>\n      <td>0.022</td>\n      <td>0.021</td>\n      <td>4364</td>\n    </tr>\n    <tr>\n      <th>2004</th>\n      <td>9.07</td>\n      <td>-6.24</td>\n      <td>0.008</td>\n      <td>0.008</td>\n      <td>4204</td>\n    </tr>\n    <tr>\n      <th>2005</th>\n      <td>13.55</td>\n      <td>-2.16</td>\n      <td>0.001</td>\n      <td>0.001</td>\n      <td>4152</td>\n    </tr>\n    <tr>\n      <th>2006</th>\n      <td>-13.12</td>\n      <td>4.07</td>\n      <td>0.004</td>\n      <td>0.003</td>\n      <td>4029</td>\n    </tr>\n    <tr>\n      <th>2007</th>\n      <td>-45.52</td>\n      <td>1.72</td>\n      <td>0.001</td>\n      <td>0.000</td>\n      <td>3951</td>\n    </tr>\n    <tr>\n      <th>2008</th>\n      <td>67.99</td>\n      <td>-3.73</td>\n      <td>0.000</td>\n      <td>-0.000</td>\n      <td>3878</td>\n    </tr>\n    <tr>\n      <th>2009</th>\n      <td>17.53</td>\n      <td>8.36</td>\n      <td>0.010</td>\n      <td>0.010</td>\n      <td>3658</td>\n    </tr>\n    <tr>\n      <th>2010</th>\n      <td>0.53</td>\n      <td>-7.57</td>\n      <td>0.011</td>\n      <td>0.011</td>\n      <td>3519</td>\n    </tr>\n    <tr>\n      <th>2011</th>\n      <td>25.95</td>\n      <td>-6.35</td>\n      <td>0.004</td>\n      <td>0.004</td>\n      <td>3417</td>\n    </tr>\n  </tbody>\n</table>\n</div>",
      "text/plain": "      coef0  coef1  R_square  adj_R     n\n1988   3.08   4.05     0.001  0.001  5192\n1989 -29.71   0.83     0.000 -0.000  5063\n1990  44.85  10.17     0.002  0.001  5029\n1991  38.82 -19.32     0.009  0.009  4835\n1992  29.72 -10.49     0.011  0.011  5099\n1993  -5.63  -0.83     0.000 -0.000  5296\n1994  27.42   2.23     0.000  0.000  5685\n1995  19.81  -7.12     0.006  0.006  5845\n1996  34.24 -20.21     0.031  0.031  5991\n1997 -10.20   5.10     0.001  0.001  6006\n1998  -1.25  54.05     0.022  0.021  5702\n1999  -2.20 -15.57     0.011  0.011  5336\n2000  37.89 -23.79     0.026  0.026  5112\n2001   9.80 -28.31     0.122  0.122  4982\n2002  77.55   1.14     0.000 -0.000  4608\n2003  30.86 -15.08     0.022  0.021  4364\n2004   9.07  -6.24     0.008  0.008  4204\n2005  13.55  -2.16     0.001  0.001  4152\n2006 -13.12   4.07     0.004  0.003  4029\n2007 -45.52   1.72     0.001  0.000  3951\n2008  67.99  -3.73     0.000 -0.000  3878\n2009  17.53   8.36     0.010  0.010  3658\n2010   0.53  -7.57     0.011  0.011  3519\n2011  25.95  -6.35     0.004  0.004  3417"
     },
     "execution_count": 5,
     "metadata": {},
     "output_type": "execute_result"
    }
   ],
   "source": [
    "panelA_result.round({\n",
    "    'coef0': 2,\n",
    "    'coef1': 2,\n",
    "    'R_square': 3,\n",
    "    'adj_R': 3\n",
    "})"
   ]
  },
  {
   "cell_type": "markdown",
   "metadata": {},
   "source": [
    "### 6.1.2 Panel B\n",
    "$$r_{i,t+1}=\\delta _{0,t}+\\delta _{1,t}Size _{i,t}+\\epsilon _{i,t}$$\n"
   ]
  },
  {
   "cell_type": "code",
   "execution_count": 6,
   "metadata": {},
   "outputs": [
    {
     "data": {
      "text/html": "<div>\n<style scoped>\n    .dataframe tbody tr th:only-of-type {\n        vertical-align: middle;\n    }\n\n    .dataframe tbody tr th {\n        vertical-align: top;\n    }\n\n    .dataframe thead th {\n        text-align: right;\n    }\n</style>\n<table border=\"1\" class=\"dataframe\">\n  <thead>\n    <tr style=\"text-align: right;\">\n      <th></th>\n      <th>coef0</th>\n      <th>coef1</th>\n      <th>R_square</th>\n      <th>adj_R</th>\n      <th>n</th>\n    </tr>\n  </thead>\n  <tbody>\n    <tr>\n      <th>1988</th>\n      <td>-4.83</td>\n      <td>2.52</td>\n      <td>0.007</td>\n      <td>0.007</td>\n      <td>5516</td>\n    </tr>\n    <tr>\n      <th>1989</th>\n      <td>-34.91</td>\n      <td>1.42</td>\n      <td>0.004</td>\n      <td>0.004</td>\n      <td>5369</td>\n    </tr>\n    <tr>\n      <th>1990</th>\n      <td>78.41</td>\n      <td>-7.50</td>\n      <td>0.013</td>\n      <td>0.013</td>\n      <td>5308</td>\n    </tr>\n    <tr>\n      <th>1991</th>\n      <td>61.75</td>\n      <td>-8.71</td>\n      <td>0.026</td>\n      <td>0.026</td>\n      <td>5272</td>\n    </tr>\n    <tr>\n      <th>1992</th>\n      <td>48.38</td>\n      <td>-6.03</td>\n      <td>0.025</td>\n      <td>0.024</td>\n      <td>5586</td>\n    </tr>\n    <tr>\n      <th>1993</th>\n      <td>-3.89</td>\n      <td>-0.71</td>\n      <td>0.001</td>\n      <td>0.001</td>\n      <td>6030</td>\n    </tr>\n    <tr>\n      <th>1994</th>\n      <td>37.80</td>\n      <td>-1.86</td>\n      <td>0.002</td>\n      <td>0.001</td>\n      <td>6232</td>\n    </tr>\n    <tr>\n      <th>1995</th>\n      <td>21.59</td>\n      <td>-1.68</td>\n      <td>0.002</td>\n      <td>0.002</td>\n      <td>6478</td>\n    </tr>\n    <tr>\n      <th>1996</th>\n      <td>19.05</td>\n      <td>-0.18</td>\n      <td>0.000</td>\n      <td>-0.000</td>\n      <td>6793</td>\n    </tr>\n    <tr>\n      <th>1997</th>\n      <td>-18.34</td>\n      <td>2.15</td>\n      <td>0.004</td>\n      <td>0.003</td>\n      <td>6533</td>\n    </tr>\n    <tr>\n      <th>1998</th>\n      <td>81.88</td>\n      <td>-8.76</td>\n      <td>0.009</td>\n      <td>0.009</td>\n      <td>6063</td>\n    </tr>\n    <tr>\n      <th>1999</th>\n      <td>-18.43</td>\n      <td>1.17</td>\n      <td>0.001</td>\n      <td>0.001</td>\n      <td>5826</td>\n    </tr>\n    <tr>\n      <th>2000</th>\n      <td>66.38</td>\n      <td>-9.45</td>\n      <td>0.038</td>\n      <td>0.038</td>\n      <td>5511</td>\n    </tr>\n    <tr>\n      <th>2001</th>\n      <td>10.59</td>\n      <td>-4.36</td>\n      <td>0.026</td>\n      <td>0.026</td>\n      <td>5114</td>\n    </tr>\n    <tr>\n      <th>2002</th>\n      <td>172.92</td>\n      <td>-18.23</td>\n      <td>0.074</td>\n      <td>0.074</td>\n      <td>4731</td>\n    </tr>\n    <tr>\n      <th>2003</th>\n      <td>38.48</td>\n      <td>-3.22</td>\n      <td>0.011</td>\n      <td>0.011</td>\n      <td>4515</td>\n    </tr>\n    <tr>\n      <th>2004</th>\n      <td>1.39</td>\n      <td>0.28</td>\n      <td>0.000</td>\n      <td>-0.000</td>\n      <td>4459</td>\n    </tr>\n    <tr>\n      <th>2005</th>\n      <td>16.87</td>\n      <td>-0.92</td>\n      <td>0.001</td>\n      <td>0.001</td>\n      <td>4398</td>\n    </tr>\n    <tr>\n      <th>2006</th>\n      <td>-24.02</td>\n      <td>2.51</td>\n      <td>0.009</td>\n      <td>0.009</td>\n      <td>4270</td>\n    </tr>\n    <tr>\n      <th>2007</th>\n      <td>-56.79</td>\n      <td>2.05</td>\n      <td>0.012</td>\n      <td>0.012</td>\n      <td>4225</td>\n    </tr>\n    <tr>\n      <th>2008</th>\n      <td>156.26</td>\n      <td>-16.80</td>\n      <td>0.028</td>\n      <td>0.028</td>\n      <td>3961</td>\n    </tr>\n    <tr>\n      <th>2009</th>\n      <td>32.23</td>\n      <td>-1.02</td>\n      <td>0.001</td>\n      <td>0.001</td>\n      <td>3764</td>\n    </tr>\n    <tr>\n      <th>2010</th>\n      <td>-22.15</td>\n      <td>2.28</td>\n      <td>0.014</td>\n      <td>0.014</td>\n      <td>3661</td>\n    </tr>\n    <tr>\n      <th>2011</th>\n      <td>27.84</td>\n      <td>-1.50</td>\n      <td>0.003</td>\n      <td>0.003</td>\n      <td>3521</td>\n    </tr>\n  </tbody>\n</table>\n</div>",
      "text/plain": "       coef0  coef1  R_square  adj_R     n\n1988   -4.83   2.52     0.007  0.007  5516\n1989  -34.91   1.42     0.004  0.004  5369\n1990   78.41  -7.50     0.013  0.013  5308\n1991   61.75  -8.71     0.026  0.026  5272\n1992   48.38  -6.03     0.025  0.024  5586\n1993   -3.89  -0.71     0.001  0.001  6030\n1994   37.80  -1.86     0.002  0.001  6232\n1995   21.59  -1.68     0.002  0.002  6478\n1996   19.05  -0.18     0.000 -0.000  6793\n1997  -18.34   2.15     0.004  0.003  6533\n1998   81.88  -8.76     0.009  0.009  6063\n1999  -18.43   1.17     0.001  0.001  5826\n2000   66.38  -9.45     0.038  0.038  5511\n2001   10.59  -4.36     0.026  0.026  5114\n2002  172.92 -18.23     0.074  0.074  4731\n2003   38.48  -3.22     0.011  0.011  4515\n2004    1.39   0.28     0.000 -0.000  4459\n2005   16.87  -0.92     0.001  0.001  4398\n2006  -24.02   2.51     0.009  0.009  4270\n2007  -56.79   2.05     0.012  0.012  4225\n2008  156.26 -16.80     0.028  0.028  3961\n2009   32.23  -1.02     0.001  0.001  3764\n2010  -22.15   2.28     0.014  0.014  3661\n2011   27.84  -1.50     0.003  0.003  3521"
     },
     "execution_count": 6,
     "metadata": {},
     "output_type": "execute_result"
    }
   ],
   "source": [
    "panelB_result = FM_regression1(['size'], level=0.005)\n",
    "panelB_result.round({\n",
    "    'coef0': 2,\n",
    "    'coef1': 2,\n",
    "    'R_square': 3,\n",
    "    'adj_R': 3\n",
    "})"
   ]
  },
  {
   "cell_type": "markdown",
   "metadata": {},
   "source": [
    "### 6.1.3 Panel C\n",
    "$$r_{i,t+1}=\\delta _{0,t}+\\delta _{1,t}BM _{i,t}+\\epsilon _{i,t}$$"
   ]
  },
  {
   "cell_type": "code",
   "execution_count": 12,
   "metadata": {},
   "outputs": [
    {
     "data": {
      "text/html": "<div>\n<style scoped>\n    .dataframe tbody tr th:only-of-type {\n        vertical-align: middle;\n    }\n\n    .dataframe tbody tr th {\n        vertical-align: top;\n    }\n\n    .dataframe thead th {\n        text-align: right;\n    }\n</style>\n<table border=\"1\" class=\"dataframe\">\n  <thead>\n    <tr style=\"text-align: right;\">\n      <th></th>\n      <th>coef0</th>\n      <th>coef1</th>\n      <th>R_square</th>\n      <th>adj_R</th>\n      <th>n</th>\n    </tr>\n  </thead>\n  <tbody>\n    <tr>\n      <th>1988</th>\n      <td>3.82</td>\n      <td>2.20</td>\n      <td>0.001</td>\n      <td>0.000</td>\n      <td>4332</td>\n    </tr>\n    <tr>\n      <th>1989</th>\n      <td>-27.37</td>\n      <td>0.42</td>\n      <td>0.000</td>\n      <td>-0.000</td>\n      <td>4254</td>\n    </tr>\n    <tr>\n      <th>1990</th>\n      <td>58.67</td>\n      <td>-4.21</td>\n      <td>0.002</td>\n      <td>0.001</td>\n      <td>4264</td>\n    </tr>\n    <tr>\n      <th>1991</th>\n      <td>9.74</td>\n      <td>13.74</td>\n      <td>0.014</td>\n      <td>0.014</td>\n      <td>4232</td>\n    </tr>\n    <tr>\n      <th>1992</th>\n      <td>15.76</td>\n      <td>8.39</td>\n      <td>0.006</td>\n      <td>0.006</td>\n      <td>4545</td>\n    </tr>\n    <tr>\n      <th>1993</th>\n      <td>-15.90</td>\n      <td>13.75</td>\n      <td>0.019</td>\n      <td>0.019</td>\n      <td>4985</td>\n    </tr>\n    <tr>\n      <th>1994</th>\n      <td>26.95</td>\n      <td>1.59</td>\n      <td>0.000</td>\n      <td>-0.000</td>\n      <td>5306</td>\n    </tr>\n    <tr>\n      <th>1995</th>\n      <td>4.01</td>\n      <td>15.42</td>\n      <td>0.013</td>\n      <td>0.013</td>\n      <td>5518</td>\n    </tr>\n    <tr>\n      <th>1996</th>\n      <td>4.03</td>\n      <td>14.70</td>\n      <td>0.013</td>\n      <td>0.013</td>\n      <td>5825</td>\n    </tr>\n    <tr>\n      <th>1997</th>\n      <td>-10.84</td>\n      <td>7.29</td>\n      <td>0.002</td>\n      <td>0.002</td>\n      <td>5653</td>\n    </tr>\n    <tr>\n      <th>1998</th>\n      <td>53.21</td>\n      <td>-11.38</td>\n      <td>0.002</td>\n      <td>0.001</td>\n      <td>5201</td>\n    </tr>\n    <tr>\n      <th>1999</th>\n      <td>-19.57</td>\n      <td>8.58</td>\n      <td>0.007</td>\n      <td>0.007</td>\n      <td>4975</td>\n    </tr>\n    <tr>\n      <th>2000</th>\n      <td>6.39</td>\n      <td>10.90</td>\n      <td>0.019</td>\n      <td>0.018</td>\n      <td>4729</td>\n    </tr>\n    <tr>\n      <th>2001</th>\n      <td>-24.02</td>\n      <td>8.35</td>\n      <td>0.020</td>\n      <td>0.020</td>\n      <td>4381</td>\n    </tr>\n    <tr>\n      <th>2002</th>\n      <td>64.13</td>\n      <td>22.83</td>\n      <td>0.028</td>\n      <td>0.028</td>\n      <td>4020</td>\n    </tr>\n    <tr>\n      <th>2003</th>\n      <td>13.80</td>\n      <td>13.53</td>\n      <td>0.011</td>\n      <td>0.011</td>\n      <td>3844</td>\n    </tr>\n    <tr>\n      <th>2004</th>\n      <td>0.13</td>\n      <td>7.92</td>\n      <td>0.003</td>\n      <td>0.003</td>\n      <td>3809</td>\n    </tr>\n    <tr>\n      <th>2005</th>\n      <td>7.80</td>\n      <td>8.45</td>\n      <td>0.005</td>\n      <td>0.005</td>\n      <td>3740</td>\n    </tr>\n    <tr>\n      <th>2006</th>\n      <td>-3.43</td>\n      <td>-5.50</td>\n      <td>0.002</td>\n      <td>0.001</td>\n      <td>3632</td>\n    </tr>\n    <tr>\n      <th>2007</th>\n      <td>-45.51</td>\n      <td>-1.08</td>\n      <td>0.000</td>\n      <td>-0.000</td>\n      <td>3607</td>\n    </tr>\n    <tr>\n      <th>2008</th>\n      <td>32.84</td>\n      <td>35.97</td>\n      <td>0.083</td>\n      <td>0.083</td>\n      <td>3392</td>\n    </tr>\n    <tr>\n      <th>2009</th>\n      <td>24.38</td>\n      <td>5.83</td>\n      <td>0.004</td>\n      <td>0.004</td>\n      <td>3225</td>\n    </tr>\n    <tr>\n      <th>2010</th>\n      <td>-7.44</td>\n      <td>-1.40</td>\n      <td>0.000</td>\n      <td>0.000</td>\n      <td>3145</td>\n    </tr>\n    <tr>\n      <th>2011</th>\n      <td>13.39</td>\n      <td>4.67</td>\n      <td>0.005</td>\n      <td>0.005</td>\n      <td>3038</td>\n    </tr>\n  </tbody>\n</table>\n</div>",
      "text/plain": "      coef0  coef1  R_square  adj_R     n\n1988   3.82   2.20     0.001  0.000  4332\n1989 -27.37   0.42     0.000 -0.000  4254\n1990  58.67  -4.21     0.002  0.001  4264\n1991   9.74  13.74     0.014  0.014  4232\n1992  15.76   8.39     0.006  0.006  4545\n1993 -15.90  13.75     0.019  0.019  4985\n1994  26.95   1.59     0.000 -0.000  5306\n1995   4.01  15.42     0.013  0.013  5518\n1996   4.03  14.70     0.013  0.013  5825\n1997 -10.84   7.29     0.002  0.002  5653\n1998  53.21 -11.38     0.002  0.001  5201\n1999 -19.57   8.58     0.007  0.007  4975\n2000   6.39  10.90     0.019  0.018  4729\n2001 -24.02   8.35     0.020  0.020  4381\n2002  64.13  22.83     0.028  0.028  4020\n2003  13.80  13.53     0.011  0.011  3844\n2004   0.13   7.92     0.003  0.003  3809\n2005   7.80   8.45     0.005  0.005  3740\n2006  -3.43  -5.50     0.002  0.001  3632\n2007 -45.51  -1.08     0.000 -0.000  3607\n2008  32.84  35.97     0.083  0.083  3392\n2009  24.38   5.83     0.004  0.004  3225\n2010  -7.44  -1.40     0.000  0.000  3145\n2011  13.39   4.67     0.005  0.005  3038"
     },
     "execution_count": 12,
     "metadata": {},
     "output_type": "execute_result"
    }
   ],
   "source": [
    "panelC_result = FM_regression1(['bm'], level=0.005)\n",
    "panelC_result.round({\n",
    "    'coef0': 2,\n",
    "    'coef1': 2,\n",
    "    'R_square': 3,\n",
    "    'adj_R': 3\n",
    "})"
   ]
  },
  {
   "cell_type": "markdown",
   "metadata": {},
   "source": [
    "### 6.1.4 Panel D\n",
    "$$r_{i,t+1}=\\delta _{0,t}+\\delta _{1,t}\\beta _{i,t}+\\delta _{2,t}Size_{i,t}+\\delta _{3,t}BM_{i,t}+\\epsilon _{i,t}$$"
   ]
  },
  {
   "cell_type": "code",
   "execution_count": 11,
   "metadata": {},
   "outputs": [
    {
     "data": {
      "text/html": "<div>\n<style scoped>\n    .dataframe tbody tr th:only-of-type {\n        vertical-align: middle;\n    }\n\n    .dataframe tbody tr th {\n        vertical-align: top;\n    }\n\n    .dataframe thead th {\n        text-align: right;\n    }\n</style>\n<table border=\"1\" class=\"dataframe\">\n  <thead>\n    <tr style=\"text-align: right;\">\n      <th></th>\n      <th>coef0</th>\n      <th>coef1</th>\n      <th>coef2</th>\n      <th>coef3</th>\n      <th>R_square</th>\n      <th>adj_R</th>\n      <th>n</th>\n    </tr>\n  </thead>\n  <tbody>\n    <tr>\n      <th>1988</th>\n      <td>-7.37</td>\n      <td>-1.39</td>\n      <td>2.91</td>\n      <td>3.24</td>\n      <td>0.009</td>\n      <td>0.008</td>\n      <td>4147</td>\n    </tr>\n    <tr>\n      <th>1989</th>\n      <td>-32.32</td>\n      <td>-2.58</td>\n      <td>1.51</td>\n      <td>1.04</td>\n      <td>0.003</td>\n      <td>0.003</td>\n      <td>4062</td>\n    </tr>\n    <tr>\n      <th>1990</th>\n      <td>96.33</td>\n      <td>28.62</td>\n      <td>-13.90</td>\n      <td>-7.84</td>\n      <td>0.033</td>\n      <td>0.033</td>\n      <td>4085</td>\n    </tr>\n    <tr>\n      <th>1991</th>\n      <td>46.52</td>\n      <td>-5.88</td>\n      <td>-6.92</td>\n      <td>9.81</td>\n      <td>0.032</td>\n      <td>0.031</td>\n      <td>3941</td>\n    </tr>\n    <tr>\n      <th>1992</th>\n      <td>45.03</td>\n      <td>-5.24</td>\n      <td>-5.05</td>\n      <td>3.92</td>\n      <td>0.027</td>\n      <td>0.027</td>\n      <td>4247</td>\n    </tr>\n    <tr>\n      <th>1993</th>\n      <td>-15.89</td>\n      <td>2.11</td>\n      <td>-0.16</td>\n      <td>13.98</td>\n      <td>0.020</td>\n      <td>0.019</td>\n      <td>4526</td>\n    </tr>\n    <tr>\n      <th>1994</th>\n      <td>36.98</td>\n      <td>5.67</td>\n      <td>-3.03</td>\n      <td>0.28</td>\n      <td>0.004</td>\n      <td>0.004</td>\n      <td>4953</td>\n    </tr>\n    <tr>\n      <th>1995</th>\n      <td>16.50</td>\n      <td>-5.17</td>\n      <td>-1.11</td>\n      <td>11.24</td>\n      <td>0.015</td>\n      <td>0.015</td>\n      <td>5094</td>\n    </tr>\n    <tr>\n      <th>1996</th>\n      <td>7.04</td>\n      <td>-13.28</td>\n      <td>2.09</td>\n      <td>11.59</td>\n      <td>0.026</td>\n      <td>0.026</td>\n      <td>5243</td>\n    </tr>\n    <tr>\n      <th>1997</th>\n      <td>-26.41</td>\n      <td>3.17</td>\n      <td>2.33</td>\n      <td>10.79</td>\n      <td>0.008</td>\n      <td>0.008</td>\n      <td>5274</td>\n    </tr>\n    <tr>\n      <th>1998</th>\n      <td>92.48</td>\n      <td>75.45</td>\n      <td>-18.90</td>\n      <td>-14.32</td>\n      <td>0.051</td>\n      <td>0.050</td>\n      <td>4959</td>\n    </tr>\n    <tr>\n      <th>1999</th>\n      <td>-37.27</td>\n      <td>-26.00</td>\n      <td>6.44</td>\n      <td>6.84</td>\n      <td>0.034</td>\n      <td>0.033</td>\n      <td>4596</td>\n    </tr>\n    <tr>\n      <th>2000</th>\n      <td>65.64</td>\n      <td>-17.56</td>\n      <td>-7.17</td>\n      <td>4.74</td>\n      <td>0.053</td>\n      <td>0.052</td>\n      <td>4405</td>\n    </tr>\n    <tr>\n      <th>2001</th>\n      <td>2.56</td>\n      <td>-23.04</td>\n      <td>-0.68</td>\n      <td>4.52</td>\n      <td>0.100</td>\n      <td>0.099</td>\n      <td>4283</td>\n    </tr>\n    <tr>\n      <th>2002</th>\n      <td>164.36</td>\n      <td>39.21</td>\n      <td>-23.05</td>\n      <td>12.97</td>\n      <td>0.107</td>\n      <td>0.106</td>\n      <td>3933</td>\n    </tr>\n    <tr>\n      <th>2003</th>\n      <td>35.40</td>\n      <td>-14.23</td>\n      <td>-1.45</td>\n      <td>9.49</td>\n      <td>0.037</td>\n      <td>0.037</td>\n      <td>3739</td>\n    </tr>\n    <tr>\n      <th>2004</th>\n      <td>-1.41</td>\n      <td>-8.22</td>\n      <td>1.66</td>\n      <td>8.02</td>\n      <td>0.018</td>\n      <td>0.017</td>\n      <td>3602</td>\n    </tr>\n    <tr>\n      <th>2005</th>\n      <td>17.23</td>\n      <td>-2.20</td>\n      <td>-1.04</td>\n      <td>6.83</td>\n      <td>0.008</td>\n      <td>0.007</td>\n      <td>3547</td>\n    </tr>\n    <tr>\n      <th>2006</th>\n      <td>-18.56</td>\n      <td>0.26</td>\n      <td>2.24</td>\n      <td>-4.06</td>\n      <td>0.010</td>\n      <td>0.009</td>\n      <td>3441</td>\n    </tr>\n    <tr>\n      <th>2007</th>\n      <td>-58.48</td>\n      <td>-3.31</td>\n      <td>2.52</td>\n      <td>0.16</td>\n      <td>0.016</td>\n      <td>0.015</td>\n      <td>3373</td>\n    </tr>\n    <tr>\n      <th>2008</th>\n      <td>101.61</td>\n      <td>13.67</td>\n      <td>-13.47</td>\n      <td>30.52</td>\n      <td>0.095</td>\n      <td>0.094</td>\n      <td>3323</td>\n    </tr>\n    <tr>\n      <th>2009</th>\n      <td>31.65</td>\n      <td>10.92</td>\n      <td>-2.85</td>\n      <td>3.18</td>\n      <td>0.021</td>\n      <td>0.020</td>\n      <td>3136</td>\n    </tr>\n    <tr>\n      <th>2010</th>\n      <td>-14.44</td>\n      <td>-13.14</td>\n      <td>3.42</td>\n      <td>-0.52</td>\n      <td>0.041</td>\n      <td>0.040</td>\n      <td>3029</td>\n    </tr>\n    <tr>\n      <th>2011</th>\n      <td>17.45</td>\n      <td>-3.54</td>\n      <td>0.10</td>\n      <td>4.19</td>\n      <td>0.005</td>\n      <td>0.004</td>\n      <td>2951</td>\n    </tr>\n  </tbody>\n</table>\n</div>",
      "text/plain": "       coef0  coef1  coef2  coef3  R_square  adj_R     n\n1988   -7.37  -1.39   2.91   3.24     0.009  0.008  4147\n1989  -32.32  -2.58   1.51   1.04     0.003  0.003  4062\n1990   96.33  28.62 -13.90  -7.84     0.033  0.033  4085\n1991   46.52  -5.88  -6.92   9.81     0.032  0.031  3941\n1992   45.03  -5.24  -5.05   3.92     0.027  0.027  4247\n1993  -15.89   2.11  -0.16  13.98     0.020  0.019  4526\n1994   36.98   5.67  -3.03   0.28     0.004  0.004  4953\n1995   16.50  -5.17  -1.11  11.24     0.015  0.015  5094\n1996    7.04 -13.28   2.09  11.59     0.026  0.026  5243\n1997  -26.41   3.17   2.33  10.79     0.008  0.008  5274\n1998   92.48  75.45 -18.90 -14.32     0.051  0.050  4959\n1999  -37.27 -26.00   6.44   6.84     0.034  0.033  4596\n2000   65.64 -17.56  -7.17   4.74     0.053  0.052  4405\n2001    2.56 -23.04  -0.68   4.52     0.100  0.099  4283\n2002  164.36  39.21 -23.05  12.97     0.107  0.106  3933\n2003   35.40 -14.23  -1.45   9.49     0.037  0.037  3739\n2004   -1.41  -8.22   1.66   8.02     0.018  0.017  3602\n2005   17.23  -2.20  -1.04   6.83     0.008  0.007  3547\n2006  -18.56   0.26   2.24  -4.06     0.010  0.009  3441\n2007  -58.48  -3.31   2.52   0.16     0.016  0.015  3373\n2008  101.61  13.67 -13.47  30.52     0.095  0.094  3323\n2009   31.65  10.92  -2.85   3.18     0.021  0.020  3136\n2010  -14.44 -13.14   3.42  -0.52     0.041  0.040  3029\n2011   17.45  -3.54   0.10   4.19     0.005  0.004  2951"
     },
     "execution_count": 11,
     "metadata": {},
     "output_type": "execute_result"
    }
   ],
   "source": [
    "panelD_result = FM_regression1(['beta', 'size', 'bm'], level=0.005)\n",
    "panelD_result.round({\n",
    "    'coef0': 2,\n",
    "    'coef1': 2,\n",
    "    'coef2': 2,\n",
    "    'coef3': 2,\n",
    "    'R_square': 3,\n",
    "    'adj_R': 3\n",
    "})"
   ]
  },
  {
   "cell_type": "markdown",
   "metadata": {},
   "source": [
    "## 6.2 Summarized FM Regression Results\n",
    ">Standard errors, t-statistics, and p-values are calculated using the Newey and West (1987) adjustment with six lags."
   ]
  },
  {
   "cell_type": "code",
   "execution_count": 21,
   "metadata": {},
   "outputs": [],
   "source": [
    "def NWtest_1sample(a, lags=6):\n",
    "    '''\n",
    "    一个序列的NW检验\n",
    "\n",
    "    Parameters\n",
    "    ----------\n",
    "    a: 需要检验的序列  (array-like)\n",
    "    lags: NW检验的最大滞后阶数  (float)\n",
    "\n",
    "    Returns\n",
    "    -------\n",
    "    序列均值  (float)\n",
    "    NW调整后标准误  (float)\n",
    "    NW调整后标准误  (float)\n",
    "    p值  (float)\n",
    "    '''\n",
    "    adj_a = np.array(a)\n",
    "    # 对常数回归\n",
    "    model = sm.OLS(adj_a, [1] * len(adj_a)).fit(cov_type='HAC', cov_kwds={'maxlags': lags})\n",
    "\n",
    "    return adj_a.mean(), float(np.sqrt(model.cov_params())), float(model.tvalues), float(model.pvalues)\n",
    "\n",
    "def test_table61(data, name, **kwds):\n",
    "    '''\n",
    "    将table 6.1中的一个panel转化成6.2中一列的形式并保存\n",
    "\n",
    "    Parameters\n",
    "    ----------\n",
    "    data: 6.1中一个panel样式的数据  (pd.DaFrame)\n",
    "    name: 结果名，含扩展名  (str)\n",
    "    '''\n",
    "    # 系数的NW检验\n",
    "    result1 = data.iloc[:, :-3].apply(NWtest_1sample, **kwds)\n",
    "    result1 = np.array([list(x) for x in result1.values]).reshape(-1)  # 转化成一维\n",
    "    # 最后三列求平均值即可\n",
    "    result2 = data.iloc[:, -3:].mean().values\n",
    "\n",
    "    # 转成df保存\n",
    "    result = pd.DataFrame(list(result1) + list(result2))\n",
    "    result.to_csv(name)"
   ]
  },
  {
   "cell_type": "code",
   "execution_count": 20,
   "metadata": {},
   "outputs": [
    {
     "data": {
      "text/plain": "[None, None, None, None]"
     },
     "execution_count": 20,
     "metadata": {},
     "output_type": "execute_result"
    }
   ],
   "source": [
    "# 四个panel全部检验\n",
    "[test_table61(i, 'panel' + j + 'test.csv') for i, j in zip([panelA_result, panelB_result, panelC_result, panelD_result], ['A', 'B', 'C', 'D'])]"
   ]
  },
  {
   "cell_type": "markdown",
   "metadata": {},
   "source": [
    "Table 6.2结果如下：\n",
    "\n",
    "![Table6_2.png](./Table6_2.png)"
   ]
  },
  {
   "cell_type": "markdown",
   "metadata": {},
   "source": [
    "## 6.3 FM Regression Results"
   ]
  },
  {
   "cell_type": "markdown",
   "metadata": {},
   "source": [
    "Table 6.3如下：\n",
    "\n",
    "![Table6_3.png](./Table6_3.png)"
   ]
  },
  {
   "cell_type": "markdown",
   "metadata": {},
   "source": [
    "### 思考\n",
    "尽管与课本结果不太一样，但是整体系数及显著性反应的规律基本一样，可能问题主要还是出在：\n",
    "- 样本股票池。\n",
    "- 计算年化r时，可能与数据库计算年收益率的规则不一样。"
   ]
  }
 ]
}
