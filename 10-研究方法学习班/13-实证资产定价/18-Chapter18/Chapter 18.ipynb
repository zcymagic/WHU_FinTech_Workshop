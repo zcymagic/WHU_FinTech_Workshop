{
 "cells": [
  {
   "cell_type": "markdown",
   "metadata": {},
   "source": [
    "# 18 OTHER STOCK RETURN PREDICTORS"
   ]
  },
  {
   "cell_type": "markdown",
   "metadata": {},
   "source": [
    "## 18.1 ASSET GROWTH\n",
    "There is a long line of research that has demonstrated a negative relation between changes in firm-level assets and future stock returns. Specifically, several studies have shown that firms tend to experience negative abnormal returns in periods following actions that increase assets (equity offerings and acquisitions), whereas firms that decrease assets (share repurchases and spinoffs) tend to realize positive abnormal returns in subsequent periods.\n",
    "\n",
    "- *Ritter (1991) and Loughran (1993)*: stocks experience negative abnormal returns in the years after an initial public offering.\n",
    "- *Loughran and Ritter (1995)* document a similar pattern in returns following seasoned public equity offerings.\n",
    "\n",
    "\n",
    "- *Agrawal, Jaffe, and Mandelker (1992), Loughran and Vijh (1997), and Rau and Vermaelen (1998)* find that acquiring firms realize very low returns subsequent to the acquisition.\n",
    "- *Cusatis,Miles, andWoolridge (1993) and McConnell and Ovtchinnikov (2004)* find that firms that execute spinoffs realize positive abnormal returns subsequent to the spinoff event."
   ]
  },
  {
   "cell_type": "markdown",
   "metadata": {},
   "source": [
    "## 18.2 INVESTOR SENTIMENT\n",
    "Investor sentiment can roughly be thought of as the deviation between investors’ view of the prospects for a stock and a purely rational assessment of the stock’s prospects.\n",
    "\n",
    "**First, many papers find evidence that investors underreact to news in the short run.**\n",
    "- *Ball and Brown (1968), Foster, Olsen, and Shevlin (1984), and Bernard and Thomas (1989, 1990)* demonstrate a phenomenon known as post earnings announcement drift, which refers to the empirical finding that firms realizing positive (negative) earnings surprises experience, on average, positive (negative) abnormal returns for many months subsequent to the earnings announcement, indicating that investors underreact to the earnings news. \n",
    "\n",
    "\n",
    "**Second, several researchers find that over periods of many years, investors tend to overreact to new information.**\n",
    "- *Cutler et al. (1991)* demonstrate that over periods of three to five years, returns tend to exhibit negative autocorrelation.\n",
    "\n",
    "\n",
    "**relation between investor sentiment and future security returns**\n",
    "- *Neal and Wheatley (1998)* find evidence that investor sentiment partially explains the size effect."
   ]
  },
  {
   "cell_type": "markdown",
   "metadata": {},
   "source": [
    "## 18.3 INVESTOR ATTENTION\n",
    "The literature on investor attention is related to the research on investor sentiment in that its main objective is to **explain the underreaction of stock prices to relevant news**.  \n",
    "However, the work on investor attention posits another driver of these phenomena, **specifically investors’ limited attention capacity**.  \n",
    "Kahneman (1973)’s theory of attention indicates that attention is a scarce cognitive resource. The implication of attention theory in financial markets is that **limited availability of time and cognitive resources imposes constraints on how fast investors can process information**.  \n",
    "\n",
    "Recent **theoretical models** have shown that limited investor attention can lead to underreaction to information and thus slow price adjustments.\n",
    "- *Peng (2005)* derives an equilibrium model in which investors optimally allocate their attention.\n",
    "- *Peng and Xiong (2006)* find that limited attention capacity leads investors to focus on market-level and sector-level information and to ignore firm-specific information.  \n",
    "\n",
    "This central prediction derived from models of investor inattention has been confirmed by several recent **empirical studies**.\n",
    "- *Hirshleifer, Lim, and Teoh (2009)* find that stock price reaction to earnings announcements is slower, and post earnings announcement drift is much stronger, for earnings announced on days with a large number of earnings announcements, when investor attention is a highly scarce resource.\n",
    "- *DellaVigna and Pollet (2009)* demonstrate that investors react much more slowly to earnings news released on Fridays, when investor attention is likely to be low."
   ]
  },
  {
   "cell_type": "markdown",
   "metadata": {},
   "source": [
    "## 18.4 DIFFERENCES OF OPINION\n",
    "*Miller (1977)* hypothesizes that stock prices reflect an upward bias as long as there exists divergence of opinion among investors about stock value and pessimistic investors are constrained with respect to the size of the short position they can take. In Miller’s model, overvaluation arises **because potential short-sellers are restricted to hold zero shares**.  \n",
    "\n",
    "The role of differences of opinion in the cross section of stock returns has been empirically examined in several papers.  \n",
    "- *Diether, Malloy, and Scherbina (2002)* use dispersion in analysts earnings forecasts as a proxy for divergence of opinion and find that stocks with higher analyst forecast dispersion generate significantly lower future returns than those with lower dispersion.\n",
    "- *Berkman, Dimitrov, Jain, Koch, and Tice (2009)* assume that earnings announcements reduce differences of opinion and find that stocks with previously high differences of opinions earn lower returns around earnings announcements than stocks with previously low differences of opinions."
   ]
  },
  {
   "cell_type": "markdown",
   "metadata": {},
   "source": [
    "## 18.5 PROFITABILITY AND INVESTMENT\n",
    "There is a long line of research that investigates the relation between **accounting ratios and expected stock returns**. This research has produced two main results.  \n",
    "\n",
    "The first of these results is that there is a **strong positive relation between profitability and expected stock returns**.\n",
    "- *Haugen and Baker (1996) and Cohen, Gompers, and Vuolteenaho (2002)*: return on equity\n",
    "- *Bali, Demirtas, and Tehranian (2008)*: the ratio of earnings to total assets\n",
    "- *Novy-Marx (2013)*: the ratio of profits (revenues minus cost of goods sold) to assets  \n",
    "\n",
    "The second result is that there exists a **negative relation between investment and future stock returns**.\n",
    "- *Fairfield, Whisenant, and Yohn (2003)*: accruals and net operating assets\n",
    "- *Titman, Wei, and Xie (2004)*: growth in capital investment, measured as the ratio of recent capital expenditures to historical capital expenditures\n",
    "- *Cooper, Gulen, and Schill (2008)*: growth in total assets\n",
    "- *Aharoni, Grundy, and Zeng (2013)*: expected investment"
   ]
  },
  {
   "cell_type": "markdown",
   "metadata": {},
   "source": [
    "## 18.6 LOTTERY DEMAND\n",
    "The main premise of the lottery demand literature is that some investors demand lottery-like stocks, or stocks that are more likely to experience large short-term increases in value.  \n",
    "\n",
    "Recent work has uncovered strong evidence that lottery demand plays an important role in financial markets.\n",
    "- *Kumar (2009)* uses demographic data to demonstrate that investors who are more likely to play the lottery are also more likely to invest in lottery-like stocks, where lottery-like stocks are defined as stocks with low prices (below $5) whose returns exhibit high idiosyncratic volatility and high idiosyncratic skewness. \n",
    "- *Bali, Cakici, and Whitelaw (2011)* examine the effect of lottery demand on stock pricing. Measuring lottery demand using MAX, defined as the highest daily return in the given month, Bali et al. (2011) find a strong negative relation between lottery demand and future U.S. stock returns.  \n",
    "\n",
    "While the negative relation between lottery demand and future stock returns is interesting in its own right, there is substantial evidence that **this relation may be a driving factor in some of the most persistent and confusing phenomena documented in the empirical asset pricing literature**.\n",
    "- *Bali et al. (2011)* present evidence that the idiosyncratic volatility puzzle of Ang, Hodrick, Xing, and Zhang (2006) (see Chapter 15) is explained by lottery demand and that, after controlling for lottery demand, the relation between idiosyncratic volatility and future stock returns is positive."
   ]
  }
 ],
 "metadata": {
  "language_info": {
   "codemirror_mode": {
    "name": "ipython",
    "version": 3
   },
   "file_extension": ".py",
   "mimetype": "text/x-python",
   "name": "python",
   "nbconvert_exporter": "python",
   "pygments_lexer": "ipython3",
   "version": 3
  },
  "orig_nbformat": 2
 },
 "nbformat": 4,
 "nbformat_minor": 2
}