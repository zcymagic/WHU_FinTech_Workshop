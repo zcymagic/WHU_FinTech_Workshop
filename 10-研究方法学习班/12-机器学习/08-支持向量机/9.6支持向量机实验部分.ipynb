{
 "cells": [
  {
   "cell_type": "markdown",
   "metadata": {},
   "source": [
    "# 9 Support Vector Machines"
   ]
  },
  {
   "cell_type": "markdown",
   "metadata": {},
   "source": [
    "## 9.6 实验: 支持向量机"
   ]
  },
  {
   "cell_type": "code",
   "execution_count": 4,
   "metadata": {},
   "outputs": [],
   "source": [
    "import numpy as np\n",
    "import pandas as pd\n",
    "from matplotlib import pyplot as plt\n",
    "from random import sample\n",
    "from sklearn import svm\n",
    "from sklearn.model_selection import cross_val_score, train_test_split\n",
    "from sklearn.metrics import accuracy_score, roc_curve, auc\n",
    "from sklearn.metrics import confusion_matrix\n",
    "from sklearn.multiclass import OneVsRestClassifier"
   ]
  },
  {
   "cell_type": "markdown",
   "metadata": {},
   "source": [
    "### 9.6.1 支持向量分类器"
   ]
  },
  {
   "cell_type": "markdown",
   "metadata": {},
   "source": [
    "cost参数用来设置观测穿过间隔的成本。如果cost参数值设置较小，那么间隔就会很宽，许多支持向量会落在间隔上或者穿过间隔。如果cost参数设置较大，那么间隔就会很窄，更少的支持向量会落在间隔上或者穿过间隔。"
   ]
  },
  {
   "cell_type": "markdown",
   "metadata": {},
   "source": [
    "接下来使用svm.SVC()函数来拟合给定cost参数值的支持向量分类器。这里展示的是这个函数在二维数据上的应用，并依次画出决策边界。"
   ]
  },
  {
   "cell_type": "markdown",
   "metadata": {},
   "source": [
    "首先生成属于两个不同类别的观测。"
   ]
  },
  {
   "cell_type": "code",
   "execution_count": 12,
   "metadata": {},
   "outputs": [],
   "source": [
    "np.random.seed(1)\n",
    "x = np.random.randn(20,2)\n",
    "y = [-1]*10 + [1]*10\n",
    "x[10:20,0:2] = x[10:20,0:2] + 1 "
   ]
  },
  {
   "cell_type": "markdown",
   "metadata": {},
   "source": [
    "检查不同类别是否线性可分的。"
   ]
  },
  {
   "cell_type": "code",
   "execution_count": 6,
   "metadata": {},
   "outputs": [],
   "source": [
    "# 绘制样本分布\n",
    "def plot_data(X, y, type_list):\n",
    "    plt.figure(figsize=(6, 5))\n",
    "    pos = np.where(y == type_list[0]) # to find y=1\n",
    "    neg = np.where(y == type_list[1]) # to find y=-1\n",
    "    p1, = plt.plot(np.ravel(X[pos, 0]), np.ravel(X[pos, 1]), 'o', color = 'lightpink', markersize=8)\n",
    "    p2, = plt.plot(np.ravel(X[neg, 0]), np.ravel(X[neg, 1]), 'o', color = 'lightblue', markersize=8)\n",
    "    plt.xlabel(\"X1\")\n",
    "    plt.ylabel(\"X2\")\n",
    "    plt.legend([p1, p2], [\"y==\"+str(type_list[0]), \"y==\"+str(type_list[1])])\n",
    "    return plt\n",
    "\n",
    "# 绘制决策边界\n",
    "def plot_decisionBoundary(X, y, model, type_list, class_='linear'):\n",
    "    plt = plot_data(X, y, type_list)\n",
    "  \n",
    "    # 线性 \n",
    "    if class_ == 'linear':\n",
    "        w = model.coef_\n",
    "        b = model.intercept_\n",
    "        xp = np.linspace(np.min(X[:, 0]), np.max(X[:, 0]), 100)\n",
    "        yp = -(w[0, 0] * xp + b) / w[0, 1]\n",
    "        plt.plot(xp, yp, 'k-', linewidth=2.0) # 决策边界\n",
    "        plt.plot(model.support_vectors_[:,0], model.support_vectors_[:,1], 'kx', markersize=8) # 支持向量\n",
    "    else: # 非线性\n",
    "        x_1 = np.transpose(np.linspace(np.min(X[:, 0]), np.max(X[:, 0]), 100).reshape(1, -1))\n",
    "        x_2 = np.transpose(np.linspace(np.min(X[:, 1]), np.max(X[:, 1]), 100).reshape(1, -1))\n",
    "        X1, X2 = np.meshgrid(x_1, x_2)\n",
    "        vals = np.zeros(X1.shape)\n",
    "        for i in range(X1.shape[1]):\n",
    "            this_X = np.hstack((X1[:, i].reshape(-1, 1), X2[:, i].reshape(-1, 1)))\n",
    "            vals[:, i] = model.predict(this_X)\n",
    "        plt.contour(X1, X2, vals,1,colors='k')\n",
    "        plt.show()"
   ]
  },
  {
   "cell_type": "code",
   "execution_count": 13,
   "metadata": {
    "scrolled": true
   },
   "outputs": [
    {
     "data": {
      "text/plain": [
       "<module 'matplotlib.pyplot' from 'E:\\\\anaconda3\\\\lib\\\\site-packages\\\\matplotlib\\\\pyplot.py'>"
      ]
     },
     "execution_count": 13,
     "metadata": {},
     "output_type": "execute_result"
    },
    {
     "data": {
      "image/png": "[encoded data removed]",
      "text/plain": [
       "<Figure size 432x360 with 1 Axes>"
      ]
     },
     "metadata": {
      "needs_background": "light"
     },
     "output_type": "display_data"
    }
   ],
   "source": [
    "plot_data(x, np.ravel(y), [1,-1])"
   ]
  },
  {
   "cell_type": "code",
   "execution_count": 14,
   "metadata": {},
   "outputs": [
    {
     "data": {
      "image/png": "[encoded data removed]",
      "text/plain": [
       "<Figure size 432x360 with 1 Axes>"
      ]
     },
     "metadata": {
      "needs_background": "light"
     },
     "output_type": "display_data"
    }
   ],
   "source": [
    "model = svm.SVC(C=10, kernel='linear').fit(x, y) # 线性核\n",
    "plot_decisionBoundary(x, np.ravel(y), model, type_list = [1,-1])"
   ]
  },
  {
   "cell_type": "code",
   "execution_count": 15,
   "metadata": {},
   "outputs": [
    {
     "name": "stdout",
     "output_type": "stream",
     "text": [
      "support vectors: [ 0  4  9 13 15 16]\n",
      "numbers of support vectors: [3 3]\n"
     ]
    }
   ],
   "source": [
    "print('support vectors:', model.support_)\n",
    "print('numbers of support vectors:', model.n_support_)"
   ]
  },
  {
   "cell_type": "markdown",
   "metadata": {},
   "source": [
    "如果使用一个更小的cost参数的值会怎么样呢？"
   ]
  },
  {
   "cell_type": "code",
   "execution_count": 16,
   "metadata": {},
   "outputs": [
    {
     "name": "stdout",
     "output_type": "stream",
     "text": [
      "support vectors: [ 0  3  4  6  7  8  9 11 12 13 14 15 16 17 18]\n",
      "numbers of support vectors: [7 8]\n"
     ]
    },
    {
     "data": {
      "image/png": "[encoded data removed]",
      "text/plain": [
       "<Figure size 432x360 with 1 Axes>"
      ]
     },
     "metadata": {
      "needs_background": "light"
     },
     "output_type": "display_data"
    }
   ],
   "source": [
    "model = svm.SVC(C=0.1, kernel='linear').fit(x, y) \n",
    "plot_decisionBoundary(x, np.ravel(y), model, type_list = [1,-1])\n",
    "\n",
    "print('support vectors:', model.support_)\n",
    "print('numbers of support vectors:', model.n_support_)"
   ]
  },
  {
   "cell_type": "markdown",
   "metadata": {},
   "source": [
    "接下来我们使用交叉验证在 cost 参数取不同值的情况下，比较线性核函数的 SVM 的表现，寻找最优参数 cost。"
   ]
  },
  {
   "cell_type": "code",
   "execution_count": 31,
   "metadata": {},
   "outputs": [
    {
     "data": {
      "text/html": [
       "<div>\n",
       "<style scoped>\n",
       "    .dataframe tbody tr th:only-of-type {\n",
       "        vertical-align: middle;\n",
       "    }\n",
       "\n",
       "    .dataframe tbody tr th {\n",
       "        vertical-align: top;\n",
       "    }\n",
       "\n",
       "    .dataframe thead th {\n",
       "        text-align: right;\n",
       "    }\n",
       "</style>\n",
       "<table border=\"1\" class=\"dataframe\">\n",
       "  <thead>\n",
       "    <tr style=\"text-align: right;\">\n",
       "      <th></th>\n",
       "      <th>cost</th>\n",
       "      <th>error</th>\n",
       "    </tr>\n",
       "  </thead>\n",
       "  <tbody>\n",
       "    <tr>\n",
       "      <th>0</th>\n",
       "      <td>0.001</td>\n",
       "      <td>0.2</td>\n",
       "    </tr>\n",
       "    <tr>\n",
       "      <th>1</th>\n",
       "      <td>0.010</td>\n",
       "      <td>0.2</td>\n",
       "    </tr>\n",
       "    <tr>\n",
       "      <th>2</th>\n",
       "      <td>0.100</td>\n",
       "      <td>0.6</td>\n",
       "    </tr>\n",
       "    <tr>\n",
       "      <th>3</th>\n",
       "      <td>1.000</td>\n",
       "      <td>0.4</td>\n",
       "    </tr>\n",
       "    <tr>\n",
       "      <th>4</th>\n",
       "      <td>5.000</td>\n",
       "      <td>0.4</td>\n",
       "    </tr>\n",
       "    <tr>\n",
       "      <th>5</th>\n",
       "      <td>10.000</td>\n",
       "      <td>0.4</td>\n",
       "    </tr>\n",
       "    <tr>\n",
       "      <th>6</th>\n",
       "      <td>100.000</td>\n",
       "      <td>0.4</td>\n",
       "    </tr>\n",
       "  </tbody>\n",
       "</table>\n",
       "</div>"
      ],
      "text/plain": [
       "      cost  error\n",
       "0    0.001    0.2\n",
       "1    0.010    0.2\n",
       "2    0.100    0.6\n",
       "3    1.000    0.4\n",
       "4    5.000    0.4\n",
       "5   10.000    0.4\n",
       "6  100.000    0.4"
      ]
     },
     "execution_count": 31,
     "metadata": {},
     "output_type": "execute_result"
    }
   ],
   "source": [
    "cost_params = [0.001 , 0.01 , 0.1, 1 ,5 ,10 ,100]\n",
    "Detailed_results = pd.DataFrame(columns = ['cost', 'error'])\n",
    "i = 0\n",
    "for cost in cost_params:\n",
    "    model = svm.SVC(C=cost, kernel='linear')\n",
    "    Detailed_results.loc[i]=[cost, -cross_val_score(model,x,y,cv = 10,scoring = 'neg_mean_squared_error').mean()]\n",
    "    i += 1\n",
    "\n",
    "Detailed_results"
   ]
  },
  {
   "cell_type": "code",
   "execution_count": 32,
   "metadata": {},
   "outputs": [
    {
     "data": {
      "text/plain": [
       "array([0.001])"
      ]
     },
     "execution_count": 32,
     "metadata": {},
     "output_type": "execute_result"
    }
   ],
   "source": [
    "best_params = Detailed_results[['cost']][Detailed_results['error']==Detailed_results['error'].min()].values[0]\n",
    "best_model = svm.SVC(C=best_params, kernel='linear', probability=True).fit(x, y)\n",
    "best_params"
   ]
  },
  {
   "cell_type": "markdown",
   "metadata": {},
   "source": [
    "接下来我们用 cost = 0.001来进行预测。首先生成一个测试集。"
   ]
  },
  {
   "cell_type": "code",
   "execution_count": 37,
   "metadata": {},
   "outputs": [],
   "source": [
    "xtest = np.random.randn(20,2)\n",
    "ytest = []\n",
    "ytest = [np.random.choice([-1,1]) for i in range(20)]\n",
    "index = [i==1 for i in ytest]\n",
    "xtest[index,:] = xtest[index,:]+1"
   ]
  },
  {
   "cell_type": "markdown",
   "metadata": {},
   "source": [
    "然后预测这些测试观测的类别标签。为了做出预测，通常使用通过交叉验证获得的最好的模型。"
   ]
  },
  {
   "cell_type": "code",
   "execution_count": 38,
   "metadata": {},
   "outputs": [
    {
     "data": {
      "text/html": [
       "<div>\n",
       "<style scoped>\n",
       "    .dataframe tbody tr th:only-of-type {\n",
       "        vertical-align: middle;\n",
       "    }\n",
       "\n",
       "    .dataframe tbody tr th {\n",
       "        vertical-align: top;\n",
       "    }\n",
       "\n",
       "    .dataframe thead th {\n",
       "        text-align: right;\n",
       "    }\n",
       "</style>\n",
       "<table border=\"1\" class=\"dataframe\">\n",
       "  <thead>\n",
       "    <tr style=\"text-align: right;\">\n",
       "      <th></th>\n",
       "      <th>predict -1</th>\n",
       "      <th>predict 1</th>\n",
       "    </tr>\n",
       "  </thead>\n",
       "  <tbody>\n",
       "    <tr>\n",
       "      <th>truth -1</th>\n",
       "      <td>3</td>\n",
       "      <td>4</td>\n",
       "    </tr>\n",
       "    <tr>\n",
       "      <th>truth 1</th>\n",
       "      <td>0</td>\n",
       "      <td>13</td>\n",
       "    </tr>\n",
       "  </tbody>\n",
       "</table>\n",
       "</div>"
      ],
      "text/plain": [
       "          predict -1  predict 1\n",
       "truth -1           3          4\n",
       "truth 1            0         13"
      ]
     },
     "execution_count": 38,
     "metadata": {},
     "output_type": "execute_result"
    }
   ],
   "source": [
    "yhat = best_model.predict(xtest)\n",
    "pd.DataFrame(confusion_matrix(ytest, yhat), index = ['truth -1','truth 1'], columns = ['predict -1','predict 1'])"
   ]
  },
  {
   "cell_type": "code",
   "execution_count": 40,
   "metadata": {},
   "outputs": [
    {
     "data": {
      "text/html": [
       "<div>\n",
       "<style scoped>\n",
       "    .dataframe tbody tr th:only-of-type {\n",
       "        vertical-align: middle;\n",
       "    }\n",
       "\n",
       "    .dataframe tbody tr th {\n",
       "        vertical-align: top;\n",
       "    }\n",
       "\n",
       "    .dataframe thead th {\n",
       "        text-align: right;\n",
       "    }\n",
       "</style>\n",
       "<table border=\"1\" class=\"dataframe\">\n",
       "  <thead>\n",
       "    <tr style=\"text-align: right;\">\n",
       "      <th></th>\n",
       "      <th>predict -1</th>\n",
       "      <th>predict 1</th>\n",
       "    </tr>\n",
       "  </thead>\n",
       "  <tbody>\n",
       "    <tr>\n",
       "      <th>truth -1</th>\n",
       "      <td>4</td>\n",
       "      <td>3</td>\n",
       "    </tr>\n",
       "    <tr>\n",
       "      <th>truth 1</th>\n",
       "      <td>3</td>\n",
       "      <td>10</td>\n",
       "    </tr>\n",
       "  </tbody>\n",
       "</table>\n",
       "</div>"
      ],
      "text/plain": [
       "          predict -1  predict 1\n",
       "truth -1           4          3\n",
       "truth 1            3         10"
      ]
     },
     "execution_count": 40,
     "metadata": {},
     "output_type": "execute_result"
    }
   ],
   "source": [
    "worst_params = Detailed_results[['cost']][Detailed_results['error']==Detailed_results['error'].max()].values[0]\n",
    "worst_model = svm.SVC(C=worst_params, kernel='linear').fit(x, y)\n",
    "yhat = worst_model.predict(xtest)\n",
    "pd.DataFrame(confusion_matrix(ytest, yhat), index = ['truth -1','truth 1'], columns = ['predict -1','predict 1'])"
   ]
  },
  {
   "cell_type": "markdown",
   "metadata": {},
   "source": [
    "对模拟数据进行进一步的分割，使得它们是线性可分的"
   ]
  },
  {
   "cell_type": "code",
   "execution_count": 41,
   "metadata": {},
   "outputs": [
    {
     "data": {
      "text/plain": [
       "<module 'matplotlib.pyplot' from 'E:\\\\anaconda3\\\\lib\\\\site-packages\\\\matplotlib\\\\pyplot.py'>"
      ]
     },
     "execution_count": 41,
     "metadata": {},
     "output_type": "execute_result"
    },
    {
     "data": {
      "image/png": "[encoded data removed]",
      "text/plain": [
       "<Figure size 432x360 with 1 Axes>"
      ]
     },
     "metadata": {
      "needs_background": "light"
     },
     "output_type": "display_data"
    }
   ],
   "source": [
    "index = [i==1 for i in y]\n",
    "x[index,:] = x[index,:] + 0.5\n",
    "plot_data(x,np.ravel(y),[1,-1])"
   ]
  },
  {
   "cell_type": "markdown",
   "metadata": {},
   "source": [
    "现在观测几乎是线性可分的了。拟合支持向量分类器并且画出得到的超平面，使用了更大的cost值，结果没有观测被误分。"
   ]
  },
  {
   "cell_type": "code",
   "execution_count": 42,
   "metadata": {},
   "outputs": [
    {
     "name": "stdout",
     "output_type": "stream",
     "text": [
      "support vectors: [ 0  9 16]\n",
      "numbers of support vectors: [2 1]\n"
     ]
    },
    {
     "data": {
      "image/png": "[encoded data removed]",
      "text/plain": [
       "<Figure size 432x360 with 1 Axes>"
      ]
     },
     "metadata": {
      "needs_background": "light"
     },
     "output_type": "display_data"
    }
   ],
   "source": [
    "model = svm.SVC(C=100000, kernel='linear').fit(x, y)\n",
    "plot_decisionBoundary(x, np.ravel(y), model, type_list = [1,-1])\n",
    "\n",
    "print('support vectors:', model.support_) # 支持向量的索引\n",
    "print('numbers of support vectors:', model.n_support_) # 每一类各有多少个支持向量"
   ]
  },
  {
   "cell_type": "markdown",
   "metadata": {},
   "source": [
    "训练集没有出现分类错误，而且只使用了三个支持向量。但是从图中可以看出，间隔很窄。这个模型在测试数据上的表现似乎会很差。现在尝试使用更小的cost 值："
   ]
  },
  {
   "cell_type": "code",
   "execution_count": 43,
   "metadata": {},
   "outputs": [
    {
     "name": "stdout",
     "output_type": "stream",
     "text": [
      "support vectors: [ 0  3  9 13 15 16]\n",
      "numbers of support vectors: [3 3]\n"
     ]
    },
    {
     "data": {
      "image/png": "[encoded data removed]",
      "text/plain": [
       "<Figure size 432x360 with 1 Axes>"
      ]
     },
     "metadata": {
      "needs_background": "light"
     },
     "output_type": "display_data"
    }
   ],
   "source": [
    "model = svm.SVC(C=1, kernel='linear').fit(x, y)\n",
    "plot_decisionBoundary(x, np.ravel(y), model, type_list = [1,-1])\n",
    "\n",
    "print('support vectors:', model.support_)\n",
    "print('numbers of support vectors:', model.n_support_)"
   ]
  },
  {
   "cell_type": "markdown",
   "metadata": {},
   "source": [
    "cost=1 时间隔更宽，并且使用了六个支持向量。在测试数据上，这个模型的表现比 cost=100000 的模型更好。"
   ]
  },
  {
   "cell_type": "markdown",
   "metadata": {},
   "source": [
    "### 9.6.2 支持向量机"
   ]
  },
  {
   "cell_type": "markdown",
   "metadata": {},
   "source": [
    "现在对 kernel 参数取不同的值。使用 kernel = \"poly\" 拟合多项式核函数的SVM ，使用 kernel= \"rbf\" 拟合径向基核函数的SVM。"
   ]
  },
  {
   "cell_type": "markdown",
   "metadata": {},
   "source": [
    "![](fig/8.png)"
   ]
  },
  {
   "cell_type": "markdown",
   "metadata": {},
   "source": [
    "https://scikit-learn.org/stable/modules/generated/sklearn.svm.SVC.html#sklearn.svm.SVC"
   ]
  },
  {
   "cell_type": "markdown",
   "metadata": {},
   "source": [
    "首先生成一些具有非线性类别边界的数据，如下："
   ]
  },
  {
   "cell_type": "code",
   "execution_count": 7,
   "metadata": {},
   "outputs": [
    {
     "data": {
      "text/plain": [
       "<module 'matplotlib.pyplot' from 'E:\\\\anaconda3\\\\lib\\\\site-packages\\\\matplotlib\\\\pyplot.py'>"
      ]
     },
     "execution_count": 7,
     "metadata": {},
     "output_type": "execute_result"
    },
    {
     "data": {
      "image/png": "[encoded data removed]",
      "text/plain": [
       "<Figure size 432x360 with 1 Axes>"
      ]
     },
     "metadata": {
      "needs_background": "light"
     },
     "output_type": "display_data"
    }
   ],
   "source": [
    "np.random.seed(1)\n",
    "x = np.random.randn(200,2)\n",
    "x[0:100,:] = x[0:100,:] + 2\n",
    "x[100:150,:] = x[100:150,:] - 2\n",
    "y = [1]*150 + [2]*50\n",
    "plot_data(x,np.ravel(y),[1,2])"
   ]
  },
  {
   "cell_type": "markdown",
   "metadata": {},
   "source": [
    "数据被随机地分成训练集和测试集。然后使用svm.SVC()函数拟合训练数据，其中核函数取径向核函数，且 γ = 1 ："
   ]
  },
  {
   "cell_type": "code",
   "execution_count": 8,
   "metadata": {},
   "outputs": [
    {
     "data": {
      "image/png": "[encoded data removed]",
      "text/plain": [
       "<Figure size 432x360 with 1 Axes>"
      ]
     },
     "metadata": {
      "needs_background": "light"
     },
     "output_type": "display_data"
    }
   ],
   "source": [
    "X_train, X_test, y_train, y_test = train_test_split(x, y, test_size=0.5, random_state=42)\n",
    "\n",
    "model = svm.SVC(C=1, kernel='rbf', gamma = 1).fit(X_train, y_train)\n",
    "plot_decisionBoundary(X_train, np.ravel(y_train), model, type_list = [1,2], class_='rbf')"
   ]
  },
  {
   "cell_type": "markdown",
   "metadata": {},
   "source": [
    "结果显示， SVM 有个明显非线性的决策边界。"
   ]
  },
  {
   "cell_type": "markdown",
   "metadata": {},
   "source": [
    "从图中可以看出，使用这个SVM 进行预测，有相当一部分训练观测都被误分了。如果增大 cost 的值，就可减少训练数据的误差。但是，这样做的代价是得到一个更加不规则的决策边界，而这会产生过拟合数据的风险。"
   ]
  },
  {
   "cell_type": "code",
   "execution_count": 9,
   "metadata": {},
   "outputs": [
    {
     "data": {
      "image/png": "[encoded data removed]",
      "text/plain": [
       "<Figure size 432x360 with 1 Axes>"
      ]
     },
     "metadata": {
      "needs_background": "light"
     },
     "output_type": "display_data"
    }
   ],
   "source": [
    "model = svm.SVC(C=10000, kernel='rbf', gamma = 1).fit(X_train, y_train)\n",
    "plot_decisionBoundary(X_train, np.ravel(y_train), model, type_list = [1,2], class_='rbf')"
   ]
  },
  {
   "cell_type": "markdown",
   "metadata": {},
   "source": [
    "所以我们考虑使用交叉验证来选择径向核函数最优的 γ 值以及 cost 的值。"
   ]
  },
  {
   "cell_type": "code",
   "execution_count": 10,
   "metadata": {},
   "outputs": [
    {
     "data": {
      "text/html": [
       "<div>\n",
       "<style scoped>\n",
       "    .dataframe tbody tr th:only-of-type {\n",
       "        vertical-align: middle;\n",
       "    }\n",
       "\n",
       "    .dataframe tbody tr th {\n",
       "        vertical-align: top;\n",
       "    }\n",
       "\n",
       "    .dataframe thead th {\n",
       "        text-align: right;\n",
       "    }\n",
       "</style>\n",
       "<table border=\"1\" class=\"dataframe\">\n",
       "  <thead>\n",
       "    <tr style=\"text-align: right;\">\n",
       "      <th></th>\n",
       "      <th>cost</th>\n",
       "      <th>gamma</th>\n",
       "      <th>error</th>\n",
       "    </tr>\n",
       "  </thead>\n",
       "  <tbody>\n",
       "    <tr>\n",
       "      <th>0</th>\n",
       "      <td>0.1</td>\n",
       "      <td>0.5</td>\n",
       "      <td>0.18</td>\n",
       "    </tr>\n",
       "    <tr>\n",
       "      <th>1</th>\n",
       "      <td>0.1</td>\n",
       "      <td>1.0</td>\n",
       "      <td>0.27</td>\n",
       "    </tr>\n",
       "    <tr>\n",
       "      <th>2</th>\n",
       "      <td>0.1</td>\n",
       "      <td>2.0</td>\n",
       "      <td>0.27</td>\n",
       "    </tr>\n",
       "    <tr>\n",
       "      <th>3</th>\n",
       "      <td>0.1</td>\n",
       "      <td>3.0</td>\n",
       "      <td>0.27</td>\n",
       "    </tr>\n",
       "    <tr>\n",
       "      <th>4</th>\n",
       "      <td>0.1</td>\n",
       "      <td>4.0</td>\n",
       "      <td>0.27</td>\n",
       "    </tr>\n",
       "    <tr>\n",
       "      <th>5</th>\n",
       "      <td>1.0</td>\n",
       "      <td>0.5</td>\n",
       "      <td>0.07</td>\n",
       "    </tr>\n",
       "    <tr>\n",
       "      <th>6</th>\n",
       "      <td>1.0</td>\n",
       "      <td>1.0</td>\n",
       "      <td>0.07</td>\n",
       "    </tr>\n",
       "    <tr>\n",
       "      <th>7</th>\n",
       "      <td>1.0</td>\n",
       "      <td>2.0</td>\n",
       "      <td>0.09</td>\n",
       "    </tr>\n",
       "    <tr>\n",
       "      <th>8</th>\n",
       "      <td>1.0</td>\n",
       "      <td>3.0</td>\n",
       "      <td>0.10</td>\n",
       "    </tr>\n",
       "    <tr>\n",
       "      <th>9</th>\n",
       "      <td>1.0</td>\n",
       "      <td>4.0</td>\n",
       "      <td>0.10</td>\n",
       "    </tr>\n",
       "    <tr>\n",
       "      <th>10</th>\n",
       "      <td>10.0</td>\n",
       "      <td>0.5</td>\n",
       "      <td>0.07</td>\n",
       "    </tr>\n",
       "    <tr>\n",
       "      <th>11</th>\n",
       "      <td>10.0</td>\n",
       "      <td>1.0</td>\n",
       "      <td>0.12</td>\n",
       "    </tr>\n",
       "    <tr>\n",
       "      <th>12</th>\n",
       "      <td>10.0</td>\n",
       "      <td>2.0</td>\n",
       "      <td>0.12</td>\n",
       "    </tr>\n",
       "    <tr>\n",
       "      <th>13</th>\n",
       "      <td>10.0</td>\n",
       "      <td>3.0</td>\n",
       "      <td>0.12</td>\n",
       "    </tr>\n",
       "    <tr>\n",
       "      <th>14</th>\n",
       "      <td>10.0</td>\n",
       "      <td>4.0</td>\n",
       "      <td>0.13</td>\n",
       "    </tr>\n",
       "    <tr>\n",
       "      <th>15</th>\n",
       "      <td>100.0</td>\n",
       "      <td>0.5</td>\n",
       "      <td>0.14</td>\n",
       "    </tr>\n",
       "    <tr>\n",
       "      <th>16</th>\n",
       "      <td>100.0</td>\n",
       "      <td>1.0</td>\n",
       "      <td>0.16</td>\n",
       "    </tr>\n",
       "    <tr>\n",
       "      <th>17</th>\n",
       "      <td>100.0</td>\n",
       "      <td>2.0</td>\n",
       "      <td>0.16</td>\n",
       "    </tr>\n",
       "    <tr>\n",
       "      <th>18</th>\n",
       "      <td>100.0</td>\n",
       "      <td>3.0</td>\n",
       "      <td>0.14</td>\n",
       "    </tr>\n",
       "    <tr>\n",
       "      <th>19</th>\n",
       "      <td>100.0</td>\n",
       "      <td>4.0</td>\n",
       "      <td>0.13</td>\n",
       "    </tr>\n",
       "    <tr>\n",
       "      <th>20</th>\n",
       "      <td>1000.0</td>\n",
       "      <td>0.5</td>\n",
       "      <td>0.16</td>\n",
       "    </tr>\n",
       "    <tr>\n",
       "      <th>21</th>\n",
       "      <td>1000.0</td>\n",
       "      <td>1.0</td>\n",
       "      <td>0.17</td>\n",
       "    </tr>\n",
       "    <tr>\n",
       "      <th>22</th>\n",
       "      <td>1000.0</td>\n",
       "      <td>2.0</td>\n",
       "      <td>0.17</td>\n",
       "    </tr>\n",
       "    <tr>\n",
       "      <th>23</th>\n",
       "      <td>1000.0</td>\n",
       "      <td>3.0</td>\n",
       "      <td>0.14</td>\n",
       "    </tr>\n",
       "    <tr>\n",
       "      <th>24</th>\n",
       "      <td>1000.0</td>\n",
       "      <td>4.0</td>\n",
       "      <td>0.13</td>\n",
       "    </tr>\n",
       "  </tbody>\n",
       "</table>\n",
       "</div>"
      ],
      "text/plain": [
       "      cost  gamma  error\n",
       "0      0.1    0.5   0.18\n",
       "1      0.1    1.0   0.27\n",
       "2      0.1    2.0   0.27\n",
       "3      0.1    3.0   0.27\n",
       "4      0.1    4.0   0.27\n",
       "5      1.0    0.5   0.07\n",
       "6      1.0    1.0   0.07\n",
       "7      1.0    2.0   0.09\n",
       "8      1.0    3.0   0.10\n",
       "9      1.0    4.0   0.10\n",
       "10    10.0    0.5   0.07\n",
       "11    10.0    1.0   0.12\n",
       "12    10.0    2.0   0.12\n",
       "13    10.0    3.0   0.12\n",
       "14    10.0    4.0   0.13\n",
       "15   100.0    0.5   0.14\n",
       "16   100.0    1.0   0.16\n",
       "17   100.0    2.0   0.16\n",
       "18   100.0    3.0   0.14\n",
       "19   100.0    4.0   0.13\n",
       "20  1000.0    0.5   0.16\n",
       "21  1000.0    1.0   0.17\n",
       "22  1000.0    2.0   0.17\n",
       "23  1000.0    3.0   0.14\n",
       "24  1000.0    4.0   0.13"
      ]
     },
     "execution_count": 10,
     "metadata": {},
     "output_type": "execute_result"
    }
   ],
   "source": [
    "cost_params = [0.1, 1 ,10 ,100 ,1000]\n",
    "gamma_params = [0.5, 1 ,2 ,3 ,4]\n",
    "\n",
    "Detailed_results = pd.DataFrame(columns = ['cost', 'gamma', 'error'])\n",
    "i = 0\n",
    "for cost in cost_params:\n",
    "    for gm in gamma_params:\n",
    "        model = svm.SVC(C=cost, kernel='rbf', gamma = gm)\n",
    "        Detailed_results.loc[i]=[cost, gm, -cross_val_score(model,X_train, y_train,cv = 10,scoring = 'neg_mean_squared_error').mean()]\n",
    "        i += 1\n",
    "Detailed_results"
   ]
  },
  {
   "cell_type": "code",
   "execution_count": 11,
   "metadata": {},
   "outputs": [
    {
     "data": {
      "text/plain": [
       "array([1., 1.])"
      ]
     },
     "execution_count": 11,
     "metadata": {},
     "output_type": "execute_result"
    }
   ],
   "source": [
    "best_params = Detailed_results[['cost', 'gamma']][Detailed_results['error']==Detailed_results['error'].min()].values[0]\n",
    "best_params"
   ]
  },
  {
   "cell_type": "code",
   "execution_count": 12,
   "metadata": {},
   "outputs": [
    {
     "data": {
      "text/plain": [
       "0.95"
      ]
     },
     "execution_count": 12,
     "metadata": {},
     "output_type": "execute_result"
    }
   ],
   "source": [
    "best_model = svm.SVC(C=best_params[0], kernel='rbf', gamma = best_params[1], probability=True).fit(X_train, y_train)\n",
    "accuracy_score(y_test, best_model.predict(X_test))"
   ]
  },
  {
   "cell_type": "code",
   "execution_count": 16,
   "metadata": {},
   "outputs": [
    {
     "data": {
      "text/html": [
       "<div>\n",
       "<style scoped>\n",
       "    .dataframe tbody tr th:only-of-type {\n",
       "        vertical-align: middle;\n",
       "    }\n",
       "\n",
       "    .dataframe tbody tr th {\n",
       "        vertical-align: top;\n",
       "    }\n",
       "\n",
       "    .dataframe thead th {\n",
       "        text-align: right;\n",
       "    }\n",
       "</style>\n",
       "<table border=\"1\" class=\"dataframe\">\n",
       "  <thead>\n",
       "    <tr style=\"text-align: right;\">\n",
       "      <th></th>\n",
       "      <th>predict 1</th>\n",
       "      <th>predict 2</th>\n",
       "    </tr>\n",
       "  </thead>\n",
       "  <tbody>\n",
       "    <tr>\n",
       "      <th>truth 1</th>\n",
       "      <td>74</td>\n",
       "      <td>3</td>\n",
       "    </tr>\n",
       "    <tr>\n",
       "      <th>truth 2</th>\n",
       "      <td>2</td>\n",
       "      <td>21</td>\n",
       "    </tr>\n",
       "  </tbody>\n",
       "</table>\n",
       "</div>"
      ],
      "text/plain": [
       "         predict 1  predict 2\n",
       "truth 1         74          3\n",
       "truth 2          2         21"
      ]
     },
     "execution_count": 16,
     "metadata": {},
     "output_type": "execute_result"
    }
   ],
   "source": [
    "yhat = best_model.predict(X_test)\n",
    "pd.DataFrame(confusion_matrix(y_test, yhat), index = ['truth 1','truth 2'], columns = ['predict 1','predict 2'])"
   ]
  },
  {
   "cell_type": "markdown",
   "metadata": {},
   "source": [
    "### 9.6.3 ROC 曲线"
   ]
  },
  {
   "cell_type": "code",
   "execution_count": 11,
   "metadata": {},
   "outputs": [],
   "source": [
    "def plot_roc_curve(model, X, y):\n",
    "    test_predict_label = model.decision_function(X_train) # 拟合值\n",
    "    \n",
    "    # 计算 ROC\n",
    "    fpr,tpr,threshold = roc_curve(np.array(y), model.predict_proba(X)[:,1], pos_label=2)# 假阳率（fpr）, 真阳率(tpr)\n",
    "    roc_auc = auc(fpr,tpr) # 计算 auc\n",
    "\n",
    "    plt.figure()\n",
    "    lw = 2\n",
    "    plt.figure(figsize=(5,5))\n",
    "    plt.plot(fpr, tpr, color='darkorange',\n",
    "             lw=lw, label='ROC curve (area = %0.2f)' % roc_auc) \n",
    "    plt.plot([0, 1], [0, 1], color='navy', lw=lw, linestyle='--')\n",
    "    plt.xlim([0.0, 1.0])\n",
    "    plt.ylim([0.0, 1.05])\n",
    "    plt.xlabel('False Positive Rate')\n",
    "    plt.ylabel('True Positive Rate')\n",
    "    plt.title('Receiver operating characteristic example')\n",
    "    plt.legend(loc=\"lower right\")\n",
    "    plt.show()"
   ]
  },
  {
   "cell_type": "code",
   "execution_count": 12,
   "metadata": {},
   "outputs": [
    {
     "data": {
      "text/plain": [
       "<Figure size 432x288 with 0 Axes>"
      ]
     },
     "metadata": {},
     "output_type": "display_data"
    },
    {
     "data": {
      "image/png": "[encoded data removed]",
      "text/plain": [
       "<Figure size 360x360 with 1 Axes>"
      ]
     },
     "metadata": {
      "needs_background": "light"
     },
     "output_type": "display_data"
    }
   ],
   "source": [
    "plot_roc_curve(best_model, X_train, y_train)"
   ]
  },
  {
   "cell_type": "markdown",
   "metadata": {},
   "source": [
    "SVM似乎能给出精确的预测。但是增加 γ 可以更加光滑地拟合数据，并且进一步提高预测的准确度。"
   ]
  },
  {
   "cell_type": "code",
   "execution_count": 13,
   "metadata": {},
   "outputs": [
    {
     "data": {
      "text/plain": [
       "<Figure size 432x288 with 0 Axes>"
      ]
     },
     "metadata": {},
     "output_type": "display_data"
    },
    {
     "data": {
      "image/png": "[encoded data removed]",
      "text/plain": [
       "<Figure size 360x360 with 1 Axes>"
      ]
     },
     "metadata": {
      "needs_background": "light"
     },
     "output_type": "display_data"
    }
   ],
   "source": [
    "another_model = svm.SVC(C=best_params[0], kernel='rbf', gamma = 50, probability=True).fit(X_train, y_train)\n",
    "\n",
    "plot_roc_curve(another_model, X_train, y_train)"
   ]
  },
  {
   "cell_type": "markdown",
   "metadata": {},
   "source": [
    "然而这些都是训练数据的ROC曲线。通常我们更关注测试数据的预测的精度。"
   ]
  },
  {
   "cell_type": "code",
   "execution_count": 14,
   "metadata": {},
   "outputs": [
    {
     "data": {
      "text/plain": [
       "<Figure size 432x288 with 0 Axes>"
      ]
     },
     "metadata": {},
     "output_type": "display_data"
    },
    {
     "data": {
      "image/png": "[encoded data removed]",
      "text/plain": [
       "<Figure size 360x360 with 1 Axes>"
      ]
     },
     "metadata": {
      "needs_background": "light"
     },
     "output_type": "display_data"
    }
   ],
   "source": [
    "plot_roc_curve(best_model, X_test, y_test)"
   ]
  },
  {
   "cell_type": "code",
   "execution_count": 15,
   "metadata": {},
   "outputs": [
    {
     "data": {
      "text/plain": [
       "<Figure size 432x288 with 0 Axes>"
      ]
     },
     "metadata": {},
     "output_type": "display_data"
    },
    {
     "data": {
      "image/png": "[encoded data removed]",
      "text/plain": [
       "<Figure size 360x360 with 1 Axes>"
      ]
     },
     "metadata": {
      "needs_background": "light"
     },
     "output_type": "display_data"
    }
   ],
   "source": [
    "plot_roc_curve(another_model, X_test, y_test)"
   ]
  },
  {
   "cell_type": "markdown",
   "metadata": {},
   "source": [
    "### 9.6.4 多分类的 SVM"
   ]
  },
  {
   "cell_type": "markdown",
   "metadata": {},
   "source": [
    "首先生成第三类观测："
   ]
  },
  {
   "cell_type": "code",
   "execution_count": 28,
   "metadata": {},
   "outputs": [],
   "source": [
    "x = np.random.randn(250,2)\n",
    "cut = sample(range(0,250), 2)\n",
    "y = [0] * min(cut) + [1] * (max(cut) - min(cut)) + [2] * (250 - max(cut))\n",
    "index = [i==0 | i==2  for i in y]\n",
    "x[index,:] = x[index,:]+2"
   ]
  },
  {
   "cell_type": "code",
   "execution_count": 29,
   "metadata": {},
   "outputs": [
    {
     "data": {
      "text/plain": [
       "<module 'matplotlib.pyplot' from 'E:\\\\anaconda3\\\\lib\\\\site-packages\\\\matplotlib\\\\pyplot.py'>"
      ]
     },
     "execution_count": 29,
     "metadata": {},
     "output_type": "execute_result"
    },
    {
     "data": {
      "image/png": "[encoded data removed]",
      "text/plain": [
       "<Figure size 432x432 with 1 Axes>"
      ]
     },
     "metadata": {
      "needs_background": "light"
     },
     "output_type": "display_data"
    }
   ],
   "source": [
    "def plot_data1(X, y, type_list):\n",
    "    plt.figure(figsize=(6, 6))\n",
    "    pos = np.where(y == type_list[0])\n",
    "    neg = np.where(y == type_list[1])\n",
    "    mid = np.where(y == type_list[2])\n",
    "    p1, = plt.plot(np.ravel(X[pos, 0]), np.ravel(X[pos, 1]), 'o', color = 'lightpink', markersize=8)\n",
    "    p2, = plt.plot(np.ravel(X[neg, 0]), np.ravel(X[neg, 1]), 'o', color = 'lightblue', markersize=8)\n",
    "    p3, = plt.plot(np.ravel(X[mid, 0]), np.ravel(X[mid, 1]), 'o', color = 'lightgreen', markersize=8)\n",
    "    plt.xlabel(\"X1\")\n",
    "    plt.ylabel(\"X2\")\n",
    "    plt.legend([p1, p2, p3], [\"y==\"+str(type_list[0]), \"y==\"+str(type_list[1]), \"y==\"+str(type_list[2])])\n",
    "    return plt\n",
    "plot_data1(x, np.ravel(y), [0,1,2])"
   ]
  },
  {
   "cell_type": "code",
   "execution_count": 30,
   "metadata": {},
   "outputs": [
    {
     "data": {
      "text/html": [
       "<div>\n",
       "<style scoped>\n",
       "    .dataframe tbody tr th:only-of-type {\n",
       "        vertical-align: middle;\n",
       "    }\n",
       "\n",
       "    .dataframe tbody tr th {\n",
       "        vertical-align: top;\n",
       "    }\n",
       "\n",
       "    .dataframe thead th {\n",
       "        text-align: right;\n",
       "    }\n",
       "</style>\n",
       "<table border=\"1\" class=\"dataframe\">\n",
       "  <thead>\n",
       "    <tr style=\"text-align: right;\">\n",
       "      <th></th>\n",
       "      <th>predict 0</th>\n",
       "      <th>predict 1</th>\n",
       "      <th>predict 2</th>\n",
       "    </tr>\n",
       "  </thead>\n",
       "  <tbody>\n",
       "    <tr>\n",
       "      <th>truth 0</th>\n",
       "      <td>39</td>\n",
       "      <td>1</td>\n",
       "      <td>10</td>\n",
       "    </tr>\n",
       "    <tr>\n",
       "      <th>truth 1</th>\n",
       "      <td>9</td>\n",
       "      <td>6</td>\n",
       "      <td>5</td>\n",
       "    </tr>\n",
       "    <tr>\n",
       "      <th>truth 2</th>\n",
       "      <td>3</td>\n",
       "      <td>1</td>\n",
       "      <td>176</td>\n",
       "    </tr>\n",
       "  </tbody>\n",
       "</table>\n",
       "</div>"
      ],
      "text/plain": [
       "         predict 0  predict 1  predict 2\n",
       "truth 0         39          1         10\n",
       "truth 1          9          6          5\n",
       "truth 2          3          1        176"
      ]
     },
     "execution_count": 30,
     "metadata": {},
     "output_type": "execute_result"
    }
   ],
   "source": [
    "model = OneVsRestClassifier(svm.SVC(C=10, kernel='rbf', gamma = 1,probability=True))\n",
    "clt = model.fit(x,y)\n",
    "yhat = clt.predict(x)\n",
    "\n",
    "pd.DataFrame(confusion_matrix(y, yhat), index = ['truth 0','truth 1','truth 2'], columns = ['predict 0','predict 1','predict 2'])"
   ]
  },
  {
   "cell_type": "markdown",
   "metadata": {},
   "source": [
    "### 9.6.5 基因表达数据的应用"
   ]
  },
  {
   "cell_type": "markdown",
   "metadata": {},
   "source": [
    "以下分析都使用 Khan 数据集，这个数据集由许多组织样本构成，这些样本对应四种不同的蓝色小圆细胞肿瘤。对于每个组织样本，基因表达测定都是在可用的。数据集由训练数据 xtrain 和 ytrain，以及测试数据 xtest 和 ytest 组成。"
   ]
  },
  {
   "cell_type": "markdown",
   "metadata": {},
   "source": [
    "首先看数据的维数："
   ]
  },
  {
   "cell_type": "code",
   "execution_count": 32,
   "metadata": {},
   "outputs": [
    {
     "name": "stdout",
     "output_type": "stream",
     "text": [
      "shape of Khan_xtrain: (63, 2308)\n",
      "shape of Khan_xtrain: (20, 2308)\n",
      "length of Khan_xtrain: 63\n",
      "length of Khan_ytest: 20\n"
     ]
    }
   ],
   "source": [
    "Khan_xtrain = pd.read_csv(\"Khan_xtrain.csv\", index_col = 0)\n",
    "Khan_ytrain = pd.read_csv(\"Khan_ytrain.csv\", index_col = 0)\n",
    "Khan_xtest = pd.read_csv(\"Khan_xtest.csv\", index_col = 0)\n",
    "Khan_ytest = pd.read_csv(\"Khan_ytest.csv\", index_col = 0)\n",
    "\n",
    "print('shape of Khan_xtrain:', np.shape(Khan_xtrain))\n",
    "print('shape of Khan_xtrain:', np.shape(Khan_xtest))\n",
    "print('length of Khan_xtrain:', len(Khan_ytrain))\n",
    "print('length of Khan_ytest:', len(Khan_ytest))"
   ]
  },
  {
   "cell_type": "markdown",
   "metadata": {},
   "source": [
    "数据集由 2308 个基因的表达测定组成。训练集和测试集分别由 63 和 20 个观测组成。"
   ]
  },
  {
   "cell_type": "code",
   "execution_count": 32,
   "metadata": {},
   "outputs": [
    {
     "name": "stdout",
     "output_type": "stream",
     "text": [
      "1     8\n",
      "2    23\n",
      "3    12\n",
      "4    20\n",
      "Name: x, dtype: int64\n",
      "1    3\n",
      "2    6\n",
      "3    6\n",
      "4    5\n",
      "Name: x, dtype: int64\n"
     ]
    }
   ],
   "source": [
    "print(Khan_ytrain['x'].value_counts().sort_index())\n",
    "print(Khan_ytest['x'].value_counts().sort_index())"
   ]
  },
  {
   "cell_type": "markdown",
   "metadata": {},
   "source": [
    "以下是吴恩达给出的 SVM 与 LR 的选择技巧："
   ]
  },
  {
   "cell_type": "markdown",
   "metadata": {},
   "source": [
    "·\t如果特征变量个数 n 很大，样本量 m 很少，选择逻辑回归或者线性核函数的 SVM；"
   ]
  },
  {
   "cell_type": "markdown",
   "metadata": {},
   "source": [
    "·\t如果特征变量个数 n 很少，样本量 m 中等，使用高斯核的 SVM；"
   ]
  },
  {
   "cell_type": "markdown",
   "metadata": {},
   "source": [
    "·\t如果特征变量个数 n 很少，样本量很大，增加更多的特征，然后选择逻辑回归或者线性核函数的 SVM。"
   ]
  },
  {
   "cell_type": "code",
   "execution_count": 33,
   "metadata": {},
   "outputs": [
    {
     "data": {
      "text/html": [
       "<div>\n",
       "<style scoped>\n",
       "    .dataframe tbody tr th:only-of-type {\n",
       "        vertical-align: middle;\n",
       "    }\n",
       "\n",
       "    .dataframe tbody tr th {\n",
       "        vertical-align: top;\n",
       "    }\n",
       "\n",
       "    .dataframe thead th {\n",
       "        text-align: right;\n",
       "    }\n",
       "</style>\n",
       "<table border=\"1\" class=\"dataframe\">\n",
       "  <thead>\n",
       "    <tr style=\"text-align: right;\">\n",
       "      <th></th>\n",
       "      <th>predict 1</th>\n",
       "      <th>predict 2</th>\n",
       "      <th>predict 3</th>\n",
       "      <th>predict 4</th>\n",
       "    </tr>\n",
       "  </thead>\n",
       "  <tbody>\n",
       "    <tr>\n",
       "      <th>truth 1</th>\n",
       "      <td>8</td>\n",
       "      <td>0</td>\n",
       "      <td>0</td>\n",
       "      <td>0</td>\n",
       "    </tr>\n",
       "    <tr>\n",
       "      <th>truth 2</th>\n",
       "      <td>0</td>\n",
       "      <td>23</td>\n",
       "      <td>0</td>\n",
       "      <td>0</td>\n",
       "    </tr>\n",
       "    <tr>\n",
       "      <th>truth 3</th>\n",
       "      <td>0</td>\n",
       "      <td>0</td>\n",
       "      <td>12</td>\n",
       "      <td>0</td>\n",
       "    </tr>\n",
       "    <tr>\n",
       "      <th>truth 4</th>\n",
       "      <td>0</td>\n",
       "      <td>0</td>\n",
       "      <td>0</td>\n",
       "      <td>20</td>\n",
       "    </tr>\n",
       "  </tbody>\n",
       "</table>\n",
       "</div>"
      ],
      "text/plain": [
       "         predict 1  predict 2  predict 3  predict 4\n",
       "truth 1          8          0          0          0\n",
       "truth 2          0         23          0          0\n",
       "truth 3          0          0         12          0\n",
       "truth 4          0          0          0         20"
      ]
     },
     "execution_count": 33,
     "metadata": {},
     "output_type": "execute_result"
    }
   ],
   "source": [
    "model = svm.SVC(C = 10, kernel='linear').fit(Khan_xtrain, np.ravel(Khan_ytrain))\n",
    "\n",
    "yhat = model.predict(Khan_xtrain)\n",
    "Khan_ytrain = Khan_ytrain.reset_index(drop = True)\n",
    "pd.DataFrame(confusion_matrix(Khan_ytrain, yhat), index = ['truth 1','truth 2', 'truth 3', 'truth 4'], columns = ['predict 1','predict 2','predict 3','predict 4'])"
   ]
  },
  {
   "cell_type": "markdown",
   "metadata": {},
   "source": [
    "我们更关注的是支持向量分类器在测试观测上的效果。"
   ]
  },
  {
   "cell_type": "code",
   "execution_count": 34,
   "metadata": {},
   "outputs": [
    {
     "data": {
      "text/html": [
       "<div>\n",
       "<style scoped>\n",
       "    .dataframe tbody tr th:only-of-type {\n",
       "        vertical-align: middle;\n",
       "    }\n",
       "\n",
       "    .dataframe tbody tr th {\n",
       "        vertical-align: top;\n",
       "    }\n",
       "\n",
       "    .dataframe thead th {\n",
       "        text-align: right;\n",
       "    }\n",
       "</style>\n",
       "<table border=\"1\" class=\"dataframe\">\n",
       "  <thead>\n",
       "    <tr style=\"text-align: right;\">\n",
       "      <th></th>\n",
       "      <th>predict 1</th>\n",
       "      <th>predict 2</th>\n",
       "      <th>predict 3</th>\n",
       "      <th>predict 4</th>\n",
       "    </tr>\n",
       "  </thead>\n",
       "  <tbody>\n",
       "    <tr>\n",
       "      <th>truth 1</th>\n",
       "      <td>3</td>\n",
       "      <td>0</td>\n",
       "      <td>0</td>\n",
       "      <td>0</td>\n",
       "    </tr>\n",
       "    <tr>\n",
       "      <th>truth 2</th>\n",
       "      <td>0</td>\n",
       "      <td>6</td>\n",
       "      <td>0</td>\n",
       "      <td>0</td>\n",
       "    </tr>\n",
       "    <tr>\n",
       "      <th>truth 3</th>\n",
       "      <td>0</td>\n",
       "      <td>2</td>\n",
       "      <td>4</td>\n",
       "      <td>0</td>\n",
       "    </tr>\n",
       "    <tr>\n",
       "      <th>truth 4</th>\n",
       "      <td>0</td>\n",
       "      <td>0</td>\n",
       "      <td>0</td>\n",
       "      <td>5</td>\n",
       "    </tr>\n",
       "  </tbody>\n",
       "</table>\n",
       "</div>"
      ],
      "text/plain": [
       "         predict 1  predict 2  predict 3  predict 4\n",
       "truth 1          3          0          0          0\n",
       "truth 2          0          6          0          0\n",
       "truth 3          0          2          4          0\n",
       "truth 4          0          0          0          5"
      ]
     },
     "execution_count": 34,
     "metadata": {},
     "output_type": "execute_result"
    }
   ],
   "source": [
    "yhat = model.predict(Khan_xtest)\n",
    "Khan_ytest = Khan_ytest.reset_index(drop = True)\n",
    "\n",
    "pd.DataFrame(confusion_matrix(Khan_ytest, yhat), index = ['truth 1','truth 2', 'truth 3', 'truth 4'], columns = ['predict 1','predict 2','predict 3','predict 4'])    "
   ]
  }
 ],
 "metadata": {
  "kernelspec": {
   "display_name": "Python 3",
   "language": "python",
   "name": "python3"
  },
  "language_info": {
   "codemirror_mode": {
    "name": "ipython",
    "version": 3
   },
   "file_extension": ".py",
   "mimetype": "text/x-python",
   "name": "python",
   "nbconvert_exporter": "python",
   "pygments_lexer": "ipython3",
   "version": "3.8.8"
  }
 },
 "nbformat": 4,
 "nbformat_minor": 4
}
