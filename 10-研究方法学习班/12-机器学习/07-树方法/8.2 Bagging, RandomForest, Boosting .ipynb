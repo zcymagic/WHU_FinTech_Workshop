{
 "cells": [
  {
   "cell_type": "markdown",
   "metadata": {},
   "source": [
    "# 8.2 Bagging, Random Froest, Boosting"
   ]
  },
  {
   "cell_type": "markdown",
   "metadata": {},
   "source": [
    "常见的集成学习框架有三种：Bagging，Boosting 和 Stacking。三种集成学习框架在基学习器的产生和综合结果的方式上会有些区别。首先，从概念上理解一下。"
   ]
  },
  {
   "cell_type": "markdown",
   "metadata": {},
   "source": [
    "Bagging 全称叫 Bootstrap aggregating。每个基学习器都会对训练集进行有放回抽样得到子训练集，比较著名的采样法为0.632自助法。每个基学习器基于不同子训练集进行训练，并综合所有基学习器的预测值得到最终的预测结果。Bagging 常用的综合方法是投票法，票数最多的类别为预测类别。\n",
    "<img src=\"img/bagging.jpg\" style=\"zoom:50%\" />"
   ]
  },
  {
   "cell_type": "markdown",
   "metadata": {},
   "source": [
    "Boosting 训练过程为阶梯状，基模型的训练是有顺序的，每个基模型都会在前一个基模型学习的基础上进行学习，最终综合所有基模型的预测值产生最终的预测结果，用的比较多的综合方式为加权法。\n",
    "<img src=\"img/boosting.jpg\" style=\"zoom:50%\" />"
   ]
  },
  {
   "cell_type": "markdown",
   "metadata": {},
   "source": [
    "Stacking 是先用全部数据训练好基模型，然后每个基模型都对每个训练样本进行的预测，其预测值将作为训练样本的特征值，最终会得到新的训练样本，然后基于新的训练样本进行训练得到模型，然后得到最终预测结果。\n",
    "<img src=\"img/stacking.jpg\" style=\"zoom:50%\" />"
   ]
  },
  {
   "cell_type": "markdown",
   "metadata": {},
   "source": [
    "## 8.2.1 偏差与方差"
   ]
  },
  {
   "cell_type": "markdown",
   "metadata": {},
   "source": [
    "在介绍了集成学习的基本概念之后，我们先介绍下如何从偏差和方差的角度来理解集成学习。"
   ]
  },
  {
   "cell_type": "markdown",
   "metadata": {},
   "source": [
    "偏差（Bias）描述的是预测值和真实值之差；\n",
    "方差（Variance）描述的是预测值作为随机变量的离散程度。\n",
    "\n",
    "<img src=\"img/var.jpg\" style=\"zoom:50%\" />"
   ]
  },
  {
   "cell_type": "markdown",
   "metadata": {},
   "source": [
    "我们常说集成学习中的基模型是弱模型，通常来说弱模型是偏差高（在训练集上准确度低）方差小（防止过拟合能力强）的模型，**但并不是所有集成学习框架中的基模型都是弱模型。Bagging 和 Stacking 中的基模型为强模型（偏差低，方差高），而Boosting 中的基模型为弱模型（偏差高，方差低）。**"
   ]
  },
  {
   "cell_type": "markdown",
   "metadata": {},
   "source": [
    "## 8.2.2 选择合适的集成方式"
   ]
  },
  {
   "cell_type": "markdown",
   "metadata": {},
   "source": [
    "在 Bagging 和 Boosting 框架中，通过计算基模型的期望和方差我们可以得到模型整体的期望和方差。为了简化模型，我们假设基模型的期望为$\\mu$，方差$\\sigma^2$ ，基模型$i$的权重为$r_i$，两两模型间的相关系数$\\rho$相等。由于 Bagging 和 Boosting 的基模型都是线性组成的，那么有：\n",
    "\n",
    "模型总体期望：\n",
    "$$\n",
    "\\begin{aligned}\n",
    "E(F) &=E\\left(\\sum_{i}^{m} r_{i} f_{i}\\right) \\\\\n",
    "&=\\sum_{i}^{m} r_{i} E\\left(f_{i}\\right)\n",
    "\\end{aligned}\n",
    "$$\n",
    "模型总体方差（公式推导参考协方差的性质，协方差与方差的关系）：\n",
    "$$\n",
    "\\begin{aligned}\n",
    "\\operatorname{Var}(F) &=\\operatorname{Var}\\left(\\sum_{i}^{m} r_{i} f_{i}\\right) \\\\\n",
    "&=\\sum_{i}^{m} \\operatorname{Var}\\left(r_{i} f_{i}\\right)+\\sum_{i \\neq j}^{m} \\operatorname{Cov}\\left(r_{i} f_{i}, r_{j} f_{j}\\right) \\\\\n",
    "&=\\sum_{i}^{m} r_{i}^{2} \\operatorname{Var}\\left(f_{i}\\right)+\\sum_{i \\neq j}^{m} \\rho r_{i} r_{j} \\sqrt{\\operatorname{Var}\\left(f_{i}\\right)} \\sqrt{\\operatorname{Var}\\left(f_{j}\\right)} \\\\\n",
    "&=m r^{2} \\sigma^{2}+m(m-1) \\rho r^{2} \\sigma^{2}\n",
    "\\end{aligned}\n",
    "$$\n",
    "\n",
    "模型的准确度可由偏差和方差共同决定：\n",
    "$$\n",
    "\\text { Error }=\\text { bias }^{2}+\\text { var }+\\xi\n",
    "$$"
   ]
  },
  {
   "cell_type": "markdown",
   "metadata": {},
   "source": [
    "对于bagging而言，$r = \\frac{1}{m}$:\n",
    "$$\n",
    "\\begin{aligned}\n",
    "E(F) &=\\sum_{i}^{m} r_{i} E\\left(f_{i}\\right) \\\\\n",
    "&=m \\frac{1}{m} \\mu \\\\\n",
    "&=\\mu\n",
    "\\end{aligned}\n",
    "$$\n",
    "\n",
    "$$\n",
    "\\begin{aligned}\n",
    "\\operatorname{Var}(F) &=m r^{2} \\sigma^{2}+m(m-1) \\rho r^{2} \\sigma^{2}\\\\\n",
    "&=\\frac{\\sigma^{2}}{m}+\\frac{(m-1)}{m} \\rho \\sigma^{2}\n",
    "\\end{aligned}\n",
    "$$\n",
    "\n",
    "由于采用随机抽样的方式，$\\rho$近似认为等于0。随着$m$增大，整体模型的方差在减小。**由此可见，bagging适用于强模型（偏差低，方差高），能通过随机抽样取平均的方式，降低其方差。**"
   ]
  },
  {
   "cell_type": "markdown",
   "metadata": {},
   "source": [
    "对于 Boosting 来说，由于基模型共用同一套训练集，所以基模型间具有强相关性，故模型间的相关系数近似等于 1，针对 Boosting 化简公式为：\n",
    "$$\n",
    "E(F)=\\sum_{i}^{m} r_{i} E\\left(f_{i}\\right)\n",
    "$$\n",
    "$$\n",
    "\\begin{aligned}\n",
    "\\operatorname{Var}(F) &=m r^{2} \\sigma^{2}(1-\\rho)+m^{2} r^{2} \\sigma^{2} \\rho \\\\\n",
    "&=m \\frac{1}{m^{2}} \\sigma^{2}(1-1)+m^{2} \\frac{1}{m^{2}} \\sigma^{2} 1 \\\\\n",
    "&=\\sigma^{2}\n",
    "\\end{aligned}\n",
    "$$\n",
    "\n",
    "至于boosting减小偏差的原理，在之后会详细介绍。"
   ]
  },
  {
   "cell_type": "markdown",
   "metadata": {},
   "source": [
    "## 8.2.3 如何衡量模型的独立性？"
   ]
  },
  {
   "cell_type": "markdown",
   "metadata": {},
   "source": [
    "抽样的随机性决定了模型的随机性，如果两个模型的训练集抽样过程不独立，则两个模型则不独立。这时便有一个天大的陷阱在等着我们：bagging中基模型的训练样本都是独立的随机抽样，但是基模型却不独立呢？\n",
    "\n",
    "我们讨论模型的随机性时，抽样是针对于样本的整体。而bagging中的抽样是针对于训练集（整体的子集），所以并不能称其为对整体的独立随机抽样。那么到底bagging中基模型的相关性体现在哪呢？\n",
    "\n",
    "样本抽样：整体模型F(X1, X2, ..., Xn)中各输入随机变量（X1, X2, ..., Xn）对样本的抽样\n",
    "\n",
    "子抽样：从整体模型F(X1, X2, ..., Xn)中随机抽取若干输入随机变量成为基模型的输入随机变量\n",
    "\n",
    "假若在子抽样的过程中，两个基模型抽取的输入随机变量有一定的重合，那么这两个基模型对整体样本的抽样将不再独立，这时基模型之间便具有了相关性。"
   ]
  },
  {
   "cell_type": "code",
   "execution_count": 1,
   "metadata": {},
   "outputs": [],
   "source": [
    "# Usual Packages\n",
    "import pandas as pd\n",
    "import numpy as np\n",
    "import random\n",
    "import os\n",
    "import math"
   ]
  },
  {
   "cell_type": "code",
   "execution_count": 2,
   "metadata": {},
   "outputs": [],
   "source": [
    "# Machine Learning Packages\n",
    "\n",
    "# Train & Test Split\n",
    "from sklearn.model_selection import train_test_split, cross_val_score, GridSearchCV\n",
    "# Single Tree\n",
    "from sklearn.tree import DecisionTreeClassifier, DecisionTreeRegressor, plot_tree\n",
    "# Bagging \n",
    "from sklearn.ensemble import BaggingClassifier,BaggingRegressor\n",
    "# Random Forest\n",
    "from sklearn.ensemble import RandomForestClassifier,RandomForestRegressor\n",
    "# Boosting\n",
    "from sklearn.ensemble import GradientBoostingClassifier,GradientBoostingRegressor\n",
    "# Evaluation Metrics\n",
    "from sklearn import metrics\n",
    "# draw figures\n",
    "import matplotlib.pyplot as plt \n",
    "%matplotlib inline"
   ]
  },
  {
   "cell_type": "code",
   "execution_count": 3,
   "metadata": {
    "scrolled": true
   },
   "outputs": [
    {
     "data": {
      "text/html": [
       "<div>\n",
       "<style scoped>\n",
       "    .dataframe tbody tr th:only-of-type {\n",
       "        vertical-align: middle;\n",
       "    }\n",
       "\n",
       "    .dataframe tbody tr th {\n",
       "        vertical-align: top;\n",
       "    }\n",
       "\n",
       "    .dataframe thead th {\n",
       "        text-align: right;\n",
       "    }\n",
       "</style>\n",
       "<table border=\"1\" class=\"dataframe\">\n",
       "  <thead>\n",
       "    <tr style=\"text-align: right;\">\n",
       "      <th></th>\n",
       "      <th>Age</th>\n",
       "      <th>Sex</th>\n",
       "      <th>ChestPain</th>\n",
       "      <th>RestBP</th>\n",
       "      <th>Chol</th>\n",
       "      <th>Fbs</th>\n",
       "      <th>RestECG</th>\n",
       "      <th>MaxHR</th>\n",
       "      <th>ExAng</th>\n",
       "      <th>Oldpeak</th>\n",
       "      <th>Slope</th>\n",
       "      <th>Ca</th>\n",
       "      <th>Thal</th>\n",
       "      <th>AHD</th>\n",
       "    </tr>\n",
       "  </thead>\n",
       "  <tbody>\n",
       "    <tr>\n",
       "      <th>1</th>\n",
       "      <td>63</td>\n",
       "      <td>1</td>\n",
       "      <td>3</td>\n",
       "      <td>145</td>\n",
       "      <td>233</td>\n",
       "      <td>1</td>\n",
       "      <td>2</td>\n",
       "      <td>150</td>\n",
       "      <td>0</td>\n",
       "      <td>2.3</td>\n",
       "      <td>3</td>\n",
       "      <td>0.0</td>\n",
       "      <td>0</td>\n",
       "      <td>0</td>\n",
       "    </tr>\n",
       "    <tr>\n",
       "      <th>2</th>\n",
       "      <td>67</td>\n",
       "      <td>1</td>\n",
       "      <td>0</td>\n",
       "      <td>160</td>\n",
       "      <td>286</td>\n",
       "      <td>0</td>\n",
       "      <td>2</td>\n",
       "      <td>108</td>\n",
       "      <td>1</td>\n",
       "      <td>1.5</td>\n",
       "      <td>2</td>\n",
       "      <td>3.0</td>\n",
       "      <td>1</td>\n",
       "      <td>1</td>\n",
       "    </tr>\n",
       "    <tr>\n",
       "      <th>3</th>\n",
       "      <td>67</td>\n",
       "      <td>1</td>\n",
       "      <td>0</td>\n",
       "      <td>120</td>\n",
       "      <td>229</td>\n",
       "      <td>0</td>\n",
       "      <td>2</td>\n",
       "      <td>129</td>\n",
       "      <td>1</td>\n",
       "      <td>2.6</td>\n",
       "      <td>2</td>\n",
       "      <td>2.0</td>\n",
       "      <td>2</td>\n",
       "      <td>1</td>\n",
       "    </tr>\n",
       "    <tr>\n",
       "      <th>4</th>\n",
       "      <td>37</td>\n",
       "      <td>1</td>\n",
       "      <td>1</td>\n",
       "      <td>130</td>\n",
       "      <td>250</td>\n",
       "      <td>0</td>\n",
       "      <td>0</td>\n",
       "      <td>187</td>\n",
       "      <td>0</td>\n",
       "      <td>3.5</td>\n",
       "      <td>3</td>\n",
       "      <td>0.0</td>\n",
       "      <td>1</td>\n",
       "      <td>0</td>\n",
       "    </tr>\n",
       "    <tr>\n",
       "      <th>5</th>\n",
       "      <td>41</td>\n",
       "      <td>0</td>\n",
       "      <td>2</td>\n",
       "      <td>130</td>\n",
       "      <td>204</td>\n",
       "      <td>0</td>\n",
       "      <td>2</td>\n",
       "      <td>172</td>\n",
       "      <td>0</td>\n",
       "      <td>1.4</td>\n",
       "      <td>1</td>\n",
       "      <td>0.0</td>\n",
       "      <td>1</td>\n",
       "      <td>0</td>\n",
       "    </tr>\n",
       "  </tbody>\n",
       "</table>\n",
       "</div>"
      ],
      "text/plain": [
       "   Age  Sex  ChestPain  RestBP  Chol  Fbs  RestECG  MaxHR  ExAng  Oldpeak  \\\n",
       "1   63    1          3     145   233    1        2    150      0      2.3   \n",
       "2   67    1          0     160   286    0        2    108      1      1.5   \n",
       "3   67    1          0     120   229    0        2    129      1      2.6   \n",
       "4   37    1          1     130   250    0        0    187      0      3.5   \n",
       "5   41    0          2     130   204    0        2    172      0      1.4   \n",
       "\n",
       "   Slope   Ca  Thal  AHD  \n",
       "1      3  0.0     0    0  \n",
       "2      2  3.0     1    1  \n",
       "3      2  2.0     2    1  \n",
       "4      3  0.0     1    0  \n",
       "5      1  0.0     1    0  "
      ]
     },
     "execution_count": 3,
     "metadata": {},
     "output_type": "execute_result"
    }
   ],
   "source": [
    "# 预处理\n",
    "Heart = pd.read_csv(r'数据\\Heart.csv',index_col=0).dropna()\n",
    "\n",
    "from sklearn import preprocessing\n",
    "le = preprocessing.LabelEncoder()  \n",
    "# preprocessing.LabelEncoder() 将类别使用0-n_classes-1来编码标签\n",
    "\n",
    "qualitative_columns = ['ChestPain','Thal','AHD']\n",
    "for column in qualitative_columns:\n",
    "    Heart[column] = le.fit_transform(Heart[column])\n",
    "  \n",
    "X = Heart.drop('AHD',axis=1)\n",
    "y = Heart['AHD']\n",
    "\n",
    "Heart.head()"
   ]
  },
  {
   "cell_type": "code",
   "execution_count": 4,
   "metadata": {},
   "outputs": [
    {
     "name": "stdout",
     "output_type": "stream",
     "text": [
      "single_tree train_accuracy: 1.0\n",
      "single_tree test_accuracy: 0.697986577181208\n"
     ]
    }
   ],
   "source": [
    "# 简单决策树\n",
    "X_train, X_test, y_train, y_test = train_test_split(X, y, test_size=0.5, random_state=0)\n",
    "\n",
    "single_tree_clf = DecisionTreeClassifier(random_state=0)\n",
    "single_tree_clf.fit(X_train,y_train)\n",
    "print('single_tree train_accuracy: %s'%(single_tree_clf.score(X_train,y_train)))\n",
    "\n",
    "y_test_pred = single_tree_clf.predict(X_test)\n",
    "print('single_tree test_accuracy: %s'%(metrics.accuracy_score(y_test,y_test_pred)))"
   ]
  },
  {
   "cell_type": "markdown",
   "metadata": {},
   "source": [
    "test_size：训练集数据大小，是样本数据的一个比例值。上式是样本数据的50%。\n",
    "\n",
    "random_state：划分数据时需要产生随机种子，设置为None则每次调用numpy.random，这样的话每次运行会得到不一样的结果，由于随机性发生改变。当然你可以输入一个int值作为随机种子，最好在0-42之间。\n",
    "\n",
    "sklearn.tree.DecisionTreeClassifier(*, criterion='gini', splitter='best', max_depth=None, min_samples_split=2, min_samples_leaf=1, min_weight_fraction_leaf=0.0, max_features=None, random_state=None, max_leaf_nodes=None, min_impurity_decrease=0.0, class_weight=None, ccp_alpha=0.0)"
   ]
  },
  {
   "cell_type": "markdown",
   "metadata": {},
   "source": [
    "## 8.2.4 Bagging"
   ]
  },
  {
   "cell_type": "markdown",
   "metadata": {},
   "source": [
    "8.1 节中讨论的决策树存在高方差。这意味着如果我们将训练数据随机分成两部分，并分别拟合决策树，我们得到的结果可能会大不相同。\n",
    "\n",
    "因此，减少方差并因此提高统计学习方法的预测准确性的一种自然方法是从总体中获取许多训练集，使用每个训练集构建单独的预测模型，并对结果预测进行平均。"
   ]
  },
  {
   "cell_type": "markdown",
   "metadata": {},
   "source": [
    "$$\n",
    "\\hat{f}_{\\text {bag }}(x)=\\frac{1}{B} \\sum_{b=1}^{B} \\hat{f}^{*b}(x)\n",
    "$$"
   ]
  },
  {
   "cell_type": "markdown",
   "metadata": {},
   "source": [
    "![title](img/bootstrap.PNG)"
   ]
  },
  {
   "cell_type": "markdown",
   "metadata": {},
   "source": [
    "相同评价指标，不同样本"
   ]
  },
  {
   "cell_type": "markdown",
   "metadata": {},
   "source": [
    "一、oob（Out - of - Bag）\n",
    "\n",
    "定义：放回取样导致一部分样本很有可能没有取到，这部分样本平均大约有 37% ，把这部分没有取到的样本称为 oob 数据集；\n",
    "\n",
    "使用OOB-袋外错误率时，可以不对数据集进行 train_test_split。也就是在全集随机有放回取样得到训练集（假设取样大小等于全集），使用没有取到的样本做测试集。"
   ]
  },
  {
   "cell_type": "markdown",
   "metadata": {},
   "source": [
    "![title](img/oob.PNG)"
   ]
  },
  {
   "cell_type": "markdown",
   "metadata": {},
   "source": [
    " 参数：OOB-袋外错误率"
   ]
  },
  {
   "cell_type": "markdown",
   "metadata": {},
   "source": [
    "1）对每个样本，计算它作为oob样本的树和它的分类情况（约1/3的树）；\n",
    "\n",
    "2）然后以简单多数投票作为该样本的分类结果；\n",
    "\n",
    "3）最后用误分个数占样本总数的比率作为随机森林的oob误分率。\n",
    "<img src=\"img/oob示意.jpg\" style=\"zoom:50%\" />"
   ]
  },
  {
   "cell_type": "markdown",
   "metadata": {},
   "source": [
    "oob误分率是随机森林泛化误差的一个无偏估计，它的结果近似于需要大量计算的k折交叉验证。"
   ]
  },
  {
   "cell_type": "code",
   "execution_count": 5,
   "metadata": {
    "scrolled": false
   },
   "outputs": [
    {
     "name": "stdout",
     "output_type": "stream",
     "text": [
      "Bagging oob_score: 0.7777777777777778\n",
      "Bagging test_accuracy: 0.785234899328859\n"
     ]
    }
   ],
   "source": [
    "# Bagging\n",
    "# OOB_score\n",
    "X_train, X_test, y_train, y_test = train_test_split(X, y, test_size=0.5, random_state=0)\n",
    "\n",
    "bagging_clf_OOB = BaggingClassifier(DecisionTreeClassifier(),\n",
    "                               n_estimators=100,random_state=0,\n",
    "                               bootstrap=True, oob_score=True,n_jobs=-1)\n",
    "bagging_clf_OOB.fit(X,y)\n",
    "print('Bagging oob_score: %s'%(bagging_clf_OOB.oob_score_))\n",
    "\n",
    "# test_score\n",
    "bagging_clf_test = BaggingClassifier(DecisionTreeClassifier(),\n",
    "                               n_estimators=100,random_state=0,\n",
    "                               bootstrap=True, oob_score=False,n_jobs=-1)\n",
    "bagging_clf_test.fit(X_train,y_train)\n",
    "y_test_pred = bagging_clf_test.predict(X_test)\n",
    "print('Bagging test_accuracy: %s'%(metrics.accuracy_score(y_test,y_test_pred)))"
   ]
  },
  {
   "cell_type": "markdown",
   "metadata": {},
   "source": [
    "BaggingClassifier(base_estimator=None, n_estimators=10, *, max_samples=1.0, max_features=1.0, bootstrap=True, bootstrap_features=False, oob_score=False, warm_start=False, n_jobs=None, random_state=None, verbose=0)\n",
    "* base_estimator：object, default=None\n",
    "\t\t\t\t适合于数据集的随机子集的基估计量。\n",
    "\t\t\t\t如果 None，则基估计量是决策树。\n",
    "* n_estimators：int, default=10\n",
    "\t\t\t  训练基学习器（基本估计器）的个数。\n",
    "* max_samples：int or float, default=1.0\n",
    "\t\t\t 从X抽取的样本数，用于训练每个基本估计器\n",
    "\t\t\t 如果为int，则抽取 max_samples 个样本。\n",
    "\t\t\t 如果为float，则抽取 max_samples * X.shape[0] 个样本。\n",
    "* max_features：int or float, default=1.0\n",
    "\t\t\t  从X中提取的用于训练每个基本估计器的特征数\n",
    "\t\t\t  如果为int，则绘制 max_features 个特征。\n",
    "\t\t\t  如果是float，则绘制特征 max_features * X.shape[1] 个特征。\n",
    "* bootstrap：bool, default=True\n",
    "\t\t   是否为放回取样。如果为False，则执行不替换的样本。\n",
    "* bootstrap_features：bool, default=False\n",
    "\t\t\t\t\t是否针对特征随机取样。\n",
    "* oob_score：bool, default=False\n",
    "\t\t   是否使用袋外样本估计泛化误差。（是否使用现成的样本来估计泛化误差。）\n",
    "* warm_start：bool, default=False\n",
    "\t\t\t当设置为True时，重用前面调用的解决方案来拟合并向集成添加更多的估计\n",
    "\t\t\t量，否则，只拟合一个全新的集成。\n",
    "* n_jobs：int, default=None\n",
    "\t\t使用几个处理起来运行；\n",
    "\t\t-1表示使用所有处理器。\t\t\n",
    "* random_state：int or RandomState, default=None\n",
    "\t\t\t  控制原始数据集的随机重采样（采样和特征）。\n",
    "\t\t\t  如果基估计器接受随机状态属性，则为集合中的每个实例生成不同的种子。\n",
    "\t\t\t  为跨多个函数调用的可复制输出传递int。\n",
    "* verbose：int, default=0\n",
    "\t\t 控制拟合和预测时的详细程度。"
   ]
  },
  {
   "cell_type": "code",
   "execution_count": 6,
   "metadata": {},
   "outputs": [
    {
     "data": {
      "text/plain": [
       "array([0.07989749, 0.02721767, 0.2538027 , 0.08467278, 0.08152659,\n",
       "       0.00813797, 0.00542056, 0.14332214, 0.07200713, 0.11322623,\n",
       "       0.01647739, 0.05451004, 0.05978129])"
      ]
     },
     "execution_count": 6,
     "metadata": {},
     "output_type": "execute_result"
    }
   ],
   "source": [
    "# 默认的变量特征重要性是在所有树的节点划分中，每个变量划分带来的基尼系数增益，\n",
    "# 并除总增益值使所有变量特征重要性和为1\n",
    "feature_importances = np.mean([tree.feature_importances_ for tree in bagging_clf_test.estimators_], axis=0)\n",
    "feature_importances"
   ]
  },
  {
   "cell_type": "code",
   "execution_count": 7,
   "metadata": {},
   "outputs": [
    {
     "data": {
      "image/png": "[encoded data removed]",
      "text/plain": [
       "<Figure size 432x288 with 1 Axes>"
      ]
     },
     "metadata": {
      "needs_background": "light"
     },
     "output_type": "display_data"
    }
   ],
   "source": [
    "Importance = pd.DataFrame({'Importance':feature_importances}, index = X.columns)\n",
    "Importance.sort_values('Importance', axis=0, ascending=True).plot(kind='barh', color='r', )\n",
    "plt.xlabel('Variable Importance')\n",
    "plt.gca().legend_ = None"
   ]
  },
  {
   "cell_type": "markdown",
   "metadata": {},
   "source": [
    "## 8.2.4 Random Forest"
   ]
  },
  {
   "cell_type": "markdown",
   "metadata": {},
   "source": [
    "1. 用有放回的抽样方法（bootstrap）从样本集中选取n个样本作为一个训练集\n",
    "\n",
    "\n",
    "2. 用抽样得到的样本集生成一棵决策树。在生成的每一个结点：\n",
    "\n",
    "\n",
    "* 随机不重复地选择d个特征\n",
    "* 利用这d个特征分别对样本集进行划分，找到最佳的划分特征（可用基尼系数、增益率或者信息增益判别）\n",
    "\n",
    "\n",
    "3. 重复步骤1到步骤2共n次，n即为随机森林中决策树的个数。\n",
    "\n",
    "\n",
    "4. 用训练得到的随机森林对测试样本进行预测，并用票选法决定预测的结果。\n",
    "\n"
   ]
  },
  {
   "cell_type": "markdown",
   "metadata": {},
   "source": [
    "![title](img/Random_Forest.PNG)"
   ]
  },
  {
   "cell_type": "code",
   "execution_count": 8,
   "metadata": {
    "scrolled": true
   },
   "outputs": [
    {
     "name": "stdout",
     "output_type": "stream",
     "text": [
      "random_forest test_accuracy: 0.7986577181208053\n",
      "random_forest test_accuracy: 0.8053691275167785\n",
      "random_forest test_accuracy: 0.8187919463087249\n"
     ]
    }
   ],
   "source": [
    "# Random Forest\n",
    "X_train, X_test, y_train, y_test = train_test_split(X, y, test_size=0.5, random_state=0)\n",
    "\n",
    "random_forest_clf_p = RandomForestClassifier(n_estimators=100, max_features=None,\n",
    "                                           random_state=0, oob_score=False)\n",
    "random_forest_clf_half = RandomForestClassifier(n_estimators=100, max_features=0.5,\n",
    "                                           random_state=0, oob_score=False)\n",
    "random_forest_clf_sqrt = RandomForestClassifier(n_estimators=100, max_features='sqrt',\n",
    "                                           random_state=0, oob_score=False)\n",
    "\n",
    "random_forest_clf_p.fit(X_train,y_train)\n",
    "random_forest_clf_half.fit(X_train,y_train)\n",
    "random_forest_clf_sqrt.fit(X_train,y_train)\n",
    "\n",
    "y_test_pred_p = random_forest_clf_p.predict(X_test)\n",
    "y_test_pred_half = random_forest_clf_half.predict(X_test)\n",
    "y_test_pred_sqrt = random_forest_clf_sqrt.predict(X_test)\n",
    "\n",
    "print('random_forest test_accuracy: %s'%(metrics.accuracy_score(y_test,y_test_pred_p)))\n",
    "print('random_forest test_accuracy: %s'%(metrics.accuracy_score(y_test,y_test_pred_half)))\n",
    "print('random_forest test_accuracy: %s'%(metrics.accuracy_score(y_test,y_test_pred_sqrt)))"
   ]
  },
  {
   "cell_type": "markdown",
   "metadata": {},
   "source": [
    "max_features：\n",
    "* If int, then consider max_features features at each split.\n",
    "* If float, then max_features is a percentage and int(max_features * n_features) features are considered at each split.\n",
    "* If “auto”, then max_features=sqrt(n_features).\n",
    "* If “sqrt”, then max_features=sqrt(n_features) (same as “auto”).\n",
    "* If “log2”, then max_features=log2(n_features).\n",
    "* If None, then max_features=n_features.\n"
   ]
  },
  {
   "cell_type": "code",
   "execution_count": 9,
   "metadata": {},
   "outputs": [],
   "source": [
    "# 生成画图所需数据表格框架\n",
    "frame_index = range(1,51) \n",
    "frame_columns = [ 'Number of Trees', 'm=p','m=p/2','m=sqrt(p)']\n",
    "frame = pd.DataFrame(index = frame_index, columns = frame_columns)\n",
    "frame['Number of Trees'] = np.linspace(10,500,50)"
   ]
  },
  {
   "cell_type": "code",
   "execution_count": 10,
   "metadata": {
    "scrolled": true
   },
   "outputs": [
    {
     "name": "stdout",
     "output_type": "stream",
     "text": [
      "1\n",
      "2\n",
      "3\n",
      "4\n",
      "5\n",
      "6\n",
      "7\n",
      "8\n",
      "9\n",
      "10\n",
      "11\n",
      "12\n",
      "13\n",
      "14\n",
      "15\n",
      "16\n",
      "17\n",
      "18\n",
      "19\n",
      "20\n",
      "21\n",
      "22\n",
      "23\n",
      "24\n",
      "25\n",
      "26\n",
      "27\n",
      "28\n",
      "29\n",
      "30\n",
      "31\n",
      "32\n",
      "33\n",
      "34\n",
      "35\n",
      "36\n",
      "37\n",
      "38\n",
      "39\n",
      "40\n",
      "41\n",
      "42\n",
      "43\n",
      "44\n",
      "45\n",
      "46\n",
      "47\n",
      "48\n",
      "49\n",
      "50\n"
     ]
    }
   ],
   "source": [
    "# 把设置不同参数的随机森林模型并获取指标封装到一个短函数\n",
    "def RandomFroest(tree_num, max_feature):\n",
    "    model = RandomForestClassifier(n_estimators=tree_num, max_features=max_feature,\n",
    "                            random_state=0, oob_score=False)\n",
    "    model.fit(X_train,y_train)\n",
    "    \n",
    "    y_test_pred = model.predict(X_test)\n",
    "    test_error = 1- metrics.accuracy_score(y_test,y_test_pred)\n",
    "    return test_error\n",
    "\n",
    "# 计算不同特征选取比例下的分类错误率\n",
    "def generate_frame():\n",
    "    for i in frame_index:        \n",
    "        frame.loc[i,'m=p'] = RandomFroest(10 * i, None)\n",
    "        frame.loc[i,'m=p/2'] = RandomFroest(10 * i, 0.5)\n",
    "        frame.loc[i,'m=sqrt(p)'] = RandomFroest(10 * i, 'sqrt')\n",
    "        print(i)\n",
    "generate_frame()"
   ]
  },
  {
   "cell_type": "code",
   "execution_count": 11,
   "metadata": {},
   "outputs": [
    {
     "data": {
      "text/html": [
       "<div>\n",
       "<style scoped>\n",
       "    .dataframe tbody tr th:only-of-type {\n",
       "        vertical-align: middle;\n",
       "    }\n",
       "\n",
       "    .dataframe tbody tr th {\n",
       "        vertical-align: top;\n",
       "    }\n",
       "\n",
       "    .dataframe thead th {\n",
       "        text-align: right;\n",
       "    }\n",
       "</style>\n",
       "<table border=\"1\" class=\"dataframe\">\n",
       "  <thead>\n",
       "    <tr style=\"text-align: right;\">\n",
       "      <th></th>\n",
       "      <th>Number of Trees</th>\n",
       "      <th>m=p</th>\n",
       "      <th>m=p/2</th>\n",
       "      <th>m=sqrt(p)</th>\n",
       "    </tr>\n",
       "  </thead>\n",
       "  <tbody>\n",
       "    <tr>\n",
       "      <th>1</th>\n",
       "      <td>10.0</td>\n",
       "      <td>0.234899</td>\n",
       "      <td>0.221477</td>\n",
       "      <td>0.208054</td>\n",
       "    </tr>\n",
       "    <tr>\n",
       "      <th>2</th>\n",
       "      <td>20.0</td>\n",
       "      <td>0.221477</td>\n",
       "      <td>0.194631</td>\n",
       "      <td>0.187919</td>\n",
       "    </tr>\n",
       "    <tr>\n",
       "      <th>3</th>\n",
       "      <td>30.0</td>\n",
       "      <td>0.221477</td>\n",
       "      <td>0.208054</td>\n",
       "      <td>0.187919</td>\n",
       "    </tr>\n",
       "    <tr>\n",
       "      <th>4</th>\n",
       "      <td>40.0</td>\n",
       "      <td>0.214765</td>\n",
       "      <td>0.194631</td>\n",
       "      <td>0.181208</td>\n",
       "    </tr>\n",
       "    <tr>\n",
       "      <th>5</th>\n",
       "      <td>50.0</td>\n",
       "      <td>0.208054</td>\n",
       "      <td>0.181208</td>\n",
       "      <td>0.181208</td>\n",
       "    </tr>\n",
       "  </tbody>\n",
       "</table>\n",
       "</div>"
      ],
      "text/plain": [
       "   Number of Trees       m=p     m=p/2 m=sqrt(p)\n",
       "1             10.0  0.234899  0.221477  0.208054\n",
       "2             20.0  0.221477  0.194631  0.187919\n",
       "3             30.0  0.221477  0.208054  0.187919\n",
       "4             40.0  0.214765  0.194631  0.181208\n",
       "5             50.0  0.208054  0.181208  0.181208"
      ]
     },
     "execution_count": 11,
     "metadata": {},
     "output_type": "execute_result"
    }
   ],
   "source": [
    "frame.head()"
   ]
  },
  {
   "cell_type": "code",
   "execution_count": 12,
   "metadata": {},
   "outputs": [
    {
     "data": {
      "image/png": "[encoded data removed]",
      "text/plain": [
       "<Figure size 576x432 with 1 Axes>"
      ]
     },
     "metadata": {
      "needs_background": "light"
     },
     "output_type": "display_data"
    }
   ],
   "source": [
    "plt.figure(figsize=(8,6))\n",
    "colors = ['gold','dodgerblue','forestgreen']\n",
    "for i in range(3):\n",
    "    plt.plot(frame['Number of Trees'], frame[frame.columns[1:][i]] ,\n",
    "             label = frame.columns[1:][i],linestyle = '-',linewidth = 0.7, color = colors[i])\n",
    "plt.xlabel('Number of Trees')\n",
    "plt.ylabel('Test Classification Error')\n",
    "plt.legend()\n",
    "plt.show()"
   ]
  },
  {
   "cell_type": "code",
   "execution_count": 13,
   "metadata": {
    "scrolled": true
   },
   "outputs": [
    {
     "name": "stdout",
     "output_type": "stream",
     "text": [
      "random_forest oob_score: 0.8080808080808081\n",
      "random_forest test_accuracy: 0.8187919463087249\n"
     ]
    }
   ],
   "source": [
    "# Random Forest\n",
    "X_train, X_test, y_train, y_test = train_test_split(X, y, test_size=0.5, random_state=0)\n",
    "\n",
    "random_forest_clf_OOB = RandomForestClassifier(n_estimators=100, max_features='auto',\n",
    "                                           random_state=0, oob_score=True)\n",
    "random_forest_clf_OOB.fit(X, y)\n",
    "print('random_forest oob_score: %s'%(random_forest_clf_OOB.oob_score_))\n",
    "\n",
    "# test_score\n",
    "random_forest_clf_test = RandomForestClassifier(n_estimators=100, max_features='auto',\n",
    "                                           random_state=0, oob_score=False)\n",
    "random_forest_clf_test.fit(X_train,y_train)\n",
    "y_test_pred = random_forest_clf_test.predict(X_test)\n",
    "print('random_forest test_accuracy: %s'%(metrics.accuracy_score(y_test,y_test_pred)))"
   ]
  },
  {
   "cell_type": "code",
   "execution_count": 14,
   "metadata": {
    "scrolled": true
   },
   "outputs": [
    {
     "name": "stderr",
     "output_type": "stream",
     "text": [
      "D:\\anaconda3\\envs\\Accounting_Fraud\\lib\\site-packages\\sklearn\\ensemble\\_bagging.py:640: UserWarning: Some inputs do not have OOB scores. This probably means too few estimators were used to compute any reliable oob estimates.\n",
      "  warn(\"Some inputs do not have OOB scores. \"\n",
      "D:\\anaconda3\\envs\\Accounting_Fraud\\lib\\site-packages\\sklearn\\ensemble\\_bagging.py:644: RuntimeWarning: invalid value encountered in true_divide\n",
      "  oob_decision_function = (predictions /\n",
      "D:\\anaconda3\\envs\\Accounting_Fraud\\lib\\site-packages\\sklearn\\ensemble\\_bagging.py:640: UserWarning: Some inputs do not have OOB scores. This probably means too few estimators were used to compute any reliable oob estimates.\n",
      "  warn(\"Some inputs do not have OOB scores. \"\n",
      "D:\\anaconda3\\envs\\Accounting_Fraud\\lib\\site-packages\\sklearn\\ensemble\\_bagging.py:644: RuntimeWarning: invalid value encountered in true_divide\n",
      "  oob_decision_function = (predictions /\n",
      "D:\\anaconda3\\envs\\Accounting_Fraud\\lib\\site-packages\\sklearn\\ensemble\\_forest.py:541: UserWarning: Some inputs do not have OOB scores. This probably means too few trees were used to compute any reliable oob estimates.\n",
      "  warn(\"Some inputs do not have OOB scores. \"\n",
      "D:\\anaconda3\\envs\\Accounting_Fraud\\lib\\site-packages\\sklearn\\ensemble\\_forest.py:545: RuntimeWarning: invalid value encountered in true_divide\n",
      "  decision = (predictions[k] /\n",
      "D:\\anaconda3\\envs\\Accounting_Fraud\\lib\\site-packages\\sklearn\\ensemble\\_bagging.py:640: UserWarning: Some inputs do not have OOB scores. This probably means too few estimators were used to compute any reliable oob estimates.\n",
      "  warn(\"Some inputs do not have OOB scores. \"\n",
      "D:\\anaconda3\\envs\\Accounting_Fraud\\lib\\site-packages\\sklearn\\ensemble\\_bagging.py:644: RuntimeWarning: invalid value encountered in true_divide\n",
      "  oob_decision_function = (predictions /\n"
     ]
    },
    {
     "name": "stdout",
     "output_type": "stream",
     "text": [
      "1\n",
      "2\n",
      "3\n",
      "4\n",
      "5\n",
      "6\n",
      "7\n",
      "8\n",
      "9\n",
      "10\n",
      "11\n",
      "12\n",
      "13\n",
      "14\n",
      "15\n",
      "16\n",
      "17\n",
      "18\n",
      "19\n",
      "20\n",
      "21\n",
      "22\n",
      "23\n",
      "24\n",
      "25\n",
      "26\n",
      "27\n",
      "28\n",
      "29\n",
      "30\n"
     ]
    }
   ],
   "source": [
    "# 生成画图所需数据表格框架\n",
    "# 生成1到30整数序列（np.linspace生成的数字格式为numpy.float64，不能用于循环索引）\n",
    "Error_n_trees_frame_index = range(1,31) \n",
    "\n",
    "Error_n_trees_frame_columns = [ 'Number of Trees', 'Bagging_test', 'RandomForest_test',\n",
    "                              'Bagging_OOB', 'RandomForest_OOB','Single_test']\n",
    "Error_n_trees_frame = pd.DataFrame(index = Error_n_trees_frame_index, columns = Error_n_trees_frame_columns)\n",
    "Error_n_trees_frame['Number of Trees'] = np.linspace(10,300,30)\n",
    "\n",
    "# 把生成模型并获取指标封装到短函数\n",
    "def Bagging_test(tree_num):\n",
    "    Bagging_model = BaggingClassifier(DecisionTreeClassifier(),\n",
    "                    n_estimators= tree_num, random_state=0,\n",
    "                    bootstrap=True, oob_score=True,n_jobs=-1)\n",
    "    Bagging_model.fit(X_train,y_train)\n",
    "    \n",
    "    y_test_pred = Bagging_model.predict(X_test)\n",
    "    test_error = 1- metrics.accuracy_score(y_test,y_test_pred)\n",
    "    return test_error\n",
    "    \n",
    "def Bagging_oob(tree_num):\n",
    "    Bagging_model = BaggingClassifier(DecisionTreeClassifier(),\n",
    "                    n_estimators= tree_num, random_state=0,\n",
    "                    bootstrap=True, oob_score=True,n_jobs=-1)\n",
    "    Bagging_model.fit(X,y)\n",
    "    return 1 - Bagging_model.oob_score_\n",
    "    \n",
    "def RandomForest_test(tree_num):\n",
    "    RandomForest_model = RandomForestClassifier(n_estimators=tree_num, max_features='sqrt',\n",
    "                            random_state=0, oob_score=False)\n",
    "    RandomForest_model.fit(X_train,y_train)\n",
    "    \n",
    "    y_test_pred = RandomForest_model.predict(X_test)\n",
    "    test_error = 1- metrics.accuracy_score(y_test,y_test_pred)\n",
    "    return test_error\n",
    "\n",
    "def RandomForest_oob(tree_num):\n",
    "    RandomForest_model = RandomForestClassifier(n_estimators=tree_num, max_features='sqrt',\n",
    "                            random_state=0, oob_score=True)\n",
    "    RandomForest_model.fit(X,y)\n",
    "    return 1- RandomForest_model.oob_score_\n",
    "\n",
    "def Single_tree_test():\n",
    "    single_tree_model = DecisionTreeClassifier(random_state=0,max_depth=3)\n",
    "    single_tree_model.fit(X_train,y_train)\n",
    "    \n",
    "    y_test_pred = single_tree_model.predict(X_test)\n",
    "    test_error = 1- metrics.accuracy_score(y_test,y_test_pred)\n",
    "    return test_error\n",
    "    \n",
    "# 计算不同树个数下的分类错误率\n",
    "def generate_Error_n_trees_frame():\n",
    "    for i in Error_n_trees_frame_index:        \n",
    "        Error_n_trees_frame.loc[i,'Bagging_test'] = Bagging_test(10 * i)\n",
    "        Error_n_trees_frame.loc[i,'RandomForest_test'] = RandomForest_test(10 * i)\n",
    "        Error_n_trees_frame.loc[i,'Bagging_OOB'] = Bagging_oob(10 * i)\n",
    "        Error_n_trees_frame.loc[i,'RandomForest_OOB'] = RandomForest_oob(10 * i)\n",
    "        Error_n_trees_frame.loc[i,'Single_test'] = Single_tree_test()\n",
    "        print(i)\n",
    "generate_Error_n_trees_frame()"
   ]
  },
  {
   "cell_type": "code",
   "execution_count": 15,
   "metadata": {
    "scrolled": false
   },
   "outputs": [
    {
     "data": {
      "text/html": [
       "<div>\n",
       "<style scoped>\n",
       "    .dataframe tbody tr th:only-of-type {\n",
       "        vertical-align: middle;\n",
       "    }\n",
       "\n",
       "    .dataframe tbody tr th {\n",
       "        vertical-align: top;\n",
       "    }\n",
       "\n",
       "    .dataframe thead th {\n",
       "        text-align: right;\n",
       "    }\n",
       "</style>\n",
       "<table border=\"1\" class=\"dataframe\">\n",
       "  <thead>\n",
       "    <tr style=\"text-align: right;\">\n",
       "      <th></th>\n",
       "      <th>Number of Trees</th>\n",
       "      <th>Bagging_test</th>\n",
       "      <th>RandomForest_test</th>\n",
       "      <th>Bagging_OOB</th>\n",
       "      <th>RandomForest_OOB</th>\n",
       "      <th>Single_test</th>\n",
       "    </tr>\n",
       "  </thead>\n",
       "  <tbody>\n",
       "    <tr>\n",
       "      <th>1</th>\n",
       "      <td>10.0</td>\n",
       "      <td>0.201342</td>\n",
       "      <td>0.208054</td>\n",
       "      <td>0.262626</td>\n",
       "      <td>0.232323</td>\n",
       "      <td>0.281879</td>\n",
       "    </tr>\n",
       "    <tr>\n",
       "      <th>2</th>\n",
       "      <td>20.0</td>\n",
       "      <td>0.214765</td>\n",
       "      <td>0.187919</td>\n",
       "      <td>0.225589</td>\n",
       "      <td>0.205387</td>\n",
       "      <td>0.281879</td>\n",
       "    </tr>\n",
       "    <tr>\n",
       "      <th>3</th>\n",
       "      <td>30.0</td>\n",
       "      <td>0.208054</td>\n",
       "      <td>0.187919</td>\n",
       "      <td>0.23569</td>\n",
       "      <td>0.205387</td>\n",
       "      <td>0.281879</td>\n",
       "    </tr>\n",
       "    <tr>\n",
       "      <th>4</th>\n",
       "      <td>40.0</td>\n",
       "      <td>0.194631</td>\n",
       "      <td>0.181208</td>\n",
       "      <td>0.239057</td>\n",
       "      <td>0.191919</td>\n",
       "      <td>0.281879</td>\n",
       "    </tr>\n",
       "    <tr>\n",
       "      <th>5</th>\n",
       "      <td>50.0</td>\n",
       "      <td>0.214765</td>\n",
       "      <td>0.181208</td>\n",
       "      <td>0.222222</td>\n",
       "      <td>0.198653</td>\n",
       "      <td>0.281879</td>\n",
       "    </tr>\n",
       "  </tbody>\n",
       "</table>\n",
       "</div>"
      ],
      "text/plain": [
       "   Number of Trees Bagging_test RandomForest_test Bagging_OOB  \\\n",
       "1             10.0     0.201342          0.208054    0.262626   \n",
       "2             20.0     0.214765          0.187919    0.225589   \n",
       "3             30.0     0.208054          0.187919     0.23569   \n",
       "4             40.0     0.194631          0.181208    0.239057   \n",
       "5             50.0     0.214765          0.181208    0.222222   \n",
       "\n",
       "  RandomForest_OOB Single_test  \n",
       "1         0.232323    0.281879  \n",
       "2         0.205387    0.281879  \n",
       "3         0.205387    0.281879  \n",
       "4         0.191919    0.281879  \n",
       "5         0.198653    0.281879  "
      ]
     },
     "execution_count": 15,
     "metadata": {},
     "output_type": "execute_result"
    }
   ],
   "source": [
    "Error_n_trees_frame.head()"
   ]
  },
  {
   "cell_type": "code",
   "execution_count": 16,
   "metadata": {},
   "outputs": [
    {
     "data": {
      "image/png": "[encoded data removed]",
      "text/plain": [
       "<Figure size 576x432 with 1 Axes>"
      ]
     },
     "metadata": {
      "needs_background": "light"
     },
     "output_type": "display_data"
    }
   ],
   "source": [
    "# 虚线是最大深度为3的单一决策树预测误差\n",
    "plt.figure(figsize=(8,6))\n",
    "colors = ['black','gold','dodgerblue','forestgreen']\n",
    "plt.plot(Error_n_trees_frame['Number of Trees'], Error_n_trees_frame['Single_test'] ,\n",
    "             label = '',linestyle = '--',linewidth = 0.7, color = 'grey')\n",
    "for i in range(4):\n",
    "    plt.plot(Error_n_trees_frame['Number of Trees'], Error_n_trees_frame[Error_n_trees_frame.columns[1:-1][i]] ,\n",
    "             label = Error_n_trees_frame.columns[1:-1][i],linestyle = '-',linewidth = 0.7, color = colors[i])\n",
    "plt.xlabel('Number of Trees')\n",
    "plt.ylabel('Test Classification Error')\n",
    "plt.legend(loc = 'upper right')\n",
    "plt.show()"
   ]
  },
  {
   "cell_type": "markdown",
   "metadata": {},
   "source": [
    "## 8.2.5 Boosting"
   ]
  },
  {
   "cell_type": "markdown",
   "metadata": {},
   "source": [
    "boosting的算法思路如下：\n",
    "\n",
    "1. 对于训练集的每个样本建立权值$w_i$，增大被误分类的样本的权值\n",
    "\n",
    "\n",
    "2. 进行迭代的过程中，每一步迭代都是一个弱分类器，需要用某种策略将其组合，作为最终模型。（例如AdaBoost给每个弱分类器一个权值，将其线性组合为最终分类器。误差越小的弱分类器，权值越大）"
   ]
  },
  {
   "cell_type": "markdown",
   "metadata": {},
   "source": [
    "算法示例：\n",
    "![title](img/boosting原理.PNG)"
   ]
  },
  {
   "cell_type": "markdown",
   "metadata": {},
   "source": [
    "Boosting有三个超参数：\n",
    "\n",
    "    \n",
    "1. 树的数量，即M。与bagging和random forests不同，如果 M 太大，boosting 可能会过度拟合，尽管这种过度拟合往往会缓慢发生。我们使用交叉验证来选择M。\n",
    "\n",
    "2. 收缩参数λ，一个小的正数。这控制了提升学习的速度。典型值为 0.01 或 0.001，正确的选择取决于问题。非常小的 λ 可能需要使用非常大的M值才能获得良好的性能。\n",
    "\n",
    "3. 每棵树中的分裂数 d，它控制着增强集成的复杂性。通常 d = 1 效果很好，在这种情况下，每棵树都是一个树桩，由单个分割组成。"
   ]
  },
  {
   "cell_type": "code",
   "execution_count": 17,
   "metadata": {},
   "outputs": [
    {
     "name": "stdout",
     "output_type": "stream",
     "text": [
      "Boosting test_accuracy: 0.8053691275167785\n",
      "Boosting test_accuracy: 0.8322147651006712\n"
     ]
    }
   ],
   "source": [
    "# Boosting\n",
    "X_train, X_test, y_train, y_test = train_test_split(X, y, test_size=0.5, random_state=0)\n",
    "\n",
    "boosting_clf_depth_1 =GradientBoostingClassifier(max_depth=1, n_estimators=1000, learning_rate=0.01, random_state=0)\n",
    "boosting_clf_depth_2 =GradientBoostingClassifier(max_depth=2, n_estimators=1000, learning_rate=0.01, random_state=0)\n",
    "\n",
    "boosting_clf_depth_1.fit(X_train,y_train)\n",
    "boosting_clf_depth_2.fit(X_train,y_train)\n",
    "\n",
    "y_test_pred_depth_1 = boosting_clf_depth_1.predict(X_test)\n",
    "y_test_pred_depth_2 = boosting_clf_depth_2.predict(X_test)\n",
    "\n",
    "print('Boosting test_accuracy: %s'%(metrics.accuracy_score(y_test,y_test_pred_depth_1)))\n",
    "print('Boosting test_accuracy: %s'%(metrics.accuracy_score(y_test,y_test_pred_depth_2)))"
   ]
  },
  {
   "cell_type": "markdown",
   "metadata": {},
   "source": [
    "由于boosting方法步长较少，树迭代次数较多，多次训练提升树模型运行时间较长，此处插入教材图片\n",
    "![title](img/boosting.PNG)"
   ]
  },
  {
   "cell_type": "markdown",
   "metadata": {},
   "source": [
    "# 8.3 Lab"
   ]
  },
  {
   "cell_type": "markdown",
   "metadata": {},
   "source": [
    "## 8.3.1 Bagging and Random Forests"
   ]
  },
  {
   "cell_type": "code",
   "execution_count": 18,
   "metadata": {},
   "outputs": [
    {
     "name": "stdout",
     "output_type": "stream",
     "text": [
      "<class 'pandas.core.frame.DataFrame'>\n",
      "RangeIndex: 506 entries, 0 to 505\n",
      "Data columns (total 14 columns):\n",
      " #   Column   Non-Null Count  Dtype  \n",
      "---  ------   --------------  -----  \n",
      " 0   crim     506 non-null    float64\n",
      " 1   zn       506 non-null    float64\n",
      " 2   indus    506 non-null    float64\n",
      " 3   chas     506 non-null    int64  \n",
      " 4   nox      506 non-null    float64\n",
      " 5   rm       506 non-null    float64\n",
      " 6   age      506 non-null    float64\n",
      " 7   dis      506 non-null    float64\n",
      " 8   rad      506 non-null    int64  \n",
      " 9   tax      506 non-null    int64  \n",
      " 10  ptratio  506 non-null    float64\n",
      " 11  black    506 non-null    float64\n",
      " 12  lstat    506 non-null    float64\n",
      " 13  medv     506 non-null    float64\n",
      "dtypes: float64(11), int64(3)\n",
      "memory usage: 55.5 KB\n"
     ]
    }
   ],
   "source": [
    "# 13 features in dataset\n",
    "boston_df = pd.read_csv('数据/Boston.csv')\n",
    "boston_df.info()"
   ]
  },
  {
   "cell_type": "code",
   "execution_count": 19,
   "metadata": {},
   "outputs": [],
   "source": [
    "X = boston_df.drop('medv', axis=1)\n",
    "y = boston_df.medv\n",
    "\n",
    "X_train, X_test, y_train, y_test = train_test_split(X, y, test_size=0.5, random_state=0)"
   ]
  },
  {
   "cell_type": "code",
   "execution_count": 20,
   "metadata": {},
   "outputs": [
    {
     "data": {
      "text/plain": [
       "16.743633379446635"
      ]
     },
     "execution_count": 20,
     "metadata": {},
     "output_type": "execute_result"
    }
   ],
   "source": [
    "# Bagging\n",
    "regr1 = BaggingRegressor(base_estimator = DecisionTreeRegressor(),n_estimators=100)\n",
    "regr1.fit(X_train, y_train)\n",
    "pred = regr1.predict(X_test)\n",
    "metrics.mean_squared_error(y_test, pred)"
   ]
  },
  {
   "cell_type": "code",
   "execution_count": 21,
   "metadata": {
    "scrolled": true
   },
   "outputs": [
    {
     "data": {
      "text/plain": [
       "Text(0, 0.5, 'y_test')"
      ]
     },
     "execution_count": 21,
     "metadata": {},
     "output_type": "execute_result"
    },
    {
     "data": {
      "image/png": "[encoded data removed]",
      "text/plain": [
       "<Figure size 720x360 with 1 Axes>"
      ]
     },
     "metadata": {
      "needs_background": "light"
     },
     "output_type": "display_data"
    }
   ],
   "source": [
    "plt.figure(figsize=(10,5))\n",
    "plt.scatter(pred, y_test, label='medv')\n",
    "plt.plot([0, max(pred)], [0, max(y_test)], '--k')\n",
    "plt.xlabel('pred')\n",
    "plt.ylabel('y_test')"
   ]
  },
  {
   "cell_type": "code",
   "execution_count": 22,
   "metadata": {},
   "outputs": [
    {
     "data": {
      "text/plain": [
       "16.0181136798419"
      ]
     },
     "execution_count": 22,
     "metadata": {},
     "output_type": "execute_result"
    }
   ],
   "source": [
    "# Random forests: using 6 features\n",
    "regr2 = RandomForestRegressor(max_features=6, random_state=0,n_estimators=100)\n",
    "regr2.fit(X_train, y_train)\n",
    "pred = regr2.predict(X_test)\n",
    "metrics.mean_squared_error(y_test, pred)"
   ]
  },
  {
   "cell_type": "code",
   "execution_count": 23,
   "metadata": {},
   "outputs": [
    {
     "data": {
      "image/png": "[encoded data removed]",
      "text/plain": [
       "<Figure size 432x288 with 1 Axes>"
      ]
     },
     "metadata": {
      "needs_background": "light"
     },
     "output_type": "display_data"
    }
   ],
   "source": [
    "Importance = pd.DataFrame({'Importance':regr2.feature_importances_*100}, index=X.columns)\n",
    "Importance.sort_values('Importance', axis=0, ascending=True).plot(kind='barh', color='r', )\n",
    "plt.xlabel('Variable Importance')\n",
    "plt.gca().legend_ = None"
   ]
  },
  {
   "cell_type": "markdown",
   "metadata": {},
   "source": [
    "## 8.3.2 Boosting"
   ]
  },
  {
   "cell_type": "code",
   "execution_count": 24,
   "metadata": {},
   "outputs": [
    {
     "data": {
      "text/plain": [
       "15.55180215646078"
      ]
     },
     "execution_count": 24,
     "metadata": {},
     "output_type": "execute_result"
    }
   ],
   "source": [
    "regr = GradientBoostingRegressor(n_estimators=500, learning_rate=0.01, random_state=0)\n",
    "regr.fit(X_train, y_train)\n",
    "pred = regr.predict(X_test)\n",
    "metrics.mean_squared_error(y_test, regr.predict(X_test))"
   ]
  },
  {
   "cell_type": "code",
   "execution_count": 25,
   "metadata": {},
   "outputs": [
    {
     "name": "stdout",
     "output_type": "stream",
     "text": [
      "zn          0.010346\n",
      "chas        0.128392\n",
      "rad         0.141748\n",
      "indus       0.414420\n",
      "black       0.463254\n",
      "nox         0.683027\n",
      "age         0.934331\n",
      "tax         1.152534\n",
      "crim        2.564927\n",
      "ptratio     4.516732\n",
      "dis         6.143004\n",
      "rm         27.940325\n",
      "lstat      54.906958\n",
      "dtype: float64\n"
     ]
    },
    {
     "data": {
      "image/png": "[encoded data removed]",
      "text/plain": [
       "<Figure size 432x288 with 1 Axes>"
      ]
     },
     "metadata": {
      "needs_background": "light"
     },
     "output_type": "display_data"
    }
   ],
   "source": [
    "feature_importance = regr.feature_importances_*100\n",
    "rel_imp = pd.Series(feature_importance, index=X.columns).sort_values(inplace=False)\n",
    "print(rel_imp)\n",
    "rel_imp.T.plot(kind='barh', color='r', )\n",
    "plt.xlabel('Variable Importance')\n",
    "plt.gca().legend_ = None"
   ]
  },
  {
   "cell_type": "markdown",
   "metadata": {},
   "source": [
    "# Appendix: Tree Regression in *Machine Learning in Action*"
   ]
  },
  {
   "cell_type": "markdown",
   "metadata": {},
   "source": [
    "以下代码以字典结构创建了一颗回归树："
   ]
  },
  {
   "cell_type": "code",
   "execution_count": 26,
   "metadata": {},
   "outputs": [],
   "source": [
    "from numpy import *\n",
    "from pylab import plot, show\n",
    "import os\n",
    "## 数据载入\n",
    "def loadDataSet(fileName):      #general function to parse tab -delimited floats\n",
    "    dataMat = []                #assume last column is target value\n",
    "    fr = open(fileName)\n",
    "    for line in fr.readlines():\n",
    "        curLine = line.strip().split('\\t')\n",
    "        fltLine = list(map(float,curLine)) #map all elements to float()\n",
    "        dataMat.append(fltLine)\n",
    "    return dataMat\n",
    "\n",
    "## 数据处理\n",
    "# 通过数组过滤，将数据集切分成两个子集\n",
    "def binSplitDataSet(dataSet, feature, value):\n",
    "    mat0 = dataSet[nonzero(dataSet[:,feature] > value)[0],:]\n",
    "    mat1 = dataSet[nonzero(dataSet[:,feature] <= value)[0],:]\n",
    "    return mat0,mat1"
   ]
  },
  {
   "cell_type": "code",
   "execution_count": 27,
   "metadata": {},
   "outputs": [
    {
     "name": "stdout",
     "output_type": "stream",
     "text": [
      "[[1. 0. 0. 0.]\n",
      " [0. 1. 0. 0.]\n",
      " [0. 0. 1. 0.]\n",
      " [0. 0. 0. 1.]]\n",
      "[[0. 1. 0. 0.]] [[1. 0. 0. 0.]\n",
      " [0. 0. 1. 0.]\n",
      " [0. 0. 0. 1.]]\n"
     ]
    }
   ],
   "source": [
    "# 测试数据集切分函数\n",
    "testMat = mat(eye(4))\n",
    "print(testMat)\n",
    "\n",
    "mat0, mat1 = binSplitDataSet(testMat,1,0.5)\n",
    "print(mat0,mat1)"
   ]
  },
  {
   "cell_type": "code",
   "execution_count": 28,
   "metadata": {},
   "outputs": [],
   "source": [
    "## 回归树的切分函数\n",
    "# 生成叶节点——目标变量的均值\n",
    "def regLeaf(dataSet):  # returns the value used for each leaf\n",
    "    return mean(dataSet[:, -1])\n",
    "\n",
    "# 误差估计函数_目标变量的平方误差\n",
    "def regErr(dataSet):\n",
    "    return var(dataSet[:, -1]) * shape(dataSet)[0]\n",
    "\n",
    "# 核心函数—— 寻找最佳切分点\n",
    "def chooseBestSplit(dataSet, leafType=regLeaf, errType=regErr, ops=(1, 4)):\n",
    "    # 停止设定变量\n",
    "    tolS = ops[0]  # 容许的误差一下降值\n",
    "    tolN = ops[1]  # 切分最小样本数\n",
    "    # if all the target variables are the same value: quit and return value\n",
    "    if len(set(dataSet[:, -1].T.tolist()[0])) == 1:  # exit cond 1\n",
    "        return None, leafType(dataSet)\n",
    "\n",
    "    # 初始化\n",
    "    m, n = shape(dataSet)\n",
    "    # the choice of the best feature is driven by Reduction in RSS error from mean\n",
    "    S = errType(dataSet)\n",
    "    bestS = inf\n",
    "    bestIndex = 0\n",
    "    bestValue = 0\n",
    "\n",
    "    # 在所有特征值和和这个特征值的所有取值上遍历\n",
    "    for featIndex in range(n - 1):\n",
    "        for splitVal in set(dataSet[:, featIndex].T.tolist()[0]):\n",
    "            # 切分\n",
    "            mat0, mat1 = binSplitDataSet(dataSet, featIndex, splitVal)\n",
    "            # 寻找最低误差切分\n",
    "            if (shape(mat0)[0] < tolN) or (shape(mat1)[0] < tolN): continue\n",
    "            newS = errType(mat0) + errType(mat1)\n",
    "            if newS < bestS:\n",
    "                bestIndex = featIndex\n",
    "                bestValue = splitVal\n",
    "                bestS = newS\n",
    "\n",
    "    # if the decrease (S-bestS) is less than a threshold don't do the split\n",
    "    if (S - bestS) < tolS:\n",
    "        return None, leafType(dataSet)  # exit cond 2\n",
    "    mat0, mat1 = binSplitDataSet(dataSet, bestIndex, bestValue)\n",
    "    \n",
    "    # if 切分出的数据集太小—— 抛弃这个切分\n",
    "    if (shape(mat0)[0] < tolN) or (shape(mat1)[0] < tolN):  # exit cond 3\n",
    "        return None, leafType(dataSet)\n",
    "    return bestIndex, bestValue  # returns the best feature to split on and the value used for that split\n",
    "\n",
    "## 创建树的整体函数\n",
    "def createTree(dataSet, leafType=regLeaf, errType=regErr,\n",
    "               ops=(1, 4)):  # assume dataSet is NumPy Mat so we can array filtering\n",
    "    # 数据集切分——训练集和便签集\n",
    "    feat, val = chooseBestSplit(dataSet, leafType, errType, ops)  # choose the best split\n",
    "    # Todo:确定最佳切分的函数在后面实现\n",
    "    \n",
    "    # 递归停止条件\n",
    "    if feat == None:\n",
    "        return val  # if the splitting hit a stop condition return val\n",
    "    retTree = {}\n",
    "    retTree['spInd'] = feat\n",
    "    retTree['spVal'] = val\n",
    "    lSet, rSet = binSplitDataSet(dataSet, feat, val)\n",
    "    retTree['left'] = createTree(lSet, leafType, errType, ops)\n",
    "    retTree['right'] = createTree(rSet, leafType, errType, ops)\n",
    "    return retTree"
   ]
  },
  {
   "cell_type": "code",
   "execution_count": 29,
   "metadata": {},
   "outputs": [
    {
     "data": {
      "image/png": "[encoded data removed]",
      "text/plain": [
       "<Figure size 432x288 with 1 Axes>"
      ]
     },
     "metadata": {
      "needs_background": "light"
     },
     "output_type": "display_data"
    }
   ],
   "source": [
    "myDat = loadDataSet(r'数据\\ex00.txt')\n",
    "myMat = mat(myDat)\n",
    "plot(myMat[:,0],myMat[:,1], 'bo')\n",
    "show()"
   ]
  },
  {
   "cell_type": "code",
   "execution_count": 30,
   "metadata": {},
   "outputs": [
    {
     "name": "stdout",
     "output_type": "stream",
     "text": [
      "{'spInd': 0, 'spVal': 0.48813, 'left': 1.0180967672413792, 'right': -0.04465028571428572}\n"
     ]
    }
   ],
   "source": [
    "print(createTree(myMat))"
   ]
  },
  {
   "cell_type": "code",
   "execution_count": 31,
   "metadata": {},
   "outputs": [
    {
     "data": {
      "image/png": "[encoded data removed]",
      "text/plain": [
       "<Figure size 432x288 with 1 Axes>"
      ]
     },
     "metadata": {
      "needs_background": "light"
     },
     "output_type": "display_data"
    }
   ],
   "source": [
    "myDat1 = loadDataSet(r'数据\\ex0.txt')\n",
    "myMat1 = mat(myDat1)\n",
    "plot(myMat1[:,1],myMat1[:,2], 'bo')\n",
    "show()"
   ]
  },
  {
   "cell_type": "code",
   "execution_count": 32,
   "metadata": {},
   "outputs": [
    {
     "name": "stdout",
     "output_type": "stream",
     "text": [
      "{'spInd': 1, 'spVal': 0.39435, 'left': {'spInd': 1, 'spVal': 0.582002, 'left': {'spInd': 1, 'spVal': 0.797583, 'left': 3.9871632, 'right': 2.9836209534883724}, 'right': 1.980035071428571}, 'right': {'spInd': 1, 'spVal': 0.197834, 'left': 1.0289583666666666, 'right': -0.023838155555555553}}\n"
     ]
    }
   ],
   "source": [
    "print(createTree(myMat1))"
   ]
  },
  {
   "cell_type": "markdown",
   "metadata": {},
   "source": [
    "参考原文：\n",
    "\n",
    "知-阿泽：【机器学习】决策树（中）——Random Forest、Adaboost、GBDT （非常详细）\n",
    "https://zhuanlan.zhihu.com/p/86263786\n",
    "\n",
    "CSDN-Chercheer：利用sklearn进行集成学习之相关理论\n",
    "https://blog.csdn.net/CherDW/article/details/54915774?utm_source=blogxgwz2"
   ]
  }
 ],
 "metadata": {
  "kernelspec": {
   "display_name": "Python 3",
   "language": "python",
   "name": "python3"
  },
  "language_info": {
   "codemirror_mode": {
    "name": "ipython",
    "version": 3
   },
   "file_extension": ".py",
   "mimetype": "text/x-python",
   "name": "python",
   "nbconvert_exporter": "python",
   "pygments_lexer": "ipython3",
   "version": "3.8.11"
  },
  "toc": {
   "base_numbering": 1,
   "nav_menu": {},
   "number_sections": true,
   "sideBar": true,
   "skip_h1_title": false,
   "title_cell": "Table of Contents",
   "title_sidebar": "Contents",
   "toc_cell": false,
   "toc_position": {
    "height": "calc(100% - 180px)",
    "left": "10px",
    "top": "150px",
    "width": "279.273px"
   },
   "toc_section_display": true,
   "toc_window_display": true
  },
  "varInspector": {
   "cols": {
    "lenName": 16,
    "lenType": 16,
    "lenVar": 40
   },
   "kernels_config": {
    "python": {
     "delete_cmd_postfix": "",
     "delete_cmd_prefix": "del ",
     "library": "var_list.py",
     "varRefreshCmd": "print(var_dic_list())"
    },
    "r": {
     "delete_cmd_postfix": ") ",
     "delete_cmd_prefix": "rm(",
     "library": "var_list.r",
     "varRefreshCmd": "cat(var_dic_list()) "
    }
   },
   "types_to_exclude": [
    "module",
    "function",
    "builtin_function_or_method",
    "instance",
    "_Feature"
   ],
   "window_display": false
  }
 },
 "nbformat": 4,
 "nbformat_minor": 2
}
