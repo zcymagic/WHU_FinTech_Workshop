{
 "cells": [
  {
   "cell_type": "markdown",
   "metadata": {},
   "source": [
    "## 1.1 什么是机器学习"
   ]
  },
  {
   "cell_type": "markdown",
   "metadata": {},
   "source": [
    "机器学习是一门通过编程让计算机从数据中进行学习的科学和艺术。\n",
    "\n",
    "工程化的概念：\n",
    "   \n",
    "* 一个计算机程序利用经验E来学习任务T，性能是P，如果针对任务T的性能P随着经验E的增长而增长，则称之为机器学习。\n",
    "                            ——汤姆·米切尔（Tom Mitchell），1997"
   ]
  },
  {
   "cell_type": "markdown",
   "metadata": {},
   "source": [
    "例如，垃圾邮件过滤器就是一个机器学习程序，它可以根据垃圾邮件和普通邮件学习标记垃圾邮件。系统用来进行学习的样例称作**训练集（training set）**。每个训练样例称作训练实例或样本（training instance or sample）。在这个示例中，任务T就是标记新邮件是否是垃圾邮件，经验E是训练数据，性能P需要定义。例如，可以使用正确分类邮件的比例。这个性能指标称为准确率，通常用在分类任务中。"
   ]
  },
  {
   "cell_type": "markdown",
   "metadata": {},
   "source": [
    "## 1.2　为什么使用机器学习"
   ]
  },
  {
   "cell_type": "markdown",
   "metadata": {},
   "source": [
    "### 1. 自动适应改变\n",
    "\n",
    "（依上例）与传统程序相比，基于机器学习技术的垃圾邮件过滤器会自动学习词和短语，这些词和短语是垃圾邮件的预测因素，通过与非垃圾邮件比较，检测垃圾邮件中反复出现的词语模式。这个程序更短，更易维护，也更精确。\n",
    "![title](png/1.png)"
   ]
  },
  {
   "cell_type": "markdown",
   "metadata": {},
   "source": [
    "如果垃圾邮件的发送者发现所有包含“4U”的邮件都被屏蔽了，他们会转而使用“For U”。使用传统方法的垃圾邮件过滤器需要更新来标记“For U”。如果垃圾邮件的发送者持续更改，你就需要一直不停地写入新规则。\n",
    "\n",
    "相反，基于机器学习的垃圾邮件过滤器会自动注意到“For U”在用户手动标记的垃圾邮件中频繁出现，然后就能自动标记垃圾邮件而无须人工干预了\n",
    "![title](png/2.png)"
   ]
  },
  {
   "cell_type": "markdown",
   "metadata": {},
   "source": [
    "### 2. 善于处理复杂或没有已知算法的问题\n",
    "例如，对于语音识别，假设你想写一个可以识别“one”和“two”的简单程序。你可能注意到“two”的起始是一个高音（“T”），因此会写一个可以测量高音强度的硬编码算法，用于区分“one”和“two”。但是很明显，这个方法不能推广到所有的语音识别（人们所处环境不同、语言不同、使用的词汇不同）。（现在）最佳的方法是根据给定的大量单词录音，写一个可以自我学习的算法。"
   ]
  },
  {
   "cell_type": "markdown",
   "metadata": {},
   "source": [
    "### 3. 帮助人类进行学习\n",
    "机器学习算法可以检测自己学到了什么（尽管这对于某些算法很棘手）。例如，在\n",
    "垃圾邮件过滤器训练了足够多的垃圾邮件后，就可以用它列出垃圾邮件预测器的单词和单词组合。有时可能会发现不引人关注的关联或新趋势，这有助于更好地理解问题。使用机器学习方法挖掘大量数据来帮助发现不太明显的规律。这称作**数据挖掘(data mining)**。\n",
    "![title](png/3.jpg)"
   ]
  },
  {
   "cell_type": "markdown",
   "metadata": {},
   "source": [
    "## 1.3 机器学习系统的类型"
   ]
  },
  {
   "cell_type": "markdown",
   "metadata": {},
   "source": [
    "现有的机器学习系统类型繁多，为便于理解，我们根据以下标准将它们进行大的分类：\n",
    "* 是否在监督(supervision)下训练（有监督学习、无监督学习、半监督学习和强化学习）。\n",
    "* 是否可以动态地进行增量学习（在线学习和批量学习）。\n",
    "* 是简单地将新的数据点和已知的数据点进行匹配，还是对训练数据进行模式检测然后建立一个预测模型（基于实例的学习和基于模型的学习）。\n",
    "\n",
    "这些标准之间互相并不排斥，你可以以你喜欢的方式将其任意组合。例如，现在最先进的垃圾邮件过滤器可能是使用深度神经网络模型对垃圾邮件和常规邮件进行训练，完成动态学习。这使其成为一个在线的、基于模型的有监督学习系统。"
   ]
  },
  {
   "cell_type": "markdown",
   "metadata": {},
   "source": [
    "### 1.3.1 有监督学习和无监督学习\n",
    "\n",
    "**有监督学习（Supervised learning）**\n",
    "\n",
    "在有监督学习中，馈送到算法的训练数据包括所需的解决方案(输出结果），称之为标签。\n",
    "\n",
    "![title](png/4.png)"
   ]
  },
  {
   "cell_type": "markdown",
   "metadata": {},
   "source": [
    "另一个典型的有监督学习是通过给定一组称为预测器的特征（里程、使用年限、品牌等）来预测一个目标数值（例如汽车的价格）。这种类型的任务称为回归。\n",
    "要训练这样一个系统，需要提供大量的汽车示例，包括它们的预测器和标签（即价格）。\n",
    "这里是一些最重要的有监督学习算法（本书中会介绍）：\n",
    "* k-近邻算法\n",
    "* 线性回归\n",
    "* 逻辑回归\n",
    "* 支持向量机(SVM)\n",
    "* 决策树和随机森林\n",
    "* 神经网络"
   ]
  },
  {
   "cell_type": "markdown",
   "metadata": {},
   "source": [
    "**无监督学习（Unsupervised learning）**\n",
    "\n",
    "顾名思义，无监督学习的训练数据都是未经标记的。系统会在没有“老师”的情况下进行学习。这里有一些最重要的无监督学习算法：\n",
    "* 聚类算法\n",
    "* k-均值算法\n",
    "* DBSCAN\n",
    "* 分层聚类分析（HCA）\n",
    "* 异常检测和新颖性检测\n",
    "* 单类SVM\n",
    "* 孤立森林\n",
    "* 可视化和降维\n",
    "* 主成分分析（PCA）\n",
    "* 核主成分分析\n",
    "* t-分布随机近邻嵌入（t-SNE）\n",
    "* 关联规则学习\n",
    "* Apriori\n",
    "* Eclat"
   ]
  },
  {
   "cell_type": "markdown",
   "metadata": {},
   "source": [
    "* 例如，假设你现在拥有大量关于自己博客访客的数据。你想通过一个**聚类算法（clustering algorithm）**来检测相似访客的分组（见图1-8）。你不大可能告诉这个算法每个访客属于哪个分组——算法会自行寻找这种关联。例如，它可能会注意到40%的访客是喜欢漫画的男性，并且通常在夜晚阅读你的博客；20%的访客是年轻的科幻爱好者，通常在周末访问；等等。如果使用的是分层聚类算法，还可以将每组细分为更小的组。这可能有助于你针对不同的分组来发布博客内容。\n",
    "![title](png/5.png)\n",
    "\n",
    "\n",
    "* **可视化算法（Visualization algorithms)**也是无监督学习算法的一个不错的示例：你提供大量复杂的、未标记的数据，算法轻松绘制输出2D或3D的数据表示。这些算法会尽其所能地保留尽量多的结构（例如，尝试保持输入的单独集群在可视化中不会被重叠），以便于你理解这些数据是怎么组织的，甚至识别出一些未知的模式。\n",
    "![title](png/66.png)\n",
    "\n",
    "\n",
    "* 另一个很重要的无监督任务是**异常检测(anomaly detection)**——例如，检测异常信用卡交易以防止欺诈，捕捉制造缺陷，或者在给另一种机器学习算法提供数据之前自动从数据集中移除异常值。\n",
    "![title](png/77.png)"
   ]
  },
  {
   "cell_type": "markdown",
   "metadata": {},
   "source": [
    "**半监督学习(Semisupervised learning）**\n",
    "\n",
    "由于通常给数据做标记是非常耗时和昂贵的，你往往会有很多未标记的数据而很少有已标记的数据。有些算法可以处理部分已标记的数据。这被称为半监督学习。\n",
    "\n",
    "有些照片托管服务（例如Google相册）就是很好的示例。一旦你将所有的家庭照片上传到服务器后，它会自动识别出人物A出现在照片1、5和11中，人物B出现在照片2、5和7中。这是算法的无监督部分（聚类）。现在系统需要你做的只是告诉它这些人都是谁。给每个人一个标签之后，它就可以给每张照片中的每个人命名，这对于搜索图片非常重要。\n"
   ]
  },
  {
   "cell_type": "markdown",
   "metadata": {},
   "source": [
    "**强化学习(Reinforcement Learning)**\n",
    "\n",
    "强化学习则非常与众不同。它的学习系统（在其语境中称为智能体）能够观察环境，做出选择，执行动作，并获得回报（或者是以负面回报的形式获得惩罚）。所以它必须自行学\n",
    "习什么是最好的策略，从而随着时间的推移获得最大的回报。\n",
    "\n",
    "例如，许多机器人通过强化学习算法来学习如何行走。DeepMind的AlphaGo项目也是一个强化学习的好示例。2017年5月，AlphaGo在围棋比赛中击败世界冠军柯洁而声名鹊起。通过分析数百万场比赛，然后自己跟自己下棋，它学到了制胜策略。要注意，在跟世界冠军对弈的时候，AlphaGo处于关闭学习状态，它只是应用它所学到的策略而已。"
   ]
  },
  {
   "cell_type": "markdown",
   "metadata": {},
   "source": [
    "### 1.3.2 批量学习和在线学习\n",
    "\n",
    "\n",
    "另一个给机器学习系统分类的标准是看系统是否可以从传入的数据流中进行增量学习。\n",
    "\n",
    "**批量学习（Batch learning/offline learning）**\n",
    "\n",
    "在批量学习中，系统无法进行增量学习——即必须使用所有可用数据进行训练。这需要大量时间和计算资源，所以通常都是离线完成的。离线学习就是先训练系统，然后将其投入生产环境，这时学习过程停止，它只是将其所学到的应用出来。\n",
    "\n",
    "**在线学习（Online learning）**\n",
    "\n",
    "在在线学习中，你可以循序渐进地给系统提供训练数据，逐步积累学习成果。这种提供数据的方式可以是单独的，也可以采用小批量的小组数据来进行训练。每一步学习都很快速并且便宜，这样系统就可以根据飞速写入的最新数据进行学习。\n",
    "![title](png/6.png)\n",
    "\n",
    "在线学习面临的一个重大挑战是，如果给系统输入不良数据，系统的性能将会逐渐下降。现在某些实时系统的客户说不定已经注意到了这个现象。不良数据的来源可能是机器上发生故障的传感器，或者是有人对搜索引擎恶意刷屏以提高搜索结果排名等。为了降低这种风险，你需要密切监控系统，一旦检测到性能下降，就及时中断学习（可能还需要恢复到之前的工作状态）。当然，同时你还需要监控输入数据，并对异常数据做出响应（例如，使用异常检测算法）。"
   ]
  },
  {
   "cell_type": "markdown",
   "metadata": {},
   "source": [
    "### 1.3.3　基于实例的学习与基于模型的学习\n",
    "另一种对机器学习系统进行分类的方法是看它们如何泛化(generalize)。大多数机器学习任务是要做出预测。这意味着系统需要通过给定的训练示例，在它此前并未见过的示例上进行预测（泛化）。在训练数据上实现良好的性能指标固然重要，但是还不够充分。真正的目的是要在新的对象实例上表现出色。\n",
    "\n",
    "泛化的主要方法有两种：基于实例的学习和基于模型的学习。\n"
   ]
  },
  {
   "cell_type": "markdown",
   "metadata": {},
   "source": [
    "**基于实例的学习(Instance-based learning）**\n",
    "\n",
    "我们最司空见惯的学习方法就是简单地死记硬背。如果以这种方式创建一个垃圾邮件过滤器，那么它可能只会标记那些与已被用户标记为垃圾邮件完全相同的邮件——这虽然不是最差的解决方案，但肯定也不是最好的。\n",
    "\n",
    "除了完全相同的，你还可以通过编程让系统标记与已知的垃圾邮件非常相似的邮件。这里需要两封邮件之间的相似度度量。一种（基本的）相似度度量方式是计算它们之间相同的单词数目。如果一封新邮件与一封已知的垃圾邮件有许多单词相同，系统就可以将其标记为垃圾邮件。\n",
    "\n",
    "这被称为基于实例的学习：系统用心学习这些示例，然后通过使用相似度度量来比较新实例和已经学习的实例（或它们的子集），从而泛化新实例。例如，下图的新实例会归为三角形，因为大多数最相似的实例属于那一类。\n",
    "![](png/7.png)"
   ]
  },
  {
   "cell_type": "markdown",
   "metadata": {},
   "source": [
    "**基于模型的学习（Model-based learning）**\n",
    "\n",
    "从一组示例集中实现泛化的另一种方法是构建这些示例的模型，然后使用该模型进行预测。这称为基于模型的学习。\n",
    "\n",
    "举例来说，假设你想知道金钱是否让人感到快乐，你可以从经合组织（OECD）的网站上下载“幸福指数”的数据，再从国际货币基金组织（IMF）的网站上找到人均GDP的统计数据，将数据并入表格，按照人均GDP排序，你会得到如下表所示的摘要。\n",
    "![](png/8.png)\n",
    "\n",
    "让我们绘制这些国家的数据\n",
    "![](png/9.png)\n",
    "\n",
    "这里似乎有一个趋势！虽然数据包含噪声（即部分随机），但是仍然可以看出随着该国人均GDP的增加，生活满意度或多或少呈线性上升趋势。所以你可以把生活满意度建模成一个关于人均GDP的线性函数。这个过程叫作模型选择。我们为生活满意度选择了一个线性模型，该模型只有一个属性，就是人均GDP:\n",
    "<img src=\"https://i.loli.net/2021/03/03/D1MoeWmpZklviQJ.jpg\" width=\"50%\">\n",
    "\n",
    "衡量模型的性能表现：对于线性回归问题，通常的选择是使用成本函数来衡量线性模型的预测与训练实例之间的差距，目的在于尽量使这个差距最小化。这正是线性回归算法的意义所在：通过你提供的训练样本，找出最符合提供数据的线性模型的参数，这就是训练模型。\n",
    "\n",
    "在这个案例中，算法找到的最优参数值为θ0=4.85和θ1=4.91×10-5。\n",
    "![](png/11.png)\n",
    "\n",
    "现在终于可以运行模型来进行预测了。例如，你想知道塞浦路斯人有多幸福，但是经合组织的数据没有提供答案。幸好你有这个模型可以做出预测：先查查塞浦路斯的人均GDP是多少，发现是22587美元，然后应用到模型中，发现生活满意度大约是4.85+22 587×4.91×10-5=5.96。"
   ]
  },
  {
   "cell_type": "code",
   "execution_count": 8,
   "metadata": {},
   "outputs": [],
   "source": [
    "# 此函数将OECD的生活满意度数据与IMF的人均GDP数据合并。\n",
    "def prepare_country_stats(oecd_bli, gdp_per_capita):\n",
    "    oecd_bli = oecd_bli[oecd_bli[\"INEQUALITY\"]==\"TOT\"]\n",
    "    oecd_bli = oecd_bli.pivot(index=\"Country\", columns=\"Indicator\", values=\"Value\")\n",
    "    gdp_per_capita.rename(columns={\"2015\": \"GDP per capita\"}, inplace=True)\n",
    "    gdp_per_capita.set_index(\"Country\", inplace=True)\n",
    "    full_country_stats = pd.merge(left=oecd_bli, right=gdp_per_capita,\n",
    "                                  left_index=True, right_index=True)\n",
    "    full_country_stats.sort_values(by=\"GDP per capita\", inplace=True)\n",
    "    remove_indices = [0, 1, 6, 8, 33, 34, 35]\n",
    "    keep_indices = list(set(range(36)) - set(remove_indices))\n",
    "    return full_country_stats[[\"GDP per capita\", 'Life satisfaction']].iloc[keep_indices]"
   ]
  },
  {
   "cell_type": "code",
   "execution_count": 9,
   "metadata": {},
   "outputs": [
    {
     "data": {
      "image/png": "[encoded data removed]",
      "text/plain": [
       "<Figure size 432x288 with 1 Axes>"
      ]
     },
     "metadata": {
      "needs_background": "light"
     },
     "output_type": "display_data"
    },
    {
     "name": "stdout",
     "output_type": "stream",
     "text": [
      "[[5.96242338]]\n"
     ]
    }
   ],
   "source": [
    "import matplotlib.pyplot as plt\n",
    "import numpy as np\n",
    "import pandas as pd\n",
    "import sklearn.linear_model\n",
    "# Load the data\n",
    "oecd_bli = pd.read_csv(\"oecd_bli_2015.csv\", thousands=',')\n",
    "gdp_per_capita = pd.read_csv(\"gdp_per_capita.csv\",thousands=',',delimiter='\\t',\n",
    "encoding='latin1', na_values=\"n/a\")\n",
    "# Prepare the data\n",
    "country_stats = prepare_country_stats(oecd_bli, gdp_per_capita)\n",
    "X = np.c_[country_stats[\"GDP per capita\"]]\n",
    "y = np.c_[country_stats[\"Life satisfaction\"]]\n",
    "# Visualize the data\n",
    "country_stats.plot(kind='scatter', x=\"GDP per capita\", y='Life satisfaction')\n",
    "plt.show()\n",
    "# Select a linear model\n",
    "model = sklearn.linear_model.LinearRegression()\n",
    "# Train the model\n",
    "model.fit(X, y)\n",
    "# Make a prediction for Cyprus\n",
    "X_new = [[22587]] # Cyprus's GDP per capita\n",
    "print(model.predict(X_new)) # outputs [[ 5.96242338]]"
   ]
  },
  {
   "cell_type": "markdown",
   "metadata": {},
   "source": [
    "如果使用基于实例的学习算法，你会发现斯洛文尼亚（22587美元）的人均GDP最接近塞浦路斯（20732美元），而经合组织的数据告诉我们，斯洛文尼亚人的生活满意度是5.7，因此你很可能会预测塞浦路斯的生活满意度为5.7。如果稍微拉远一些，看看两个与之最接近的国家——葡萄牙和西班牙的生活满意度分别为5.1和6.5。取这三个数值的平均值，得到5.77，这也非常接近基于模型预测所得的值。这个简单的算法被称为k-近邻回归（在本例中，k=3）。"
   ]
  },
  {
   "cell_type": "code",
   "execution_count": 10,
   "metadata": {},
   "outputs": [
    {
     "data": {
      "image/png": "[encoded data removed]",
      "text/plain": [
       "<Figure size 432x288 with 1 Axes>"
      ]
     },
     "metadata": {
      "needs_background": "light"
     },
     "output_type": "display_data"
    },
    {
     "name": "stdout",
     "output_type": "stream",
     "text": [
      "[[5.76666667]]\n"
     ]
    }
   ],
   "source": [
    "import sklearn.neighbors\n",
    "import matplotlib.pyplot as plt\n",
    "import numpy as np\n",
    "import pandas as pd\n",
    "# Load the data\n",
    "oecd_bli = pd.read_csv(\"oecd_bli_2015.csv\", thousands=',')\n",
    "gdp_per_capita = pd.read_csv(\"gdp_per_capita.csv\",thousands=',',delimiter='\\t',\n",
    "encoding='latin1', na_values=\"n/a\")\n",
    "# Prepare the data\n",
    "country_stats = prepare_country_stats(oecd_bli, gdp_per_capita)\n",
    "X = np.c_[country_stats[\"GDP per capita\"]]\n",
    "y = np.c_[country_stats[\"Life satisfaction\"]]\n",
    "# Visualize the data\n",
    "country_stats.plot(kind='scatter', x=\"GDP per capita\", y='Life satisfaction')\n",
    "plt.show()\n",
    "# Select a linear model\n",
    "model = sklearn.neighbors.KNeighborsRegressor(\n",
    "n_neighbors=3)\n",
    "# Train the model\n",
    "model.fit(X, y)\n",
    "# Make a prediction for Cyprus\n",
    "X_new = [[22587]] # Cyprus's GDP per capita\n",
    "print(model.predict(X_new)) # outputs [[ 5.96242338]]"
   ]
  },
  {
   "cell_type": "markdown",
   "metadata": {},
   "source": [
    "简而言之，一个典型的机器学习项目包含以下部分：\n",
    "* 研究数据。\n",
    "* 选择模型。\n",
    "* 使用训练数据进行训练（即前面学习算法搜索模型参数值，从而使成本函数最小化的过程）。\n",
    "* 最后，应用模型对新示例进行预测（称为推断），希望模型的泛化（预测）结果还不错。\n"
   ]
  },
  {
   "cell_type": "markdown",
   "metadata": {},
   "source": [
    "## 1.4 机器学习的主要挑战"
   ]
  },
  {
   "cell_type": "markdown",
   "metadata": {},
   "source": [
    "### 1.4.1 训练数据的数量不足\n",
    "\n",
    "大部分机器学习算法需要大量的数据才能正常工作。即使是最简单的问题，很可能也需要成千上万个示例，而对于诸如图像或语音识别等复杂问题，则可能需要数百万个示例（除非你可以重用现有模型的某些部分）。\n",
    "\n",
    "**FUN FACT**\n",
    "\n",
    "在2001年发表的一篇著名论文中，微软研究员Michele Banko和Eric Brill表明，给定足够的数据，截然不同的机器学习算法（包括相当简单的算法）在自然语言歧义消除这个复杂问题上，表现几乎完全一致。\n",
    "![](png/12.png)\n",
    "\n",
    "正如作者所说：“这些结果表明，我们可能会重新思考如何在二者之间做权衡——将钱和时间花在算法的开发上，还是花在语料库的建设上。”\n",
    "\n",
    "对复杂问题而言，数据比算法更重要，这一想法被Peter Norvig等人进一步推广，于2009年发表论文“The Unreasonable Effectivenessof Data”。不过需要指出的是，中小型数据集依然非常普遍，获得额外的训练数据并不总是一件轻而易举或物美价廉的事情，所以暂时先不要抛弃算法。"
   ]
  },
  {
   "cell_type": "markdown",
   "metadata": {},
   "source": [
    "### 1.4.2　训练数据不具代表性"
   ]
  },
  {
   "cell_type": "markdown",
   "metadata": {},
   "source": [
    "为了很好地实现泛化，至关重要的一点是对于将要泛化的新示例来说，训练数据一定要非常有代表性。无论你使用的是基于实例的学习还是基于模型的学习，都是如此。\n",
    "\n",
    "例如，前面用来训练线性模型的国家数据集并不具备完全的代表性，有部分国家的数据缺失。下图显示了补充缺失国家信息之后的数据表现。\n",
    "![](png/13.png)"
   ]
  },
  {
   "cell_type": "markdown",
   "metadata": {},
   "source": [
    "如果你用这个数据集训练线性模型，将会得到图中的实线，而虚线表示旧模型。正如你所见，添加部分缺失的国家信息不仅显著地改变了模型，也更清楚地说明这种简单的线性模型可能永远不会那么准确。看起来，某些非常富裕的国家并不比中等富裕的国家更幸福（事实上，看起来甚至是不幸福），反之，一些贫穷的国家也似乎比许多富裕的国家更加幸福。\n",
    "\n",
    "\n",
    "使用不具代表性的训练集训练出来的模型不可能做出准确的预估."
   ]
  },
  {
   "cell_type": "markdown",
   "metadata": {},
   "source": [
    "### 1.4.3 低质量数据"
   ]
  },
  {
   "cell_type": "markdown",
   "metadata": {},
   "source": [
    "显然，如果训练集满是错误、异常值和噪声（例如，低质量的测量产生的数据），系统将更难检测到底层模式，更不太可能表现良好。所以花时间来清理训练数据是非常值得的投入。事实上，大多数数据科学家都会花费很大一部分时间来做这项工作。例如：\n",
    "* 如果某些实例明显是异常情况，那么直接将其丢弃，或者尝试手动修复错误，都会大有帮助。\n",
    "* 如果某些实例缺少部分特征（例如，5%的顾客没有指定年龄），你必须决定是整体忽略这些特征、忽略这部分有缺失的实例、将缺失的值补充完整（例如，填写年龄值的中位数），还是训练一个带这个特征的模型，再训练一个不带这个特征的模型。"
   ]
  },
  {
   "cell_type": "markdown",
   "metadata": {},
   "source": [
    "### 1.4.4 无关特征\n",
    "正如我们常说的：种瓜得瓜，种豆得豆。只有训练数据里包含足够多的相关特征以及较少的无关特征，系统才能够完成学习。一个成功的机器学习项目，其关键部分是提取出一组好的用来训练的特征集。这个过程叫作特征工程，包括以下几点：\n",
    "* 特征选择（从现有特征中选择最有用的特征进行训练）。\n",
    "* 特征提取（将现有特征进行整合，产生更有用的特征——正如前文提到的，降维算法可以提供帮助）。\n",
    "* 通过收集新数据创建新特征。"
   ]
  },
  {
   "cell_type": "markdown",
   "metadata": {},
   "source": [
    "### 1.4.5 过拟合训练数据\n",
    "\n",
    "假设你正在国外旅游，被出租车司机敲诈，你很可能会说，那个国家的所有出租车司机都是强盗。过度概括是我们人类常做的事情，不幸的是，如果我们不小心，机器很可能也会陷入同样的陷阱。在机器学习中，这称为过拟合（Overfit），也就是指模型在训练数据上表现良好，但是泛化时却不尽如人意。\n",
    "\n",
    "下图显示了一个训练数据过拟合的高阶多项式生活满意度模型。虽然它在训练数据上的表现比简单的线性模型要好得多，但是你真的敢相信它的预测吗？\n",
    "![](png/14.png)"
   ]
  },
  {
   "cell_type": "markdown",
   "metadata": {},
   "source": [
    "当模型相对于训练数据的数量和噪度都过于复杂时，会发生过拟合。可能的解决方案如下：\n",
    "* 简化模型：可以选择较少参数的模型（例如，选择线性模型而不是高阶多项式模型）也可以减少训练数据中的属性数量，或者是约束模型。\n",
    "* 收集更多的训练数据。\n",
    "* 减少训练数据中的噪声（例如，修复数据错误和消除异常值）。\n",
    "\n",
    "通过约束模型使其更简单，并降低过拟合的风险，这个过程称为**正则化（regularization）**。\n",
    "\n",
    "下图显示了三个模型。点线表示的是在以圆圈表示的国家上训练的原始模型（没有正方形表示的国家），虚线是我们在所有国家（圆圈和方形）上训练的第二个模型，实线是用与第一个模型相同的数据训练的模型，但是有一个正则化约束。可以看到，正则化强制了模型的斜率\n",
    "较小：该模型与训练数据（圆圈）的拟合不如第一个模型，但它实际上\n",
    "更好地泛化了它没有在训练时看到的新实例（方形）。\n",
    "![](png/155.png)\n",
    "\n",
    "\n",
    "在学习时，应用正则化的程度可以通过一个**超参数（hyperparameter）**来控制。超参数是学习算法（不是模型）的参数。因此，它不受算法本身的影响。超参数必须在训练之前设置好，并且在训练期间保持不变。如果将正则化超参数设置为非常大的值，会得到一个几乎平坦的模型（斜率接近零）。学习算法虽然肯定不会过拟合训练数据，但是也更加不可能找到一个好的解决方案。调整超参数是构建机器学习系统非常重要的组成部分。"
   ]
  },
  {
   "cell_type": "markdown",
   "metadata": {},
   "source": [
    "### 1.4.6 欠拟合训练数据\n",
    "欠拟合（Underfit）和过拟合正好相反。它的产生通常是因为对于底层的数据结构来说，你的模型太过简单。例如，用线性模型来描述生活满意度就属于欠拟合。现实情况远比模型复杂得多，所以即便是对于用来训练的示例，该模型产生的预测都一定是不准确的。解决这个问题的主要方式有：\n",
    "* 选择一个带有更多参数、更强大的模型。\n",
    "* 给学习算法提供更好的特征集（特征工程）。\n",
    "* 减少模型中的约束（例如，减少正则化超参数）。"
   ]
  },
  {
   "cell_type": "markdown",
   "metadata": {},
   "source": [
    "### 1.4.7 阶段总结"
   ]
  },
  {
   "cell_type": "markdown",
   "metadata": {},
   "source": [
    "现在你已经对机器学习有了一定了解。不过讲了这么多概念，你可能有点晕，我们暂且退后一步，纵观一下全局：\n",
    "\n",
    "* 机器学习是关于如何让机器可以更好地处理某些特定任务的理论，它从数据中学习，而无须清晰地编码规则。\n",
    "\n",
    "\n",
    "* 机器学习系统有很多类型：有监督和无监督，批量的和在线的，基于实例的和基于模型的，等等。\n",
    "\n",
    "\n",
    "* **在一个机器学习项目中，你从训练集中采集数据，然后将数据交给学习算法来计算。如果算法是基于模型的，它会调整一些参数来将模型适配于训练集（即对训练集本身做出很好的预测），然后算法就可以对新的场景做出合理的预测。如果算法是基于实例的，它会记住这些示例，并根据相似度度量将新实例与所学的实例进行比较，从而泛化这些新实例。**\n",
    "\n",
    "\n",
    "* 如果训练集的数据太少或数据代表性不够，包含太多噪声或者被一些无关特征污染（垃圾进，垃圾出），那么系统将无法很好地工作。最后，你的模型既不能太简单（会导致欠拟合），也不能太复杂（会导致过拟合）。\n",
    "\n",
    "\n",
    "* 还有最后一个要讲的重要主题是：一旦训练了一个模型，你就不能只是“希望”它可以正确地对新的场景做出泛化，你还需要评估它，必要时做出一些调整。"
   ]
  },
  {
   "cell_type": "markdown",
   "metadata": {},
   "source": [
    "## 1.5 测试与验证\n",
    "了解一个模型对于新场景的泛化能力的唯一办法就是让模型真实地去处理新场景。做法之一是将其部署在生产环境中，然后监控它的输出。这种做法不错，不过如果模型非常糟糕，你的用户就会抱怨，所以这显然不是最好的办法。\n",
    "\n",
    "更好的选择是将数据分割成两部分：**训练集和测试集（the training set and the test set）**。顾名思义，你可以用训练集的数据来训练模型，然后用测试集的数据来测试模型。应对新场景的误差率称为泛化误差或者样本外误差（generalization error or out-of-sample error），通过测试集来评估你的模型，就可以得到对这个误差的评估。这个估值可以告诉你模型在处理新场景时的能力如何。\n",
    "\n",
    "如果训练误差很低（模型对于训练集来说很少出错），但是泛化误差很高，那么说明你的模型对于训练数据存在过拟合。\n",
    "\n",
    "通常将80%的数据用于训练，而保持20%供测试用。但是，这取决于数据集的大小。如果数据包含1000万个实例，那么保留1%意味着包含100000个实例作为你的测试集，可能足以很好地估计泛化误差。"
   ]
  },
  {
   "cell_type": "markdown",
   "metadata": {},
   "source": [
    "### 1.5.1 超参数调整和模型选择\n",
    "评估一个模型很简单：用测试集就行了。现在假设你在两个模型（一个线性模型和一个多项式模型）之间犹豫不决，如何做出判断呢？做法是训练两个模型，然后对比它们对测试数据的泛化能力。现在假设线性模型的泛化能力更强，但是如果你想要应用一些正则化来避免过拟合。问题又来了，要如何选择正则化超参数的值呢？\n",
    "\n",
    "做法之一是使用100个不同的超参数值来训练100个不同的模型。然后假设你由此找到了最佳的超参数值，它生成的模型泛化误差最小，比如仅仅5%。然后在真实环境中运行这个模型，可是很不幸，它并没有如预期那样工作，反而产生了15%的误差。到底发生了什么？问题出在你对测试集的泛化误差进行了多次度量，并且调整模型和超参数来得到拟合**那个测试集**的最佳模型。这意味着该模型对于新的数据不太可能有良好的表现。\n",
    "\n",
    "解决此问题的常见方法称为**保持验证（holdout validation）**：我们取原训练集的一部分作为新的保留集，以评估几种候选模型并选择最佳模型。新的保留集称为验证集（validation set），有时也称为开发集（development set）。更具体地说：\n",
    "* 你可以在简化的训练集上（即完整训练集减去验证集）训练具有各种超参数的多个模型，并且选择在验证集上表现最佳的模型。\n",
    "* 在此保持验证之后，你在完整的训练集（包括验证集）上训练最佳模型，这就是你的最终模型。\n",
    "* 最后，你在测试集上评估这个模型以获得泛化误差的估计值。\n",
    "\n",
    "https://zhuanlan.zhihu.com/p/37646822\n",
    "\n",
    "这个解决方案通常效果很好。但是，如果验证集太小，则模型评估将不精确：你可能最终错误地选择一个次优模型。相反，如果验证集太大，则剩余训练集将比完整的训练集小得多。为什么这样不好？好吧，既然最终模型将在完整的训练集上训练，在更小的训练集上训练出来的候选模型进行比较不是一个好办法。就像选择最快的短跑运动员参加马拉松比赛。\n",
    "\n",
    "解决此问题的一种方法是执行使用许多小验证集重复进行的**交叉验证（cross-validation）**。每个模型都在对其余数据进行训练后，在每个验证集上评估一次。通过对模型的所有评估求平均值，可以更准确地衡量模型的性能。但是有一个缺点：训练时间是验证集个数的倍数。"
   ]
  },
  {
   "cell_type": "markdown",
   "metadata": {},
   "source": [
    "### 1.5.2　数据不匹配\n",
    "在某些情况下，很容易获得大量训练数据，但是这些数据可能不能完全代表将用于生产环境的数据。\n",
    "\n",
    "例如，假设你要创建一个移动App来拍摄花朵并自动确定其种类。你可以在网络轻松下载数以百万计的花朵图片，但它们并不能完美地代表在移动设备上使用该App拍摄的图片。也许你只有10000张代表图片（即用该App拍摄的照片）。在这种情况下，最重要的规则是：验证集和测试必须尽可能代表您希望在生产中使用的数据，因此它们应仅由代表性图片组成：您可以将它们洗牌并将一半放入验证集中，一半放入测试集中（确保两个集中都没有重复或接近重复的结果）。\n",
    "但是如果在网络图片上训练模型后，发现模型在验证集上的表现令人失望，您将不会知道这是因为您的模型过度拟合了训练集，还是仅仅是由于网络图片和移动应用图片之间的不匹配。\n",
    "\n",
    "一种解决方案是将一些训练图片（网络上下载的）放到训练开发集（train-dev set）中。训练模型后（在训练集而不是在训练开发集上），你可以在train-dev集上对其进行评估。如果模型表现良好，说明没有过拟合训练集。在此前提下，如果模型在验证集上仍表现不佳，那么问题一定来自数据不匹配。你可以尝试通过预处理网络图片来使其看起来更像由移动应用拍摄的照片，然后重新训练模型。\n",
    "\n",
    "相反，如果模型在train-dev集上表现不佳，则它肯定在训练集上过拟合了，因此你应该尝试简化或规范化模型，获取更多训练数据，并清理训练数据。"
   ]
  },
  {
   "cell_type": "markdown",
   "metadata": {},
   "source": [
    "**没有免费的午餐定理**\n",
    "\n",
    "模型是观察的简化。这个简化丢弃了那些不大可能泛化至新实例上的多余细节。但是，要决定丢弃哪些数据以及保留哪些数据，你必须要做出假设。例如，线性模型基于的假设就是数据基本上都是线性的，而实例与直线之间的距离都只是噪声，可以忽略它们。\n",
    "\n",
    "1996年David Wolpert在一篇著名论文中表明，如果你对数据绝对没有任何假设，那么就没有理由更偏好于某个模型，这称为没有免费的午餐（No Free Lunch，NFL）定理。\n",
    "\n",
    "对某些数据集来说，最佳模型是线性模型，而对于其他数据集来说，最佳模型可能是神经网络模型。不存在一个先验模型能保证一定工作得更好（这正是定理名称的由来）。想要知道哪个模型最好的方法就是对所有模型进行评估，但实际上这是不可能的，因此你会对数据做出一些合理的假设，然后只评估部分合理的模型。例如，对于简单的任务，你可能只会评估几个具有不同正则化水平的线性模型，而对于复杂问题，你可能会评估多个神经网络模型."
   ]
  }
 ],
 "metadata": {
  "kernelspec": {
   "display_name": "Python 3",
   "language": "python",
   "name": "python3"
  },
  "language_info": {
   "codemirror_mode": {
    "name": "ipython",
    "version": 3
   },
   "file_extension": ".py",
   "mimetype": "text/x-python",
   "name": "python",
   "nbconvert_exporter": "python",
   "pygments_lexer": "ipython3",
   "version": "3.7.4"
  },
  "varInspector": {
   "cols": {
    "lenName": 16,
    "lenType": 16,
    "lenVar": 40
   },
   "kernels_config": {
    "python": {
     "delete_cmd_postfix": "",
     "delete_cmd_prefix": "del ",
     "library": "var_list.py",
     "varRefreshCmd": "print(var_dic_list())"
    },
    "r": {
     "delete_cmd_postfix": ") ",
     "delete_cmd_prefix": "rm(",
     "library": "var_list.r",
     "varRefreshCmd": "cat(var_dic_list()) "
    }
   },
   "types_to_exclude": [
    "module",
    "function",
    "builtin_function_or_method",
    "instance",
    "_Feature"
   ],
   "window_display": false
  }
 },
 "nbformat": 4,
 "nbformat_minor": 2
}
