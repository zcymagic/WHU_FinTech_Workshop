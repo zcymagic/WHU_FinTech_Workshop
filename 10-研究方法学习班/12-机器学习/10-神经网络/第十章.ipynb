{
 "cells": [
  {
   "cell_type": "code",
   "execution_count": 5,
   "id": "cf2c52f5",
   "metadata": {},
   "outputs": [],
   "source": [
    "import tensorflow as tf\n",
    "import matplotlib as mpl\n",
    "%matplotlib inline\n",
    "import matplotlib.pyplot as plt\n",
    "import numpy as np\n",
    "import pandas as pd\n",
    "import os\n",
    "import warnings\n",
    "warnings.filterwarnings('ignore')"
   ]
  },
  {
   "cell_type": "markdown",
   "id": "3a4ae94b",
   "metadata": {},
   "source": [
    "# 第十章 Keras人工神经网络简介"
   ]
  },
  {
   "cell_type": "markdown",
   "id": "6f085878",
   "metadata": {},
   "source": [
    "# 第一部分"
   ]
  },
  {
   "cell_type": "markdown",
   "id": "ff8fb73f",
   "metadata": {},
   "source": [
    "第一部分介绍人工神经网络与今天广泛使用的多层感知机<br>\n",
    "第二部分研究如何用流行的Keras API实现神经网络"
   ]
  },
  {
   "cell_type": "markdown",
   "id": "ba7299f7",
   "metadata": {},
   "source": [
    "## 从生物神经元到人工神经元"
   ]
  },
  {
   "cell_type": "markdown",
   "id": "bd91d1cd",
   "metadata": {},
   "source": [
    "人工神经网络首次由神经生物学家Warren McCulloch和数学家Walter Pitts于1943年提出。\n",
    "人工神经网络有很大的发展前景，主要原因有：<br>\n",
    "1) 当今世界是大数据的时代，有大量的数据可供神经网络使用，并且ANNs强大的解决问题的能力。<br>\n",
    "2) 计算力的巨大提升，根据摩尔定律每2年翻一倍，同时也是由于游戏行业的发展，带动了GPU等的生产和进步，同时云计算也起到很大的作用。<br>\n",
    "3) 在实践中，ANNs的一些理论局限性被证明是良性的。"
   ]
  },
  {
   "cell_type": "markdown",
   "id": "c3a1023e",
   "metadata": {},
   "source": [
    "McCulloch和Pitts提出了一个非常简单的生物神经元模型，后来被称为人工神经元:它有一个或多个二进制(开/关)输入和一个二进制输出。当超过一定数量的输入被激活时，人工神经元就会激活它的输出。在他们的论文中，他们展示了即使有这样一个简化的模型，也可以建立一个人工神经元网络来计算任何你想要的逻辑命题。为了了解这样的网络是如何工作的，让我们构建一些执行各种逻辑计算的ANN(见图)，在这里我们假设一个神经元在至少两个输入是活跃的时候被激活。"
   ]
  },
  {
   "cell_type": "markdown",
   "id": "5709fd13",
   "metadata": {},
   "source": [
    "![ytb](img/10-3.jpg)"
   ]
  },
  {
   "cell_type": "markdown",
   "id": "dc0b0e38",
   "metadata": {},
   "source": [
    "### 感知机"
   ]
  },
  {
   "cell_type": "markdown",
   "id": "c4a38d7c",
   "metadata": {},
   "source": [
    "感知机是一种最简单的人工神经网络，由Frank Rosenblatt于1957年发明。\n",
    "感知机基于叫作阈值逻辑单元(TLU)的人工神经元，输入和输出都是数字，每个输入都有一个权重。TLU计算输入的加权和$(z=w_1x_1+w_2x_2+\\dots+w_nx_n=\\pmb{X}^T\\pmb{W})$，最后经过阶跃函数得到输出。用公式表示如下：\n",
    "$h_W(\\pmb{X})=step(z)$, 其中 $z=\\pmb{X}^T\\pmb{W}$\n",
    "<br>\n",
    "阶跃函数通常是Heaviside阶跃函数（也叫单位阶跃函数），或是sign函数。\n",
    "<br>\n",
    "Heaviside阶跃函数：大于等于0返回1，否则返回0\n",
    "<br>\n",
    "sign函数：大于0返回1，小于0返回-1，等于0返回0\n",
    "<br>\n",
    "$$\n",
    "heaviside(z) =\n",
    "\\begin{cases}\n",
    "0 & \\text{if z<0}  \\\\\n",
    "1 & \\text{if z>0}\n",
    "\\end{cases}\n",
    "$$\n",
    "<br>\n",
    "$$\n",
    "sgn(z) =\n",
    "\\begin{cases}\n",
    "-1 & \\text{if z<0}  \\\\\n",
    "0 & \\text{if z=0}  \\\\\n",
    "1 & \\text{if z>0}\n",
    "\\end{cases}\n",
    "$$\n",
    "![ytb](img/10-4.jpg)"
   ]
  },
  {
   "cell_type": "markdown",
   "id": "f40224c6",
   "metadata": {},
   "source": [
    "如果当前层的所有神经元与前一层每个神经元都有连接，则称该层为全连接层(fully connected layer，也叫dense layer)。全连接层计算公式如下：\n",
    "$$h_{W,b}(X)=\\phi(XW+b)$$\n",
    "其中：\n",
    "<br>\n",
    "X：表示输入特征，每行一个样本，每列一特征\n",
    "<br>\n",
    "W：表示权重矩阵\n",
    "<br>\n",
    "b：表示偏置向量\n",
    "<br>\n",
    "𝜙：表示激活函数，如果是人工神经元就是阶跃函数"
   ]
  },
  {
   "cell_type": "markdown",
   "id": "ff274659",
   "metadata": {},
   "source": [
    "sklearn中提供了Perceptron类,该类实现了单个的TLU网络，下面展示在鸢尾植物数据集中："
   ]
  },
  {
   "cell_type": "code",
   "execution_count": 6,
   "id": "3013e77d",
   "metadata": {},
   "outputs": [
    {
     "data": {
      "text/plain": [
       "Perceptron(alpha=0.0001, class_weight=None, early_stopping=False, eta0=1.0,\n",
       "           fit_intercept=True, max_iter=1000, n_iter_no_change=5, n_jobs=None,\n",
       "           penalty=None, random_state=42, shuffle=True, tol=0.001,\n",
       "           validation_fraction=0.1, verbose=0, warm_start=False)"
      ]
     },
     "execution_count": 6,
     "metadata": {},
     "output_type": "execute_result"
    }
   ],
   "source": [
    "from sklearn.datasets import load_iris\n",
    "from sklearn.linear_model import Perceptron\n",
    "iris = load_iris()\n",
    "X = iris.data[:,(2,3)]\n",
    "y = (iris.target==0).astype(np.int)\n",
    "per_clf = Perceptron(max_iter=1000, tol=1e-3, random_state=42)\n",
    "# max_iter是最大的迭代次数\n",
    "# tol 阈值 判断迭代是否收敛或者是否满足精度的要求\n",
    "# random_state 相当于随机数种子random.seed()\n",
    "per_clf.fit(X, y)"
   ]
  },
  {
   "cell_type": "code",
   "execution_count": 106,
   "id": "e343b03f",
   "metadata": {},
   "outputs": [],
   "source": [
    "#help(Perceptron)"
   ]
  },
  {
   "cell_type": "code",
   "execution_count": 7,
   "id": "ab9b3420",
   "metadata": {},
   "outputs": [
    {
     "data": {
      "text/plain": [
       "array([0])"
      ]
     },
     "execution_count": 7,
     "metadata": {},
     "output_type": "execute_result"
    }
   ],
   "source": [
    "y_pred = per_clf.predict([[2, 1]])\n",
    "y_pred"
   ]
  },
  {
   "cell_type": "code",
   "execution_count": 105,
   "id": "d500118c",
   "metadata": {},
   "outputs": [
    {
     "data": {
      "text/plain": [
       "array([1])"
      ]
     },
     "execution_count": 105,
     "metadata": {},
     "output_type": "execute_result"
    }
   ],
   "source": [
    "y_pred_2 = per_clf.predict([[2, 0.5]])\n",
    "y_pred_2"
   ]
  },
  {
   "cell_type": "code",
   "execution_count": 9,
   "id": "61fd535d",
   "metadata": {},
   "outputs": [
    {
     "data": {
      "image/png": "[encoded data removed]",
      "text/plain": [
       "<Figure size 864x360 with 1 Axes>"
      ]
     },
     "metadata": {
      "needs_background": "light"
     },
     "output_type": "display_data"
    }
   ],
   "source": [
    "a = - per_clf.coef_[0][0] / per_clf.coef_[0][1]\n",
    "b = - per_clf.intercept_ / per_clf.coef_[0][1]\n",
    "\n",
    "axes = [0, 5, 0, 2]\n",
    "\n",
    "x0, x1 = np.meshgrid(\n",
    "        np.linspace(axes[0], axes[1], 500).reshape(-1, 1),\n",
    "        np.linspace(axes[2], axes[3], 200).reshape(-1, 1),\n",
    "    )\n",
    "X_new = np.c_[x0.ravel(), x1.ravel()]\n",
    "y_predict = per_clf.predict(X_new)\n",
    "zz = y_predict.reshape(x0.shape)\n",
    " \n",
    "plt.figure(figsize=(12, 5))\n",
    "plt.plot(X[y==0, 0], X[y==0, 1], \"bs\", label=\"Not Iris-Setosa\")\n",
    "plt.plot(X[y==1, 0], X[y==1, 1], \"yo\", label=\"Iris-Setosa\")\n",
    " \n",
    "plt.plot([axes[0], axes[1]], [a * axes[0] + b, a * axes[1] + b], \"k-\", linewidth=3)\n",
    "from matplotlib.colors import ListedColormap\n",
    "custom_cmap = ListedColormap(['#9898ff', '#fafab0'])\n",
    "plt.contourf(x0, x1, zz, cmap=custom_cmap)\n",
    "plt.xlabel(\"Petal length\", fontsize=14)\n",
    "plt.ylabel(\"Petal width\", fontsize=14)\n",
    "plt.legend(loc=\"lower right\", fontsize=14)\n",
    "plt.axis(axes)\n",
    "plt.show()"
   ]
  },
  {
   "cell_type": "markdown",
   "id": "414db8c7",
   "metadata": {},
   "source": [
    "- 如上输出所示为感知机的决策边界。\n",
    "- 感知机有一个致命的缺点，就是无法解决机器学习中很简单的异或问题。也就是因为研究者发现感知机连这么简单的异或问题都无法解决，有大部分研究者开始放弃对神经网络的研究，纷纷将目光转向其它研究领域。"
   ]
  },
  {
   "cell_type": "markdown",
   "id": "e2b0af70",
   "metadata": {},
   "source": [
    "和梯度下降差不多,实际上sklearn的Perceptron等于SGDClassifier(loss=“perceptron”,learning_rate=“constant”, eta0=1,penalty=None)（随机梯度下降分类器）.在简单问题上其实用逻辑回归更好,感知机是一个基于硬阈值的预测,一但你没达到那个阈值可能这个神经元就会把值给变成0,就啥都没有了.但是在复杂问题上,逻辑回归可能并不那么准确,我们又把目光放到了感知机上,其实感知机的层层堆叠形成所谓的多层感知机就可以处理很多复杂问题了."
   ]
  },
  {
   "cell_type": "markdown",
   "id": "0af25f65",
   "metadata": {},
   "source": [
    "![ytb](pic/3.png)"
   ]
  },
  {
   "cell_type": "markdown",
   "id": "4190e1f1",
   "metadata": {},
   "source": [
    "### 多层感知机与反向传播"
   ]
  },
  {
   "cell_type": "markdown",
   "id": "7693383f",
   "metadata": {},
   "source": [
    "![ytm](img/10-7.jpg)"
   ]
  },
  {
   "cell_type": "markdown",
   "id": "363ae4e1",
   "metadata": {},
   "source": [
    "以上提到的感知机无法解决异或问题是针对单层感知机。而多层感知机可以解决异或问题。\n",
    "- 多层感知机由输入层、多个隐藏层和输出层组成，除了输出层，其它层神经元都有一个偏置，并与下一层是全连接的。由于信息的流动是单向的，即从输入层流向输出层，因此这种多层感知机也叫作前馈神经网络。\n",
    "- 深度神经网络：具有大量隐藏层的人工神经网络。\n",
    "- 多年来，人们一直在研究如何训练多层感知机。直到1986年，由David Rumelhart、Geoffrey Hinton和Ronald Williams一起发表了著名的具有突破性的关于反向传播算法的文章。\n",
    "- 梯度下降算法：神经网络中有两个通路，加权求和的信息向前传播，预测值与真实值之间的误差（损失函数）的梯度反向（向后）传播，然后根据梯度更新参数，不断重复前向传播和反向传播，直到网络收敛。\n",
    "- 一般情况下，权重参数W进行随机初始化，偏置b一般进行0初始化。\n",
    "- 由于阶跃函数在反向传播过程中无法求导，因此常常被替换成更常用的激活函数。\n",
    "- 为什么要用激活函数？增加更多非线性。对于多层全连接神经网络，如果每层都不使用激活函数，则输出y=(((XW1)W2)...Wn，即相当于y=XW1W2...Wn，令W=W1W2...Wn，则该网络就相当于单层网络。因此，如果不使用激活函数，无论多少层的神经网络还是相当于单层神经网络。反过来说，任何足够大的具有非线性激活的神经网络理论上能够拟合任何连接函数。"
   ]
  },
  {
   "cell_type": "markdown",
   "id": "86c1421c",
   "metadata": {},
   "source": [
    "常用的激活函数如下：\n",
    "- Sigmoid函数：f(x) = 1/(1+exp(-x))，函数是S形曲线，在实数定义域内连续且可导，值域(0,1)。因为函数输出分布在0和1之间，所以输出可以被看作是概率。<br>\n",
    "- 双曲正切函数：tanh(x) = (exp(x) - exp(-x)) / ( exp(x) + exp(-x)，函数是S形曲线，在实数定义域内连续且可导，值域(-1,1)。因此，在训练刚开始时输出更可能在0附近，有利于模型的收敛。<br>\n",
    "- ReLU函数：relu(x) = max(0,x)，实数定义域内连续，但在0处不可微，但在实际应用中如果碰到0处求导的情况，默认直接让其导数等于0，这样就解决了0处不可导的问题。ReLU用于激活函数的优点是计算导数简单，如果X大于0，导数为1，如果X小于0，导数为0。<br>\n",
    "- softplus：ReLU函数的变体，softplus(x)=log(1+exp(x))。<br>\n",
    "- softmax：常常用于多类别分类任务"
   ]
  },
  {
   "cell_type": "markdown",
   "id": "e5e5c845",
   "metadata": {},
   "source": [
    "原因很简单,如果我们不用激活函数,无论你堆叠多少层,多深的网络,最终的计算也只是简单的线性计算,并没有像生物神经元那样有一个\"激活\"的作用.而在最后一层,我们通常是得到我们的输出结果,如果继续用sigmod函数就没有这么直观可以表达我们的输出,所以一般在线性任务中我们最后的输出层可以用一个Logistic激活,在多分类任务中我们可以用Softmax.而在反向传播中我们是通过一个LOSS function损失函数来计算我们的梯度"
   ]
  },
  {
   "cell_type": "markdown",
   "id": "227311e0",
   "metadata": {},
   "source": [
    "![test](image/7.png)"
   ]
  },
  {
   "cell_type": "markdown",
   "id": "affce4f4",
   "metadata": {},
   "source": [
    "![test](image/9.png)"
   ]
  },
  {
   "cell_type": "markdown",
   "id": "bec4f242",
   "metadata": {},
   "source": [
    "![test](image/8.png)"
   ]
  },
  {
   "cell_type": "code",
   "execution_count": 8,
   "id": "21369eea",
   "metadata": {},
   "outputs": [
    {
     "data": {
      "image/png": "[encoded data removed]",
      "text/plain": [
       "<Figure size 864x360 with 2 Axes>"
      ]
     },
     "metadata": {
      "needs_background": "light"
     },
     "output_type": "display_data"
    }
   ],
   "source": [
    "mpl.rcParams['font.sans-serif'] = ['SimHei']\n",
    "mpl.rcParams['font.serif'] = ['SimHei']\n",
    "mpl.rcParams['axes.unicode_minus'] = False\n",
    "def sigmoid(x):\n",
    "    return 1/(1+np.exp(-x))\n",
    "def relu(x):\n",
    "    return np.maximum(0,x)\n",
    "def derivative(f, x, eps=0.000001):\n",
    "    return (f(x + eps) - f(x - eps))/(2 * eps)\n",
    "z = np.linspace(-5, 5, 200)\n",
    "plt.figure(figsize=(12,5))\n",
    " \n",
    "plt.subplot(121)\n",
    "plt.plot(z, np.sign(z), \"r-\", linewidth=1, label=\"Step\")     # 阶跃函数\n",
    "plt.plot(z, sigmoid(z), \"g--\", linewidth=2, label=\"Sigmoid\") # Sigmoid函数\n",
    "plt.plot(z, np.tanh(z), \"b-\", linewidth=2, label=\"Tanh\")     # tanh函数\n",
    "plt.plot(z, relu(z), \"m-.\", linewidth=2, label=\"ReLU\")       # ReLU函数\n",
    "plt.grid(True)\n",
    "plt.legend(loc=\"center right\", fontsize=14)\n",
    "plt.title(\"激活函数\", fontsize=14)\n",
    "plt.axis([-5, 5, -1.2, 1.2])\n",
    " \n",
    "plt.subplot(122)\n",
    "plt.plot(z, derivative(np.sign, z), \"r-\", linewidth=1, label=\"Step\")\n",
    "plt.plot(0, 0, \"ro\", markersize=5)\n",
    "plt.plot(0, 0, \"rx\", markersize=10)\n",
    "plt.plot(z, derivative(sigmoid, z), \"g--\", linewidth=2, label=\"Sigmoid\")\n",
    "plt.plot(z, derivative(np.tanh, z), \"b-\", linewidth=2, label=\"Tanh\")\n",
    "plt.plot(z, derivative(relu, z), \"m-.\", linewidth=2, label=\"ReLU\")\n",
    "plt.grid(True)\n",
    "plt.legend(fontsize=14)\n",
    "plt.title(\"Derivatives\", fontsize=14)\n",
    "plt.title(r\"导数\", fontsize=14)\n",
    "plt.axis([-5, 5, -0.2, 1.2])\n",
    " \n",
    "plt.tight_layout()\n",
    "plt.show()"
   ]
  },
  {
   "cell_type": "markdown",
   "id": "2aa94d6d",
   "metadata": {},
   "source": [
    "# 第二部分"
   ]
  },
  {
   "cell_type": "markdown",
   "id": "aa35455c",
   "metadata": {},
   "source": [
    "## 使用Keras接口实现MLP"
   ]
  },
  {
   "cell_type": "markdown",
   "id": "b9637853",
   "metadata": {},
   "source": [
    "- Keras是一个用于创建、训练、评估和运行各类神经网络的高级API。官网：https://keras.io/\n",
    "\n",
    "- Keras由François Chollet于2015年作为开源项目发布，作为高级API，目前后端支持调用TensorFlow、Microsoft Cognitive Toolkit(CNTK)和Theano。\n",
    "\n",
    "- 在TensorFlow2中也对Keras进行了实现，即tf.keras，同时加入了一些原生Keras没有的特性，例如tf.keras支持TensorFlowr的Data API，因此tf.keras后端只支持TensorFlow。\n",
    "\n",
    "- 除了Keras、TensorFlow等深度学习库外，PyTorch也是非常流行，其源于Facebook，PyTorch的API非常的类似于Keras。而这些API都受到了Python库sklearn和Chainer的启发。\n",
    "\n",
    "- TensorFlow 1.x存在许多缺点，很难入门，易用性不好，导致2018年PyTorch大火。TensorFlow2放弃对1.x的延续或继承而进行了重写，进行了重大的调整，并且采用Keras为官方高级API，并精简和清理了大量冗余的API。同样PyTorch1.0解决了PyTorch的主要不足。"
   ]
  },
  {
   "cell_type": "markdown",
   "id": "f2c6a62e",
   "metadata": {},
   "source": [
    "### 使用顺序API构建图像分类器"
   ]
  },
  {
   "cell_type": "markdown",
   "id": "6f987822",
   "metadata": {},
   "source": [
    "<font face=\"宋体\">\n",
    "Fashion MNIST数据集：与MNIST类似，共有7万张灰度图像，每张图像大小28*28，总共10个类别，每张图像代表不同的时尚用品。因此Fashion MNIST数据集相比于MNIST比较复杂，利用普通的线性模型在MNIST数据集上能达到92%的准确率，而在Fashion MNIST上只能达到83%。\n",
    "</font>"
   ]
  },
  {
   "cell_type": "code",
   "execution_count": 13,
   "id": "f949067a",
   "metadata": {},
   "outputs": [
    {
     "name": "stdout",
     "output_type": "stream",
     "text": [
      "(60000, 28, 28) uint8\n",
      "(60000,) uint8\n",
      "(10000, 28, 28) uint8\n",
      "(10000,) uint8\n"
     ]
    }
   ],
   "source": [
    "fashion_mnist = tf.keras.datasets.fashion_mnist\n",
    "(X_train_full, y_train_full),(X_test, y_test) = fashion_mnist.load_data()\n",
    "for i in (X_train_full, y_train_full, X_test, y_test):\n",
    "    print(i.shape, i.dtype)"
   ]
  },
  {
   "cell_type": "code",
   "execution_count": 14,
   "id": "95f47b15",
   "metadata": {},
   "outputs": [
    {
     "name": "stdout",
     "output_type": "stream",
     "text": [
      "(55000, 28, 28) float64\n",
      "(55000,) uint8\n",
      "(5000, 28, 28) float64\n",
      "(5000,) uint8\n",
      "(10000, 28, 28) float64\n",
      "(10000,) uint8\n"
     ]
    }
   ],
   "source": [
    "X_valid, X_train = X_train_full[:5000] / 255.0, X_train_full[5000:] / 255.0 # 将数据归一化到0.0到1.0之间\n",
    "y_valid, y_train = y_train_full[:5000], y_train_full[5000:]\n",
    "X_test = X_test / 255.0\n",
    " \n",
    "for i in (X_train, y_train, X_valid, y_valid, X_test, y_test):\n",
    "    print(i.shape, i.dtype)"
   ]
  },
  {
   "cell_type": "code",
   "execution_count": 15,
   "id": "8bee612a",
   "metadata": {},
   "outputs": [],
   "source": [
    "class_names = [\"T-shirt/top\", \"Trouser\", \"Pullover\", \"Dress\", \"Coat\",\n",
    "               \"Sandal\", \"Shirt\", \"Sneaker\", \"Bag\", \"Ankle boot\"]"
   ]
  },
  {
   "cell_type": "code",
   "execution_count": 16,
   "id": "fa8c6035",
   "metadata": {},
   "outputs": [
    {
     "data": {
      "image/png": "[encoded data removed]",
      "text/plain": [
       "<Figure size 864x360 with 10 Axes>"
      ]
     },
     "metadata": {
      "needs_background": "light"
     },
     "output_type": "display_data"
    }
   ],
   "source": [
    "# 查看前10张样本图像\n",
    "plt.figure(figsize=(12,5))\n",
    "\n",
    "for i in range(10):\n",
    "    plt.subplot(2,5,i+1) \n",
    "    plt.imshow(X_train[i], cmap=\"binary\")\n",
    "    plt.axis('off')\n",
    "    plt.title(str(y_train[i])+\": \"+class_names[y_train[i]])\n",
    "plt.tight_layout()\n",
    "plt.show()"
   ]
  },
  {
   "cell_type": "code",
   "execution_count": 17,
   "id": "0d229434",
   "metadata": {},
   "outputs": [],
   "source": [
    "model = tf.keras.models.Sequential()\n",
    "model.add(tf.keras.layers.Flatten(input_shape=[28, 28]))  # 对输入数据进行X.reshape(-1,1)操作 折叠成一维数组\n",
    "model.add(tf.keras.layers.Dense(300, activation=\"relu\")) # \"relu\"等价于tf.keras.activations.relu\n",
    "model.add(tf.keras.layers.Dense(100, activation=\"relu\"))\n",
    "model.add(tf.keras.layers.Dense(10, activation=\"softmax\"))\n",
    " \n",
    "tf.keras.backend.clear_session()#使用tf.keras.backend.clear_session()来清除模型占用内存\n",
    "np.random.seed(42)\n",
    "tf.random.set_seed(42)"
   ]
  },
  {
   "cell_type": "code",
   "execution_count": 18,
   "id": "e33c990d",
   "metadata": {},
   "outputs": [],
   "source": [
    "model = tf.keras.models.Sequential([\n",
    "    tf.keras.layers.Flatten(input_shape=[28, 28]),\n",
    "    tf.keras.layers.Dense(300, activation=\"relu\"),\n",
    "    tf.keras.layers.Dense(100, activation=\"relu\"),\n",
    "    tf.keras.layers.Dense(10, activation=\"softmax\")\n",
    "])"
   ]
  },
  {
   "cell_type": "code",
   "execution_count": 107,
   "id": "dc26173f",
   "metadata": {},
   "outputs": [],
   "source": [
    "#help(tf.keras.models.Sequential)"
   ]
  },
  {
   "cell_type": "code",
   "execution_count": 20,
   "id": "d9859543",
   "metadata": {},
   "outputs": [
    {
     "data": {
      "text/plain": [
       "[<tensorflow.python.keras.layers.core.Flatten at 0x21e5094b7f0>,\n",
       " <tensorflow.python.keras.layers.core.Dense at 0x21e5094bbe0>,\n",
       " <tensorflow.python.keras.layers.core.Dense at 0x21e5094b430>,\n",
       " <tensorflow.python.keras.layers.core.Dense at 0x21e50953490>]"
      ]
     },
     "execution_count": 20,
     "metadata": {},
     "output_type": "execute_result"
    }
   ],
   "source": [
    "model.layers"
   ]
  },
  {
   "cell_type": "code",
   "execution_count": 21,
   "id": "a32cd540",
   "metadata": {},
   "outputs": [
    {
     "name": "stdout",
     "output_type": "stream",
     "text": [
      "Model: \"sequential\"\n",
      "_________________________________________________________________\n",
      "Layer (type)                 Output Shape              Param #   \n",
      "=================================================================\n",
      "flatten (Flatten)            (None, 784)               0         \n",
      "_________________________________________________________________\n",
      "dense (Dense)                (None, 300)               235500    \n",
      "_________________________________________________________________\n",
      "dense_1 (Dense)              (None, 100)               30100     \n",
      "_________________________________________________________________\n",
      "dense_2 (Dense)              (None, 10)                1010      \n",
      "=================================================================\n",
      "Total params: 266,610\n",
      "Trainable params: 266,610\n",
      "Non-trainable params: 0\n",
      "_________________________________________________________________\n"
     ]
    }
   ],
   "source": [
    "model.summary()"
   ]
  },
  {
   "cell_type": "code",
   "execution_count": 22,
   "id": "0eaf8709",
   "metadata": {},
   "outputs": [
    {
     "data": {
      "image/png": "[encoded data removed]",
      "text/plain": [
       "<IPython.core.display.Image object>"
      ]
     },
     "execution_count": 22,
     "metadata": {},
     "output_type": "execute_result"
    }
   ],
   "source": [
    "tf.keras.utils.plot_model(model, \"my_mnist_model.png\",show_shapes=True)"
   ]
  },
  {
   "cell_type": "code",
   "execution_count": 23,
   "id": "6d996763",
   "metadata": {},
   "outputs": [
    {
     "data": {
      "text/plain": [
       "'dense'"
      ]
     },
     "execution_count": 23,
     "metadata": {},
     "output_type": "execute_result"
    }
   ],
   "source": [
    "hidden1 = model.layers[1]\n",
    "hidden1.name"
   ]
  },
  {
   "cell_type": "code",
   "execution_count": 24,
   "id": "925f85fc",
   "metadata": {},
   "outputs": [
    {
     "data": {
      "text/plain": [
       "True"
      ]
     },
     "execution_count": 24,
     "metadata": {},
     "output_type": "execute_result"
    }
   ],
   "source": [
    "model.get_layer(hidden1.name) is hidden1"
   ]
  },
  {
   "cell_type": "code",
   "execution_count": 25,
   "id": "2f66d68b",
   "metadata": {},
   "outputs": [
    {
     "name": "stdout",
     "output_type": "stream",
     "text": [
      "(784, 300)\n",
      "[[ 0.02448617 -0.00877795 -0.02189048 ... -0.02766046  0.03859074\n",
      "  -0.06889391]\n",
      " [ 0.00476504 -0.03105379 -0.0586676  ...  0.00602964 -0.02763776\n",
      "  -0.04165364]\n",
      " [-0.06189284 -0.06901957  0.07102345 ... -0.04238207  0.07121518\n",
      "  -0.07331658]\n",
      " ...\n",
      " [-0.03048757  0.02155137 -0.05400612 ... -0.00113463  0.00228987\n",
      "   0.05581069]\n",
      " [ 0.07061854 -0.06960931  0.07038955 ... -0.00384101  0.00034875\n",
      "   0.02878492]\n",
      " [-0.06022581  0.01577859 -0.02585464 ... -0.00527829  0.00272203\n",
      "  -0.06793761]]\n"
     ]
    }
   ],
   "source": [
    "weights, biases = hidden1.get_weights()\n",
    "print(weights.shape)\n",
    "print(weights)"
   ]
  },
  {
   "cell_type": "code",
   "execution_count": 26,
   "id": "98cd7362",
   "metadata": {},
   "outputs": [
    {
     "name": "stdout",
     "output_type": "stream",
     "text": [
      "(300,)\n",
      "[0. 0. 0. 0. 0. 0. 0. 0. 0. 0. 0. 0. 0. 0. 0. 0. 0. 0. 0. 0. 0. 0. 0. 0.\n",
      " 0. 0. 0. 0. 0. 0. 0. 0. 0. 0. 0. 0. 0. 0. 0. 0. 0. 0. 0. 0. 0. 0. 0. 0.\n",
      " 0. 0. 0. 0. 0. 0. 0. 0. 0. 0. 0. 0. 0. 0. 0. 0. 0. 0. 0. 0. 0. 0. 0. 0.\n",
      " 0. 0. 0. 0. 0. 0. 0. 0. 0. 0. 0. 0. 0. 0. 0. 0. 0. 0. 0. 0. 0. 0. 0. 0.\n",
      " 0. 0. 0. 0. 0. 0. 0. 0. 0. 0. 0. 0. 0. 0. 0. 0. 0. 0. 0. 0. 0. 0. 0. 0.\n",
      " 0. 0. 0. 0. 0. 0. 0. 0. 0. 0. 0. 0. 0. 0. 0. 0. 0. 0. 0. 0. 0. 0. 0. 0.\n",
      " 0. 0. 0. 0. 0. 0. 0. 0. 0. 0. 0. 0. 0. 0. 0. 0. 0. 0. 0. 0. 0. 0. 0. 0.\n",
      " 0. 0. 0. 0. 0. 0. 0. 0. 0. 0. 0. 0. 0. 0. 0. 0. 0. 0. 0. 0. 0. 0. 0. 0.\n",
      " 0. 0. 0. 0. 0. 0. 0. 0. 0. 0. 0. 0. 0. 0. 0. 0. 0. 0. 0. 0. 0. 0. 0. 0.\n",
      " 0. 0. 0. 0. 0. 0. 0. 0. 0. 0. 0. 0. 0. 0. 0. 0. 0. 0. 0. 0. 0. 0. 0. 0.\n",
      " 0. 0. 0. 0. 0. 0. 0. 0. 0. 0. 0. 0. 0. 0. 0. 0. 0. 0. 0. 0. 0. 0. 0. 0.\n",
      " 0. 0. 0. 0. 0. 0. 0. 0. 0. 0. 0. 0. 0. 0. 0. 0. 0. 0. 0. 0. 0. 0. 0. 0.\n",
      " 0. 0. 0. 0. 0. 0. 0. 0. 0. 0. 0. 0.]\n"
     ]
    }
   ],
   "source": [
    "print(biases.shape)\n",
    "print(biases)"
   ]
  },
  {
   "cell_type": "markdown",
   "id": "62f45c75",
   "metadata": {},
   "source": [
    "如上输出所示，权重W进行了随机初始化，而偏置b进行了全0初始化。如果想指定初始化方法，可以使用超参数kernel_initializer和bias_initializer进行指定。"
   ]
  },
  {
   "cell_type": "code",
   "execution_count": 27,
   "id": "2a7cb600",
   "metadata": {},
   "outputs": [],
   "source": [
    "model.compile(loss=\"sparse_categorical_crossentropy\",optimizer=\"sgd\",metrics=[\"accuracy\"])#交叉熵损失函数"
   ]
  },
  {
   "cell_type": "markdown",
   "id": "febf68b6",
   "metadata": {},
   "source": [
    "如上过程对模型进行编译，主要指定所使用的损失函数，优化器和衡量指标。<br>\n",
    "loss使用sparse_categorical_crossentropy是因为标签是稀疏的，每个样本有0-9之间的一个数字作为标签；如果非one_hot格式的标签，则需要使用categorical_crossentropy。可以使用tf.keras.utils.to_categorical()函数转换成one_hot编码。<br>\n",
    "优化器使用sgd，即随机梯度下降，默认学习率为0.01"
   ]
  },
  {
   "cell_type": "markdown",
   "id": "d737c458",
   "metadata": {},
   "source": [
    "![test](image/10.png)"
   ]
  },
  {
   "cell_type": "code",
   "execution_count": 28,
   "id": "f453dff0",
   "metadata": {},
   "outputs": [
    {
     "name": "stdout",
     "output_type": "stream",
     "text": [
      "Epoch 1/30\n",
      "1719/1719 [==============================] - 2s 1ms/step - loss: 0.7237 - accuracy: 0.7644 - val_loss: 0.5207 - val_accuracy: 0.8234\n",
      "Epoch 2/30\n",
      "1719/1719 [==============================] - 2s 1ms/step - loss: 0.4843 - accuracy: 0.8318 - val_loss: 0.4349 - val_accuracy: 0.8528\n",
      "Epoch 3/30\n",
      "1719/1719 [==============================] - 2s 1ms/step - loss: 0.4392 - accuracy: 0.8457 - val_loss: 0.5358 - val_accuracy: 0.7976\n",
      "Epoch 4/30\n",
      "1719/1719 [==============================] - 2s 1ms/step - loss: 0.4126 - accuracy: 0.8564 - val_loss: 0.3921 - val_accuracy: 0.8648\n",
      "Epoch 5/30\n",
      "1719/1719 [==============================] - 2s 1ms/step - loss: 0.3939 - accuracy: 0.8618 - val_loss: 0.3750 - val_accuracy: 0.8682\n",
      "Epoch 6/30\n",
      "1719/1719 [==============================] - 2s 1ms/step - loss: 0.3753 - accuracy: 0.8676 - val_loss: 0.3694 - val_accuracy: 0.8728\n",
      "Epoch 7/30\n",
      "1719/1719 [==============================] - 2s 1ms/step - loss: 0.3633 - accuracy: 0.8711 - val_loss: 0.3616 - val_accuracy: 0.8714\n",
      "Epoch 8/30\n",
      "1719/1719 [==============================] - 2s 1ms/step - loss: 0.3518 - accuracy: 0.8751 - val_loss: 0.3836 - val_accuracy: 0.8622\n",
      "Epoch 9/30\n",
      "1719/1719 [==============================] - 2s 1ms/step - loss: 0.3415 - accuracy: 0.8786 - val_loss: 0.3590 - val_accuracy: 0.8716\n",
      "Epoch 10/30\n",
      "1719/1719 [==============================] - 2s 983us/step - loss: 0.3321 - accuracy: 0.8825 - val_loss: 0.3438 - val_accuracy: 0.8772\n",
      "Epoch 11/30\n",
      "1719/1719 [==============================] - 2s 1ms/step - loss: 0.3242 - accuracy: 0.8834 - val_loss: 0.3442 - val_accuracy: 0.8782\n",
      "Epoch 12/30\n",
      "1719/1719 [==============================] - 2s 1ms/step - loss: 0.3151 - accuracy: 0.8866 - val_loss: 0.3310 - val_accuracy: 0.8818\n",
      "Epoch 13/30\n",
      "1719/1719 [==============================] - 2s 1ms/step - loss: 0.3083 - accuracy: 0.8889 - val_loss: 0.3273 - val_accuracy: 0.8884\n",
      "Epoch 14/30\n",
      "1719/1719 [==============================] - 2s 1ms/step - loss: 0.3022 - accuracy: 0.8918 - val_loss: 0.3409 - val_accuracy: 0.8788\n",
      "Epoch 15/30\n",
      "1719/1719 [==============================] - 2s 1ms/step - loss: 0.2947 - accuracy: 0.8932 - val_loss: 0.3212 - val_accuracy: 0.8858\n",
      "Epoch 16/30\n",
      "1719/1719 [==============================] - 2s 1ms/step - loss: 0.2892 - accuracy: 0.8970 - val_loss: 0.3096 - val_accuracy: 0.8910\n",
      "Epoch 17/30\n",
      "1719/1719 [==============================] - 2s 1ms/step - loss: 0.2841 - accuracy: 0.8974 - val_loss: 0.3567 - val_accuracy: 0.8746\n",
      "Epoch 18/30\n",
      "1719/1719 [==============================] - 2s 1000us/step - loss: 0.2780 - accuracy: 0.9000 - val_loss: 0.3137 - val_accuracy: 0.8896\n",
      "Epoch 19/30\n",
      "1719/1719 [==============================] - 2s 990us/step - loss: 0.2730 - accuracy: 0.9019 - val_loss: 0.3120 - val_accuracy: 0.8900\n",
      "Epoch 20/30\n",
      "1719/1719 [==============================] - 2s 976us/step - loss: 0.2674 - accuracy: 0.9033 - val_loss: 0.3273 - val_accuracy: 0.8818\n",
      "Epoch 21/30\n",
      "1719/1719 [==============================] - 2s 988us/step - loss: 0.2625 - accuracy: 0.9052 - val_loss: 0.3067 - val_accuracy: 0.8916\n",
      "Epoch 22/30\n",
      "1719/1719 [==============================] - 2s 1ms/step - loss: 0.2576 - accuracy: 0.9070 - val_loss: 0.2972 - val_accuracy: 0.8970\n",
      "Epoch 23/30\n",
      "1719/1719 [==============================] - 2s 1ms/step - loss: 0.2535 - accuracy: 0.9081 - val_loss: 0.2977 - val_accuracy: 0.8946\n",
      "Epoch 24/30\n",
      "1719/1719 [==============================] - 2s 1ms/step - loss: 0.2486 - accuracy: 0.9102 - val_loss: 0.3078 - val_accuracy: 0.8874\n",
      "Epoch 25/30\n",
      "1719/1719 [==============================] - 2s 1ms/step - loss: 0.2444 - accuracy: 0.9122 - val_loss: 0.2984 - val_accuracy: 0.8950\n",
      "Epoch 26/30\n",
      "1719/1719 [==============================] - 2s 1ms/step - loss: 0.2406 - accuracy: 0.9131 - val_loss: 0.3079 - val_accuracy: 0.8874\n",
      "Epoch 27/30\n",
      "1719/1719 [==============================] - 2s 1ms/step - loss: 0.2362 - accuracy: 0.9156 - val_loss: 0.3022 - val_accuracy: 0.8930\n",
      "Epoch 28/30\n",
      "1719/1719 [==============================] - 2s 1ms/step - loss: 0.2329 - accuracy: 0.9160 - val_loss: 0.2998 - val_accuracy: 0.8928\n",
      "Epoch 29/30\n",
      "1719/1719 [==============================] - 2s 1ms/step - loss: 0.2282 - accuracy: 0.9183 - val_loss: 0.3046 - val_accuracy: 0.8906\n",
      "Epoch 30/30\n",
      "1719/1719 [==============================] - 2s 1ms/step - loss: 0.2250 - accuracy: 0.9194 - val_loss: 0.3048 - val_accuracy: 0.8922\n"
     ]
    }
   ],
   "source": [
    "history = model.fit(X_train, y_train, epochs=30, validation_data=(X_valid, y_valid))"
   ]
  },
  {
   "cell_type": "markdown",
   "id": "702daef4",
   "metadata": {},
   "source": [
    "- mode.fit()函数中参数epochs默认值为1，epochs被定义为向前和向后传播中所有批次的单次训练迭代。这意味着1个周期是整个输入数据的单次向前和向后传递。简单说，epochs指的就是训练过程中数据将被“轮”多少次\n",
    "- 默认batch_size为32，故55000/32=1718.75。一次训练所选取的样本数\n",
    "- 也可以通过指定validation_split=0.1指定将训练集中10%的数据用于验证，而不用再单独传入验证集。"
   ]
  },
  {
   "cell_type": "code",
   "execution_count": 29,
   "id": "576abfc3",
   "metadata": {},
   "outputs": [
    {
     "data": {
      "text/plain": [
       "{'verbose': 1, 'epochs': 30, 'steps': 1719}"
      ]
     },
     "execution_count": 29,
     "metadata": {},
     "output_type": "execute_result"
    }
   ],
   "source": [
    "history.params"
   ]
  },
  {
   "cell_type": "code",
   "execution_count": 30,
   "id": "072c4429",
   "metadata": {},
   "outputs": [
    {
     "name": "stdout",
     "output_type": "stream",
     "text": [
      "[0, 1, 2, 3, 4, 5, 6, 7, 8, 9, 10, 11, 12, 13, 14, 15, 16, 17, 18, 19, 20, 21, 22, 23, 24, 25, 26, 27, 28, 29]\n"
     ]
    }
   ],
   "source": [
    "print(history.epoch)"
   ]
  },
  {
   "cell_type": "code",
   "execution_count": 31,
   "id": "0098165f",
   "metadata": {},
   "outputs": [
    {
     "data": {
      "text/plain": [
       "dict_keys(['loss', 'accuracy', 'val_loss', 'val_accuracy'])"
      ]
     },
     "execution_count": 31,
     "metadata": {},
     "output_type": "execute_result"
    }
   ],
   "source": [
    "history.history.keys()"
   ]
  },
  {
   "cell_type": "code",
   "execution_count": 32,
   "id": "928d3937",
   "metadata": {},
   "outputs": [
    {
     "data": {
      "text/plain": [
       "{'loss': [0.7236781120300293,\n",
       "  0.4842923879623413,\n",
       "  0.43919143080711365,\n",
       "  0.4126169979572296,\n",
       "  0.3938888907432556,\n",
       "  0.3752559721469879,\n",
       "  0.3633424639701843,\n",
       "  0.35175150632858276,\n",
       "  0.3415127098560333,\n",
       "  0.3320985734462738,\n",
       "  0.32418662309646606,\n",
       "  0.3150677978992462,\n",
       "  0.30825161933898926,\n",
       "  0.3021922707557678,\n",
       "  0.2947065234184265,\n",
       "  0.2891533672809601,\n",
       "  0.28412577509880066,\n",
       "  0.27801015973091125,\n",
       "  0.27299755811691284,\n",
       "  0.2674311399459839,\n",
       "  0.2624906301498413,\n",
       "  0.2575952112674713,\n",
       "  0.2534756660461426,\n",
       "  0.24861761927604675,\n",
       "  0.24438467621803284,\n",
       "  0.24058039486408234,\n",
       "  0.23621168732643127,\n",
       "  0.23292773962020874,\n",
       "  0.22821521759033203,\n",
       "  0.22499220073223114],\n",
       " 'accuracy': [0.7644181847572327,\n",
       "  0.8317999839782715,\n",
       "  0.8456727266311646,\n",
       "  0.8564181923866272,\n",
       "  0.8618363738059998,\n",
       "  0.867618203163147,\n",
       "  0.8711272478103638,\n",
       "  0.8750545382499695,\n",
       "  0.8785818219184875,\n",
       "  0.8824909329414368,\n",
       "  0.883400022983551,\n",
       "  0.8865818381309509,\n",
       "  0.8889272809028625,\n",
       "  0.8918363451957703,\n",
       "  0.8932363390922546,\n",
       "  0.8970000147819519,\n",
       "  0.8973636627197266,\n",
       "  0.9000363349914551,\n",
       "  0.9019272923469543,\n",
       "  0.9033091068267822,\n",
       "  0.9052363634109497,\n",
       "  0.9070181846618652,\n",
       "  0.9080727100372314,\n",
       "  0.9101999998092651,\n",
       "  0.9121817946434021,\n",
       "  0.9131454825401306,\n",
       "  0.9156000018119812,\n",
       "  0.9160181879997253,\n",
       "  0.9183454513549805,\n",
       "  0.9193817973136902],\n",
       " 'val_loss': [0.5206756591796875,\n",
       "  0.4349324107170105,\n",
       "  0.5357797741889954,\n",
       "  0.39205724000930786,\n",
       "  0.3749741315841675,\n",
       "  0.3694041669368744,\n",
       "  0.36156946420669556,\n",
       "  0.3835674822330475,\n",
       "  0.35897305607795715,\n",
       "  0.34375452995300293,\n",
       "  0.34417617321014404,\n",
       "  0.3310176134109497,\n",
       "  0.3272683024406433,\n",
       "  0.34091028571128845,\n",
       "  0.3211832642555237,\n",
       "  0.30957138538360596,\n",
       "  0.3566668927669525,\n",
       "  0.3137376010417938,\n",
       "  0.31204119324684143,\n",
       "  0.32728490233421326,\n",
       "  0.3066694140434265,\n",
       "  0.2971910536289215,\n",
       "  0.29769477248191833,\n",
       "  0.307765394449234,\n",
       "  0.2983948290348053,\n",
       "  0.30790066719055176,\n",
       "  0.30215898156166077,\n",
       "  0.2997768819332123,\n",
       "  0.3045530915260315,\n",
       "  0.30482742190361023],\n",
       " 'val_accuracy': [0.8234000205993652,\n",
       "  0.8528000116348267,\n",
       "  0.7975999712944031,\n",
       "  0.864799976348877,\n",
       "  0.8682000041007996,\n",
       "  0.8727999925613403,\n",
       "  0.871399998664856,\n",
       "  0.8622000217437744,\n",
       "  0.8715999722480774,\n",
       "  0.8772000074386597,\n",
       "  0.8781999945640564,\n",
       "  0.8817999958992004,\n",
       "  0.8884000182151794,\n",
       "  0.8787999749183655,\n",
       "  0.8858000040054321,\n",
       "  0.890999972820282,\n",
       "  0.8745999932289124,\n",
       "  0.8895999789237976,\n",
       "  0.8899999856948853,\n",
       "  0.8817999958992004,\n",
       "  0.8916000127792358,\n",
       "  0.8970000147819519,\n",
       "  0.894599974155426,\n",
       "  0.8873999714851379,\n",
       "  0.8949999809265137,\n",
       "  0.8873999714851379,\n",
       "  0.8930000066757202,\n",
       "  0.892799973487854,\n",
       "  0.8906000256538391,\n",
       "  0.8921999931335449]}"
      ]
     },
     "execution_count": 32,
     "metadata": {},
     "output_type": "execute_result"
    }
   ],
   "source": [
    "history.history"
   ]
  },
  {
   "cell_type": "code",
   "execution_count": 108,
   "id": "4be7959d",
   "metadata": {},
   "outputs": [
    {
     "data": {
      "image/png": "[encoded data removed]",
      "text/plain": [
       "<Figure size 576x360 with 1 Axes>"
      ]
     },
     "metadata": {
      "needs_background": "light"
     },
     "output_type": "display_data"
    }
   ],
   "source": [
    "pd.DataFrame(history.history).plot(figsize=(8,5))\n",
    "plt.grid(True)\n",
    "plt.gca().set_ylim(0,1)\n",
    "plt.show()"
   ]
  },
  {
   "cell_type": "code",
   "execution_count": 33,
   "id": "ac924bd9",
   "metadata": {},
   "outputs": [
    {
     "name": "stdout",
     "output_type": "stream",
     "text": [
      "313/313 [==============================] - 0s 824us/step - loss: 0.3382 - accuracy: 0.8808\n"
     ]
    },
    {
     "data": {
      "text/plain": [
       "[0.3381699323654175, 0.8808000087738037]"
      ]
     },
     "execution_count": 33,
     "metadata": {},
     "output_type": "execute_result"
    }
   ],
   "source": [
    "model.evaluate(X_test, y_test)"
   ]
  },
  {
   "cell_type": "markdown",
   "id": "b9a40923",
   "metadata": {},
   "source": [
    "+ 如上输出所示，输出为一个列表，第一个值代表损失，第二个值代表准确率。\n",
    "+ 下面就可以用模型进行预测了："
   ]
  },
  {
   "cell_type": "code",
   "execution_count": 34,
   "id": "acc65b28",
   "metadata": {},
   "outputs": [
    {
     "data": {
      "text/plain": [
       "array([[0.  , 0.  , 0.  , 0.  , 0.  , 0.01, 0.  , 0.03, 0.  , 0.95],\n",
       "       [0.  , 0.  , 0.99, 0.  , 0.01, 0.  , 0.  , 0.  , 0.  , 0.  ],\n",
       "       [0.  , 1.  , 0.  , 0.  , 0.  , 0.  , 0.  , 0.  , 0.  , 0.  ]],\n",
       "      dtype=float32)"
      ]
     },
     "execution_count": 34,
     "metadata": {},
     "output_type": "execute_result"
    }
   ],
   "source": [
    "X_new = X_test[:3]\n",
    "y_proba = model.predict(X_new)\n",
    "y_proba.round(2)"
   ]
  },
  {
   "cell_type": "code",
   "execution_count": 36,
   "id": "7a73315f",
   "metadata": {
    "scrolled": true
   },
   "outputs": [
    {
     "data": {
      "text/plain": [
       "array([9, 2, 1], dtype=int64)"
      ]
     },
     "execution_count": 36,
     "metadata": {},
     "output_type": "execute_result"
    }
   ],
   "source": [
    "y_pred = model.predict_classes(X_new)\n",
    "y_pred"
   ]
  },
  {
   "cell_type": "code",
   "execution_count": 37,
   "id": "25df41cf",
   "metadata": {},
   "outputs": [
    {
     "data": {
      "text/plain": [
       "array(['Ankle boot', 'Pullover', 'Trouser'], dtype='<U11')"
      ]
     },
     "execution_count": 37,
     "metadata": {},
     "output_type": "execute_result"
    }
   ],
   "source": [
    "np.array(class_names)[y_pred]"
   ]
  },
  {
   "cell_type": "code",
   "execution_count": 38,
   "id": "a0fe2709",
   "metadata": {},
   "outputs": [
    {
     "data": {
      "text/plain": [
       "array([9, 2, 1], dtype=uint8)"
      ]
     },
     "execution_count": 38,
     "metadata": {},
     "output_type": "execute_result"
    }
   ],
   "source": [
    "y_new = y_test[:3]\n",
    "y_new"
   ]
  },
  {
   "cell_type": "code",
   "execution_count": 39,
   "id": "4b483f7e",
   "metadata": {},
   "outputs": [
    {
     "data": {
      "image/png": "[encoded data removed]",
      "text/plain": [
       "<Figure size 576x360 with 3 Axes>"
      ]
     },
     "metadata": {
      "needs_background": "light"
     },
     "output_type": "display_data"
    }
   ],
   "source": [
    "plt.figure(figsize=(8, 5))\n",
    "for index, image in enumerate(X_new):\n",
    "    plt.subplot(1, 3, index + 1)\n",
    "    plt.imshow(image, cmap=\"binary\", interpolation=\"nearest\")\n",
    "    plt.axis('off')\n",
    "    plt.title(class_names[y_test[index]], fontsize=12)\n",
    "plt.tight_layout()\n",
    "plt.show()"
   ]
  },
  {
   "cell_type": "markdown",
   "id": "40166a6d",
   "metadata": {},
   "source": [
    "### 使用顺序API构建回归MLP"
   ]
  },
  {
   "cell_type": "markdown",
   "id": "98505b3b",
   "metadata": {},
   "source": [
    "使用加利福尼亚房价数据集(california_hosing)进行分析："
   ]
  },
  {
   "cell_type": "code",
   "execution_count": 40,
   "id": "0cc3eb8e",
   "metadata": {},
   "outputs": [
    {
     "name": "stdout",
     "output_type": "stream",
     "text": [
      "(11610, 8)\n",
      "(3870, 8)\n",
      "(5160, 8)\n",
      "(11610,)\n",
      "(3870,)\n",
      "(5160,)\n"
     ]
    }
   ],
   "source": [
    "from sklearn.datasets import fetch_california_housing\n",
    "from sklearn.model_selection import train_test_split\n",
    "from sklearn.preprocessing import StandardScaler#作用：去均值和方差归一化。\n",
    " \n",
    "housing = fetch_california_housing()\n",
    "X_train_full, X_test, y_train_full, y_test = train_test_split(housing.data, housing.target, random_state=42)\n",
    "X_train, X_valid, y_train, y_valid = train_test_split(X_train_full, y_train_full, random_state=42)\n",
    " \n",
    "scaler = StandardScaler()\n",
    "X_train = scaler.fit_transform(X_train)\n",
    "X_valid = scaler.transform(X_valid)\n",
    "X_test = scaler.transform(X_test)\n",
    " \n",
    "for i in (X_train, X_valid, X_test, y_train, y_valid, y_test):\n",
    "    print(i.shape)"
   ]
  },
  {
   "cell_type": "code",
   "execution_count": 41,
   "id": "2114120d",
   "metadata": {},
   "outputs": [
    {
     "name": "stdout",
     "output_type": "stream",
     "text": [
      "Model: \"sequential_1\"\n",
      "_________________________________________________________________\n",
      "Layer (type)                 Output Shape              Param #   \n",
      "=================================================================\n",
      "dense_3 (Dense)              (None, 30)                270       \n",
      "_________________________________________________________________\n",
      "dense_4 (Dense)              (None, 1)                 31        \n",
      "=================================================================\n",
      "Total params: 301\n",
      "Trainable params: 301\n",
      "Non-trainable params: 0\n",
      "_________________________________________________________________\n"
     ]
    }
   ],
   "source": [
    "np.random.seed(42)\n",
    "tf.random.set_seed(42)\n",
    "# 构建模型结构\n",
    "model = tf.keras.models.Sequential([\n",
    "    tf.keras.layers.Dense(30, activation=\"relu\",input_shape=(X_train.shape[1:])),#神经元少，防止过拟合\n",
    "    tf.keras.layers.Dense(1)#只预测一个值而不是一个类别\n",
    "])\n",
    "# 编译模型\n",
    "model.compile(loss=\"mean_squared_error\",optimizer=tf.keras.optimizers.SGD(learning_rate=1e-3))#损失函数为均方误差 优化器为SGD\n",
    "model.summary()"
   ]
  },
  {
   "cell_type": "code",
   "execution_count": 42,
   "id": "323d6b47",
   "metadata": {},
   "outputs": [
    {
     "name": "stdout",
     "output_type": "stream",
     "text": [
      "Epoch 1/20\n",
      "363/363 [==============================] - 0s 817us/step - loss: 1.6419 - val_loss: 0.8560\n",
      "Epoch 2/20\n",
      "363/363 [==============================] - 0s 563us/step - loss: 0.7047 - val_loss: 0.6531\n",
      "Epoch 3/20\n",
      "363/363 [==============================] - 0s 570us/step - loss: 0.6345 - val_loss: 0.6099\n",
      "Epoch 4/20\n",
      "363/363 [==============================] - 0s 572us/step - loss: 0.5977 - val_loss: 0.5658\n",
      "Epoch 5/20\n",
      "363/363 [==============================] - 0s 553us/step - loss: 0.5706 - val_loss: 0.5355\n",
      "Epoch 6/20\n",
      "363/363 [==============================] - 0s 588us/step - loss: 0.5472 - val_loss: 0.5173\n",
      "Epoch 7/20\n",
      "363/363 [==============================] - 0s 572us/step - loss: 0.5288 - val_loss: 0.5081\n",
      "Epoch 8/20\n",
      "363/363 [==============================] - 0s 576us/step - loss: 0.5130 - val_loss: 0.4799\n",
      "Epoch 9/20\n",
      "363/363 [==============================] - 0s 544us/step - loss: 0.4992 - val_loss: 0.4690\n",
      "Epoch 10/20\n",
      "363/363 [==============================] - 0s 556us/step - loss: 0.4875 - val_loss: 0.4656\n",
      "Epoch 11/20\n",
      "363/363 [==============================] - 0s 555us/step - loss: 0.4777 - val_loss: 0.4482\n",
      "Epoch 12/20\n",
      "363/363 [==============================] - 0s 564us/step - loss: 0.4688 - val_loss: 0.4479\n",
      "Epoch 13/20\n",
      "363/363 [==============================] - 0s 568us/step - loss: 0.4615 - val_loss: 0.4296\n",
      "Epoch 14/20\n",
      "363/363 [==============================] - 0s 583us/step - loss: 0.4547 - val_loss: 0.4233\n",
      "Epoch 15/20\n",
      "363/363 [==============================] - 0s 553us/step - loss: 0.4488 - val_loss: 0.4176\n",
      "Epoch 16/20\n",
      "363/363 [==============================] - 0s 545us/step - loss: 0.4435 - val_loss: 0.4123\n",
      "Epoch 17/20\n",
      "363/363 [==============================] - 0s 576us/step - loss: 0.4389 - val_loss: 0.4071\n",
      "Epoch 18/20\n",
      "363/363 [==============================] - 0s 571us/step - loss: 0.4347 - val_loss: 0.4037\n",
      "Epoch 19/20\n",
      "363/363 [==============================] - 0s 545us/step - loss: 0.4306 - val_loss: 0.4000\n",
      "Epoch 20/20\n",
      "363/363 [==============================] - 0s 572us/step - loss: 0.4273 - val_loss: 0.3969\n"
     ]
    }
   ],
   "source": [
    "history = model.fit(X_train, y_train, epochs=20, validation_data=(X_valid, y_valid))"
   ]
  },
  {
   "cell_type": "code",
   "execution_count": 43,
   "id": "d00e8e6a",
   "metadata": {},
   "outputs": [
    {
     "name": "stdout",
     "output_type": "stream",
     "text": [
      "162/162 [==============================] - 0s 448us/step - loss: 0.4212\n"
     ]
    },
    {
     "data": {
      "text/plain": [
       "0.42117786407470703"
      ]
     },
     "execution_count": 43,
     "metadata": {},
     "output_type": "execute_result"
    }
   ],
   "source": [
    "mse_test = model.evaluate(X_test, y_test)\n",
    "mse_test"
   ]
  },
  {
   "cell_type": "code",
   "execution_count": 44,
   "id": "2c6d1a56",
   "metadata": {},
   "outputs": [
    {
     "name": "stdout",
     "output_type": "stream",
     "text": [
      "[[0.38856643]\n",
      " [1.6792021 ]\n",
      " [3.1022797 ]\n",
      " [2.6324043 ]\n",
      " [2.6914022 ]]\n"
     ]
    }
   ],
   "source": [
    "X_new = X_test[:5]\n",
    "y_pred = model.predict(X_new)\n",
    "print(y_pred)"
   ]
  },
  {
   "cell_type": "code",
   "execution_count": 45,
   "id": "909d2128",
   "metadata": {},
   "outputs": [
    {
     "data": {
      "text/plain": [
       "array([0.477  , 0.458  , 5.00001, 2.186  , 2.78   ])"
      ]
     },
     "execution_count": 45,
     "metadata": {},
     "output_type": "execute_result"
    }
   ],
   "source": [
    "y_test[:5]"
   ]
  },
  {
   "cell_type": "markdown",
   "id": "175cd990",
   "metadata": {},
   "source": [
    "如上输出所示，预测结果与真实结果还是有一定的差异。"
   ]
  },
  {
   "cell_type": "code",
   "execution_count": 37,
   "id": "36fc8dd5",
   "metadata": {},
   "outputs": [
    {
     "data": {
      "image/png": "[encoded data removed]",
      "text/plain": [
       "<Figure size 432x288 with 1 Axes>"
      ]
     },
     "metadata": {
      "needs_background": "light"
     },
     "output_type": "display_data"
    }
   ],
   "source": [
    "plt.plot(pd.DataFrame(history.history))\n",
    "plt.grid(True)\n",
    "plt.gca().set_ylim(0,1)\n",
    "plt.show()"
   ]
  },
  {
   "cell_type": "code",
   "execution_count": 46,
   "id": "66c5eeff",
   "metadata": {},
   "outputs": [
    {
     "name": "stdout",
     "output_type": "stream",
     "text": [
      "Model: \"sequential_2\"\n",
      "_________________________________________________________________\n",
      "Layer (type)                 Output Shape              Param #   \n",
      "=================================================================\n",
      "dense_5 (Dense)              (None, 30)                270       \n",
      "_________________________________________________________________\n",
      "dense_6 (Dense)              (None, 10)                310       \n",
      "_________________________________________________________________\n",
      "dense_7 (Dense)              (None, 1)                 11        \n",
      "=================================================================\n",
      "Total params: 591\n",
      "Trainable params: 591\n",
      "Non-trainable params: 0\n",
      "_________________________________________________________________\n"
     ]
    }
   ],
   "source": [
    "# 构建模型结构\n",
    "model_2 = tf.keras.models.Sequential([\n",
    "    tf.keras.layers.Dense(30, activation=\"relu\",input_shape=(X_train.shape[1:])),#神经元少，防止过拟合\n",
    "    tf.keras.layers.Dense(10, activation=\"relu\"),#神经元少，防止过拟合\n",
    "    tf.keras.layers.Dense(1)#只预测一个值而不是一个类别\n",
    "])\n",
    "# 编译模型\n",
    "model_2.compile(loss=\"mean_squared_error\",optimizer=tf.keras.optimizers.SGD(learning_rate=1e-3))#损失函数为均方误差 优化器为SGD\n",
    "model_2.summary()"
   ]
  },
  {
   "cell_type": "code",
   "execution_count": 47,
   "id": "a8d69694",
   "metadata": {},
   "outputs": [
    {
     "name": "stdout",
     "output_type": "stream",
     "text": [
      "Epoch 1/20\n",
      "363/363 [==============================] - 0s 1ms/step - loss: 1.9581 - val_loss: 1.1545\n",
      "Epoch 2/20\n",
      "363/363 [==============================] - 0s 606us/step - loss: 0.8396 - val_loss: 0.6983\n",
      "Epoch 3/20\n",
      "363/363 [==============================] - 0s 651us/step - loss: 0.6552 - val_loss: 0.6194\n",
      "Epoch 4/20\n",
      "363/363 [==============================] - 0s 614us/step - loss: 0.5774 - val_loss: 0.5352\n",
      "Epoch 5/20\n",
      "363/363 [==============================] - 0s 598us/step - loss: 0.5302 - val_loss: 0.4934\n",
      "Epoch 6/20\n",
      "363/363 [==============================] - 0s 599us/step - loss: 0.4977 - val_loss: 0.4707\n",
      "Epoch 7/20\n",
      "363/363 [==============================] - 0s 610us/step - loss: 0.4748 - val_loss: 0.4641\n",
      "Epoch 8/20\n",
      "363/363 [==============================] - 0s 609us/step - loss: 0.4584 - val_loss: 0.4349\n",
      "Epoch 9/20\n",
      "363/363 [==============================] - 0s 609us/step - loss: 0.4454 - val_loss: 0.4270\n",
      "Epoch 10/20\n",
      "363/363 [==============================] - 0s 577us/step - loss: 0.4354 - val_loss: 0.4167\n",
      "Epoch 11/20\n",
      "363/363 [==============================] - 0s 574us/step - loss: 0.4278 - val_loss: 0.4063\n",
      "Epoch 12/20\n",
      "363/363 [==============================] - 0s 575us/step - loss: 0.4213 - val_loss: 0.4001\n",
      "Epoch 13/20\n",
      "363/363 [==============================] - 0s 595us/step - loss: 0.4160 - val_loss: 0.3944\n",
      "Epoch 14/20\n",
      "363/363 [==============================] - 0s 603us/step - loss: 0.4114 - val_loss: 0.3903\n",
      "Epoch 15/20\n",
      "363/363 [==============================] - 0s 602us/step - loss: 0.4076 - val_loss: 0.3861\n",
      "Epoch 16/20\n",
      "363/363 [==============================] - 0s 606us/step - loss: 0.4040 - val_loss: 0.3815\n",
      "Epoch 17/20\n",
      "363/363 [==============================] - 0s 577us/step - loss: 0.4007 - val_loss: 0.3835\n",
      "Epoch 18/20\n",
      "363/363 [==============================] - 0s 576us/step - loss: 0.3982 - val_loss: 0.3783\n",
      "Epoch 19/20\n",
      "363/363 [==============================] - 0s 623us/step - loss: 0.3951 - val_loss: 0.3730\n",
      "Epoch 20/20\n",
      "363/363 [==============================] - 0s 575us/step - loss: 0.3931 - val_loss: 0.3833\n"
     ]
    }
   ],
   "source": [
    "history_2 = model_2.fit(X_train, y_train, epochs=20, validation_data=(X_valid, y_valid))"
   ]
  },
  {
   "cell_type": "code",
   "execution_count": 49,
   "id": "1eaf11c6",
   "metadata": {},
   "outputs": [
    {
     "name": "stdout",
     "output_type": "stream",
     "text": [
      "162/162 [==============================] - 0s 476us/step - loss: 0.3860\n"
     ]
    },
    {
     "data": {
      "text/plain": [
       "0.3860360085964203"
      ]
     },
     "execution_count": 49,
     "metadata": {},
     "output_type": "execute_result"
    }
   ],
   "source": [
    "mse_test_2 = model_2.evaluate(X_test, y_test)\n",
    "mse_test_2"
   ]
  },
  {
   "cell_type": "code",
   "execution_count": 50,
   "id": "9b14ec93",
   "metadata": {},
   "outputs": [
    {
     "name": "stdout",
     "output_type": "stream",
     "text": [
      "[[0.75258327]\n",
      " [1.846357  ]\n",
      " [3.537632  ]\n",
      " [2.6756773 ]\n",
      " [2.737914  ]]\n"
     ]
    }
   ],
   "source": [
    "X_new = X_test[:5]\n",
    "y_pred_2 = model_2.predict(X_new)\n",
    "print(y_pred_2)"
   ]
  },
  {
   "cell_type": "code",
   "execution_count": 51,
   "id": "3890a67e",
   "metadata": {},
   "outputs": [
    {
     "data": {
      "text/plain": [
       "array([0.477  , 0.458  , 5.00001, 2.186  , 2.78   ])"
      ]
     },
     "execution_count": 51,
     "metadata": {},
     "output_type": "execute_result"
    }
   ],
   "source": [
    "y_test[:5]"
   ]
  },
  {
   "cell_type": "code",
   "execution_count": 48,
   "id": "0fbcab29",
   "metadata": {},
   "outputs": [
    {
     "data": {
      "image/png": "[encoded data removed]",
      "text/plain": [
       "<Figure size 432x288 with 1 Axes>"
      ]
     },
     "metadata": {
      "needs_background": "light"
     },
     "output_type": "display_data"
    }
   ],
   "source": [
    "plt.plot(pd.DataFrame(history_2.history))\n",
    "plt.grid(True)\n",
    "plt.gca().set_ylim(0,1)\n",
    "plt.show()"
   ]
  },
  {
   "cell_type": "code",
   "execution_count": 52,
   "id": "22117c77",
   "metadata": {},
   "outputs": [
    {
     "name": "stdout",
     "output_type": "stream",
     "text": [
      "Model: \"sequential_3\"\n",
      "_________________________________________________________________\n",
      "Layer (type)                 Output Shape              Param #   \n",
      "=================================================================\n",
      "dense_8 (Dense)              (None, 30)                270       \n",
      "_________________________________________________________________\n",
      "dense_9 (Dense)              (None, 10)                310       \n",
      "_________________________________________________________________\n",
      "dense_10 (Dense)             (None, 1)                 11        \n",
      "=================================================================\n",
      "Total params: 591\n",
      "Trainable params: 591\n",
      "Non-trainable params: 0\n",
      "_________________________________________________________________\n"
     ]
    }
   ],
   "source": [
    "# 构建模型结构\n",
    "model_3 = tf.keras.models.Sequential([\n",
    "    tf.keras.layers.Dense(30, activation=\"relu\",input_shape=(X_train.shape[1:])),#神经元少，防止过拟合\n",
    "    tf.keras.layers.Dense(10, activation=\"relu\"),#神经元少，防止过拟合\n",
    "    tf.keras.layers.Dense(1)#只预测一个值而不是一个类别\n",
    "])\n",
    "# 编译模型\n",
    "model_3.compile(loss=\"mean_squared_error\",optimizer=tf.keras.optimizers.SGD(learning_rate=1e-3))#损失函数为均方误差 优化器为SGD\n",
    "model_3.summary()"
   ]
  },
  {
   "cell_type": "code",
   "execution_count": 53,
   "id": "71441abb",
   "metadata": {},
   "outputs": [
    {
     "name": "stdout",
     "output_type": "stream",
     "text": [
      "Epoch 1/40\n",
      "300/363 [=======================>......] - ETA: 0s - loss: 2.8401WARNING:tensorflow:Callbacks method `on_test_batch_end` is slow compared to the batch time (batch time: 0.0000s vs `on_test_batch_end` time: 0.0010s). Check your callbacks.\n",
      "363/363 [==============================] - 0s 856us/step - loss: 2.5471 - val_loss: 1.1923\n",
      "Epoch 2/40\n",
      "363/363 [==============================] - 0s 602us/step - loss: 0.8773 - val_loss: 0.7249\n",
      "Epoch 3/40\n",
      "363/363 [==============================] - 0s 595us/step - loss: 0.6504 - val_loss: 0.7214\n",
      "Epoch 4/40\n",
      "363/363 [==============================] - 0s 631us/step - loss: 0.5845 - val_loss: 0.5836\n",
      "Epoch 5/40\n",
      "363/363 [==============================] - 0s 609us/step - loss: 0.5462 - val_loss: 0.5175\n",
      "Epoch 6/40\n",
      "363/363 [==============================] - 0s 568us/step - loss: 0.5161 - val_loss: 0.4811\n",
      "Epoch 7/40\n",
      "363/363 [==============================] - 0s 602us/step - loss: 0.4932 - val_loss: 0.4595\n",
      "Epoch 8/40\n",
      "363/363 [==============================] - 0s 606us/step - loss: 0.4741 - val_loss: 0.4392\n",
      "Epoch 9/40\n",
      "363/363 [==============================] - 0s 640us/step - loss: 0.4589 - val_loss: 0.4235\n",
      "Epoch 10/40\n",
      "363/363 [==============================] - 0s 632us/step - loss: 0.4468 - val_loss: 0.4140\n",
      "Epoch 11/40\n",
      "363/363 [==============================] - 0s 628us/step - loss: 0.4371 - val_loss: 0.4048\n",
      "Epoch 12/40\n",
      "363/363 [==============================] - 0s 602us/step - loss: 0.4291 - val_loss: 0.4059\n",
      "Epoch 13/40\n",
      "363/363 [==============================] - 0s 590us/step - loss: 0.4225 - val_loss: 0.4019\n",
      "Epoch 14/40\n",
      "363/363 [==============================] - 0s 621us/step - loss: 0.4168 - val_loss: 0.3921\n",
      "Epoch 15/40\n",
      "363/363 [==============================] - 0s 625us/step - loss: 0.4121 - val_loss: 0.3935\n",
      "Epoch 16/40\n",
      "363/363 [==============================] - 0s 610us/step - loss: 0.4080 - val_loss: 0.3880\n",
      "Epoch 17/40\n",
      "363/363 [==============================] - 0s 587us/step - loss: 0.4046 - val_loss: 0.3905\n",
      "Epoch 18/40\n",
      "363/363 [==============================] - 0s 605us/step - loss: 0.4015 - val_loss: 0.3868\n",
      "Epoch 19/40\n",
      "363/363 [==============================] - 0s 638us/step - loss: 0.3984 - val_loss: 0.3826\n",
      "Epoch 20/40\n",
      "363/363 [==============================] - 0s 664us/step - loss: 0.3963 - val_loss: 0.4054\n",
      "Epoch 21/40\n",
      "363/363 [==============================] - 0s 575us/step - loss: 0.3941 - val_loss: 0.3947\n",
      "Epoch 22/40\n",
      "363/363 [==============================] - 0s 600us/step - loss: 0.3923 - val_loss: 0.3996\n",
      "Epoch 23/40\n",
      "363/363 [==============================] - 0s 592us/step - loss: 0.3905 - val_loss: 0.3680\n",
      "Epoch 24/40\n",
      "363/363 [==============================] - 0s 645us/step - loss: 0.3887 - val_loss: 0.3739\n",
      "Epoch 25/40\n",
      "363/363 [==============================] - 0s 582us/step - loss: 0.3870 - val_loss: 0.3939\n",
      "Epoch 26/40\n",
      "363/363 [==============================] - 0s 582us/step - loss: 0.3857 - val_loss: 0.3876\n",
      "Epoch 27/40\n",
      "363/363 [==============================] - 0s 609us/step - loss: 0.3845 - val_loss: 0.3641\n",
      "Epoch 28/40\n",
      "363/363 [==============================] - 0s 607us/step - loss: 0.3830 - val_loss: 0.3743\n",
      "Epoch 29/40\n",
      "363/363 [==============================] - 0s 632us/step - loss: 0.3818 - val_loss: 0.3693\n",
      "Epoch 30/40\n",
      "363/363 [==============================] - 0s 610us/step - loss: 0.3805 - val_loss: 0.3840\n",
      "Epoch 31/40\n",
      "363/363 [==============================] - 0s 586us/step - loss: 0.3792 - val_loss: 0.3714\n",
      "Epoch 32/40\n",
      "363/363 [==============================] - 0s 621us/step - loss: 0.3780 - val_loss: 0.3831\n",
      "Epoch 33/40\n",
      "363/363 [==============================] - 0s 600us/step - loss: 0.3773 - val_loss: 0.3632\n",
      "Epoch 34/40\n",
      "363/363 [==============================] - 0s 616us/step - loss: 0.3760 - val_loss: 0.3587\n",
      "Epoch 35/40\n",
      "363/363 [==============================] - 0s 590us/step - loss: 0.3747 - val_loss: 0.3817\n",
      "Epoch 36/40\n",
      "363/363 [==============================] - 0s 562us/step - loss: 0.3740 - val_loss: 0.3529\n",
      "Epoch 37/40\n",
      "363/363 [==============================] - 0s 603us/step - loss: 0.3728 - val_loss: 0.3603\n",
      "Epoch 38/40\n",
      "363/363 [==============================] - 0s 576us/step - loss: 0.3719 - val_loss: 0.3554\n",
      "Epoch 39/40\n",
      "363/363 [==============================] - 0s 623us/step - loss: 0.3709 - val_loss: 0.3527\n",
      "Epoch 40/40\n",
      "363/363 [==============================] - 0s 576us/step - loss: 0.3699 - val_loss: 0.3636\n"
     ]
    }
   ],
   "source": [
    "history_3 = model_3.fit(X_train, y_train, epochs=40, validation_data=(X_valid, y_valid))"
   ]
  },
  {
   "cell_type": "code",
   "execution_count": 54,
   "id": "e6c4628d",
   "metadata": {},
   "outputs": [
    {
     "name": "stdout",
     "output_type": "stream",
     "text": [
      "162/162 [==============================] - 0s 463us/step - loss: 0.3695\n"
     ]
    },
    {
     "data": {
      "text/plain": [
       "0.36953023076057434"
      ]
     },
     "execution_count": 54,
     "metadata": {},
     "output_type": "execute_result"
    }
   ],
   "source": [
    "mse_test_3 = model_3.evaluate(X_test, y_test)\n",
    "mse_test_3"
   ]
  },
  {
   "cell_type": "code",
   "execution_count": 55,
   "id": "830ede84",
   "metadata": {},
   "outputs": [
    {
     "name": "stdout",
     "output_type": "stream",
     "text": [
      "[[0.7914079]\n",
      " [1.6241574]\n",
      " [3.8862863]\n",
      " [2.7986612]\n",
      " [2.809052 ]]\n"
     ]
    }
   ],
   "source": [
    "X_new = X_test[:5]\n",
    "y_pred_3 = model_3.predict(X_new)\n",
    "print(y_pred_3)"
   ]
  },
  {
   "cell_type": "code",
   "execution_count": 56,
   "id": "6172a73a",
   "metadata": {},
   "outputs": [
    {
     "data": {
      "text/plain": [
       "array([0.477  , 0.458  , 5.00001, 2.186  , 2.78   ])"
      ]
     },
     "execution_count": 56,
     "metadata": {},
     "output_type": "execute_result"
    }
   ],
   "source": [
    "y_test[:5]"
   ]
  },
  {
   "cell_type": "code",
   "execution_count": 57,
   "id": "cc93f259",
   "metadata": {},
   "outputs": [
    {
     "data": {
      "image/png": "[encoded data removed]",
      "text/plain": [
       "<Figure size 432x288 with 1 Axes>"
      ]
     },
     "metadata": {
      "needs_background": "light"
     },
     "output_type": "display_data"
    }
   ],
   "source": [
    "plt.plot(pd.DataFrame(history_3.history))\n",
    "plt.grid(True)\n",
    "plt.gca().set_ylim(0,1)\n",
    "plt.show()"
   ]
  },
  {
   "cell_type": "markdown",
   "id": "2324161b",
   "metadata": {},
   "source": [
    "### 使用函数式API构建复杂模型"
   ]
  },
  {
   "cell_type": "code",
   "execution_count": 58,
   "id": "7a9e2148",
   "metadata": {},
   "outputs": [
    {
     "name": "stdout",
     "output_type": "stream",
     "text": [
      "Model: \"functional_1\"\n",
      "__________________________________________________________________________________________________\n",
      "Layer (type)                    Output Shape         Param #     Connected to                     \n",
      "==================================================================================================\n",
      "input_1 (InputLayer)            [(None, 8)]          0                                            \n",
      "__________________________________________________________________________________________________\n",
      "dense_11 (Dense)                (None, 30)           270         input_1[0][0]                    \n",
      "__________________________________________________________________________________________________\n",
      "dense_12 (Dense)                (None, 30)           930         dense_11[0][0]                   \n",
      "__________________________________________________________________________________________________\n",
      "concatenate (Concatenate)       (None, 38)           0           input_1[0][0]                    \n",
      "                                                                 dense_12[0][0]                   \n",
      "__________________________________________________________________________________________________\n",
      "dense_13 (Dense)                (None, 1)            39          concatenate[0][0]                \n",
      "==================================================================================================\n",
      "Total params: 1,239\n",
      "Trainable params: 1,239\n",
      "Non-trainable params: 0\n",
      "__________________________________________________________________________________________________\n"
     ]
    }
   ],
   "source": [
    "np.random.seed(42)\n",
    "tf.random.set_seed(42)\n",
    " \n",
    "input_ = tf.keras.layers.Input(shape=X_train.shape[1:])\n",
    "hidden1 = tf.keras.layers.Dense(30, activation=\"relu\")(input_) # 通过类似函数的方式转入input_，因此叫函数式API\n",
    "hidden2 = tf.keras.layers.Dense(30, activation=\"relu\")(hidden1)\n",
    "concat = tf.keras.layers.concatenate([input_, hidden2])\n",
    "output = tf.keras.layers.Dense(1)(concat)\n",
    " \n",
    "model = tf.keras.models.Model(inputs=[input_], outputs=[output])\n",
    "model.summary()"
   ]
  },
  {
   "cell_type": "code",
   "execution_count": 59,
   "id": "4af7888e",
   "metadata": {},
   "outputs": [
    {
     "data": {
      "image/png": "[encoded data removed]",
      "text/plain": [
       "<IPython.core.display.Image object>"
      ]
     },
     "execution_count": 59,
     "metadata": {},
     "output_type": "execute_result"
    }
   ],
   "source": [
    "tf.keras.utils.plot_model(model, \"wide_deep_model.png\", show_shapes=True)"
   ]
  },
  {
   "cell_type": "code",
   "execution_count": 60,
   "id": "e586dbc4",
   "metadata": {},
   "outputs": [
    {
     "name": "stdout",
     "output_type": "stream",
     "text": [
      "Epoch 1/20\n",
      "363/363 [==============================] - 0s 892us/step - loss: 1.2611 - val_loss: 3.3940\n",
      "Epoch 2/20\n",
      "363/363 [==============================] - 0s 637us/step - loss: 0.6580 - val_loss: 0.9360\n",
      "Epoch 3/20\n",
      "363/363 [==============================] - 0s 617us/step - loss: 0.5878 - val_loss: 0.5649\n",
      "Epoch 4/20\n",
      "363/363 [==============================] - 0s 643us/step - loss: 0.5582 - val_loss: 0.5712\n",
      "Epoch 5/20\n",
      "363/363 [==============================] - 0s 651us/step - loss: 0.5347 - val_loss: 0.5045\n",
      "Epoch 6/20\n",
      "363/363 [==============================] - 0s 627us/step - loss: 0.5158 - val_loss: 0.4831\n",
      "Epoch 7/20\n",
      "363/363 [==============================] - 0s 656us/step - loss: 0.5002 - val_loss: 0.4639\n",
      "Epoch 8/20\n",
      "363/363 [==============================] - 0s 652us/step - loss: 0.4876 - val_loss: 0.4638\n",
      "Epoch 9/20\n",
      "363/363 [==============================] - 0s 623us/step - loss: 0.4760 - val_loss: 0.4421\n",
      "Epoch 10/20\n",
      "363/363 [==============================] - 0s 700us/step - loss: 0.4659 - val_loss: 0.4313\n",
      "Epoch 11/20\n",
      "363/363 [==============================] - 0s 610us/step - loss: 0.4577 - val_loss: 0.4345\n",
      "Epoch 12/20\n",
      "363/363 [==============================] - 0s 645us/step - loss: 0.4498 - val_loss: 0.4168\n",
      "Epoch 13/20\n",
      "363/363 [==============================] - 0s 647us/step - loss: 0.4428 - val_loss: 0.4230\n",
      "Epoch 14/20\n",
      "363/363 [==============================] - 0s 631us/step - loss: 0.4366 - val_loss: 0.4047\n",
      "Epoch 15/20\n",
      "363/363 [==============================] - 0s 627us/step - loss: 0.4307 - val_loss: 0.4078\n",
      "Epoch 16/20\n",
      "363/363 [==============================] - 0s 633us/step - loss: 0.4257 - val_loss: 0.3938\n",
      "Epoch 17/20\n",
      "363/363 [==============================] - 0s 620us/step - loss: 0.4210 - val_loss: 0.3952\n",
      "Epoch 18/20\n",
      "363/363 [==============================] - 0s 618us/step - loss: 0.4167 - val_loss: 0.3860\n",
      "Epoch 19/20\n",
      "363/363 [==============================] - 0s 606us/step - loss: 0.4121 - val_loss: 0.3827\n",
      "Epoch 20/20\n",
      "363/363 [==============================] - 0s 618us/step - loss: 0.4088 - val_loss: 0.4054\n"
     ]
    }
   ],
   "source": [
    "# 模型编译\n",
    "model.compile(loss=\"mean_squared_error\", optimizer=tf.keras.optimizers.SGD(learning_rate=1e-3))\n",
    "history = model.fit(X_train, y_train, epochs=20, validation_data=(X_valid,y_valid))"
   ]
  },
  {
   "cell_type": "code",
   "execution_count": 61,
   "id": "5af84139",
   "metadata": {},
   "outputs": [
    {
     "name": "stdout",
     "output_type": "stream",
     "text": [
      "162/162 [==============================] - 0s 411us/step - loss: 0.4032\n"
     ]
    },
    {
     "data": {
      "text/plain": [
       "0.4031672477722168"
      ]
     },
     "execution_count": 61,
     "metadata": {},
     "output_type": "execute_result"
    }
   ],
   "source": [
    "mse_test = model.evaluate(X_test, y_test)\n",
    "mse_test"
   ]
  },
  {
   "cell_type": "code",
   "execution_count": 63,
   "id": "d8a15c73",
   "metadata": {},
   "outputs": [
    {
     "data": {
      "text/plain": [
       "array([[0.47010726],\n",
       "       [1.8735044 ],\n",
       "       [3.3798232 ],\n",
       "       [2.7344115 ],\n",
       "       [2.8069582 ]], dtype=float32)"
      ]
     },
     "execution_count": 63,
     "metadata": {},
     "output_type": "execute_result"
    }
   ],
   "source": [
    "y_pred = model.predict(X_new)\n",
    "y_pred"
   ]
  },
  {
   "cell_type": "code",
   "execution_count": 66,
   "id": "4deaf2f0",
   "metadata": {},
   "outputs": [
    {
     "name": "stdout",
     "output_type": "stream",
     "text": [
      "Model: \"functional_3\"\n",
      "__________________________________________________________________________________________________\n",
      "Layer (type)                    Output Shape         Param #     Connected to                     \n",
      "==================================================================================================\n",
      "deep_input (InputLayer)         [(None, 6)]          0                                            \n",
      "__________________________________________________________________________________________________\n",
      "dense_14 (Dense)                (None, 30)           210         deep_input[0][0]                 \n",
      "__________________________________________________________________________________________________\n",
      "wide_input (InputLayer)         [(None, 5)]          0                                            \n",
      "__________________________________________________________________________________________________\n",
      "dense_15 (Dense)                (None, 30)           930         dense_14[0][0]                   \n",
      "__________________________________________________________________________________________________\n",
      "concatenate_1 (Concatenate)     (None, 35)           0           wide_input[0][0]                 \n",
      "                                                                 dense_15[0][0]                   \n",
      "__________________________________________________________________________________________________\n",
      "output (Dense)                  (None, 1)            36          concatenate_1[0][0]              \n",
      "==================================================================================================\n",
      "Total params: 1,176\n",
      "Trainable params: 1,176\n",
      "Non-trainable params: 0\n",
      "__________________________________________________________________________________________________\n"
     ]
    }
   ],
   "source": [
    "np.random.seed(42)\n",
    "tf.random.set_seed(42)\n",
    " \n",
    "input_A = tf.keras.layers.Input(shape=[5],name=\"wide_input\")\n",
    "input_B = tf.keras.layers.Input(shape=[6],name=\"deep_input\")\n",
    "hidden1 = tf.keras.layers.Dense(30, activation=\"relu\")(input_B)\n",
    "hidden2 = tf.keras.layers.Dense(30, activation=\"relu\")(hidden1)\n",
    "concat = tf.keras.layers.concatenate([input_A, hidden2])\n",
    "output = tf.keras.layers.Dense(1, name=\"output\")(concat)\n",
    "model = tf.keras.models.Model(inputs=[input_A, input_B], outputs=[output])\n",
    " \n",
    "model.summary()"
   ]
  },
  {
   "cell_type": "code",
   "execution_count": 67,
   "id": "7eb02e85",
   "metadata": {},
   "outputs": [
    {
     "data": {
      "image/png": "[encoded data removed]",
      "text/plain": [
       "<IPython.core.display.Image object>"
      ]
     },
     "execution_count": 67,
     "metadata": {},
     "output_type": "execute_result"
    }
   ],
   "source": [
    "tf.keras.utils.plot_model(model, \"wide_deep_model2.png\",show_shapes=True)"
   ]
  },
  {
   "cell_type": "code",
   "execution_count": 68,
   "id": "cf5b7a2f",
   "metadata": {},
   "outputs": [
    {
     "name": "stdout",
     "output_type": "stream",
     "text": [
      "Epoch 1/20\n",
      "363/363 [==============================] - 0s 899us/step - loss: 1.8145 - val_loss: 0.8072\n",
      "Epoch 2/20\n",
      "363/363 [==============================] - 0s 620us/step - loss: 0.6771 - val_loss: 0.6658\n",
      "Epoch 3/20\n",
      "363/363 [==============================] - 0s 648us/step - loss: 0.5979 - val_loss: 0.5687\n",
      "Epoch 4/20\n",
      "363/363 [==============================] - 0s 644us/step - loss: 0.5584 - val_loss: 0.5296\n",
      "Epoch 5/20\n",
      "363/363 [==============================] - 0s 681us/step - loss: 0.5334 - val_loss: 0.4993\n",
      "Epoch 6/20\n",
      "363/363 [==============================] - 0s 661us/step - loss: 0.5120 - val_loss: 0.4811\n",
      "Epoch 7/20\n",
      "363/363 [==============================] - 0s 642us/step - loss: 0.4970 - val_loss: 0.4696\n",
      "Epoch 8/20\n",
      "363/363 [==============================] - 0s 664us/step - loss: 0.4843 - val_loss: 0.4496\n",
      "Epoch 9/20\n",
      "363/363 [==============================] - 0s 642us/step - loss: 0.4730 - val_loss: 0.4404\n",
      "Epoch 10/20\n",
      "363/363 [==============================] - 0s 666us/step - loss: 0.4644 - val_loss: 0.4315\n",
      "Epoch 11/20\n",
      "363/363 [==============================] - 0s 639us/step - loss: 0.4570 - val_loss: 0.4268\n",
      "Epoch 12/20\n",
      "363/363 [==============================] - 0s 625us/step - loss: 0.4510 - val_loss: 0.4166\n",
      "Epoch 13/20\n",
      "363/363 [==============================] - 0s 604us/step - loss: 0.4462 - val_loss: 0.4125\n",
      "Epoch 14/20\n",
      "363/363 [==============================] - 0s 674us/step - loss: 0.4421 - val_loss: 0.4074\n",
      "Epoch 15/20\n",
      "363/363 [==============================] - 0s 650us/step - loss: 0.4385 - val_loss: 0.4044\n",
      "Epoch 16/20\n",
      "363/363 [==============================] - 0s 629us/step - loss: 0.4356 - val_loss: 0.4007\n",
      "Epoch 17/20\n",
      "363/363 [==============================] - 0s 652us/step - loss: 0.4322 - val_loss: 0.4013\n",
      "Epoch 18/20\n",
      "363/363 [==============================] - 0s 641us/step - loss: 0.4305 - val_loss: 0.3987\n",
      "Epoch 19/20\n",
      "363/363 [==============================] - 0s 668us/step - loss: 0.4274 - val_loss: 0.3934\n",
      "Epoch 20/20\n",
      "363/363 [==============================] - 0s 647us/step - loss: 0.4261 - val_loss: 0.4204\n"
     ]
    }
   ],
   "source": [
    "model.compile(loss=\"mse\",optimizer=tf.keras.optimizers.SGD(learning_rate=1e-3))\n",
    " \n",
    "X_train_A, X_train_B = X_train[:, :5], X_train[:, 2:]\n",
    "X_valid_A, X_valid_B = X_valid[:, :5], X_valid[:, 2:]\n",
    "X_test_A, X_test_B = X_test[:, :5], X_test[:, 2:]\n",
    "X_new_A, X_new_B = X_test_A[:3], X_test_B[:3]\n",
    " \n",
    "history = model.fit((X_train_A,X_train_B),y_train,epochs=20,validation_data=((X_valid_A,X_valid_B),y_valid))"
   ]
  },
  {
   "cell_type": "code",
   "execution_count": 69,
   "id": "df04685a",
   "metadata": {},
   "outputs": [
    {
     "name": "stdout",
     "output_type": "stream",
     "text": [
      "162/162 [==============================] - 0s 456us/step - loss: 0.4219\n"
     ]
    },
    {
     "data": {
      "text/plain": [
       "0.42188265919685364"
      ]
     },
     "execution_count": 69,
     "metadata": {},
     "output_type": "execute_result"
    }
   ],
   "source": [
    "mse_test = model.evaluate((X_test_A, X_test_B), y_test)\n",
    "mse_test"
   ]
  },
  {
   "cell_type": "code",
   "execution_count": 71,
   "id": "836623d7",
   "metadata": {},
   "outputs": [
    {
     "data": {
      "text/plain": [
       "array([[0.30591205],\n",
       "       [1.9540672 ],\n",
       "       [3.4426105 ]], dtype=float32)"
      ]
     },
     "execution_count": 71,
     "metadata": {},
     "output_type": "execute_result"
    }
   ],
   "source": [
    "y_pred = model.predict((X_new_A, X_new_B))\n",
    "y_pred"
   ]
  },
  {
   "cell_type": "code",
   "execution_count": 72,
   "id": "8a1bd343",
   "metadata": {},
   "outputs": [
    {
     "name": "stdout",
     "output_type": "stream",
     "text": [
      "Model: \"functional_5\"\n",
      "__________________________________________________________________________________________________\n",
      "Layer (type)                    Output Shape         Param #     Connected to                     \n",
      "==================================================================================================\n",
      "deep_input (InputLayer)         [(None, 6)]          0                                            \n",
      "__________________________________________________________________________________________________\n",
      "dense_16 (Dense)                (None, 30)           210         deep_input[0][0]                 \n",
      "__________________________________________________________________________________________________\n",
      "wide_input (InputLayer)         [(None, 5)]          0                                            \n",
      "__________________________________________________________________________________________________\n",
      "dense_17 (Dense)                (None, 30)           930         dense_16[0][0]                   \n",
      "__________________________________________________________________________________________________\n",
      "concatenate_2 (Concatenate)     (None, 35)           0           wide_input[0][0]                 \n",
      "                                                                 dense_17[0][0]                   \n",
      "__________________________________________________________________________________________________\n",
      "output (Dense)                  (None, 1)            36          concatenate_2[0][0]              \n",
      "__________________________________________________________________________________________________\n",
      "aux_output (Dense)              (None, 1)            31          dense_17[0][0]                   \n",
      "==================================================================================================\n",
      "Total params: 1,207\n",
      "Trainable params: 1,207\n",
      "Non-trainable params: 0\n",
      "__________________________________________________________________________________________________\n"
     ]
    }
   ],
   "source": [
    "np.random.seed(42)\n",
    "tf.random.set_seed(42)\n",
    " \n",
    "input_A = tf.keras.layers.Input(shape=[5],name=\"wide_input\")\n",
    "input_B = tf.keras.layers.Input(shape=[6],name=\"deep_input\")\n",
    "hidden1 = tf.keras.layers.Dense(30, activation=\"relu\")(input_B)\n",
    "hidden2 = tf.keras.layers.Dense(30, activation=\"relu\")(hidden1)\n",
    "concat = tf.keras.layers.concatenate([input_A, hidden2])\n",
    "output = tf.keras.layers.Dense(1, name=\"output\")(concat)\n",
    "aux_output = tf.keras.layers.Dense(1,name=\"aux_output\")(hidden2)\n",
    "model = tf.keras.models.Model(inputs=[input_A, input_B], outputs=[output, aux_output])\n",
    " \n",
    "model.summary()"
   ]
  },
  {
   "cell_type": "code",
   "execution_count": 73,
   "id": "9cd8a9ae",
   "metadata": {},
   "outputs": [
    {
     "data": {
      "image/png": "[encoded data removed]",
      "text/plain": [
       "<IPython.core.display.Image object>"
      ]
     },
     "execution_count": 73,
     "metadata": {},
     "output_type": "execute_result"
    }
   ],
   "source": [
    "tf.keras.utils.plot_model(model, \"wide_deep_model_aux_output.png\",show_shapes=True)"
   ]
  },
  {
   "cell_type": "code",
   "execution_count": 74,
   "id": "f79e387b",
   "metadata": {},
   "outputs": [
    {
     "name": "stdout",
     "output_type": "stream",
     "text": [
      "Epoch 1/20\n",
      "318/363 [=========================>....] - ETA: 0s - loss: 2.2856 - output_loss: 2.0714 - aux_output_loss: 4.2127WARNING:tensorflow:Callbacks method `on_test_batch_end` is slow compared to the batch time (batch time: 0.0000s vs `on_test_batch_end` time: 0.0010s). Check your callbacks.\n",
      "363/363 [==============================] - 0s 1ms/step - loss: 2.1365 - output_loss: 1.9196 - aux_output_loss: 4.0890 - val_loss: 1.6233 - val_output_loss: 0.8468 - val_aux_output_loss: 8.6117\n",
      "Epoch 2/20\n",
      "363/363 [==============================] - 0s 795us/step - loss: 0.8905 - output_loss: 0.6969 - aux_output_loss: 2.6326 - val_loss: 1.5163 - val_output_loss: 0.6836 - val_aux_output_loss: 9.0109\n",
      "Epoch 3/20\n",
      "363/363 [==============================] - 0s 815us/step - loss: 0.7429 - output_loss: 0.6088 - aux_output_loss: 1.9499 - val_loss: 1.4639 - val_output_loss: 0.6229 - val_aux_output_loss: 9.0326\n",
      "Epoch 4/20\n",
      "363/363 [==============================] - 0s 809us/step - loss: 0.6771 - output_loss: 0.5691 - aux_output_loss: 1.6485 - val_loss: 1.3388 - val_output_loss: 0.5481 - val_aux_output_loss: 8.4552\n",
      "Epoch 5/20\n",
      "363/363 [==============================] - 0s 798us/step - loss: 0.6381 - output_loss: 0.5434 - aux_output_loss: 1.4911 - val_loss: 1.2177 - val_output_loss: 0.5194 - val_aux_output_loss: 7.5030\n",
      "Epoch 6/20\n",
      "363/363 [==============================] - 0s 777us/step - loss: 0.6079 - output_loss: 0.5207 - aux_output_loss: 1.3923 - val_loss: 1.0935 - val_output_loss: 0.5106 - val_aux_output_loss: 6.3396\n",
      "Epoch 7/20\n",
      "363/363 [==============================] - 0s 834us/step - loss: 0.5853 - output_loss: 0.5040 - aux_output_loss: 1.3175 - val_loss: 0.9918 - val_output_loss: 0.5115 - val_aux_output_loss: 5.3151\n",
      "Epoch 8/20\n",
      "363/363 [==============================] - 0s 817us/step - loss: 0.5666 - output_loss: 0.4898 - aux_output_loss: 1.2572 - val_loss: 0.8733 - val_output_loss: 0.4733 - val_aux_output_loss: 4.4740\n",
      "Epoch 9/20\n",
      "363/363 [==============================] - 0s 788us/step - loss: 0.5504 - output_loss: 0.4771 - aux_output_loss: 1.2101 - val_loss: 0.7832 - val_output_loss: 0.4555 - val_aux_output_loss: 3.7323\n",
      "Epoch 10/20\n",
      "363/363 [==============================] - 0s 829us/step - loss: 0.5373 - output_loss: 0.4671 - aux_output_loss: 1.1695 - val_loss: 0.7170 - val_output_loss: 0.4604 - val_aux_output_loss: 3.0262\n",
      "Epoch 11/20\n",
      "363/363 [==============================] - 0s 823us/step - loss: 0.5266 - output_loss: 0.4591 - aux_output_loss: 1.1344 - val_loss: 0.6510 - val_output_loss: 0.4293 - val_aux_output_loss: 2.6468\n",
      "Epoch 12/20\n",
      "363/363 [==============================] - 0s 776us/step - loss: 0.5173 - output_loss: 0.4520 - aux_output_loss: 1.1048 - val_loss: 0.6051 - val_output_loss: 0.4310 - val_aux_output_loss: 2.1722\n",
      "Epoch 13/20\n",
      "363/363 [==============================] - 0s 829us/step - loss: 0.5095 - output_loss: 0.4465 - aux_output_loss: 1.0765 - val_loss: 0.5644 - val_output_loss: 0.4161 - val_aux_output_loss: 1.8992\n",
      "Epoch 14/20\n",
      "363/363 [==============================] - 0s 807us/step - loss: 0.5027 - output_loss: 0.4417 - aux_output_loss: 1.0511 - val_loss: 0.5354 - val_output_loss: 0.4119 - val_aux_output_loss: 1.6466\n",
      "Epoch 15/20\n",
      "363/363 [==============================] - 0s 833us/step - loss: 0.4967 - output_loss: 0.4376 - aux_output_loss: 1.0280 - val_loss: 0.5124 - val_output_loss: 0.4047 - val_aux_output_loss: 1.4812\n",
      "Epoch 16/20\n",
      "363/363 [==============================] - 0s 817us/step - loss: 0.4916 - output_loss: 0.4343 - aux_output_loss: 1.0070 - val_loss: 0.4934 - val_output_loss: 0.4034 - val_aux_output_loss: 1.3035\n",
      "Epoch 17/20\n",
      "363/363 [==============================] - 0s 823us/step - loss: 0.4867 - output_loss: 0.4311 - aux_output_loss: 0.9872 - val_loss: 0.4801 - val_output_loss: 0.3984 - val_aux_output_loss: 1.2150\n",
      "Epoch 18/20\n",
      "363/363 [==============================] - 0s 834us/step - loss: 0.4829 - output_loss: 0.4289 - aux_output_loss: 0.9686 - val_loss: 0.4694 - val_output_loss: 0.3962 - val_aux_output_loss: 1.1279\n",
      "Epoch 19/20\n",
      "363/363 [==============================] - 0s 794us/step - loss: 0.4785 - output_loss: 0.4260 - aux_output_loss: 0.9510 - val_loss: 0.4580 - val_output_loss: 0.3936 - val_aux_output_loss: 1.0372\n",
      "Epoch 20/20\n",
      "363/363 [==============================] - 0s 784us/step - loss: 0.4756 - output_loss: 0.4246 - aux_output_loss: 0.9344 - val_loss: 0.4655 - val_output_loss: 0.4048 - val_aux_output_loss: 1.0118\n"
     ]
    }
   ],
   "source": [
    "model.compile(loss=[\"mse\",\"mse\"],loss_weights=[0.9,0.1],optimizer=tf.keras.optimizers.SGD(learning_rate=1e-3))#给主要输出赋更大的权重\n",
    "history = model.fit([X_train_A, X_train_B],[y_train, y_train],epochs=20,validation_data=([X_valid_A,X_valid_B],[y_valid,y_valid]))"
   ]
  },
  {
   "cell_type": "code",
   "execution_count": 76,
   "id": "258af1d1",
   "metadata": {},
   "outputs": [
    {
     "name": "stdout",
     "output_type": "stream",
     "text": [
      "162/162 [==============================] - 0s 582us/step - loss: 0.4668 - output_loss: 0.4178 - aux_output_loss: 0.9082\n"
     ]
    },
    {
     "data": {
      "text/plain": [
       "(0.46683046221733093, 0.4177945852279663, 0.9081541299819946)"
      ]
     },
     "execution_count": 76,
     "metadata": {},
     "output_type": "execute_result"
    }
   ],
   "source": [
    "total_loss, main_loss, aux_loss = model.evaluate([X_test_A,X_test_B],[y_test,y_test])\n",
    "total_loss, main_loss, aux_loss"
   ]
  },
  {
   "cell_type": "code",
   "execution_count": 78,
   "id": "6cc42d2d",
   "metadata": {},
   "outputs": [
    {
     "name": "stdout",
     "output_type": "stream",
     "text": [
      "[[0.26762426]\n",
      " [1.9807628 ]\n",
      " [3.3396287 ]]\n",
      "\n",
      "[[0.9593649]\n",
      " [1.9240992]\n",
      " [2.5152814]]\n"
     ]
    }
   ],
   "source": [
    "y_pred_main, y_pred_aux = model.predict([X_new_A,X_new_B])\n",
    "print(y_pred_main)\n",
    "print()\n",
    "print(y_pred_aux)"
   ]
  },
  {
   "cell_type": "markdown",
   "id": "640b0043",
   "metadata": {},
   "source": [
    "### 使用子类API构建动态模型"
   ]
  },
  {
   "cell_type": "markdown",
   "id": "db31b50f",
   "metadata": {},
   "source": [
    "+ 无论是连续性API还是函数式API都是声明式的，即事先声明使用哪些层，层与层之间怎样连接，并且喂入数据后开始训练和预测推断。这样做的优点是：模型易于保存、克隆和分享，结构易于可视化和分析，易于检查形状(shape)和类型，易于调试等等。缺点是模型是静态的。\n",
    "\n",
    "+ 对于其它类型的模型，例如包括环状结构、条件分支以及其它动态行为等等，这种情况就需要子类API来完成："
   ]
  },
  {
   "cell_type": "code",
   "execution_count": 79,
   "id": "fc79e9cf",
   "metadata": {},
   "outputs": [],
   "source": [
    "class WideAndDeepModel(tf.keras.models.Model):\n",
    "    def __init__(self, units=30, activation=\"relu\", **kwargs):#将一个可变的关键字参数的字典传给函数实参\n",
    "        super().__init__(**kwargs)\n",
    "        self.hidden1 = tf.keras.layers.Dense(units, activation=activation)\n",
    "        self.hidden2 = tf.keras.layers.Dense(units, activation=activation)\n",
    "        self.main_output = tf.keras.layers.Dense(1)\n",
    "        self.aux_output = tf.keras.layers.Dense(1)\n",
    "    def call(self, inputs):\n",
    "        input_A, input_B = inputs\n",
    "        hidden1 = self.hidden1(input_B)\n",
    "        hidden2 = self.hidden2(hidden1)\n",
    "        concat = tf.keras.layers.concatenate([input_A, hidden2])\n",
    "        main_output = self.main_output(concat)\n",
    "        aux_output = self.aux_output(hidden2)\n",
    "        return main_output, aux_output\n",
    "    \n",
    "model = WideAndDeepModel(30, activation=\"relu\")"
   ]
  },
  {
   "cell_type": "code",
   "execution_count": 80,
   "id": "801e5432",
   "metadata": {},
   "outputs": [
    {
     "name": "stdout",
     "output_type": "stream",
     "text": [
      "Epoch 1/20\n",
      "363/363 [==============================] - 1s 2ms/step - loss: 2.3298 - output_1_loss: 2.2186 - output_2_loss: 3.3304 - val_loss: 2.1435 - val_output_1_loss: 1.1581 - val_output_2_loss: 11.0117\n",
      "Epoch 2/20\n",
      "363/363 [==============================] - 0s 1ms/step - loss: 0.9714 - output_1_loss: 0.8543 - output_2_loss: 2.0252 - val_loss: 1.7567 - val_output_1_loss: 0.8205 - val_output_2_loss: 10.1825\n",
      "Epoch 3/20\n",
      "363/363 [==============================] - 0s 1ms/step - loss: 0.8268 - output_1_loss: 0.7289 - output_2_loss: 1.7082 - val_loss: 1.5664 - val_output_1_loss: 0.7913 - val_output_2_loss: 8.5419\n",
      "Epoch 4/20\n",
      "363/363 [==============================] - 0s 1ms/step - loss: 0.7636 - output_1_loss: 0.6764 - output_2_loss: 1.5477 - val_loss: 1.3088 - val_output_1_loss: 0.6549 - val_output_2_loss: 7.1933\n",
      "Epoch 5/20\n",
      "363/363 [==============================] - 0s 1ms/step - loss: 0.7211 - output_1_loss: 0.6402 - output_2_loss: 1.4489 - val_loss: 1.1357 - val_output_1_loss: 0.5964 - val_output_2_loss: 5.9898\n",
      "Epoch 6/20\n",
      "363/363 [==============================] - 0s 1ms/step - loss: 0.6895 - output_1_loss: 0.6124 - output_2_loss: 1.3833 - val_loss: 1.0036 - val_output_1_loss: 0.5937 - val_output_2_loss: 4.6933\n",
      "Epoch 7/20\n",
      "363/363 [==============================] - 0s 1ms/step - loss: 0.6632 - output_1_loss: 0.5894 - output_2_loss: 1.3274 - val_loss: 0.8904 - val_output_1_loss: 0.5591 - val_output_2_loss: 3.8714\n",
      "Epoch 8/20\n",
      "363/363 [==============================] - 0s 1ms/step - loss: 0.6410 - output_1_loss: 0.5701 - output_2_loss: 1.2796 - val_loss: 0.8009 - val_output_1_loss: 0.5243 - val_output_2_loss: 3.2903\n",
      "Epoch 9/20\n",
      "363/363 [==============================] - 0s 1ms/step - loss: 0.6204 - output_1_loss: 0.5514 - output_2_loss: 1.2416 - val_loss: 0.7357 - val_output_1_loss: 0.5144 - val_output_2_loss: 2.7275\n",
      "Epoch 10/20\n",
      "363/363 [==============================] - 0s 1ms/step - loss: 0.6024 - output_1_loss: 0.5355 - output_2_loss: 1.2043 - val_loss: 0.6849 - val_output_1_loss: 0.5014 - val_output_2_loss: 2.3370\n",
      "Epoch 11/20\n",
      "363/363 [==============================] - 0s 1ms/step - loss: 0.5870 - output_1_loss: 0.5223 - output_2_loss: 1.1692 - val_loss: 0.6522 - val_output_1_loss: 0.4842 - val_output_2_loss: 2.1641\n",
      "Epoch 12/20\n",
      "363/363 [==============================] - 0s 1ms/step - loss: 0.5729 - output_1_loss: 0.5098 - output_2_loss: 1.1408 - val_loss: 0.6092 - val_output_1_loss: 0.4764 - val_output_2_loss: 1.8042\n",
      "Epoch 13/20\n",
      "363/363 [==============================] - 0s 1ms/step - loss: 0.5604 - output_1_loss: 0.4993 - output_2_loss: 1.1107 - val_loss: 0.5781 - val_output_1_loss: 0.4581 - val_output_2_loss: 1.6587\n",
      "Epoch 14/20\n",
      "363/363 [==============================] - 0s 1ms/step - loss: 0.5492 - output_1_loss: 0.4897 - output_2_loss: 1.0849 - val_loss: 0.5545 - val_output_1_loss: 0.4498 - val_output_2_loss: 1.4962\n",
      "Epoch 15/20\n",
      "363/363 [==============================] - 0s 1ms/step - loss: 0.5396 - output_1_loss: 0.4817 - output_2_loss: 1.0604 - val_loss: 0.5372 - val_output_1_loss: 0.4416 - val_output_2_loss: 1.3972\n",
      "Epoch 16/20\n",
      "363/363 [==============================] - 0s 1ms/step - loss: 0.5314 - output_1_loss: 0.4751 - output_2_loss: 1.0380 - val_loss: 0.5203 - val_output_1_loss: 0.4369 - val_output_2_loss: 1.2707\n",
      "Epoch 17/20\n",
      "363/363 [==============================] - 0s 1ms/step - loss: 0.5242 - output_1_loss: 0.4694 - output_2_loss: 1.0168 - val_loss: 0.5075 - val_output_1_loss: 0.4302 - val_output_2_loss: 1.2035\n",
      "Epoch 18/20\n",
      "363/363 [==============================] - 0s 1ms/step - loss: 0.5175 - output_1_loss: 0.4644 - output_2_loss: 0.9957 - val_loss: 0.5036 - val_output_1_loss: 0.4289 - val_output_2_loss: 1.1752\n",
      "Epoch 19/20\n",
      "363/363 [==============================] - 0s 1ms/step - loss: 0.5111 - output_1_loss: 0.4593 - output_2_loss: 0.9768 - val_loss: 0.4892 - val_output_1_loss: 0.4242 - val_output_2_loss: 1.0741\n",
      "Epoch 20/20\n",
      "363/363 [==============================] - 0s 1ms/step - loss: 0.5062 - output_1_loss: 0.4559 - output_2_loss: 0.9592 - val_loss: 0.4896 - val_output_1_loss: 0.4251 - val_output_2_loss: 1.0702\n"
     ]
    }
   ],
   "source": [
    "model.compile(loss=\"mse\",loss_weights=[0.9,0.1],optimizer=tf.keras.optimizers.SGD(learning_rate=1e-3))\n",
    "history = model.fit((X_train_A,X_train_B),(y_train,y_train),epochs=20,validation_data=((X_valid_A,X_valid_B),(y_valid,y_valid)))"
   ]
  },
  {
   "cell_type": "code",
   "execution_count": 81,
   "id": "f797fb51",
   "metadata": {},
   "outputs": [
    {
     "name": "stdout",
     "output_type": "stream",
     "text": [
      "162/162 [==============================] - 0s 936us/step - loss: 0.4939 - output_1_loss: 0.4455 - output_2_loss: 0.9296\n",
      "0.4939037561416626\n",
      "0.4454963207244873\n",
      "0.9295728802680969\n"
     ]
    }
   ],
   "source": [
    "total_loss, main_loss, aux_loss = model.evaluate((X_test_A,X_test_B),(y_test,y_test))\n",
    "for i in (total_loss, main_loss, aux_loss):\n",
    "    print(i)"
   ]
  },
  {
   "cell_type": "code",
   "execution_count": 83,
   "id": "74422b84",
   "metadata": {},
   "outputs": [
    {
     "name": "stdout",
     "output_type": "stream",
     "text": [
      "[[0.36133322]\n",
      " [1.8392309 ]\n",
      " [3.2579417 ]]\n",
      "\n",
      "[[1.1205194]\n",
      " [1.9981728]\n",
      " [2.641951 ]]\n"
     ]
    }
   ],
   "source": [
    "y_pred_main, y_pred_aux = model.predict((X_new_A, X_new_B))\n",
    "for i in (y_pred_main,\"\", y_pred_aux):\n",
    "    print(i)"
   ]
  },
  {
   "cell_type": "code",
   "execution_count": 84,
   "id": "e7ee2b14",
   "metadata": {},
   "outputs": [
    {
     "name": "stdout",
     "output_type": "stream",
     "text": [
      "Model: \"wide_and_deep_model\"\n",
      "_________________________________________________________________\n",
      "Layer (type)                 Output Shape              Param #   \n",
      "=================================================================\n",
      "dense_18 (Dense)             multiple                  210       \n",
      "_________________________________________________________________\n",
      "dense_19 (Dense)             multiple                  930       \n",
      "_________________________________________________________________\n",
      "dense_20 (Dense)             multiple                  36        \n",
      "_________________________________________________________________\n",
      "dense_21 (Dense)             multiple                  31        \n",
      "=================================================================\n",
      "Total params: 1,207\n",
      "Trainable params: 1,207\n",
      "Non-trainable params: 0\n",
      "_________________________________________________________________\n"
     ]
    }
   ],
   "source": [
    "model.summary()"
   ]
  },
  {
   "cell_type": "markdown",
   "id": "5f48efed",
   "metadata": {},
   "source": [
    "+ 如上输出所示，使用子类API构建的模型summary()方法输出结果很简单，没有具体的输出形状信息。\n",
    "+ 子类API这种方法在运行前Keras不会对其进行检查，因此很容易出错。因此，除非特别需要，否则一般情况下建议使用连续性API或函数式API。"
   ]
  },
  {
   "cell_type": "markdown",
   "id": "6792df1b",
   "metadata": {},
   "source": [
    "### 保存还原模型与回调函数"
   ]
  },
  {
   "cell_type": "markdown",
   "id": "7d8cdc30",
   "metadata": {},
   "source": [
    "对于通过连续性API或函数式API构建的模型，可以使用save()方法保存模型，load_model()方法加载模型："
   ]
  },
  {
   "cell_type": "code",
   "execution_count": 86,
   "id": "b431d774",
   "metadata": {},
   "outputs": [
    {
     "name": "stdout",
     "output_type": "stream",
     "text": [
      "Epoch 1/10\n",
      "363/363 [==============================] - 0s 850us/step - loss: 1.8866 - val_loss: 0.7126\n",
      "Epoch 2/10\n",
      "363/363 [==============================] - 0s 614us/step - loss: 0.6577 - val_loss: 0.6880\n",
      "Epoch 3/10\n",
      "363/363 [==============================] - 0s 638us/step - loss: 0.5934 - val_loss: 0.5803\n",
      "Epoch 4/10\n",
      "363/363 [==============================] - 0s 613us/step - loss: 0.5557 - val_loss: 0.5166\n",
      "Epoch 5/10\n",
      "363/363 [==============================] - 0s 639us/step - loss: 0.5272 - val_loss: 0.4895\n",
      "Epoch 6/10\n",
      "363/363 [==============================] - 0s 637us/step - loss: 0.5033 - val_loss: 0.4951\n",
      "Epoch 7/10\n",
      "363/363 [==============================] - 0s 647us/step - loss: 0.4854 - val_loss: 0.4861\n",
      "Epoch 8/10\n",
      "363/363 [==============================] - 0s 599us/step - loss: 0.4709 - val_loss: 0.4554\n",
      "Epoch 9/10\n",
      "363/363 [==============================] - 0s 588us/step - loss: 0.4578 - val_loss: 0.4413\n",
      "Epoch 10/10\n",
      "363/363 [==============================] - 0s 645us/step - loss: 0.4474 - val_loss: 0.4379\n"
     ]
    }
   ],
   "source": [
    "np.random.seed(42)\n",
    "tf.random.set_seed(42)\n",
    " \n",
    "model = tf.keras.models.Sequential([\n",
    "    tf.keras.layers.Dense(30, activation=\"relu\",input_shape=[8]),\n",
    "    tf.keras.layers.Dense(30, activation=\"relu\"),\n",
    "    tf.keras.layers.Dense(1)\n",
    "])\n",
    "model.compile(loss=\"mse\",optimizer=tf.keras.optimizers.SGD(learning_rate=1e-3))\n",
    "history = model.fit(X_train, y_train, epochs=10, validation_data=(X_valid, y_valid))"
   ]
  },
  {
   "cell_type": "code",
   "execution_count": 59,
   "id": "45ed380f",
   "metadata": {},
   "outputs": [],
   "source": [
    "#以HDF5格式保存模型，包括模型结构、每层超参数、参数（权重和偏置）、优化器等：\n",
    "model.save(\"my_keras_model.h5\")"
   ]
  },
  {
   "cell_type": "code",
   "execution_count": 89,
   "id": "4650b27a",
   "metadata": {},
   "outputs": [
    {
     "name": "stdout",
     "output_type": "stream",
     "text": [
      "WARNING:tensorflow:7 out of the last 11 calls to <function Model.make_predict_function.<locals>.predict_function at 0x0000021E4DD7EA60> triggered tf.function retracing. Tracing is expensive and the excessive number of tracings could be due to (1) creating @tf.function repeatedly in a loop, (2) passing tensors with different shapes, (3) passing Python objects instead of tensors. For (1), please define your @tf.function outside of the loop. For (2), @tf.function has experimental_relax_shapes=True option that relaxes argument shapes that can avoid unnecessary retracing. For (3), please refer to https://www.tensorflow.org/tutorials/customization/performance#python_or_tensor_args and https://www.tensorflow.org/api_docs/python/tf/function for  more details.\n"
     ]
    },
    {
     "data": {
      "text/plain": [
       "array([[0.65925455],\n",
       "       [1.73154   ],\n",
       "       [4.2763567 ],\n",
       "       [2.7297916 ],\n",
       "       [2.8395226 ]], dtype=float32)"
      ]
     },
     "execution_count": 89,
     "metadata": {},
     "output_type": "execute_result"
    }
   ],
   "source": [
    "model_loaded = tf.keras.models.load_model(\"my_keras_model.h5\")\n",
    "model_loaded.predict(X_new)"
   ]
  },
  {
   "cell_type": "code",
   "execution_count": 90,
   "id": "335e0073",
   "metadata": {},
   "outputs": [],
   "source": [
    "#如果只想保存参数，可以使用save_weights()，加载参数使用load_weights()：\n",
    "#只加载保存的参数时，需要保证模型的结构能与保存的参数对上，否则会出错。\n",
    "model.save_weights(\"my_keras_weights.ckpt\")\n",
    "model_loaded_weights = model.load_weights(\"my_keras_weights.ckpt\")"
   ]
  },
  {
   "cell_type": "markdown",
   "id": "394612e7",
   "metadata": {},
   "source": [
    "在我们使用fit()函数对模型开始训练之后，那么整个训练的过程将对使用者完全透明，我们无法了解到训练过程中模型在每轮训练时的状态，我们能做的只能是预先设定好训练的轮数和学习率的初始值，这样将会造成一下两种情况：\n",
    "- 由于追求模型对训练集的拟合程度（充分训练模型)，我们一般会设定一个比较大的轮数，这就会造成过拟合的情况。我们无法在模型效果达到比较好的状态时提前结束训练。\n",
    "- 当损失函数达到一个极小值点的时候，模型可能会卡在该点无法继续寻找最小值点，这时缩小或放大（2倍或10倍）学习率会起到很好的效果。但是我们无法在训练的过程中修改学习率的大小。"
   ]
  },
  {
   "cell_type": "markdown",
   "id": "734ead90",
   "metadata": {},
   "source": [
    "为了避免以上情况的出现，我们可以使用回调函数来解决。一句话概括回调函数：回调函数就是可以在模型训练的不同时间点被触发的函数，具有具有一下两个方面的作用：\n",
    "- 访问模型当前的状态（损失函数大小，准确率等）\n",
    "- 采取适当的行动：中断训练、保存模型、改变模型的状态等。"
   ]
  },
  {
   "cell_type": "markdown",
   "id": "5233cf46",
   "metadata": {},
   "source": [
    "回调函数：\n",
    "- fit()方法可以传入参数callbacks，使得Keras在训练的开始和结束调用、在每个epoch开始和结束调用、甚至在对每个batch处理前后调用。\n",
    "- ModelCheckpoint在训练时定期不断保存模型，默认是每个epoch结束保存一次："
   ]
  },
  {
   "cell_type": "markdown",
   "id": "c6d4b931",
   "metadata": {},
   "source": [
    "keras.callbacks.ModelCheckpoint(filepath, \n",
    "\t\t\t\t\t\t\t\tmonitor='val_loss', \n",
    "\t\t\t\t\t\t\t\tverbose=0, \n",
    "\t\t\t\t\t\t\t\tsave_best_only=False, \n",
    "\t\t\t\t\t\t\t\tsave_weights_only=False, \n",
    "\t\t\t\t\t\t\t\tmode='auto', \n",
    "\t\t\t\t\t\t\t\tperiod=1)\n",
    "- filename：字符串，保存模型的路径，filepath可以是格式化的字符串，里面的占位符将会被epoch值和传入on_epoch_end的logs关键字所填入。\n",
    "- monitor：需要监视的值，通常为：val_acc 或 val_loss 或 acc 或 loss\n",
    "- verbose：信息展示模式，0或1。为1表示输出epoch模型保存信息，默认为0表示不输出该信息\n",
    "- save_best_only：当设置为True时，将只保存在验证集上性能最好的模型,此时就不用担心由于训练时间太长而导致过拟合的问题\n",
    "- mode：‘auto’，‘min’，‘max’之一，在save_best_only=True时决定性能最佳模型的评判准则，例如，当监测值为val_acc时，模式应为max，当检测值为val_loss时，模式应为min。在auto模式下，评价准则由被监测值的名字自动推断。\n",
    "- save_weights_only：若设置为True，则只保存模型权重，否则将保存整个模型（包括模型结构，配置信息等）\n",
    "- period：CheckPoint之间的间隔的epoch数"
   ]
  },
  {
   "cell_type": "code",
   "execution_count": 92,
   "id": "a1b97418",
   "metadata": {},
   "outputs": [
    {
     "name": "stdout",
     "output_type": "stream",
     "text": [
      "Epoch 1/10\n",
      "287/363 [======================>.......] - ETA: 0s - loss: 0.4409WARNING:tensorflow:Callbacks method `on_test_batch_end` is slow compared to the batch time (batch time: 0.0000s vs `on_test_batch_end` time: 0.0010s). Check your callbacks.\n",
      "363/363 [==============================] - 0s 1ms/step - loss: 0.4393 - val_loss: 0.4110\n",
      "Epoch 2/10\n",
      "363/363 [==============================] - 0s 643us/step - loss: 0.4315 - val_loss: 0.4266\n",
      "Epoch 3/10\n",
      "363/363 [==============================] - 0s 694us/step - loss: 0.4259 - val_loss: 0.3996\n",
      "Epoch 4/10\n",
      "363/363 [==============================] - 0s 645us/step - loss: 0.4201 - val_loss: 0.3939\n",
      "Epoch 5/10\n",
      "363/363 [==============================] - 0s 661us/step - loss: 0.4154 - val_loss: 0.3889\n",
      "Epoch 6/10\n",
      "363/363 [==============================] - 0s 658us/step - loss: 0.4111 - val_loss: 0.3866\n",
      "Epoch 7/10\n",
      "363/363 [==============================] - 0s 636us/step - loss: 0.4074 - val_loss: 0.3860\n",
      "Epoch 8/10\n",
      "363/363 [==============================] - 0s 675us/step - loss: 0.4040 - val_loss: 0.3793\n",
      "Epoch 9/10\n",
      "363/363 [==============================] - 0s 693us/step - loss: 0.4008 - val_loss: 0.3746\n",
      "Epoch 10/10\n",
      "363/363 [==============================] - 0s 654us/step - loss: 0.3976 - val_loss: 0.3723\n",
      "162/162 [==============================] - 0s 443us/step - loss: 0.3951\n"
     ]
    },
    {
     "data": {
      "text/plain": [
       "0.3950933814048767"
      ]
     },
     "execution_count": 92,
     "metadata": {},
     "output_type": "execute_result"
    }
   ],
   "source": [
    "tf.keras.backend.clear_session()\n",
    "np.random.seed(42)\n",
    "tf.random.set_seed(42)\n",
    "\n",
    "model.compile(loss=\"mse\", optimizer=tf.keras.optimizers.SGD(learning_rate=1e-3))\n",
    "checkpoint_cb = tf.keras.callbacks.ModelCheckpoint(\"my_keras_model.h5\", save_best_only=True)#该回调函数将在每个epoch后保存模型到filepath\n",
    "history = model.fit(X_train, y_train, epochs=10,validation_data=(X_valid, y_valid),callbacks=[checkpoint_cb])\n",
    "model = tf.keras.models.load_model(\"my_keras_model.h5\") # rollback to best model\n",
    "mse_test = model.evaluate(X_test, y_test)\n",
    "mse_test"
   ]
  },
  {
   "cell_type": "markdown",
   "id": "39dd98f7",
   "metadata": {},
   "source": [
    "EarlyStopping回调函数用于当模型性能不再改变时提前停止训练。可以同时使用多个回调函数：\n",
    "- monitor: 监控的数据接口，有’acc’,’val_acc’,’loss’,’val_loss’等等。正常情况下如果有验证集，就用’val_acc’或者’val_loss’。\n",
    "- min_delta：增大或减小的阈值，只有大于这个部分才算作improvement。这个值的大小取决于monitor，也反映了你的容忍程度。例如笔者的monitor是’acc’，同时其变化范围在70%-90%之间，所以对于小于0.01%的变化不关心。加上观察到训练过程中存在抖动的情况（即先下降后上升），所以适当增大容忍程度，最终设为0.003%。\n",
    "- patience：能够容忍多少个epoch内都没有improvement。这个设置其实是在抖动和真正的准确率下降之间做tradeoff。如果patience设的大，那么最终得到的准确率要略低于模型可以达到的最高准确率。如果patience设的小，那么模型很可能在前期抖动，还在全图搜索的阶段就停止了，准确率一般很差。patience的大小和learning rate直接相关。在learning rate设定的情况下，前期先训练几次观察抖动的epoch number，比其稍大些设置patience。在learning rate变化的情况下，建议要略小于最大的抖动epoch number。笔者在引入EarlyStopping之前就已经得到可以接受的结果了，EarlyStopping算是锦上添花，所以patience设的比较高，设为抖动epoch number的最大值。\n",
    "- mode: 就’auto’, ‘min’, ‘,max’三个可能。如果知道是要上升还是下降，建议设置一下。笔者的monitor是’acc’，所以mode=’max’。"
   ]
  },
  {
   "cell_type": "markdown",
   "id": "9035c8f0",
   "metadata": {},
   "source": [
    "一般情况下，“较慢”的标准会相对而言在平均水平上表现略好，可以提高泛化能力。然而，这些标准需要较长的训练时间。其实，总体而言，这些标准在系统性的区别很小。主要选择规则包括：\n",
    "- 除非较小的提升也有很大价值，负责选择较快的停止标准\n",
    "- 为了最大可能找到一个好的方案，使用GL标准\n",
    "- 为了最大化平均解决方案的质量，如果网络只是过拟合了一点点，可以使用PQ标准，否则使用UP标准"
   ]
  },
  {
   "cell_type": "markdown",
   "id": "e11f6a47",
   "metadata": {},
   "source": [
    "early stopping的主要缺点就是你不能独立地处理过拟合和优化代价函数，因为提早停止梯度下降，也就是停止了优化代价函数，因为现在你不再尝试降低代价函数，所以代价函数的值可能不够小，同时你又希望不出现过拟合，你没有采取不同的方式来解决这两个问题，而是用一种方法同时解决两个问题，这样做的结果是我要考虑的东西变得更复杂。\n",
    "- 如果不用early stopping，另一种方法就是正则化，训练神经网络的时间就可能很长。这导致超级参数搜索空间更容易分解，也更容易搜索，但是缺点在于，你必须尝试很多正则化参数(lamda)的值，这也导致搜索大量值的计算代价太高。\n",
    "- Early stopping的优点是，只运行一次梯度下降，你可以找出的较小值，中间值和较大值，而无需尝试正则化超级参数的很多值。"
   ]
  },
  {
   "cell_type": "code",
   "execution_count": 96,
   "id": "469e3fa2",
   "metadata": {},
   "outputs": [
    {
     "name": "stdout",
     "output_type": "stream",
     "text": [
      "Epoch 1/100\n",
      "363/363 [==============================] - 0s 841us/step - loss: 0.3230 - val_loss: 0.3103\n",
      "Epoch 2/100\n",
      "363/363 [==============================] - 0s 624us/step - loss: 0.3226 - val_loss: 0.3600\n",
      "Epoch 3/100\n",
      "363/363 [==============================] - 0s 622us/step - loss: 0.3225 - val_loss: 0.3117\n",
      "Epoch 4/100\n",
      "363/363 [==============================] - 0s 646us/step - loss: 0.3223 - val_loss: 0.3103\n",
      "Epoch 5/100\n",
      "363/363 [==============================] - 0s 608us/step - loss: 0.3218 - val_loss: 0.3235\n",
      "Epoch 6/100\n",
      "363/363 [==============================] - 0s 688us/step - loss: 0.3216 - val_loss: 0.3115\n",
      "Epoch 7/100\n",
      "363/363 [==============================] - 0s 610us/step - loss: 0.3212 - val_loss: 0.3105\n",
      "Epoch 8/100\n",
      "363/363 [==============================] - 0s 626us/step - loss: 0.3210 - val_loss: 0.3126\n",
      "Epoch 9/100\n",
      "363/363 [==============================] - 0s 640us/step - loss: 0.3208 - val_loss: 0.3309\n",
      "Epoch 10/100\n",
      "363/363 [==============================] - 0s 595us/step - loss: 0.3205 - val_loss: 0.3142\n",
      "Epoch 11/100\n",
      "363/363 [==============================] - 0s 677us/step - loss: 0.3201 - val_loss: 0.3072\n",
      "Epoch 12/100\n",
      "363/363 [==============================] - 0s 619us/step - loss: 0.3200 - val_loss: 0.3760\n",
      "Epoch 13/100\n",
      "363/363 [==============================] - 0s 611us/step - loss: 0.3198 - val_loss: 0.3070\n",
      "Epoch 14/100\n",
      "363/363 [==============================] - 0s 661us/step - loss: 0.3193 - val_loss: 0.3121\n",
      "Epoch 15/100\n",
      "363/363 [==============================] - 0s 639us/step - loss: 0.3189 - val_loss: 0.3321\n",
      "Epoch 16/100\n",
      "363/363 [==============================] - 0s 604us/step - loss: 0.3190 - val_loss: 0.3295\n",
      "Epoch 17/100\n",
      "363/363 [==============================] - 0s 641us/step - loss: 0.3189 - val_loss: 0.3686\n",
      "Epoch 18/100\n",
      "363/363 [==============================] - 0s 677us/step - loss: 0.3185 - val_loss: 0.3051\n",
      "Epoch 19/100\n",
      "363/363 [==============================] - 0s 648us/step - loss: 0.3179 - val_loss: 0.3073\n",
      "Epoch 20/100\n",
      "363/363 [==============================] - 0s 593us/step - loss: 0.3177 - val_loss: 0.3536\n",
      "Epoch 21/100\n",
      "363/363 [==============================] - 0s 652us/step - loss: 0.3175 - val_loss: 0.3053\n",
      "Epoch 22/100\n",
      "363/363 [==============================] - 0s 607us/step - loss: 0.3170 - val_loss: 0.4187\n",
      "Epoch 23/100\n",
      "363/363 [==============================] - 0s 596us/step - loss: 0.3173 - val_loss: 0.3922\n",
      "Epoch 24/100\n",
      "363/363 [==============================] - 0s 647us/step - loss: 0.3170 - val_loss: 0.4217\n",
      "Epoch 25/100\n",
      "363/363 [==============================] - 0s 597us/step - loss: 0.3171 - val_loss: 0.3094\n",
      "Epoch 26/100\n",
      "363/363 [==============================] - 0s 600us/step - loss: 0.3160 - val_loss: 0.4238\n",
      "Epoch 27/100\n",
      "363/363 [==============================] - 0s 589us/step - loss: 0.3163 - val_loss: 0.3928\n",
      "Epoch 28/100\n",
      "363/363 [==============================] - 0s 631us/step - loss: 0.3162 - val_loss: 0.4345\n",
      "162/162 [==============================] - 0s 412us/step - loss: 0.3206\n"
     ]
    },
    {
     "data": {
      "text/plain": [
       "0.32058462500572205"
      ]
     },
     "execution_count": 96,
     "metadata": {},
     "output_type": "execute_result"
    }
   ],
   "source": [
    "model.compile(loss=\"mse\", optimizer=tf.keras.optimizers.SGD(learning_rate=1e-3))\n",
    "early_stopping_cb = tf.keras.callbacks.EarlyStopping(patience=10,restore_best_weights=True)\n",
    "history = model.fit(X_train, y_train, epochs=100,validation_data=(X_valid, y_valid),callbacks=[checkpoint_cb, early_stopping_cb])\n",
    "mse_test = model.evaluate(X_test, y_test)\n",
    "mse_test"
   ]
  },
  {
   "cell_type": "code",
   "execution_count": 97,
   "id": "0bc10c0f",
   "metadata": {},
   "outputs": [
    {
     "name": "stdout",
     "output_type": "stream",
     "text": [
      "Epoch 1/100\n",
      "363/363 [==============================] - 0s 848us/step - loss: 0.3177 - val_loss: 0.3335\n",
      "Epoch 2/100\n",
      "363/363 [==============================] - 0s 614us/step - loss: 0.3177 - val_loss: 0.3147\n",
      "Epoch 3/100\n",
      "363/363 [==============================] - 0s 600us/step - loss: 0.3173 - val_loss: 0.3226\n",
      "Epoch 4/100\n",
      "363/363 [==============================] - 0s 616us/step - loss: 0.3174 - val_loss: 0.3060\n",
      "Epoch 5/100\n",
      "363/363 [==============================] - 0s 624us/step - loss: 0.3169 - val_loss: 0.3405\n",
      "Epoch 6/100\n",
      "363/363 [==============================] - 0s 625us/step - loss: 0.3169 - val_loss: 0.3041\n",
      "Epoch 7/100\n",
      "363/363 [==============================] - 0s 607us/step - loss: 0.3163 - val_loss: 0.3139\n",
      "Epoch 8/100\n",
      "363/363 [==============================] - 0s 625us/step - loss: 0.3161 - val_loss: 0.3047\n",
      "Epoch 9/100\n",
      "363/363 [==============================] - 0s 594us/step - loss: 0.3159 - val_loss: 0.3383\n",
      "Epoch 10/100\n",
      "363/363 [==============================] - 0s 620us/step - loss: 0.3157 - val_loss: 0.3042\n",
      "Epoch 11/100\n",
      "363/363 [==============================] - 0s 661us/step - loss: 0.3153 - val_loss: 0.3026\n",
      "Epoch 12/100\n",
      "363/363 [==============================] - 0s 610us/step - loss: 0.3151 - val_loss: 0.3498\n",
      "Epoch 13/100\n",
      "363/363 [==============================] - 0s 607us/step - loss: 0.3149 - val_loss: 0.3030\n",
      "Epoch 14/100\n",
      "363/363 [==============================] - 0s 612us/step - loss: 0.3145 - val_loss: 0.3060\n",
      "Epoch 15/100\n",
      "363/363 [==============================] - 0s 600us/step - loss: 0.3142 - val_loss: 0.3329\n",
      "Epoch 16/100\n",
      "363/363 [==============================] - 0s 599us/step - loss: 0.3143 - val_loss: 0.3400\n",
      "162/162 [==============================] - 0s 393us/step - loss: 0.3182\n"
     ]
    },
    {
     "data": {
      "text/plain": [
       "0.3182171881198883"
      ]
     },
     "execution_count": 97,
     "metadata": {},
     "output_type": "execute_result"
    }
   ],
   "source": [
    "model.compile(loss=\"mse\", optimizer=tf.keras.optimizers.SGD(learning_rate=1e-3))\n",
    "early_stopping_cb_2 = tf.keras.callbacks.EarlyStopping(patience=5,restore_best_weights=True)\n",
    "history_2 = model.fit(X_train, y_train, epochs=100,validation_data=(X_valid, y_valid),callbacks=[checkpoint_cb, early_stopping_cb_2])\n",
    "mse_test_2 = model.evaluate(X_test, y_test)\n",
    "mse_test_2"
   ]
  },
  {
   "cell_type": "code",
   "execution_count": 65,
   "id": "69011c36",
   "metadata": {},
   "outputs": [
    {
     "name": "stdout",
     "output_type": "stream",
     "text": [
      "360/363 [============================>.] - ETA: 0s - loss: 0.3225\n",
      "val/train: 0.96\n",
      "363/363 [==============================] - 0s 804us/step - loss: 0.3230 - val_loss: 0.3103\n"
     ]
    }
   ],
   "source": [
    "class PrintValTrainRatioCallback(tf.keras.callbacks.Callback):\n",
    "    def on_epoch_end(self, epoch, logs):\n",
    "        print(\"\\nval/train: {:.2f}\".format(logs[\"val_loss\"] / logs[\"loss\"]))\n",
    "        \n",
    "val_train_ratio_cb = PrintValTrainRatioCallback()\n",
    "history = model.fit(X_train, y_train, epochs=1, validation_data=(X_valid, y_valid),callbacks=[val_train_ratio_cb])"
   ]
  },
  {
   "cell_type": "markdown",
   "id": "8a93edd3",
   "metadata": {},
   "source": [
    "+ 如上所示，也可以自定义回调类和函数，可以根据需求添加所需的功能，也可以对其它函数进行实现：on_train_begin(), on_train_end(), on_epoch_begin, on_epoch_end(), on_batch_begin(), on_batch_end()。\n",
    "\n",
    "+ 也可以自定义在评估时使用的回调类和函数：on_test_begin(), on_test_end(), on_test_batch_begin(), on_test_batch_end()。\n",
    "\n",
    "+ 也可以自定义在预测时使用的回调类和函数：on_predict_begin, on_predict_end(), on_predict_batch_begin(), on_predict_batch_end()"
   ]
  },
  {
   "cell_type": "markdown",
   "id": "28aef23e",
   "metadata": {},
   "source": [
    "## 微调神经网络超参数"
   ]
  },
  {
   "cell_type": "markdown",
   "id": "a880ab7f",
   "metadata": {},
   "source": [
    "+ 神经网络由于太灵活，因此也存在一些弊端，例如超参数太多。\n",
    "+ 优化超参数，通常使用网络搜索、随机搜索等方法："
   ]
  },
  {
   "cell_type": "code",
   "execution_count": 98,
   "id": "81f3b437",
   "metadata": {},
   "outputs": [
    {
     "name": "stdout",
     "output_type": "stream",
     "text": [
      "Epoch 1/100\n",
      "363/363 [==============================] - 0s 1ms/step - loss: 1.0896 - val_loss: 20.7721\n",
      "Epoch 2/100\n",
      "363/363 [==============================] - 0s 979us/step - loss: 0.7606 - val_loss: 5.0266\n",
      "Epoch 3/100\n",
      "363/363 [==============================] - 0s 1ms/step - loss: 0.5456 - val_loss: 0.5490\n",
      "Epoch 4/100\n",
      "363/363 [==============================] - 0s 969us/step - loss: 0.4732 - val_loss: 0.4529\n",
      "Epoch 5/100\n",
      "363/363 [==============================] - 0s 951us/step - loss: 0.4503 - val_loss: 0.4188\n",
      "Epoch 6/100\n",
      "363/363 [==============================] - 0s 963us/step - loss: 0.4338 - val_loss: 0.4129\n",
      "Epoch 7/100\n",
      "363/363 [==============================] - 0s 962us/step - loss: 0.4241 - val_loss: 0.4004\n",
      "Epoch 8/100\n",
      "363/363 [==============================] - 0s 952us/step - loss: 0.4168 - val_loss: 0.3944\n",
      "Epoch 9/100\n",
      "363/363 [==============================] - 0s 961us/step - loss: 0.4108 - val_loss: 0.3961\n",
      "Epoch 10/100\n",
      "363/363 [==============================] - 0s 984us/step - loss: 0.4060 - val_loss: 0.4071\n",
      "Epoch 11/100\n",
      "363/363 [==============================] - 0s 960us/step - loss: 0.4021 - val_loss: 0.3855\n",
      "Epoch 12/100\n",
      "363/363 [==============================] - 0s 984us/step - loss: 0.3984 - val_loss: 0.4136\n",
      "Epoch 13/100\n",
      "363/363 [==============================] - 0s 946us/step - loss: 0.3951 - val_loss: 0.3997\n",
      "Epoch 14/100\n",
      "363/363 [==============================] - 0s 944us/step - loss: 0.3921 - val_loss: 0.3818\n",
      "Epoch 15/100\n",
      "363/363 [==============================] - 0s 938us/step - loss: 0.3894 - val_loss: 0.3829\n",
      "Epoch 16/100\n",
      "363/363 [==============================] - 0s 945us/step - loss: 0.3869 - val_loss: 0.3739\n",
      "Epoch 17/100\n",
      "363/363 [==============================] - 0s 972us/step - loss: 0.3848 - val_loss: 0.4022\n",
      "Epoch 18/100\n",
      "363/363 [==============================] - 0s 955us/step - loss: 0.3829 - val_loss: 0.3873\n",
      "Epoch 19/100\n",
      "363/363 [==============================] - 0s 944us/step - loss: 0.3807 - val_loss: 0.3768\n",
      "Epoch 20/100\n",
      "363/363 [==============================] - 0s 1ms/step - loss: 0.3791 - val_loss: 0.4191\n",
      "Epoch 21/100\n",
      "363/363 [==============================] - 0s 936us/step - loss: 0.3774 - val_loss: 0.3927\n",
      "Epoch 22/100\n",
      "363/363 [==============================] - 0s 914us/step - loss: 0.3756 - val_loss: 0.4237\n",
      "Epoch 23/100\n",
      "363/363 [==============================] - 0s 961us/step - loss: 0.3742 - val_loss: 0.3523\n",
      "Epoch 24/100\n",
      "363/363 [==============================] - ETA: 0s - loss: 0.371 - 0s 985us/step - loss: 0.3725 - val_loss: 0.3842\n",
      "Epoch 25/100\n",
      "363/363 [==============================] - 0s 976us/step - loss: 0.3710 - val_loss: 0.4162\n",
      "Epoch 26/100\n",
      "363/363 [==============================] - 0s 947us/step - loss: 0.3700 - val_loss: 0.3980\n",
      "Epoch 27/100\n",
      "363/363 [==============================] - 0s 955us/step - loss: 0.3691 - val_loss: 0.3474\n",
      "Epoch 28/100\n",
      "363/363 [==============================] - 0s 957us/step - loss: 0.3677 - val_loss: 0.3920\n",
      "Epoch 29/100\n",
      "363/363 [==============================] - 0s 979us/step - loss: 0.3670 - val_loss: 0.3566\n",
      "Epoch 30/100\n",
      "363/363 [==============================] - 0s 982us/step - loss: 0.3653 - val_loss: 0.4191\n",
      "Epoch 31/100\n",
      "363/363 [==============================] - 0s 974us/step - loss: 0.3647 - val_loss: 0.3721\n",
      "Epoch 32/100\n",
      "363/363 [==============================] - 0s 982us/step - loss: 0.3633 - val_loss: 0.3948\n",
      "Epoch 33/100\n",
      "363/363 [==============================] - 0s 944us/step - loss: 0.3632 - val_loss: 0.3423\n",
      "Epoch 34/100\n",
      "363/363 [==============================] - 0s 958us/step - loss: 0.3617 - val_loss: 0.3453\n",
      "Epoch 35/100\n",
      "363/363 [==============================] - 0s 959us/step - loss: 0.3610 - val_loss: 0.4068\n",
      "Epoch 36/100\n",
      "363/363 [==============================] - 0s 965us/step - loss: 0.3608 - val_loss: 0.3417\n",
      "Epoch 37/100\n",
      "363/363 [==============================] - 0s 951us/step - loss: 0.3596 - val_loss: 0.3787\n",
      "Epoch 38/100\n",
      "363/363 [==============================] - 0s 985us/step - loss: 0.3589 - val_loss: 0.3379\n",
      "Epoch 39/100\n",
      "363/363 [==============================] - 0s 941us/step - loss: 0.3582 - val_loss: 0.3419\n",
      "Epoch 40/100\n",
      "363/363 [==============================] - 0s 943us/step - loss: 0.3572 - val_loss: 0.3705\n",
      "Epoch 41/100\n",
      "363/363 [==============================] - 0s 950us/step - loss: 0.3570 - val_loss: 0.3659\n",
      "Epoch 42/100\n",
      "363/363 [==============================] - 0s 937us/step - loss: 0.3563 - val_loss: 0.3803\n",
      "Epoch 43/100\n",
      "363/363 [==============================] - 0s 964us/step - loss: 0.3552 - val_loss: 0.3765\n",
      "Epoch 44/100\n",
      "363/363 [==============================] - 0s 970us/step - loss: 0.3548 - val_loss: 0.3814\n",
      "Epoch 45/100\n",
      "363/363 [==============================] - 0s 943us/step - loss: 0.3543 - val_loss: 0.3326\n",
      "Epoch 46/100\n",
      "363/363 [==============================] - 0s 1ms/step - loss: 0.3532 - val_loss: 0.3385\n",
      "Epoch 47/100\n",
      "363/363 [==============================] - 0s 956us/step - loss: 0.3527 - val_loss: 0.3655\n",
      "Epoch 48/100\n",
      "363/363 [==============================] - 0s 996us/step - loss: 0.3521 - val_loss: 0.3579\n",
      "Epoch 49/100\n",
      "363/363 [==============================] - 0s 983us/step - loss: 0.3525 - val_loss: 0.3360\n",
      "Epoch 50/100\n",
      "363/363 [==============================] - 0s 909us/step - loss: 0.3510 - val_loss: 0.3318\n",
      "Epoch 51/100\n",
      "363/363 [==============================] - 0s 938us/step - loss: 0.3504 - val_loss: 0.3562\n",
      "Epoch 52/100\n",
      "363/363 [==============================] - 0s 953us/step - loss: 0.3502 - val_loss: 0.3520\n",
      "Epoch 53/100\n",
      "363/363 [==============================] - 0s 971us/step - loss: 0.3496 - val_loss: 0.4579\n",
      "Epoch 54/100\n",
      "363/363 [==============================] - 0s 965us/step - loss: 0.3497 - val_loss: 0.3808\n",
      "Epoch 55/100\n",
      "363/363 [==============================] - 0s 991us/step - loss: 0.3490 - val_loss: 0.3539\n",
      "Epoch 56/100\n",
      "363/363 [==============================] - 0s 961us/step - loss: 0.3485 - val_loss: 0.3723\n",
      "Epoch 57/100\n",
      "363/363 [==============================] - 0s 964us/step - loss: 0.3479 - val_loss: 0.3336\n",
      "Epoch 58/100\n",
      "363/363 [==============================] - 0s 1ms/step - loss: 0.3469 - val_loss: 0.4011\n",
      "Epoch 59/100\n",
      "363/363 [==============================] - 0s 973us/step - loss: 0.3475 - val_loss: 0.3264\n",
      "Epoch 60/100\n",
      "363/363 [==============================] - 0s 967us/step - loss: 0.3465 - val_loss: 0.3271\n",
      "Epoch 61/100\n",
      "363/363 [==============================] - 0s 957us/step - loss: 0.3452 - val_loss: 0.3346\n",
      "Epoch 62/100\n",
      "363/363 [==============================] - 0s 956us/step - loss: 0.3453 - val_loss: 0.3493\n",
      "Epoch 63/100\n",
      "363/363 [==============================] - 0s 962us/step - loss: 0.3444 - val_loss: 0.3402\n",
      "Epoch 64/100\n",
      "363/363 [==============================] - 0s 980us/step - loss: 0.3450 - val_loss: 0.3275\n",
      "Epoch 65/100\n",
      "363/363 [==============================] - 0s 1ms/step - loss: 0.3437 - val_loss: 0.3296\n",
      "Epoch 66/100\n",
      "363/363 [==============================] - 0s 967us/step - loss: 0.3431 - val_loss: 0.3307\n",
      "Epoch 67/100\n",
      "363/363 [==============================] - 0s 978us/step - loss: 0.3428 - val_loss: 0.3252\n",
      "Epoch 68/100\n",
      "363/363 [==============================] - 0s 946us/step - loss: 0.3423 - val_loss: 0.3242\n",
      "Epoch 69/100\n",
      "363/363 [==============================] - 0s 956us/step - loss: 0.3419 - val_loss: 0.3254\n",
      "Epoch 70/100\n",
      "363/363 [==============================] - 0s 989us/step - loss: 0.3413 - val_loss: 0.3672\n",
      "Epoch 71/100\n",
      "363/363 [==============================] - 0s 1ms/step - loss: 0.3414 - val_loss: 0.3375\n",
      "Epoch 72/100\n",
      "363/363 [==============================] - 0s 926us/step - loss: 0.3405 - val_loss: 0.3271\n",
      "Epoch 73/100\n",
      "363/363 [==============================] - 0s 966us/step - loss: 0.3399 - val_loss: 0.3242\n",
      "Epoch 74/100\n",
      "363/363 [==============================] - 0s 953us/step - loss: 0.3402 - val_loss: 0.3665\n",
      "Epoch 75/100\n",
      "363/363 [==============================] - 0s 938us/step - loss: 0.3397 - val_loss: 0.3283\n",
      "Epoch 76/100\n",
      "363/363 [==============================] - 0s 943us/step - loss: 0.3395 - val_loss: 0.3240\n",
      "Epoch 77/100\n",
      "363/363 [==============================] - 0s 953us/step - loss: 0.3383 - val_loss: 0.3381\n",
      "Epoch 78/100\n",
      "363/363 [==============================] - 0s 966us/step - loss: 0.3384 - val_loss: 0.3356\n",
      "Epoch 79/100\n",
      "363/363 [==============================] - 0s 975us/step - loss: 0.3383 - val_loss: 0.3224\n"
     ]
    },
    {
     "name": "stdout",
     "output_type": "stream",
     "text": [
      "Epoch 80/100\n",
      "363/363 [==============================] - 0s 965us/step - loss: 0.3376 - val_loss: 0.3595\n",
      "Epoch 81/100\n",
      "363/363 [==============================] - 0s 976us/step - loss: 0.3383 - val_loss: 0.3432\n",
      "Epoch 82/100\n",
      "363/363 [==============================] - 0s 932us/step - loss: 0.3371 - val_loss: 0.3211\n",
      "Epoch 83/100\n",
      "363/363 [==============================] - 0s 960us/step - loss: 0.3367 - val_loss: 0.3342\n",
      "Epoch 84/100\n",
      "363/363 [==============================] - 0s 938us/step - loss: 0.3362 - val_loss: 0.4136\n",
      "Epoch 85/100\n",
      "363/363 [==============================] - 0s 961us/step - loss: 0.3369 - val_loss: 0.3285\n",
      "Epoch 86/100\n",
      "363/363 [==============================] - 0s 973us/step - loss: 0.3359 - val_loss: 0.3440\n",
      "Epoch 87/100\n",
      "363/363 [==============================] - 0s 958us/step - loss: 0.3357 - val_loss: 0.3733\n",
      "Epoch 88/100\n",
      "363/363 [==============================] - 0s 956us/step - loss: 0.3355 - val_loss: 0.3188\n",
      "Epoch 89/100\n",
      "363/363 [==============================] - 0s 965us/step - loss: 0.3346 - val_loss: 0.3492\n",
      "Epoch 90/100\n",
      "363/363 [==============================] - 0s 966us/step - loss: 0.3348 - val_loss: 0.3175\n",
      "Epoch 91/100\n",
      "363/363 [==============================] - 0s 972us/step - loss: 0.3339 - val_loss: 0.3594\n",
      "Epoch 92/100\n",
      "363/363 [==============================] - 0s 926us/step - loss: 0.3342 - val_loss: 0.3169\n",
      "Epoch 93/100\n",
      "363/363 [==============================] - 0s 942us/step - loss: 0.3333 - val_loss: 0.3607\n",
      "Epoch 94/100\n",
      "363/363 [==============================] - 0s 954us/step - loss: 0.3344 - val_loss: 0.5184\n",
      "Epoch 95/100\n",
      "363/363 [==============================] - 0s 934us/step - loss: 0.3339 - val_loss: 0.7536\n",
      "Epoch 96/100\n",
      "363/363 [==============================] - 0s 671us/step - loss: 0.3370 - val_loss: 0.5075\n",
      "Epoch 97/100\n",
      "363/363 [==============================] - 0s 590us/step - loss: 0.3340 - val_loss: 0.8087\n",
      "Epoch 98/100\n",
      "363/363 [==============================] - 0s 559us/step - loss: 0.3354 - val_loss: 1.0447\n",
      "Epoch 99/100\n",
      "363/363 [==============================] - 0s 572us/step - loss: 0.3346 - val_loss: 1.6881\n",
      "Epoch 100/100\n",
      "363/363 [==============================] - 0s 570us/step - loss: 0.3495 - val_loss: 1.9265\n"
     ]
    },
    {
     "data": {
      "text/plain": [
       "<tensorflow.python.keras.callbacks.History at 0x21e4ec7f4c0>"
      ]
     },
     "execution_count": 98,
     "metadata": {},
     "output_type": "execute_result"
    }
   ],
   "source": [
    "#这种是简单的尝试各种超参数的组合\n",
    "tf.keras.backend.clear_session()\n",
    "np.random.seed(42)\n",
    "tf.random.set_seed(42)\n",
    "def build_model(n_hidden=1, n_neurons=30, learning_rate=3e-3, input_shape=[8]):\n",
    "    model = tf.keras.models.Sequential()\n",
    "    model.add(tf.keras.layers.InputLayer(input_shape=input_shape))\n",
    "    for layer in range(n_hidden):\n",
    "        model.add(tf.keras.layers.Dense(n_neurons, activation=\"relu\"))\n",
    "    model.add(tf.keras.layers.Dense(1))\n",
    "    optimizer = tf.keras.optimizers.SGD(lr=learning_rate)\n",
    "    model.compile(loss=\"mse\", optimizer=optimizer)\n",
    "    return model\n",
    " \n",
    "keras_reg = tf.keras.wrappers.scikit_learn.KerasRegressor(build_model)#使用build_model()构建的Keras模型的一个包装，创建时未指定超参数，故用build_model自定义的超参数\n",
    "keras_reg.fit(X_train,y_train,epochs=100,validation_data=(X_valid, y_valid),callbacks=[tf.keras.callbacks.EarlyStopping(patience=10)])"
   ]
  },
  {
   "cell_type": "code",
   "execution_count": 99,
   "id": "f3e3b4a5",
   "metadata": {},
   "outputs": [
    {
     "name": "stdout",
     "output_type": "stream",
     "text": [
      "162/162 [==============================] - 0s 471us/step - loss: 0.3409\n"
     ]
    },
    {
     "data": {
      "text/plain": [
       "-0.3408546447753906"
      ]
     },
     "execution_count": 99,
     "metadata": {},
     "output_type": "execute_result"
    }
   ],
   "source": [
    "mse_test = keras_reg.score(X_test, y_test) # 注意score是MSE的相反数，因为sklearn使用scores，表示值越大越好。\n",
    "mse_test"
   ]
  },
  {
   "cell_type": "code",
   "execution_count": 101,
   "id": "fa232064",
   "metadata": {},
   "outputs": [
    {
     "data": {
      "text/plain": [
       "array([0.58884525, 1.5484407 , 4.1112185 , 2.622048  , 2.917076  ],\n",
       "      dtype=float32)"
      ]
     },
     "execution_count": 101,
     "metadata": {},
     "output_type": "execute_result"
    }
   ],
   "source": [
    "y_pred = keras_reg.predict(X_new)\n",
    "y_pred"
   ]
  },
  {
   "cell_type": "code",
   "execution_count": 103,
   "id": "0bd5020f",
   "metadata": {},
   "outputs": [
    {
     "name": "stdout",
     "output_type": "stream",
     "text": [
      "Epoch 1/100\n",
      "242/242 [==============================] - 0s 930us/step - loss: 3.5557 - val_loss: 1.8752\n",
      "Epoch 2/100\n",
      "242/242 [==============================] - 0s 643us/step - loss: 1.3347 - val_loss: 0.9522\n",
      "Epoch 3/100\n",
      "242/242 [==============================] - 0s 599us/step - loss: 0.8591 - val_loss: 0.7820\n",
      "Epoch 4/100\n",
      "242/242 [==============================] - 0s 607us/step - loss: 0.7360 - val_loss: 0.7249\n",
      "Epoch 5/100\n",
      "242/242 [==============================] - 0s 610us/step - loss: 0.6930 - val_loss: 0.6994\n",
      "Epoch 6/100\n",
      "242/242 [==============================] - 0s 592us/step - loss: 0.6668 - val_loss: 0.9118\n",
      "Epoch 7/100\n",
      "242/242 [==============================] - 0s 615us/step - loss: 0.6514 - val_loss: 0.8495\n",
      "Epoch 8/100\n",
      "242/242 [==============================] - 0s 611us/step - loss: 0.6381 - val_loss: 0.8605\n",
      "Epoch 9/100\n",
      "242/242 [==============================] - 0s 631us/step - loss: 0.6276 - val_loss: 0.6524\n",
      "Epoch 10/100\n",
      "242/242 [==============================] - 0s 580us/step - loss: 0.6125 - val_loss: 0.8619\n",
      "Epoch 11/100\n",
      "242/242 [==============================] - 0s 576us/step - loss: 0.6057 - val_loss: 0.8659\n",
      "Epoch 12/100\n",
      "242/242 [==============================] - 0s 588us/step - loss: 0.5993 - val_loss: 0.5962\n",
      "Epoch 13/100\n",
      "242/242 [==============================] - 0s 577us/step - loss: 0.5859 - val_loss: 0.9062\n",
      "Epoch 14/100\n",
      "242/242 [==============================] - 0s 585us/step - loss: 0.5828 - val_loss: 0.9541\n",
      "Epoch 15/100\n",
      "242/242 [==============================] - 0s 655us/step - loss: 0.5799 - val_loss: 0.6402\n",
      "Epoch 16/100\n",
      "242/242 [==============================] - 0s 595us/step - loss: 0.5706 - val_loss: 0.7806\n",
      "Epoch 17/100\n",
      "242/242 [==============================] - 0s 611us/step - loss: 0.5670 - val_loss: 0.7985\n",
      "Epoch 18/100\n",
      "242/242 [==============================] - 0s 584us/step - loss: 0.5620 - val_loss: 0.8756\n",
      "Epoch 19/100\n",
      "242/242 [==============================] - 0s 641us/step - loss: 0.5585 - val_loss: 0.8958\n",
      "Epoch 20/100\n",
      "242/242 [==============================] - 0s 601us/step - loss: 0.5564 - val_loss: 0.8657\n",
      "Epoch 21/100\n",
      "242/242 [==============================] - 0s 592us/step - loss: 0.5559 - val_loss: 0.5940\n",
      "Epoch 22/100\n",
      "242/242 [==============================] - 0s 628us/step - loss: 0.5476 - val_loss: 0.8007\n",
      "Epoch 23/100\n",
      "242/242 [==============================] - 0s 646us/step - loss: 0.5484 - val_loss: 0.7792\n",
      "Epoch 24/100\n",
      "242/242 [==============================] - 0s 625us/step - loss: 0.5459 - val_loss: 0.7622\n",
      "Epoch 25/100\n",
      "242/242 [==============================] - 0s 584us/step - loss: 0.5453 - val_loss: 0.6476\n",
      "Epoch 26/100\n",
      "242/242 [==============================] - 0s 608us/step - loss: 0.5431 - val_loss: 0.5424\n",
      "Epoch 27/100\n",
      "242/242 [==============================] - 0s 595us/step - loss: 0.5373 - val_loss: 0.8687\n",
      "Epoch 28/100\n",
      "242/242 [==============================] - 0s 603us/step - loss: 0.5424 - val_loss: 0.5390\n",
      "Epoch 29/100\n",
      "242/242 [==============================] - 0s 595us/step - loss: 0.5365 - val_loss: 0.7179\n",
      "Epoch 30/100\n",
      "242/242 [==============================] - 0s 596us/step - loss: 0.5384 - val_loss: 0.6029\n",
      "Epoch 31/100\n",
      "242/242 [==============================] - 0s 593us/step - loss: 0.5362 - val_loss: 0.5947\n",
      "Epoch 32/100\n",
      "242/242 [==============================] - 0s 633us/step - loss: 0.5359 - val_loss: 0.5305\n",
      "Epoch 33/100\n",
      "242/242 [==============================] - 0s 629us/step - loss: 0.5334 - val_loss: 0.6601\n",
      "Epoch 34/100\n",
      "242/242 [==============================] - 0s 639us/step - loss: 0.5341 - val_loss: 0.6326\n",
      "Epoch 35/100\n",
      "242/242 [==============================] - 0s 610us/step - loss: 0.5344 - val_loss: 0.5072\n",
      "Epoch 36/100\n",
      "242/242 [==============================] - 0s 633us/step - loss: 0.5304 - val_loss: 0.7270\n",
      "Epoch 37/100\n",
      "242/242 [==============================] - 0s 614us/step - loss: 0.5341 - val_loss: 0.5055\n",
      "Epoch 38/100\n",
      "242/242 [==============================] - 0s 596us/step - loss: 0.5284 - val_loss: 0.7985\n",
      "Epoch 39/100\n",
      "242/242 [==============================] - 0s 613us/step - loss: 0.5338 - val_loss: 0.5176\n",
      "Epoch 40/100\n",
      "242/242 [==============================] - 0s 572us/step - loss: 0.5305 - val_loss: 0.5823\n",
      "Epoch 41/100\n",
      "242/242 [==============================] - 0s 608us/step - loss: 0.5293 - val_loss: 0.7114\n",
      "Epoch 42/100\n",
      "242/242 [==============================] - 0s 651us/step - loss: 0.5322 - val_loss: 0.5059\n",
      "Epoch 43/100\n",
      "242/242 [==============================] - 0s 595us/step - loss: 0.5302 - val_loss: 0.5008\n",
      "Epoch 44/100\n",
      "242/242 [==============================] - 0s 586us/step - loss: 0.5274 - val_loss: 0.7397\n",
      "Epoch 45/100\n",
      "242/242 [==============================] - 0s 587us/step - loss: 0.5309 - val_loss: 0.6169\n",
      "Epoch 46/100\n",
      "242/242 [==============================] - 0s 570us/step - loss: 0.5303 - val_loss: 0.5264\n",
      "Epoch 47/100\n",
      "242/242 [==============================] - 0s 600us/step - loss: 0.5276 - val_loss: 0.6916\n",
      "Epoch 48/100\n",
      "242/242 [==============================] - 0s 613us/step - loss: 0.5298 - val_loss: 0.6554\n",
      "Epoch 49/100\n",
      "242/242 [==============================] - 0s 608us/step - loss: 0.5290 - val_loss: 0.6607\n",
      "Epoch 50/100\n",
      "242/242 [==============================] - 0s 617us/step - loss: 0.5267 - val_loss: 0.8497\n",
      "Epoch 51/100\n",
      "242/242 [==============================] - 0s 600us/step - loss: 0.5310 - val_loss: 0.6664\n",
      "Epoch 52/100\n",
      "242/242 [==============================] - 0s 626us/step - loss: 0.5294 - val_loss: 0.5996\n",
      "Epoch 53/100\n",
      "242/242 [==============================] - 0s 643us/step - loss: 0.5282 - val_loss: 0.6414\n",
      "121/121 [==============================] - 0s 353us/step - loss: 0.5368\n",
      "Epoch 1/100\n",
      "242/242 [==============================] - 0s 947us/step - loss: 3.5605 - val_loss: 23.0855\n",
      "Epoch 2/100\n",
      "242/242 [==============================] - 0s 612us/step - loss: 1.4777 - val_loss: 10.8387\n",
      "Epoch 3/100\n",
      "242/242 [==============================] - 0s 632us/step - loss: 1.0149 - val_loss: 4.4392\n",
      "Epoch 4/100\n",
      "242/242 [==============================] - 0s 612us/step - loss: 0.8729 - val_loss: 1.5338\n",
      "Epoch 5/100\n",
      "242/242 [==============================] - 0s 634us/step - loss: 0.8027 - val_loss: 0.7192\n",
      "Epoch 6/100\n",
      "242/242 [==============================] - 0s 606us/step - loss: 0.7542 - val_loss: 1.2046\n",
      "Epoch 7/100\n",
      "242/242 [==============================] - 0s 625us/step - loss: 0.7160 - val_loss: 2.4524\n",
      "Epoch 8/100\n",
      "242/242 [==============================] - 0s 630us/step - loss: 0.6847 - val_loss: 4.1421\n",
      "Epoch 9/100\n",
      "242/242 [==============================] - 0s 648us/step - loss: 0.6588 - val_loss: 5.9820\n",
      "Epoch 10/100\n",
      "242/242 [==============================] - 0s 598us/step - loss: 0.6371 - val_loss: 7.7654\n",
      "Epoch 11/100\n",
      "242/242 [==============================] - 0s 651us/step - loss: 0.6187 - val_loss: 9.6230\n",
      "Epoch 12/100\n",
      "242/242 [==============================] - 0s 633us/step - loss: 0.6029 - val_loss: 11.3609\n",
      "Epoch 13/100\n",
      "242/242 [==============================] - 0s 581us/step - loss: 0.5896 - val_loss: 12.9821\n",
      "Epoch 14/100\n",
      "242/242 [==============================] - 0s 599us/step - loss: 0.5781 - val_loss: 14.2266\n",
      "Epoch 15/100\n",
      "242/242 [==============================] - 0s 635us/step - loss: 0.5683 - val_loss: 15.4321\n",
      "121/121 [==============================] - 0s 379us/step - loss: 0.9198\n",
      "Epoch 1/100\n",
      "242/242 [==============================] - 0s 909us/step - loss: 3.2972 - val_loss: 1.3307\n",
      "Epoch 2/100\n",
      "242/242 [==============================] - 0s 642us/step - loss: 0.9648 - val_loss: 0.6934\n",
      "Epoch 3/100\n",
      "242/242 [==============================] - 0s 581us/step - loss: 0.6150 - val_loss: 0.5469\n",
      "Epoch 4/100\n",
      "242/242 [==============================] - 0s 587us/step - loss: 0.5468 - val_loss: 0.7322\n",
      "Epoch 5/100\n",
      "242/242 [==============================] - 0s 623us/step - loss: 0.5372 - val_loss: 0.4963\n",
      "Epoch 6/100\n",
      "242/242 [==============================] - 0s 634us/step - loss: 0.5330 - val_loss: 0.5539\n",
      "Epoch 7/100\n",
      "242/242 [==============================] - 0s 598us/step - loss: 0.5320 - val_loss: 0.5729\n",
      "Epoch 8/100\n",
      "242/242 [==============================] - 0s 612us/step - loss: 0.5297 - val_loss: 0.7873\n",
      "Epoch 9/100\n",
      "242/242 [==============================] - 0s 581us/step - loss: 0.5337 - val_loss: 0.5968\n",
      "Epoch 10/100\n"
     ]
    },
    {
     "name": "stdout",
     "output_type": "stream",
     "text": [
      "242/242 [==============================] - 0s 587us/step - loss: 0.5314 - val_loss: 0.4951\n",
      "Epoch 11/100\n",
      "242/242 [==============================] - 0s 579us/step - loss: 0.5286 - val_loss: 0.7591\n",
      "Epoch 12/100\n",
      "242/242 [==============================] - 0s 618us/step - loss: 0.5333 - val_loss: 0.5368\n",
      "Epoch 13/100\n",
      "242/242 [==============================] - 0s 637us/step - loss: 0.5305 - val_loss: 0.4968\n",
      "Epoch 14/100\n",
      "242/242 [==============================] - 0s 602us/step - loss: 0.5305 - val_loss: 0.5778\n",
      "Epoch 15/100\n",
      "242/242 [==============================] - 0s 577us/step - loss: 0.5313 - val_loss: 0.5117\n",
      "Epoch 16/100\n",
      "242/242 [==============================] - 0s 648us/step - loss: 0.5282 - val_loss: 0.7055\n",
      "Epoch 17/100\n",
      "242/242 [==============================] - 0s 603us/step - loss: 0.5320 - val_loss: 0.5399\n",
      "Epoch 18/100\n",
      "242/242 [==============================] - 0s 580us/step - loss: 0.5307 - val_loss: 0.5257\n",
      "Epoch 19/100\n",
      "242/242 [==============================] - 0s 604us/step - loss: 0.5275 - val_loss: 0.7902\n",
      "Epoch 20/100\n",
      "242/242 [==============================] - 0s 629us/step - loss: 0.5327 - val_loss: 0.5852\n",
      "121/121 [==============================] - 0s 340us/step - loss: 0.5317\n",
      "Epoch 1/100\n",
      "242/242 [==============================] - 0s 975us/step - loss: 1.4256 - val_loss: 66.5657\n",
      "Epoch 2/100\n",
      "242/242 [==============================] - 0s 592us/step - loss: 0.9941 - val_loss: 137.1489\n",
      "Epoch 3/100\n",
      "242/242 [==============================] - 0s 621us/step - loss: 2.2587 - val_loss: 716.1609\n",
      "Epoch 4/100\n",
      "242/242 [==============================] - 0s 612us/step - loss: 4.3545 - val_loss: 2297.8599\n",
      "Epoch 5/100\n",
      "242/242 [==============================] - 0s 611us/step - loss: 17.0750 - val_loss: 9988.3369\n",
      "Epoch 6/100\n",
      "242/242 [==============================] - 0s 581us/step - loss: 198.7058 - val_loss: 39231.9766\n",
      "Epoch 7/100\n",
      "242/242 [==============================] - 0s 641us/step - loss: 424.9946 - val_loss: 155196.9375\n",
      "Epoch 8/100\n",
      "242/242 [==============================] - 0s 575us/step - loss: 2992.7771 - val_loss: 612492.9375\n",
      "Epoch 9/100\n",
      "242/242 [==============================] - 0s 575us/step - loss: 7662.3345 - val_loss: 2435756.7500\n",
      "Epoch 10/100\n",
      "242/242 [==============================] - 0s 604us/step - loss: 53693.9609 - val_loss: 10128971.0000\n",
      "Epoch 11/100\n",
      "242/242 [==============================] - 0s 603us/step - loss: 135638.0156 - val_loss: 39694556.0000\n",
      "121/121 [==============================] - 0s 396us/step - loss: 105477.5781\n",
      "Epoch 1/100\n",
      "242/242 [==============================] - 0s 967us/step - loss: 1.1573 - val_loss: 23.1193\n",
      "Epoch 2/100\n",
      "242/242 [==============================] - 0s 590us/step - loss: 0.5349 - val_loss: 22.1675\n",
      "Epoch 3/100\n",
      "242/242 [==============================] - 0s 604us/step - loss: 0.5192 - val_loss: 22.3752\n",
      "Epoch 4/100\n",
      "242/242 [==============================] - 0s 598us/step - loss: 0.5148 - val_loss: 21.3891\n",
      "Epoch 5/100\n",
      "242/242 [==============================] - 0s 587us/step - loss: 0.5108 - val_loss: 20.8855\n",
      "Epoch 6/100\n",
      "242/242 [==============================] - 0s 600us/step - loss: 0.5082 - val_loss: 20.6379\n",
      "Epoch 7/100\n",
      "242/242 [==============================] - 0s 621us/step - loss: 0.5070 - val_loss: 20.0736\n",
      "Epoch 8/100\n",
      "242/242 [==============================] - 0s 581us/step - loss: 0.5050 - val_loss: 20.7178\n",
      "Epoch 9/100\n",
      "242/242 [==============================] - 0s 567us/step - loss: 0.5029 - val_loss: 20.0844\n",
      "Epoch 10/100\n",
      "242/242 [==============================] - 0s 625us/step - loss: 0.5032 - val_loss: 17.0622\n",
      "Epoch 11/100\n",
      "242/242 [==============================] - 0s 589us/step - loss: 0.5036 - val_loss: 19.1666\n",
      "Epoch 12/100\n",
      "242/242 [==============================] - 0s 581us/step - loss: 0.5017 - val_loss: 20.8246\n",
      "Epoch 13/100\n",
      "242/242 [==============================] - 0s 593us/step - loss: 0.5023 - val_loss: 22.0298\n",
      "Epoch 14/100\n",
      "242/242 [==============================] - 0s 632us/step - loss: 0.5049 - val_loss: 17.6022\n",
      "Epoch 15/100\n",
      "242/242 [==============================] - 0s 614us/step - loss: 0.5024 - val_loss: 18.6171\n",
      "Epoch 16/100\n",
      "242/242 [==============================] - 0s 575us/step - loss: 0.5024 - val_loss: 20.0451\n",
      "Epoch 17/100\n",
      "242/242 [==============================] - 0s 574us/step - loss: 0.5005 - val_loss: 17.5898\n",
      "Epoch 18/100\n",
      "242/242 [==============================] - 0s 607us/step - loss: 0.5040 - val_loss: 17.4526\n",
      "Epoch 19/100\n",
      "242/242 [==============================] - 0s 587us/step - loss: 0.5012 - val_loss: 19.5015\n",
      "Epoch 20/100\n",
      "242/242 [==============================] - 0s 580us/step - loss: 0.5011 - val_loss: 17.3223\n",
      "121/121 [==============================] - 0s 359us/step - loss: 0.9327\n",
      "Epoch 1/100\n",
      "242/242 [==============================] - 0s 860us/step - loss: 1.4616 - val_loss: 0.5742\n",
      "Epoch 2/100\n",
      "242/242 [==============================] - 0s 604us/step - loss: 0.6113 - val_loss: 6.7367\n",
      "Epoch 3/100\n",
      "242/242 [==============================] - 0s 587us/step - loss: 0.5784 - val_loss: 6.5227\n",
      "Epoch 4/100\n",
      "242/242 [==============================] - 0s 601us/step - loss: 0.5820 - val_loss: 19.7083\n",
      "Epoch 5/100\n",
      "242/242 [==============================] - 0s 582us/step - loss: 0.6738 - val_loss: 205.7215\n",
      "Epoch 6/100\n",
      "242/242 [==============================] - 0s 611us/step - loss: 1.6846 - val_loss: 282.6048\n",
      "Epoch 7/100\n",
      "242/242 [==============================] - 0s 608us/step - loss: 2.5718 - val_loss: 656.3251\n",
      "Epoch 8/100\n",
      "242/242 [==============================] - 0s 596us/step - loss: 12.3829 - val_loss: 1380.0117\n",
      "Epoch 9/100\n",
      "242/242 [==============================] - 0s 624us/step - loss: 14.8443 - val_loss: 2817.4534\n",
      "Epoch 10/100\n",
      "242/242 [==============================] - 0s 594us/step - loss: 7.4320 - val_loss: 4499.3799\n",
      "Epoch 11/100\n",
      "242/242 [==============================] - 0s 625us/step - loss: 121.3308 - val_loss: 8457.8662\n",
      "121/121 [==============================] - 0s 363us/step - loss: 11.0521\n",
      "Epoch 1/100\n",
      "242/242 [==============================] - 0s 1ms/step - loss: 2.5089 - val_loss: 2.6033\n",
      "Epoch 2/100\n",
      "242/242 [==============================] - 0s 725us/step - loss: 1.0793 - val_loss: 1.0424\n",
      "Epoch 3/100\n",
      "242/242 [==============================] - 0s 695us/step - loss: 0.8038 - val_loss: 0.7507\n",
      "Epoch 4/100\n",
      "242/242 [==============================] - 0s 702us/step - loss: 0.7203 - val_loss: 0.6758\n",
      "Epoch 5/100\n",
      "242/242 [==============================] - 0s 718us/step - loss: 0.6785 - val_loss: 0.6484\n",
      "Epoch 6/100\n",
      "242/242 [==============================] - 0s 699us/step - loss: 0.6498 - val_loss: 0.6241\n",
      "Epoch 7/100\n",
      "242/242 [==============================] - 0s 745us/step - loss: 0.6261 - val_loss: 0.6073\n",
      "Epoch 8/100\n",
      "242/242 [==============================] - 0s 714us/step - loss: 0.6055 - val_loss: 0.5826\n",
      "Epoch 9/100\n",
      "242/242 [==============================] - 0s 679us/step - loss: 0.5870 - val_loss: 0.5597\n",
      "Epoch 10/100\n",
      "242/242 [==============================] - 0s 702us/step - loss: 0.5700 - val_loss: 0.5445\n",
      "Epoch 11/100\n",
      "242/242 [==============================] - 0s 723us/step - loss: 0.5547 - val_loss: 0.5314\n",
      "Epoch 12/100\n",
      "242/242 [==============================] - 0s 687us/step - loss: 0.5408 - val_loss: 0.5147\n",
      "Epoch 13/100\n",
      "242/242 [==============================] - 0s 763us/step - loss: 0.5278 - val_loss: 0.5030\n",
      "Epoch 14/100\n",
      "242/242 [==============================] - 0s 691us/step - loss: 0.5159 - val_loss: 0.4904\n",
      "Epoch 15/100\n",
      "242/242 [==============================] - 0s 692us/step - loss: 0.5051 - val_loss: 0.4791\n",
      "Epoch 16/100\n",
      "242/242 [==============================] - 0s 695us/step - loss: 0.4948 - val_loss: 0.4695\n",
      "Epoch 17/100\n",
      "242/242 [==============================] - 0s 706us/step - loss: 0.4857 - val_loss: 0.4608\n",
      "Epoch 18/100\n",
      "242/242 [==============================] - 0s 711us/step - loss: 0.4772 - val_loss: 0.4524\n",
      "Epoch 19/100\n",
      "242/242 [==============================] - 0s 676us/step - loss: 0.4691 - val_loss: 0.4476\n",
      "Epoch 20/100\n",
      "242/242 [==============================] - 0s 685us/step - loss: 0.4621 - val_loss: 0.4383\n",
      "Epoch 21/100\n",
      "242/242 [==============================] - 0s 686us/step - loss: 0.4555 - val_loss: 0.4355\n",
      "Epoch 22/100\n",
      "242/242 [==============================] - 0s 661us/step - loss: 0.4494 - val_loss: 0.4282\n",
      "Epoch 23/100\n"
     ]
    },
    {
     "name": "stdout",
     "output_type": "stream",
     "text": [
      "242/242 [==============================] - 0s 671us/step - loss: 0.4437 - val_loss: 0.4230\n",
      "Epoch 24/100\n",
      "242/242 [==============================] - 0s 692us/step - loss: 0.4384 - val_loss: 0.4166\n",
      "Epoch 25/100\n",
      "242/242 [==============================] - 0s 747us/step - loss: 0.4339 - val_loss: 0.4161\n",
      "Epoch 26/100\n",
      "242/242 [==============================] - 0s 764us/step - loss: 0.4294 - val_loss: 0.4142\n",
      "Epoch 27/100\n",
      "242/242 [==============================] - 0s 701us/step - loss: 0.4254 - val_loss: 0.4100\n",
      "Epoch 28/100\n",
      "242/242 [==============================] - 0s 718us/step - loss: 0.4217 - val_loss: 0.4132\n",
      "Epoch 29/100\n",
      "242/242 [==============================] - 0s 731us/step - loss: 0.4180 - val_loss: 0.4103\n",
      "Epoch 30/100\n",
      "242/242 [==============================] - 0s 687us/step - loss: 0.4149 - val_loss: 0.4032\n",
      "Epoch 31/100\n",
      "242/242 [==============================] - 0s 699us/step - loss: 0.4118 - val_loss: 0.3964\n",
      "Epoch 32/100\n",
      "242/242 [==============================] - 0s 675us/step - loss: 0.4089 - val_loss: 0.3956\n",
      "Epoch 33/100\n",
      "242/242 [==============================] - 0s 725us/step - loss: 0.4062 - val_loss: 0.4013\n",
      "Epoch 34/100\n",
      "242/242 [==============================] - 0s 718us/step - loss: 0.4035 - val_loss: 0.4004\n",
      "Epoch 35/100\n",
      "242/242 [==============================] - 0s 690us/step - loss: 0.4012 - val_loss: 0.3913\n",
      "Epoch 36/100\n",
      "242/242 [==============================] - 0s 719us/step - loss: 0.3988 - val_loss: 0.3986\n",
      "Epoch 37/100\n",
      "242/242 [==============================] - 0s 699us/step - loss: 0.3968 - val_loss: 0.3871\n",
      "Epoch 38/100\n",
      "242/242 [==============================] - 0s 731us/step - loss: 0.3946 - val_loss: 0.3998\n",
      "Epoch 39/100\n",
      "242/242 [==============================] - 0s 757us/step - loss: 0.3927 - val_loss: 0.3858\n",
      "Epoch 40/100\n",
      "242/242 [==============================] - 0s 754us/step - loss: 0.3908 - val_loss: 0.3967\n",
      "Epoch 41/100\n",
      "242/242 [==============================] - 0s 710us/step - loss: 0.3890 - val_loss: 0.3918\n",
      "Epoch 42/100\n",
      "242/242 [==============================] - 0s 696us/step - loss: 0.3873 - val_loss: 0.3866\n",
      "Epoch 43/100\n",
      "242/242 [==============================] - 0s 679us/step - loss: 0.3858 - val_loss: 0.3800\n",
      "Epoch 44/100\n",
      "242/242 [==============================] - 0s 722us/step - loss: 0.3840 - val_loss: 0.3997\n",
      "Epoch 45/100\n",
      "242/242 [==============================] - 0s 668us/step - loss: 0.3827 - val_loss: 0.3861\n",
      "Epoch 46/100\n",
      "242/242 [==============================] - 0s 699us/step - loss: 0.3811 - val_loss: 0.3805\n",
      "Epoch 47/100\n",
      "242/242 [==============================] - 0s 671us/step - loss: 0.3799 - val_loss: 0.3919\n",
      "Epoch 48/100\n",
      "242/242 [==============================] - 0s 764us/step - loss: 0.3785 - val_loss: 0.3826\n",
      "Epoch 49/100\n",
      "242/242 [==============================] - 0s 740us/step - loss: 0.3772 - val_loss: 0.3812\n",
      "Epoch 50/100\n",
      "242/242 [==============================] - 0s 707us/step - loss: 0.3759 - val_loss: 0.3905\n",
      "Epoch 51/100\n",
      "242/242 [==============================] - 0s 720us/step - loss: 0.3746 - val_loss: 0.3832\n",
      "Epoch 52/100\n",
      "242/242 [==============================] - 0s 735us/step - loss: 0.3737 - val_loss: 0.3827\n",
      "Epoch 53/100\n",
      "242/242 [==============================] - 0s 689us/step - loss: 0.3725 - val_loss: 0.3859\n",
      "121/121 [==============================] - 0s 375us/step - loss: 0.3865\n",
      "Epoch 1/100\n",
      "192/242 [======================>.......] - ETA: 0s - loss: 3.0772WARNING:tensorflow:Callbacks method `on_test_batch_end` is slow compared to the batch time (batch time: 0.0000s vs `on_test_batch_end` time: 0.0010s). Check your callbacks.\n",
      "242/242 [==============================] - 0s 1ms/step - loss: 2.7762 - val_loss: 17.5435\n",
      "Epoch 2/100\n",
      "242/242 [==============================] - 0s 699us/step - loss: 1.1017 - val_loss: 15.4502\n",
      "Epoch 3/100\n",
      "242/242 [==============================] - 0s 709us/step - loss: 0.8039 - val_loss: 11.1084\n",
      "Epoch 4/100\n",
      "242/242 [==============================] - 0s 682us/step - loss: 0.7051 - val_loss: 8.0885\n",
      "Epoch 5/100\n",
      "242/242 [==============================] - 0s 761us/step - loss: 0.6575 - val_loss: 6.1076\n",
      "Epoch 6/100\n",
      "242/242 [==============================] - 0s 708us/step - loss: 0.6260 - val_loss: 4.7302\n",
      "Epoch 7/100\n",
      "242/242 [==============================] - 0s 682us/step - loss: 0.6007 - val_loss: 3.6783\n",
      "Epoch 8/100\n",
      "242/242 [==============================] - 0s 712us/step - loss: 0.5790 - val_loss: 2.8274\n",
      "Epoch 9/100\n",
      "242/242 [==============================] - 0s 694us/step - loss: 0.5600 - val_loss: 2.2526\n",
      "Epoch 10/100\n",
      "242/242 [==============================] - 0s 707us/step - loss: 0.5433 - val_loss: 1.7966\n",
      "Epoch 11/100\n",
      "242/242 [==============================] - 0s 736us/step - loss: 0.5284 - val_loss: 1.4646\n",
      "Epoch 12/100\n",
      "242/242 [==============================] - 0s 696us/step - loss: 0.5153 - val_loss: 1.1656\n",
      "Epoch 13/100\n",
      "242/242 [==============================] - 0s 714us/step - loss: 0.5036 - val_loss: 0.9599\n",
      "Epoch 14/100\n",
      "242/242 [==============================] - 0s 666us/step - loss: 0.4932 - val_loss: 0.8400\n",
      "Epoch 15/100\n",
      "242/242 [==============================] - 0s 694us/step - loss: 0.4839 - val_loss: 0.7148\n",
      "Epoch 16/100\n",
      "242/242 [==============================] - 0s 854us/step - loss: 0.4756 - val_loss: 0.6408\n",
      "Epoch 17/100\n",
      "242/242 [==============================] - 0s 768us/step - loss: 0.4680 - val_loss: 0.5679\n",
      "Epoch 18/100\n",
      "242/242 [==============================] - 0s 841us/step - loss: 0.4612 - val_loss: 0.5264\n",
      "Epoch 19/100\n",
      "242/242 [==============================] - 0s 886us/step - loss: 0.4549 - val_loss: 0.4894\n",
      "Epoch 20/100\n",
      "242/242 [==============================] - 0s 800us/step - loss: 0.4493 - val_loss: 0.4711\n",
      "Epoch 21/100\n",
      "242/242 [==============================] - 0s 816us/step - loss: 0.4442 - val_loss: 0.4525\n",
      "Epoch 22/100\n",
      "242/242 [==============================] - 0s 890us/step - loss: 0.4395 - val_loss: 0.4467\n",
      "Epoch 23/100\n",
      "242/242 [==============================] - 0s 779us/step - loss: 0.4352 - val_loss: 0.4404\n",
      "Epoch 24/100\n",
      "242/242 [==============================] - 0s 886us/step - loss: 0.4313 - val_loss: 0.4333\n",
      "Epoch 25/100\n",
      "242/242 [==============================] - 0s 824us/step - loss: 0.4276 - val_loss: 0.4302\n",
      "Epoch 26/100\n",
      "242/242 [==============================] - 0s 846us/step - loss: 0.4242 - val_loss: 0.4284\n",
      "Epoch 27/100\n",
      "242/242 [==============================] - 0s 808us/step - loss: 0.4209 - val_loss: 0.4270\n",
      "Epoch 28/100\n",
      "242/242 [==============================] - 0s 816us/step - loss: 0.4180 - val_loss: 0.4269\n",
      "Epoch 29/100\n",
      "242/242 [==============================] - 0s 787us/step - loss: 0.4148 - val_loss: 0.4416\n",
      "Epoch 30/100\n",
      "242/242 [==============================] - 0s 770us/step - loss: 0.4127 - val_loss: 0.4363\n",
      "Epoch 31/100\n",
      "242/242 [==============================] - 0s 735us/step - loss: 0.4099 - val_loss: 0.4330\n",
      "Epoch 32/100\n",
      "242/242 [==============================] - 0s 715us/step - loss: 0.4074 - val_loss: 0.4408\n",
      "Epoch 33/100\n",
      "242/242 [==============================] - 0s 689us/step - loss: 0.4052 - val_loss: 0.4484\n",
      "Epoch 34/100\n",
      "242/242 [==============================] - 0s 739us/step - loss: 0.4029 - val_loss: 0.4647\n",
      "Epoch 35/100\n",
      "242/242 [==============================] - 0s 743us/step - loss: 0.4009 - val_loss: 0.4789\n",
      "Epoch 36/100\n",
      "242/242 [==============================] - 0s 711us/step - loss: 0.3989 - val_loss: 0.4746\n",
      "Epoch 37/100\n",
      "242/242 [==============================] - 0s 784us/step - loss: 0.3970 - val_loss: 0.4974\n",
      "Epoch 38/100\n",
      "242/242 [==============================] - 0s 744us/step - loss: 0.3951 - val_loss: 0.5135\n",
      "121/121 [==============================] - 0s 425us/step - loss: 0.4088\n",
      "Epoch 1/100\n",
      "242/242 [==============================] - 0s 1ms/step - loss: 2.8501 - val_loss: 2.0961\n",
      "Epoch 2/100\n",
      "242/242 [==============================] - 0s 674us/step - loss: 1.1187 - val_loss: 1.2079\n",
      "Epoch 3/100\n",
      "242/242 [==============================] - 0s 687us/step - loss: 0.8431 - val_loss: 0.8075\n",
      "Epoch 4/100\n",
      "242/242 [==============================] - 0s 677us/step - loss: 0.7630 - val_loss: 0.7207\n",
      "Epoch 5/100\n",
      "242/242 [==============================] - 0s 677us/step - loss: 0.7220 - val_loss: 0.6952\n",
      "Epoch 6/100\n",
      "242/242 [==============================] - 0s 694us/step - loss: 0.6925 - val_loss: 0.6614\n",
      "Epoch 7/100\n"
     ]
    },
    {
     "name": "stdout",
     "output_type": "stream",
     "text": [
      "242/242 [==============================] - 0s 675us/step - loss: 0.6677 - val_loss: 0.6378\n",
      "Epoch 8/100\n",
      "242/242 [==============================] - 0s 685us/step - loss: 0.6461 - val_loss: 0.6132\n",
      "Epoch 9/100\n",
      "242/242 [==============================] - 0s 688us/step - loss: 0.6268 - val_loss: 0.6043\n",
      "Epoch 10/100\n",
      "242/242 [==============================] - 0s 684us/step - loss: 0.6081 - val_loss: 0.5937\n",
      "Epoch 11/100\n",
      "242/242 [==============================] - 0s 656us/step - loss: 0.5908 - val_loss: 0.5658\n",
      "Epoch 12/100\n",
      "242/242 [==============================] - 0s 717us/step - loss: 0.5749 - val_loss: 0.5551\n",
      "Epoch 13/100\n",
      "242/242 [==============================] - 0s 709us/step - loss: 0.5601 - val_loss: 0.5476\n",
      "Epoch 14/100\n",
      "242/242 [==============================] - 0s 697us/step - loss: 0.5465 - val_loss: 0.5450\n",
      "Epoch 15/100\n",
      "242/242 [==============================] - 0s 726us/step - loss: 0.5340 - val_loss: 0.5314\n",
      "Epoch 16/100\n",
      "242/242 [==============================] - 0s 671us/step - loss: 0.5225 - val_loss: 0.5067\n",
      "Epoch 17/100\n",
      "242/242 [==============================] - 0s 692us/step - loss: 0.5119 - val_loss: 0.4983\n",
      "Epoch 18/100\n",
      "242/242 [==============================] - 0s 685us/step - loss: 0.5020 - val_loss: 0.4873\n",
      "Epoch 19/100\n",
      "242/242 [==============================] - 0s 698us/step - loss: 0.4930 - val_loss: 0.4748\n",
      "Epoch 20/100\n",
      "242/242 [==============================] - 0s 696us/step - loss: 0.4849 - val_loss: 0.4767\n",
      "Epoch 21/100\n",
      "242/242 [==============================] - 0s 699us/step - loss: 0.4771 - val_loss: 0.4719\n",
      "Epoch 22/100\n",
      "242/242 [==============================] - 0s 680us/step - loss: 0.4701 - val_loss: 0.4623\n",
      "Epoch 23/100\n",
      "242/242 [==============================] - 0s 717us/step - loss: 0.4637 - val_loss: 0.4640\n",
      "Epoch 24/100\n",
      "242/242 [==============================] - 0s 677us/step - loss: 0.4575 - val_loss: 0.4777\n",
      "Epoch 25/100\n",
      "242/242 [==============================] - 0s 715us/step - loss: 0.4521 - val_loss: 0.4488\n",
      "Epoch 26/100\n",
      "242/242 [==============================] - 0s 682us/step - loss: 0.4469 - val_loss: 0.4475\n",
      "Epoch 27/100\n",
      "242/242 [==============================] - 0s 685us/step - loss: 0.4423 - val_loss: 0.4420\n",
      "Epoch 28/100\n",
      "242/242 [==============================] - 0s 661us/step - loss: 0.4378 - val_loss: 0.4449\n",
      "Epoch 29/100\n",
      "242/242 [==============================] - 0s 737us/step - loss: 0.4337 - val_loss: 0.4581\n",
      "Epoch 30/100\n",
      "242/242 [==============================] - 0s 694us/step - loss: 0.4301 - val_loss: 0.4385\n",
      "Epoch 31/100\n",
      "242/242 [==============================] - 0s 674us/step - loss: 0.4265 - val_loss: 0.4226\n",
      "Epoch 32/100\n",
      "242/242 [==============================] - 0s 689us/step - loss: 0.4233 - val_loss: 0.4458\n",
      "Epoch 33/100\n",
      "242/242 [==============================] - 0s 692us/step - loss: 0.4201 - val_loss: 0.4242\n",
      "Epoch 34/100\n",
      "242/242 [==============================] - 0s 679us/step - loss: 0.4174 - val_loss: 0.4542\n",
      "Epoch 35/100\n",
      "242/242 [==============================] - 0s 683us/step - loss: 0.4149 - val_loss: 0.4279\n",
      "Epoch 36/100\n",
      "242/242 [==============================] - 0s 725us/step - loss: 0.4122 - val_loss: 0.4341\n",
      "Epoch 37/100\n",
      "242/242 [==============================] - 0s 686us/step - loss: 0.4101 - val_loss: 0.4189\n",
      "Epoch 38/100\n",
      "242/242 [==============================] - 0s 750us/step - loss: 0.4078 - val_loss: 0.4344\n",
      "Epoch 39/100\n",
      "242/242 [==============================] - 0s 751us/step - loss: 0.4056 - val_loss: 0.4235\n",
      "Epoch 40/100\n",
      "242/242 [==============================] - 0s 677us/step - loss: 0.4037 - val_loss: 0.4183\n",
      "Epoch 41/100\n",
      "242/242 [==============================] - 0s 678us/step - loss: 0.4015 - val_loss: 0.4552\n",
      "Epoch 42/100\n",
      "242/242 [==============================] - 0s 695us/step - loss: 0.4001 - val_loss: 0.4411\n",
      "Epoch 43/100\n",
      "242/242 [==============================] - 0s 658us/step - loss: 0.3981 - val_loss: 0.4073\n",
      "Epoch 44/100\n",
      "242/242 [==============================] - 0s 686us/step - loss: 0.3967 - val_loss: 0.4294\n",
      "Epoch 45/100\n",
      "242/242 [==============================] - 0s 647us/step - loss: 0.3950 - val_loss: 0.4238\n",
      "Epoch 46/100\n",
      "242/242 [==============================] - 0s 682us/step - loss: 0.3936 - val_loss: 0.4128\n",
      "Epoch 47/100\n",
      "242/242 [==============================] - 0s 683us/step - loss: 0.3921 - val_loss: 0.3977\n",
      "Epoch 48/100\n",
      "242/242 [==============================] - 0s 679us/step - loss: 0.3909 - val_loss: 0.4028\n",
      "Epoch 49/100\n",
      "242/242 [==============================] - 0s 705us/step - loss: 0.3893 - val_loss: 0.4362\n",
      "Epoch 50/100\n",
      "242/242 [==============================] - 0s 679us/step - loss: 0.3884 - val_loss: 0.4235\n",
      "Epoch 51/100\n",
      "242/242 [==============================] - 0s 680us/step - loss: 0.3870 - val_loss: 0.4171\n",
      "Epoch 52/100\n",
      "242/242 [==============================] - 0s 694us/step - loss: 0.3859 - val_loss: 0.4273\n",
      "Epoch 53/100\n",
      "242/242 [==============================] - 0s 688us/step - loss: 0.3849 - val_loss: 0.4076\n",
      "Epoch 54/100\n",
      "242/242 [==============================] - 0s 672us/step - loss: 0.3839 - val_loss: 0.3885\n",
      "Epoch 55/100\n",
      "242/242 [==============================] - 0s 672us/step - loss: 0.3827 - val_loss: 0.4003\n",
      "Epoch 56/100\n",
      "242/242 [==============================] - 0s 720us/step - loss: 0.3816 - val_loss: 0.4176\n",
      "Epoch 57/100\n",
      "242/242 [==============================] - 0s 688us/step - loss: 0.3808 - val_loss: 0.4201\n",
      "Epoch 58/100\n",
      "242/242 [==============================] - 0s 674us/step - loss: 0.3800 - val_loss: 0.4177\n",
      "Epoch 59/100\n",
      "242/242 [==============================] - 0s 694us/step - loss: 0.3789 - val_loss: 0.4166\n",
      "Epoch 60/100\n",
      "242/242 [==============================] - 0s 685us/step - loss: 0.3779 - val_loss: 0.3910\n",
      "Epoch 61/100\n",
      "242/242 [==============================] - 0s 691us/step - loss: 0.3772 - val_loss: 0.4094\n",
      "Epoch 62/100\n",
      "242/242 [==============================] - 0s 682us/step - loss: 0.3763 - val_loss: 0.4363\n",
      "Epoch 63/100\n",
      "242/242 [==============================] - 0s 703us/step - loss: 0.3757 - val_loss: 0.4025\n",
      "Epoch 64/100\n",
      "242/242 [==============================] - 0s 663us/step - loss: 0.3749 - val_loss: 0.4028\n",
      "121/121 [==============================] - 0s 395us/step - loss: 0.3737\n",
      "Epoch 1/100\n",
      "242/242 [==============================] - 0s 1ms/step - loss: 2.4720 - val_loss: 7.9722\n",
      "Epoch 2/100\n",
      "242/242 [==============================] - 0s 687us/step - loss: 1.1323 - val_loss: 5.6563\n",
      "Epoch 3/100\n",
      "242/242 [==============================] - 0s 686us/step - loss: 0.8832 - val_loss: 4.1443\n",
      "Epoch 4/100\n",
      "242/242 [==============================] - 0s 658us/step - loss: 0.8066 - val_loss: 3.1169\n",
      "Epoch 5/100\n",
      "242/242 [==============================] - 0s 750us/step - loss: 0.7657 - val_loss: 2.6199\n",
      "Epoch 6/100\n",
      "242/242 [==============================] - 0s 762us/step - loss: 0.7374 - val_loss: 2.2830\n",
      "Epoch 7/100\n",
      "242/242 [==============================] - 0s 747us/step - loss: 0.7171 - val_loss: 1.9726\n",
      "Epoch 8/100\n",
      "242/242 [==============================] - 0s 763us/step - loss: 0.6983 - val_loss: 1.7536\n",
      "Epoch 9/100\n",
      "242/242 [==============================] - 0s 733us/step - loss: 0.6816 - val_loss: 1.5653\n",
      "Epoch 10/100\n",
      "242/242 [==============================] - 0s 692us/step - loss: 0.6663 - val_loss: 1.4316\n",
      "Epoch 11/100\n",
      "242/242 [==============================] - 0s 728us/step - loss: 0.6521 - val_loss: 1.3165\n",
      "Epoch 12/100\n",
      "242/242 [==============================] - 0s 784us/step - loss: 0.6387 - val_loss: 1.2101\n",
      "Epoch 13/100\n",
      "242/242 [==============================] - 0s 728us/step - loss: 0.6261 - val_loss: 1.1236\n",
      "Epoch 14/100\n",
      "242/242 [==============================] - 0s 724us/step - loss: 0.6139 - val_loss: 1.0591\n",
      "Epoch 15/100\n",
      "242/242 [==============================] - 0s 770us/step - loss: 0.6024 - val_loss: 0.9875\n",
      "Epoch 16/100\n",
      "242/242 [==============================] - 0s 707us/step - loss: 0.5910 - val_loss: 0.9345\n",
      "Epoch 17/100\n",
      "242/242 [==============================] - 0s 810us/step - loss: 0.5804 - val_loss: 0.8832\n",
      "Epoch 18/100\n",
      "242/242 [==============================] - 0s 714us/step - loss: 0.5701 - val_loss: 0.8424\n",
      "Epoch 19/100\n",
      "242/242 [==============================] - 0s 722us/step - loss: 0.5602 - val_loss: 0.8079\n",
      "Epoch 20/100\n",
      "242/242 [==============================] - 0s 807us/step - loss: 0.5511 - val_loss: 0.7646\n",
      "Epoch 21/100\n"
     ]
    },
    {
     "name": "stdout",
     "output_type": "stream",
     "text": [
      "242/242 [==============================] - 0s 721us/step - loss: 0.5420 - val_loss: 0.7347\n",
      "Epoch 22/100\n",
      "242/242 [==============================] - 0s 739us/step - loss: 0.5332 - val_loss: 0.7075\n",
      "Epoch 23/100\n",
      "242/242 [==============================] - 0s 733us/step - loss: 0.5249 - val_loss: 0.6815\n",
      "Epoch 24/100\n",
      "242/242 [==============================] - 0s 739us/step - loss: 0.5165 - val_loss: 0.6537\n",
      "Epoch 25/100\n",
      "242/242 [==============================] - 0s 704us/step - loss: 0.5095 - val_loss: 0.6360\n",
      "Epoch 26/100\n",
      "242/242 [==============================] - 0s 704us/step - loss: 0.5020 - val_loss: 0.6174\n",
      "Epoch 27/100\n",
      "242/242 [==============================] - 0s 680us/step - loss: 0.4952 - val_loss: 0.6010\n",
      "Epoch 28/100\n",
      "242/242 [==============================] - 0s 730us/step - loss: 0.4887 - val_loss: 0.5887\n",
      "Epoch 29/100\n",
      "242/242 [==============================] - 0s 695us/step - loss: 0.4824 - val_loss: 0.5778\n",
      "Epoch 30/100\n",
      "242/242 [==============================] - 0s 653us/step - loss: 0.4766 - val_loss: 0.5671\n",
      "Epoch 31/100\n",
      "242/242 [==============================] - 0s 676us/step - loss: 0.4710 - val_loss: 0.5557\n",
      "Epoch 32/100\n",
      "242/242 [==============================] - 0s 736us/step - loss: 0.4658 - val_loss: 0.5475\n",
      "Epoch 33/100\n",
      "242/242 [==============================] - 0s 737us/step - loss: 0.4608 - val_loss: 0.5403\n",
      "Epoch 34/100\n",
      "242/242 [==============================] - 0s 718us/step - loss: 0.4561 - val_loss: 0.5321\n",
      "Epoch 35/100\n",
      "242/242 [==============================] - 0s 662us/step - loss: 0.4516 - val_loss: 0.5250\n",
      "Epoch 36/100\n",
      "242/242 [==============================] - 0s 694us/step - loss: 0.4476 - val_loss: 0.5165\n",
      "Epoch 37/100\n",
      "242/242 [==============================] - 0s 756us/step - loss: 0.4436 - val_loss: 0.5106\n",
      "Epoch 38/100\n",
      "242/242 [==============================] - 0s 706us/step - loss: 0.4400 - val_loss: 0.5053\n",
      "Epoch 39/100\n",
      "242/242 [==============================] - 0s 691us/step - loss: 0.4364 - val_loss: 0.5004\n",
      "Epoch 40/100\n",
      "242/242 [==============================] - 0s 727us/step - loss: 0.4333 - val_loss: 0.4966\n",
      "Epoch 41/100\n",
      "242/242 [==============================] - 0s 675us/step - loss: 0.4302 - val_loss: 0.4922\n",
      "Epoch 42/100\n",
      "242/242 [==============================] - 0s 683us/step - loss: 0.4274 - val_loss: 0.4891\n",
      "Epoch 43/100\n",
      "242/242 [==============================] - 0s 730us/step - loss: 0.4248 - val_loss: 0.4850\n",
      "Epoch 44/100\n",
      "242/242 [==============================] - 0s 733us/step - loss: 0.4220 - val_loss: 0.4854\n",
      "Epoch 45/100\n",
      "242/242 [==============================] - 0s 688us/step - loss: 0.4198 - val_loss: 0.4828\n",
      "Epoch 46/100\n",
      "242/242 [==============================] - 0s 697us/step - loss: 0.4173 - val_loss: 0.4779\n",
      "Epoch 47/100\n",
      "242/242 [==============================] - 0s 710us/step - loss: 0.4153 - val_loss: 0.4783\n",
      "Epoch 48/100\n",
      "242/242 [==============================] - 0s 738us/step - loss: 0.4131 - val_loss: 0.4755\n",
      "Epoch 49/100\n",
      "242/242 [==============================] - 0s 693us/step - loss: 0.4111 - val_loss: 0.4766\n",
      "Epoch 50/100\n",
      "242/242 [==============================] - 0s 709us/step - loss: 0.4093 - val_loss: 0.4753\n",
      "Epoch 51/100\n",
      "242/242 [==============================] - 0s 727us/step - loss: 0.4074 - val_loss: 0.4714\n",
      "Epoch 52/100\n",
      "242/242 [==============================] - 0s 699us/step - loss: 0.4060 - val_loss: 0.4726\n",
      "Epoch 53/100\n",
      "242/242 [==============================] - 0s 708us/step - loss: 0.4043 - val_loss: 0.4722\n",
      "Epoch 54/100\n",
      "242/242 [==============================] - 0s 741us/step - loss: 0.4027 - val_loss: 0.4708\n",
      "Epoch 55/100\n",
      "242/242 [==============================] - 0s 716us/step - loss: 0.4009 - val_loss: 0.4704\n",
      "Epoch 56/100\n",
      "242/242 [==============================] - 0s 716us/step - loss: 0.3998 - val_loss: 0.4714\n",
      "Epoch 57/100\n",
      "242/242 [==============================] - 0s 698us/step - loss: 0.3985 - val_loss: 0.4704\n",
      "Epoch 58/100\n",
      "242/242 [==============================] - 0s 695us/step - loss: 0.3970 - val_loss: 0.4718\n",
      "Epoch 59/100\n",
      "242/242 [==============================] - 0s 710us/step - loss: 0.3958 - val_loss: 0.4712\n",
      "Epoch 60/100\n",
      "242/242 [==============================] - 0s 683us/step - loss: 0.3944 - val_loss: 0.4701\n",
      "Epoch 61/100\n",
      "242/242 [==============================] - 0s 691us/step - loss: 0.3936 - val_loss: 0.4718\n",
      "Epoch 62/100\n",
      "242/242 [==============================] - 0s 743us/step - loss: 0.3924 - val_loss: 0.4717\n",
      "Epoch 63/100\n",
      "242/242 [==============================] - 0s 770us/step - loss: 0.3912 - val_loss: 0.4704\n",
      "Epoch 64/100\n",
      "242/242 [==============================] - 0s 686us/step - loss: 0.3903 - val_loss: 0.4735\n",
      "Epoch 65/100\n",
      "242/242 [==============================] - 0s 707us/step - loss: 0.3892 - val_loss: 0.4738\n",
      "Epoch 66/100\n",
      "242/242 [==============================] - 0s 710us/step - loss: 0.3884 - val_loss: 0.4729\n",
      "Epoch 67/100\n",
      "242/242 [==============================] - 0s 748us/step - loss: 0.3873 - val_loss: 0.4716\n",
      "Epoch 68/100\n",
      "242/242 [==============================] - 0s 742us/step - loss: 0.3864 - val_loss: 0.4731\n",
      "Epoch 69/100\n",
      "242/242 [==============================] - 0s 783us/step - loss: 0.3855 - val_loss: 0.4720\n",
      "Epoch 70/100\n",
      "242/242 [==============================] - 0s 743us/step - loss: 0.3846 - val_loss: 0.4721\n",
      "121/121 [==============================] - 0s 425us/step - loss: 0.4001\n",
      "Epoch 1/100\n",
      "  1/242 [..............................] - ETA: 0s - loss: 6.5298WARNING:tensorflow:Callbacks method `on_train_batch_end` is slow compared to the batch time (batch time: 0.0000s vs `on_train_batch_end` time: 0.0010s). Check your callbacks.\n",
      "242/242 [==============================] - 0s 1ms/step - loss: 3.7641 - val_loss: 28.0492\n",
      "Epoch 2/100\n",
      "242/242 [==============================] - 0s 776us/step - loss: 2.0504 - val_loss: 43.0472\n",
      "Epoch 3/100\n",
      "242/242 [==============================] - 0s 747us/step - loss: 1.6124 - val_loss: 37.0128\n",
      "Epoch 4/100\n",
      "242/242 [==============================] - 0s 723us/step - loss: 1.3603 - val_loss: 28.7538\n",
      "Epoch 5/100\n",
      "242/242 [==============================] - 0s 775us/step - loss: 1.1689 - val_loss: 20.6120\n",
      "Epoch 6/100\n",
      "242/242 [==============================] - 0s 709us/step - loss: 1.0259 - val_loss: 14.6245\n",
      "Epoch 7/100\n",
      "242/242 [==============================] - 0s 752us/step - loss: 0.9261 - val_loss: 10.5960\n",
      "Epoch 8/100\n",
      "242/242 [==============================] - 0s 752us/step - loss: 0.8594 - val_loss: 7.2861\n",
      "Epoch 9/100\n",
      "242/242 [==============================] - 0s 722us/step - loss: 0.8137 - val_loss: 5.1836\n",
      "Epoch 10/100\n",
      "242/242 [==============================] - 0s 736us/step - loss: 0.7810 - val_loss: 3.7344\n",
      "Epoch 11/100\n",
      "242/242 [==============================] - 0s 721us/step - loss: 0.7555 - val_loss: 2.7778\n",
      "Epoch 12/100\n",
      "242/242 [==============================] - 0s 754us/step - loss: 0.7346 - val_loss: 1.9391\n",
      "Epoch 13/100\n",
      "242/242 [==============================] - 0s 706us/step - loss: 0.7165 - val_loss: 1.4673\n",
      "Epoch 14/100\n",
      "242/242 [==============================] - 0s 708us/step - loss: 0.7002 - val_loss: 1.2321\n",
      "Epoch 15/100\n",
      "242/242 [==============================] - 0s 749us/step - loss: 0.6852 - val_loss: 0.9812\n",
      "Epoch 16/100\n",
      "242/242 [==============================] - 0s 724us/step - loss: 0.6712 - val_loss: 0.8534\n",
      "Epoch 17/100\n",
      "242/242 [==============================] - 0s 697us/step - loss: 0.6583 - val_loss: 0.7166\n",
      "Epoch 18/100\n",
      "242/242 [==============================] - 0s 743us/step - loss: 0.6459 - val_loss: 0.6424\n",
      "Epoch 19/100\n",
      "242/242 [==============================] - 0s 730us/step - loss: 0.6340 - val_loss: 0.5949\n",
      "Epoch 20/100\n",
      "242/242 [==============================] - 0s 703us/step - loss: 0.6226 - val_loss: 0.5764\n",
      "Epoch 21/100\n",
      "242/242 [==============================] - 0s 705us/step - loss: 0.6116 - val_loss: 0.5809\n",
      "Epoch 22/100\n",
      "242/242 [==============================] - 0s 724us/step - loss: 0.6010 - val_loss: 0.6027\n",
      "Epoch 23/100\n",
      "242/242 [==============================] - 0s 746us/step - loss: 0.5911 - val_loss: 0.6369\n",
      "Epoch 24/100\n",
      "242/242 [==============================] - 0s 732us/step - loss: 0.5816 - val_loss: 0.6922\n",
      "Epoch 25/100\n",
      "242/242 [==============================] - 0s 753us/step - loss: 0.5725 - val_loss: 0.7604\n",
      "Epoch 26/100\n",
      "242/242 [==============================] - 0s 733us/step - loss: 0.5639 - val_loss: 0.8304\n"
     ]
    },
    {
     "name": "stdout",
     "output_type": "stream",
     "text": [
      "Epoch 27/100\n",
      "242/242 [==============================] - 0s 723us/step - loss: 0.5555 - val_loss: 0.8810\n",
      "Epoch 28/100\n",
      "242/242 [==============================] - 0s 752us/step - loss: 0.5477 - val_loss: 0.9624\n",
      "Epoch 29/100\n",
      "242/242 [==============================] - 0s 712us/step - loss: 0.5401 - val_loss: 0.9578\n",
      "Epoch 30/100\n",
      "242/242 [==============================] - 0s 732us/step - loss: 0.5332 - val_loss: 1.0158\n",
      "121/121 [==============================] - 0s 403us/step - loss: 0.5490\n",
      "Epoch 1/100\n",
      "242/242 [==============================] - 0s 1ms/step - loss: 2.9218 - val_loss: 4.3285\n",
      "Epoch 2/100\n",
      "242/242 [==============================] - 0s 717us/step - loss: 1.2869 - val_loss: 2.8653\n",
      "Epoch 3/100\n",
      "242/242 [==============================] - 0s 728us/step - loss: 0.9733 - val_loss: 1.8260\n",
      "Epoch 4/100\n",
      "242/242 [==============================] - 0s 715us/step - loss: 0.8526 - val_loss: 1.2974\n",
      "Epoch 5/100\n",
      "242/242 [==============================] - 0s 728us/step - loss: 0.7870 - val_loss: 0.9606\n",
      "Epoch 6/100\n",
      "242/242 [==============================] - 0s 673us/step - loss: 0.7448 - val_loss: 0.7924\n",
      "Epoch 7/100\n",
      "242/242 [==============================] - 0s 726us/step - loss: 0.7141 - val_loss: 0.7158\n",
      "Epoch 8/100\n",
      "242/242 [==============================] - 0s 757us/step - loss: 0.6902 - val_loss: 0.6616\n",
      "Epoch 9/100\n",
      "242/242 [==============================] - 0s 732us/step - loss: 0.6699 - val_loss: 0.6363\n",
      "Epoch 10/100\n",
      "242/242 [==============================] - 0s 718us/step - loss: 0.6525 - val_loss: 0.6160\n",
      "Epoch 11/100\n",
      "242/242 [==============================] - 0s 704us/step - loss: 0.6364 - val_loss: 0.5999\n",
      "Epoch 12/100\n",
      "242/242 [==============================] - 0s 715us/step - loss: 0.6216 - val_loss: 0.5855\n",
      "Epoch 13/100\n",
      "242/242 [==============================] - 0s 733us/step - loss: 0.6084 - val_loss: 0.5729\n",
      "Epoch 14/100\n",
      "242/242 [==============================] - 0s 760us/step - loss: 0.5959 - val_loss: 0.5615\n",
      "Epoch 15/100\n",
      "242/242 [==============================] - 0s 712us/step - loss: 0.5844 - val_loss: 0.5509\n",
      "Epoch 16/100\n",
      "242/242 [==============================] - 0s 757us/step - loss: 0.5739 - val_loss: 0.5399\n",
      "Epoch 17/100\n",
      "242/242 [==============================] - 0s 735us/step - loss: 0.5641 - val_loss: 0.5301\n",
      "Epoch 18/100\n",
      "242/242 [==============================] - 0s 756us/step - loss: 0.5547 - val_loss: 0.5210\n",
      "Epoch 19/100\n",
      "242/242 [==============================] - 0s 759us/step - loss: 0.5461 - val_loss: 0.5129\n",
      "Epoch 20/100\n",
      "242/242 [==============================] - 0s 735us/step - loss: 0.5381 - val_loss: 0.5062\n",
      "Epoch 21/100\n",
      "242/242 [==============================] - 0s 705us/step - loss: 0.5305 - val_loss: 0.4992\n",
      "Epoch 22/100\n",
      "242/242 [==============================] - 0s 704us/step - loss: 0.5234 - val_loss: 0.4932\n",
      "Epoch 23/100\n",
      "242/242 [==============================] - 0s 731us/step - loss: 0.5169 - val_loss: 0.4875\n",
      "Epoch 24/100\n",
      "242/242 [==============================] - 0s 724us/step - loss: 0.5106 - val_loss: 0.4857\n",
      "Epoch 25/100\n",
      "242/242 [==============================] - 0s 734us/step - loss: 0.5050 - val_loss: 0.4783\n",
      "Epoch 26/100\n",
      "242/242 [==============================] - 0s 709us/step - loss: 0.4996 - val_loss: 0.4746\n",
      "Epoch 27/100\n",
      "242/242 [==============================] - 0s 715us/step - loss: 0.4945 - val_loss: 0.4700\n",
      "Epoch 28/100\n",
      "242/242 [==============================] - 0s 727us/step - loss: 0.4897 - val_loss: 0.4676\n",
      "Epoch 29/100\n",
      "242/242 [==============================] - 0s 720us/step - loss: 0.4851 - val_loss: 0.4687\n",
      "Epoch 30/100\n",
      "242/242 [==============================] - 0s 700us/step - loss: 0.4810 - val_loss: 0.4618\n",
      "Epoch 31/100\n",
      "242/242 [==============================] - 0s 726us/step - loss: 0.4771 - val_loss: 0.4607\n",
      "Epoch 32/100\n",
      "242/242 [==============================] - 0s 698us/step - loss: 0.4732 - val_loss: 0.4630\n",
      "Epoch 33/100\n",
      "242/242 [==============================] - 0s 726us/step - loss: 0.4697 - val_loss: 0.4583\n",
      "Epoch 34/100\n",
      "242/242 [==============================] - 0s 706us/step - loss: 0.4663 - val_loss: 0.4643\n",
      "Epoch 35/100\n",
      "242/242 [==============================] - 0s 708us/step - loss: 0.4633 - val_loss: 0.4591\n",
      "Epoch 36/100\n",
      "242/242 [==============================] - 0s 692us/step - loss: 0.4603 - val_loss: 0.4562\n",
      "Epoch 37/100\n",
      "242/242 [==============================] - 0s 681us/step - loss: 0.4576 - val_loss: 0.4539\n",
      "Epoch 38/100\n",
      "242/242 [==============================] - 0s 722us/step - loss: 0.4550 - val_loss: 0.4547\n",
      "Epoch 39/100\n",
      "242/242 [==============================] - 0s 733us/step - loss: 0.4525 - val_loss: 0.4534\n",
      "Epoch 40/100\n",
      "242/242 [==============================] - 0s 763us/step - loss: 0.4502 - val_loss: 0.4523\n",
      "Epoch 41/100\n",
      "242/242 [==============================] - 0s 677us/step - loss: 0.4478 - val_loss: 0.4613\n",
      "Epoch 42/100\n",
      "242/242 [==============================] - 0s 696us/step - loss: 0.4460 - val_loss: 0.4593\n",
      "Epoch 43/100\n",
      "242/242 [==============================] - 0s 708us/step - loss: 0.4438 - val_loss: 0.4497\n",
      "Epoch 44/100\n",
      "242/242 [==============================] - 0s 732us/step - loss: 0.4420 - val_loss: 0.4544\n",
      "Epoch 45/100\n",
      "242/242 [==============================] - 0s 712us/step - loss: 0.4402 - val_loss: 0.4533\n",
      "Epoch 46/100\n",
      "242/242 [==============================] - 0s 721us/step - loss: 0.4383 - val_loss: 0.4497\n",
      "Epoch 47/100\n",
      "242/242 [==============================] - 0s 740us/step - loss: 0.4367 - val_loss: 0.4470\n",
      "Epoch 48/100\n",
      "242/242 [==============================] - 0s 737us/step - loss: 0.4352 - val_loss: 0.4470\n",
      "Epoch 49/100\n",
      "242/242 [==============================] - 0s 682us/step - loss: 0.4336 - val_loss: 0.4532\n",
      "Epoch 50/100\n",
      "242/242 [==============================] - 0s 701us/step - loss: 0.4322 - val_loss: 0.4549\n",
      "Epoch 51/100\n",
      "242/242 [==============================] - 0s 705us/step - loss: 0.4307 - val_loss: 0.4534\n",
      "Epoch 52/100\n",
      "242/242 [==============================] - 0s 721us/step - loss: 0.4295 - val_loss: 0.4594\n",
      "Epoch 53/100\n",
      "242/242 [==============================] - 0s 787us/step - loss: 0.4281 - val_loss: 0.4535\n",
      "Epoch 54/100\n",
      "242/242 [==============================] - 0s 725us/step - loss: 0.4269 - val_loss: 0.4484\n",
      "Epoch 55/100\n",
      "242/242 [==============================] - 0s 735us/step - loss: 0.4255 - val_loss: 0.4489\n",
      "Epoch 56/100\n",
      "242/242 [==============================] - 0s 727us/step - loss: 0.4244 - val_loss: 0.4465\n",
      "Epoch 57/100\n",
      "242/242 [==============================] - 0s 750us/step - loss: 0.4232 - val_loss: 0.4489\n",
      "Epoch 58/100\n",
      "242/242 [==============================] - 0s 732us/step - loss: 0.4221 - val_loss: 0.4514\n",
      "Epoch 59/100\n",
      "242/242 [==============================] - 0s 726us/step - loss: 0.4209 - val_loss: 0.4499\n",
      "Epoch 60/100\n",
      "242/242 [==============================] - 0s 704us/step - loss: 0.4198 - val_loss: 0.4441\n",
      "Epoch 61/100\n",
      "242/242 [==============================] - 0s 693us/step - loss: 0.4188 - val_loss: 0.4476\n",
      "Epoch 62/100\n",
      "242/242 [==============================] - 0s 759us/step - loss: 0.4178 - val_loss: 0.4501\n",
      "Epoch 63/100\n",
      "242/242 [==============================] - 0s 703us/step - loss: 0.4170 - val_loss: 0.4432\n",
      "Epoch 64/100\n",
      "242/242 [==============================] - 0s 733us/step - loss: 0.4160 - val_loss: 0.4385\n",
      "Epoch 65/100\n",
      "242/242 [==============================] - 0s 711us/step - loss: 0.4151 - val_loss: 0.4381\n",
      "Epoch 66/100\n",
      "242/242 [==============================] - 0s 703us/step - loss: 0.4141 - val_loss: 0.4440\n",
      "Epoch 67/100\n",
      "242/242 [==============================] - 0s 748us/step - loss: 0.4134 - val_loss: 0.4354\n",
      "Epoch 68/100\n",
      "242/242 [==============================] - 0s 704us/step - loss: 0.4126 - val_loss: 0.4381\n",
      "Epoch 69/100\n",
      "242/242 [==============================] - 0s 740us/step - loss: 0.4117 - val_loss: 0.4341\n",
      "Epoch 70/100\n",
      "242/242 [==============================] - 0s 737us/step - loss: 0.4109 - val_loss: 0.4395\n",
      "Epoch 71/100\n",
      "242/242 [==============================] - 0s 710us/step - loss: 0.4101 - val_loss: 0.4340\n",
      "Epoch 72/100\n",
      "242/242 [==============================] - 0s 727us/step - loss: 0.4094 - val_loss: 0.4407\n",
      "Epoch 73/100\n",
      "242/242 [==============================] - 0s 726us/step - loss: 0.4084 - val_loss: 0.4309\n",
      "Epoch 74/100\n",
      "242/242 [==============================] - 0s 755us/step - loss: 0.4079 - val_loss: 0.4328\n",
      "Epoch 75/100\n"
     ]
    },
    {
     "name": "stdout",
     "output_type": "stream",
     "text": [
      "242/242 [==============================] - 0s 760us/step - loss: 0.4071 - val_loss: 0.4349\n",
      "Epoch 76/100\n",
      "242/242 [==============================] - 0s 746us/step - loss: 0.4063 - val_loss: 0.4346\n",
      "Epoch 77/100\n",
      "242/242 [==============================] - 0s 733us/step - loss: 0.4056 - val_loss: 0.4339\n",
      "Epoch 78/100\n",
      "242/242 [==============================] - 0s 731us/step - loss: 0.4049 - val_loss: 0.4333\n",
      "Epoch 79/100\n",
      "242/242 [==============================] - 0s 770us/step - loss: 0.4042 - val_loss: 0.4281\n",
      "Epoch 80/100\n",
      "242/242 [==============================] - 0s 777us/step - loss: 0.4035 - val_loss: 0.4354\n",
      "Epoch 81/100\n",
      "242/242 [==============================] - 0s 775us/step - loss: 0.4029 - val_loss: 0.4322\n",
      "Epoch 82/100\n",
      "242/242 [==============================] - 0s 707us/step - loss: 0.4022 - val_loss: 0.4299\n",
      "Epoch 83/100\n",
      "242/242 [==============================] - 0s 745us/step - loss: 0.4015 - val_loss: 0.4292\n",
      "Epoch 84/100\n",
      "242/242 [==============================] - 0s 729us/step - loss: 0.4008 - val_loss: 0.4342\n",
      "Epoch 85/100\n",
      "242/242 [==============================] - 0s 754us/step - loss: 0.4000 - val_loss: 0.4219\n",
      "Epoch 86/100\n",
      "242/242 [==============================] - 0s 795us/step - loss: 0.3995 - val_loss: 0.4290\n",
      "Epoch 87/100\n",
      "242/242 [==============================] - 0s 790us/step - loss: 0.3987 - val_loss: 0.4329\n",
      "Epoch 88/100\n",
      "242/242 [==============================] - 0s 774us/step - loss: 0.3982 - val_loss: 0.4306\n",
      "Epoch 89/100\n",
      "242/242 [==============================] - 0s 776us/step - loss: 0.3975 - val_loss: 0.4337\n",
      "Epoch 90/100\n",
      "242/242 [==============================] - 0s 839us/step - loss: 0.3968 - val_loss: 0.4251\n",
      "Epoch 91/100\n",
      "242/242 [==============================] - 0s 764us/step - loss: 0.3962 - val_loss: 0.4237\n",
      "Epoch 92/100\n",
      "242/242 [==============================] - 0s 765us/step - loss: 0.3957 - val_loss: 0.4191\n",
      "Epoch 93/100\n",
      "242/242 [==============================] - 0s 686us/step - loss: 0.3950 - val_loss: 0.4238\n",
      "Epoch 94/100\n",
      "242/242 [==============================] - 0s 707us/step - loss: 0.3943 - val_loss: 0.4203\n",
      "Epoch 95/100\n",
      "242/242 [==============================] - 0s 723us/step - loss: 0.3937 - val_loss: 0.4209\n",
      "Epoch 96/100\n",
      "242/242 [==============================] - 0s 775us/step - loss: 0.3932 - val_loss: 0.4215\n",
      "Epoch 97/100\n",
      "242/242 [==============================] - 0s 742us/step - loss: 0.3926 - val_loss: 0.4251\n",
      "Epoch 98/100\n",
      "242/242 [==============================] - 0s 781us/step - loss: 0.3920 - val_loss: 0.4161\n",
      "Epoch 99/100\n",
      "242/242 [==============================] - 0s 727us/step - loss: 0.3915 - val_loss: 0.4199\n",
      "Epoch 100/100\n",
      "242/242 [==============================] - 0s 722us/step - loss: 0.3910 - val_loss: 0.4242\n",
      "  1/121 [..............................] - ETA: 0s - loss: 0.4537WARNING:tensorflow:Callbacks method `on_test_batch_end` is slow compared to the batch time (batch time: 0.0000s vs `on_test_batch_end` time: 0.0010s). Check your callbacks.\n",
      "121/121 [==============================] - 0s 439us/step - loss: 0.3897\n",
      "Epoch 1/100\n",
      "242/242 [==============================] - 0s 971us/step - loss: 2.1013 - val_loss: 5.2312\n",
      "Epoch 2/100\n",
      "242/242 [==============================] - 0s 631us/step - loss: 0.8603 - val_loss: 26.5013\n",
      "Epoch 3/100\n",
      "242/242 [==============================] - 0s 589us/step - loss: 0.7494 - val_loss: 40.6122\n",
      "Epoch 4/100\n",
      "242/242 [==============================] - 0s 616us/step - loss: 1.0991 - val_loss: 135.6917\n",
      "Epoch 5/100\n",
      "242/242 [==============================] - 0s 607us/step - loss: 1.3388 - val_loss: 237.1149\n",
      "Epoch 6/100\n",
      "242/242 [==============================] - 0s 593us/step - loss: 4.6734 - val_loss: 506.5569\n",
      "Epoch 7/100\n",
      "242/242 [==============================] - 0s 596us/step - loss: 5.0735 - val_loss: 1165.5585\n",
      "Epoch 8/100\n",
      "242/242 [==============================] - 0s 624us/step - loss: 19.0953 - val_loss: 2646.9749\n",
      "Epoch 9/100\n",
      "242/242 [==============================] - 0s 586us/step - loss: 28.1002 - val_loss: 5780.9756\n",
      "Epoch 10/100\n",
      "242/242 [==============================] - 0s 587us/step - loss: 97.2631 - val_loss: 13751.4170\n",
      "Epoch 11/100\n",
      "242/242 [==============================] - 0s 579us/step - loss: 159.4888 - val_loss: 31633.9141\n",
      "121/121 [==============================] - 0s 386us/step - loss: 81.5957\n",
      "Epoch 1/100\n",
      "242/242 [==============================] - 0s 857us/step - loss: 1.4769 - val_loss: 14.0701\n",
      "Epoch 2/100\n",
      "242/242 [==============================] - 0s 584us/step - loss: 0.5769 - val_loss: 16.8410\n",
      "Epoch 3/100\n",
      "242/242 [==============================] - 0s 596us/step - loss: 0.5493 - val_loss: 19.0635\n",
      "Epoch 4/100\n",
      "242/242 [==============================] - 0s 574us/step - loss: 0.5365 - val_loss: 19.7342\n",
      "Epoch 5/100\n",
      "242/242 [==============================] - 0s 595us/step - loss: 0.5272 - val_loss: 20.0593\n",
      "Epoch 6/100\n",
      "242/242 [==============================] - 0s 568us/step - loss: 0.5202 - val_loss: 20.2376\n",
      "Epoch 7/100\n",
      "242/242 [==============================] - 0s 593us/step - loss: 0.5153 - val_loss: 20.0296\n",
      "Epoch 8/100\n",
      "242/242 [==============================] - 0s 587us/step - loss: 0.5113 - val_loss: 20.3793\n",
      "Epoch 9/100\n",
      "242/242 [==============================] - 0s 579us/step - loss: 0.5078 - val_loss: 20.1103\n",
      "Epoch 10/100\n",
      "242/242 [==============================] - 0s 583us/step - loss: 0.5063 - val_loss: 18.4892\n",
      "Epoch 11/100\n",
      "242/242 [==============================] - 0s 586us/step - loss: 0.5056 - val_loss: 19.4013\n",
      "121/121 [==============================] - 0s 353us/step - loss: 0.9640\n",
      "Epoch 1/100\n",
      "242/242 [==============================] - 0s 945us/step - loss: 2.0333 - val_loss: 13.7380\n",
      "Epoch 2/100\n",
      "242/242 [==============================] - 0s 609us/step - loss: 0.6240 - val_loss: 10.0594\n",
      "Epoch 3/100\n",
      "242/242 [==============================] - 0s 542us/step - loss: 0.7131 - val_loss: 41.2693\n",
      "Epoch 4/100\n",
      "242/242 [==============================] - 0s 616us/step - loss: 1.1121 - val_loss: 74.9048\n",
      "Epoch 5/100\n",
      "242/242 [==============================] - 0s 602us/step - loss: 0.9784 - val_loss: 205.5686\n",
      "Epoch 6/100\n",
      "242/242 [==============================] - 0s 577us/step - loss: 1.9726 - val_loss: 246.7374\n",
      "Epoch 7/100\n",
      "242/242 [==============================] - 0s 579us/step - loss: 2.5115 - val_loss: 388.8352\n",
      "Epoch 8/100\n",
      "242/242 [==============================] - 0s 567us/step - loss: 5.9673 - val_loss: 620.5344\n",
      "Epoch 9/100\n",
      "242/242 [==============================] - 0s 580us/step - loss: 6.9990 - val_loss: 919.7242\n",
      "Epoch 10/100\n",
      "242/242 [==============================] - 0s 586us/step - loss: 4.1843 - val_loss: 1082.5527\n",
      "Epoch 11/100\n",
      "242/242 [==============================] - 0s 582us/step - loss: 21.4948 - val_loss: 1471.0372\n",
      "Epoch 12/100\n",
      "242/242 [==============================] - 0s 587us/step - loss: 10.2613 - val_loss: 1957.3094\n",
      "121/121 [==============================] - 0s 384us/step - loss: 2.0491\n",
      "Epoch 1/100\n",
      "242/242 [==============================] - 0s 982us/step - loss: 1.2457 - val_loss: 22.8634\n",
      "Epoch 2/100\n",
      "242/242 [==============================] - 0s 625us/step - loss: 1.1255 - val_loss: 36.5661\n",
      "Epoch 3/100\n",
      "242/242 [==============================] - 0s 618us/step - loss: 0.9314 - val_loss: 304.7440\n",
      "Epoch 4/100\n",
      "242/242 [==============================] - 0s 637us/step - loss: 0.8113 - val_loss: 71.4702\n",
      "Epoch 5/100\n",
      "242/242 [==============================] - 0s 595us/step - loss: 0.8365 - val_loss: 312.6021\n",
      "Epoch 6/100\n",
      "242/242 [==============================] - 0s 614us/step - loss: 2.8876 - val_loss: 0.4035\n",
      "Epoch 7/100\n",
      "242/242 [==============================] - 0s 652us/step - loss: 0.4331 - val_loss: 0.3815\n",
      "Epoch 8/100\n",
      "242/242 [==============================] - 0s 594us/step - loss: 0.3841 - val_loss: 0.3614\n",
      "Epoch 9/100\n",
      "242/242 [==============================] - 0s 604us/step - loss: 0.3771 - val_loss: 0.3613\n",
      "Epoch 10/100\n",
      "242/242 [==============================] - 0s 605us/step - loss: 0.3676 - val_loss: 0.3455\n",
      "Epoch 11/100\n",
      "242/242 [==============================] - 0s 594us/step - loss: 0.3700 - val_loss: 0.3469\n",
      "Epoch 12/100\n",
      "242/242 [==============================] - 0s 610us/step - loss: 0.3623 - val_loss: 0.3554\n",
      "Epoch 13/100\n",
      "242/242 [==============================] - 0s 610us/step - loss: 0.3548 - val_loss: 0.3456\n",
      "Epoch 14/100\n"
     ]
    },
    {
     "name": "stdout",
     "output_type": "stream",
     "text": [
      "242/242 [==============================] - 0s 615us/step - loss: 0.3603 - val_loss: 0.3430\n",
      "Epoch 15/100\n",
      "242/242 [==============================] - 0s 613us/step - loss: 0.3515 - val_loss: 0.3427\n",
      "Epoch 16/100\n",
      "242/242 [==============================] - 0s 604us/step - loss: 0.3531 - val_loss: 0.3421\n",
      "Epoch 17/100\n",
      "242/242 [==============================] - 0s 620us/step - loss: 0.3472 - val_loss: 0.3402\n",
      "Epoch 18/100\n",
      "242/242 [==============================] - 0s 621us/step - loss: 0.3515 - val_loss: 0.3426\n",
      "Epoch 19/100\n",
      "242/242 [==============================] - 0s 577us/step - loss: 0.3628 - val_loss: 0.3416\n",
      "Epoch 20/100\n",
      "242/242 [==============================] - 0s 633us/step - loss: 0.3443 - val_loss: 0.3385\n",
      "Epoch 21/100\n",
      "242/242 [==============================] - 0s 613us/step - loss: 0.3431 - val_loss: 0.3428\n",
      "Epoch 22/100\n",
      "242/242 [==============================] - 0s 593us/step - loss: 0.3416 - val_loss: 0.3400\n",
      "Epoch 23/100\n",
      "242/242 [==============================] - 0s 635us/step - loss: 0.3398 - val_loss: 0.3584\n",
      "Epoch 24/100\n",
      "242/242 [==============================] - 0s 613us/step - loss: 0.3413 - val_loss: 0.3509\n",
      "Epoch 25/100\n",
      "242/242 [==============================] - 0s 578us/step - loss: 0.3375 - val_loss: 0.3590\n",
      "Epoch 26/100\n",
      "242/242 [==============================] - 0s 608us/step - loss: 0.3367 - val_loss: 0.3456\n",
      "Epoch 27/100\n",
      "242/242 [==============================] - 0s 601us/step - loss: 0.3369 - val_loss: 0.3546\n",
      "Epoch 28/100\n",
      "242/242 [==============================] - 0s 662us/step - loss: 0.3367 - val_loss: 0.3542\n",
      "Epoch 29/100\n",
      "242/242 [==============================] - 0s 635us/step - loss: 0.3350 - val_loss: 0.3522\n",
      "Epoch 30/100\n",
      "242/242 [==============================] - 0s 666us/step - loss: 0.3347 - val_loss: 0.3408\n",
      "121/121 [==============================] - 0s 428us/step - loss: 0.3580\n",
      "Epoch 1/100\n",
      "242/242 [==============================] - 0s 995us/step - loss: 0.8950 - val_loss: 3.0949\n",
      "Epoch 2/100\n",
      "242/242 [==============================] - 0s 650us/step - loss: 0.5223 - val_loss: 0.4712\n",
      "Epoch 3/100\n",
      "242/242 [==============================] - 0s 628us/step - loss: 0.4610 - val_loss: 0.4231\n",
      "Epoch 4/100\n",
      "242/242 [==============================] - 0s 616us/step - loss: 0.4356 - val_loss: 0.4021\n",
      "Epoch 5/100\n",
      "242/242 [==============================] - 0s 592us/step - loss: 0.4204 - val_loss: 0.4323\n",
      "Epoch 6/100\n",
      "242/242 [==============================] - 0s 615us/step - loss: 0.4116 - val_loss: 0.6513\n",
      "Epoch 7/100\n",
      "242/242 [==============================] - 0s 589us/step - loss: 0.4057 - val_loss: 0.8508\n",
      "Epoch 8/100\n",
      "242/242 [==============================] - 0s 620us/step - loss: 0.4000 - val_loss: 1.0201\n",
      "Epoch 9/100\n",
      "242/242 [==============================] - 0s 629us/step - loss: 0.3954 - val_loss: 1.1757\n",
      "Epoch 10/100\n",
      "242/242 [==============================] - 0s 619us/step - loss: 0.3924 - val_loss: 0.8698\n",
      "Epoch 11/100\n",
      "242/242 [==============================] - 0s 599us/step - loss: 0.3877 - val_loss: 0.9377\n",
      "Epoch 12/100\n",
      "242/242 [==============================] - 0s 588us/step - loss: 0.3839 - val_loss: 1.0793\n",
      "Epoch 13/100\n",
      "242/242 [==============================] - 0s 607us/step - loss: 0.3820 - val_loss: 1.1923\n",
      "Epoch 14/100\n",
      "242/242 [==============================] - 0s 626us/step - loss: 0.3805 - val_loss: 1.1186\n",
      "121/121 [==============================] - 0s 406us/step - loss: 0.4037\n",
      "Epoch 1/100\n",
      "242/242 [==============================] - 0s 1ms/step - loss: 0.9047 - val_loss: 1.2874\n",
      "Epoch 2/100\n",
      "242/242 [==============================] - 0s 642us/step - loss: 0.4870 - val_loss: 0.7809\n",
      "Epoch 3/100\n",
      "242/242 [==============================] - 0s 687us/step - loss: 0.4394 - val_loss: 1.8555\n",
      "Epoch 4/100\n",
      "242/242 [==============================] - 0s 618us/step - loss: 0.5436 - val_loss: 18.7095\n",
      "Epoch 5/100\n",
      "242/242 [==============================] - 0s 644us/step - loss: 0.5247 - val_loss: 78.6924\n",
      "Epoch 6/100\n",
      "242/242 [==============================] - 0s 713us/step - loss: 0.8047 - val_loss: 0.4362\n",
      "Epoch 7/100\n",
      "242/242 [==============================] - 0s 701us/step - loss: 0.4359 - val_loss: 0.3913\n",
      "Epoch 8/100\n",
      "242/242 [==============================] - 0s 636us/step - loss: 0.4187 - val_loss: 0.4218\n",
      "Epoch 9/100\n",
      "242/242 [==============================] - 0s 683us/step - loss: 0.4075 - val_loss: 0.4237\n",
      "Epoch 10/100\n",
      "242/242 [==============================] - 0s 595us/step - loss: 0.4053 - val_loss: 0.3656\n",
      "Epoch 11/100\n",
      "242/242 [==============================] - 0s 646us/step - loss: 0.3912 - val_loss: 0.4488\n",
      "Epoch 12/100\n",
      "242/242 [==============================] - 0s 660us/step - loss: 0.3900 - val_loss: 0.3706\n",
      "Epoch 13/100\n",
      "242/242 [==============================] - 0s 645us/step - loss: 0.3853 - val_loss: 0.3624\n",
      "Epoch 14/100\n",
      "242/242 [==============================] - 0s 663us/step - loss: 0.3828 - val_loss: 0.4259\n",
      "Epoch 15/100\n",
      "242/242 [==============================] - 0s 617us/step - loss: 0.3798 - val_loss: 0.3565\n",
      "Epoch 16/100\n",
      "242/242 [==============================] - 0s 616us/step - loss: 0.3770 - val_loss: 0.4250\n",
      "Epoch 17/100\n",
      "242/242 [==============================] - 0s 605us/step - loss: 0.3741 - val_loss: 0.3505\n",
      "Epoch 18/100\n",
      "242/242 [==============================] - 0s 609us/step - loss: 0.3754 - val_loss: 0.3620\n",
      "Epoch 19/100\n",
      "242/242 [==============================] - 0s 628us/step - loss: 0.3701 - val_loss: 0.4285\n",
      "Epoch 20/100\n",
      "242/242 [==============================] - 0s 658us/step - loss: 0.3671 - val_loss: 0.3458\n",
      "Epoch 21/100\n",
      "242/242 [==============================] - 0s 622us/step - loss: 0.3714 - val_loss: 0.3817\n",
      "Epoch 22/100\n",
      "242/242 [==============================] - 0s 657us/step - loss: 0.3679 - val_loss: 0.3408\n",
      "Epoch 23/100\n",
      "242/242 [==============================] - 0s 630us/step - loss: 0.3623 - val_loss: 0.3550\n",
      "Epoch 24/100\n",
      "242/242 [==============================] - 0s 638us/step - loss: 0.3606 - val_loss: 0.4301\n",
      "Epoch 25/100\n",
      "242/242 [==============================] - 0s 650us/step - loss: 0.3602 - val_loss: 0.3363\n",
      "Epoch 26/100\n",
      "242/242 [==============================] - 0s 639us/step - loss: 0.3578 - val_loss: 0.3482\n",
      "Epoch 27/100\n",
      "242/242 [==============================] - 0s 671us/step - loss: 0.3590 - val_loss: 0.4181\n",
      "Epoch 28/100\n",
      "242/242 [==============================] - 0s 681us/step - loss: 0.3566 - val_loss: 0.3341\n",
      "Epoch 29/100\n",
      "242/242 [==============================] - 0s 680us/step - loss: 0.3666 - val_loss: 0.3680\n",
      "Epoch 30/100\n",
      "242/242 [==============================] - 0s 613us/step - loss: 0.3677 - val_loss: 0.3554\n",
      "Epoch 31/100\n",
      "242/242 [==============================] - 0s 632us/step - loss: 0.3514 - val_loss: 0.3432\n",
      "Epoch 32/100\n",
      "242/242 [==============================] - 0s 650us/step - loss: 0.3497 - val_loss: 0.4889\n",
      "Epoch 33/100\n",
      "242/242 [==============================] - 0s 635us/step - loss: 0.3501 - val_loss: 0.3439\n",
      "Epoch 34/100\n",
      "242/242 [==============================] - 0s 670us/step - loss: 0.3471 - val_loss: 0.4453\n",
      "Epoch 35/100\n",
      "242/242 [==============================] - 0s 644us/step - loss: 0.3491 - val_loss: 0.3286\n",
      "Epoch 36/100\n",
      "242/242 [==============================] - 0s 621us/step - loss: 0.3448 - val_loss: 0.3491\n",
      "Epoch 37/100\n",
      "242/242 [==============================] - 0s 642us/step - loss: 0.3439 - val_loss: 0.3309\n",
      "Epoch 38/100\n",
      "242/242 [==============================] - 0s 655us/step - loss: 0.3458 - val_loss: 0.3275\n",
      "Epoch 39/100\n",
      "242/242 [==============================] - 0s 633us/step - loss: 0.3458 - val_loss: 0.3267\n",
      "Epoch 40/100\n",
      "242/242 [==============================] - 0s 678us/step - loss: 0.3423 - val_loss: 0.4576\n",
      "Epoch 41/100\n",
      "242/242 [==============================] - 0s 649us/step - loss: 0.3404 - val_loss: 0.3242\n",
      "Epoch 42/100\n",
      "242/242 [==============================] - 0s 616us/step - loss: 0.3376 - val_loss: 0.6091\n",
      "Epoch 43/100\n",
      "242/242 [==============================] - 0s 643us/step - loss: 0.3447 - val_loss: 0.3217\n",
      "Epoch 44/100\n",
      "242/242 [==============================] - 0s 630us/step - loss: 0.3397 - val_loss: 0.3504\n",
      "Epoch 45/100\n",
      "242/242 [==============================] - 0s 646us/step - loss: 0.3373 - val_loss: 0.3561\n",
      "Epoch 46/100\n",
      "242/242 [==============================] - 0s 693us/step - loss: 0.3387 - val_loss: 0.4243\n",
      "Epoch 47/100\n"
     ]
    },
    {
     "name": "stdout",
     "output_type": "stream",
     "text": [
      "242/242 [==============================] - 0s 638us/step - loss: 0.3336 - val_loss: 0.3171\n",
      "Epoch 48/100\n",
      "242/242 [==============================] - 0s 627us/step - loss: 0.3421 - val_loss: 0.3261\n",
      "Epoch 49/100\n",
      "242/242 [==============================] - 0s 615us/step - loss: 0.3408 - val_loss: 0.4461\n",
      "Epoch 50/100\n",
      "242/242 [==============================] - 0s 626us/step - loss: 0.3451 - val_loss: 0.3319\n",
      "Epoch 51/100\n",
      "242/242 [==============================] - 0s 669us/step - loss: 0.3329 - val_loss: 0.5067\n",
      "Epoch 52/100\n",
      "242/242 [==============================] - 0s 638us/step - loss: 0.3329 - val_loss: 0.3640\n",
      "Epoch 53/100\n",
      "242/242 [==============================] - 0s 678us/step - loss: 0.3325 - val_loss: 0.3154\n",
      "Epoch 54/100\n",
      "242/242 [==============================] - 0s 625us/step - loss: 0.3391 - val_loss: 0.3790\n",
      "Epoch 55/100\n",
      "242/242 [==============================] - 0s 613us/step - loss: 0.3477 - val_loss: 0.3139\n",
      "Epoch 56/100\n",
      "242/242 [==============================] - 0s 636us/step - loss: 0.3361 - val_loss: 0.3709\n",
      "Epoch 57/100\n",
      "242/242 [==============================] - 0s 603us/step - loss: 0.3346 - val_loss: 0.3641\n",
      "Epoch 58/100\n",
      "242/242 [==============================] - 0s 652us/step - loss: 0.3300 - val_loss: 0.3207\n",
      "Epoch 59/100\n",
      "242/242 [==============================] - 0s 629us/step - loss: 0.3252 - val_loss: 0.4157\n",
      "Epoch 60/100\n",
      "242/242 [==============================] - 0s 611us/step - loss: 0.3298 - val_loss: 0.3098\n",
      "Epoch 61/100\n",
      "242/242 [==============================] - 0s 614us/step - loss: 0.3374 - val_loss: 0.3260\n",
      "Epoch 62/100\n",
      "242/242 [==============================] - 0s 611us/step - loss: 0.3248 - val_loss: 0.3305\n",
      "Epoch 63/100\n",
      "242/242 [==============================] - 0s 621us/step - loss: 0.3290 - val_loss: 0.3103\n",
      "Epoch 64/100\n",
      "242/242 [==============================] - 0s 588us/step - loss: 0.3241 - val_loss: 0.4051\n",
      "Epoch 65/100\n",
      "242/242 [==============================] - 0s 635us/step - loss: 0.3229 - val_loss: 0.3067\n",
      "Epoch 66/100\n",
      "242/242 [==============================] - 0s 641us/step - loss: 0.3364 - val_loss: 0.3350\n",
      "Epoch 67/100\n",
      "242/242 [==============================] - 0s 651us/step - loss: 0.3277 - val_loss: 0.3099\n",
      "Epoch 68/100\n",
      "242/242 [==============================] - 0s 668us/step - loss: 0.3236 - val_loss: 0.3082\n",
      "Epoch 69/100\n",
      "242/242 [==============================] - 0s 643us/step - loss: 0.3209 - val_loss: 0.3138\n",
      "Epoch 70/100\n",
      "242/242 [==============================] - 0s 611us/step - loss: 0.3197 - val_loss: 0.4052\n",
      "Epoch 71/100\n",
      "242/242 [==============================] - 0s 676us/step - loss: 0.3253 - val_loss: 0.3043\n",
      "Epoch 72/100\n",
      "242/242 [==============================] - 0s 647us/step - loss: 0.3206 - val_loss: 0.3432\n",
      "Epoch 73/100\n",
      "242/242 [==============================] - 0s 640us/step - loss: 0.3318 - val_loss: 0.3366\n",
      "Epoch 74/100\n",
      "242/242 [==============================] - 0s 616us/step - loss: 0.3319 - val_loss: 0.3071\n",
      "Epoch 75/100\n",
      "242/242 [==============================] - 0s 627us/step - loss: 0.3204 - val_loss: 0.4425\n",
      "Epoch 76/100\n",
      "242/242 [==============================] - 0s 629us/step - loss: 0.3446 - val_loss: 0.4489\n",
      "Epoch 77/100\n",
      "242/242 [==============================] - 0s 615us/step - loss: 0.3275 - val_loss: 0.3102\n",
      "Epoch 78/100\n",
      "242/242 [==============================] - 0s 647us/step - loss: 0.3202 - val_loss: 0.3665\n",
      "Epoch 79/100\n",
      "242/242 [==============================] - 0s 687us/step - loss: 0.3165 - val_loss: 0.3031\n",
      "Epoch 80/100\n",
      "242/242 [==============================] - 0s 606us/step - loss: 0.3190 - val_loss: 0.3678\n",
      "Epoch 81/100\n",
      "242/242 [==============================] - 0s 598us/step - loss: 0.3167 - val_loss: 0.3040\n",
      "Epoch 82/100\n",
      "242/242 [==============================] - 0s 620us/step - loss: 0.3169 - val_loss: 0.3673\n",
      "Epoch 83/100\n",
      "242/242 [==============================] - 0s 638us/step - loss: 0.3169 - val_loss: 0.3110\n",
      "Epoch 84/100\n",
      "242/242 [==============================] - 0s 644us/step - loss: 0.3228 - val_loss: 0.4228\n",
      "Epoch 85/100\n",
      "242/242 [==============================] - 0s 664us/step - loss: 0.3409 - val_loss: 0.3015\n",
      "Epoch 86/100\n",
      "242/242 [==============================] - 0s 627us/step - loss: 0.3148 - val_loss: 0.3384\n",
      "Epoch 87/100\n",
      "242/242 [==============================] - 0s 697us/step - loss: 0.3278 - val_loss: 0.3726\n",
      "Epoch 88/100\n",
      "242/242 [==============================] - 0s 666us/step - loss: 0.3156 - val_loss: 0.3027\n",
      "Epoch 89/100\n",
      "242/242 [==============================] - 0s 627us/step - loss: 0.3149 - val_loss: 0.4641\n",
      "Epoch 90/100\n",
      "242/242 [==============================] - 0s 632us/step - loss: 0.3171 - val_loss: 0.3008\n",
      "Epoch 91/100\n",
      "242/242 [==============================] - 0s 629us/step - loss: 0.3138 - val_loss: 0.3173\n",
      "Epoch 92/100\n",
      "242/242 [==============================] - 0s 666us/step - loss: 0.3132 - val_loss: 0.3010\n",
      "Epoch 93/100\n",
      "242/242 [==============================] - 0s 609us/step - loss: 0.3130 - val_loss: 0.3385\n",
      "Epoch 94/100\n",
      "242/242 [==============================] - 0s 598us/step - loss: 0.3123 - val_loss: 0.4416\n",
      "Epoch 95/100\n",
      "242/242 [==============================] - 0s 627us/step - loss: 0.3104 - val_loss: 0.3790\n",
      "Epoch 96/100\n",
      "242/242 [==============================] - 0s 667us/step - loss: 0.3102 - val_loss: 0.5682\n",
      "Epoch 97/100\n",
      "242/242 [==============================] - 0s 709us/step - loss: 0.3691 - val_loss: 0.3435\n",
      "Epoch 98/100\n",
      "242/242 [==============================] - 0s 654us/step - loss: 0.3194 - val_loss: 0.3789\n",
      "Epoch 99/100\n",
      "242/242 [==============================] - 0s 672us/step - loss: 0.3283 - val_loss: 0.4178\n",
      "Epoch 100/100\n",
      "242/242 [==============================] - 0s 708us/step - loss: 0.3133 - val_loss: 0.3502\n",
      "121/121 [==============================] - 0s 433us/step - loss: 0.3168\n",
      "Epoch 1/100\n",
      "242/242 [==============================] - 0s 1ms/step - loss: 4.0446 - val_loss: 7.0502\n",
      "Epoch 2/100\n",
      "242/242 [==============================] - 0s 685us/step - loss: 2.3108 - val_loss: 7.2037\n",
      "Epoch 3/100\n",
      "242/242 [==============================] - 0s 722us/step - loss: 1.6259 - val_loss: 5.5884\n",
      "Epoch 4/100\n",
      "242/242 [==============================] - 0s 716us/step - loss: 1.3383 - val_loss: 3.7640\n",
      "Epoch 5/100\n",
      "242/242 [==============================] - 0s 695us/step - loss: 1.1769 - val_loss: 2.5552\n",
      "Epoch 6/100\n",
      "242/242 [==============================] - 0s 730us/step - loss: 1.0669 - val_loss: 2.0914\n",
      "Epoch 7/100\n",
      "242/242 [==============================] - 0s 696us/step - loss: 0.9873 - val_loss: 1.6989\n",
      "Epoch 8/100\n",
      "242/242 [==============================] - 0s 696us/step - loss: 0.9225 - val_loss: 1.4173\n",
      "Epoch 9/100\n",
      "242/242 [==============================] - 0s 736us/step - loss: 0.8695 - val_loss: 1.2066\n",
      "Epoch 10/100\n",
      "242/242 [==============================] - 0s 688us/step - loss: 0.8251 - val_loss: 1.0479\n",
      "Epoch 11/100\n",
      "242/242 [==============================] - 0s 719us/step - loss: 0.7880 - val_loss: 0.9248\n",
      "Epoch 12/100\n",
      "242/242 [==============================] - 0s 790us/step - loss: 0.7571 - val_loss: 0.8264\n",
      "Epoch 13/100\n",
      "242/242 [==============================] - 0s 684us/step - loss: 0.7314 - val_loss: 0.7581\n",
      "Epoch 14/100\n",
      "242/242 [==============================] - 0s 691us/step - loss: 0.7096 - val_loss: 0.7119\n",
      "Epoch 15/100\n",
      "242/242 [==============================] - 0s 725us/step - loss: 0.6917 - val_loss: 0.6743\n",
      "Epoch 16/100\n",
      "242/242 [==============================] - 0s 727us/step - loss: 0.6760 - val_loss: 0.6514\n",
      "Epoch 17/100\n",
      "242/242 [==============================] - 0s 719us/step - loss: 0.6629 - val_loss: 0.6371\n",
      "Epoch 18/100\n",
      "242/242 [==============================] - 0s 745us/step - loss: 0.6514 - val_loss: 0.6283\n",
      "Epoch 19/100\n",
      "242/242 [==============================] - 0s 677us/step - loss: 0.6412 - val_loss: 0.6229\n",
      "Epoch 20/100\n",
      "242/242 [==============================] - 0s 748us/step - loss: 0.6322 - val_loss: 0.6221\n",
      "Epoch 21/100\n",
      "242/242 [==============================] - 0s 737us/step - loss: 0.6241 - val_loss: 0.6180\n",
      "Epoch 22/100\n",
      "242/242 [==============================] - 0s 729us/step - loss: 0.6164 - val_loss: 0.6178\n",
      "Epoch 23/100\n",
      "242/242 [==============================] - 0s 747us/step - loss: 0.6092 - val_loss: 0.6150\n",
      "Epoch 24/100\n",
      "242/242 [==============================] - 0s 689us/step - loss: 0.6023 - val_loss: 0.6175\n",
      "Epoch 25/100\n"
     ]
    },
    {
     "name": "stdout",
     "output_type": "stream",
     "text": [
      "242/242 [==============================] - 0s 709us/step - loss: 0.5962 - val_loss: 0.6112\n",
      "Epoch 26/100\n",
      "242/242 [==============================] - 0s 724us/step - loss: 0.5900 - val_loss: 0.6049\n",
      "Epoch 27/100\n",
      "242/242 [==============================] - 0s 691us/step - loss: 0.5840 - val_loss: 0.6013\n",
      "Epoch 28/100\n",
      "242/242 [==============================] - 0s 730us/step - loss: 0.5783 - val_loss: 0.5932\n",
      "Epoch 29/100\n",
      "242/242 [==============================] - 0s 679us/step - loss: 0.5726 - val_loss: 0.5873\n",
      "Epoch 30/100\n",
      "242/242 [==============================] - 0s 718us/step - loss: 0.5671 - val_loss: 0.5833\n",
      "Epoch 31/100\n",
      "242/242 [==============================] - 0s 698us/step - loss: 0.5619 - val_loss: 0.5789\n",
      "Epoch 32/100\n",
      "242/242 [==============================] - 0s 721us/step - loss: 0.5567 - val_loss: 0.5713\n",
      "Epoch 33/100\n",
      "242/242 [==============================] - 0s 685us/step - loss: 0.5516 - val_loss: 0.5664\n",
      "Epoch 34/100\n",
      "242/242 [==============================] - 0s 767us/step - loss: 0.5467 - val_loss: 0.5614\n",
      "Epoch 35/100\n",
      "242/242 [==============================] - 0s 741us/step - loss: 0.5418 - val_loss: 0.5537\n",
      "Epoch 36/100\n",
      "242/242 [==============================] - 0s 697us/step - loss: 0.5371 - val_loss: 0.5536\n",
      "Epoch 37/100\n",
      "242/242 [==============================] - 0s 709us/step - loss: 0.5326 - val_loss: 0.5419\n",
      "Epoch 38/100\n",
      "242/242 [==============================] - 0s 703us/step - loss: 0.5281 - val_loss: 0.5418\n",
      "Epoch 39/100\n",
      "242/242 [==============================] - 0s 743us/step - loss: 0.5237 - val_loss: 0.5343\n",
      "Epoch 40/100\n",
      "242/242 [==============================] - 0s 729us/step - loss: 0.5195 - val_loss: 0.5282\n",
      "Epoch 41/100\n",
      "242/242 [==============================] - 0s 725us/step - loss: 0.5153 - val_loss: 0.5252\n",
      "Epoch 42/100\n",
      "242/242 [==============================] - 0s 660us/step - loss: 0.5113 - val_loss: 0.5198\n",
      "Epoch 43/100\n",
      "242/242 [==============================] - 0s 771us/step - loss: 0.5074 - val_loss: 0.5159\n",
      "Epoch 44/100\n",
      "242/242 [==============================] - 0s 723us/step - loss: 0.5035 - val_loss: 0.5109\n",
      "Epoch 45/100\n",
      "242/242 [==============================] - 0s 692us/step - loss: 0.4997 - val_loss: 0.5071\n",
      "Epoch 46/100\n",
      "242/242 [==============================] - 0s 718us/step - loss: 0.4959 - val_loss: 0.5049\n",
      "Epoch 47/100\n",
      "242/242 [==============================] - 0s 731us/step - loss: 0.4925 - val_loss: 0.4988\n",
      "Epoch 48/100\n",
      "242/242 [==============================] - 0s 751us/step - loss: 0.4888 - val_loss: 0.4950\n",
      "Epoch 49/100\n",
      "242/242 [==============================] - 0s 735us/step - loss: 0.4853 - val_loss: 0.4902\n",
      "Epoch 50/100\n",
      "242/242 [==============================] - 0s 735us/step - loss: 0.4819 - val_loss: 0.4869\n",
      "Epoch 51/100\n",
      "242/242 [==============================] - 0s 724us/step - loss: 0.4785 - val_loss: 0.4851\n",
      "Epoch 52/100\n",
      "242/242 [==============================] - 0s 703us/step - loss: 0.4754 - val_loss: 0.4779\n",
      "Epoch 53/100\n",
      "242/242 [==============================] - 0s 737us/step - loss: 0.4721 - val_loss: 0.4730\n",
      "Epoch 54/100\n",
      "242/242 [==============================] - 0s 714us/step - loss: 0.4689 - val_loss: 0.4699\n",
      "Epoch 55/100\n",
      "242/242 [==============================] - 0s 725us/step - loss: 0.4658 - val_loss: 0.4657\n",
      "Epoch 56/100\n",
      "242/242 [==============================] - 0s 734us/step - loss: 0.4629 - val_loss: 0.4605\n",
      "Epoch 57/100\n",
      "242/242 [==============================] - 0s 731us/step - loss: 0.4600 - val_loss: 0.4583\n",
      "Epoch 58/100\n",
      "242/242 [==============================] - 0s 721us/step - loss: 0.4571 - val_loss: 0.4528\n",
      "Epoch 59/100\n",
      "242/242 [==============================] - 0s 663us/step - loss: 0.4544 - val_loss: 0.4496\n",
      "Epoch 60/100\n",
      "242/242 [==============================] - 0s 713us/step - loss: 0.4516 - val_loss: 0.4473\n",
      "Epoch 61/100\n",
      "242/242 [==============================] - 0s 703us/step - loss: 0.4492 - val_loss: 0.4437\n",
      "Epoch 62/100\n",
      "242/242 [==============================] - 0s 683us/step - loss: 0.4466 - val_loss: 0.4411\n",
      "Epoch 63/100\n",
      "242/242 [==============================] - 0s 715us/step - loss: 0.4440 - val_loss: 0.4392\n",
      "Epoch 64/100\n",
      "242/242 [==============================] - 0s 703us/step - loss: 0.4418 - val_loss: 0.4341\n",
      "Epoch 65/100\n",
      "242/242 [==============================] - 0s 743us/step - loss: 0.4394 - val_loss: 0.4314\n",
      "Epoch 66/100\n",
      "242/242 [==============================] - 0s 755us/step - loss: 0.4371 - val_loss: 0.4299\n",
      "Epoch 67/100\n",
      "242/242 [==============================] - 0s 890us/step - loss: 0.4349 - val_loss: 0.4275\n",
      "Epoch 68/100\n",
      "242/242 [==============================] - 0s 769us/step - loss: 0.4327 - val_loss: 0.4236\n",
      "Epoch 69/100\n",
      "242/242 [==============================] - 0s 749us/step - loss: 0.4306 - val_loss: 0.4217\n",
      "Epoch 70/100\n",
      "242/242 [==============================] - 0s 681us/step - loss: 0.4284 - val_loss: 0.4202\n",
      "Epoch 71/100\n",
      "242/242 [==============================] - 0s 694us/step - loss: 0.4266 - val_loss: 0.4168\n",
      "Epoch 72/100\n",
      "242/242 [==============================] - 0s 727us/step - loss: 0.4246 - val_loss: 0.4144\n",
      "Epoch 73/100\n",
      "242/242 [==============================] - 0s 733us/step - loss: 0.4227 - val_loss: 0.4125\n",
      "Epoch 74/100\n",
      "242/242 [==============================] - 0s 714us/step - loss: 0.4209 - val_loss: 0.4105\n",
      "Epoch 75/100\n",
      "242/242 [==============================] - 0s 699us/step - loss: 0.4191 - val_loss: 0.4085\n",
      "Epoch 76/100\n",
      "242/242 [==============================] - 0s 671us/step - loss: 0.4172 - val_loss: 0.4071\n",
      "Epoch 77/100\n",
      "242/242 [==============================] - 0s 681us/step - loss: 0.4157 - val_loss: 0.4048\n",
      "Epoch 78/100\n",
      "242/242 [==============================] - 0s 670us/step - loss: 0.4140 - val_loss: 0.4032\n",
      "Epoch 79/100\n",
      "242/242 [==============================] - 0s 695us/step - loss: 0.4125 - val_loss: 0.4017\n",
      "Epoch 80/100\n",
      "242/242 [==============================] - 0s 685us/step - loss: 0.4108 - val_loss: 0.4002\n",
      "Epoch 81/100\n",
      "242/242 [==============================] - 0s 716us/step - loss: 0.4094 - val_loss: 0.3986\n",
      "Epoch 82/100\n",
      "242/242 [==============================] - 0s 699us/step - loss: 0.4079 - val_loss: 0.3973\n",
      "Epoch 83/100\n",
      "242/242 [==============================] - 0s 694us/step - loss: 0.4065 - val_loss: 0.3959\n",
      "Epoch 84/100\n",
      "242/242 [==============================] - 0s 705us/step - loss: 0.4051 - val_loss: 0.3949\n",
      "Epoch 85/100\n",
      "242/242 [==============================] - 0s 662us/step - loss: 0.4037 - val_loss: 0.3931\n",
      "Epoch 86/100\n",
      "242/242 [==============================] - 0s 751us/step - loss: 0.4022 - val_loss: 0.3926\n",
      "Epoch 87/100\n",
      "242/242 [==============================] - 0s 735us/step - loss: 0.4012 - val_loss: 0.3914\n",
      "Epoch 88/100\n",
      "242/242 [==============================] - 0s 700us/step - loss: 0.3999 - val_loss: 0.3897\n",
      "Epoch 89/100\n",
      "242/242 [==============================] - 0s 718us/step - loss: 0.3987 - val_loss: 0.3888\n",
      "Epoch 90/100\n",
      "242/242 [==============================] - 0s 756us/step - loss: 0.3975 - val_loss: 0.3880\n",
      "Epoch 91/100\n",
      "242/242 [==============================] - 0s 720us/step - loss: 0.3964 - val_loss: 0.3866\n",
      "Epoch 92/100\n",
      "242/242 [==============================] - 0s 720us/step - loss: 0.3953 - val_loss: 0.3861\n",
      "Epoch 93/100\n",
      "242/242 [==============================] - 0s 716us/step - loss: 0.3943 - val_loss: 0.3848\n",
      "Epoch 94/100\n",
      "242/242 [==============================] - 0s 709us/step - loss: 0.3932 - val_loss: 0.3839\n",
      "Epoch 95/100\n",
      "242/242 [==============================] - 0s 714us/step - loss: 0.3922 - val_loss: 0.3836\n",
      "Epoch 96/100\n",
      "242/242 [==============================] - 0s 740us/step - loss: 0.3911 - val_loss: 0.3840\n",
      "Epoch 97/100\n",
      "242/242 [==============================] - 0s 730us/step - loss: 0.3904 - val_loss: 0.3822\n",
      "Epoch 98/100\n",
      "242/242 [==============================] - 0s 682us/step - loss: 0.3894 - val_loss: 0.3806\n",
      "Epoch 99/100\n",
      "242/242 [==============================] - 0s 742us/step - loss: 0.3883 - val_loss: 0.3822\n",
      "Epoch 100/100\n",
      "242/242 [==============================] - 0s 693us/step - loss: 0.3876 - val_loss: 0.3796\n",
      "121/121 [==============================] - 0s 497us/step - loss: 0.3993\n",
      "Epoch 1/100\n",
      "242/242 [==============================] - 0s 1ms/step - loss: 5.0701 - val_loss: 2.9725\n",
      "Epoch 2/100\n",
      "242/242 [==============================] - 0s 679us/step - loss: 2.1451 - val_loss: 5.9015\n",
      "Epoch 3/100\n"
     ]
    },
    {
     "name": "stdout",
     "output_type": "stream",
     "text": [
      "242/242 [==============================] - 0s 666us/step - loss: 1.2758 - val_loss: 10.8119\n",
      "Epoch 4/100\n",
      "242/242 [==============================] - 0s 718us/step - loss: 1.0903 - val_loss: 11.3108\n",
      "Epoch 5/100\n",
      "242/242 [==============================] - 0s 683us/step - loss: 1.0053 - val_loss: 9.9424\n",
      "Epoch 6/100\n",
      "242/242 [==============================] - 0s 723us/step - loss: 0.9444 - val_loss: 8.2069\n",
      "Epoch 7/100\n",
      "242/242 [==============================] - 0s 733us/step - loss: 0.8977 - val_loss: 6.6004\n",
      "Epoch 8/100\n",
      "242/242 [==============================] - 0s 681us/step - loss: 0.8609 - val_loss: 4.8507\n",
      "Epoch 9/100\n",
      "242/242 [==============================] - 0s 658us/step - loss: 0.8311 - val_loss: 3.5263\n",
      "Epoch 10/100\n",
      "242/242 [==============================] - 0s 699us/step - loss: 0.8061 - val_loss: 2.6353\n",
      "Epoch 11/100\n",
      "242/242 [==============================] - 0s 690us/step - loss: 0.7845 - val_loss: 1.9734\n",
      "Epoch 12/100\n",
      "242/242 [==============================] - 0s 674us/step - loss: 0.7657 - val_loss: 1.4481\n",
      "Epoch 13/100\n",
      "242/242 [==============================] - 0s 704us/step - loss: 0.7491 - val_loss: 1.1077\n",
      "Epoch 14/100\n",
      "242/242 [==============================] - 0s 674us/step - loss: 0.7340 - val_loss: 0.8819\n",
      "Epoch 15/100\n",
      "242/242 [==============================] - 0s 700us/step - loss: 0.7201 - val_loss: 0.7221\n",
      "Epoch 16/100\n",
      "242/242 [==============================] - 0s 687us/step - loss: 0.7071 - val_loss: 0.6649\n",
      "Epoch 17/100\n",
      "242/242 [==============================] - 0s 695us/step - loss: 0.6951 - val_loss: 0.6775\n",
      "Epoch 18/100\n",
      "242/242 [==============================] - 0s 737us/step - loss: 0.6837 - val_loss: 0.7491\n",
      "Epoch 19/100\n",
      "242/242 [==============================] - 0s 645us/step - loss: 0.6729 - val_loss: 0.8815\n",
      "Epoch 20/100\n",
      "242/242 [==============================] - 0s 643us/step - loss: 0.6627 - val_loss: 1.0685\n",
      "Epoch 21/100\n",
      "242/242 [==============================] - 0s 667us/step - loss: 0.6528 - val_loss: 1.3065\n",
      "Epoch 22/100\n",
      "242/242 [==============================] - 0s 647us/step - loss: 0.6436 - val_loss: 1.5428\n",
      "Epoch 23/100\n",
      "242/242 [==============================] - 0s 672us/step - loss: 0.6350 - val_loss: 1.8315\n",
      "Epoch 24/100\n",
      "242/242 [==============================] - 0s 654us/step - loss: 0.6268 - val_loss: 2.1427\n",
      "Epoch 25/100\n",
      "242/242 [==============================] - 0s 701us/step - loss: 0.6190 - val_loss: 2.5085\n",
      "Epoch 26/100\n",
      "242/242 [==============================] - 0s 676us/step - loss: 0.6115 - val_loss: 2.8640\n",
      "121/121 [==============================] - 0s 401us/step - loss: 0.6770\n",
      "Epoch 1/100\n",
      "242/242 [==============================] - 0s 1ms/step - loss: 4.4059 - val_loss: 3.5308\n",
      "Epoch 2/100\n",
      "242/242 [==============================] - 0s 728us/step - loss: 2.5613 - val_loss: 3.0045\n",
      "Epoch 3/100\n",
      "242/242 [==============================] - 0s 711us/step - loss: 1.4038 - val_loss: 2.5464\n",
      "Epoch 4/100\n",
      "242/242 [==============================] - 0s 699us/step - loss: 0.9815 - val_loss: 1.8717\n",
      "Epoch 5/100\n",
      "242/242 [==============================] - 0s 746us/step - loss: 0.8396 - val_loss: 1.3067\n",
      "Epoch 6/100\n",
      "242/242 [==============================] - 0s 715us/step - loss: 0.7692 - val_loss: 0.9966\n",
      "Epoch 7/100\n",
      "242/242 [==============================] - 0s 767us/step - loss: 0.7270 - val_loss: 0.8331\n",
      "Epoch 8/100\n",
      "242/242 [==============================] - 0s 684us/step - loss: 0.6993 - val_loss: 0.7309\n",
      "Epoch 9/100\n",
      "242/242 [==============================] - 0s 687us/step - loss: 0.6799 - val_loss: 0.6922\n",
      "Epoch 10/100\n",
      "242/242 [==============================] - 0s 722us/step - loss: 0.6652 - val_loss: 0.6623\n",
      "Epoch 11/100\n",
      "242/242 [==============================] - 0s 750us/step - loss: 0.6528 - val_loss: 0.6391\n",
      "Epoch 12/100\n",
      "242/242 [==============================] - 0s 739us/step - loss: 0.6420 - val_loss: 0.6199\n",
      "Epoch 13/100\n",
      "242/242 [==============================] - 0s 738us/step - loss: 0.6325 - val_loss: 0.6066\n",
      "Epoch 14/100\n",
      "242/242 [==============================] - 0s 742us/step - loss: 0.6235 - val_loss: 0.5952\n",
      "Epoch 15/100\n",
      "242/242 [==============================] - 0s 758us/step - loss: 0.6150 - val_loss: 0.5855\n",
      "Epoch 16/100\n",
      "242/242 [==============================] - 0s 731us/step - loss: 0.6070 - val_loss: 0.5761\n",
      "Epoch 17/100\n",
      "242/242 [==============================] - 0s 709us/step - loss: 0.5992 - val_loss: 0.5671\n",
      "Epoch 18/100\n",
      "242/242 [==============================] - 0s 752us/step - loss: 0.5915 - val_loss: 0.5590\n",
      "Epoch 19/100\n",
      "242/242 [==============================] - 0s 739us/step - loss: 0.5841 - val_loss: 0.5515\n",
      "Epoch 20/100\n",
      "242/242 [==============================] - 0s 710us/step - loss: 0.5769 - val_loss: 0.5445\n",
      "Epoch 21/100\n",
      "242/242 [==============================] - 0s 720us/step - loss: 0.5697 - val_loss: 0.5376\n",
      "Epoch 22/100\n",
      "242/242 [==============================] - 0s 707us/step - loss: 0.5627 - val_loss: 0.5308\n",
      "Epoch 23/100\n",
      "242/242 [==============================] - 0s 736us/step - loss: 0.5559 - val_loss: 0.5241\n",
      "Epoch 24/100\n",
      "242/242 [==============================] - 0s 721us/step - loss: 0.5491 - val_loss: 0.5179\n",
      "Epoch 25/100\n",
      "242/242 [==============================] - 0s 707us/step - loss: 0.5425 - val_loss: 0.5114\n",
      "Epoch 26/100\n",
      "242/242 [==============================] - 0s 698us/step - loss: 0.5360 - val_loss: 0.5049\n",
      "Epoch 27/100\n",
      "242/242 [==============================] - 0s 734us/step - loss: 0.5296 - val_loss: 0.4989\n",
      "Epoch 28/100\n",
      "242/242 [==============================] - 0s 764us/step - loss: 0.5234 - val_loss: 0.4930\n",
      "Epoch 29/100\n",
      "242/242 [==============================] - 0s 692us/step - loss: 0.5173 - val_loss: 0.4880\n",
      "Epoch 30/100\n",
      "242/242 [==============================] - 0s 737us/step - loss: 0.5115 - val_loss: 0.4819\n",
      "Epoch 31/100\n",
      "242/242 [==============================] - 0s 686us/step - loss: 0.5058 - val_loss: 0.4768\n",
      "Epoch 32/100\n",
      "242/242 [==============================] - 0s 702us/step - loss: 0.5003 - val_loss: 0.4726\n",
      "Epoch 33/100\n",
      "242/242 [==============================] - 0s 695us/step - loss: 0.4951 - val_loss: 0.4680\n",
      "Epoch 34/100\n",
      "242/242 [==============================] - 0s 712us/step - loss: 0.4901 - val_loss: 0.4647\n",
      "Epoch 35/100\n",
      "242/242 [==============================] - 0s 714us/step - loss: 0.4854 - val_loss: 0.4611\n",
      "Epoch 36/100\n",
      "242/242 [==============================] - 0s 747us/step - loss: 0.4809 - val_loss: 0.4579\n",
      "Epoch 37/100\n",
      "242/242 [==============================] - 0s 685us/step - loss: 0.4767 - val_loss: 0.4552\n",
      "Epoch 38/100\n",
      "242/242 [==============================] - 0s 726us/step - loss: 0.4727 - val_loss: 0.4523\n",
      "Epoch 39/100\n",
      "242/242 [==============================] - 0s 698us/step - loss: 0.4688 - val_loss: 0.4503\n",
      "Epoch 40/100\n",
      "242/242 [==============================] - 0s 753us/step - loss: 0.4651 - val_loss: 0.4481\n",
      "Epoch 41/100\n",
      "242/242 [==============================] - 0s 716us/step - loss: 0.4616 - val_loss: 0.4479\n",
      "Epoch 42/100\n",
      "242/242 [==============================] - 0s 715us/step - loss: 0.4584 - val_loss: 0.4464\n",
      "Epoch 43/100\n",
      "242/242 [==============================] - 0s 673us/step - loss: 0.4552 - val_loss: 0.4442\n",
      "Epoch 44/100\n",
      "242/242 [==============================] - 0s 714us/step - loss: 0.4524 - val_loss: 0.4442\n",
      "Epoch 45/100\n",
      "242/242 [==============================] - 0s 805us/step - loss: 0.4496 - val_loss: 0.4436\n",
      "Epoch 46/100\n",
      "242/242 [==============================] - 0s 747us/step - loss: 0.4469 - val_loss: 0.4428\n",
      "Epoch 47/100\n",
      "242/242 [==============================] - 0s 707us/step - loss: 0.4444 - val_loss: 0.4428\n",
      "Epoch 48/100\n",
      "242/242 [==============================] - 0s 746us/step - loss: 0.4420 - val_loss: 0.4431\n",
      "Epoch 49/100\n",
      "242/242 [==============================] - 0s 683us/step - loss: 0.4397 - val_loss: 0.4436\n",
      "Epoch 50/100\n",
      "242/242 [==============================] - 0s 705us/step - loss: 0.4375 - val_loss: 0.4441\n",
      "Epoch 51/100\n",
      "242/242 [==============================] - 0s 708us/step - loss: 0.4353 - val_loss: 0.4441\n",
      "Epoch 52/100\n",
      "242/242 [==============================] - 0s 770us/step - loss: 0.4335 - val_loss: 0.4456\n",
      "Epoch 53/100\n",
      "242/242 [==============================] - 0s 732us/step - loss: 0.4315 - val_loss: 0.4460\n",
      "Epoch 54/100\n",
      "242/242 [==============================] - 0s 743us/step - loss: 0.4297 - val_loss: 0.4467\n",
      "Epoch 55/100\n"
     ]
    },
    {
     "name": "stdout",
     "output_type": "stream",
     "text": [
      "242/242 [==============================] - 0s 671us/step - loss: 0.4278 - val_loss: 0.4484\n",
      "Epoch 56/100\n",
      "242/242 [==============================] - 0s 703us/step - loss: 0.4262 - val_loss: 0.4490\n",
      "Epoch 57/100\n",
      "242/242 [==============================] - 0s 762us/step - loss: 0.4247 - val_loss: 0.4493\n",
      "121/121 [==============================] - 0s 388us/step - loss: 0.4256\n",
      "Epoch 1/100\n",
      "242/242 [==============================] - 0s 944us/step - loss: 1.3002 - val_loss: 38.2652\n",
      "Epoch 2/100\n",
      "242/242 [==============================] - 0s 609us/step - loss: 0.9964 - val_loss: 0.6706\n",
      "Epoch 3/100\n",
      "242/242 [==============================] - 0s 713us/step - loss: 0.5490 - val_loss: 0.5520\n",
      "Epoch 4/100\n",
      "242/242 [==============================] - 0s 619us/step - loss: 0.4986 - val_loss: 0.5090\n",
      "Epoch 5/100\n",
      "242/242 [==============================] - 0s 614us/step - loss: 0.4710 - val_loss: 0.4813\n",
      "Epoch 6/100\n",
      "242/242 [==============================] - 0s 621us/step - loss: 0.4526 - val_loss: 0.4761\n",
      "Epoch 7/100\n",
      "242/242 [==============================] - 0s 609us/step - loss: 0.4406 - val_loss: 0.4565\n",
      "Epoch 8/100\n",
      "242/242 [==============================] - 0s 609us/step - loss: 0.4321 - val_loss: 0.4533\n",
      "Epoch 9/100\n",
      "242/242 [==============================] - 0s 607us/step - loss: 0.4259 - val_loss: 0.4502\n",
      "Epoch 10/100\n",
      "242/242 [==============================] - 0s 592us/step - loss: 0.4210 - val_loss: 0.4389\n",
      "Epoch 11/100\n",
      "242/242 [==============================] - 0s 615us/step - loss: 0.4166 - val_loss: 0.4360\n",
      "Epoch 12/100\n",
      "242/242 [==============================] - 0s 600us/step - loss: 0.4123 - val_loss: 0.4313\n",
      "Epoch 13/100\n",
      "242/242 [==============================] - 0s 593us/step - loss: 0.4086 - val_loss: 0.4253\n",
      "Epoch 14/100\n",
      "242/242 [==============================] - 0s 593us/step - loss: 0.4064 - val_loss: 0.4228\n",
      "Epoch 15/100\n",
      "242/242 [==============================] - 0s 609us/step - loss: 0.4030 - val_loss: 0.4209\n",
      "Epoch 16/100\n",
      "242/242 [==============================] - 0s 596us/step - loss: 0.4011 - val_loss: 0.4192\n",
      "Epoch 17/100\n",
      "242/242 [==============================] - 0s 638us/step - loss: 0.3986 - val_loss: 0.4156\n",
      "Epoch 18/100\n",
      "242/242 [==============================] - 0s 630us/step - loss: 0.3966 - val_loss: 0.4137\n",
      "Epoch 19/100\n",
      "242/242 [==============================] - 0s 605us/step - loss: 0.3949 - val_loss: 0.4128\n",
      "Epoch 20/100\n",
      "242/242 [==============================] - 0s 578us/step - loss: 0.3936 - val_loss: 0.4104\n",
      "Epoch 21/100\n",
      "242/242 [==============================] - 0s 604us/step - loss: 0.3928 - val_loss: 0.4101\n",
      "Epoch 22/100\n",
      "242/242 [==============================] - 0s 599us/step - loss: 0.3908 - val_loss: 0.4070\n",
      "Epoch 23/100\n",
      "242/242 [==============================] - 0s 586us/step - loss: 0.3898 - val_loss: 0.4080\n",
      "Epoch 24/100\n",
      "242/242 [==============================] - 0s 624us/step - loss: 0.3892 - val_loss: 0.4037\n",
      "Epoch 25/100\n",
      "242/242 [==============================] - 0s 616us/step - loss: 0.3878 - val_loss: 0.4030\n",
      "Epoch 26/100\n",
      "242/242 [==============================] - 0s 595us/step - loss: 0.3869 - val_loss: 0.4000\n",
      "Epoch 27/100\n",
      "242/242 [==============================] - 0s 648us/step - loss: 0.3864 - val_loss: 0.3972\n",
      "Epoch 28/100\n",
      "242/242 [==============================] - 0s 625us/step - loss: 0.3851 - val_loss: 0.3974\n",
      "Epoch 29/100\n",
      "242/242 [==============================] - 0s 590us/step - loss: 0.3838 - val_loss: 0.3943\n",
      "Epoch 30/100\n",
      "242/242 [==============================] - 0s 700us/step - loss: 0.3834 - val_loss: 0.3948\n",
      "Epoch 31/100\n",
      "242/242 [==============================] - 0s 615us/step - loss: 0.3818 - val_loss: 0.3922\n",
      "Epoch 32/100\n",
      "242/242 [==============================] - 0s 600us/step - loss: 0.3817 - val_loss: 0.3917\n",
      "Epoch 33/100\n",
      "242/242 [==============================] - 0s 594us/step - loss: 0.3803 - val_loss: 0.3905\n",
      "Epoch 34/100\n",
      "242/242 [==============================] - 0s 603us/step - loss: 0.3798 - val_loss: 0.3893\n",
      "Epoch 35/100\n",
      "242/242 [==============================] - 0s 601us/step - loss: 0.3790 - val_loss: 0.3876\n",
      "Epoch 36/100\n",
      "242/242 [==============================] - 0s 705us/step - loss: 0.3775 - val_loss: 0.3916\n",
      "Epoch 37/100\n",
      "242/242 [==============================] - 0s 676us/step - loss: 0.3769 - val_loss: 0.3831\n",
      "Epoch 38/100\n",
      "242/242 [==============================] - 0s 654us/step - loss: 0.3762 - val_loss: 0.3875\n",
      "Epoch 39/100\n",
      "242/242 [==============================] - 0s 601us/step - loss: 0.3747 - val_loss: 0.3847\n",
      "Epoch 40/100\n",
      "242/242 [==============================] - 0s 625us/step - loss: 0.3750 - val_loss: 0.3846\n",
      "Epoch 41/100\n",
      "242/242 [==============================] - 0s 596us/step - loss: 0.3743 - val_loss: 0.3842\n",
      "Epoch 42/100\n",
      "242/242 [==============================] - 0s 607us/step - loss: 0.3730 - val_loss: 0.3814\n",
      "Epoch 43/100\n",
      "242/242 [==============================] - 0s 578us/step - loss: 0.3735 - val_loss: 0.3808\n",
      "Epoch 44/100\n",
      "242/242 [==============================] - 0s 631us/step - loss: 0.3718 - val_loss: 0.3834\n",
      "Epoch 45/100\n",
      "242/242 [==============================] - 0s 630us/step - loss: 0.3725 - val_loss: 0.3804\n",
      "Epoch 46/100\n",
      "242/242 [==============================] - 0s 588us/step - loss: 0.3704 - val_loss: 0.3824\n",
      "Epoch 47/100\n",
      "242/242 [==============================] - 0s 632us/step - loss: 0.3703 - val_loss: 0.3798\n",
      "Epoch 48/100\n",
      "242/242 [==============================] - 0s 584us/step - loss: 0.3705 - val_loss: 0.3800\n",
      "Epoch 49/100\n",
      "242/242 [==============================] - 0s 591us/step - loss: 0.3686 - val_loss: 0.3783\n",
      "Epoch 50/100\n",
      "242/242 [==============================] - 0s 580us/step - loss: 0.3686 - val_loss: 0.3797\n",
      "Epoch 51/100\n",
      "242/242 [==============================] - 0s 604us/step - loss: 0.3683 - val_loss: 0.3820\n",
      "Epoch 52/100\n",
      "242/242 [==============================] - 0s 598us/step - loss: 0.3675 - val_loss: 0.3765\n",
      "Epoch 53/100\n",
      "242/242 [==============================] - 0s 600us/step - loss: 0.3672 - val_loss: 0.3772\n",
      "Epoch 54/100\n",
      "242/242 [==============================] - 0s 633us/step - loss: 0.3667 - val_loss: 0.3766\n",
      "Epoch 55/100\n",
      "242/242 [==============================] - 0s 599us/step - loss: 0.3656 - val_loss: 0.3773\n",
      "Epoch 56/100\n",
      "242/242 [==============================] - 0s 582us/step - loss: 0.3663 - val_loss: 0.3754\n",
      "Epoch 57/100\n",
      "242/242 [==============================] - 0s 613us/step - loss: 0.3650 - val_loss: 0.3750\n",
      "Epoch 58/100\n",
      "242/242 [==============================] - 0s 605us/step - loss: 0.3645 - val_loss: 0.3750\n",
      "Epoch 59/100\n",
      "242/242 [==============================] - 0s 708us/step - loss: 0.3633 - val_loss: 0.3766\n",
      "Epoch 60/100\n",
      "242/242 [==============================] - 0s 627us/step - loss: 0.3626 - val_loss: 0.3749\n",
      "Epoch 61/100\n",
      "242/242 [==============================] - 0s 649us/step - loss: 0.3629 - val_loss: 0.3764\n",
      "Epoch 62/100\n",
      "242/242 [==============================] - 0s 653us/step - loss: 0.3619 - val_loss: 0.3759\n",
      "Epoch 63/100\n",
      "242/242 [==============================] - 0s 609us/step - loss: 0.3614 - val_loss: 0.3736\n",
      "Epoch 64/100\n",
      "242/242 [==============================] - 0s 597us/step - loss: 0.3607 - val_loss: 0.3750\n",
      "Epoch 65/100\n",
      "242/242 [==============================] - 0s 599us/step - loss: 0.3606 - val_loss: 0.3727\n",
      "Epoch 66/100\n",
      "242/242 [==============================] - 0s 624us/step - loss: 0.3631 - val_loss: 0.3757\n",
      "Epoch 67/100\n",
      "242/242 [==============================] - 0s 642us/step - loss: 0.3598 - val_loss: 0.3733\n",
      "Epoch 68/100\n",
      "242/242 [==============================] - 0s 626us/step - loss: 0.3590 - val_loss: 0.3719\n",
      "Epoch 69/100\n",
      "242/242 [==============================] - 0s 625us/step - loss: 0.3583 - val_loss: 0.3714\n",
      "Epoch 70/100\n",
      "242/242 [==============================] - 0s 630us/step - loss: 0.3589 - val_loss: 0.3698\n",
      "Epoch 71/100\n",
      "242/242 [==============================] - 0s 632us/step - loss: 0.3574 - val_loss: 0.3689\n",
      "Epoch 72/100\n",
      "242/242 [==============================] - 0s 614us/step - loss: 0.3564 - val_loss: 0.3717\n",
      "Epoch 73/100\n",
      "242/242 [==============================] - 0s 597us/step - loss: 0.3572 - val_loss: 0.3699\n",
      "Epoch 74/100\n",
      "242/242 [==============================] - 0s 649us/step - loss: 0.3559 - val_loss: 0.3664\n",
      "Epoch 75/100\n",
      "242/242 [==============================] - 0s 652us/step - loss: 0.3557 - val_loss: 0.3663\n",
      "Epoch 76/100\n"
     ]
    },
    {
     "name": "stdout",
     "output_type": "stream",
     "text": [
      "242/242 [==============================] - 0s 602us/step - loss: 0.3545 - val_loss: 0.3689\n",
      "Epoch 77/100\n",
      "242/242 [==============================] - 0s 652us/step - loss: 0.3551 - val_loss: 0.3670\n",
      "Epoch 78/100\n",
      "242/242 [==============================] - 0s 617us/step - loss: 0.3539 - val_loss: 0.3682\n",
      "Epoch 79/100\n",
      "242/242 [==============================] - 0s 623us/step - loss: 0.3534 - val_loss: 0.3647\n",
      "Epoch 80/100\n",
      "242/242 [==============================] - 0s 645us/step - loss: 0.3541 - val_loss: 0.3669\n",
      "Epoch 81/100\n",
      "242/242 [==============================] - 0s 628us/step - loss: 0.3528 - val_loss: 0.3654\n",
      "Epoch 82/100\n",
      "242/242 [==============================] - 0s 608us/step - loss: 0.3529 - val_loss: 0.3639\n",
      "Epoch 83/100\n",
      "242/242 [==============================] - 0s 638us/step - loss: 0.3529 - val_loss: 0.3644\n",
      "Epoch 84/100\n",
      "242/242 [==============================] - 0s 637us/step - loss: 0.3514 - val_loss: 0.3632\n",
      "Epoch 85/100\n",
      "242/242 [==============================] - 0s 622us/step - loss: 0.3511 - val_loss: 0.3619\n",
      "Epoch 86/100\n",
      "242/242 [==============================] - 0s 611us/step - loss: 0.3502 - val_loss: 0.3615\n",
      "Epoch 87/100\n",
      "242/242 [==============================] - 0s 596us/step - loss: 0.3512 - val_loss: 0.3592\n",
      "Epoch 88/100\n",
      "242/242 [==============================] - 0s 630us/step - loss: 0.3499 - val_loss: 0.3633\n",
      "Epoch 89/100\n",
      "242/242 [==============================] - 0s 622us/step - loss: 0.3494 - val_loss: 0.3581\n",
      "Epoch 90/100\n",
      "242/242 [==============================] - 0s 615us/step - loss: 0.3493 - val_loss: 0.3597\n",
      "Epoch 91/100\n",
      "242/242 [==============================] - 0s 644us/step - loss: 0.3489 - val_loss: 0.3582\n",
      "Epoch 92/100\n",
      "242/242 [==============================] - 0s 618us/step - loss: 0.3487 - val_loss: 0.3575\n",
      "Epoch 93/100\n",
      "242/242 [==============================] - 0s 597us/step - loss: 0.3483 - val_loss: 0.3572\n",
      "Epoch 94/100\n",
      "242/242 [==============================] - 0s 599us/step - loss: 0.3485 - val_loss: 0.3582\n",
      "Epoch 95/100\n",
      "242/242 [==============================] - 0s 648us/step - loss: 0.3470 - val_loss: 0.3579\n",
      "Epoch 96/100\n",
      "242/242 [==============================] - 0s 643us/step - loss: 0.3466 - val_loss: 0.3626\n",
      "Epoch 97/100\n",
      "242/242 [==============================] - 0s 690us/step - loss: 0.3466 - val_loss: 0.3564\n",
      "Epoch 98/100\n",
      "242/242 [==============================] - 0s 624us/step - loss: 0.3478 - val_loss: 0.3560\n",
      "Epoch 99/100\n",
      "242/242 [==============================] - 0s 590us/step - loss: 0.3465 - val_loss: 0.3618\n",
      "Epoch 100/100\n",
      "242/242 [==============================] - 0s 589us/step - loss: 0.3458 - val_loss: 0.3552\n",
      "121/121 [==============================] - 0s 368us/step - loss: 0.3645\n",
      "Epoch 1/100\n",
      "242/242 [==============================] - 0s 987us/step - loss: 1.2613 - val_loss: 0.6451\n",
      "Epoch 2/100\n",
      "242/242 [==============================] - 0s 628us/step - loss: 0.5785 - val_loss: 0.8942\n",
      "Epoch 3/100\n",
      "242/242 [==============================] - 0s 606us/step - loss: 0.5115 - val_loss: 1.2421\n",
      "Epoch 4/100\n",
      "242/242 [==============================] - 0s 645us/step - loss: 0.4809 - val_loss: 1.2691\n",
      "Epoch 5/100\n",
      "242/242 [==============================] - 0s 637us/step - loss: 0.4597 - val_loss: 0.9915\n",
      "Epoch 6/100\n",
      "242/242 [==============================] - 0s 626us/step - loss: 0.4442 - val_loss: 0.6535\n",
      "Epoch 7/100\n",
      "242/242 [==============================] - 0s 613us/step - loss: 0.4337 - val_loss: 0.5216\n",
      "Epoch 8/100\n",
      "242/242 [==============================] - 0s 651us/step - loss: 0.4234 - val_loss: 0.4130\n",
      "Epoch 9/100\n",
      "242/242 [==============================] - 0s 611us/step - loss: 0.4148 - val_loss: 0.3818\n",
      "Epoch 10/100\n",
      "242/242 [==============================] - 0s 603us/step - loss: 0.4105 - val_loss: 0.4044\n",
      "Epoch 11/100\n",
      "242/242 [==============================] - 0s 602us/step - loss: 0.4043 - val_loss: 0.4355\n",
      "Epoch 12/100\n",
      "242/242 [==============================] - 0s 611us/step - loss: 0.3994 - val_loss: 0.4276\n",
      "Epoch 13/100\n",
      "242/242 [==============================] - 0s 650us/step - loss: 0.3968 - val_loss: 0.4761\n",
      "Epoch 14/100\n",
      "242/242 [==============================] - 0s 640us/step - loss: 0.3953 - val_loss: 0.5445\n",
      "Epoch 15/100\n",
      "242/242 [==============================] - 0s 631us/step - loss: 0.3922 - val_loss: 0.5613\n",
      "Epoch 16/100\n",
      "242/242 [==============================] - 0s 631us/step - loss: 0.3886 - val_loss: 0.6763\n",
      "Epoch 17/100\n",
      "242/242 [==============================] - 0s 650us/step - loss: 0.3861 - val_loss: 0.6692\n",
      "Epoch 18/100\n",
      "242/242 [==============================] - 0s 619us/step - loss: 0.3845 - val_loss: 0.7573\n",
      "Epoch 19/100\n",
      "242/242 [==============================] - 0s 650us/step - loss: 0.3817 - val_loss: 0.6834\n",
      "121/121 [==============================] - 0s 386us/step - loss: 0.3963\n",
      "Epoch 1/100\n",
      "242/242 [==============================] - 0s 972us/step - loss: 1.2040 - val_loss: 71.0120\n",
      "Epoch 2/100\n",
      "242/242 [==============================] - 0s 589us/step - loss: 1.0541 - val_loss: 42.2913\n",
      "Epoch 3/100\n",
      "242/242 [==============================] - 0s 615us/step - loss: 0.8661 - val_loss: 1.3112\n",
      "Epoch 4/100\n",
      "242/242 [==============================] - 0s 637us/step - loss: 0.5287 - val_loss: 0.5968\n",
      "Epoch 5/100\n",
      "242/242 [==============================] - 0s 702us/step - loss: 0.4829 - val_loss: 0.4855\n",
      "Epoch 6/100\n",
      "242/242 [==============================] - 0s 676us/step - loss: 0.4636 - val_loss: 0.4448\n",
      "Epoch 7/100\n",
      "242/242 [==============================] - 0s 639us/step - loss: 0.4508 - val_loss: 0.4217\n",
      "Epoch 8/100\n",
      "242/242 [==============================] - 0s 634us/step - loss: 0.4424 - val_loss: 0.4094\n",
      "Epoch 9/100\n",
      "242/242 [==============================] - 0s 621us/step - loss: 0.4358 - val_loss: 0.4025\n",
      "Epoch 10/100\n",
      "242/242 [==============================] - 0s 619us/step - loss: 0.4322 - val_loss: 0.3958\n",
      "Epoch 11/100\n",
      "242/242 [==============================] - 0s 600us/step - loss: 0.4267 - val_loss: 0.3918\n",
      "Epoch 12/100\n",
      "242/242 [==============================] - 0s 642us/step - loss: 0.4230 - val_loss: 0.3892\n",
      "Epoch 13/100\n",
      "242/242 [==============================] - 0s 614us/step - loss: 0.4196 - val_loss: 0.3915\n",
      "Epoch 14/100\n",
      "242/242 [==============================] - 0s 635us/step - loss: 0.4170 - val_loss: 0.3996\n",
      "Epoch 15/100\n",
      "242/242 [==============================] - 0s 664us/step - loss: 0.4136 - val_loss: 0.4076\n",
      "Epoch 16/100\n",
      "242/242 [==============================] - 0s 613us/step - loss: 0.4108 - val_loss: 0.4218\n",
      "Epoch 17/100\n",
      "242/242 [==============================] - 0s 636us/step - loss: 0.4081 - val_loss: 0.4317\n",
      "Epoch 18/100\n",
      "242/242 [==============================] - 0s 645us/step - loss: 0.4068 - val_loss: 0.4354\n",
      "Epoch 19/100\n",
      "242/242 [==============================] - 0s 626us/step - loss: 0.4048 - val_loss: 0.4429\n",
      "Epoch 20/100\n",
      "242/242 [==============================] - 0s 625us/step - loss: 0.4034 - val_loss: 0.4453\n",
      "Epoch 21/100\n",
      "242/242 [==============================] - 0s 632us/step - loss: 0.4021 - val_loss: 0.4460\n",
      "Epoch 22/100\n",
      "242/242 [==============================] - 0s 599us/step - loss: 0.4001 - val_loss: 0.4415\n",
      "121/121 [==============================] - 0s 428us/step - loss: 0.3947\n",
      "Epoch 1/100\n",
      "  1/242 [..............................] - ETA: 0s - loss: 11.2591WARNING:tensorflow:Callbacks method `on_train_batch_end` is slow compared to the batch time (batch time: 0.0000s vs `on_train_batch_end` time: 0.0010s). Check your callbacks.\n",
      "242/242 [==============================] - 0s 913us/step - loss: 7.7197 - val_loss: 43.0907\n",
      "Epoch 2/100\n",
      "242/242 [==============================] - 0s 551us/step - loss: 5.5377 - val_loss: 27.4372\n",
      "Epoch 3/100\n",
      "242/242 [==============================] - 0s 592us/step - loss: 4.0702 - val_loss: 17.4473\n",
      "Epoch 4/100\n",
      "242/242 [==============================] - 0s 610us/step - loss: 3.0672 - val_loss: 11.0914\n",
      "Epoch 5/100\n",
      "242/242 [==============================] - 0s 595us/step - loss: 2.3745 - val_loss: 7.0664\n",
      "Epoch 6/100\n",
      "242/242 [==============================] - 0s 605us/step - loss: 1.8936 - val_loss: 4.5088\n",
      "Epoch 7/100\n",
      "242/242 [==============================] - 0s 610us/step - loss: 1.5544 - val_loss: 2.9277\n",
      "Epoch 8/100\n",
      "242/242 [==============================] - 0s 592us/step - loss: 1.3139 - val_loss: 1.9631\n",
      "Epoch 9/100\n"
     ]
    },
    {
     "name": "stdout",
     "output_type": "stream",
     "text": [
      "242/242 [==============================] - 0s 599us/step - loss: 1.1426 - val_loss: 1.3974\n",
      "Epoch 10/100\n",
      "242/242 [==============================] - 0s 568us/step - loss: 1.0191 - val_loss: 1.0599\n",
      "Epoch 11/100\n",
      "242/242 [==============================] - 0s 590us/step - loss: 0.9292 - val_loss: 0.8770\n",
      "Epoch 12/100\n",
      "242/242 [==============================] - 0s 605us/step - loss: 0.8636 - val_loss: 0.7898\n",
      "Epoch 13/100\n",
      "242/242 [==============================] - 0s 686us/step - loss: 0.8150 - val_loss: 0.7557\n",
      "Epoch 14/100\n",
      "242/242 [==============================] - 0s 594us/step - loss: 0.7787 - val_loss: 0.7567\n",
      "Epoch 15/100\n",
      "242/242 [==============================] - 0s 576us/step - loss: 0.7515 - val_loss: 0.7696\n",
      "Epoch 16/100\n",
      "242/242 [==============================] - 0s 612us/step - loss: 0.7308 - val_loss: 0.7947\n",
      "Epoch 17/100\n",
      "242/242 [==============================] - 0s 576us/step - loss: 0.7148 - val_loss: 0.8231\n",
      "Epoch 18/100\n",
      "242/242 [==============================] - 0s 605us/step - loss: 0.7022 - val_loss: 0.8540\n",
      "Epoch 19/100\n",
      "242/242 [==============================] - 0s 586us/step - loss: 0.6920 - val_loss: 0.8834\n",
      "Epoch 20/100\n",
      "242/242 [==============================] - 0s 594us/step - loss: 0.6838 - val_loss: 0.9089\n",
      "Epoch 21/100\n",
      "242/242 [==============================] - 0s 596us/step - loss: 0.6772 - val_loss: 0.9189\n",
      "Epoch 22/100\n",
      "242/242 [==============================] - 0s 581us/step - loss: 0.6713 - val_loss: 0.9382\n",
      "Epoch 23/100\n",
      "242/242 [==============================] - 0s 635us/step - loss: 0.6664 - val_loss: 0.9536\n",
      "121/121 [==============================] - 0s 379us/step - loss: 0.6673\n",
      "Epoch 1/100\n",
      "242/242 [==============================] - 0s 904us/step - loss: 7.6328 - val_loss: 25.5463\n",
      "Epoch 2/100\n",
      "242/242 [==============================] - 0s 609us/step - loss: 5.6957 - val_loss: 23.8232\n",
      "Epoch 3/100\n",
      "242/242 [==============================] - 0s 572us/step - loss: 4.3247 - val_loss: 22.6165\n",
      "Epoch 4/100\n",
      "242/242 [==============================] - 0s 584us/step - loss: 3.3439 - val_loss: 21.7670\n",
      "Epoch 5/100\n",
      "242/242 [==============================] - 0s 596us/step - loss: 2.6347 - val_loss: 21.1673\n",
      "Epoch 6/100\n",
      "242/242 [==============================] - 0s 580us/step - loss: 2.1177 - val_loss: 20.7451\n",
      "Epoch 7/100\n",
      "242/242 [==============================] - 0s 594us/step - loss: 1.7380 - val_loss: 20.4552\n",
      "Epoch 8/100\n",
      "242/242 [==============================] - 0s 606us/step - loss: 1.4573 - val_loss: 20.2628\n",
      "Epoch 9/100\n",
      "242/242 [==============================] - 0s 605us/step - loss: 1.2483 - val_loss: 20.1364\n",
      "Epoch 10/100\n",
      "242/242 [==============================] - 0s 602us/step - loss: 1.0921 - val_loss: 20.0567\n",
      "Epoch 11/100\n",
      "242/242 [==============================] - 0s 619us/step - loss: 0.9744 - val_loss: 20.0180\n",
      "Epoch 12/100\n",
      "242/242 [==============================] - 0s 687us/step - loss: 0.8854 - val_loss: 20.0099\n",
      "Epoch 13/100\n",
      "242/242 [==============================] - 0s 577us/step - loss: 0.8177 - val_loss: 20.0241\n",
      "Epoch 14/100\n",
      "242/242 [==============================] - 0s 793us/step - loss: 0.7659 - val_loss: 20.0459\n",
      "Epoch 15/100\n",
      "242/242 [==============================] - 0s 668us/step - loss: 0.7259 - val_loss: 20.0826\n",
      "Epoch 16/100\n",
      "242/242 [==============================] - 0s 592us/step - loss: 0.6949 - val_loss: 20.1289\n",
      "Epoch 17/100\n",
      "242/242 [==============================] - 0s 692us/step - loss: 0.6707 - val_loss: 20.1804\n",
      "Epoch 18/100\n",
      "242/242 [==============================] - 0s 644us/step - loss: 0.6517 - val_loss: 20.2376\n",
      "Epoch 19/100\n",
      "242/242 [==============================] - 0s 587us/step - loss: 0.6366 - val_loss: 20.3030\n",
      "Epoch 20/100\n",
      "242/242 [==============================] - 0s 668us/step - loss: 0.6244 - val_loss: 20.3653\n",
      "Epoch 21/100\n",
      "242/242 [==============================] - 0s 607us/step - loss: 0.6146 - val_loss: 20.4378\n",
      "Epoch 22/100\n",
      "242/242 [==============================] - 0s 595us/step - loss: 0.6066 - val_loss: 20.5061\n",
      "121/121 [==============================] - 0s 331us/step - loss: 1.0973\n",
      "Epoch 1/100\n",
      "118/242 [=============>................] - ETA: 0s - loss: 6.6810WARNING:tensorflow:Callbacks method `on_test_batch_end` is slow compared to the batch time (batch time: 0.0000s vs `on_test_batch_end` time: 0.0010s). Check your callbacks.\n",
      "242/242 [==============================] - 0s 874us/step - loss: 6.1564 - val_loss: 7.6683\n",
      "Epoch 2/100\n",
      "242/242 [==============================] - 0s 612us/step - loss: 4.4886 - val_loss: 4.9412\n",
      "Epoch 3/100\n",
      "242/242 [==============================] - 0s 585us/step - loss: 3.3699 - val_loss: 3.3299\n",
      "Epoch 4/100\n",
      "242/242 [==============================] - 0s 579us/step - loss: 2.6029 - val_loss: 2.3535\n",
      "Epoch 5/100\n",
      "242/242 [==============================] - 0s 575us/step - loss: 2.0673 - val_loss: 1.7864\n",
      "Epoch 6/100\n",
      "242/242 [==============================] - 0s 617us/step - loss: 1.6878 - val_loss: 1.4390\n",
      "Epoch 7/100\n",
      "242/242 [==============================] - 0s 619us/step - loss: 1.4151 - val_loss: 1.2303\n",
      "Epoch 8/100\n",
      "242/242 [==============================] - 0s 601us/step - loss: 1.2174 - val_loss: 1.1115\n",
      "Epoch 9/100\n",
      "242/242 [==============================] - 0s 613us/step - loss: 1.0734 - val_loss: 1.0396\n",
      "Epoch 10/100\n",
      "242/242 [==============================] - 0s 589us/step - loss: 0.9677 - val_loss: 0.9896\n",
      "Epoch 11/100\n",
      "242/242 [==============================] - 0s 599us/step - loss: 0.8894 - val_loss: 0.9739\n",
      "Epoch 12/100\n",
      "242/242 [==============================] - 0s 617us/step - loss: 0.8312 - val_loss: 0.9570\n",
      "Epoch 13/100\n",
      "242/242 [==============================] - 0s 601us/step - loss: 0.7875 - val_loss: 0.9426\n",
      "Epoch 14/100\n",
      "242/242 [==============================] - 0s 626us/step - loss: 0.7545 - val_loss: 0.9414\n",
      "Epoch 15/100\n",
      "242/242 [==============================] - 0s 596us/step - loss: 0.7294 - val_loss: 0.9351\n",
      "Epoch 16/100\n",
      "242/242 [==============================] - 0s 616us/step - loss: 0.7100 - val_loss: 0.9457\n",
      "Epoch 17/100\n",
      "242/242 [==============================] - 0s 602us/step - loss: 0.6951 - val_loss: 0.9437\n",
      "Epoch 18/100\n",
      "242/242 [==============================] - 0s 614us/step - loss: 0.6832 - val_loss: 0.9404\n",
      "Epoch 19/100\n",
      "242/242 [==============================] - 0s 600us/step - loss: 0.6737 - val_loss: 0.9554\n",
      "Epoch 20/100\n",
      "242/242 [==============================] - 0s 624us/step - loss: 0.6661 - val_loss: 0.9559\n",
      "Epoch 21/100\n",
      "242/242 [==============================] - 0s 657us/step - loss: 0.6596 - val_loss: 0.9558\n",
      "Epoch 22/100\n",
      "242/242 [==============================] - 0s 604us/step - loss: 0.6543 - val_loss: 0.9576\n",
      "Epoch 23/100\n",
      "242/242 [==============================] - 0s 647us/step - loss: 0.6496 - val_loss: 0.9476\n",
      "Epoch 24/100\n",
      "242/242 [==============================] - 0s 616us/step - loss: 0.6455 - val_loss: 0.9447\n",
      "Epoch 25/100\n",
      "242/242 [==============================] - 0s 569us/step - loss: 0.6419 - val_loss: 0.9405\n",
      "121/121 [==============================] - 0s 360us/step - loss: 0.6455\n",
      "Epoch 1/100\n",
      "242/242 [==============================] - 0s 1ms/step - loss: 1.3724 - val_loss: 19.2760\n",
      "Epoch 2/100\n",
      "242/242 [==============================] - 0s 701us/step - loss: 0.8289 - val_loss: 4.6055\n",
      "Epoch 3/100\n",
      "242/242 [==============================] - 0s 712us/step - loss: 0.5845 - val_loss: 0.7004\n",
      "Epoch 4/100\n",
      "242/242 [==============================] - 0s 699us/step - loss: 0.4829 - val_loss: 0.5034\n",
      "Epoch 5/100\n",
      "242/242 [==============================] - 0s 700us/step - loss: 0.4459 - val_loss: 0.4495\n",
      "Epoch 6/100\n",
      "242/242 [==============================] - 0s 678us/step - loss: 0.4238 - val_loss: 0.4262\n",
      "Epoch 7/100\n",
      "242/242 [==============================] - 0s 714us/step - loss: 0.4095 - val_loss: 0.4112\n",
      "Epoch 8/100\n",
      "242/242 [==============================] - 0s 695us/step - loss: 0.3994 - val_loss: 0.4155\n",
      "Epoch 9/100\n",
      "242/242 [==============================] - 0s 704us/step - loss: 0.3919 - val_loss: 0.4120\n",
      "Epoch 10/100\n",
      "242/242 [==============================] - 0s 682us/step - loss: 0.3855 - val_loss: 0.4010\n",
      "Epoch 11/100\n",
      "242/242 [==============================] - 0s 708us/step - loss: 0.3805 - val_loss: 0.4074\n",
      "Epoch 12/100\n",
      "242/242 [==============================] - 0s 679us/step - loss: 0.3762 - val_loss: 0.3889\n",
      "Epoch 13/100\n"
     ]
    },
    {
     "name": "stdout",
     "output_type": "stream",
     "text": [
      "242/242 [==============================] - 0s 680us/step - loss: 0.3711 - val_loss: 0.3859\n",
      "Epoch 14/100\n",
      "242/242 [==============================] - 0s 666us/step - loss: 0.3705 - val_loss: 0.4045\n",
      "Epoch 15/100\n",
      "242/242 [==============================] - 0s 704us/step - loss: 0.3652 - val_loss: 0.3846\n",
      "Epoch 16/100\n",
      "242/242 [==============================] - 0s 659us/step - loss: 0.3648 - val_loss: 0.3960\n",
      "Epoch 17/100\n",
      "242/242 [==============================] - 0s 682us/step - loss: 0.3611 - val_loss: 0.4089\n",
      "Epoch 18/100\n",
      "242/242 [==============================] - 0s 676us/step - loss: 0.3584 - val_loss: 0.3869\n",
      "Epoch 19/100\n",
      "242/242 [==============================] - 0s 703us/step - loss: 0.3556 - val_loss: 0.3831\n",
      "Epoch 20/100\n",
      "242/242 [==============================] - 0s 750us/step - loss: 0.3541 - val_loss: 0.3809\n",
      "Epoch 21/100\n",
      "242/242 [==============================] - 0s 722us/step - loss: 0.3534 - val_loss: 0.3896\n",
      "Epoch 22/100\n",
      "242/242 [==============================] - 0s 742us/step - loss: 0.3503 - val_loss: 0.3832\n",
      "Epoch 23/100\n",
      "242/242 [==============================] - 0s 663us/step - loss: 0.3493 - val_loss: 0.4091\n",
      "Epoch 24/100\n",
      "242/242 [==============================] - 0s 728us/step - loss: 0.3492 - val_loss: 0.3679\n",
      "Epoch 25/100\n",
      "242/242 [==============================] - 0s 724us/step - loss: 0.3456 - val_loss: 0.3796\n",
      "Epoch 26/100\n",
      "242/242 [==============================] - 0s 718us/step - loss: 0.3455 - val_loss: 0.3614\n",
      "Epoch 27/100\n",
      "242/242 [==============================] - 0s 678us/step - loss: 0.3445 - val_loss: 0.3639\n",
      "Epoch 28/100\n",
      "242/242 [==============================] - 0s 729us/step - loss: 0.3421 - val_loss: 0.3727\n",
      "Epoch 29/100\n",
      "242/242 [==============================] - 0s 680us/step - loss: 0.3407 - val_loss: 0.3736\n",
      "Epoch 30/100\n",
      "242/242 [==============================] - 0s 735us/step - loss: 0.3396 - val_loss: 0.3584\n",
      "Epoch 31/100\n",
      "242/242 [==============================] - 0s 708us/step - loss: 0.3373 - val_loss: 0.3479\n",
      "Epoch 32/100\n",
      "242/242 [==============================] - 0s 671us/step - loss: 0.3377 - val_loss: 0.3440\n",
      "Epoch 33/100\n",
      "242/242 [==============================] - 0s 706us/step - loss: 0.3358 - val_loss: 0.3357\n",
      "Epoch 34/100\n",
      "242/242 [==============================] - 0s 661us/step - loss: 0.3354 - val_loss: 0.3444\n",
      "Epoch 35/100\n",
      "242/242 [==============================] - 0s 689us/step - loss: 0.3337 - val_loss: 0.3285\n",
      "Epoch 36/100\n",
      "242/242 [==============================] - 0s 704us/step - loss: 0.3322 - val_loss: 0.3482\n",
      "Epoch 37/100\n",
      "242/242 [==============================] - 0s 705us/step - loss: 0.3320 - val_loss: 0.3243\n",
      "Epoch 38/100\n",
      "242/242 [==============================] - 0s 654us/step - loss: 0.3304 - val_loss: 0.3493\n",
      "Epoch 39/100\n",
      "242/242 [==============================] - 0s 665us/step - loss: 0.3293 - val_loss: 0.3234\n",
      "Epoch 40/100\n",
      "242/242 [==============================] - 0s 658us/step - loss: 0.3301 - val_loss: 0.3429\n",
      "Epoch 41/100\n",
      "242/242 [==============================] - 0s 724us/step - loss: 0.3288 - val_loss: 0.3282\n",
      "Epoch 42/100\n",
      "242/242 [==============================] - 0s 741us/step - loss: 0.3267 - val_loss: 0.3236\n",
      "Epoch 43/100\n",
      "242/242 [==============================] - 0s 712us/step - loss: 0.3278 - val_loss: 0.3246\n",
      "Epoch 44/100\n",
      "242/242 [==============================] - 0s 659us/step - loss: 0.3251 - val_loss: 0.3410\n",
      "Epoch 45/100\n",
      "242/242 [==============================] - 0s 653us/step - loss: 0.3269 - val_loss: 0.3236\n",
      "Epoch 46/100\n",
      "242/242 [==============================] - 0s 708us/step - loss: 0.3235 - val_loss: 0.3294\n",
      "Epoch 47/100\n",
      "242/242 [==============================] - 0s 644us/step - loss: 0.3236 - val_loss: 0.3368\n",
      "Epoch 48/100\n",
      "242/242 [==============================] - 0s 626us/step - loss: 0.3236 - val_loss: 0.3343\n",
      "Epoch 49/100\n",
      "242/242 [==============================] - 0s 710us/step - loss: 0.3212 - val_loss: 0.3173\n",
      "Epoch 50/100\n",
      "242/242 [==============================] - 0s 671us/step - loss: 0.3211 - val_loss: 0.3414\n",
      "Epoch 51/100\n",
      "242/242 [==============================] - 0s 620us/step - loss: 0.3200 - val_loss: 0.3386\n",
      "Epoch 52/100\n",
      "242/242 [==============================] - 0s 669us/step - loss: 0.3188 - val_loss: 0.3331\n",
      "Epoch 53/100\n",
      "242/242 [==============================] - 0s 669us/step - loss: 0.3190 - val_loss: 0.3262\n",
      "Epoch 54/100\n",
      "242/242 [==============================] - 0s 671us/step - loss: 0.3178 - val_loss: 0.3184\n",
      "Epoch 55/100\n",
      "242/242 [==============================] - 0s 717us/step - loss: 0.3160 - val_loss: 0.3237\n",
      "Epoch 56/100\n",
      "242/242 [==============================] - 0s 644us/step - loss: 0.3161 - val_loss: 0.3197\n",
      "Epoch 57/100\n",
      "242/242 [==============================] - 0s 642us/step - loss: 0.3148 - val_loss: 0.3317\n",
      "Epoch 58/100\n",
      "242/242 [==============================] - 0s 636us/step - loss: 0.3140 - val_loss: 0.3240\n",
      "Epoch 59/100\n",
      "242/242 [==============================] - 0s 686us/step - loss: 0.3135 - val_loss: 0.3102\n",
      "Epoch 60/100\n",
      "242/242 [==============================] - 0s 655us/step - loss: 0.3126 - val_loss: 0.3207\n",
      "Epoch 61/100\n",
      "242/242 [==============================] - 0s 701us/step - loss: 0.3123 - val_loss: 0.3261\n",
      "Epoch 62/100\n",
      "242/242 [==============================] - 0s 673us/step - loss: 0.3112 - val_loss: 0.3356\n",
      "Epoch 63/100\n",
      "242/242 [==============================] - 0s 729us/step - loss: 0.3112 - val_loss: 0.3113\n",
      "Epoch 64/100\n",
      "242/242 [==============================] - 0s 687us/step - loss: 0.3101 - val_loss: 0.3329\n",
      "Epoch 65/100\n",
      "242/242 [==============================] - 0s 625us/step - loss: 0.3093 - val_loss: 0.3244\n",
      "Epoch 66/100\n",
      "242/242 [==============================] - 0s 709us/step - loss: 0.3094 - val_loss: 0.3059\n",
      "Epoch 67/100\n",
      "242/242 [==============================] - 0s 654us/step - loss: 0.3086 - val_loss: 0.3231\n",
      "Epoch 68/100\n",
      "242/242 [==============================] - 0s 688us/step - loss: 0.3078 - val_loss: 0.3250\n",
      "Epoch 69/100\n",
      "242/242 [==============================] - 0s 662us/step - loss: 0.3069 - val_loss: 0.3158\n",
      "Epoch 70/100\n",
      "242/242 [==============================] - 0s 635us/step - loss: 0.3069 - val_loss: 0.3114\n",
      "Epoch 71/100\n",
      "242/242 [==============================] - 0s 671us/step - loss: 0.3058 - val_loss: 0.3195\n",
      "Epoch 72/100\n",
      "242/242 [==============================] - 0s 640us/step - loss: 0.3052 - val_loss: 0.3120\n",
      "Epoch 73/100\n",
      "242/242 [==============================] - 0s 676us/step - loss: 0.3045 - val_loss: 0.3047\n",
      "Epoch 74/100\n",
      "242/242 [==============================] - 0s 692us/step - loss: 0.3044 - val_loss: 0.3233\n",
      "Epoch 75/100\n",
      "242/242 [==============================] - 0s 642us/step - loss: 0.3036 - val_loss: 0.3107\n",
      "Epoch 76/100\n",
      "242/242 [==============================] - 0s 703us/step - loss: 0.3024 - val_loss: 0.3151\n",
      "Epoch 77/100\n",
      "242/242 [==============================] - 0s 750us/step - loss: 0.3030 - val_loss: 0.3017\n",
      "Epoch 78/100\n",
      "242/242 [==============================] - 0s 652us/step - loss: 0.3019 - val_loss: 0.3221\n",
      "Epoch 79/100\n",
      "242/242 [==============================] - 0s 724us/step - loss: 0.3026 - val_loss: 0.3046\n",
      "Epoch 80/100\n",
      "242/242 [==============================] - 0s 705us/step - loss: 0.3004 - val_loss: 0.3125\n",
      "Epoch 81/100\n",
      "242/242 [==============================] - 0s 634us/step - loss: 0.2997 - val_loss: 0.3010\n",
      "Epoch 82/100\n",
      "242/242 [==============================] - 0s 680us/step - loss: 0.2994 - val_loss: 0.3379\n",
      "Epoch 83/100\n",
      "242/242 [==============================] - 0s 671us/step - loss: 0.2990 - val_loss: 0.2980\n",
      "Epoch 84/100\n",
      "242/242 [==============================] - 0s 647us/step - loss: 0.2983 - val_loss: 0.3537\n",
      "Epoch 85/100\n",
      "242/242 [==============================] - 0s 672us/step - loss: 0.2980 - val_loss: 0.2976\n",
      "Epoch 86/100\n",
      "242/242 [==============================] - 0s 738us/step - loss: 0.2968 - val_loss: 0.3239\n",
      "Epoch 87/100\n",
      "242/242 [==============================] - 0s 625us/step - loss: 0.2969 - val_loss: 0.3021\n",
      "Epoch 88/100\n",
      "242/242 [==============================] - 0s 680us/step - loss: 0.2967 - val_loss: 0.3215\n",
      "Epoch 89/100\n",
      "242/242 [==============================] - 0s 662us/step - loss: 0.2959 - val_loss: 0.2974\n",
      "Epoch 90/100\n",
      "242/242 [==============================] - 0s 668us/step - loss: 0.2948 - val_loss: 0.3185\n",
      "Epoch 91/100\n",
      "242/242 [==============================] - 0s 643us/step - loss: 0.2950 - val_loss: 0.2950\n"
     ]
    },
    {
     "name": "stdout",
     "output_type": "stream",
     "text": [
      "Epoch 92/100\n",
      "242/242 [==============================] - 0s 681us/step - loss: 0.2942 - val_loss: 0.3171\n",
      "Epoch 93/100\n",
      "242/242 [==============================] - 0s 644us/step - loss: 0.2940 - val_loss: 0.2982\n",
      "Epoch 94/100\n",
      "242/242 [==============================] - 0s 681us/step - loss: 0.2940 - val_loss: 0.2946\n",
      "Epoch 95/100\n",
      "242/242 [==============================] - 0s 645us/step - loss: 0.2927 - val_loss: 0.3052\n",
      "Epoch 96/100\n",
      "242/242 [==============================] - 0s 646us/step - loss: 0.2914 - val_loss: 0.2966\n",
      "Epoch 97/100\n",
      "242/242 [==============================] - 0s 672us/step - loss: 0.2918 - val_loss: 0.3231\n",
      "Epoch 98/100\n",
      "242/242 [==============================] - 0s 658us/step - loss: 0.2914 - val_loss: 0.2903\n",
      "Epoch 99/100\n",
      "242/242 [==============================] - 0s 647us/step - loss: 0.2908 - val_loss: 0.3540\n",
      "Epoch 100/100\n",
      "242/242 [==============================] - 0s 617us/step - loss: 0.2907 - val_loss: 0.2961\n",
      "121/121 [==============================] - 0s 400us/step - loss: 0.3199\n",
      "Epoch 1/100\n",
      "242/242 [==============================] - 0s 994us/step - loss: 1.2201 - val_loss: 0.8642\n",
      "Epoch 2/100\n",
      "242/242 [==============================] - 0s 739us/step - loss: 0.6048 - val_loss: 0.7994\n",
      "Epoch 3/100\n",
      "242/242 [==============================] - 0s 696us/step - loss: 0.5340 - val_loss: 1.0803\n",
      "Epoch 4/100\n",
      "242/242 [==============================] - 0s 714us/step - loss: 0.4912 - val_loss: 1.1494\n",
      "Epoch 5/100\n",
      "242/242 [==============================] - 0s 676us/step - loss: 0.4606 - val_loss: 0.9498\n",
      "Epoch 6/100\n",
      "242/242 [==============================] - 0s 653us/step - loss: 0.4414 - val_loss: 0.6208\n",
      "Epoch 7/100\n",
      "242/242 [==============================] - 0s 698us/step - loss: 0.4270 - val_loss: 0.4657\n",
      "Epoch 8/100\n",
      "242/242 [==============================] - 0s 695us/step - loss: 0.4148 - val_loss: 0.3888\n",
      "Epoch 9/100\n",
      "242/242 [==============================] - 0s 693us/step - loss: 0.4041 - val_loss: 0.4084\n",
      "Epoch 10/100\n",
      "242/242 [==============================] - 0s 759us/step - loss: 0.3972 - val_loss: 0.4312\n",
      "Epoch 11/100\n",
      "242/242 [==============================] - 0s 710us/step - loss: 0.3899 - val_loss: 0.5341\n",
      "Epoch 12/100\n",
      "242/242 [==============================] - 0s 702us/step - loss: 0.3833 - val_loss: 0.6081\n",
      "Epoch 13/100\n",
      "242/242 [==============================] - 0s 698us/step - loss: 0.3796 - val_loss: 0.7209\n",
      "Epoch 14/100\n",
      "242/242 [==============================] - 0s 669us/step - loss: 0.3760 - val_loss: 0.8821\n",
      "Epoch 15/100\n",
      "242/242 [==============================] - 0s 641us/step - loss: 0.3715 - val_loss: 0.9049\n",
      "Epoch 16/100\n",
      "242/242 [==============================] - 0s 670us/step - loss: 0.3680 - val_loss: 0.9792\n",
      "Epoch 17/100\n",
      "242/242 [==============================] - 0s 632us/step - loss: 0.3647 - val_loss: 0.9532\n",
      "Epoch 18/100\n",
      "242/242 [==============================] - 0s 833us/step - loss: 0.3628 - val_loss: 1.0397\n",
      "121/121 [==============================] - 0s 400us/step - loss: 0.3909\n",
      "Epoch 1/100\n",
      "242/242 [==============================] - 0s 1ms/step - loss: 1.1300 - val_loss: 2.2824\n",
      "Epoch 2/100\n",
      "242/242 [==============================] - 0s 679us/step - loss: 0.6910 - val_loss: 2.5063\n",
      "Epoch 3/100\n",
      "242/242 [==============================] - 0s 680us/step - loss: 0.5904 - val_loss: 1.3345\n",
      "Epoch 4/100\n",
      "242/242 [==============================] - 0s 699us/step - loss: 0.5360 - val_loss: 1.8303\n",
      "Epoch 5/100\n",
      "242/242 [==============================] - 0s 663us/step - loss: 0.4879 - val_loss: 1.1690\n",
      "Epoch 6/100\n",
      "242/242 [==============================] - 0s 720us/step - loss: 0.4597 - val_loss: 1.0937\n",
      "Epoch 7/100\n",
      "242/242 [==============================] - 0s 647us/step - loss: 0.4408 - val_loss: 0.5393\n",
      "Epoch 8/100\n",
      "242/242 [==============================] - 0s 682us/step - loss: 0.4235 - val_loss: 0.5528\n",
      "Epoch 9/100\n",
      "242/242 [==============================] - 0s 717us/step - loss: 0.4125 - val_loss: 0.4217\n",
      "Epoch 10/100\n",
      "242/242 [==============================] - 0s 647us/step - loss: 0.4079 - val_loss: 0.3978\n",
      "Epoch 11/100\n",
      "242/242 [==============================] - 0s 672us/step - loss: 0.3958 - val_loss: 0.7642\n",
      "Epoch 12/100\n",
      "242/242 [==============================] - 0s 657us/step - loss: 0.3934 - val_loss: 0.3953\n",
      "Epoch 13/100\n",
      "242/242 [==============================] - 0s 682us/step - loss: 0.3853 - val_loss: 0.3690\n",
      "Epoch 14/100\n",
      "242/242 [==============================] - 0s 750us/step - loss: 0.3805 - val_loss: 0.6782\n",
      "Epoch 15/100\n",
      "242/242 [==============================] - 0s 661us/step - loss: 0.3793 - val_loss: 0.5137\n",
      "Epoch 16/100\n",
      "242/242 [==============================] - 0s 672us/step - loss: 0.3750 - val_loss: 1.5716\n",
      "Epoch 17/100\n",
      "242/242 [==============================] - 0s 681us/step - loss: 0.3863 - val_loss: 1.5438\n",
      "Epoch 18/100\n",
      "242/242 [==============================] - 0s 704us/step - loss: 0.3814 - val_loss: 2.5256\n",
      "Epoch 19/100\n",
      "242/242 [==============================] - 0s 698us/step - loss: 0.3989 - val_loss: 1.2077\n",
      "Epoch 20/100\n",
      "242/242 [==============================] - 0s 688us/step - loss: 0.3812 - val_loss: 0.8839\n",
      "Epoch 21/100\n",
      "242/242 [==============================] - 0s 732us/step - loss: 0.3663 - val_loss: 0.3408\n",
      "Epoch 22/100\n",
      "242/242 [==============================] - 0s 742us/step - loss: 0.3590 - val_loss: 0.3928\n",
      "Epoch 23/100\n",
      "242/242 [==============================] - 0s 693us/step - loss: 0.3572 - val_loss: 0.3411\n",
      "Epoch 24/100\n",
      "242/242 [==============================] - 0s 667us/step - loss: 0.3572 - val_loss: 0.4823\n",
      "Epoch 25/100\n",
      "242/242 [==============================] - 0s 698us/step - loss: 0.3555 - val_loss: 0.3589\n",
      "Epoch 26/100\n",
      "242/242 [==============================] - 0s 702us/step - loss: 0.3527 - val_loss: 0.3810\n",
      "Epoch 27/100\n",
      "242/242 [==============================] - 0s 673us/step - loss: 0.3504 - val_loss: 0.4593\n",
      "Epoch 28/100\n",
      "242/242 [==============================] - 0s 719us/step - loss: 0.3500 - val_loss: 0.3360\n",
      "Epoch 29/100\n",
      "242/242 [==============================] - 0s 699us/step - loss: 0.3499 - val_loss: 0.4983\n",
      "Epoch 30/100\n",
      "242/242 [==============================] - 0s 707us/step - loss: 0.3480 - val_loss: 0.3747\n",
      "Epoch 31/100\n",
      "242/242 [==============================] - 0s 707us/step - loss: 0.3470 - val_loss: 0.4128\n",
      "Epoch 32/100\n",
      "242/242 [==============================] - 0s 663us/step - loss: 0.3445 - val_loss: 0.5465\n",
      "Epoch 33/100\n",
      "242/242 [==============================] - 0s 674us/step - loss: 0.3461 - val_loss: 0.3826\n",
      "Epoch 34/100\n",
      "242/242 [==============================] - 0s 700us/step - loss: 0.3426 - val_loss: 0.5040\n",
      "Epoch 35/100\n",
      "242/242 [==============================] - 0s 668us/step - loss: 0.3434 - val_loss: 0.3439\n",
      "Epoch 36/100\n",
      "242/242 [==============================] - 0s 724us/step - loss: 0.3398 - val_loss: 0.4821\n",
      "Epoch 37/100\n",
      "242/242 [==============================] - 0s 756us/step - loss: 0.3404 - val_loss: 0.3595\n",
      "Epoch 38/100\n",
      "242/242 [==============================] - 0s 653us/step - loss: 0.3414 - val_loss: 0.6279\n",
      "121/121 [==============================] - 0s 391us/step - loss: 0.3388\n",
      "Epoch 1/100\n",
      "363/363 [==============================] - 0s 859us/step - loss: 0.9562 - val_loss: 7.9910\n",
      "Epoch 2/100\n",
      "363/363 [==============================] - 0s 619us/step - loss: 0.6345 - val_loss: 4.4949\n",
      "Epoch 3/100\n",
      "363/363 [==============================] - 0s 611us/step - loss: 0.5106 - val_loss: 0.4376\n",
      "Epoch 4/100\n",
      "363/363 [==============================] - 0s 577us/step - loss: 0.4426 - val_loss: 0.4602\n",
      "Epoch 5/100\n",
      "363/363 [==============================] - 0s 589us/step - loss: 0.4217 - val_loss: 0.4209\n",
      "Epoch 6/100\n",
      "363/363 [==============================] - 0s 597us/step - loss: 0.4041 - val_loss: 0.4768\n",
      "Epoch 7/100\n",
      "363/363 [==============================] - 0s 618us/step - loss: 0.3956 - val_loss: 0.4360\n",
      "Epoch 8/100\n",
      "363/363 [==============================] - 0s 736us/step - loss: 0.3872 - val_loss: 0.3768\n",
      "Epoch 9/100\n",
      "363/363 [==============================] - 0s 698us/step - loss: 0.3793 - val_loss: 0.4160\n",
      "Epoch 10/100\n",
      "363/363 [==============================] - 0s 794us/step - loss: 0.3748 - val_loss: 0.4245\n",
      "Epoch 11/100\n",
      "363/363 [==============================] - 0s 654us/step - loss: 0.3705 - val_loss: 0.3532\n",
      "Epoch 12/100\n",
      "363/363 [==============================] - 0s 684us/step - loss: 0.3669 - val_loss: 0.4497\n"
     ]
    },
    {
     "name": "stdout",
     "output_type": "stream",
     "text": [
      "Epoch 13/100\n",
      "363/363 [==============================] - 0s 642us/step - loss: 0.3636 - val_loss: 0.3536\n",
      "Epoch 14/100\n",
      "363/363 [==============================] - 0s 647us/step - loss: 0.3601 - val_loss: 0.3505\n",
      "Epoch 15/100\n",
      "363/363 [==============================] - 0s 636us/step - loss: 0.3581 - val_loss: 0.3511\n",
      "Epoch 16/100\n",
      "363/363 [==============================] - 0s 622us/step - loss: 0.3547 - val_loss: 0.3395\n",
      "Epoch 17/100\n",
      "363/363 [==============================] - 0s 574us/step - loss: 0.3521 - val_loss: 0.3906\n",
      "Epoch 18/100\n",
      "363/363 [==============================] - 0s 578us/step - loss: 0.3502 - val_loss: 0.3524\n",
      "Epoch 19/100\n",
      "363/363 [==============================] - 0s 615us/step - loss: 0.3484 - val_loss: 0.3348\n",
      "Epoch 20/100\n",
      "363/363 [==============================] - 0s 610us/step - loss: 0.3466 - val_loss: 0.4462\n",
      "Epoch 21/100\n",
      "363/363 [==============================] - 0s 668us/step - loss: 0.3446 - val_loss: 0.3289\n",
      "Epoch 22/100\n",
      "363/363 [==============================] - 0s 728us/step - loss: 0.3426 - val_loss: 0.4406\n",
      "Epoch 23/100\n",
      "363/363 [==============================] - 0s 690us/step - loss: 0.3406 - val_loss: 0.3500\n",
      "Epoch 24/100\n",
      "363/363 [==============================] - 0s 637us/step - loss: 0.3384 - val_loss: 0.3954\n",
      "Epoch 25/100\n",
      "363/363 [==============================] - 0s 591us/step - loss: 0.3374 - val_loss: 0.3432\n",
      "Epoch 26/100\n",
      "363/363 [==============================] - 0s 670us/step - loss: 0.3356 - val_loss: 0.3878\n",
      "Epoch 27/100\n",
      "363/363 [==============================] - 0s 706us/step - loss: 0.3347 - val_loss: 0.3461\n",
      "Epoch 28/100\n",
      "363/363 [==============================] - 0s 758us/step - loss: 0.3344 - val_loss: 0.4356\n",
      "Epoch 29/100\n",
      "363/363 [==============================] - 0s 591us/step - loss: 0.3324 - val_loss: 0.3181\n",
      "Epoch 30/100\n",
      "363/363 [==============================] - 0s 701us/step - loss: 0.3307 - val_loss: 0.4408\n",
      "Epoch 31/100\n",
      "363/363 [==============================] - 0s 646us/step - loss: 0.3294 - val_loss: 0.3225\n",
      "Epoch 32/100\n",
      "363/363 [==============================] - 0s 615us/step - loss: 0.3278 - val_loss: 0.4005\n",
      "Epoch 33/100\n",
      "363/363 [==============================] - 0s 789us/step - loss: 0.3276 - val_loss: 0.3155\n",
      "Epoch 34/100\n",
      "363/363 [==============================] - 0s 670us/step - loss: 0.3251 - val_loss: 0.3346\n",
      "Epoch 35/100\n",
      "363/363 [==============================] - 0s 747us/step - loss: 0.3250 - val_loss: 0.3571\n",
      "Epoch 36/100\n",
      "363/363 [==============================] - 0s 687us/step - loss: 0.3245 - val_loss: 0.3349\n",
      "Epoch 37/100\n",
      "363/363 [==============================] - 0s 639us/step - loss: 0.3227 - val_loss: 0.4021\n",
      "Epoch 38/100\n",
      "363/363 [==============================] - 0s 589us/step - loss: 0.3213 - val_loss: 0.3107\n",
      "Epoch 39/100\n",
      "363/363 [==============================] - 0s 600us/step - loss: 0.3226 - val_loss: 0.3950\n",
      "Epoch 40/100\n",
      "363/363 [==============================] - 0s 665us/step - loss: 0.3204 - val_loss: 0.3277\n",
      "Epoch 41/100\n",
      "363/363 [==============================] - 0s 588us/step - loss: 0.3251 - val_loss: 0.5574\n",
      "Epoch 42/100\n",
      "363/363 [==============================] - 0s 566us/step - loss: 0.3215 - val_loss: 0.3471\n",
      "Epoch 43/100\n",
      "363/363 [==============================] - 0s 607us/step - loss: 0.3182 - val_loss: 0.4961\n",
      "Epoch 44/100\n",
      "363/363 [==============================] - 0s 606us/step - loss: 0.3192 - val_loss: 0.3833\n",
      "Epoch 45/100\n",
      "363/363 [==============================] - 0s 575us/step - loss: 0.3168 - val_loss: 1.1237\n",
      "Epoch 46/100\n",
      "363/363 [==============================] - 0s 565us/step - loss: 0.3182 - val_loss: 0.8910\n",
      "Epoch 47/100\n",
      "363/363 [==============================] - 0s 619us/step - loss: 0.3185 - val_loss: 1.3188\n",
      "Epoch 48/100\n",
      "363/363 [==============================] - 0s 629us/step - loss: 0.3242 - val_loss: 0.5977\n"
     ]
    },
    {
     "data": {
      "text/plain": [
       "RandomizedSearchCV(cv=3, error_score='raise-deprecating',\n",
       "                   estimator=<tensorflow.python.keras.wrappers.scikit_learn.KerasRegressor object at 0x0000021E4EA87C40>,\n",
       "                   iid='warn', n_iter=10, n_jobs=None,\n",
       "                   param_distributions={'learning_rate': <scipy.stats._distn_infrastructure.rv_frozen object at 0x0000021E4E2CA370>,\n",
       "                                        'n_hidden': [0, 1, 2, 3],\n",
       "                                        'n_neurons': array([ 1,  2,  3,  4,  5,  6,  7...\n",
       "       18, 19, 20, 21, 22, 23, 24, 25, 26, 27, 28, 29, 30, 31, 32, 33, 34,\n",
       "       35, 36, 37, 38, 39, 40, 41, 42, 43, 44, 45, 46, 47, 48, 49, 50, 51,\n",
       "       52, 53, 54, 55, 56, 57, 58, 59, 60, 61, 62, 63, 64, 65, 66, 67, 68,\n",
       "       69, 70, 71, 72, 73, 74, 75, 76, 77, 78, 79, 80, 81, 82, 83, 84, 85,\n",
       "       86, 87, 88, 89, 90, 91, 92, 93, 94, 95, 96, 97, 98, 99])},\n",
       "                   pre_dispatch='2*n_jobs', random_state=None, refit=True,\n",
       "                   return_train_score=False, scoring=None, verbose=0)"
      ]
     },
     "execution_count": 103,
     "metadata": {},
     "output_type": "execute_result"
    }
   ],
   "source": [
    "np.random.seed(42)\n",
    "tf.random.set_seed(42)\n",
    "from scipy.stats import reciprocal#numpy.reciprocal() 函数返回参数逐元素的倒数\n",
    "from sklearn.model_selection import RandomizedSearchCV#K折交叉验证\n",
    "param_distribs = {\n",
    "    \"n_hidden\": [0, 1, 2, 3],  # 隐层个数\n",
    "    \"n_neurons\": np.arange(1, 100), # 神经元个数\n",
    "    \"learning_rate\": reciprocal(3e-4, 3e-2), # 学习率\n",
    "}\n",
    "rnd_search_cv = RandomizedSearchCV(keras_reg, param_distribs, n_iter=10, cv=3)\n",
    "rnd_search_cv.fit(X_train, y_train, epochs=100,\n",
    "                  validation_data=(X_valid, y_valid),\n",
    "                  callbacks=[tf.keras.callbacks.EarlyStopping(patience=10)])"
   ]
  },
  {
   "cell_type": "markdown",
   "id": "e75e0659",
   "metadata": {},
   "source": [
    "这里如果报错可能是因为sklearn的bug 换个版本"
   ]
  },
  {
   "cell_type": "code",
   "execution_count": 70,
   "id": "918116b4",
   "metadata": {},
   "outputs": [
    {
     "data": {
      "text/plain": [
       "{'learning_rate': 0.0033625641252688094, 'n_hidden': 2, 'n_neurons': 42}"
      ]
     },
     "execution_count": 70,
     "metadata": {},
     "output_type": "execute_result"
    }
   ],
   "source": [
    "rnd_search_cv.best_params_"
   ]
  },
  {
   "cell_type": "code",
   "execution_count": 71,
   "id": "d195222b",
   "metadata": {},
   "outputs": [
    {
     "name": "stdout",
     "output_type": "stream",
     "text": [
      "162/162 [==============================] - 0s 413us/step - loss: 0.3226\n"
     ]
    },
    {
     "data": {
      "text/plain": [
       "-0.32256028056144714"
      ]
     },
     "execution_count": 71,
     "metadata": {},
     "output_type": "execute_result"
    }
   ],
   "source": [
    "rnd_search_cv.score(X_test, y_test)"
   ]
  },
  {
   "cell_type": "code",
   "execution_count": 72,
   "id": "53ddad4d",
   "metadata": {},
   "outputs": [
    {
     "name": "stdout",
     "output_type": "stream",
     "text": [
      "162/162 [==============================] - 0s 411us/step - loss: 0.3226\n"
     ]
    },
    {
     "data": {
      "text/plain": [
       "0.32256028056144714"
      ]
     },
     "execution_count": 72,
     "metadata": {},
     "output_type": "execute_result"
    }
   ],
   "source": [
    "model = rnd_search_cv.best_estimator_.model\n",
    "model.evaluate(X_test, y_test)"
   ]
  },
  {
   "cell_type": "code",
   "execution_count": 73,
   "id": "8e599141",
   "metadata": {},
   "outputs": [
    {
     "name": "stdout",
     "output_type": "stream",
     "text": [
      "Model: \"sequential_31\"\n",
      "_________________________________________________________________\n",
      "Layer (type)                 Output Shape              Param #   \n",
      "=================================================================\n",
      "dense_68 (Dense)             (None, 42)                378       \n",
      "_________________________________________________________________\n",
      "dense_69 (Dense)             (None, 42)                1806      \n",
      "_________________________________________________________________\n",
      "dense_70 (Dense)             (None, 1)                 43        \n",
      "=================================================================\n",
      "Total params: 2,227\n",
      "Trainable params: 2,227\n",
      "Non-trainable params: 0\n",
      "_________________________________________________________________\n"
     ]
    }
   ],
   "source": [
    "model.summary()"
   ]
  },
  {
   "cell_type": "code",
   "execution_count": 74,
   "id": "67f23829",
   "metadata": {},
   "outputs": [
    {
     "data": {
      "image/png": "[encoded data removed]",
      "text/plain": [
       "<IPython.core.display.Image object>"
      ]
     },
     "execution_count": 74,
     "metadata": {},
     "output_type": "execute_result"
    }
   ],
   "source": [
    "tf.keras.utils.plot_model(model, \"random_search_model.png\", show_shapes=True)"
   ]
  },
  {
   "cell_type": "markdown",
   "id": "189d3839",
   "metadata": {},
   "source": [
    "如上输出所示，通过随机搜索，得到最佳隐层数目为2，最佳神经元个数为42，最佳学习率为0.0033。<br>\n",
    "可以用于超参数优化的Python库：\n",
    "- Hyperopt：可优化各种复杂的搜索空间（包括诸如学习率的实数值和诸如层数的离散值）\n",
    "- Hyperas、kopt和Talos：用于Keras模型的超参数优化，前两个是基于Hyperopt的\n",
    "- Keras Tuner：由Google开发的用于Keras模型超参数优化库，提供了可视化和分析的托管服务\n",
    "- Scikit-Optimize (skopt)：通用的优化库。\n",
    "- Spearmint：一款贝叶斯优化库。\n",
    "- Hyperband：速度快。\n",
    "- Sklearn-Deap：一款基于进化算法的超参数优化库。"
   ]
  },
  {
   "cell_type": "markdown",
   "id": "1446859d",
   "metadata": {},
   "source": [
    "### 隐藏层数量与隐藏层神经元数量"
   ]
  },
  {
   "cell_type": "markdown",
   "id": "1b23fc01",
   "metadata": {},
   "source": [
    "大部分情况下，可以先从一至两个隐藏层开始尝试，对于复杂问题，可以慢慢增加隐藏层数目直到开始发生过拟合，对于非常复杂的问题，例如大型图像分类或语音识别，可能需要几十甚至上百的隐藏层（但通常可能不需要全连接，因为参数太多）"
   ]
  },
  {
   "cell_type": "markdown",
   "id": "01590121",
   "metadata": {},
   "source": [
    "- 没有隐藏层：仅能够表示线性可分函数或决策\n",
    "- 隐藏层数=1：可以拟合任何“包含从一个有限空间到另一个有限空间的连续映射”的函数\n",
    "- 隐藏层数=2：搭配适当的激活函数可以表示任意精度的任意决策边界，并且可以拟合任何精度的任何平滑映射\n",
    "- 隐藏层数>2：多出来的隐藏层可以学习复杂的描述（某种自动特征工程）\n",
    "<br>层数越深，理论上拟合函数的能力增强，效果按理说会更好，但是实际上更深的层数可能会带来过拟合的问题，同时也会增加训练难度，使模型难以收敛。因此我的经验是，在使用BP神经网络时，最好可以参照已有的表现优异的模型，如果实在没有，则根据上面的表格，从一两层开始尝试，尽量不要使用太多的层数。在CV、NLP等特殊领域，可以使用CNN、RNN、attention等特殊模型，不能不考虑实际而直接无脑堆砌多层神经网络。尝试迁移和微调已有的预训练模型，能取得事半功倍的效果。"
   ]
  },
  {
   "cell_type": "markdown",
   "id": "d2ad91a0",
   "metadata": {},
   "source": [
    "通常，对所有隐藏层使用相同数量的神经元就足够了。对于某些数据集，拥有较大的第一层并在其后跟随较小的层将导致更好的性能，因为第一层可以学习很多低阶的特征，这些较低层的特征可以馈入后续层中，提取出较高阶特征。<br>\n",
    "需要注意的是，与在每一层中添加更多的神经元相比，添加层层数将获得更大的性能提升。因此，不要在一个隐藏层中加入过多的神经元。<br>\n",
    "- 隐藏神经元的数量应在输入层的大小和输出层的大小之间。\n",
    "- 隐藏神经元的数量应为输入层大小的2/3加上输出层大小的2/3。\n",
    "- 隐藏神经元的数量应小于输入层大小的两倍。\n",
    "总而言之，隐藏层神经元是最佳数量需要自己通过不断试验获得，建议从一个较小数值比如1到5层和1到100个神经元开始，如果欠拟合然后慢慢添加更多的层和神经元，如果过拟合就减小层数和神经元。此外，在实际过程中还可以考虑引入Batch Normalization(批标准化, 和普通的数据标准化类似, 是将分散的数据统一的一种做法, 也是优化神经网络的一种方法), Dropout(在深度学习网络的训练过程中，对于神经网络单元，按照一定的概率将其暂时从网络中丢弃), 正则化等降低过拟合的方法。"
   ]
  },
  {
   "cell_type": "markdown",
   "id": "b5c06748",
   "metadata": {},
   "source": [
    "![test](image/11.png)"
   ]
  },
  {
   "cell_type": "markdown",
   "id": "97b0f5c1",
   "metadata": {},
   "source": [
    "### 学习率、批量大小及其他超参"
   ]
  },
  {
   "cell_type": "markdown",
   "id": "c203992b",
   "metadata": {},
   "source": [
    "1. 学习率：学习率是最重要的超参数，一般情况下最佳的学习率是最大学习率的一半。（取决于其他超参，尤其是批量大小，因此修改了任意超参要更新学习率）\n",
    "2. 优化器：选择一个好的优化器也非常重要。\n",
    "3. 批大小：批大小对训练时间有重要影响，较大的批大小在训练开始时可能造成不稳定，同时最终的模型可能泛化性比批大小比较小的差。\n",
    "4. 激活函数：基本上ReLU最好。\n",
    "5. 迭代次数：基本不用太需要调整，只需要使用Early stopping就好了。"
   ]
  },
  {
   "cell_type": "markdown",
   "id": "37214a3f",
   "metadata": {},
   "source": [
    "- 学习率<br>\n",
    "首先我们需要知道，学习率(learn_rate)是来更新网络模型拓扑结构中参数的，那么最佳的学习率(learn_rate),肯定是和网路模型拓扑结构有关，不同的神经网络模型，对应着自己最佳的学习率。<br>\n",
    "Jeremy Howard(kaggle 冠军) 博主提供率一种思路：\n",
    "我们初始化一个非常小的学习率（learn_rate）我们可以通过一个简单的实验来观察这一点，在每个小批量之后，我们逐渐提高学习率，记录每次增量的损失。这种逐步增长可以是线性地，也可以是指数级的<br>\n",
    "![test](image/13.png)\n",
    "如上图所展现的，如果learn_rate 太小，loss会收敛，但幅度很小，并且未出现大的振幅。当learn_rate进入最佳学习率区域时，您将看到损失函数(loss)快速下降，并且未出现大的振幅。进一步提高学习率(learn_rate),loss会收敛，但是出现振幅，并随着学习率的进一步增大，振幅越来越大，因为参数更新会导致损失“反弹”，甚至偏离最小值。记住，最好的学习率与损失的最大下降有关，所以我们主要对分析图的斜率感兴趣。<br>"
   ]
  },
  {
   "cell_type": "markdown",
   "id": "e0be9512",
   "metadata": {},
   "source": [
    "- 优化器\n",
    "解决优化问题，有很多算法（最常见的就是梯度下降），这些算法也可以用于优化神经网络。每个深度学习库中，都包含了大量的优化算法，用于优化学习速率，让网络用最快的训练次数达到最优，还能防止过拟合。<br>\n",
    "keras中就提供了这样一些优化器：<br>\n",
    " - SGD：随机梯度下降\n",
    " - SGD+Momentum: 基于动量的SGD（在SGD基础上做过优化）\n",
    " - SGD+Nesterov+Momentum：基于动量，两步更新的SGD（在SGD+Momentum基础上做过优化）\n",
    " - Adagrad：自适应地为各个参数分配不同学习速率\n",
    " - Adadelta： 针对Adagrad问题，优化过的算法（在Adagrad基础上做过优化）\n",
    " - RMSprop：对于循环神经网络（RNNs）是最好的优化器（在Adadelta基础上做过优化）\n",
    " - Adam：对每个权值都计算自适应的学习速率（在RMSprop基础上做过优化）\n",
    " - Adamax：针对Adam做过优化的算法（在Adam基础上做过优化）"
   ]
  },
  {
   "cell_type": "markdown",
   "id": "d71678c0",
   "metadata": {},
   "source": [
    "- 如何选择:\n",
    " - 如果你的数据输入量很小，那就选一种自适应学习速率的方法。这样你就不用对学习速率进行调优，因为你的数据本来就小，NN学习耗时也小。这种情况你更应该关心网络分类的准确率。\n",
    " - RMSprop, Adadelta, 和 Adam 非常相似，在相同的情况下表现都很好。\n",
    " - 偏置校验让Adam的效果稍微比RMSprop好一点\n",
    " - 进行过很好的参数调优的SGD+Momentum算法效果好于Adagrad/Adadelta"
   ]
  },
  {
   "cell_type": "markdown",
   "id": "73a1c65e",
   "metadata": {},
   "source": [
    "- batchsize(批大小)\n",
    "batchsize：一次训练的样本数目<br>\n",
    "对于图片数据，一般输入的数据格式为 （样本数，图片长，图片宽，通道数），样本数也就是批大小。<br>\n",
    "增大批大小，处理速度会加快，训练的振动幅度减小，更容易收敛，同时所需的内存容量增加。<br>\n",
    "批大小太小会难以收敛（容易理解，不同数据之间差异可能比较大，批次太小的话，适合了这个批次却不适合下一个批次，所以一直震荡难以收敛）"
   ]
  }
 ],
 "metadata": {
  "kernelspec": {
   "display_name": "Python 3 (ipykernel)",
   "language": "python",
   "name": "python3"
  },
  "language_info": {
   "codemirror_mode": {
    "name": "ipython",
    "version": 3
   },
   "file_extension": ".py",
   "mimetype": "text/x-python",
   "name": "python",
   "nbconvert_exporter": "python",
   "pygments_lexer": "ipython3",
   "version": "3.8.12"
  },
  "toc": {
   "base_numbering": 1,
   "nav_menu": {
    "height": "158px",
    "width": "206px"
   },
   "number_sections": true,
   "sideBar": true,
   "skip_h1_title": false,
   "title_cell": "Table of Contents",
   "title_sidebar": "Contents",
   "toc_cell": false,
   "toc_position": {
    "height": "calc(100% - 180px)",
    "left": "10px",
    "top": "150px",
    "width": "245.047px"
   },
   "toc_section_display": true,
   "toc_window_display": true
  }
 },
 "nbformat": 4,
 "nbformat_minor": 5
}
