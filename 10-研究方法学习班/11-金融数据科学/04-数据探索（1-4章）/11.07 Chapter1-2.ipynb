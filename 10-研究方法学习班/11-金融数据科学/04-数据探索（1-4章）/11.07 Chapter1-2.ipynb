{
 "cells": [
  {
   "cell_type": "markdown",
   "metadata": {},
   "source": [
    "# 1 Introduction"
   ]
  },
  {
   "cell_type": "markdown",
   "metadata": {},
   "source": [
    "Data science is an exciting discipline that allows you to turn raw data into understanding, insight, and knowledge. "
   ]
  },
  {
   "cell_type": "markdown",
   "metadata": {},
   "source": [
    "## 1.1 What you will learn"
   ]
  },
  {
   "cell_type": "markdown",
   "metadata": {},
   "source": [
    "![title](img/program.png)"
   ]
  },
  {
   "cell_type": "markdown",
   "metadata": {},
   "source": [
    "### 1.1.1 Data Import"
   ]
  },
  {
   "cell_type": "markdown",
   "metadata": {},
   "source": [
    "* Dataframe\n",
    "![title](img/dataframe.jpg)"
   ]
  },
  {
   "cell_type": "markdown",
   "metadata": {},
   "source": [
    "### 1.1.2 Data Wrangling"
   ]
  },
  {
   "cell_type": "markdown",
   "metadata": {},
   "source": [
    "Include tidy and transform."
   ]
  },
  {
   "cell_type": "markdown",
   "metadata": {},
   "source": [
    "* Tidy.\n",
    "![title](img/tidy.png)"
   ]
  },
  {
   "cell_type": "markdown",
   "metadata": {},
   "source": [
    "* Transform:\n",
    "    1. Narrowing in on observations of interest.\n",
    "    2. Creating new variables that are functions of existing variables.\n",
    "    <img src=\"img/mutate.jpg\" style=\"zoom:40%\" />\n",
    "    3. Calculating a set of summary statistics, like *count* and *means*."
   ]
  },
  {
   "cell_type": "markdown",
   "metadata": {},
   "source": [
    "### 1.1.3 Data Visualisation and Modelling"
   ]
  },
  {
   "cell_type": "markdown",
   "metadata": {},
   "source": [
    "Have complementary strengths and weaknesses:\n",
    "* Visualisation: can surprise you, but don’t scale particularly well because they require a human to interpret them.\n",
    "* Models: cannot fundamentally surprise you, but they generally scale well."
   ]
  },
  {
   "cell_type": "markdown",
   "metadata": {},
   "source": [
    "### 1.1.4 Data Communication"
   ]
  },
  {
   "cell_type": "markdown",
   "metadata": {},
   "source": [
    "### 1.1.5 Programming"
   ]
  },
  {
   "cell_type": "markdown",
   "metadata": {},
   "source": [
    "## 1.2 How this book is organised"
   ]
  },
  {
   "cell_type": "markdown",
   "metadata": {},
   "source": [
    "* Start with visualisation and transformation of data that’s already been imported and tidied.\n",
    "\n",
    "* Some topics are best explained with other tools.\n",
    "\n",
    "* Programming tools are given in the middle of the book to tackle considerably more challenging problems."
   ]
  },
  {
   "cell_type": "markdown",
   "metadata": {},
   "source": [
    "## 1.3 What you won’t learn"
   ]
  },
  {
   "cell_type": "markdown",
   "metadata": {},
   "source": [
    "### 1.3.1 Big data"
   ]
  },
  {
   "cell_type": "markdown",
   "metadata": {},
   "source": [
    " Larger data (10-100 Gb), learn more about [***data.table***](https://github.com/Rdatatable/data.table) in R, [***data.table***](https://github.com/h2oai/datatable) in Python.  \n",
    " \n",
    " * A small data problem in disguise, find a subset, subsample, or summary.\n",
    " * A large number of small data problems, each might fit in memory, but have millions of them, need a system like *Hadoop* or *Spark*."
   ]
  },
  {
   "cell_type": "markdown",
   "metadata": {},
   "source": [
    "### 1.3.2 Python, Julia, and friends"
   ]
  },
  {
   "cell_type": "markdown",
   "metadata": {},
   "source": [
    "### 1.3.3 Non-rectangular data"
   ]
  },
  {
   "cell_type": "markdown",
   "metadata": {},
   "source": [
    "Rectangular data: collections of values that are each associated with a variable and an observation."
   ]
  },
  {
   "cell_type": "markdown",
   "metadata": {},
   "source": [
    "### 1.3.4 Hypothesis confirmation"
   ]
  },
  {
   "cell_type": "markdown",
   "metadata": {},
   "source": [
    "1. Hypothesis generation: the focus of this book.\n",
    "2. Hypothesis confirmation: hard.\n",
    "    * Need a precise mathematical model to generate falsifiable predictions, requires considerable statistical sophistication.\n",
    "    * Can only use an observation once to confirm a hypothesis.\n",
    "    \n",
    "The key difference: if you look only once, it’s confirmation; if you look more than once, it’s generation."
   ]
  },
  {
   "cell_type": "markdown",
   "metadata": {},
   "source": [
    "## 1.4 Prerequisites"
   ]
  },
  {
   "cell_type": "markdown",
   "metadata": {},
   "source": [
    "### 1.4.1 R"
   ]
  },
  {
   "cell_type": "markdown",
   "metadata": {},
   "source": [
    "### 1.4.2 RStudio"
   ]
  },
  {
   "cell_type": "markdown",
   "metadata": {},
   "source": [
    "### 1.4.3 The tidyverse"
   ]
  },
  {
   "cell_type": "markdown",
   "metadata": {},
   "source": [
    "### 1.4.4 Other packages"
   ]
  },
  {
   "cell_type": "markdown",
   "metadata": {},
   "source": [
    "## 1.5 Running R code"
   ]
  },
  {
   "cell_type": "markdown",
   "metadata": {},
   "source": [
    "## 1.6 Getting help and learning more"
   ]
  },
  {
   "cell_type": "markdown",
   "metadata": {},
   "source": [
    "1. Google\n",
    "2. [***Stackoverflow***](https://stackoverflow.com/)"
   ]
  },
  {
   "cell_type": "markdown",
   "metadata": {},
   "source": [
    "Reprex: reproducible example; Make your code reproducible and minimal to read.\n",
    "1. The latest version of each package should be loaded at the top of the script.\n",
    "2. Find the smallest subset of data that still reveals the problem.\n",
    "3. Ensure the code is easy for others to read.\n",
    "4. Use reprex package to upload the problem: \n",
    "    * R: [***reprex***](https://www.tidyverse.org/help/); \n",
    "    * Python: [***reprexpy***](https://pypi.org/project/reprexpy/)."
   ]
  },
  {
   "cell_type": "markdown",
   "metadata": {},
   "source": [
    "# 2 Introduction to Data Exploration"
   ]
  },
  {
   "cell_type": "markdown",
   "metadata": {},
   "source": [
    "Data exploration is the art of looking at your data, rapidly generating hypotheses, quickly testing them, then repeating again and again and again. \n",
    "\n",
    "\n",
    "The goal of data exploration is to generate many promising leads that you can later explore in more depth.\n",
    "\n",
    "\n",
    "![title](img/explore.png)"
   ]
  },
  {
   "cell_type": "markdown",
   "metadata": {},
   "source": [
    "* Chapter 3: Visualisation is a great place to start because the elegant and informative plots can help you understand data.\n",
    "* Chapter 5: In data transformation, learn the key verbs to select important variables, filter out key observations, create new variables, and compute summaries.\n",
    "* Chapter 7: More interesting questions about data.\n",
    "* After equipped with more data wrangling and programming tools, we’ll come back to models.\n",
    "* Workflow: basics, scripts and projects."
   ]
  }
 ],
 "metadata": {
  "kernelspec": {
   "display_name": "Python 3",
   "language": "python",
   "name": "python3"
  },
  "language_info": {
   "codemirror_mode": {
    "name": "ipython",
    "version": 3
   },
   "file_extension": ".py",
   "mimetype": "text/x-python",
   "name": "python",
   "nbconvert_exporter": "python",
   "pygments_lexer": "ipython3",
   "version": "3.8.3"
  }
 },
 "nbformat": 4,
 "nbformat_minor": 4
}
