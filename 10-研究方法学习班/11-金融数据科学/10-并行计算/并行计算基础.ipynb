{
 "cells": [
  {
   "cell_type": "markdown",
   "metadata": {},
   "source": [
    "# 并行计算"
   ]
  },
  {
   "cell_type": "markdown",
   "metadata": {},
   "source": [
    "## 引入"
   ]
  },
  {
   "cell_type": "markdown",
   "metadata": {},
   "source": [
    "我们都知道，现代操作系统都是支持“多任务”的操作系统，多核CPU已经非常普及。而即使过去的单核CPU，也可以执行多任务。由于CPU执行代码都是顺序执行的，那么，单核CPU是怎么执行多任务的呢？答案就是操作系统轮流让各个任务交替执行，任务1执行0.01秒，切换到任务2，任务2执行0.01秒，再切换到任务3，执行0.01秒……这样反复执行下去。表面上看，每个任务都是交替执行的，但是，由于CPU的执行速度实在是太快了，我们感觉就像所有任务都在同时执行一样。真正的并行执行多任务只能在多核CPU上实现，但是，由于任务数量远远多于CPU的核心数量，所以，操作系统也会自动把很多任务轮流调度到每个核心上执行。\n",
    "\n",
    "对于操作系统来说，一个任务就是一个**进程（Process）**，比如打开一个Word就启动了一个Word进程。在一个进程内部，要同时干多件事，就需要同时运行多个“子任务”，我们把进程内的这些“子任务”称为**线程（Thread）**。由于每个进程至少要干一件事，所以，一个进程至少有一个线程。\n",
    "\n",
    "所以，多任务的实现可以分为2种方式：\n",
    "\n",
    "- 多进程模式；\n",
    "- 多线程模式；\n",
    "\n",
    "同时执行多个任务通常各个任务之间并不是没有关联的，而是需要相互通信和协调，有时，任务1必须暂停等待任务2完成后才能继续执行，有时，任务3和任务4又不能同时执行，所以，多进程和多线程的程序涉及到同步、数据共享的问题，相比我们之前编写的单线程程序更复杂。"
   ]
  },
  {
   "cell_type": "markdown",
   "metadata": {},
   "source": [
    "## 多线程 vs 多进程"
   ]
  },
  {
   "cell_type": "markdown",
   "metadata": {},
   "source": [
    "既然都是处理多任务的方式，多线程和多进程有何优劣？实际运用中我们如何选择？"
   ]
  },
  {
   "cell_type": "markdown",
   "metadata": {},
   "source": [
    "- **数据共享** 多线程和多进程最大的不同在于，多进程中，同一个变量，各自有一份拷贝存在于每个进程中，互不影响，而多线程中，所有变量都由所有线程共享，所以，任何一个变量都可以被任何一个线程修改，因此，线程之间共享数据最大的危险在于多个线程同时改一个变量，把内容给改乱了。"
   ]
  },
  {
   "cell_type": "markdown",
   "metadata": {},
   "source": [
    "![](https://ss0.bdstatic.com/70cFvHSh_Q1YnxGkpoWK1HF6hhy/it/u=1940967811,3885710679&fm=15&gp=0.jpg)"
   ]
  },
  {
   "cell_type": "code",
   "execution_count": 2,
   "metadata": {},
   "outputs": [
    {
     "name": "stdout",
     "output_type": "stream",
     "text": [
      "27\n"
     ]
    }
   ],
   "source": [
    "# 一个小例子\n",
    "import time, threading\n",
    "balance = 0   # 假定这是你的银行存款:\n",
    "\n",
    "def change_it(n):\n",
    "    # 先存后取，结果应该为0:\n",
    "    global balance\n",
    "    balance = balance + n\n",
    "    balance = balance - n\n",
    "\n",
    "def run_thread(n):\n",
    "    for i in range(2000000):\n",
    "        change_it(n)\n",
    "\n",
    "t1 = threading.Thread(target=run_thread, args=(5,))\n",
    "t2 = threading.Thread(target=run_thread, args=(8,))\n",
    "t1.start()\n",
    "t2.start()\n",
    "t1.join()\n",
    "t2.join()\n",
    "print(balance)"
   ]
  },
  {
   "cell_type": "markdown",
   "metadata": {},
   "source": [
    "- **GIL的影响**  \n",
    "\n",
    "其他语言，CPU 是多核时是支持多个线程同时执行。但在 Python 中，无论是单核还是多核，同时只能由一个线程在执行。其根源是**GIL**的存在。\n",
    "\n",
    "GIL 的全称是 Global Interpreter Lock(全局解释器锁)，来源是 Python 设计之初的考虑，为了数据安全所做的决定。某个线程想要执行，必须先拿到 GIL，我们可以把 GIL 看作是“通行证”，并且在一个 Python 进程中，GIL 只有一个。拿不到通行证的线程，就不允许进入 CPU 执行。\n",
    "\n",
    "多进程能够让程序绕过GIL锁，去并行地处理程序，并能够更充分地使用cpu。虽然它与threading模块本质不同，但是语法上非常相似。多进程库会为每个进程提供各自的解释器和GIL锁。\n",
    "\n",
    "在多线程上会发生的问题（如数据混淆、死锁等）在多进程上并不会发生。这是因为在多进程上，不同的线程直接的存储不共享，因此也就不会发生同时不同空间同时更改同一内存空间这一情况。但这也带来了由于进程间数据交互和内存复制导致的额外开销。"
   ]
  },
  {
   "cell_type": "markdown",
   "metadata": {},
   "source": [
    "#### 小结： 根据程序类型选择：\n",
    "\n",
    "- 多进程：程序比较偏重于计算，需要经常使用 CPU 来运算（CPU密集型）。例如科学计算的程序，机器学习的程序等。\n",
    "- 多线程：程序中有大量与数据交互/网络交互，需要频繁进行输入输出操作（I/O 密集型）。爬虫程序就是典型的 I/O 密集型程序。\n"
   ]
  },
  {
   "cell_type": "markdown",
   "metadata": {},
   "source": [
    "## 多线程的实现"
   ]
  },
  {
   "cell_type": "code",
   "execution_count": 4,
   "metadata": {},
   "outputs": [
    {
     "name": "stdout",
     "output_type": "stream",
     "text": [
      "4 10\n",
      "Finish\n",
      "5 15\n",
      "Finish\n",
      "9.005948300000455\n"
     ]
    }
   ],
   "source": [
    "# 以一个简单的计算为例，如果使用单线程\n",
    "import numpy as np\n",
    "import pandas as pd\n",
    "import time\n",
    "import sys\n",
    "\n",
    "def countsum(x):\n",
    "    sumx = 0\n",
    "    i = 1\n",
    "    while i <= x:\n",
    "        sumx += i\n",
    "        i += 1\n",
    "        time.sleep(1)\n",
    "    print(x,sumx)\n",
    "    print('Finish')\n",
    "    \n",
    "start = time.perf_counter()\n",
    "countsum(x = 4)\n",
    "countsum(x = 5)\n",
    "t = (time.perf_counter() - start)\n",
    "print(t)"
   ]
  },
  {
   "cell_type": "code",
   "execution_count": 5,
   "metadata": {
    "scrolled": true
   },
   "outputs": [
    {
     "name": "stdout",
     "output_type": "stream",
     "text": [
      "4 10\n",
      "Finish\n",
      "5 15\n",
      "Finish\n",
      "5.014140100000077\n"
     ]
    }
   ],
   "source": [
    "import threading\n",
    "\n",
    "if __name__ == '__main__':\n",
    "    start = time.perf_counter()\n",
    "    thread1 = threading.Thread(target = countsum, args = (4,))\n",
    "    thread2 = threading.Thread(target = countsum, args = (5,)) # 创建多个线程\n",
    "    thread1.start() \n",
    "    thread2.start() # 线程开始\n",
    "# Join函数执行顺序是逐个执行每个线程，执行完毕后继续往下执行。\n",
    "# 主线程结束后，子线程还在运行，join函数使得主线程等到子线程结束时才退出。\n",
    "    thread1.join()\n",
    "    thread2.join() \n",
    "    t = (time.perf_counter() - start)\n",
    "    print(t)"
   ]
  },
  {
   "cell_type": "markdown",
   "metadata": {},
   "source": [
    "### 加锁\n",
    "如前所述，多线程之间由于数据共享可能存在变量被误修改的问题，我们可以采用加锁的方式规定线程之间的秩序。仍然采用前面的例子，此处进行改进后，输出一定是0。"
   ]
  },
  {
   "cell_type": "code",
   "execution_count": 11,
   "metadata": {},
   "outputs": [
    {
     "name": "stdout",
     "output_type": "stream",
     "text": [
      "0\n"
     ]
    }
   ],
   "source": [
    "import threading\n",
    "balance = 0   # 假定这是你的银行存款:\n",
    "lock = threading.Lock()\n",
    "def change_it_with_lock(n):\n",
    "    # 先存后取，结果应该为0:\n",
    "    global balance\n",
    "    lock.acquire()\n",
    "    balance = balance + n\n",
    "    balance = balance - n\n",
    "    lock.release()\n",
    "def run_thread(n):\n",
    "    for i in range(2000000):\n",
    "        change_it_with_lock(n)\n",
    "\n",
    "t1 = threading.Thread(target=run_thread, args=(5,))\n",
    "t2 = threading.Thread(target=run_thread, args=(8,))\n",
    "t1.start()\n",
    "t2.start()\n",
    "t1.join()\n",
    "t2.join()\n",
    "print(balance)"
   ]
  },
  {
   "cell_type": "markdown",
   "metadata": {},
   "source": [
    "## 多进程的实现"
   ]
  },
  {
   "cell_type": "code",
   "execution_count": null,
   "metadata": {},
   "outputs": [],
   "source": [
    "from multiprocessing import  Process\n",
    "\n",
    "if __name__ == '__main__':\n",
    "\n",
    "    start = time.perf_counter()\n",
    "    p1 = Process(target = countsum, args = (4,))\n",
    "    p2 = Process(target = countsum, args = (4,))\n",
    "    p1.start() \n",
    "    p2.start() # 进程开始\n",
    "    p1.join()\n",
    "    p2.join() \n",
    "    t = (time.perf_counter() - start)\n",
    "    print(t)\n",
    "    \n",
    "# output：\n",
    "\n",
    "# 4 10\n",
    "# Finish\n",
    "# 4 10\n",
    "# Finish\n",
    "# 4.9973042\n",
    "\n",
    "# 可以看到实现语法与多线程非常相似，表面上只是将Thread改为Process"
   ]
  },
  {
   "cell_type": "markdown",
   "metadata": {},
   "source": [
    "### 进程池：如果要启动大量的子进程，可以用进程池（pool）的方式批量创建子进程："
   ]
  },
  {
   "cell_type": "code",
   "execution_count": null,
   "metadata": {},
   "outputs": [],
   "source": [
    "from multiprocessing import Pool\n",
    "import os, time, random\n",
    "\n",
    "def long_time_task(name):\n",
    "    print('Run task %s (%s)...' % (name, os.getpid()))\n",
    "    start = time.time()\n",
    "    time.sleep(random.random() * 3)\n",
    "    end = time.time()\n",
    "    print('Task %s runs %0.2f seconds.' % (name, (end - start)))\n",
    "\n",
    "if __name__=='__main__':\n",
    "    print('Parent process %s.' % os.getpid()) # os.getpid()获取当前进程id \n",
    "    p = Pool(4)\n",
    "    for i in range(5):\n",
    "        p.apply_async(long_time_task, args=(i,))\n",
    "    print('Waiting for all subprocesses done...')\n",
    "    p.close()\n",
    "    p.join()\n",
    "    print('All subprocesses done.')\n",
    "\n",
    "# Parent process 11304.\n",
    "# Waiting for all subprocesses done...\n",
    "# Run task 0 (22260)...\n",
    "# Run task 1 (16992)...\n",
    "# Run task 2 (23384)...\n",
    "# Run task 3 (24160)...\n",
    "# Task 1 runs 1.23 seconds.\n",
    "# Run task 4 (16992)...\n",
    "# Task 3 runs 1.76 seconds.\n",
    "# Task 0 runs 2.06 seconds.\n",
    "# Task 2 runs 2.23 seconds.\n",
    "# Task 4 runs 1.67 seconds.\n",
    "# All subprocesses done."
   ]
  },
  {
   "cell_type": "markdown",
   "metadata": {},
   "source": [
    "我们设置了4个进程，5个任务，那么第5个任务自动在有任务完成后才开始。"
   ]
  },
  {
   "cell_type": "markdown",
   "metadata": {},
   "source": [
    "## 多进程间的通信与数据共享"
   ]
  },
  {
   "cell_type": "markdown",
   "metadata": {},
   "source": [
    "进程是系统独立调度核分配系统资源（CPU、内存）的基本单位，进程之间是相互独立的，每启动一个新的进程相当于把数据进行了一次克隆，子进程里的数据修改无法影响到主进程中的数据，不同子进程之间的数据也不能共享，这是多进程在使用中与多线程最明显的区别。但是难道Python多进程中间难道就是孤立的吗？当然不是，python也提供了多种方法实现了多进程中间的通信和数据共享（可以修改一份数据）     \n",
    "- 进程间通信：Queue、Pipe\n",
    "- 数据共享：value、array、Manager"
   ]
  },
  {
   "cell_type": "markdown",
   "metadata": {},
   "source": [
    "### 多进程间通信——Queue"
   ]
  },
  {
   "cell_type": "code",
   "execution_count": null,
   "metadata": {},
   "outputs": [],
   "source": [
    "from multiprocessing import Process, Queue\n",
    "import time, os\n",
    "\n",
    "def prodcut(q):\n",
    "    print(\"开始生产.\")\n",
    "    for i in range(5):\n",
    "        time.sleep(1)\n",
    "        q.put('产品'+str(i))\n",
    "        print(\"产品\"+str(i)+\"生产完成\")\n",
    "\n",
    "def consume(q):\n",
    "    while True:\n",
    "        prod = q.get()\n",
    "        print(\"消费者：{}，消费产品:{}\".format(os.getpid(), prod))\n",
    "        time.sleep(1)\n",
    "\n",
    "if __name__ == '__main__':\n",
    "    q = Queue()\n",
    "    p = Process(target=prodcut, args=(q, ))  # 生产者\n",
    "    c1 = Process(target=consume, args=(q, ))  # 消费者1\n",
    "    c2 = Process(target=consume, args=(q, ))  # 消费者2\n",
    "    p.start()\n",
    "    c1.start()\n",
    "    c2.start()\n",
    "    p.join()  # 当生产者结束后，将两个消费则也结束\n",
    "    c1.terminate()\n",
    "    c2.terminate()\n",
    "\n",
    "# 开始生产.\n",
    "# 产品0生产完成\n",
    "# 消费者：14600，消费产品:产品0\n",
    "# 产品1生产完成\n",
    "# 消费者：20748，消费产品:产品1\n",
    "# 产品2生产完成\n",
    "# 消费者：14600，消费产品:产品2\n",
    "# 产品3生产完成\n",
    "# 消费者：20748，消费产品:产品3\n",
    "# 产品4生产完成\n",
    "# 消费者：14600，消费产品:产品4"
   ]
  },
  {
   "cell_type": "markdown",
   "metadata": {},
   "source": [
    "### 多进程间通信——Pipe"
   ]
  },
  {
   "cell_type": "code",
   "execution_count": null,
   "metadata": {},
   "outputs": [],
   "source": [
    "from multiprocessing import Process, Pipe\n",
    "def fun1(conn):\n",
    "    conn.send('你好主进程')\n",
    "    print('子进程接受消息：')\n",
    "    print(conn.recv())\n",
    "    conn.close()\n",
    "\n",
    "if __name__ == '__main__':\n",
    "    conn1, conn2 = Pipe() #pipe实例化生成一个双向管\n",
    "    p = Process(target=fun1, args=(conn2,)) #conn2传给子进程\n",
    "    p.start()\n",
    "    print(conn1.recv())\n",
    "    print('主进程发送消息：')\n",
    "    conn1.send(\"你好子进程\")\n",
    "    p.join()\n",
    "\n",
    "# 子进程接受消息：\n",
    "# 你好主进程\n",
    "# 主进程发送消息：\n",
    "# 你好子进程"
   ]
  },
  {
   "cell_type": "markdown",
   "metadata": {},
   "source": [
    "Pipe的两端都可以发送和接受，用于两个进程之间的通信。"
   ]
  },
  {
   "cell_type": "markdown",
   "metadata": {},
   "source": [
    "### 多进程数据共享——value & array"
   ]
  },
  {
   "cell_type": "markdown",
   "metadata": {},
   "source": [
    "Python进程间数据共享主要有两种方式，一种是共享内存，另一种是通过数据管理器(Manager)来实现。"
   ]
  },
  {
   "cell_type": "code",
   "execution_count": null,
   "metadata": {},
   "outputs": [],
   "source": [
    "# 不进行数据共享\n",
    "from multiprocessing import Process, Lock\n",
    "import time\n",
    "\n",
    "num = 0\n",
    "\n",
    "def add_one(lock):\n",
    "    global num\n",
    "    for i in range(3):\n",
    "        lock.acquire()\n",
    "        num += 1\n",
    "        print(num)\n",
    "        time.sleep(1)\n",
    "        lock.release()\n",
    "\n",
    "if __name__ == '__main__':\n",
    "    lock = Lock()\n",
    "    p1 = Process(target=add_one, args=(lock,))\n",
    "    p2 = Process(target=add_one, args=(lock,))\n",
    "    p1.start()\n",
    "    p2.start()\n",
    "\n",
    "# 1\n",
    "# 1\n",
    "# 2\n",
    "# 2\n",
    "# 3\n",
    "# 3"
   ]
  },
  {
   "cell_type": "markdown",
   "metadata": {},
   "source": [
    "由于进程间数据不能共享，每个进程只能独立修改值"
   ]
  },
  {
   "cell_type": "code",
   "execution_count": null,
   "metadata": {},
   "outputs": [],
   "source": [
    "# 用value进行数据共享\n",
    "from multiprocessing import Process, Lock, Value\n",
    "import time\n",
    "\n",
    "def add_one(lock, num):\n",
    "    for i in range(3):\n",
    "        lock.acquire()\n",
    "        num.value += 1\n",
    "        print(num.value)\n",
    "        time.sleep(1)\n",
    "        lock.release()\n",
    "\n",
    "if __name__ == '__main__':\n",
    "    num = Value('i', 0) # 'i'表示整型，'d'表示浮点数\n",
    "    lock = Lock()\n",
    "    p1 = Process(target=add_one, args=(lock, num))\n",
    "    p2 = Process(target=add_one, args=(lock, num))\n",
    "    p1.start()\n",
    "    p2.start()\n",
    "# 1\n",
    "# 2\n",
    "# 3\n",
    "# 4\n",
    "# 5\n",
    "# 6"
   ]
  },
  {
   "cell_type": "code",
   "execution_count": null,
   "metadata": {},
   "outputs": [],
   "source": [
    "# 用array进行数据共享\n",
    "from multiprocessing.sharedctypes import Array\n",
    "from multiprocessing import Process, Lock\n",
    "\n",
    "def add_one(lock, arr):\n",
    "    lock.acquire()\n",
    "    for i in range(len(arr)):\n",
    "        arr[i] += 1\n",
    "    lock.release()\n",
    "    print(arr[:])\n",
    "\n",
    "if __name__ == '__main__':\n",
    "    lock = Lock()\n",
    "    arr = Array('i', range(10))\n",
    "    print(arr[:])\n",
    "    p1 = Process(target=add_one, args=(lock, arr))\n",
    "    p2 = Process(target=add_one, args=(lock, arr))\n",
    "    p1.start()\n",
    "    p2.start()\n",
    "    \n",
    "# [0, 1, 2, 3, 4, 5, 6, 7, 8, 9]\n",
    "# [1, 2, 3, 4, 5, 6, 7, 8, 9, 10]\n",
    "# [2, 3, 4, 5, 6, 7, 8, 9, 10, 11]"
   ]
  },
  {
   "cell_type": "markdown",
   "metadata": {},
   "source": [
    "### Manager（数据管理器）\n",
    "Manager的作用是提供多进程共享的全局变量，Manager()方法会返回一个对象，该对象控制着一个服务进程，该进程中保存的对象运行其他进程使用代理进行操作。\n",
    "\n",
    "Manager支持的类型有：list,dict,Namespace,Lock,RLock,Semaphore,BoundedSemaphore,Condition,Event,Queue,Value和Array。  \n",
    "使用服务进程的管理器比使用共享内存对象更灵活，因为它们可以支持任意对象类型。此外，单个管理器可以通过网络由不同计算机上的进程共享。但是，它们比使用共享内存慢。"
   ]
  },
  {
   "cell_type": "code",
   "execution_count": null,
   "metadata": {},
   "outputs": [],
   "source": [
    "from multiprocessing import Process, Manager\n",
    "\n",
    "def fun1(dic,lis,index):\n",
    "\n",
    "    dic[index] = 'a'\n",
    "    dic['2'] = 'b'    \n",
    "    lis.append(index)    #[0,1,2,3,4,0,1,2,3,4,5,6,7,8,9]\n",
    "    #print(l)\n",
    "\n",
    "if __name__ == '__main__':\n",
    "    with Manager() as manager:\n",
    "        dic = manager.dict()#注意字典的声明方式，不能直接通过{}来定义\n",
    "        l = manager.list(range(5))#[0,1,2,3,4]\n",
    "\n",
    "        process_list = []\n",
    "        for i in range(5):\n",
    "            p = Process(target=fun1, args=(dic,l,i))\n",
    "            p.start()\n",
    "            process_list.append(p)\n",
    "\n",
    "        for res in process_list:\n",
    "            res.join()\n",
    "        print(dic)\n",
    "        print(l)\n",
    "\n",
    "# {0: 'a', '2': 'b', 3: 'a', 1: 'a', 2: 'a', 4: 'a'}\n",
    "# [0, 1, 2, 3, 4, 0, 3, 1, 2, 4]"
   ]
  },
  {
   "cell_type": "markdown",
   "metadata": {},
   "source": [
    "可以看到主进程定义了一个字典和一个列表，在子进程中，可以添加和修改字典的内容，在列表中插入新的数据，实现进程间的数据共享，即可以共同修改同一份数据。"
   ]
  }
 ],
 "metadata": {
  "kernelspec": {
   "display_name": "Python 3",
   "language": "python",
   "name": "python3"
  },
  "language_info": {
   "codemirror_mode": {
    "name": "ipython",
    "version": 3
   },
   "file_extension": ".py",
   "mimetype": "text/x-python",
   "name": "python",
   "nbconvert_exporter": "python",
   "pygments_lexer": "ipython3",
   "version": "3.7.0"
  }
 },
 "nbformat": 4,
 "nbformat_minor": 2
}
