{
 "cells": [
  {
   "cell_type": "markdown",
   "metadata": {},
   "source": [
    "# Introduction"
   ]
  },
  {
   "cell_type": "markdown",
   "metadata": {},
   "source": [
    "Learn the basics of how strings work and how to create them by hand, but the focus is ***Regular Expressions***, or ***Regexps*** for short.\n",
    "\n",
    "In this chapter, we mainly use the [re](https://docs.python.org/zh-cn/3/library/re.html) package."
   ]
  },
  {
   "cell_type": "code",
   "execution_count": 2,
   "metadata": {},
   "outputs": [],
   "source": [
    "import re\n",
    "import numpy as np\n",
    "import pandas as pd\n",
    "import pydoc\n",
    "import os"
   ]
  },
  {
   "cell_type": "markdown",
   "metadata": {},
   "source": [
    "# String Basics"
   ]
  },
  {
   "cell_type": "markdown",
   "metadata": {},
   "source": [
    "Create strings with either single quotes or double quotes."
   ]
  },
  {
   "cell_type": "code",
   "execution_count": 9,
   "metadata": {},
   "outputs": [],
   "source": [
    "string1 = \"This is a string\"\n",
    "string2 = 'If I want to include a \"quote\" inside a string, I use single quotes'"
   ]
  },
  {
   "cell_type": "code",
   "execution_count": 10,
   "metadata": {
    "scrolled": true
   },
   "outputs": [
    {
     "name": "stdout",
     "output_type": "stream",
     "text": [
      "This is a string\n",
      "If I want to include a \"quote\" inside a string, I use single quotes\n"
     ]
    }
   ],
   "source": [
    "print(string1)\n",
    "print(string2)"
   ]
  },
  {
   "cell_type": "markdown",
   "metadata": {},
   "source": [
    "To include a literal single or double quote in a string you can use \\ to “escape” it."
   ]
  },
  {
   "cell_type": "code",
   "execution_count": 11,
   "metadata": {},
   "outputs": [
    {
     "name": "stdout",
     "output_type": "stream",
     "text": [
      "\"\n"
     ]
    }
   ],
   "source": [
    "print(\"\\\"\")"
   ]
  },
  {
   "cell_type": "code",
   "execution_count": 12,
   "metadata": {},
   "outputs": [
    {
     "name": "stdout",
     "output_type": "stream",
     "text": [
      "'\n"
     ]
    }
   ],
   "source": [
    "print('\\'')"
   ]
  },
  {
   "cell_type": "markdown",
   "metadata": {},
   "source": [
    "If you want to include a literal backslash, you’ll need to double it up: \"\\\\\\\\\"."
   ]
  },
  {
   "cell_type": "code",
   "execution_count": 13,
   "metadata": {},
   "outputs": [
    {
     "name": "stdout",
     "output_type": "stream",
     "text": [
      "\\\n"
     ]
    }
   ],
   "source": [
    "print('\\\\')"
   ]
  },
  {
   "cell_type": "markdown",
   "metadata": {},
   "source": [
    "There are a handful of other special characters."
   ]
  },
  {
   "cell_type": "code",
   "execution_count": 14,
   "metadata": {},
   "outputs": [
    {
     "name": "stdout",
     "output_type": "stream",
     "text": [
      "abc\n",
      "def\n"
     ]
    }
   ],
   "source": [
    "# \\n newline\n",
    "print('abc\\ndef')"
   ]
  },
  {
   "cell_type": "code",
   "execution_count": 15,
   "metadata": {},
   "outputs": [
    {
     "name": "stdout",
     "output_type": "stream",
     "text": [
      "abc\tdef\n"
     ]
    }
   ],
   "source": [
    "# \\t tab\n",
    "print('abc\\tdef')"
   ]
  },
  {
   "cell_type": "code",
   "execution_count": 33,
   "metadata": {},
   "outputs": [
    {
     "name": "stdout",
     "output_type": "stream",
     "text": [
      "¶\n"
     ]
    }
   ],
   "source": [
    "# non-English characters that works on all platforms\n",
    "print('\\u00b6')"
   ]
  },
  {
   "cell_type": "markdown",
   "metadata": {},
   "source": [
    "## String Length"
   ]
  },
  {
   "cell_type": "code",
   "execution_count": 6,
   "metadata": {
    "scrolled": true
   },
   "outputs": [
    {
     "name": "stdout",
     "output_type": "stream",
     "text": [
      "3\n",
      "[1, 18, 6]\n"
     ]
    }
   ],
   "source": [
    "# Use iteration to compute each string's length\n",
    "str = [\"a\", \"R for data science\", \"np.nan\"]\n",
    "print(len(str))\n",
    "print([len(x) for x in str])"
   ]
  },
  {
   "cell_type": "code",
   "execution_count": 7,
   "metadata": {},
   "outputs": [
    {
     "data": {
      "text/plain": [
       "0     1\n",
       "1    18\n",
       "2     6\n",
       "dtype: int64"
      ]
     },
     "execution_count": 7,
     "metadata": {},
     "output_type": "execute_result"
    }
   ],
   "source": [
    "# Vectorization\n",
    "pd.Series(str).str.len()"
   ]
  },
  {
   "cell_type": "markdown",
   "metadata": {},
   "source": [
    "## Combining Strings"
   ]
  },
  {
   "cell_type": "markdown",
   "metadata": {},
   "source": [
    "* Use join(), can also control how they’re joined.\n",
    "* Use '+'.\n",
    "* Do it directly."
   ]
  },
  {
   "cell_type": "code",
   "execution_count": 100,
   "metadata": {},
   "outputs": [
    {
     "name": "stdout",
     "output_type": "stream",
     "text": [
      "Is Chicago Not Chicago?\n",
      "Is,Chicago,Not,Chicago?\n",
      "IsChicagoNotChicago?\n"
     ]
    }
   ],
   "source": [
    "parts = ['Is', 'Chicago', 'Not', 'Chicago?']\n",
    "print(' '.join(parts))\n",
    "print(','.join(parts))\n",
    "print(''.join(parts))"
   ]
  },
  {
   "cell_type": "code",
   "execution_count": 19,
   "metadata": {
    "scrolled": true
   },
   "outputs": [
    {
     "name": "stdout",
     "output_type": "stream",
     "text": [
      "Is Chicago Not Chicago?\n"
     ]
    }
   ],
   "source": [
    "a = 'Is Chicago'\n",
    "b = 'Not Chicago?'\n",
    "print(a + ' ' + b)"
   ]
  },
  {
   "cell_type": "code",
   "execution_count": 20,
   "metadata": {
    "scrolled": true
   },
   "outputs": [
    {
     "name": "stdout",
     "output_type": "stream",
     "text": [
      "Hello World!\n"
     ]
    }
   ],
   "source": [
    "a = 'Hello'' ''World''!'\n",
    "print(a)"
   ]
  },
  {
   "cell_type": "code",
   "execution_count": 12,
   "metadata": {},
   "outputs": [
    {
     "name": "stdout",
     "output_type": "stream",
     "text": [
      "['prefix-abc-suffix', 'prefix-def-suffix', 'prefix-ghi-suffix']\n",
      "[0    prefix-abc-suffix\n",
      "1    prefix-def-suffix\n",
      "2    prefix-ghi-suffix\n",
      "dtype: object]\n"
     ]
    }
   ],
   "source": [
    "# Use iteration to allocate each element with the same prefix and suffix\n",
    "str = ['abc', 'def', 'ghi']\n",
    "print(['prefix-'+x+'-suffix' for x in str])\n",
    "\n",
    "# Vectorization\n",
    "print(['prefix-'+pd.Series(str)+'-suffix'])"
   ]
  },
  {
   "cell_type": "markdown",
   "metadata": {},
   "source": [
    "## Subsetting Strings"
   ]
  },
  {
   "cell_type": "code",
   "execution_count": 29,
   "metadata": {},
   "outputs": [
    {
     "name": "stdout",
     "output_type": "stream",
     "text": [
      "['App', 'Ban', 'Pea']\n",
      "0    App\n",
      "1    Ban\n",
      "2    Pea\n",
      "dtype: object\n",
      "['ppl', 'nan', 'Pea']\n",
      "['Apple', 'Banana', 'Pear']\n",
      "['apple', 'banana', 'pear']\n"
     ]
    }
   ],
   "source": [
    "# Extract parts of a string\n",
    "str = [\"Apple\", \"Banana\", \"Pear\"]\n",
    "\n",
    "# The first 3 letters\n",
    "print([a[0:3] for a in str])\n",
    "print(pd.Series(str).str[0:3])  # Vectorization\n",
    "\n",
    "# The last 3 letters\n",
    "print([a[-4:-1] for a in str])\n",
    "\n",
    "# It will return as much as possible\n",
    "print([a[0:8] for a in str])\n",
    "\n",
    "# Modify specific parts, lowercase the first letter\n",
    "print([a[0].lower()+a[1:] for a in str])"
   ]
  },
  {
   "cell_type": "markdown",
   "metadata": {},
   "source": [
    "## Locales"
   ]
  },
  {
   "cell_type": "markdown",
   "metadata": {},
   "source": [
    "Different languages have different rules for changing case. "
   ]
  },
  {
   "cell_type": "code",
   "execution_count": 23,
   "metadata": {},
   "outputs": [
    {
     "data": {
      "text/plain": [
       "'I,I'"
      ]
     },
     "execution_count": 23,
     "metadata": {},
     "output_type": "execute_result"
    }
   ],
   "source": [
    "str = \"i,ı\"\n",
    "str.upper()"
   ]
  },
  {
   "cell_type": "markdown",
   "metadata": {},
   "source": [
    "Turkish has two i's: with and without a dot, and it has a different rule for capitalising them."
   ]
  },
  {
   "cell_type": "code",
   "execution_count": 24,
   "metadata": {},
   "outputs": [],
   "source": [
    "#import locale\n",
    "#locale.setlocale(locale.LC_ALL, 'tr_TR.utf8')\n",
    "\n",
    "#\"i,ı\".upper()\n",
    "#> \"İ\" \"I\""
   ]
  },
  {
   "cell_type": "markdown",
   "metadata": {},
   "source": [
    "Different languages also have different rules for sorting."
   ]
  },
  {
   "cell_type": "code",
   "execution_count": 25,
   "metadata": {},
   "outputs": [
    {
     "name": "stdout",
     "output_type": "stream",
     "text": [
      "['apple', 'banana', 'eggplant']\n"
     ]
    }
   ],
   "source": [
    "str = ['apple', 'eggplant', 'banana']\n",
    "print(sorted(str))  # English\n",
    "\n",
    "# Hawaiian\n",
    "#> \"apple\" \"eggplant\" \"banana\""
   ]
  },
  {
   "cell_type": "markdown",
   "metadata": {},
   "source": [
    "# Matching Patterns With Regular Expressions"
   ]
  },
  {
   "cell_type": "markdown",
   "metadata": {},
   "source": [
    "## Basic Matches"
   ]
  },
  {
   "cell_type": "markdown",
   "metadata": {},
   "source": [
    "Match **exact** strings using [***re***](https://docs.python.org/zh-cn/3.7/library/re.html) package."
   ]
  },
  {
   "cell_type": "code",
   "execution_count": 20,
   "metadata": {},
   "outputs": [],
   "source": [
    "str = ['apple','bananananan','pear']"
   ]
  },
  {
   "cell_type": "code",
   "execution_count": 27,
   "metadata": {
    "scrolled": true
   },
   "outputs": [
    {
     "name": "stdout",
     "output_type": "stream",
     "text": [
      "[<re.Match object; span=(0, 1), match='a'>, None, None]\n"
     ]
    }
   ],
   "source": [
    "# re.match(), only matches to the beginning, recommend using re.search()\n",
    "print([re.match('a', x) for x in str])"
   ]
  },
  {
   "cell_type": "code",
   "execution_count": 92,
   "metadata": {},
   "outputs": [
    {
     "name": "stdout",
     "output_type": "stream",
     "text": [
      "[None, <re.Match object; span=(1, 5), match='anan'>, None]\n"
     ]
    }
   ],
   "source": [
    "# re.search(), only returns to the first one\n",
    "print([re.search('anan', x) for x in str])"
   ]
  },
  {
   "cell_type": "code",
   "execution_count": 29,
   "metadata": {
    "scrolled": true
   },
   "outputs": [
    {
     "name": "stdout",
     "output_type": "stream",
     "text": [
      "[['a'], ['a', 'a', 'a', 'a', 'a'], ['a']]\n"
     ]
    }
   ],
   "source": [
    "# re.findall(), returns to all\n",
    "print([re.findall('a', x) for x in str])"
   ]
  },
  {
   "cell_type": "code",
   "execution_count": 30,
   "metadata": {
    "code_folding": []
   },
   "outputs": [
    {
     "name": "stdout",
     "output_type": "stream",
     "text": [
      "01-03: an\n",
      "03-05: an\n",
      "05-07: an\n",
      "07-09: an\n",
      "09-11: an\n"
     ]
    }
   ],
   "source": [
    "# re.finditer(), returns to all, but in a MatchObject type iterator\n",
    "for i in str:\n",
    "    for m in re.finditer(\"an\", i):\n",
    "        print('%02d-%02d: %s' % (m.start(),m.end(),m.group(0)))"
   ]
  },
  {
   "cell_type": "markdown",
   "metadata": {},
   "source": [
    "Using “.” match **any** character."
   ]
  },
  {
   "cell_type": "code",
   "execution_count": 31,
   "metadata": {
    "scrolled": true
   },
   "outputs": [
    {
     "name": "stdout",
     "output_type": "stream",
     "text": [
      "[[], ['ban', 'nan', 'nan'], ['ear']]\n"
     ]
    }
   ],
   "source": [
    "print([re.findall('.a.', x) for x in str])"
   ]
  },
  {
   "cell_type": "markdown",
   "metadata": {},
   "source": [
    "Match the character '.', we need the string \"\\\\\\\\.\".\n",
    "\n",
    "Or use ***Raw string notation (r\"text\")*** keeps regular expressions the same."
   ]
  },
  {
   "cell_type": "code",
   "execution_count": 32,
   "metadata": {},
   "outputs": [
    {
     "name": "stdout",
     "output_type": "stream",
     "text": [
      "[[], ['a.c'], [], ['a.b']]\n",
      "[[], ['a.c'], [], ['a.b']]\n"
     ]
    }
   ],
   "source": [
    "str = ['abc','a.c','bef','a.b']\n",
    "# Find the match as 'a.x'\n",
    "print([re.findall('a\\\\..', x) for x in str])\n",
    "print([re.findall(r'a\\..', x) for x in str]) # Raw string notation"
   ]
  },
  {
   "cell_type": "markdown",
   "metadata": {},
   "source": [
    "Match a literal \\\\ (Which is written as '\\\\\\\\' in a string), you need to write \"\\\\\\\\\\\\\\\\\"."
   ]
  },
  {
   "cell_type": "code",
   "execution_count": 33,
   "metadata": {},
   "outputs": [
    {
     "name": "stdout",
     "output_type": "stream",
     "text": [
      "[['a\\\\b'], ['b\\\\c'], ['d\\\\e']]\n",
      "[['a\\\\b'], ['b\\\\c'], ['d\\\\e']]\n"
     ]
    }
   ],
   "source": [
    "str = ['a\\\\b','b\\\\c','d\\\\e']\n",
    "print([re.findall('.\\\\\\\\.', x) for x in str])\n",
    "print([re.findall(r'.\\\\.', x) for x in str]) # Raw string notation"
   ]
  },
  {
   "cell_type": "markdown",
   "metadata": {},
   "source": [
    "Vectorization for ***re***, np.vectorize() in functions."
   ]
  },
  {
   "cell_type": "code",
   "execution_count": 34,
   "metadata": {},
   "outputs": [
    {
     "name": "stdout",
     "output_type": "stream",
     "text": [
      "['3 1' '1 2' '1 ' ' ']\n"
     ]
    }
   ],
   "source": [
    "array_of_strings = [\"3a1\", \"1b2\", \"1c\", \"d\"]\n",
    "ElimAlphaArr = np.vectorize(re.sub)\n",
    "print(ElimAlphaArr(\"[a-zA-Z]\", \" \", array_of_strings))"
   ]
  },
  {
   "cell_type": "markdown",
   "metadata": {},
   "source": [
    "## Anchors"
   ]
  },
  {
   "cell_type": "code",
   "execution_count": 34,
   "metadata": {},
   "outputs": [],
   "source": [
    "str = ['apple','applepie','applecake','banana','bananapie']"
   ]
  },
  {
   "cell_type": "code",
   "execution_count": 35,
   "metadata": {},
   "outputs": [
    {
     "name": "stdout",
     "output_type": "stream",
     "text": [
      "[['apple'], ['apple'], ['apple'], [], []]\n"
     ]
    }
   ],
   "source": [
    "# '^' to match the beginning\n",
    "print([re.findall('^apple', x) for x in str])"
   ]
  },
  {
   "cell_type": "code",
   "execution_count": 36,
   "metadata": {},
   "outputs": [
    {
     "name": "stdout",
     "output_type": "stream",
     "text": [
      "[[], ['pie'], [], [], ['pie']]\n"
     ]
    }
   ],
   "source": [
    "# '$' to match the end\n",
    "print([re.findall('pie$', x) for x in str])"
   ]
  },
  {
   "cell_type": "code",
   "execution_count": 37,
   "metadata": {},
   "outputs": [
    {
     "name": "stdout",
     "output_type": "stream",
     "text": [
      "[[], ['pie'], [], [], ['pie']]\n"
     ]
    }
   ],
   "source": [
    "# \\b to match the boundary between words\n",
    "print([re.findall('pie\\\\b', x) for x in str])"
   ]
  },
  {
   "cell_type": "markdown",
   "metadata": {},
   "source": [
    "## Character Classes and Alternatives"
   ]
  },
  {
   "cell_type": "markdown",
   "metadata": {},
   "source": [
    "There are special patterns that match more than one character.\n",
    "* \\d: matches any digit.\n",
    "* \\s: matches any whitespace (e.g. space, tab, newline).\n",
    "* [abc]: matches a, b, or c.\n",
    "* [^abc]: matches anything except a, b, or c.\n",
    "\n",
    "To create a regular expression containing \\d or \\s, you need to type \"\\\\\\\\d\" or \"\\\\\\\\s\"."
   ]
  },
  {
   "cell_type": "code",
   "execution_count": 38,
   "metadata": {},
   "outputs": [],
   "source": [
    "str = [\"abc1\",\"a.c\",\"a*c\",\"a c\"]"
   ]
  },
  {
   "cell_type": "code",
   "execution_count": 39,
   "metadata": {},
   "outputs": [
    {
     "name": "stdout",
     "output_type": "stream",
     "text": [
      "[['c1'], [], [], []]\n"
     ]
    }
   ],
   "source": [
    "# \\d matches the digit\n",
    "print([re.findall('c\\\\d', x) for x in str])"
   ]
  },
  {
   "cell_type": "code",
   "execution_count": 40,
   "metadata": {
    "scrolled": true
   },
   "outputs": [
    {
     "name": "stdout",
     "output_type": "stream",
     "text": [
      "[[], [], [], [' c']]\n"
     ]
    }
   ],
   "source": [
    "# \\s matches the whitespaces\n",
    "print([re.findall('\\\\sc', x) for x in str])"
   ]
  },
  {
   "cell_type": "code",
   "execution_count": 41,
   "metadata": {},
   "outputs": [
    {
     "name": "stdout",
     "output_type": "stream",
     "text": [
      "[['a', 'b'], ['a'], ['a'], ['a']]\n"
     ]
    }
   ],
   "source": [
    "# [ab] matches a or b\n",
    "print([re.findall('[ab]', x) for x in str])"
   ]
  },
  {
   "cell_type": "code",
   "execution_count": 42,
   "metadata": {},
   "outputs": [
    {
     "name": "stdout",
     "output_type": "stream",
     "text": [
      "[['c', '1'], ['.', 'c'], ['*', 'c'], [' ', 'c']]\n"
     ]
    }
   ],
   "source": [
    "# [^ab] matches anything except a or b\n",
    "print([re.findall('[^ab]', x) for x in str])"
   ]
  },
  {
   "cell_type": "markdown",
   "metadata": {},
   "source": [
    "A character class containing a single character like [.] is a nice alternative to backslash escapes '\\\\',  works for: $ . | ? * + ( ) [ {, but not ] \\ ^ and -."
   ]
  },
  {
   "cell_type": "code",
   "execution_count": 43,
   "metadata": {},
   "outputs": [
    {
     "name": "stdout",
     "output_type": "stream",
     "text": [
      "[[], ['a.c'], [], []]\n"
     ]
    }
   ],
   "source": [
    "# Find a.c\n",
    "print([re.findall('a[.]c', x) for x in str])"
   ]
  },
  {
   "cell_type": "code",
   "execution_count": 44,
   "metadata": {
    "scrolled": true
   },
   "outputs": [
    {
     "name": "stdout",
     "output_type": "stream",
     "text": [
      "[[], [], ['a*c'], []]\n"
     ]
    }
   ],
   "source": [
    "# Find x*c\n",
    "print([re.findall('.[*]c', x) for x in str])"
   ]
  },
  {
   "cell_type": "markdown",
   "metadata": {},
   "source": [
    "Use alternation '|' to pick between one or more alternative patterns."
   ]
  },
  {
   "cell_type": "code",
   "execution_count": 45,
   "metadata": {},
   "outputs": [
    {
     "name": "stdout",
     "output_type": "stream",
     "text": [
      "[['grey'], ['gray'], ['gryy'], []]\n"
     ]
    }
   ],
   "source": [
    "print([re.findall('gr[e|a|y]y', x) for x in ['grey','gray','gryy','grxy']])"
   ]
  },
  {
   "cell_type": "markdown",
   "metadata": {},
   "source": [
    "## Repetition"
   ]
  },
  {
   "cell_type": "markdown",
   "metadata": {},
   "source": [
    "Control how many times a pattern matches.\n",
    "* ?: 0 or 1, Write colou?r to Match either American or British spellings\n",
    "* +: 1 or more\n",
    "* *: 0 or more"
   ]
  },
  {
   "cell_type": "code",
   "execution_count": 46,
   "metadata": {},
   "outputs": [],
   "source": [
    "str = \"1888 is the longest year in Roman numerals: MDCCCCCCLXXXVIII\""
   ]
  },
  {
   "cell_type": "code",
   "execution_count": 47,
   "metadata": {},
   "outputs": [
    {
     "data": {
      "text/plain": [
       "['CC', 'CC', 'CC']"
      ]
     },
     "execution_count": 47,
     "metadata": {},
     "output_type": "execute_result"
    }
   ],
   "source": [
    "re.findall(\"CC?\", str)"
   ]
  },
  {
   "cell_type": "code",
   "execution_count": 48,
   "metadata": {},
   "outputs": [
    {
     "data": {
      "text/plain": [
       "['CCCCCC']"
      ]
     },
     "execution_count": 48,
     "metadata": {},
     "output_type": "execute_result"
    }
   ],
   "source": [
    "re.findall(\"CC+\", str)"
   ]
  },
  {
   "cell_type": "code",
   "execution_count": 49,
   "metadata": {},
   "outputs": [
    {
     "data": {
      "text/plain": [
       "['CLXXX']"
      ]
     },
     "execution_count": 49,
     "metadata": {},
     "output_type": "execute_result"
    }
   ],
   "source": [
    "re.findall(\"C[LX]+\", str)"
   ]
  },
  {
   "cell_type": "markdown",
   "metadata": {},
   "source": [
    "You can also specify the number of matches precisely:\n",
    "\n",
    "* {n}: exactly n\n",
    "* {n,}: n or more\n",
    "* {,m}: at most m\n",
    "* {n,m}: between n and m"
   ]
  },
  {
   "cell_type": "code",
   "execution_count": 50,
   "metadata": {},
   "outputs": [
    {
     "data": {
      "text/plain": [
       "['CC', 'CC', 'CC']"
      ]
     },
     "execution_count": 50,
     "metadata": {},
     "output_type": "execute_result"
    }
   ],
   "source": [
    "re.findall(\"C{2}\", str)"
   ]
  },
  {
   "cell_type": "code",
   "execution_count": 51,
   "metadata": {},
   "outputs": [
    {
     "data": {
      "text/plain": [
       "['CCCCCC']"
      ]
     },
     "execution_count": 51,
     "metadata": {},
     "output_type": "execute_result"
    }
   ],
   "source": [
    "re.findall(\"C{2,}\", str)"
   ]
  },
  {
   "cell_type": "code",
   "execution_count": 52,
   "metadata": {},
   "outputs": [
    {
     "data": {
      "text/plain": [
       "['CCCC', 'CC']"
      ]
     },
     "execution_count": 52,
     "metadata": {},
     "output_type": "execute_result"
    }
   ],
   "source": [
    "re.findall(\"C{2,4}\", str)"
   ]
  },
  {
   "cell_type": "markdown",
   "metadata": {},
   "source": [
    "By default these matches are “greedy”: they will match the longest string possible. You can make them “lazy”, matching the shortest string possible by putting a ? after them."
   ]
  },
  {
   "cell_type": "code",
   "execution_count": 53,
   "metadata": {},
   "outputs": [
    {
     "data": {
      "text/plain": [
       "['CC', 'CC', 'CC']"
      ]
     },
     "execution_count": 53,
     "metadata": {},
     "output_type": "execute_result"
    }
   ],
   "source": [
    "re.findall(\"C{2,4}?\", str)"
   ]
  },
  {
   "cell_type": "code",
   "execution_count": 54,
   "metadata": {},
   "outputs": [
    {
     "data": {
      "text/plain": [
       "['CL']"
      ]
     },
     "execution_count": 54,
     "metadata": {},
     "output_type": "execute_result"
    }
   ],
   "source": [
    "re.findall(\"C[LX]+?\", str)"
   ]
  },
  {
   "cell_type": "markdown",
   "metadata": {},
   "source": [
    "## Grouping and Backreferences"
   ]
  },
  {
   "cell_type": "markdown",
   "metadata": {},
   "source": [
    "Parentheses create a numbered capturing group (number 1, 2 etc.). You can refer to the same text as previously matched by a capturing group with backreferences, like \\1, \\2 etc."
   ]
  },
  {
   "cell_type": "code",
   "execution_count": 55,
   "metadata": {},
   "outputs": [
    {
     "name": "stdout",
     "output_type": "stream",
     "text": [
      "[['an'], ['co'], ['cu'], ['ju'], ['pa'], ['al']]\n"
     ]
    }
   ],
   "source": [
    "fruit = ['banana','coconut','cucumber','jujube','papaya','salal_berry']\n",
    "print([re.findall(\"(..)\\\\1\", x) for x in fruit])"
   ]
  },
  {
   "cell_type": "markdown",
   "metadata": {},
   "source": [
    "# Tools"
   ]
  },
  {
   "cell_type": "markdown",
   "metadata": {},
   "source": [
    "Now it's time to learn how to apply them to real problems.\n",
    "* Determine which strings match a pattern.\n",
    "* Find the positions of matches.\n",
    "* Extract the content of matches.\n",
    "* Replace matches with new values.\n",
    "* Split a string based on a match."
   ]
  },
  {
   "cell_type": "markdown",
   "metadata": {},
   "source": [
    "Because regular expressions are so powerful, it’s easy to try and solve every problem with a single regular expression. In the words of Jamie Zawinski:\n",
    "\n",
    "*Some people, when confronted with a problem, think “I know, I’ll use regular expressions.” Now they have two problems.*"
   ]
  },
  {
   "cell_type": "markdown",
   "metadata": {},
   "source": [
    "An email address:\n",
    "\n",
    "(?:(?:\\r\\n)?[ \\t])*(?:(?:(?:[^()<>@,;:\\\\\".\\[\\] \\000-\\031]+(?:(?:(?:\\r\\n)?[ \\t]\n",
    ")+|\\Z|(?=[\\[\"()<>@,;:\\\\\".\\[\\]]))|\"(?:[^\\\"\\r\\\\]|\\\\.|(?:(?:\\r\\n)?[ \\t]))*\"(?:(?:\n",
    "\\r\\n)?[ \\t])*)(?:\\.(?:(?:\\r\\n)?[ \\t])*(?:[^()<>@,;:\\\\\".\\[\\] \\000-\\031]+(?:(?:(\n",
    "?:\\r\\n)?[ \\t])+|\\Z|(?=[\\[\"()<>@,;:\\\\\".\\[\\]]))|\"(?:[^\\\"\\r\\\\]|\\\\.|(?:(?:\\r\\n)?[ \n",
    "\\t]))*\"(?:(?:\\r\\n)?[ \\t])*))*@(?:(?:\\r\\n)?[ \\t])*(?:[^()<>@,;:\\\\\".\\[\\] \\000-\\0\n",
    "31]+(?:(?:(?:\\r\\n)?[ \\t])+|\\Z|(?=[\\[\"()<>@,;:\\\\\".\\[\\]]))|\\[([^\\[\\]\\r\\\\]|\\\\.)*\\\n",
    "](?:(?:\\r\\n)?[ \\t])*)(?:\\.(?:(?:\\r\\n)?[ \\t])*(?:[^()<>@,;:\\\\\".\\[\\] \\000-\\031]+\n",
    "(?:(?:(?:\\r\\n)?[ \\t])+|\\Z|(?=[\\[\"()<>@,;:\\\\\".\\[\\]]))|\\[([^\\[\\]\\r\\\\]|\\\\.)*\\](?:\n",
    "(?:\\r\\n)?[ \\t])*))*|(?:[^()<>@,;:\\\\\".\\[\\] \\000-\\031]+(?:(?:(?:\\r\\n)?[ \\t])+|\\Z\n",
    "|(?=[\\[\"()<>@,;:\\\\\".\\[\\]]))|\"(?:[^\\\"\\r\\\\]|\\\\.|(?:(?:\\r\\n)?[ \\t]))*\"(?:(?:\\r\\n)\n",
    "?[ \\t])*)*\\<(?:(?:\\r\\n)?[ \\t])*(?:@(?:[^()<>@,;:\\\\\".\\[\\] \\000-\\031]+(?:(?:(?:\\\n",
    "r\\n)?[ \\t])+|\\Z|(?=[\\[\"()<>@,;:\\\\\".\\[\\]]))|\\[([^\\[\\]\\r\\\\]|\\\\.)*\\](?:(?:\\r\\n)?[\n",
    " \\t])*)(?:\\.(?:(?:\\r\\n)?[ \\t])*(?:[^()<>@,;:\\\\\".\\[\\] \\000-\\031]+(?:(?:(?:\\r\\n)\n",
    "?[ \\t])+|\\Z|(?=[\\[\"()<>@,;:\\\\\".\\[\\]]))|\\[([^\\[\\]\\r\\\\]|\\\\.)*\\](?:(?:\\r\\n)?[ \\t]\n",
    ")*))*(?:,@(?:(?:\\r\\n)?[ \\t])*(?:[^()<>@,;:\\\\\".\\[\\] \\000-\\031]+(?:(?:(?:\\r\\n)?[\n",
    " \\t])+|\\Z|(?=[\\[\"()<>@,;:\\\\\".\\[\\]]))|\\[([^\\[\\]\\r\\\\]|\\\\.)*\\](?:(?:\\r\\n)?[ \\t])*\n",
    ")(?:\\.(?:(?:\\r\\n)?[ \\t])*(?:[^()<>@,;:\\\\\".\\[\\] \\000-\\031]+(?:(?:(?:\\r\\n)?[ \\t]\n",
    ")+|\\Z|(?=[\\[\"()<>@,;:\\\\\".\\[\\]]))|\\[([^\\[\\]\\r\\\\]|\\\\.)*\\](?:(?:\\r\\n)?[ \\t])*))*)\n",
    "*:(?:(?:\\r\\n)?[ \\t])*)?(?:[^()<>@,;:\\\\\".\\[\\] \\000-\\031]+(?:(?:(?:\\r\\n)?[ \\t])+\n",
    "|\\Z|(?=[\\[\"()<>@,;:\\\\\".\\[\\]]))|\"(?:[^\\\"\\r\\\\]|\\\\.|(?:(?:\\r\\n)?[ \\t]))*\"(?:(?:\\r\n",
    "\\n)?[ \\t])*)(?:\\.(?:(?:\\r\\n)?[ \\t])*(?:[^()<>@,;:\\\\\".\\[\\] \\000-\\031]+(?:(?:(?:\n",
    "\\r\\n)?[ \\t])+|\\Z|(?=[\\[\"()<>@,;:\\\\\".\\[\\]]))|\"(?:[^\\\"\\r\\\\]|\\\\.|(?:(?:\\r\\n)?[ \\t\n",
    "]))*\"(?:(?:\\r\\n)?[ \\t])*))*@(?:(?:\\r\\n)?[ \\t])*(?:[^()<>@,;:\\\\\".\\[\\] \\000-\\031\n",
    "]+(?:(?:(?:\\r\\n)?[ \\t])+|\\Z|(?=[\\[\"()<>@,;:\\\\\".\\[\\]]))|\\[([^\\[\\]\\r\\\\]|\\\\.)*\\](\n",
    "?:(?:\\r\\n)?[ \\t])*)(?:\\.(?:(?:\\r\\n)?[ \\t])*(?:[^()<>@,;:\\\\\".\\[\\] \\000-\\031]+(?\n",
    ":(?:(?:\\r\\n)?[ \\t])+|\\Z|(?=[\\[\"()<>@,;:\\\\\".\\[\\]]))|\\[([^\\[\\]\\r\\\\]|\\\\.)*\\](?:(?\n",
    ":\\r\\n)?[ \\t])*))*\\>(?:(?:\\r\\n)?[ \\t])*)|(?:[^()<>@,;:\\\\\".\\[\\] \\000-\\031]+(?:(?\n",
    ":(?:\\r\\n)?[ \\t])+|\\Z|(?=[\\[\"()<>@,;:\\\\\".\\[\\]]))|\"(?:[^\\\"\\r\\\\]|\\\\.|(?:(?:\\r\\n)?\n",
    "[ \\t]))*\"(?:(?:\\r\\n)?[ \\t])*)*:(?:(?:\\r\\n)?[ \\t])*(?:(?:(?:[^()<>@,;:\\\\\".\\[\\] \n",
    "\\000-\\031]+(?:(?:(?:\\r\\n)?[ \\t])+|\\Z|(?=[\\[\"()<>@,;:\\\\\".\\[\\]]))|\"(?:[^\\\"\\r\\\\]|\n",
    "\\\\.|(?:(?:\\r\\n)?[ \\t]))*\"(?:(?:\\r\\n)?[ \\t])*)(?:\\.(?:(?:\\r\\n)?[ \\t])*(?:[^()<>\n",
    "@,;:\\\\\".\\[\\] \\000-\\031]+(?:(?:(?:\\r\\n)?[ \\t])+|\\Z|(?=[\\[\"()<>@,;:\\\\\".\\[\\]]))|\"\n",
    "(?:[^\\\"\\r\\\\]|\\\\.|(?:(?:\\r\\n)?[ \\t]))*\"(?:(?:\\r\\n)?[ \\t])*))*@(?:(?:\\r\\n)?[ \\t]\n",
    ")*(?:[^()<>@,;:\\\\\".\\[\\] \\000-\\031]+(?:(?:(?:\\r\\n)?[ \\t])+|\\Z|(?=[\\[\"()<>@,;:\\\\\n",
    "\".\\[\\]]))|\\[([^\\[\\]\\r\\\\]|\\\\.)*\\](?:(?:\\r\\n)?[ \\t])*)(?:\\.(?:(?:\\r\\n)?[ \\t])*(?\n",
    ":[^()<>@,;:\\\\\".\\[\\] \\000-\\031]+(?:(?:(?:\\r\\n)?[ \\t])+|\\Z|(?=[\\[\"()<>@,;:\\\\\".\\[\n",
    "\\]]))|\\[([^\\[\\]\\r\\\\]|\\\\.)*\\](?:(?:\\r\\n)?[ \\t])*))*|(?:[^()<>@,;:\\\\\".\\[\\] \\000-\n",
    "\\031]+(?:(?:(?:\\r\\n)?[ \\t])+|\\Z|(?=[\\[\"()<>@,;:\\\\\".\\[\\]]))|\"(?:[^\\\"\\r\\\\]|\\\\.|(\n",
    "?:(?:\\r\\n)?[ \\t]))*\"(?:(?:\\r\\n)?[ \\t])*)*\\<(?:(?:\\r\\n)?[ \\t])*(?:@(?:[^()<>@,;\n",
    ":\\\\\".\\[\\] \\000-\\031]+(?:(?:(?:\\r\\n)?[ \\t])+|\\Z|(?=[\\[\"()<>@,;:\\\\\".\\[\\]]))|\\[([\n",
    "^\\[\\]\\r\\\\]|\\\\.)*\\](?:(?:\\r\\n)?[ \\t])*)(?:\\.(?:(?:\\r\\n)?[ \\t])*(?:[^()<>@,;:\\\\\"\n",
    ".\\[\\] \\000-\\031]+(?:(?:(?:\\r\\n)?[ \\t])+|\\Z|(?=[\\[\"()<>@,;:\\\\\".\\[\\]]))|\\[([^\\[\\\n",
    "]\\r\\\\]|\\\\.)*\\](?:(?:\\r\\n)?[ \\t])*))*(?:,@(?:(?:\\r\\n)?[ \\t])*(?:[^()<>@,;:\\\\\".\\\n",
    "[\\] \\000-\\031]+(?:(?:(?:\\r\\n)?[ \\t])+|\\Z|(?=[\\[\"()<>@,;:\\\\\".\\[\\]]))|\\[([^\\[\\]\\\n",
    "r\\\\]|\\\\.)*\\](?:(?:\\r\\n)?[ \\t])*)(?:\\.(?:(?:\\r\\n)?[ \\t])*(?:[^()<>@,;:\\\\\".\\[\\] \n",
    "\\000-\\031]+(?:(?:(?:\\r\\n)?[ \\t])+|\\Z|(?=[\\[\"()<>@,;:\\\\\".\\[\\]]))|\\[([^\\[\\]\\r\\\\]\n",
    "|\\\\.)*\\](?:(?:\\r\\n)?[ \\t])*))*)*:(?:(?:\\r\\n)?[ \\t])*)?(?:[^()<>@,;:\\\\\".\\[\\] \\0\n",
    "00-\\031]+(?:(?:(?:\\r\\n)?[ \\t])+|\\Z|(?=[\\[\"()<>@,;:\\\\\".\\[\\]]))|\"(?:[^\\\"\\r\\\\]|\\\\\n",
    ".|(?:(?:\\r\\n)?[ \\t]))*\"(?:(?:\\r\\n)?[ \\t])*)(?:\\.(?:(?:\\r\\n)?[ \\t])*(?:[^()<>@,\n",
    ";:\\\\\".\\[\\] \\000-\\031]+(?:(?:(?:\\r\\n)?[ \\t])+|\\Z|(?=[\\[\"()<>@,;:\\\\\".\\[\\]]))|\"(?\n",
    ":[^\\\"\\r\\\\]|\\\\.|(?:(?:\\r\\n)?[ \\t]))*\"(?:(?:\\r\\n)?[ \\t])*))*@(?:(?:\\r\\n)?[ \\t])*\n",
    "(?:[^()<>@,;:\\\\\".\\[\\] \\000-\\031]+(?:(?:(?:\\r\\n)?[ \\t])+|\\Z|(?=[\\[\"()<>@,;:\\\\\".\n",
    "\\[\\]]))|\\[([^\\[\\]\\r\\\\]|\\\\.)*\\](?:(?:\\r\\n)?[ \\t])*)(?:\\.(?:(?:\\r\\n)?[ \\t])*(?:[\n",
    "^()<>@,;:\\\\\".\\[\\] \\000-\\031]+(?:(?:(?:\\r\\n)?[ \\t])+|\\Z|(?=[\\[\"()<>@,;:\\\\\".\\[\\]\n",
    "]))|\\[([^\\[\\]\\r\\\\]|\\\\.)*\\](?:(?:\\r\\n)?[ \\t])*))*\\>(?:(?:\\r\\n)?[ \\t])*)(?:,\\s*(\n",
    "?:(?:[^()<>@,;:\\\\\".\\[\\] \\000-\\031]+(?:(?:(?:\\r\\n)?[ \\t])+|\\Z|(?=[\\[\"()<>@,;:\\\\\n",
    "\".\\[\\]]))|\"(?:[^\\\"\\r\\\\]|\\\\.|(?:(?:\\r\\n)?[ \\t]))*\"(?:(?:\\r\\n)?[ \\t])*)(?:\\.(?:(\n",
    "?:\\r\\n)?[ \\t])*(?:[^()<>@,;:\\\\\".\\[\\] \\000-\\031]+(?:(?:(?:\\r\\n)?[ \\t])+|\\Z|(?=[\n",
    "\\[\"()<>@,;:\\\\\".\\[\\]]))|\"(?:[^\\\"\\r\\\\]|\\\\.|(?:(?:\\r\\n)?[ \\t]))*\"(?:(?:\\r\\n)?[ \\t\n",
    "])*))*@(?:(?:\\r\\n)?[ \\t])*(?:[^()<>@,;:\\\\\".\\[\\] \\000-\\031]+(?:(?:(?:\\r\\n)?[ \\t\n",
    "])+|\\Z|(?=[\\[\"()<>@,;:\\\\\".\\[\\]]))|\\[([^\\[\\]\\r\\\\]|\\\\.)*\\](?:(?:\\r\\n)?[ \\t])*)(?\n",
    ":\\.(?:(?:\\r\\n)?[ \\t])*(?:[^()<>@,;:\\\\\".\\[\\] \\000-\\031]+(?:(?:(?:\\r\\n)?[ \\t])+|\n",
    "\\Z|(?=[\\[\"()<>@,;:\\\\\".\\[\\]]))|\\[([^\\[\\]\\r\\\\]|\\\\.)*\\](?:(?:\\r\\n)?[ \\t])*))*|(?:\n",
    "[^()<>@,;:\\\\\".\\[\\] \\000-\\031]+(?:(?:(?:\\r\\n)?[ \\t])+|\\Z|(?=[\\[\"()<>@,;:\\\\\".\\[\\\n",
    "]]))|\"(?:[^\\\"\\r\\\\]|\\\\.|(?:(?:\\r\\n)?[ \\t]))*\"(?:(?:\\r\\n)?[ \\t])*)*\\<(?:(?:\\r\\n)\n",
    "?[ \\t])*(?:@(?:[^()<>@,;:\\\\\".\\[\\] \\000-\\031]+(?:(?:(?:\\r\\n)?[ \\t])+|\\Z|(?=[\\[\"\n",
    "()<>@,;:\\\\\".\\[\\]]))|\\[([^\\[\\]\\r\\\\]|\\\\.)*\\](?:(?:\\r\\n)?[ \\t])*)(?:\\.(?:(?:\\r\\n)\n",
    "?[ \\t])*(?:[^()<>@,;:\\\\\".\\[\\] \\000-\\031]+(?:(?:(?:\\r\\n)?[ \\t])+|\\Z|(?=[\\[\"()<>\n",
    "@,;:\\\\\".\\[\\]]))|\\[([^\\[\\]\\r\\\\]|\\\\.)*\\](?:(?:\\r\\n)?[ \\t])*))*(?:,@(?:(?:\\r\\n)?[\n",
    " \\t])*(?:[^()<>@,;:\\\\\".\\[\\] \\000-\\031]+(?:(?:(?:\\r\\n)?[ \\t])+|\\Z|(?=[\\[\"()<>@,\n",
    ";:\\\\\".\\[\\]]))|\\[([^\\[\\]\\r\\\\]|\\\\.)*\\](?:(?:\\r\\n)?[ \\t])*)(?:\\.(?:(?:\\r\\n)?[ \\t]\n",
    ")*(?:[^()<>@,;:\\\\\".\\[\\] \\000-\\031]+(?:(?:(?:\\r\\n)?[ \\t])+|\\Z|(?=[\\[\"()<>@,;:\\\\\n",
    "\".\\[\\]]))|\\[([^\\[\\]\\r\\\\]|\\\\.)*\\](?:(?:\\r\\n)?[ \\t])*))*)*:(?:(?:\\r\\n)?[ \\t])*)?\n",
    "(?:[^()<>@,;:\\\\\".\\[\\] \\000-\\031]+(?:(?:(?:\\r\\n)?[ \\t])+|\\Z|(?=[\\[\"()<>@,;:\\\\\".\n",
    "\\[\\]]))|\"(?:[^\\\"\\r\\\\]|\\\\.|(?:(?:\\r\\n)?[ \\t]))*\"(?:(?:\\r\\n)?[ \\t])*)(?:\\.(?:(?:\n",
    "\\r\\n)?[ \\t])*(?:[^()<>@,;:\\\\\".\\[\\] \\000-\\031]+(?:(?:(?:\\r\\n)?[ \\t])+|\\Z|(?=[\\[\n",
    "\"()<>@,;:\\\\\".\\[\\]]))|\"(?:[^\\\"\\r\\\\]|\\\\.|(?:(?:\\r\\n)?[ \\t]))*\"(?:(?:\\r\\n)?[ \\t])\n",
    "*))*@(?:(?:\\r\\n)?[ \\t])*(?:[^()<>@,;:\\\\\".\\[\\] \\000-\\031]+(?:(?:(?:\\r\\n)?[ \\t])\n",
    "+|\\Z|(?=[\\[\"()<>@,;:\\\\\".\\[\\]]))|\\[([^\\[\\]\\r\\\\]|\\\\.)*\\](?:(?:\\r\\n)?[ \\t])*)(?:\\\n",
    ".(?:(?:\\r\\n)?[ \\t])*(?:[^()<>@,;:\\\\\".\\[\\] \\000-\\031]+(?:(?:(?:\\r\\n)?[ \\t])+|\\Z\n",
    "|(?=[\\[\"()<>@,;:\\\\\".\\[\\]]))|\\[([^\\[\\]\\r\\\\]|\\\\.)*\\](?:(?:\\r\\n)?[ \\t])*))*\\>(?:(\n",
    "?:\\r\\n)?[ \\t])*))*)?;\\s*)\n",
    "\n",
    "See the stackoverflow discussion at http://stackoverflow.com/a/201378 for more details."
   ]
  },
  {
   "cell_type": "code",
   "execution_count": 39,
   "metadata": {
    "scrolled": true
   },
   "outputs": [
    {
     "name": "stdout",
     "output_type": "stream",
     "text": [
      "<re.Match object; span=(0, 21), match='2017302010@whu.edu.cn'>\n"
     ]
    }
   ],
   "source": [
    "email = '(^[A-Za-z0-9\\u4e00-\\u9fa5]+@[a-zA-Z0-9_-]+(\\.[a-zA-Z0-9_-]+)+$)'\n",
    "print(re.match(email, '2017302010@whu.edu.cn'))"
   ]
  },
  {
   "cell_type": "code",
   "execution_count": 112,
   "metadata": {},
   "outputs": [
    {
     "name": "stdout",
     "output_type": "stream",
     "text": [
      "一,丁,丂,龤,龥\n"
     ]
    }
   ],
   "source": [
    "print('\\u4e00,\\u4e01,\\u4e02,\\u9fa4,\\u9fa5')"
   ]
  },
  {
   "cell_type": "markdown",
   "metadata": {},
   "source": [
    "## Detect matches"
   ]
  },
  {
   "cell_type": "code",
   "execution_count": 114,
   "metadata": {
    "code_folding": []
   },
   "outputs": [
    {
     "name": "stdout",
     "output_type": "stream",
     "text": [
      "[True, False, True]\n"
     ]
    }
   ],
   "source": [
    "# Determine if a character matches a pattern\n",
    "str = [\"apple\",\"banana\",\"pear\"]\n",
    "print([bool(re.search('p', x)) for x in str])"
   ]
  },
  {
   "cell_type": "markdown",
   "metadata": {},
   "source": [
    "In ***words***, use the numeric context to answer questions about matches across a larger vector."
   ]
  },
  {
   "cell_type": "code",
   "execution_count": 41,
   "metadata": {
    "scrolled": true
   },
   "outputs": [
    {
     "name": "stdout",
     "output_type": "stream",
     "text": [
      "['a', 'able', 'about', 'absolute', 'accept', 'account', 'achieve', 'across', 'act', 'active', 'actual', 'add', 'address', 'admit', 'advertise', 'affect', 'afford', 'after', 'afternoon', 'again', 'against', 'age', 'agent', 'ago', 'agree', 'air', 'all', 'allow', 'almost', 'along', 'already', 'alright', 'also', 'although', 'always', 'america', 'amount', 'and', 'another', 'answer', 'any', 'apart', 'apparent', 'appear', 'apply', 'appoint', 'approach', 'appropriate', 'area', 'argue', 'arm', 'around', 'arrange', 'art', 'as', 'ask', 'associate', 'assume', 'at', 'attend', 'authority', 'available', 'aware', 'away', 'awful', 'baby', 'back', 'bad', 'bag', 'balance', 'ball', 'bank', 'bar', 'base', 'basis', 'be', 'bear', 'beat', 'beauty', 'because', 'become', 'bed', 'before', 'begin', 'behind', 'believe', 'benefit', 'best', 'bet', 'between', 'big', 'bill', 'birth', 'bit', 'black', 'bloke', 'blood', 'blow', 'blue', 'board', 'boat', 'body', 'book', 'both', 'bother', 'bottle', 'bottom', 'box', 'boy', 'break', 'brief', 'brilliant', 'bring', 'britain', 'brother', 'budget', 'build', 'bus', 'business', 'busy', 'but', 'buy', 'by', 'cake', 'call', 'can', 'car', 'card', 'care', 'carry', 'case', 'cat', 'catch', 'cause', 'cent', 'centre', 'certain', 'chair', 'chairman', 'chance', 'change', 'chap', 'character', 'charge', 'cheap', 'check', 'child', 'choice', 'choose', 'Christ', 'Christmas', 'church', 'city', 'claim', 'class', 'clean', 'clear', 'client', 'clock', 'close', 'closes', 'clothe', 'club', 'coffee', 'cold', 'colleague', 'collect', 'college', 'colour', 'come', 'comment', 'commit', 'committee', 'common', 'community', 'company', 'compare', 'complete', 'compute', 'concern', 'condition', 'confer', 'consider', 'consult', 'contact', 'continue', 'contract', 'control', 'converse', 'cook', 'copy', 'corner', 'correct', 'cost', 'could', 'council', 'count', 'country', 'county', 'couple', 'course', 'court', 'cover', 'create', 'cross', 'cup', 'current', 'cut', 'dad', 'danger', 'date', 'day', 'dead', 'deal', 'dear', 'debate', 'decide', 'decision', 'deep', 'definite', 'degree', 'department', 'depend', 'describe', 'design', 'detail', 'develop', 'die', 'difference', 'difficult', 'dinner', 'direct', 'discuss', 'district', 'divide', 'do', 'doctor', 'document', 'dog', 'door', 'double', 'doubt', 'down', 'draw', 'dress', 'drink', 'drive', 'drop', 'dry', 'due', 'during', 'each', 'early', 'east', 'easy', 'eat', 'economy', 'educate', 'effect', 'egg', 'eight', 'either', 'elect', 'electric', 'eleven', 'else', 'employ', 'encourage', 'end', 'engine', 'english', 'enjoy', 'enough', 'enter', 'environment', 'equal', 'especial', 'europe', 'even', 'evening', 'ever', 'every', 'evidence', 'exact', 'example', 'except', 'excuse', 'exercise', 'exist', 'expect', 'expense', 'experience', 'explain', 'express', 'extra', 'eye', 'face', 'fact', 'fair', 'fall', 'family', 'far', 'farm', 'fast', 'father', 'favour', 'feed', 'feel', 'few', 'field', 'fight', 'figure', 'file', 'fill', 'film', 'final', 'finance', 'find', 'fine', 'finish', 'fire', 'first', 'fish', 'fit', 'five', 'flat', 'floor', 'fly', 'follow', 'food', 'foot', 'for', 'force', 'forget', 'form', 'fortune', 'forward', 'four', 'france', 'free', 'friday', 'friend', 'from', 'front', 'full', 'fun', 'function', 'fund', 'further', 'future', 'game', 'garden', 'gas', 'general', 'germany', 'get', 'girl', 'give', 'glass', 'go', 'god', 'good', 'goodbye', 'govern', 'grand', 'grant', 'great', 'green', 'ground', 'group', 'grow', 'guess', 'guy', 'hair', 'half', 'hall', 'hand', 'hang', 'happen', 'happy', 'hard', 'hate', 'have', 'he', 'head', 'health', 'hear', 'heart', 'heat', 'heavy', 'hell', 'help', 'here', 'high', 'history', 'hit', 'hold', 'holiday', 'home', 'honest', 'hope', 'horse', 'hospital', 'hot', 'hour', 'house', 'how', 'however', 'hullo', 'hundred', 'husband', 'idea', 'identify', 'if', 'imagine', 'important', 'improve', 'in', 'include', 'income', 'increase', 'indeed', 'individual', 'industry', 'inform', 'inside', 'instead', 'insure', 'interest', 'into', 'introduce', 'invest', 'involve', 'issue', 'it', 'item', 'jesus', 'job', 'join', 'judge', 'jump', 'just', 'keep', 'key', 'kid', 'kill', 'kind', 'king', 'kitchen', 'knock', 'know', 'labour', 'lad', 'lady', 'land', 'language', 'large', 'last', 'late', 'laugh', 'law', 'lay', 'lead', 'learn', 'leave', 'left', 'leg', 'less', 'let', 'letter', 'level', 'lie', 'life', 'light', 'like', 'likely', 'limit', 'line', 'link', 'list', 'listen', 'little', 'live', 'load', 'local', 'lock', 'london', 'long', 'look', 'lord', 'lose', 'lot', 'love', 'low', 'luck', 'lunch', 'machine', 'main', 'major', 'make', 'man', 'manage', 'many', 'mark', 'market', 'marry', 'match', 'matter', 'may', 'maybe', 'mean', 'meaning', 'measure', 'meet', 'member', 'mention', 'middle', 'might', 'mile', 'milk', 'million', 'mind', 'minister', 'minus', 'minute', 'miss', 'mister', 'moment', 'monday', 'money', 'month', 'more', 'morning', 'most', 'mother', 'motion', 'move', 'mrs', 'much', 'music', 'must', 'name', 'nation', 'nature', 'near', 'necessary', 'need', 'never', 'new', 'news', 'next', 'nice', 'night', 'nine', 'no', 'non', 'none', 'normal', 'north', 'not', 'note', 'notice', 'now', 'number', 'obvious', 'occasion', 'odd', 'of', 'off', 'offer', 'office', 'often', 'okay', 'old', 'on', 'once', 'one', 'only', 'open', 'operate', 'opportunity', 'oppose', 'or', 'order', 'organize', 'original', 'other', 'otherwise', 'ought', 'out', 'over', 'own', 'pack', 'page', 'paint', 'pair', 'paper', 'paragraph', 'pardon', 'parent', 'park', 'part', 'particular', 'party', 'pass', 'past', 'pay', 'pence', 'pension', 'people', 'per', 'percent', 'perfect', 'perhaps', 'period', 'person', 'photograph', 'pick', 'picture', 'piece', 'place', 'plan', 'play', 'please', 'plus', 'point', 'police', 'policy', 'politic', 'poor', 'position', 'positive', 'possible', 'post', 'pound', 'power', 'practise', 'prepare', 'present', 'press', 'pressure', 'presume', 'pretty', 'previous', 'price', 'print', 'private', 'probable', 'problem', 'proceed', 'process', 'produce', 'product', 'programme', 'project', 'proper', 'propose', 'protect', 'provide', 'public', 'pull', 'purpose', 'push', 'put', 'quality', 'quarter', 'question', 'quick', 'quid', 'quiet', 'quite', 'radio', 'rail', 'raise', 'range', 'rate', 'rather', 'read', 'ready', 'real', 'realise', 'really', 'reason', 'receive', 'recent', 'reckon', 'recognize', 'recommend', 'record', 'red', 'reduce', 'refer', 'regard', 'region', 'relation', 'remember', 'report', 'represent', 'require', 'research', 'resource', 'respect', 'responsible', 'rest', 'result', 'return', 'rid', 'right', 'ring', 'rise', 'road', 'role', 'roll', 'room', 'round', 'rule', 'run', 'safe', 'sale', 'same', 'saturday', 'save', 'say', 'scheme', 'school', 'science', 'score', 'scotland', 'seat', 'second', 'secretary', 'section', 'secure', 'see', 'seem', 'self', 'sell', 'send', 'sense', 'separate', 'serious', 'serve', 'service', 'set', 'settle', 'seven', 'sex', 'shall', 'share', 'she', 'sheet', 'shoe', 'shoot', 'shop', 'short', 'should', 'show', 'shut', 'sick', 'side', 'sign', 'similar', 'simple', 'since', 'sing', 'single', 'sir', 'sister', 'sit', 'site', 'situate', 'six', 'size', 'sleep', 'slight', 'slow', 'small', 'smoke', 'so', 'social', 'society', 'some', 'son', 'soon', 'sorry', 'sort', 'sound', 'south', 'space', 'speak', 'special', 'specific', 'speed', 'spell', 'spend', 'square', 'staff', 'stage', 'stairs', 'stand', 'standard', 'start', 'state', 'station', 'stay', 'step', 'stick', 'still', 'stop', 'story', 'straight', 'strategy', 'street', 'strike', 'strong', 'structure', 'student', 'study', 'stuff', 'stupid', 'subject', 'succeed', 'such', 'sudden', 'suggest', 'suit', 'summer', 'sun', 'sunday', 'supply', 'support', 'suppose', 'sure', 'surprise', 'switch', 'system', 'table', 'take', 'talk', 'tape', 'tax', 'tea', 'teach', 'team', 'telephone', 'television', 'tell', 'ten', 'tend', 'term', 'terrible', 'test', 'than', 'thank', 'the', 'then', 'there', 'therefore', 'they', 'thing', 'think', 'thirteen', 'thirty', 'this', 'thou', 'though', 'thousand', 'three', 'through', 'throw', 'thursday', 'tie', 'time', 'to', 'today', 'together', 'tomorrow', 'tonight', 'too', 'top', 'total', 'touch', 'toward', 'town', 'trade', 'traffic', 'train', 'transport', 'travel', 'treat', 'tree', 'trouble', 'true', 'trust', 'try', 'tuesday', 'turn', 'twelve', 'twenty', 'two', 'type', 'under', 'understand', 'union', 'unit', 'unite', 'university', 'unless', 'until', 'up', 'upon', 'use', 'usual', 'value', 'various', 'very', 'video', 'view', 'village', 'visit', 'vote', 'wage', 'wait', 'walk', 'wall', 'want', 'war', 'warm', 'wash', 'waste', 'watch', 'water', 'way', 'we', 'wear', 'wednesday', 'wee', 'week', 'weigh', 'welcome', 'well', 'west', 'what', 'when', 'where', 'whether', 'which', 'while', 'white', 'who', 'whole', 'why', 'wide', 'wife', 'will', 'win', 'wind', 'window', 'wish', 'with', 'within', 'without', 'woman', 'wonder', 'wood', 'word', 'work', 'world', 'worry', 'worse', 'worth', 'would', 'write', 'wrong', 'year', 'yes', 'yesterday', 'yet', 'you', 'young']\n"
     ]
    }
   ],
   "source": [
    "df = pd.read_csv('words.csv', names=['words'])\n",
    "words = df.to_string(header=None, index=False, columns=['words']).replace(' ','').split('\\n')\n",
    "print(words)"
   ]
  },
  {
   "cell_type": "code",
   "execution_count": 43,
   "metadata": {
    "scrolled": false
   },
   "outputs": [
    {
     "name": "stdout",
     "output_type": "stream",
     "text": [
      "385\n",
      "65\n",
      "0.27653061224489794\n"
     ]
    }
   ],
   "source": [
    "# How many 'a's in words?\n",
    "print(sum([x.count('a') for x in words]))\n",
    "\n",
    "# How many common words start with t?\n",
    "print(sum([bool(re.search('^t', x)) for x in words]))\n",
    "\n",
    "# What proportion of common words end with a vowel?\n",
    "print(np.mean([bool(re.search('[aeiou]$', x)) for x in words]))"
   ]
  },
  {
   "cell_type": "markdown",
   "metadata": {},
   "source": [
    "When you have complex logical conditions, it’s easier to do with logical operators, rather than trying to create a single regular expression."
   ]
  },
  {
   "cell_type": "code",
   "execution_count": 60,
   "metadata": {},
   "outputs": [
    {
     "name": "stdout",
     "output_type": "stream",
     "text": [
      "915\n",
      "915\n"
     ]
    }
   ],
   "source": [
    "print(sum([bool(re.search('^[^t]', x)) for x in words])) # Harder\n",
    "print(sum([not bool(re.search('^t', x)) for x in words]))  # Easier"
   ]
  },
  {
   "cell_type": "markdown",
   "metadata": {},
   "source": [
    "Directly select the elements that match a pattern."
   ]
  },
  {
   "cell_type": "code",
   "execution_count": 61,
   "metadata": {
    "scrolled": true
   },
   "outputs": [
    {
     "name": "stdout",
     "output_type": "stream",
     "text": [
      "['box', 'sex', 'six', 'tax']\n"
     ]
    }
   ],
   "source": [
    "print([x for x in words if bool(re.search('x$',x))==True])"
   ]
  },
  {
   "cell_type": "code",
   "execution_count": 62,
   "metadata": {},
   "outputs": [
    {
     "name": "stdout",
     "output_type": "stream",
     "text": [
      "    words\n",
      "107   box\n",
      "746   sex\n",
      "771   six\n",
      "840   tax\n"
     ]
    }
   ],
   "source": [
    "# An easier way for dataframe\n",
    "print(df[df['words'].str.contains(\"x$\")])"
   ]
  },
  {
   "cell_type": "markdown",
   "metadata": {},
   "source": [
    "Note that matches never overlap. "
   ]
  },
  {
   "cell_type": "code",
   "execution_count": 63,
   "metadata": {},
   "outputs": [
    {
     "name": "stdout",
     "output_type": "stream",
     "text": [
      "2\n",
      "['aba', 'aba']\n"
     ]
    }
   ],
   "source": [
    "print('abababa'.count('aba'))\n",
    "print(re.findall('aba','abababa'))"
   ]
  },
  {
   "cell_type": "markdown",
   "metadata": {},
   "source": [
    "## Extract Matches"
   ]
  },
  {
   "cell_type": "markdown",
   "metadata": {},
   "source": [
    "To extract the actual text of a match, we need a more complicated example, the [Harvard sentences](https://en.wikipedia.org/wiki/Harvard_sentences)."
   ]
  },
  {
   "cell_type": "code",
   "execution_count": 64,
   "metadata": {},
   "outputs": [
    {
     "name": "stdout",
     "output_type": "stream",
     "text": [
      "['The birch canoe slid on the smooth planks.', ' Glue the sheet to the dark blue background.', \"It's easy to tell the depth of a well.\", 'These days a chicken leg is a rare dish.', 'Rice is often served in round bowls.', ' The juice of lemons makes fine punch.', ' The box was thrown beside the parked truck.', ' The hogs were fed chopped corn and garbage.', ' Four hours of steady work faced us.', 'Large size in stockings is hard to sell.', 'The boy was there when the sun rose.', ' A rod is used to catch pink salmon.', ' The source of the huge river is the clear spring.', 'Kick the ball straight and follow through.', 'Help the woman get back to her feet.', ' A pot of tea helps to pass the evening.', 'Smoky fires lack flame and heat.', \"The soft cushion broke the man's fall.\", ' The salt breeze came across from the sea.', ' The girl at the booth sold fifty bonds.', 'The small pup gnawed a hole in the sock.', ' The fish twisted and turned on the bent hook.', ' Press the pants and sew a button on the vest.', ' The swan dive was far short of perfect.', ' The beauty of the view stunned the young boy.', ' Two blue fish swam in the tank.', 'Her purse was full of useless trash.', ' The colt reared and threw the tall rider.', ' It snowed, rained, and hailed the same morning.', ' Read verse out loud for pleasure.', ' Hoist the load to your left shoulder.', 'Take the winding path to reach the lake.', 'Note closely the size of the gas tank.', ' Wipe the grease off his dirty face.', 'Mend the coat before you go out.', ' The wrist was badly strained and hung limp.', 'The stray cat gave birth to kittens.', 'The young girl gave no clear response.', ' The meal was cooked before the bell rang.', 'What joy there is in living.', ' A king ruled the state in the early days.', 'The ship was torn apart on the sharp reef.', 'Sickness kept him home the third week.', ' The wide road shimmered in the hot sun.', ' The lazy cow lay in the cool grass.', ' Lift the square stone over the fence.', ' The rope will bind the seven books at once.', ' Hop over the fence and plunge in.', 'The friendly gang left the drug store.', 'Mesh mire keeps chicks inside.', ' The frosty air passed through the coat.', 'The crooked maze failed to fool the mouse.', 'Adding fast leads to wrong sums.', 'The show was a flop from the very start.', ' A saw is a tool used for making boards.', ' The wagon moved on well oiled wheels.', 'March the soldiers past the next hill.', ' A cup of sugar makes sweet fudge.', 'Place a rosebush near the porch steps.', 'Both lost their lives in the raging storm.', 'We talked of the slide show in the circus.', 'Use a pencil to write the first draft.', 'He ran half way to the hardware store.', 'The clock struck to mark the third period.', ' A small creek cut across the field.', ' Cars and busses stalled in snow drifts.', ' The set of china hit, the floor with a crash.', ' This is a grand season for hikes on the road.', ' The dune rose from the edge of the water.', 'Those words were the cue for the actor to leave.', ' A yacht slid around the point into the bay.', 'The two met while playing on the sand.', ' The ink stain dried on the finished page.', ' The walled town was seized without a fight.', ' The lease ran out in sixteen weeks.', ' A tame squirrel makes a nice pet.', 'The horn of the car woke the sleeping cop.', 'The heart beat strongly and with firm strokes.', ' The pearl was worn in a thin silver ring.', ' The fruit peel was cut in thick slices.', ' The Navy attacked the big task force.', 'See the cat glaring at the scared mouse.', ' There are more than two factors here.', ' The hat brim was wide and too droopy.', 'The lawyer tried to lose his case.', ' The grass curled around the fence post.', ' Cut the pie into large parts.', ' Men strive but seldom get rich.', ' Always close the barn door tight.', ' He lay prone and hardly moved a limb.', 'The slush lay deep along the street.', ' A wisp of cloud hung in the blue air.', 'A pound of sugar costs more than eggs.', 'The fin was sharp and cut the clear water.', ' The play seems dull and quite stupid.', ' Bail the boat, to stop it from sinking.', 'The term ended in late June that year.', 'A tusk is used to make costly gifts.', ' Ten pins were set in order.', 'The bill as paid every third week.', ' Oak is strong and also gives shade.', 'Cats and dogs each hate the other.', ' The pipe began to rust while new.', \" Open the crate but don't break the glass.\", 'Add the sum to the product of these three.', ' Thieves who rob friends deserve jail.', ' The ripe taste of cheese improves with age.', ' Act on these orders with great speed.', ' The hog crawled under the high fence.', ' Move the vat over the hot fire.', ' The bark of the pine tree was shiny and dark.', ' Leaves turn brown and yellow in the fall.', ' The pennant waved when the wind blew.', ' Split the log with a quick, sharp blow.', 'Burn peat after the logs give out.', 'He ordered peach pie with ice cream.', 'Weave the carpet on the right hand side.', ' Hemp is a weed found in parts of the tropics.', ' A lame back kept his score low.', ' We find joy in the simplest things.', ' Type out three lists of orders.', ' The harder he tried the less he got done.', 'The boss ran the show with a watchful eye.', ' The cup cracked and spilled its contents.', ' Paste can cleanse the most dirty brass.', 'The slang word for raw whiskey is booze.', ' It caught its hind paw in a rusty trap.', ' The wharf could be seen at the farther shore.', 'Feel the heat of the weak dying flame.', ' The tiny girl took off her hat.', ' A cramp is no small danger on a swim.', ' He said the same phrase thirty times.', ' Pluck the bright rose without leaves.', 'Two plus seven is less than ten.', 'The glow deepened in the eyes of the sweet girl.', 'Bring your problems to the wise chief.', 'Write a fond note to the friend you cherish.', 'Clothes and lodging are free to new men.', ' We frown when events take a bad turn.', ' Port is a strong wine with s smoky taste.', 'The young kid jumped the rusty gate.', 'Guess the results from the first scores.', ' A salt pickle tastes fine with ham.', ' The just claim got the right verdict.', ' These thistles bend in a high wind.', ' Pure bred poodles have curls.', ' The tree top waved in a graceful way.', 'The spot on the blotter was made by green ink.', 'Mud was spattered on the front of his white shirt.', 'The cigar burned a hole in the desk top.', 'The empty flask stood on the tin tray.', 'A speedy man can beat this track mark.', ' He broke a new shoelace that day.', ' The coffee stand is too high for the couch.', 'The urge to write short stories is rare.', ' The pencils have all been used.', ' The pirates seized the crew of the lost ship.', 'We tried to replace the coin but failed.', ' She sewed the torn coat quite neatly.', 'The sofa cushion is red and of light weight.', 'The jacket hung on the back of the wide chair.', ' At that high level the air is pure.', 'Drop the two when you add the figures.', ' A filing case is now hard to buy.', ' An abrupt start does not win the prize.', 'Wood is best for making toys and blocks.', 'The office paint was a dull sad tan.', ' He knew the skill of the great young actress.', ' A rag will soak up spilled water.', ' A shower of dirt fell from the hot pipes.', ' Steam hissed from the broken valve.', 'The child almost hurt the small dog.', 'There was a sound of dry leaves outside.', ' The sky that morning was clear and bright blue.', ' Torn scraps littered the stone floor.', 'Sunday is the best part of the week.', 'The doctor cured him with these pills.', ' The new girl was fired today at noon.', 'They felt gay when the ship arrived in port.', \" Add the store's account to the last cent.\", ' Acid burns holes in wool cloth.', ' Fairy tales should be fun to write.', 'Eight miles of woodland burned to waste.', ' The third act was dull and tired the players.', ' A young child should not suffer fright.', 'Add the column and put the sum here.', ' We admire and love a good cook.', ' There the flood mark is ten inches.', 'He carved a head from the round block of marble.', 'She has st smart way of wearing clothes.', 'The fruit of a fig tree is apple-shaped.', ' Corn cobs can be used to kindle a fire.', ' Where were they when the noise started.', ' The paper box is full of thumb tacks.', ' Sell your gift to a buyer at a good gain.', 'The tongs lay beside the ice pail.', ' The petals fall with the next puff of wind.', ' Bring your best compass to the third class.', 'They could laugh although they were sad.', ' Farmers came in to thresh the oat crop.', ' The brown house was on fire to the attic.', ' The lure is used to catch trout and flounder.', 'Float the soap on top of the bath water.', ' A blue crane is a tall wading bird.', ' A fresh start will work such wonders.', ' The club rented the rink for the fifth night.', 'After the dance they went straight home.', ' The hostess taught the new maid to serve.', ' He wrote his last novel there at the inn.', ' Even the worst will beat his low score.', 'The cement had dried when he moved it.', ' The loss of the second ship was hard to take.', 'The fly made its way along the wall.', 'Do that with a wooden stick.', 'Lire wires should be kept covered.', ' The large house had hot water taps.', 'It is hard to erase blue or red ink.', ' Write at once or you may forget it.', 'The doorknob was made of bright clean brass.', 'The wreck occurred by the bank on Main Street.', ' A pencil with black lead writes best.', ' Coax a young calf to drink from a bucket.', ' Schools for ladies teach charm and grace.', ' The lamp shone with a steady green flame.', 'They took the axe and the saw to the forest.', ' The ancient coin was quite dull and worn.', 'The shaky barn fell with a loud crash.', 'Jazz and swing fans like fast music.', ' Rake the rubbish up and then burn it.', ' Slash the gold cloth into fine ribbons.', 'Try to have the court decide the case.', ' They are pushed back each time they attack.', 'He broke his ties with groups of former friends.', 'They floated on the raft to sun their white backs.', 'The map had an X that meant nothing.', ' Whitings are small fish caught in nets.', ' Some ads serve to cheat buyers.', 'Jerk the rope and the bell rings weakly.', 'A waxed floor makes us lose balance.', 'Madam, this is the best brand of corn.', ' On the islands the sea breeze is soft and mild.', 'The play began as soon as we sat down.', ' This will lead the world to more sound and fury', 'Add salt before you fry the egg.', 'The rush for funds reached its peak Tuesday.', 'The birch looked stark white and lonesome.', 'The box is held by a bright red snapper.', ' To make pure ice, you freeze water.', 'The first worm gets snapped early.', ' Jump the fence and hurry up the bank.', ' Yell and clap as the curtain slides back.', ' They are men nho walk the middle of the road.', ' Both brothers wear the same size.', ' In some forin or other we need fun.', 'The prince ordered his head chopped off.', 'The houses are built of red clay bricks.', ' Ducks fly north but lack a compass.', 'Fruit flavors are used in fizz drinks.', ' These pills do less good than others.', 'Canned pears lack full flavor.', 'The dark pot hung in the front closet.', 'Carry the pail to the wall and spill it there.', ' The train brought our hero to the big town.', ' We are sure that one war is enough.', 'Gray paint stretched for miles around.', ' The rude laugh filled the empty room.', 'High seats are best for football fans.', ' Tea served from the brown jug is tasty.', 'A dash of pepper spoils beef stew.', 'A zestful food is the hot-cross bun.', ' The horse trotted around the field at a brisk pace.', ' Find the twin who stole the pearl necklace.', 'Cut the cord that binds the box tightly.', ' The red tape bound the smuggled food.', ' Look in the corner to find the tan shirt.', 'The cold drizzle will halt the bond drive.', ' Nine men were hired to dig the ruins.', ' The junk yard had a mouldy smell.', ' The flint sputtered and lit a pine torch.', 'Soak the cloth and drown the sharp odor.', 'The shelves were bare of both jam or crackers.', 'A joy to every child is the swan boat.', 'All sat frozen and watched the screen.', ' ii cloud of dust stung his tender eyes.', ' To reach the end he needs much courage.', 'Shape the clay gently into block form.', 'The ridge on a smooth surface is a bump or flaw.', 'Hedge apples may stain your hands green.', 'Quench your thirst, then eat the crackers.', ' Tight curls get limp on rainy days.', 'The mute muffled the high tones of the horn.', 'The gold ring fits only a pierced ear.', 'The old pan was covered with hard fudge.', 'Watch the log float in the wide river.', 'The node on the stalk of wheat grew daily.', 'The heap of fallen leaves was set on fire.', 'Write fast, if you want to finish early.', 'His shirt was clean but one button was gone.', ' The barrel of beer was a brew of malt and hops.', ' Tin cans are absent from store shelves.', 'Slide the box into that empty space.', ' The plant grew large and green in the window.', \"The beam dropped down on the workmen's head.\", ' Pink clouds floated JTith the breeze.', 'She danced like a swan, tall and graceful.', ' The tube was blown and the tire flat and useless.', ' It is late morning on the old wall clock.', \"Let's all join as we sing the last chorus.\", ' The last switch cannot be turned off.', ' The fight will end in just six minutes.', ' The store walls were lined with colored frocks.', 'The peace league met to discuss their plans.', 'The rise to fame of a person takes luck.', ' Paper is scarce, so write with much care.', ' The quick fox jumped on the sleeping cat.', ' The nozzle of the fire hose was bright brass.', 'Screw the round cap on as tight as needed.', 'Time brings us many changes.', ' The purple tie was ten years old.', ' Men think and plan and sometimes act.', 'Fill the ink jar with sticky glue.', ' He smoke a big pipe with strong contents.', 'We need grain to keep our mules healthy.', ' Pack the records in a neat thin case.', 'The crunch of feet in the snow was the only sound.', \"The copper bowl shone in the sun's rays.\", ' Boards will warp unless kept dry.', 'The plush chair leaned against the wall.', 'Glass will clink when struck by metal.', 'Bathe and relax in the cool green grass.', 'Nine rows of soldiers stood in line.', ' The beach is dry and shallow at low tide.', ' The idea is to sew both edges straight.', 'The kitten chased the dog down the street.', ' Pages bound in cloth make a book.', 'Try to trace the fine lines of the painting.', ' Women form less than half of the group.', 'The zones merge in the central part of town.', 'A gem in the rough needs work to polish.', ' Code is used when secrets are sent.', ' Most of the new is easy for us to hear.', 'He used the lathe to make brass objects.', ' The vane on top of the pole revolved in the wind.', ' Mince pie is a dish served to children.', ' The clan gathered on each dull night.', 'Let it burn, it gives us warmth and comfort.', ' A castle built from sand fails to endure.', \" A child's wit saved the day for us.\", ' Tack the strip of carpet to the worn floor.', 'Next Tuesday we must vote.', 'Pour the stew from the pot into the plate.', 'Each penny shone like new.', ' The man went to the woods to gather sticks.', ' The dirt piles were lines along the road.', 'The logs fell and tumbled into the clear stream.', 'Just hoist it up and take it away,', \" A ripe plum is fit for a king's palate.\", ' Our plans right now are hazy.', 'Brass rings are sold by these natives.', ' It takes a good trap to capture a bear.', ' Feed the white mouse some flower seeds.', ' The thaw came early and freed the stream.', 'He took the lead and kept it the whole distance.', ' The key you designed will fit the lock.', 'Plead to the council to free the poor thief.', ' Better hash is made of rare beef.', ' This plank was made for walking on.', ' The lake sparkled in the red hot sun.', ' He crawled with care along the ledge.', ' Tend the sheep while the dog wanders.', ' It takes a lot of help to finish these.', 'Mark the spot with a sign painted red.', ' Take two shares as a fair profit.', ' The fur of cats goes by many names.', ' North winds bring colds and fevers.', ' He asks no person to vouch for him.', ' Go now and come here later.', 'A sash of gold silk will trim her dress.', ' Soap can wash most dirt away.', ' That move means the game is over.', ' He wrote down a long list of items.', 'A siege will crack the strong defense.', ' Grape juice and water mix well.', 'Roads are paved with sticky tar.', ' Fake &ones shine but cost little.', ' The drip of the rain made a pleasant sound.', 'Smoke poured out of every crack.', 'Serve the hot rum to the tired heroes.', ' Much of the story makes good sense.', ' The sun came up to light the eastern sky.', 'Heave the line over the port side.', 'A lathe cuts and trims any wood.', \"It's a dense crowd in two distinct ways.\", ' His hip struck the knee of the next player.', 'The stale smell of old beer lingers.', ' The desk was firm on the shaky floor.', 'It takes heat to bring out the odor.', ' Beef is scarcer than some lamb.', 'Raise the sail and steer the ship northward.', ' The cone costs five cents on Mondays.', 'A pod is what peas always grow in.', ' Jerk the dart from the cork target.', 'No cement will hold hard wood.', 'We now have a new base for shipping.', 'The list of names is carved around the base.', ' The sheep were led home by a dog.', 'Three for a dime, the young peddler cried.', 'The sense of smell is better than that of touch.', ' No hardship seemed to keep him sad.', 'Grace makes up for lack of beauty.', 'Nudge gently but wake her now.', 'The news struck doubt into restless minds.', ' Once we stood beside the shore.', 'A chink in the wall allowed a draft to blow.', ' Fasten two pins on each side.', 'A cold dip restores health and zest.', ' He takes the oath of office each March.', ' The sand drifts over the sill of the old house.', 'The point of the steel pen was bent and twisted.', ' There is a lag between thought and act.', 'Seed is needed to plant the spring corn.', 'Draw the chart with heavy black lines.', 'The boy owed his pal thirty cents.', ' The chap slipped into the crowd and was lost.', ' Hats are worn to tea and not to dinner.', 'The ramp led up to the wide highway.', ' Beat the dust from the rug onto the lawn.', ' Say it slow!y but make it ring clear.', 'The straw nest housed five robins.', ' Screen the porch with woven straw mats.', ' This horse will nose his way to the finish.', 'The dry wax protects the deep scratch.', 'He picked up the dice for a second roll.', ' These coins will be needed to pay his debt.', 'The nag pulled the frail cart along.', 'Twist the valve and release hot steam.', ' The vamp of the shoe had a gold buckle.', 'The smell of burned rags itches my nose.', ' Xew pants lack cuffs and pockets.', ' The marsh will freeze when cold enough.', ' They slice the sausage thin with a knife.', ' The bloom of the rose lasts a few days.', ' A gray mare walked before the colt.', ' Breakfast buns are fine with a hot drink.', ' Bottles hold four kinds of rum.', ' The man wore a feather in his felt hat.', ' He wheeled the bike past. the winding road.', ' Drop the ashes on the worn old rug.', 'The desk and both chairs were painted tan.', ' Throw out the used paper cup and plate.', ' A clean neck means a neat collar.', 'The couch cover and hall drapes were blue.', 'The stems of the tall glasses cracked and broke.', ' The wall phone rang loud and often.', 'The clothes dried on a thin wooden rack.', ' Turn on the lantern which gives us light.', ' The cleat sank deeply into the soft turf.', ' The bills were mailed promptly on the tenth of the month.', 'To have is better than to wait and hope.', ' The price is fair for a good antique clock.', 'The music played on while they talked.', 'Dispense with a vest on a day like this.', 'The bunch of grapes was pressed into wine.', ' He sent the figs, but kept the ripe cherries.', ' The hinge on the door creaked with old age.', 'The screen before the fire kept in the sparks.', 'Fly by night, and you waste little time.', 'Thick glasses helped him read the print.', 'Birth and death mark the limits of life.', 'The chair looked strong but had no bottom.', 'The kite flew wildly in the high wind.', 'A fur muff is stylish once more.', 'The tin box held priceless stones.', 'We need an end of all such matter.', 'The case was puzzling to the old and wise.', 'The bright lanterns were gay on the dark lawn.', \"We don't get much money but we have fun.\", 'The youth drove with zest, but little skill.', 'Five years he lived with a shaggy dog.', 'A fence cuts through the corner lot.', ' The way to save money is not to spend much.', ' Shut the hatch before the waves push it in.', ' The odor of spring makes young hearts jump.', 'Crack the walnut with your sharp side teeth.', 'He offered proof in the form of a lsrge chart.', 'Send the stuff in a thick paper bag.', ' A quart of milk is water for the most part.', ' They told wild tales to frighten him.', ' The three story house was built of stone.', 'In the rear of the ground floor was a large passage.', 'A man in a blue sweater sat at the desk.', ' Oats are a food eaten by horse and man.', ' Their eyelids droop for want. of sleep.', 'The sip of tea revives his tired friend.', ' There are many ways to do these things.', ' Tuck the sheet under the edge of the mat.', ' A force equal to that would move the earth.', ' We like to see clear weather.', 'The work of the tailor is seen on each side.', ' Take a chance and win a china doll.', ' Shake the dust from your shoes, stranger.', 'She was kind to sick old people.', 'The dusty bench stood by the stone wall.', ' The square wooden crate was packed to be shipped.', 'We dress to suit the weather of most days.', ' Smile when you say nasty words.', ' A bowl of rice is free with chicken stew.', 'The water in this well is a source of good health.', 'Take shelter in this tent, but keep still.', ' That guy is the writer of a few banned books.', ' The little tales they tell are false.', 'The door was barred, locked, and bolted as well.', \" Ripe pears are fit for a queen's table.\", 'A big wet stain was on the round carpet.', ' The kite dipped and swayed, but stayed aloft.', 'The pleasant hours fly by much too soon.', ' The room was crowded with a wild mob.', 'This strong arm shall shield your honor.', 'She blushed when he gave her a white orchid.', 'The beetle droned in the hot June sun.', 'Press the pedal with your left foot.', ' Neat plans fail without luck.', 'The black trunk fell from the landing.', ' The bank pressed for payment of the debt.', ' The theft of the pearl pin was kept secret.', ' Shake hands with this friendly child.', ' The vast space stretched into the far distance.', 'A rich farm is rare in this sandy waste.', 'His wide grin earned many friends.', ' Flax makes a fine brand of paper.', ' Hurdle the pit with the aid of a long pole.', 'A strong bid may scare your partner stiff.', ' Even a just cause needs power to win.', ' Peep under the tent and see the clowns.', ' The leaf drifts along with a slow spin.', ' Cheap clothes are flashy but don??????t last.', 'A thing of small note can cause despair.', 'Flood the mails with requests for this book.', 'A thick coat of black paint covered all.', 'The pencil was cut to be sharp at both ends.', ' Those last words were a strong statement.', 'He wrote his name boldly at the top of tile sheet.', ' Dill pickles are sour but taste fine.', 'Down that road is the way to the grain farmer.', 'Either mud or dust are found at all times.', ' The best method is to fix it in place with clips.', ' If you mumble your speech will be lost.', 'At night the alarm roused him from a deep sleep.', 'Read just what the meter says.', ' Fill your pack with bright trinkets for the poor.', ' The small red neon lamp went out.', 'Clams are small, round, soft, and tasty.', 'The fan whirled its round blades softly.', 'The line where the edges join was clean.', 'Breathe deep and smell the piny air.', 'It matters not if he reads these words or those.', 'A brown leather bag hung from its strap.', ' A toad and a frog are hard to tell apart.', 'A white silk jacket goes with any shoes.', ' A break in the dam almost caused a flood.', ' Paint the sockets in the wall dull green.', ' The child crawled into the dense grass.', 'Bribes fail where honest men work.', ' Trample the spark, else the flames will spread.', 'The hilt. of the sword was carved with fine designs.', 'A round hole was drilled through the thin board.', 'Footprints showed the path he took up the beach.', ' She was waiting at my front lawn.', 'A vent near the edge brought in fresh air.', ' Prod the old mule with a crooked stick.', 'It is a band of steel three inches wide.', 'The pipe ran almost the length of the ditch.', 'It was hidden from sight by a mass of leaves and shrubs.', 'The weight. of the package was seen on the high scale.', 'Wake and rise, and step into the green outdoors.', ' The green light in the brown box flickered.', ' The brass tube circled the high wall.', ' The lobes of her ears were pierced to hold rings.', ' Hold the hammer near the end to drive the nail.', 'Next Sunday is the twelfth of the month.', 'Every word and phrase he speaks is true.', ' He put his last cartridge into the gun and fired.', 'They took their kids from the public school.', ' Drive the screw straight into the wood.', 'Keep the hatch tight and the watch constant.', ' Sever the twine with a quick snip of the knife.', 'Paper will dry out when wet.', ' Slide the catch back and open the desk.', ' Help the weak to preserve their strength.', 'A sullen smile gets few friends.', 'Stop whistling and watch the boys march.', 'Jerk the cord, and out tumbles the gold.', 'Slidc the tray across the glass top.', 'The cloud moved in a stately way and was gone.', ' Light maple makes for a swell room.', ' Set the piece here and say nothing.', 'Dull stories make her laugh.', ' A stiff cord will do to fasten your shoe.', ' Get the trust fund to the bank early.', ' Choose between the high road and the low.', ' A plea for funds seems to come again.', 'He lent his coat to the tall gaunt stranger.', 'There is a strong chance it will happen once more.', ' The duke left the park in a silver coach.', ' Greet the new guests and leave quickly.', 'When the frost has come it is time for turkey.', 'Sweet words work better than fierce.', ' A thin stripe runs down the middle.', ' A six comes up more often than a ten.', 'Lush fern grow on the lofty rocks.', ' The ram scared the school children off.', ' The team with the best timing looks good.', 'The farmer swapped his horse for a brown ox.', 'Sit on the perch and tell the others what to do.', 'A steep trail is painful for our feet.', ' The early phase of life moves fast.', 'Green moss grows on the northern side.', 'Tea in thin china has a sweet taste.', ' Pitch the straw through the door of the stable.', ' The latch on the beck gate needed a nail.', ' The goose was brought straight from the old market.', 'The sink is the thing in which we pile dishes.', ' A whiff of it will cure the most stubborn cold.', ' The facts don\\x92t always show who is right.', ' She flaps her cape as she parades the street.', 'The loss of the cruiser was a blow to the fleet.', ' Loop the braid to the left and then over.', ' Plead with the lawyer to drop the lost cause.', ' Calves thrive on tender spring grass.', 'Post no bills on this office wall.', 'Tear a thin sheet from the yellow pad.', 'A cruise in warm waters in a sleek yacht is fun.', ' A streak of color ran down the left edge.', 'It was done before the boy could see it.', 'Crouch before you jump or miss the mark.', 'Pack the kits and don\\x92t forget the salt.', ' The square peg will settle in the round hole.', 'Fine soap saves tender skin.', 'Poached eggs and tea must suffice.', 'Bad nerves are jangled by a door slam.', 'Ship maps are different from those for planes.', ' Dimes showered down from all sides.', ' They sang the same tunes at each party.', 'The sky in the west is tinged with orange red.', 'The pods of peas ferment in bare fields.', 'The horse balked and threw the tall rider.', ' The hitch between the horse and cart broke.', 'Pile the coal high in the shed corner.', 'The gold vase is both rare and costly.', 'The knife was hung inside its bright sheath.', ' The rarest spice comes from the far East.', ' The roof should be tilted at a sharp slant.', ' A smatter of French is worse than none.', 'The mule trod the treadmill day and night.', 'The aim of the contest is to raise a great fund.', 'To send it. now in large amounts is bad.', ' There is a fine hard tang in salty air.', 'Cod is the main business of the north shore.', 'The slab was hewn from heavy blocks of slat\\x92e.', 'Dunk the stale biscuits into strong drink.', ' Hang tinsel from both branches.', ' Cap the jar with a tight brass cover.', ' The poor boy missed the boat again.', ' Be sure to set the lamp firmly in the hole.', 'Pick a card and slip it. under the pack.', ' A round mat will cover the dull spot.', 'The first part of the plan needs changing.', ' The good book informs of what we ought to know.', 'The mail comes in three batches per day.', 'You cannot brew tea in a cold pot.', ' Dots of light betrayed the black cat.', ' Put the chart on the mantel and tack it down.', ' The night shift men rate extra pay.', ' The red paper brightened the dim stage.', ' See the player scoot to third base.', 'Slide the bill between the two leaves.', ' Many hands help get the job done.', \"We don't like to admit our small faults.\", 'No doubt about the way the wind blows.', \"Dig deep in the earth for pirate's gold.\", ' The steady drip is worse than a drenching rain.', ' A flat pack takes less luggage space.', ' Green ice frosted the punch bowl.', 'A stuffed chair slipped from the moving van.', 'The stitch will serve but needs to be shortened.', 'A thin book fits in the side pocket.', ' The gloss on top made it unfit to read.', ' The hail pattered on the burnt brown grass.', ' Seven seals were stamped on great sheets.', ' Our troops are set to strike heavy blows.', ' The store was jammed before the sale could start.', 'It was a bad error on the part of the new judge.', 'One step more and the board will collapse.', ' Take the match and strike it against your shoe.', 'The pot boiled, but the contents failed to jell.', 'The baby puts his right foot in his mouth.', ' The bombs left most of the town in ruins.', ' Stop and stare at the hard working man.', ' The streets are narrow and full of sharp turns.', 'The pup jerked the leash as he saw a feline shape.', ' Open your book to the first page.', ' Fish evade the net, and swim off.', 'Dip the pail once and let it settle.', 'Will you please answer that phone.', ' The big red apple fell to the ground.', ' The curtain rose and the show was on.', ' The young prince became heir to the throne.', 'He sent the boy on a short errand.', 'Leave now and you will arrive on time.', ' The corner store was robbed last night.', 'A gold ring will please most any girl.', 'The long journey home took a year.', \"She saw a cat in the neighbor's house.\", 'A pink shell was found on the sandy beach.', ' Small children came to see him.', ' The grass and bushes were wet with dew.', 'The blind man counted his old coins.', 'A severe storm tore down the barn.', ' She called his name many times.', ' When you hear the bell, come quickly.']\n"
     ]
    }
   ],
   "source": [
    "df = pd.read_csv('sentences.csv', names=['sentences'])\n",
    "sentences = df.to_string(header=None, index=False, columns=['sentences']).replace('  ','').split('\\n')\n",
    "print(sentences)"
   ]
  },
  {
   "cell_type": "code",
   "execution_count": 65,
   "metadata": {},
   "outputs": [
    {
     "name": "stdout",
     "output_type": "stream",
     "text": [
      "720\n"
     ]
    }
   ],
   "source": [
    "# How many lines in sentences\n",
    "print(len(sentences))"
   ]
  },
  {
   "cell_type": "markdown",
   "metadata": {},
   "source": [
    "Find all sentences that contain a colour."
   ]
  },
  {
   "cell_type": "code",
   "execution_count": 66,
   "metadata": {},
   "outputs": [
    {
     "name": "stdout",
     "output_type": "stream",
     "text": [
      "red|orange|yellow|green|blue|purple\n"
     ]
    }
   ],
   "source": [
    "colours = [\"red\", \"orange\", \"yellow\", \"green\", \"blue\", \"purple\"]\n",
    "colour_match = '|'.join(colours)\n",
    "print(colour_match)"
   ]
  },
  {
   "cell_type": "code",
   "execution_count": 67,
   "metadata": {},
   "outputs": [
    {
     "name": "stdout",
     "output_type": "stream",
     "text": [
      "[' Glue the sheet to the dark blue background.', ' Two blue fish swam in the tank.', ' The colt reared and threw the tall rider.', ' The wide road shimmered in the hot sun.', 'See the cat glaring at the scared mouse.', ' A wisp of cloud hung in the blue air.', ' Leaves turn brown and yellow in the fall.', 'He ordered peach pie with ice cream.', ' Pure bred poodles have curls.', 'The spot on the blotter was made by green ink.', 'Mud was spattered on the front of his white shirt.', 'The sofa cushion is red and of light weight.', ' The sky that morning was clear and bright blue.', ' Torn scraps littered the stone floor.', 'The doctor cured him with these pills.', ' The new girl was fired today at noon.', ' The third act was dull and tired the players.', ' A blue crane is a tall wading bird.', 'Lire wires should be kept covered.', 'It is hard to erase blue or red ink.', 'The wreck occurred by the bank on Main Street.', ' The lamp shone with a steady green flame.', 'The box is held by a bright red snapper.', 'The prince ordered his head chopped off.', 'The houses are built of red clay bricks.', ' The red tape bound the smuggled food.', ' Nine men were hired to dig the ruins.', ' The flint sputtered and lit a pine torch.', 'Hedge apples may stain your hands green.', 'The old pan was covered with hard fudge.', ' The plant grew large and green in the window.', ' The store walls were lined with colored frocks.', ' The purple tie was ten years old.', 'Bathe and relax in the cool green grass.', ' The clan gathered on each dull night.', ' The lake sparkled in the red hot sun.', 'Mark the spot with a sign painted red.', 'Smoke poured out of every crack.', 'Serve the hot rum to the tired heroes.', 'The couch cover and hall drapes were blue.', 'He offered proof in the form of a lsrge chart.', 'A man in a blue sweater sat at the desk.', 'The sip of tea revives his tired friend.', 'The door was barred, locked, and bolted as well.', 'A thick coat of black paint covered all.', ' The small red neon lamp went out.', ' Paint the sockets in the wall dull green.', 'Wake and rise, and step into the green outdoors.', ' The green light in the brown box flickered.', ' He put his last cartridge into the gun and fired.', ' The ram scared the school children off.', 'Tear a thin sheet from the yellow pad.', ' Dimes showered down from all sides.', 'The sky in the west is tinged with orange red.', ' The red paper brightened the dim stage.', ' The hail pattered on the burnt brown grass.', ' The big red apple fell to the ground.']\n"
     ]
    }
   ],
   "source": [
    "# Find out the sentences that contain a colour\n",
    "print([x for x in sentences if bool(re.search(colour_match, x))==True])"
   ]
  },
  {
   "cell_type": "code",
   "execution_count": 68,
   "metadata": {},
   "outputs": [
    {
     "name": "stdout",
     "output_type": "stream",
     "text": [
      "['It is hard to erase blue or red ink.', ' The green light in the brown box flickered.', 'The sky in the west is tinged with orange red.']\n"
     ]
    }
   ],
   "source": [
    "# Find out all the sentences that have more than 1 match\n",
    "more_match = [x for x in sentences if sum([x.count(y) for y in colours])>1]\n",
    "print(more_match)"
   ]
  },
  {
   "cell_type": "code",
   "execution_count": 69,
   "metadata": {},
   "outputs": [
    {
     "name": "stdout",
     "output_type": "stream",
     "text": [
      "[['blue', 'red'], ['green', 'red'], ['orange', 'red']]\n"
     ]
    }
   ],
   "source": [
    "# Also find out the corresponding color words in each sentence\n",
    "print([re.findall(colour_match,x) for x in more_match])"
   ]
  },
  {
   "cell_type": "markdown",
   "metadata": {},
   "source": [
    "## Grouped Matches"
   ]
  },
  {
   "cell_type": "markdown",
   "metadata": {},
   "source": [
    "Earlier in this chapter we talked about the use of parentheses for clarifying precedence and for backreferences when matching, You can also use parentheses to extract parts of a complex match. "
   ]
  },
  {
   "cell_type": "code",
   "execution_count": 116,
   "metadata": {},
   "outputs": [
    {
     "name": "stdout",
     "output_type": "stream",
     "text": [
      "[[('the', 'smooth')], [('the', 'sheet'), ('the', 'dark')], [('the', 'depth'), ('a', 'well')], [('a', 'chicken'), ('a', 'rare')], [], [], [('the', 'parked')], [], [], [], [('the', 'sun')], [], [('the', 'huge'), ('the', 'clear')], [('the', 'ball')], [('the', 'woman')], [('a', 'helps'), ('the', 'evening')], [], [('the', \"man's\")], [('the', 'sea')], [('the', 'booth')], [('a', 'hole'), ('the', 'sock')], [('the', 'bent')], [('the', 'pants'), ('a', 'button'), ('the', 'vest')], [], [('the', 'view'), ('the', 'young')], [('the', 'tank')], [], [('the', 'tall')], [('the', 'same')], [], [('the', 'load')], [('the', 'winding'), ('the', 'lake')], [('the', 'size'), ('the', 'gas')], [('the', 'grease')], [('the', 'coat')], [], [], [], [('the', 'bell')], [], [('the', 'state'), ('the', 'early')], [('the', 'sharp')], [('the', 'third')], [('the', 'hot')], [('the', 'cool')], [('the', 'square'), ('the', 'fence')], [('the', 'seven')], [('the', 'fence')], [('the', 'drug')], [], [('the', 'coat')], [('the', 'mouse')], [], [('a', 'flop'), ('the', 'very')], [('a', 'tool')], [], [('the', 'soldiers'), ('the', 'next')], [], [('a', 'rosebush'), ('the', 'porch')], [('the', 'raging')], [('the', 'slide'), ('the', 'circus')], [('a', 'pencil'), ('the', 'first')], [('the', 'hardware')], [('the', 'third')], [('the', 'field')], [], [('a', 'hit,'), ('the', 'floor'), ('a', 'crash')], [('a', 'grand'), ('the', 'road')], [('the', 'edge'), ('the', 'water')], [('the', 'cue'), ('the', 'actor')], [('the', 'point'), ('the', 'bay')], [('the', 'sand')], [('the', 'finished')], [('a', 'fight')], [], [('a', 'nice')], [('the', 'car'), ('the', 'sleeping')], [], [('a', 'thin')], [], [('the', 'big')], [('the', 'cat'), ('the', 'scared')], [], [], [], [('the', 'fence')], [('the', 'pie')], [], [('the', 'barn')], [('a', 'limb')], [('the', 'street')], [('the', 'blue')], [], [('the', 'clear')], [], [('the', 'boat,')], [], [], [], [], [], [('the', 'other')], [], [('the', 'crate'), ('the', 'glass')], [('the', 'sum'), ('the', 'product')], [], [], [], [('the', 'high')], [('the', 'vat'), ('the', 'hot')], [('the', 'pine')], [('the', 'fall')], [('the', 'wind')], [('the', 'log'), ('a', 'quick,')], [('the', 'logs')], [], [('the', 'carpet'), ('the', 'right')], [('a', 'weed'), ('the', 'tropics')], [], [('the', 'simplest')], [], [('the', 'less')], [('the', 'show'), ('a', 'watchful')], [], [('the', 'most')], [], [('a', 'rusty')], [('the', 'farther')], [('the', 'heat'), ('the', 'weak')], [], [('a', 'swim')], [('the', 'same')], [('the', 'bright')], [], [('the', 'eyes'), ('the', 'sweet')], [('the', 'wise')], [('a', 'fond'), ('the', 'friend')], [], [('a', 'bad')], [('a', 'strong')], [('the', 'rusty')], [('the', 'results'), ('the', 'first')], [], [('the', 'right')], [('a', 'high')], [], [('a', 'graceful')], [('the', 'blotter')], [('the', 'front')], [('a', 'hole'), ('the', 'desk')], [('the', 'tin')], [], [('a', 'new')], [('the', 'couch')], [], [], [('the', 'crew'), ('the', 'lost')], [('the', 'coin')], [('the', 'torn')], [('a', 'cushion')], [('the', 'back'), ('the', 'wide')], [('the', 'air')], [('the', 'two'), ('the', 'figures')], [], [('the', 'prize')], [], [('a', 'dull')], [('the', 'skill'), ('the', 'great')], [], [('the', 'hot')], [('the', 'broken')], [('the', 'small')], [('a', 'sound')], [], [('the', 'stone')], [('the', 'best'), ('the', 'week')], [], [], [('the', 'ship')], [('the', \"store's\"), ('the', 'last')], [], [], [], [('the', 'players')], [], [('the', 'column'), ('the', 'sum')], [('a', 'good')], [('the', 'flood')], [('a', 'head'), ('the', 'round')], [], [('a', 'fig')], [('a', 'fire')], [('the', 'noise')], [], [('a', 'buyer'), ('a', 'good')], [('the', 'ice')], [('the', 'next')], [('the', 'third')], [], [('the', 'oat')], [('the', 'attic')], [], [('the', 'soap'), ('the', 'bath')], [('a', 'tall')], [], [('the', 'rink'), ('the', 'fifth')], [('the', 'dance')], [('the', 'new')], [('the', 'inn')], [('the', 'worst')], [], [('the', 'second')], [('the', 'wall')], [('a', 'wooden')], [], [], [], [], [], [('the', 'bank')], [], [('a', 'young'), ('a', 'bucket')], [], [('a', 'steady')], [('the', 'axe'), ('the', 'saw'), ('the', 'forest')], [], [('a', 'loud')], [], [('the', 'rubbish')], [('the', 'gold')], [('the', 'court'), ('the', 'case')], [], [], [('the', 'raft')], [], [], [], [('the', 'rope'), ('the', 'bell')], [], [('the', 'best')], [('the', 'islands'), ('the', 'sea')], [], [('the', 'world')], [('the', 'egg')], [], [], [('a', 'bright')], [], [], [('the', 'fence'), ('the', 'bank')], [('the', 'curtain')], [('the', 'middle'), ('the', 'road')], [('the', 'same')], [], [], [], [('a', 'compass')], [], [], [], [('the', 'front')], [('the', 'pail'), ('the', 'wall')], [('the', 'big')], [], [], [('the', 'empty')], [], [('a', 'served'), ('the', 'brown')], [], [('the', 'hot-cross')], [('the', 'field'), ('a', 'brisk')], [('the', 'twin'), ('the', 'pearl')], [('the', 'cord'), ('the', 'box')], [('the', 'smuggled')], [('the', 'corner'), ('the', 'tan')], [('the', 'bond')], [('the', 'ruins')], [('a', 'mouldy')], [('a', 'pine')], [('the', 'cloth'), ('the', 'sharp')], [], [('the', 'swan')], [('the', 'screen')], [], [('the', 'end')], [('the', 'clay')], [('a', 'smooth'), ('a', 'bump')], [], [('the', 'crackers')], [], [('the', 'high'), ('the', 'horn')], [('a', 'pierced')], [], [('the', 'log'), ('the', 'wide')], [('the', 'stalk')], [], [], [], [('a', 'brew')], [], [('the', 'box')], [('the', 'window')], [('the', \"workmen's\")], [('the', 'breeze')], [('a', 'swan,')], [('the', 'tire')], [('the', 'old')], [('the', 'last')], [], [], [], [], [('a', 'person')], [], [('the', 'sleeping')], [('the', 'fire')], [('the', 'round')], [], [], [], [('the', 'ink')], [('a', 'big')], [], [('the', 'records'), ('a', 'neat')], [('the', 'snow'), ('the', 'only')], [('the', \"sun's\")], [], [('the', 'wall')], [], [('the', 'and'), ('the', 'cool')], [], [], [('a', 'is')], [('the', 'dog'), ('the', 'street')], [('a', 'book')], [('the', 'fine'), ('the', 'painting')], [('the', 'group')], [('the', 'central')], [('the', 'rough')], [], [('the', 'new')], [('the', 'lathe')], [('the', 'pole'), ('the', 'wind')], [('a', 'dish')], [], [], [], [('the', 'day')], [('the', 'strip'), ('the', 'worn')], [], [('the', 'stew'), ('the', 'pot'), ('the', 'plate')], [], [('the', 'woods')], [('the', 'road')], [('the', 'clear')], [], [('a', \"king's\")], [], [], [('a', 'good'), ('a', 'bear')], [('the', 'white')], [('the', 'stream')], [('the', 'lead'), ('the', 'whole')], [('the', 'lock')], [('the', 'council'), ('the', 'poor')], [], [], [('the', 'red')], [('the', 'ledge')], [('the', 'sheep'), ('the', 'dog')], [('a', 'lot')], [('the', 'spot'), ('a', 'sign')], [('a', 'fair')], [], [], [], [], [], [], [('the', 'game')], [('a', 'long')], [('the', 'strong')], [], [], [], [('the', 'rain'), ('a', 'pleasant')], [], [('the', 'hot'), ('the', 'tired')], [('the', 'story')], [('the', 'eastern')], [('the', 'line'), ('the', 'port')], [('the', 'cuts')], [('a', 'dense')], [('the', 'knee'), ('the', 'next')], [], [('the', 'shaky')], [('the', 'odor')], [], [('the', 'sail'), ('the', 'ship')], [], [], [('the', 'dart'), ('the', 'cork')], [], [('a', 'new')], [('the', 'base')], [('a', 'dog')], [('a', 'dime,'), ('the', 'young')], [], [], [], [], [], [('the', 'shore')], [('the', 'wall'), ('a', 'draft')], [], [], [('the', 'oath')], [('the', 'sill'), ('the', 'old')], [('the', 'steel')], [('a', 'lag')], [('the', 'spring')], [('the', 'chart')], [], [('the', 'crowd')], [('a', 'and')], [('the', 'wide')], [('the', 'dust'), ('the', 'rug'), ('the', 'lawn')], [], [], [('the', 'porch')], [('the', 'finish')], [('the', 'deep')], [('the', 'dice'), ('a', 'second')], [], [('the', 'frail')], [('the', 'valve')], [('the', 'shoe'), ('a', 'gold')], [], [], [], [('the', 'sausage'), ('a', 'knife')], [('the', 'rose'), ('a', 'few')], [('the', 'colt')], [('a', 'hot')], [], [('a', 'feather')], [('the', 'bike'), ('the', 'winding')], [('the', 'ashes'), ('the', 'worn')], [], [('the', 'used')], [('a', 'neat')], [], [('the', 'tall')], [], [('a', 'thin')], [('the', 'lantern')], [('the', 'soft')], [('the', 'tenth'), ('the', 'month')], [], [('a', 'good')], [], [('a', 'vest'), ('a', 'day')], [], [('the', 'figs,'), ('the', 'ripe')], [('the', 'door')], [('the', 'fire'), ('the', 'sparks')], [], [('the', 'print')], [('the', 'limits')], [], [('the', 'high')], [], [], [], [('the', 'old')], [('the', 'dark')], [], [], [('a', 'shaggy')], [('the', 'corner')], [], [('the', 'hatch'), ('the', 'waves')], [], [('the', 'walnut')], [('the', 'form'), ('a', 'lsrge')], [('the', 'stuff'), ('a', 'thick')], [('the', 'most')], [], [], [('the', 'rear'), ('the', 'ground'), ('a', 'large')], [('a', 'blue'), ('the', 'desk')], [('a', 'food')], [], [('a', 'revives')], [], [('the', 'sheet'), ('the', 'edge'), ('the', 'mat')], [('the', 'earth')], [], [('the', 'tailor')], [('a', 'chance'), ('a', 'china')], [('the', 'dust')], [], [('the', 'stone')], [], [('the', 'weather')], [], [], [('a', 'source')], [], [('the', 'writer'), ('a', 'few')], [], [], [('a', \"queen's\")], [('the', 'round')], [], [], [('a', 'wild')], [], [('a', 'white')], [('the', 'hot')], [('the', 'pedal')], [], [('the', 'landing')], [('the', 'debt')], [('the', 'pearl')], [], [('the', 'far')], [], [], [('a', 'fine')], [('the', 'pit'), ('the', 'aid'), ('a', 'long')], [], [('a', 'just')], [('the', 'tent'), ('the', 'clowns')], [('a', 'slow')], [], [], [('the', 'mails')], [], [], [('a', 'strong')], [('the', 'top')], [], [('the', 'way'), ('the', 'grain')], [], [], [], [('the', 'alarm'), ('a', 'deep')], [('the', 'meter')], [('the', 'poor')], [], [], [], [('the', 'edges')], [('the', 'deep'), ('the', 'piny')], [], [], [('a', 'frog')], [], [('the', 'dam'), ('a', 'flood')], [('the', 'sockets'), ('the', 'wall')], [('the', 'dense')], [], [('the', 'spark,'), ('the', 'flames')], [('the', 'sword')], [('the', 'thin')], [('the', 'path'), ('the', 'beach')], [], [('the', 'edge')], [('the', 'old'), ('a', 'crooked')], [('a', 'band')], [('the', 'length'), ('the', 'ditch')], [('a', 'mass')], [('the', 'package'), ('the', 'high')], [('the', 'green')], [('the', 'brown')], [('the', 'high')], [], [('the', 'hammer'), ('the', 'end'), ('the', 'nail')], [('the', 'twelfth'), ('the', 'month')], [], [('the', 'gun')], [('the', 'public')], [('the', 'screw'), ('the', 'wood')], [('the', 'hatch'), ('the', 'watch')], [('the', 'twine'), ('a', 'quick'), ('the', 'knife')], [], [('the', 'catch'), ('the', 'desk')], [('the', 'weak')], [], [('the', 'boys')], [('the', 'cord,'), ('the', 'gold')], [('the', 'tray'), ('the', 'glass')], [('a', 'stately')], [('a', 'swell')], [('the', 'piece')], [], [], [('the', 'trust'), ('the', 'bank')], [('the', 'high'), ('the', 'low')], [('a', 'for')], [('the', 'tall')], [('a', 'strong')], [('the', 'park'), ('a', 'silver')], [('the', 'new')], [('the', 'frost')], [], [('the', 'middle')], [('a', 'ten')], [('the', 'lofty')], [('the', 'school')], [('the', 'best')], [('a', 'brown')], [('the', 'perch'), ('the', 'others')], [], [], [('the', 'northern')], [('a', 'in'), ('a', 'has'), ('a', 'sweet')], [('the', 'straw'), ('the', 'door'), ('the', 'stable')], [('the', 'beck'), ('a', 'nail')], [('the', 'old')], [('the', 'thing')], [('the', 'most')], [], [('the', 'street')], [('the', 'cruiser'), ('a', 'blow'), ('the', 'fleet')], [('the', 'braid'), ('the', 'left')], [('the', 'lawyer'), ('the', 'lost')], [], [], [('a', 'thin'), ('the', 'yellow')], [('a', 'sleek')], [('the', 'left')], [('the', 'boy')], [('the', 'mark')], [('the', 'kits'), ('the', 'salt')], [('the', 'round')], [], [('a', 'must')], [('a', 'door')], [], [], [('the', 'same')], [('the', 'west')], [], [('the', 'tall')], [('the', 'horse')], [('the', 'coal'), ('the', 'shed')], [], [], [('the', 'far')], [('a', 'sharp')], [], [('the', 'treadmill')], [('the', 'contest'), ('a', 'great')], [], [('a', 'fine')], [('the', 'main'), ('the', 'north')], [], [('the', 'stale')], [], [('the', 'jar'), ('a', 'tight')], [('the', 'boat')], [('the', 'lamp'), ('the', 'hole')], [('a', 'card'), ('the', 'pack')], [('the', 'dull')], [('the', 'plan')], [], [], [('a', 'in'), ('a', 'cold')], [('the', 'black')], [('the', 'chart'), ('the', 'mantel')], [('a', 'pay')], [('the', 'dim')], [('the', 'player')], [('the', 'bill'), ('the', 'two')], [('the', 'job')], [], [('the', 'way'), ('the', 'wind')], [('the', 'earth')], [('a', 'drenching')], [], [('the', 'punch')], [('the', 'moving')], [], [('the', 'side')], [], [('the', 'burnt')], [], [], [('the', 'sale')], [('a', 'bad'), ('the', 'part'), ('the', 'new')], [('the', 'board')], [('the', 'match')], [('the', 'contents')], [], [('the', 'town')], [('the', 'hard')], [], [('the', 'leash'), ('a', 'feline')], [('the', 'first')], [('the', 'net,')], [('the', 'pail')], [], [('the', 'ground')], [('the', 'show')], [('the', 'throne')], [('the', 'boy'), ('a', 'short')], [], [], [], [('a', 'year')], [('a', 'cat'), ('the', \"neighbor's\")], [('the', 'sandy')], [], [], [], [('the', 'barn')], [], [('the', 'bell,')]]\n"
     ]
    }
   ],
   "source": [
    "# Find all the nouns in the sentences\n",
    "noun = \"(a|the) ([^ .]+)\"\n",
    "print([re.findall(noun,x) for x in sentences])"
   ]
  },
  {
   "cell_type": "markdown",
   "metadata": {},
   "source": [
    "## Replacing Matches"
   ]
  },
  {
   "cell_type": "markdown",
   "metadata": {},
   "source": [
    "The simplest use is to replace a pattern with a fixed string."
   ]
  },
  {
   "cell_type": "code",
   "execution_count": 46,
   "metadata": {},
   "outputs": [
    {
     "name": "stdout",
     "output_type": "stream",
     "text": [
      "['-ppl-', 'p--r', 'b-n-n-']\n"
     ]
    }
   ],
   "source": [
    "str = [\"apple\", \"pear\", \"banana\"]\n",
    "print([re.sub('[aeiou]','-',x) for x in str])"
   ]
  },
  {
   "cell_type": "code",
   "execution_count": 49,
   "metadata": {},
   "outputs": [
    {
     "data": {
      "text/plain": [
       "0     -ppl-\n",
       "1      p--r\n",
       "2    b-n-n-\n",
       "dtype: object"
      ]
     },
     "execution_count": 49,
     "metadata": {},
     "output_type": "execute_result"
    }
   ],
   "source": [
    "# Or using str.replace()\n",
    "x=pd.Series(str)\n",
    "x.str.replace('[aeiou]','-')"
   ]
  },
  {
   "cell_type": "code",
   "execution_count": 72,
   "metadata": {
    "scrolled": true
   },
   "outputs": [
    {
     "name": "stdout",
     "output_type": "stream",
     "text": [
      "['one house', 'two cars', 'three people']\n"
     ]
    }
   ],
   "source": [
    "# Perform multiple replacements\n",
    "str = [\"1 house\", \"2 cars\", \"3 people\"]\n",
    "rep = {\"1\": \"one\", \"2\": \"two\",\"3\":\"three\"} \n",
    "print([x.translate(x.maketrans(rep)) for x in str])"
   ]
  },
  {
   "cell_type": "code",
   "execution_count": 54,
   "metadata": {},
   "outputs": [
    {
     "data": {
      "text/plain": [
       "0     four houses\n",
       "1        two cars\n",
       "2    three people\n",
       "dtype: object"
      ]
     },
     "execution_count": 54,
     "metadata": {},
     "output_type": "execute_result"
    }
   ],
   "source": [
    "# Or using replace()\n",
    "x=pd.Series(['4 houses','2 cars','3 people'])\n",
    "rep=pd.Series(['four','two','three'],index=['4','2','3'])\n",
    "x.replace(rep,regex=True)"
   ]
  },
  {
   "cell_type": "markdown",
   "metadata": {},
   "source": [
    "## Splitting"
   ]
  },
  {
   "cell_type": "markdown",
   "metadata": {},
   "source": [
    "Use split() to split a string up into pieces."
   ]
  },
  {
   "cell_type": "code",
   "execution_count": 73,
   "metadata": {
    "scrolled": true
   },
   "outputs": [
    {
     "name": "stdout",
     "output_type": "stream",
     "text": [
      "['This', 'is', 'string', 'example....Wow!!!']\n",
      "['Th', 's is string example....Wow!!!']\n",
      "['This is string example....Wo', '!!!']\n"
     ]
    }
   ],
   "source": [
    "str = \"This is string example....Wow!!!\"\n",
    "print(str.split())\n",
    "print(str.split('i', 1))   # 1 refers to the split times\n",
    "print(str.split('w'))     # Case sensitive"
   ]
  },
  {
   "cell_type": "code",
   "execution_count": 74,
   "metadata": {
    "scrolled": true
   },
   "outputs": [
    {
     "name": "stdout",
     "output_type": "stream",
     "text": [
      "['THIS', 'IS', 'STRING', 'EXAMPLE....WOW!!!']\n",
      "['this', 'is', 'string', 'example....wow!!!']\n"
     ]
    }
   ],
   "source": [
    "# Uppercase the whole string\n",
    "print(str.upper().split())\n",
    "# Lowercase the whole string\n",
    "print(str.lower().split())"
   ]
  },
  {
   "cell_type": "code",
   "execution_count": 75,
   "metadata": {
    "scrolled": true
   },
   "outputs": [
    {
     "name": "stdout",
     "output_type": "stream",
     "text": [
      "['This', 'is', 'string', 'example....wow!!!']\n"
     ]
    }
   ],
   "source": [
    "# Capitalize the first letter of the whole string\n",
    "print(str.capitalize().split())"
   ]
  },
  {
   "cell_type": "code",
   "execution_count": 76,
   "metadata": {
    "scrolled": true
   },
   "outputs": [
    {
     "name": "stdout",
     "output_type": "stream",
     "text": [
      "['This', 'Is', 'String', 'Example....Wow!!!']\n"
     ]
    }
   ],
   "source": [
    "# Capitalize the first letter of each word\n",
    "print(str.title().split())"
   ]
  },
  {
   "cell_type": "markdown",
   "metadata": {},
   "source": [
    "## Find Matches"
   ]
  },
  {
   "cell_type": "markdown",
   "metadata": {},
   "source": [
    "Use re.findall() and re.finditer(), already introduced in 3.1 Basic Matches."
   ]
  },
  {
   "cell_type": "markdown",
   "metadata": {},
   "source": [
    "# Other Types of Pattern"
   ]
  },
  {
   "cell_type": "markdown",
   "metadata": {},
   "source": [
    "When you use a pattern that’s a string, it automatically runs without any limitation."
   ]
  },
  {
   "cell_type": "code",
   "execution_count": 77,
   "metadata": {},
   "outputs": [
    {
     "name": "stdout",
     "output_type": "stream",
     "text": [
      "[['banana'], [], []]\n"
     ]
    }
   ],
   "source": [
    "# The common situation\n",
    "str = [\"banana\", \"Banana\", \"BANANA\"]\n",
    "print([re.findall('banana',x) for x in str])"
   ]
  },
  {
   "cell_type": "markdown",
   "metadata": {},
   "source": [
    "<img src=\"img/flags.jpg\" style=\"zoom:50%\" />"
   ]
  },
  {
   "cell_type": "code",
   "execution_count": 78,
   "metadata": {},
   "outputs": [
    {
     "name": "stdout",
     "output_type": "stream",
     "text": [
      "[['banana'], ['Banana'], ['BANANA']]\n"
     ]
    }
   ],
   "source": [
    "# Control details of the match\n",
    "\n",
    "## Ignore the uppercase or lowercase forms\n",
    "print([re.findall('banana', x, flags=re.I) for x in str])"
   ]
  },
  {
   "cell_type": "code",
   "execution_count": 79,
   "metadata": {},
   "outputs": [
    {
     "name": "stdout",
     "output_type": "stream",
     "text": [
      "['Line']\n",
      "['Line', 'Line', 'Line']\n"
     ]
    }
   ],
   "source": [
    "## Allow ^ and $ to match the start and end of each line rather than the start and end of the complete string\n",
    "str = \"Line 1\\nLine 2\\nLine 3\"\n",
    "print(re.findall('^Line', str))\n",
    "print(re.findall('^Line', str, flags=re.M))"
   ]
  },
  {
   "cell_type": "code",
   "execution_count": 80,
   "metadata": {},
   "outputs": [
    {
     "name": "stdout",
     "output_type": "stream",
     "text": [
      "['once upon a time,', 'there lived a king']\n",
      "['once upon a time,\\nthere lived a king']\n"
     ]
    }
   ],
   "source": [
    "## Make the dot character ‘.’ match any character, including a newline\n",
    "str = \"\"\"once upon a time,\n",
    "there lived a king\"\"\"\n",
    "print(re.findall(r\".+\", str))\n",
    "print(re.findall(r\".+\", str, flags=re.S))"
   ]
  },
  {
   "cell_type": "code",
   "execution_count": 81,
   "metadata": {},
   "outputs": [
    {
     "name": "stdout",
     "output_type": "stream",
     "text": [
      "[('514', '791', '814')]\n",
      "[('514', '791', '814')]\n"
     ]
    }
   ],
   "source": [
    "## Allow you to add annotations in regex, whitespace is ignored, except when in a character class or preceded by an unescaped backslash\n",
    "phone1 = re.compile(\"\"\"\\\\(?  # optional opening parens\n",
    "                    (\\\\d{3}) # area code, three numbers\n",
    "                    [) -]?   # optional closing parens, space, or dash\n",
    "                    (\\\\d{3}) # another three numbers\n",
    "                    [ -]?    # optional space or dash\n",
    "                    (\\\\d{3}) # three more numbers\"\"\", re.X)\n",
    "phone2 = re.compile(\"\\\\(?(\\\\d{3})[) -]?(\\\\d{3})[ -]?(\\\\d{3})\")    # p2 is the same as p1\n",
    "\n",
    "print(re.findall(phone1, \"514-791-8141\"))\n",
    "print(re.findall(phone2, \"514-791-8141\"))"
   ]
  },
  {
   "cell_type": "markdown",
   "metadata": {},
   "source": [
    "# Other Uses of Regular Expressions"
   ]
  },
  {
   "cell_type": "markdown",
   "metadata": {},
   "source": [
    "* apropos() searches all objects available from the global environment, prints all the one-line module summaries that contain a substring. "
   ]
  },
  {
   "cell_type": "code",
   "execution_count": 82,
   "metadata": {
    "scrolled": true
   },
   "outputs": [
    {
     "name": "stdout",
     "output_type": "stream",
     "text": [
      "_dummy_thread - Drop-in replacement for the thread module.\n",
      "idlelib.idle_test.mock_tk - Classes that replace tkinter gui objects used by an object being tested.\n",
      "idlelib.idle_test.test_replace \n",
      "idlelib.replace - Replace dialog for IDLE. Inherits SearchDialogBase for GUI.\n",
      "lib2to3.fixes.fix_asserts - Fixer that replaces deprecated unittest method names.\n",
      "astropy.coordinates.tests.test_atc_replacements - Test replacements for ERFA functions atciqz and aticq.\n",
      "bottleneck.tests.nonreduce_test - Test replace().\n",
      "ipykernel.displayhook - Replacements for sys.displayhook that publish over ZMQ.\n",
      "joblib.test.test_numpy_pickle - Test the numpy pickler as a replacement of the standard pickler.\n",
      "jupyterlab.tests.test_registry - Test yarn registry replacement\n",
      "notebook.tests.selenium.test_find_and_replace \n",
      "pandas.tests.arrays.categorical.test_replace \n",
      "pandas.tests.frame.methods.test_replace \n",
      "pandas.tests.series.methods.test_replace \n",
      "spyder.widgets.findreplace - Find/Replace widget\n",
      "sympy.core.rules - Replacement rules.\n"
     ]
    }
   ],
   "source": [
    "pydoc.apropos('replace')"
   ]
  },
  {
   "cell_type": "markdown",
   "metadata": {},
   "source": [
    "* os.listdir(path) lists all the files in a directory. "
   ]
  },
  {
   "cell_type": "code",
   "execution_count": 56,
   "metadata": {},
   "outputs": [
    {
     "data": {
      "text/plain": [
       "['Chapter15.ipynb',\n",
       " '.DS_Store',\n",
       " 'Chapter14 Strings.ipynb',\n",
       " 'words.csv',\n",
       " 'Chapter16.ipynb',\n",
       " 'sentences.csv',\n",
       " 'img',\n",
       " '.ipynb_checkpoints',\n",
       " 'gss_cat.csv']"
      ]
     },
     "execution_count": 56,
     "metadata": {},
     "output_type": "execute_result"
    }
   ],
   "source": [
    "# cwd represents the current working directory\n",
    "cwd = os.getcwd()\n",
    "os.listdir(cwd)"
   ]
  },
  {
   "cell_type": "markdown",
   "metadata": {},
   "source": [
    "* Filter files whose names match the pattern."
   ]
  },
  {
   "cell_type": "code",
   "execution_count": 58,
   "metadata": {},
   "outputs": [
    {
     "name": "stdout",
     "output_type": "stream",
     "text": [
      "['words.csv']\n",
      "['sentences.csv']\n",
      "['gss_cat.csv']\n"
     ]
    }
   ],
   "source": [
    "def findfiles(path,name):\n",
    "    if path:\n",
    "        for dirpath, dirnames, filenames in os.walk(path):\n",
    "            for file in filenames:\n",
    "                if name in file:\n",
    "                    result = [file]\n",
    "                    print(result)\n",
    "    else:\n",
    "        print (\"The dirpath not Exist!\")\n",
    "\n",
    "# Define the path and file name pattern\n",
    "path = cwd\n",
    "name = \".csv\"\n",
    "findfiles(path,name)"
   ]
  },
  {
   "cell_type": "markdown",
   "metadata": {},
   "source": [
    "# Stringi"
   ]
  },
  {
   "cell_type": "markdown",
   "metadata": {},
   "source": [
    "***stringr*** is built on top of the ***stringi*** package."
   ]
  }
 ],
 "metadata": {
  "kernelspec": {
   "display_name": "Python 3",
   "language": "python",
   "name": "python3"
  },
  "language_info": {
   "codemirror_mode": {
    "name": "ipython",
    "version": 3
   },
   "file_extension": ".py",
   "mimetype": "text/x-python",
   "name": "python",
   "nbconvert_exporter": "python",
   "pygments_lexer": "ipython3",
   "version": "3.8.3"
  },
  "toc": {
   "base_numbering": 1,
   "nav_menu": {},
   "number_sections": true,
   "sideBar": true,
   "skip_h1_title": false,
   "title_cell": "Table of Contents",
   "title_sidebar": "Contents",
   "toc_cell": false,
   "toc_position": {
    "height": "calc(100% - 180px)",
    "left": "10px",
    "top": "150px",
    "width": "319px"
   },
   "toc_section_display": true,
   "toc_window_display": true
  }
 },
 "nbformat": 4,
 "nbformat_minor": 4
}
