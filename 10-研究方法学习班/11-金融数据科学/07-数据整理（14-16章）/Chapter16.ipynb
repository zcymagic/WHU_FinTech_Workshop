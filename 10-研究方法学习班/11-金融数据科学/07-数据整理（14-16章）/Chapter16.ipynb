{
 "cells": [
  {
   "cell_type": "markdown",
   "metadata": {},
   "source": [
    "# 第16章 处理日期和时间\n",
    "## 16.1 简介\n",
    "本章将介绍如何在 Python 中处理日期和时间。日期和时间非常复杂，因为它们要兼顾两种物理现象（地球的自转以及围绕太阳的公转）和一系列地理政治现象（包括月份、时区和夏时制）。虽然本章不会介绍关于日期和时间的所有细节，但提供了处理日期和时间的实用技能的坚实基础，以帮助我们解决常见的有关日期和时间的分析问题。\n",
    "\n",
    "准备工作：本章主要讨论 Datetime 模块，它可以使得 Python 对日期和时间的处理更加容易。我们还需要将 nycflights13 包作为练习数据。"
   ]
  },
  {
   "cell_type": "code",
   "execution_count": 12,
   "metadata": {},
   "outputs": [],
   "source": [
    "from nycflights13 import flights\n",
    "from datetime import datetime, timedelta\n",
    "import pandas as pd"
   ]
  },
  {
   "cell_type": "markdown",
   "metadata": {},
   "source": [
    "## 16.2 创建日期或时间\n",
    "Datetime模块中主要包含如下类：\n",
    "* Date：日期对象，常用的属性有year, month, day\n",
    "* Time：时间对象，常用的属性有hour, minute, second\n",
    "* Datetime：日期时间对象\n",
    "* Timedelta：时间间隔，即两个时间点之间的长度\n",
    "* Tzinfo：时区信息对象\n",
    "\n",
    "要想得到当前日期时间，可以使用 `datetime.now()` 函数："
   ]
  },
  {
   "cell_type": "code",
   "execution_count": 13,
   "metadata": {},
   "outputs": [
    {
     "data": {
      "text/plain": [
       "datetime.datetime(2020, 11, 27, 13, 6, 28, 593497)"
      ]
     },
     "execution_count": 13,
     "metadata": {},
     "output_type": "execute_result"
    }
   ],
   "source": [
    "datetime.now()"
   ]
  },
  {
   "cell_type": "code",
   "execution_count": 14,
   "metadata": {},
   "outputs": [
    {
     "data": {
      "text/plain": [
       "datetime.date(2020, 11, 27)"
      ]
     },
     "execution_count": 14,
     "metadata": {},
     "output_type": "execute_result"
    }
   ],
   "source": [
    "datetime.now().date()"
   ]
  },
  {
   "cell_type": "code",
   "execution_count": 15,
   "metadata": {},
   "outputs": [
    {
     "data": {
      "text/plain": [
       "datetime.time(13, 6, 28, 619459)"
      ]
     },
     "execution_count": 15,
     "metadata": {},
     "output_type": "execute_result"
    }
   ],
   "source": [
    "datetime.now().time()"
   ]
  },
  {
   "cell_type": "code",
   "execution_count": 16,
   "metadata": {},
   "outputs": [
    {
     "data": {
      "text/plain": [
       "datetime.datetime(2020, 11, 26, 18, 20, 16)"
      ]
     },
     "execution_count": 16,
     "metadata": {},
     "output_type": "execute_result"
    }
   ],
   "source": [
    "# 也可以直接用 datetime() 函数创建对象\n",
    "datetime(2020, 11, 26, 18, 20, 16)"
   ]
  },
  {
   "cell_type": "markdown",
   "metadata": {},
   "source": [
    "除此之外，以下 3 种方法也可以创建日期或时间。\n",
    "* 通过字符串创建\n",
    "* 通过日期时间的各个成分创建\n",
    "* 通过现有的日期时间对象创建\n",
    "\n",
    "接下来我们将分别介绍这 3 种方法。"
   ]
  },
  {
   "cell_type": "markdown",
   "metadata": {},
   "source": [
    "### 16.2.1 通过字符串创建"
   ]
  },
  {
   "cell_type": "code",
   "execution_count": 17,
   "metadata": {},
   "outputs": [
    {
     "data": {
      "text/plain": [
       "datetime.datetime(2011, 1, 3, 0, 0)"
      ]
     },
     "execution_count": 17,
     "metadata": {},
     "output_type": "execute_result"
    }
   ],
   "source": [
    "value = '2011-01-03'\n",
    "datetime.strptime(value, '%Y-%m-%d')"
   ]
  },
  {
   "cell_type": "code",
   "execution_count": 18,
   "metadata": {},
   "outputs": [
    {
     "data": {
      "text/plain": [
       "[datetime.datetime(2011, 7, 6, 0, 0), datetime.datetime(2011, 8, 6, 0, 0)]"
      ]
     },
     "execution_count": 18,
     "metadata": {},
     "output_type": "execute_result"
    }
   ],
   "source": [
    "datestrs = ['7/6/2011', '8/6/2011']\n",
    "[datetime.strptime(x, '%m/%d/%Y') for x in datestrs]"
   ]
  },
  {
   "cell_type": "code",
   "execution_count": 19,
   "metadata": {},
   "outputs": [
    {
     "data": {
      "text/plain": [
       "datetime.datetime(2011, 1, 3, 0, 0)"
      ]
     },
     "execution_count": 19,
     "metadata": {},
     "output_type": "execute_result"
    }
   ],
   "source": [
    "from dateutil import parser\n",
    "parser.parse('2011-01-03')"
   ]
  },
  {
   "cell_type": "code",
   "execution_count": 20,
   "metadata": {},
   "outputs": [
    {
     "data": {
      "text/plain": [
       "datetime.datetime(1997, 1, 31, 22, 45)"
      ]
     },
     "execution_count": 20,
     "metadata": {},
     "output_type": "execute_result"
    }
   ],
   "source": [
    "parser.parse('Jan 31, 1997 10:45 PM')"
   ]
  },
  {
   "cell_type": "code",
   "execution_count": 76,
   "metadata": {},
   "outputs": [
    {
     "data": {
      "text/plain": [
       "DatetimeIndex(['2011-07-06 12:00:00', '2011-08-06 00:00:00'], dtype='datetime64[ns]', freq=None)"
      ]
     },
     "execution_count": 76,
     "metadata": {},
     "output_type": "execute_result"
    }
   ],
   "source": [
    "datestrs = ['2011-07-06 12:00:00', '2011-08-06 00:00:00']\n",
    "pd.to_datetime(datestrs)\n",
    "# 通常用来处理成组的日期"
   ]
  },
  {
   "cell_type": "markdown",
   "metadata": {},
   "source": [
    "### 16.2.2 通过各个成分创建\n",
    "除了单个字符串，日期时间数据的各个成分还经常分布在表格的多个列中。航班数据就是这样的："
   ]
  },
  {
   "cell_type": "code",
   "execution_count": 22,
   "metadata": {
    "scrolled": false
   },
   "outputs": [
    {
     "data": {
      "text/html": [
       "<div>\n",
       "<style scoped>\n",
       "    .dataframe tbody tr th:only-of-type {\n",
       "        vertical-align: middle;\n",
       "    }\n",
       "\n",
       "    .dataframe tbody tr th {\n",
       "        vertical-align: top;\n",
       "    }\n",
       "\n",
       "    .dataframe thead th {\n",
       "        text-align: right;\n",
       "    }\n",
       "</style>\n",
       "<table border=\"1\" class=\"dataframe\">\n",
       "  <thead>\n",
       "    <tr style=\"text-align: right;\">\n",
       "      <th></th>\n",
       "      <th>year</th>\n",
       "      <th>month</th>\n",
       "      <th>day</th>\n",
       "      <th>dep_time</th>\n",
       "      <th>sched_dep_time</th>\n",
       "      <th>dep_delay</th>\n",
       "      <th>arr_time</th>\n",
       "      <th>sched_arr_time</th>\n",
       "      <th>arr_delay</th>\n",
       "      <th>carrier</th>\n",
       "      <th>flight</th>\n",
       "      <th>tailnum</th>\n",
       "      <th>origin</th>\n",
       "      <th>dest</th>\n",
       "      <th>air_time</th>\n",
       "      <th>distance</th>\n",
       "      <th>hour</th>\n",
       "      <th>minute</th>\n",
       "      <th>time_hour</th>\n",
       "    </tr>\n",
       "  </thead>\n",
       "  <tbody>\n",
       "    <tr>\n",
       "      <th>0</th>\n",
       "      <td>2013</td>\n",
       "      <td>1</td>\n",
       "      <td>1</td>\n",
       "      <td>517.0</td>\n",
       "      <td>515</td>\n",
       "      <td>2.0</td>\n",
       "      <td>830.0</td>\n",
       "      <td>819</td>\n",
       "      <td>11.0</td>\n",
       "      <td>UA</td>\n",
       "      <td>1545</td>\n",
       "      <td>N14228</td>\n",
       "      <td>EWR</td>\n",
       "      <td>IAH</td>\n",
       "      <td>227.0</td>\n",
       "      <td>1400</td>\n",
       "      <td>5</td>\n",
       "      <td>15</td>\n",
       "      <td>2013-01-01T10:00:00Z</td>\n",
       "    </tr>\n",
       "    <tr>\n",
       "      <th>1</th>\n",
       "      <td>2013</td>\n",
       "      <td>1</td>\n",
       "      <td>1</td>\n",
       "      <td>533.0</td>\n",
       "      <td>529</td>\n",
       "      <td>4.0</td>\n",
       "      <td>850.0</td>\n",
       "      <td>830</td>\n",
       "      <td>20.0</td>\n",
       "      <td>UA</td>\n",
       "      <td>1714</td>\n",
       "      <td>N24211</td>\n",
       "      <td>LGA</td>\n",
       "      <td>IAH</td>\n",
       "      <td>227.0</td>\n",
       "      <td>1416</td>\n",
       "      <td>5</td>\n",
       "      <td>29</td>\n",
       "      <td>2013-01-01T10:00:00Z</td>\n",
       "    </tr>\n",
       "    <tr>\n",
       "      <th>2</th>\n",
       "      <td>2013</td>\n",
       "      <td>1</td>\n",
       "      <td>1</td>\n",
       "      <td>542.0</td>\n",
       "      <td>540</td>\n",
       "      <td>2.0</td>\n",
       "      <td>923.0</td>\n",
       "      <td>850</td>\n",
       "      <td>33.0</td>\n",
       "      <td>AA</td>\n",
       "      <td>1141</td>\n",
       "      <td>N619AA</td>\n",
       "      <td>JFK</td>\n",
       "      <td>MIA</td>\n",
       "      <td>160.0</td>\n",
       "      <td>1089</td>\n",
       "      <td>5</td>\n",
       "      <td>40</td>\n",
       "      <td>2013-01-01T10:00:00Z</td>\n",
       "    </tr>\n",
       "    <tr>\n",
       "      <th>3</th>\n",
       "      <td>2013</td>\n",
       "      <td>1</td>\n",
       "      <td>1</td>\n",
       "      <td>544.0</td>\n",
       "      <td>545</td>\n",
       "      <td>-1.0</td>\n",
       "      <td>1004.0</td>\n",
       "      <td>1022</td>\n",
       "      <td>-18.0</td>\n",
       "      <td>B6</td>\n",
       "      <td>725</td>\n",
       "      <td>N804JB</td>\n",
       "      <td>JFK</td>\n",
       "      <td>BQN</td>\n",
       "      <td>183.0</td>\n",
       "      <td>1576</td>\n",
       "      <td>5</td>\n",
       "      <td>45</td>\n",
       "      <td>2013-01-01T10:00:00Z</td>\n",
       "    </tr>\n",
       "    <tr>\n",
       "      <th>4</th>\n",
       "      <td>2013</td>\n",
       "      <td>1</td>\n",
       "      <td>1</td>\n",
       "      <td>554.0</td>\n",
       "      <td>600</td>\n",
       "      <td>-6.0</td>\n",
       "      <td>812.0</td>\n",
       "      <td>837</td>\n",
       "      <td>-25.0</td>\n",
       "      <td>DL</td>\n",
       "      <td>461</td>\n",
       "      <td>N668DN</td>\n",
       "      <td>LGA</td>\n",
       "      <td>ATL</td>\n",
       "      <td>116.0</td>\n",
       "      <td>762</td>\n",
       "      <td>6</td>\n",
       "      <td>0</td>\n",
       "      <td>2013-01-01T11:00:00Z</td>\n",
       "    </tr>\n",
       "    <tr>\n",
       "      <th>5</th>\n",
       "      <td>2013</td>\n",
       "      <td>1</td>\n",
       "      <td>1</td>\n",
       "      <td>554.0</td>\n",
       "      <td>558</td>\n",
       "      <td>-4.0</td>\n",
       "      <td>740.0</td>\n",
       "      <td>728</td>\n",
       "      <td>12.0</td>\n",
       "      <td>UA</td>\n",
       "      <td>1696</td>\n",
       "      <td>N39463</td>\n",
       "      <td>EWR</td>\n",
       "      <td>ORD</td>\n",
       "      <td>150.0</td>\n",
       "      <td>719</td>\n",
       "      <td>5</td>\n",
       "      <td>58</td>\n",
       "      <td>2013-01-01T10:00:00Z</td>\n",
       "    </tr>\n",
       "    <tr>\n",
       "      <th>6</th>\n",
       "      <td>2013</td>\n",
       "      <td>1</td>\n",
       "      <td>1</td>\n",
       "      <td>555.0</td>\n",
       "      <td>600</td>\n",
       "      <td>-5.0</td>\n",
       "      <td>913.0</td>\n",
       "      <td>854</td>\n",
       "      <td>19.0</td>\n",
       "      <td>B6</td>\n",
       "      <td>507</td>\n",
       "      <td>N516JB</td>\n",
       "      <td>EWR</td>\n",
       "      <td>FLL</td>\n",
       "      <td>158.0</td>\n",
       "      <td>1065</td>\n",
       "      <td>6</td>\n",
       "      <td>0</td>\n",
       "      <td>2013-01-01T11:00:00Z</td>\n",
       "    </tr>\n",
       "    <tr>\n",
       "      <th>7</th>\n",
       "      <td>2013</td>\n",
       "      <td>1</td>\n",
       "      <td>1</td>\n",
       "      <td>557.0</td>\n",
       "      <td>600</td>\n",
       "      <td>-3.0</td>\n",
       "      <td>709.0</td>\n",
       "      <td>723</td>\n",
       "      <td>-14.0</td>\n",
       "      <td>EV</td>\n",
       "      <td>5708</td>\n",
       "      <td>N829AS</td>\n",
       "      <td>LGA</td>\n",
       "      <td>IAD</td>\n",
       "      <td>53.0</td>\n",
       "      <td>229</td>\n",
       "      <td>6</td>\n",
       "      <td>0</td>\n",
       "      <td>2013-01-01T11:00:00Z</td>\n",
       "    </tr>\n",
       "    <tr>\n",
       "      <th>8</th>\n",
       "      <td>2013</td>\n",
       "      <td>1</td>\n",
       "      <td>1</td>\n",
       "      <td>557.0</td>\n",
       "      <td>600</td>\n",
       "      <td>-3.0</td>\n",
       "      <td>838.0</td>\n",
       "      <td>846</td>\n",
       "      <td>-8.0</td>\n",
       "      <td>B6</td>\n",
       "      <td>79</td>\n",
       "      <td>N593JB</td>\n",
       "      <td>JFK</td>\n",
       "      <td>MCO</td>\n",
       "      <td>140.0</td>\n",
       "      <td>944</td>\n",
       "      <td>6</td>\n",
       "      <td>0</td>\n",
       "      <td>2013-01-01T11:00:00Z</td>\n",
       "    </tr>\n",
       "    <tr>\n",
       "      <th>9</th>\n",
       "      <td>2013</td>\n",
       "      <td>1</td>\n",
       "      <td>1</td>\n",
       "      <td>558.0</td>\n",
       "      <td>600</td>\n",
       "      <td>-2.0</td>\n",
       "      <td>753.0</td>\n",
       "      <td>745</td>\n",
       "      <td>8.0</td>\n",
       "      <td>AA</td>\n",
       "      <td>301</td>\n",
       "      <td>N3ALAA</td>\n",
       "      <td>LGA</td>\n",
       "      <td>ORD</td>\n",
       "      <td>138.0</td>\n",
       "      <td>733</td>\n",
       "      <td>6</td>\n",
       "      <td>0</td>\n",
       "      <td>2013-01-01T11:00:00Z</td>\n",
       "    </tr>\n",
       "  </tbody>\n",
       "</table>\n",
       "</div>"
      ],
      "text/plain": [
       "   year  month  day  dep_time  sched_dep_time  dep_delay  arr_time  \\\n",
       "0  2013      1    1     517.0             515        2.0     830.0   \n",
       "1  2013      1    1     533.0             529        4.0     850.0   \n",
       "2  2013      1    1     542.0             540        2.0     923.0   \n",
       "3  2013      1    1     544.0             545       -1.0    1004.0   \n",
       "4  2013      1    1     554.0             600       -6.0     812.0   \n",
       "5  2013      1    1     554.0             558       -4.0     740.0   \n",
       "6  2013      1    1     555.0             600       -5.0     913.0   \n",
       "7  2013      1    1     557.0             600       -3.0     709.0   \n",
       "8  2013      1    1     557.0             600       -3.0     838.0   \n",
       "9  2013      1    1     558.0             600       -2.0     753.0   \n",
       "\n",
       "   sched_arr_time  arr_delay carrier  flight tailnum origin dest  air_time  \\\n",
       "0             819       11.0      UA    1545  N14228    EWR  IAH     227.0   \n",
       "1             830       20.0      UA    1714  N24211    LGA  IAH     227.0   \n",
       "2             850       33.0      AA    1141  N619AA    JFK  MIA     160.0   \n",
       "3            1022      -18.0      B6     725  N804JB    JFK  BQN     183.0   \n",
       "4             837      -25.0      DL     461  N668DN    LGA  ATL     116.0   \n",
       "5             728       12.0      UA    1696  N39463    EWR  ORD     150.0   \n",
       "6             854       19.0      B6     507  N516JB    EWR  FLL     158.0   \n",
       "7             723      -14.0      EV    5708  N829AS    LGA  IAD      53.0   \n",
       "8             846       -8.0      B6      79  N593JB    JFK  MCO     140.0   \n",
       "9             745        8.0      AA     301  N3ALAA    LGA  ORD     138.0   \n",
       "\n",
       "   distance  hour  minute             time_hour  \n",
       "0      1400     5      15  2013-01-01T10:00:00Z  \n",
       "1      1416     5      29  2013-01-01T10:00:00Z  \n",
       "2      1089     5      40  2013-01-01T10:00:00Z  \n",
       "3      1576     5      45  2013-01-01T10:00:00Z  \n",
       "4       762     6       0  2013-01-01T11:00:00Z  \n",
       "5       719     5      58  2013-01-01T10:00:00Z  \n",
       "6      1065     6       0  2013-01-01T11:00:00Z  \n",
       "7       229     6       0  2013-01-01T11:00:00Z  \n",
       "8       944     6       0  2013-01-01T11:00:00Z  \n",
       "9       733     6       0  2013-01-01T11:00:00Z  "
      ]
     },
     "execution_count": 22,
     "metadata": {},
     "output_type": "execute_result"
    }
   ],
   "source": [
    "flights.head(10)"
   ]
  },
  {
   "cell_type": "code",
   "execution_count": 77,
   "metadata": {},
   "outputs": [
    {
     "data": {
      "text/plain": [
       "0        2013-01-01 05:15:00\n",
       "1        2013-01-01 05:29:00\n",
       "2        2013-01-01 05:40:00\n",
       "3        2013-01-01 05:45:00\n",
       "4        2013-01-01 06:00:00\n",
       "                 ...        \n",
       "336771   2013-09-30 14:55:00\n",
       "336772   2013-09-30 22:00:00\n",
       "336773   2013-09-30 12:10:00\n",
       "336774   2013-09-30 11:59:00\n",
       "336775   2013-09-30 08:40:00\n",
       "Name: departure, Length: 336776, dtype: datetime64[ns]"
      ]
     },
     "execution_count": 77,
     "metadata": {},
     "output_type": "execute_result"
    }
   ],
   "source": [
    "flights_time = flights[['year', 'month', 'day', 'hour', 'minute']].copy()\n",
    "flights_time['departure'] = pd.to_datetime(flights_time)\n",
    "flights_time['departure']"
   ]
  },
  {
   "cell_type": "markdown",
   "metadata": {},
   "source": [
    "我们对 flights 中的 4 个时间列进行相同的操作。因为时间的表示方法有点奇怪，所以我们先使用模运算将小时成分与分钟成分分离。"
   ]
  },
  {
   "cell_type": "code",
   "execution_count": 24,
   "metadata": {},
   "outputs": [
    {
     "data": {
      "text/html": [
       "<div>\n",
       "<style scoped>\n",
       "    .dataframe tbody tr th:only-of-type {\n",
       "        vertical-align: middle;\n",
       "    }\n",
       "\n",
       "    .dataframe tbody tr th {\n",
       "        vertical-align: top;\n",
       "    }\n",
       "\n",
       "    .dataframe thead th {\n",
       "        text-align: right;\n",
       "    }\n",
       "</style>\n",
       "<table border=\"1\" class=\"dataframe\">\n",
       "  <thead>\n",
       "    <tr style=\"text-align: right;\">\n",
       "      <th></th>\n",
       "      <th>origin</th>\n",
       "      <th>dest</th>\n",
       "      <th>dep_delay</th>\n",
       "      <th>arr_delay</th>\n",
       "      <th>air_time</th>\n",
       "      <th>dep_time</th>\n",
       "      <th>arr_time</th>\n",
       "      <th>sched_dep_time</th>\n",
       "      <th>sched_arr_time</th>\n",
       "    </tr>\n",
       "  </thead>\n",
       "  <tbody>\n",
       "    <tr>\n",
       "      <th>0</th>\n",
       "      <td>EWR</td>\n",
       "      <td>IAH</td>\n",
       "      <td>2.0</td>\n",
       "      <td>11.0</td>\n",
       "      <td>227.0</td>\n",
       "      <td>2013-01-01 05:17:00</td>\n",
       "      <td>2013-01-01 08:30:00</td>\n",
       "      <td>2013-01-01 05:15:00</td>\n",
       "      <td>2013-01-01 08:19:00</td>\n",
       "    </tr>\n",
       "    <tr>\n",
       "      <th>1</th>\n",
       "      <td>LGA</td>\n",
       "      <td>IAH</td>\n",
       "      <td>4.0</td>\n",
       "      <td>20.0</td>\n",
       "      <td>227.0</td>\n",
       "      <td>2013-01-01 05:33:00</td>\n",
       "      <td>2013-01-01 08:50:00</td>\n",
       "      <td>2013-01-01 05:29:00</td>\n",
       "      <td>2013-01-01 08:30:00</td>\n",
       "    </tr>\n",
       "    <tr>\n",
       "      <th>2</th>\n",
       "      <td>JFK</td>\n",
       "      <td>MIA</td>\n",
       "      <td>2.0</td>\n",
       "      <td>33.0</td>\n",
       "      <td>160.0</td>\n",
       "      <td>2013-01-01 05:42:00</td>\n",
       "      <td>2013-01-01 09:23:00</td>\n",
       "      <td>2013-01-01 05:40:00</td>\n",
       "      <td>2013-01-01 08:50:00</td>\n",
       "    </tr>\n",
       "    <tr>\n",
       "      <th>3</th>\n",
       "      <td>JFK</td>\n",
       "      <td>BQN</td>\n",
       "      <td>-1.0</td>\n",
       "      <td>-18.0</td>\n",
       "      <td>183.0</td>\n",
       "      <td>2013-01-01 05:44:00</td>\n",
       "      <td>2013-01-01 10:04:00</td>\n",
       "      <td>2013-01-01 05:45:00</td>\n",
       "      <td>2013-01-01 10:22:00</td>\n",
       "    </tr>\n",
       "    <tr>\n",
       "      <th>4</th>\n",
       "      <td>LGA</td>\n",
       "      <td>ATL</td>\n",
       "      <td>-6.0</td>\n",
       "      <td>-25.0</td>\n",
       "      <td>116.0</td>\n",
       "      <td>2013-01-01 05:54:00</td>\n",
       "      <td>2013-01-01 08:12:00</td>\n",
       "      <td>2013-01-01 06:00:00</td>\n",
       "      <td>2013-01-01 08:37:00</td>\n",
       "    </tr>\n",
       "    <tr>\n",
       "      <th>5</th>\n",
       "      <td>EWR</td>\n",
       "      <td>ORD</td>\n",
       "      <td>-4.0</td>\n",
       "      <td>12.0</td>\n",
       "      <td>150.0</td>\n",
       "      <td>2013-01-01 05:54:00</td>\n",
       "      <td>2013-01-01 07:40:00</td>\n",
       "      <td>2013-01-01 05:58:00</td>\n",
       "      <td>2013-01-01 07:28:00</td>\n",
       "    </tr>\n",
       "    <tr>\n",
       "      <th>6</th>\n",
       "      <td>EWR</td>\n",
       "      <td>FLL</td>\n",
       "      <td>-5.0</td>\n",
       "      <td>19.0</td>\n",
       "      <td>158.0</td>\n",
       "      <td>2013-01-01 05:55:00</td>\n",
       "      <td>2013-01-01 09:13:00</td>\n",
       "      <td>2013-01-01 06:00:00</td>\n",
       "      <td>2013-01-01 08:54:00</td>\n",
       "    </tr>\n",
       "    <tr>\n",
       "      <th>7</th>\n",
       "      <td>LGA</td>\n",
       "      <td>IAD</td>\n",
       "      <td>-3.0</td>\n",
       "      <td>-14.0</td>\n",
       "      <td>53.0</td>\n",
       "      <td>2013-01-01 05:57:00</td>\n",
       "      <td>2013-01-01 07:09:00</td>\n",
       "      <td>2013-01-01 06:00:00</td>\n",
       "      <td>2013-01-01 07:23:00</td>\n",
       "    </tr>\n",
       "    <tr>\n",
       "      <th>8</th>\n",
       "      <td>JFK</td>\n",
       "      <td>MCO</td>\n",
       "      <td>-3.0</td>\n",
       "      <td>-8.0</td>\n",
       "      <td>140.0</td>\n",
       "      <td>2013-01-01 05:57:00</td>\n",
       "      <td>2013-01-01 08:38:00</td>\n",
       "      <td>2013-01-01 06:00:00</td>\n",
       "      <td>2013-01-01 08:46:00</td>\n",
       "    </tr>\n",
       "    <tr>\n",
       "      <th>9</th>\n",
       "      <td>LGA</td>\n",
       "      <td>ORD</td>\n",
       "      <td>-2.0</td>\n",
       "      <td>8.0</td>\n",
       "      <td>138.0</td>\n",
       "      <td>2013-01-01 05:58:00</td>\n",
       "      <td>2013-01-01 07:53:00</td>\n",
       "      <td>2013-01-01 06:00:00</td>\n",
       "      <td>2013-01-01 07:45:00</td>\n",
       "    </tr>\n",
       "  </tbody>\n",
       "</table>\n",
       "</div>"
      ],
      "text/plain": [
       "  origin dest  dep_delay  arr_delay  air_time            dep_time  \\\n",
       "0    EWR  IAH        2.0       11.0     227.0 2013-01-01 05:17:00   \n",
       "1    LGA  IAH        4.0       20.0     227.0 2013-01-01 05:33:00   \n",
       "2    JFK  MIA        2.0       33.0     160.0 2013-01-01 05:42:00   \n",
       "3    JFK  BQN       -1.0      -18.0     183.0 2013-01-01 05:44:00   \n",
       "4    LGA  ATL       -6.0      -25.0     116.0 2013-01-01 05:54:00   \n",
       "5    EWR  ORD       -4.0       12.0     150.0 2013-01-01 05:54:00   \n",
       "6    EWR  FLL       -5.0       19.0     158.0 2013-01-01 05:55:00   \n",
       "7    LGA  IAD       -3.0      -14.0      53.0 2013-01-01 05:57:00   \n",
       "8    JFK  MCO       -3.0       -8.0     140.0 2013-01-01 05:57:00   \n",
       "9    LGA  ORD       -2.0        8.0     138.0 2013-01-01 05:58:00   \n",
       "\n",
       "             arr_time      sched_dep_time      sched_arr_time  \n",
       "0 2013-01-01 08:30:00 2013-01-01 05:15:00 2013-01-01 08:19:00  \n",
       "1 2013-01-01 08:50:00 2013-01-01 05:29:00 2013-01-01 08:30:00  \n",
       "2 2013-01-01 09:23:00 2013-01-01 05:40:00 2013-01-01 08:50:00  \n",
       "3 2013-01-01 10:04:00 2013-01-01 05:45:00 2013-01-01 10:22:00  \n",
       "4 2013-01-01 08:12:00 2013-01-01 06:00:00 2013-01-01 08:37:00  \n",
       "5 2013-01-01 07:40:00 2013-01-01 05:58:00 2013-01-01 07:28:00  \n",
       "6 2013-01-01 09:13:00 2013-01-01 06:00:00 2013-01-01 08:54:00  \n",
       "7 2013-01-01 07:09:00 2013-01-01 06:00:00 2013-01-01 07:23:00  \n",
       "8 2013-01-01 08:38:00 2013-01-01 06:00:00 2013-01-01 08:46:00  \n",
       "9 2013-01-01 07:53:00 2013-01-01 06:00:00 2013-01-01 07:45:00  "
      ]
     },
     "execution_count": 24,
     "metadata": {},
     "output_type": "execute_result"
    }
   ],
   "source": [
    "flights_dt = flights[~(flights['dep_time'].isna()) & ~(flights['arr_time'].isna())].copy()\n",
    "flights_dt['dep_hour'] = flights_dt['dep_time']//100\n",
    "flights_dt['dep_minute'] = flights_dt['dep_time']%100\n",
    "flights_dt['arr_hour'] = flights_dt['arr_time']//100\n",
    "flights_dt['arr_minute'] = flights_dt['arr_time']%100\n",
    "flights_dt['sched_dep_hour'] = flights_dt['sched_dep_time']//100\n",
    "flights_dt['sched_dep_minute'] = flights_dt['sched_dep_time']%100\n",
    "flights_dt['sched_arr_hour'] = flights_dt['sched_arr_time']//100\n",
    "flights_dt['sched_arr_minute'] = flights_dt['sched_arr_time']%100\n",
    "\n",
    "cols = ['year', 'month', 'day', 'dep_hour', 'dep_minute']\n",
    "d = {'dep_hour':'hour', 'dep_minute':'minute'}\n",
    "flights_dt['dep_time'] = pd.to_datetime(flights_dt[cols].rename(columns = d)) \n",
    "\n",
    "cols = ['year', 'month', 'day', 'arr_hour', 'arr_minute']\n",
    "d = {'arr_hour':'hour', 'arr_minute':'minute'}\n",
    "flights_dt['arr_time'] = pd.to_datetime(flights_dt[cols].rename(columns = d)) \n",
    "\n",
    "cols = ['year', 'month', 'day', 'sched_dep_hour', 'sched_dep_minute']\n",
    "d = {'sched_dep_hour':'hour', 'sched_dep_minute':'minute'}\n",
    "flights_dt['sched_dep_time'] = pd.to_datetime(flights_dt[cols].rename(columns = d)) \n",
    "\n",
    "cols = ['year', 'month', 'day', 'sched_arr_hour', 'sched_arr_minute']\n",
    "d = {'sched_arr_hour':'hour', 'sched_arr_minute':'minute'}\n",
    "flights_dt['sched_arr_time'] = pd.to_datetime(flights_dt[cols].rename(columns = d)) \n",
    "\n",
    "flights_dt = flights_dt[['origin', 'dest', 'dep_delay', 'arr_delay', 'air_time', 'dep_time', 'arr_time', 'sched_dep_time', 'sched_arr_time']]\n",
    "flights_dt.head(10)"
   ]
  },
  {
   "cell_type": "markdown",
   "metadata": {},
   "source": [
    "我们可以使用这些数据做出一年间出发时间的可视化分布："
   ]
  },
  {
   "cell_type": "code",
   "execution_count": 25,
   "metadata": {},
   "outputs": [
    {
     "name": "stderr",
     "output_type": "stream",
     "text": [
      "E:\\anaconda3\\lib\\site-packages\\plotnine\\stats\\stat_bin.py:93: PlotnineWarning: 'stat_bin()' using 'bins = 71'. Pick better value with 'binwidth'.\n"
     ]
    },
    {
     "data": {
      "image/png": "[encoded data removed]",
      "text/plain": [
       "<Figure size 640x480 with 1 Axes>"
      ]
     },
     "metadata": {},
     "output_type": "display_data"
    },
    {
     "data": {
      "text/plain": [
       "<ggplot: (127970081133)>"
      ]
     },
     "execution_count": 25,
     "metadata": {},
     "output_type": "execute_result"
    }
   ],
   "source": [
    "from plotnine import *\n",
    "(ggplot(flights_dt, aes(x = 'dep_time')) \n",
    "+ geom_freqpoly())"
   ]
  },
  {
   "cell_type": "markdown",
   "metadata": {},
   "source": [
    "或者在第一天内的分布："
   ]
  },
  {
   "cell_type": "code",
   "execution_count": 26,
   "metadata": {},
   "outputs": [
    {
     "name": "stderr",
     "output_type": "stream",
     "text": [
      "E:\\anaconda3\\lib\\site-packages\\plotnine\\stats\\stat_bin.py:93: PlotnineWarning: 'stat_bin()' using 'bins = 11'. Pick better value with 'binwidth'.\n"
     ]
    },
    {
     "data": {
      "image/png": "[encoded data removed]",
      "text/plain": [
       "<Figure size 640x480 with 1 Axes>"
      ]
     },
     "metadata": {},
     "output_type": "display_data"
    },
    {
     "data": {
      "text/plain": [
       "<ggplot: (127982301889)>"
      ]
     },
     "execution_count": 26,
     "metadata": {},
     "output_type": "execute_result"
    }
   ],
   "source": [
    "(ggplot(flights_dt[flights_dt['dep_time'].__lt__(datetime(2013,1,2))], aes('dep_time')) \n",
    "+ geom_freqpoly()\n",
    "+ scale_x_date(breaks='5 hours', date_labels='%Y-%m-%d %H'))"
   ]
  },
  {
   "cell_type": "markdown",
   "metadata": {},
   "source": [
    "### 16.2.3 通过其他类型数据创建\n",
    "有时我们会使用“Unix 时间戳”（即 1970-01-01）的偏移量来表示日期时间。"
   ]
  },
  {
   "cell_type": "code",
   "execution_count": 80,
   "metadata": {},
   "outputs": [
    {
     "data": {
      "text/plain": [
       "datetime.datetime(2020, 11, 27, 17, 43, 54, 581067)"
      ]
     },
     "execution_count": 80,
     "metadata": {},
     "output_type": "execute_result"
    }
   ],
   "source": [
    "import time\n",
    "dtime = datetime.now()\n",
    "dtime"
   ]
  },
  {
   "cell_type": "code",
   "execution_count": 81,
   "metadata": {},
   "outputs": [
    {
     "data": {
      "text/plain": [
       "1606470234.0"
      ]
     },
     "execution_count": 81,
     "metadata": {},
     "output_type": "execute_result"
    }
   ],
   "source": [
    "time.mktime(dtime.timetuple())"
   ]
  },
  {
   "cell_type": "code",
   "execution_count": 82,
   "metadata": {},
   "outputs": [
    {
     "data": {
      "text/plain": [
       "datetime.datetime(2020, 11, 27, 17, 43, 54)"
      ]
     },
     "execution_count": 82,
     "metadata": {},
     "output_type": "execute_result"
    }
   ],
   "source": [
    "unix_ts = 1606470234.0\n",
    "datetime.fromtimestamp(unix_ts)"
   ]
  },
  {
   "cell_type": "markdown",
   "metadata": {},
   "source": [
    "## 16.3 日期时间成分\n",
    "现在我们已经知道了如何将日期时间型数据保存在 Python 的相应数据结构中。接下来我们研究一下能够对这些数据进行何种处理。\n",
    "\n",
    "本节将重点介绍如何获取和设置日期时间成分。\n",
    "### 16.3.1获取成分\n",
    "如果想要提取出日期中的独立成分，可以使用`datetime.year`, `datetime.day`等函数。"
   ]
  },
  {
   "cell_type": "code",
   "execution_count": 29,
   "metadata": {},
   "outputs": [
    {
     "data": {
      "text/plain": [
       "2016"
      ]
     },
     "execution_count": 29,
     "metadata": {},
     "output_type": "execute_result"
    }
   ],
   "source": [
    "time = parser.parse('2016-07-08, 12:34:56')\n",
    "time.year"
   ]
  },
  {
   "cell_type": "code",
   "execution_count": 30,
   "metadata": {},
   "outputs": [
    {
     "data": {
      "text/plain": [
       "7"
      ]
     },
     "execution_count": 30,
     "metadata": {},
     "output_type": "execute_result"
    }
   ],
   "source": [
    "time.month"
   ]
  },
  {
   "cell_type": "code",
   "execution_count": 31,
   "metadata": {},
   "outputs": [
    {
     "data": {
      "text/plain": [
       "8"
      ]
     },
     "execution_count": 31,
     "metadata": {},
     "output_type": "execute_result"
    }
   ],
   "source": [
    "time.day"
   ]
  },
  {
   "cell_type": "code",
   "execution_count": 32,
   "metadata": {},
   "outputs": [
    {
     "data": {
      "text/plain": [
       "4"
      ]
     },
     "execution_count": 32,
     "metadata": {},
     "output_type": "execute_result"
    }
   ],
   "source": [
    "time.weekday()\n",
    "# 该方法返回数字0—6，依次代表周一到周天"
   ]
  },
  {
   "cell_type": "markdown",
   "metadata": {},
   "source": [
    "通过 weekday() 函数，我们可以知道在工作日出发的航班要多于周末出发的航班："
   ]
  },
  {
   "cell_type": "code",
   "execution_count": 33,
   "metadata": {},
   "outputs": [
    {
     "data": {
      "image/png": "[encoded data removed]",
      "text/plain": [
       "<Figure size 640x480 with 1 Axes>"
      ]
     },
     "metadata": {},
     "output_type": "display_data"
    },
    {
     "data": {
      "text/plain": [
       "<ggplot: (127982778597)>"
      ]
     },
     "execution_count": 33,
     "metadata": {},
     "output_type": "execute_result"
    }
   ],
   "source": [
    "flights_dt['wday'] = flights_dt['dep_time'].apply(lambda x : x.weekday())\n",
    "(ggplot(flights_dt, aes(x = 'wday')) \n",
    "+ geom_bar())"
   ]
  },
  {
   "cell_type": "markdown",
   "metadata": {},
   "source": [
    "如果查看一小时内每分钟的平均出发延误，我们可以发现一个有趣的模式。似乎在第 20-30 分钟和第 50-60 分钟内出发的航班的延误时间远远低于其他时间出发的航班！"
   ]
  },
  {
   "cell_type": "code",
   "execution_count": 34,
   "metadata": {
    "scrolled": false
   },
   "outputs": [
    {
     "data": {
      "image/png": "[encoded data removed]",
      "text/plain": [
       "<Figure size 640x480 with 1 Axes>"
      ]
     },
     "metadata": {},
     "output_type": "display_data"
    },
    {
     "data": {
      "text/plain": [
       "<ggplot: (127982741532)>"
      ]
     },
     "execution_count": 34,
     "metadata": {},
     "output_type": "execute_result"
    }
   ],
   "source": [
    "flights_dt['dep_minute'] = flights_dt['dep_time'].apply(lambda x : x.minute)\n",
    "by_minute = flights_dt.groupby('dep_minute').agg({'arr_delay':[('avg_delay','mean')],\n",
    "                                                  'dep_minute':[('count','count')]})\n",
    "by_minute.columns = by_minute.columns.droplevel(0)\n",
    "by_minute = by_minute.reset_index()\n",
    "\n",
    "(ggplot(by_minute, aes(x = 'dep_minute', y = 'avg_delay')) \n",
    "+ geom_line())"
   ]
  },
  {
   "cell_type": "markdown",
   "metadata": {},
   "source": [
    "有趣的是，如果检查计划出发时间，我们就会发现其中没有这么明显的模式："
   ]
  },
  {
   "cell_type": "code",
   "execution_count": 35,
   "metadata": {},
   "outputs": [
    {
     "data": {
      "image/png": "[encoded data removed]",
      "text/plain": [
       "<Figure size 640x480 with 1 Axes>"
      ]
     },
     "metadata": {},
     "output_type": "display_data"
    },
    {
     "data": {
      "text/plain": [
       "<ggplot: (127982863948)>"
      ]
     },
     "execution_count": 35,
     "metadata": {},
     "output_type": "execute_result"
    }
   ],
   "source": [
    "flights_dt['sched_dep_minute'] = flights_dt['sched_dep_time'].apply(lambda x : x.minute)\n",
    "by_minute_sched = flights_dt.groupby('sched_dep_minute').agg({'arr_delay':[('avg_delay','mean')],\n",
    "                                                  'sched_dep_minute':[('count','count')]})\n",
    "by_minute_sched.columns=by_minute_sched.columns.droplevel(0)\n",
    "by_minute_sched = by_minute_sched.reset_index()\n",
    "\n",
    "(ggplot(by_minute_sched, aes(x = 'sched_dep_minute', y = 'avg_delay')) \n",
    "+ geom_line())"
   ]
  },
  {
   "cell_type": "markdown",
   "metadata": {},
   "source": [
    "那么，为什么我们会在实际的出发时间中看到这种模式呢？\n",
    "\n",
    "与人工收集的很多数据一样，航班数据也严重倾向于在“美妙的”时间出发的那些航班。只要处理的数据涉及人工判断，那么你就要对这种模式保持警惕！"
   ]
  },
  {
   "cell_type": "code",
   "execution_count": 36,
   "metadata": {},
   "outputs": [
    {
     "data": {
      "image/png": "[encoded data removed]",
      "text/plain": [
       "<Figure size 640x480 with 1 Axes>"
      ]
     },
     "metadata": {},
     "output_type": "display_data"
    },
    {
     "data": {
      "text/plain": [
       "<ggplot: (127982761117)>"
      ]
     },
     "execution_count": 36,
     "metadata": {},
     "output_type": "execute_result"
    }
   ],
   "source": [
    "(ggplot(by_minute_sched, aes(x = 'sched_dep_minute', y = 'count')) \n",
    "+ geom_line())"
   ]
  },
  {
   "cell_type": "markdown",
   "metadata": {},
   "source": [
    "### 16.3.2 舍入\n",
    "我们可以使用一些函数将日期舍入到临近的一个时间单位。\n",
    "\n",
    "`time.strftime()`函数接收以时间元组，并返回以可读字符串表示的当地时间，例如：\n",
    "* %m 月份（01-12）\n",
    "* %j 年内的一天（001-366）\n",
    "* %W 一年中的星期数（00-53）\n",
    "\n",
    "……"
   ]
  },
  {
   "cell_type": "code",
   "execution_count": 37,
   "metadata": {},
   "outputs": [
    {
     "data": {
      "text/plain": [
       "'283'"
      ]
     },
     "execution_count": 37,
     "metadata": {},
     "output_type": "execute_result"
    }
   ],
   "source": [
    "dt1 = datetime(2018, 10, 10)\n",
    "dt1.strftime(\"%j\")"
   ]
  },
  {
   "cell_type": "code",
   "execution_count": 38,
   "metadata": {},
   "outputs": [
    {
     "data": {
      "text/plain": [
       "'41'"
      ]
     },
     "execution_count": 38,
     "metadata": {},
     "output_type": "execute_result"
    }
   ],
   "source": [
    "dt1.strftime(\"%W\")"
   ]
  },
  {
   "cell_type": "markdown",
   "metadata": {},
   "source": [
    "我们可以使用这个函数，绘制出每周的航班数量："
   ]
  },
  {
   "cell_type": "code",
   "execution_count": 39,
   "metadata": {
    "scrolled": false
   },
   "outputs": [
    {
     "data": {
      "image/png": "[encoded data removed]",
      "text/plain": [
       "<Figure size 640x480 with 1 Axes>"
      ]
     },
     "metadata": {},
     "output_type": "display_data"
    },
    {
     "data": {
      "text/plain": [
       "<ggplot: (127982737044)>"
      ]
     },
     "execution_count": 39,
     "metadata": {},
     "output_type": "execute_result"
    }
   ],
   "source": [
    "flights_dt['week'] = flights_dt['dep_time'].apply(lambda x : x.strftime(\"%W\") )\n",
    "by_week = flights_dt.groupby('week').agg({'week':[('count','count')]})\n",
    "by_week.columns = by_week.columns.droplevel(0)\n",
    "by_week = by_week.reset_index()\n",
    "\n",
    "(ggplot(by_week, aes(x = 'week', y = 'count', group = 1)) \n",
    "+ geom_line())"
   ]
  },
  {
   "cell_type": "markdown",
   "metadata": {},
   "source": [
    "### 16.3.3 设置成分\n",
    "可以使用`datetime.replace()`函数来设置日期时间中的成分："
   ]
  },
  {
   "cell_type": "code",
   "execution_count": 40,
   "metadata": {},
   "outputs": [
    {
     "data": {
      "text/plain": [
       "datetime.datetime(2015, 2, 1, 12, 34, 56)"
      ]
     },
     "execution_count": 40,
     "metadata": {},
     "output_type": "execute_result"
    }
   ],
   "source": [
    "a = parser.parse('2016-07-08, 12:34:56')\n",
    "a.replace(2015, 2, 1)"
   ]
  },
  {
   "cell_type": "markdown",
   "metadata": {},
   "source": [
    "我们可以使用这个函数来显示这一年中所有航班的出发时间在一天内的分布："
   ]
  },
  {
   "cell_type": "code",
   "execution_count": 83,
   "metadata": {},
   "outputs": [
    {
     "name": "stderr",
     "output_type": "stream",
     "text": [
      "E:\\anaconda3\\lib\\site-packages\\plotnine\\stats\\stat_bin.py:93: PlotnineWarning: 'stat_bin()' using 'bins = 96'. Pick better value with 'binwidth'.\n"
     ]
    },
    {
     "data": {
      "image/png": "[encoded data removed]",
      "text/plain": [
       "<Figure size 640x480 with 1 Axes>"
      ]
     },
     "metadata": {},
     "output_type": "display_data"
    },
    {
     "data": {
      "text/plain": [
       "<ggplot: (127982761063)>"
      ]
     },
     "execution_count": 83,
     "metadata": {},
     "output_type": "execute_result"
    }
   ],
   "source": [
    "flights_dt['dep_hour_1'] = flights_dt['dep_time'].apply(lambda x : x.replace(2013, 1, 1))\n",
    "(ggplot(flights_dt, aes('dep_hour_1')) \n",
    "+ geom_freqpoly()\n",
    "+ scale_x_date(breaks='5 hours', date_labels='%Y-%m-%d %H'))"
   ]
  },
  {
   "cell_type": "markdown",
   "metadata": {},
   "source": [
    "## 16.4 时间间隔\n",
    "接下来介绍如何对日期进行数学运算。"
   ]
  },
  {
   "cell_type": "code",
   "execution_count": 84,
   "metadata": {},
   "outputs": [
    {
     "data": {
      "text/plain": [
       "datetime.datetime(2020, 11, 27, 18, 0, 26, 539255)"
      ]
     },
     "execution_count": 84,
     "metadata": {},
     "output_type": "execute_result"
    }
   ],
   "source": [
    "start_time = datetime.now()\n",
    "start_time"
   ]
  },
  {
   "cell_type": "code",
   "execution_count": 85,
   "metadata": {},
   "outputs": [
    {
     "data": {
      "text/plain": [
       "datetime.datetime(2020, 11, 27, 18, 0, 31, 786656)"
      ]
     },
     "execution_count": 85,
     "metadata": {},
     "output_type": "execute_result"
    }
   ],
   "source": [
    "end_time = datetime.now()\n",
    "end_time"
   ]
  },
  {
   "cell_type": "code",
   "execution_count": 86,
   "metadata": {},
   "outputs": [
    {
     "data": {
      "text/plain": [
       "datetime.timedelta(seconds=5, microseconds=247401)"
      ]
     },
     "execution_count": 86,
     "metadata": {},
     "output_type": "execute_result"
    }
   ],
   "source": [
    "end_time - start_time"
   ]
  },
  {
   "cell_type": "code",
   "execution_count": 87,
   "metadata": {},
   "outputs": [
    {
     "data": {
      "text/plain": [
       "datetime.timedelta(seconds=5, microseconds=247401)"
      ]
     },
     "execution_count": 87,
     "metadata": {},
     "output_type": "execute_result"
    }
   ],
   "source": [
    "end_time.__sub__(start_time)\n",
    "# __rsub__()反向操作"
   ]
  },
  {
   "cell_type": "markdown",
   "metadata": {},
   "source": [
    "R语言中有 3 种用于表示时间间隔的种类：\n",
    "* 时期：以秒为单位表示一段精确的时间\n",
    "* 阶段：表示由人工定义的一段时间，如几周或几个月\n",
    "* 区间：表示从起点到终点的一段时间\n",
    "\n",
    "### 16.4.1 时期\n",
    "R语言 lubridate 提供了总是使用秒为单位的计时对象——时期。"
   ]
  },
  {
   "cell_type": "markdown",
   "metadata": {},
   "source": [
    "### 16.4.2 阶段\n",
    "阶段也是一种时间间隔，但它不以秒为单位；相反，它使用“人工”时间，比如日和月，这使得它们使用起来更加直观。\n",
    "\n",
    "Python 中 timedelta 类就是用来计算两个 datetime 对象的差值的。此类中包含 days, hours, seconds 等属性。"
   ]
  },
  {
   "cell_type": "code",
   "execution_count": 47,
   "metadata": {},
   "outputs": [
    {
     "data": {
      "text/plain": [
       "datetime.datetime(2020, 11, 27, 13, 42, 36, 872068)"
      ]
     },
     "execution_count": 47,
     "metadata": {},
     "output_type": "execute_result"
    }
   ],
   "source": [
    "a = datetime.now()\n",
    "a "
   ]
  },
  {
   "cell_type": "code",
   "execution_count": 48,
   "metadata": {},
   "outputs": [
    {
     "data": {
      "text/plain": [
       "datetime.datetime(2020, 12, 27, 13, 42, 36, 872068)"
      ]
     },
     "execution_count": 48,
     "metadata": {},
     "output_type": "execute_result"
    }
   ],
   "source": [
    "a + timedelta(days = 30)"
   ]
  },
  {
   "cell_type": "code",
   "execution_count": 49,
   "metadata": {},
   "outputs": [
    {
     "data": {
      "text/plain": [
       "datetime.datetime(2020, 12, 14, 5, 42, 36, 872068)"
      ]
     },
     "execution_count": 49,
     "metadata": {},
     "output_type": "execute_result"
    }
   ],
   "source": [
    "a + timedelta(hours = 400)"
   ]
  },
  {
   "cell_type": "code",
   "execution_count": 50,
   "metadata": {},
   "outputs": [
    {
     "data": {
      "text/plain": [
       "datetime.datetime(2020, 11, 29, 13, 42, 36, 872068)"
      ]
     },
     "execution_count": 50,
     "metadata": {},
     "output_type": "execute_result"
    }
   ],
   "source": [
    "a + timedelta(seconds = 172800)"
   ]
  },
  {
   "cell_type": "code",
   "execution_count": 54,
   "metadata": {},
   "outputs": [
    {
     "data": {
      "text/plain": [
       "<4470 * Minutes>"
      ]
     },
     "execution_count": 54,
     "metadata": {},
     "output_type": "execute_result"
    }
   ],
   "source": [
    "from pandas.tseries.offsets import Hour, Minute, Day\n",
    "Day(3) + Hour(2) + Minute(30)"
   ]
  },
  {
   "cell_type": "code",
   "execution_count": 55,
   "metadata": {},
   "outputs": [
    {
     "data": {
      "text/plain": [
       "datetime.timedelta(days=3, seconds=9000)"
      ]
     },
     "execution_count": 55,
     "metadata": {},
     "output_type": "execute_result"
    }
   ],
   "source": [
    "timedelta(days = 3) + timedelta(hours = 2) + timedelta(minutes = 30)"
   ]
  },
  {
   "cell_type": "code",
   "execution_count": 56,
   "metadata": {},
   "outputs": [
    {
     "data": {
      "text/plain": [
       "<1320 * Hours>"
      ]
     },
     "execution_count": 56,
     "metadata": {},
     "output_type": "execute_result"
    }
   ],
   "source": [
    "10 * (Hour(60) + Day(3))"
   ]
  },
  {
   "cell_type": "code",
   "execution_count": 57,
   "metadata": {},
   "outputs": [
    {
     "data": {
      "text/plain": [
       "Timestamp('2020-11-30 13:42:36.872068')"
      ]
     },
     "execution_count": 57,
     "metadata": {},
     "output_type": "execute_result"
    }
   ],
   "source": [
    "a + 3 * Day()"
   ]
  },
  {
   "cell_type": "markdown",
   "metadata": {},
   "source": [
    "下面我们使用阶段来解决与航班日期有关的一个怪现象。有些飞机似乎在从纽约市起飞前就到达了目的地："
   ]
  },
  {
   "cell_type": "code",
   "execution_count": 58,
   "metadata": {},
   "outputs": [
    {
     "data": {
      "text/html": [
       "<div>\n",
       "<style scoped>\n",
       "    .dataframe tbody tr th:only-of-type {\n",
       "        vertical-align: middle;\n",
       "    }\n",
       "\n",
       "    .dataframe tbody tr th {\n",
       "        vertical-align: top;\n",
       "    }\n",
       "\n",
       "    .dataframe thead th {\n",
       "        text-align: right;\n",
       "    }\n",
       "</style>\n",
       "<table border=\"1\" class=\"dataframe\">\n",
       "  <thead>\n",
       "    <tr style=\"text-align: right;\">\n",
       "      <th></th>\n",
       "      <th>origin</th>\n",
       "      <th>dest</th>\n",
       "      <th>dep_delay</th>\n",
       "      <th>arr_delay</th>\n",
       "      <th>air_time</th>\n",
       "      <th>dep_time</th>\n",
       "      <th>arr_time</th>\n",
       "      <th>sched_dep_time</th>\n",
       "      <th>sched_arr_time</th>\n",
       "      <th>wday</th>\n",
       "      <th>dep_minute</th>\n",
       "      <th>sched_dep_minute</th>\n",
       "      <th>week</th>\n",
       "      <th>dep_hour_1</th>\n",
       "    </tr>\n",
       "  </thead>\n",
       "  <tbody>\n",
       "    <tr>\n",
       "      <th>719</th>\n",
       "      <td>EWR</td>\n",
       "      <td>BQN</td>\n",
       "      <td>9.0</td>\n",
       "      <td>-4.0</td>\n",
       "      <td>192.0</td>\n",
       "      <td>2013-01-01 19:29:00</td>\n",
       "      <td>2013-01-01 00:03:00</td>\n",
       "      <td>2013-01-01 19:20:00</td>\n",
       "      <td>2013-01-01 00:07:00</td>\n",
       "      <td>1</td>\n",
       "      <td>29</td>\n",
       "      <td>20</td>\n",
       "      <td>00</td>\n",
       "      <td>2013-01-01 19:29:00</td>\n",
       "    </tr>\n",
       "    <tr>\n",
       "      <th>725</th>\n",
       "      <td>JFK</td>\n",
       "      <td>DFW</td>\n",
       "      <td>59.0</td>\n",
       "      <td>NaN</td>\n",
       "      <td>NaN</td>\n",
       "      <td>2013-01-01 19:39:00</td>\n",
       "      <td>2013-01-01 00:29:00</td>\n",
       "      <td>2013-01-01 18:40:00</td>\n",
       "      <td>2013-01-01 21:51:00</td>\n",
       "      <td>1</td>\n",
       "      <td>39</td>\n",
       "      <td>40</td>\n",
       "      <td>00</td>\n",
       "      <td>2013-01-01 19:39:00</td>\n",
       "    </tr>\n",
       "    <tr>\n",
       "      <th>791</th>\n",
       "      <td>EWR</td>\n",
       "      <td>TPA</td>\n",
       "      <td>-2.0</td>\n",
       "      <td>9.0</td>\n",
       "      <td>159.0</td>\n",
       "      <td>2013-01-01 20:58:00</td>\n",
       "      <td>2013-01-01 00:08:00</td>\n",
       "      <td>2013-01-01 21:00:00</td>\n",
       "      <td>2013-01-01 23:59:00</td>\n",
       "      <td>1</td>\n",
       "      <td>58</td>\n",
       "      <td>0</td>\n",
       "      <td>00</td>\n",
       "      <td>2013-01-01 20:58:00</td>\n",
       "    </tr>\n",
       "    <tr>\n",
       "      <th>794</th>\n",
       "      <td>EWR</td>\n",
       "      <td>SJU</td>\n",
       "      <td>-6.0</td>\n",
       "      <td>-12.0</td>\n",
       "      <td>199.0</td>\n",
       "      <td>2013-01-01 21:02:00</td>\n",
       "      <td>2013-01-01 01:46:00</td>\n",
       "      <td>2013-01-01 21:08:00</td>\n",
       "      <td>2013-01-01 01:58:00</td>\n",
       "      <td>1</td>\n",
       "      <td>2</td>\n",
       "      <td>8</td>\n",
       "      <td>00</td>\n",
       "      <td>2013-01-01 21:02:00</td>\n",
       "    </tr>\n",
       "    <tr>\n",
       "      <th>797</th>\n",
       "      <td>EWR</td>\n",
       "      <td>SFO</td>\n",
       "      <td>11.0</td>\n",
       "      <td>-14.0</td>\n",
       "      <td>354.0</td>\n",
       "      <td>2013-01-01 21:08:00</td>\n",
       "      <td>2013-01-01 00:25:00</td>\n",
       "      <td>2013-01-01 20:57:00</td>\n",
       "      <td>2013-01-01 00:39:00</td>\n",
       "      <td>1</td>\n",
       "      <td>8</td>\n",
       "      <td>57</td>\n",
       "      <td>00</td>\n",
       "      <td>2013-01-01 21:08:00</td>\n",
       "    </tr>\n",
       "    <tr>\n",
       "      <th>...</th>\n",
       "      <td>...</td>\n",
       "      <td>...</td>\n",
       "      <td>...</td>\n",
       "      <td>...</td>\n",
       "      <td>...</td>\n",
       "      <td>...</td>\n",
       "      <td>...</td>\n",
       "      <td>...</td>\n",
       "      <td>...</td>\n",
       "      <td>...</td>\n",
       "      <td>...</td>\n",
       "      <td>...</td>\n",
       "      <td>...</td>\n",
       "      <td>...</td>\n",
       "    </tr>\n",
       "    <tr>\n",
       "      <th>336753</th>\n",
       "      <td>JFK</td>\n",
       "      <td>SJU</td>\n",
       "      <td>0.0</td>\n",
       "      <td>-25.0</td>\n",
       "      <td>192.0</td>\n",
       "      <td>2013-09-30 21:45:00</td>\n",
       "      <td>2013-09-30 01:15:00</td>\n",
       "      <td>2013-09-30 21:45:00</td>\n",
       "      <td>2013-09-30 01:40:00</td>\n",
       "      <td>0</td>\n",
       "      <td>45</td>\n",
       "      <td>45</td>\n",
       "      <td>39</td>\n",
       "      <td>2013-01-01 21:45:00</td>\n",
       "    </tr>\n",
       "    <tr>\n",
       "      <th>336754</th>\n",
       "      <td>LGA</td>\n",
       "      <td>FLL</td>\n",
       "      <td>10.0</td>\n",
       "      <td>3.0</td>\n",
       "      <td>139.0</td>\n",
       "      <td>2013-09-30 21:47:00</td>\n",
       "      <td>2013-09-30 00:30:00</td>\n",
       "      <td>2013-09-30 21:37:00</td>\n",
       "      <td>2013-09-30 00:27:00</td>\n",
       "      <td>0</td>\n",
       "      <td>47</td>\n",
       "      <td>37</td>\n",
       "      <td>39</td>\n",
       "      <td>2013-01-01 21:47:00</td>\n",
       "    </tr>\n",
       "    <tr>\n",
       "      <th>336762</th>\n",
       "      <td>EWR</td>\n",
       "      <td>SFO</td>\n",
       "      <td>80.0</td>\n",
       "      <td>42.0</td>\n",
       "      <td>318.0</td>\n",
       "      <td>2013-09-30 22:33:00</td>\n",
       "      <td>2013-09-30 01:12:00</td>\n",
       "      <td>2013-09-30 21:13:00</td>\n",
       "      <td>2013-09-30 00:30:00</td>\n",
       "      <td>0</td>\n",
       "      <td>33</td>\n",
       "      <td>13</td>\n",
       "      <td>39</td>\n",
       "      <td>2013-01-01 22:33:00</td>\n",
       "    </tr>\n",
       "    <tr>\n",
       "      <th>336763</th>\n",
       "      <td>JFK</td>\n",
       "      <td>MCO</td>\n",
       "      <td>154.0</td>\n",
       "      <td>130.0</td>\n",
       "      <td>123.0</td>\n",
       "      <td>2013-09-30 22:35:00</td>\n",
       "      <td>2013-09-30 00:59:00</td>\n",
       "      <td>2013-09-30 20:01:00</td>\n",
       "      <td>2013-09-30 22:49:00</td>\n",
       "      <td>0</td>\n",
       "      <td>35</td>\n",
       "      <td>1</td>\n",
       "      <td>39</td>\n",
       "      <td>2013-01-01 22:35:00</td>\n",
       "    </tr>\n",
       "    <tr>\n",
       "      <th>336769</th>\n",
       "      <td>JFK</td>\n",
       "      <td>PSE</td>\n",
       "      <td>-10.0</td>\n",
       "      <td>-25.0</td>\n",
       "      <td>196.0</td>\n",
       "      <td>2013-09-30 23:49:00</td>\n",
       "      <td>2013-09-30 03:25:00</td>\n",
       "      <td>2013-09-30 23:59:00</td>\n",
       "      <td>2013-09-30 03:50:00</td>\n",
       "      <td>0</td>\n",
       "      <td>49</td>\n",
       "      <td>59</td>\n",
       "      <td>39</td>\n",
       "      <td>2013-01-01 23:49:00</td>\n",
       "    </tr>\n",
       "  </tbody>\n",
       "</table>\n",
       "<p>10633 rows × 14 columns</p>\n",
       "</div>"
      ],
      "text/plain": [
       "       origin dest  dep_delay  arr_delay  air_time            dep_time  \\\n",
       "719       EWR  BQN        9.0       -4.0     192.0 2013-01-01 19:29:00   \n",
       "725       JFK  DFW       59.0        NaN       NaN 2013-01-01 19:39:00   \n",
       "791       EWR  TPA       -2.0        9.0     159.0 2013-01-01 20:58:00   \n",
       "794       EWR  SJU       -6.0      -12.0     199.0 2013-01-01 21:02:00   \n",
       "797       EWR  SFO       11.0      -14.0     354.0 2013-01-01 21:08:00   \n",
       "...       ...  ...        ...        ...       ...                 ...   \n",
       "336753    JFK  SJU        0.0      -25.0     192.0 2013-09-30 21:45:00   \n",
       "336754    LGA  FLL       10.0        3.0     139.0 2013-09-30 21:47:00   \n",
       "336762    EWR  SFO       80.0       42.0     318.0 2013-09-30 22:33:00   \n",
       "336763    JFK  MCO      154.0      130.0     123.0 2013-09-30 22:35:00   \n",
       "336769    JFK  PSE      -10.0      -25.0     196.0 2013-09-30 23:49:00   \n",
       "\n",
       "                  arr_time      sched_dep_time      sched_arr_time  wday  \\\n",
       "719    2013-01-01 00:03:00 2013-01-01 19:20:00 2013-01-01 00:07:00     1   \n",
       "725    2013-01-01 00:29:00 2013-01-01 18:40:00 2013-01-01 21:51:00     1   \n",
       "791    2013-01-01 00:08:00 2013-01-01 21:00:00 2013-01-01 23:59:00     1   \n",
       "794    2013-01-01 01:46:00 2013-01-01 21:08:00 2013-01-01 01:58:00     1   \n",
       "797    2013-01-01 00:25:00 2013-01-01 20:57:00 2013-01-01 00:39:00     1   \n",
       "...                    ...                 ...                 ...   ...   \n",
       "336753 2013-09-30 01:15:00 2013-09-30 21:45:00 2013-09-30 01:40:00     0   \n",
       "336754 2013-09-30 00:30:00 2013-09-30 21:37:00 2013-09-30 00:27:00     0   \n",
       "336762 2013-09-30 01:12:00 2013-09-30 21:13:00 2013-09-30 00:30:00     0   \n",
       "336763 2013-09-30 00:59:00 2013-09-30 20:01:00 2013-09-30 22:49:00     0   \n",
       "336769 2013-09-30 03:25:00 2013-09-30 23:59:00 2013-09-30 03:50:00     0   \n",
       "\n",
       "        dep_minute  sched_dep_minute week          dep_hour_1  \n",
       "719             29                20   00 2013-01-01 19:29:00  \n",
       "725             39                40   00 2013-01-01 19:39:00  \n",
       "791             58                 0   00 2013-01-01 20:58:00  \n",
       "794              2                 8   00 2013-01-01 21:02:00  \n",
       "797              8                57   00 2013-01-01 21:08:00  \n",
       "...            ...               ...  ...                 ...  \n",
       "336753          45                45   39 2013-01-01 21:45:00  \n",
       "336754          47                37   39 2013-01-01 21:47:00  \n",
       "336762          33                13   39 2013-01-01 22:33:00  \n",
       "336763          35                 1   39 2013-01-01 22:35:00  \n",
       "336769          49                59   39 2013-01-01 23:49:00  \n",
       "\n",
       "[10633 rows x 14 columns]"
      ]
     },
     "execution_count": 58,
     "metadata": {},
     "output_type": "execute_result"
    }
   ],
   "source": [
    "flights_dt[flights_dt['arr_time'] < flights_dt['dep_time']]"
   ]
  },
  {
   "cell_type": "markdown",
   "metadata": {},
   "source": [
    "这些都是过夜航班。我们使用了同一种日期来表示出发时间和到达时间，但这些航班是在第二天到达的。\n",
    "\n",
    "将每个过夜航班的到达时间加上 1 天，就可以解决这个问题了："
   ]
  },
  {
   "cell_type": "code",
   "execution_count": 59,
   "metadata": {},
   "outputs": [
    {
     "data": {
      "text/html": [
       "<div>\n",
       "<style scoped>\n",
       "    .dataframe tbody tr th:only-of-type {\n",
       "        vertical-align: middle;\n",
       "    }\n",
       "\n",
       "    .dataframe tbody tr th {\n",
       "        vertical-align: top;\n",
       "    }\n",
       "\n",
       "    .dataframe thead th {\n",
       "        text-align: right;\n",
       "    }\n",
       "</style>\n",
       "<table border=\"1\" class=\"dataframe\">\n",
       "  <thead>\n",
       "    <tr style=\"text-align: right;\">\n",
       "      <th></th>\n",
       "      <th>origin</th>\n",
       "      <th>dest</th>\n",
       "      <th>dep_delay</th>\n",
       "      <th>arr_delay</th>\n",
       "      <th>air_time</th>\n",
       "      <th>dep_time</th>\n",
       "      <th>arr_time</th>\n",
       "      <th>sched_dep_time</th>\n",
       "      <th>sched_arr_time</th>\n",
       "      <th>wday</th>\n",
       "      <th>dep_minute</th>\n",
       "      <th>sched_dep_minute</th>\n",
       "      <th>week</th>\n",
       "      <th>dep_hour_1</th>\n",
       "      <th>overnight</th>\n",
       "    </tr>\n",
       "  </thead>\n",
       "  <tbody>\n",
       "  </tbody>\n",
       "</table>\n",
       "</div>"
      ],
      "text/plain": [
       "Empty DataFrame\n",
       "Columns: [origin, dest, dep_delay, arr_delay, air_time, dep_time, arr_time, sched_dep_time, sched_arr_time, wday, dep_minute, sched_dep_minute, week, dep_hour_1, overnight]\n",
       "Index: []"
      ]
     },
     "execution_count": 59,
     "metadata": {},
     "output_type": "execute_result"
    }
   ],
   "source": [
    "flights_dt['overnight'] = flights_dt['arr_time'] < flights_dt['dep_time']\n",
    "flights_dt['arr_time'] = flights_dt['arr_time'] + timedelta(days = 1) * flights_dt['overnight']\n",
    "flights_dt[flights_dt['arr_time'] < flights_dt['dep_time']]"
   ]
  },
  {
   "cell_type": "markdown",
   "metadata": {},
   "source": [
    "### 16.4.3 区间\n",
    "在 R 语言中，`years(1) / days(1)`应该返回什么呢？如果年份是 2015 年，那么结果就是 365，但如果年份是 2016 年，那么结果就是 366 ！没有足够的信息让 lubridate 返回一个明确的结果。lubridate 的做法是给出一个估计值，同时给出一条警告：\n",
    "\n",
    "`years(1) / days(1) `\n",
    "\n",
    "`#> estimate only: convert to intervals for accuracy`\n",
    "\n",
    "`#> [1] 365`\n",
    "\n",
    "如果需要更精确的测量方式，我们就必须使用区间。区间是带有起点的时期，这使得其非常精确，我们可以确切地知道它的长度。"
   ]
  },
  {
   "cell_type": "code",
   "execution_count": 61,
   "metadata": {},
   "outputs": [
    {
     "data": {
      "text/plain": [
       "Period('2012-05', '2M')"
      ]
     },
     "execution_count": 61,
     "metadata": {},
     "output_type": "execute_result"
    }
   ],
   "source": [
    "# pd.Period()参数：一个时间戳 + freq 参数 → freq 用于指明该 period 的长度，时间戳则说明该 period 在时间轴上的位置\n",
    "p = pd.Period('2012-01', freq='2M')\n",
    "p + 2"
   ]
  },
  {
   "cell_type": "markdown",
   "metadata": {},
   "source": [
    "## 16.5 时区\n",
    "时区是个非常复杂的主题，因为其受很多地理政治因素的影响。Python 使用国际标准 IANA 时区。这些时区使用统一带有 “/” 的命名方式，一般的形式为 “< 大陆 >/< 城市 >”。如 “America/New_York”、“Europe/Paris” 和 “Pacific/Auckland”。"
   ]
  },
  {
   "cell_type": "code",
   "execution_count": 62,
   "metadata": {},
   "outputs": [
    {
     "data": {
      "text/plain": [
       "['Africa/Abidjan',\n",
       " 'Africa/Accra',\n",
       " 'Africa/Addis_Ababa',\n",
       " 'Africa/Algiers',\n",
       " 'Africa/Asmara',\n",
       " 'Africa/Bamako',\n",
       " 'Africa/Bangui',\n",
       " 'Africa/Banjul',\n",
       " 'Africa/Bissau',\n",
       " 'Africa/Blantyre']"
      ]
     },
     "execution_count": 62,
     "metadata": {},
     "output_type": "execute_result"
    }
   ],
   "source": [
    "import pytz\n",
    "pytz.common_timezones[:10]"
   ]
  },
  {
   "cell_type": "code",
   "execution_count": 63,
   "metadata": {},
   "outputs": [],
   "source": [
    "tz1 = pytz.timezone('America/New_York')\n",
    "tz2 = pytz.timezone('Europe/Copenhagen')\n",
    "tz3 = pytz.timezone('Pacific/Auckland')"
   ]
  },
  {
   "cell_type": "code",
   "execution_count": 64,
   "metadata": {},
   "outputs": [],
   "source": [
    "x1 = datetime(2015,6,1,12, tzinfo = tz1)\n",
    "x2 = datetime(2015,6,1,18, tzinfo = tz2)\n",
    "x3 = datetime(2015,6,2,4, tzinfo = tz3)"
   ]
  },
  {
   "cell_type": "code",
   "execution_count": 65,
   "metadata": {},
   "outputs": [
    {
     "data": {
      "text/plain": [
       "datetime.timedelta(days=-1, seconds=85560)"
      ]
     },
     "execution_count": 65,
     "metadata": {},
     "output_type": "execute_result"
    }
   ],
   "source": [
    "x1 - x2"
   ]
  },
  {
   "cell_type": "code",
   "execution_count": 66,
   "metadata": {},
   "outputs": [
    {
     "data": {
      "text/plain": [
       "datetime.datetime(2015, 6, 1, 12, 0, tzinfo=<DstTzInfo 'America/New_York' LMT-1 day, 19:04:00 STD>)"
      ]
     },
     "execution_count": 66,
     "metadata": {},
     "output_type": "execute_result"
    }
   ],
   "source": [
    "datetime(2015,6,1,12, tzinfo = tz1) # LMT学名Local Mean Time，用于比较平均日出时间"
   ]
  },
  {
   "cell_type": "code",
   "execution_count": 67,
   "metadata": {},
   "outputs": [],
   "source": [
    "x1 = tz1.localize(datetime(2015,6,1,12,0,0))\n",
    "x2 = tz2.localize(datetime(2015,6,1,18,0,0))\n",
    "x3 = tz3.localize(datetime(2015,6,2,4,0,0))"
   ]
  },
  {
   "cell_type": "code",
   "execution_count": 68,
   "metadata": {},
   "outputs": [
    {
     "data": {
      "text/plain": [
       "datetime.timedelta(0)"
      ]
     },
     "execution_count": 68,
     "metadata": {},
     "output_type": "execute_result"
    }
   ],
   "source": [
    "x1 - x2"
   ]
  },
  {
   "cell_type": "code",
   "execution_count": 69,
   "metadata": {},
   "outputs": [
    {
     "data": {
      "text/plain": [
       "datetime.datetime(2015, 6, 1, 12, 0, tzinfo=<DstTzInfo 'America/New_York' EDT-1 day, 20:00:00 DST>)"
      ]
     },
     "execution_count": 69,
     "metadata": {},
     "output_type": "execute_result"
    }
   ],
   "source": [
    "tz1.localize(datetime(2015,6,1,12,0,0)) # EDT 北美东部夏令时间"
   ]
  },
  {
   "cell_type": "markdown",
   "metadata": {},
   "source": [
    "使用`astimezone()`函数修改时区："
   ]
  },
  {
   "cell_type": "code",
   "execution_count": 72,
   "metadata": {},
   "outputs": [
    {
     "data": {
      "text/plain": [
       "0    2015-06-01 12:00:00-04:00\n",
       "1    2015-06-01 18:00:00+02:00\n",
       "2    2015-06-02 04:00:00+12:00\n",
       "dtype: object"
      ]
     },
     "execution_count": 72,
     "metadata": {},
     "output_type": "execute_result"
    }
   ],
   "source": [
    "x4 = pd.Series([x1, x2, x3])\n",
    "x4"
   ]
  },
  {
   "cell_type": "code",
   "execution_count": 73,
   "metadata": {},
   "outputs": [],
   "source": [
    "tz = pytz.timezone('Australia/Lord_Howe')\n",
    "x4a = x4.apply(lambda x : x.astimezone(tz))"
   ]
  },
  {
   "cell_type": "code",
   "execution_count": 71,
   "metadata": {},
   "outputs": [
    {
     "data": {
      "text/plain": [
       "0   2015-06-02 02:30:00+10:30\n",
       "1   2015-06-02 02:30:00+10:30\n",
       "2   2015-06-02 02:30:00+10:30\n",
       "dtype: datetime64[ns, Australia/Lord_Howe]"
      ]
     },
     "execution_count": 71,
     "metadata": {},
     "output_type": "execute_result"
    }
   ],
   "source": [
    "x4a"
   ]
  },
  {
   "cell_type": "code",
   "execution_count": 75,
   "metadata": {},
   "outputs": [
    {
     "data": {
      "text/plain": [
       "0    True\n",
       "1    True\n",
       "2    True\n",
       "dtype: bool"
      ]
     },
     "execution_count": 75,
     "metadata": {},
     "output_type": "execute_result"
    }
   ],
   "source": [
    "x4a.__eq__(x4)"
   ]
  }
 ],
 "metadata": {
  "kernelspec": {
   "display_name": "Python 3",
   "language": "python",
   "name": "python3"
  },
  "language_info": {
   "codemirror_mode": {
    "name": "ipython",
    "version": 3
   },
   "file_extension": ".py",
   "mimetype": "text/x-python",
   "name": "python",
   "nbconvert_exporter": "python",
   "pygments_lexer": "ipython3",
   "version": "3.8.3"
  },
  "toc": {
   "base_numbering": 1,
   "nav_menu": {},
   "number_sections": true,
   "sideBar": true,
   "skip_h1_title": false,
   "title_cell": "Table of Contents",
   "title_sidebar": "Contents",
   "toc_cell": false,
   "toc_position": {
    "height": "calc(100% - 180px)",
    "left": "10px",
    "top": "150px",
    "width": "288px"
   },
   "toc_section_display": true,
   "toc_window_display": true
  }
 },
 "nbformat": 4,
 "nbformat_minor": 4
}
