{
 "cells": [
  {
   "cell_type": "markdown",
   "metadata": {},
   "source": [
    "# 第15章 处理因子\n",
    "## 15.1 简介\n",
    "因子，即分类变量具有有限且通常为固定的可能值数，例如性别、社会阶层、血型、国家隶属关系等等。分类数据可能有一个顺序（例如\"强烈同意\"与\"同意\"或\"第一次观察\"与\"第二次观察\"），但数字操作（添加、除法等）是不可能的。\n",
    "分类数据类型在以下情况下很有用：\n",
    "* 仅由几个不同值组成的字符串变量。将这样的字符串变量转换为分类变量将节省一些内存\n",
    "* 变量的词法顺序与逻辑顺序不同(\"one\"，\"two\"，\"three\")\n",
    "## 对象创建\n",
    "分类对象可以通过多种方式创建：\n",
    "* 通过在pandas对象创建中将dtype指定为“category”\n",
    "* 使用`astype`将现有的series转换为因子\n",
    "* 使用`pd.Categorical`创建类别对象"
   ]
  },
  {
   "cell_type": "code",
   "execution_count": 2,
   "metadata": {},
   "outputs": [],
   "source": [
    "import pandas as pd"
   ]
  },
  {
   "cell_type": "code",
   "execution_count": 4,
   "metadata": {},
   "outputs": [
    {
     "data": {
      "text/plain": [
       "0    A\n",
       "1    B\n",
       "2    C\n",
       "3    D\n",
       "4    E\n",
       "dtype: category\n",
       "Categories (5, object): ['A', 'B', 'C', 'D', 'E']"
      ]
     },
     "execution_count": 4,
     "metadata": {},
     "output_type": "execute_result"
    }
   ],
   "source": [
    "s = pd.Series([\"A\",\"B\",\"C\",\"D\",\"E\"], dtype=\"category\")\n",
    "s"
   ]
  },
  {
   "cell_type": "code",
   "execution_count": 5,
   "metadata": {},
   "outputs": [
    {
     "data": {
      "text/html": [
       "<div>\n",
       "<style scoped>\n",
       "    .dataframe tbody tr th:only-of-type {\n",
       "        vertical-align: middle;\n",
       "    }\n",
       "\n",
       "    .dataframe tbody tr th {\n",
       "        vertical-align: top;\n",
       "    }\n",
       "\n",
       "    .dataframe thead th {\n",
       "        text-align: right;\n",
       "    }\n",
       "</style>\n",
       "<table border=\"1\" class=\"dataframe\">\n",
       "  <thead>\n",
       "    <tr style=\"text-align: right;\">\n",
       "      <th></th>\n",
       "      <th>A</th>\n",
       "      <th>B</th>\n",
       "    </tr>\n",
       "  </thead>\n",
       "  <tbody>\n",
       "    <tr>\n",
       "      <th>0</th>\n",
       "      <td>a</td>\n",
       "      <td>a</td>\n",
       "    </tr>\n",
       "    <tr>\n",
       "      <th>1</th>\n",
       "      <td>b</td>\n",
       "      <td>b</td>\n",
       "    </tr>\n",
       "    <tr>\n",
       "      <th>2</th>\n",
       "      <td>c</td>\n",
       "      <td>c</td>\n",
       "    </tr>\n",
       "    <tr>\n",
       "      <th>3</th>\n",
       "      <td>a</td>\n",
       "      <td>a</td>\n",
       "    </tr>\n",
       "  </tbody>\n",
       "</table>\n",
       "</div>"
      ],
      "text/plain": [
       "   A  B\n",
       "0  a  a\n",
       "1  b  b\n",
       "2  c  c\n",
       "3  a  a"
      ]
     },
     "execution_count": 5,
     "metadata": {},
     "output_type": "execute_result"
    }
   ],
   "source": [
    "df = pd.DataFrame({\"A\":[\"a\",\"b\",\"c\",\"a\"]})\n",
    "df[\"B\"] = df[\"A\"].astype('category')\n",
    "df"
   ]
  },
  {
   "cell_type": "code",
   "execution_count": 7,
   "metadata": {
    "scrolled": true
   },
   "outputs": [
    {
     "data": {
      "text/plain": [
       "0    a\n",
       "1    b\n",
       "2    c\n",
       "3    a\n",
       "dtype: category\n",
       "Categories (3, object): ['a', 'b', 'c']"
      ]
     },
     "execution_count": 7,
     "metadata": {},
     "output_type": "execute_result"
    }
   ],
   "source": [
    "s = pd.Series(pd.Categorical([\"a\",\"b\",\"c\",\"a\"], categories=[\"a\",\"b\",\"c\"], ordered=False))\n",
    "s"
   ]
  },
  {
   "cell_type": "code",
   "execution_count": 8,
   "metadata": {},
   "outputs": [
    {
     "data": {
      "text/plain": [
       "0    a\n",
       "1    b\n",
       "2    c\n",
       "3    a\n",
       "dtype: category\n",
       "Categories (3, object): ['a' < 'b' < 'c']"
      ]
     },
     "execution_count": 8,
     "metadata": {},
     "output_type": "execute_result"
    }
   ],
   "source": [
    "s = pd.Series(pd.Categorical([\"a\",\"b\",\"c\",\"a\"], categories=[\"a\",\"b\",\"c\"], ordered=True))\n",
    "s"
   ]
  },
  {
   "cell_type": "markdown",
   "metadata": {},
   "source": [
    "## 15.3 创建因子\n",
    "假设我们想要创建一个记录月份的变量："
   ]
  },
  {
   "cell_type": "code",
   "execution_count": 4,
   "metadata": {},
   "outputs": [],
   "source": [
    "x1 = pd.Series([\"Dec\", \"Apr\", \"Jan\", \"Mar\"])"
   ]
  },
  {
   "cell_type": "markdown",
   "metadata": {},
   "source": [
    "使用字符串来记录月份有两个问题：\n",
    "1. 月份只有 12 个取值，如果输入错误，那么代码不会有任何反应\n",
    "2. 其对月份的排序没有意义"
   ]
  },
  {
   "cell_type": "code",
   "execution_count": 12,
   "metadata": {},
   "outputs": [],
   "source": [
    "x2 = pd.Series([\"Dec\", \"Apr\", \"Jam\", \"Mar\"])"
   ]
  },
  {
   "cell_type": "code",
   "execution_count": 13,
   "metadata": {},
   "outputs": [
    {
     "data": {
      "text/plain": [
       "1    Apr\n",
       "0    Dec\n",
       "2    Jan\n",
       "3    Mar\n",
       "dtype: object"
      ]
     },
     "execution_count": 13,
     "metadata": {},
     "output_type": "execute_result"
    }
   ],
   "source": [
    "x1.sort_values()"
   ]
  },
  {
   "cell_type": "markdown",
   "metadata": {},
   "source": [
    "我们可以通过使用因子来解决以上两个问题。"
   ]
  },
  {
   "cell_type": "code",
   "execution_count": 5,
   "metadata": {},
   "outputs": [
    {
     "data": {
      "text/plain": [
       "0    Dec\n",
       "1    Apr\n",
       "2    Jan\n",
       "3    Mar\n",
       "dtype: category\n",
       "Categories (12, object): ['Jan' < 'Feb' < 'Mar' < 'Apr' ... 'Sep' < 'Oct' < 'Nov' < 'Dec']"
      ]
     },
     "execution_count": 5,
     "metadata": {},
     "output_type": "execute_result"
    }
   ],
   "source": [
    "x1_cat = pd.Series(pd.Categorical(x1, categories=[ \"Jan\", \"Feb\", \"Mar\", \"Apr\", \"May\", \"Jun\", \"Jul\", \"Aug\", \"Sep\", \"Oct\", \"Nov\", \"Dec\"], ordered=True))\n",
    "x1_cat"
   ]
  },
  {
   "cell_type": "code",
   "execution_count": 6,
   "metadata": {},
   "outputs": [
    {
     "data": {
      "text/plain": [
       "2    Jan\n",
       "3    Mar\n",
       "1    Apr\n",
       "0    Dec\n",
       "dtype: category\n",
       "Categories (12, object): ['Jan' < 'Feb' < 'Mar' < 'Apr' ... 'Sep' < 'Oct' < 'Nov' < 'Dec']"
      ]
     },
     "execution_count": 6,
     "metadata": {},
     "output_type": "execute_result"
    }
   ],
   "source": [
    "x1_cat.sort_values()"
   ]
  },
  {
   "cell_type": "code",
   "execution_count": 16,
   "metadata": {},
   "outputs": [
    {
     "data": {
      "text/plain": [
       "0    Dec\n",
       "1    Apr\n",
       "2    NaN\n",
       "3    Mar\n",
       "dtype: category\n",
       "Categories (12, object): ['Jan' < 'Feb' < 'Mar' < 'Apr' ... 'Sep' < 'Oct' < 'Nov' < 'Dec']"
      ]
     },
     "execution_count": 16,
     "metadata": {},
     "output_type": "execute_result"
    }
   ],
   "source": [
    "x2_cat = pd.Series(pd.Categorical(x2, categories=[ \"Jan\", \"Feb\", \"Mar\", \"Apr\", \"May\", \"Jun\", \"Jul\", \"Aug\", \"Sep\", \"Oct\", \"Nov\", \"Dec\"], ordered=True))\n",
    "x2_cat"
   ]
  },
  {
   "cell_type": "markdown",
   "metadata": {},
   "source": [
    "## 15.4 综合社会调查\n",
    "本章后面的内容将重点讨论 gss_cat 数据集，该数据集是综合社会调查数据的一份抽样，综合社会调查是美国芝加哥大学的独立研究组织 NORC 进行的一项长期美国社会调查。这项调查包括几千个问题，我们挑选了一些变量放在 gss_cat 数据集中，它们可以说明处理因子时经常遇到的一些问题。"
   ]
  },
  {
   "cell_type": "code",
   "execution_count": 25,
   "metadata": {},
   "outputs": [
    {
     "data": {
      "text/html": [
       "<div>\n",
       "<style scoped>\n",
       "    .dataframe tbody tr th:only-of-type {\n",
       "        vertical-align: middle;\n",
       "    }\n",
       "\n",
       "    .dataframe tbody tr th {\n",
       "        vertical-align: top;\n",
       "    }\n",
       "\n",
       "    .dataframe thead th {\n",
       "        text-align: right;\n",
       "    }\n",
       "</style>\n",
       "<table border=\"1\" class=\"dataframe\">\n",
       "  <thead>\n",
       "    <tr style=\"text-align: right;\">\n",
       "      <th></th>\n",
       "      <th>year</th>\n",
       "      <th>marital</th>\n",
       "      <th>age</th>\n",
       "      <th>race</th>\n",
       "      <th>rincome</th>\n",
       "      <th>partyid</th>\n",
       "      <th>relig</th>\n",
       "      <th>denom</th>\n",
       "      <th>tvhours</th>\n",
       "    </tr>\n",
       "  </thead>\n",
       "  <tbody>\n",
       "    <tr>\n",
       "      <th>0</th>\n",
       "      <td>2000</td>\n",
       "      <td>Never married</td>\n",
       "      <td>26.0</td>\n",
       "      <td>White</td>\n",
       "      <td>$8000 to 9999</td>\n",
       "      <td>Ind,near rep</td>\n",
       "      <td>Protestant</td>\n",
       "      <td>Southern baptist</td>\n",
       "      <td>12.0</td>\n",
       "    </tr>\n",
       "    <tr>\n",
       "      <th>1</th>\n",
       "      <td>2000</td>\n",
       "      <td>Divorced</td>\n",
       "      <td>48.0</td>\n",
       "      <td>White</td>\n",
       "      <td>$8000 to 9999</td>\n",
       "      <td>Not str republican</td>\n",
       "      <td>Protestant</td>\n",
       "      <td>Baptist-dk which</td>\n",
       "      <td>NaN</td>\n",
       "    </tr>\n",
       "    <tr>\n",
       "      <th>2</th>\n",
       "      <td>2000</td>\n",
       "      <td>Widowed</td>\n",
       "      <td>67.0</td>\n",
       "      <td>White</td>\n",
       "      <td>Not applicable</td>\n",
       "      <td>Independent</td>\n",
       "      <td>Protestant</td>\n",
       "      <td>No denomination</td>\n",
       "      <td>2.0</td>\n",
       "    </tr>\n",
       "    <tr>\n",
       "      <th>3</th>\n",
       "      <td>2000</td>\n",
       "      <td>Never married</td>\n",
       "      <td>39.0</td>\n",
       "      <td>White</td>\n",
       "      <td>Not applicable</td>\n",
       "      <td>Ind,near rep</td>\n",
       "      <td>Orthodox-christian</td>\n",
       "      <td>Not applicable</td>\n",
       "      <td>4.0</td>\n",
       "    </tr>\n",
       "    <tr>\n",
       "      <th>4</th>\n",
       "      <td>2000</td>\n",
       "      <td>Divorced</td>\n",
       "      <td>25.0</td>\n",
       "      <td>White</td>\n",
       "      <td>Not applicable</td>\n",
       "      <td>Not str democrat</td>\n",
       "      <td>None</td>\n",
       "      <td>Not applicable</td>\n",
       "      <td>1.0</td>\n",
       "    </tr>\n",
       "    <tr>\n",
       "      <th>5</th>\n",
       "      <td>2000</td>\n",
       "      <td>Married</td>\n",
       "      <td>25.0</td>\n",
       "      <td>White</td>\n",
       "      <td>$20000 - 24999</td>\n",
       "      <td>Strong democrat</td>\n",
       "      <td>Protestant</td>\n",
       "      <td>Southern baptist</td>\n",
       "      <td>NaN</td>\n",
       "    </tr>\n",
       "    <tr>\n",
       "      <th>6</th>\n",
       "      <td>2000</td>\n",
       "      <td>Never married</td>\n",
       "      <td>36.0</td>\n",
       "      <td>White</td>\n",
       "      <td>$25000 or more</td>\n",
       "      <td>Not str republican</td>\n",
       "      <td>Christian</td>\n",
       "      <td>Not applicable</td>\n",
       "      <td>3.0</td>\n",
       "    </tr>\n",
       "    <tr>\n",
       "      <th>7</th>\n",
       "      <td>2000</td>\n",
       "      <td>Divorced</td>\n",
       "      <td>44.0</td>\n",
       "      <td>White</td>\n",
       "      <td>$7000 to 7999</td>\n",
       "      <td>Ind,near dem</td>\n",
       "      <td>Protestant</td>\n",
       "      <td>Lutheran-mo synod</td>\n",
       "      <td>NaN</td>\n",
       "    </tr>\n",
       "    <tr>\n",
       "      <th>8</th>\n",
       "      <td>2000</td>\n",
       "      <td>Married</td>\n",
       "      <td>44.0</td>\n",
       "      <td>White</td>\n",
       "      <td>$25000 or more</td>\n",
       "      <td>Not str democrat</td>\n",
       "      <td>Protestant</td>\n",
       "      <td>Other</td>\n",
       "      <td>0.0</td>\n",
       "    </tr>\n",
       "    <tr>\n",
       "      <th>9</th>\n",
       "      <td>2000</td>\n",
       "      <td>Married</td>\n",
       "      <td>47.0</td>\n",
       "      <td>White</td>\n",
       "      <td>$25000 or more</td>\n",
       "      <td>Strong republican</td>\n",
       "      <td>Protestant</td>\n",
       "      <td>Southern baptist</td>\n",
       "      <td>3.0</td>\n",
       "    </tr>\n",
       "  </tbody>\n",
       "</table>\n",
       "</div>"
      ],
      "text/plain": [
       "   year        marital   age   race         rincome             partyid  \\\n",
       "0  2000  Never married  26.0  White   $8000 to 9999        Ind,near rep   \n",
       "1  2000       Divorced  48.0  White   $8000 to 9999  Not str republican   \n",
       "2  2000        Widowed  67.0  White  Not applicable         Independent   \n",
       "3  2000  Never married  39.0  White  Not applicable        Ind,near rep   \n",
       "4  2000       Divorced  25.0  White  Not applicable    Not str democrat   \n",
       "5  2000        Married  25.0  White  $20000 - 24999     Strong democrat   \n",
       "6  2000  Never married  36.0  White  $25000 or more  Not str republican   \n",
       "7  2000       Divorced  44.0  White   $7000 to 7999        Ind,near dem   \n",
       "8  2000        Married  44.0  White  $25000 or more    Not str democrat   \n",
       "9  2000        Married  47.0  White  $25000 or more   Strong republican   \n",
       "\n",
       "                relig              denom  tvhours  \n",
       "0          Protestant   Southern baptist     12.0  \n",
       "1          Protestant   Baptist-dk which      NaN  \n",
       "2          Protestant    No denomination      2.0  \n",
       "3  Orthodox-christian     Not applicable      4.0  \n",
       "4                None     Not applicable      1.0  \n",
       "5          Protestant   Southern baptist      NaN  \n",
       "6           Christian     Not applicable      3.0  \n",
       "7          Protestant  Lutheran-mo synod      NaN  \n",
       "8          Protestant              Other      0.0  \n",
       "9          Protestant   Southern baptist      3.0  "
      ]
     },
     "execution_count": 25,
     "metadata": {},
     "output_type": "execute_result"
    }
   ],
   "source": [
    "gss_cat = pd.read_csv(\"C:\\\\Users\\\\孔彤阳\\\\Desktop\\\\gss_cat.csv\") \n",
    "gss_cat.head(10)"
   ]
  },
  {
   "cell_type": "code",
   "execution_count": 26,
   "metadata": {},
   "outputs": [],
   "source": [
    "gss_cat['race'] = gss_cat['race'].astype('category')\n",
    "gss_cat['partyid'] = gss_cat['partyid'].astype('category')"
   ]
  },
  {
   "cell_type": "markdown",
   "metadata": {},
   "source": [
    "当因子保存在DataFrame中时，其水平不是很容易看到的。我们可以使用`value_counts()`函数或使用条形图来查看因子水平："
   ]
  },
  {
   "cell_type": "code",
   "execution_count": 19,
   "metadata": {},
   "outputs": [
    {
     "data": {
      "text/plain": [
       "White    16395\n",
       "Black     3129\n",
       "Other     1959\n",
       "Name: race, dtype: int64"
      ]
     },
     "execution_count": 19,
     "metadata": {},
     "output_type": "execute_result"
    }
   ],
   "source": [
    "gss_cat['race'].value_counts()"
   ]
  },
  {
   "cell_type": "code",
   "execution_count": 21,
   "metadata": {},
   "outputs": [
    {
     "data": {
      "image/png": "[encoded data removed]",
      "text/plain": [
       "<Figure size 640x480 with 1 Axes>"
      ]
     },
     "metadata": {},
     "output_type": "display_data"
    },
    {
     "data": {
      "text/plain": [
       "<ggplot: (155153540822)>"
      ]
     },
     "execution_count": 21,
     "metadata": {},
     "output_type": "execute_result"
    }
   ],
   "source": [
    "from plotnine import *\n",
    "(ggplot(gss_cat) \n",
    "+ geom_bar(aes(x = 'race')))"
   ]
  },
  {
   "cell_type": "markdown",
   "metadata": {},
   "source": [
    "## 15.5 修改因子水平\n",
    "比修改因子水平顺序更强大的操作是修改水平的值。修改水平不仅可以使得图形标签更美观清晰，还可以将水平汇集成更高层次的显示。\n",
    "\n",
    "我们可以使用`cat.rename_categories()`函数来修改因子水平。"
   ]
  },
  {
   "cell_type": "code",
   "execution_count": 27,
   "metadata": {},
   "outputs": [
    {
     "data": {
      "text/plain": [
       "Independent           4119\n",
       "Not str democrat      3690\n",
       "Strong democrat       3490\n",
       "Not str republican    3032\n",
       "Ind,near dem          2499\n",
       "Strong republican     2314\n",
       "Ind,near rep          1791\n",
       "Other party            393\n",
       "No answer              154\n",
       "Don't know               1\n",
       "Name: partyid, dtype: int64"
      ]
     },
     "execution_count": 27,
     "metadata": {},
     "output_type": "execute_result"
    }
   ],
   "source": [
    "gss_cat['partyid'].value_counts()"
   ]
  },
  {
   "cell_type": "code",
   "execution_count": 24,
   "metadata": {},
   "outputs": [
    {
     "data": {
      "text/plain": [
       "Independent              4119\n",
       "Democrat, weak           3690\n",
       "Democrat, strong         3490\n",
       "Republican, weak         3032\n",
       "Independent, near dem    2499\n",
       "Republican, strong       2314\n",
       "Independent, near rep    1791\n",
       "Other party               393\n",
       "No answer                 154\n",
       "Don't know                  1\n",
       "Name: partyid, dtype: int64"
      ]
     },
     "execution_count": 24,
     "metadata": {},
     "output_type": "execute_result"
    }
   ],
   "source": [
    "gss_cat['partyid'] = gss_cat['partyid'].cat.rename_categories({ \n",
    "    \"Strong republican\" : \"Republican, strong\",\n",
    "    \"Not str republican\" : \"Republican, weak\",\n",
    "    \"Ind,near rep\" : \"Independent, near rep\",\n",
    "    \"Ind,near dem\" : \"Independent, near dem\",\n",
    "    \"Not str democrat\" : \"Democrat, weak\",\n",
    "    \"Strong democrat\" : \"Democrat, strong\"\n",
    "    })\n",
    "gss_cat['partyid'].value_counts()"
   ]
  },
  {
   "cell_type": "markdown",
   "metadata": {},
   "source": [
    "`gss_cat['partyid'] = gss_cat['partyid'].cat.rename_categories({ \n",
    "    \"Strong republican\" : 'Republican, strong',\n",
    "    \"Not str republican\" : \"Republican, weak\",\n",
    "    \"Ind,near rep\" : \"Independent, near rep\",\n",
    "    \"Ind,near dem\" : \"Independent, near dem\",\n",
    "    \"Not str democrat\" : \"Democrat, weak\",\n",
    "    \"Strong democrat\" : \"Democrat, strong\",\n",
    "    \"No answer\" : \"Other\",\n",
    "    \"Don't know\" : \"Other\",\n",
    "    \"Other party\" : \"Other\"\n",
    "    })`\n",
    "    # Categorical categories must be unique"
   ]
  }
 ],
 "metadata": {
  "kernelspec": {
   "display_name": "Python 3",
   "language": "python",
   "name": "python3"
  },
  "language_info": {
   "codemirror_mode": {
    "name": "ipython",
    "version": 3
   },
   "file_extension": ".py",
   "mimetype": "text/x-python",
   "name": "python",
   "nbconvert_exporter": "python",
   "pygments_lexer": "ipython3",
   "version": "3.8.3"
  },
  "toc": {
   "base_numbering": 1,
   "nav_menu": {},
   "number_sections": true,
   "sideBar": true,
   "skip_h1_title": false,
   "title_cell": "Table of Contents",
   "title_sidebar": "Contents",
   "toc_cell": false,
   "toc_position": {
    "height": "calc(100% - 180px)",
    "left": "10px",
    "top": "150px",
    "width": "288px"
   },
   "toc_section_display": true,
   "toc_window_display": true
  }
 },
 "nbformat": 4,
 "nbformat_minor": 4
}
