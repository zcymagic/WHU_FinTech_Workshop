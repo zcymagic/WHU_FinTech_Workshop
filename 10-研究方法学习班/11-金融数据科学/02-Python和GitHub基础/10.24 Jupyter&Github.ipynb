{
 "cells": [
  {
   "cell_type": "markdown",
   "metadata": {},
   "source": [
    "# 1 Anaconda"
   ]
  },
  {
   "cell_type": "markdown",
   "metadata": {},
   "source": [
    "## 1.1 使用Anaconda原因\n",
    "\n",
    "* Anaconda 包括了python和很多常见的软件库, 和一个包管理器conda。它集成了很多关于python科学计算的第三方库，安装方便，可以保证库之间的依赖性\n",
    "\n",
    "\n",
    "* Anaconda 附带捆绑了两个非常好用的交互式代码编辑器（Spyder、Jupyter notebook）"
   ]
  },
  {
   "cell_type": "markdown",
   "metadata": {},
   "source": [
    "## 1.2 下载并配置安装Anaconda\n",
    "\n",
    "官网：https://www.anaconda.com/products/individual\n",
    "\n",
    "镜像：https://mirrors.tuna.tsinghua.edu.cn/anaconda/archive/\n",
    "\n",
    "安装时选项建议参考网上教程以防止出错"
   ]
  },
  {
   "cell_type": "markdown",
   "metadata": {},
   "source": [
    "## 1.3 使用 Anaconda\n"
   ]
  },
  {
   "cell_type": "markdown",
   "metadata": {},
   "source": [
    "### 1.3.1 从Anaconda中启动编译器"
   ]
  },
  {
   "cell_type": "markdown",
   "metadata": {},
   "source": [
    "* Anaconda Navigtor ：用于管理工具包和环境的图形用户界面，后续涉及的众多管理命令也可以在 Navigator 中手工实现。\n",
    "* Jupyter notebook ：基于web的交互式计算环境，可以编辑易于人们阅读的文档，用于展示数据分析的过程。\n",
    "* spyder ：一个使用Python语言、跨平台的、科学运算集成开发环境。"
   ]
  },
  {
   "cell_type": "markdown",
   "metadata": {},
   "source": [
    "从开始菜单（Windows系统）Anaconda文件夹中快速启动Jupyter Notebook或Spyder"
   ]
  },
  {
   "cell_type": "markdown",
   "metadata": {},
   "source": [
    "![title](img/Anaconda1.png)"
   ]
  },
  {
   "cell_type": "markdown",
   "metadata": {},
   "source": [
    "从Anaconda Navigator主界面中启动Jupyter Notebook或其他编译器"
   ]
  },
  {
   "cell_type": "markdown",
   "metadata": {},
   "source": [
    "![title](img/Anaconda2.png)"
   ]
  },
  {
   "cell_type": "markdown",
   "metadata": {},
   "source": [
    "### 1.3.2 用Anaconda进行第三方库安装或版本控制"
   ]
  },
  {
   "cell_type": "markdown",
   "metadata": {},
   "source": [
    "从Anaconda Navigator Enviroments中创建虚拟环境，进行第三方库版本控制或安装"
   ]
  },
  {
   "cell_type": "markdown",
   "metadata": {},
   "source": [
    "![title](img/Anaconda3.png)"
   ]
  },
  {
   "cell_type": "markdown",
   "metadata": {},
   "source": [
    "使用Anaconda Prompt进行第三方库版本控制或安装"
   ]
  },
  {
   "cell_type": "markdown",
   "metadata": {},
   "source": [
    "![title](img/Anaconda4.png)"
   ]
  },
  {
   "cell_type": "markdown",
   "metadata": {},
   "source": [
    "* 与其他编译器如Pycharm搭载使用时，需要进行解释器以及环境配置，稍复杂些。"
   ]
  },
  {
   "cell_type": "markdown",
   "metadata": {},
   "source": [
    "# 2 Jupyter Notebook"
   ]
  },
  {
   "cell_type": "markdown",
   "metadata": {},
   "source": [
    "## 2.1 学习班使用Jupyter Notebook展示原因"
   ]
  },
  {
   "cell_type": "markdown",
   "metadata": {},
   "source": [
    "Jupyter Notebook是基于网页的用于交互计算的应用程序。其可被应用于全过程计算：开发、文档编写、运行代码和展示结果。——Jupyter Notebook官方介绍"
   ]
  },
  {
   "cell_type": "markdown",
   "metadata": {},
   "source": [
    "* 可以在打开的网页页面中直接编写代码和运行代码，且代码的运行结果会直接在代码块下显示。便于在讲解时逐块运行展示即时结果。\n",
    "\n",
    "\n",
    "* 编写说明文档或语句时可在同一个页面中直接编写，也可插入图片，便于做说明和解释。\n",
    "\n",
    "\n",
    "* 编译相对方便，编程时具有语法高亮、缩进、tab补全的功能。"
   ]
  },
  {
   "cell_type": "markdown",
   "metadata": {},
   "source": [
    "## 2.2 jupyter基础"
   ]
  },
  {
   "cell_type": "markdown",
   "metadata": {},
   "source": [
    "### 2.2.1 创建并编辑.ipynb文件"
   ]
  },
  {
   "cell_type": "markdown",
   "metadata": {},
   "source": [
    "启动Jupyter Notebook后，进入如下界面："
   ]
  },
  {
   "cell_type": "markdown",
   "metadata": {},
   "source": [
    "![title](img/Jupyter1.png)"
   ]
  },
  {
   "cell_type": "markdown",
   "metadata": {},
   "source": [
    "* Jupyter Notebook中cell有两种模式  \n",
    "Enter：进入edit(编辑)模式 cell框为蓝色  \n",
    "Esc：进入command(命令行)模式 cell框为绿色  \n",
    "\n",
    "\n",
    "* 在jupyter中编写展示内容时，单元框只需在编程状态Code与说明文档状态Markdown中切换即可（标题用Heading现已与Markdown合并）  \n",
    "\n",
    "\n",
    "* 有许多编辑快捷键，网上容易查找，用起来较为方便"
   ]
  },
  {
   "cell_type": "markdown",
   "metadata": {},
   "source": [
    "部分常用命令：  \n",
    "命令模式 ( Esc )  \n",
    "Enter : 转入编辑模式  \n",
    "Shift-Enter : 运行本单元，选中下个单元  \n",
    "Ctrl-Enter : 运行本单元  \n",
    "Alt-Enter : 运行本单元，在其下插入新单元  \n",
    "Y : 单元转入代码状态  \n",
    "M :单元转入markdown状态  \n",
    "A : 在上方插入新单元  \n",
    "B : 在下方插入新单元  \n",
    "X : 剪切选中的单元  \n",
    "C : 复制选中的单元  \n",
    "Shift-V : 粘贴到上方单元  \n",
    "V : 粘贴到下方单元  \n",
    "Z : 恢复删除的最后一个单元  \n",
    "D,D : 删除选中的单元  \n",
    "Shift-M : 合并选中的单元  \n",
    "Ctrl-S : 文件存盘  \n",
    "\n",
    "\n",
    "编辑模式 ( Enter )  \n",
    "Tab : 代码补全或缩进  \n",
    "Shift-Tab : 提示  \n",
    "Ctrl-] : 缩进  \n",
    "Ctrl-[ : 解除缩进  \n",
    "Ctrl-A : 全选  \n",
    "Ctrl-Z : 复原  \n",
    "Ctrl-Shift-Z : 再做  "
   ]
  },
  {
   "cell_type": "markdown",
   "metadata": {},
   "source": [
    "## 2.2 jupyter文件中所用数据，插图管理\n"
   ]
  },
  {
   "cell_type": "markdown",
   "metadata": {},
   "source": [
    "将.ipynb文件中所用到的本地插图，数据都放入一个文件夹中保存，最终将文件夹上传至Github。否则其他同学打开后看不到插图，也无法读取数据运行文件中的代码。\n"
   ]
  },
  {
   "cell_type": "markdown",
   "metadata": {},
   "source": [
    "建议将本地文件upload至Jupyter Notebook进行如下结构管理，便于数据读取与插图代码添加\n",
    "![title](img/Jupyter2.png)"
   ]
  },
  {
   "cell_type": "markdown",
   "metadata": {},
   "source": [
    "* 在上述文件组织形式下，数据读取直接pd.read_csv('flights.csv')，不用设置本地绝对路径\n",
    "\n",
    "\n",
    "\n",
    "* 插图格式为\"![title](img/xxx.png)\"，其中\"img\"为本地图片所在文件夹，\"xxx.png\"是图片文件名"
   ]
  },
  {
   "cell_type": "markdown",
   "metadata": {},
   "source": [
    "## 2.3 学习班展示示例"
   ]
  },
  {
   "cell_type": "markdown",
   "metadata": {},
   "source": [
    "# 标题 Chapter 5: Data transformation"
   ]
  },
  {
   "cell_type": "markdown",
   "metadata": {},
   "source": [
    "## 简要介绍 5.6 探索航班延误时间与距离之间关系"
   ]
  },
  {
   "cell_type": "code",
   "execution_count": 5,
   "metadata": {},
   "outputs": [
    {
     "data": {
      "text/html": [
       "<div>\n",
       "<style scoped>\n",
       "    .dataframe tbody tr th:only-of-type {\n",
       "        vertical-align: middle;\n",
       "    }\n",
       "\n",
       "    .dataframe tbody tr th {\n",
       "        vertical-align: top;\n",
       "    }\n",
       "\n",
       "    .dataframe thead th {\n",
       "        text-align: right;\n",
       "    }\n",
       "</style>\n",
       "<table border=\"1\" class=\"dataframe\">\n",
       "  <thead>\n",
       "    <tr style=\"text-align: right;\">\n",
       "      <th></th>\n",
       "      <th>dest</th>\n",
       "      <th>count</th>\n",
       "      <th>dist</th>\n",
       "      <th>delay</th>\n",
       "    </tr>\n",
       "  </thead>\n",
       "  <tbody>\n",
       "    <tr>\n",
       "      <th>0</th>\n",
       "      <td>ABQ</td>\n",
       "      <td>254</td>\n",
       "      <td>1826.000000</td>\n",
       "      <td>4.381890</td>\n",
       "    </tr>\n",
       "    <tr>\n",
       "      <th>1</th>\n",
       "      <td>ACK</td>\n",
       "      <td>265</td>\n",
       "      <td>199.000000</td>\n",
       "      <td>4.852273</td>\n",
       "    </tr>\n",
       "    <tr>\n",
       "      <th>2</th>\n",
       "      <td>ALB</td>\n",
       "      <td>439</td>\n",
       "      <td>143.000000</td>\n",
       "      <td>14.397129</td>\n",
       "    </tr>\n",
       "    <tr>\n",
       "      <th>4</th>\n",
       "      <td>ATL</td>\n",
       "      <td>17215</td>\n",
       "      <td>757.108220</td>\n",
       "      <td>11.300113</td>\n",
       "    </tr>\n",
       "    <tr>\n",
       "      <th>5</th>\n",
       "      <td>AUS</td>\n",
       "      <td>2439</td>\n",
       "      <td>1514.252973</td>\n",
       "      <td>6.019909</td>\n",
       "    </tr>\n",
       "    <tr>\n",
       "      <th>...</th>\n",
       "      <td>...</td>\n",
       "      <td>...</td>\n",
       "      <td>...</td>\n",
       "      <td>...</td>\n",
       "    </tr>\n",
       "    <tr>\n",
       "      <th>100</th>\n",
       "      <td>TPA</td>\n",
       "      <td>7466</td>\n",
       "      <td>1003.935575</td>\n",
       "      <td>7.408525</td>\n",
       "    </tr>\n",
       "    <tr>\n",
       "      <th>101</th>\n",
       "      <td>TUL</td>\n",
       "      <td>315</td>\n",
       "      <td>1215.000000</td>\n",
       "      <td>33.659864</td>\n",
       "    </tr>\n",
       "    <tr>\n",
       "      <th>102</th>\n",
       "      <td>TVC</td>\n",
       "      <td>101</td>\n",
       "      <td>652.386139</td>\n",
       "      <td>12.968421</td>\n",
       "    </tr>\n",
       "    <tr>\n",
       "      <th>103</th>\n",
       "      <td>TYS</td>\n",
       "      <td>631</td>\n",
       "      <td>638.809826</td>\n",
       "      <td>24.069204</td>\n",
       "    </tr>\n",
       "    <tr>\n",
       "      <th>104</th>\n",
       "      <td>XNA</td>\n",
       "      <td>1036</td>\n",
       "      <td>1142.505792</td>\n",
       "      <td>7.465726</td>\n",
       "    </tr>\n",
       "  </tbody>\n",
       "</table>\n",
       "<p>96 rows × 4 columns</p>\n",
       "</div>"
      ],
      "text/plain": [
       "    dest  count         dist      delay\n",
       "0    ABQ    254  1826.000000   4.381890\n",
       "1    ACK    265   199.000000   4.852273\n",
       "2    ALB    439   143.000000  14.397129\n",
       "4    ATL  17215   757.108220  11.300113\n",
       "5    AUS   2439  1514.252973   6.019909\n",
       "..   ...    ...          ...        ...\n",
       "100  TPA   7466  1003.935575   7.408525\n",
       "101  TUL    315  1215.000000  33.659864\n",
       "102  TVC    101   652.386139  12.968421\n",
       "103  TYS    631   638.809826  24.069204\n",
       "104  XNA   1036  1142.505792   7.465726\n",
       "\n",
       "[96 rows x 4 columns]"
      ]
     },
     "execution_count": 5,
     "metadata": {},
     "output_type": "execute_result"
    }
   ],
   "source": [
    "# 导包\n",
    "import matplotlib.pyplot as plt\n",
    "# import os\n",
    "# os.chdir(r'E:\\python3\\2020seminar\\nycflights')\n",
    "# path = os.getcwd()\n",
    "import pandas as pd\n",
    "import numpy as np\n",
    "\n",
    "\n",
    "#生成数据\n",
    "flights = pd.read_csv('flights.csv')\n",
    "\n",
    "delay = flights.groupby(by='dest').agg(\n",
    "count=pd.NamedAgg(column='distance', aggfunc='count'),\n",
    "dist=pd.NamedAgg(column='distance', aggfunc='mean'),\n",
    "delay=pd.NamedAgg(column='arr_delay', aggfunc='mean')).reset_index()\n",
    "\n",
    "delay = delay[(delay['count']>20) & (delay['dest']!=\"HNL\") ]\n",
    "delay"
   ]
  },
  {
   "cell_type": "code",
   "execution_count": 6,
   "metadata": {},
   "outputs": [
    {
     "data": {
      "image/png": "[encoded data removed]",
      "text/plain": [
       "<Figure size 504x360 with 1 Axes>"
      ]
     },
     "metadata": {
      "needs_background": "light"
     },
     "output_type": "display_data"
    }
   ],
   "source": [
    "#画图\n",
    "plt.figure(figsize=(7,5))\n",
    "plt.scatter(x = delay.dist,\n",
    "           y = delay.delay,\n",
    "           s = delay['count']/70,\n",
    "           color = 'black' , label = 'count', alpha = 1/3\n",
    "          )\n",
    "a = np.polyfit(delay.dist,delay.delay,2)\n",
    "b = np.poly1d(a)\n",
    "c = b(delay.dist.sort_values())\n",
    "plt.plot(delay.dist.sort_values(),c,ls='-',c='blue')\n",
    "plt.xlabel('dist')\n",
    "plt.ylabel('delay')\n",
    "plt.title('Figure 5.6')\n",
    "plt.legend()\n",
    "plt.show()"
   ]
  },
  {
   "cell_type": "markdown",
   "metadata": {},
   "source": [
    "Figure5.6原图\n",
    "![title](img/Jupyter3.png)\n",
    "ggplot画图代码  \n",
    "ggplot(data = delay, mapping = aes(x = dist, y = delay)) +  \n",
    "  geom_point(aes(size = count), alpha = 1/3) +  \n",
    "  geom_smooth(se = FALSE)"
   ]
  },
  {
   "cell_type": "markdown",
   "metadata": {},
   "source": [
    "# 3 GitHub"
   ]
  },
  {
   "cell_type": "markdown",
   "metadata": {},
   "source": [
    "* 全球最大的社交编程及代码托管网站\n",
    "\n",
    "\n",
    "* 开源项目库与版本控制平台  \n",
    "\n",
    "\n",
    "* 组内工作记录，传递，学习"
   ]
  },
  {
   "cell_type": "markdown",
   "metadata": {},
   "source": [
    "## 3.1 克隆仓库到本地"
   ]
  },
  {
   "cell_type": "markdown",
   "metadata": {},
   "source": [
    "GitHub是一个基于Git的项目托管平台，但使用Git语句进行版本控制与项目管理相对复杂，建议大家下载GitHub客户端进行图形界面管理\n",
    "\n",
    "\n",
    "GitHub客户端官网下载地址https://desktop.github.com/"
   ]
  },
  {
   "cell_type": "markdown",
   "metadata": {},
   "source": [
    "### 步骤1\n",
    "\n",
    "\n",
    "下载客户端并用GitHub账号登陆后，首先登录Github网站，复制学习班材料所在仓库的URL\n",
    "![title](img/Github1.png)"
   ]
  },
  {
   "cell_type": "markdown",
   "metadata": {},
   "source": [
    "### 步骤2\n",
    "\n",
    "在客户端中导入URL，克隆仓库到本地\n",
    "![title](img/Github2.png)"
   ]
  },
  {
   "cell_type": "markdown",
   "metadata": {},
   "source": [
    "克隆成功，Github仓库中文件均可在本地查看\n",
    "![title](img/Github3.png)"
   ]
  },
  {
   "cell_type": "markdown",
   "metadata": {},
   "source": [
    "## 3.2 上传材料到GitHub仓库"
   ]
  },
  {
   "cell_type": "markdown",
   "metadata": {},
   "source": [
    "### 步骤1\n",
    "\n",
    "将包含.ipynb文件，所用数据，插图的文件夹复制到本地仓库希望上传的位置\n",
    "![title](img/Github4.png)"
   ]
  },
  {
   "cell_type": "markdown",
   "metadata": {},
   "source": [
    "### 步骤二\n",
    "此时在Github客户端中自动显示出对仓库做出更改的信息，稍作核对；填写标题；commit到分支\n",
    "![title](img/Github5.png)"
   ]
  },
  {
   "cell_type": "markdown",
   "metadata": {},
   "source": [
    "* 不在WHUFT organization内的同学们不具有写入权限，因此可以复制仓库，但无法直接commit提交代码。详细可了解fork与pull request命令"
   ]
  },
  {
   "cell_type": "markdown",
   "metadata": {},
   "source": [
    "### 步骤3\n",
    "点击 Commit to master 只是让GitHub客户端记录这次进行的改动，并不会直接提交到GitHub上面去，相当于一次游戏存档，在将来的某一天如果想重玩这个存档，可以点击 Commit to master 下面的 Undo 按钮，让项目还原到这次记录的状态。如果想将本地的改动提交到GitHub网站上，点击 Push origin 上传到GitHub即可。\n",
    "![title](img/Github6.png)"
   ]
  }
 ],
 "metadata": {
  "kernelspec": {
   "display_name": "Python 3",
   "language": "python",
   "name": "python3"
  },
  "language_info": {
   "codemirror_mode": {
    "name": "ipython",
    "version": 3
   },
   "file_extension": ".py",
   "mimetype": "text/x-python",
   "name": "python",
   "nbconvert_exporter": "python",
   "pygments_lexer": "ipython3",
   "version": "3.7.0"
  }
 },
 "nbformat": 4,
 "nbformat_minor": 2
}
